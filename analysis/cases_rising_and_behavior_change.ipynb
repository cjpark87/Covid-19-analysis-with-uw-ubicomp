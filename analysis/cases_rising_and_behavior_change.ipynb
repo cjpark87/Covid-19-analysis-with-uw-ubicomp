{
  "nbformat": 4,
  "nbformat_minor": 0,
  "metadata": {
    "colab": {
      "name": "cases_rising_and_behavior_change.ipynb",
      "provenance": [],
      "collapsed_sections": [],
      "mount_file_id": "1WwNiCUDGXjD5zRobhidyCJqP2gEOVyZQ",
      "authorship_tag": "ABX9TyOb2P4Bi0WwsgN1E3FFvQo8",
      "include_colab_link": true
    },
    "kernelspec": {
      "name": "python3",
      "display_name": "Python 3"
    }
  },
  "cells": [
    {
      "cell_type": "markdown",
      "metadata": {
        "id": "view-in-github",
        "colab_type": "text"
      },
      "source": [
        "<a href=\"https://colab.research.google.com/github/wenjunsun/Covid-19-analysis-with-uw-ubicomp/blob/master/analysis/cases_rising_and_behavior_change.ipynb\" target=\"_parent\"><img src=\"https://colab.research.google.com/assets/colab-badge.svg\" alt=\"Open In Colab\"/></a>"
      ]
    },
    {
      "cell_type": "markdown",
      "metadata": {
        "id": "nffnQ-G1FnmC",
        "colab_type": "text"
      },
      "source": [
        "In this notebook we want to investigate whether people's stay at home behavior increase starts once the shelter in place order was issued, or do people stay at home even before states/counties force them to? \\\\\n",
        "We do so by looking at the stay at home % time series against the number of cases time series. The conjecture here is that maybe people's stay at home behavior changes when number of cases in their county rises, not after government issued stay at home order."
      ]
    },
    {
      "cell_type": "markdown",
      "metadata": {
        "id": "ix6wio56Iygt",
        "colab_type": "text"
      },
      "source": [
        "# 1. Investigation of data from King County, Seattle"
      ]
    },
    {
      "cell_type": "code",
      "metadata": {
        "id": "-ZxdpCPqowf6",
        "colab_type": "code",
        "colab": {
          "base_uri": "https://localhost:8080/",
          "height": 34
        },
        "outputId": "21e2ea34-54d9-4541-a00f-188b4bcbc4af"
      },
      "source": [
        "cd drive/My\\ Drive/week4"
      ],
      "execution_count": 1,
      "outputs": [
        {
          "output_type": "stream",
          "text": [
            "/content/drive/My Drive/week4\n"
          ],
          "name": "stdout"
        }
      ]
    },
    {
      "cell_type": "code",
      "metadata": {
        "id": "ounTUbuto_55",
        "colab_type": "code",
        "colab": {
          "base_uri": "https://localhost:8080/",
          "height": 34
        },
        "outputId": "13ca30e9-e7ef-4898-d363-e7d89273cdb5"
      },
      "source": [
        "ls"
      ],
      "execution_count": null,
      "outputs": [
        {
          "output_type": "stream",
          "text": [
            "agg_social_dist  number_of_cases_and_behavior.ipynb  us-counties.csv\n"
          ],
          "name": "stdout"
        }
      ]
    },
    {
      "cell_type": "code",
      "metadata": {
        "id": "1IAngKBapALI",
        "colab_type": "code",
        "colab": {}
      },
      "source": [
        "import pandas as pd\n",
        "import numpy as np\n",
        "import matplotlib.pyplot as plt"
      ],
      "execution_count": 2,
      "outputs": []
    },
    {
      "cell_type": "code",
      "metadata": {
        "id": "sHYQ_7lLpDJJ",
        "colab_type": "code",
        "colab": {}
      },
      "source": [
        "# load # covid cases data\n",
        "df_cases = pd.read_csv(\"us-counties.csv\")"
      ],
      "execution_count": 3,
      "outputs": []
    },
    {
      "cell_type": "code",
      "metadata": {
        "id": "_6S3TkRmpHCW",
        "colab_type": "code",
        "colab": {
          "base_uri": "https://localhost:8080/",
          "height": 204
        },
        "outputId": "126531c1-0c85-434a-a0ed-b4f30fa4be7a"
      },
      "source": [
        "\n",
        "df_cases.head()"
      ],
      "execution_count": null,
      "outputs": [
        {
          "output_type": "execute_result",
          "data": {
            "text/html": [
              "<div>\n",
              "<style scoped>\n",
              "    .dataframe tbody tr th:only-of-type {\n",
              "        vertical-align: middle;\n",
              "    }\n",
              "\n",
              "    .dataframe tbody tr th {\n",
              "        vertical-align: top;\n",
              "    }\n",
              "\n",
              "    .dataframe thead th {\n",
              "        text-align: right;\n",
              "    }\n",
              "</style>\n",
              "<table border=\"1\" class=\"dataframe\">\n",
              "  <thead>\n",
              "    <tr style=\"text-align: right;\">\n",
              "      <th></th>\n",
              "      <th>date</th>\n",
              "      <th>county</th>\n",
              "      <th>state</th>\n",
              "      <th>fips</th>\n",
              "      <th>cases</th>\n",
              "      <th>deaths</th>\n",
              "    </tr>\n",
              "  </thead>\n",
              "  <tbody>\n",
              "    <tr>\n",
              "      <th>0</th>\n",
              "      <td>2020-01-21</td>\n",
              "      <td>Snohomish</td>\n",
              "      <td>Washington</td>\n",
              "      <td>53061.0</td>\n",
              "      <td>1</td>\n",
              "      <td>0</td>\n",
              "    </tr>\n",
              "    <tr>\n",
              "      <th>1</th>\n",
              "      <td>2020-01-22</td>\n",
              "      <td>Snohomish</td>\n",
              "      <td>Washington</td>\n",
              "      <td>53061.0</td>\n",
              "      <td>1</td>\n",
              "      <td>0</td>\n",
              "    </tr>\n",
              "    <tr>\n",
              "      <th>2</th>\n",
              "      <td>2020-01-23</td>\n",
              "      <td>Snohomish</td>\n",
              "      <td>Washington</td>\n",
              "      <td>53061.0</td>\n",
              "      <td>1</td>\n",
              "      <td>0</td>\n",
              "    </tr>\n",
              "    <tr>\n",
              "      <th>3</th>\n",
              "      <td>2020-01-24</td>\n",
              "      <td>Cook</td>\n",
              "      <td>Illinois</td>\n",
              "      <td>17031.0</td>\n",
              "      <td>1</td>\n",
              "      <td>0</td>\n",
              "    </tr>\n",
              "    <tr>\n",
              "      <th>4</th>\n",
              "      <td>2020-01-24</td>\n",
              "      <td>Snohomish</td>\n",
              "      <td>Washington</td>\n",
              "      <td>53061.0</td>\n",
              "      <td>1</td>\n",
              "      <td>0</td>\n",
              "    </tr>\n",
              "  </tbody>\n",
              "</table>\n",
              "</div>"
            ],
            "text/plain": [
              "         date     county       state     fips  cases  deaths\n",
              "0  2020-01-21  Snohomish  Washington  53061.0      1       0\n",
              "1  2020-01-22  Snohomish  Washington  53061.0      1       0\n",
              "2  2020-01-23  Snohomish  Washington  53061.0      1       0\n",
              "3  2020-01-24       Cook    Illinois  17031.0      1       0\n",
              "4  2020-01-24  Snohomish  Washington  53061.0      1       0"
            ]
          },
          "metadata": {
            "tags": []
          },
          "execution_count": 7
        }
      ]
    },
    {
      "cell_type": "markdown",
      "metadata": {
        "id": "qlDJ929RsuN7",
        "colab_type": "text"
      },
      "source": [
        "cases column in the above table = cumulative cases, not daily new cases."
      ]
    },
    {
      "cell_type": "code",
      "metadata": {
        "id": "Hc_G6WKpsysB",
        "colab_type": "code",
        "colab": {}
      },
      "source": [
        "# load data about time series of % stay at home devices in each county\n",
        "data = pd.read_csv(\"agg_social_dist\")"
      ],
      "execution_count": 4,
      "outputs": []
    },
    {
      "cell_type": "code",
      "metadata": {
        "id": "nq4_fJLDpHzM",
        "colab_type": "code",
        "colab": {}
      },
      "source": [
        "data['home_device_percentage'] = data['completely_home_device_count'] / data['device_count']\n",
        "data['part_time_work_device_percentage'] = data['part_time_work_behavior_devices'] / data['device_count']\n",
        "data['full_time_work_device_percentage'] = data['full_time_work_behavior_devices'] / data['device_count']\n",
        "data['delivery_device_percentage'] = data['delivery_behavior_devices'] / data['device_count']"
      ],
      "execution_count": 5,
      "outputs": []
    },
    {
      "cell_type": "markdown",
      "metadata": {
        "id": "bURbzrGPGcFa",
        "colab_type": "text"
      },
      "source": [
        "there are 3000+ counties, decide to investigate just some counties. \n",
        "*   King County from Washington\n",
        "*   LA County from California\n",
        "*   New York City\n",
        "\n"
      ]
    },
    {
      "cell_type": "code",
      "metadata": {
        "id": "083TeSGLsK_C",
        "colab_type": "code",
        "colab": {}
      },
      "source": [
        "king_county_data = data[data['cnamelong'] == 'King County']"
      ],
      "execution_count": null,
      "outputs": []
    },
    {
      "cell_type": "code",
      "metadata": {
        "id": "JCO4KP-6s1xl",
        "colab_type": "code",
        "colab": {
          "base_uri": "https://localhost:8080/",
          "height": 411
        },
        "outputId": "12ecf4a8-c70f-463a-a425-5f4f1ca0c6b8"
      },
      "source": [
        "king_county_data.head()"
      ],
      "execution_count": null,
      "outputs": [
        {
          "output_type": "execute_result",
          "data": {
            "text/html": [
              "<div>\n",
              "<style scoped>\n",
              "    .dataframe tbody tr th:only-of-type {\n",
              "        vertical-align: middle;\n",
              "    }\n",
              "\n",
              "    .dataframe tbody tr th {\n",
              "        vertical-align: top;\n",
              "    }\n",
              "\n",
              "    .dataframe thead th {\n",
              "        text-align: right;\n",
              "    }\n",
              "</style>\n",
              "<table border=\"1\" class=\"dataframe\">\n",
              "  <thead>\n",
              "    <tr style=\"text-align: right;\">\n",
              "      <th></th>\n",
              "      <th>Unnamed: 0</th>\n",
              "      <th>date_range_start</th>\n",
              "      <th>date_range_end</th>\n",
              "      <th>state</th>\n",
              "      <th>state_code</th>\n",
              "      <th>cnamelong</th>\n",
              "      <th>county_code</th>\n",
              "      <th>days_since_first_case</th>\n",
              "      <th>days_since_shelter</th>\n",
              "      <th>candidate_device_count</th>\n",
              "      <th>device_count</th>\n",
              "      <th>completely_home_device_count</th>\n",
              "      <th>part_time_work_behavior_devices</th>\n",
              "      <th>full_time_work_behavior_devices</th>\n",
              "      <th>delivery_behavior_devices</th>\n",
              "      <th>median_home_dwell_time</th>\n",
              "      <th>median_non_home_dwell_time</th>\n",
              "      <th>median_percentage_time_home</th>\n",
              "      <th>distance_traveled_from_home</th>\n",
              "      <th>home_device_percentage</th>\n",
              "      <th>part_time_work_device_percentage</th>\n",
              "      <th>full_time_work_device_percentage</th>\n",
              "      <th>delivery_device_percentage</th>\n",
              "    </tr>\n",
              "  </thead>\n",
              "  <tbody>\n",
              "    <tr>\n",
              "      <th>2574</th>\n",
              "      <td>2574</td>\n",
              "      <td>2020-01-01T00:00:00-08:00</td>\n",
              "      <td>2020-01-02T00:00:00-08:00</td>\n",
              "      <td>53.0</td>\n",
              "      <td>WA</td>\n",
              "      <td>King County</td>\n",
              "      <td>53033</td>\n",
              "      <td>-21.0</td>\n",
              "      <td>-82.0</td>\n",
              "      <td>0.0</td>\n",
              "      <td>102886</td>\n",
              "      <td>35676</td>\n",
              "      <td>3505</td>\n",
              "      <td>11833</td>\n",
              "      <td>0.0</td>\n",
              "      <td>712.016368</td>\n",
              "      <td>NaN</td>\n",
              "      <td>NaN</td>\n",
              "      <td>10456.752221</td>\n",
              "      <td>0.346753</td>\n",
              "      <td>0.034067</td>\n",
              "      <td>0.115011</td>\n",
              "      <td>0.0</td>\n",
              "    </tr>\n",
              "    <tr>\n",
              "      <th>5191</th>\n",
              "      <td>5191</td>\n",
              "      <td>2020-01-02T00:00:00-08:00</td>\n",
              "      <td>2020-01-03T00:00:00-08:00</td>\n",
              "      <td>53.0</td>\n",
              "      <td>WA</td>\n",
              "      <td>King County</td>\n",
              "      <td>53033</td>\n",
              "      <td>-20.0</td>\n",
              "      <td>-81.0</td>\n",
              "      <td>0.0</td>\n",
              "      <td>96096</td>\n",
              "      <td>26810</td>\n",
              "      <td>7880</td>\n",
              "      <td>15694</td>\n",
              "      <td>0.0</td>\n",
              "      <td>693.532894</td>\n",
              "      <td>NaN</td>\n",
              "      <td>NaN</td>\n",
              "      <td>10464.116696</td>\n",
              "      <td>0.278992</td>\n",
              "      <td>0.082001</td>\n",
              "      <td>0.163316</td>\n",
              "      <td>0.0</td>\n",
              "    </tr>\n",
              "    <tr>\n",
              "      <th>7808</th>\n",
              "      <td>7808</td>\n",
              "      <td>2020-01-03T00:00:00-08:00</td>\n",
              "      <td>2020-01-04T00:00:00-08:00</td>\n",
              "      <td>53.0</td>\n",
              "      <td>WA</td>\n",
              "      <td>King County</td>\n",
              "      <td>53033</td>\n",
              "      <td>-19.0</td>\n",
              "      <td>-80.0</td>\n",
              "      <td>0.0</td>\n",
              "      <td>97956</td>\n",
              "      <td>25503</td>\n",
              "      <td>8397</td>\n",
              "      <td>15555</td>\n",
              "      <td>0.0</td>\n",
              "      <td>723.099657</td>\n",
              "      <td>NaN</td>\n",
              "      <td>NaN</td>\n",
              "      <td>9787.402262</td>\n",
              "      <td>0.260352</td>\n",
              "      <td>0.085722</td>\n",
              "      <td>0.158796</td>\n",
              "      <td>0.0</td>\n",
              "    </tr>\n",
              "    <tr>\n",
              "      <th>10426</th>\n",
              "      <td>10426</td>\n",
              "      <td>2020-01-04T00:00:00-08:00</td>\n",
              "      <td>2020-01-05T00:00:00-08:00</td>\n",
              "      <td>53.0</td>\n",
              "      <td>WA</td>\n",
              "      <td>King County</td>\n",
              "      <td>53033</td>\n",
              "      <td>-18.0</td>\n",
              "      <td>-79.0</td>\n",
              "      <td>0.0</td>\n",
              "      <td>96053</td>\n",
              "      <td>27864</td>\n",
              "      <td>4825</td>\n",
              "      <td>12293</td>\n",
              "      <td>0.0</td>\n",
              "      <td>782.123109</td>\n",
              "      <td>NaN</td>\n",
              "      <td>NaN</td>\n",
              "      <td>8678.837350</td>\n",
              "      <td>0.290090</td>\n",
              "      <td>0.050233</td>\n",
              "      <td>0.127981</td>\n",
              "      <td>0.0</td>\n",
              "    </tr>\n",
              "    <tr>\n",
              "      <th>13044</th>\n",
              "      <td>13044</td>\n",
              "      <td>2020-01-05T00:00:00-08:00</td>\n",
              "      <td>2020-01-06T00:00:00-08:00</td>\n",
              "      <td>53.0</td>\n",
              "      <td>WA</td>\n",
              "      <td>King County</td>\n",
              "      <td>53033</td>\n",
              "      <td>-17.0</td>\n",
              "      <td>-78.0</td>\n",
              "      <td>0.0</td>\n",
              "      <td>97834</td>\n",
              "      <td>34246</td>\n",
              "      <td>4696</td>\n",
              "      <td>10023</td>\n",
              "      <td>0.0</td>\n",
              "      <td>718.573482</td>\n",
              "      <td>NaN</td>\n",
              "      <td>NaN</td>\n",
              "      <td>6926.459513</td>\n",
              "      <td>0.350042</td>\n",
              "      <td>0.048000</td>\n",
              "      <td>0.102449</td>\n",
              "      <td>0.0</td>\n",
              "    </tr>\n",
              "  </tbody>\n",
              "</table>\n",
              "</div>"
            ],
            "text/plain": [
              "       Unnamed: 0  ... delivery_device_percentage\n",
              "2574         2574  ...                        0.0\n",
              "5191         5191  ...                        0.0\n",
              "7808         7808  ...                        0.0\n",
              "10426       10426  ...                        0.0\n",
              "13044       13044  ...                        0.0\n",
              "\n",
              "[5 rows x 23 columns]"
            ]
          },
          "metadata": {
            "tags": []
          },
          "execution_count": 31
        }
      ]
    },
    {
      "cell_type": "code",
      "metadata": {
        "id": "RVsmVPQ8s3Vs",
        "colab_type": "code",
        "colab": {}
      },
      "source": [
        "days_from_first_case_to_shelter = king_county_data.iloc[0]['days_since_first_case'] - king_county_data.iloc[0]['days_since_shelter']"
      ],
      "execution_count": null,
      "outputs": []
    },
    {
      "cell_type": "code",
      "metadata": {
        "id": "90QdPZ5bs8Gk",
        "colab_type": "code",
        "colab": {}
      },
      "source": [
        "king_cases = df_cases[df_cases['county'] == 'King']"
      ],
      "execution_count": null,
      "outputs": []
    },
    {
      "cell_type": "code",
      "metadata": {
        "id": "W4VqSALEuGjh",
        "colab_type": "code",
        "colab": {
          "base_uri": "https://localhost:8080/",
          "height": 204
        },
        "outputId": "9685eeb5-6dd2-4b77-c721-d7e086d9c605"
      },
      "source": [
        "king_cases.head()"
      ],
      "execution_count": null,
      "outputs": [
        {
          "output_type": "execute_result",
          "data": {
            "text/html": [
              "<div>\n",
              "<style scoped>\n",
              "    .dataframe tbody tr th:only-of-type {\n",
              "        vertical-align: middle;\n",
              "    }\n",
              "\n",
              "    .dataframe tbody tr th {\n",
              "        vertical-align: top;\n",
              "    }\n",
              "\n",
              "    .dataframe thead th {\n",
              "        text-align: right;\n",
              "    }\n",
              "</style>\n",
              "<table border=\"1\" class=\"dataframe\">\n",
              "  <thead>\n",
              "    <tr style=\"text-align: right;\">\n",
              "      <th></th>\n",
              "      <th>date</th>\n",
              "      <th>county</th>\n",
              "      <th>state</th>\n",
              "      <th>fips</th>\n",
              "      <th>cases</th>\n",
              "      <th>deaths</th>\n",
              "    </tr>\n",
              "  </thead>\n",
              "  <tbody>\n",
              "    <tr>\n",
              "      <th>372</th>\n",
              "      <td>2020-02-28</td>\n",
              "      <td>King</td>\n",
              "      <td>Washington</td>\n",
              "      <td>53033.0</td>\n",
              "      <td>1</td>\n",
              "      <td>0</td>\n",
              "    </tr>\n",
              "    <tr>\n",
              "      <th>394</th>\n",
              "      <td>2020-02-29</td>\n",
              "      <td>King</td>\n",
              "      <td>Washington</td>\n",
              "      <td>53033.0</td>\n",
              "      <td>4</td>\n",
              "      <td>1</td>\n",
              "    </tr>\n",
              "    <tr>\n",
              "      <th>421</th>\n",
              "      <td>2020-03-01</td>\n",
              "      <td>King</td>\n",
              "      <td>Washington</td>\n",
              "      <td>53033.0</td>\n",
              "      <td>11</td>\n",
              "      <td>3</td>\n",
              "    </tr>\n",
              "    <tr>\n",
              "      <th>453</th>\n",
              "      <td>2020-03-02</td>\n",
              "      <td>King</td>\n",
              "      <td>Washington</td>\n",
              "      <td>53033.0</td>\n",
              "      <td>15</td>\n",
              "      <td>6</td>\n",
              "    </tr>\n",
              "    <tr>\n",
              "      <th>488</th>\n",
              "      <td>2020-03-03</td>\n",
              "      <td>King</td>\n",
              "      <td>Washington</td>\n",
              "      <td>53033.0</td>\n",
              "      <td>22</td>\n",
              "      <td>10</td>\n",
              "    </tr>\n",
              "  </tbody>\n",
              "</table>\n",
              "</div>"
            ],
            "text/plain": [
              "           date county       state     fips  cases  deaths\n",
              "372  2020-02-28   King  Washington  53033.0      1       0\n",
              "394  2020-02-29   King  Washington  53033.0      4       1\n",
              "421  2020-03-01   King  Washington  53033.0     11       3\n",
              "453  2020-03-02   King  Washington  53033.0     15       6\n",
              "488  2020-03-03   King  Washington  53033.0     22      10"
            ]
          },
          "metadata": {
            "tags": []
          },
          "execution_count": 39
        }
      ]
    },
    {
      "cell_type": "code",
      "metadata": {
        "id": "ye5Hdrkxuerh",
        "colab_type": "code",
        "colab": {
          "base_uri": "https://localhost:8080/",
          "height": 51
        },
        "outputId": "74c26e0a-9d06-45b9-fd27-fd234d719a9d"
      },
      "source": [
        "print(king_cases.iloc[0,0])\n",
        "print(type(king_cases.iloc[0,0]))"
      ],
      "execution_count": null,
      "outputs": [
        {
          "output_type": "stream",
          "text": [
            "2020-02-28\n",
            "<class 'str'>\n"
          ],
          "name": "stdout"
        }
      ]
    },
    {
      "cell_type": "code",
      "metadata": {
        "id": "eJUkZXcTtuPX",
        "colab_type": "code",
        "colab": {
          "base_uri": "https://localhost:8080/",
          "height": 119
        },
        "outputId": "85347b31-8e4f-4a2b-bc16-169d203d7cdb"
      },
      "source": [
        "# convert date column king_cases dataframe from a string\n",
        "# to a python date object.\n",
        "from datetime import datetime\n",
        "king_cases['date'] = king_cases['date'].apply(lambda x: datetime.strptime(x[0:10], '%Y-%m-%d'))"
      ],
      "execution_count": null,
      "outputs": [
        {
          "output_type": "stream",
          "text": [
            "/usr/local/lib/python3.6/dist-packages/ipykernel_launcher.py:4: SettingWithCopyWarning: \n",
            "A value is trying to be set on a copy of a slice from a DataFrame.\n",
            "Try using .loc[row_indexer,col_indexer] = value instead\n",
            "\n",
            "See the caveats in the documentation: https://pandas.pydata.org/pandas-docs/stable/user_guide/indexing.html#returning-a-view-versus-a-copy\n",
            "  after removing the cwd from sys.path.\n"
          ],
          "name": "stderr"
        }
      ]
    },
    {
      "cell_type": "code",
      "metadata": {
        "id": "7A1OP5xXuxIy",
        "colab_type": "code",
        "colab": {
          "base_uri": "https://localhost:8080/",
          "height": 204
        },
        "outputId": "ba8021e0-fff7-4113-b507-277a77b6af1f"
      },
      "source": [
        "king_cases.head()"
      ],
      "execution_count": null,
      "outputs": [
        {
          "output_type": "execute_result",
          "data": {
            "text/html": [
              "<div>\n",
              "<style scoped>\n",
              "    .dataframe tbody tr th:only-of-type {\n",
              "        vertical-align: middle;\n",
              "    }\n",
              "\n",
              "    .dataframe tbody tr th {\n",
              "        vertical-align: top;\n",
              "    }\n",
              "\n",
              "    .dataframe thead th {\n",
              "        text-align: right;\n",
              "    }\n",
              "</style>\n",
              "<table border=\"1\" class=\"dataframe\">\n",
              "  <thead>\n",
              "    <tr style=\"text-align: right;\">\n",
              "      <th></th>\n",
              "      <th>date</th>\n",
              "      <th>county</th>\n",
              "      <th>state</th>\n",
              "      <th>fips</th>\n",
              "      <th>cases</th>\n",
              "      <th>deaths</th>\n",
              "    </tr>\n",
              "  </thead>\n",
              "  <tbody>\n",
              "    <tr>\n",
              "      <th>372</th>\n",
              "      <td>2020-02-28</td>\n",
              "      <td>King</td>\n",
              "      <td>Washington</td>\n",
              "      <td>53033.0</td>\n",
              "      <td>1</td>\n",
              "      <td>0</td>\n",
              "    </tr>\n",
              "    <tr>\n",
              "      <th>394</th>\n",
              "      <td>2020-02-29</td>\n",
              "      <td>King</td>\n",
              "      <td>Washington</td>\n",
              "      <td>53033.0</td>\n",
              "      <td>4</td>\n",
              "      <td>1</td>\n",
              "    </tr>\n",
              "    <tr>\n",
              "      <th>421</th>\n",
              "      <td>2020-03-01</td>\n",
              "      <td>King</td>\n",
              "      <td>Washington</td>\n",
              "      <td>53033.0</td>\n",
              "      <td>11</td>\n",
              "      <td>3</td>\n",
              "    </tr>\n",
              "    <tr>\n",
              "      <th>453</th>\n",
              "      <td>2020-03-02</td>\n",
              "      <td>King</td>\n",
              "      <td>Washington</td>\n",
              "      <td>53033.0</td>\n",
              "      <td>15</td>\n",
              "      <td>6</td>\n",
              "    </tr>\n",
              "    <tr>\n",
              "      <th>488</th>\n",
              "      <td>2020-03-03</td>\n",
              "      <td>King</td>\n",
              "      <td>Washington</td>\n",
              "      <td>53033.0</td>\n",
              "      <td>22</td>\n",
              "      <td>10</td>\n",
              "    </tr>\n",
              "  </tbody>\n",
              "</table>\n",
              "</div>"
            ],
            "text/plain": [
              "          date county       state     fips  cases  deaths\n",
              "372 2020-02-28   King  Washington  53033.0      1       0\n",
              "394 2020-02-29   King  Washington  53033.0      4       1\n",
              "421 2020-03-01   King  Washington  53033.0     11       3\n",
              "453 2020-03-02   King  Washington  53033.0     15       6\n",
              "488 2020-03-03   King  Washington  53033.0     22      10"
            ]
          },
          "metadata": {
            "tags": []
          },
          "execution_count": 46
        }
      ]
    },
    {
      "cell_type": "markdown",
      "metadata": {
        "id": "A-Ugn6j9u5Bn",
        "colab_type": "text"
      },
      "source": [
        "date looks the same but they are date objects now"
      ]
    },
    {
      "cell_type": "code",
      "metadata": {
        "id": "EWxvbf-yuUR9",
        "colab_type": "code",
        "colab": {
          "base_uri": "https://localhost:8080/",
          "height": 51
        },
        "outputId": "1d48c7f2-b828-4890-c3d7-04204d73fa18"
      },
      "source": [
        "print(king_cases.iloc[0,0])\n",
        "print(type(king_cases.iloc[0,0]))"
      ],
      "execution_count": null,
      "outputs": [
        {
          "output_type": "stream",
          "text": [
            "2020-02-28 00:00:00\n",
            "<class 'pandas._libs.tslibs.timestamps.Timestamp'>\n"
          ],
          "name": "stdout"
        }
      ]
    },
    {
      "cell_type": "markdown",
      "metadata": {
        "id": "OewwsujFvAT8",
        "colab_type": "text"
      },
      "source": [
        "let's do the same for social distancing data."
      ]
    },
    {
      "cell_type": "code",
      "metadata": {
        "id": "1MK_px5wu18K",
        "colab_type": "code",
        "colab": {
          "base_uri": "https://localhost:8080/",
          "height": 411
        },
        "outputId": "cbeaa925-d209-4ccc-da6d-fcbc91664ebd"
      },
      "source": [
        "king_county_data.head()"
      ],
      "execution_count": null,
      "outputs": [
        {
          "output_type": "execute_result",
          "data": {
            "text/html": [
              "<div>\n",
              "<style scoped>\n",
              "    .dataframe tbody tr th:only-of-type {\n",
              "        vertical-align: middle;\n",
              "    }\n",
              "\n",
              "    .dataframe tbody tr th {\n",
              "        vertical-align: top;\n",
              "    }\n",
              "\n",
              "    .dataframe thead th {\n",
              "        text-align: right;\n",
              "    }\n",
              "</style>\n",
              "<table border=\"1\" class=\"dataframe\">\n",
              "  <thead>\n",
              "    <tr style=\"text-align: right;\">\n",
              "      <th></th>\n",
              "      <th>Unnamed: 0</th>\n",
              "      <th>date_range_start</th>\n",
              "      <th>date_range_end</th>\n",
              "      <th>state</th>\n",
              "      <th>state_code</th>\n",
              "      <th>cnamelong</th>\n",
              "      <th>county_code</th>\n",
              "      <th>days_since_first_case</th>\n",
              "      <th>days_since_shelter</th>\n",
              "      <th>candidate_device_count</th>\n",
              "      <th>device_count</th>\n",
              "      <th>completely_home_device_count</th>\n",
              "      <th>part_time_work_behavior_devices</th>\n",
              "      <th>full_time_work_behavior_devices</th>\n",
              "      <th>delivery_behavior_devices</th>\n",
              "      <th>median_home_dwell_time</th>\n",
              "      <th>median_non_home_dwell_time</th>\n",
              "      <th>median_percentage_time_home</th>\n",
              "      <th>distance_traveled_from_home</th>\n",
              "      <th>home_device_percentage</th>\n",
              "      <th>part_time_work_device_percentage</th>\n",
              "      <th>full_time_work_device_percentage</th>\n",
              "      <th>delivery_device_percentage</th>\n",
              "    </tr>\n",
              "  </thead>\n",
              "  <tbody>\n",
              "    <tr>\n",
              "      <th>2574</th>\n",
              "      <td>2574</td>\n",
              "      <td>2020-01-01T00:00:00-08:00</td>\n",
              "      <td>2020-01-02T00:00:00-08:00</td>\n",
              "      <td>53.0</td>\n",
              "      <td>WA</td>\n",
              "      <td>King County</td>\n",
              "      <td>53033</td>\n",
              "      <td>-21.0</td>\n",
              "      <td>-82.0</td>\n",
              "      <td>0.0</td>\n",
              "      <td>102886</td>\n",
              "      <td>35676</td>\n",
              "      <td>3505</td>\n",
              "      <td>11833</td>\n",
              "      <td>0.0</td>\n",
              "      <td>712.016368</td>\n",
              "      <td>NaN</td>\n",
              "      <td>NaN</td>\n",
              "      <td>10456.752221</td>\n",
              "      <td>0.346753</td>\n",
              "      <td>0.034067</td>\n",
              "      <td>0.115011</td>\n",
              "      <td>0.0</td>\n",
              "    </tr>\n",
              "    <tr>\n",
              "      <th>5191</th>\n",
              "      <td>5191</td>\n",
              "      <td>2020-01-02T00:00:00-08:00</td>\n",
              "      <td>2020-01-03T00:00:00-08:00</td>\n",
              "      <td>53.0</td>\n",
              "      <td>WA</td>\n",
              "      <td>King County</td>\n",
              "      <td>53033</td>\n",
              "      <td>-20.0</td>\n",
              "      <td>-81.0</td>\n",
              "      <td>0.0</td>\n",
              "      <td>96096</td>\n",
              "      <td>26810</td>\n",
              "      <td>7880</td>\n",
              "      <td>15694</td>\n",
              "      <td>0.0</td>\n",
              "      <td>693.532894</td>\n",
              "      <td>NaN</td>\n",
              "      <td>NaN</td>\n",
              "      <td>10464.116696</td>\n",
              "      <td>0.278992</td>\n",
              "      <td>0.082001</td>\n",
              "      <td>0.163316</td>\n",
              "      <td>0.0</td>\n",
              "    </tr>\n",
              "    <tr>\n",
              "      <th>7808</th>\n",
              "      <td>7808</td>\n",
              "      <td>2020-01-03T00:00:00-08:00</td>\n",
              "      <td>2020-01-04T00:00:00-08:00</td>\n",
              "      <td>53.0</td>\n",
              "      <td>WA</td>\n",
              "      <td>King County</td>\n",
              "      <td>53033</td>\n",
              "      <td>-19.0</td>\n",
              "      <td>-80.0</td>\n",
              "      <td>0.0</td>\n",
              "      <td>97956</td>\n",
              "      <td>25503</td>\n",
              "      <td>8397</td>\n",
              "      <td>15555</td>\n",
              "      <td>0.0</td>\n",
              "      <td>723.099657</td>\n",
              "      <td>NaN</td>\n",
              "      <td>NaN</td>\n",
              "      <td>9787.402262</td>\n",
              "      <td>0.260352</td>\n",
              "      <td>0.085722</td>\n",
              "      <td>0.158796</td>\n",
              "      <td>0.0</td>\n",
              "    </tr>\n",
              "    <tr>\n",
              "      <th>10426</th>\n",
              "      <td>10426</td>\n",
              "      <td>2020-01-04T00:00:00-08:00</td>\n",
              "      <td>2020-01-05T00:00:00-08:00</td>\n",
              "      <td>53.0</td>\n",
              "      <td>WA</td>\n",
              "      <td>King County</td>\n",
              "      <td>53033</td>\n",
              "      <td>-18.0</td>\n",
              "      <td>-79.0</td>\n",
              "      <td>0.0</td>\n",
              "      <td>96053</td>\n",
              "      <td>27864</td>\n",
              "      <td>4825</td>\n",
              "      <td>12293</td>\n",
              "      <td>0.0</td>\n",
              "      <td>782.123109</td>\n",
              "      <td>NaN</td>\n",
              "      <td>NaN</td>\n",
              "      <td>8678.837350</td>\n",
              "      <td>0.290090</td>\n",
              "      <td>0.050233</td>\n",
              "      <td>0.127981</td>\n",
              "      <td>0.0</td>\n",
              "    </tr>\n",
              "    <tr>\n",
              "      <th>13044</th>\n",
              "      <td>13044</td>\n",
              "      <td>2020-01-05T00:00:00-08:00</td>\n",
              "      <td>2020-01-06T00:00:00-08:00</td>\n",
              "      <td>53.0</td>\n",
              "      <td>WA</td>\n",
              "      <td>King County</td>\n",
              "      <td>53033</td>\n",
              "      <td>-17.0</td>\n",
              "      <td>-78.0</td>\n",
              "      <td>0.0</td>\n",
              "      <td>97834</td>\n",
              "      <td>34246</td>\n",
              "      <td>4696</td>\n",
              "      <td>10023</td>\n",
              "      <td>0.0</td>\n",
              "      <td>718.573482</td>\n",
              "      <td>NaN</td>\n",
              "      <td>NaN</td>\n",
              "      <td>6926.459513</td>\n",
              "      <td>0.350042</td>\n",
              "      <td>0.048000</td>\n",
              "      <td>0.102449</td>\n",
              "      <td>0.0</td>\n",
              "    </tr>\n",
              "  </tbody>\n",
              "</table>\n",
              "</div>"
            ],
            "text/plain": [
              "       Unnamed: 0  ... delivery_device_percentage\n",
              "2574         2574  ...                        0.0\n",
              "5191         5191  ...                        0.0\n",
              "7808         7808  ...                        0.0\n",
              "10426       10426  ...                        0.0\n",
              "13044       13044  ...                        0.0\n",
              "\n",
              "[5 rows x 23 columns]"
            ]
          },
          "metadata": {
            "tags": []
          },
          "execution_count": 47
        }
      ]
    },
    {
      "cell_type": "code",
      "metadata": {
        "id": "qaI3I5-lvJeX",
        "colab_type": "code",
        "colab": {
          "base_uri": "https://localhost:8080/",
          "height": 119
        },
        "outputId": "755152ff-c56c-40fd-ad95-2c3451bc02e2"
      },
      "source": [
        "king_county_data['date'] = king_county_data['date_range_start'].apply(lambda x: datetime.strptime(x[0:10], '%Y-%m-%d'))"
      ],
      "execution_count": null,
      "outputs": [
        {
          "output_type": "stream",
          "text": [
            "/usr/local/lib/python3.6/dist-packages/ipykernel_launcher.py:1: SettingWithCopyWarning: \n",
            "A value is trying to be set on a copy of a slice from a DataFrame.\n",
            "Try using .loc[row_indexer,col_indexer] = value instead\n",
            "\n",
            "See the caveats in the documentation: https://pandas.pydata.org/pandas-docs/stable/user_guide/indexing.html#returning-a-view-versus-a-copy\n",
            "  \"\"\"Entry point for launching an IPython kernel.\n"
          ],
          "name": "stderr"
        }
      ]
    },
    {
      "cell_type": "code",
      "metadata": {
        "id": "LGwi7zZuvQNQ",
        "colab_type": "code",
        "colab": {
          "base_uri": "https://localhost:8080/",
          "height": 411
        },
        "outputId": "045742bd-3970-492e-8eb6-67fc75b43832"
      },
      "source": [
        "king_county_data.head()"
      ],
      "execution_count": null,
      "outputs": [
        {
          "output_type": "execute_result",
          "data": {
            "text/html": [
              "<div>\n",
              "<style scoped>\n",
              "    .dataframe tbody tr th:only-of-type {\n",
              "        vertical-align: middle;\n",
              "    }\n",
              "\n",
              "    .dataframe tbody tr th {\n",
              "        vertical-align: top;\n",
              "    }\n",
              "\n",
              "    .dataframe thead th {\n",
              "        text-align: right;\n",
              "    }\n",
              "</style>\n",
              "<table border=\"1\" class=\"dataframe\">\n",
              "  <thead>\n",
              "    <tr style=\"text-align: right;\">\n",
              "      <th></th>\n",
              "      <th>Unnamed: 0</th>\n",
              "      <th>date_range_start</th>\n",
              "      <th>date_range_end</th>\n",
              "      <th>state</th>\n",
              "      <th>state_code</th>\n",
              "      <th>cnamelong</th>\n",
              "      <th>county_code</th>\n",
              "      <th>days_since_first_case</th>\n",
              "      <th>days_since_shelter</th>\n",
              "      <th>candidate_device_count</th>\n",
              "      <th>device_count</th>\n",
              "      <th>completely_home_device_count</th>\n",
              "      <th>part_time_work_behavior_devices</th>\n",
              "      <th>full_time_work_behavior_devices</th>\n",
              "      <th>delivery_behavior_devices</th>\n",
              "      <th>median_home_dwell_time</th>\n",
              "      <th>median_non_home_dwell_time</th>\n",
              "      <th>median_percentage_time_home</th>\n",
              "      <th>distance_traveled_from_home</th>\n",
              "      <th>home_device_percentage</th>\n",
              "      <th>part_time_work_device_percentage</th>\n",
              "      <th>full_time_work_device_percentage</th>\n",
              "      <th>delivery_device_percentage</th>\n",
              "      <th>date</th>\n",
              "    </tr>\n",
              "  </thead>\n",
              "  <tbody>\n",
              "    <tr>\n",
              "      <th>2574</th>\n",
              "      <td>2574</td>\n",
              "      <td>2020-01-01T00:00:00-08:00</td>\n",
              "      <td>2020-01-02T00:00:00-08:00</td>\n",
              "      <td>53.0</td>\n",
              "      <td>WA</td>\n",
              "      <td>King County</td>\n",
              "      <td>53033</td>\n",
              "      <td>-21.0</td>\n",
              "      <td>-82.0</td>\n",
              "      <td>0.0</td>\n",
              "      <td>102886</td>\n",
              "      <td>35676</td>\n",
              "      <td>3505</td>\n",
              "      <td>11833</td>\n",
              "      <td>0.0</td>\n",
              "      <td>712.016368</td>\n",
              "      <td>NaN</td>\n",
              "      <td>NaN</td>\n",
              "      <td>10456.752221</td>\n",
              "      <td>0.346753</td>\n",
              "      <td>0.034067</td>\n",
              "      <td>0.115011</td>\n",
              "      <td>0.0</td>\n",
              "      <td>2020-01-01</td>\n",
              "    </tr>\n",
              "    <tr>\n",
              "      <th>5191</th>\n",
              "      <td>5191</td>\n",
              "      <td>2020-01-02T00:00:00-08:00</td>\n",
              "      <td>2020-01-03T00:00:00-08:00</td>\n",
              "      <td>53.0</td>\n",
              "      <td>WA</td>\n",
              "      <td>King County</td>\n",
              "      <td>53033</td>\n",
              "      <td>-20.0</td>\n",
              "      <td>-81.0</td>\n",
              "      <td>0.0</td>\n",
              "      <td>96096</td>\n",
              "      <td>26810</td>\n",
              "      <td>7880</td>\n",
              "      <td>15694</td>\n",
              "      <td>0.0</td>\n",
              "      <td>693.532894</td>\n",
              "      <td>NaN</td>\n",
              "      <td>NaN</td>\n",
              "      <td>10464.116696</td>\n",
              "      <td>0.278992</td>\n",
              "      <td>0.082001</td>\n",
              "      <td>0.163316</td>\n",
              "      <td>0.0</td>\n",
              "      <td>2020-01-02</td>\n",
              "    </tr>\n",
              "    <tr>\n",
              "      <th>7808</th>\n",
              "      <td>7808</td>\n",
              "      <td>2020-01-03T00:00:00-08:00</td>\n",
              "      <td>2020-01-04T00:00:00-08:00</td>\n",
              "      <td>53.0</td>\n",
              "      <td>WA</td>\n",
              "      <td>King County</td>\n",
              "      <td>53033</td>\n",
              "      <td>-19.0</td>\n",
              "      <td>-80.0</td>\n",
              "      <td>0.0</td>\n",
              "      <td>97956</td>\n",
              "      <td>25503</td>\n",
              "      <td>8397</td>\n",
              "      <td>15555</td>\n",
              "      <td>0.0</td>\n",
              "      <td>723.099657</td>\n",
              "      <td>NaN</td>\n",
              "      <td>NaN</td>\n",
              "      <td>9787.402262</td>\n",
              "      <td>0.260352</td>\n",
              "      <td>0.085722</td>\n",
              "      <td>0.158796</td>\n",
              "      <td>0.0</td>\n",
              "      <td>2020-01-03</td>\n",
              "    </tr>\n",
              "    <tr>\n",
              "      <th>10426</th>\n",
              "      <td>10426</td>\n",
              "      <td>2020-01-04T00:00:00-08:00</td>\n",
              "      <td>2020-01-05T00:00:00-08:00</td>\n",
              "      <td>53.0</td>\n",
              "      <td>WA</td>\n",
              "      <td>King County</td>\n",
              "      <td>53033</td>\n",
              "      <td>-18.0</td>\n",
              "      <td>-79.0</td>\n",
              "      <td>0.0</td>\n",
              "      <td>96053</td>\n",
              "      <td>27864</td>\n",
              "      <td>4825</td>\n",
              "      <td>12293</td>\n",
              "      <td>0.0</td>\n",
              "      <td>782.123109</td>\n",
              "      <td>NaN</td>\n",
              "      <td>NaN</td>\n",
              "      <td>8678.837350</td>\n",
              "      <td>0.290090</td>\n",
              "      <td>0.050233</td>\n",
              "      <td>0.127981</td>\n",
              "      <td>0.0</td>\n",
              "      <td>2020-01-04</td>\n",
              "    </tr>\n",
              "    <tr>\n",
              "      <th>13044</th>\n",
              "      <td>13044</td>\n",
              "      <td>2020-01-05T00:00:00-08:00</td>\n",
              "      <td>2020-01-06T00:00:00-08:00</td>\n",
              "      <td>53.0</td>\n",
              "      <td>WA</td>\n",
              "      <td>King County</td>\n",
              "      <td>53033</td>\n",
              "      <td>-17.0</td>\n",
              "      <td>-78.0</td>\n",
              "      <td>0.0</td>\n",
              "      <td>97834</td>\n",
              "      <td>34246</td>\n",
              "      <td>4696</td>\n",
              "      <td>10023</td>\n",
              "      <td>0.0</td>\n",
              "      <td>718.573482</td>\n",
              "      <td>NaN</td>\n",
              "      <td>NaN</td>\n",
              "      <td>6926.459513</td>\n",
              "      <td>0.350042</td>\n",
              "      <td>0.048000</td>\n",
              "      <td>0.102449</td>\n",
              "      <td>0.0</td>\n",
              "      <td>2020-01-05</td>\n",
              "    </tr>\n",
              "  </tbody>\n",
              "</table>\n",
              "</div>"
            ],
            "text/plain": [
              "       Unnamed: 0  ...       date\n",
              "2574         2574  ... 2020-01-01\n",
              "5191         5191  ... 2020-01-02\n",
              "7808         7808  ... 2020-01-03\n",
              "10426       10426  ... 2020-01-04\n",
              "13044       13044  ... 2020-01-05\n",
              "\n",
              "[5 rows x 24 columns]"
            ]
          },
          "metadata": {
            "tags": []
          },
          "execution_count": 50
        }
      ]
    },
    {
      "cell_type": "code",
      "metadata": {
        "id": "TOKFs7W6w3-4",
        "colab_type": "code",
        "colab": {}
      },
      "source": [
        "# only select the variables we want to study, drop the others.\n",
        "king_county_data = \\\n",
        "king_county_data[['date','county_code','days_since_first_case','days_since_shelter',\\\n",
        "                  'home_device_percentage', 'part_time_work_device_percentage',\\\n",
        "                  'full_time_work_device_percentage']]"
      ],
      "execution_count": null,
      "outputs": []
    },
    {
      "cell_type": "code",
      "metadata": {
        "id": "G2LCrqUkvWEU",
        "colab_type": "code",
        "colab": {
          "base_uri": "https://localhost:8080/",
          "height": 119
        },
        "outputId": "890d7b5d-c647-47d5-f4d7-8662ec15451d"
      },
      "source": [
        "# want to merge on county code, but king_county_data has int\n",
        "# and king_cases has float on county code. Convert\n",
        "# cases's fips to int so we can merge them\n",
        "king_cases['fips'] = king_cases['fips'].astype('int')"
      ],
      "execution_count": null,
      "outputs": [
        {
          "output_type": "stream",
          "text": [
            "/usr/local/lib/python3.6/dist-packages/ipykernel_launcher.py:4: SettingWithCopyWarning: \n",
            "A value is trying to be set on a copy of a slice from a DataFrame.\n",
            "Try using .loc[row_indexer,col_indexer] = value instead\n",
            "\n",
            "See the caveats in the documentation: https://pandas.pydata.org/pandas-docs/stable/user_guide/indexing.html#returning-a-view-versus-a-copy\n",
            "  after removing the cwd from sys.path.\n"
          ],
          "name": "stderr"
        }
      ]
    },
    {
      "cell_type": "code",
      "metadata": {
        "id": "-rnE3b0TwPUk",
        "colab_type": "code",
        "colab": {
          "base_uri": "https://localhost:8080/",
          "height": 204
        },
        "outputId": "dbf120c2-df72-43d8-9480-adb59f4b46b2"
      },
      "source": [
        "king_cases.head()"
      ],
      "execution_count": null,
      "outputs": [
        {
          "output_type": "execute_result",
          "data": {
            "text/html": [
              "<div>\n",
              "<style scoped>\n",
              "    .dataframe tbody tr th:only-of-type {\n",
              "        vertical-align: middle;\n",
              "    }\n",
              "\n",
              "    .dataframe tbody tr th {\n",
              "        vertical-align: top;\n",
              "    }\n",
              "\n",
              "    .dataframe thead th {\n",
              "        text-align: right;\n",
              "    }\n",
              "</style>\n",
              "<table border=\"1\" class=\"dataframe\">\n",
              "  <thead>\n",
              "    <tr style=\"text-align: right;\">\n",
              "      <th></th>\n",
              "      <th>date</th>\n",
              "      <th>county</th>\n",
              "      <th>state</th>\n",
              "      <th>fips</th>\n",
              "      <th>cases</th>\n",
              "      <th>deaths</th>\n",
              "    </tr>\n",
              "  </thead>\n",
              "  <tbody>\n",
              "    <tr>\n",
              "      <th>372</th>\n",
              "      <td>2020-02-28</td>\n",
              "      <td>King</td>\n",
              "      <td>Washington</td>\n",
              "      <td>53033</td>\n",
              "      <td>1</td>\n",
              "      <td>0</td>\n",
              "    </tr>\n",
              "    <tr>\n",
              "      <th>394</th>\n",
              "      <td>2020-02-29</td>\n",
              "      <td>King</td>\n",
              "      <td>Washington</td>\n",
              "      <td>53033</td>\n",
              "      <td>4</td>\n",
              "      <td>1</td>\n",
              "    </tr>\n",
              "    <tr>\n",
              "      <th>421</th>\n",
              "      <td>2020-03-01</td>\n",
              "      <td>King</td>\n",
              "      <td>Washington</td>\n",
              "      <td>53033</td>\n",
              "      <td>11</td>\n",
              "      <td>3</td>\n",
              "    </tr>\n",
              "    <tr>\n",
              "      <th>453</th>\n",
              "      <td>2020-03-02</td>\n",
              "      <td>King</td>\n",
              "      <td>Washington</td>\n",
              "      <td>53033</td>\n",
              "      <td>15</td>\n",
              "      <td>6</td>\n",
              "    </tr>\n",
              "    <tr>\n",
              "      <th>488</th>\n",
              "      <td>2020-03-03</td>\n",
              "      <td>King</td>\n",
              "      <td>Washington</td>\n",
              "      <td>53033</td>\n",
              "      <td>22</td>\n",
              "      <td>10</td>\n",
              "    </tr>\n",
              "  </tbody>\n",
              "</table>\n",
              "</div>"
            ],
            "text/plain": [
              "          date county       state   fips  cases  deaths\n",
              "372 2020-02-28   King  Washington  53033      1       0\n",
              "394 2020-02-29   King  Washington  53033      4       1\n",
              "421 2020-03-01   King  Washington  53033     11       3\n",
              "453 2020-03-02   King  Washington  53033     15       6\n",
              "488 2020-03-03   King  Washington  53033     22      10"
            ]
          },
          "metadata": {
            "tags": []
          },
          "execution_count": 60
        }
      ]
    },
    {
      "cell_type": "code",
      "metadata": {
        "id": "Oz3b2v7jxtkL",
        "colab_type": "code",
        "colab": {
          "base_uri": "https://localhost:8080/",
          "height": 309
        },
        "outputId": "67d00f08-5ee7-4e9c-ee66-e75fc9526195"
      },
      "source": [
        "king_county_data.head()"
      ],
      "execution_count": null,
      "outputs": [
        {
          "output_type": "execute_result",
          "data": {
            "text/html": [
              "<div>\n",
              "<style scoped>\n",
              "    .dataframe tbody tr th:only-of-type {\n",
              "        vertical-align: middle;\n",
              "    }\n",
              "\n",
              "    .dataframe tbody tr th {\n",
              "        vertical-align: top;\n",
              "    }\n",
              "\n",
              "    .dataframe thead th {\n",
              "        text-align: right;\n",
              "    }\n",
              "</style>\n",
              "<table border=\"1\" class=\"dataframe\">\n",
              "  <thead>\n",
              "    <tr style=\"text-align: right;\">\n",
              "      <th></th>\n",
              "      <th>date</th>\n",
              "      <th>county_code</th>\n",
              "      <th>days_since_first_case</th>\n",
              "      <th>days_since_shelter</th>\n",
              "      <th>home_device_percentage</th>\n",
              "      <th>part_time_work_device_percentage</th>\n",
              "      <th>full_time_work_device_percentage</th>\n",
              "    </tr>\n",
              "  </thead>\n",
              "  <tbody>\n",
              "    <tr>\n",
              "      <th>2574</th>\n",
              "      <td>2020-01-01</td>\n",
              "      <td>53033</td>\n",
              "      <td>-21.0</td>\n",
              "      <td>-82.0</td>\n",
              "      <td>0.346753</td>\n",
              "      <td>0.034067</td>\n",
              "      <td>0.115011</td>\n",
              "    </tr>\n",
              "    <tr>\n",
              "      <th>5191</th>\n",
              "      <td>2020-01-02</td>\n",
              "      <td>53033</td>\n",
              "      <td>-20.0</td>\n",
              "      <td>-81.0</td>\n",
              "      <td>0.278992</td>\n",
              "      <td>0.082001</td>\n",
              "      <td>0.163316</td>\n",
              "    </tr>\n",
              "    <tr>\n",
              "      <th>7808</th>\n",
              "      <td>2020-01-03</td>\n",
              "      <td>53033</td>\n",
              "      <td>-19.0</td>\n",
              "      <td>-80.0</td>\n",
              "      <td>0.260352</td>\n",
              "      <td>0.085722</td>\n",
              "      <td>0.158796</td>\n",
              "    </tr>\n",
              "    <tr>\n",
              "      <th>10426</th>\n",
              "      <td>2020-01-04</td>\n",
              "      <td>53033</td>\n",
              "      <td>-18.0</td>\n",
              "      <td>-79.0</td>\n",
              "      <td>0.290090</td>\n",
              "      <td>0.050233</td>\n",
              "      <td>0.127981</td>\n",
              "    </tr>\n",
              "    <tr>\n",
              "      <th>13044</th>\n",
              "      <td>2020-01-05</td>\n",
              "      <td>53033</td>\n",
              "      <td>-17.0</td>\n",
              "      <td>-78.0</td>\n",
              "      <td>0.350042</td>\n",
              "      <td>0.048000</td>\n",
              "      <td>0.102449</td>\n",
              "    </tr>\n",
              "  </tbody>\n",
              "</table>\n",
              "</div>"
            ],
            "text/plain": [
              "            date  ...  full_time_work_device_percentage\n",
              "2574  2020-01-01  ...                          0.115011\n",
              "5191  2020-01-02  ...                          0.163316\n",
              "7808  2020-01-03  ...                          0.158796\n",
              "10426 2020-01-04  ...                          0.127981\n",
              "13044 2020-01-05  ...                          0.102449\n",
              "\n",
              "[5 rows x 7 columns]"
            ]
          },
          "metadata": {
            "tags": []
          },
          "execution_count": 61
        }
      ]
    },
    {
      "cell_type": "code",
      "metadata": {
        "id": "VRAB7do3yzlj",
        "colab_type": "code",
        "colab": {
          "base_uri": "https://localhost:8080/",
          "height": 51
        },
        "outputId": "f5406e3f-c0bf-4538-d234-30d4a82eac37"
      },
      "source": [
        "print(king_county_data.shape);\n",
        "print(king_cases.shape)"
      ],
      "execution_count": null,
      "outputs": [
        {
          "output_type": "stream",
          "text": [
            "(127, 7)\n",
            "(76, 6)\n"
          ],
          "name": "stdout"
        }
      ]
    },
    {
      "cell_type": "markdown",
      "metadata": {
        "id": "DgI3Niy8yVK2",
        "colab_type": "text"
      },
      "source": [
        "As we can see from above cases data start from 02-28 and % stay at home starts from 01-01, so when we join, we want to preserve the % stay at home data, even if there is no cases data to pair it with."
      ]
    },
    {
      "cell_type": "code",
      "metadata": {
        "id": "LAFqk3Fcv-Pa",
        "colab_type": "code",
        "colab": {}
      },
      "source": [
        "# merged_data has both # cases in king county and completely at home % data\n",
        "merged_data = king_county_data.merge(king_cases, left_on=['date','county_code'],\\\n",
        "                                     right_on = ['date', 'fips'], how = 'left')"
      ],
      "execution_count": null,
      "outputs": []
    },
    {
      "cell_type": "code",
      "metadata": {
        "id": "lACRARFIx50y",
        "colab_type": "code",
        "colab": {
          "base_uri": "https://localhost:8080/",
          "height": 34
        },
        "outputId": "4fb65aac-966f-44d7-9a11-0b7bdbde6bfd"
      },
      "source": [
        "merged_data.shape"
      ],
      "execution_count": null,
      "outputs": [
        {
          "output_type": "execute_result",
          "data": {
            "text/plain": [
              "(127, 12)"
            ]
          },
          "metadata": {
            "tags": []
          },
          "execution_count": 66
        }
      ]
    },
    {
      "cell_type": "code",
      "metadata": {
        "id": "2Cb28L_UzA7z",
        "colab_type": "code",
        "colab": {
          "base_uri": "https://localhost:8080/",
          "height": 309
        },
        "outputId": "aea30e9c-23dc-49e7-a847-bc7bf44063dd"
      },
      "source": [
        "merged_data.head()"
      ],
      "execution_count": null,
      "outputs": [
        {
          "output_type": "execute_result",
          "data": {
            "text/html": [
              "<div>\n",
              "<style scoped>\n",
              "    .dataframe tbody tr th:only-of-type {\n",
              "        vertical-align: middle;\n",
              "    }\n",
              "\n",
              "    .dataframe tbody tr th {\n",
              "        vertical-align: top;\n",
              "    }\n",
              "\n",
              "    .dataframe thead th {\n",
              "        text-align: right;\n",
              "    }\n",
              "</style>\n",
              "<table border=\"1\" class=\"dataframe\">\n",
              "  <thead>\n",
              "    <tr style=\"text-align: right;\">\n",
              "      <th></th>\n",
              "      <th>date</th>\n",
              "      <th>county_code</th>\n",
              "      <th>days_since_first_case</th>\n",
              "      <th>days_since_shelter</th>\n",
              "      <th>home_device_percentage</th>\n",
              "      <th>part_time_work_device_percentage</th>\n",
              "      <th>full_time_work_device_percentage</th>\n",
              "      <th>county</th>\n",
              "      <th>state</th>\n",
              "      <th>fips</th>\n",
              "      <th>cases</th>\n",
              "      <th>deaths</th>\n",
              "    </tr>\n",
              "  </thead>\n",
              "  <tbody>\n",
              "    <tr>\n",
              "      <th>0</th>\n",
              "      <td>2020-01-01</td>\n",
              "      <td>53033</td>\n",
              "      <td>-21.0</td>\n",
              "      <td>-82.0</td>\n",
              "      <td>0.346753</td>\n",
              "      <td>0.034067</td>\n",
              "      <td>0.115011</td>\n",
              "      <td>NaN</td>\n",
              "      <td>NaN</td>\n",
              "      <td>NaN</td>\n",
              "      <td>NaN</td>\n",
              "      <td>NaN</td>\n",
              "    </tr>\n",
              "    <tr>\n",
              "      <th>1</th>\n",
              "      <td>2020-01-02</td>\n",
              "      <td>53033</td>\n",
              "      <td>-20.0</td>\n",
              "      <td>-81.0</td>\n",
              "      <td>0.278992</td>\n",
              "      <td>0.082001</td>\n",
              "      <td>0.163316</td>\n",
              "      <td>NaN</td>\n",
              "      <td>NaN</td>\n",
              "      <td>NaN</td>\n",
              "      <td>NaN</td>\n",
              "      <td>NaN</td>\n",
              "    </tr>\n",
              "    <tr>\n",
              "      <th>2</th>\n",
              "      <td>2020-01-03</td>\n",
              "      <td>53033</td>\n",
              "      <td>-19.0</td>\n",
              "      <td>-80.0</td>\n",
              "      <td>0.260352</td>\n",
              "      <td>0.085722</td>\n",
              "      <td>0.158796</td>\n",
              "      <td>NaN</td>\n",
              "      <td>NaN</td>\n",
              "      <td>NaN</td>\n",
              "      <td>NaN</td>\n",
              "      <td>NaN</td>\n",
              "    </tr>\n",
              "    <tr>\n",
              "      <th>3</th>\n",
              "      <td>2020-01-04</td>\n",
              "      <td>53033</td>\n",
              "      <td>-18.0</td>\n",
              "      <td>-79.0</td>\n",
              "      <td>0.290090</td>\n",
              "      <td>0.050233</td>\n",
              "      <td>0.127981</td>\n",
              "      <td>NaN</td>\n",
              "      <td>NaN</td>\n",
              "      <td>NaN</td>\n",
              "      <td>NaN</td>\n",
              "      <td>NaN</td>\n",
              "    </tr>\n",
              "    <tr>\n",
              "      <th>4</th>\n",
              "      <td>2020-01-05</td>\n",
              "      <td>53033</td>\n",
              "      <td>-17.0</td>\n",
              "      <td>-78.0</td>\n",
              "      <td>0.350042</td>\n",
              "      <td>0.048000</td>\n",
              "      <td>0.102449</td>\n",
              "      <td>NaN</td>\n",
              "      <td>NaN</td>\n",
              "      <td>NaN</td>\n",
              "      <td>NaN</td>\n",
              "      <td>NaN</td>\n",
              "    </tr>\n",
              "  </tbody>\n",
              "</table>\n",
              "</div>"
            ],
            "text/plain": [
              "        date  county_code  days_since_first_case  ...  fips  cases  deaths\n",
              "0 2020-01-01        53033                  -21.0  ...   NaN    NaN     NaN\n",
              "1 2020-01-02        53033                  -20.0  ...   NaN    NaN     NaN\n",
              "2 2020-01-03        53033                  -19.0  ...   NaN    NaN     NaN\n",
              "3 2020-01-04        53033                  -18.0  ...   NaN    NaN     NaN\n",
              "4 2020-01-05        53033                  -17.0  ...   NaN    NaN     NaN\n",
              "\n",
              "[5 rows x 12 columns]"
            ]
          },
          "metadata": {
            "tags": []
          },
          "execution_count": 74
        }
      ]
    },
    {
      "cell_type": "code",
      "metadata": {
        "id": "mH3Jb9ADx6pb",
        "colab_type": "code",
        "colab": {
          "base_uri": "https://localhost:8080/",
          "height": 1000
        },
        "outputId": "9a04ca21-26bf-41b7-e16e-020e81b36648"
      },
      "source": [
        "plt.figure(figsize=(7,7))\n",
        "plt.plot(merged_data['days_since_first_case'], merged_data['home_device_percentage'])\n",
        "plt.xlabel(\"days since first case occured\")\n",
        "plt.ylabel(\"percentage of stay at home devices\")\n",
        "plt.ylim(0,1)\n",
        "plt.xlim(-30,120)\n",
        "plt.axvline(days_from_first_case_to_shelter, 0, 1, linestyle = '--', color = \"red\")\n",
        "plt.text(days_from_first_case_to_shelter + 0.5,0.5,'the day when shelter in place was issued',rotation=25)\n",
        "\n",
        "plt.figure(figsize=(7,7))\n",
        "plt.plot(merged_data['days_since_first_case'], merged_data['part_time_work_device_percentage'])\n",
        "plt.xlabel(\"days since first case occured\")\n",
        "plt.ylabel(\"part_time_work_device_percentage\")\n",
        "plt.ylim(0,0.2)\n",
        "plt.xlim(-30,120)\n",
        "plt.axvline(days_from_first_case_to_shelter, 0, 1, linestyle = '--', color = \"red\")\n",
        "plt.text(days_from_first_case_to_shelter + 0.5,0.1,'the day when shelter in place was issued',rotation=25)\n",
        "plt.show()\n",
        "\n",
        "plt.figure(figsize=(7,7))\n",
        "plt.plot(merged_data['days_since_first_case'], merged_data['full_time_work_device_percentage'])\n",
        "plt.xlabel(\"days since first case occured\")\n",
        "plt.ylabel(\"full_time_work_device_percentage\")\n",
        "plt.ylim(0,0.3)\n",
        "plt.xlim(-30,120)\n",
        "plt.axvline(days_from_first_case_to_shelter, 0, 1, linestyle = '--', color = \"red\")\n",
        "plt.text(days_from_first_case_to_shelter + 0.5,0.2,'the day when shelter in place was issued',rotation=25)\n",
        "plt.show()\n",
        "\n",
        "plt.figure(figsize=(7,7))\n",
        "plt.xlim(-30,120)\n",
        "plt.plot(merged_data['days_since_first_case'],merged_data['cases'])\n",
        "plt.xlabel(\"days since first case occured\")\n",
        "plt.ylabel(\"number of total cases in king county\")\n",
        "plt.show()\n",
        "\n",
        "plt.figure(figsize=(7,7))\n",
        "plt.xlim(-30,120)\n",
        "plt.plot(merged_data['days_since_first_case'],merged_data['deaths'])\n",
        "plt.xlabel(\"days since first case occured\")\n",
        "plt.ylabel(\"number of total death in king county\")\n",
        "plt.show()"
      ],
      "execution_count": null,
      "outputs": [
        {
          "output_type": "display_data",
          "data": {
            "image/png": "[encoded data removed]",
            "text/plain": [
              "<Figure size 504x504 with 1 Axes>"
            ]
          },
          "metadata": {
            "tags": [],
            "needs_background": "light"
          }
        },
        {
          "output_type": "display_data",
          "data": {
            "image/png": "[encoded data removed]",
            "text/plain": [
              "<Figure size 504x504 with 1 Axes>"
            ]
          },
          "metadata": {
            "tags": [],
            "needs_background": "light"
          }
        },
        {
          "output_type": "display_data",
          "data": {
            "image/png": "[encoded data removed]",
            "text/plain": [
              "<Figure size 504x504 with 1 Axes>"
            ]
          },
          "metadata": {
            "tags": [],
            "needs_background": "light"
          }
        },
        {
          "output_type": "display_data",
          "data": {
            "image/png": "[encoded data removed]",
            "text/plain": [
              "<Figure size 504x504 with 1 Axes>"
            ]
          },
          "metadata": {
            "tags": [],
            "needs_background": "light"
          }
        },
        {
          "output_type": "display_data",
          "data": {
            "image/png": "[encoded data removed]",
            "text/plain": [
              "<Figure size 504x504 with 1 Axes>"
            ]
          },
          "metadata": {
            "tags": [],
            "needs_background": "light"
          }
        }
      ]
    },
    {
      "cell_type": "markdown",
      "metadata": {
        "id": "Tlb6gwVX1bKt",
        "colab_type": "text"
      },
      "source": [
        "from days 0 to days 40 king county has 1 case, so we didn't graph it on the second graph.. \n",
        "\n",
        "Interestingly when the cases and deaths starts to go up is exactly when people's behavior metrics like % stay at home change dramatically in king county, from day 40 to day 60, even before the government issued stay at home order.\n",
        "\n",
        "Seems like at least in King county, number of cases has more influence on people's behavior than government's order"
      ]
    },
    {
      "cell_type": "markdown",
      "metadata": {
        "id": "FO3VvNKy2C_3",
        "colab_type": "text"
      },
      "source": [
        "# 2. investigation of data from LA County, CA"
      ]
    },
    {
      "cell_type": "code",
      "metadata": {
        "colab_type": "code",
        "id": "MPyKrg7m3aXM",
        "colab": {}
      },
      "source": [
        "LA_data = data[(data['state_code'] == \"CA\") & (data['cnamelong'] == 'Los Angeles County')]"
      ],
      "execution_count": null,
      "outputs": []
    },
    {
      "cell_type": "code",
      "metadata": {
        "colab_type": "code",
        "id": "3dtvPfxe3aXg",
        "colab": {}
      },
      "source": [
        "days_from_first_case_to_shelter = LA_data.iloc[0]['days_since_first_case'] - LA_data.iloc[0]['days_since_shelter']"
      ],
      "execution_count": null,
      "outputs": []
    },
    {
      "cell_type": "code",
      "metadata": {
        "id": "jt3pmM63364d",
        "colab_type": "code",
        "colab": {
          "base_uri": "https://localhost:8080/",
          "height": 411
        },
        "outputId": "cf48f268-182d-4390-f657-4d84e5a8d556"
      },
      "source": [
        "LA_data.head()"
      ],
      "execution_count": null,
      "outputs": [
        {
          "output_type": "execute_result",
          "data": {
            "text/html": [
              "<div>\n",
              "<style scoped>\n",
              "    .dataframe tbody tr th:only-of-type {\n",
              "        vertical-align: middle;\n",
              "    }\n",
              "\n",
              "    .dataframe tbody tr th {\n",
              "        vertical-align: top;\n",
              "    }\n",
              "\n",
              "    .dataframe thead th {\n",
              "        text-align: right;\n",
              "    }\n",
              "</style>\n",
              "<table border=\"1\" class=\"dataframe\">\n",
              "  <thead>\n",
              "    <tr style=\"text-align: right;\">\n",
              "      <th></th>\n",
              "      <th>Unnamed: 0</th>\n",
              "      <th>date_range_start</th>\n",
              "      <th>date_range_end</th>\n",
              "      <th>state</th>\n",
              "      <th>state_code</th>\n",
              "      <th>cnamelong</th>\n",
              "      <th>county_code</th>\n",
              "      <th>days_since_first_case</th>\n",
              "      <th>days_since_shelter</th>\n",
              "      <th>candidate_device_count</th>\n",
              "      <th>device_count</th>\n",
              "      <th>completely_home_device_count</th>\n",
              "      <th>part_time_work_behavior_devices</th>\n",
              "      <th>full_time_work_behavior_devices</th>\n",
              "      <th>delivery_behavior_devices</th>\n",
              "      <th>median_home_dwell_time</th>\n",
              "      <th>median_non_home_dwell_time</th>\n",
              "      <th>median_percentage_time_home</th>\n",
              "      <th>distance_traveled_from_home</th>\n",
              "      <th>home_device_percentage</th>\n",
              "      <th>part_time_work_device_percentage</th>\n",
              "      <th>full_time_work_device_percentage</th>\n",
              "      <th>delivery_device_percentage</th>\n",
              "    </tr>\n",
              "  </thead>\n",
              "  <tbody>\n",
              "    <tr>\n",
              "      <th>2464</th>\n",
              "      <td>2464</td>\n",
              "      <td>2020-01-01T00:00:00-08:00</td>\n",
              "      <td>2020-01-02T00:00:00-08:00</td>\n",
              "      <td>6.0</td>\n",
              "      <td>CA</td>\n",
              "      <td>Los Angeles County</td>\n",
              "      <td>6037</td>\n",
              "      <td>-25.0</td>\n",
              "      <td>-78.0</td>\n",
              "      <td>0.0</td>\n",
              "      <td>402115</td>\n",
              "      <td>135643</td>\n",
              "      <td>15733</td>\n",
              "      <td>43348</td>\n",
              "      <td>0.0</td>\n",
              "      <td>705.720413</td>\n",
              "      <td>NaN</td>\n",
              "      <td>NaN</td>\n",
              "      <td>12042.490755</td>\n",
              "      <td>0.337324</td>\n",
              "      <td>0.039126</td>\n",
              "      <td>0.107800</td>\n",
              "      <td>0.0</td>\n",
              "    </tr>\n",
              "    <tr>\n",
              "      <th>5081</th>\n",
              "      <td>5081</td>\n",
              "      <td>2020-01-02T00:00:00-08:00</td>\n",
              "      <td>2020-01-03T00:00:00-08:00</td>\n",
              "      <td>6.0</td>\n",
              "      <td>CA</td>\n",
              "      <td>Los Angeles County</td>\n",
              "      <td>6037</td>\n",
              "      <td>-24.0</td>\n",
              "      <td>-77.0</td>\n",
              "      <td>0.0</td>\n",
              "      <td>393125</td>\n",
              "      <td>105785</td>\n",
              "      <td>30552</td>\n",
              "      <td>56610</td>\n",
              "      <td>0.0</td>\n",
              "      <td>653.484034</td>\n",
              "      <td>NaN</td>\n",
              "      <td>NaN</td>\n",
              "      <td>9744.824781</td>\n",
              "      <td>0.269087</td>\n",
              "      <td>0.077716</td>\n",
              "      <td>0.144000</td>\n",
              "      <td>0.0</td>\n",
              "    </tr>\n",
              "    <tr>\n",
              "      <th>7698</th>\n",
              "      <td>7698</td>\n",
              "      <td>2020-01-03T00:00:00-08:00</td>\n",
              "      <td>2020-01-04T00:00:00-08:00</td>\n",
              "      <td>6.0</td>\n",
              "      <td>CA</td>\n",
              "      <td>Los Angeles County</td>\n",
              "      <td>6037</td>\n",
              "      <td>-23.0</td>\n",
              "      <td>-76.0</td>\n",
              "      <td>0.0</td>\n",
              "      <td>392810</td>\n",
              "      <td>102133</td>\n",
              "      <td>33061</td>\n",
              "      <td>58467</td>\n",
              "      <td>0.0</td>\n",
              "      <td>655.288020</td>\n",
              "      <td>NaN</td>\n",
              "      <td>NaN</td>\n",
              "      <td>9470.001102</td>\n",
              "      <td>0.260006</td>\n",
              "      <td>0.084165</td>\n",
              "      <td>0.148843</td>\n",
              "      <td>0.0</td>\n",
              "    </tr>\n",
              "    <tr>\n",
              "      <th>10316</th>\n",
              "      <td>10316</td>\n",
              "      <td>2020-01-04T00:00:00-08:00</td>\n",
              "      <td>2020-01-05T00:00:00-08:00</td>\n",
              "      <td>6.0</td>\n",
              "      <td>CA</td>\n",
              "      <td>Los Angeles County</td>\n",
              "      <td>6037</td>\n",
              "      <td>-22.0</td>\n",
              "      <td>-75.0</td>\n",
              "      <td>0.0</td>\n",
              "      <td>386520</td>\n",
              "      <td>108305</td>\n",
              "      <td>24110</td>\n",
              "      <td>50115</td>\n",
              "      <td>0.0</td>\n",
              "      <td>703.270061</td>\n",
              "      <td>NaN</td>\n",
              "      <td>NaN</td>\n",
              "      <td>8948.600877</td>\n",
              "      <td>0.280205</td>\n",
              "      <td>0.062377</td>\n",
              "      <td>0.129657</td>\n",
              "      <td>0.0</td>\n",
              "    </tr>\n",
              "    <tr>\n",
              "      <th>12934</th>\n",
              "      <td>12934</td>\n",
              "      <td>2020-01-05T00:00:00-08:00</td>\n",
              "      <td>2020-01-06T00:00:00-08:00</td>\n",
              "      <td>6.0</td>\n",
              "      <td>CA</td>\n",
              "      <td>Los Angeles County</td>\n",
              "      <td>6037</td>\n",
              "      <td>-21.0</td>\n",
              "      <td>-74.0</td>\n",
              "      <td>0.0</td>\n",
              "      <td>390481</td>\n",
              "      <td>121502</td>\n",
              "      <td>20516</td>\n",
              "      <td>39896</td>\n",
              "      <td>0.0</td>\n",
              "      <td>689.561164</td>\n",
              "      <td>NaN</td>\n",
              "      <td>NaN</td>\n",
              "      <td>7867.854933</td>\n",
              "      <td>0.311160</td>\n",
              "      <td>0.052540</td>\n",
              "      <td>0.102171</td>\n",
              "      <td>0.0</td>\n",
              "    </tr>\n",
              "  </tbody>\n",
              "</table>\n",
              "</div>"
            ],
            "text/plain": [
              "       Unnamed: 0  ... delivery_device_percentage\n",
              "2464         2464  ...                        0.0\n",
              "5081         5081  ...                        0.0\n",
              "7698         7698  ...                        0.0\n",
              "10316       10316  ...                        0.0\n",
              "12934       12934  ...                        0.0\n",
              "\n",
              "[5 rows x 23 columns]"
            ]
          },
          "metadata": {
            "tags": []
          },
          "execution_count": 101
        }
      ]
    },
    {
      "cell_type": "markdown",
      "metadata": {
        "id": "t7GXS6QV4L5f",
        "colab_type": "text"
      },
      "source": [
        "LA has fips code of 6037."
      ]
    },
    {
      "cell_type": "code",
      "metadata": {
        "colab_type": "code",
        "id": "cxsQH79Z3aXk",
        "colab": {}
      },
      "source": [
        "LA_cases = df_cases[df_cases['fips'] ==  6037]"
      ],
      "execution_count": null,
      "outputs": []
    },
    {
      "cell_type": "code",
      "metadata": {
        "id": "uvvnbilS4F3H",
        "colab_type": "code",
        "colab": {
          "base_uri": "https://localhost:8080/",
          "height": 419
        },
        "outputId": "cb7b7208-eb9a-4b52-ea6f-858dc3673718"
      },
      "source": [
        "LA_cases"
      ],
      "execution_count": null,
      "outputs": [
        {
          "output_type": "execute_result",
          "data": {
            "text/html": [
              "<div>\n",
              "<style scoped>\n",
              "    .dataframe tbody tr th:only-of-type {\n",
              "        vertical-align: middle;\n",
              "    }\n",
              "\n",
              "    .dataframe tbody tr th {\n",
              "        vertical-align: top;\n",
              "    }\n",
              "\n",
              "    .dataframe thead th {\n",
              "        text-align: right;\n",
              "    }\n",
              "</style>\n",
              "<table border=\"1\" class=\"dataframe\">\n",
              "  <thead>\n",
              "    <tr style=\"text-align: right;\">\n",
              "      <th></th>\n",
              "      <th>date</th>\n",
              "      <th>county</th>\n",
              "      <th>state</th>\n",
              "      <th>fips</th>\n",
              "      <th>cases</th>\n",
              "      <th>deaths</th>\n",
              "    </tr>\n",
              "  </thead>\n",
              "  <tbody>\n",
              "    <tr>\n",
              "      <th>9</th>\n",
              "      <td>2020-01-26</td>\n",
              "      <td>Los Angeles</td>\n",
              "      <td>California</td>\n",
              "      <td>6037.0</td>\n",
              "      <td>1</td>\n",
              "      <td>0</td>\n",
              "    </tr>\n",
              "    <tr>\n",
              "      <th>14</th>\n",
              "      <td>2020-01-27</td>\n",
              "      <td>Los Angeles</td>\n",
              "      <td>California</td>\n",
              "      <td>6037.0</td>\n",
              "      <td>1</td>\n",
              "      <td>0</td>\n",
              "    </tr>\n",
              "    <tr>\n",
              "      <th>19</th>\n",
              "      <td>2020-01-28</td>\n",
              "      <td>Los Angeles</td>\n",
              "      <td>California</td>\n",
              "      <td>6037.0</td>\n",
              "      <td>1</td>\n",
              "      <td>0</td>\n",
              "    </tr>\n",
              "    <tr>\n",
              "      <th>24</th>\n",
              "      <td>2020-01-29</td>\n",
              "      <td>Los Angeles</td>\n",
              "      <td>California</td>\n",
              "      <td>6037.0</td>\n",
              "      <td>1</td>\n",
              "      <td>0</td>\n",
              "    </tr>\n",
              "    <tr>\n",
              "      <th>29</th>\n",
              "      <td>2020-01-30</td>\n",
              "      <td>Los Angeles</td>\n",
              "      <td>California</td>\n",
              "      <td>6037.0</td>\n",
              "      <td>1</td>\n",
              "      <td>0</td>\n",
              "    </tr>\n",
              "    <tr>\n",
              "      <th>...</th>\n",
              "      <td>...</td>\n",
              "      <td>...</td>\n",
              "      <td>...</td>\n",
              "      <td>...</td>\n",
              "      <td>...</td>\n",
              "      <td>...</td>\n",
              "    </tr>\n",
              "    <tr>\n",
              "      <th>127022</th>\n",
              "      <td>2020-05-09</td>\n",
              "      <td>Los Angeles</td>\n",
              "      <td>California</td>\n",
              "      <td>6037.0</td>\n",
              "      <td>31197</td>\n",
              "      <td>1512</td>\n",
              "    </tr>\n",
              "    <tr>\n",
              "      <th>129934</th>\n",
              "      <td>2020-05-10</td>\n",
              "      <td>Los Angeles</td>\n",
              "      <td>California</td>\n",
              "      <td>6037.0</td>\n",
              "      <td>31677</td>\n",
              "      <td>1530</td>\n",
              "    </tr>\n",
              "    <tr>\n",
              "      <th>132846</th>\n",
              "      <td>2020-05-11</td>\n",
              "      <td>Los Angeles</td>\n",
              "      <td>California</td>\n",
              "      <td>6037.0</td>\n",
              "      <td>32258</td>\n",
              "      <td>1569</td>\n",
              "    </tr>\n",
              "    <tr>\n",
              "      <th>135757</th>\n",
              "      <td>2020-05-12</td>\n",
              "      <td>Los Angeles</td>\n",
              "      <td>California</td>\n",
              "      <td>6037.0</td>\n",
              "      <td>33180</td>\n",
              "      <td>1613</td>\n",
              "    </tr>\n",
              "    <tr>\n",
              "      <th>138671</th>\n",
              "      <td>2020-05-13</td>\n",
              "      <td>Los Angeles</td>\n",
              "      <td>California</td>\n",
              "      <td>6037.0</td>\n",
              "      <td>34428</td>\n",
              "      <td>1659</td>\n",
              "    </tr>\n",
              "  </tbody>\n",
              "</table>\n",
              "<p>109 rows × 6 columns</p>\n",
              "</div>"
            ],
            "text/plain": [
              "              date       county       state    fips  cases  deaths\n",
              "9       2020-01-26  Los Angeles  California  6037.0      1       0\n",
              "14      2020-01-27  Los Angeles  California  6037.0      1       0\n",
              "19      2020-01-28  Los Angeles  California  6037.0      1       0\n",
              "24      2020-01-29  Los Angeles  California  6037.0      1       0\n",
              "29      2020-01-30  Los Angeles  California  6037.0      1       0\n",
              "...            ...          ...         ...     ...    ...     ...\n",
              "127022  2020-05-09  Los Angeles  California  6037.0  31197    1512\n",
              "129934  2020-05-10  Los Angeles  California  6037.0  31677    1530\n",
              "132846  2020-05-11  Los Angeles  California  6037.0  32258    1569\n",
              "135757  2020-05-12  Los Angeles  California  6037.0  33180    1613\n",
              "138671  2020-05-13  Los Angeles  California  6037.0  34428    1659\n",
              "\n",
              "[109 rows x 6 columns]"
            ]
          },
          "metadata": {
            "tags": []
          },
          "execution_count": 100
        }
      ]
    },
    {
      "cell_type": "code",
      "metadata": {
        "colab_type": "code",
        "id": "BZVRH6Hb3aXu",
        "colab": {
          "base_uri": "https://localhost:8080/",
          "height": 221
        },
        "outputId": "711ca74d-e428-41b8-94bd-ddf6483e7cc4"
      },
      "source": [
        "# convert date column dataframe from a string\n",
        "# to a python date object.\n",
        "LA_cases['date'] = LA_cases['date'].apply(lambda x: datetime.strptime(x[0:10], '%Y-%m-%d'))\n",
        "LA_data['date'] = LA_data['date_range_start'].apply(lambda x: datetime.strptime(x[0:10], '%Y-%m-%d'))"
      ],
      "execution_count": null,
      "outputs": [
        {
          "output_type": "stream",
          "text": [
            "/usr/local/lib/python3.6/dist-packages/ipykernel_launcher.py:3: SettingWithCopyWarning: \n",
            "A value is trying to be set on a copy of a slice from a DataFrame.\n",
            "Try using .loc[row_indexer,col_indexer] = value instead\n",
            "\n",
            "See the caveats in the documentation: https://pandas.pydata.org/pandas-docs/stable/user_guide/indexing.html#returning-a-view-versus-a-copy\n",
            "  This is separate from the ipykernel package so we can avoid doing imports until\n",
            "/usr/local/lib/python3.6/dist-packages/ipykernel_launcher.py:4: SettingWithCopyWarning: \n",
            "A value is trying to be set on a copy of a slice from a DataFrame.\n",
            "Try using .loc[row_indexer,col_indexer] = value instead\n",
            "\n",
            "See the caveats in the documentation: https://pandas.pydata.org/pandas-docs/stable/user_guide/indexing.html#returning-a-view-versus-a-copy\n",
            "  after removing the cwd from sys.path.\n"
          ],
          "name": "stderr"
        }
      ]
    },
    {
      "cell_type": "code",
      "metadata": {
        "colab_type": "code",
        "id": "uUA6EPPT3aX8",
        "colab": {}
      },
      "source": [
        "# only select the variables we want to study, drop the others.\n",
        "LA_data = \\\n",
        "LA_data[['date','county_code','days_since_first_case','days_since_shelter',\\\n",
        "         'home_device_percentage', 'part_time_work_device_percentage',\\\n",
        "         'full_time_work_device_percentage']]"
      ],
      "execution_count": null,
      "outputs": []
    },
    {
      "cell_type": "code",
      "metadata": {
        "colab_type": "code",
        "id": "2LxAajiN3aX-",
        "colab": {
          "base_uri": "https://localhost:8080/",
          "height": 119
        },
        "outputId": "6e353304-d06d-4d6f-b79d-c3490c68b64f"
      },
      "source": [
        "# want to merge on county code, but king_county_data has int\n",
        "# and king_cases has float on county code. Convert\n",
        "# cases's fips to int so we can merge them\n",
        "LA_cases['fips'] = LA_cases['fips'].astype('int')"
      ],
      "execution_count": null,
      "outputs": [
        {
          "output_type": "stream",
          "text": [
            "/usr/local/lib/python3.6/dist-packages/ipykernel_launcher.py:4: SettingWithCopyWarning: \n",
            "A value is trying to be set on a copy of a slice from a DataFrame.\n",
            "Try using .loc[row_indexer,col_indexer] = value instead\n",
            "\n",
            "See the caveats in the documentation: https://pandas.pydata.org/pandas-docs/stable/user_guide/indexing.html#returning-a-view-versus-a-copy\n",
            "  after removing the cwd from sys.path.\n"
          ],
          "name": "stderr"
        }
      ]
    },
    {
      "cell_type": "code",
      "metadata": {
        "colab_type": "code",
        "id": "6lpm-tiU3aYA",
        "colab": {
          "base_uri": "https://localhost:8080/",
          "height": 204
        },
        "outputId": "7e3b8e6f-5d0a-46d0-e57d-333bf9467e9b"
      },
      "source": [
        "LA_cases.head()"
      ],
      "execution_count": null,
      "outputs": [
        {
          "output_type": "execute_result",
          "data": {
            "text/html": [
              "<div>\n",
              "<style scoped>\n",
              "    .dataframe tbody tr th:only-of-type {\n",
              "        vertical-align: middle;\n",
              "    }\n",
              "\n",
              "    .dataframe tbody tr th {\n",
              "        vertical-align: top;\n",
              "    }\n",
              "\n",
              "    .dataframe thead th {\n",
              "        text-align: right;\n",
              "    }\n",
              "</style>\n",
              "<table border=\"1\" class=\"dataframe\">\n",
              "  <thead>\n",
              "    <tr style=\"text-align: right;\">\n",
              "      <th></th>\n",
              "      <th>date</th>\n",
              "      <th>county</th>\n",
              "      <th>state</th>\n",
              "      <th>fips</th>\n",
              "      <th>cases</th>\n",
              "      <th>deaths</th>\n",
              "    </tr>\n",
              "  </thead>\n",
              "  <tbody>\n",
              "    <tr>\n",
              "      <th>9</th>\n",
              "      <td>2020-01-26</td>\n",
              "      <td>Los Angeles</td>\n",
              "      <td>California</td>\n",
              "      <td>6037</td>\n",
              "      <td>1</td>\n",
              "      <td>0</td>\n",
              "    </tr>\n",
              "    <tr>\n",
              "      <th>14</th>\n",
              "      <td>2020-01-27</td>\n",
              "      <td>Los Angeles</td>\n",
              "      <td>California</td>\n",
              "      <td>6037</td>\n",
              "      <td>1</td>\n",
              "      <td>0</td>\n",
              "    </tr>\n",
              "    <tr>\n",
              "      <th>19</th>\n",
              "      <td>2020-01-28</td>\n",
              "      <td>Los Angeles</td>\n",
              "      <td>California</td>\n",
              "      <td>6037</td>\n",
              "      <td>1</td>\n",
              "      <td>0</td>\n",
              "    </tr>\n",
              "    <tr>\n",
              "      <th>24</th>\n",
              "      <td>2020-01-29</td>\n",
              "      <td>Los Angeles</td>\n",
              "      <td>California</td>\n",
              "      <td>6037</td>\n",
              "      <td>1</td>\n",
              "      <td>0</td>\n",
              "    </tr>\n",
              "    <tr>\n",
              "      <th>29</th>\n",
              "      <td>2020-01-30</td>\n",
              "      <td>Los Angeles</td>\n",
              "      <td>California</td>\n",
              "      <td>6037</td>\n",
              "      <td>1</td>\n",
              "      <td>0</td>\n",
              "    </tr>\n",
              "  </tbody>\n",
              "</table>\n",
              "</div>"
            ],
            "text/plain": [
              "         date       county       state  fips  cases  deaths\n",
              "9  2020-01-26  Los Angeles  California  6037      1       0\n",
              "14 2020-01-27  Los Angeles  California  6037      1       0\n",
              "19 2020-01-28  Los Angeles  California  6037      1       0\n",
              "24 2020-01-29  Los Angeles  California  6037      1       0\n",
              "29 2020-01-30  Los Angeles  California  6037      1       0"
            ]
          },
          "metadata": {
            "tags": []
          },
          "execution_count": 106
        }
      ]
    },
    {
      "cell_type": "code",
      "metadata": {
        "colab_type": "code",
        "id": "va7ETmkb3aYC",
        "colab": {
          "base_uri": "https://localhost:8080/",
          "height": 309
        },
        "outputId": "84ea45be-173e-49ea-eaa1-b880c23efa66"
      },
      "source": [
        "LA_data.head()"
      ],
      "execution_count": null,
      "outputs": [
        {
          "output_type": "execute_result",
          "data": {
            "text/html": [
              "<div>\n",
              "<style scoped>\n",
              "    .dataframe tbody tr th:only-of-type {\n",
              "        vertical-align: middle;\n",
              "    }\n",
              "\n",
              "    .dataframe tbody tr th {\n",
              "        vertical-align: top;\n",
              "    }\n",
              "\n",
              "    .dataframe thead th {\n",
              "        text-align: right;\n",
              "    }\n",
              "</style>\n",
              "<table border=\"1\" class=\"dataframe\">\n",
              "  <thead>\n",
              "    <tr style=\"text-align: right;\">\n",
              "      <th></th>\n",
              "      <th>date</th>\n",
              "      <th>county_code</th>\n",
              "      <th>days_since_first_case</th>\n",
              "      <th>days_since_shelter</th>\n",
              "      <th>home_device_percentage</th>\n",
              "      <th>part_time_work_device_percentage</th>\n",
              "      <th>full_time_work_device_percentage</th>\n",
              "    </tr>\n",
              "  </thead>\n",
              "  <tbody>\n",
              "    <tr>\n",
              "      <th>2464</th>\n",
              "      <td>2020-01-01</td>\n",
              "      <td>6037</td>\n",
              "      <td>-25.0</td>\n",
              "      <td>-78.0</td>\n",
              "      <td>0.337324</td>\n",
              "      <td>0.039126</td>\n",
              "      <td>0.107800</td>\n",
              "    </tr>\n",
              "    <tr>\n",
              "      <th>5081</th>\n",
              "      <td>2020-01-02</td>\n",
              "      <td>6037</td>\n",
              "      <td>-24.0</td>\n",
              "      <td>-77.0</td>\n",
              "      <td>0.269087</td>\n",
              "      <td>0.077716</td>\n",
              "      <td>0.144000</td>\n",
              "    </tr>\n",
              "    <tr>\n",
              "      <th>7698</th>\n",
              "      <td>2020-01-03</td>\n",
              "      <td>6037</td>\n",
              "      <td>-23.0</td>\n",
              "      <td>-76.0</td>\n",
              "      <td>0.260006</td>\n",
              "      <td>0.084165</td>\n",
              "      <td>0.148843</td>\n",
              "    </tr>\n",
              "    <tr>\n",
              "      <th>10316</th>\n",
              "      <td>2020-01-04</td>\n",
              "      <td>6037</td>\n",
              "      <td>-22.0</td>\n",
              "      <td>-75.0</td>\n",
              "      <td>0.280205</td>\n",
              "      <td>0.062377</td>\n",
              "      <td>0.129657</td>\n",
              "    </tr>\n",
              "    <tr>\n",
              "      <th>12934</th>\n",
              "      <td>2020-01-05</td>\n",
              "      <td>6037</td>\n",
              "      <td>-21.0</td>\n",
              "      <td>-74.0</td>\n",
              "      <td>0.311160</td>\n",
              "      <td>0.052540</td>\n",
              "      <td>0.102171</td>\n",
              "    </tr>\n",
              "  </tbody>\n",
              "</table>\n",
              "</div>"
            ],
            "text/plain": [
              "            date  ...  full_time_work_device_percentage\n",
              "2464  2020-01-01  ...                          0.107800\n",
              "5081  2020-01-02  ...                          0.144000\n",
              "7698  2020-01-03  ...                          0.148843\n",
              "10316 2020-01-04  ...                          0.129657\n",
              "12934 2020-01-05  ...                          0.102171\n",
              "\n",
              "[5 rows x 7 columns]"
            ]
          },
          "metadata": {
            "tags": []
          },
          "execution_count": 105
        }
      ]
    },
    {
      "cell_type": "code",
      "metadata": {
        "colab_type": "code",
        "id": "4-_U00zW3aYH",
        "colab": {}
      },
      "source": [
        "# merged_data has both # cases in LA county and completely at home % data\n",
        "merged_data = LA_data.merge(LA_cases, left_on=['date','county_code'],\\\n",
        "                            right_on = ['date', 'fips'], how = 'left')"
      ],
      "execution_count": null,
      "outputs": []
    },
    {
      "cell_type": "code",
      "metadata": {
        "colab_type": "code",
        "id": "Y3uIvxVO3aYJ",
        "colab": {
          "base_uri": "https://localhost:8080/",
          "height": 34
        },
        "outputId": "4eecb127-6020-4d58-fda4-7673ece9407f"
      },
      "source": [
        "merged_data.shape"
      ],
      "execution_count": null,
      "outputs": [
        {
          "output_type": "execute_result",
          "data": {
            "text/plain": [
              "(127, 12)"
            ]
          },
          "metadata": {
            "tags": []
          },
          "execution_count": 108
        }
      ]
    },
    {
      "cell_type": "code",
      "metadata": {
        "colab_type": "code",
        "id": "tNHPtwPO3aYL",
        "colab": {
          "base_uri": "https://localhost:8080/",
          "height": 309
        },
        "outputId": "96862f7b-7607-488f-cc24-8757b07a1733"
      },
      "source": [
        "merged_data.head()"
      ],
      "execution_count": null,
      "outputs": [
        {
          "output_type": "execute_result",
          "data": {
            "text/html": [
              "<div>\n",
              "<style scoped>\n",
              "    .dataframe tbody tr th:only-of-type {\n",
              "        vertical-align: middle;\n",
              "    }\n",
              "\n",
              "    .dataframe tbody tr th {\n",
              "        vertical-align: top;\n",
              "    }\n",
              "\n",
              "    .dataframe thead th {\n",
              "        text-align: right;\n",
              "    }\n",
              "</style>\n",
              "<table border=\"1\" class=\"dataframe\">\n",
              "  <thead>\n",
              "    <tr style=\"text-align: right;\">\n",
              "      <th></th>\n",
              "      <th>date</th>\n",
              "      <th>county_code</th>\n",
              "      <th>days_since_first_case</th>\n",
              "      <th>days_since_shelter</th>\n",
              "      <th>home_device_percentage</th>\n",
              "      <th>part_time_work_device_percentage</th>\n",
              "      <th>full_time_work_device_percentage</th>\n",
              "      <th>county</th>\n",
              "      <th>state</th>\n",
              "      <th>fips</th>\n",
              "      <th>cases</th>\n",
              "      <th>deaths</th>\n",
              "    </tr>\n",
              "  </thead>\n",
              "  <tbody>\n",
              "    <tr>\n",
              "      <th>0</th>\n",
              "      <td>2020-01-01</td>\n",
              "      <td>6037</td>\n",
              "      <td>-25.0</td>\n",
              "      <td>-78.0</td>\n",
              "      <td>0.337324</td>\n",
              "      <td>0.039126</td>\n",
              "      <td>0.107800</td>\n",
              "      <td>NaN</td>\n",
              "      <td>NaN</td>\n",
              "      <td>NaN</td>\n",
              "      <td>NaN</td>\n",
              "      <td>NaN</td>\n",
              "    </tr>\n",
              "    <tr>\n",
              "      <th>1</th>\n",
              "      <td>2020-01-02</td>\n",
              "      <td>6037</td>\n",
              "      <td>-24.0</td>\n",
              "      <td>-77.0</td>\n",
              "      <td>0.269087</td>\n",
              "      <td>0.077716</td>\n",
              "      <td>0.144000</td>\n",
              "      <td>NaN</td>\n",
              "      <td>NaN</td>\n",
              "      <td>NaN</td>\n",
              "      <td>NaN</td>\n",
              "      <td>NaN</td>\n",
              "    </tr>\n",
              "    <tr>\n",
              "      <th>2</th>\n",
              "      <td>2020-01-03</td>\n",
              "      <td>6037</td>\n",
              "      <td>-23.0</td>\n",
              "      <td>-76.0</td>\n",
              "      <td>0.260006</td>\n",
              "      <td>0.084165</td>\n",
              "      <td>0.148843</td>\n",
              "      <td>NaN</td>\n",
              "      <td>NaN</td>\n",
              "      <td>NaN</td>\n",
              "      <td>NaN</td>\n",
              "      <td>NaN</td>\n",
              "    </tr>\n",
              "    <tr>\n",
              "      <th>3</th>\n",
              "      <td>2020-01-04</td>\n",
              "      <td>6037</td>\n",
              "      <td>-22.0</td>\n",
              "      <td>-75.0</td>\n",
              "      <td>0.280205</td>\n",
              "      <td>0.062377</td>\n",
              "      <td>0.129657</td>\n",
              "      <td>NaN</td>\n",
              "      <td>NaN</td>\n",
              "      <td>NaN</td>\n",
              "      <td>NaN</td>\n",
              "      <td>NaN</td>\n",
              "    </tr>\n",
              "    <tr>\n",
              "      <th>4</th>\n",
              "      <td>2020-01-05</td>\n",
              "      <td>6037</td>\n",
              "      <td>-21.0</td>\n",
              "      <td>-74.0</td>\n",
              "      <td>0.311160</td>\n",
              "      <td>0.052540</td>\n",
              "      <td>0.102171</td>\n",
              "      <td>NaN</td>\n",
              "      <td>NaN</td>\n",
              "      <td>NaN</td>\n",
              "      <td>NaN</td>\n",
              "      <td>NaN</td>\n",
              "    </tr>\n",
              "  </tbody>\n",
              "</table>\n",
              "</div>"
            ],
            "text/plain": [
              "        date  county_code  days_since_first_case  ...  fips  cases  deaths\n",
              "0 2020-01-01         6037                  -25.0  ...   NaN    NaN     NaN\n",
              "1 2020-01-02         6037                  -24.0  ...   NaN    NaN     NaN\n",
              "2 2020-01-03         6037                  -23.0  ...   NaN    NaN     NaN\n",
              "3 2020-01-04         6037                  -22.0  ...   NaN    NaN     NaN\n",
              "4 2020-01-05         6037                  -21.0  ...   NaN    NaN     NaN\n",
              "\n",
              "[5 rows x 12 columns]"
            ]
          },
          "metadata": {
            "tags": []
          },
          "execution_count": 109
        }
      ]
    },
    {
      "cell_type": "code",
      "metadata": {
        "colab_type": "code",
        "id": "WqzdcvMW3aYN",
        "colab": {
          "base_uri": "https://localhost:8080/",
          "height": 1000
        },
        "outputId": "493c5815-5d0b-4ba6-f105-25d40190f68a"
      },
      "source": [
        "plt.figure(figsize=(7,7))\n",
        "plt.plot(merged_data['days_since_first_case'], merged_data['home_device_percentage'])\n",
        "plt.xlabel(\"days since first case occured\")\n",
        "plt.ylabel(\"percentage of stay at home devices\")\n",
        "plt.ylim(0,1)\n",
        "plt.xlim(-30,120)\n",
        "plt.axvline(days_from_first_case_to_shelter, 0, 1, linestyle = '--', color = \"red\")\n",
        "plt.text(days_from_first_case_to_shelter + 0.5,0.5,'the day when shelter in place was issued',rotation=25)\n",
        "\n",
        "plt.figure(figsize=(7,7))\n",
        "plt.plot(merged_data['days_since_first_case'], merged_data['part_time_work_device_percentage'])\n",
        "plt.xlabel(\"days since first case occured\")\n",
        "plt.ylabel(\"part_time_work_device_percentage\")\n",
        "plt.ylim(0,0.2)\n",
        "plt.xlim(-30,120)\n",
        "plt.axvline(days_from_first_case_to_shelter, 0, 1, linestyle = '--', color = \"red\")\n",
        "plt.text(days_from_first_case_to_shelter + 0.5,0.1,'the day when shelter in place was issued',rotation=25)\n",
        "plt.show()\n",
        "\n",
        "plt.figure(figsize=(7,7))\n",
        "plt.plot(merged_data['days_since_first_case'], merged_data['full_time_work_device_percentage'])\n",
        "plt.xlabel(\"days since first case occured\")\n",
        "plt.ylabel(\"full_time_work_device_percentage\")\n",
        "plt.ylim(0,0.3)\n",
        "plt.xlim(-30,120)\n",
        "plt.axvline(days_from_first_case_to_shelter, 0, 1, linestyle = '--', color = \"red\")\n",
        "plt.text(days_from_first_case_to_shelter + 0.5,0.2,'the day when shelter in place was issued',rotation=25)\n",
        "plt.show()\n",
        "\n",
        "plt.figure(figsize=(7,7))\n",
        "plt.xlim(-30,120)\n",
        "plt.plot(merged_data['days_since_first_case'],merged_data['cases'])\n",
        "plt.xlabel(\"days since first case occured\")\n",
        "plt.ylabel(\"number of total cases in LA county\")\n",
        "plt.show()\n",
        "\n",
        "plt.figure(figsize=(7,7))\n",
        "plt.xlim(-30,120)\n",
        "plt.plot(merged_data['days_since_first_case'],merged_data['deaths'])\n",
        "plt.xlabel(\"days since first case occured\")\n",
        "plt.ylabel(\"number of total death in LA county\")\n",
        "plt.show()"
      ],
      "execution_count": null,
      "outputs": [
        {
          "output_type": "display_data",
          "data": {
            "image/png": "[encoded data removed]",
            "text/plain": [
              "<Figure size 504x504 with 1 Axes>"
            ]
          },
          "metadata": {
            "tags": [],
            "needs_background": "light"
          }
        },
        {
          "output_type": "display_data",
          "data": {
            "image/png": "[encoded data removed]",
            "text/plain": [
              "<Figure size 504x504 with 1 Axes>"
            ]
          },
          "metadata": {
            "tags": [],
            "needs_background": "light"
          }
        },
        {
          "output_type": "display_data",
          "data": {
            "image/png": "[encoded data removed]",
            "text/plain": [
              "<Figure size 504x504 with 1 Axes>"
            ]
          },
          "metadata": {
            "tags": [],
            "needs_background": "light"
          }
        },
        {
          "output_type": "display_data",
          "data": {
            "image/png": "[encoded data removed]",
            "text/plain": [
              "<Figure size 504x504 with 1 Axes>"
            ]
          },
          "metadata": {
            "tags": [],
            "needs_background": "light"
          }
        },
        {
          "output_type": "display_data",
          "data": {
            "image/png": "[encoded data removed]",
            "text/plain": [
              "<Figure size 504x504 with 1 Axes>"
            ]
          },
          "metadata": {
            "tags": [],
            "needs_background": "light"
          }
        }
      ]
    },
    {
      "cell_type": "markdown",
      "metadata": {
        "id": "ZXA2Hs845Xdi",
        "colab_type": "text"
      },
      "source": [
        "We can see that % of stay at home changes dramatically about 5 days before the shelter in place order from government, but # cases didn't rise that much (a little bit) from day 45 to 50. Seems like LA county people is more precautious than King county people -- **they start to stay at home even before the cases start to rise.** Maybe this is because other parts of the country has a lot of cases, so people in LA becomes precautious even when LA doesn't have a lot of cases yet. "
      ]
    },
    {
      "cell_type": "markdown",
      "metadata": {
        "id": "JIieLIEjJDuX",
        "colab_type": "text"
      },
      "source": [
        "# 3. Investigation of data from New York City."
      ]
    },
    {
      "cell_type": "code",
      "metadata": {
        "id": "5sWij-6Fl3Ge",
        "colab_type": "code",
        "colab": {
          "base_uri": "https://localhost:8080/",
          "height": 411
        },
        "outputId": "5617a314-3040-4d6e-95ea-9a60f9dec947"
      },
      "source": [
        "data.head()"
      ],
      "execution_count": null,
      "outputs": [
        {
          "output_type": "execute_result",
          "data": {
            "text/html": [
              "<div>\n",
              "<style scoped>\n",
              "    .dataframe tbody tr th:only-of-type {\n",
              "        vertical-align: middle;\n",
              "    }\n",
              "\n",
              "    .dataframe tbody tr th {\n",
              "        vertical-align: top;\n",
              "    }\n",
              "\n",
              "    .dataframe thead th {\n",
              "        text-align: right;\n",
              "    }\n",
              "</style>\n",
              "<table border=\"1\" class=\"dataframe\">\n",
              "  <thead>\n",
              "    <tr style=\"text-align: right;\">\n",
              "      <th></th>\n",
              "      <th>Unnamed: 0</th>\n",
              "      <th>date_range_start</th>\n",
              "      <th>date_range_end</th>\n",
              "      <th>state</th>\n",
              "      <th>state_code</th>\n",
              "      <th>cnamelong</th>\n",
              "      <th>county_code</th>\n",
              "      <th>days_since_first_case</th>\n",
              "      <th>days_since_shelter</th>\n",
              "      <th>candidate_device_count</th>\n",
              "      <th>device_count</th>\n",
              "      <th>completely_home_device_count</th>\n",
              "      <th>part_time_work_behavior_devices</th>\n",
              "      <th>full_time_work_behavior_devices</th>\n",
              "      <th>delivery_behavior_devices</th>\n",
              "      <th>median_home_dwell_time</th>\n",
              "      <th>median_non_home_dwell_time</th>\n",
              "      <th>median_percentage_time_home</th>\n",
              "      <th>distance_traveled_from_home</th>\n",
              "    </tr>\n",
              "  </thead>\n",
              "  <tbody>\n",
              "    <tr>\n",
              "      <th>0</th>\n",
              "      <td>0</td>\n",
              "      <td>2020-01-01T00:00:00-04:00</td>\n",
              "      <td>2020-01-02T00:00:00-04:00</td>\n",
              "      <td>23.0</td>\n",
              "      <td>ME</td>\n",
              "      <td>Aroostook County</td>\n",
              "      <td>23003</td>\n",
              "      <td>-93.0</td>\n",
              "      <td>-91.0</td>\n",
              "      <td>0.0</td>\n",
              "      <td>56</td>\n",
              "      <td>20</td>\n",
              "      <td>5</td>\n",
              "      <td>7</td>\n",
              "      <td>0.0</td>\n",
              "      <td>477.000000</td>\n",
              "      <td>NaN</td>\n",
              "      <td>NaN</td>\n",
              "      <td>22780.000000</td>\n",
              "    </tr>\n",
              "    <tr>\n",
              "      <th>1</th>\n",
              "      <td>1</td>\n",
              "      <td>2020-01-01T00:00:00-04:00</td>\n",
              "      <td>2020-01-02T00:00:00-04:00</td>\n",
              "      <td>23.0</td>\n",
              "      <td>ME</td>\n",
              "      <td>Washington County</td>\n",
              "      <td>23029</td>\n",
              "      <td>-93.0</td>\n",
              "      <td>-91.0</td>\n",
              "      <td>0.0</td>\n",
              "      <td>156</td>\n",
              "      <td>68</td>\n",
              "      <td>5</td>\n",
              "      <td>24</td>\n",
              "      <td>0.0</td>\n",
              "      <td>280.461538</td>\n",
              "      <td>NaN</td>\n",
              "      <td>NaN</td>\n",
              "      <td>89197.250000</td>\n",
              "    </tr>\n",
              "    <tr>\n",
              "      <th>2</th>\n",
              "      <td>2</td>\n",
              "      <td>2020-01-01T00:00:00-04:00</td>\n",
              "      <td>2020-01-02T00:00:00-04:00</td>\n",
              "      <td>72.0</td>\n",
              "      <td>PR</td>\n",
              "      <td>Adjuntas Municipio</td>\n",
              "      <td>72001</td>\n",
              "      <td>-75.0</td>\n",
              "      <td>-74.0</td>\n",
              "      <td>0.0</td>\n",
              "      <td>241</td>\n",
              "      <td>115</td>\n",
              "      <td>14</td>\n",
              "      <td>19</td>\n",
              "      <td>0.0</td>\n",
              "      <td>890.377593</td>\n",
              "      <td>NaN</td>\n",
              "      <td>NaN</td>\n",
              "      <td>140597.925311</td>\n",
              "    </tr>\n",
              "    <tr>\n",
              "      <th>3</th>\n",
              "      <td>3</td>\n",
              "      <td>2020-01-01T00:00:00-04:00</td>\n",
              "      <td>2020-01-02T00:00:00-04:00</td>\n",
              "      <td>72.0</td>\n",
              "      <td>PR</td>\n",
              "      <td>Aguada Municipio</td>\n",
              "      <td>72003</td>\n",
              "      <td>-75.0</td>\n",
              "      <td>-74.0</td>\n",
              "      <td>0.0</td>\n",
              "      <td>697</td>\n",
              "      <td>327</td>\n",
              "      <td>40</td>\n",
              "      <td>59</td>\n",
              "      <td>0.0</td>\n",
              "      <td>775.674319</td>\n",
              "      <td>NaN</td>\n",
              "      <td>NaN</td>\n",
              "      <td>60138.741750</td>\n",
              "    </tr>\n",
              "    <tr>\n",
              "      <th>4</th>\n",
              "      <td>4</td>\n",
              "      <td>2020-01-01T00:00:00-04:00</td>\n",
              "      <td>2020-01-02T00:00:00-04:00</td>\n",
              "      <td>72.0</td>\n",
              "      <td>PR</td>\n",
              "      <td>Aguadilla Municipio</td>\n",
              "      <td>72005</td>\n",
              "      <td>-75.0</td>\n",
              "      <td>-74.0</td>\n",
              "      <td>0.0</td>\n",
              "      <td>1103</td>\n",
              "      <td>518</td>\n",
              "      <td>55</td>\n",
              "      <td>98</td>\n",
              "      <td>0.0</td>\n",
              "      <td>740.937443</td>\n",
              "      <td>NaN</td>\n",
              "      <td>NaN</td>\n",
              "      <td>8579.466002</td>\n",
              "    </tr>\n",
              "  </tbody>\n",
              "</table>\n",
              "</div>"
            ],
            "text/plain": [
              "   Unnamed: 0  ... distance_traveled_from_home\n",
              "0           0  ...                22780.000000\n",
              "1           1  ...                89197.250000\n",
              "2           2  ...               140597.925311\n",
              "3           3  ...                60138.741750\n",
              "4           4  ...                 8579.466002\n",
              "\n",
              "[5 rows x 19 columns]"
            ]
          },
          "metadata": {
            "tags": []
          },
          "execution_count": 6
        }
      ]
    },
    {
      "cell_type": "code",
      "metadata": {
        "colab_type": "code",
        "id": "9XbNJmUnl3b2",
        "colab": {}
      },
      "source": [
        "# 36061 is county code of a New York City region\n",
        "# New York City has very complicated region codes...\n",
        "NY_data = data[data['county_code'] == 36061]"
      ],
      "execution_count": 8,
      "outputs": []
    },
    {
      "cell_type": "code",
      "metadata": {
        "colab_type": "code",
        "id": "FYB32Eihl3cM",
        "colab": {}
      },
      "source": [
        "days_from_first_case_to_shelter = NY_data.iloc[0]['days_since_first_case'] - LA_data.iloc[0]['days_since_shelter']"
      ],
      "execution_count": 9,
      "outputs": []
    },
    {
      "cell_type": "code",
      "metadata": {
        "colab_type": "code",
        "id": "Str1Hgwsl3cX",
        "colab": {
          "base_uri": "https://localhost:8080/",
          "height": 411
        },
        "outputId": "74b23984-f060-4e6e-a644-2129191c74e1"
      },
      "source": [
        "NY_data.head()"
      ],
      "execution_count": 10,
      "outputs": [
        {
          "output_type": "execute_result",
          "data": {
            "text/html": [
              "<div>\n",
              "<style scoped>\n",
              "    .dataframe tbody tr th:only-of-type {\n",
              "        vertical-align: middle;\n",
              "    }\n",
              "\n",
              "    .dataframe tbody tr th {\n",
              "        vertical-align: top;\n",
              "    }\n",
              "\n",
              "    .dataframe thead th {\n",
              "        text-align: right;\n",
              "    }\n",
              "</style>\n",
              "<table border=\"1\" class=\"dataframe\">\n",
              "  <thead>\n",
              "    <tr style=\"text-align: right;\">\n",
              "      <th></th>\n",
              "      <th>Unnamed: 0</th>\n",
              "      <th>date_range_start</th>\n",
              "      <th>date_range_end</th>\n",
              "      <th>state</th>\n",
              "      <th>state_code</th>\n",
              "      <th>cnamelong</th>\n",
              "      <th>county_code</th>\n",
              "      <th>days_since_first_case</th>\n",
              "      <th>days_since_shelter</th>\n",
              "      <th>candidate_device_count</th>\n",
              "      <th>device_count</th>\n",
              "      <th>completely_home_device_count</th>\n",
              "      <th>part_time_work_behavior_devices</th>\n",
              "      <th>full_time_work_behavior_devices</th>\n",
              "      <th>delivery_behavior_devices</th>\n",
              "      <th>median_home_dwell_time</th>\n",
              "      <th>median_non_home_dwell_time</th>\n",
              "      <th>median_percentage_time_home</th>\n",
              "      <th>distance_traveled_from_home</th>\n",
              "      <th>home_device_percentage</th>\n",
              "      <th>part_time_work_device_percentage</th>\n",
              "      <th>full_time_work_device_percentage</th>\n",
              "      <th>delivery_device_percentage</th>\n",
              "    </tr>\n",
              "  </thead>\n",
              "  <tbody>\n",
              "    <tr>\n",
              "      <th>664</th>\n",
              "      <td>664</td>\n",
              "      <td>2020-01-01T00:00:00-05:00</td>\n",
              "      <td>2020-01-02T00:00:00-05:00</td>\n",
              "      <td>36.0</td>\n",
              "      <td>NY</td>\n",
              "      <td>New York County</td>\n",
              "      <td>36061</td>\n",
              "      <td>-61.0</td>\n",
              "      <td>-81.0</td>\n",
              "      <td>0.0</td>\n",
              "      <td>58983</td>\n",
              "      <td>19650</td>\n",
              "      <td>2597</td>\n",
              "      <td>7140</td>\n",
              "      <td>0.0</td>\n",
              "      <td>494.304155</td>\n",
              "      <td>NaN</td>\n",
              "      <td>NaN</td>\n",
              "      <td>18274.778835</td>\n",
              "      <td>0.333147</td>\n",
              "      <td>0.044030</td>\n",
              "      <td>0.121052</td>\n",
              "      <td>0.0</td>\n",
              "    </tr>\n",
              "    <tr>\n",
              "      <th>3279</th>\n",
              "      <td>3279</td>\n",
              "      <td>2020-01-02T00:00:00-05:00</td>\n",
              "      <td>2020-01-03T00:00:00-05:00</td>\n",
              "      <td>36.0</td>\n",
              "      <td>NY</td>\n",
              "      <td>New York County</td>\n",
              "      <td>36061</td>\n",
              "      <td>-60.0</td>\n",
              "      <td>-80.0</td>\n",
              "      <td>0.0</td>\n",
              "      <td>57134</td>\n",
              "      <td>15304</td>\n",
              "      <td>5538</td>\n",
              "      <td>10385</td>\n",
              "      <td>0.0</td>\n",
              "      <td>480.543214</td>\n",
              "      <td>NaN</td>\n",
              "      <td>NaN</td>\n",
              "      <td>11335.163895</td>\n",
              "      <td>0.267862</td>\n",
              "      <td>0.096930</td>\n",
              "      <td>0.181766</td>\n",
              "      <td>0.0</td>\n",
              "    </tr>\n",
              "    <tr>\n",
              "      <th>5897</th>\n",
              "      <td>5897</td>\n",
              "      <td>2020-01-03T00:00:00-05:00</td>\n",
              "      <td>2020-01-04T00:00:00-05:00</td>\n",
              "      <td>36.0</td>\n",
              "      <td>NY</td>\n",
              "      <td>New York County</td>\n",
              "      <td>36061</td>\n",
              "      <td>-59.0</td>\n",
              "      <td>-79.0</td>\n",
              "      <td>0.0</td>\n",
              "      <td>57942</td>\n",
              "      <td>15540</td>\n",
              "      <td>5713</td>\n",
              "      <td>10213</td>\n",
              "      <td>0.0</td>\n",
              "      <td>481.440906</td>\n",
              "      <td>NaN</td>\n",
              "      <td>NaN</td>\n",
              "      <td>9623.461289</td>\n",
              "      <td>0.268199</td>\n",
              "      <td>0.098599</td>\n",
              "      <td>0.176262</td>\n",
              "      <td>0.0</td>\n",
              "    </tr>\n",
              "    <tr>\n",
              "      <th>8514</th>\n",
              "      <td>8514</td>\n",
              "      <td>2020-01-04T00:00:00-05:00</td>\n",
              "      <td>2020-01-05T00:00:00-05:00</td>\n",
              "      <td>36.0</td>\n",
              "      <td>NY</td>\n",
              "      <td>New York County</td>\n",
              "      <td>36061</td>\n",
              "      <td>-58.0</td>\n",
              "      <td>-78.0</td>\n",
              "      <td>0.0</td>\n",
              "      <td>57070</td>\n",
              "      <td>17898</td>\n",
              "      <td>3310</td>\n",
              "      <td>7625</td>\n",
              "      <td>0.0</td>\n",
              "      <td>508.651498</td>\n",
              "      <td>NaN</td>\n",
              "      <td>NaN</td>\n",
              "      <td>10219.951779</td>\n",
              "      <td>0.313615</td>\n",
              "      <td>0.057999</td>\n",
              "      <td>0.133608</td>\n",
              "      <td>0.0</td>\n",
              "    </tr>\n",
              "    <tr>\n",
              "      <th>11131</th>\n",
              "      <td>11131</td>\n",
              "      <td>2020-01-05T00:00:00-05:00</td>\n",
              "      <td>2020-01-06T00:00:00-05:00</td>\n",
              "      <td>36.0</td>\n",
              "      <td>NY</td>\n",
              "      <td>New York County</td>\n",
              "      <td>36061</td>\n",
              "      <td>-57.0</td>\n",
              "      <td>-77.0</td>\n",
              "      <td>0.0</td>\n",
              "      <td>57637</td>\n",
              "      <td>20871</td>\n",
              "      <td>3281</td>\n",
              "      <td>6779</td>\n",
              "      <td>0.0</td>\n",
              "      <td>559.901157</td>\n",
              "      <td>NaN</td>\n",
              "      <td>NaN</td>\n",
              "      <td>9592.001301</td>\n",
              "      <td>0.362111</td>\n",
              "      <td>0.056925</td>\n",
              "      <td>0.117615</td>\n",
              "      <td>0.0</td>\n",
              "    </tr>\n",
              "  </tbody>\n",
              "</table>\n",
              "</div>"
            ],
            "text/plain": [
              "       Unnamed: 0  ... delivery_device_percentage\n",
              "664           664  ...                        0.0\n",
              "3279         3279  ...                        0.0\n",
              "5897         5897  ...                        0.0\n",
              "8514         8514  ...                        0.0\n",
              "11131       11131  ...                        0.0\n",
              "\n",
              "[5 rows x 23 columns]"
            ]
          },
          "metadata": {
            "tags": []
          },
          "execution_count": 10
        }
      ]
    },
    {
      "cell_type": "code",
      "metadata": {
        "colab_type": "code",
        "id": "2QW7P6ofl3cs",
        "colab": {}
      },
      "source": [
        "NY_cases = df_cases[df_cases['county'] == 'New York City']"
      ],
      "execution_count": 11,
      "outputs": []
    },
    {
      "cell_type": "code",
      "metadata": {
        "id": "0Ksy1D0fm33n",
        "colab_type": "code",
        "colab": {
          "base_uri": "https://localhost:8080/",
          "height": 419
        },
        "outputId": "6e5ae2da-d5a3-4fb8-93a4-fa9e54f1169a"
      },
      "source": [
        "df_cases[df_cases['county'] == 'New York City']"
      ],
      "execution_count": 12,
      "outputs": [
        {
          "output_type": "execute_result",
          "data": {
            "text/html": [
              "<div>\n",
              "<style scoped>\n",
              "    .dataframe tbody tr th:only-of-type {\n",
              "        vertical-align: middle;\n",
              "    }\n",
              "\n",
              "    .dataframe tbody tr th {\n",
              "        vertical-align: top;\n",
              "    }\n",
              "\n",
              "    .dataframe thead th {\n",
              "        text-align: right;\n",
              "    }\n",
              "</style>\n",
              "<table border=\"1\" class=\"dataframe\">\n",
              "  <thead>\n",
              "    <tr style=\"text-align: right;\">\n",
              "      <th></th>\n",
              "      <th>date</th>\n",
              "      <th>county</th>\n",
              "      <th>state</th>\n",
              "      <th>fips</th>\n",
              "      <th>cases</th>\n",
              "      <th>deaths</th>\n",
              "    </tr>\n",
              "  </thead>\n",
              "  <tbody>\n",
              "    <tr>\n",
              "      <th>416</th>\n",
              "      <td>2020-03-01</td>\n",
              "      <td>New York City</td>\n",
              "      <td>New York</td>\n",
              "      <td>NaN</td>\n",
              "      <td>1</td>\n",
              "      <td>0</td>\n",
              "    </tr>\n",
              "    <tr>\n",
              "      <th>448</th>\n",
              "      <td>2020-03-02</td>\n",
              "      <td>New York City</td>\n",
              "      <td>New York</td>\n",
              "      <td>NaN</td>\n",
              "      <td>1</td>\n",
              "      <td>0</td>\n",
              "    </tr>\n",
              "    <tr>\n",
              "      <th>482</th>\n",
              "      <td>2020-03-03</td>\n",
              "      <td>New York City</td>\n",
              "      <td>New York</td>\n",
              "      <td>NaN</td>\n",
              "      <td>2</td>\n",
              "      <td>0</td>\n",
              "    </tr>\n",
              "    <tr>\n",
              "      <th>518</th>\n",
              "      <td>2020-03-04</td>\n",
              "      <td>New York City</td>\n",
              "      <td>New York</td>\n",
              "      <td>NaN</td>\n",
              "      <td>2</td>\n",
              "      <td>0</td>\n",
              "    </tr>\n",
              "    <tr>\n",
              "      <th>565</th>\n",
              "      <td>2020-03-05</td>\n",
              "      <td>New York City</td>\n",
              "      <td>New York</td>\n",
              "      <td>NaN</td>\n",
              "      <td>4</td>\n",
              "      <td>0</td>\n",
              "    </tr>\n",
              "    <tr>\n",
              "      <th>...</th>\n",
              "      <td>...</td>\n",
              "      <td>...</td>\n",
              "      <td>...</td>\n",
              "      <td>...</td>\n",
              "      <td>...</td>\n",
              "      <td>...</td>\n",
              "    </tr>\n",
              "    <tr>\n",
              "      <th>128552</th>\n",
              "      <td>2020-05-09</td>\n",
              "      <td>New York City</td>\n",
              "      <td>New York</td>\n",
              "      <td>NaN</td>\n",
              "      <td>188663</td>\n",
              "      <td>19324</td>\n",
              "    </tr>\n",
              "    <tr>\n",
              "      <th>131463</th>\n",
              "      <td>2020-05-10</td>\n",
              "      <td>New York City</td>\n",
              "      <td>New York</td>\n",
              "      <td>NaN</td>\n",
              "      <td>189656</td>\n",
              "      <td>19436</td>\n",
              "    </tr>\n",
              "    <tr>\n",
              "      <th>134375</th>\n",
              "      <td>2020-05-11</td>\n",
              "      <td>New York City</td>\n",
              "      <td>New York</td>\n",
              "      <td>NaN</td>\n",
              "      <td>190546</td>\n",
              "      <td>19563</td>\n",
              "    </tr>\n",
              "    <tr>\n",
              "      <th>137288</th>\n",
              "      <td>2020-05-12</td>\n",
              "      <td>New York City</td>\n",
              "      <td>New York</td>\n",
              "      <td>NaN</td>\n",
              "      <td>191320</td>\n",
              "      <td>19736</td>\n",
              "    </tr>\n",
              "    <tr>\n",
              "      <th>140207</th>\n",
              "      <td>2020-05-13</td>\n",
              "      <td>New York City</td>\n",
              "      <td>New York</td>\n",
              "      <td>NaN</td>\n",
              "      <td>192394</td>\n",
              "      <td>19815</td>\n",
              "    </tr>\n",
              "  </tbody>\n",
              "</table>\n",
              "<p>74 rows × 6 columns</p>\n",
              "</div>"
            ],
            "text/plain": [
              "              date         county     state  fips   cases  deaths\n",
              "416     2020-03-01  New York City  New York   NaN       1       0\n",
              "448     2020-03-02  New York City  New York   NaN       1       0\n",
              "482     2020-03-03  New York City  New York   NaN       2       0\n",
              "518     2020-03-04  New York City  New York   NaN       2       0\n",
              "565     2020-03-05  New York City  New York   NaN       4       0\n",
              "...            ...            ...       ...   ...     ...     ...\n",
              "128552  2020-05-09  New York City  New York   NaN  188663   19324\n",
              "131463  2020-05-10  New York City  New York   NaN  189656   19436\n",
              "134375  2020-05-11  New York City  New York   NaN  190546   19563\n",
              "137288  2020-05-12  New York City  New York   NaN  191320   19736\n",
              "140207  2020-05-13  New York City  New York   NaN  192394   19815\n",
              "\n",
              "[74 rows x 6 columns]"
            ]
          },
          "metadata": {
            "tags": []
          },
          "execution_count": 12
        }
      ]
    },
    {
      "cell_type": "markdown",
      "metadata": {
        "id": "IfWnBlz8Jhpx",
        "colab_type": "text"
      },
      "source": [
        "New York City doesn't have FIPS (county code) in this cases dataset...."
      ]
    },
    {
      "cell_type": "code",
      "metadata": {
        "colab_type": "code",
        "id": "IULaOFfOl3c4",
        "colab": {
          "base_uri": "https://localhost:8080/",
          "height": 419
        },
        "outputId": "62ebb139-d8bc-4ca8-c41a-79834d193fbe"
      },
      "source": [
        "NY_cases"
      ],
      "execution_count": 13,
      "outputs": [
        {
          "output_type": "execute_result",
          "data": {
            "text/html": [
              "<div>\n",
              "<style scoped>\n",
              "    .dataframe tbody tr th:only-of-type {\n",
              "        vertical-align: middle;\n",
              "    }\n",
              "\n",
              "    .dataframe tbody tr th {\n",
              "        vertical-align: top;\n",
              "    }\n",
              "\n",
              "    .dataframe thead th {\n",
              "        text-align: right;\n",
              "    }\n",
              "</style>\n",
              "<table border=\"1\" class=\"dataframe\">\n",
              "  <thead>\n",
              "    <tr style=\"text-align: right;\">\n",
              "      <th></th>\n",
              "      <th>date</th>\n",
              "      <th>county</th>\n",
              "      <th>state</th>\n",
              "      <th>fips</th>\n",
              "      <th>cases</th>\n",
              "      <th>deaths</th>\n",
              "    </tr>\n",
              "  </thead>\n",
              "  <tbody>\n",
              "    <tr>\n",
              "      <th>416</th>\n",
              "      <td>2020-03-01</td>\n",
              "      <td>New York City</td>\n",
              "      <td>New York</td>\n",
              "      <td>NaN</td>\n",
              "      <td>1</td>\n",
              "      <td>0</td>\n",
              "    </tr>\n",
              "    <tr>\n",
              "      <th>448</th>\n",
              "      <td>2020-03-02</td>\n",
              "      <td>New York City</td>\n",
              "      <td>New York</td>\n",
              "      <td>NaN</td>\n",
              "      <td>1</td>\n",
              "      <td>0</td>\n",
              "    </tr>\n",
              "    <tr>\n",
              "      <th>482</th>\n",
              "      <td>2020-03-03</td>\n",
              "      <td>New York City</td>\n",
              "      <td>New York</td>\n",
              "      <td>NaN</td>\n",
              "      <td>2</td>\n",
              "      <td>0</td>\n",
              "    </tr>\n",
              "    <tr>\n",
              "      <th>518</th>\n",
              "      <td>2020-03-04</td>\n",
              "      <td>New York City</td>\n",
              "      <td>New York</td>\n",
              "      <td>NaN</td>\n",
              "      <td>2</td>\n",
              "      <td>0</td>\n",
              "    </tr>\n",
              "    <tr>\n",
              "      <th>565</th>\n",
              "      <td>2020-03-05</td>\n",
              "      <td>New York City</td>\n",
              "      <td>New York</td>\n",
              "      <td>NaN</td>\n",
              "      <td>4</td>\n",
              "      <td>0</td>\n",
              "    </tr>\n",
              "    <tr>\n",
              "      <th>...</th>\n",
              "      <td>...</td>\n",
              "      <td>...</td>\n",
              "      <td>...</td>\n",
              "      <td>...</td>\n",
              "      <td>...</td>\n",
              "      <td>...</td>\n",
              "    </tr>\n",
              "    <tr>\n",
              "      <th>128552</th>\n",
              "      <td>2020-05-09</td>\n",
              "      <td>New York City</td>\n",
              "      <td>New York</td>\n",
              "      <td>NaN</td>\n",
              "      <td>188663</td>\n",
              "      <td>19324</td>\n",
              "    </tr>\n",
              "    <tr>\n",
              "      <th>131463</th>\n",
              "      <td>2020-05-10</td>\n",
              "      <td>New York City</td>\n",
              "      <td>New York</td>\n",
              "      <td>NaN</td>\n",
              "      <td>189656</td>\n",
              "      <td>19436</td>\n",
              "    </tr>\n",
              "    <tr>\n",
              "      <th>134375</th>\n",
              "      <td>2020-05-11</td>\n",
              "      <td>New York City</td>\n",
              "      <td>New York</td>\n",
              "      <td>NaN</td>\n",
              "      <td>190546</td>\n",
              "      <td>19563</td>\n",
              "    </tr>\n",
              "    <tr>\n",
              "      <th>137288</th>\n",
              "      <td>2020-05-12</td>\n",
              "      <td>New York City</td>\n",
              "      <td>New York</td>\n",
              "      <td>NaN</td>\n",
              "      <td>191320</td>\n",
              "      <td>19736</td>\n",
              "    </tr>\n",
              "    <tr>\n",
              "      <th>140207</th>\n",
              "      <td>2020-05-13</td>\n",
              "      <td>New York City</td>\n",
              "      <td>New York</td>\n",
              "      <td>NaN</td>\n",
              "      <td>192394</td>\n",
              "      <td>19815</td>\n",
              "    </tr>\n",
              "  </tbody>\n",
              "</table>\n",
              "<p>74 rows × 6 columns</p>\n",
              "</div>"
            ],
            "text/plain": [
              "              date         county     state  fips   cases  deaths\n",
              "416     2020-03-01  New York City  New York   NaN       1       0\n",
              "448     2020-03-02  New York City  New York   NaN       1       0\n",
              "482     2020-03-03  New York City  New York   NaN       2       0\n",
              "518     2020-03-04  New York City  New York   NaN       2       0\n",
              "565     2020-03-05  New York City  New York   NaN       4       0\n",
              "...            ...            ...       ...   ...     ...     ...\n",
              "128552  2020-05-09  New York City  New York   NaN  188663   19324\n",
              "131463  2020-05-10  New York City  New York   NaN  189656   19436\n",
              "134375  2020-05-11  New York City  New York   NaN  190546   19563\n",
              "137288  2020-05-12  New York City  New York   NaN  191320   19736\n",
              "140207  2020-05-13  New York City  New York   NaN  192394   19815\n",
              "\n",
              "[74 rows x 6 columns]"
            ]
          },
          "metadata": {
            "tags": []
          },
          "execution_count": 13
        }
      ]
    },
    {
      "cell_type": "code",
      "metadata": {
        "colab_type": "code",
        "id": "CSTC_Ddrl3dK",
        "colab": {
          "base_uri": "https://localhost:8080/",
          "height": 221
        },
        "outputId": "d7160f4a-2cc0-4930-a15d-08b919d608fd"
      },
      "source": [
        "from datetime import datetime\n",
        "# convert date column dataframe from a string\n",
        "# to a python date object.\n",
        "NY_cases['date'] = NY_cases['date'].apply(lambda x: datetime.strptime(x[0:10], '%Y-%m-%d'))\n",
        "NY_data['date'] = NY_data['date_range_start'].apply(lambda x: datetime.strptime(x[0:10], '%Y-%m-%d'))"
      ],
      "execution_count": 14,
      "outputs": [
        {
          "output_type": "stream",
          "text": [
            "/usr/local/lib/python3.6/dist-packages/ipykernel_launcher.py:4: SettingWithCopyWarning: \n",
            "A value is trying to be set on a copy of a slice from a DataFrame.\n",
            "Try using .loc[row_indexer,col_indexer] = value instead\n",
            "\n",
            "See the caveats in the documentation: https://pandas.pydata.org/pandas-docs/stable/user_guide/indexing.html#returning-a-view-versus-a-copy\n",
            "  after removing the cwd from sys.path.\n",
            "/usr/local/lib/python3.6/dist-packages/ipykernel_launcher.py:5: SettingWithCopyWarning: \n",
            "A value is trying to be set on a copy of a slice from a DataFrame.\n",
            "Try using .loc[row_indexer,col_indexer] = value instead\n",
            "\n",
            "See the caveats in the documentation: https://pandas.pydata.org/pandas-docs/stable/user_guide/indexing.html#returning-a-view-versus-a-copy\n",
            "  \"\"\"\n"
          ],
          "name": "stderr"
        }
      ]
    },
    {
      "cell_type": "code",
      "metadata": {
        "colab_type": "code",
        "id": "sxB18lFDl3dT",
        "colab": {}
      },
      "source": [
        "# only select the variables we want to study, drop the others.\n",
        "NY_data = \\\n",
        "NY_data[['date','county_code','days_since_first_case','days_since_shelter',\\\n",
        "         'home_device_percentage', 'part_time_work_device_percentage',\\\n",
        "         'full_time_work_device_percentage']]"
      ],
      "execution_count": 15,
      "outputs": []
    },
    {
      "cell_type": "code",
      "metadata": {
        "id": "MBJ6FZiwn6RG",
        "colab_type": "code",
        "colab": {
          "base_uri": "https://localhost:8080/",
          "height": 419
        },
        "outputId": "224bf33f-04c8-4c52-8ab0-d0db05145bc0"
      },
      "source": [
        "NY_cases"
      ],
      "execution_count": 16,
      "outputs": [
        {
          "output_type": "execute_result",
          "data": {
            "text/html": [
              "<div>\n",
              "<style scoped>\n",
              "    .dataframe tbody tr th:only-of-type {\n",
              "        vertical-align: middle;\n",
              "    }\n",
              "\n",
              "    .dataframe tbody tr th {\n",
              "        vertical-align: top;\n",
              "    }\n",
              "\n",
              "    .dataframe thead th {\n",
              "        text-align: right;\n",
              "    }\n",
              "</style>\n",
              "<table border=\"1\" class=\"dataframe\">\n",
              "  <thead>\n",
              "    <tr style=\"text-align: right;\">\n",
              "      <th></th>\n",
              "      <th>date</th>\n",
              "      <th>county</th>\n",
              "      <th>state</th>\n",
              "      <th>fips</th>\n",
              "      <th>cases</th>\n",
              "      <th>deaths</th>\n",
              "    </tr>\n",
              "  </thead>\n",
              "  <tbody>\n",
              "    <tr>\n",
              "      <th>416</th>\n",
              "      <td>2020-03-01</td>\n",
              "      <td>New York City</td>\n",
              "      <td>New York</td>\n",
              "      <td>NaN</td>\n",
              "      <td>1</td>\n",
              "      <td>0</td>\n",
              "    </tr>\n",
              "    <tr>\n",
              "      <th>448</th>\n",
              "      <td>2020-03-02</td>\n",
              "      <td>New York City</td>\n",
              "      <td>New York</td>\n",
              "      <td>NaN</td>\n",
              "      <td>1</td>\n",
              "      <td>0</td>\n",
              "    </tr>\n",
              "    <tr>\n",
              "      <th>482</th>\n",
              "      <td>2020-03-03</td>\n",
              "      <td>New York City</td>\n",
              "      <td>New York</td>\n",
              "      <td>NaN</td>\n",
              "      <td>2</td>\n",
              "      <td>0</td>\n",
              "    </tr>\n",
              "    <tr>\n",
              "      <th>518</th>\n",
              "      <td>2020-03-04</td>\n",
              "      <td>New York City</td>\n",
              "      <td>New York</td>\n",
              "      <td>NaN</td>\n",
              "      <td>2</td>\n",
              "      <td>0</td>\n",
              "    </tr>\n",
              "    <tr>\n",
              "      <th>565</th>\n",
              "      <td>2020-03-05</td>\n",
              "      <td>New York City</td>\n",
              "      <td>New York</td>\n",
              "      <td>NaN</td>\n",
              "      <td>4</td>\n",
              "      <td>0</td>\n",
              "    </tr>\n",
              "    <tr>\n",
              "      <th>...</th>\n",
              "      <td>...</td>\n",
              "      <td>...</td>\n",
              "      <td>...</td>\n",
              "      <td>...</td>\n",
              "      <td>...</td>\n",
              "      <td>...</td>\n",
              "    </tr>\n",
              "    <tr>\n",
              "      <th>128552</th>\n",
              "      <td>2020-05-09</td>\n",
              "      <td>New York City</td>\n",
              "      <td>New York</td>\n",
              "      <td>NaN</td>\n",
              "      <td>188663</td>\n",
              "      <td>19324</td>\n",
              "    </tr>\n",
              "    <tr>\n",
              "      <th>131463</th>\n",
              "      <td>2020-05-10</td>\n",
              "      <td>New York City</td>\n",
              "      <td>New York</td>\n",
              "      <td>NaN</td>\n",
              "      <td>189656</td>\n",
              "      <td>19436</td>\n",
              "    </tr>\n",
              "    <tr>\n",
              "      <th>134375</th>\n",
              "      <td>2020-05-11</td>\n",
              "      <td>New York City</td>\n",
              "      <td>New York</td>\n",
              "      <td>NaN</td>\n",
              "      <td>190546</td>\n",
              "      <td>19563</td>\n",
              "    </tr>\n",
              "    <tr>\n",
              "      <th>137288</th>\n",
              "      <td>2020-05-12</td>\n",
              "      <td>New York City</td>\n",
              "      <td>New York</td>\n",
              "      <td>NaN</td>\n",
              "      <td>191320</td>\n",
              "      <td>19736</td>\n",
              "    </tr>\n",
              "    <tr>\n",
              "      <th>140207</th>\n",
              "      <td>2020-05-13</td>\n",
              "      <td>New York City</td>\n",
              "      <td>New York</td>\n",
              "      <td>NaN</td>\n",
              "      <td>192394</td>\n",
              "      <td>19815</td>\n",
              "    </tr>\n",
              "  </tbody>\n",
              "</table>\n",
              "<p>74 rows × 6 columns</p>\n",
              "</div>"
            ],
            "text/plain": [
              "             date         county     state  fips   cases  deaths\n",
              "416    2020-03-01  New York City  New York   NaN       1       0\n",
              "448    2020-03-02  New York City  New York   NaN       1       0\n",
              "482    2020-03-03  New York City  New York   NaN       2       0\n",
              "518    2020-03-04  New York City  New York   NaN       2       0\n",
              "565    2020-03-05  New York City  New York   NaN       4       0\n",
              "...           ...            ...       ...   ...     ...     ...\n",
              "128552 2020-05-09  New York City  New York   NaN  188663   19324\n",
              "131463 2020-05-10  New York City  New York   NaN  189656   19436\n",
              "134375 2020-05-11  New York City  New York   NaN  190546   19563\n",
              "137288 2020-05-12  New York City  New York   NaN  191320   19736\n",
              "140207 2020-05-13  New York City  New York   NaN  192394   19815\n",
              "\n",
              "[74 rows x 6 columns]"
            ]
          },
          "metadata": {
            "tags": []
          },
          "execution_count": 16
        }
      ]
    },
    {
      "cell_type": "code",
      "metadata": {
        "colab_type": "code",
        "id": "JfZE3NsYl3di",
        "colab": {
          "base_uri": "https://localhost:8080/",
          "height": 204
        },
        "outputId": "2ed4badd-e142-4193-d504-a1387e10bcde"
      },
      "source": [
        "NY_data.head()"
      ],
      "execution_count": 20,
      "outputs": [
        {
          "output_type": "execute_result",
          "data": {
            "text/html": [
              "<div>\n",
              "<style scoped>\n",
              "    .dataframe tbody tr th:only-of-type {\n",
              "        vertical-align: middle;\n",
              "    }\n",
              "\n",
              "    .dataframe tbody tr th {\n",
              "        vertical-align: top;\n",
              "    }\n",
              "\n",
              "    .dataframe thead th {\n",
              "        text-align: right;\n",
              "    }\n",
              "</style>\n",
              "<table border=\"1\" class=\"dataframe\">\n",
              "  <thead>\n",
              "    <tr style=\"text-align: right;\">\n",
              "      <th></th>\n",
              "      <th>date</th>\n",
              "      <th>county_code</th>\n",
              "      <th>days_since_first_case</th>\n",
              "      <th>days_since_shelter</th>\n",
              "      <th>home_device_percentage</th>\n",
              "      <th>part_time_work_device_percentage</th>\n",
              "      <th>full_time_work_device_percentage</th>\n",
              "    </tr>\n",
              "  </thead>\n",
              "  <tbody>\n",
              "    <tr>\n",
              "      <th>664</th>\n",
              "      <td>2020-01-01</td>\n",
              "      <td>36061</td>\n",
              "      <td>-61.0</td>\n",
              "      <td>-81.0</td>\n",
              "      <td>0.333147</td>\n",
              "      <td>0.044030</td>\n",
              "      <td>0.121052</td>\n",
              "    </tr>\n",
              "    <tr>\n",
              "      <th>3279</th>\n",
              "      <td>2020-01-02</td>\n",
              "      <td>36061</td>\n",
              "      <td>-60.0</td>\n",
              "      <td>-80.0</td>\n",
              "      <td>0.267862</td>\n",
              "      <td>0.096930</td>\n",
              "      <td>0.181766</td>\n",
              "    </tr>\n",
              "    <tr>\n",
              "      <th>5897</th>\n",
              "      <td>2020-01-03</td>\n",
              "      <td>36061</td>\n",
              "      <td>-59.0</td>\n",
              "      <td>-79.0</td>\n",
              "      <td>0.268199</td>\n",
              "      <td>0.098599</td>\n",
              "      <td>0.176262</td>\n",
              "    </tr>\n",
              "    <tr>\n",
              "      <th>8514</th>\n",
              "      <td>2020-01-04</td>\n",
              "      <td>36061</td>\n",
              "      <td>-58.0</td>\n",
              "      <td>-78.0</td>\n",
              "      <td>0.313615</td>\n",
              "      <td>0.057999</td>\n",
              "      <td>0.133608</td>\n",
              "    </tr>\n",
              "    <tr>\n",
              "      <th>11131</th>\n",
              "      <td>2020-01-05</td>\n",
              "      <td>36061</td>\n",
              "      <td>-57.0</td>\n",
              "      <td>-77.0</td>\n",
              "      <td>0.362111</td>\n",
              "      <td>0.056925</td>\n",
              "      <td>0.117615</td>\n",
              "    </tr>\n",
              "  </tbody>\n",
              "</table>\n",
              "</div>"
            ],
            "text/plain": [
              "            date  ...  full_time_work_device_percentage\n",
              "664   2020-01-01  ...                          0.121052\n",
              "3279  2020-01-02  ...                          0.181766\n",
              "5897  2020-01-03  ...                          0.176262\n",
              "8514  2020-01-04  ...                          0.133608\n",
              "11131 2020-01-05  ...                          0.117615\n",
              "\n",
              "[5 rows x 7 columns]"
            ]
          },
          "metadata": {
            "tags": []
          },
          "execution_count": 20
        }
      ]
    },
    {
      "cell_type": "code",
      "metadata": {
        "colab_type": "code",
        "id": "RgHsEABml3dm",
        "colab": {}
      },
      "source": [
        "# merged_data has both # cases in New York City county and completely at home % data\n",
        "merged_data = NY_data.merge(NY_cases, left_on=['date'],\\\n",
        "                            right_on = ['date'], how = 'left')"
      ],
      "execution_count": 21,
      "outputs": []
    },
    {
      "cell_type": "code",
      "metadata": {
        "id": "Cr79zqOjKYEh",
        "colab_type": "code",
        "colab": {
          "base_uri": "https://localhost:8080/",
          "height": 694
        },
        "outputId": "7d729a45-9684-41e6-fbfb-277e7a78e46d"
      },
      "source": [
        "merged_data"
      ],
      "execution_count": 22,
      "outputs": [
        {
          "output_type": "execute_result",
          "data": {
            "text/html": [
              "<div>\n",
              "<style scoped>\n",
              "    .dataframe tbody tr th:only-of-type {\n",
              "        vertical-align: middle;\n",
              "    }\n",
              "\n",
              "    .dataframe tbody tr th {\n",
              "        vertical-align: top;\n",
              "    }\n",
              "\n",
              "    .dataframe thead th {\n",
              "        text-align: right;\n",
              "    }\n",
              "</style>\n",
              "<table border=\"1\" class=\"dataframe\">\n",
              "  <thead>\n",
              "    <tr style=\"text-align: right;\">\n",
              "      <th></th>\n",
              "      <th>date</th>\n",
              "      <th>county_code</th>\n",
              "      <th>days_since_first_case</th>\n",
              "      <th>days_since_shelter</th>\n",
              "      <th>home_device_percentage</th>\n",
              "      <th>part_time_work_device_percentage</th>\n",
              "      <th>full_time_work_device_percentage</th>\n",
              "      <th>county</th>\n",
              "      <th>state</th>\n",
              "      <th>fips</th>\n",
              "      <th>cases</th>\n",
              "      <th>deaths</th>\n",
              "    </tr>\n",
              "  </thead>\n",
              "  <tbody>\n",
              "    <tr>\n",
              "      <th>0</th>\n",
              "      <td>2020-01-01</td>\n",
              "      <td>36061</td>\n",
              "      <td>-61.0</td>\n",
              "      <td>-81.0</td>\n",
              "      <td>0.333147</td>\n",
              "      <td>0.044030</td>\n",
              "      <td>0.121052</td>\n",
              "      <td>NaN</td>\n",
              "      <td>NaN</td>\n",
              "      <td>NaN</td>\n",
              "      <td>NaN</td>\n",
              "      <td>NaN</td>\n",
              "    </tr>\n",
              "    <tr>\n",
              "      <th>1</th>\n",
              "      <td>2020-01-02</td>\n",
              "      <td>36061</td>\n",
              "      <td>-60.0</td>\n",
              "      <td>-80.0</td>\n",
              "      <td>0.267862</td>\n",
              "      <td>0.096930</td>\n",
              "      <td>0.181766</td>\n",
              "      <td>NaN</td>\n",
              "      <td>NaN</td>\n",
              "      <td>NaN</td>\n",
              "      <td>NaN</td>\n",
              "      <td>NaN</td>\n",
              "    </tr>\n",
              "    <tr>\n",
              "      <th>2</th>\n",
              "      <td>2020-01-03</td>\n",
              "      <td>36061</td>\n",
              "      <td>-59.0</td>\n",
              "      <td>-79.0</td>\n",
              "      <td>0.268199</td>\n",
              "      <td>0.098599</td>\n",
              "      <td>0.176262</td>\n",
              "      <td>NaN</td>\n",
              "      <td>NaN</td>\n",
              "      <td>NaN</td>\n",
              "      <td>NaN</td>\n",
              "      <td>NaN</td>\n",
              "    </tr>\n",
              "    <tr>\n",
              "      <th>3</th>\n",
              "      <td>2020-01-04</td>\n",
              "      <td>36061</td>\n",
              "      <td>-58.0</td>\n",
              "      <td>-78.0</td>\n",
              "      <td>0.313615</td>\n",
              "      <td>0.057999</td>\n",
              "      <td>0.133608</td>\n",
              "      <td>NaN</td>\n",
              "      <td>NaN</td>\n",
              "      <td>NaN</td>\n",
              "      <td>NaN</td>\n",
              "      <td>NaN</td>\n",
              "    </tr>\n",
              "    <tr>\n",
              "      <th>4</th>\n",
              "      <td>2020-01-05</td>\n",
              "      <td>36061</td>\n",
              "      <td>-57.0</td>\n",
              "      <td>-77.0</td>\n",
              "      <td>0.362111</td>\n",
              "      <td>0.056925</td>\n",
              "      <td>0.117615</td>\n",
              "      <td>NaN</td>\n",
              "      <td>NaN</td>\n",
              "      <td>NaN</td>\n",
              "      <td>NaN</td>\n",
              "      <td>NaN</td>\n",
              "    </tr>\n",
              "    <tr>\n",
              "      <th>...</th>\n",
              "      <td>...</td>\n",
              "      <td>...</td>\n",
              "      <td>...</td>\n",
              "      <td>...</td>\n",
              "      <td>...</td>\n",
              "      <td>...</td>\n",
              "      <td>...</td>\n",
              "      <td>...</td>\n",
              "      <td>...</td>\n",
              "      <td>...</td>\n",
              "      <td>...</td>\n",
              "      <td>...</td>\n",
              "    </tr>\n",
              "    <tr>\n",
              "      <th>122</th>\n",
              "      <td>2020-05-02</td>\n",
              "      <td>36061</td>\n",
              "      <td>61.0</td>\n",
              "      <td>41.0</td>\n",
              "      <td>0.471906</td>\n",
              "      <td>0.033996</td>\n",
              "      <td>0.029841</td>\n",
              "      <td>New York City</td>\n",
              "      <td>New York</td>\n",
              "      <td>NaN</td>\n",
              "      <td>177490.0</td>\n",
              "      <td>18021.0</td>\n",
              "    </tr>\n",
              "    <tr>\n",
              "      <th>123</th>\n",
              "      <td>2020-05-03</td>\n",
              "      <td>36061</td>\n",
              "      <td>62.0</td>\n",
              "      <td>42.0</td>\n",
              "      <td>0.517881</td>\n",
              "      <td>0.036835</td>\n",
              "      <td>0.033211</td>\n",
              "      <td>New York City</td>\n",
              "      <td>New York</td>\n",
              "      <td>NaN</td>\n",
              "      <td>179728.0</td>\n",
              "      <td>18451.0</td>\n",
              "    </tr>\n",
              "    <tr>\n",
              "      <th>124</th>\n",
              "      <td>2020-05-04</td>\n",
              "      <td>36061</td>\n",
              "      <td>63.0</td>\n",
              "      <td>43.0</td>\n",
              "      <td>0.535243</td>\n",
              "      <td>0.037878</td>\n",
              "      <td>0.032770</td>\n",
              "      <td>New York City</td>\n",
              "      <td>New York</td>\n",
              "      <td>NaN</td>\n",
              "      <td>181034.0</td>\n",
              "      <td>18580.0</td>\n",
              "    </tr>\n",
              "    <tr>\n",
              "      <th>125</th>\n",
              "      <td>2020-05-05</td>\n",
              "      <td>36061</td>\n",
              "      <td>64.0</td>\n",
              "      <td>44.0</td>\n",
              "      <td>0.538927</td>\n",
              "      <td>0.037213</td>\n",
              "      <td>0.034313</td>\n",
              "      <td>New York City</td>\n",
              "      <td>New York</td>\n",
              "      <td>NaN</td>\n",
              "      <td>182318.0</td>\n",
              "      <td>18719.0</td>\n",
              "    </tr>\n",
              "    <tr>\n",
              "      <th>126</th>\n",
              "      <td>2020-05-06</td>\n",
              "      <td>36061</td>\n",
              "      <td>65.0</td>\n",
              "      <td>45.0</td>\n",
              "      <td>0.543367</td>\n",
              "      <td>0.040795</td>\n",
              "      <td>0.036437</td>\n",
              "      <td>New York City</td>\n",
              "      <td>New York</td>\n",
              "      <td>NaN</td>\n",
              "      <td>183770.0</td>\n",
              "      <td>18993.0</td>\n",
              "    </tr>\n",
              "  </tbody>\n",
              "</table>\n",
              "<p>127 rows × 12 columns</p>\n",
              "</div>"
            ],
            "text/plain": [
              "          date  county_code  days_since_first_case  ...  fips     cases   deaths\n",
              "0   2020-01-01        36061                  -61.0  ...   NaN       NaN      NaN\n",
              "1   2020-01-02        36061                  -60.0  ...   NaN       NaN      NaN\n",
              "2   2020-01-03        36061                  -59.0  ...   NaN       NaN      NaN\n",
              "3   2020-01-04        36061                  -58.0  ...   NaN       NaN      NaN\n",
              "4   2020-01-05        36061                  -57.0  ...   NaN       NaN      NaN\n",
              "..         ...          ...                    ...  ...   ...       ...      ...\n",
              "122 2020-05-02        36061                   61.0  ...   NaN  177490.0  18021.0\n",
              "123 2020-05-03        36061                   62.0  ...   NaN  179728.0  18451.0\n",
              "124 2020-05-04        36061                   63.0  ...   NaN  181034.0  18580.0\n",
              "125 2020-05-05        36061                   64.0  ...   NaN  182318.0  18719.0\n",
              "126 2020-05-06        36061                   65.0  ...   NaN  183770.0  18993.0\n",
              "\n",
              "[127 rows x 12 columns]"
            ]
          },
          "metadata": {
            "tags": []
          },
          "execution_count": 22
        }
      ]
    },
    {
      "cell_type": "code",
      "metadata": {
        "colab_type": "code",
        "id": "yWvnrbV6l3dp",
        "colab": {
          "base_uri": "https://localhost:8080/",
          "height": 34
        },
        "outputId": "ddc139de-3dcf-4747-e11a-60e432f233d5"
      },
      "source": [
        "merged_data.shape"
      ],
      "execution_count": 23,
      "outputs": [
        {
          "output_type": "execute_result",
          "data": {
            "text/plain": [
              "(127, 12)"
            ]
          },
          "metadata": {
            "tags": []
          },
          "execution_count": 23
        }
      ]
    },
    {
      "cell_type": "code",
      "metadata": {
        "colab_type": "code",
        "id": "-B4gpgKhl3dy",
        "colab": {
          "base_uri": "https://localhost:8080/",
          "height": 1000
        },
        "outputId": "9d5f2a64-b656-4e35-8008-b3834eaf4729"
      },
      "source": [
        "plt.figure(figsize=(7,7))\n",
        "plt.plot(merged_data['days_since_first_case'], merged_data['home_device_percentage'])\n",
        "plt.xlabel(\"days since first case occured\")\n",
        "plt.ylabel(\"percentage of stay at home devices\")\n",
        "plt.ylim(0,1)\n",
        "plt.xlim(-50,120)\n",
        "plt.axvline(days_from_first_case_to_shelter, 0, 1, linestyle = '--', color = \"red\")\n",
        "plt.text(days_from_first_case_to_shelter + 0.5,0.5,'the day when shelter in place was issued',rotation=25)\n",
        "\n",
        "plt.figure(figsize=(7,7))\n",
        "plt.plot(merged_data['days_since_first_case'], merged_data['part_time_work_device_percentage'])\n",
        "plt.xlabel(\"days since first case occured\")\n",
        "plt.ylabel(\"part_time_work_device_percentage\")\n",
        "plt.ylim(0,0.2)\n",
        "plt.xlim(-50,120)\n",
        "plt.axvline(days_from_first_case_to_shelter, 0, 1, linestyle = '--', color = \"red\")\n",
        "plt.text(days_from_first_case_to_shelter + 0.5,0.1,'the day when shelter in place was issued',rotation=25)\n",
        "plt.show()\n",
        "\n",
        "plt.figure(figsize=(7,7))\n",
        "plt.plot(merged_data['days_since_first_case'], merged_data['full_time_work_device_percentage'])\n",
        "plt.xlabel(\"days since first case occured\")\n",
        "plt.ylabel(\"full_time_work_device_percentage\")\n",
        "plt.ylim(0,0.3)\n",
        "plt.xlim(-50,120)\n",
        "plt.axvline(days_from_first_case_to_shelter, 0, 1, linestyle = '--', color = \"red\")\n",
        "plt.text(days_from_first_case_to_shelter + 0.5,0.2,'the day when shelter in place was issued',rotation=25)\n",
        "plt.show()\n",
        "\n",
        "plt.figure(figsize=(7,7))\n",
        "plt.xlim(-50,120)\n",
        "plt.plot(merged_data['days_since_first_case'],merged_data['cases'])\n",
        "plt.xlabel(\"days since first case occured\")\n",
        "plt.ylabel(\"number of total cases in New York City county\")\n",
        "plt.show()\n",
        "\n",
        "plt.figure(figsize=(7,7))\n",
        "plt.xlim(-50,120)\n",
        "plt.plot(merged_data['days_since_first_case'],merged_data['deaths'])\n",
        "plt.xlabel(\"days since first case occured\")\n",
        "plt.ylabel(\"number of total death in New York City county\")\n",
        "plt.show()"
      ],
      "execution_count": 25,
      "outputs": [
        {
          "output_type": "display_data",
          "data": {
            "image/png": "[encoded data removed]",
            "text/plain": [
              "<Figure size 504x504 with 1 Axes>"
            ]
          },
          "metadata": {
            "tags": [],
            "needs_background": "light"
          }
        },
        {
          "output_type": "display_data",
          "data": {
            "image/png": "[encoded data removed]",
            "text/plain": [
              "<Figure size 504x504 with 1 Axes>"
            ]
          },
          "metadata": {
            "tags": [],
            "needs_background": "light"
          }
        },
        {
          "output_type": "display_data",
          "data": {
            "image/png": "[encoded data removed]",
            "text/plain": [
              "<Figure size 504x504 with 1 Axes>"
            ]
          },
          "metadata": {
            "tags": [],
            "needs_background": "light"
          }
        },
        {
          "output_type": "display_data",
          "data": {
            "image/png": "[encoded data removed]",
            "text/plain": [
              "<Figure size 504x504 with 1 Axes>"
            ]
          },
          "metadata": {
            "tags": [],
            "needs_background": "light"
          }
        },
        {
          "output_type": "display_data",
          "data": {
            "image/png": "[encoded data removed]",
            "text/plain": [
              "<Figure size 504x504 with 1 Axes>"
            ]
          },
          "metadata": {
            "tags": [],
            "needs_background": "light"
          }
        }
      ]
    },
    {
      "cell_type": "markdown",
      "metadata": {
        "id": "rLML-9UQKyX-",
        "colab_type": "text"
      },
      "source": [
        "We also see from New York City data that people's behavior change even before the stay at home order was issued. (day 0 - 20). Also the cases hasn't rised that much from day 0 to day 20. People are being cautious. "
      ]
    },
    {
      "cell_type": "markdown",
      "metadata": {
        "id": "9VDIzavILB3m",
        "colab_type": "text"
      },
      "source": [
        "# 4. Conclusion:\n",
        "In general people's behavior changes 5 - 20 days prior to the stay at home order was issued in the state/county. In King County, Seattle, people's behavior changed as the number of cases in the county rose. In LA, New York City though, people's behavior changed even before cases started to rise. (probably being extra cautious because there are virus from all over the country)\n"
      ]
    }
  ]
}