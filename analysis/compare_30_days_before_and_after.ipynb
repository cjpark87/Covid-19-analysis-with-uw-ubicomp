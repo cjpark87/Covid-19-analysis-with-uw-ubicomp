{
  "nbformat": 4,
  "nbformat_minor": 0,
  "metadata": {
    "colab": {
      "name": "compare_30_days_before_and_after.ipynb",
      "provenance": [],
      "collapsed_sections": [
        "DU09rVyBuZ3R"
      ],
      "mount_file_id": "1VTVwkIkvbstuaCQR7VWtpF4lmgIM6qzO",
      "authorship_tag": "ABX9TyMjecyd5RAaboq9ObPLWLsn",
      "include_colab_link": true
    },
    "kernelspec": {
      "name": "python3",
      "display_name": "Python 3"
    }
  },
  "cells": [
    {
      "cell_type": "markdown",
      "metadata": {
        "id": "view-in-github",
        "colab_type": "text"
      },
      "source": [
        "<a href=\"https://colab.research.google.com/github/wenjunsun/Covid-19-analysis-with-uw-ubicomp/blob/master/analysis/compare_30_days_before_and_after.ipynb\" target=\"_parent\"><img src=\"https://colab.research.google.com/assets/colab-badge.svg\" alt=\"Open In Colab\"/></a>"
      ]
    },
    {
      "cell_type": "markdown",
      "metadata": {
        "id": "6cT7RbmyqgMZ",
        "colab_type": "text"
      },
      "source": [
        "# What we want to do?\n",
        "In this notebook we want to investigate that how people's behavior in terms of home dwell time, distance traveled, etc changed after the first case of covid happend in their county and after shelter in place was issued in the county/state.\n",
        "\n",
        "Specifically we will compare average behavior data of 30 days before and 30 days after first case/shelter in place.  "
      ]
    },
    {
      "cell_type": "markdown",
      "metadata": {
        "id": "DU09rVyBuZ3R",
        "colab_type": "text"
      },
      "source": [
        "# load data and split it into data that contains 30 days before and 30 days after first case/shelter in place\n"
      ]
    },
    {
      "cell_type": "code",
      "metadata": {
        "id": "XUn3KOPKrlsB",
        "colab_type": "code",
        "colab": {}
      },
      "source": [
        "cd drive/My\\ Drive/COVID\\ 19\\ data\\ analysis"
      ],
      "execution_count": null,
      "outputs": []
    },
    {
      "cell_type": "code",
      "metadata": {
        "id": "cN5yJu5OsNoL",
        "colab_type": "code",
        "colab": {
          "base_uri": "https://localhost:8080/"
        },
        "outputId": "4a05d42e-e0df-4d99-b757-e83d32f5bdde"
      },
      "source": [
        "ls"
      ],
      "execution_count": null,
      "outputs": [
        {
          "output_type": "stream",
          "text": [
            " aggreagate_data_on_county.ipynb\n",
            " agg_social_dist\n",
            " analysis_and_graphs.ipynb\n",
            " compare_30_days_before_and_after.ipynb\n",
            "'Copy of COVID-19 US state policy database.csv'\n",
            " days_since.csv\n",
            " merge_mobility_with_first_case_and_shelter_in_place.ipynb\n",
            " small_data.csv\n",
            " social_dist_all_trimmed.csv\n",
            "'Social Distancing Index Exploration.ipynb'\n",
            " social_dist_with_dates\n",
            " social_dist_with_days_since\n"
          ],
          "name": "stdout"
        }
      ]
    },
    {
      "cell_type": "code",
      "metadata": {
        "id": "b91AmW2zsOJd",
        "colab_type": "code",
        "colab": {}
      },
      "source": [
        "import pandas as pd\n",
        "import numpy as np\n",
        "import matplotlib.pyplot as plt"
      ],
      "execution_count": null,
      "outputs": []
    },
    {
      "cell_type": "code",
      "metadata": {
        "id": "osUYgKh_sTTL",
        "colab_type": "code",
        "colab": {}
      },
      "source": [
        "data = pd.read_csv(\"agg_social_dist\")"
      ],
      "execution_count": null,
      "outputs": []
    },
    {
      "cell_type": "code",
      "metadata": {
        "id": "sial6NtjsYh2",
        "colab_type": "code",
        "colab": {
          "base_uri": "https://localhost:8080/"
        },
        "outputId": "51e9fba5-83f1-420a-9c46-2b8ed58004a6"
      },
      "source": [
        "data.head()"
      ],
      "execution_count": null,
      "outputs": [
        {
          "output_type": "execute_result",
          "data": {
            "text/html": [
              "<div>\n",
              "<style scoped>\n",
              "    .dataframe tbody tr th:only-of-type {\n",
              "        vertical-align: middle;\n",
              "    }\n",
              "\n",
              "    .dataframe tbody tr th {\n",
              "        vertical-align: top;\n",
              "    }\n",
              "\n",
              "    .dataframe thead th {\n",
              "        text-align: right;\n",
              "    }\n",
              "</style>\n",
              "<table border=\"1\" class=\"dataframe\">\n",
              "  <thead>\n",
              "    <tr style=\"text-align: right;\">\n",
              "      <th></th>\n",
              "      <th>Unnamed: 0</th>\n",
              "      <th>date_range_start</th>\n",
              "      <th>date_range_end</th>\n",
              "      <th>state</th>\n",
              "      <th>state_code</th>\n",
              "      <th>cnamelong</th>\n",
              "      <th>county_code</th>\n",
              "      <th>days_since_first_case</th>\n",
              "      <th>days_since_shelter</th>\n",
              "      <th>candidate_device_count</th>\n",
              "      <th>device_count</th>\n",
              "      <th>completely_home_device_count</th>\n",
              "      <th>part_time_work_behavior_devices</th>\n",
              "      <th>full_time_work_behavior_devices</th>\n",
              "      <th>delivery_behavior_devices</th>\n",
              "      <th>median_home_dwell_time</th>\n",
              "      <th>median_non_home_dwell_time</th>\n",
              "      <th>median_percentage_time_home</th>\n",
              "      <th>distance_traveled_from_home</th>\n",
              "    </tr>\n",
              "  </thead>\n",
              "  <tbody>\n",
              "    <tr>\n",
              "      <th>0</th>\n",
              "      <td>0</td>\n",
              "      <td>2020-01-01T00:00:00-04:00</td>\n",
              "      <td>2020-01-02T00:00:00-04:00</td>\n",
              "      <td>23.0</td>\n",
              "      <td>ME</td>\n",
              "      <td>Aroostook County</td>\n",
              "      <td>23003</td>\n",
              "      <td>-93.0</td>\n",
              "      <td>-91.0</td>\n",
              "      <td>0.0</td>\n",
              "      <td>56</td>\n",
              "      <td>20</td>\n",
              "      <td>5</td>\n",
              "      <td>7</td>\n",
              "      <td>0.0</td>\n",
              "      <td>477.000000</td>\n",
              "      <td>NaN</td>\n",
              "      <td>NaN</td>\n",
              "      <td>22780.000000</td>\n",
              "    </tr>\n",
              "    <tr>\n",
              "      <th>1</th>\n",
              "      <td>1</td>\n",
              "      <td>2020-01-01T00:00:00-04:00</td>\n",
              "      <td>2020-01-02T00:00:00-04:00</td>\n",
              "      <td>23.0</td>\n",
              "      <td>ME</td>\n",
              "      <td>Washington County</td>\n",
              "      <td>23029</td>\n",
              "      <td>-93.0</td>\n",
              "      <td>-91.0</td>\n",
              "      <td>0.0</td>\n",
              "      <td>156</td>\n",
              "      <td>68</td>\n",
              "      <td>5</td>\n",
              "      <td>24</td>\n",
              "      <td>0.0</td>\n",
              "      <td>280.461538</td>\n",
              "      <td>NaN</td>\n",
              "      <td>NaN</td>\n",
              "      <td>89197.250000</td>\n",
              "    </tr>\n",
              "    <tr>\n",
              "      <th>2</th>\n",
              "      <td>2</td>\n",
              "      <td>2020-01-01T00:00:00-04:00</td>\n",
              "      <td>2020-01-02T00:00:00-04:00</td>\n",
              "      <td>72.0</td>\n",
              "      <td>PR</td>\n",
              "      <td>Adjuntas Municipio</td>\n",
              "      <td>72001</td>\n",
              "      <td>-75.0</td>\n",
              "      <td>-74.0</td>\n",
              "      <td>0.0</td>\n",
              "      <td>241</td>\n",
              "      <td>115</td>\n",
              "      <td>14</td>\n",
              "      <td>19</td>\n",
              "      <td>0.0</td>\n",
              "      <td>890.377593</td>\n",
              "      <td>NaN</td>\n",
              "      <td>NaN</td>\n",
              "      <td>140597.925311</td>\n",
              "    </tr>\n",
              "    <tr>\n",
              "      <th>3</th>\n",
              "      <td>3</td>\n",
              "      <td>2020-01-01T00:00:00-04:00</td>\n",
              "      <td>2020-01-02T00:00:00-04:00</td>\n",
              "      <td>72.0</td>\n",
              "      <td>PR</td>\n",
              "      <td>Aguada Municipio</td>\n",
              "      <td>72003</td>\n",
              "      <td>-75.0</td>\n",
              "      <td>-74.0</td>\n",
              "      <td>0.0</td>\n",
              "      <td>697</td>\n",
              "      <td>327</td>\n",
              "      <td>40</td>\n",
              "      <td>59</td>\n",
              "      <td>0.0</td>\n",
              "      <td>775.674319</td>\n",
              "      <td>NaN</td>\n",
              "      <td>NaN</td>\n",
              "      <td>60138.741750</td>\n",
              "    </tr>\n",
              "    <tr>\n",
              "      <th>4</th>\n",
              "      <td>4</td>\n",
              "      <td>2020-01-01T00:00:00-04:00</td>\n",
              "      <td>2020-01-02T00:00:00-04:00</td>\n",
              "      <td>72.0</td>\n",
              "      <td>PR</td>\n",
              "      <td>Aguadilla Municipio</td>\n",
              "      <td>72005</td>\n",
              "      <td>-75.0</td>\n",
              "      <td>-74.0</td>\n",
              "      <td>0.0</td>\n",
              "      <td>1103</td>\n",
              "      <td>518</td>\n",
              "      <td>55</td>\n",
              "      <td>98</td>\n",
              "      <td>0.0</td>\n",
              "      <td>740.937443</td>\n",
              "      <td>NaN</td>\n",
              "      <td>NaN</td>\n",
              "      <td>8579.466002</td>\n",
              "    </tr>\n",
              "  </tbody>\n",
              "</table>\n",
              "</div>"
            ],
            "text/plain": [
              "   Unnamed: 0  ... distance_traveled_from_home\n",
              "0           0  ...                22780.000000\n",
              "1           1  ...                89197.250000\n",
              "2           2  ...               140597.925311\n",
              "3           3  ...                60138.741750\n",
              "4           4  ...                 8579.466002\n",
              "\n",
              "[5 rows x 19 columns]"
            ]
          },
          "metadata": {
            "tags": []
          },
          "execution_count": 59
        }
      ]
    },
    {
      "cell_type": "code",
      "metadata": {
        "id": "Jn5-vSOEshP4",
        "colab_type": "code",
        "colab": {
          "base_uri": "https://localhost:8080/"
        },
        "outputId": "54d70d09-6b78-41e6-b77c-4bcfa61a70d4"
      },
      "source": [
        "data.describe()"
      ],
      "execution_count": null,
      "outputs": [
        {
          "output_type": "execute_result",
          "data": {
            "text/html": [
              "<div>\n",
              "<style scoped>\n",
              "    .dataframe tbody tr th:only-of-type {\n",
              "        vertical-align: middle;\n",
              "    }\n",
              "\n",
              "    .dataframe tbody tr th {\n",
              "        vertical-align: top;\n",
              "    }\n",
              "\n",
              "    .dataframe thead th {\n",
              "        text-align: right;\n",
              "    }\n",
              "</style>\n",
              "<table border=\"1\" class=\"dataframe\">\n",
              "  <thead>\n",
              "    <tr style=\"text-align: right;\">\n",
              "      <th></th>\n",
              "      <th>Unnamed: 0</th>\n",
              "      <th>state</th>\n",
              "      <th>county_code</th>\n",
              "      <th>days_since_first_case</th>\n",
              "      <th>days_since_shelter</th>\n",
              "      <th>candidate_device_count</th>\n",
              "      <th>device_count</th>\n",
              "      <th>completely_home_device_count</th>\n",
              "      <th>part_time_work_behavior_devices</th>\n",
              "      <th>full_time_work_behavior_devices</th>\n",
              "      <th>delivery_behavior_devices</th>\n",
              "      <th>median_home_dwell_time</th>\n",
              "      <th>median_non_home_dwell_time</th>\n",
              "      <th>median_percentage_time_home</th>\n",
              "      <th>distance_traveled_from_home</th>\n",
              "    </tr>\n",
              "  </thead>\n",
              "  <tbody>\n",
              "    <tr>\n",
              "      <th>count</th>\n",
              "      <td>332517.000000</td>\n",
              "      <td>332517.000000</td>\n",
              "      <td>332517.000000</td>\n",
              "      <td>332517.000000</td>\n",
              "      <td>332517.000000</td>\n",
              "      <td>332517.000000</td>\n",
              "      <td>332517.000000</td>\n",
              "      <td>332517.000000</td>\n",
              "      <td>332517.000000</td>\n",
              "      <td>332517.000000</td>\n",
              "      <td>332517.000000</td>\n",
              "      <td>332517.000000</td>\n",
              "      <td>31176.000000</td>\n",
              "      <td>31176.000000</td>\n",
              "      <td>3.317900e+05</td>\n",
              "    </tr>\n",
              "    <tr>\n",
              "      <th>mean</th>\n",
              "      <td>166258.000000</td>\n",
              "      <td>31.354210</td>\n",
              "      <td>31461.093737</td>\n",
              "      <td>-22.162524</td>\n",
              "      <td>-24.424057</td>\n",
              "      <td>1411.463203</td>\n",
              "      <td>6395.646917</td>\n",
              "      <td>1856.854477</td>\n",
              "      <td>572.437436</td>\n",
              "      <td>936.502022</td>\n",
              "      <td>15.566645</td>\n",
              "      <td>647.199562</td>\n",
              "      <td>67.799180</td>\n",
              "      <td>86.129466</td>\n",
              "      <td>1.285544e+04</td>\n",
              "    </tr>\n",
              "    <tr>\n",
              "      <th>std</th>\n",
              "      <td>95989.534068</td>\n",
              "      <td>16.683214</td>\n",
              "      <td>16702.117457</td>\n",
              "      <td>39.016301</td>\n",
              "      <td>37.015254</td>\n",
              "      <td>12789.121567</td>\n",
              "      <td>16385.486795</td>\n",
              "      <td>5266.299657</td>\n",
              "      <td>1593.401245</td>\n",
              "      <td>2504.122738</td>\n",
              "      <td>142.151841</td>\n",
              "      <td>155.584514</td>\n",
              "      <td>42.065526</td>\n",
              "      <td>8.482000</td>\n",
              "      <td>1.890418e+04</td>\n",
              "    </tr>\n",
              "    <tr>\n",
              "      <th>min</th>\n",
              "      <td>0.000000</td>\n",
              "      <td>1.000000</td>\n",
              "      <td>1001.000000</td>\n",
              "      <td>-147.000000</td>\n",
              "      <td>-97.000000</td>\n",
              "      <td>0.000000</td>\n",
              "      <td>7.000000</td>\n",
              "      <td>1.000000</td>\n",
              "      <td>1.000000</td>\n",
              "      <td>1.000000</td>\n",
              "      <td>0.000000</td>\n",
              "      <td>0.000000</td>\n",
              "      <td>0.000000</td>\n",
              "      <td>0.000000</td>\n",
              "      <td>1.250000e+02</td>\n",
              "    </tr>\n",
              "    <tr>\n",
              "      <th>25%</th>\n",
              "      <td>83129.000000</td>\n",
              "      <td>18.000000</td>\n",
              "      <td>18079.000000</td>\n",
              "      <td>-54.000000</td>\n",
              "      <td>-56.000000</td>\n",
              "      <td>0.000000</td>\n",
              "      <td>799.000000</td>\n",
              "      <td>199.000000</td>\n",
              "      <td>65.000000</td>\n",
              "      <td>103.000000</td>\n",
              "      <td>0.000000</td>\n",
              "      <td>558.700843</td>\n",
              "      <td>36.982925</td>\n",
              "      <td>81.164699</td>\n",
              "      <td>7.761239e+03</td>\n",
              "    </tr>\n",
              "    <tr>\n",
              "      <th>50%</th>\n",
              "      <td>166258.000000</td>\n",
              "      <td>29.000000</td>\n",
              "      <td>29051.000000</td>\n",
              "      <td>-22.000000</td>\n",
              "      <td>-24.000000</td>\n",
              "      <td>0.000000</td>\n",
              "      <td>1862.000000</td>\n",
              "      <td>480.000000</td>\n",
              "      <td>162.000000</td>\n",
              "      <td>265.000000</td>\n",
              "      <td>0.000000</td>\n",
              "      <td>656.111451</td>\n",
              "      <td>61.152032</td>\n",
              "      <td>86.980927</td>\n",
              "      <td>1.007196e+04</td>\n",
              "    </tr>\n",
              "    <tr>\n",
              "      <th>75%</th>\n",
              "      <td>249387.000000</td>\n",
              "      <td>47.000000</td>\n",
              "      <td>47125.000000</td>\n",
              "      <td>10.000000</td>\n",
              "      <td>7.000000</td>\n",
              "      <td>0.000000</td>\n",
              "      <td>5057.000000</td>\n",
              "      <td>1350.000000</td>\n",
              "      <td>447.000000</td>\n",
              "      <td>737.000000</td>\n",
              "      <td>0.000000</td>\n",
              "      <td>740.948718</td>\n",
              "      <td>92.511675</td>\n",
              "      <td>92.171233</td>\n",
              "      <td>1.381926e+04</td>\n",
              "    </tr>\n",
              "    <tr>\n",
              "      <th>max</th>\n",
              "      <td>332516.000000</td>\n",
              "      <td>72.000000</td>\n",
              "      <td>72153.000000</td>\n",
              "      <td>105.000000</td>\n",
              "      <td>52.000000</td>\n",
              "      <td>918121.000000</td>\n",
              "      <td>412936.000000</td>\n",
              "      <td>182971.000000</td>\n",
              "      <td>53900.000000</td>\n",
              "      <td>70127.000000</td>\n",
              "      <td>14707.000000</td>\n",
              "      <td>1330.578382</td>\n",
              "      <td>554.000000</td>\n",
              "      <td>100.000000</td>\n",
              "      <td>1.211508e+06</td>\n",
              "    </tr>\n",
              "  </tbody>\n",
              "</table>\n",
              "</div>"
            ],
            "text/plain": [
              "          Unnamed: 0  ...  distance_traveled_from_home\n",
              "count  332517.000000  ...                 3.317900e+05\n",
              "mean   166258.000000  ...                 1.285544e+04\n",
              "std     95989.534068  ...                 1.890418e+04\n",
              "min         0.000000  ...                 1.250000e+02\n",
              "25%     83129.000000  ...                 7.761239e+03\n",
              "50%    166258.000000  ...                 1.007196e+04\n",
              "75%    249387.000000  ...                 1.381926e+04\n",
              "max    332516.000000  ...                 1.211508e+06\n",
              "\n",
              "[8 rows x 15 columns]"
            ]
          },
          "metadata": {
            "tags": []
          },
          "execution_count": 60
        }
      ]
    },
    {
      "cell_type": "markdown",
      "metadata": {
        "id": "TukXb5HwvlgE",
        "colab_type": "text"
      },
      "source": [
        "\n",
        "\n",
        "*   We can see that the mean of days_since_first_case is -22. This means that the majority of our data are about before the first case appears in a county\n",
        "*   We can see the mean of device_count = 6395, so on average we measured behaviors of about 6395 people per county. Interesting. However the standard deviation is huge, I guess some counties we have a lot of data on (every person has a phone) and other county less so. The max is 412936 devices, that must be a huge county\n",
        "*   mean home_dwell_time is 647 minutes = 10 hours. interesting. mean percentage_time_home = 86% \n",
        "\n"
      ]
    },
    {
      "cell_type": "code",
      "metadata": {
        "id": "deo8ak2rwpf9",
        "colab_type": "code",
        "colab": {
          "base_uri": "https://localhost:8080/"
        },
        "outputId": "e90b753c-5e92-402e-a53b-1702a2362d5c"
      },
      "source": [
        "# want to see which county we have device_count of 412936\n",
        "data[data['device_count'] == 412936] "
      ],
      "execution_count": null,
      "outputs": [
        {
          "output_type": "execute_result",
          "data": {
            "text/html": [
              "<div>\n",
              "<style scoped>\n",
              "    .dataframe tbody tr th:only-of-type {\n",
              "        vertical-align: middle;\n",
              "    }\n",
              "\n",
              "    .dataframe tbody tr th {\n",
              "        vertical-align: top;\n",
              "    }\n",
              "\n",
              "    .dataframe thead th {\n",
              "        text-align: right;\n",
              "    }\n",
              "</style>\n",
              "<table border=\"1\" class=\"dataframe\">\n",
              "  <thead>\n",
              "    <tr style=\"text-align: right;\">\n",
              "      <th></th>\n",
              "      <th>Unnamed: 0</th>\n",
              "      <th>date_range_start</th>\n",
              "      <th>date_range_end</th>\n",
              "      <th>state</th>\n",
              "      <th>state_code</th>\n",
              "      <th>cnamelong</th>\n",
              "      <th>county_code</th>\n",
              "      <th>days_since_first_case</th>\n",
              "      <th>days_since_shelter</th>\n",
              "      <th>candidate_device_count</th>\n",
              "      <th>device_count</th>\n",
              "      <th>completely_home_device_count</th>\n",
              "      <th>part_time_work_behavior_devices</th>\n",
              "      <th>full_time_work_behavior_devices</th>\n",
              "      <th>delivery_behavior_devices</th>\n",
              "      <th>median_home_dwell_time</th>\n",
              "      <th>median_non_home_dwell_time</th>\n",
              "      <th>median_percentage_time_home</th>\n",
              "      <th>distance_traveled_from_home</th>\n",
              "    </tr>\n",
              "  </thead>\n",
              "  <tbody>\n",
              "    <tr>\n",
              "      <th>164926</th>\n",
              "      <td>164926</td>\n",
              "      <td>2020-03-03T00:00:00-08:00</td>\n",
              "      <td>2020-03-04T00:00:00-08:00</td>\n",
              "      <td>6.0</td>\n",
              "      <td>CA</td>\n",
              "      <td>Los Angeles County</td>\n",
              "      <td>6037</td>\n",
              "      <td>37.0</td>\n",
              "      <td>-16.0</td>\n",
              "      <td>0.0</td>\n",
              "      <td>412936</td>\n",
              "      <td>77251</td>\n",
              "      <td>49619</td>\n",
              "      <td>63421</td>\n",
              "      <td>0.0</td>\n",
              "      <td>564.54298</td>\n",
              "      <td>NaN</td>\n",
              "      <td>NaN</td>\n",
              "      <td>11075.470489</td>\n",
              "    </tr>\n",
              "  </tbody>\n",
              "</table>\n",
              "</div>"
            ],
            "text/plain": [
              "        Unnamed: 0  ... distance_traveled_from_home\n",
              "164926      164926  ...                11075.470489\n",
              "\n",
              "[1 rows x 19 columns]"
            ]
          },
          "metadata": {
            "tags": []
          },
          "execution_count": 61
        }
      ]
    },
    {
      "cell_type": "markdown",
      "metadata": {
        "id": "7RXeEzV_xR1a",
        "colab_type": "text"
      },
      "source": [
        "So we have a lot of devices in LA county which kind of make sense. It is a big county with a lot of people"
      ]
    },
    {
      "cell_type": "code",
      "metadata": {
        "id": "tKwUPVYSstll",
        "colab_type": "code",
        "colab": {}
      },
      "source": [
        "data_of_30_days_before_first_case = data[(data['days_since_first_case'] < 0) & (data['days_since_first_case'] >= -30)]"
      ],
      "execution_count": null,
      "outputs": []
    },
    {
      "cell_type": "code",
      "metadata": {
        "id": "ghooKJJluEfX",
        "colab_type": "code",
        "colab": {}
      },
      "source": [
        "data_of_30_days_after_first_case = data[(data['days_since_first_case'] >= 0) & (data['days_since_first_case'] <= 30)]"
      ],
      "execution_count": null,
      "outputs": []
    },
    {
      "cell_type": "code",
      "metadata": {
        "id": "f_NzX5bLuSZA",
        "colab_type": "code",
        "colab": {}
      },
      "source": [
        "data_of_30_days_before_shelter = data[(data['days_since_shelter'] < 0) & (data['days_since_shelter'] >= -30)]"
      ],
      "execution_count": null,
      "outputs": []
    },
    {
      "cell_type": "code",
      "metadata": {
        "id": "O3i6mM__u3OE",
        "colab_type": "code",
        "colab": {}
      },
      "source": [
        "data_of_30_days_after_shelter = data[(data['days_since_shelter'] >= 0) & (data['days_since_shelter'] <= 30)]"
      ],
      "execution_count": null,
      "outputs": []
    },
    {
      "cell_type": "markdown",
      "metadata": {
        "id": "U-0vGxtyxbyP",
        "colab_type": "text"
      },
      "source": [
        "# Compare data of 30 days before and 30 days after first case"
      ]
    },
    {
      "cell_type": "code",
      "metadata": {
        "id": "TIq69nDju8j7",
        "colab_type": "code",
        "colab": {
          "base_uri": "https://localhost:8080/",
          "height": 411
        },
        "outputId": "adc0f41f-c7f5-43d1-df58-102b5799f216"
      },
      "source": [
        "data_of_30_days_before_first_case.head()"
      ],
      "execution_count": null,
      "outputs": [
        {
          "output_type": "execute_result",
          "data": {
            "text/html": [
              "<div>\n",
              "<style scoped>\n",
              "    .dataframe tbody tr th:only-of-type {\n",
              "        vertical-align: middle;\n",
              "    }\n",
              "\n",
              "    .dataframe tbody tr th {\n",
              "        vertical-align: top;\n",
              "    }\n",
              "\n",
              "    .dataframe thead th {\n",
              "        text-align: right;\n",
              "    }\n",
              "</style>\n",
              "<table border=\"1\" class=\"dataframe\">\n",
              "  <thead>\n",
              "    <tr style=\"text-align: right;\">\n",
              "      <th></th>\n",
              "      <th>Unnamed: 0</th>\n",
              "      <th>date_range_start</th>\n",
              "      <th>date_range_end</th>\n",
              "      <th>state</th>\n",
              "      <th>state_code</th>\n",
              "      <th>cnamelong</th>\n",
              "      <th>county_code</th>\n",
              "      <th>days_since_first_case</th>\n",
              "      <th>days_since_shelter</th>\n",
              "      <th>candidate_device_count</th>\n",
              "      <th>device_count</th>\n",
              "      <th>completely_home_device_count</th>\n",
              "      <th>part_time_work_behavior_devices</th>\n",
              "      <th>full_time_work_behavior_devices</th>\n",
              "      <th>delivery_behavior_devices</th>\n",
              "      <th>median_home_dwell_time</th>\n",
              "      <th>median_non_home_dwell_time</th>\n",
              "      <th>median_percentage_time_home</th>\n",
              "      <th>distance_traveled_from_home</th>\n",
              "    </tr>\n",
              "  </thead>\n",
              "  <tbody>\n",
              "    <tr>\n",
              "      <th>1325</th>\n",
              "      <td>1325</td>\n",
              "      <td>2020-01-01T00:00:00-06:00</td>\n",
              "      <td>2020-01-02T00:00:00-06:00</td>\n",
              "      <td>17.0</td>\n",
              "      <td>IL</td>\n",
              "      <td>Cook County</td>\n",
              "      <td>17031</td>\n",
              "      <td>-23.0</td>\n",
              "      <td>-80.0</td>\n",
              "      <td>0.0</td>\n",
              "      <td>245975</td>\n",
              "      <td>90645</td>\n",
              "      <td>12388</td>\n",
              "      <td>28697</td>\n",
              "      <td>0.0</td>\n",
              "      <td>726.828848</td>\n",
              "      <td>NaN</td>\n",
              "      <td>NaN</td>\n",
              "      <td>10352.586596</td>\n",
              "    </tr>\n",
              "    <tr>\n",
              "      <th>2269</th>\n",
              "      <td>2269</td>\n",
              "      <td>2020-01-01T00:00:00-07:00</td>\n",
              "      <td>2020-01-02T00:00:00-07:00</td>\n",
              "      <td>4.0</td>\n",
              "      <td>AZ</td>\n",
              "      <td>Maricopa County</td>\n",
              "      <td>4013</td>\n",
              "      <td>-25.0</td>\n",
              "      <td>-90.0</td>\n",
              "      <td>0.0</td>\n",
              "      <td>240916</td>\n",
              "      <td>77962</td>\n",
              "      <td>7806</td>\n",
              "      <td>26683</td>\n",
              "      <td>0.0</td>\n",
              "      <td>787.674837</td>\n",
              "      <td>NaN</td>\n",
              "      <td>NaN</td>\n",
              "      <td>10346.956188</td>\n",
              "    </tr>\n",
              "    <tr>\n",
              "      <th>2464</th>\n",
              "      <td>2464</td>\n",
              "      <td>2020-01-01T00:00:00-08:00</td>\n",
              "      <td>2020-01-02T00:00:00-08:00</td>\n",
              "      <td>6.0</td>\n",
              "      <td>CA</td>\n",
              "      <td>Los Angeles County</td>\n",
              "      <td>6037</td>\n",
              "      <td>-25.0</td>\n",
              "      <td>-78.0</td>\n",
              "      <td>0.0</td>\n",
              "      <td>402115</td>\n",
              "      <td>135643</td>\n",
              "      <td>15733</td>\n",
              "      <td>43348</td>\n",
              "      <td>0.0</td>\n",
              "      <td>705.720413</td>\n",
              "      <td>NaN</td>\n",
              "      <td>NaN</td>\n",
              "      <td>12042.490755</td>\n",
              "    </tr>\n",
              "    <tr>\n",
              "      <th>2474</th>\n",
              "      <td>2474</td>\n",
              "      <td>2020-01-01T00:00:00-08:00</td>\n",
              "      <td>2020-01-02T00:00:00-08:00</td>\n",
              "      <td>6.0</td>\n",
              "      <td>CA</td>\n",
              "      <td>Orange County</td>\n",
              "      <td>6059</td>\n",
              "      <td>-25.0</td>\n",
              "      <td>-78.0</td>\n",
              "      <td>0.0</td>\n",
              "      <td>157157</td>\n",
              "      <td>48551</td>\n",
              "      <td>6696</td>\n",
              "      <td>19130</td>\n",
              "      <td>0.0</td>\n",
              "      <td>771.361333</td>\n",
              "      <td>NaN</td>\n",
              "      <td>NaN</td>\n",
              "      <td>8743.759775</td>\n",
              "    </tr>\n",
              "    <tr>\n",
              "      <th>2487</th>\n",
              "      <td>2487</td>\n",
              "      <td>2020-01-01T00:00:00-08:00</td>\n",
              "      <td>2020-01-02T00:00:00-08:00</td>\n",
              "      <td>6.0</td>\n",
              "      <td>CA</td>\n",
              "      <td>Santa Clara County</td>\n",
              "      <td>6085</td>\n",
              "      <td>-30.0</td>\n",
              "      <td>-78.0</td>\n",
              "      <td>0.0</td>\n",
              "      <td>77091</td>\n",
              "      <td>25319</td>\n",
              "      <td>3136</td>\n",
              "      <td>9799</td>\n",
              "      <td>0.0</td>\n",
              "      <td>707.990116</td>\n",
              "      <td>NaN</td>\n",
              "      <td>NaN</td>\n",
              "      <td>16360.121921</td>\n",
              "    </tr>\n",
              "  </tbody>\n",
              "</table>\n",
              "</div>"
            ],
            "text/plain": [
              "      Unnamed: 0  ... distance_traveled_from_home\n",
              "1325        1325  ...                10352.586596\n",
              "2269        2269  ...                10346.956188\n",
              "2464        2464  ...                12042.490755\n",
              "2474        2474  ...                 8743.759775\n",
              "2487        2487  ...                16360.121921\n",
              "\n",
              "[5 rows x 19 columns]"
            ]
          },
          "metadata": {
            "tags": []
          },
          "execution_count": 66
        }
      ]
    },
    {
      "cell_type": "code",
      "metadata": {
        "id": "wMar9dZNvA01",
        "colab_type": "code",
        "colab": {
          "base_uri": "https://localhost:8080/",
          "height": 445
        },
        "outputId": "82878803-1ecd-4f17-bcb3-c976dee13bf5"
      },
      "source": [
        "data_of_30_days_after_first_case.tail()"
      ],
      "execution_count": null,
      "outputs": [
        {
          "output_type": "execute_result",
          "data": {
            "text/html": [
              "<div>\n",
              "<style scoped>\n",
              "    .dataframe tbody tr th:only-of-type {\n",
              "        vertical-align: middle;\n",
              "    }\n",
              "\n",
              "    .dataframe tbody tr th {\n",
              "        vertical-align: top;\n",
              "    }\n",
              "\n",
              "    .dataframe thead th {\n",
              "        text-align: right;\n",
              "    }\n",
              "</style>\n",
              "<table border=\"1\" class=\"dataframe\">\n",
              "  <thead>\n",
              "    <tr style=\"text-align: right;\">\n",
              "      <th></th>\n",
              "      <th>Unnamed: 0</th>\n",
              "      <th>date_range_start</th>\n",
              "      <th>date_range_end</th>\n",
              "      <th>state</th>\n",
              "      <th>state_code</th>\n",
              "      <th>cnamelong</th>\n",
              "      <th>county_code</th>\n",
              "      <th>days_since_first_case</th>\n",
              "      <th>days_since_shelter</th>\n",
              "      <th>candidate_device_count</th>\n",
              "      <th>device_count</th>\n",
              "      <th>completely_home_device_count</th>\n",
              "      <th>part_time_work_behavior_devices</th>\n",
              "      <th>full_time_work_behavior_devices</th>\n",
              "      <th>delivery_behavior_devices</th>\n",
              "      <th>median_home_dwell_time</th>\n",
              "      <th>median_non_home_dwell_time</th>\n",
              "      <th>median_percentage_time_home</th>\n",
              "      <th>distance_traveled_from_home</th>\n",
              "    </tr>\n",
              "  </thead>\n",
              "  <tbody>\n",
              "    <tr>\n",
              "      <th>332499</th>\n",
              "      <td>332499</td>\n",
              "      <td>2020-05-06T00:00:00-08:00</td>\n",
              "      <td>2020-05-07T00:00:00-08:00</td>\n",
              "      <td>2.0</td>\n",
              "      <td>AK</td>\n",
              "      <td>Bethel Census Area</td>\n",
              "      <td>2050</td>\n",
              "      <td>29.0</td>\n",
              "      <td>39.0</td>\n",
              "      <td>693.0</td>\n",
              "      <td>268</td>\n",
              "      <td>95</td>\n",
              "      <td>32</td>\n",
              "      <td>23</td>\n",
              "      <td>22.0</td>\n",
              "      <td>329.078358</td>\n",
              "      <td>86.529851</td>\n",
              "      <td>74.518657</td>\n",
              "      <td>1181.697761</td>\n",
              "    </tr>\n",
              "    <tr>\n",
              "      <th>332504</th>\n",
              "      <td>332504</td>\n",
              "      <td>2020-05-06T00:00:00-08:00</td>\n",
              "      <td>2020-05-07T00:00:00-08:00</td>\n",
              "      <td>2.0</td>\n",
              "      <td>AK</td>\n",
              "      <td>Kodiak Island Borough</td>\n",
              "      <td>2150</td>\n",
              "      <td>20.0</td>\n",
              "      <td>39.0</td>\n",
              "      <td>826.0</td>\n",
              "      <td>404</td>\n",
              "      <td>153</td>\n",
              "      <td>32</td>\n",
              "      <td>23</td>\n",
              "      <td>16.0</td>\n",
              "      <td>692.482673</td>\n",
              "      <td>51.836634</td>\n",
              "      <td>89.618812</td>\n",
              "      <td>26941.522277</td>\n",
              "    </tr>\n",
              "    <tr>\n",
              "      <th>332506</th>\n",
              "      <td>332506</td>\n",
              "      <td>2020-05-06T00:00:00-08:00</td>\n",
              "      <td>2020-05-07T00:00:00-08:00</td>\n",
              "      <td>2.0</td>\n",
              "      <td>AK</td>\n",
              "      <td>Nome Census Area</td>\n",
              "      <td>2180</td>\n",
              "      <td>21.0</td>\n",
              "      <td>39.0</td>\n",
              "      <td>656.0</td>\n",
              "      <td>226</td>\n",
              "      <td>78</td>\n",
              "      <td>24</td>\n",
              "      <td>15</td>\n",
              "      <td>14.0</td>\n",
              "      <td>428.070796</td>\n",
              "      <td>68.685841</td>\n",
              "      <td>60.106195</td>\n",
              "      <td>446930.986726</td>\n",
              "    </tr>\n",
              "    <tr>\n",
              "      <th>332509</th>\n",
              "      <td>332509</td>\n",
              "      <td>2020-05-06T00:00:00-08:00</td>\n",
              "      <td>2020-05-07T00:00:00-08:00</td>\n",
              "      <td>2.0</td>\n",
              "      <td>AK</td>\n",
              "      <td>Prince of Wales-Hyder Census Area</td>\n",
              "      <td>2198</td>\n",
              "      <td>25.0</td>\n",
              "      <td>39.0</td>\n",
              "      <td>459.0</td>\n",
              "      <td>204</td>\n",
              "      <td>89</td>\n",
              "      <td>12</td>\n",
              "      <td>9</td>\n",
              "      <td>9.0</td>\n",
              "      <td>301.352941</td>\n",
              "      <td>40.931373</td>\n",
              "      <td>92.019608</td>\n",
              "      <td>3705.877451</td>\n",
              "    </tr>\n",
              "    <tr>\n",
              "      <th>332510</th>\n",
              "      <td>332510</td>\n",
              "      <td>2020-05-06T00:00:00-08:00</td>\n",
              "      <td>2020-05-07T00:00:00-08:00</td>\n",
              "      <td>2.0</td>\n",
              "      <td>AK</td>\n",
              "      <td>Sitka City and Borough</td>\n",
              "      <td>2220</td>\n",
              "      <td>9.0</td>\n",
              "      <td>39.0</td>\n",
              "      <td>601.0</td>\n",
              "      <td>298</td>\n",
              "      <td>93</td>\n",
              "      <td>29</td>\n",
              "      <td>24</td>\n",
              "      <td>21.0</td>\n",
              "      <td>548.922819</td>\n",
              "      <td>75.973154</td>\n",
              "      <td>77.926174</td>\n",
              "      <td>4472.597315</td>\n",
              "    </tr>\n",
              "  </tbody>\n",
              "</table>\n",
              "</div>"
            ],
            "text/plain": [
              "        Unnamed: 0  ... distance_traveled_from_home\n",
              "332499      332499  ...                 1181.697761\n",
              "332504      332504  ...                26941.522277\n",
              "332506      332506  ...               446930.986726\n",
              "332509      332509  ...                 3705.877451\n",
              "332510      332510  ...                 4472.597315\n",
              "\n",
              "[5 rows x 19 columns]"
            ]
          },
          "metadata": {
            "tags": []
          },
          "execution_count": 67
        }
      ]
    },
    {
      "cell_type": "code",
      "metadata": {
        "id": "Kc00K8fP1lzN",
        "colab_type": "code",
        "colab": {
          "base_uri": "https://localhost:8080/",
          "height": 51
        },
        "outputId": "43980332-daf6-4cbb-9853-5b599792c5a2"
      },
      "source": [
        "print(f\"number of rows of 30 days before first case: {data_of_30_days_before_first_case.shape[0]}\")\n",
        "print(f\"number of rows of 30 days after first case: {data_of_30_days_after_first_case.shape[0]}\")"
      ],
      "execution_count": null,
      "outputs": [
        {
          "output_type": "stream",
          "text": [
            "number of rows of 30 days before first case: 78187\n",
            "number of rows of 30 days after first case: 76605\n"
          ],
          "name": "stdout"
        }
      ]
    },
    {
      "cell_type": "markdown",
      "metadata": {
        "id": "h8TZdmrI1-f5",
        "colab_type": "text"
      },
      "source": [
        "so we pretty much have the same amounts of data points in the 30 days before period and the 30 days after period, so won't suffer imbalanced data points bias"
      ]
    },
    {
      "cell_type": "code",
      "metadata": {
        "id": "ObrzifVh3SyC",
        "colab_type": "code",
        "colab": {
          "base_uri": "https://localhost:8080/",
          "height": 357
        },
        "outputId": "42d279f7-5dac-4b2f-c41e-e251ee15c1f8"
      },
      "source": [
        "data_of_30_days_before_first_case.isnull().sum()"
      ],
      "execution_count": null,
      "outputs": [
        {
          "output_type": "execute_result",
          "data": {
            "text/plain": [
              "Unnamed: 0                             0\n",
              "date_range_start                       0\n",
              "date_range_end                         0\n",
              "state                                  0\n",
              "state_code                             0\n",
              "cnamelong                              0\n",
              "county_code                            0\n",
              "days_since_first_case                  0\n",
              "days_since_shelter                     0\n",
              "candidate_device_count                 0\n",
              "device_count                           0\n",
              "completely_home_device_count           0\n",
              "part_time_work_behavior_devices        0\n",
              "full_time_work_behavior_devices        0\n",
              "delivery_behavior_devices              0\n",
              "median_home_dwell_time                 0\n",
              "median_non_home_dwell_time         77298\n",
              "median_percentage_time_home        77298\n",
              "distance_traveled_from_home           19\n",
              "dtype: int64"
            ]
          },
          "metadata": {
            "tags": []
          },
          "execution_count": 69
        }
      ]
    },
    {
      "cell_type": "code",
      "metadata": {
        "id": "3lAHxPcZ4Uu1",
        "colab_type": "code",
        "colab": {
          "base_uri": "https://localhost:8080/",
          "height": 357
        },
        "outputId": "d3a00160-4033-452c-8787-c09b0f8f3939"
      },
      "source": [
        "data_of_30_days_after_first_case.isnull().sum()"
      ],
      "execution_count": null,
      "outputs": [
        {
          "output_type": "execute_result",
          "data": {
            "text/plain": [
              "Unnamed: 0                             0\n",
              "date_range_start                       0\n",
              "date_range_end                         0\n",
              "state                                  0\n",
              "state_code                             0\n",
              "cnamelong                              0\n",
              "county_code                            0\n",
              "days_since_first_case                  0\n",
              "days_since_shelter                     0\n",
              "candidate_device_count                 0\n",
              "device_count                           0\n",
              "completely_home_device_count           0\n",
              "part_time_work_behavior_devices        0\n",
              "full_time_work_behavior_devices        0\n",
              "delivery_behavior_devices              0\n",
              "median_home_dwell_time                 0\n",
              "median_non_home_dwell_time         69079\n",
              "median_percentage_time_home        69079\n",
              "distance_traveled_from_home          279\n",
              "dtype: int64"
            ]
          },
          "metadata": {
            "tags": []
          },
          "execution_count": 70
        }
      ]
    },
    {
      "cell_type": "markdown",
      "metadata": {
        "id": "07vQxd0K22bt",
        "colab_type": "text"
      },
      "source": [
        "we can see from the above data frame that we only have 5-10% of recorded median_non_home_dwell_time and median_percentage_time_home (more than 90% null data), but we have perfect record of median_home_dwell_time, so we can just pick median_home_dwell_time to analyze"
      ]
    },
    {
      "cell_type": "code",
      "metadata": {
        "id": "AwAY7ESsyL3U",
        "colab_type": "code",
        "colab": {
          "base_uri": "https://localhost:8080/",
          "height": 317
        },
        "outputId": "282ffb5c-0d2e-4f65-fb5e-d8edff5f877f"
      },
      "source": [
        "# statistics about 30 days before first case\n",
        "data_of_30_days_before_first_case.describe()[['candidate_device_count',\\\n",
        "                                              'device_count', 'completely_home_device_count',\\\n",
        "                                              'part_time_work_behavior_devices',\\\n",
        "                                              'full_time_work_behavior_devices',\\\n",
        "                                              'delivery_behavior_devices',\\\n",
        "                                              'median_home_dwell_time',\\\n",
        "                                              'distance_traveled_from_home']]"
      ],
      "execution_count": null,
      "outputs": [
        {
          "output_type": "execute_result",
          "data": {
            "text/html": [
              "<div>\n",
              "<style scoped>\n",
              "    .dataframe tbody tr th:only-of-type {\n",
              "        vertical-align: middle;\n",
              "    }\n",
              "\n",
              "    .dataframe tbody tr th {\n",
              "        vertical-align: top;\n",
              "    }\n",
              "\n",
              "    .dataframe thead th {\n",
              "        text-align: right;\n",
              "    }\n",
              "</style>\n",
              "<table border=\"1\" class=\"dataframe\">\n",
              "  <thead>\n",
              "    <tr style=\"text-align: right;\">\n",
              "      <th></th>\n",
              "      <th>candidate_device_count</th>\n",
              "      <th>device_count</th>\n",
              "      <th>completely_home_device_count</th>\n",
              "      <th>part_time_work_behavior_devices</th>\n",
              "      <th>full_time_work_behavior_devices</th>\n",
              "      <th>delivery_behavior_devices</th>\n",
              "      <th>median_home_dwell_time</th>\n",
              "      <th>distance_traveled_from_home</th>\n",
              "    </tr>\n",
              "  </thead>\n",
              "  <tbody>\n",
              "    <tr>\n",
              "      <th>count</th>\n",
              "      <td>78187.000000</td>\n",
              "      <td>78187.000000</td>\n",
              "      <td>78187.000000</td>\n",
              "      <td>78187.000000</td>\n",
              "      <td>78187.000000</td>\n",
              "      <td>78187.000000</td>\n",
              "      <td>78187.000000</td>\n",
              "      <td>7.816800e+04</td>\n",
              "    </tr>\n",
              "    <tr>\n",
              "      <th>mean</th>\n",
              "      <td>14.195199</td>\n",
              "      <td>6764.210048</td>\n",
              "      <td>1525.462877</td>\n",
              "      <td>725.047502</td>\n",
              "      <td>1176.856255</td>\n",
              "      <td>0.180759</td>\n",
              "      <td>562.810680</td>\n",
              "      <td>1.339026e+04</td>\n",
              "    </tr>\n",
              "    <tr>\n",
              "      <th>std</th>\n",
              "      <td>171.622187</td>\n",
              "      <td>16719.798433</td>\n",
              "      <td>3849.991853</td>\n",
              "      <td>1908.382366</td>\n",
              "      <td>2919.775742</td>\n",
              "      <td>2.539253</td>\n",
              "      <td>140.497493</td>\n",
              "      <td>2.405520e+04</td>\n",
              "    </tr>\n",
              "    <tr>\n",
              "      <th>min</th>\n",
              "      <td>0.000000</td>\n",
              "      <td>12.000000</td>\n",
              "      <td>1.000000</td>\n",
              "      <td>1.000000</td>\n",
              "      <td>1.000000</td>\n",
              "      <td>0.000000</td>\n",
              "      <td>0.000000</td>\n",
              "      <td>2.320000e+02</td>\n",
              "    </tr>\n",
              "    <tr>\n",
              "      <th>25%</th>\n",
              "      <td>0.000000</td>\n",
              "      <td>832.000000</td>\n",
              "      <td>202.000000</td>\n",
              "      <td>69.000000</td>\n",
              "      <td>124.500000</td>\n",
              "      <td>0.000000</td>\n",
              "      <td>478.519880</td>\n",
              "      <td>8.059154e+03</td>\n",
              "    </tr>\n",
              "    <tr>\n",
              "      <th>50%</th>\n",
              "      <td>0.000000</td>\n",
              "      <td>1955.000000</td>\n",
              "      <td>459.000000</td>\n",
              "      <td>186.000000</td>\n",
              "      <td>321.000000</td>\n",
              "      <td>0.000000</td>\n",
              "      <td>569.803387</td>\n",
              "      <td>1.035197e+04</td>\n",
              "    </tr>\n",
              "    <tr>\n",
              "      <th>75%</th>\n",
              "      <td>0.000000</td>\n",
              "      <td>5362.000000</td>\n",
              "      <td>1225.000000</td>\n",
              "      <td>556.500000</td>\n",
              "      <td>945.000000</td>\n",
              "      <td>0.000000</td>\n",
              "      <td>653.103023</td>\n",
              "      <td>1.400087e+04</td>\n",
              "    </tr>\n",
              "    <tr>\n",
              "      <th>max</th>\n",
              "      <td>5627.000000</td>\n",
              "      <td>402115.000000</td>\n",
              "      <td>135643.000000</td>\n",
              "      <td>48509.000000</td>\n",
              "      <td>62421.000000</td>\n",
              "      <td>179.000000</td>\n",
              "      <td>1264.000000</td>\n",
              "      <td>1.211508e+06</td>\n",
              "    </tr>\n",
              "  </tbody>\n",
              "</table>\n",
              "</div>"
            ],
            "text/plain": [
              "       candidate_device_count  ...  distance_traveled_from_home\n",
              "count            78187.000000  ...                 7.816800e+04\n",
              "mean                14.195199  ...                 1.339026e+04\n",
              "std                171.622187  ...                 2.405520e+04\n",
              "min                  0.000000  ...                 2.320000e+02\n",
              "25%                  0.000000  ...                 8.059154e+03\n",
              "50%                  0.000000  ...                 1.035197e+04\n",
              "75%                  0.000000  ...                 1.400087e+04\n",
              "max               5627.000000  ...                 1.211508e+06\n",
              "\n",
              "[8 rows x 8 columns]"
            ]
          },
          "metadata": {
            "tags": []
          },
          "execution_count": 71
        }
      ]
    },
    {
      "cell_type": "code",
      "metadata": {
        "id": "6DXVprVt02Zo",
        "colab_type": "code",
        "colab": {
          "base_uri": "https://localhost:8080/",
          "height": 317
        },
        "outputId": "158e0bcb-3944-4825-a0a5-01c61cad3fb8"
      },
      "source": [
        "# statistics about 30 days after first case\n",
        "data_of_30_days_after_first_case.describe()[['candidate_device_count',\\\n",
        "                                              'device_count', 'completely_home_device_count',\\\n",
        "                                              'part_time_work_behavior_devices',\\\n",
        "                                              'full_time_work_behavior_devices',\\\n",
        "                                              'delivery_behavior_devices',\\\n",
        "                                              'median_home_dwell_time',\\\n",
        "                                              'distance_traveled_from_home']]"
      ],
      "execution_count": null,
      "outputs": [
        {
          "output_type": "execute_result",
          "data": {
            "text/html": [
              "<div>\n",
              "<style scoped>\n",
              "    .dataframe tbody tr th:only-of-type {\n",
              "        vertical-align: middle;\n",
              "    }\n",
              "\n",
              "    .dataframe tbody tr th {\n",
              "        vertical-align: top;\n",
              "    }\n",
              "\n",
              "    .dataframe thead th {\n",
              "        text-align: right;\n",
              "    }\n",
              "</style>\n",
              "<table border=\"1\" class=\"dataframe\">\n",
              "  <thead>\n",
              "    <tr style=\"text-align: right;\">\n",
              "      <th></th>\n",
              "      <th>candidate_device_count</th>\n",
              "      <th>device_count</th>\n",
              "      <th>completely_home_device_count</th>\n",
              "      <th>part_time_work_behavior_devices</th>\n",
              "      <th>full_time_work_behavior_devices</th>\n",
              "      <th>delivery_behavior_devices</th>\n",
              "      <th>median_home_dwell_time</th>\n",
              "      <th>distance_traveled_from_home</th>\n",
              "    </tr>\n",
              "  </thead>\n",
              "  <tbody>\n",
              "    <tr>\n",
              "      <th>count</th>\n",
              "      <td>76605.000000</td>\n",
              "      <td>76605.000000</td>\n",
              "      <td>76605.000000</td>\n",
              "      <td>76605.000000</td>\n",
              "      <td>76605.000000</td>\n",
              "      <td>76605.000000</td>\n",
              "      <td>76605.000000</td>\n",
              "      <td>7.632600e+04</td>\n",
              "    </tr>\n",
              "    <tr>\n",
              "      <th>mean</th>\n",
              "      <td>257.999269</td>\n",
              "      <td>6548.849958</td>\n",
              "      <td>2351.561922</td>\n",
              "      <td>444.718165</td>\n",
              "      <td>832.310959</td>\n",
              "      <td>3.100529</td>\n",
              "      <td>735.332160</td>\n",
              "      <td>1.147974e+04</td>\n",
              "    </tr>\n",
              "    <tr>\n",
              "      <th>std</th>\n",
              "      <td>1093.952137</td>\n",
              "      <td>16772.930378</td>\n",
              "      <td>5522.303504</td>\n",
              "      <td>1524.691016</td>\n",
              "      <td>2443.399279</td>\n",
              "      <td>13.412981</td>\n",
              "      <td>148.390491</td>\n",
              "      <td>2.111861e+04</td>\n",
              "    </tr>\n",
              "    <tr>\n",
              "      <th>min</th>\n",
              "      <td>0.000000</td>\n",
              "      <td>7.000000</td>\n",
              "      <td>1.000000</td>\n",
              "      <td>1.000000</td>\n",
              "      <td>1.000000</td>\n",
              "      <td>0.000000</td>\n",
              "      <td>0.000000</td>\n",
              "      <td>1.250000e+02</td>\n",
              "    </tr>\n",
              "    <tr>\n",
              "      <th>25%</th>\n",
              "      <td>0.000000</td>\n",
              "      <td>890.000000</td>\n",
              "      <td>289.000000</td>\n",
              "      <td>56.000000</td>\n",
              "      <td>89.000000</td>\n",
              "      <td>0.000000</td>\n",
              "      <td>654.593985</td>\n",
              "      <td>6.817062e+03</td>\n",
              "    </tr>\n",
              "    <tr>\n",
              "      <th>50%</th>\n",
              "      <td>0.000000</td>\n",
              "      <td>1968.000000</td>\n",
              "      <td>672.000000</td>\n",
              "      <td>129.000000</td>\n",
              "      <td>235.000000</td>\n",
              "      <td>0.000000</td>\n",
              "      <td>746.435091</td>\n",
              "      <td>8.746437e+03</td>\n",
              "    </tr>\n",
              "    <tr>\n",
              "      <th>75%</th>\n",
              "      <td>0.000000</td>\n",
              "      <td>5229.000000</td>\n",
              "      <td>1886.000000</td>\n",
              "      <td>333.000000</td>\n",
              "      <td>664.000000</td>\n",
              "      <td>0.000000</td>\n",
              "      <td>826.400126</td>\n",
              "      <td>1.165161e+04</td>\n",
              "    </tr>\n",
              "    <tr>\n",
              "      <th>max</th>\n",
              "      <td>30503.000000</td>\n",
              "      <td>411800.000000</td>\n",
              "      <td>125224.000000</td>\n",
              "      <td>53900.000000</td>\n",
              "      <td>65620.000000</td>\n",
              "      <td>426.000000</td>\n",
              "      <td>1316.000000</td>\n",
              "      <td>1.204601e+06</td>\n",
              "    </tr>\n",
              "  </tbody>\n",
              "</table>\n",
              "</div>"
            ],
            "text/plain": [
              "       candidate_device_count  ...  distance_traveled_from_home\n",
              "count            76605.000000  ...                 7.632600e+04\n",
              "mean               257.999269  ...                 1.147974e+04\n",
              "std               1093.952137  ...                 2.111861e+04\n",
              "min                  0.000000  ...                 1.250000e+02\n",
              "25%                  0.000000  ...                 6.817062e+03\n",
              "50%                  0.000000  ...                 8.746437e+03\n",
              "75%                  0.000000  ...                 1.165161e+04\n",
              "max              30503.000000  ...                 1.204601e+06\n",
              "\n",
              "[8 rows x 8 columns]"
            ]
          },
          "metadata": {
            "tags": []
          },
          "execution_count": 72
        }
      ]
    },
    {
      "cell_type": "markdown",
      "metadata": {
        "id": "i013OBxb69Yk",
        "colab_type": "text"
      },
      "source": [
        "from these 2 crude statistics table we could aldready spot some differences between people's behaviors 30 days before and 30 days after the first case:\n",
        "1. don't know what candiate device means but it increases dramatically after first case\n",
        "2. mean completely home device count increases from 1525 to 2351  "
      ]
    },
    {
      "cell_type": "markdown",
      "metadata": {
        "id": "wrM0JuxH7c0n",
        "colab_type": "text"
      },
      "source": [
        "Let's analyze \\\\\n",
        "1. completely_home_device_percentage\n",
        "2. part_time_work_behavior_percentage\n",
        "3. full_time_work_behavior_percentage\n",
        "4. delivery_behavior_percentage\n",
        "5. median_home_dwell_time\n",
        "6. mean_distance_traveled_from_home\n",
        "30 days before and 30 days after first case.\n",
        "where percentage just means divide the column by device count."
      ]
    },
    {
      "cell_type": "code",
      "metadata": {
        "id": "F_OzeBOW68j6",
        "colab_type": "code",
        "colab": {
          "base_uri": "https://localhost:8080/",
          "height": 221
        },
        "outputId": "bb09deee-54cb-46aa-d4df-428799cf549d"
      },
      "source": [
        "# 1, 2, 3, 4analysis\n",
        "columns = ['completely_home_device_count', 'part_time_work_behavior_devices', \\\n",
        "           'full_time_work_behavior_devices', 'delivery_behavior_devices']\n",
        "for col in columns:\n",
        "  before_behavior_percentage = data_of_30_days_before_first_case[col].sum() / \\\n",
        "    data_of_30_days_before_first_case['device_count'].sum()\n",
        "  after_behavior_percentage = data_of_30_days_after_first_case[col].sum() / \\\n",
        "    data_of_30_days_after_first_case['device_count'].sum()\n",
        "  print(f\"30 days before first case percentage of {col}: {before_behavior_percentage}\")\n",
        "  print(f\"30 days after first case percentage of {col}: {after_behavior_percentage}\")\n",
        "  print()"
      ],
      "execution_count": null,
      "outputs": [
        {
          "output_type": "stream",
          "text": [
            "30 days before first case percentage of completely_home_device_count: 0.22551973795931396\n",
            "30 days after first case percentage of completely_home_device_count: 0.3590801341884025\n",
            "\n",
            "30 days before first case percentage of part_time_work_behavior_devices: 0.10718879165331115\n",
            "30 days after first case percentage of part_time_work_behavior_devices: 0.06790782618195314\n",
            "\n",
            "30 days before first case percentage of full_time_work_behavior_devices: 0.17398280753792122\n",
            "30 days after first case percentage of full_time_work_behavior_devices: 0.12709269019853267\n",
            "\n",
            "30 days before first case percentage of delivery_behavior_devices: 2.672284692856611e-05\n",
            "30 days after first case percentage of delivery_behavior_devices: 0.0004734462854093858\n",
            "\n"
          ],
          "name": "stdout"
        }
      ]
    },
    {
      "cell_type": "code",
      "metadata": {
        "id": "wr2YcoAQ-88Y",
        "colab_type": "code",
        "colab": {
          "base_uri": "https://localhost:8080/",
          "height": 34
        },
        "outputId": "4b2147d2-4ab0-4417-dbb1-a2b892d4a63d"
      },
      "source": [
        "0.0004734462854093858 / 2.672284692856611e-05"
      ],
      "execution_count": null,
      "outputs": [
        {
          "output_type": "execute_result",
          "data": {
            "text/plain": [
              "17.71691042780635"
            ]
          },
          "metadata": {
            "tags": []
          },
          "execution_count": 46
        }
      ]
    },
    {
      "cell_type": "markdown",
      "metadata": {
        "id": "9V55QHxb9X4v",
        "colab_type": "text"
      },
      "source": [
        "1. we can see that people stay at home more after first case appears: home device percentage jumps from 22% to 36%\n",
        "2. part time work behavior percentage drops from 10% to 6.7%\n",
        "3. full time behavior drops from 17% to 12.7%\n",
        "4. delivery behavior device percentage almost increases 18 times \\\\\n",
        "which all make sense"
      ]
    },
    {
      "cell_type": "code",
      "metadata": {
        "id": "bNR_shnP_KVG",
        "colab_type": "code",
        "colab": {
          "base_uri": "https://localhost:8080/",
          "height": 51
        },
        "outputId": "13e523b5-62a0-45c3-eeab-8802ed6aa3da"
      },
      "source": [
        "# 5,6 analysis, need to weighted average again.\n",
        "# since distance and home dwell time are all medians\n",
        "before_mean_home_dwell_time = (data_of_30_days_before_first_case['median_home_dwell_time'] \\\n",
        "  * data_of_30_days_before_first_case['device_count']).sum() / \\\n",
        "  data_of_30_days_before_first_case['device_count'].sum()\n",
        "after_mean_home_dwell_time = (data_of_30_days_after_first_case['median_home_dwell_time'] \\\n",
        "  * data_of_30_days_after_first_case['device_count']).sum() / \\\n",
        "  data_of_30_days_after_first_case['device_count'].sum()\n",
        "print(f\"before_mean_home_dwell_time: {before_mean_home_dwell_time}\")\n",
        "print(f\"after_mean_home_dwell_time: {after_mean_home_dwell_time}\")"
      ],
      "execution_count": null,
      "outputs": [
        {
          "output_type": "stream",
          "text": [
            "before_mean_home_dwell_time: 587.458941304336\n",
            "after_mean_home_dwell_time: 764.7527937164997\n"
          ],
          "name": "stdout"
        }
      ]
    },
    {
      "cell_type": "code",
      "metadata": {
        "id": "hvJcEQ9eQTQf",
        "colab_type": "code",
        "colab": {
          "base_uri": "https://localhost:8080/",
          "height": 51
        },
        "outputId": "91a9cd72-f5ce-41d6-ea45-0e8489b52d9c"
      },
      "source": [
        "before_mean_distance = (data_of_30_days_before_first_case['distance_traveled_from_home'] \\\n",
        "  * data_of_30_days_before_first_case['device_count']).sum() / \\\n",
        "  data_of_30_days_before_first_case['device_count'].sum()\n",
        "after_mean_distance = (data_of_30_days_after_first_case['distance_traveled_from_home'] \\\n",
        "  * data_of_30_days_after_first_case['device_count']).sum() / \\\n",
        "  data_of_30_days_after_first_case['device_count'].sum()\n",
        "print(f\"before_mean_distance: {before_mean_distance}\")\n",
        "print(f\"after_mean_distance: {after_mean_distance}\")"
      ],
      "execution_count": null,
      "outputs": [
        {
          "output_type": "stream",
          "text": [
            "before_mean_distance: 12689.17195000683\n",
            "after_mean_distance: 11708.676082523452\n"
          ],
          "name": "stdout"
        }
      ]
    },
    {
      "cell_type": "code",
      "metadata": {
        "id": "YJEfAO5bCDLR",
        "colab_type": "code",
        "colab": {
          "base_uri": "https://localhost:8080/",
          "height": 34
        },
        "outputId": "a3fb8da0-f0e3-4eaf-cd49-5142a429ef6f"
      },
      "source": [
        "after_mean_home_dwell_time / before_mean_home_dwell_time"
      ],
      "execution_count": null,
      "outputs": [
        {
          "output_type": "execute_result",
          "data": {
            "text/plain": [
              "1.3017978618531498"
            ]
          },
          "metadata": {
            "tags": []
          },
          "execution_count": 53
        }
      ]
    },
    {
      "cell_type": "code",
      "metadata": {
        "id": "eQ_E1aScQ4e1",
        "colab_type": "code",
        "colab": {
          "base_uri": "https://localhost:8080/",
          "height": 34
        },
        "outputId": "bf2bbcbb-88e9-478b-e4bd-64dca94d3768"
      },
      "source": [
        "after_mean_distance / before_mean_distance"
      ],
      "execution_count": null,
      "outputs": [
        {
          "output_type": "execute_result",
          "data": {
            "text/plain": [
              "0.9227297201624847"
            ]
          },
          "metadata": {
            "tags": []
          },
          "execution_count": 77
        }
      ]
    },
    {
      "cell_type": "markdown",
      "metadata": {
        "id": "AcpVESDcB0nz",
        "colab_type": "text"
      },
      "source": [
        "1. we can see that people stay at home more after first case of COVID-19. increases from 587 minutes per day to 764 minutes per day, an increase of 30%\n",
        "2. distance traveled by people decreased on average. -> decreased about 8%, although not much. (don't know what unit the distance is in? it will by crazy that everyone travels 12689 miles per day)"
      ]
    },
    {
      "cell_type": "markdown",
      "metadata": {
        "id": "D9EzXBNDxqT7",
        "colab_type": "text"
      },
      "source": [
        "# Compare data of 30 days before and 30 days after shelter in place"
      ]
    },
    {
      "cell_type": "markdown",
      "metadata": {
        "id": "rfL5n8B3COv5",
        "colab_type": "text"
      },
      "source": [
        "Now let's repeat the above analyis for 30 days before and 30 days after shelter in place was issued."
      ]
    },
    {
      "cell_type": "code",
      "metadata": {
        "id": "beAwdS4SCLyF",
        "colab_type": "code",
        "colab": {
          "base_uri": "https://localhost:8080/",
          "height": 221
        },
        "outputId": "41c9bbb0-b501-4728-dbc8-4fbe85fc84a7"
      },
      "source": [
        "# 1, 2, 3, 4, 6 analysis\n",
        "columns = ['completely_home_device_count', 'part_time_work_behavior_devices', \\\n",
        "           'full_time_work_behavior_devices', 'delivery_behavior_devices']\n",
        "for col in columns:\n",
        "  before_behavior_percentage = data_of_30_days_before_shelter[col].sum() / \\\n",
        "    data_of_30_days_before_shelter['device_count'].sum()\n",
        "  after_behavior_percentage = data_of_30_days_after_shelter[col].sum() / \\\n",
        "    data_of_30_days_after_shelter['device_count'].sum()\n",
        "  print(f\"30 days before shelter in place, percentage of {col}: {before_behavior_percentage}\")\n",
        "  print(f\"30 days after shelter in place, percentage of {col}: {after_behavior_percentage}\")\n",
        "  print()"
      ],
      "execution_count": null,
      "outputs": [
        {
          "output_type": "stream",
          "text": [
            "30 days before shelter in place, percentage of completely_home_device_count: 0.2663601438680131\n",
            "30 days after shelter in place, percentage of completely_home_device_count: 0.40836784123788233\n",
            "\n",
            "30 days before shelter in place, percentage of part_time_work_behavior_devices: 0.09294609942856893\n",
            "30 days after shelter in place, percentage of part_time_work_behavior_devices: 0.05503536756401233\n",
            "\n",
            "30 days before shelter in place, percentage of full_time_work_behavior_devices: 0.15982911583196868\n",
            "30 days after shelter in place, percentage of full_time_work_behavior_devices: 0.10221952555880594\n",
            "\n",
            "30 days before shelter in place, percentage of delivery_behavior_devices: 0.0\n",
            "30 days after shelter in place, percentage of delivery_behavior_devices: 0.003747411424778401\n",
            "\n"
          ],
          "name": "stdout"
        }
      ]
    },
    {
      "cell_type": "code",
      "metadata": {
        "id": "szwoDv8ACV4x",
        "colab_type": "code",
        "colab": {
          "base_uri": "https://localhost:8080/",
          "height": 51
        },
        "outputId": "ce52776a-b0db-4b15-9f25-b64269a23ce4"
      },
      "source": [
        "# mean_median_home_dwell_time analysis, need to weighted average again\n",
        "before_mean_home_dwell_time = (data_of_30_days_before_shelter['median_home_dwell_time'] \\\n",
        "  * data_of_30_days_before_shelter['device_count']).sum() / \\\n",
        "  data_of_30_days_before_shelter['device_count'].sum()\n",
        "after_mean_home_dwell_time = (data_of_30_days_after_shelter['median_home_dwell_time'] \\\n",
        "  * data_of_30_days_after_shelter['device_count']).sum() / \\\n",
        "  data_of_30_days_after_shelter['device_count'].sum()\n",
        "print(f\"before_mean_home_dwell_time: {before_mean_home_dwell_time}\")\n",
        "print(f\"after_mean_home_dwell_time: {after_mean_home_dwell_time}\")"
      ],
      "execution_count": null,
      "outputs": [
        {
          "output_type": "stream",
          "text": [
            "before_mean_home_dwell_time: 624.3097946995292\n",
            "after_mean_home_dwell_time: 849.5859743725885\n"
          ],
          "name": "stdout"
        }
      ]
    },
    {
      "cell_type": "code",
      "metadata": {
        "id": "Raq9YgbCRfSQ",
        "colab_type": "code",
        "colab": {
          "base_uri": "https://localhost:8080/",
          "height": 51
        },
        "outputId": "3b2abd64-12e8-41cb-beef-4c854d321858"
      },
      "source": [
        "before_mean_distance = (data_of_30_days_before_shelter['distance_traveled_from_home'] \\\n",
        "  * data_of_30_days_before_shelter['device_count']).sum() / \\\n",
        "  data_of_30_days_before_shelter['device_count'].sum()\n",
        "after_mean_distance = (data_of_30_days_after_shelter['distance_traveled_from_home'] \\\n",
        "  * data_of_30_days_after_shelter['device_count']).sum() / \\\n",
        "  data_of_30_days_after_shelter['device_count'].sum()\n",
        "print(f\"before_mean_distance: {before_mean_distance}\")\n",
        "print(f\"after_mean_distance: {after_mean_distance}\")"
      ],
      "execution_count": null,
      "outputs": [
        {
          "output_type": "stream",
          "text": [
            "before_mean_distance: 14890.036775633482\n",
            "after_mean_distance: 9874.372134492716\n"
          ],
          "name": "stdout"
        }
      ]
    },
    {
      "cell_type": "markdown",
      "metadata": {
        "id": "_W9Nch2BC9J2",
        "colab_type": "text"
      },
      "source": [
        "the comparison pretty much echos the before and after first case analysis, a little bit differnet but the quanlitative message is the same.\\\\\n",
        "Noteworthy things are: comparing to first case comparison, in shelter in place comparisons mean distance traveled by people dramtically decreased from about 15000 to 10000. **That is interesting, we didn't see this in the first case comparison. This means people's traveling behavior changes dramatically after government's stay-at-home policy was issued, not after they have seen the first death of COVID within the county**"
      ]
    },
    {
      "cell_type": "markdown",
      "metadata": {
        "id": "cdh_MT8drADH",
        "colab_type": "text"
      },
      "source": [
        "# Conclusion:\n",
        "Comparing average behavior of 30 days before and after shelter in place in counties all over the country we found that\n",
        "1. people travel siginificantly less after government's stay-at-home policy was issued, but not after first case appeared in their county.\n",
        "2. home dwell time changed from 624 minutes per day to an average of 849 minutes per day after shelter in place.\n",
        "3. full time behavior drops from 15% to 10% after shelter in place.\n",
        "4. % of stay at home devices increase from 26% to 40% after shelter in place."
      ]
    }
  ]
}