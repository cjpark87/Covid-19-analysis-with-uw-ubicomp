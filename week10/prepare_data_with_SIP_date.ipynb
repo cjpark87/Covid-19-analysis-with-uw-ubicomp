{
  "nbformat": 4,
  "nbformat_minor": 0,
  "metadata": {
    "colab": {
      "name": "prepare_data_with_SIP_date.ipynb",
      "provenance": [],
      "mount_file_id": "1fmdbHZduufzEc8gilLvh2lU-YbhyJXPg",
      "authorship_tag": "ABX9TyNhw4+NpUgUl/7w0oAY8qs7",
      "include_colab_link": true
    },
    "kernelspec": {
      "name": "python3",
      "display_name": "Python 3"
    }
  },
  "cells": [
    {
      "cell_type": "markdown",
      "metadata": {
        "id": "view-in-github",
        "colab_type": "text"
      },
      "source": [
        "<a href=\"https://colab.research.google.com/github/wenjunsun/Covid-19-analysis-with-uw-ubicomp/blob/master/week10/prepare_data_with_SIP_date.ipynb\" target=\"_parent\"><img src=\"https://colab.research.google.com/assets/colab-badge.svg\" alt=\"Open In Colab\"/></a>"
      ]
    },
    {
      "cell_type": "markdown",
      "metadata": {
        "id": "qPo-cVV56kaT",
        "colab_type": "text"
      },
      "source": [
        "In this notebook we will prepare data for propensity score matching using the before and after shelter in place date, instead of using the first case date. The reason for doing this is that people's behaviors don't change right afte the first case. For example King County's first case is on January 22nd, and people's behavior didn't change until March. So picking the SIP date as the breaking point might yield more reasonable results for how much policy has impact on people's behavior."
      ]
    },
    {
      "cell_type": "code",
      "metadata": {
        "id": "aMt5geMf6DbL",
        "colab_type": "code",
        "colab": {
          "base_uri": "https://localhost:8080/",
          "height": 34
        },
        "outputId": "4ecf967b-b9b6-4d90-a612-b12cd822a0b2"
      },
      "source": [
        "ls"
      ],
      "execution_count": 1,
      "outputs": [
        {
          "output_type": "stream",
          "text": [
            "\u001b[0m\u001b[01;34mdrive\u001b[0m/  \u001b[01;34msample_data\u001b[0m/\n"
          ],
          "name": "stdout"
        }
      ]
    },
    {
      "cell_type": "code",
      "metadata": {
        "id": "xFl7IRgz6Q54",
        "colab_type": "code",
        "colab": {
          "base_uri": "https://localhost:8080/",
          "height": 34
        },
        "outputId": "3caa4669-4a56-40ac-858e-659234c17759"
      },
      "source": [
        "cd drive/My\\ Drive/week8"
      ],
      "execution_count": 2,
      "outputs": [
        {
          "output_type": "stream",
          "text": [
            "/content/drive/My Drive/week8\n"
          ],
          "name": "stdout"
        }
      ]
    },
    {
      "cell_type": "code",
      "metadata": {
        "id": "YpiGKhrB6UBP",
        "colab_type": "code",
        "colab": {}
      },
      "source": [
        "import pandas as pd"
      ],
      "execution_count": 3,
      "outputs": []
    },
    {
      "cell_type": "markdown",
      "metadata": {
        "id": "Q3WTREsG6dPY",
        "colab_type": "text"
      },
      "source": [
        "# First need to calculate the mean shelter in place date, of all the counties"
      ]
    },
    {
      "cell_type": "code",
      "metadata": {
        "id": "jjvGQC4Z7eHS",
        "colab_type": "code",
        "colab": {
          "base_uri": "https://localhost:8080/",
          "height": 425
        },
        "outputId": "a0f9222f-88f8-4344-8db1-685a972e2cba"
      },
      "source": [
        "ls"
      ],
      "execution_count": 5,
      "outputs": [
        {
          "output_type": "stream",
          "text": [
            " 2016_US_County_Level_Presidential_Results.csv\n",
            " 2019_data.csv\n",
            "'2020 County Health Rankings Data - Additional Measure Data.csv'\n",
            "'2020 County Health Rankings Data - Ranked Measure Data.csv'\n",
            " 2020_data.csv\n",
            " check_if_data_is_alright.ipynb\n",
            "'Copy of agg_social_dist_2.csv'\n",
            " county_data_with_covariates.csv\n",
            " county_data_with_reduced_covariates.csv\n",
            " county_data_with_reduced_covariates_up_to_2020-8-8.csv\n",
            " data_2019_agg.csv\n",
            " data_2020_agg.csv\n",
            " data_for_propensity.csv\n",
            " days_since.csv\n",
            " merged_data.csv\n",
            " prepare_data_with_SIP_date.ipynb\n",
            " prepare_new_data.ipynb\n",
            " propensity_score_matching_new_data.ipynb\n",
            " social_dist_aggregated_on_county.csv\n",
            " social_dist_all_trimmed.csv\n",
            " social_dist_all_trimmed_new.csv\n",
            " social_dist_low_device_count_filtered.csv\n",
            " social_dist_reduced.csv\n",
            " us_states_governors.csv\n"
          ],
          "name": "stdout"
        }
      ]
    },
    {
      "cell_type": "code",
      "metadata": {
        "id": "ziRkSuUY6WNV",
        "colab_type": "code",
        "colab": {}
      },
      "source": [
        "# load data that has the date of each county's shelter in place\n",
        "# read the SIP date column as datetime object.\n",
        "days_since = pd.read_csv(\"days_since.csv\", parse_dates=['Date - shelter in place'], infer_datetime_format=True)"
      ],
      "execution_count": 8,
      "outputs": []
    },
    {
      "cell_type": "code",
      "metadata": {
        "id": "vLaZyzc17cEP",
        "colab_type": "code",
        "colab": {
          "base_uri": "https://localhost:8080/",
          "height": 204
        },
        "outputId": "72188cb2-63c5-4337-958f-4f7dae357efa"
      },
      "source": [
        "days_since.head()"
      ],
      "execution_count": 9,
      "outputs": [
        {
          "output_type": "execute_result",
          "data": {
            "text/html": [
              "<div>\n",
              "<style scoped>\n",
              "    .dataframe tbody tr th:only-of-type {\n",
              "        vertical-align: middle;\n",
              "    }\n",
              "\n",
              "    .dataframe tbody tr th {\n",
              "        vertical-align: top;\n",
              "    }\n",
              "\n",
              "    .dataframe thead th {\n",
              "        text-align: right;\n",
              "    }\n",
              "</style>\n",
              "<table border=\"1\" class=\"dataframe\">\n",
              "  <thead>\n",
              "    <tr style=\"text-align: right;\">\n",
              "      <th></th>\n",
              "      <th>Unnamed: 0</th>\n",
              "      <th>Date - first case</th>\n",
              "      <th>Date - first death</th>\n",
              "      <th>Date - reopening</th>\n",
              "      <th>Date - shelter in place</th>\n",
              "      <th>Date - shelter in place ends</th>\n",
              "      <th>cnamelong</th>\n",
              "      <th>county</th>\n",
              "      <th>county_code</th>\n",
              "      <th>state</th>\n",
              "      <th>state_code</th>\n",
              "      <th>state_name</th>\n",
              "    </tr>\n",
              "  </thead>\n",
              "  <tbody>\n",
              "    <tr>\n",
              "      <th>0</th>\n",
              "      <td>0</td>\n",
              "      <td>2020-03-24</td>\n",
              "      <td>2020-04-07</td>\n",
              "      <td>2020-04-30</td>\n",
              "      <td>2020-04-04</td>\n",
              "      <td>2020-04-30</td>\n",
              "      <td>Autauga County</td>\n",
              "      <td>1.0</td>\n",
              "      <td>1001.0</td>\n",
              "      <td>1.0</td>\n",
              "      <td>AL</td>\n",
              "      <td>Alabama</td>\n",
              "    </tr>\n",
              "    <tr>\n",
              "      <th>1</th>\n",
              "      <td>1</td>\n",
              "      <td>2020-03-15</td>\n",
              "      <td>2020-03-29</td>\n",
              "      <td>2020-04-30</td>\n",
              "      <td>2020-04-04</td>\n",
              "      <td>2020-04-30</td>\n",
              "      <td>Baldwin County</td>\n",
              "      <td>3.0</td>\n",
              "      <td>1003.0</td>\n",
              "      <td>1.0</td>\n",
              "      <td>AL</td>\n",
              "      <td>Alabama</td>\n",
              "    </tr>\n",
              "    <tr>\n",
              "      <th>2</th>\n",
              "      <td>2</td>\n",
              "      <td>2020-04-03</td>\n",
              "      <td>2020-04-29</td>\n",
              "      <td>2020-04-30</td>\n",
              "      <td>2020-04-04</td>\n",
              "      <td>2020-04-30</td>\n",
              "      <td>Barbour County</td>\n",
              "      <td>5.0</td>\n",
              "      <td>1005.0</td>\n",
              "      <td>1.0</td>\n",
              "      <td>AL</td>\n",
              "      <td>Alabama</td>\n",
              "    </tr>\n",
              "    <tr>\n",
              "      <th>3</th>\n",
              "      <td>3</td>\n",
              "      <td>2020-03-30</td>\n",
              "      <td>2020-05-08</td>\n",
              "      <td>2020-04-30</td>\n",
              "      <td>2020-04-04</td>\n",
              "      <td>2020-04-30</td>\n",
              "      <td>Bibb County</td>\n",
              "      <td>7.0</td>\n",
              "      <td>1007.0</td>\n",
              "      <td>1.0</td>\n",
              "      <td>AL</td>\n",
              "      <td>Alabama</td>\n",
              "    </tr>\n",
              "    <tr>\n",
              "      <th>4</th>\n",
              "      <td>4</td>\n",
              "      <td>2020-03-25</td>\n",
              "      <td>2020-05-17</td>\n",
              "      <td>2020-04-30</td>\n",
              "      <td>2020-04-04</td>\n",
              "      <td>2020-04-30</td>\n",
              "      <td>Blount County</td>\n",
              "      <td>9.0</td>\n",
              "      <td>1009.0</td>\n",
              "      <td>1.0</td>\n",
              "      <td>AL</td>\n",
              "      <td>Alabama</td>\n",
              "    </tr>\n",
              "  </tbody>\n",
              "</table>\n",
              "</div>"
            ],
            "text/plain": [
              "   Unnamed: 0 Date - first case Date - first death  ... state state_code state_name\n",
              "0           0        2020-03-24         2020-04-07  ...   1.0         AL    Alabama\n",
              "1           1        2020-03-15         2020-03-29  ...   1.0         AL    Alabama\n",
              "2           2        2020-04-03         2020-04-29  ...   1.0         AL    Alabama\n",
              "3           3        2020-03-30         2020-05-08  ...   1.0         AL    Alabama\n",
              "4           4        2020-03-25         2020-05-17  ...   1.0         AL    Alabama\n",
              "\n",
              "[5 rows x 12 columns]"
            ]
          },
          "metadata": {
            "tags": []
          },
          "execution_count": 9
        }
      ]
    },
    {
      "cell_type": "code",
      "metadata": {
        "id": "M4xEW0Hj7hoO",
        "colab_type": "code",
        "colab": {
          "base_uri": "https://localhost:8080/",
          "height": 238
        },
        "outputId": "aebc7df2-0dbb-486c-87f5-797dc0d1a609"
      },
      "source": [
        "days_since.dtypes"
      ],
      "execution_count": 10,
      "outputs": [
        {
          "output_type": "execute_result",
          "data": {
            "text/plain": [
              "Unnamed: 0                               int64\n",
              "Date - first case                       object\n",
              "Date - first death                      object\n",
              "Date - reopening                        object\n",
              "Date - shelter in place         datetime64[ns]\n",
              "Date - shelter in place ends            object\n",
              "cnamelong                               object\n",
              "county                                 float64\n",
              "county_code                            float64\n",
              "state                                  float64\n",
              "state_code                              object\n",
              "state_name                              object\n",
              "dtype: object"
            ]
          },
          "metadata": {
            "tags": []
          },
          "execution_count": 10
        }
      ]
    },
    {
      "cell_type": "code",
      "metadata": {
        "id": "-Tj4mtab73x_",
        "colab_type": "code",
        "colab": {
          "base_uri": "https://localhost:8080/",
          "height": 34
        },
        "outputId": "b3e7daf7-997a-46ae-d343-86533efc819f"
      },
      "source": [
        "days_since['Date - shelter in place'].mean()"
      ],
      "execution_count": 11,
      "outputs": [
        {
          "output_type": "execute_result",
          "data": {
            "text/plain": [
              "Timestamp('2020-03-28 09:36:50.898386944')"
            ]
          },
          "metadata": {
            "tags": []
          },
          "execution_count": 11
        }
      ]
    },
    {
      "cell_type": "markdown",
      "metadata": {
        "id": "iizcUDVj7_Lm",
        "colab_type": "text"
      },
      "source": [
        "As we can see the 'mean' shelter in place date of all counties is 2020-03-28. We will use this date for counties without shelter in place order. For counties with shelter in place, we will use that county's SIP date as comparison metric"
      ]
    },
    {
      "cell_type": "markdown",
      "metadata": {
        "id": "srn1CZrA8rgg",
        "colab_type": "text"
      },
      "source": [
        "# Now we need to get all the data within the time window."
      ]
    },
    {
      "cell_type": "markdown",
      "metadata": {
        "id": "QMadBS5n80zv",
        "colab_type": "text"
      },
      "source": [
        "- time window for counties without shelter in place order is 2019-03-28 to 2019-06-01 and 2020-03-28 to 2020-06-01\n",
        "- time window for counties with shelter in place order is that county's shelter in place date - 2020-06-01 and the same window in 2019."
      ]
    },
    {
      "cell_type": "markdown",
      "metadata": {
        "id": "20iH_at5-gPQ",
        "colab_type": "text"
      },
      "source": [
        "## combine social distance data with shelter in place date data"
      ]
    },
    {
      "cell_type": "code",
      "metadata": {
        "id": "U5eRu-LT78lS",
        "colab_type": "code",
        "colab": {}
      },
      "source": [
        "data = pd.read_csv(\"social_dist_low_device_count_filtered.csv\", parse_dates=['date_range_start'],\\\n",
        "                   infer_datetime_format = True) "
      ],
      "execution_count": 12,
      "outputs": []
    },
    {
      "cell_type": "code",
      "metadata": {
        "id": "bRGbjPx29lG2",
        "colab_type": "code",
        "colab": {
          "base_uri": "https://localhost:8080/",
          "height": 153
        },
        "outputId": "d09cc093-db0d-45c8-bd01-1602f96edb0a"
      },
      "source": [
        "data.dtypes"
      ],
      "execution_count": 13,
      "outputs": [
        {
          "output_type": "execute_result",
          "data": {
            "text/plain": [
              "date_range_start                datetime64[ns]\n",
              "state                                  float64\n",
              "state_code                              object\n",
              "cnamelong                               object\n",
              "county_code                            float64\n",
              "device_count                           float64\n",
              "completely_home_device_count           float64\n",
              "dtype: object"
            ]
          },
          "metadata": {
            "tags": []
          },
          "execution_count": 13
        }
      ]
    },
    {
      "cell_type": "code",
      "metadata": {
        "id": "VJTYBVt_9oDB",
        "colab_type": "code",
        "colab": {
          "base_uri": "https://localhost:8080/",
          "height": 204
        },
        "outputId": "d5da2554-f818-45b4-fd9c-5165b39650d8"
      },
      "source": [
        "data.head()"
      ],
      "execution_count": 14,
      "outputs": [
        {
          "output_type": "execute_result",
          "data": {
            "text/html": [
              "<div>\n",
              "<style scoped>\n",
              "    .dataframe tbody tr th:only-of-type {\n",
              "        vertical-align: middle;\n",
              "    }\n",
              "\n",
              "    .dataframe tbody tr th {\n",
              "        vertical-align: top;\n",
              "    }\n",
              "\n",
              "    .dataframe thead th {\n",
              "        text-align: right;\n",
              "    }\n",
              "</style>\n",
              "<table border=\"1\" class=\"dataframe\">\n",
              "  <thead>\n",
              "    <tr style=\"text-align: right;\">\n",
              "      <th></th>\n",
              "      <th>date_range_start</th>\n",
              "      <th>state</th>\n",
              "      <th>state_code</th>\n",
              "      <th>cnamelong</th>\n",
              "      <th>county_code</th>\n",
              "      <th>device_count</th>\n",
              "      <th>completely_home_device_count</th>\n",
              "    </tr>\n",
              "  </thead>\n",
              "  <tbody>\n",
              "    <tr>\n",
              "      <th>0</th>\n",
              "      <td>2019-01-01</td>\n",
              "      <td>1.0</td>\n",
              "      <td>AL</td>\n",
              "      <td>Autauga County</td>\n",
              "      <td>1001.0</td>\n",
              "      <td>4708.0</td>\n",
              "      <td>1829.0</td>\n",
              "    </tr>\n",
              "    <tr>\n",
              "      <th>1</th>\n",
              "      <td>2019-01-01</td>\n",
              "      <td>1.0</td>\n",
              "      <td>AL</td>\n",
              "      <td>Baldwin County</td>\n",
              "      <td>1003.0</td>\n",
              "      <td>19655.0</td>\n",
              "      <td>7717.0</td>\n",
              "    </tr>\n",
              "    <tr>\n",
              "      <th>2</th>\n",
              "      <td>2019-01-01</td>\n",
              "      <td>1.0</td>\n",
              "      <td>AL</td>\n",
              "      <td>Barbour County</td>\n",
              "      <td>1005.0</td>\n",
              "      <td>1570.0</td>\n",
              "      <td>594.0</td>\n",
              "    </tr>\n",
              "    <tr>\n",
              "      <th>3</th>\n",
              "      <td>2019-01-01</td>\n",
              "      <td>1.0</td>\n",
              "      <td>AL</td>\n",
              "      <td>Bibb County</td>\n",
              "      <td>1007.0</td>\n",
              "      <td>1702.0</td>\n",
              "      <td>623.0</td>\n",
              "    </tr>\n",
              "    <tr>\n",
              "      <th>4</th>\n",
              "      <td>2019-01-01</td>\n",
              "      <td>1.0</td>\n",
              "      <td>AL</td>\n",
              "      <td>Blount County</td>\n",
              "      <td>1009.0</td>\n",
              "      <td>5224.0</td>\n",
              "      <td>1901.0</td>\n",
              "    </tr>\n",
              "  </tbody>\n",
              "</table>\n",
              "</div>"
            ],
            "text/plain": [
              "  date_range_start  state  ... device_count completely_home_device_count\n",
              "0       2019-01-01    1.0  ...       4708.0                       1829.0\n",
              "1       2019-01-01    1.0  ...      19655.0                       7717.0\n",
              "2       2019-01-01    1.0  ...       1570.0                        594.0\n",
              "3       2019-01-01    1.0  ...       1702.0                        623.0\n",
              "4       2019-01-01    1.0  ...       5224.0                       1901.0\n",
              "\n",
              "[5 rows x 7 columns]"
            ]
          },
          "metadata": {
            "tags": []
          },
          "execution_count": 14
        }
      ]
    },
    {
      "cell_type": "code",
      "metadata": {
        "id": "u0Iy_OTk-CA0",
        "colab_type": "code",
        "colab": {
          "base_uri": "https://localhost:8080/",
          "height": 204
        },
        "outputId": "fbf1d6a4-a54c-45c5-d5ca-018624e1fced"
      },
      "source": [
        "days_since.head()"
      ],
      "execution_count": 16,
      "outputs": [
        {
          "output_type": "execute_result",
          "data": {
            "text/html": [
              "<div>\n",
              "<style scoped>\n",
              "    .dataframe tbody tr th:only-of-type {\n",
              "        vertical-align: middle;\n",
              "    }\n",
              "\n",
              "    .dataframe tbody tr th {\n",
              "        vertical-align: top;\n",
              "    }\n",
              "\n",
              "    .dataframe thead th {\n",
              "        text-align: right;\n",
              "    }\n",
              "</style>\n",
              "<table border=\"1\" class=\"dataframe\">\n",
              "  <thead>\n",
              "    <tr style=\"text-align: right;\">\n",
              "      <th></th>\n",
              "      <th>Unnamed: 0</th>\n",
              "      <th>Date - first case</th>\n",
              "      <th>Date - first death</th>\n",
              "      <th>Date - reopening</th>\n",
              "      <th>Date - shelter in place</th>\n",
              "      <th>Date - shelter in place ends</th>\n",
              "      <th>cnamelong</th>\n",
              "      <th>county</th>\n",
              "      <th>county_code</th>\n",
              "      <th>state</th>\n",
              "      <th>state_code</th>\n",
              "      <th>state_name</th>\n",
              "    </tr>\n",
              "  </thead>\n",
              "  <tbody>\n",
              "    <tr>\n",
              "      <th>0</th>\n",
              "      <td>0</td>\n",
              "      <td>2020-03-24</td>\n",
              "      <td>2020-04-07</td>\n",
              "      <td>2020-04-30</td>\n",
              "      <td>2020-04-04</td>\n",
              "      <td>2020-04-30</td>\n",
              "      <td>Autauga County</td>\n",
              "      <td>1.0</td>\n",
              "      <td>1001.0</td>\n",
              "      <td>1.0</td>\n",
              "      <td>AL</td>\n",
              "      <td>Alabama</td>\n",
              "    </tr>\n",
              "    <tr>\n",
              "      <th>1</th>\n",
              "      <td>1</td>\n",
              "      <td>2020-03-15</td>\n",
              "      <td>2020-03-29</td>\n",
              "      <td>2020-04-30</td>\n",
              "      <td>2020-04-04</td>\n",
              "      <td>2020-04-30</td>\n",
              "      <td>Baldwin County</td>\n",
              "      <td>3.0</td>\n",
              "      <td>1003.0</td>\n",
              "      <td>1.0</td>\n",
              "      <td>AL</td>\n",
              "      <td>Alabama</td>\n",
              "    </tr>\n",
              "    <tr>\n",
              "      <th>2</th>\n",
              "      <td>2</td>\n",
              "      <td>2020-04-03</td>\n",
              "      <td>2020-04-29</td>\n",
              "      <td>2020-04-30</td>\n",
              "      <td>2020-04-04</td>\n",
              "      <td>2020-04-30</td>\n",
              "      <td>Barbour County</td>\n",
              "      <td>5.0</td>\n",
              "      <td>1005.0</td>\n",
              "      <td>1.0</td>\n",
              "      <td>AL</td>\n",
              "      <td>Alabama</td>\n",
              "    </tr>\n",
              "    <tr>\n",
              "      <th>3</th>\n",
              "      <td>3</td>\n",
              "      <td>2020-03-30</td>\n",
              "      <td>2020-05-08</td>\n",
              "      <td>2020-04-30</td>\n",
              "      <td>2020-04-04</td>\n",
              "      <td>2020-04-30</td>\n",
              "      <td>Bibb County</td>\n",
              "      <td>7.0</td>\n",
              "      <td>1007.0</td>\n",
              "      <td>1.0</td>\n",
              "      <td>AL</td>\n",
              "      <td>Alabama</td>\n",
              "    </tr>\n",
              "    <tr>\n",
              "      <th>4</th>\n",
              "      <td>4</td>\n",
              "      <td>2020-03-25</td>\n",
              "      <td>2020-05-17</td>\n",
              "      <td>2020-04-30</td>\n",
              "      <td>2020-04-04</td>\n",
              "      <td>2020-04-30</td>\n",
              "      <td>Blount County</td>\n",
              "      <td>9.0</td>\n",
              "      <td>1009.0</td>\n",
              "      <td>1.0</td>\n",
              "      <td>AL</td>\n",
              "      <td>Alabama</td>\n",
              "    </tr>\n",
              "  </tbody>\n",
              "</table>\n",
              "</div>"
            ],
            "text/plain": [
              "   Unnamed: 0 Date - first case Date - first death  ... state state_code state_name\n",
              "0           0        2020-03-24         2020-04-07  ...   1.0         AL    Alabama\n",
              "1           1        2020-03-15         2020-03-29  ...   1.0         AL    Alabama\n",
              "2           2        2020-04-03         2020-04-29  ...   1.0         AL    Alabama\n",
              "3           3        2020-03-30         2020-05-08  ...   1.0         AL    Alabama\n",
              "4           4        2020-03-25         2020-05-17  ...   1.0         AL    Alabama\n",
              "\n",
              "[5 rows x 12 columns]"
            ]
          },
          "metadata": {
            "tags": []
          },
          "execution_count": 16
        }
      ]
    },
    {
      "cell_type": "code",
      "metadata": {
        "id": "gy0wCAJW9pN5",
        "colab_type": "code",
        "colab": {}
      },
      "source": [
        "# we only need to combine the date of shelter in place to social distancing data.\n",
        "# so let's just get the columns we need\n",
        "days_since = days_since[['county_code', 'Date - shelter in place']]"
      ],
      "execution_count": 17,
      "outputs": []
    },
    {
      "cell_type": "code",
      "metadata": {
        "id": "_Bj-zUzp-Lab",
        "colab_type": "code",
        "colab": {
          "base_uri": "https://localhost:8080/",
          "height": 204
        },
        "outputId": "3c32b5df-c993-4dfb-ffcb-de806ae300de"
      },
      "source": [
        "days_since.head()"
      ],
      "execution_count": 18,
      "outputs": [
        {
          "output_type": "execute_result",
          "data": {
            "text/html": [
              "<div>\n",
              "<style scoped>\n",
              "    .dataframe tbody tr th:only-of-type {\n",
              "        vertical-align: middle;\n",
              "    }\n",
              "\n",
              "    .dataframe tbody tr th {\n",
              "        vertical-align: top;\n",
              "    }\n",
              "\n",
              "    .dataframe thead th {\n",
              "        text-align: right;\n",
              "    }\n",
              "</style>\n",
              "<table border=\"1\" class=\"dataframe\">\n",
              "  <thead>\n",
              "    <tr style=\"text-align: right;\">\n",
              "      <th></th>\n",
              "      <th>county_code</th>\n",
              "      <th>Date - shelter in place</th>\n",
              "    </tr>\n",
              "  </thead>\n",
              "  <tbody>\n",
              "    <tr>\n",
              "      <th>0</th>\n",
              "      <td>1001.0</td>\n",
              "      <td>2020-04-04</td>\n",
              "    </tr>\n",
              "    <tr>\n",
              "      <th>1</th>\n",
              "      <td>1003.0</td>\n",
              "      <td>2020-04-04</td>\n",
              "    </tr>\n",
              "    <tr>\n",
              "      <th>2</th>\n",
              "      <td>1005.0</td>\n",
              "      <td>2020-04-04</td>\n",
              "    </tr>\n",
              "    <tr>\n",
              "      <th>3</th>\n",
              "      <td>1007.0</td>\n",
              "      <td>2020-04-04</td>\n",
              "    </tr>\n",
              "    <tr>\n",
              "      <th>4</th>\n",
              "      <td>1009.0</td>\n",
              "      <td>2020-04-04</td>\n",
              "    </tr>\n",
              "  </tbody>\n",
              "</table>\n",
              "</div>"
            ],
            "text/plain": [
              "   county_code Date - shelter in place\n",
              "0       1001.0              2020-04-04\n",
              "1       1003.0              2020-04-04\n",
              "2       1005.0              2020-04-04\n",
              "3       1007.0              2020-04-04\n",
              "4       1009.0              2020-04-04"
            ]
          },
          "metadata": {
            "tags": []
          },
          "execution_count": 18
        }
      ]
    },
    {
      "cell_type": "code",
      "metadata": {
        "id": "jVW1jSrY-Nim",
        "colab_type": "code",
        "colab": {}
      },
      "source": [
        "data = pd.merge(data, days_since, how =\"left\", on=\"county_code\")"
      ],
      "execution_count": 21,
      "outputs": []
    },
    {
      "cell_type": "code",
      "metadata": {
        "id": "5EXC_u1l-TiA",
        "colab_type": "code",
        "colab": {
          "base_uri": "https://localhost:8080/",
          "height": 204
        },
        "outputId": "b2ce1db3-a69d-4576-f53d-d204f4902dcf"
      },
      "source": [
        "data.head()"
      ],
      "execution_count": 22,
      "outputs": [
        {
          "output_type": "execute_result",
          "data": {
            "text/html": [
              "<div>\n",
              "<style scoped>\n",
              "    .dataframe tbody tr th:only-of-type {\n",
              "        vertical-align: middle;\n",
              "    }\n",
              "\n",
              "    .dataframe tbody tr th {\n",
              "        vertical-align: top;\n",
              "    }\n",
              "\n",
              "    .dataframe thead th {\n",
              "        text-align: right;\n",
              "    }\n",
              "</style>\n",
              "<table border=\"1\" class=\"dataframe\">\n",
              "  <thead>\n",
              "    <tr style=\"text-align: right;\">\n",
              "      <th></th>\n",
              "      <th>date_range_start</th>\n",
              "      <th>state</th>\n",
              "      <th>state_code</th>\n",
              "      <th>cnamelong</th>\n",
              "      <th>county_code</th>\n",
              "      <th>device_count</th>\n",
              "      <th>completely_home_device_count</th>\n",
              "      <th>Date - shelter in place</th>\n",
              "    </tr>\n",
              "  </thead>\n",
              "  <tbody>\n",
              "    <tr>\n",
              "      <th>0</th>\n",
              "      <td>2019-01-01</td>\n",
              "      <td>1.0</td>\n",
              "      <td>AL</td>\n",
              "      <td>Autauga County</td>\n",
              "      <td>1001.0</td>\n",
              "      <td>4708.0</td>\n",
              "      <td>1829.0</td>\n",
              "      <td>2020-04-04</td>\n",
              "    </tr>\n",
              "    <tr>\n",
              "      <th>1</th>\n",
              "      <td>2019-01-01</td>\n",
              "      <td>1.0</td>\n",
              "      <td>AL</td>\n",
              "      <td>Baldwin County</td>\n",
              "      <td>1003.0</td>\n",
              "      <td>19655.0</td>\n",
              "      <td>7717.0</td>\n",
              "      <td>2020-04-04</td>\n",
              "    </tr>\n",
              "    <tr>\n",
              "      <th>2</th>\n",
              "      <td>2019-01-01</td>\n",
              "      <td>1.0</td>\n",
              "      <td>AL</td>\n",
              "      <td>Barbour County</td>\n",
              "      <td>1005.0</td>\n",
              "      <td>1570.0</td>\n",
              "      <td>594.0</td>\n",
              "      <td>2020-04-04</td>\n",
              "    </tr>\n",
              "    <tr>\n",
              "      <th>3</th>\n",
              "      <td>2019-01-01</td>\n",
              "      <td>1.0</td>\n",
              "      <td>AL</td>\n",
              "      <td>Bibb County</td>\n",
              "      <td>1007.0</td>\n",
              "      <td>1702.0</td>\n",
              "      <td>623.0</td>\n",
              "      <td>2020-04-04</td>\n",
              "    </tr>\n",
              "    <tr>\n",
              "      <th>4</th>\n",
              "      <td>2019-01-01</td>\n",
              "      <td>1.0</td>\n",
              "      <td>AL</td>\n",
              "      <td>Blount County</td>\n",
              "      <td>1009.0</td>\n",
              "      <td>5224.0</td>\n",
              "      <td>1901.0</td>\n",
              "      <td>2020-04-04</td>\n",
              "    </tr>\n",
              "  </tbody>\n",
              "</table>\n",
              "</div>"
            ],
            "text/plain": [
              "  date_range_start  state  ... completely_home_device_count Date - shelter in place\n",
              "0       2019-01-01    1.0  ...                       1829.0              2020-04-04\n",
              "1       2019-01-01    1.0  ...                       7717.0              2020-04-04\n",
              "2       2019-01-01    1.0  ...                        594.0              2020-04-04\n",
              "3       2019-01-01    1.0  ...                        623.0              2020-04-04\n",
              "4       2019-01-01    1.0  ...                       1901.0              2020-04-04\n",
              "\n",
              "[5 rows x 8 columns]"
            ]
          },
          "metadata": {
            "tags": []
          },
          "execution_count": 22
        }
      ]
    },
    {
      "cell_type": "code",
      "metadata": {
        "id": "O2yWlNwG-VwJ",
        "colab_type": "code",
        "colab": {
          "base_uri": "https://localhost:8080/",
          "height": 204
        },
        "outputId": "34490418-0c94-4367-d073-93eb41b264d6"
      },
      "source": [
        "# these are the counties without shelter in place.\n",
        "data[data['Date - shelter in place'].isnull()].head()"
      ],
      "execution_count": 24,
      "outputs": [
        {
          "output_type": "execute_result",
          "data": {
            "text/html": [
              "<div>\n",
              "<style scoped>\n",
              "    .dataframe tbody tr th:only-of-type {\n",
              "        vertical-align: middle;\n",
              "    }\n",
              "\n",
              "    .dataframe tbody tr th {\n",
              "        vertical-align: top;\n",
              "    }\n",
              "\n",
              "    .dataframe thead th {\n",
              "        text-align: right;\n",
              "    }\n",
              "</style>\n",
              "<table border=\"1\" class=\"dataframe\">\n",
              "  <thead>\n",
              "    <tr style=\"text-align: right;\">\n",
              "      <th></th>\n",
              "      <th>date_range_start</th>\n",
              "      <th>state</th>\n",
              "      <th>state_code</th>\n",
              "      <th>cnamelong</th>\n",
              "      <th>county_code</th>\n",
              "      <th>device_count</th>\n",
              "      <th>completely_home_device_count</th>\n",
              "      <th>Date - shelter in place</th>\n",
              "    </tr>\n",
              "  </thead>\n",
              "  <tbody>\n",
              "    <tr>\n",
              "      <th>97</th>\n",
              "      <td>2019-01-01</td>\n",
              "      <td>5.0</td>\n",
              "      <td>AR</td>\n",
              "      <td>Arkansas County</td>\n",
              "      <td>5001.0</td>\n",
              "      <td>1347.0</td>\n",
              "      <td>462.0</td>\n",
              "      <td>NaT</td>\n",
              "    </tr>\n",
              "    <tr>\n",
              "      <th>98</th>\n",
              "      <td>2019-01-01</td>\n",
              "      <td>5.0</td>\n",
              "      <td>AR</td>\n",
              "      <td>Ashley County</td>\n",
              "      <td>5003.0</td>\n",
              "      <td>1444.0</td>\n",
              "      <td>484.0</td>\n",
              "      <td>NaT</td>\n",
              "    </tr>\n",
              "    <tr>\n",
              "      <th>99</th>\n",
              "      <td>2019-01-01</td>\n",
              "      <td>5.0</td>\n",
              "      <td>AR</td>\n",
              "      <td>Baxter County</td>\n",
              "      <td>5005.0</td>\n",
              "      <td>2681.0</td>\n",
              "      <td>1291.0</td>\n",
              "      <td>NaT</td>\n",
              "    </tr>\n",
              "    <tr>\n",
              "      <th>100</th>\n",
              "      <td>2019-01-01</td>\n",
              "      <td>5.0</td>\n",
              "      <td>AR</td>\n",
              "      <td>Benton County</td>\n",
              "      <td>5007.0</td>\n",
              "      <td>21550.0</td>\n",
              "      <td>8760.0</td>\n",
              "      <td>NaT</td>\n",
              "    </tr>\n",
              "    <tr>\n",
              "      <th>101</th>\n",
              "      <td>2019-01-01</td>\n",
              "      <td>5.0</td>\n",
              "      <td>AR</td>\n",
              "      <td>Boone County</td>\n",
              "      <td>5009.0</td>\n",
              "      <td>2638.0</td>\n",
              "      <td>1132.0</td>\n",
              "      <td>NaT</td>\n",
              "    </tr>\n",
              "  </tbody>\n",
              "</table>\n",
              "</div>"
            ],
            "text/plain": [
              "    date_range_start  ...  Date - shelter in place\n",
              "97        2019-01-01  ...                      NaT\n",
              "98        2019-01-01  ...                      NaT\n",
              "99        2019-01-01  ...                      NaT\n",
              "100       2019-01-01  ...                      NaT\n",
              "101       2019-01-01  ...                      NaT\n",
              "\n",
              "[5 rows x 8 columns]"
            ]
          },
          "metadata": {
            "tags": []
          },
          "execution_count": 24
        }
      ]
    },
    {
      "cell_type": "markdown",
      "metadata": {
        "id": "AjoTO75a_Cpg",
        "colab_type": "text"
      },
      "source": [
        "## filter out data not within the time window range."
      ]
    },
    {
      "cell_type": "code",
      "metadata": {
        "id": "tEoVN_6T-Ywm",
        "colab_type": "code",
        "colab": {}
      },
      "source": [
        "from datetime import datetime"
      ],
      "execution_count": 25,
      "outputs": []
    },
    {
      "cell_type": "code",
      "metadata": {
        "id": "4cNxrsqM_SIW",
        "colab_type": "code",
        "colab": {}
      },
      "source": [
        "# a custom function that given a row return true\n",
        "# if this row is within the time window and false\n",
        "# otherwise\n",
        "def isThisRowInTimeWindow(row):\n",
        "  thisDataDate = row['date_range_start']\n",
        "  # if this row's SIP date is null, then begin window from 2020-03-28,\n",
        "  # else use that row's SIP date as the starting window\n",
        "  thisYearBeginDate = row['Date - shelter in place'] if not pd.isnull(row['Date - shelter in place']) else thisDataDate.replace(2020,3,28)\n",
        "\n",
        "  thisYearEndDate = thisYearBeginDate.replace(month=6, day = 1)\n",
        "\n",
        "  # return true if this row's date is within the window\n",
        "  if thisDataDate.dayofyear <= 60:\n",
        "    return thisDataDate.dayofyear >= thisYearBeginDate.dayofyear \\\n",
        "      and thisDataDate.dayofyear <= thisYearEndDate.dayofyear\n",
        "  else:\n",
        "    return thisDataDate.dayofyear + 1 >= thisYearBeginDate.dayofyear \\\n",
        "      and thisDataDate.dayofyear <= thisYearEndDate.dayofyear"
      ],
      "execution_count": 26,
      "outputs": []
    },
    {
      "cell_type": "code",
      "metadata": {
        "id": "DBo9m26pAEb6",
        "colab_type": "code",
        "colab": {
          "base_uri": "https://localhost:8080/",
          "height": 170
        },
        "outputId": "5aa5602b-7fce-4f74-f847-a988a5700764"
      },
      "source": [
        "data.iloc[280000]"
      ],
      "execution_count": 34,
      "outputs": [
        {
          "output_type": "execute_result",
          "data": {
            "text/plain": [
              "date_range_start                2019-04-03 00:00:00\n",
              "state                                            18\n",
              "state_code                                       IN\n",
              "cnamelong                             Morgan County\n",
              "county_code                                   18109\n",
              "device_count                                   5691\n",
              "completely_home_device_count                   1425\n",
              "Date - shelter in place         2020-03-25 00:00:00\n",
              "Name: 280000, dtype: object"
            ]
          },
          "metadata": {
            "tags": []
          },
          "execution_count": 34
        }
      ]
    },
    {
      "cell_type": "code",
      "metadata": {
        "id": "pSxdxKb6AGDu",
        "colab_type": "code",
        "colab": {
          "base_uri": "https://localhost:8080/",
          "height": 34
        },
        "outputId": "80240e42-7f5d-477e-f358-c39d8e62a0fd"
      },
      "source": [
        "isThisRowInTimeWindow(data.iloc[280000])"
      ],
      "execution_count": 35,
      "outputs": [
        {
          "output_type": "execute_result",
          "data": {
            "text/plain": [
              "True"
            ]
          },
          "metadata": {
            "tags": []
          },
          "execution_count": 35
        }
      ]
    },
    {
      "cell_type": "code",
      "metadata": {
        "id": "YmZixBgoAUPq",
        "colab_type": "code",
        "colab": {
          "base_uri": "https://localhost:8080/",
          "height": 204
        },
        "outputId": "14fd2a96-50c0-4f7d-85c0-6c85f31047c2"
      },
      "source": [
        "data[data['Date - shelter in place'].isnull()].head()"
      ],
      "execution_count": 40,
      "outputs": [
        {
          "output_type": "execute_result",
          "data": {
            "text/html": [
              "<div>\n",
              "<style scoped>\n",
              "    .dataframe tbody tr th:only-of-type {\n",
              "        vertical-align: middle;\n",
              "    }\n",
              "\n",
              "    .dataframe tbody tr th {\n",
              "        vertical-align: top;\n",
              "    }\n",
              "\n",
              "    .dataframe thead th {\n",
              "        text-align: right;\n",
              "    }\n",
              "</style>\n",
              "<table border=\"1\" class=\"dataframe\">\n",
              "  <thead>\n",
              "    <tr style=\"text-align: right;\">\n",
              "      <th></th>\n",
              "      <th>date_range_start</th>\n",
              "      <th>state</th>\n",
              "      <th>state_code</th>\n",
              "      <th>cnamelong</th>\n",
              "      <th>county_code</th>\n",
              "      <th>device_count</th>\n",
              "      <th>completely_home_device_count</th>\n",
              "      <th>Date - shelter in place</th>\n",
              "    </tr>\n",
              "  </thead>\n",
              "  <tbody>\n",
              "    <tr>\n",
              "      <th>97</th>\n",
              "      <td>2019-01-01</td>\n",
              "      <td>5.0</td>\n",
              "      <td>AR</td>\n",
              "      <td>Arkansas County</td>\n",
              "      <td>5001.0</td>\n",
              "      <td>1347.0</td>\n",
              "      <td>462.0</td>\n",
              "      <td>NaT</td>\n",
              "    </tr>\n",
              "    <tr>\n",
              "      <th>98</th>\n",
              "      <td>2019-01-01</td>\n",
              "      <td>5.0</td>\n",
              "      <td>AR</td>\n",
              "      <td>Ashley County</td>\n",
              "      <td>5003.0</td>\n",
              "      <td>1444.0</td>\n",
              "      <td>484.0</td>\n",
              "      <td>NaT</td>\n",
              "    </tr>\n",
              "    <tr>\n",
              "      <th>99</th>\n",
              "      <td>2019-01-01</td>\n",
              "      <td>5.0</td>\n",
              "      <td>AR</td>\n",
              "      <td>Baxter County</td>\n",
              "      <td>5005.0</td>\n",
              "      <td>2681.0</td>\n",
              "      <td>1291.0</td>\n",
              "      <td>NaT</td>\n",
              "    </tr>\n",
              "    <tr>\n",
              "      <th>100</th>\n",
              "      <td>2019-01-01</td>\n",
              "      <td>5.0</td>\n",
              "      <td>AR</td>\n",
              "      <td>Benton County</td>\n",
              "      <td>5007.0</td>\n",
              "      <td>21550.0</td>\n",
              "      <td>8760.0</td>\n",
              "      <td>NaT</td>\n",
              "    </tr>\n",
              "    <tr>\n",
              "      <th>101</th>\n",
              "      <td>2019-01-01</td>\n",
              "      <td>5.0</td>\n",
              "      <td>AR</td>\n",
              "      <td>Boone County</td>\n",
              "      <td>5009.0</td>\n",
              "      <td>2638.0</td>\n",
              "      <td>1132.0</td>\n",
              "      <td>NaT</td>\n",
              "    </tr>\n",
              "  </tbody>\n",
              "</table>\n",
              "</div>"
            ],
            "text/plain": [
              "    date_range_start  ...  Date - shelter in place\n",
              "97        2019-01-01  ...                      NaT\n",
              "98        2019-01-01  ...                      NaT\n",
              "99        2019-01-01  ...                      NaT\n",
              "100       2019-01-01  ...                      NaT\n",
              "101       2019-01-01  ...                      NaT\n",
              "\n",
              "[5 rows x 8 columns]"
            ]
          },
          "metadata": {
            "tags": []
          },
          "execution_count": 40
        }
      ]
    },
    {
      "cell_type": "code",
      "metadata": {
        "id": "zk4BdJd_AHtV",
        "colab_type": "code",
        "colab": {
          "base_uri": "https://localhost:8080/",
          "height": 170
        },
        "outputId": "3cbab0d2-33c4-43a9-dce8-b745af13ec99"
      },
      "source": [
        "data.iloc[97]"
      ],
      "execution_count": 37,
      "outputs": [
        {
          "output_type": "execute_result",
          "data": {
            "text/plain": [
              "date_range_start                2019-01-01 00:00:00\n",
              "state                                             5\n",
              "state_code                                       AR\n",
              "cnamelong                           Arkansas County\n",
              "county_code                                    5001\n",
              "device_count                                   1347\n",
              "completely_home_device_count                    462\n",
              "Date - shelter in place                         NaT\n",
              "Name: 97, dtype: object"
            ]
          },
          "metadata": {
            "tags": []
          },
          "execution_count": 37
        }
      ]
    },
    {
      "cell_type": "code",
      "metadata": {
        "id": "EPPHnMYtAmRR",
        "colab_type": "code",
        "colab": {
          "base_uri": "https://localhost:8080/",
          "height": 34
        },
        "outputId": "33816f6f-47c2-47a3-bb1a-c08fdd4f62af"
      },
      "source": [
        "isThisRowInTimeWindow(data.iloc[97])"
      ],
      "execution_count": 38,
      "outputs": [
        {
          "output_type": "execute_result",
          "data": {
            "text/plain": [
              "False"
            ]
          },
          "metadata": {
            "tags": []
          },
          "execution_count": 38
        }
      ]
    },
    {
      "cell_type": "code",
      "metadata": {
        "id": "oZm2VLS3An0z",
        "colab_type": "code",
        "colab": {
          "base_uri": "https://localhost:8080/",
          "height": 204
        },
        "outputId": "ba631f49-8446-49d9-a865-d23c8dcd6e58"
      },
      "source": [
        "data[data['Date - shelter in place'].isnull()][40000:40005]"
      ],
      "execution_count": 43,
      "outputs": [
        {
          "output_type": "execute_result",
          "data": {
            "text/html": [
              "<div>\n",
              "<style scoped>\n",
              "    .dataframe tbody tr th:only-of-type {\n",
              "        vertical-align: middle;\n",
              "    }\n",
              "\n",
              "    .dataframe tbody tr th {\n",
              "        vertical-align: top;\n",
              "    }\n",
              "\n",
              "    .dataframe thead th {\n",
              "        text-align: right;\n",
              "    }\n",
              "</style>\n",
              "<table border=\"1\" class=\"dataframe\">\n",
              "  <thead>\n",
              "    <tr style=\"text-align: right;\">\n",
              "      <th></th>\n",
              "      <th>date_range_start</th>\n",
              "      <th>state</th>\n",
              "      <th>state_code</th>\n",
              "      <th>cnamelong</th>\n",
              "      <th>county_code</th>\n",
              "      <th>device_count</th>\n",
              "      <th>completely_home_device_count</th>\n",
              "      <th>Date - shelter in place</th>\n",
              "    </tr>\n",
              "  </thead>\n",
              "  <tbody>\n",
              "    <tr>\n",
              "      <th>280100</th>\n",
              "      <td>2019-04-03</td>\n",
              "      <td>19.0</td>\n",
              "      <td>IA</td>\n",
              "      <td>Marion County</td>\n",
              "      <td>19125.0</td>\n",
              "      <td>2606.0</td>\n",
              "      <td>621.0</td>\n",
              "      <td>NaT</td>\n",
              "    </tr>\n",
              "    <tr>\n",
              "      <th>280101</th>\n",
              "      <td>2019-04-03</td>\n",
              "      <td>19.0</td>\n",
              "      <td>IA</td>\n",
              "      <td>Marshall County</td>\n",
              "      <td>19127.0</td>\n",
              "      <td>2459.0</td>\n",
              "      <td>771.0</td>\n",
              "      <td>NaT</td>\n",
              "    </tr>\n",
              "    <tr>\n",
              "      <th>280102</th>\n",
              "      <td>2019-04-03</td>\n",
              "      <td>19.0</td>\n",
              "      <td>IA</td>\n",
              "      <td>Mills County</td>\n",
              "      <td>19129.0</td>\n",
              "      <td>1203.0</td>\n",
              "      <td>300.0</td>\n",
              "      <td>NaT</td>\n",
              "    </tr>\n",
              "    <tr>\n",
              "      <th>280103</th>\n",
              "      <td>2019-04-03</td>\n",
              "      <td>19.0</td>\n",
              "      <td>IA</td>\n",
              "      <td>Mitchell County</td>\n",
              "      <td>19131.0</td>\n",
              "      <td>718.0</td>\n",
              "      <td>186.0</td>\n",
              "      <td>NaT</td>\n",
              "    </tr>\n",
              "    <tr>\n",
              "      <th>280104</th>\n",
              "      <td>2019-04-03</td>\n",
              "      <td>19.0</td>\n",
              "      <td>IA</td>\n",
              "      <td>Monona County</td>\n",
              "      <td>19133.0</td>\n",
              "      <td>614.0</td>\n",
              "      <td>176.0</td>\n",
              "      <td>NaT</td>\n",
              "    </tr>\n",
              "  </tbody>\n",
              "</table>\n",
              "</div>"
            ],
            "text/plain": [
              "       date_range_start  ...  Date - shelter in place\n",
              "280100       2019-04-03  ...                      NaT\n",
              "280101       2019-04-03  ...                      NaT\n",
              "280102       2019-04-03  ...                      NaT\n",
              "280103       2019-04-03  ...                      NaT\n",
              "280104       2019-04-03  ...                      NaT\n",
              "\n",
              "[5 rows x 8 columns]"
            ]
          },
          "metadata": {
            "tags": []
          },
          "execution_count": 43
        }
      ]
    },
    {
      "cell_type": "code",
      "metadata": {
        "id": "qvOGKTl5AtjS",
        "colab_type": "code",
        "colab": {
          "base_uri": "https://localhost:8080/",
          "height": 170
        },
        "outputId": "e6b2432f-1aad-4deb-9c23-7d265d0479ee"
      },
      "source": [
        "data.iloc[280100]"
      ],
      "execution_count": 45,
      "outputs": [
        {
          "output_type": "execute_result",
          "data": {
            "text/plain": [
              "date_range_start                2019-04-03 00:00:00\n",
              "state                                            19\n",
              "state_code                                       IA\n",
              "cnamelong                             Marion County\n",
              "county_code                                   19125\n",
              "device_count                                   2606\n",
              "completely_home_device_count                    621\n",
              "Date - shelter in place                         NaT\n",
              "Name: 280100, dtype: object"
            ]
          },
          "metadata": {
            "tags": []
          },
          "execution_count": 45
        }
      ]
    },
    {
      "cell_type": "markdown",
      "metadata": {
        "id": "VWXK_WS1A12x",
        "colab_type": "text"
      },
      "source": [
        "This row should be within the time window."
      ]
    },
    {
      "cell_type": "code",
      "metadata": {
        "id": "LLlteR0SAzG8",
        "colab_type": "code",
        "colab": {
          "base_uri": "https://localhost:8080/",
          "height": 34
        },
        "outputId": "85e97573-02a1-4a8d-9beb-9f6c1529e5cd"
      },
      "source": [
        "isThisRowInTimeWindow(data.iloc[280100])"
      ],
      "execution_count": 46,
      "outputs": [
        {
          "output_type": "execute_result",
          "data": {
            "text/plain": [
              "True"
            ]
          },
          "metadata": {
            "tags": []
          },
          "execution_count": 46
        }
      ]
    },
    {
      "cell_type": "markdown",
      "metadata": {
        "id": "s_D1iCqOA6vJ",
        "colab_type": "text"
      },
      "source": [
        "Seems like our function is working. Let's apply this function to every row in data."
      ]
    },
    {
      "cell_type": "code",
      "metadata": {
        "id": "UOy8Oh3cA6IK",
        "colab_type": "code",
        "colab": {}
      },
      "source": [
        "data['withinTimeWindow'] = data.apply(lambda row: isThisRowInTimeWindow(row) , axis = 1)"
      ],
      "execution_count": 47,
      "outputs": []
    },
    {
      "cell_type": "markdown",
      "metadata": {
        "id": "_lwMH618Cby8",
        "colab_type": "text"
      },
      "source": [
        "Let's check if our function did the right thing."
      ]
    },
    {
      "cell_type": "code",
      "metadata": {
        "id": "5H5YKubsBCdG",
        "colab_type": "code",
        "colab": {
          "base_uri": "https://localhost:8080/",
          "height": 419
        },
        "outputId": "73469dfc-48ee-4328-e030-359e430e7bf9"
      },
      "source": [
        "data[data['withinTimeWindow'] == True]"
      ],
      "execution_count": 48,
      "outputs": [
        {
          "output_type": "execute_result",
          "data": {
            "text/html": [
              "<div>\n",
              "<style scoped>\n",
              "    .dataframe tbody tr th:only-of-type {\n",
              "        vertical-align: middle;\n",
              "    }\n",
              "\n",
              "    .dataframe tbody tr th {\n",
              "        vertical-align: top;\n",
              "    }\n",
              "\n",
              "    .dataframe thead th {\n",
              "        text-align: right;\n",
              "    }\n",
              "</style>\n",
              "<table border=\"1\" class=\"dataframe\">\n",
              "  <thead>\n",
              "    <tr style=\"text-align: right;\">\n",
              "      <th></th>\n",
              "      <th>date_range_start</th>\n",
              "      <th>state</th>\n",
              "      <th>state_code</th>\n",
              "      <th>cnamelong</th>\n",
              "      <th>county_code</th>\n",
              "      <th>device_count</th>\n",
              "      <th>completely_home_device_count</th>\n",
              "      <th>Date - shelter in place</th>\n",
              "      <th>withinTimeWindow</th>\n",
              "    </tr>\n",
              "  </thead>\n",
              "  <tbody>\n",
              "    <tr>\n",
              "      <th>224582</th>\n",
              "      <td>2019-03-15</td>\n",
              "      <td>72.0</td>\n",
              "      <td>PR</td>\n",
              "      <td>Adjuntas Municipio</td>\n",
              "      <td>72001.0</td>\n",
              "      <td>402.0</td>\n",
              "      <td>157.0</td>\n",
              "      <td>2020-03-15</td>\n",
              "      <td>True</td>\n",
              "    </tr>\n",
              "    <tr>\n",
              "      <th>224583</th>\n",
              "      <td>2019-03-15</td>\n",
              "      <td>72.0</td>\n",
              "      <td>PR</td>\n",
              "      <td>Aguada Municipio</td>\n",
              "      <td>72003.0</td>\n",
              "      <td>1106.0</td>\n",
              "      <td>498.0</td>\n",
              "      <td>2020-03-15</td>\n",
              "      <td>True</td>\n",
              "    </tr>\n",
              "    <tr>\n",
              "      <th>224584</th>\n",
              "      <td>2019-03-15</td>\n",
              "      <td>72.0</td>\n",
              "      <td>PR</td>\n",
              "      <td>Aguadilla Municipio</td>\n",
              "      <td>72005.0</td>\n",
              "      <td>1688.0</td>\n",
              "      <td>801.0</td>\n",
              "      <td>2020-03-15</td>\n",
              "      <td>True</td>\n",
              "    </tr>\n",
              "    <tr>\n",
              "      <th>224585</th>\n",
              "      <td>2019-03-15</td>\n",
              "      <td>72.0</td>\n",
              "      <td>PR</td>\n",
              "      <td>Aguas Buenas Municipio</td>\n",
              "      <td>72007.0</td>\n",
              "      <td>650.0</td>\n",
              "      <td>251.0</td>\n",
              "      <td>2020-03-15</td>\n",
              "      <td>True</td>\n",
              "    </tr>\n",
              "    <tr>\n",
              "      <th>224586</th>\n",
              "      <td>2019-03-15</td>\n",
              "      <td>72.0</td>\n",
              "      <td>PR</td>\n",
              "      <td>Aibonito Municipio</td>\n",
              "      <td>72009.0</td>\n",
              "      <td>623.0</td>\n",
              "      <td>250.0</td>\n",
              "      <td>2020-03-15</td>\n",
              "      <td>True</td>\n",
              "    </tr>\n",
              "    <tr>\n",
              "      <th>...</th>\n",
              "      <td>...</td>\n",
              "      <td>...</td>\n",
              "      <td>...</td>\n",
              "      <td>...</td>\n",
              "      <td>...</td>\n",
              "      <td>...</td>\n",
              "      <td>...</td>\n",
              "      <td>...</td>\n",
              "      <td>...</td>\n",
              "    </tr>\n",
              "    <tr>\n",
              "      <th>1564063</th>\n",
              "      <td>2020-06-01</td>\n",
              "      <td>72.0</td>\n",
              "      <td>PR</td>\n",
              "      <td>Villalba Municipio</td>\n",
              "      <td>72149.0</td>\n",
              "      <td>1001.0</td>\n",
              "      <td>460.0</td>\n",
              "      <td>2020-03-15</td>\n",
              "      <td>True</td>\n",
              "    </tr>\n",
              "    <tr>\n",
              "      <th>1564064</th>\n",
              "      <td>2020-06-01</td>\n",
              "      <td>72.0</td>\n",
              "      <td>PR</td>\n",
              "      <td>Yabucoa Municipio</td>\n",
              "      <td>72151.0</td>\n",
              "      <td>912.0</td>\n",
              "      <td>403.0</td>\n",
              "      <td>2020-03-15</td>\n",
              "      <td>True</td>\n",
              "    </tr>\n",
              "    <tr>\n",
              "      <th>1564065</th>\n",
              "      <td>2020-06-01</td>\n",
              "      <td>72.0</td>\n",
              "      <td>PR</td>\n",
              "      <td>Yauco Municipio</td>\n",
              "      <td>72153.0</td>\n",
              "      <td>3277.0</td>\n",
              "      <td>1547.0</td>\n",
              "      <td>2020-03-15</td>\n",
              "      <td>True</td>\n",
              "    </tr>\n",
              "    <tr>\n",
              "      <th>1564066</th>\n",
              "      <td>2020-06-01</td>\n",
              "      <td>78.0</td>\n",
              "      <td>VI</td>\n",
              "      <td>St. Croix Island</td>\n",
              "      <td>78010.0</td>\n",
              "      <td>1125.0</td>\n",
              "      <td>433.0</td>\n",
              "      <td>NaT</td>\n",
              "      <td>True</td>\n",
              "    </tr>\n",
              "    <tr>\n",
              "      <th>1564067</th>\n",
              "      <td>2020-06-01</td>\n",
              "      <td>78.0</td>\n",
              "      <td>VI</td>\n",
              "      <td>St. Thomas Island</td>\n",
              "      <td>78030.0</td>\n",
              "      <td>1055.0</td>\n",
              "      <td>381.0</td>\n",
              "      <td>NaT</td>\n",
              "      <td>True</td>\n",
              "    </tr>\n",
              "  </tbody>\n",
              "</table>\n",
              "<p>404898 rows × 9 columns</p>\n",
              "</div>"
            ],
            "text/plain": [
              "        date_range_start  state  ... Date - shelter in place withinTimeWindow\n",
              "224582        2019-03-15   72.0  ...              2020-03-15             True\n",
              "224583        2019-03-15   72.0  ...              2020-03-15             True\n",
              "224584        2019-03-15   72.0  ...              2020-03-15             True\n",
              "224585        2019-03-15   72.0  ...              2020-03-15             True\n",
              "224586        2019-03-15   72.0  ...              2020-03-15             True\n",
              "...                  ...    ...  ...                     ...              ...\n",
              "1564063       2020-06-01   72.0  ...              2020-03-15             True\n",
              "1564064       2020-06-01   72.0  ...              2020-03-15             True\n",
              "1564065       2020-06-01   72.0  ...              2020-03-15             True\n",
              "1564066       2020-06-01   78.0  ...                     NaT             True\n",
              "1564067       2020-06-01   78.0  ...                     NaT             True\n",
              "\n",
              "[404898 rows x 9 columns]"
            ]
          },
          "metadata": {
            "tags": []
          },
          "execution_count": 48
        }
      ]
    },
    {
      "cell_type": "code",
      "metadata": {
        "id": "FVVVC8ybBqMI",
        "colab_type": "code",
        "colab": {
          "base_uri": "https://localhost:8080/",
          "height": 419
        },
        "outputId": "fc0c440b-355a-4110-91b9-0f19a541f1a7"
      },
      "source": [
        "data[(data['withinTimeWindow'] == True) & (data['Date - shelter in place'].isnull())]"
      ],
      "execution_count": 49,
      "outputs": [
        {
          "output_type": "execute_result",
          "data": {
            "text/html": [
              "<div>\n",
              "<style scoped>\n",
              "    .dataframe tbody tr th:only-of-type {\n",
              "        vertical-align: middle;\n",
              "    }\n",
              "\n",
              "    .dataframe tbody tr th {\n",
              "        vertical-align: top;\n",
              "    }\n",
              "\n",
              "    .dataframe thead th {\n",
              "        text-align: right;\n",
              "    }\n",
              "</style>\n",
              "<table border=\"1\" class=\"dataframe\">\n",
              "  <thead>\n",
              "    <tr style=\"text-align: right;\">\n",
              "      <th></th>\n",
              "      <th>date_range_start</th>\n",
              "      <th>state</th>\n",
              "      <th>state_code</th>\n",
              "      <th>cnamelong</th>\n",
              "      <th>county_code</th>\n",
              "      <th>device_count</th>\n",
              "      <th>completely_home_device_count</th>\n",
              "      <th>Date - shelter in place</th>\n",
              "      <th>withinTimeWindow</th>\n",
              "    </tr>\n",
              "  </thead>\n",
              "  <tbody>\n",
              "    <tr>\n",
              "      <th>261208</th>\n",
              "      <td>2019-03-28</td>\n",
              "      <td>5.0</td>\n",
              "      <td>AR</td>\n",
              "      <td>Arkansas County</td>\n",
              "      <td>5001.0</td>\n",
              "      <td>1469.0</td>\n",
              "      <td>249.0</td>\n",
              "      <td>NaT</td>\n",
              "      <td>True</td>\n",
              "    </tr>\n",
              "    <tr>\n",
              "      <th>261209</th>\n",
              "      <td>2019-03-28</td>\n",
              "      <td>5.0</td>\n",
              "      <td>AR</td>\n",
              "      <td>Ashley County</td>\n",
              "      <td>5003.0</td>\n",
              "      <td>1493.0</td>\n",
              "      <td>292.0</td>\n",
              "      <td>NaT</td>\n",
              "      <td>True</td>\n",
              "    </tr>\n",
              "    <tr>\n",
              "      <th>261210</th>\n",
              "      <td>2019-03-28</td>\n",
              "      <td>5.0</td>\n",
              "      <td>AR</td>\n",
              "      <td>Baxter County</td>\n",
              "      <td>5005.0</td>\n",
              "      <td>2856.0</td>\n",
              "      <td>809.0</td>\n",
              "      <td>NaT</td>\n",
              "      <td>True</td>\n",
              "    </tr>\n",
              "    <tr>\n",
              "      <th>261211</th>\n",
              "      <td>2019-03-28</td>\n",
              "      <td>5.0</td>\n",
              "      <td>AR</td>\n",
              "      <td>Benton County</td>\n",
              "      <td>5007.0</td>\n",
              "      <td>22612.0</td>\n",
              "      <td>5265.0</td>\n",
              "      <td>NaT</td>\n",
              "      <td>True</td>\n",
              "    </tr>\n",
              "    <tr>\n",
              "      <th>261212</th>\n",
              "      <td>2019-03-28</td>\n",
              "      <td>5.0</td>\n",
              "      <td>AR</td>\n",
              "      <td>Boone County</td>\n",
              "      <td>5009.0</td>\n",
              "      <td>2904.0</td>\n",
              "      <td>688.0</td>\n",
              "      <td>NaT</td>\n",
              "      <td>True</td>\n",
              "    </tr>\n",
              "    <tr>\n",
              "      <th>...</th>\n",
              "      <td>...</td>\n",
              "      <td>...</td>\n",
              "      <td>...</td>\n",
              "      <td>...</td>\n",
              "      <td>...</td>\n",
              "      <td>...</td>\n",
              "      <td>...</td>\n",
              "      <td>...</td>\n",
              "      <td>...</td>\n",
              "    </tr>\n",
              "    <tr>\n",
              "      <th>1563987</th>\n",
              "      <td>2020-06-01</td>\n",
              "      <td>56.0</td>\n",
              "      <td>WY</td>\n",
              "      <td>Washakie County</td>\n",
              "      <td>56043.0</td>\n",
              "      <td>419.0</td>\n",
              "      <td>133.0</td>\n",
              "      <td>NaT</td>\n",
              "      <td>True</td>\n",
              "    </tr>\n",
              "    <tr>\n",
              "      <th>1563988</th>\n",
              "      <td>2020-06-01</td>\n",
              "      <td>56.0</td>\n",
              "      <td>WY</td>\n",
              "      <td>Weston County</td>\n",
              "      <td>56045.0</td>\n",
              "      <td>386.0</td>\n",
              "      <td>124.0</td>\n",
              "      <td>NaT</td>\n",
              "      <td>True</td>\n",
              "    </tr>\n",
              "    <tr>\n",
              "      <th>1563989</th>\n",
              "      <td>2020-06-01</td>\n",
              "      <td>66.0</td>\n",
              "      <td>GU</td>\n",
              "      <td>Guam</td>\n",
              "      <td>66010.0</td>\n",
              "      <td>4528.0</td>\n",
              "      <td>1176.0</td>\n",
              "      <td>NaT</td>\n",
              "      <td>True</td>\n",
              "    </tr>\n",
              "    <tr>\n",
              "      <th>1564066</th>\n",
              "      <td>2020-06-01</td>\n",
              "      <td>78.0</td>\n",
              "      <td>VI</td>\n",
              "      <td>St. Croix Island</td>\n",
              "      <td>78010.0</td>\n",
              "      <td>1125.0</td>\n",
              "      <td>433.0</td>\n",
              "      <td>NaT</td>\n",
              "      <td>True</td>\n",
              "    </tr>\n",
              "    <tr>\n",
              "      <th>1564067</th>\n",
              "      <td>2020-06-01</td>\n",
              "      <td>78.0</td>\n",
              "      <td>VI</td>\n",
              "      <td>St. Thomas Island</td>\n",
              "      <td>78030.0</td>\n",
              "      <td>1055.0</td>\n",
              "      <td>381.0</td>\n",
              "      <td>NaT</td>\n",
              "      <td>True</td>\n",
              "    </tr>\n",
              "  </tbody>\n",
              "</table>\n",
              "<p>58468 rows × 9 columns</p>\n",
              "</div>"
            ],
            "text/plain": [
              "        date_range_start  state  ... Date - shelter in place withinTimeWindow\n",
              "261208        2019-03-28    5.0  ...                     NaT             True\n",
              "261209        2019-03-28    5.0  ...                     NaT             True\n",
              "261210        2019-03-28    5.0  ...                     NaT             True\n",
              "261211        2019-03-28    5.0  ...                     NaT             True\n",
              "261212        2019-03-28    5.0  ...                     NaT             True\n",
              "...                  ...    ...  ...                     ...              ...\n",
              "1563987       2020-06-01   56.0  ...                     NaT             True\n",
              "1563988       2020-06-01   56.0  ...                     NaT             True\n",
              "1563989       2020-06-01   66.0  ...                     NaT             True\n",
              "1564066       2020-06-01   78.0  ...                     NaT             True\n",
              "1564067       2020-06-01   78.0  ...                     NaT             True\n",
              "\n",
              "[58468 rows x 9 columns]"
            ]
          },
          "metadata": {
            "tags": []
          },
          "execution_count": 49
        }
      ]
    },
    {
      "cell_type": "code",
      "metadata": {
        "id": "42g3RXeWCKJM",
        "colab_type": "code",
        "colab": {
          "base_uri": "https://localhost:8080/",
          "height": 419
        },
        "outputId": "96ac90bf-e43d-488b-f947-ecb3216e033d"
      },
      "source": [
        "data[(data['withinTimeWindow'] == True) & (data['county_code'] == 66010)]"
      ],
      "execution_count": 50,
      "outputs": [
        {
          "output_type": "execute_result",
          "data": {
            "text/html": [
              "<div>\n",
              "<style scoped>\n",
              "    .dataframe tbody tr th:only-of-type {\n",
              "        vertical-align: middle;\n",
              "    }\n",
              "\n",
              "    .dataframe tbody tr th {\n",
              "        vertical-align: top;\n",
              "    }\n",
              "\n",
              "    .dataframe thead th {\n",
              "        text-align: right;\n",
              "    }\n",
              "</style>\n",
              "<table border=\"1\" class=\"dataframe\">\n",
              "  <thead>\n",
              "    <tr style=\"text-align: right;\">\n",
              "      <th></th>\n",
              "      <th>date_range_start</th>\n",
              "      <th>state</th>\n",
              "      <th>state_code</th>\n",
              "      <th>cnamelong</th>\n",
              "      <th>county_code</th>\n",
              "      <th>device_count</th>\n",
              "      <th>completely_home_device_count</th>\n",
              "      <th>Date - shelter in place</th>\n",
              "      <th>withinTimeWindow</th>\n",
              "    </tr>\n",
              "  </thead>\n",
              "  <tbody>\n",
              "    <tr>\n",
              "      <th>264068</th>\n",
              "      <td>2019-03-28</td>\n",
              "      <td>66.0</td>\n",
              "      <td>GU</td>\n",
              "      <td>Guam</td>\n",
              "      <td>66010.0</td>\n",
              "      <td>1672.0</td>\n",
              "      <td>663.0</td>\n",
              "      <td>NaT</td>\n",
              "      <td>True</td>\n",
              "    </tr>\n",
              "    <tr>\n",
              "      <th>267099</th>\n",
              "      <td>2019-03-29</td>\n",
              "      <td>66.0</td>\n",
              "      <td>GU</td>\n",
              "      <td>Guam</td>\n",
              "      <td>66010.0</td>\n",
              "      <td>1603.0</td>\n",
              "      <td>654.0</td>\n",
              "      <td>NaT</td>\n",
              "      <td>True</td>\n",
              "    </tr>\n",
              "    <tr>\n",
              "      <th>270123</th>\n",
              "      <td>2019-03-30</td>\n",
              "      <td>66.0</td>\n",
              "      <td>GU</td>\n",
              "      <td>Guam</td>\n",
              "      <td>66010.0</td>\n",
              "      <td>1718.0</td>\n",
              "      <td>747.0</td>\n",
              "      <td>NaT</td>\n",
              "      <td>True</td>\n",
              "    </tr>\n",
              "    <tr>\n",
              "      <th>273142</th>\n",
              "      <td>2019-03-31</td>\n",
              "      <td>66.0</td>\n",
              "      <td>GU</td>\n",
              "      <td>Guam</td>\n",
              "      <td>66010.0</td>\n",
              "      <td>1658.0</td>\n",
              "      <td>784.0</td>\n",
              "      <td>NaT</td>\n",
              "      <td>True</td>\n",
              "    </tr>\n",
              "    <tr>\n",
              "      <th>276175</th>\n",
              "      <td>2019-04-01</td>\n",
              "      <td>66.0</td>\n",
              "      <td>GU</td>\n",
              "      <td>Guam</td>\n",
              "      <td>66010.0</td>\n",
              "      <td>1825.0</td>\n",
              "      <td>757.0</td>\n",
              "      <td>NaT</td>\n",
              "      <td>True</td>\n",
              "    </tr>\n",
              "    <tr>\n",
              "      <th>...</th>\n",
              "      <td>...</td>\n",
              "      <td>...</td>\n",
              "      <td>...</td>\n",
              "      <td>...</td>\n",
              "      <td>...</td>\n",
              "      <td>...</td>\n",
              "      <td>...</td>\n",
              "      <td>...</td>\n",
              "      <td>...</td>\n",
              "    </tr>\n",
              "    <tr>\n",
              "      <th>1548793</th>\n",
              "      <td>2020-05-27</td>\n",
              "      <td>66.0</td>\n",
              "      <td>GU</td>\n",
              "      <td>Guam</td>\n",
              "      <td>66010.0</td>\n",
              "      <td>4581.0</td>\n",
              "      <td>1513.0</td>\n",
              "      <td>NaT</td>\n",
              "      <td>True</td>\n",
              "    </tr>\n",
              "    <tr>\n",
              "      <th>1551822</th>\n",
              "      <td>2020-05-28</td>\n",
              "      <td>66.0</td>\n",
              "      <td>GU</td>\n",
              "      <td>Guam</td>\n",
              "      <td>66010.0</td>\n",
              "      <td>4644.0</td>\n",
              "      <td>1388.0</td>\n",
              "      <td>NaT</td>\n",
              "      <td>True</td>\n",
              "    </tr>\n",
              "    <tr>\n",
              "      <th>1554860</th>\n",
              "      <td>2020-05-29</td>\n",
              "      <td>66.0</td>\n",
              "      <td>GU</td>\n",
              "      <td>Guam</td>\n",
              "      <td>66010.0</td>\n",
              "      <td>4414.0</td>\n",
              "      <td>1441.0</td>\n",
              "      <td>NaT</td>\n",
              "      <td>True</td>\n",
              "    </tr>\n",
              "    <tr>\n",
              "      <th>1560944</th>\n",
              "      <td>2020-05-31</td>\n",
              "      <td>66.0</td>\n",
              "      <td>GU</td>\n",
              "      <td>Guam</td>\n",
              "      <td>66010.0</td>\n",
              "      <td>289.0</td>\n",
              "      <td>86.0</td>\n",
              "      <td>NaT</td>\n",
              "      <td>True</td>\n",
              "    </tr>\n",
              "    <tr>\n",
              "      <th>1563989</th>\n",
              "      <td>2020-06-01</td>\n",
              "      <td>66.0</td>\n",
              "      <td>GU</td>\n",
              "      <td>Guam</td>\n",
              "      <td>66010.0</td>\n",
              "      <td>4528.0</td>\n",
              "      <td>1176.0</td>\n",
              "      <td>NaT</td>\n",
              "      <td>True</td>\n",
              "    </tr>\n",
              "  </tbody>\n",
              "</table>\n",
              "<p>133 rows × 9 columns</p>\n",
              "</div>"
            ],
            "text/plain": [
              "        date_range_start  state  ... Date - shelter in place withinTimeWindow\n",
              "264068        2019-03-28   66.0  ...                     NaT             True\n",
              "267099        2019-03-29   66.0  ...                     NaT             True\n",
              "270123        2019-03-30   66.0  ...                     NaT             True\n",
              "273142        2019-03-31   66.0  ...                     NaT             True\n",
              "276175        2019-04-01   66.0  ...                     NaT             True\n",
              "...                  ...    ...  ...                     ...              ...\n",
              "1548793       2020-05-27   66.0  ...                     NaT             True\n",
              "1551822       2020-05-28   66.0  ...                     NaT             True\n",
              "1554860       2020-05-29   66.0  ...                     NaT             True\n",
              "1560944       2020-05-31   66.0  ...                     NaT             True\n",
              "1563989       2020-06-01   66.0  ...                     NaT             True\n",
              "\n",
              "[133 rows x 9 columns]"
            ]
          },
          "metadata": {
            "tags": []
          },
          "execution_count": 50
        }
      ]
    },
    {
      "cell_type": "code",
      "metadata": {
        "id": "BZQkH34QCT6W",
        "colab_type": "code",
        "colab": {
          "base_uri": "https://localhost:8080/",
          "height": 419
        },
        "outputId": "8534b12d-46f9-424a-f6f2-aa674a753c07"
      },
      "source": [
        "# King county's data\n",
        "data[(data['withinTimeWindow'] == True) & (data['cnamelong'] == 'King County')]"
      ],
      "execution_count": 51,
      "outputs": [
        {
          "output_type": "execute_result",
          "data": {
            "text/html": [
              "<div>\n",
              "<style scoped>\n",
              "    .dataframe tbody tr th:only-of-type {\n",
              "        vertical-align: middle;\n",
              "    }\n",
              "\n",
              "    .dataframe tbody tr th {\n",
              "        vertical-align: top;\n",
              "    }\n",
              "\n",
              "    .dataframe thead th {\n",
              "        text-align: right;\n",
              "    }\n",
              "</style>\n",
              "<table border=\"1\" class=\"dataframe\">\n",
              "  <thead>\n",
              "    <tr style=\"text-align: right;\">\n",
              "      <th></th>\n",
              "      <th>date_range_start</th>\n",
              "      <th>state</th>\n",
              "      <th>state_code</th>\n",
              "      <th>cnamelong</th>\n",
              "      <th>county_code</th>\n",
              "      <th>device_count</th>\n",
              "      <th>completely_home_device_count</th>\n",
              "      <th>Date - shelter in place</th>\n",
              "      <th>withinTimeWindow</th>\n",
              "    </tr>\n",
              "  </thead>\n",
              "  <tbody>\n",
              "    <tr>\n",
              "      <th>248722</th>\n",
              "      <td>2019-03-23</td>\n",
              "      <td>53.0</td>\n",
              "      <td>WA</td>\n",
              "      <td>King County</td>\n",
              "      <td>53033.0</td>\n",
              "      <td>118729.0</td>\n",
              "      <td>40176.0</td>\n",
              "      <td>2020-03-23</td>\n",
              "      <td>True</td>\n",
              "    </tr>\n",
              "    <tr>\n",
              "      <th>251759</th>\n",
              "      <td>2019-03-24</td>\n",
              "      <td>53.0</td>\n",
              "      <td>WA</td>\n",
              "      <td>King County</td>\n",
              "      <td>53033.0</td>\n",
              "      <td>118808.0</td>\n",
              "      <td>44303.0</td>\n",
              "      <td>2020-03-23</td>\n",
              "      <td>True</td>\n",
              "    </tr>\n",
              "    <tr>\n",
              "      <th>254794</th>\n",
              "      <td>2019-03-25</td>\n",
              "      <td>53.0</td>\n",
              "      <td>WA</td>\n",
              "      <td>King County</td>\n",
              "      <td>53033.0</td>\n",
              "      <td>122723.0</td>\n",
              "      <td>37746.0</td>\n",
              "      <td>2020-03-23</td>\n",
              "      <td>True</td>\n",
              "    </tr>\n",
              "    <tr>\n",
              "      <th>257828</th>\n",
              "      <td>2019-03-26</td>\n",
              "      <td>53.0</td>\n",
              "      <td>WA</td>\n",
              "      <td>King County</td>\n",
              "      <td>53033.0</td>\n",
              "      <td>120187.0</td>\n",
              "      <td>36193.0</td>\n",
              "      <td>2020-03-23</td>\n",
              "      <td>True</td>\n",
              "    </tr>\n",
              "    <tr>\n",
              "      <th>260863</th>\n",
              "      <td>2019-03-27</td>\n",
              "      <td>53.0</td>\n",
              "      <td>WA</td>\n",
              "      <td>King County</td>\n",
              "      <td>53033.0</td>\n",
              "      <td>120321.0</td>\n",
              "      <td>34815.0</td>\n",
              "      <td>2020-03-23</td>\n",
              "      <td>True</td>\n",
              "    </tr>\n",
              "    <tr>\n",
              "      <th>...</th>\n",
              "      <td>...</td>\n",
              "      <td>...</td>\n",
              "      <td>...</td>\n",
              "      <td>...</td>\n",
              "      <td>...</td>\n",
              "      <td>...</td>\n",
              "      <td>...</td>\n",
              "      <td>...</td>\n",
              "      <td>...</td>\n",
              "    </tr>\n",
              "    <tr>\n",
              "      <th>1551651</th>\n",
              "      <td>2020-05-28</td>\n",
              "      <td>53.0</td>\n",
              "      <td>WA</td>\n",
              "      <td>King County</td>\n",
              "      <td>53033.0</td>\n",
              "      <td>93936.0</td>\n",
              "      <td>38052.0</td>\n",
              "      <td>2020-03-23</td>\n",
              "      <td>True</td>\n",
              "    </tr>\n",
              "    <tr>\n",
              "      <th>1554689</th>\n",
              "      <td>2020-05-29</td>\n",
              "      <td>53.0</td>\n",
              "      <td>WA</td>\n",
              "      <td>King County</td>\n",
              "      <td>53033.0</td>\n",
              "      <td>94147.0</td>\n",
              "      <td>36943.0</td>\n",
              "      <td>2020-03-23</td>\n",
              "      <td>True</td>\n",
              "    </tr>\n",
              "    <tr>\n",
              "      <th>1557731</th>\n",
              "      <td>2020-05-30</td>\n",
              "      <td>53.0</td>\n",
              "      <td>WA</td>\n",
              "      <td>King County</td>\n",
              "      <td>53033.0</td>\n",
              "      <td>96908.0</td>\n",
              "      <td>42590.0</td>\n",
              "      <td>2020-03-23</td>\n",
              "      <td>True</td>\n",
              "    </tr>\n",
              "    <tr>\n",
              "      <th>1560773</th>\n",
              "      <td>2020-05-31</td>\n",
              "      <td>53.0</td>\n",
              "      <td>WA</td>\n",
              "      <td>King County</td>\n",
              "      <td>53033.0</td>\n",
              "      <td>99344.0</td>\n",
              "      <td>45484.0</td>\n",
              "      <td>2020-03-23</td>\n",
              "      <td>True</td>\n",
              "    </tr>\n",
              "    <tr>\n",
              "      <th>1563818</th>\n",
              "      <td>2020-06-01</td>\n",
              "      <td>53.0</td>\n",
              "      <td>WA</td>\n",
              "      <td>King County</td>\n",
              "      <td>53033.0</td>\n",
              "      <td>100348.0</td>\n",
              "      <td>43425.0</td>\n",
              "      <td>2020-03-23</td>\n",
              "      <td>True</td>\n",
              "    </tr>\n",
              "  </tbody>\n",
              "</table>\n",
              "<p>144 rows × 9 columns</p>\n",
              "</div>"
            ],
            "text/plain": [
              "        date_range_start  state  ... Date - shelter in place withinTimeWindow\n",
              "248722        2019-03-23   53.0  ...              2020-03-23             True\n",
              "251759        2019-03-24   53.0  ...              2020-03-23             True\n",
              "254794        2019-03-25   53.0  ...              2020-03-23             True\n",
              "257828        2019-03-26   53.0  ...              2020-03-23             True\n",
              "260863        2019-03-27   53.0  ...              2020-03-23             True\n",
              "...                  ...    ...  ...                     ...              ...\n",
              "1551651       2020-05-28   53.0  ...              2020-03-23             True\n",
              "1554689       2020-05-29   53.0  ...              2020-03-23             True\n",
              "1557731       2020-05-30   53.0  ...              2020-03-23             True\n",
              "1560773       2020-05-31   53.0  ...              2020-03-23             True\n",
              "1563818       2020-06-01   53.0  ...              2020-03-23             True\n",
              "\n",
              "[144 rows x 9 columns]"
            ]
          },
          "metadata": {
            "tags": []
          },
          "execution_count": 51
        }
      ]
    },
    {
      "cell_type": "markdown",
      "metadata": {
        "id": "XzdlC4wGB-lO",
        "colab_type": "text"
      },
      "source": [
        "They look right, the counties without SIP ranges from 3-28 to 6-1, and counties with SIP ranges from that county's shelter in place date to 6-1"
      ]
    },
    {
      "cell_type": "code",
      "metadata": {
        "id": "vVG9kZbLB5uc",
        "colab_type": "code",
        "colab": {}
      },
      "source": [
        "# only get rows within the time range.\n",
        "data = data[data['withinTimeWindow'] == True]"
      ],
      "execution_count": 52,
      "outputs": []
    },
    {
      "cell_type": "code",
      "metadata": {
        "id": "TZlppWotCnbM",
        "colab_type": "code",
        "colab": {
          "base_uri": "https://localhost:8080/",
          "height": 34
        },
        "outputId": "2b4c9484-175e-4212-d1ca-3eb936754ec2"
      },
      "source": [
        "data.shape"
      ],
      "execution_count": 53,
      "outputs": [
        {
          "output_type": "execute_result",
          "data": {
            "text/plain": [
              "(404898, 9)"
            ]
          },
          "metadata": {
            "tags": []
          },
          "execution_count": 53
        }
      ]
    },
    {
      "cell_type": "markdown",
      "metadata": {
        "id": "HUkEoJT8DNdA",
        "colab_type": "text"
      },
      "source": [
        "# separate last year's data from this year's data"
      ]
    },
    {
      "cell_type": "code",
      "metadata": {
        "id": "QamjGDQACpSc",
        "colab_type": "code",
        "colab": {
          "base_uri": "https://localhost:8080/",
          "height": 204
        },
        "outputId": "701e1cc0-a900-467f-c4d5-38f1008966f6"
      },
      "source": [
        "data.head()"
      ],
      "execution_count": 55,
      "outputs": [
        {
          "output_type": "execute_result",
          "data": {
            "text/html": [
              "<div>\n",
              "<style scoped>\n",
              "    .dataframe tbody tr th:only-of-type {\n",
              "        vertical-align: middle;\n",
              "    }\n",
              "\n",
              "    .dataframe tbody tr th {\n",
              "        vertical-align: top;\n",
              "    }\n",
              "\n",
              "    .dataframe thead th {\n",
              "        text-align: right;\n",
              "    }\n",
              "</style>\n",
              "<table border=\"1\" class=\"dataframe\">\n",
              "  <thead>\n",
              "    <tr style=\"text-align: right;\">\n",
              "      <th></th>\n",
              "      <th>date_range_start</th>\n",
              "      <th>state</th>\n",
              "      <th>state_code</th>\n",
              "      <th>cnamelong</th>\n",
              "      <th>county_code</th>\n",
              "      <th>device_count</th>\n",
              "      <th>completely_home_device_count</th>\n",
              "      <th>Date - shelter in place</th>\n",
              "      <th>withinTimeWindow</th>\n",
              "    </tr>\n",
              "  </thead>\n",
              "  <tbody>\n",
              "    <tr>\n",
              "      <th>224582</th>\n",
              "      <td>2019-03-15</td>\n",
              "      <td>72.0</td>\n",
              "      <td>PR</td>\n",
              "      <td>Adjuntas Municipio</td>\n",
              "      <td>72001.0</td>\n",
              "      <td>402.0</td>\n",
              "      <td>157.0</td>\n",
              "      <td>2020-03-15</td>\n",
              "      <td>True</td>\n",
              "    </tr>\n",
              "    <tr>\n",
              "      <th>224583</th>\n",
              "      <td>2019-03-15</td>\n",
              "      <td>72.0</td>\n",
              "      <td>PR</td>\n",
              "      <td>Aguada Municipio</td>\n",
              "      <td>72003.0</td>\n",
              "      <td>1106.0</td>\n",
              "      <td>498.0</td>\n",
              "      <td>2020-03-15</td>\n",
              "      <td>True</td>\n",
              "    </tr>\n",
              "    <tr>\n",
              "      <th>224584</th>\n",
              "      <td>2019-03-15</td>\n",
              "      <td>72.0</td>\n",
              "      <td>PR</td>\n",
              "      <td>Aguadilla Municipio</td>\n",
              "      <td>72005.0</td>\n",
              "      <td>1688.0</td>\n",
              "      <td>801.0</td>\n",
              "      <td>2020-03-15</td>\n",
              "      <td>True</td>\n",
              "    </tr>\n",
              "    <tr>\n",
              "      <th>224585</th>\n",
              "      <td>2019-03-15</td>\n",
              "      <td>72.0</td>\n",
              "      <td>PR</td>\n",
              "      <td>Aguas Buenas Municipio</td>\n",
              "      <td>72007.0</td>\n",
              "      <td>650.0</td>\n",
              "      <td>251.0</td>\n",
              "      <td>2020-03-15</td>\n",
              "      <td>True</td>\n",
              "    </tr>\n",
              "    <tr>\n",
              "      <th>224586</th>\n",
              "      <td>2019-03-15</td>\n",
              "      <td>72.0</td>\n",
              "      <td>PR</td>\n",
              "      <td>Aibonito Municipio</td>\n",
              "      <td>72009.0</td>\n",
              "      <td>623.0</td>\n",
              "      <td>250.0</td>\n",
              "      <td>2020-03-15</td>\n",
              "      <td>True</td>\n",
              "    </tr>\n",
              "  </tbody>\n",
              "</table>\n",
              "</div>"
            ],
            "text/plain": [
              "       date_range_start  state  ... Date - shelter in place withinTimeWindow\n",
              "224582       2019-03-15   72.0  ...              2020-03-15             True\n",
              "224583       2019-03-15   72.0  ...              2020-03-15             True\n",
              "224584       2019-03-15   72.0  ...              2020-03-15             True\n",
              "224585       2019-03-15   72.0  ...              2020-03-15             True\n",
              "224586       2019-03-15   72.0  ...              2020-03-15             True\n",
              "\n",
              "[5 rows x 9 columns]"
            ]
          },
          "metadata": {
            "tags": []
          },
          "execution_count": 55
        }
      ]
    },
    {
      "cell_type": "code",
      "metadata": {
        "id": "jMyXo3S-DU85",
        "colab_type": "code",
        "colab": {}
      },
      "source": [
        "# add a column that indicates whether this row's date is in 2019\n",
        "data['2019?'] = data['date_range_start'].apply(lambda date: date.year == 2019)"
      ],
      "execution_count": 56,
      "outputs": []
    },
    {
      "cell_type": "code",
      "metadata": {
        "id": "f1Gp2klRDe4H",
        "colab_type": "code",
        "colab": {
          "base_uri": "https://localhost:8080/",
          "height": 204
        },
        "outputId": "e8b68e4a-301b-49c2-b259-a33ed1ca62c8"
      },
      "source": [
        "data.head()"
      ],
      "execution_count": 57,
      "outputs": [
        {
          "output_type": "execute_result",
          "data": {
            "text/html": [
              "<div>\n",
              "<style scoped>\n",
              "    .dataframe tbody tr th:only-of-type {\n",
              "        vertical-align: middle;\n",
              "    }\n",
              "\n",
              "    .dataframe tbody tr th {\n",
              "        vertical-align: top;\n",
              "    }\n",
              "\n",
              "    .dataframe thead th {\n",
              "        text-align: right;\n",
              "    }\n",
              "</style>\n",
              "<table border=\"1\" class=\"dataframe\">\n",
              "  <thead>\n",
              "    <tr style=\"text-align: right;\">\n",
              "      <th></th>\n",
              "      <th>date_range_start</th>\n",
              "      <th>state</th>\n",
              "      <th>state_code</th>\n",
              "      <th>cnamelong</th>\n",
              "      <th>county_code</th>\n",
              "      <th>device_count</th>\n",
              "      <th>completely_home_device_count</th>\n",
              "      <th>Date - shelter in place</th>\n",
              "      <th>withinTimeWindow</th>\n",
              "      <th>2019?</th>\n",
              "    </tr>\n",
              "  </thead>\n",
              "  <tbody>\n",
              "    <tr>\n",
              "      <th>224582</th>\n",
              "      <td>2019-03-15</td>\n",
              "      <td>72.0</td>\n",
              "      <td>PR</td>\n",
              "      <td>Adjuntas Municipio</td>\n",
              "      <td>72001.0</td>\n",
              "      <td>402.0</td>\n",
              "      <td>157.0</td>\n",
              "      <td>2020-03-15</td>\n",
              "      <td>True</td>\n",
              "      <td>True</td>\n",
              "    </tr>\n",
              "    <tr>\n",
              "      <th>224583</th>\n",
              "      <td>2019-03-15</td>\n",
              "      <td>72.0</td>\n",
              "      <td>PR</td>\n",
              "      <td>Aguada Municipio</td>\n",
              "      <td>72003.0</td>\n",
              "      <td>1106.0</td>\n",
              "      <td>498.0</td>\n",
              "      <td>2020-03-15</td>\n",
              "      <td>True</td>\n",
              "      <td>True</td>\n",
              "    </tr>\n",
              "    <tr>\n",
              "      <th>224584</th>\n",
              "      <td>2019-03-15</td>\n",
              "      <td>72.0</td>\n",
              "      <td>PR</td>\n",
              "      <td>Aguadilla Municipio</td>\n",
              "      <td>72005.0</td>\n",
              "      <td>1688.0</td>\n",
              "      <td>801.0</td>\n",
              "      <td>2020-03-15</td>\n",
              "      <td>True</td>\n",
              "      <td>True</td>\n",
              "    </tr>\n",
              "    <tr>\n",
              "      <th>224585</th>\n",
              "      <td>2019-03-15</td>\n",
              "      <td>72.0</td>\n",
              "      <td>PR</td>\n",
              "      <td>Aguas Buenas Municipio</td>\n",
              "      <td>72007.0</td>\n",
              "      <td>650.0</td>\n",
              "      <td>251.0</td>\n",
              "      <td>2020-03-15</td>\n",
              "      <td>True</td>\n",
              "      <td>True</td>\n",
              "    </tr>\n",
              "    <tr>\n",
              "      <th>224586</th>\n",
              "      <td>2019-03-15</td>\n",
              "      <td>72.0</td>\n",
              "      <td>PR</td>\n",
              "      <td>Aibonito Municipio</td>\n",
              "      <td>72009.0</td>\n",
              "      <td>623.0</td>\n",
              "      <td>250.0</td>\n",
              "      <td>2020-03-15</td>\n",
              "      <td>True</td>\n",
              "      <td>True</td>\n",
              "    </tr>\n",
              "  </tbody>\n",
              "</table>\n",
              "</div>"
            ],
            "text/plain": [
              "       date_range_start  state  ... withinTimeWindow 2019?\n",
              "224582       2019-03-15   72.0  ...             True  True\n",
              "224583       2019-03-15   72.0  ...             True  True\n",
              "224584       2019-03-15   72.0  ...             True  True\n",
              "224585       2019-03-15   72.0  ...             True  True\n",
              "224586       2019-03-15   72.0  ...             True  True\n",
              "\n",
              "[5 rows x 10 columns]"
            ]
          },
          "metadata": {
            "tags": []
          },
          "execution_count": 57
        }
      ]
    },
    {
      "cell_type": "code",
      "metadata": {
        "id": "v72CIYnVDghm",
        "colab_type": "code",
        "colab": {
          "base_uri": "https://localhost:8080/",
          "height": 204
        },
        "outputId": "f5b3ff22-614f-4fcf-dbba-81c8d68efa35"
      },
      "source": [
        "data[data['2019?'] == False].head()"
      ],
      "execution_count": 59,
      "outputs": [
        {
          "output_type": "execute_result",
          "data": {
            "text/html": [
              "<div>\n",
              "<style scoped>\n",
              "    .dataframe tbody tr th:only-of-type {\n",
              "        vertical-align: middle;\n",
              "    }\n",
              "\n",
              "    .dataframe tbody tr th {\n",
              "        vertical-align: top;\n",
              "    }\n",
              "\n",
              "    .dataframe thead th {\n",
              "        text-align: right;\n",
              "    }\n",
              "</style>\n",
              "<table border=\"1\" class=\"dataframe\">\n",
              "  <thead>\n",
              "    <tr style=\"text-align: right;\">\n",
              "      <th></th>\n",
              "      <th>date_range_start</th>\n",
              "      <th>state</th>\n",
              "      <th>state_code</th>\n",
              "      <th>cnamelong</th>\n",
              "      <th>county_code</th>\n",
              "      <th>device_count</th>\n",
              "      <th>completely_home_device_count</th>\n",
              "      <th>Date - shelter in place</th>\n",
              "      <th>withinTimeWindow</th>\n",
              "      <th>2019?</th>\n",
              "    </tr>\n",
              "  </thead>\n",
              "  <tbody>\n",
              "    <tr>\n",
              "      <th>1325179</th>\n",
              "      <td>2020-03-14</td>\n",
              "      <td>72.0</td>\n",
              "      <td>PR</td>\n",
              "      <td>Adjuntas Municipio</td>\n",
              "      <td>72001.0</td>\n",
              "      <td>871.0</td>\n",
              "      <td>359.0</td>\n",
              "      <td>2020-03-15</td>\n",
              "      <td>True</td>\n",
              "      <td>False</td>\n",
              "    </tr>\n",
              "    <tr>\n",
              "      <th>1325180</th>\n",
              "      <td>2020-03-14</td>\n",
              "      <td>72.0</td>\n",
              "      <td>PR</td>\n",
              "      <td>Aguada Municipio</td>\n",
              "      <td>72003.0</td>\n",
              "      <td>1867.0</td>\n",
              "      <td>752.0</td>\n",
              "      <td>2020-03-15</td>\n",
              "      <td>True</td>\n",
              "      <td>False</td>\n",
              "    </tr>\n",
              "    <tr>\n",
              "      <th>1325181</th>\n",
              "      <td>2020-03-14</td>\n",
              "      <td>72.0</td>\n",
              "      <td>PR</td>\n",
              "      <td>Aguadilla Municipio</td>\n",
              "      <td>72005.0</td>\n",
              "      <td>2801.0</td>\n",
              "      <td>1161.0</td>\n",
              "      <td>2020-03-15</td>\n",
              "      <td>True</td>\n",
              "      <td>False</td>\n",
              "    </tr>\n",
              "    <tr>\n",
              "      <th>1325182</th>\n",
              "      <td>2020-03-14</td>\n",
              "      <td>72.0</td>\n",
              "      <td>PR</td>\n",
              "      <td>Aguas Buenas Municipio</td>\n",
              "      <td>72007.0</td>\n",
              "      <td>953.0</td>\n",
              "      <td>340.0</td>\n",
              "      <td>2020-03-15</td>\n",
              "      <td>True</td>\n",
              "      <td>False</td>\n",
              "    </tr>\n",
              "    <tr>\n",
              "      <th>1325183</th>\n",
              "      <td>2020-03-14</td>\n",
              "      <td>72.0</td>\n",
              "      <td>PR</td>\n",
              "      <td>Aibonito Municipio</td>\n",
              "      <td>72009.0</td>\n",
              "      <td>801.0</td>\n",
              "      <td>316.0</td>\n",
              "      <td>2020-03-15</td>\n",
              "      <td>True</td>\n",
              "      <td>False</td>\n",
              "    </tr>\n",
              "  </tbody>\n",
              "</table>\n",
              "</div>"
            ],
            "text/plain": [
              "        date_range_start  state  ... withinTimeWindow  2019?\n",
              "1325179       2020-03-14   72.0  ...             True  False\n",
              "1325180       2020-03-14   72.0  ...             True  False\n",
              "1325181       2020-03-14   72.0  ...             True  False\n",
              "1325182       2020-03-14   72.0  ...             True  False\n",
              "1325183       2020-03-14   72.0  ...             True  False\n",
              "\n",
              "[5 rows x 10 columns]"
            ]
          },
          "metadata": {
            "tags": []
          },
          "execution_count": 59
        }
      ]
    },
    {
      "cell_type": "markdown",
      "metadata": {
        "id": "cmc6i48iDpXe",
        "colab_type": "text"
      },
      "source": [
        "We can see the date 2020-3-14 is getting in our data even though shelter in place is 2020-3-15. This might by caused by the one off error. (2019 has 366 days and 2020 has 365 days). Don't think this will affect our analysis that much."
      ]
    },
    {
      "cell_type": "code",
      "metadata": {
        "id": "IYLtH5XsDk26",
        "colab_type": "code",
        "colab": {}
      },
      "source": [
        "data_2019 = data[data['2019?'] == True]"
      ],
      "execution_count": 60,
      "outputs": []
    },
    {
      "cell_type": "code",
      "metadata": {
        "id": "5c7Sl5TjEKNW",
        "colab_type": "code",
        "colab": {}
      },
      "source": [
        "data_2020 = data[data['2019?'] == False]"
      ],
      "execution_count": 61,
      "outputs": []
    },
    {
      "cell_type": "code",
      "metadata": {
        "id": "MOCqO-NnEOCp",
        "colab_type": "code",
        "colab": {
          "base_uri": "https://localhost:8080/",
          "height": 102
        },
        "outputId": "607e28b8-3650-4f8e-fe4b-bc994967b27b"
      },
      "source": [
        "# drop unnecessary columns\n",
        "data_2019.drop(columns=['withinTimeWindow', '2019?'], axis = 1, inplace = True)\n",
        "data_2020.drop(columns=['withinTimeWindow', '2019?'], axis = 1, inplace = True)"
      ],
      "execution_count": 64,
      "outputs": [
        {
          "output_type": "stream",
          "text": [
            "/usr/local/lib/python3.6/dist-packages/pandas/core/frame.py:3997: SettingWithCopyWarning: \n",
            "A value is trying to be set on a copy of a slice from a DataFrame\n",
            "\n",
            "See the caveats in the documentation: https://pandas.pydata.org/pandas-docs/stable/user_guide/indexing.html#returning-a-view-versus-a-copy\n",
            "  errors=errors,\n"
          ],
          "name": "stderr"
        }
      ]
    },
    {
      "cell_type": "code",
      "metadata": {
        "id": "YeTQDxBoEU_Q",
        "colab_type": "code",
        "colab": {
          "base_uri": "https://localhost:8080/",
          "height": 204
        },
        "outputId": "7ab85744-6c14-4c92-c42e-bda6dad9b58a"
      },
      "source": [
        "data_2019.head()"
      ],
      "execution_count": 65,
      "outputs": [
        {
          "output_type": "execute_result",
          "data": {
            "text/html": [
              "<div>\n",
              "<style scoped>\n",
              "    .dataframe tbody tr th:only-of-type {\n",
              "        vertical-align: middle;\n",
              "    }\n",
              "\n",
              "    .dataframe tbody tr th {\n",
              "        vertical-align: top;\n",
              "    }\n",
              "\n",
              "    .dataframe thead th {\n",
              "        text-align: right;\n",
              "    }\n",
              "</style>\n",
              "<table border=\"1\" class=\"dataframe\">\n",
              "  <thead>\n",
              "    <tr style=\"text-align: right;\">\n",
              "      <th></th>\n",
              "      <th>date_range_start</th>\n",
              "      <th>state</th>\n",
              "      <th>state_code</th>\n",
              "      <th>cnamelong</th>\n",
              "      <th>county_code</th>\n",
              "      <th>device_count</th>\n",
              "      <th>completely_home_device_count</th>\n",
              "      <th>Date - shelter in place</th>\n",
              "    </tr>\n",
              "  </thead>\n",
              "  <tbody>\n",
              "    <tr>\n",
              "      <th>224582</th>\n",
              "      <td>2019-03-15</td>\n",
              "      <td>72.0</td>\n",
              "      <td>PR</td>\n",
              "      <td>Adjuntas Municipio</td>\n",
              "      <td>72001.0</td>\n",
              "      <td>402.0</td>\n",
              "      <td>157.0</td>\n",
              "      <td>2020-03-15</td>\n",
              "    </tr>\n",
              "    <tr>\n",
              "      <th>224583</th>\n",
              "      <td>2019-03-15</td>\n",
              "      <td>72.0</td>\n",
              "      <td>PR</td>\n",
              "      <td>Aguada Municipio</td>\n",
              "      <td>72003.0</td>\n",
              "      <td>1106.0</td>\n",
              "      <td>498.0</td>\n",
              "      <td>2020-03-15</td>\n",
              "    </tr>\n",
              "    <tr>\n",
              "      <th>224584</th>\n",
              "      <td>2019-03-15</td>\n",
              "      <td>72.0</td>\n",
              "      <td>PR</td>\n",
              "      <td>Aguadilla Municipio</td>\n",
              "      <td>72005.0</td>\n",
              "      <td>1688.0</td>\n",
              "      <td>801.0</td>\n",
              "      <td>2020-03-15</td>\n",
              "    </tr>\n",
              "    <tr>\n",
              "      <th>224585</th>\n",
              "      <td>2019-03-15</td>\n",
              "      <td>72.0</td>\n",
              "      <td>PR</td>\n",
              "      <td>Aguas Buenas Municipio</td>\n",
              "      <td>72007.0</td>\n",
              "      <td>650.0</td>\n",
              "      <td>251.0</td>\n",
              "      <td>2020-03-15</td>\n",
              "    </tr>\n",
              "    <tr>\n",
              "      <th>224586</th>\n",
              "      <td>2019-03-15</td>\n",
              "      <td>72.0</td>\n",
              "      <td>PR</td>\n",
              "      <td>Aibonito Municipio</td>\n",
              "      <td>72009.0</td>\n",
              "      <td>623.0</td>\n",
              "      <td>250.0</td>\n",
              "      <td>2020-03-15</td>\n",
              "    </tr>\n",
              "  </tbody>\n",
              "</table>\n",
              "</div>"
            ],
            "text/plain": [
              "       date_range_start  ...  Date - shelter in place\n",
              "224582       2019-03-15  ...               2020-03-15\n",
              "224583       2019-03-15  ...               2020-03-15\n",
              "224584       2019-03-15  ...               2020-03-15\n",
              "224585       2019-03-15  ...               2020-03-15\n",
              "224586       2019-03-15  ...               2020-03-15\n",
              "\n",
              "[5 rows x 8 columns]"
            ]
          },
          "metadata": {
            "tags": []
          },
          "execution_count": 65
        }
      ]
    },
    {
      "cell_type": "code",
      "metadata": {
        "id": "ewd1FMN1EW32",
        "colab_type": "code",
        "colab": {
          "base_uri": "https://localhost:8080/",
          "height": 204
        },
        "outputId": "dac74534-0119-4c70-c7d0-8337ba5a91fc"
      },
      "source": [
        "data_2020.head()"
      ],
      "execution_count": 66,
      "outputs": [
        {
          "output_type": "execute_result",
          "data": {
            "text/html": [
              "<div>\n",
              "<style scoped>\n",
              "    .dataframe tbody tr th:only-of-type {\n",
              "        vertical-align: middle;\n",
              "    }\n",
              "\n",
              "    .dataframe tbody tr th {\n",
              "        vertical-align: top;\n",
              "    }\n",
              "\n",
              "    .dataframe thead th {\n",
              "        text-align: right;\n",
              "    }\n",
              "</style>\n",
              "<table border=\"1\" class=\"dataframe\">\n",
              "  <thead>\n",
              "    <tr style=\"text-align: right;\">\n",
              "      <th></th>\n",
              "      <th>date_range_start</th>\n",
              "      <th>state</th>\n",
              "      <th>state_code</th>\n",
              "      <th>cnamelong</th>\n",
              "      <th>county_code</th>\n",
              "      <th>device_count</th>\n",
              "      <th>completely_home_device_count</th>\n",
              "      <th>Date - shelter in place</th>\n",
              "    </tr>\n",
              "  </thead>\n",
              "  <tbody>\n",
              "    <tr>\n",
              "      <th>1325179</th>\n",
              "      <td>2020-03-14</td>\n",
              "      <td>72.0</td>\n",
              "      <td>PR</td>\n",
              "      <td>Adjuntas Municipio</td>\n",
              "      <td>72001.0</td>\n",
              "      <td>871.0</td>\n",
              "      <td>359.0</td>\n",
              "      <td>2020-03-15</td>\n",
              "    </tr>\n",
              "    <tr>\n",
              "      <th>1325180</th>\n",
              "      <td>2020-03-14</td>\n",
              "      <td>72.0</td>\n",
              "      <td>PR</td>\n",
              "      <td>Aguada Municipio</td>\n",
              "      <td>72003.0</td>\n",
              "      <td>1867.0</td>\n",
              "      <td>752.0</td>\n",
              "      <td>2020-03-15</td>\n",
              "    </tr>\n",
              "    <tr>\n",
              "      <th>1325181</th>\n",
              "      <td>2020-03-14</td>\n",
              "      <td>72.0</td>\n",
              "      <td>PR</td>\n",
              "      <td>Aguadilla Municipio</td>\n",
              "      <td>72005.0</td>\n",
              "      <td>2801.0</td>\n",
              "      <td>1161.0</td>\n",
              "      <td>2020-03-15</td>\n",
              "    </tr>\n",
              "    <tr>\n",
              "      <th>1325182</th>\n",
              "      <td>2020-03-14</td>\n",
              "      <td>72.0</td>\n",
              "      <td>PR</td>\n",
              "      <td>Aguas Buenas Municipio</td>\n",
              "      <td>72007.0</td>\n",
              "      <td>953.0</td>\n",
              "      <td>340.0</td>\n",
              "      <td>2020-03-15</td>\n",
              "    </tr>\n",
              "    <tr>\n",
              "      <th>1325183</th>\n",
              "      <td>2020-03-14</td>\n",
              "      <td>72.0</td>\n",
              "      <td>PR</td>\n",
              "      <td>Aibonito Municipio</td>\n",
              "      <td>72009.0</td>\n",
              "      <td>801.0</td>\n",
              "      <td>316.0</td>\n",
              "      <td>2020-03-15</td>\n",
              "    </tr>\n",
              "  </tbody>\n",
              "</table>\n",
              "</div>"
            ],
            "text/plain": [
              "        date_range_start  ...  Date - shelter in place\n",
              "1325179       2020-03-14  ...               2020-03-15\n",
              "1325180       2020-03-14  ...               2020-03-15\n",
              "1325181       2020-03-14  ...               2020-03-15\n",
              "1325182       2020-03-14  ...               2020-03-15\n",
              "1325183       2020-03-14  ...               2020-03-15\n",
              "\n",
              "[5 rows x 8 columns]"
            ]
          },
          "metadata": {
            "tags": []
          },
          "execution_count": 66
        }
      ]
    },
    {
      "cell_type": "markdown",
      "metadata": {
        "id": "osdUugHUEhMP",
        "colab_type": "text"
      },
      "source": [
        "# add a SIP column to data to indicate whether this county has SIP implemented."
      ]
    },
    {
      "cell_type": "code",
      "metadata": {
        "id": "zFNA0WHcEYur",
        "colab_type": "code",
        "colab": {
          "base_uri": "https://localhost:8080/",
          "height": 204
        },
        "outputId": "f8f36b65-4893-4a87-96e0-e1f83f954e96"
      },
      "source": [
        "data_2019.head()"
      ],
      "execution_count": 67,
      "outputs": [
        {
          "output_type": "execute_result",
          "data": {
            "text/html": [
              "<div>\n",
              "<style scoped>\n",
              "    .dataframe tbody tr th:only-of-type {\n",
              "        vertical-align: middle;\n",
              "    }\n",
              "\n",
              "    .dataframe tbody tr th {\n",
              "        vertical-align: top;\n",
              "    }\n",
              "\n",
              "    .dataframe thead th {\n",
              "        text-align: right;\n",
              "    }\n",
              "</style>\n",
              "<table border=\"1\" class=\"dataframe\">\n",
              "  <thead>\n",
              "    <tr style=\"text-align: right;\">\n",
              "      <th></th>\n",
              "      <th>date_range_start</th>\n",
              "      <th>state</th>\n",
              "      <th>state_code</th>\n",
              "      <th>cnamelong</th>\n",
              "      <th>county_code</th>\n",
              "      <th>device_count</th>\n",
              "      <th>completely_home_device_count</th>\n",
              "      <th>Date - shelter in place</th>\n",
              "    </tr>\n",
              "  </thead>\n",
              "  <tbody>\n",
              "    <tr>\n",
              "      <th>224582</th>\n",
              "      <td>2019-03-15</td>\n",
              "      <td>72.0</td>\n",
              "      <td>PR</td>\n",
              "      <td>Adjuntas Municipio</td>\n",
              "      <td>72001.0</td>\n",
              "      <td>402.0</td>\n",
              "      <td>157.0</td>\n",
              "      <td>2020-03-15</td>\n",
              "    </tr>\n",
              "    <tr>\n",
              "      <th>224583</th>\n",
              "      <td>2019-03-15</td>\n",
              "      <td>72.0</td>\n",
              "      <td>PR</td>\n",
              "      <td>Aguada Municipio</td>\n",
              "      <td>72003.0</td>\n",
              "      <td>1106.0</td>\n",
              "      <td>498.0</td>\n",
              "      <td>2020-03-15</td>\n",
              "    </tr>\n",
              "    <tr>\n",
              "      <th>224584</th>\n",
              "      <td>2019-03-15</td>\n",
              "      <td>72.0</td>\n",
              "      <td>PR</td>\n",
              "      <td>Aguadilla Municipio</td>\n",
              "      <td>72005.0</td>\n",
              "      <td>1688.0</td>\n",
              "      <td>801.0</td>\n",
              "      <td>2020-03-15</td>\n",
              "    </tr>\n",
              "    <tr>\n",
              "      <th>224585</th>\n",
              "      <td>2019-03-15</td>\n",
              "      <td>72.0</td>\n",
              "      <td>PR</td>\n",
              "      <td>Aguas Buenas Municipio</td>\n",
              "      <td>72007.0</td>\n",
              "      <td>650.0</td>\n",
              "      <td>251.0</td>\n",
              "      <td>2020-03-15</td>\n",
              "    </tr>\n",
              "    <tr>\n",
              "      <th>224586</th>\n",
              "      <td>2019-03-15</td>\n",
              "      <td>72.0</td>\n",
              "      <td>PR</td>\n",
              "      <td>Aibonito Municipio</td>\n",
              "      <td>72009.0</td>\n",
              "      <td>623.0</td>\n",
              "      <td>250.0</td>\n",
              "      <td>2020-03-15</td>\n",
              "    </tr>\n",
              "  </tbody>\n",
              "</table>\n",
              "</div>"
            ],
            "text/plain": [
              "       date_range_start  ...  Date - shelter in place\n",
              "224582       2019-03-15  ...               2020-03-15\n",
              "224583       2019-03-15  ...               2020-03-15\n",
              "224584       2019-03-15  ...               2020-03-15\n",
              "224585       2019-03-15  ...               2020-03-15\n",
              "224586       2019-03-15  ...               2020-03-15\n",
              "\n",
              "[5 rows x 8 columns]"
            ]
          },
          "metadata": {
            "tags": []
          },
          "execution_count": 67
        }
      ]
    },
    {
      "cell_type": "code",
      "metadata": {
        "id": "MDHIva4nFLPt",
        "colab_type": "code",
        "colab": {
          "base_uri": "https://localhost:8080/",
          "height": 221
        },
        "outputId": "1ac6b777-7708-4e60-cb08-6321dd1e7410"
      },
      "source": [
        "data_2019['SIP?'] = data_2019['Date - shelter in place'].apply(lambda x: 0 if pd.isnull(x) else 1)\n",
        "data_2020['SIP?'] = data_2020['Date - shelter in place'].apply(lambda x: 0 if pd.isnull(x) else 1)"
      ],
      "execution_count": 68,
      "outputs": [
        {
          "output_type": "stream",
          "text": [
            "/usr/local/lib/python3.6/dist-packages/ipykernel_launcher.py:1: SettingWithCopyWarning: \n",
            "A value is trying to be set on a copy of a slice from a DataFrame.\n",
            "Try using .loc[row_indexer,col_indexer] = value instead\n",
            "\n",
            "See the caveats in the documentation: https://pandas.pydata.org/pandas-docs/stable/user_guide/indexing.html#returning-a-view-versus-a-copy\n",
            "  \"\"\"Entry point for launching an IPython kernel.\n",
            "/usr/local/lib/python3.6/dist-packages/ipykernel_launcher.py:2: SettingWithCopyWarning: \n",
            "A value is trying to be set on a copy of a slice from a DataFrame.\n",
            "Try using .loc[row_indexer,col_indexer] = value instead\n",
            "\n",
            "See the caveats in the documentation: https://pandas.pydata.org/pandas-docs/stable/user_guide/indexing.html#returning-a-view-versus-a-copy\n",
            "  \n"
          ],
          "name": "stderr"
        }
      ]
    },
    {
      "cell_type": "code",
      "metadata": {
        "id": "P-KL1-P9FRej",
        "colab_type": "code",
        "colab": {
          "base_uri": "https://localhost:8080/",
          "height": 204
        },
        "outputId": "c51c9968-966b-4e13-a4dd-182de65bd55c"
      },
      "source": [
        "data_2019.head()"
      ],
      "execution_count": 69,
      "outputs": [
        {
          "output_type": "execute_result",
          "data": {
            "text/html": [
              "<div>\n",
              "<style scoped>\n",
              "    .dataframe tbody tr th:only-of-type {\n",
              "        vertical-align: middle;\n",
              "    }\n",
              "\n",
              "    .dataframe tbody tr th {\n",
              "        vertical-align: top;\n",
              "    }\n",
              "\n",
              "    .dataframe thead th {\n",
              "        text-align: right;\n",
              "    }\n",
              "</style>\n",
              "<table border=\"1\" class=\"dataframe\">\n",
              "  <thead>\n",
              "    <tr style=\"text-align: right;\">\n",
              "      <th></th>\n",
              "      <th>date_range_start</th>\n",
              "      <th>state</th>\n",
              "      <th>state_code</th>\n",
              "      <th>cnamelong</th>\n",
              "      <th>county_code</th>\n",
              "      <th>device_count</th>\n",
              "      <th>completely_home_device_count</th>\n",
              "      <th>Date - shelter in place</th>\n",
              "      <th>SIP?</th>\n",
              "    </tr>\n",
              "  </thead>\n",
              "  <tbody>\n",
              "    <tr>\n",
              "      <th>224582</th>\n",
              "      <td>2019-03-15</td>\n",
              "      <td>72.0</td>\n",
              "      <td>PR</td>\n",
              "      <td>Adjuntas Municipio</td>\n",
              "      <td>72001.0</td>\n",
              "      <td>402.0</td>\n",
              "      <td>157.0</td>\n",
              "      <td>2020-03-15</td>\n",
              "      <td>1</td>\n",
              "    </tr>\n",
              "    <tr>\n",
              "      <th>224583</th>\n",
              "      <td>2019-03-15</td>\n",
              "      <td>72.0</td>\n",
              "      <td>PR</td>\n",
              "      <td>Aguada Municipio</td>\n",
              "      <td>72003.0</td>\n",
              "      <td>1106.0</td>\n",
              "      <td>498.0</td>\n",
              "      <td>2020-03-15</td>\n",
              "      <td>1</td>\n",
              "    </tr>\n",
              "    <tr>\n",
              "      <th>224584</th>\n",
              "      <td>2019-03-15</td>\n",
              "      <td>72.0</td>\n",
              "      <td>PR</td>\n",
              "      <td>Aguadilla Municipio</td>\n",
              "      <td>72005.0</td>\n",
              "      <td>1688.0</td>\n",
              "      <td>801.0</td>\n",
              "      <td>2020-03-15</td>\n",
              "      <td>1</td>\n",
              "    </tr>\n",
              "    <tr>\n",
              "      <th>224585</th>\n",
              "      <td>2019-03-15</td>\n",
              "      <td>72.0</td>\n",
              "      <td>PR</td>\n",
              "      <td>Aguas Buenas Municipio</td>\n",
              "      <td>72007.0</td>\n",
              "      <td>650.0</td>\n",
              "      <td>251.0</td>\n",
              "      <td>2020-03-15</td>\n",
              "      <td>1</td>\n",
              "    </tr>\n",
              "    <tr>\n",
              "      <th>224586</th>\n",
              "      <td>2019-03-15</td>\n",
              "      <td>72.0</td>\n",
              "      <td>PR</td>\n",
              "      <td>Aibonito Municipio</td>\n",
              "      <td>72009.0</td>\n",
              "      <td>623.0</td>\n",
              "      <td>250.0</td>\n",
              "      <td>2020-03-15</td>\n",
              "      <td>1</td>\n",
              "    </tr>\n",
              "  </tbody>\n",
              "</table>\n",
              "</div>"
            ],
            "text/plain": [
              "       date_range_start  state  ... Date - shelter in place SIP?\n",
              "224582       2019-03-15   72.0  ...              2020-03-15    1\n",
              "224583       2019-03-15   72.0  ...              2020-03-15    1\n",
              "224584       2019-03-15   72.0  ...              2020-03-15    1\n",
              "224585       2019-03-15   72.0  ...              2020-03-15    1\n",
              "224586       2019-03-15   72.0  ...              2020-03-15    1\n",
              "\n",
              "[5 rows x 9 columns]"
            ]
          },
          "metadata": {
            "tags": []
          },
          "execution_count": 69
        }
      ]
    },
    {
      "cell_type": "code",
      "metadata": {
        "id": "9dFMXBo0FTKL",
        "colab_type": "code",
        "colab": {
          "base_uri": "https://localhost:8080/",
          "height": 204
        },
        "outputId": "4c7a0332-dda3-46f8-cf06-bddf7ce519c6"
      },
      "source": [
        "data_2019[data_2019['SIP?'] == 0].head()"
      ],
      "execution_count": 71,
      "outputs": [
        {
          "output_type": "execute_result",
          "data": {
            "text/html": [
              "<div>\n",
              "<style scoped>\n",
              "    .dataframe tbody tr th:only-of-type {\n",
              "        vertical-align: middle;\n",
              "    }\n",
              "\n",
              "    .dataframe tbody tr th {\n",
              "        vertical-align: top;\n",
              "    }\n",
              "\n",
              "    .dataframe thead th {\n",
              "        text-align: right;\n",
              "    }\n",
              "</style>\n",
              "<table border=\"1\" class=\"dataframe\">\n",
              "  <thead>\n",
              "    <tr style=\"text-align: right;\">\n",
              "      <th></th>\n",
              "      <th>date_range_start</th>\n",
              "      <th>state</th>\n",
              "      <th>state_code</th>\n",
              "      <th>cnamelong</th>\n",
              "      <th>county_code</th>\n",
              "      <th>device_count</th>\n",
              "      <th>completely_home_device_count</th>\n",
              "      <th>Date - shelter in place</th>\n",
              "      <th>SIP?</th>\n",
              "    </tr>\n",
              "  </thead>\n",
              "  <tbody>\n",
              "    <tr>\n",
              "      <th>261208</th>\n",
              "      <td>2019-03-28</td>\n",
              "      <td>5.0</td>\n",
              "      <td>AR</td>\n",
              "      <td>Arkansas County</td>\n",
              "      <td>5001.0</td>\n",
              "      <td>1469.0</td>\n",
              "      <td>249.0</td>\n",
              "      <td>NaT</td>\n",
              "      <td>0</td>\n",
              "    </tr>\n",
              "    <tr>\n",
              "      <th>261209</th>\n",
              "      <td>2019-03-28</td>\n",
              "      <td>5.0</td>\n",
              "      <td>AR</td>\n",
              "      <td>Ashley County</td>\n",
              "      <td>5003.0</td>\n",
              "      <td>1493.0</td>\n",
              "      <td>292.0</td>\n",
              "      <td>NaT</td>\n",
              "      <td>0</td>\n",
              "    </tr>\n",
              "    <tr>\n",
              "      <th>261210</th>\n",
              "      <td>2019-03-28</td>\n",
              "      <td>5.0</td>\n",
              "      <td>AR</td>\n",
              "      <td>Baxter County</td>\n",
              "      <td>5005.0</td>\n",
              "      <td>2856.0</td>\n",
              "      <td>809.0</td>\n",
              "      <td>NaT</td>\n",
              "      <td>0</td>\n",
              "    </tr>\n",
              "    <tr>\n",
              "      <th>261211</th>\n",
              "      <td>2019-03-28</td>\n",
              "      <td>5.0</td>\n",
              "      <td>AR</td>\n",
              "      <td>Benton County</td>\n",
              "      <td>5007.0</td>\n",
              "      <td>22612.0</td>\n",
              "      <td>5265.0</td>\n",
              "      <td>NaT</td>\n",
              "      <td>0</td>\n",
              "    </tr>\n",
              "    <tr>\n",
              "      <th>261212</th>\n",
              "      <td>2019-03-28</td>\n",
              "      <td>5.0</td>\n",
              "      <td>AR</td>\n",
              "      <td>Boone County</td>\n",
              "      <td>5009.0</td>\n",
              "      <td>2904.0</td>\n",
              "      <td>688.0</td>\n",
              "      <td>NaT</td>\n",
              "      <td>0</td>\n",
              "    </tr>\n",
              "  </tbody>\n",
              "</table>\n",
              "</div>"
            ],
            "text/plain": [
              "       date_range_start  state  ... Date - shelter in place SIP?\n",
              "261208       2019-03-28    5.0  ...                     NaT    0\n",
              "261209       2019-03-28    5.0  ...                     NaT    0\n",
              "261210       2019-03-28    5.0  ...                     NaT    0\n",
              "261211       2019-03-28    5.0  ...                     NaT    0\n",
              "261212       2019-03-28    5.0  ...                     NaT    0\n",
              "\n",
              "[5 rows x 9 columns]"
            ]
          },
          "metadata": {
            "tags": []
          },
          "execution_count": 71
        }
      ]
    },
    {
      "cell_type": "markdown",
      "metadata": {
        "id": "EaYXbQOxFsIo",
        "colab_type": "text"
      },
      "source": [
        "# group by county and aggregate on device_count + completely_home_device_count"
      ]
    },
    {
      "cell_type": "code",
      "metadata": {
        "id": "fXO7bsIxFwxK",
        "colab_type": "code",
        "colab": {}
      },
      "source": [
        "data_2019_agg = data_2019.groupby(['state','state_code','cnamelong','county_code',\\\n",
        "                                   'SIP?']).agg(device_count = ('device_count', 'sum'),\\\n",
        "                                                completely_home_device_count = ('completely_home_device_count', 'sum')).reset_index()"
      ],
      "execution_count": 72,
      "outputs": []
    },
    {
      "cell_type": "code",
      "metadata": {
        "id": "fkBQGutnF458",
        "colab_type": "code",
        "colab": {}
      },
      "source": [
        "data_2020_agg = data_2020.groupby(['state','state_code','cnamelong','county_code',\\\n",
        "                                   'SIP?']).agg(device_count = ('device_count', 'sum'),\\\n",
        "                                                completely_home_device_count = ('completely_home_device_count', 'sum')).reset_index()"
      ],
      "execution_count": 73,
      "outputs": []
    },
    {
      "cell_type": "code",
      "metadata": {
        "id": "zFbFn1G1F6w-",
        "colab_type": "code",
        "colab": {
          "base_uri": "https://localhost:8080/",
          "height": 204
        },
        "outputId": "a9c17125-539d-435b-97e5-a6de372494f8"
      },
      "source": [
        "data_2019_agg.head()"
      ],
      "execution_count": 74,
      "outputs": [
        {
          "output_type": "execute_result",
          "data": {
            "text/html": [
              "<div>\n",
              "<style scoped>\n",
              "    .dataframe tbody tr th:only-of-type {\n",
              "        vertical-align: middle;\n",
              "    }\n",
              "\n",
              "    .dataframe tbody tr th {\n",
              "        vertical-align: top;\n",
              "    }\n",
              "\n",
              "    .dataframe thead th {\n",
              "        text-align: right;\n",
              "    }\n",
              "</style>\n",
              "<table border=\"1\" class=\"dataframe\">\n",
              "  <thead>\n",
              "    <tr style=\"text-align: right;\">\n",
              "      <th></th>\n",
              "      <th>state</th>\n",
              "      <th>state_code</th>\n",
              "      <th>cnamelong</th>\n",
              "      <th>county_code</th>\n",
              "      <th>SIP?</th>\n",
              "      <th>device_count</th>\n",
              "      <th>completely_home_device_count</th>\n",
              "    </tr>\n",
              "  </thead>\n",
              "  <tbody>\n",
              "    <tr>\n",
              "      <th>0</th>\n",
              "      <td>1.0</td>\n",
              "      <td>AL</td>\n",
              "      <td>Autauga County</td>\n",
              "      <td>1001.0</td>\n",
              "      <td>1</td>\n",
              "      <td>308239.0</td>\n",
              "      <td>70403.0</td>\n",
              "    </tr>\n",
              "    <tr>\n",
              "      <th>1</th>\n",
              "      <td>1.0</td>\n",
              "      <td>AL</td>\n",
              "      <td>Baldwin County</td>\n",
              "      <td>1003.0</td>\n",
              "      <td>1</td>\n",
              "      <td>1374799.0</td>\n",
              "      <td>326561.0</td>\n",
              "    </tr>\n",
              "    <tr>\n",
              "      <th>2</th>\n",
              "      <td>1.0</td>\n",
              "      <td>AL</td>\n",
              "      <td>Barbour County</td>\n",
              "      <td>1005.0</td>\n",
              "      <td>1</td>\n",
              "      <td>106870.0</td>\n",
              "      <td>26794.0</td>\n",
              "    </tr>\n",
              "    <tr>\n",
              "      <th>3</th>\n",
              "      <td>1.0</td>\n",
              "      <td>AL</td>\n",
              "      <td>Bibb County</td>\n",
              "      <td>1007.0</td>\n",
              "      <td>1</td>\n",
              "      <td>128209.0</td>\n",
              "      <td>30203.0</td>\n",
              "    </tr>\n",
              "    <tr>\n",
              "      <th>4</th>\n",
              "      <td>1.0</td>\n",
              "      <td>AL</td>\n",
              "      <td>Blount County</td>\n",
              "      <td>1009.0</td>\n",
              "      <td>1</td>\n",
              "      <td>357421.0</td>\n",
              "      <td>76718.0</td>\n",
              "    </tr>\n",
              "  </tbody>\n",
              "</table>\n",
              "</div>"
            ],
            "text/plain": [
              "   state state_code  ... device_count  completely_home_device_count\n",
              "0    1.0         AL  ...     308239.0                       70403.0\n",
              "1    1.0         AL  ...    1374799.0                      326561.0\n",
              "2    1.0         AL  ...     106870.0                       26794.0\n",
              "3    1.0         AL  ...     128209.0                       30203.0\n",
              "4    1.0         AL  ...     357421.0                       76718.0\n",
              "\n",
              "[5 rows x 7 columns]"
            ]
          },
          "metadata": {
            "tags": []
          },
          "execution_count": 74
        }
      ]
    },
    {
      "cell_type": "code",
      "metadata": {
        "id": "z2ZtwCqhF8jZ",
        "colab_type": "code",
        "colab": {
          "base_uri": "https://localhost:8080/",
          "height": 204
        },
        "outputId": "29d62c92-b3b4-48ff-b4db-e90ebe9396b4"
      },
      "source": [
        "data_2020_agg.head()"
      ],
      "execution_count": 75,
      "outputs": [
        {
          "output_type": "execute_result",
          "data": {
            "text/html": [
              "<div>\n",
              "<style scoped>\n",
              "    .dataframe tbody tr th:only-of-type {\n",
              "        vertical-align: middle;\n",
              "    }\n",
              "\n",
              "    .dataframe tbody tr th {\n",
              "        vertical-align: top;\n",
              "    }\n",
              "\n",
              "    .dataframe thead th {\n",
              "        text-align: right;\n",
              "    }\n",
              "</style>\n",
              "<table border=\"1\" class=\"dataframe\">\n",
              "  <thead>\n",
              "    <tr style=\"text-align: right;\">\n",
              "      <th></th>\n",
              "      <th>state</th>\n",
              "      <th>state_code</th>\n",
              "      <th>cnamelong</th>\n",
              "      <th>county_code</th>\n",
              "      <th>SIP?</th>\n",
              "      <th>device_count</th>\n",
              "      <th>completely_home_device_count</th>\n",
              "    </tr>\n",
              "  </thead>\n",
              "  <tbody>\n",
              "    <tr>\n",
              "      <th>0</th>\n",
              "      <td>1.0</td>\n",
              "      <td>AL</td>\n",
              "      <td>Autauga County</td>\n",
              "      <td>1001.0</td>\n",
              "      <td>1</td>\n",
              "      <td>317591.0</td>\n",
              "      <td>88634.0</td>\n",
              "    </tr>\n",
              "    <tr>\n",
              "      <th>1</th>\n",
              "      <td>1.0</td>\n",
              "      <td>AL</td>\n",
              "      <td>Baldwin County</td>\n",
              "      <td>1003.0</td>\n",
              "      <td>1</td>\n",
              "      <td>1307972.0</td>\n",
              "      <td>376494.0</td>\n",
              "    </tr>\n",
              "    <tr>\n",
              "      <th>2</th>\n",
              "      <td>1.0</td>\n",
              "      <td>AL</td>\n",
              "      <td>Barbour County</td>\n",
              "      <td>1005.0</td>\n",
              "      <td>1</td>\n",
              "      <td>100674.0</td>\n",
              "      <td>25949.0</td>\n",
              "    </tr>\n",
              "    <tr>\n",
              "      <th>3</th>\n",
              "      <td>1.0</td>\n",
              "      <td>AL</td>\n",
              "      <td>Bibb County</td>\n",
              "      <td>1007.0</td>\n",
              "      <td>1</td>\n",
              "      <td>123815.0</td>\n",
              "      <td>30630.0</td>\n",
              "    </tr>\n",
              "    <tr>\n",
              "      <th>4</th>\n",
              "      <td>1.0</td>\n",
              "      <td>AL</td>\n",
              "      <td>Blount County</td>\n",
              "      <td>1009.0</td>\n",
              "      <td>1</td>\n",
              "      <td>377311.0</td>\n",
              "      <td>95661.0</td>\n",
              "    </tr>\n",
              "  </tbody>\n",
              "</table>\n",
              "</div>"
            ],
            "text/plain": [
              "   state state_code  ... device_count  completely_home_device_count\n",
              "0    1.0         AL  ...     317591.0                       88634.0\n",
              "1    1.0         AL  ...    1307972.0                      376494.0\n",
              "2    1.0         AL  ...     100674.0                       25949.0\n",
              "3    1.0         AL  ...     123815.0                       30630.0\n",
              "4    1.0         AL  ...     377311.0                       95661.0\n",
              "\n",
              "[5 rows x 7 columns]"
            ]
          },
          "metadata": {
            "tags": []
          },
          "execution_count": 75
        }
      ]
    },
    {
      "cell_type": "code",
      "metadata": {
        "id": "p3zoBH7SF-ZA",
        "colab_type": "code",
        "colab": {
          "base_uri": "https://localhost:8080/",
          "height": 34
        },
        "outputId": "2fcbc65b-7aca-4474-df4d-143764986b12"
      },
      "source": [
        "data_2019_agg.shape"
      ],
      "execution_count": 76,
      "outputs": [
        {
          "output_type": "execute_result",
          "data": {
            "text/plain": [
              "(3098, 7)"
            ]
          },
          "metadata": {
            "tags": []
          },
          "execution_count": 76
        }
      ]
    },
    {
      "cell_type": "code",
      "metadata": {
        "id": "f4VudWHaGCjy",
        "colab_type": "code",
        "colab": {
          "base_uri": "https://localhost:8080/",
          "height": 34
        },
        "outputId": "ed169fcc-436b-4716-9ae1-7b40a6fcda4c"
      },
      "source": [
        "data_2020_agg.shape"
      ],
      "execution_count": 77,
      "outputs": [
        {
          "output_type": "execute_result",
          "data": {
            "text/plain": [
              "(3082, 7)"
            ]
          },
          "metadata": {
            "tags": []
          },
          "execution_count": 77
        }
      ]
    },
    {
      "cell_type": "markdown",
      "metadata": {
        "id": "5BOgk0pMGKZz",
        "colab_type": "text"
      },
      "source": [
        "# produce the difference in stay at home behavior bewteen 2020 and 2019."
      ]
    },
    {
      "cell_type": "code",
      "metadata": {
        "id": "XCV9BsuUGDg2",
        "colab_type": "code",
        "colab": {}
      },
      "source": [
        "data_2019_agg['last_year_perc'] = data_2019_agg['completely_home_device_count'] / data_2019_agg['device_count']"
      ],
      "execution_count": 78,
      "outputs": []
    },
    {
      "cell_type": "code",
      "metadata": {
        "id": "EmLRmLNUGSKZ",
        "colab_type": "code",
        "colab": {
          "base_uri": "https://localhost:8080/",
          "height": 204
        },
        "outputId": "10c6ee38-dd5a-457d-f195-459aac558c06"
      },
      "source": [
        "data_2019_agg.head()"
      ],
      "execution_count": 79,
      "outputs": [
        {
          "output_type": "execute_result",
          "data": {
            "text/html": [
              "<div>\n",
              "<style scoped>\n",
              "    .dataframe tbody tr th:only-of-type {\n",
              "        vertical-align: middle;\n",
              "    }\n",
              "\n",
              "    .dataframe tbody tr th {\n",
              "        vertical-align: top;\n",
              "    }\n",
              "\n",
              "    .dataframe thead th {\n",
              "        text-align: right;\n",
              "    }\n",
              "</style>\n",
              "<table border=\"1\" class=\"dataframe\">\n",
              "  <thead>\n",
              "    <tr style=\"text-align: right;\">\n",
              "      <th></th>\n",
              "      <th>state</th>\n",
              "      <th>state_code</th>\n",
              "      <th>cnamelong</th>\n",
              "      <th>county_code</th>\n",
              "      <th>SIP?</th>\n",
              "      <th>device_count</th>\n",
              "      <th>completely_home_device_count</th>\n",
              "      <th>last_year_perc</th>\n",
              "    </tr>\n",
              "  </thead>\n",
              "  <tbody>\n",
              "    <tr>\n",
              "      <th>0</th>\n",
              "      <td>1.0</td>\n",
              "      <td>AL</td>\n",
              "      <td>Autauga County</td>\n",
              "      <td>1001.0</td>\n",
              "      <td>1</td>\n",
              "      <td>308239.0</td>\n",
              "      <td>70403.0</td>\n",
              "      <td>0.228404</td>\n",
              "    </tr>\n",
              "    <tr>\n",
              "      <th>1</th>\n",
              "      <td>1.0</td>\n",
              "      <td>AL</td>\n",
              "      <td>Baldwin County</td>\n",
              "      <td>1003.0</td>\n",
              "      <td>1</td>\n",
              "      <td>1374799.0</td>\n",
              "      <td>326561.0</td>\n",
              "      <td>0.237534</td>\n",
              "    </tr>\n",
              "    <tr>\n",
              "      <th>2</th>\n",
              "      <td>1.0</td>\n",
              "      <td>AL</td>\n",
              "      <td>Barbour County</td>\n",
              "      <td>1005.0</td>\n",
              "      <td>1</td>\n",
              "      <td>106870.0</td>\n",
              "      <td>26794.0</td>\n",
              "      <td>0.250716</td>\n",
              "    </tr>\n",
              "    <tr>\n",
              "      <th>3</th>\n",
              "      <td>1.0</td>\n",
              "      <td>AL</td>\n",
              "      <td>Bibb County</td>\n",
              "      <td>1007.0</td>\n",
              "      <td>1</td>\n",
              "      <td>128209.0</td>\n",
              "      <td>30203.0</td>\n",
              "      <td>0.235576</td>\n",
              "    </tr>\n",
              "    <tr>\n",
              "      <th>4</th>\n",
              "      <td>1.0</td>\n",
              "      <td>AL</td>\n",
              "      <td>Blount County</td>\n",
              "      <td>1009.0</td>\n",
              "      <td>1</td>\n",
              "      <td>357421.0</td>\n",
              "      <td>76718.0</td>\n",
              "      <td>0.214643</td>\n",
              "    </tr>\n",
              "  </tbody>\n",
              "</table>\n",
              "</div>"
            ],
            "text/plain": [
              "   state state_code  ... completely_home_device_count  last_year_perc\n",
              "0    1.0         AL  ...                      70403.0        0.228404\n",
              "1    1.0         AL  ...                     326561.0        0.237534\n",
              "2    1.0         AL  ...                      26794.0        0.250716\n",
              "3    1.0         AL  ...                      30203.0        0.235576\n",
              "4    1.0         AL  ...                      76718.0        0.214643\n",
              "\n",
              "[5 rows x 8 columns]"
            ]
          },
          "metadata": {
            "tags": []
          },
          "execution_count": 79
        }
      ]
    },
    {
      "cell_type": "code",
      "metadata": {
        "id": "lAKY1Pf5GV8s",
        "colab_type": "code",
        "colab": {}
      },
      "source": [
        "data_2019_agg = data_2019_agg[['state','state_code','cnamelong','county_code','SIP?',\\\n",
        "                               'last_year_perc']]"
      ],
      "execution_count": 80,
      "outputs": []
    },
    {
      "cell_type": "code",
      "metadata": {
        "id": "tpIY5SpfGWNz",
        "colab_type": "code",
        "colab": {}
      },
      "source": [
        "merged_data = data_2020_agg.merge(data_2019_agg, on=['state','state_code','cnamelong',\\\n",
        "                                                     'county_code','SIP?'])"
      ],
      "execution_count": 81,
      "outputs": []
    },
    {
      "cell_type": "code",
      "metadata": {
        "id": "E3uYtVM6GZtg",
        "colab_type": "code",
        "colab": {
          "base_uri": "https://localhost:8080/",
          "height": 204
        },
        "outputId": "3ba2f063-fd3a-455a-f039-b41c17f0a76f"
      },
      "source": [
        "merged_data.head()"
      ],
      "execution_count": 82,
      "outputs": [
        {
          "output_type": "execute_result",
          "data": {
            "text/html": [
              "<div>\n",
              "<style scoped>\n",
              "    .dataframe tbody tr th:only-of-type {\n",
              "        vertical-align: middle;\n",
              "    }\n",
              "\n",
              "    .dataframe tbody tr th {\n",
              "        vertical-align: top;\n",
              "    }\n",
              "\n",
              "    .dataframe thead th {\n",
              "        text-align: right;\n",
              "    }\n",
              "</style>\n",
              "<table border=\"1\" class=\"dataframe\">\n",
              "  <thead>\n",
              "    <tr style=\"text-align: right;\">\n",
              "      <th></th>\n",
              "      <th>state</th>\n",
              "      <th>state_code</th>\n",
              "      <th>cnamelong</th>\n",
              "      <th>county_code</th>\n",
              "      <th>SIP?</th>\n",
              "      <th>device_count</th>\n",
              "      <th>completely_home_device_count</th>\n",
              "      <th>last_year_perc</th>\n",
              "    </tr>\n",
              "  </thead>\n",
              "  <tbody>\n",
              "    <tr>\n",
              "      <th>0</th>\n",
              "      <td>1.0</td>\n",
              "      <td>AL</td>\n",
              "      <td>Autauga County</td>\n",
              "      <td>1001.0</td>\n",
              "      <td>1</td>\n",
              "      <td>317591.0</td>\n",
              "      <td>88634.0</td>\n",
              "      <td>0.228404</td>\n",
              "    </tr>\n",
              "    <tr>\n",
              "      <th>1</th>\n",
              "      <td>1.0</td>\n",
              "      <td>AL</td>\n",
              "      <td>Baldwin County</td>\n",
              "      <td>1003.0</td>\n",
              "      <td>1</td>\n",
              "      <td>1307972.0</td>\n",
              "      <td>376494.0</td>\n",
              "      <td>0.237534</td>\n",
              "    </tr>\n",
              "    <tr>\n",
              "      <th>2</th>\n",
              "      <td>1.0</td>\n",
              "      <td>AL</td>\n",
              "      <td>Barbour County</td>\n",
              "      <td>1005.0</td>\n",
              "      <td>1</td>\n",
              "      <td>100674.0</td>\n",
              "      <td>25949.0</td>\n",
              "      <td>0.250716</td>\n",
              "    </tr>\n",
              "    <tr>\n",
              "      <th>3</th>\n",
              "      <td>1.0</td>\n",
              "      <td>AL</td>\n",
              "      <td>Bibb County</td>\n",
              "      <td>1007.0</td>\n",
              "      <td>1</td>\n",
              "      <td>123815.0</td>\n",
              "      <td>30630.0</td>\n",
              "      <td>0.235576</td>\n",
              "    </tr>\n",
              "    <tr>\n",
              "      <th>4</th>\n",
              "      <td>1.0</td>\n",
              "      <td>AL</td>\n",
              "      <td>Blount County</td>\n",
              "      <td>1009.0</td>\n",
              "      <td>1</td>\n",
              "      <td>377311.0</td>\n",
              "      <td>95661.0</td>\n",
              "      <td>0.214643</td>\n",
              "    </tr>\n",
              "  </tbody>\n",
              "</table>\n",
              "</div>"
            ],
            "text/plain": [
              "   state state_code  ... completely_home_device_count  last_year_perc\n",
              "0    1.0         AL  ...                      88634.0        0.228404\n",
              "1    1.0         AL  ...                     376494.0        0.237534\n",
              "2    1.0         AL  ...                      25949.0        0.250716\n",
              "3    1.0         AL  ...                      30630.0        0.235576\n",
              "4    1.0         AL  ...                      95661.0        0.214643\n",
              "\n",
              "[5 rows x 8 columns]"
            ]
          },
          "metadata": {
            "tags": []
          },
          "execution_count": 82
        }
      ]
    },
    {
      "cell_type": "code",
      "metadata": {
        "id": "Q93JZ0xFGb1c",
        "colab_type": "code",
        "colab": {}
      },
      "source": [
        "merged_data['this_year_perc'] = merged_data['completely_home_device_count'] / merged_data['device_count']"
      ],
      "execution_count": 83,
      "outputs": []
    },
    {
      "cell_type": "code",
      "metadata": {
        "id": "i26jrgmtGe2l",
        "colab_type": "code",
        "colab": {}
      },
      "source": [
        "merged_data['diff_in_perc_at_home'] = merged_data['this_year_perc'] - merged_data['last_year_perc']"
      ],
      "execution_count": 84,
      "outputs": []
    },
    {
      "cell_type": "code",
      "metadata": {
        "id": "Cjgbv5ywGgII",
        "colab_type": "code",
        "colab": {
          "base_uri": "https://localhost:8080/",
          "height": 204
        },
        "outputId": "c3a2ae8b-0957-4989-c704-f239fc32b83c"
      },
      "source": [
        "merged_data.head()"
      ],
      "execution_count": 85,
      "outputs": [
        {
          "output_type": "execute_result",
          "data": {
            "text/html": [
              "<div>\n",
              "<style scoped>\n",
              "    .dataframe tbody tr th:only-of-type {\n",
              "        vertical-align: middle;\n",
              "    }\n",
              "\n",
              "    .dataframe tbody tr th {\n",
              "        vertical-align: top;\n",
              "    }\n",
              "\n",
              "    .dataframe thead th {\n",
              "        text-align: right;\n",
              "    }\n",
              "</style>\n",
              "<table border=\"1\" class=\"dataframe\">\n",
              "  <thead>\n",
              "    <tr style=\"text-align: right;\">\n",
              "      <th></th>\n",
              "      <th>state</th>\n",
              "      <th>state_code</th>\n",
              "      <th>cnamelong</th>\n",
              "      <th>county_code</th>\n",
              "      <th>SIP?</th>\n",
              "      <th>device_count</th>\n",
              "      <th>completely_home_device_count</th>\n",
              "      <th>last_year_perc</th>\n",
              "      <th>this_year_perc</th>\n",
              "      <th>diff_in_perc_at_home</th>\n",
              "    </tr>\n",
              "  </thead>\n",
              "  <tbody>\n",
              "    <tr>\n",
              "      <th>0</th>\n",
              "      <td>1.0</td>\n",
              "      <td>AL</td>\n",
              "      <td>Autauga County</td>\n",
              "      <td>1001.0</td>\n",
              "      <td>1</td>\n",
              "      <td>317591.0</td>\n",
              "      <td>88634.0</td>\n",
              "      <td>0.228404</td>\n",
              "      <td>0.279082</td>\n",
              "      <td>0.050678</td>\n",
              "    </tr>\n",
              "    <tr>\n",
              "      <th>1</th>\n",
              "      <td>1.0</td>\n",
              "      <td>AL</td>\n",
              "      <td>Baldwin County</td>\n",
              "      <td>1003.0</td>\n",
              "      <td>1</td>\n",
              "      <td>1307972.0</td>\n",
              "      <td>376494.0</td>\n",
              "      <td>0.237534</td>\n",
              "      <td>0.287846</td>\n",
              "      <td>0.050312</td>\n",
              "    </tr>\n",
              "    <tr>\n",
              "      <th>2</th>\n",
              "      <td>1.0</td>\n",
              "      <td>AL</td>\n",
              "      <td>Barbour County</td>\n",
              "      <td>1005.0</td>\n",
              "      <td>1</td>\n",
              "      <td>100674.0</td>\n",
              "      <td>25949.0</td>\n",
              "      <td>0.250716</td>\n",
              "      <td>0.257753</td>\n",
              "      <td>0.007037</td>\n",
              "    </tr>\n",
              "    <tr>\n",
              "      <th>3</th>\n",
              "      <td>1.0</td>\n",
              "      <td>AL</td>\n",
              "      <td>Bibb County</td>\n",
              "      <td>1007.0</td>\n",
              "      <td>1</td>\n",
              "      <td>123815.0</td>\n",
              "      <td>30630.0</td>\n",
              "      <td>0.235576</td>\n",
              "      <td>0.247385</td>\n",
              "      <td>0.011809</td>\n",
              "    </tr>\n",
              "    <tr>\n",
              "      <th>4</th>\n",
              "      <td>1.0</td>\n",
              "      <td>AL</td>\n",
              "      <td>Blount County</td>\n",
              "      <td>1009.0</td>\n",
              "      <td>1</td>\n",
              "      <td>377311.0</td>\n",
              "      <td>95661.0</td>\n",
              "      <td>0.214643</td>\n",
              "      <td>0.253534</td>\n",
              "      <td>0.038890</td>\n",
              "    </tr>\n",
              "  </tbody>\n",
              "</table>\n",
              "</div>"
            ],
            "text/plain": [
              "   state state_code  ... this_year_perc  diff_in_perc_at_home\n",
              "0    1.0         AL  ...       0.279082              0.050678\n",
              "1    1.0         AL  ...       0.287846              0.050312\n",
              "2    1.0         AL  ...       0.257753              0.007037\n",
              "3    1.0         AL  ...       0.247385              0.011809\n",
              "4    1.0         AL  ...       0.253534              0.038890\n",
              "\n",
              "[5 rows x 10 columns]"
            ]
          },
          "metadata": {
            "tags": []
          },
          "execution_count": 85
        }
      ]
    },
    {
      "cell_type": "code",
      "metadata": {
        "id": "Sphc6M4nGhTc",
        "colab_type": "code",
        "colab": {
          "base_uri": "https://localhost:8080/",
          "height": 34
        },
        "outputId": "4e59056c-c26d-4820-9eec-d104ed39d6d0"
      },
      "source": [
        "merged_data['diff_in_perc_at_home'].mean()"
      ],
      "execution_count": 86,
      "outputs": [
        {
          "output_type": "execute_result",
          "data": {
            "text/plain": [
              "0.03406070169604386"
            ]
          },
          "metadata": {
            "tags": []
          },
          "execution_count": 86
        }
      ]
    },
    {
      "cell_type": "code",
      "metadata": {
        "id": "AfOZQOQrGjZY",
        "colab_type": "code",
        "colab": {
          "base_uri": "https://localhost:8080/",
          "height": 34
        },
        "outputId": "c2835005-ffe9-4aec-ebfe-0b5e8d08556e"
      },
      "source": [
        "merged_data[merged_data['SIP?'] == 0]['diff_in_perc_at_home'].mean()"
      ],
      "execution_count": 87,
      "outputs": [
        {
          "output_type": "execute_result",
          "data": {
            "text/plain": [
              "0.018074559979937753"
            ]
          },
          "metadata": {
            "tags": []
          },
          "execution_count": 87
        }
      ]
    },
    {
      "cell_type": "code",
      "metadata": {
        "id": "G9WORlfEGmPP",
        "colab_type": "code",
        "colab": {
          "base_uri": "https://localhost:8080/",
          "height": 34
        },
        "outputId": "0af467b1-a3a5-407b-af42-840485f5836d"
      },
      "source": [
        "merged_data[merged_data['SIP?'] == 1]['diff_in_perc_at_home'].mean()"
      ],
      "execution_count": 88,
      "outputs": [
        {
          "output_type": "execute_result",
          "data": {
            "text/plain": [
              "0.036809367313262245"
            ]
          },
          "metadata": {
            "tags": []
          },
          "execution_count": 88
        }
      ]
    },
    {
      "cell_type": "code",
      "metadata": {
        "id": "GqumdW2QGnS1",
        "colab_type": "code",
        "colab": {
          "base_uri": "https://localhost:8080/",
          "height": 80
        },
        "outputId": "42527649-7d05-42fc-f651-fcf3c9d5ec3c"
      },
      "source": [
        "merged_data[merged_data['cnamelong'] == 'King County']"
      ],
      "execution_count": 89,
      "outputs": [
        {
          "output_type": "execute_result",
          "data": {
            "text/html": [
              "<div>\n",
              "<style scoped>\n",
              "    .dataframe tbody tr th:only-of-type {\n",
              "        vertical-align: middle;\n",
              "    }\n",
              "\n",
              "    .dataframe tbody tr th {\n",
              "        vertical-align: top;\n",
              "    }\n",
              "\n",
              "    .dataframe thead th {\n",
              "        text-align: right;\n",
              "    }\n",
              "</style>\n",
              "<table border=\"1\" class=\"dataframe\">\n",
              "  <thead>\n",
              "    <tr style=\"text-align: right;\">\n",
              "      <th></th>\n",
              "      <th>state</th>\n",
              "      <th>state_code</th>\n",
              "      <th>cnamelong</th>\n",
              "      <th>county_code</th>\n",
              "      <th>SIP?</th>\n",
              "      <th>device_count</th>\n",
              "      <th>completely_home_device_count</th>\n",
              "      <th>last_year_perc</th>\n",
              "      <th>this_year_perc</th>\n",
              "      <th>diff_in_perc_at_home</th>\n",
              "    </tr>\n",
              "  </thead>\n",
              "  <tbody>\n",
              "    <tr>\n",
              "      <th>2824</th>\n",
              "      <td>53.0</td>\n",
              "      <td>WA</td>\n",
              "      <td>King County</td>\n",
              "      <td>53033.0</td>\n",
              "      <td>1</td>\n",
              "      <td>6500915.0</td>\n",
              "      <td>2971047.0</td>\n",
              "      <td>0.302285</td>\n",
              "      <td>0.45702</td>\n",
              "      <td>0.154735</td>\n",
              "    </tr>\n",
              "  </tbody>\n",
              "</table>\n",
              "</div>"
            ],
            "text/plain": [
              "      state state_code  ... this_year_perc  diff_in_perc_at_home\n",
              "2824   53.0         WA  ...        0.45702              0.154735\n",
              "\n",
              "[1 rows x 10 columns]"
            ]
          },
          "metadata": {
            "tags": []
          },
          "execution_count": 89
        }
      ]
    },
    {
      "cell_type": "code",
      "metadata": {
        "id": "WtdA9at6Gsmn",
        "colab_type": "code",
        "colab": {
          "base_uri": "https://localhost:8080/",
          "height": 80
        },
        "outputId": "6f3339fb-820d-4613-f5c3-6876402a91bf"
      },
      "source": [
        "merged_data[merged_data['cnamelong'] == 'Los Angeles County']"
      ],
      "execution_count": 90,
      "outputs": [
        {
          "output_type": "execute_result",
          "data": {
            "text/html": [
              "<div>\n",
              "<style scoped>\n",
              "    .dataframe tbody tr th:only-of-type {\n",
              "        vertical-align: middle;\n",
              "    }\n",
              "\n",
              "    .dataframe tbody tr th {\n",
              "        vertical-align: top;\n",
              "    }\n",
              "\n",
              "    .dataframe thead th {\n",
              "        text-align: right;\n",
              "    }\n",
              "</style>\n",
              "<table border=\"1\" class=\"dataframe\">\n",
              "  <thead>\n",
              "    <tr style=\"text-align: right;\">\n",
              "      <th></th>\n",
              "      <th>state</th>\n",
              "      <th>state_code</th>\n",
              "      <th>cnamelong</th>\n",
              "      <th>county_code</th>\n",
              "      <th>SIP?</th>\n",
              "      <th>device_count</th>\n",
              "      <th>completely_home_device_count</th>\n",
              "      <th>last_year_perc</th>\n",
              "      <th>this_year_perc</th>\n",
              "      <th>diff_in_perc_at_home</th>\n",
              "    </tr>\n",
              "  </thead>\n",
              "  <tbody>\n",
              "    <tr>\n",
              "      <th>189</th>\n",
              "      <td>6.0</td>\n",
              "      <td>CA</td>\n",
              "      <td>Los Angeles County</td>\n",
              "      <td>6037.0</td>\n",
              "      <td>1</td>\n",
              "      <td>26752354.0</td>\n",
              "      <td>11955990.0</td>\n",
              "      <td>0.328817</td>\n",
              "      <td>0.446914</td>\n",
              "      <td>0.118096</td>\n",
              "    </tr>\n",
              "  </tbody>\n",
              "</table>\n",
              "</div>"
            ],
            "text/plain": [
              "     state state_code  ... this_year_perc  diff_in_perc_at_home\n",
              "189    6.0         CA  ...       0.446914              0.118096\n",
              "\n",
              "[1 rows x 10 columns]"
            ]
          },
          "metadata": {
            "tags": []
          },
          "execution_count": 90
        }
      ]
    },
    {
      "cell_type": "markdown",
      "metadata": {
        "id": "YwLq-Na-GuuY",
        "colab_type": "text"
      },
      "source": [
        "We see a very big difference in behavior in counties like King County of LA, but the mean change of behavior is 3%"
      ]
    },
    {
      "cell_type": "markdown",
      "metadata": {
        "id": "Sh_XFT14G3RV",
        "colab_type": "text"
      },
      "source": [
        ""
      ]
    },
    {
      "cell_type": "code",
      "metadata": {
        "id": "7C2v8DlSG9Hn",
        "colab_type": "code",
        "colab": {}
      },
      "source": [
        "# drop columns we don't need - we only need difference.\n",
        "merged_data.drop(columns = ['completely_home_device_count', 'device_count'], axis=1, inplace=True)"
      ],
      "execution_count": null,
      "outputs": []
    },
    {
      "cell_type": "code",
      "metadata": {
        "id": "b85Mpm3_HH8_",
        "colab_type": "code",
        "colab": {
          "base_uri": "https://localhost:8080/",
          "height": 204
        },
        "outputId": "6b4d0d87-efe5-4589-8b08-3cf74fa2cc5e"
      },
      "source": [
        "merged_data.head()"
      ],
      "execution_count": 93,
      "outputs": [
        {
          "output_type": "execute_result",
          "data": {
            "text/html": [
              "<div>\n",
              "<style scoped>\n",
              "    .dataframe tbody tr th:only-of-type {\n",
              "        vertical-align: middle;\n",
              "    }\n",
              "\n",
              "    .dataframe tbody tr th {\n",
              "        vertical-align: top;\n",
              "    }\n",
              "\n",
              "    .dataframe thead th {\n",
              "        text-align: right;\n",
              "    }\n",
              "</style>\n",
              "<table border=\"1\" class=\"dataframe\">\n",
              "  <thead>\n",
              "    <tr style=\"text-align: right;\">\n",
              "      <th></th>\n",
              "      <th>state</th>\n",
              "      <th>state_code</th>\n",
              "      <th>cnamelong</th>\n",
              "      <th>county_code</th>\n",
              "      <th>SIP?</th>\n",
              "      <th>last_year_perc</th>\n",
              "      <th>this_year_perc</th>\n",
              "      <th>diff_in_perc_at_home</th>\n",
              "    </tr>\n",
              "  </thead>\n",
              "  <tbody>\n",
              "    <tr>\n",
              "      <th>0</th>\n",
              "      <td>1.0</td>\n",
              "      <td>AL</td>\n",
              "      <td>Autauga County</td>\n",
              "      <td>1001.0</td>\n",
              "      <td>1</td>\n",
              "      <td>0.228404</td>\n",
              "      <td>0.279082</td>\n",
              "      <td>0.050678</td>\n",
              "    </tr>\n",
              "    <tr>\n",
              "      <th>1</th>\n",
              "      <td>1.0</td>\n",
              "      <td>AL</td>\n",
              "      <td>Baldwin County</td>\n",
              "      <td>1003.0</td>\n",
              "      <td>1</td>\n",
              "      <td>0.237534</td>\n",
              "      <td>0.287846</td>\n",
              "      <td>0.050312</td>\n",
              "    </tr>\n",
              "    <tr>\n",
              "      <th>2</th>\n",
              "      <td>1.0</td>\n",
              "      <td>AL</td>\n",
              "      <td>Barbour County</td>\n",
              "      <td>1005.0</td>\n",
              "      <td>1</td>\n",
              "      <td>0.250716</td>\n",
              "      <td>0.257753</td>\n",
              "      <td>0.007037</td>\n",
              "    </tr>\n",
              "    <tr>\n",
              "      <th>3</th>\n",
              "      <td>1.0</td>\n",
              "      <td>AL</td>\n",
              "      <td>Bibb County</td>\n",
              "      <td>1007.0</td>\n",
              "      <td>1</td>\n",
              "      <td>0.235576</td>\n",
              "      <td>0.247385</td>\n",
              "      <td>0.011809</td>\n",
              "    </tr>\n",
              "    <tr>\n",
              "      <th>4</th>\n",
              "      <td>1.0</td>\n",
              "      <td>AL</td>\n",
              "      <td>Blount County</td>\n",
              "      <td>1009.0</td>\n",
              "      <td>1</td>\n",
              "      <td>0.214643</td>\n",
              "      <td>0.253534</td>\n",
              "      <td>0.038890</td>\n",
              "    </tr>\n",
              "  </tbody>\n",
              "</table>\n",
              "</div>"
            ],
            "text/plain": [
              "   state state_code  ... this_year_perc  diff_in_perc_at_home\n",
              "0    1.0         AL  ...       0.279082              0.050678\n",
              "1    1.0         AL  ...       0.287846              0.050312\n",
              "2    1.0         AL  ...       0.257753              0.007037\n",
              "3    1.0         AL  ...       0.247385              0.011809\n",
              "4    1.0         AL  ...       0.253534              0.038890\n",
              "\n",
              "[5 rows x 8 columns]"
            ]
          },
          "metadata": {
            "tags": []
          },
          "execution_count": 93
        }
      ]
    },
    {
      "cell_type": "markdown",
      "metadata": {
        "id": "b5x8k6UEHNJA",
        "colab_type": "text"
      },
      "source": [
        "# combine data with covariates."
      ]
    },
    {
      "cell_type": "code",
      "metadata": {
        "id": "V902Y0ugHKc0",
        "colab_type": "code",
        "colab": {
          "base_uri": "https://localhost:8080/",
          "height": 204
        },
        "outputId": "1cf8c062-7e2d-4931-92b6-db543d757b7b"
      },
      "source": [
        "merged_data.head()"
      ],
      "execution_count": 94,
      "outputs": [
        {
          "output_type": "execute_result",
          "data": {
            "text/html": [
              "<div>\n",
              "<style scoped>\n",
              "    .dataframe tbody tr th:only-of-type {\n",
              "        vertical-align: middle;\n",
              "    }\n",
              "\n",
              "    .dataframe tbody tr th {\n",
              "        vertical-align: top;\n",
              "    }\n",
              "\n",
              "    .dataframe thead th {\n",
              "        text-align: right;\n",
              "    }\n",
              "</style>\n",
              "<table border=\"1\" class=\"dataframe\">\n",
              "  <thead>\n",
              "    <tr style=\"text-align: right;\">\n",
              "      <th></th>\n",
              "      <th>state</th>\n",
              "      <th>state_code</th>\n",
              "      <th>cnamelong</th>\n",
              "      <th>county_code</th>\n",
              "      <th>SIP?</th>\n",
              "      <th>last_year_perc</th>\n",
              "      <th>this_year_perc</th>\n",
              "      <th>diff_in_perc_at_home</th>\n",
              "    </tr>\n",
              "  </thead>\n",
              "  <tbody>\n",
              "    <tr>\n",
              "      <th>0</th>\n",
              "      <td>1.0</td>\n",
              "      <td>AL</td>\n",
              "      <td>Autauga County</td>\n",
              "      <td>1001.0</td>\n",
              "      <td>1</td>\n",
              "      <td>0.228404</td>\n",
              "      <td>0.279082</td>\n",
              "      <td>0.050678</td>\n",
              "    </tr>\n",
              "    <tr>\n",
              "      <th>1</th>\n",
              "      <td>1.0</td>\n",
              "      <td>AL</td>\n",
              "      <td>Baldwin County</td>\n",
              "      <td>1003.0</td>\n",
              "      <td>1</td>\n",
              "      <td>0.237534</td>\n",
              "      <td>0.287846</td>\n",
              "      <td>0.050312</td>\n",
              "    </tr>\n",
              "    <tr>\n",
              "      <th>2</th>\n",
              "      <td>1.0</td>\n",
              "      <td>AL</td>\n",
              "      <td>Barbour County</td>\n",
              "      <td>1005.0</td>\n",
              "      <td>1</td>\n",
              "      <td>0.250716</td>\n",
              "      <td>0.257753</td>\n",
              "      <td>0.007037</td>\n",
              "    </tr>\n",
              "    <tr>\n",
              "      <th>3</th>\n",
              "      <td>1.0</td>\n",
              "      <td>AL</td>\n",
              "      <td>Bibb County</td>\n",
              "      <td>1007.0</td>\n",
              "      <td>1</td>\n",
              "      <td>0.235576</td>\n",
              "      <td>0.247385</td>\n",
              "      <td>0.011809</td>\n",
              "    </tr>\n",
              "    <tr>\n",
              "      <th>4</th>\n",
              "      <td>1.0</td>\n",
              "      <td>AL</td>\n",
              "      <td>Blount County</td>\n",
              "      <td>1009.0</td>\n",
              "      <td>1</td>\n",
              "      <td>0.214643</td>\n",
              "      <td>0.253534</td>\n",
              "      <td>0.038890</td>\n",
              "    </tr>\n",
              "  </tbody>\n",
              "</table>\n",
              "</div>"
            ],
            "text/plain": [
              "   state state_code  ... this_year_perc  diff_in_perc_at_home\n",
              "0    1.0         AL  ...       0.279082              0.050678\n",
              "1    1.0         AL  ...       0.287846              0.050312\n",
              "2    1.0         AL  ...       0.257753              0.007037\n",
              "3    1.0         AL  ...       0.247385              0.011809\n",
              "4    1.0         AL  ...       0.253534              0.038890\n",
              "\n",
              "[5 rows x 8 columns]"
            ]
          },
          "metadata": {
            "tags": []
          },
          "execution_count": 94
        }
      ]
    },
    {
      "cell_type": "code",
      "metadata": {
        "id": "0ESNDiiwHSpR",
        "colab_type": "code",
        "colab": {}
      },
      "source": [
        "data = merged_data"
      ],
      "execution_count": 95,
      "outputs": []
    },
    {
      "cell_type": "code",
      "metadata": {
        "id": "Py8RdUSIHWBR",
        "colab_type": "code",
        "colab": {}
      },
      "source": [
        "# covariates data\n",
        "df_chr_1 = pd.read_csv('2020 County Health Rankings Data - Ranked Measure Data.csv')\n",
        "df_chr_2 = pd.read_csv('2020 County Health Rankings Data - Additional Measure Data.csv')\n",
        "df_governors = pd.read_csv('us_states_governors.csv', encoding='latin-1')\n",
        "df_election = pd.read_csv('2016_US_County_Level_Presidential_Results.csv')"
      ],
      "execution_count": 96,
      "outputs": []
    },
    {
      "cell_type": "code",
      "metadata": {
        "id": "7xoUM73pHXgT",
        "colab_type": "code",
        "colab": {}
      },
      "source": [
        "df_election['political_party'] = df_election.apply(lambda x: 'Republican' if x['per_gop'] > x['per_dem'] else 'Democratic', axis=1)\n",
        "df_election['political_diff'] = df_election.apply(lambda x: x['per_dem'] - x['per_gop'], axis=1)"
      ],
      "execution_count": 97,
      "outputs": []
    },
    {
      "cell_type": "code",
      "metadata": {
        "id": "KPmWMEfKHYu5",
        "colab_type": "code",
        "colab": {}
      },
      "source": [
        "df_chr = df_chr_1.merge(df_chr_2, on=['FIPS', 'State', 'County'])\n",
        "columns = ['FIPS', 'State', 'County', 'Population_y', 'Years of Potential Life Lost Rate', '% Fair or Poor Health', \n",
        "           'Average Number of Physically Unhealthy Days', 'Average Number of Mentally Unhealthy Days',\n",
        "           '% Low Birthweight', '% Smokers', '% Adults with Obesity', 'Food Environment Index', \n",
        "           '% Physically Inactive', '% With Access to Exercise Opportunities', '% Excessive Drinking',\n",
        "           '% Driving Deaths with Alcohol Involvement', 'Chlamydia Rate', 'Teen Birth Rate', '% Uninsured_x',\n",
        "           'Primary Care Physicians Rate', 'Primary Care Physicians Ratio', \n",
        "           'Dentist Rate', 'Dentist Ratio', 'Mental Health Provider Rate', 'Mental Health Provider Ratio',\n",
        "           'Preventable Hospitalization Rate', '% With Annual Mammogram', '% Vaccinated',\n",
        "           'High School Graduation Rate', '% Some College', '% Unemployed', '% Children in Poverty',\n",
        "           'Income Ratio', '% Single-Parent Households', 'Social Association Rate', 'Violent Crime Rate',\n",
        "           'Injury Death Rate', 'Average Daily PM2.5', 'Presence of Water Violation', '% Severe Housing Problems',\n",
        "           '% Drive Alone to Work', '% Long Commute - Drives Alone',\n",
        "           'Life Expectancy', 'Age-Adjusted Death Rate', 'Child Mortality Rate',\n",
        "           'Infant Mortality Rate', '% Frequent Physical Distress', '% Frequent Mental Distress',\n",
        "           '% Adults with Diabetes', 'HIV Prevalence Rate', \n",
        "           '% Food Insecure', '% Limited Access to Healthy Foods',\n",
        "           'Drug Overdose Mortality Rate', 'Motor Vehicle Mortality Rate',\n",
        "           '% Insufficient Sleep', '% Uninsured_y', '% Uninsured.1',\n",
        "           'Other Primary Care Provider Rate', 'Other Primary Care Provider Ratio','% Disconnected Youth',\n",
        "           'Average Grade Performance', 'Average Grade Performance.1', 'Median Household Income', \n",
        "           '% Enrolled in Free or Reduced Lunch', 'Segregation index', 'Segregation Index', 'Homicide Rate',\n",
        "           'Suicide Rate (Age-Adjusted)', 'Firearm Fatalities Rate',\n",
        "           'Juvenile Arrest Rate', 'Average Traffic Volume per Meter of Major Roadways',\n",
        "           '% Homeowners', '% Severe Housing Cost Burden', '% less than 18 years of age', '% 65 and over',\n",
        "           '% Black', '% American Indian & Alaska Native', '% Asian', '% Native Hawaiian/Other Pacific Islander',\n",
        "           '% Hispanic', '% Non-Hispanic White', '% Not Proficient in English', '% Female', '% Rural'\n",
        "          ]\n",
        "df_chr = df_chr[columns]"
      ],
      "execution_count": 98,
      "outputs": []
    },
    {
      "cell_type": "code",
      "metadata": {
        "id": "H9QQ8a2EHaGJ",
        "colab_type": "code",
        "colab": {
          "base_uri": "https://localhost:8080/",
          "height": 525
        },
        "outputId": "079f0676-0ab0-41de-d0e0-36cb3cf584ad"
      },
      "source": [
        "df_merged = data.merge(df_governors, how='left', left_on='state_code', right_on='State Code')\n",
        "df_merged = df_merged.merge(df_chr, left_on='county_code', right_on='FIPS')\n",
        "df_merged = df_merged.merge(df_election, left_on='county_code', right_on='combined_fips')\n",
        "df_merged.head()"
      ],
      "execution_count": 99,
      "outputs": [
        {
          "output_type": "execute_result",
          "data": {
            "text/html": [
              "<div>\n",
              "<style scoped>\n",
              "    .dataframe tbody tr th:only-of-type {\n",
              "        vertical-align: middle;\n",
              "    }\n",
              "\n",
              "    .dataframe tbody tr th {\n",
              "        vertical-align: top;\n",
              "    }\n",
              "\n",
              "    .dataframe thead th {\n",
              "        text-align: right;\n",
              "    }\n",
              "</style>\n",
              "<table border=\"1\" class=\"dataframe\">\n",
              "  <thead>\n",
              "    <tr style=\"text-align: right;\">\n",
              "      <th></th>\n",
              "      <th>state</th>\n",
              "      <th>state_code</th>\n",
              "      <th>cnamelong</th>\n",
              "      <th>county_code</th>\n",
              "      <th>SIP?</th>\n",
              "      <th>last_year_perc</th>\n",
              "      <th>this_year_perc</th>\n",
              "      <th>diff_in_perc_at_home</th>\n",
              "      <th>State Code</th>\n",
              "      <th>State Name</th>\n",
              "      <th>Governor</th>\n",
              "      <th>Party</th>\n",
              "      <th>Date</th>\n",
              "      <th>Shelter at home begins</th>\n",
              "      <th>Shelter in place ends</th>\n",
              "      <th>Reopen</th>\n",
              "      <th>FIPS</th>\n",
              "      <th>State</th>\n",
              "      <th>County</th>\n",
              "      <th>Population_y</th>\n",
              "      <th>Years of Potential Life Lost Rate</th>\n",
              "      <th>% Fair or Poor Health</th>\n",
              "      <th>Average Number of Physically Unhealthy Days</th>\n",
              "      <th>Average Number of Mentally Unhealthy Days</th>\n",
              "      <th>% Low Birthweight</th>\n",
              "      <th>% Smokers</th>\n",
              "      <th>% Adults with Obesity</th>\n",
              "      <th>Food Environment Index</th>\n",
              "      <th>% Physically Inactive</th>\n",
              "      <th>% With Access to Exercise Opportunities</th>\n",
              "      <th>% Excessive Drinking</th>\n",
              "      <th>% Driving Deaths with Alcohol Involvement</th>\n",
              "      <th>Chlamydia Rate</th>\n",
              "      <th>Teen Birth Rate</th>\n",
              "      <th>% Uninsured_x</th>\n",
              "      <th>Primary Care Physicians Rate</th>\n",
              "      <th>Primary Care Physicians Ratio</th>\n",
              "      <th>Dentist Rate</th>\n",
              "      <th>Dentist Ratio</th>\n",
              "      <th>Mental Health Provider Rate</th>\n",
              "      <th>...</th>\n",
              "      <th>Other Primary Care Provider Rate</th>\n",
              "      <th>Other Primary Care Provider Ratio</th>\n",
              "      <th>% Disconnected Youth</th>\n",
              "      <th>Average Grade Performance</th>\n",
              "      <th>Average Grade Performance.1</th>\n",
              "      <th>Median Household Income</th>\n",
              "      <th>% Enrolled in Free or Reduced Lunch</th>\n",
              "      <th>Segregation index</th>\n",
              "      <th>Segregation Index</th>\n",
              "      <th>Homicide Rate</th>\n",
              "      <th>Suicide Rate (Age-Adjusted)</th>\n",
              "      <th>Firearm Fatalities Rate</th>\n",
              "      <th>Juvenile Arrest Rate</th>\n",
              "      <th>Average Traffic Volume per Meter of Major Roadways</th>\n",
              "      <th>% Homeowners</th>\n",
              "      <th>% Severe Housing Cost Burden</th>\n",
              "      <th>% less than 18 years of age</th>\n",
              "      <th>% 65 and over</th>\n",
              "      <th>% Black</th>\n",
              "      <th>% American Indian &amp; Alaska Native</th>\n",
              "      <th>% Asian</th>\n",
              "      <th>% Native Hawaiian/Other Pacific Islander</th>\n",
              "      <th>% Hispanic</th>\n",
              "      <th>% Non-Hispanic White</th>\n",
              "      <th>% Not Proficient in English</th>\n",
              "      <th>% Female</th>\n",
              "      <th>% Rural</th>\n",
              "      <th>Unnamed: 0</th>\n",
              "      <th>votes_dem</th>\n",
              "      <th>votes_gop</th>\n",
              "      <th>total_votes</th>\n",
              "      <th>per_dem</th>\n",
              "      <th>per_gop</th>\n",
              "      <th>diff</th>\n",
              "      <th>per_point_diff</th>\n",
              "      <th>state_abbr</th>\n",
              "      <th>county_name</th>\n",
              "      <th>combined_fips</th>\n",
              "      <th>political_party</th>\n",
              "      <th>political_diff</th>\n",
              "    </tr>\n",
              "  </thead>\n",
              "  <tbody>\n",
              "    <tr>\n",
              "      <th>0</th>\n",
              "      <td>1.0</td>\n",
              "      <td>AL</td>\n",
              "      <td>Autauga County</td>\n",
              "      <td>1001.0</td>\n",
              "      <td>1</td>\n",
              "      <td>0.228404</td>\n",
              "      <td>0.279082</td>\n",
              "      <td>0.050678</td>\n",
              "      <td>AL</td>\n",
              "      <td>Alabama</td>\n",
              "      <td>Kay Ivey</td>\n",
              "      <td>Republican</td>\n",
              "      <td>10-Apr-17</td>\n",
              "      <td>4/4/2020</td>\n",
              "      <td>4/30/2020</td>\n",
              "      <td>4/30/2020</td>\n",
              "      <td>1001</td>\n",
              "      <td>Alabama</td>\n",
              "      <td>Autauga</td>\n",
              "      <td>55601</td>\n",
              "      <td>8129.0</td>\n",
              "      <td>21</td>\n",
              "      <td>4.7</td>\n",
              "      <td>4.7</td>\n",
              "      <td>9.0</td>\n",
              "      <td>18</td>\n",
              "      <td>33</td>\n",
              "      <td>7.2</td>\n",
              "      <td>35</td>\n",
              "      <td>69.0</td>\n",
              "      <td>15</td>\n",
              "      <td>27.0</td>\n",
              "      <td>407.2</td>\n",
              "      <td>25.0</td>\n",
              "      <td>9.0</td>\n",
              "      <td>45.0</td>\n",
              "      <td>2220:1</td>\n",
              "      <td>32.0</td>\n",
              "      <td>3089:1</td>\n",
              "      <td>23.0</td>\n",
              "      <td>...</td>\n",
              "      <td>40.0</td>\n",
              "      <td>2527:1</td>\n",
              "      <td>NaN</td>\n",
              "      <td>3.0</td>\n",
              "      <td>2.8</td>\n",
              "      <td>59338.0</td>\n",
              "      <td>43.0</td>\n",
              "      <td>25.0</td>\n",
              "      <td>24.0</td>\n",
              "      <td>5.0</td>\n",
              "      <td>18.0</td>\n",
              "      <td>16.0</td>\n",
              "      <td>11.0</td>\n",
              "      <td>88</td>\n",
              "      <td>75</td>\n",
              "      <td>13.0</td>\n",
              "      <td>23.7</td>\n",
              "      <td>15.6</td>\n",
              "      <td>19.3</td>\n",
              "      <td>0.5</td>\n",
              "      <td>1.2</td>\n",
              "      <td>0.1</td>\n",
              "      <td>3.0</td>\n",
              "      <td>74.3</td>\n",
              "      <td>1</td>\n",
              "      <td>51.4</td>\n",
              "      <td>42.0</td>\n",
              "      <td>29</td>\n",
              "      <td>5908.0</td>\n",
              "      <td>18110.0</td>\n",
              "      <td>24661.0</td>\n",
              "      <td>0.239569</td>\n",
              "      <td>0.734358</td>\n",
              "      <td>12,202</td>\n",
              "      <td>49.48%</td>\n",
              "      <td>AL</td>\n",
              "      <td>Autauga County</td>\n",
              "      <td>1001</td>\n",
              "      <td>Republican</td>\n",
              "      <td>-0.494789</td>\n",
              "    </tr>\n",
              "    <tr>\n",
              "      <th>1</th>\n",
              "      <td>1.0</td>\n",
              "      <td>AL</td>\n",
              "      <td>Baldwin County</td>\n",
              "      <td>1003.0</td>\n",
              "      <td>1</td>\n",
              "      <td>0.237534</td>\n",
              "      <td>0.287846</td>\n",
              "      <td>0.050312</td>\n",
              "      <td>AL</td>\n",
              "      <td>Alabama</td>\n",
              "      <td>Kay Ivey</td>\n",
              "      <td>Republican</td>\n",
              "      <td>10-Apr-17</td>\n",
              "      <td>4/4/2020</td>\n",
              "      <td>4/30/2020</td>\n",
              "      <td>4/30/2020</td>\n",
              "      <td>1003</td>\n",
              "      <td>Alabama</td>\n",
              "      <td>Baldwin</td>\n",
              "      <td>218022</td>\n",
              "      <td>7354.0</td>\n",
              "      <td>18</td>\n",
              "      <td>4.2</td>\n",
              "      <td>4.3</td>\n",
              "      <td>8.0</td>\n",
              "      <td>17</td>\n",
              "      <td>31</td>\n",
              "      <td>8.0</td>\n",
              "      <td>27</td>\n",
              "      <td>74.0</td>\n",
              "      <td>18</td>\n",
              "      <td>31.0</td>\n",
              "      <td>325.0</td>\n",
              "      <td>28.0</td>\n",
              "      <td>11.0</td>\n",
              "      <td>73.0</td>\n",
              "      <td>1372:1</td>\n",
              "      <td>50.0</td>\n",
              "      <td>2019:1</td>\n",
              "      <td>96.0</td>\n",
              "      <td>...</td>\n",
              "      <td>56.0</td>\n",
              "      <td>1787:1</td>\n",
              "      <td>8.0</td>\n",
              "      <td>3.0</td>\n",
              "      <td>2.9</td>\n",
              "      <td>57588.0</td>\n",
              "      <td>48.0</td>\n",
              "      <td>41.0</td>\n",
              "      <td>32.0</td>\n",
              "      <td>3.0</td>\n",
              "      <td>19.0</td>\n",
              "      <td>14.0</td>\n",
              "      <td>26.0</td>\n",
              "      <td>87</td>\n",
              "      <td>74</td>\n",
              "      <td>12.0</td>\n",
              "      <td>21.6</td>\n",
              "      <td>20.4</td>\n",
              "      <td>8.8</td>\n",
              "      <td>0.8</td>\n",
              "      <td>1.2</td>\n",
              "      <td>0.1</td>\n",
              "      <td>4.6</td>\n",
              "      <td>83.1</td>\n",
              "      <td>1</td>\n",
              "      <td>51.5</td>\n",
              "      <td>42.3</td>\n",
              "      <td>30</td>\n",
              "      <td>18409.0</td>\n",
              "      <td>72780.0</td>\n",
              "      <td>94090.0</td>\n",
              "      <td>0.195653</td>\n",
              "      <td>0.773515</td>\n",
              "      <td>54,371</td>\n",
              "      <td>57.79%</td>\n",
              "      <td>AL</td>\n",
              "      <td>Baldwin County</td>\n",
              "      <td>1003</td>\n",
              "      <td>Republican</td>\n",
              "      <td>-0.577862</td>\n",
              "    </tr>\n",
              "    <tr>\n",
              "      <th>2</th>\n",
              "      <td>1.0</td>\n",
              "      <td>AL</td>\n",
              "      <td>Barbour County</td>\n",
              "      <td>1005.0</td>\n",
              "      <td>1</td>\n",
              "      <td>0.250716</td>\n",
              "      <td>0.257753</td>\n",
              "      <td>0.007037</td>\n",
              "      <td>AL</td>\n",
              "      <td>Alabama</td>\n",
              "      <td>Kay Ivey</td>\n",
              "      <td>Republican</td>\n",
              "      <td>10-Apr-17</td>\n",
              "      <td>4/4/2020</td>\n",
              "      <td>4/30/2020</td>\n",
              "      <td>4/30/2020</td>\n",
              "      <td>1005</td>\n",
              "      <td>Alabama</td>\n",
              "      <td>Barbour</td>\n",
              "      <td>24881</td>\n",
              "      <td>10254.0</td>\n",
              "      <td>30</td>\n",
              "      <td>5.4</td>\n",
              "      <td>5.2</td>\n",
              "      <td>11.0</td>\n",
              "      <td>22</td>\n",
              "      <td>42</td>\n",
              "      <td>5.6</td>\n",
              "      <td>24</td>\n",
              "      <td>53.0</td>\n",
              "      <td>13</td>\n",
              "      <td>40.0</td>\n",
              "      <td>716.3</td>\n",
              "      <td>41.0</td>\n",
              "      <td>12.0</td>\n",
              "      <td>32.0</td>\n",
              "      <td>3159:1</td>\n",
              "      <td>36.0</td>\n",
              "      <td>2765:1</td>\n",
              "      <td>8.0</td>\n",
              "      <td>...</td>\n",
              "      <td>52.0</td>\n",
              "      <td>1914:1</td>\n",
              "      <td>13.0</td>\n",
              "      <td>2.7</td>\n",
              "      <td>2.4</td>\n",
              "      <td>34382.0</td>\n",
              "      <td>63.0</td>\n",
              "      <td>25.0</td>\n",
              "      <td>23.0</td>\n",
              "      <td>8.0</td>\n",
              "      <td>13.0</td>\n",
              "      <td>18.0</td>\n",
              "      <td>15.0</td>\n",
              "      <td>102</td>\n",
              "      <td>61</td>\n",
              "      <td>14.0</td>\n",
              "      <td>20.9</td>\n",
              "      <td>19.4</td>\n",
              "      <td>48.0</td>\n",
              "      <td>0.7</td>\n",
              "      <td>0.5</td>\n",
              "      <td>0.2</td>\n",
              "      <td>4.3</td>\n",
              "      <td>45.6</td>\n",
              "      <td>2</td>\n",
              "      <td>47.2</td>\n",
              "      <td>67.8</td>\n",
              "      <td>31</td>\n",
              "      <td>4848.0</td>\n",
              "      <td>5431.0</td>\n",
              "      <td>10390.0</td>\n",
              "      <td>0.466603</td>\n",
              "      <td>0.522714</td>\n",
              "      <td>583</td>\n",
              "      <td>5.61%</td>\n",
              "      <td>AL</td>\n",
              "      <td>Barbour County</td>\n",
              "      <td>1005</td>\n",
              "      <td>Republican</td>\n",
              "      <td>-0.056112</td>\n",
              "    </tr>\n",
              "    <tr>\n",
              "      <th>3</th>\n",
              "      <td>1.0</td>\n",
              "      <td>AL</td>\n",
              "      <td>Bibb County</td>\n",
              "      <td>1007.0</td>\n",
              "      <td>1</td>\n",
              "      <td>0.235576</td>\n",
              "      <td>0.247385</td>\n",
              "      <td>0.011809</td>\n",
              "      <td>AL</td>\n",
              "      <td>Alabama</td>\n",
              "      <td>Kay Ivey</td>\n",
              "      <td>Republican</td>\n",
              "      <td>10-Apr-17</td>\n",
              "      <td>4/4/2020</td>\n",
              "      <td>4/30/2020</td>\n",
              "      <td>4/30/2020</td>\n",
              "      <td>1007</td>\n",
              "      <td>Alabama</td>\n",
              "      <td>Bibb</td>\n",
              "      <td>22400</td>\n",
              "      <td>11978.0</td>\n",
              "      <td>19</td>\n",
              "      <td>4.6</td>\n",
              "      <td>4.6</td>\n",
              "      <td>10.0</td>\n",
              "      <td>19</td>\n",
              "      <td>38</td>\n",
              "      <td>7.8</td>\n",
              "      <td>34</td>\n",
              "      <td>16.0</td>\n",
              "      <td>16</td>\n",
              "      <td>28.0</td>\n",
              "      <td>339.7</td>\n",
              "      <td>42.0</td>\n",
              "      <td>10.0</td>\n",
              "      <td>49.0</td>\n",
              "      <td>2061:1</td>\n",
              "      <td>22.0</td>\n",
              "      <td>4480:1</td>\n",
              "      <td>22.0</td>\n",
              "      <td>...</td>\n",
              "      <td>112.0</td>\n",
              "      <td>896:1</td>\n",
              "      <td>NaN</td>\n",
              "      <td>2.6</td>\n",
              "      <td>2.4</td>\n",
              "      <td>46064.0</td>\n",
              "      <td>62.0</td>\n",
              "      <td>53.0</td>\n",
              "      <td>53.0</td>\n",
              "      <td>8.0</td>\n",
              "      <td>21.0</td>\n",
              "      <td>24.0</td>\n",
              "      <td>NaN</td>\n",
              "      <td>29</td>\n",
              "      <td>75</td>\n",
              "      <td>10.0</td>\n",
              "      <td>20.5</td>\n",
              "      <td>16.5</td>\n",
              "      <td>21.1</td>\n",
              "      <td>0.4</td>\n",
              "      <td>0.2</td>\n",
              "      <td>0.1</td>\n",
              "      <td>2.6</td>\n",
              "      <td>74.6</td>\n",
              "      <td>0</td>\n",
              "      <td>46.8</td>\n",
              "      <td>68.4</td>\n",
              "      <td>32</td>\n",
              "      <td>1874.0</td>\n",
              "      <td>6733.0</td>\n",
              "      <td>8748.0</td>\n",
              "      <td>0.214220</td>\n",
              "      <td>0.769662</td>\n",
              "      <td>4,859</td>\n",
              "      <td>55.54%</td>\n",
              "      <td>AL</td>\n",
              "      <td>Bibb County</td>\n",
              "      <td>1007</td>\n",
              "      <td>Republican</td>\n",
              "      <td>-0.555441</td>\n",
              "    </tr>\n",
              "    <tr>\n",
              "      <th>4</th>\n",
              "      <td>1.0</td>\n",
              "      <td>AL</td>\n",
              "      <td>Blount County</td>\n",
              "      <td>1009.0</td>\n",
              "      <td>1</td>\n",
              "      <td>0.214643</td>\n",
              "      <td>0.253534</td>\n",
              "      <td>0.038890</td>\n",
              "      <td>AL</td>\n",
              "      <td>Alabama</td>\n",
              "      <td>Kay Ivey</td>\n",
              "      <td>Republican</td>\n",
              "      <td>10-Apr-17</td>\n",
              "      <td>4/4/2020</td>\n",
              "      <td>4/30/2020</td>\n",
              "      <td>4/30/2020</td>\n",
              "      <td>1009</td>\n",
              "      <td>Alabama</td>\n",
              "      <td>Blount</td>\n",
              "      <td>57840</td>\n",
              "      <td>11335.0</td>\n",
              "      <td>22</td>\n",
              "      <td>4.9</td>\n",
              "      <td>4.9</td>\n",
              "      <td>8.0</td>\n",
              "      <td>19</td>\n",
              "      <td>34</td>\n",
              "      <td>8.4</td>\n",
              "      <td>30</td>\n",
              "      <td>16.0</td>\n",
              "      <td>14</td>\n",
              "      <td>19.0</td>\n",
              "      <td>234.4</td>\n",
              "      <td>34.0</td>\n",
              "      <td>13.0</td>\n",
              "      <td>22.0</td>\n",
              "      <td>4463:1</td>\n",
              "      <td>19.0</td>\n",
              "      <td>5258:1</td>\n",
              "      <td>16.0</td>\n",
              "      <td>...</td>\n",
              "      <td>22.0</td>\n",
              "      <td>4449:1</td>\n",
              "      <td>19.0</td>\n",
              "      <td>3.0</td>\n",
              "      <td>2.8</td>\n",
              "      <td>50412.0</td>\n",
              "      <td>53.0</td>\n",
              "      <td>48.0</td>\n",
              "      <td>18.0</td>\n",
              "      <td>6.0</td>\n",
              "      <td>17.0</td>\n",
              "      <td>20.0</td>\n",
              "      <td>7.0</td>\n",
              "      <td>33</td>\n",
              "      <td>79</td>\n",
              "      <td>8.0</td>\n",
              "      <td>23.2</td>\n",
              "      <td>18.2</td>\n",
              "      <td>1.5</td>\n",
              "      <td>0.7</td>\n",
              "      <td>0.3</td>\n",
              "      <td>0.1</td>\n",
              "      <td>9.6</td>\n",
              "      <td>86.9</td>\n",
              "      <td>2</td>\n",
              "      <td>50.7</td>\n",
              "      <td>90.0</td>\n",
              "      <td>33</td>\n",
              "      <td>2150.0</td>\n",
              "      <td>22808.0</td>\n",
              "      <td>25384.0</td>\n",
              "      <td>0.084699</td>\n",
              "      <td>0.898519</td>\n",
              "      <td>20,658</td>\n",
              "      <td>81.38%</td>\n",
              "      <td>AL</td>\n",
              "      <td>Blount County</td>\n",
              "      <td>1009</td>\n",
              "      <td>Republican</td>\n",
              "      <td>-0.813820</td>\n",
              "    </tr>\n",
              "  </tbody>\n",
              "</table>\n",
              "<p>5 rows × 113 columns</p>\n",
              "</div>"
            ],
            "text/plain": [
              "   state state_code  ... political_party  political_diff\n",
              "0    1.0         AL  ...      Republican       -0.494789\n",
              "1    1.0         AL  ...      Republican       -0.577862\n",
              "2    1.0         AL  ...      Republican       -0.056112\n",
              "3    1.0         AL  ...      Republican       -0.555441\n",
              "4    1.0         AL  ...      Republican       -0.813820\n",
              "\n",
              "[5 rows x 113 columns]"
            ]
          },
          "metadata": {
            "tags": []
          },
          "execution_count": 99
        }
      ]
    },
    {
      "cell_type": "code",
      "metadata": {
        "id": "GMMPjZ47Hcp_",
        "colab_type": "code",
        "colab": {
          "base_uri": "https://localhost:8080/",
          "height": 34
        },
        "outputId": "8c13dd52-ff93-4f45-84b1-49996225e754"
      },
      "source": [
        "df_merged.shape"
      ],
      "execution_count": 100,
      "outputs": [
        {
          "output_type": "execute_result",
          "data": {
            "text/plain": [
              "(2996, 113)"
            ]
          },
          "metadata": {
            "tags": []
          },
          "execution_count": 100
        }
      ]
    },
    {
      "cell_type": "code",
      "metadata": {
        "id": "Vzrl8touHeEn",
        "colab_type": "code",
        "colab": {
          "base_uri": "https://localhost:8080/",
          "height": 34
        },
        "outputId": "a6743918-aa94-44d1-c282-51a757493f57"
      },
      "source": [
        "data.shape"
      ],
      "execution_count": 101,
      "outputs": [
        {
          "output_type": "execute_result",
          "data": {
            "text/plain": [
              "(3074, 8)"
            ]
          },
          "metadata": {
            "tags": []
          },
          "execution_count": 101
        }
      ]
    },
    {
      "cell_type": "code",
      "metadata": {
        "id": "hwPVr7uoHfID",
        "colab_type": "code",
        "colab": {}
      },
      "source": [
        "# only select some covariates for propensity score matching\n",
        "df_reduced_covariate = \\\n",
        "df_merged[['state', 'state_code', 'State Name','cnamelong', 'county_code', 'diff_in_perc_at_home',\\\n",
        "           'SIP?', 'Median Household Income', '% Rural', 'Population_y', 'political_diff',\\\n",
        "           '% less than 18 years of age', '% 65 and over', '% Asian', '% Black', '% Hispanic',\\\n",
        "           '% Non-Hispanic White']]"
      ],
      "execution_count": 102,
      "outputs": []
    },
    {
      "cell_type": "code",
      "metadata": {
        "id": "CRTKbbSKHnd9",
        "colab_type": "code",
        "colab": {
          "base_uri": "https://localhost:8080/",
          "height": 323
        },
        "outputId": "33260a34-26ba-466a-ac0c-1bb20a6e5a8c"
      },
      "source": [
        "df_reduced_covariate.head()"
      ],
      "execution_count": 103,
      "outputs": [
        {
          "output_type": "execute_result",
          "data": {
            "text/html": [
              "<div>\n",
              "<style scoped>\n",
              "    .dataframe tbody tr th:only-of-type {\n",
              "        vertical-align: middle;\n",
              "    }\n",
              "\n",
              "    .dataframe tbody tr th {\n",
              "        vertical-align: top;\n",
              "    }\n",
              "\n",
              "    .dataframe thead th {\n",
              "        text-align: right;\n",
              "    }\n",
              "</style>\n",
              "<table border=\"1\" class=\"dataframe\">\n",
              "  <thead>\n",
              "    <tr style=\"text-align: right;\">\n",
              "      <th></th>\n",
              "      <th>state</th>\n",
              "      <th>state_code</th>\n",
              "      <th>State Name</th>\n",
              "      <th>cnamelong</th>\n",
              "      <th>county_code</th>\n",
              "      <th>diff_in_perc_at_home</th>\n",
              "      <th>SIP?</th>\n",
              "      <th>Median Household Income</th>\n",
              "      <th>% Rural</th>\n",
              "      <th>Population_y</th>\n",
              "      <th>political_diff</th>\n",
              "      <th>% less than 18 years of age</th>\n",
              "      <th>% 65 and over</th>\n",
              "      <th>% Asian</th>\n",
              "      <th>% Black</th>\n",
              "      <th>% Hispanic</th>\n",
              "      <th>% Non-Hispanic White</th>\n",
              "    </tr>\n",
              "  </thead>\n",
              "  <tbody>\n",
              "    <tr>\n",
              "      <th>0</th>\n",
              "      <td>1.0</td>\n",
              "      <td>AL</td>\n",
              "      <td>Alabama</td>\n",
              "      <td>Autauga County</td>\n",
              "      <td>1001.0</td>\n",
              "      <td>0.050678</td>\n",
              "      <td>1</td>\n",
              "      <td>59338.0</td>\n",
              "      <td>42.0</td>\n",
              "      <td>55601</td>\n",
              "      <td>-0.494789</td>\n",
              "      <td>23.7</td>\n",
              "      <td>15.6</td>\n",
              "      <td>1.2</td>\n",
              "      <td>19.3</td>\n",
              "      <td>3.0</td>\n",
              "      <td>74.3</td>\n",
              "    </tr>\n",
              "    <tr>\n",
              "      <th>1</th>\n",
              "      <td>1.0</td>\n",
              "      <td>AL</td>\n",
              "      <td>Alabama</td>\n",
              "      <td>Baldwin County</td>\n",
              "      <td>1003.0</td>\n",
              "      <td>0.050312</td>\n",
              "      <td>1</td>\n",
              "      <td>57588.0</td>\n",
              "      <td>42.3</td>\n",
              "      <td>218022</td>\n",
              "      <td>-0.577862</td>\n",
              "      <td>21.6</td>\n",
              "      <td>20.4</td>\n",
              "      <td>1.2</td>\n",
              "      <td>8.8</td>\n",
              "      <td>4.6</td>\n",
              "      <td>83.1</td>\n",
              "    </tr>\n",
              "    <tr>\n",
              "      <th>2</th>\n",
              "      <td>1.0</td>\n",
              "      <td>AL</td>\n",
              "      <td>Alabama</td>\n",
              "      <td>Barbour County</td>\n",
              "      <td>1005.0</td>\n",
              "      <td>0.007037</td>\n",
              "      <td>1</td>\n",
              "      <td>34382.0</td>\n",
              "      <td>67.8</td>\n",
              "      <td>24881</td>\n",
              "      <td>-0.056112</td>\n",
              "      <td>20.9</td>\n",
              "      <td>19.4</td>\n",
              "      <td>0.5</td>\n",
              "      <td>48.0</td>\n",
              "      <td>4.3</td>\n",
              "      <td>45.6</td>\n",
              "    </tr>\n",
              "    <tr>\n",
              "      <th>3</th>\n",
              "      <td>1.0</td>\n",
              "      <td>AL</td>\n",
              "      <td>Alabama</td>\n",
              "      <td>Bibb County</td>\n",
              "      <td>1007.0</td>\n",
              "      <td>0.011809</td>\n",
              "      <td>1</td>\n",
              "      <td>46064.0</td>\n",
              "      <td>68.4</td>\n",
              "      <td>22400</td>\n",
              "      <td>-0.555441</td>\n",
              "      <td>20.5</td>\n",
              "      <td>16.5</td>\n",
              "      <td>0.2</td>\n",
              "      <td>21.1</td>\n",
              "      <td>2.6</td>\n",
              "      <td>74.6</td>\n",
              "    </tr>\n",
              "    <tr>\n",
              "      <th>4</th>\n",
              "      <td>1.0</td>\n",
              "      <td>AL</td>\n",
              "      <td>Alabama</td>\n",
              "      <td>Blount County</td>\n",
              "      <td>1009.0</td>\n",
              "      <td>0.038890</td>\n",
              "      <td>1</td>\n",
              "      <td>50412.0</td>\n",
              "      <td>90.0</td>\n",
              "      <td>57840</td>\n",
              "      <td>-0.813820</td>\n",
              "      <td>23.2</td>\n",
              "      <td>18.2</td>\n",
              "      <td>0.3</td>\n",
              "      <td>1.5</td>\n",
              "      <td>9.6</td>\n",
              "      <td>86.9</td>\n",
              "    </tr>\n",
              "  </tbody>\n",
              "</table>\n",
              "</div>"
            ],
            "text/plain": [
              "   state state_code State Name  ... % Black  % Hispanic  % Non-Hispanic White\n",
              "0    1.0         AL    Alabama  ...    19.3         3.0                  74.3\n",
              "1    1.0         AL    Alabama  ...     8.8         4.6                  83.1\n",
              "2    1.0         AL    Alabama  ...    48.0         4.3                  45.6\n",
              "3    1.0         AL    Alabama  ...    21.1         2.6                  74.6\n",
              "4    1.0         AL    Alabama  ...     1.5         9.6                  86.9\n",
              "\n",
              "[5 rows x 17 columns]"
            ]
          },
          "metadata": {
            "tags": []
          },
          "execution_count": 103
        }
      ]
    },
    {
      "cell_type": "code",
      "metadata": {
        "id": "iubvHwmOHpH8",
        "colab_type": "code",
        "colab": {}
      },
      "source": [
        "# save final data\n",
        "df_reduced_covariate.to_csv(\"county_data_with_reduced_covariates_with_SIP.csv\", index = False)"
      ],
      "execution_count": 104,
      "outputs": []
    }
  ]
}