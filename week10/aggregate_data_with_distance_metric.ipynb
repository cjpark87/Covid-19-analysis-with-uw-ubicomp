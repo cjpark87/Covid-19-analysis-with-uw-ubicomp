{
  "nbformat": 4,
  "nbformat_minor": 0,
  "metadata": {
    "colab": {
      "name": "aggregate_data_with_distance_metric.ipynb",
      "provenance": [],
      "mount_file_id": "1I0iGkYdfMaeSFMAXmAjSrevjrRx29isH",
      "authorship_tag": "ABX9TyNRZHjAYLXNQrbnFCj3T5Ld",
      "include_colab_link": true
    },
    "kernelspec": {
      "name": "python3",
      "display_name": "Python 3"
    }
  },
  "cells": [
    {
      "cell_type": "markdown",
      "metadata": {
        "id": "view-in-github",
        "colab_type": "text"
      },
      "source": [
        "<a href=\"https://colab.research.google.com/github/wenjunsun/Covid-19-analysis-with-uw-ubicomp/blob/master/week10/aggregate_data_with_distance_metric.ipynb\" target=\"_parent\"><img src=\"https://colab.research.google.com/assets/colab-badge.svg\" alt=\"Open In Colab\"/></a>"
      ]
    },
    {
      "cell_type": "markdown",
      "metadata": {
        "id": "Jtfxnvzw_p2e",
        "colab_type": "text"
      },
      "source": [
        "First I reduced the 16 GB data to 5 GB with only the county_code, date, device_count, and distance_traveled column. I did that on my own machine and then I uploaded the 5 GB data to google drive. In this notebook I will try to aggregate data of the same county on the same date, and then visualize the distance traveled vs date as a time series."
      ]
    },
    {
      "cell_type": "code",
      "metadata": {
        "id": "5bu7sIKVM6KM",
        "colab_type": "code",
        "colab": {
          "base_uri": "https://localhost:8080/",
          "height": 34
        },
        "outputId": "5b2de1af-4a90-4540-ee87-8517f24dd237"
      },
      "source": [
        "ls"
      ],
      "execution_count": 1,
      "outputs": [
        {
          "output_type": "stream",
          "text": [
            "\u001b[0m\u001b[01;34mdrive\u001b[0m/  \u001b[01;34msample_data\u001b[0m/\n"
          ],
          "name": "stdout"
        }
      ]
    },
    {
      "cell_type": "code",
      "metadata": {
        "id": "2Yl6XQOPM_v3",
        "colab_type": "code",
        "colab": {
          "base_uri": "https://localhost:8080/",
          "height": 34
        },
        "outputId": "ea3122d9-d9ef-4b57-8769-c0770d02e0cd"
      },
      "source": [
        "cd drive/My\\ Drive/week8"
      ],
      "execution_count": 2,
      "outputs": [
        {
          "output_type": "stream",
          "text": [
            "/content/drive/My Drive/week8\n"
          ],
          "name": "stdout"
        }
      ]
    },
    {
      "cell_type": "code",
      "metadata": {
        "id": "_5pnqhAlNEZs",
        "colab_type": "code",
        "colab": {
          "base_uri": "https://localhost:8080/",
          "height": 510
        },
        "outputId": "ba09c066-846f-44bc-b51a-1d8ac24c516d"
      },
      "source": [
        "ls"
      ],
      "execution_count": 3,
      "outputs": [
        {
          "output_type": "stream",
          "text": [
            " 2016_US_County_Level_Presidential_Results.csv\n",
            " 2019_data.csv\n",
            "'2020 County Health Rankings Data - Additional Measure Data.csv'\n",
            "'2020 County Health Rankings Data - Ranked Measure Data.csv'\n",
            " 2020_data.csv\n",
            " check_if_data_is_alright.ipynb\n",
            "'Copy of agg_social_dist_2.csv'\n",
            " county_data_with_covariates.csv\n",
            " county_data_with_reduced_covariates.csv\n",
            " county_data_with_reduced_covariates_up_to_2020-8-8.csv\n",
            " county_data_with_reduced_covariates_with_SIP.csv\n",
            " county_data_with_reduced_covariates_with_SIP_up_to_5.csv\n",
            " county_data_with_reduced_covariates_with_SIP_up_to_8.csv\n",
            " data_2019_agg.csv\n",
            " data_2020_agg.csv\n",
            " data_for_propensity.csv\n",
            " days_since.csv\n",
            " merged_data.csv\n",
            " prepare_data_distance.ipynb\n",
            " prepare_data_with_SIP_date.ipynb\n",
            " prepare_new_data.ipynb\n",
            " propensity_score_matching_after_SIP.ipynb\n",
            " social_dist_aggregated_on_county.csv\n",
            " social_dist_all_reduced_2.csv\n",
            " social_dist_all_trimmed.csv\n",
            " social_dist_all_trimmed_new.csv\n",
            " social_dist_low_device_count_filtered.csv\n",
            " social_dist_reduced.csv\n",
            " us_states_governors.csv\n"
          ],
          "name": "stdout"
        }
      ]
    },
    {
      "cell_type": "code",
      "metadata": {
        "id": "86VtvAZ9NEtt",
        "colab_type": "code",
        "colab": {}
      },
      "source": [
        "import pandas as pd\n",
        "import numpy as np"
      ],
      "execution_count": 4,
      "outputs": []
    },
    {
      "cell_type": "code",
      "metadata": {
        "id": "zCFqckPlNIMc",
        "colab_type": "code",
        "colab": {
          "base_uri": "https://localhost:8080/",
          "height": 71
        },
        "outputId": "e2a73a57-ad16-4948-8cb7-fc08ef9e6b4c"
      },
      "source": [
        "data = pd.read_csv(\"social_dist_all_reduced_2.csv\")"
      ],
      "execution_count": 5,
      "outputs": [
        {
          "output_type": "stream",
          "text": [
            "/usr/local/lib/python3.6/dist-packages/IPython/core/interactiveshell.py:2718: DtypeWarning: Columns (1,2,3) have mixed types.Specify dtype option on import or set low_memory=False.\n",
            "  interactivity=interactivity, compiler=compiler, result=result)\n"
          ],
          "name": "stderr"
        }
      ]
    },
    {
      "cell_type": "code",
      "metadata": {
        "id": "rrPVk-_INQwW",
        "colab_type": "code",
        "colab": {
          "base_uri": "https://localhost:8080/",
          "height": 34
        },
        "outputId": "2152d49d-c146-41cc-ef22-f7925ab9a4e7"
      },
      "source": [
        "data.shape"
      ],
      "execution_count": 6,
      "outputs": [
        {
          "output_type": "execute_result",
          "data": {
            "text/plain": [
              "(128512309, 4)"
            ]
          },
          "metadata": {
            "tags": []
          },
          "execution_count": 6
        }
      ]
    },
    {
      "cell_type": "code",
      "metadata": {
        "id": "3aVTGddTN3BY",
        "colab_type": "code",
        "colab": {
          "base_uri": "https://localhost:8080/",
          "height": 204
        },
        "outputId": "dc520fe9-37b0-4cde-8798-c84aef90b7da"
      },
      "source": [
        "data.head()"
      ],
      "execution_count": 7,
      "outputs": [
        {
          "output_type": "execute_result",
          "data": {
            "text/html": [
              "<div>\n",
              "<style scoped>\n",
              "    .dataframe tbody tr th:only-of-type {\n",
              "        vertical-align: middle;\n",
              "    }\n",
              "\n",
              "    .dataframe tbody tr th {\n",
              "        vertical-align: top;\n",
              "    }\n",
              "\n",
              "    .dataframe thead th {\n",
              "        text-align: right;\n",
              "    }\n",
              "</style>\n",
              "<table border=\"1\" class=\"dataframe\">\n",
              "  <thead>\n",
              "    <tr style=\"text-align: right;\">\n",
              "      <th></th>\n",
              "      <th>date_range_start</th>\n",
              "      <th>county_code</th>\n",
              "      <th>device_count</th>\n",
              "      <th>distance_traveled_from_home</th>\n",
              "    </tr>\n",
              "  </thead>\n",
              "  <tbody>\n",
              "    <tr>\n",
              "      <th>0</th>\n",
              "      <td>2019-01-01T00:00:00-06:00</td>\n",
              "      <td>1033</td>\n",
              "      <td>78</td>\n",
              "      <td>687</td>\n",
              "    </tr>\n",
              "    <tr>\n",
              "      <th>1</th>\n",
              "      <td>2019-01-01T00:00:00-06:00</td>\n",
              "      <td>1073</td>\n",
              "      <td>259</td>\n",
              "      <td>5381</td>\n",
              "    </tr>\n",
              "    <tr>\n",
              "      <th>2</th>\n",
              "      <td>2019-01-01T00:00:00-06:00</td>\n",
              "      <td>1121</td>\n",
              "      <td>91</td>\n",
              "      <td>1591</td>\n",
              "    </tr>\n",
              "    <tr>\n",
              "      <th>3</th>\n",
              "      <td>2019-01-01T00:00:00-06:00</td>\n",
              "      <td>1125</td>\n",
              "      <td>392</td>\n",
              "      <td>4623</td>\n",
              "    </tr>\n",
              "    <tr>\n",
              "      <th>4</th>\n",
              "      <td>2019-01-01T00:00:00-09:00</td>\n",
              "      <td>2188</td>\n",
              "      <td>10</td>\n",
              "      <td>0</td>\n",
              "    </tr>\n",
              "  </tbody>\n",
              "</table>\n",
              "</div>"
            ],
            "text/plain": [
              "            date_range_start  ... distance_traveled_from_home\n",
              "0  2019-01-01T00:00:00-06:00  ...                         687\n",
              "1  2019-01-01T00:00:00-06:00  ...                        5381\n",
              "2  2019-01-01T00:00:00-06:00  ...                        1591\n",
              "3  2019-01-01T00:00:00-06:00  ...                        4623\n",
              "4  2019-01-01T00:00:00-09:00  ...                           0\n",
              "\n",
              "[5 rows x 4 columns]"
            ]
          },
          "metadata": {
            "tags": []
          },
          "execution_count": 7
        }
      ]
    },
    {
      "cell_type": "markdown",
      "metadata": {
        "id": "A62IqaTiAT3x",
        "colab_type": "text"
      },
      "source": [
        "Now we want to aggregate data of the same county on the same date somehow. Obviously we can't just add up numbers anymore because distance_traveled_from_home is the average distance_traveled by all the people in that county. [Look at the data schema here](https://docs.safegraph.com/docs/social-distancing-metrics). We have to a weighted average thing like we did before. weights being the device_count"
      ]
    },
    {
      "cell_type": "code",
      "metadata": {
        "id": "GOgIezFCQAyl",
        "colab_type": "code",
        "colab": {}
      },
      "source": [
        "# weighted mean function\n",
        "wm = lambda x: np.average(x, weights= data.loc[x.index, \"device_count\"])"
      ],
      "execution_count": 90,
      "outputs": []
    },
    {
      "cell_type": "code",
      "metadata": {
        "id": "UOHamjyyBG4Z",
        "colab_type": "code",
        "colab": {}
      },
      "source": [
        "data = pd.read_csv(\"social_dist_all_reduced_2.csv\", nrows = 100000)"
      ],
      "execution_count": 91,
      "outputs": []
    },
    {
      "cell_type": "code",
      "metadata": {
        "id": "SbgGqIWqBk8D",
        "colab_type": "code",
        "colab": {
          "base_uri": "https://localhost:8080/",
          "height": 419
        },
        "outputId": "dfbac1f7-e2e2-4c05-beb9-24887ad8be7d"
      },
      "source": [
        "data.groupby(['date_range_start', 'county_code']).\\\n",
        "    agg(distance_traveled_from_home = ('distance_traveled_from_home', wm)).reset_index()"
      ],
      "execution_count": 92,
      "outputs": [
        {
          "output_type": "execute_result",
          "data": {
            "text/html": [
              "<div>\n",
              "<style scoped>\n",
              "    .dataframe tbody tr th:only-of-type {\n",
              "        vertical-align: middle;\n",
              "    }\n",
              "\n",
              "    .dataframe tbody tr th {\n",
              "        vertical-align: top;\n",
              "    }\n",
              "\n",
              "    .dataframe thead th {\n",
              "        text-align: right;\n",
              "    }\n",
              "</style>\n",
              "<table border=\"1\" class=\"dataframe\">\n",
              "  <thead>\n",
              "    <tr style=\"text-align: right;\">\n",
              "      <th></th>\n",
              "      <th>date_range_start</th>\n",
              "      <th>county_code</th>\n",
              "      <th>distance_traveled_from_home</th>\n",
              "    </tr>\n",
              "  </thead>\n",
              "  <tbody>\n",
              "    <tr>\n",
              "      <th>0</th>\n",
              "      <td>2019-01-01T00:00:00+10:00</td>\n",
              "      <td>66010</td>\n",
              "      <td>1462.272590</td>\n",
              "    </tr>\n",
              "    <tr>\n",
              "      <th>1</th>\n",
              "      <td>2019-01-01T00:00:00+10:00</td>\n",
              "      <td>69100</td>\n",
              "      <td>0.000000</td>\n",
              "    </tr>\n",
              "    <tr>\n",
              "      <th>2</th>\n",
              "      <td>2019-01-01T00:00:00+10:00</td>\n",
              "      <td>69110</td>\n",
              "      <td>1158.423858</td>\n",
              "    </tr>\n",
              "    <tr>\n",
              "      <th>3</th>\n",
              "      <td>2019-01-01T00:00:00+10:00</td>\n",
              "      <td>69120</td>\n",
              "      <td>0.000000</td>\n",
              "    </tr>\n",
              "    <tr>\n",
              "      <th>4</th>\n",
              "      <td>2019-01-01T00:00:00-04:00</td>\n",
              "      <td>23029</td>\n",
              "      <td>1028.132075</td>\n",
              "    </tr>\n",
              "    <tr>\n",
              "      <th>...</th>\n",
              "      <td>...</td>\n",
              "      <td>...</td>\n",
              "      <td>...</td>\n",
              "    </tr>\n",
              "    <tr>\n",
              "      <th>3148</th>\n",
              "      <td>2019-01-01T00:00:00-10:00</td>\n",
              "      <td>15003</td>\n",
              "      <td>4175.332758</td>\n",
              "    </tr>\n",
              "    <tr>\n",
              "      <th>3149</th>\n",
              "      <td>2019-01-01T00:00:00-10:00</td>\n",
              "      <td>15007</td>\n",
              "      <td>2728.143320</td>\n",
              "    </tr>\n",
              "    <tr>\n",
              "      <th>3150</th>\n",
              "      <td>2019-01-01T00:00:00-10:00</td>\n",
              "      <td>15009</td>\n",
              "      <td>2101.682410</td>\n",
              "    </tr>\n",
              "    <tr>\n",
              "      <th>3151</th>\n",
              "      <td>2019-01-01T00:00:00-11:00</td>\n",
              "      <td>60010</td>\n",
              "      <td>0.000000</td>\n",
              "    </tr>\n",
              "    <tr>\n",
              "      <th>3152</th>\n",
              "      <td>2019-01-01T00:00:00-11:00</td>\n",
              "      <td>60050</td>\n",
              "      <td>96.537313</td>\n",
              "    </tr>\n",
              "  </tbody>\n",
              "</table>\n",
              "<p>3153 rows × 3 columns</p>\n",
              "</div>"
            ],
            "text/plain": [
              "               date_range_start  county_code  distance_traveled_from_home\n",
              "0     2019-01-01T00:00:00+10:00        66010                  1462.272590\n",
              "1     2019-01-01T00:00:00+10:00        69100                     0.000000\n",
              "2     2019-01-01T00:00:00+10:00        69110                  1158.423858\n",
              "3     2019-01-01T00:00:00+10:00        69120                     0.000000\n",
              "4     2019-01-01T00:00:00-04:00        23029                  1028.132075\n",
              "...                         ...          ...                          ...\n",
              "3148  2019-01-01T00:00:00-10:00        15003                  4175.332758\n",
              "3149  2019-01-01T00:00:00-10:00        15007                  2728.143320\n",
              "3150  2019-01-01T00:00:00-10:00        15009                  2101.682410\n",
              "3151  2019-01-01T00:00:00-11:00        60010                     0.000000\n",
              "3152  2019-01-01T00:00:00-11:00        60050                    96.537313\n",
              "\n",
              "[3153 rows x 3 columns]"
            ]
          },
          "metadata": {
            "tags": []
          },
          "execution_count": 92
        }
      ]
    },
    {
      "cell_type": "markdown",
      "metadata": {
        "id": "eSACJJ5_B4Lo",
        "colab_type": "text"
      },
      "source": [
        "We see that the distance_traveled by county 66010 on 2019-01-01 is 1462 by our aggregation with weighted mean function. Let's check if that is true manually."
      ]
    },
    {
      "cell_type": "code",
      "metadata": {
        "id": "KmAPRIb2Bnlr",
        "colab_type": "code",
        "colab": {}
      },
      "source": [
        "# first get all the data about county 66010 on 2019-01-01\n",
        "small_data = data[(data['date_range_start'] == '2019-01-01T00:00:00+10:00') & (data['county_code'] == 66010)]"
      ],
      "execution_count": 93,
      "outputs": []
    },
    {
      "cell_type": "code",
      "metadata": {
        "id": "6qetUzcEB6f8",
        "colab_type": "code",
        "colab": {
          "base_uri": "https://localhost:8080/",
          "height": 204
        },
        "outputId": "6ea25278-166c-43a6-b341-0c1376d9aa22"
      },
      "source": [
        "small_data.head()"
      ],
      "execution_count": 94,
      "outputs": [
        {
          "output_type": "execute_result",
          "data": {
            "text/html": [
              "<div>\n",
              "<style scoped>\n",
              "    .dataframe tbody tr th:only-of-type {\n",
              "        vertical-align: middle;\n",
              "    }\n",
              "\n",
              "    .dataframe tbody tr th {\n",
              "        vertical-align: top;\n",
              "    }\n",
              "\n",
              "    .dataframe thead th {\n",
              "        text-align: right;\n",
              "    }\n",
              "</style>\n",
              "<table border=\"1\" class=\"dataframe\">\n",
              "  <thead>\n",
              "    <tr style=\"text-align: right;\">\n",
              "      <th></th>\n",
              "      <th>date_range_start</th>\n",
              "      <th>county_code</th>\n",
              "      <th>device_count</th>\n",
              "      <th>distance_traveled_from_home</th>\n",
              "    </tr>\n",
              "  </thead>\n",
              "  <tbody>\n",
              "    <tr>\n",
              "      <th>501</th>\n",
              "      <td>2019-01-01T00:00:00+10:00</td>\n",
              "      <td>66010</td>\n",
              "      <td>8</td>\n",
              "      <td>0</td>\n",
              "    </tr>\n",
              "    <tr>\n",
              "      <th>1967</th>\n",
              "      <td>2019-01-01T00:00:00+10:00</td>\n",
              "      <td>66010</td>\n",
              "      <td>11</td>\n",
              "      <td>110</td>\n",
              "    </tr>\n",
              "    <tr>\n",
              "      <th>3576</th>\n",
              "      <td>2019-01-01T00:00:00+10:00</td>\n",
              "      <td>66010</td>\n",
              "      <td>27</td>\n",
              "      <td>2656</td>\n",
              "    </tr>\n",
              "    <tr>\n",
              "      <th>4747</th>\n",
              "      <td>2019-01-01T00:00:00+10:00</td>\n",
              "      <td>66010</td>\n",
              "      <td>20</td>\n",
              "      <td>766</td>\n",
              "    </tr>\n",
              "    <tr>\n",
              "      <th>6407</th>\n",
              "      <td>2019-01-01T00:00:00+10:00</td>\n",
              "      <td>66010</td>\n",
              "      <td>17</td>\n",
              "      <td>0</td>\n",
              "    </tr>\n",
              "  </tbody>\n",
              "</table>\n",
              "</div>"
            ],
            "text/plain": [
              "               date_range_start  ...  distance_traveled_from_home\n",
              "501   2019-01-01T00:00:00+10:00  ...                            0\n",
              "1967  2019-01-01T00:00:00+10:00  ...                          110\n",
              "3576  2019-01-01T00:00:00+10:00  ...                         2656\n",
              "4747  2019-01-01T00:00:00+10:00  ...                          766\n",
              "6407  2019-01-01T00:00:00+10:00  ...                            0\n",
              "\n",
              "[5 rows x 4 columns]"
            ]
          },
          "metadata": {
            "tags": []
          },
          "execution_count": 94
        }
      ]
    },
    {
      "cell_type": "code",
      "metadata": {
        "id": "lRNSHnL-B9RH",
        "colab_type": "code",
        "colab": {
          "base_uri": "https://localhost:8080/",
          "height": 119
        },
        "outputId": "13566d0e-4feb-4032-8615-7d64792c516c"
      },
      "source": [
        "# product = all the meters traveled by that subgroup on that date.\n",
        "small_data['product'] = small_data['device_count'] * small_data['distance_traveled_from_home']"
      ],
      "execution_count": 95,
      "outputs": [
        {
          "output_type": "stream",
          "text": [
            "/usr/local/lib/python3.6/dist-packages/ipykernel_launcher.py:2: SettingWithCopyWarning: \n",
            "A value is trying to be set on a copy of a slice from a DataFrame.\n",
            "Try using .loc[row_indexer,col_indexer] = value instead\n",
            "\n",
            "See the caveats in the documentation: https://pandas.pydata.org/pandas-docs/stable/user_guide/indexing.html#returning-a-view-versus-a-copy\n",
            "  \n"
          ],
          "name": "stderr"
        }
      ]
    },
    {
      "cell_type": "code",
      "metadata": {
        "id": "Syd7n4TgB_3e",
        "colab_type": "code",
        "colab": {
          "base_uri": "https://localhost:8080/",
          "height": 419
        },
        "outputId": "a24b6424-dd80-465a-9069-4e27c46d5488"
      },
      "source": [
        "small_data"
      ],
      "execution_count": 96,
      "outputs": [
        {
          "output_type": "execute_result",
          "data": {
            "text/html": [
              "<div>\n",
              "<style scoped>\n",
              "    .dataframe tbody tr th:only-of-type {\n",
              "        vertical-align: middle;\n",
              "    }\n",
              "\n",
              "    .dataframe tbody tr th {\n",
              "        vertical-align: top;\n",
              "    }\n",
              "\n",
              "    .dataframe thead th {\n",
              "        text-align: right;\n",
              "    }\n",
              "</style>\n",
              "<table border=\"1\" class=\"dataframe\">\n",
              "  <thead>\n",
              "    <tr style=\"text-align: right;\">\n",
              "      <th></th>\n",
              "      <th>date_range_start</th>\n",
              "      <th>county_code</th>\n",
              "      <th>device_count</th>\n",
              "      <th>distance_traveled_from_home</th>\n",
              "      <th>product</th>\n",
              "    </tr>\n",
              "  </thead>\n",
              "  <tbody>\n",
              "    <tr>\n",
              "      <th>501</th>\n",
              "      <td>2019-01-01T00:00:00+10:00</td>\n",
              "      <td>66010</td>\n",
              "      <td>8</td>\n",
              "      <td>0</td>\n",
              "      <td>0</td>\n",
              "    </tr>\n",
              "    <tr>\n",
              "      <th>1967</th>\n",
              "      <td>2019-01-01T00:00:00+10:00</td>\n",
              "      <td>66010</td>\n",
              "      <td>11</td>\n",
              "      <td>110</td>\n",
              "      <td>1210</td>\n",
              "    </tr>\n",
              "    <tr>\n",
              "      <th>3576</th>\n",
              "      <td>2019-01-01T00:00:00+10:00</td>\n",
              "      <td>66010</td>\n",
              "      <td>27</td>\n",
              "      <td>2656</td>\n",
              "      <td>71712</td>\n",
              "    </tr>\n",
              "    <tr>\n",
              "      <th>4747</th>\n",
              "      <td>2019-01-01T00:00:00+10:00</td>\n",
              "      <td>66010</td>\n",
              "      <td>20</td>\n",
              "      <td>766</td>\n",
              "      <td>15320</td>\n",
              "    </tr>\n",
              "    <tr>\n",
              "      <th>6407</th>\n",
              "      <td>2019-01-01T00:00:00+10:00</td>\n",
              "      <td>66010</td>\n",
              "      <td>17</td>\n",
              "      <td>0</td>\n",
              "      <td>0</td>\n",
              "    </tr>\n",
              "    <tr>\n",
              "      <th>...</th>\n",
              "      <td>...</td>\n",
              "      <td>...</td>\n",
              "      <td>...</td>\n",
              "      <td>...</td>\n",
              "      <td>...</td>\n",
              "    </tr>\n",
              "    <tr>\n",
              "      <th>93241</th>\n",
              "      <td>2019-01-01T00:00:00+10:00</td>\n",
              "      <td>66010</td>\n",
              "      <td>20</td>\n",
              "      <td>2685</td>\n",
              "      <td>53700</td>\n",
              "    </tr>\n",
              "    <tr>\n",
              "      <th>95400</th>\n",
              "      <td>2019-01-01T00:00:00+10:00</td>\n",
              "      <td>66010</td>\n",
              "      <td>21</td>\n",
              "      <td>307</td>\n",
              "      <td>6447</td>\n",
              "    </tr>\n",
              "    <tr>\n",
              "      <th>95622</th>\n",
              "      <td>2019-01-01T00:00:00+10:00</td>\n",
              "      <td>66010</td>\n",
              "      <td>24</td>\n",
              "      <td>1991</td>\n",
              "      <td>47784</td>\n",
              "    </tr>\n",
              "    <tr>\n",
              "      <th>95623</th>\n",
              "      <td>2019-01-01T00:00:00+10:00</td>\n",
              "      <td>66010</td>\n",
              "      <td>26</td>\n",
              "      <td>3280</td>\n",
              "      <td>85280</td>\n",
              "    </tr>\n",
              "    <tr>\n",
              "      <th>97580</th>\n",
              "      <td>2019-01-01T00:00:00+10:00</td>\n",
              "      <td>66010</td>\n",
              "      <td>10</td>\n",
              "      <td>1539</td>\n",
              "      <td>15390</td>\n",
              "    </tr>\n",
              "  </tbody>\n",
              "</table>\n",
              "<p>74 rows × 5 columns</p>\n",
              "</div>"
            ],
            "text/plain": [
              "                date_range_start  ...  product\n",
              "501    2019-01-01T00:00:00+10:00  ...        0\n",
              "1967   2019-01-01T00:00:00+10:00  ...     1210\n",
              "3576   2019-01-01T00:00:00+10:00  ...    71712\n",
              "4747   2019-01-01T00:00:00+10:00  ...    15320\n",
              "6407   2019-01-01T00:00:00+10:00  ...        0\n",
              "...                          ...  ...      ...\n",
              "93241  2019-01-01T00:00:00+10:00  ...    53700\n",
              "95400  2019-01-01T00:00:00+10:00  ...     6447\n",
              "95622  2019-01-01T00:00:00+10:00  ...    47784\n",
              "95623  2019-01-01T00:00:00+10:00  ...    85280\n",
              "97580  2019-01-01T00:00:00+10:00  ...    15390\n",
              "\n",
              "[74 rows x 5 columns]"
            ]
          },
          "metadata": {
            "tags": []
          },
          "execution_count": 96
        }
      ]
    },
    {
      "cell_type": "code",
      "metadata": {
        "id": "Nb9K4cCYCCCn",
        "colab_type": "code",
        "colab": {
          "base_uri": "https://localhost:8080/",
          "height": 34
        },
        "outputId": "fa454c8c-f163-4d63-a5b1-eb9a81a0f3bd"
      },
      "source": [
        "# all the meters traveled by all the people /\n",
        "# number of all the people = \n",
        "# mean distance traveled by county 66010 on date 2019-01-01\n",
        "small_data['product'].sum() / small_data['device_count'].sum()"
      ],
      "execution_count": 97,
      "outputs": [
        {
          "output_type": "execute_result",
          "data": {
            "text/plain": [
              "1462.2725903614457"
            ]
          },
          "metadata": {
            "tags": []
          },
          "execution_count": 97
        }
      ]
    },
    {
      "cell_type": "markdown",
      "metadata": {
        "id": "KM0P-coACGMV",
        "colab_type": "text"
      },
      "source": [
        "We can see that our result from manual calculation is 1462, which is the same answer as the one we calculated with the mean weighted function. So we can trust that our weighted mean function does what it is supposed to do.\n",
        "\n",
        "Now let's check if chunk sized process will work too. Let's still read in 100000 rows as before, but read in 10000 row at a time and do aggregation with weighted sum, and let's see if in the end it gives the same result."
      ]
    },
    {
      "cell_type": "code",
      "metadata": {
        "id": "i2AhDWkKCBHC",
        "colab_type": "code",
        "colab": {}
      },
      "source": [
        "# import library for parsing date objects\n",
        "from datetime import datetime"
      ],
      "execution_count": 98,
      "outputs": []
    },
    {
      "cell_type": "code",
      "metadata": {
        "id": "3O-O8xQjCLrh",
        "colab_type": "code",
        "colab": {}
      },
      "source": [
        "# redefine the function to use aggregatedData instead of data\n",
        "wm = lambda x: np.average(x, weights= aggregatedData.loc[x.index, \"device_count\"])"
      ],
      "execution_count": 99,
      "outputs": []
    },
    {
      "cell_type": "code",
      "metadata": {
        "id": "ltL_nXbmS1gt",
        "colab_type": "code",
        "colab": {}
      },
      "source": [
        "aggregatedData = pd.read_csv(\"social_dist_all_reduced_2.csv\", nrows = 0,\\\n",
        "                             dtype = {'date_range_start': 'datetime64[ns]',\\\n",
        "                                      'county_code': 'float64', \\\n",
        "                                      'device_count': 'float64', \\\n",
        "                                      'distance_traveled_from_home': 'float64'})"
      ],
      "execution_count": 103,
      "outputs": []
    },
    {
      "cell_type": "code",
      "metadata": {
        "id": "BT5xRh8VDB5w",
        "colab_type": "code",
        "colab": {
          "base_uri": "https://localhost:8080/",
          "height": 357
        },
        "outputId": "b1881c56-3d16-4b7c-f073-5f591f55440b"
      },
      "source": [
        "counter = 0\n",
        "for chunk in pd.read_csv(\"social_dist_all_reduced_2.csv\", chunksize = 10000, nrows = 100000):\n",
        "    # convert chunk's columns to the right datatype.\n",
        "    chunk['device_count'] = pd.to_numeric(chunk['device_count'], errors='coerce')\n",
        "    chunk['county_code'] = pd.to_numeric(chunk['county_code'], errors='coerce')\n",
        "    chunk['distance_traveled_from_home'] = pd.to_numeric(chunk['distance_traveled_from_home'], errors='coerce')\n",
        "    # drop the null rows (get rid of the row that is header)\n",
        "    # also gets rid of 2 counties whose FIPS code is null.\n",
        "    chunk.dropna(inplace = True)\n",
        "    # convert string column to datetime object\n",
        "    \n",
        "    chunk['date_range_start'] = chunk['date_range_start'].apply(lambda x: datetime.strptime(x[0:10], '%Y-%m-%d'))\n",
        "    \n",
        "    # groupby and aggregate data of the same county of the same date.\n",
        "    aggregatedData = aggregatedData.append(chunk, ignore_index = True)\n",
        "    aggregatedData = aggregatedData.groupby(['date_range_start', 'county_code'])\\\n",
        "        .agg(device_count = ('device_count', 'sum'),\\\n",
        "             distance_traveled_from_home = ('distance_traveled_from_home', wm)).reset_index()\n",
        "    \n",
        "    print(counter) # track progress\n",
        "    print(aggregatedData.shape[0]) # how large is our data right now\n",
        "    counter += 1"
      ],
      "execution_count": 104,
      "outputs": [
        {
          "output_type": "stream",
          "text": [
            "0\n",
            "1942\n",
            "1\n",
            "2468\n",
            "2\n",
            "2703\n",
            "3\n",
            "2847\n",
            "4\n",
            "2947\n",
            "5\n",
            "3020\n",
            "6\n",
            "3070\n",
            "7\n",
            "3105\n",
            "8\n",
            "3126\n",
            "9\n",
            "3141\n"
          ],
          "name": "stdout"
        }
      ]
    },
    {
      "cell_type": "code",
      "metadata": {
        "id": "1Vr-dlU5DHBM",
        "colab_type": "code",
        "colab": {
          "base_uri": "https://localhost:8080/",
          "height": 80
        },
        "outputId": "da923d6f-51e1-4737-b437-63cb4e656c13"
      },
      "source": [
        "aggregatedData[aggregatedData['county_code'] == 66010]"
      ],
      "execution_count": 105,
      "outputs": [
        {
          "output_type": "execute_result",
          "data": {
            "text/html": [
              "<div>\n",
              "<style scoped>\n",
              "    .dataframe tbody tr th:only-of-type {\n",
              "        vertical-align: middle;\n",
              "    }\n",
              "\n",
              "    .dataframe tbody tr th {\n",
              "        vertical-align: top;\n",
              "    }\n",
              "\n",
              "    .dataframe thead th {\n",
              "        text-align: right;\n",
              "    }\n",
              "</style>\n",
              "<table border=\"1\" class=\"dataframe\">\n",
              "  <thead>\n",
              "    <tr style=\"text-align: right;\">\n",
              "      <th></th>\n",
              "      <th>date_range_start</th>\n",
              "      <th>county_code</th>\n",
              "      <th>device_count</th>\n",
              "      <th>distance_traveled_from_home</th>\n",
              "    </tr>\n",
              "  </thead>\n",
              "  <tbody>\n",
              "    <tr>\n",
              "      <th>3056</th>\n",
              "      <td>2019-01-01</td>\n",
              "      <td>66010.0</td>\n",
              "      <td>1328.0</td>\n",
              "      <td>1462.27259</td>\n",
              "    </tr>\n",
              "  </tbody>\n",
              "</table>\n",
              "</div>"
            ],
            "text/plain": [
              "     date_range_start  county_code  device_count  distance_traveled_from_home\n",
              "3056       2019-01-01      66010.0        1328.0                   1462.27259"
            ]
          },
          "metadata": {
            "tags": []
          },
          "execution_count": 105
        }
      ]
    },
    {
      "cell_type": "markdown",
      "metadata": {
        "id": "e8Yvun78DIYY",
        "colab_type": "text"
      },
      "source": [
        "We see that in chunk sized processes we still get the correct result of 1462 for county 66010 for 2019-01-01. Now we can apply this chunk sized process to the entire dataset."
      ]
    },
    {
      "cell_type": "code",
      "metadata": {
        "id": "Gsxu7j7yDLqp",
        "colab_type": "code",
        "colab": {}
      },
      "source": [
        "aggregatedData = pd.read_csv(\"social_dist_all_reduced_2.csv\", nrows = 0,\\\n",
        "                             dtype = {'date_range_start': 'datetime64[ns]',\\\n",
        "                                      'county_code': 'float64', \\\n",
        "                                      'device_count': 'float64', \\\n",
        "                                      'distance_traveled_from_home': 'float64'})"
      ],
      "execution_count": 106,
      "outputs": []
    },
    {
      "cell_type": "code",
      "metadata": {
        "id": "4MJH9IN6S3_H",
        "colab_type": "code",
        "colab": {
          "base_uri": "https://localhost:8080/",
          "height": 1000
        },
        "outputId": "437f5300-5860-490f-c230-068a495c7669"
      },
      "source": [
        "counter = 0\n",
        "for chunk in pd.read_csv(\"social_dist_all_reduced_2.csv\", chunksize = 1000000):\n",
        "    # convert chunk's columns to the right datatype.\n",
        "    chunk['device_count'] = pd.to_numeric(chunk['device_count'], errors='coerce')\n",
        "    chunk['county_code'] = pd.to_numeric(chunk['county_code'], errors='coerce')\n",
        "    chunk['distance_traveled_from_home'] = pd.to_numeric(chunk['distance_traveled_from_home'], errors='coerce')\n",
        "    # drop the null rows (get rid of the row that is header)\n",
        "    # also gets rid of 2 counties whose FIPS code is null.\n",
        "    chunk.dropna(inplace = True)\n",
        "    # convert string column to datetime object\n",
        "    \n",
        "    chunk['date_range_start'] = chunk['date_range_start'].apply(lambda x: datetime.strptime(x[0:10], '%Y-%m-%d'))\n",
        "    \n",
        "    # groupby and aggregate data of the same county of the same date.\n",
        "    aggregatedData = aggregatedData.append(chunk, ignore_index = True)\n",
        "    aggregatedData = aggregatedData.groupby(['date_range_start', 'county_code'])\\\n",
        "        .agg(device_count = ('device_count', 'sum'),\\\n",
        "             distance_traveled_from_home = ('distance_traveled_from_home', wm)).reset_index()\n",
        "    \n",
        "    print(counter) # track progress\n",
        "    print(aggregatedData.shape[0]) # how large is our data right now\n",
        "    counter += 1"
      ],
      "execution_count": null,
      "outputs": [
        {
          "output_type": "stream",
          "text": [
            "/usr/local/lib/python3.6/dist-packages/IPython/core/interactiveshell.py:2718: DtypeWarning: Columns (1,2,3) have mixed types.Specify dtype option on import or set low_memory=False.\n",
            "  interactivity=interactivity, compiler=compiler, result=result)\n"
          ],
          "name": "stderr"
        },
        {
          "output_type": "stream",
          "text": [
            "0\n",
            "16087\n",
            "1\n",
            "31660\n",
            "2\n",
            "45163\n",
            "3\n",
            "61048\n",
            "4\n",
            "74228\n",
            "5\n",
            "90244\n",
            "6\n",
            "103290\n",
            "7\n",
            "119347\n",
            "8\n",
            "132346\n",
            "9\n",
            "148438\n",
            "10\n",
            "163925\n",
            "11\n",
            "177508\n",
            "12\n",
            "193364\n",
            "13\n",
            "206575\n",
            "14\n",
            "222566\n",
            "15\n",
            "235638\n",
            "16\n",
            "251688\n",
            "17\n",
            "264695\n",
            "18\n",
            "280779\n",
            "19\n",
            "296179\n",
            "20\n",
            "309855\n",
            "21\n",
            "325689\n",
            "22\n",
            "338919\n",
            "23\n",
            "354906\n",
            "24\n",
            "367980\n",
            "25\n",
            "384026\n",
            "26\n",
            "397033\n",
            "27\n",
            "413112\n",
            "28\n",
            "428489\n",
            "29\n",
            "442169\n",
            "30\n",
            "458002\n",
            "31\n",
            "471235\n",
            "32\n",
            "487231\n",
            "33\n",
            "500294\n",
            "34\n",
            "516348\n",
            "35\n",
            "529348\n",
            "36\n",
            "545428\n",
            "37\n",
            "560897\n",
            "38\n",
            "574507\n",
            "39\n",
            "590375\n",
            "40\n",
            "603565\n",
            "41\n",
            "619580\n",
            "42\n",
            "632628\n",
            "43\n",
            "648683\n",
            "44\n",
            "662398\n",
            "45\n",
            "677763\n",
            "46\n",
            "693401\n",
            "47\n",
            "706834\n",
            "48\n",
            "722752\n",
            "49\n",
            "735897\n",
            "50\n",
            "751930\n",
            "51\n",
            "764951\n",
            "52\n",
            "781014\n",
            "53\n",
            "795835\n",
            "54\n",
            "810087\n",
            "55\n",
            "825822\n",
            "56\n",
            "839162\n",
            "57\n",
            "855112\n",
            "58\n",
            "868228\n",
            "59\n",
            "884273\n",
            "60\n",
            "897282\n",
            "61\n",
            "913349\n",
            "62\n",
            "928697\n"
          ],
          "name": "stdout"
        },
        {
          "output_type": "error",
          "ename": "KeyboardInterrupt",
          "evalue": "ignored",
          "traceback": [
            "\u001b[0;31m---------------------------------------------------------------------------\u001b[0m",
            "\u001b[0;31mKeyboardInterrupt\u001b[0m                         Traceback (most recent call last)",
            "\u001b[0;32m<ipython-input-10-6387070b5f4e>\u001b[0m in \u001b[0;36m<module>\u001b[0;34m()\u001b[0m\n\u001b[1;32m     14\u001b[0m     \u001b[0;31m# groupby and aggregate data of the same county of the same date.\u001b[0m\u001b[0;34m\u001b[0m\u001b[0;34m\u001b[0m\u001b[0;34m\u001b[0m\u001b[0m\n\u001b[1;32m     15\u001b[0m     \u001b[0maggregatedData\u001b[0m \u001b[0;34m=\u001b[0m \u001b[0maggregatedData\u001b[0m\u001b[0;34m.\u001b[0m\u001b[0mappend\u001b[0m\u001b[0;34m(\u001b[0m\u001b[0mchunk\u001b[0m\u001b[0;34m,\u001b[0m \u001b[0mignore_index\u001b[0m \u001b[0;34m=\u001b[0m \u001b[0;32mTrue\u001b[0m\u001b[0;34m)\u001b[0m\u001b[0;34m\u001b[0m\u001b[0;34m\u001b[0m\u001b[0m\n\u001b[0;32m---> 16\u001b[0;31m     \u001b[0maggregatedData\u001b[0m \u001b[0;34m=\u001b[0m \u001b[0maggregatedData\u001b[0m\u001b[0;34m.\u001b[0m\u001b[0mgroupby\u001b[0m\u001b[0;34m(\u001b[0m\u001b[0;34m[\u001b[0m\u001b[0;34m'date_range_start'\u001b[0m\u001b[0;34m,\u001b[0m \u001b[0;34m'county_code'\u001b[0m\u001b[0;34m]\u001b[0m\u001b[0;34m)\u001b[0m        \u001b[0;34m.\u001b[0m\u001b[0magg\u001b[0m\u001b[0;34m(\u001b[0m\u001b[0mdevice_count\u001b[0m \u001b[0;34m=\u001b[0m \u001b[0;34m(\u001b[0m\u001b[0;34m'device_count'\u001b[0m\u001b[0;34m,\u001b[0m \u001b[0;34m'sum'\u001b[0m\u001b[0;34m)\u001b[0m\u001b[0;34m,\u001b[0m             \u001b[0mdistance_traveled_from_home\u001b[0m \u001b[0;34m=\u001b[0m \u001b[0;34m(\u001b[0m\u001b[0;34m'distance_traveled_from_home'\u001b[0m\u001b[0;34m,\u001b[0m \u001b[0mwm\u001b[0m\u001b[0;34m)\u001b[0m\u001b[0;34m)\u001b[0m\u001b[0;34m.\u001b[0m\u001b[0mreset_index\u001b[0m\u001b[0;34m(\u001b[0m\u001b[0;34m)\u001b[0m\u001b[0;34m\u001b[0m\u001b[0;34m\u001b[0m\u001b[0m\n\u001b[0m\u001b[1;32m     17\u001b[0m \u001b[0;34m\u001b[0m\u001b[0m\n\u001b[1;32m     18\u001b[0m     \u001b[0mprint\u001b[0m\u001b[0;34m(\u001b[0m\u001b[0mcounter\u001b[0m\u001b[0;34m)\u001b[0m \u001b[0;31m# track progress\u001b[0m\u001b[0;34m\u001b[0m\u001b[0;34m\u001b[0m\u001b[0m\n",
            "\u001b[0;32m/usr/local/lib/python3.6/dist-packages/pandas/core/groupby/generic.py\u001b[0m in \u001b[0;36maggregate\u001b[0;34m(self, func, *args, **kwargs)\u001b[0m\n\u001b[1;32m    926\u001b[0m         \u001b[0mfunc\u001b[0m \u001b[0;34m=\u001b[0m \u001b[0m_maybe_mangle_lambdas\u001b[0m\u001b[0;34m(\u001b[0m\u001b[0mfunc\u001b[0m\u001b[0;34m)\u001b[0m\u001b[0;34m\u001b[0m\u001b[0;34m\u001b[0m\u001b[0m\n\u001b[1;32m    927\u001b[0m \u001b[0;34m\u001b[0m\u001b[0m\n\u001b[0;32m--> 928\u001b[0;31m         \u001b[0mresult\u001b[0m\u001b[0;34m,\u001b[0m \u001b[0mhow\u001b[0m \u001b[0;34m=\u001b[0m \u001b[0mself\u001b[0m\u001b[0;34m.\u001b[0m\u001b[0m_aggregate\u001b[0m\u001b[0;34m(\u001b[0m\u001b[0mfunc\u001b[0m\u001b[0;34m,\u001b[0m \u001b[0;34m*\u001b[0m\u001b[0margs\u001b[0m\u001b[0;34m,\u001b[0m \u001b[0;34m**\u001b[0m\u001b[0mkwargs\u001b[0m\u001b[0;34m)\u001b[0m\u001b[0;34m\u001b[0m\u001b[0;34m\u001b[0m\u001b[0m\n\u001b[0m\u001b[1;32m    929\u001b[0m         \u001b[0;32mif\u001b[0m \u001b[0mhow\u001b[0m \u001b[0;32mis\u001b[0m \u001b[0;32mNone\u001b[0m\u001b[0;34m:\u001b[0m\u001b[0;34m\u001b[0m\u001b[0;34m\u001b[0m\u001b[0m\n\u001b[1;32m    930\u001b[0m             \u001b[0;32mreturn\u001b[0m \u001b[0mresult\u001b[0m\u001b[0;34m\u001b[0m\u001b[0;34m\u001b[0m\u001b[0m\n",
            "\u001b[0;32m/usr/local/lib/python3.6/dist-packages/pandas/core/base.py\u001b[0m in \u001b[0;36m_aggregate\u001b[0;34m(self, arg, *args, **kwargs)\u001b[0m\n\u001b[1;32m    417\u001b[0m \u001b[0;34m\u001b[0m\u001b[0m\n\u001b[1;32m    418\u001b[0m                 \u001b[0;32mtry\u001b[0m\u001b[0;34m:\u001b[0m\u001b[0;34m\u001b[0m\u001b[0;34m\u001b[0m\u001b[0m\n\u001b[0;32m--> 419\u001b[0;31m                     \u001b[0mresult\u001b[0m \u001b[0;34m=\u001b[0m \u001b[0m_agg\u001b[0m\u001b[0;34m(\u001b[0m\u001b[0marg\u001b[0m\u001b[0;34m,\u001b[0m \u001b[0m_agg_1dim\u001b[0m\u001b[0;34m)\u001b[0m\u001b[0;34m\u001b[0m\u001b[0;34m\u001b[0m\u001b[0m\n\u001b[0m\u001b[1;32m    420\u001b[0m                 \u001b[0;32mexcept\u001b[0m \u001b[0mSpecificationError\u001b[0m\u001b[0;34m:\u001b[0m\u001b[0;34m\u001b[0m\u001b[0;34m\u001b[0m\u001b[0m\n\u001b[1;32m    421\u001b[0m \u001b[0;34m\u001b[0m\u001b[0m\n",
            "\u001b[0;32m/usr/local/lib/python3.6/dist-packages/pandas/core/base.py\u001b[0m in \u001b[0;36m_agg\u001b[0;34m(arg, func)\u001b[0m\n\u001b[1;32m    384\u001b[0m                 \u001b[0mresult\u001b[0m \u001b[0;34m=\u001b[0m \u001b[0;34m{\u001b[0m\u001b[0;34m}\u001b[0m\u001b[0;34m\u001b[0m\u001b[0;34m\u001b[0m\u001b[0m\n\u001b[1;32m    385\u001b[0m                 \u001b[0;32mfor\u001b[0m \u001b[0mfname\u001b[0m\u001b[0;34m,\u001b[0m \u001b[0magg_how\u001b[0m \u001b[0;32min\u001b[0m \u001b[0marg\u001b[0m\u001b[0;34m.\u001b[0m\u001b[0mitems\u001b[0m\u001b[0;34m(\u001b[0m\u001b[0;34m)\u001b[0m\u001b[0;34m:\u001b[0m\u001b[0;34m\u001b[0m\u001b[0;34m\u001b[0m\u001b[0m\n\u001b[0;32m--> 386\u001b[0;31m                     \u001b[0mresult\u001b[0m\u001b[0;34m[\u001b[0m\u001b[0mfname\u001b[0m\u001b[0;34m]\u001b[0m \u001b[0;34m=\u001b[0m \u001b[0mfunc\u001b[0m\u001b[0;34m(\u001b[0m\u001b[0mfname\u001b[0m\u001b[0;34m,\u001b[0m \u001b[0magg_how\u001b[0m\u001b[0;34m)\u001b[0m\u001b[0;34m\u001b[0m\u001b[0;34m\u001b[0m\u001b[0m\n\u001b[0m\u001b[1;32m    387\u001b[0m                 \u001b[0;32mreturn\u001b[0m \u001b[0mresult\u001b[0m\u001b[0;34m\u001b[0m\u001b[0;34m\u001b[0m\u001b[0m\n\u001b[1;32m    388\u001b[0m \u001b[0;34m\u001b[0m\u001b[0m\n",
            "\u001b[0;32m/usr/local/lib/python3.6/dist-packages/pandas/core/base.py\u001b[0m in \u001b[0;36m_agg_1dim\u001b[0;34m(name, how, subset)\u001b[0m\n\u001b[1;32m    368\u001b[0m                         \u001b[0;34m\"nested dictionary is ambiguous in aggregation\"\u001b[0m\u001b[0;34m\u001b[0m\u001b[0;34m\u001b[0m\u001b[0m\n\u001b[1;32m    369\u001b[0m                     )\n\u001b[0;32m--> 370\u001b[0;31m                 \u001b[0;32mreturn\u001b[0m \u001b[0mcolg\u001b[0m\u001b[0;34m.\u001b[0m\u001b[0maggregate\u001b[0m\u001b[0;34m(\u001b[0m\u001b[0mhow\u001b[0m\u001b[0;34m)\u001b[0m\u001b[0;34m\u001b[0m\u001b[0;34m\u001b[0m\u001b[0m\n\u001b[0m\u001b[1;32m    371\u001b[0m \u001b[0;34m\u001b[0m\u001b[0m\n\u001b[1;32m    372\u001b[0m             \u001b[0;32mdef\u001b[0m \u001b[0m_agg_2dim\u001b[0m\u001b[0;34m(\u001b[0m\u001b[0mname\u001b[0m\u001b[0;34m,\u001b[0m \u001b[0mhow\u001b[0m\u001b[0;34m)\u001b[0m\u001b[0;34m:\u001b[0m\u001b[0;34m\u001b[0m\u001b[0;34m\u001b[0m\u001b[0m\n",
            "\u001b[0;32m/usr/local/lib/python3.6/dist-packages/pandas/core/groupby/generic.py\u001b[0m in \u001b[0;36maggregate\u001b[0;34m(self, func, *args, **kwargs)\u001b[0m\n\u001b[1;32m    251\u001b[0m             \u001b[0;31m# but not the class list / tuple itself.\u001b[0m\u001b[0;34m\u001b[0m\u001b[0;34m\u001b[0m\u001b[0;34m\u001b[0m\u001b[0m\n\u001b[1;32m    252\u001b[0m             \u001b[0mfunc\u001b[0m \u001b[0;34m=\u001b[0m \u001b[0m_maybe_mangle_lambdas\u001b[0m\u001b[0;34m(\u001b[0m\u001b[0mfunc\u001b[0m\u001b[0;34m)\u001b[0m\u001b[0;34m\u001b[0m\u001b[0;34m\u001b[0m\u001b[0m\n\u001b[0;32m--> 253\u001b[0;31m             \u001b[0mret\u001b[0m \u001b[0;34m=\u001b[0m \u001b[0mself\u001b[0m\u001b[0;34m.\u001b[0m\u001b[0m_aggregate_multiple_funcs\u001b[0m\u001b[0;34m(\u001b[0m\u001b[0mfunc\u001b[0m\u001b[0;34m)\u001b[0m\u001b[0;34m\u001b[0m\u001b[0;34m\u001b[0m\u001b[0m\n\u001b[0m\u001b[1;32m    254\u001b[0m             \u001b[0;32mif\u001b[0m \u001b[0mrelabeling\u001b[0m\u001b[0;34m:\u001b[0m\u001b[0;34m\u001b[0m\u001b[0;34m\u001b[0m\u001b[0m\n\u001b[1;32m    255\u001b[0m                 \u001b[0mret\u001b[0m\u001b[0;34m.\u001b[0m\u001b[0mcolumns\u001b[0m \u001b[0;34m=\u001b[0m \u001b[0mcolumns\u001b[0m\u001b[0;34m\u001b[0m\u001b[0;34m\u001b[0m\u001b[0m\n",
            "\u001b[0;32m/usr/local/lib/python3.6/dist-packages/pandas/core/groupby/generic.py\u001b[0m in \u001b[0;36m_aggregate_multiple_funcs\u001b[0;34m(self, arg)\u001b[0m\n\u001b[1;32m    319\u001b[0m                 \u001b[0mobj\u001b[0m\u001b[0;34m.\u001b[0m\u001b[0m_reset_cache\u001b[0m\u001b[0;34m(\u001b[0m\u001b[0;34m)\u001b[0m\u001b[0;34m\u001b[0m\u001b[0;34m\u001b[0m\u001b[0m\n\u001b[1;32m    320\u001b[0m                 \u001b[0mobj\u001b[0m\u001b[0;34m.\u001b[0m\u001b[0m_selection\u001b[0m \u001b[0;34m=\u001b[0m \u001b[0mname\u001b[0m\u001b[0;34m\u001b[0m\u001b[0;34m\u001b[0m\u001b[0m\n\u001b[0;32m--> 321\u001b[0;31m             \u001b[0mresults\u001b[0m\u001b[0;34m[\u001b[0m\u001b[0mname\u001b[0m\u001b[0;34m]\u001b[0m \u001b[0;34m=\u001b[0m \u001b[0mobj\u001b[0m\u001b[0;34m.\u001b[0m\u001b[0maggregate\u001b[0m\u001b[0;34m(\u001b[0m\u001b[0mfunc\u001b[0m\u001b[0;34m)\u001b[0m\u001b[0;34m\u001b[0m\u001b[0;34m\u001b[0m\u001b[0m\n\u001b[0m\u001b[1;32m    322\u001b[0m \u001b[0;34m\u001b[0m\u001b[0m\n\u001b[1;32m    323\u001b[0m         \u001b[0;32mif\u001b[0m \u001b[0many\u001b[0m\u001b[0;34m(\u001b[0m\u001b[0misinstance\u001b[0m\u001b[0;34m(\u001b[0m\u001b[0mx\u001b[0m\u001b[0;34m,\u001b[0m \u001b[0mDataFrame\u001b[0m\u001b[0;34m)\u001b[0m \u001b[0;32mfor\u001b[0m \u001b[0mx\u001b[0m \u001b[0;32min\u001b[0m \u001b[0mresults\u001b[0m\u001b[0;34m.\u001b[0m\u001b[0mvalues\u001b[0m\u001b[0;34m(\u001b[0m\u001b[0;34m)\u001b[0m\u001b[0;34m)\u001b[0m\u001b[0;34m:\u001b[0m\u001b[0;34m\u001b[0m\u001b[0;34m\u001b[0m\u001b[0m\n",
            "\u001b[0;32m/usr/local/lib/python3.6/dist-packages/pandas/core/groupby/generic.py\u001b[0m in \u001b[0;36maggregate\u001b[0;34m(self, func, *args, **kwargs)\u001b[0m\n\u001b[1;32m    260\u001b[0m \u001b[0;34m\u001b[0m\u001b[0m\n\u001b[1;32m    261\u001b[0m             \u001b[0;32mif\u001b[0m \u001b[0mself\u001b[0m\u001b[0;34m.\u001b[0m\u001b[0mgrouper\u001b[0m\u001b[0;34m.\u001b[0m\u001b[0mnkeys\u001b[0m \u001b[0;34m>\u001b[0m \u001b[0;36m1\u001b[0m\u001b[0;34m:\u001b[0m\u001b[0;34m\u001b[0m\u001b[0;34m\u001b[0m\u001b[0m\n\u001b[0;32m--> 262\u001b[0;31m                 \u001b[0;32mreturn\u001b[0m \u001b[0mself\u001b[0m\u001b[0;34m.\u001b[0m\u001b[0m_python_agg_general\u001b[0m\u001b[0;34m(\u001b[0m\u001b[0mfunc\u001b[0m\u001b[0;34m,\u001b[0m \u001b[0;34m*\u001b[0m\u001b[0margs\u001b[0m\u001b[0;34m,\u001b[0m \u001b[0;34m**\u001b[0m\u001b[0mkwargs\u001b[0m\u001b[0;34m)\u001b[0m\u001b[0;34m\u001b[0m\u001b[0;34m\u001b[0m\u001b[0m\n\u001b[0m\u001b[1;32m    263\u001b[0m \u001b[0;34m\u001b[0m\u001b[0m\n\u001b[1;32m    264\u001b[0m             \u001b[0;32mtry\u001b[0m\u001b[0;34m:\u001b[0m\u001b[0;34m\u001b[0m\u001b[0;34m\u001b[0m\u001b[0m\n",
            "\u001b[0;32m/usr/local/lib/python3.6/dist-packages/pandas/core/groupby/groupby.py\u001b[0m in \u001b[0;36m_python_agg_general\u001b[0;34m(self, func, *args, **kwargs)\u001b[0m\n\u001b[1;32m    925\u001b[0m             \u001b[0;32mtry\u001b[0m\u001b[0;34m:\u001b[0m\u001b[0;34m\u001b[0m\u001b[0;34m\u001b[0m\u001b[0m\n\u001b[1;32m    926\u001b[0m                 \u001b[0;31m# if this function is invalid for this dtype, we will ignore it.\u001b[0m\u001b[0;34m\u001b[0m\u001b[0;34m\u001b[0m\u001b[0;34m\u001b[0m\u001b[0m\n\u001b[0;32m--> 927\u001b[0;31m                 \u001b[0mresult\u001b[0m\u001b[0;34m,\u001b[0m \u001b[0mcounts\u001b[0m \u001b[0;34m=\u001b[0m \u001b[0mself\u001b[0m\u001b[0;34m.\u001b[0m\u001b[0mgrouper\u001b[0m\u001b[0;34m.\u001b[0m\u001b[0magg_series\u001b[0m\u001b[0;34m(\u001b[0m\u001b[0mobj\u001b[0m\u001b[0;34m,\u001b[0m \u001b[0mf\u001b[0m\u001b[0;34m)\u001b[0m\u001b[0;34m\u001b[0m\u001b[0;34m\u001b[0m\u001b[0m\n\u001b[0m\u001b[1;32m    928\u001b[0m             \u001b[0;32mexcept\u001b[0m \u001b[0mTypeError\u001b[0m\u001b[0;34m:\u001b[0m\u001b[0;34m\u001b[0m\u001b[0;34m\u001b[0m\u001b[0m\n\u001b[1;32m    929\u001b[0m                 \u001b[0;32mcontinue\u001b[0m\u001b[0;34m\u001b[0m\u001b[0;34m\u001b[0m\u001b[0m\n",
            "\u001b[0;32m/usr/local/lib/python3.6/dist-packages/pandas/core/groupby/ops.py\u001b[0m in \u001b[0;36magg_series\u001b[0;34m(self, obj, func)\u001b[0m\n\u001b[1;32m    639\u001b[0m \u001b[0;34m\u001b[0m\u001b[0m\n\u001b[1;32m    640\u001b[0m         \u001b[0;32mtry\u001b[0m\u001b[0;34m:\u001b[0m\u001b[0;34m\u001b[0m\u001b[0;34m\u001b[0m\u001b[0m\n\u001b[0;32m--> 641\u001b[0;31m             \u001b[0;32mreturn\u001b[0m \u001b[0mself\u001b[0m\u001b[0;34m.\u001b[0m\u001b[0m_aggregate_series_fast\u001b[0m\u001b[0;34m(\u001b[0m\u001b[0mobj\u001b[0m\u001b[0;34m,\u001b[0m \u001b[0mfunc\u001b[0m\u001b[0;34m)\u001b[0m\u001b[0;34m\u001b[0m\u001b[0;34m\u001b[0m\u001b[0m\n\u001b[0m\u001b[1;32m    642\u001b[0m         \u001b[0;32mexcept\u001b[0m \u001b[0mValueError\u001b[0m \u001b[0;32mas\u001b[0m \u001b[0merr\u001b[0m\u001b[0;34m:\u001b[0m\u001b[0;34m\u001b[0m\u001b[0;34m\u001b[0m\u001b[0m\n\u001b[1;32m    643\u001b[0m             \u001b[0;32mif\u001b[0m \u001b[0;34m\"Function does not reduce\"\u001b[0m \u001b[0;32min\u001b[0m \u001b[0mstr\u001b[0m\u001b[0;34m(\u001b[0m\u001b[0merr\u001b[0m\u001b[0;34m)\u001b[0m\u001b[0;34m:\u001b[0m\u001b[0;34m\u001b[0m\u001b[0;34m\u001b[0m\u001b[0m\n",
            "\u001b[0;32m/usr/local/lib/python3.6/dist-packages/pandas/core/groupby/ops.py\u001b[0m in \u001b[0;36m_aggregate_series_fast\u001b[0;34m(self, obj, func)\u001b[0m\n\u001b[1;32m    664\u001b[0m         \u001b[0mgroup_index\u001b[0m \u001b[0;34m=\u001b[0m \u001b[0malgorithms\u001b[0m\u001b[0;34m.\u001b[0m\u001b[0mtake_nd\u001b[0m\u001b[0;34m(\u001b[0m\u001b[0mgroup_index\u001b[0m\u001b[0;34m,\u001b[0m \u001b[0mindexer\u001b[0m\u001b[0;34m,\u001b[0m \u001b[0mallow_fill\u001b[0m\u001b[0;34m=\u001b[0m\u001b[0;32mFalse\u001b[0m\u001b[0;34m)\u001b[0m\u001b[0;34m\u001b[0m\u001b[0;34m\u001b[0m\u001b[0m\n\u001b[1;32m    665\u001b[0m         \u001b[0mgrouper\u001b[0m \u001b[0;34m=\u001b[0m \u001b[0mlibreduction\u001b[0m\u001b[0;34m.\u001b[0m\u001b[0mSeriesGrouper\u001b[0m\u001b[0;34m(\u001b[0m\u001b[0mobj\u001b[0m\u001b[0;34m,\u001b[0m \u001b[0mfunc\u001b[0m\u001b[0;34m,\u001b[0m \u001b[0mgroup_index\u001b[0m\u001b[0;34m,\u001b[0m \u001b[0mngroups\u001b[0m\u001b[0;34m,\u001b[0m \u001b[0mdummy\u001b[0m\u001b[0;34m)\u001b[0m\u001b[0;34m\u001b[0m\u001b[0;34m\u001b[0m\u001b[0m\n\u001b[0;32m--> 666\u001b[0;31m         \u001b[0mresult\u001b[0m\u001b[0;34m,\u001b[0m \u001b[0mcounts\u001b[0m \u001b[0;34m=\u001b[0m \u001b[0mgrouper\u001b[0m\u001b[0;34m.\u001b[0m\u001b[0mget_result\u001b[0m\u001b[0;34m(\u001b[0m\u001b[0;34m)\u001b[0m\u001b[0;34m\u001b[0m\u001b[0;34m\u001b[0m\u001b[0m\n\u001b[0m\u001b[1;32m    667\u001b[0m         \u001b[0;32mreturn\u001b[0m \u001b[0mresult\u001b[0m\u001b[0;34m,\u001b[0m \u001b[0mcounts\u001b[0m\u001b[0;34m\u001b[0m\u001b[0;34m\u001b[0m\u001b[0m\n\u001b[1;32m    668\u001b[0m \u001b[0;34m\u001b[0m\u001b[0m\n",
            "\u001b[0;32mpandas/_libs/reduction.pyx\u001b[0m in \u001b[0;36mpandas._libs.reduction.SeriesGrouper.get_result\u001b[0;34m()\u001b[0m\n",
            "\u001b[0;32mpandas/_libs/reduction.pyx\u001b[0m in \u001b[0;36mpandas._libs.reduction._BaseGrouper._apply_to_group\u001b[0;34m()\u001b[0m\n",
            "\u001b[0;32m/usr/local/lib/python3.6/dist-packages/pandas/core/groupby/groupby.py\u001b[0m in \u001b[0;36m<lambda>\u001b[0;34m(x)\u001b[0m\n\u001b[1;32m    912\u001b[0m     \u001b[0;32mdef\u001b[0m \u001b[0m_python_agg_general\u001b[0m\u001b[0;34m(\u001b[0m\u001b[0mself\u001b[0m\u001b[0;34m,\u001b[0m \u001b[0mfunc\u001b[0m\u001b[0;34m,\u001b[0m \u001b[0;34m*\u001b[0m\u001b[0margs\u001b[0m\u001b[0;34m,\u001b[0m \u001b[0;34m**\u001b[0m\u001b[0mkwargs\u001b[0m\u001b[0;34m)\u001b[0m\u001b[0;34m:\u001b[0m\u001b[0;34m\u001b[0m\u001b[0;34m\u001b[0m\u001b[0m\n\u001b[1;32m    913\u001b[0m         \u001b[0mfunc\u001b[0m \u001b[0;34m=\u001b[0m \u001b[0mself\u001b[0m\u001b[0;34m.\u001b[0m\u001b[0m_is_builtin_func\u001b[0m\u001b[0;34m(\u001b[0m\u001b[0mfunc\u001b[0m\u001b[0;34m)\u001b[0m\u001b[0;34m\u001b[0m\u001b[0;34m\u001b[0m\u001b[0m\n\u001b[0;32m--> 914\u001b[0;31m         \u001b[0mf\u001b[0m \u001b[0;34m=\u001b[0m \u001b[0;32mlambda\u001b[0m \u001b[0mx\u001b[0m\u001b[0;34m:\u001b[0m \u001b[0mfunc\u001b[0m\u001b[0;34m(\u001b[0m\u001b[0mx\u001b[0m\u001b[0;34m,\u001b[0m \u001b[0;34m*\u001b[0m\u001b[0margs\u001b[0m\u001b[0;34m,\u001b[0m \u001b[0;34m**\u001b[0m\u001b[0mkwargs\u001b[0m\u001b[0;34m)\u001b[0m\u001b[0;34m\u001b[0m\u001b[0;34m\u001b[0m\u001b[0m\n\u001b[0m\u001b[1;32m    915\u001b[0m \u001b[0;34m\u001b[0m\u001b[0m\n\u001b[1;32m    916\u001b[0m         \u001b[0;31m# iterate through \"columns\" ex exclusions to populate output dict\u001b[0m\u001b[0;34m\u001b[0m\u001b[0;34m\u001b[0m\u001b[0;34m\u001b[0m\u001b[0m\n",
            "\u001b[0;32m<ipython-input-9-334c0ab676fd>\u001b[0m in \u001b[0;36m<lambda>\u001b[0;34m(x)\u001b[0m\n\u001b[1;32m      1\u001b[0m \u001b[0;31m# redefine the function to use aggregatedData instead of data\u001b[0m\u001b[0;34m\u001b[0m\u001b[0;34m\u001b[0m\u001b[0;34m\u001b[0m\u001b[0m\n\u001b[0;32m----> 2\u001b[0;31m \u001b[0mwm\u001b[0m \u001b[0;34m=\u001b[0m \u001b[0;32mlambda\u001b[0m \u001b[0mx\u001b[0m\u001b[0;34m:\u001b[0m \u001b[0mnp\u001b[0m\u001b[0;34m.\u001b[0m\u001b[0maverage\u001b[0m\u001b[0;34m(\u001b[0m\u001b[0mx\u001b[0m\u001b[0;34m,\u001b[0m \u001b[0mweights\u001b[0m\u001b[0;34m=\u001b[0m \u001b[0maggregatedData\u001b[0m\u001b[0;34m.\u001b[0m\u001b[0mloc\u001b[0m\u001b[0;34m[\u001b[0m\u001b[0mx\u001b[0m\u001b[0;34m.\u001b[0m\u001b[0mindex\u001b[0m\u001b[0;34m,\u001b[0m \u001b[0;34m\"device_count\"\u001b[0m\u001b[0;34m]\u001b[0m\u001b[0;34m)\u001b[0m\u001b[0;34m\u001b[0m\u001b[0;34m\u001b[0m\u001b[0m\n\u001b[0m",
            "\u001b[0;32m/usr/local/lib/python3.6/dist-packages/pandas/core/indexing.py\u001b[0m in \u001b[0;36m__getitem__\u001b[0;34m(self, key)\u001b[0m\n\u001b[1;32m   1760\u001b[0m                 \u001b[0;32mexcept\u001b[0m \u001b[0;34m(\u001b[0m\u001b[0mKeyError\u001b[0m\u001b[0;34m,\u001b[0m \u001b[0mIndexError\u001b[0m\u001b[0;34m,\u001b[0m \u001b[0mAttributeError\u001b[0m\u001b[0;34m)\u001b[0m\u001b[0;34m:\u001b[0m\u001b[0;34m\u001b[0m\u001b[0;34m\u001b[0m\u001b[0m\n\u001b[1;32m   1761\u001b[0m                     \u001b[0;32mpass\u001b[0m\u001b[0;34m\u001b[0m\u001b[0;34m\u001b[0m\u001b[0m\n\u001b[0;32m-> 1762\u001b[0;31m             \u001b[0;32mreturn\u001b[0m \u001b[0mself\u001b[0m\u001b[0;34m.\u001b[0m\u001b[0m_getitem_tuple\u001b[0m\u001b[0;34m(\u001b[0m\u001b[0mkey\u001b[0m\u001b[0;34m)\u001b[0m\u001b[0;34m\u001b[0m\u001b[0;34m\u001b[0m\u001b[0m\n\u001b[0m\u001b[1;32m   1763\u001b[0m         \u001b[0;32melse\u001b[0m\u001b[0;34m:\u001b[0m\u001b[0;34m\u001b[0m\u001b[0;34m\u001b[0m\u001b[0m\n\u001b[1;32m   1764\u001b[0m             \u001b[0;31m# we by definition only have the 0th axis\u001b[0m\u001b[0;34m\u001b[0m\u001b[0;34m\u001b[0m\u001b[0;34m\u001b[0m\u001b[0m\n",
            "\u001b[0;32m/usr/local/lib/python3.6/dist-packages/pandas/core/indexing.py\u001b[0m in \u001b[0;36m_getitem_tuple\u001b[0;34m(self, tup)\u001b[0m\n\u001b[1;32m   1270\u001b[0m     \u001b[0;32mdef\u001b[0m \u001b[0m_getitem_tuple\u001b[0m\u001b[0;34m(\u001b[0m\u001b[0mself\u001b[0m\u001b[0;34m,\u001b[0m \u001b[0mtup\u001b[0m\u001b[0;34m:\u001b[0m \u001b[0mTuple\u001b[0m\u001b[0;34m)\u001b[0m\u001b[0;34m:\u001b[0m\u001b[0;34m\u001b[0m\u001b[0;34m\u001b[0m\u001b[0m\n\u001b[1;32m   1271\u001b[0m         \u001b[0;32mtry\u001b[0m\u001b[0;34m:\u001b[0m\u001b[0;34m\u001b[0m\u001b[0;34m\u001b[0m\u001b[0m\n\u001b[0;32m-> 1272\u001b[0;31m             \u001b[0;32mreturn\u001b[0m \u001b[0mself\u001b[0m\u001b[0;34m.\u001b[0m\u001b[0m_getitem_lowerdim\u001b[0m\u001b[0;34m(\u001b[0m\u001b[0mtup\u001b[0m\u001b[0;34m)\u001b[0m\u001b[0;34m\u001b[0m\u001b[0;34m\u001b[0m\u001b[0m\n\u001b[0m\u001b[1;32m   1273\u001b[0m         \u001b[0;32mexcept\u001b[0m \u001b[0mIndexingError\u001b[0m\u001b[0;34m:\u001b[0m\u001b[0;34m\u001b[0m\u001b[0;34m\u001b[0m\u001b[0m\n\u001b[1;32m   1274\u001b[0m             \u001b[0;32mpass\u001b[0m\u001b[0;34m\u001b[0m\u001b[0;34m\u001b[0m\u001b[0m\n",
            "\u001b[0;32m/usr/local/lib/python3.6/dist-packages/pandas/core/indexing.py\u001b[0m in \u001b[0;36m_getitem_lowerdim\u001b[0;34m(self, tup)\u001b[0m\n\u001b[1;32m   1419\u001b[0m                     \u001b[0;32mreturn\u001b[0m \u001b[0msection\u001b[0m\u001b[0;34m\u001b[0m\u001b[0;34m\u001b[0m\u001b[0m\n\u001b[1;32m   1420\u001b[0m                 \u001b[0;31m# This is an elided recursive call to iloc/loc/etc'\u001b[0m\u001b[0;34m\u001b[0m\u001b[0;34m\u001b[0m\u001b[0;34m\u001b[0m\u001b[0m\n\u001b[0;32m-> 1421\u001b[0;31m                 \u001b[0;32mreturn\u001b[0m \u001b[0mgetattr\u001b[0m\u001b[0;34m(\u001b[0m\u001b[0msection\u001b[0m\u001b[0;34m,\u001b[0m \u001b[0mself\u001b[0m\u001b[0;34m.\u001b[0m\u001b[0mname\u001b[0m\u001b[0;34m)\u001b[0m\u001b[0;34m[\u001b[0m\u001b[0mnew_key\u001b[0m\u001b[0;34m]\u001b[0m\u001b[0;34m\u001b[0m\u001b[0;34m\u001b[0m\u001b[0m\n\u001b[0m\u001b[1;32m   1422\u001b[0m \u001b[0;34m\u001b[0m\u001b[0m\n\u001b[1;32m   1423\u001b[0m         \u001b[0;32mraise\u001b[0m \u001b[0mIndexingError\u001b[0m\u001b[0;34m(\u001b[0m\u001b[0;34m\"not applicable\"\u001b[0m\u001b[0;34m)\u001b[0m\u001b[0;34m\u001b[0m\u001b[0;34m\u001b[0m\u001b[0m\n",
            "\u001b[0;32m/usr/local/lib/python3.6/dist-packages/pandas/core/indexing.py\u001b[0m in \u001b[0;36m__getitem__\u001b[0;34m(self, key)\u001b[0m\n\u001b[1;32m   1766\u001b[0m \u001b[0;34m\u001b[0m\u001b[0m\n\u001b[1;32m   1767\u001b[0m             \u001b[0mmaybe_callable\u001b[0m \u001b[0;34m=\u001b[0m \u001b[0mcom\u001b[0m\u001b[0;34m.\u001b[0m\u001b[0mapply_if_callable\u001b[0m\u001b[0;34m(\u001b[0m\u001b[0mkey\u001b[0m\u001b[0;34m,\u001b[0m \u001b[0mself\u001b[0m\u001b[0;34m.\u001b[0m\u001b[0mobj\u001b[0m\u001b[0;34m)\u001b[0m\u001b[0;34m\u001b[0m\u001b[0;34m\u001b[0m\u001b[0m\n\u001b[0;32m-> 1768\u001b[0;31m             \u001b[0;32mreturn\u001b[0m \u001b[0mself\u001b[0m\u001b[0;34m.\u001b[0m\u001b[0m_getitem_axis\u001b[0m\u001b[0;34m(\u001b[0m\u001b[0mmaybe_callable\u001b[0m\u001b[0;34m,\u001b[0m \u001b[0maxis\u001b[0m\u001b[0;34m=\u001b[0m\u001b[0maxis\u001b[0m\u001b[0;34m)\u001b[0m\u001b[0;34m\u001b[0m\u001b[0;34m\u001b[0m\u001b[0m\n\u001b[0m\u001b[1;32m   1769\u001b[0m \u001b[0;34m\u001b[0m\u001b[0m\n\u001b[1;32m   1770\u001b[0m     \u001b[0;32mdef\u001b[0m \u001b[0m_is_scalar_access\u001b[0m\u001b[0;34m(\u001b[0m\u001b[0mself\u001b[0m\u001b[0;34m,\u001b[0m \u001b[0mkey\u001b[0m\u001b[0;34m:\u001b[0m \u001b[0mTuple\u001b[0m\u001b[0;34m)\u001b[0m\u001b[0;34m:\u001b[0m\u001b[0;34m\u001b[0m\u001b[0;34m\u001b[0m\u001b[0m\n",
            "\u001b[0;32m/usr/local/lib/python3.6/dist-packages/pandas/core/indexing.py\u001b[0m in \u001b[0;36m_getitem_axis\u001b[0;34m(self, key, axis)\u001b[0m\n\u001b[1;32m   1952\u001b[0m                     \u001b[0;32mraise\u001b[0m \u001b[0mValueError\u001b[0m\u001b[0;34m(\u001b[0m\u001b[0;34m\"Cannot index with multidimensional key\"\u001b[0m\u001b[0;34m)\u001b[0m\u001b[0;34m\u001b[0m\u001b[0;34m\u001b[0m\u001b[0m\n\u001b[1;32m   1953\u001b[0m \u001b[0;34m\u001b[0m\u001b[0m\n\u001b[0;32m-> 1954\u001b[0;31m                 \u001b[0;32mreturn\u001b[0m \u001b[0mself\u001b[0m\u001b[0;34m.\u001b[0m\u001b[0m_getitem_iterable\u001b[0m\u001b[0;34m(\u001b[0m\u001b[0mkey\u001b[0m\u001b[0;34m,\u001b[0m \u001b[0maxis\u001b[0m\u001b[0;34m=\u001b[0m\u001b[0maxis\u001b[0m\u001b[0;34m)\u001b[0m\u001b[0;34m\u001b[0m\u001b[0;34m\u001b[0m\u001b[0m\n\u001b[0m\u001b[1;32m   1955\u001b[0m \u001b[0;34m\u001b[0m\u001b[0m\n\u001b[1;32m   1956\u001b[0m             \u001b[0;31m# nested tuple slicing\u001b[0m\u001b[0;34m\u001b[0m\u001b[0;34m\u001b[0m\u001b[0;34m\u001b[0m\u001b[0m\n",
            "\u001b[0;32m/usr/local/lib/python3.6/dist-packages/pandas/core/indexing.py\u001b[0m in \u001b[0;36m_getitem_iterable\u001b[0;34m(self, key, axis)\u001b[0m\n\u001b[1;32m   1595\u001b[0m             \u001b[0mkeyarr\u001b[0m\u001b[0;34m,\u001b[0m \u001b[0mindexer\u001b[0m \u001b[0;34m=\u001b[0m \u001b[0mself\u001b[0m\u001b[0;34m.\u001b[0m\u001b[0m_get_listlike_indexer\u001b[0m\u001b[0;34m(\u001b[0m\u001b[0mkey\u001b[0m\u001b[0;34m,\u001b[0m \u001b[0maxis\u001b[0m\u001b[0;34m,\u001b[0m \u001b[0mraise_missing\u001b[0m\u001b[0;34m=\u001b[0m\u001b[0;32mFalse\u001b[0m\u001b[0;34m)\u001b[0m\u001b[0;34m\u001b[0m\u001b[0;34m\u001b[0m\u001b[0m\n\u001b[1;32m   1596\u001b[0m             return self.obj._reindex_with_indexers(\n\u001b[0;32m-> 1597\u001b[0;31m                 \u001b[0;34m{\u001b[0m\u001b[0maxis\u001b[0m\u001b[0;34m:\u001b[0m \u001b[0;34m[\u001b[0m\u001b[0mkeyarr\u001b[0m\u001b[0;34m,\u001b[0m \u001b[0mindexer\u001b[0m\u001b[0;34m]\u001b[0m\u001b[0;34m}\u001b[0m\u001b[0;34m,\u001b[0m \u001b[0mcopy\u001b[0m\u001b[0;34m=\u001b[0m\u001b[0;32mTrue\u001b[0m\u001b[0;34m,\u001b[0m \u001b[0mallow_dups\u001b[0m\u001b[0;34m=\u001b[0m\u001b[0;32mTrue\u001b[0m\u001b[0;34m\u001b[0m\u001b[0;34m\u001b[0m\u001b[0m\n\u001b[0m\u001b[1;32m   1598\u001b[0m             )\n\u001b[1;32m   1599\u001b[0m \u001b[0;34m\u001b[0m\u001b[0m\n",
            "\u001b[0;32m/usr/local/lib/python3.6/dist-packages/pandas/core/generic.py\u001b[0m in \u001b[0;36m_reindex_with_indexers\u001b[0;34m(self, reindexers, fill_value, copy, allow_dups)\u001b[0m\n\u001b[1;32m   4611\u001b[0m                 \u001b[0mfill_value\u001b[0m\u001b[0;34m=\u001b[0m\u001b[0mfill_value\u001b[0m\u001b[0;34m,\u001b[0m\u001b[0;34m\u001b[0m\u001b[0;34m\u001b[0m\u001b[0m\n\u001b[1;32m   4612\u001b[0m                 \u001b[0mallow_dups\u001b[0m\u001b[0;34m=\u001b[0m\u001b[0mallow_dups\u001b[0m\u001b[0;34m,\u001b[0m\u001b[0;34m\u001b[0m\u001b[0;34m\u001b[0m\u001b[0m\n\u001b[0;32m-> 4613\u001b[0;31m                 \u001b[0mcopy\u001b[0m\u001b[0;34m=\u001b[0m\u001b[0mcopy\u001b[0m\u001b[0;34m,\u001b[0m\u001b[0;34m\u001b[0m\u001b[0;34m\u001b[0m\u001b[0m\n\u001b[0m\u001b[1;32m   4614\u001b[0m             )\n\u001b[1;32m   4615\u001b[0m \u001b[0;34m\u001b[0m\u001b[0m\n",
            "\u001b[0;32m/usr/local/lib/python3.6/dist-packages/pandas/core/internals/managers.py\u001b[0m in \u001b[0;36mreindex_indexer\u001b[0;34m(self, new_axis, indexer, axis, fill_value, allow_dups, copy)\u001b[0m\n\u001b[1;32m   1255\u001b[0m \u001b[0;34m\u001b[0m\u001b[0m\n\u001b[1;32m   1256\u001b[0m         \u001b[0;32mif\u001b[0m \u001b[0maxis\u001b[0m \u001b[0;34m==\u001b[0m \u001b[0;36m0\u001b[0m\u001b[0;34m:\u001b[0m\u001b[0;34m\u001b[0m\u001b[0;34m\u001b[0m\u001b[0m\n\u001b[0;32m-> 1257\u001b[0;31m             \u001b[0mnew_blocks\u001b[0m \u001b[0;34m=\u001b[0m \u001b[0mself\u001b[0m\u001b[0;34m.\u001b[0m\u001b[0m_slice_take_blocks_ax0\u001b[0m\u001b[0;34m(\u001b[0m\u001b[0mindexer\u001b[0m\u001b[0;34m,\u001b[0m \u001b[0mfill_tuple\u001b[0m\u001b[0;34m=\u001b[0m\u001b[0;34m(\u001b[0m\u001b[0mfill_value\u001b[0m\u001b[0;34m,\u001b[0m\u001b[0;34m)\u001b[0m\u001b[0;34m)\u001b[0m\u001b[0;34m\u001b[0m\u001b[0;34m\u001b[0m\u001b[0m\n\u001b[0m\u001b[1;32m   1258\u001b[0m         \u001b[0;32melse\u001b[0m\u001b[0;34m:\u001b[0m\u001b[0;34m\u001b[0m\u001b[0;34m\u001b[0m\u001b[0m\n\u001b[1;32m   1259\u001b[0m             new_blocks = [\n",
            "\u001b[0;32m/usr/local/lib/python3.6/dist-packages/pandas/core/internals/managers.py\u001b[0m in \u001b[0;36m_slice_take_blocks_ax0\u001b[0;34m(self, slice_or_indexer, fill_tuple)\u001b[0m\n\u001b[1;32m   1304\u001b[0m                         \u001b[0maxis\u001b[0m\u001b[0;34m=\u001b[0m\u001b[0;36m0\u001b[0m\u001b[0;34m,\u001b[0m\u001b[0;34m\u001b[0m\u001b[0;34m\u001b[0m\u001b[0m\n\u001b[1;32m   1305\u001b[0m                         \u001b[0mnew_mgr_locs\u001b[0m\u001b[0;34m=\u001b[0m\u001b[0mslice\u001b[0m\u001b[0;34m(\u001b[0m\u001b[0;36m0\u001b[0m\u001b[0;34m,\u001b[0m \u001b[0msllen\u001b[0m\u001b[0;34m)\u001b[0m\u001b[0;34m,\u001b[0m\u001b[0;34m\u001b[0m\u001b[0;34m\u001b[0m\u001b[0m\n\u001b[0;32m-> 1306\u001b[0;31m                         \u001b[0mfill_tuple\u001b[0m\u001b[0;34m=\u001b[0m\u001b[0mfill_tuple\u001b[0m\u001b[0;34m,\u001b[0m\u001b[0;34m\u001b[0m\u001b[0;34m\u001b[0m\u001b[0m\n\u001b[0m\u001b[1;32m   1307\u001b[0m                     )\n\u001b[1;32m   1308\u001b[0m                 ]\n",
            "\u001b[0;32m/usr/local/lib/python3.6/dist-packages/pandas/core/internals/blocks.py\u001b[0m in \u001b[0;36mtake_nd\u001b[0;34m(self, indexer, axis, new_mgr_locs, fill_tuple)\u001b[0m\n\u001b[1;32m   1295\u001b[0m \u001b[0;34m\u001b[0m\u001b[0m\n\u001b[1;32m   1296\u001b[0m         new_values = algos.take_nd(\n\u001b[0;32m-> 1297\u001b[0;31m             \u001b[0mvalues\u001b[0m\u001b[0;34m,\u001b[0m \u001b[0mindexer\u001b[0m\u001b[0;34m,\u001b[0m \u001b[0maxis\u001b[0m\u001b[0;34m=\u001b[0m\u001b[0maxis\u001b[0m\u001b[0;34m,\u001b[0m \u001b[0mallow_fill\u001b[0m\u001b[0;34m=\u001b[0m\u001b[0mallow_fill\u001b[0m\u001b[0;34m,\u001b[0m \u001b[0mfill_value\u001b[0m\u001b[0;34m=\u001b[0m\u001b[0mfill_value\u001b[0m\u001b[0;34m\u001b[0m\u001b[0;34m\u001b[0m\u001b[0m\n\u001b[0m\u001b[1;32m   1298\u001b[0m         )\n\u001b[1;32m   1299\u001b[0m \u001b[0;34m\u001b[0m\u001b[0m\n",
            "\u001b[0;32m/usr/local/lib/python3.6/dist-packages/pandas/core/algorithms.py\u001b[0m in \u001b[0;36mtake_nd\u001b[0;34m(arr, indexer, axis, out, fill_value, allow_fill)\u001b[0m\n\u001b[1;32m   1658\u001b[0m \u001b[0;34m\u001b[0m\u001b[0m\n\u001b[1;32m   1659\u001b[0m     func = _get_take_nd_function(\n\u001b[0;32m-> 1660\u001b[0;31m         \u001b[0marr\u001b[0m\u001b[0;34m.\u001b[0m\u001b[0mndim\u001b[0m\u001b[0;34m,\u001b[0m \u001b[0marr\u001b[0m\u001b[0;34m.\u001b[0m\u001b[0mdtype\u001b[0m\u001b[0;34m,\u001b[0m \u001b[0mout\u001b[0m\u001b[0;34m.\u001b[0m\u001b[0mdtype\u001b[0m\u001b[0;34m,\u001b[0m \u001b[0maxis\u001b[0m\u001b[0;34m=\u001b[0m\u001b[0maxis\u001b[0m\u001b[0;34m,\u001b[0m \u001b[0mmask_info\u001b[0m\u001b[0;34m=\u001b[0m\u001b[0mmask_info\u001b[0m\u001b[0;34m\u001b[0m\u001b[0;34m\u001b[0m\u001b[0m\n\u001b[0m\u001b[1;32m   1661\u001b[0m     )\n\u001b[1;32m   1662\u001b[0m     \u001b[0mfunc\u001b[0m\u001b[0;34m(\u001b[0m\u001b[0marr\u001b[0m\u001b[0;34m,\u001b[0m \u001b[0mindexer\u001b[0m\u001b[0;34m,\u001b[0m \u001b[0mout\u001b[0m\u001b[0;34m,\u001b[0m \u001b[0mfill_value\u001b[0m\u001b[0;34m)\u001b[0m\u001b[0;34m\u001b[0m\u001b[0;34m\u001b[0m\u001b[0m\n",
            "\u001b[0;32m/usr/local/lib/python3.6/dist-packages/pandas/core/algorithms.py\u001b[0m in \u001b[0;36m_get_take_nd_function\u001b[0;34m(ndim, arr_dtype, out_dtype, axis, mask_info)\u001b[0m\n\u001b[1;32m   1438\u001b[0m ):\n\u001b[1;32m   1439\u001b[0m     \u001b[0;32mif\u001b[0m \u001b[0mndim\u001b[0m \u001b[0;34m<=\u001b[0m \u001b[0;36m2\u001b[0m\u001b[0;34m:\u001b[0m\u001b[0;34m\u001b[0m\u001b[0;34m\u001b[0m\u001b[0m\n\u001b[0;32m-> 1440\u001b[0;31m         \u001b[0mtup\u001b[0m \u001b[0;34m=\u001b[0m \u001b[0;34m(\u001b[0m\u001b[0marr_dtype\u001b[0m\u001b[0;34m.\u001b[0m\u001b[0mname\u001b[0m\u001b[0;34m,\u001b[0m \u001b[0mout_dtype\u001b[0m\u001b[0;34m.\u001b[0m\u001b[0mname\u001b[0m\u001b[0;34m)\u001b[0m\u001b[0;34m\u001b[0m\u001b[0;34m\u001b[0m\u001b[0m\n\u001b[0m\u001b[1;32m   1441\u001b[0m         \u001b[0;32mif\u001b[0m \u001b[0mndim\u001b[0m \u001b[0;34m==\u001b[0m \u001b[0;36m1\u001b[0m\u001b[0;34m:\u001b[0m\u001b[0;34m\u001b[0m\u001b[0;34m\u001b[0m\u001b[0m\n\u001b[1;32m   1442\u001b[0m             \u001b[0mfunc\u001b[0m \u001b[0;34m=\u001b[0m \u001b[0m_take_1d_dict\u001b[0m\u001b[0;34m.\u001b[0m\u001b[0mget\u001b[0m\u001b[0;34m(\u001b[0m\u001b[0mtup\u001b[0m\u001b[0;34m,\u001b[0m \u001b[0;32mNone\u001b[0m\u001b[0;34m)\u001b[0m\u001b[0;34m\u001b[0m\u001b[0;34m\u001b[0m\u001b[0m\n",
            "\u001b[0;32m/usr/local/lib/python3.6/dist-packages/numpy/core/_dtype.py\u001b[0m in \u001b[0;36m_name_get\u001b[0;34m(dtype)\u001b[0m\n\u001b[1;32m    331\u001b[0m \u001b[0;34m\u001b[0m\u001b[0m\n\u001b[1;32m    332\u001b[0m \u001b[0;34m\u001b[0m\u001b[0m\n\u001b[0;32m--> 333\u001b[0;31m \u001b[0;32mdef\u001b[0m \u001b[0m_name_get\u001b[0m\u001b[0;34m(\u001b[0m\u001b[0mdtype\u001b[0m\u001b[0;34m)\u001b[0m\u001b[0;34m:\u001b[0m\u001b[0;34m\u001b[0m\u001b[0;34m\u001b[0m\u001b[0m\n\u001b[0m\u001b[1;32m    334\u001b[0m     \u001b[0;31m# provides dtype.name.__get__, documented as returning a \"bit name\"\u001b[0m\u001b[0;34m\u001b[0m\u001b[0;34m\u001b[0m\u001b[0;34m\u001b[0m\u001b[0m\n\u001b[1;32m    335\u001b[0m \u001b[0;34m\u001b[0m\u001b[0m\n",
            "\u001b[0;31mKeyboardInterrupt\u001b[0m: "
          ]
        }
      ]
    },
    {
      "cell_type": "markdown",
      "metadata": {
        "id": "vUTfpplKmWIe",
        "colab_type": "text"
      },
      "source": [
        "This way of using weighted mean function is way too slow. Ran the above cell for 4 - 5 hours and it only got to iteration 60 -> we need to get to iteration 120. maybe doing floating point multiplication is computationally more expensive. Below I will use the products and summing up products way of calculating the distance. This way we only do multiplication and addition, which are simpler. Only thing is this way product will get out of control - but python has infinite range for integers, so we are good. "
      ]
    },
    {
      "cell_type": "code",
      "metadata": {
        "id": "05AYNkddLOdw",
        "colab_type": "code",
        "colab": {}
      },
      "source": [
        "aggregatedData = pd.read_csv(\"social_dist_all_reduced_2.csv\", nrows = 0,\\\n",
        "                             dtype = {'date_range_start': 'datetime64[ns]',\\\n",
        "                                      'county_code': 'float64', \\\n",
        "                                      'device_count': 'float64', \\\n",
        "                                      'distance_traveled_from_home': 'float64'})"
      ],
      "execution_count": 13,
      "outputs": []
    },
    {
      "cell_type": "code",
      "metadata": {
        "id": "WHWkxV_QnQcC",
        "colab_type": "code",
        "colab": {
          "base_uri": "https://localhost:8080/",
          "height": 1000
        },
        "outputId": "552b0ed1-cbd5-4b7b-d4ac-06a8991cd016"
      },
      "source": [
        "counter = 0\n",
        "for chunk in pd.read_csv(\"social_dist_all_reduced_2.csv\", chunksize = 1000000):\n",
        "    # convert chunk's columns to the right datatype.\n",
        "    chunk['device_count'] = pd.to_numeric(chunk['device_count'], errors='coerce')\n",
        "    chunk['county_code'] = pd.to_numeric(chunk['county_code'], errors='coerce')\n",
        "    chunk['distance_traveled_from_home'] = pd.to_numeric(chunk['distance_traveled_from_home'], errors='coerce')\n",
        "    # drop the null rows (get rid of the row that is header)\n",
        "    chunk.dropna(inplace = True)\n",
        "\n",
        "    # convert string column to datetime object\n",
        "    chunk['date_range_start'] = chunk['date_range_start'].apply(lambda x: datetime.strptime(x[0:10], '%Y-%m-%d'))\n",
        "\n",
        "    # calculate the total distances traveled by this county's people.\n",
        "    # will just be mean distance traveled times number of devices.\n",
        "    # don't need to worry about overflow because python doesn't have limit on how large integers are.\n",
        "\n",
        "    # let's just use distance_traveled_from_home as the column for the total distance traveled\n",
        "    # we could create a new column, but this way wouldn't waste a lot of space.\n",
        "    chunk['distance_traveled_from_home'] = chunk['distance_traveled_from_home'] * chunk['device_count']\n",
        "    chunk = chunk.groupby(['date_range_start', 'county_code']).agg(device_count = ('device_count', 'sum'),\\\n",
        "                                                                   distance_traveled_from_home = ('distance_traveled_from_home', 'sum')).reset_index()\n",
        "    \n",
        "    # groupby and aggregate data of the same county of the same date.\n",
        "    aggregatedData = aggregatedData.append(chunk, ignore_index = True)\n",
        "    aggregatedData = aggregatedData.groupby(['date_range_start', 'county_code'])\\\n",
        "        .agg(device_count = ('device_count', 'sum'),\\\n",
        "             distance_traveled_from_home = ('distance_traveled_from_home', 'sum')).reset_index()\n",
        "    \n",
        "    print(counter) # track progress\n",
        "    print(aggregatedData.shape[0]) # how large is our data right now\n",
        "    counter += 1"
      ],
      "execution_count": 16,
      "outputs": [
        {
          "output_type": "stream",
          "text": [
            "/usr/local/lib/python3.6/dist-packages/IPython/core/interactiveshell.py:2718: DtypeWarning: Columns (1,2,3) have mixed types.Specify dtype option on import or set low_memory=False.\n",
            "  interactivity=interactivity, compiler=compiler, result=result)\n"
          ],
          "name": "stderr"
        },
        {
          "output_type": "stream",
          "text": [
            "0\n",
            "16087\n",
            "1\n",
            "31660\n",
            "2\n",
            "45163\n",
            "3\n",
            "61048\n",
            "4\n",
            "74228\n",
            "5\n",
            "90244\n",
            "6\n",
            "103290\n",
            "7\n",
            "119347\n",
            "8\n",
            "132346\n",
            "9\n",
            "148438\n",
            "10\n",
            "163925\n",
            "11\n",
            "177508\n",
            "12\n",
            "193364\n",
            "13\n",
            "206575\n",
            "14\n",
            "222566\n",
            "15\n",
            "235638\n",
            "16\n",
            "251688\n",
            "17\n",
            "264695\n",
            "18\n",
            "280779\n",
            "19\n",
            "296179\n",
            "20\n",
            "309855\n",
            "21\n",
            "325689\n",
            "22\n",
            "338919\n",
            "23\n",
            "354906\n",
            "24\n",
            "367980\n",
            "25\n",
            "384026\n",
            "26\n",
            "397033\n",
            "27\n",
            "413112\n",
            "28\n",
            "428489\n",
            "29\n",
            "442169\n",
            "30\n",
            "458002\n",
            "31\n",
            "471235\n",
            "32\n",
            "487231\n",
            "33\n",
            "500294\n",
            "34\n",
            "516348\n",
            "35\n",
            "529348\n",
            "36\n",
            "545428\n",
            "37\n",
            "560897\n",
            "38\n",
            "574507\n",
            "39\n",
            "590375\n",
            "40\n",
            "603565\n",
            "41\n",
            "619580\n",
            "42\n",
            "632628\n",
            "43\n",
            "648683\n",
            "44\n",
            "662398\n",
            "45\n",
            "677763\n",
            "46\n",
            "693401\n",
            "47\n",
            "706834\n",
            "48\n",
            "722752\n",
            "49\n",
            "735897\n",
            "50\n",
            "751930\n",
            "51\n",
            "764951\n",
            "52\n",
            "781014\n",
            "53\n",
            "795835\n",
            "54\n",
            "810087\n",
            "55\n",
            "825822\n",
            "56\n",
            "839162\n",
            "57\n",
            "855112\n",
            "58\n",
            "868228\n",
            "59\n",
            "884273\n",
            "60\n",
            "897282\n",
            "61\n",
            "913349\n",
            "62\n",
            "928697\n",
            "63\n",
            "942415\n",
            "64\n",
            "958291\n",
            "65\n",
            "971464\n",
            "66\n",
            "987478\n",
            "67\n",
            "1000507\n",
            "68\n",
            "1016571\n",
            "69\n",
            "1031905\n",
            "70\n",
            "1045633\n",
            "71\n",
            "1061520\n",
            "72\n",
            "1074693\n",
            "73\n",
            "1090711\n",
            "74\n",
            "1103731\n",
            "75\n",
            "1119793\n",
            "76\n",
            "1134935\n",
            "77\n",
            "1148877\n",
            "78\n",
            "1164713\n",
            "79\n",
            "1177944\n",
            "80\n",
            "1193919\n",
            "81\n",
            "1207008\n",
            "82\n",
            "1223064\n",
            "83\n",
            "1236065\n",
            "84\n",
            "1252150\n",
            "85\n",
            "1267682\n",
            "86\n",
            "1281226\n",
            "87\n",
            "1297110\n",
            "88\n",
            "1310276\n",
            "89\n",
            "1326269\n",
            "90\n",
            "1339304\n",
            "91\n",
            "1355356\n",
            "92\n",
            "1369876\n",
            "93\n",
            "1384421\n",
            "94\n",
            "1400096\n",
            "95\n",
            "1413496\n",
            "96\n",
            "1429420\n",
            "97\n",
            "1442563\n",
            "98\n",
            "1458582\n",
            "99\n",
            "1471602\n",
            "100\n",
            "1487663\n",
            "101\n",
            "1502674\n",
            "102\n",
            "1516715\n",
            "103\n",
            "1532487\n",
            "104\n",
            "1545754\n",
            "105\n",
            "1561720\n",
            "106\n",
            "1574798\n",
            "107\n",
            "1590855\n",
            "108\n",
            "1603831\n",
            "109\n",
            "1619907\n",
            "110\n",
            "1635436\n",
            "111\n",
            "1648967\n",
            "112\n",
            "1664848\n",
            "113\n",
            "1678014\n",
            "114\n",
            "1694032\n",
            "115\n",
            "1707054\n",
            "116\n",
            "1723107\n",
            "117\n",
            "1737878\n",
            "118\n",
            "1752159\n",
            "119\n",
            "1767910\n",
            "120\n",
            "1781211\n",
            "121\n",
            "1797173\n",
            "122\n",
            "1810253\n",
            "123\n",
            "1826299\n",
            "124\n",
            "1839305\n",
            "125\n",
            "1855395\n",
            "126\n",
            "1870880\n",
            "127\n",
            "1884469\n",
            "128\n",
            "1890956\n"
          ],
          "name": "stdout"
        }
      ]
    },
    {
      "cell_type": "code",
      "metadata": {
        "id": "ENDSFQIWpRbr",
        "colab_type": "code",
        "colab": {
          "base_uri": "https://localhost:8080/",
          "height": 204
        },
        "outputId": "3b1d9c5c-922f-4d0a-997b-5826b13820e4"
      },
      "source": [
        "aggregatedData.head()"
      ],
      "execution_count": 100,
      "outputs": [
        {
          "output_type": "execute_result",
          "data": {
            "text/html": [
              "<div>\n",
              "<style scoped>\n",
              "    .dataframe tbody tr th:only-of-type {\n",
              "        vertical-align: middle;\n",
              "    }\n",
              "\n",
              "    .dataframe tbody tr th {\n",
              "        vertical-align: top;\n",
              "    }\n",
              "\n",
              "    .dataframe thead th {\n",
              "        text-align: right;\n",
              "    }\n",
              "</style>\n",
              "<table border=\"1\" class=\"dataframe\">\n",
              "  <thead>\n",
              "    <tr style=\"text-align: right;\">\n",
              "      <th></th>\n",
              "      <th>date_range_start</th>\n",
              "      <th>county_code</th>\n",
              "      <th>device_count</th>\n",
              "      <th>distance_traveled_from_home</th>\n",
              "    </tr>\n",
              "  </thead>\n",
              "  <tbody>\n",
              "    <tr>\n",
              "      <th>0</th>\n",
              "      <td>2019-01-01</td>\n",
              "      <td>1001.0</td>\n",
              "      <td>4708.0</td>\n",
              "      <td>13986801.0</td>\n",
              "    </tr>\n",
              "    <tr>\n",
              "      <th>1</th>\n",
              "      <td>2019-01-01</td>\n",
              "      <td>1003.0</td>\n",
              "      <td>19655.0</td>\n",
              "      <td>58166713.0</td>\n",
              "    </tr>\n",
              "    <tr>\n",
              "      <th>2</th>\n",
              "      <td>2019-01-01</td>\n",
              "      <td>1005.0</td>\n",
              "      <td>1570.0</td>\n",
              "      <td>3416426.0</td>\n",
              "    </tr>\n",
              "    <tr>\n",
              "      <th>3</th>\n",
              "      <td>2019-01-01</td>\n",
              "      <td>1007.0</td>\n",
              "      <td>1702.0</td>\n",
              "      <td>6452161.0</td>\n",
              "    </tr>\n",
              "    <tr>\n",
              "      <th>4</th>\n",
              "      <td>2019-01-01</td>\n",
              "      <td>1009.0</td>\n",
              "      <td>5224.0</td>\n",
              "      <td>18259566.0</td>\n",
              "    </tr>\n",
              "  </tbody>\n",
              "</table>\n",
              "</div>"
            ],
            "text/plain": [
              "  date_range_start  county_code  device_count  distance_traveled_from_home\n",
              "0       2019-01-01       1001.0        4708.0                   13986801.0\n",
              "1       2019-01-01       1003.0       19655.0                   58166713.0\n",
              "2       2019-01-01       1005.0        1570.0                    3416426.0\n",
              "3       2019-01-01       1007.0        1702.0                    6452161.0\n",
              "4       2019-01-01       1009.0        5224.0                   18259566.0"
            ]
          },
          "metadata": {
            "tags": []
          },
          "execution_count": 100
        }
      ]
    },
    {
      "cell_type": "code",
      "metadata": {
        "id": "3DTavXDNCeTH",
        "colab_type": "code",
        "colab": {}
      },
      "source": [
        "aggregatedData.to_csv(\"aggregated_data_on_distance.csv\", index = False)"
      ],
      "execution_count": 102,
      "outputs": []
    },
    {
      "cell_type": "markdown",
      "metadata": {
        "id": "R1H1rtV6DpJa",
        "colab_type": "text"
      },
      "source": [
        "Now let's check if this aggregatedData is correct."
      ]
    },
    {
      "cell_type": "code",
      "metadata": {
        "id": "OiSRXZiLDr-A",
        "colab_type": "code",
        "colab": {}
      },
      "source": [
        "aggregatedData = pd.read_csv(\"aggregated_data_on_distance.csv\", parse_dates=['date_range_start'], infer_datetime_format=True)"
      ],
      "execution_count": 107,
      "outputs": []
    },
    {
      "cell_type": "code",
      "metadata": {
        "id": "QhnuIDTJD0nQ",
        "colab_type": "code",
        "colab": {
          "base_uri": "https://localhost:8080/",
          "height": 204
        },
        "outputId": "365fd32b-3022-4148-d0c7-81dc49da6bea"
      },
      "source": [
        "aggregatedData.head()"
      ],
      "execution_count": 108,
      "outputs": [
        {
          "output_type": "execute_result",
          "data": {
            "text/html": [
              "<div>\n",
              "<style scoped>\n",
              "    .dataframe tbody tr th:only-of-type {\n",
              "        vertical-align: middle;\n",
              "    }\n",
              "\n",
              "    .dataframe tbody tr th {\n",
              "        vertical-align: top;\n",
              "    }\n",
              "\n",
              "    .dataframe thead th {\n",
              "        text-align: right;\n",
              "    }\n",
              "</style>\n",
              "<table border=\"1\" class=\"dataframe\">\n",
              "  <thead>\n",
              "    <tr style=\"text-align: right;\">\n",
              "      <th></th>\n",
              "      <th>date_range_start</th>\n",
              "      <th>county_code</th>\n",
              "      <th>device_count</th>\n",
              "      <th>distance_traveled_from_home</th>\n",
              "    </tr>\n",
              "  </thead>\n",
              "  <tbody>\n",
              "    <tr>\n",
              "      <th>0</th>\n",
              "      <td>2019-01-01</td>\n",
              "      <td>1001.0</td>\n",
              "      <td>4708.0</td>\n",
              "      <td>13986801.0</td>\n",
              "    </tr>\n",
              "    <tr>\n",
              "      <th>1</th>\n",
              "      <td>2019-01-01</td>\n",
              "      <td>1003.0</td>\n",
              "      <td>19655.0</td>\n",
              "      <td>58166713.0</td>\n",
              "    </tr>\n",
              "    <tr>\n",
              "      <th>2</th>\n",
              "      <td>2019-01-01</td>\n",
              "      <td>1005.0</td>\n",
              "      <td>1570.0</td>\n",
              "      <td>3416426.0</td>\n",
              "    </tr>\n",
              "    <tr>\n",
              "      <th>3</th>\n",
              "      <td>2019-01-01</td>\n",
              "      <td>1007.0</td>\n",
              "      <td>1702.0</td>\n",
              "      <td>6452161.0</td>\n",
              "    </tr>\n",
              "    <tr>\n",
              "      <th>4</th>\n",
              "      <td>2019-01-01</td>\n",
              "      <td>1009.0</td>\n",
              "      <td>5224.0</td>\n",
              "      <td>18259566.0</td>\n",
              "    </tr>\n",
              "  </tbody>\n",
              "</table>\n",
              "</div>"
            ],
            "text/plain": [
              "  date_range_start  county_code  device_count  distance_traveled_from_home\n",
              "0       2019-01-01       1001.0        4708.0                   13986801.0\n",
              "1       2019-01-01       1003.0       19655.0                   58166713.0\n",
              "2       2019-01-01       1005.0        1570.0                    3416426.0\n",
              "3       2019-01-01       1007.0        1702.0                    6452161.0\n",
              "4       2019-01-01       1009.0        5224.0                   18259566.0"
            ]
          },
          "metadata": {
            "tags": []
          },
          "execution_count": 108
        }
      ]
    },
    {
      "cell_type": "markdown",
      "metadata": {
        "id": "ifhUBb1qEz2O",
        "colab_type": "text"
      },
      "source": [
        "Let's use Guam data on the first date to see if our aggregated data's distance matches the distance calculated from original dataset."
      ]
    },
    {
      "cell_type": "code",
      "metadata": {
        "id": "fZtUbIwHwk_0",
        "colab_type": "code",
        "colab": {
          "base_uri": "https://localhost:8080/",
          "height": 71
        },
        "outputId": "aa3e1b9a-c145-4a3c-d1c5-e356aed6eccc"
      },
      "source": [
        "firstMillionData = pd.read_csv('social_dist_all_reduced_2.csv', nrows = 1000000)"
      ],
      "execution_count": 30,
      "outputs": [
        {
          "output_type": "stream",
          "text": [
            "/usr/local/lib/python3.6/dist-packages/IPython/core/interactiveshell.py:2718: DtypeWarning: Columns (1,2,3) have mixed types.Specify dtype option on import or set low_memory=False.\n",
            "  interactivity=interactivity, compiler=compiler, result=result)\n"
          ],
          "name": "stderr"
        }
      ]
    },
    {
      "cell_type": "code",
      "metadata": {
        "id": "GLF9U5unxcpg",
        "colab_type": "code",
        "colab": {
          "base_uri": "https://localhost:8080/",
          "height": 419
        },
        "outputId": "8c6c68fe-c4d0-4f75-d05f-f9f5490722a5"
      },
      "source": [
        "firstMillionData[firstMillionData['county_code'] == '66010']"
      ],
      "execution_count": 39,
      "outputs": [
        {
          "output_type": "execute_result",
          "data": {
            "text/html": [
              "<div>\n",
              "<style scoped>\n",
              "    .dataframe tbody tr th:only-of-type {\n",
              "        vertical-align: middle;\n",
              "    }\n",
              "\n",
              "    .dataframe tbody tr th {\n",
              "        vertical-align: top;\n",
              "    }\n",
              "\n",
              "    .dataframe thead th {\n",
              "        text-align: right;\n",
              "    }\n",
              "</style>\n",
              "<table border=\"1\" class=\"dataframe\">\n",
              "  <thead>\n",
              "    <tr style=\"text-align: right;\">\n",
              "      <th></th>\n",
              "      <th>date_range_start</th>\n",
              "      <th>county_code</th>\n",
              "      <th>device_count</th>\n",
              "      <th>distance_traveled_from_home</th>\n",
              "    </tr>\n",
              "  </thead>\n",
              "  <tbody>\n",
              "    <tr>\n",
              "      <th>132081</th>\n",
              "      <td>2019-01-01T00:00:00+10:00</td>\n",
              "      <td>66010</td>\n",
              "      <td>21</td>\n",
              "      <td>1048</td>\n",
              "    </tr>\n",
              "    <tr>\n",
              "      <th>135041</th>\n",
              "      <td>2019-01-01T00:00:00+10:00</td>\n",
              "      <td>66010</td>\n",
              "      <td>11</td>\n",
              "      <td>0</td>\n",
              "    </tr>\n",
              "    <tr>\n",
              "      <th>135258</th>\n",
              "      <td>2019-01-01T00:00:00+10:00</td>\n",
              "      <td>66010</td>\n",
              "      <td>21</td>\n",
              "      <td>3537</td>\n",
              "    </tr>\n",
              "    <tr>\n",
              "      <th>137393</th>\n",
              "      <td>2019-01-01T00:00:00+10:00</td>\n",
              "      <td>66010</td>\n",
              "      <td>14</td>\n",
              "      <td>5738</td>\n",
              "    </tr>\n",
              "    <tr>\n",
              "      <th>139098</th>\n",
              "      <td>2019-01-01T00:00:00+10:00</td>\n",
              "      <td>66010</td>\n",
              "      <td>19</td>\n",
              "      <td>600</td>\n",
              "    </tr>\n",
              "    <tr>\n",
              "      <th>...</th>\n",
              "      <td>...</td>\n",
              "      <td>...</td>\n",
              "      <td>...</td>\n",
              "      <td>...</td>\n",
              "    </tr>\n",
              "    <tr>\n",
              "      <th>913885</th>\n",
              "      <td>2019-01-05T00:00:00+10:00</td>\n",
              "      <td>66010</td>\n",
              "      <td>12</td>\n",
              "      <td>2611</td>\n",
              "    </tr>\n",
              "    <tr>\n",
              "      <th>914567</th>\n",
              "      <td>2019-01-05T00:00:00+10:00</td>\n",
              "      <td>66010</td>\n",
              "      <td>19</td>\n",
              "      <td>7155</td>\n",
              "    </tr>\n",
              "    <tr>\n",
              "      <th>914807</th>\n",
              "      <td>2019-01-05T00:00:00+10:00</td>\n",
              "      <td>66010</td>\n",
              "      <td>24</td>\n",
              "      <td>1610</td>\n",
              "    </tr>\n",
              "    <tr>\n",
              "      <th>915493</th>\n",
              "      <td>2019-01-05T00:00:00+10:00</td>\n",
              "      <td>66010</td>\n",
              "      <td>31</td>\n",
              "      <td>1828</td>\n",
              "    </tr>\n",
              "    <tr>\n",
              "      <th>916398</th>\n",
              "      <td>2019-01-05T00:00:00+10:00</td>\n",
              "      <td>66010</td>\n",
              "      <td>27</td>\n",
              "      <td>1679</td>\n",
              "    </tr>\n",
              "  </tbody>\n",
              "</table>\n",
              "<p>401 rows × 4 columns</p>\n",
              "</div>"
            ],
            "text/plain": [
              "                 date_range_start  ... distance_traveled_from_home\n",
              "132081  2019-01-01T00:00:00+10:00  ...                        1048\n",
              "135041  2019-01-01T00:00:00+10:00  ...                           0\n",
              "135258  2019-01-01T00:00:00+10:00  ...                        3537\n",
              "137393  2019-01-01T00:00:00+10:00  ...                        5738\n",
              "139098  2019-01-01T00:00:00+10:00  ...                         600\n",
              "...                           ...  ...                         ...\n",
              "913885  2019-01-05T00:00:00+10:00  ...                        2611\n",
              "914567  2019-01-05T00:00:00+10:00  ...                        7155\n",
              "914807  2019-01-05T00:00:00+10:00  ...                        1610\n",
              "915493  2019-01-05T00:00:00+10:00  ...                        1828\n",
              "916398  2019-01-05T00:00:00+10:00  ...                        1679\n",
              "\n",
              "[401 rows x 4 columns]"
            ]
          },
          "metadata": {
            "tags": []
          },
          "execution_count": 39
        }
      ]
    },
    {
      "cell_type": "code",
      "metadata": {
        "id": "G5t9yjJExfjP",
        "colab_type": "code",
        "colab": {
          "base_uri": "https://localhost:8080/",
          "height": 419
        },
        "outputId": "a383d70b-6e1f-4549-db28-f5986cceecbc"
      },
      "source": [
        "firstMillionData[firstMillionData['county_code'] == 66010]"
      ],
      "execution_count": 40,
      "outputs": [
        {
          "output_type": "execute_result",
          "data": {
            "text/html": [
              "<div>\n",
              "<style scoped>\n",
              "    .dataframe tbody tr th:only-of-type {\n",
              "        vertical-align: middle;\n",
              "    }\n",
              "\n",
              "    .dataframe tbody tr th {\n",
              "        vertical-align: top;\n",
              "    }\n",
              "\n",
              "    .dataframe thead th {\n",
              "        text-align: right;\n",
              "    }\n",
              "</style>\n",
              "<table border=\"1\" class=\"dataframe\">\n",
              "  <thead>\n",
              "    <tr style=\"text-align: right;\">\n",
              "      <th></th>\n",
              "      <th>date_range_start</th>\n",
              "      <th>county_code</th>\n",
              "      <th>device_count</th>\n",
              "      <th>distance_traveled_from_home</th>\n",
              "    </tr>\n",
              "  </thead>\n",
              "  <tbody>\n",
              "    <tr>\n",
              "      <th>501</th>\n",
              "      <td>2019-01-01T00:00:00+10:00</td>\n",
              "      <td>66010</td>\n",
              "      <td>8</td>\n",
              "      <td>0</td>\n",
              "    </tr>\n",
              "    <tr>\n",
              "      <th>1967</th>\n",
              "      <td>2019-01-01T00:00:00+10:00</td>\n",
              "      <td>66010</td>\n",
              "      <td>11</td>\n",
              "      <td>110</td>\n",
              "    </tr>\n",
              "    <tr>\n",
              "      <th>3576</th>\n",
              "      <td>2019-01-01T00:00:00+10:00</td>\n",
              "      <td>66010</td>\n",
              "      <td>27</td>\n",
              "      <td>2656</td>\n",
              "    </tr>\n",
              "    <tr>\n",
              "      <th>4747</th>\n",
              "      <td>2019-01-01T00:00:00+10:00</td>\n",
              "      <td>66010</td>\n",
              "      <td>20</td>\n",
              "      <td>766</td>\n",
              "    </tr>\n",
              "    <tr>\n",
              "      <th>6407</th>\n",
              "      <td>2019-01-01T00:00:00+10:00</td>\n",
              "      <td>66010</td>\n",
              "      <td>17</td>\n",
              "      <td>0</td>\n",
              "    </tr>\n",
              "    <tr>\n",
              "      <th>...</th>\n",
              "      <td>...</td>\n",
              "      <td>...</td>\n",
              "      <td>...</td>\n",
              "      <td>...</td>\n",
              "    </tr>\n",
              "    <tr>\n",
              "      <th>993832</th>\n",
              "      <td>2019-01-05T00:00:00+10:00</td>\n",
              "      <td>66010</td>\n",
              "      <td>13</td>\n",
              "      <td>93</td>\n",
              "    </tr>\n",
              "    <tr>\n",
              "      <th>994036</th>\n",
              "      <td>2019-01-05T00:00:00+10:00</td>\n",
              "      <td>66010</td>\n",
              "      <td>18</td>\n",
              "      <td>0</td>\n",
              "    </tr>\n",
              "    <tr>\n",
              "      <th>994476</th>\n",
              "      <td>2019-01-05T00:00:00+10:00</td>\n",
              "      <td>66010</td>\n",
              "      <td>25</td>\n",
              "      <td>2204</td>\n",
              "    </tr>\n",
              "    <tr>\n",
              "      <th>994477</th>\n",
              "      <td>2019-01-05T00:00:00+10:00</td>\n",
              "      <td>66010</td>\n",
              "      <td>22</td>\n",
              "      <td>4669</td>\n",
              "    </tr>\n",
              "    <tr>\n",
              "      <th>999418</th>\n",
              "      <td>2019-01-05T00:00:00+10:00</td>\n",
              "      <td>66010</td>\n",
              "      <td>21</td>\n",
              "      <td>8174</td>\n",
              "    </tr>\n",
              "  </tbody>\n",
              "</table>\n",
              "<p>356 rows × 4 columns</p>\n",
              "</div>"
            ],
            "text/plain": [
              "                 date_range_start  ... distance_traveled_from_home\n",
              "501     2019-01-01T00:00:00+10:00  ...                           0\n",
              "1967    2019-01-01T00:00:00+10:00  ...                         110\n",
              "3576    2019-01-01T00:00:00+10:00  ...                        2656\n",
              "4747    2019-01-01T00:00:00+10:00  ...                         766\n",
              "6407    2019-01-01T00:00:00+10:00  ...                           0\n",
              "...                           ...  ...                         ...\n",
              "993832  2019-01-05T00:00:00+10:00  ...                          93\n",
              "994036  2019-01-05T00:00:00+10:00  ...                           0\n",
              "994476  2019-01-05T00:00:00+10:00  ...                        2204\n",
              "994477  2019-01-05T00:00:00+10:00  ...                        4669\n",
              "999418  2019-01-05T00:00:00+10:00  ...                        8174\n",
              "\n",
              "[356 rows x 4 columns]"
            ]
          },
          "metadata": {
            "tags": []
          },
          "execution_count": 40
        }
      ]
    },
    {
      "cell_type": "code",
      "metadata": {
        "id": "W5guBZb0wkty",
        "colab_type": "code",
        "colab": {}
      },
      "source": [
        "guamStringData = firstMillionData[firstMillionData['county_code'] == '66010']"
      ],
      "execution_count": 36,
      "outputs": []
    },
    {
      "cell_type": "code",
      "metadata": {
        "id": "P3pjAEjfxQyO",
        "colab_type": "code",
        "colab": {}
      },
      "source": [
        "guamIntData = firstMillionData[firstMillionData['county_code'] == 66010]"
      ],
      "execution_count": 37,
      "outputs": []
    },
    {
      "cell_type": "code",
      "metadata": {
        "id": "ImCR3x1Iwkly",
        "colab_type": "code",
        "colab": {}
      },
      "source": [
        "guamData = guamStringData.append(guamIntData, ignore_index=True)"
      ],
      "execution_count": 42,
      "outputs": []
    },
    {
      "cell_type": "code",
      "metadata": {
        "id": "53dWpprMxpdx",
        "colab_type": "code",
        "colab": {}
      },
      "source": [
        "guamData['device_count'] = pd.to_numeric(guamData['device_count'], errors='coerce')\n",
        "guamData['county_code'] = pd.to_numeric(guamData['county_code'], errors='coerce')\n",
        "guamData['distance_traveled_from_home'] = pd.to_numeric(guamData['distance_traveled_from_home'], errors='coerce')"
      ],
      "execution_count": 44,
      "outputs": []
    },
    {
      "cell_type": "code",
      "metadata": {
        "id": "lvYr6B-Zx4yn",
        "colab_type": "code",
        "colab": {
          "base_uri": "https://localhost:8080/",
          "height": 102
        },
        "outputId": "f08e0b70-c259-4f08-8acf-420e8b6b0195"
      },
      "source": [
        "guamData.dtypes"
      ],
      "execution_count": 45,
      "outputs": [
        {
          "output_type": "execute_result",
          "data": {
            "text/plain": [
              "date_range_start               object\n",
              "county_code                     int64\n",
              "device_count                    int64\n",
              "distance_traveled_from_home     int64\n",
              "dtype: object"
            ]
          },
          "metadata": {
            "tags": []
          },
          "execution_count": 45
        }
      ]
    },
    {
      "cell_type": "code",
      "metadata": {
        "id": "yWGbPyECyFqA",
        "colab_type": "code",
        "colab": {}
      },
      "source": [
        "wm = lambda x: np.average(x, weights= guamData.loc[x.index, \"device_count\"])"
      ],
      "execution_count": 46,
      "outputs": []
    },
    {
      "cell_type": "code",
      "metadata": {
        "id": "29ywxqqux6yg",
        "colab_type": "code",
        "colab": {
          "base_uri": "https://localhost:8080/",
          "height": 204
        },
        "outputId": "78dd85a6-361e-48f6-e574-2bdf02e9c8de"
      },
      "source": [
        "guamData.groupby(['date_range_start', 'county_code'])\\\n",
        "        .agg(device_count = ('device_count', 'sum'),\\\n",
        "             distance_traveled_from_home = ('distance_traveled_from_home', wm)).reset_index()"
      ],
      "execution_count": 47,
      "outputs": [
        {
          "output_type": "execute_result",
          "data": {
            "text/html": [
              "<div>\n",
              "<style scoped>\n",
              "    .dataframe tbody tr th:only-of-type {\n",
              "        vertical-align: middle;\n",
              "    }\n",
              "\n",
              "    .dataframe tbody tr th {\n",
              "        vertical-align: top;\n",
              "    }\n",
              "\n",
              "    .dataframe thead th {\n",
              "        text-align: right;\n",
              "    }\n",
              "</style>\n",
              "<table border=\"1\" class=\"dataframe\">\n",
              "  <thead>\n",
              "    <tr style=\"text-align: right;\">\n",
              "      <th></th>\n",
              "      <th>date_range_start</th>\n",
              "      <th>county_code</th>\n",
              "      <th>device_count</th>\n",
              "      <th>distance_traveled_from_home</th>\n",
              "    </tr>\n",
              "  </thead>\n",
              "  <tbody>\n",
              "    <tr>\n",
              "      <th>0</th>\n",
              "      <td>2019-01-01T00:00:00+10:00</td>\n",
              "      <td>66010</td>\n",
              "      <td>3006</td>\n",
              "      <td>1671.811045</td>\n",
              "    </tr>\n",
              "    <tr>\n",
              "      <th>1</th>\n",
              "      <td>2019-01-02T00:00:00+10:00</td>\n",
              "      <td>66010</td>\n",
              "      <td>2904</td>\n",
              "      <td>15212.669766</td>\n",
              "    </tr>\n",
              "    <tr>\n",
              "      <th>2</th>\n",
              "      <td>2019-01-03T00:00:00+10:00</td>\n",
              "      <td>66010</td>\n",
              "      <td>2925</td>\n",
              "      <td>1637.065983</td>\n",
              "    </tr>\n",
              "    <tr>\n",
              "      <th>3</th>\n",
              "      <td>2019-01-04T00:00:00+10:00</td>\n",
              "      <td>66010</td>\n",
              "      <td>3364</td>\n",
              "      <td>1573.140904</td>\n",
              "    </tr>\n",
              "    <tr>\n",
              "      <th>4</th>\n",
              "      <td>2019-01-05T00:00:00+10:00</td>\n",
              "      <td>66010</td>\n",
              "      <td>1940</td>\n",
              "      <td>1719.977835</td>\n",
              "    </tr>\n",
              "  </tbody>\n",
              "</table>\n",
              "</div>"
            ],
            "text/plain": [
              "            date_range_start  ...  distance_traveled_from_home\n",
              "0  2019-01-01T00:00:00+10:00  ...                  1671.811045\n",
              "1  2019-01-02T00:00:00+10:00  ...                 15212.669766\n",
              "2  2019-01-03T00:00:00+10:00  ...                  1637.065983\n",
              "3  2019-01-04T00:00:00+10:00  ...                  1573.140904\n",
              "4  2019-01-05T00:00:00+10:00  ...                  1719.977835\n",
              "\n",
              "[5 rows x 4 columns]"
            ]
          },
          "metadata": {
            "tags": []
          },
          "execution_count": 47
        }
      ]
    },
    {
      "cell_type": "markdown",
      "metadata": {
        "id": "757HjY-xFFhZ",
        "colab_type": "text"
      },
      "source": [
        "So our original dataset gives 1671 of distance on 2019-01-01 for Guam. Let'see if that is the case for aggregatedData."
      ]
    },
    {
      "cell_type": "code",
      "metadata": {
        "id": "1APxf3C-ubV7",
        "colab_type": "code",
        "colab": {
          "base_uri": "https://localhost:8080/",
          "height": 419
        },
        "outputId": "24cefa91-98b5-4efa-a6f9-e96b7cde2c66"
      },
      "source": [
        "aggregatedData[aggregatedData['county_code'] == 66010]"
      ],
      "execution_count": 18,
      "outputs": [
        {
          "output_type": "execute_result",
          "data": {
            "text/html": [
              "<div>\n",
              "<style scoped>\n",
              "    .dataframe tbody tr th:only-of-type {\n",
              "        vertical-align: middle;\n",
              "    }\n",
              "\n",
              "    .dataframe tbody tr th {\n",
              "        vertical-align: top;\n",
              "    }\n",
              "\n",
              "    .dataframe thead th {\n",
              "        text-align: right;\n",
              "    }\n",
              "</style>\n",
              "<table border=\"1\" class=\"dataframe\">\n",
              "  <thead>\n",
              "    <tr style=\"text-align: right;\">\n",
              "      <th></th>\n",
              "      <th>date_range_start</th>\n",
              "      <th>county_code</th>\n",
              "      <th>device_count</th>\n",
              "      <th>distance_traveled_from_home</th>\n",
              "    </tr>\n",
              "  </thead>\n",
              "  <tbody>\n",
              "    <tr>\n",
              "      <th>3143</th>\n",
              "      <td>2019-01-01</td>\n",
              "      <td>66010.0</td>\n",
              "      <td>3006.0</td>\n",
              "      <td>5025464.0</td>\n",
              "    </tr>\n",
              "    <tr>\n",
              "      <th>6371</th>\n",
              "      <td>2019-01-02</td>\n",
              "      <td>66010.0</td>\n",
              "      <td>2904.0</td>\n",
              "      <td>44177593.0</td>\n",
              "    </tr>\n",
              "    <tr>\n",
              "      <th>9599</th>\n",
              "      <td>2019-01-03</td>\n",
              "      <td>66010.0</td>\n",
              "      <td>2925.0</td>\n",
              "      <td>4788418.0</td>\n",
              "    </tr>\n",
              "    <tr>\n",
              "      <th>12827</th>\n",
              "      <td>2019-01-04</td>\n",
              "      <td>66010.0</td>\n",
              "      <td>3364.0</td>\n",
              "      <td>5292046.0</td>\n",
              "    </tr>\n",
              "    <tr>\n",
              "      <th>16055</th>\n",
              "      <td>2019-01-05</td>\n",
              "      <td>66010.0</td>\n",
              "      <td>3383.0</td>\n",
              "      <td>6306407.0</td>\n",
              "    </tr>\n",
              "    <tr>\n",
              "      <th>...</th>\n",
              "      <td>...</td>\n",
              "      <td>...</td>\n",
              "      <td>...</td>\n",
              "      <td>...</td>\n",
              "    </tr>\n",
              "    <tr>\n",
              "      <th>1877960</th>\n",
              "      <td>2020-08-04</td>\n",
              "      <td>66010.0</td>\n",
              "      <td>4712.0</td>\n",
              "      <td>23205415.0</td>\n",
              "    </tr>\n",
              "    <tr>\n",
              "      <th>1881187</th>\n",
              "      <td>2020-08-05</td>\n",
              "      <td>66010.0</td>\n",
              "      <td>4750.0</td>\n",
              "      <td>10777636.0</td>\n",
              "    </tr>\n",
              "    <tr>\n",
              "      <th>1884415</th>\n",
              "      <td>2020-08-06</td>\n",
              "      <td>66010.0</td>\n",
              "      <td>4882.0</td>\n",
              "      <td>11214204.0</td>\n",
              "    </tr>\n",
              "    <tr>\n",
              "      <th>1887643</th>\n",
              "      <td>2020-08-07</td>\n",
              "      <td>66010.0</td>\n",
              "      <td>4703.0</td>\n",
              "      <td>10791592.0</td>\n",
              "    </tr>\n",
              "    <tr>\n",
              "      <th>1890871</th>\n",
              "      <td>2020-08-08</td>\n",
              "      <td>66010.0</td>\n",
              "      <td>4757.0</td>\n",
              "      <td>11904579.0</td>\n",
              "    </tr>\n",
              "  </tbody>\n",
              "</table>\n",
              "<p>586 rows × 4 columns</p>\n",
              "</div>"
            ],
            "text/plain": [
              "        date_range_start  ...  distance_traveled_from_home\n",
              "3143          2019-01-01  ...                    5025464.0\n",
              "6371          2019-01-02  ...                   44177593.0\n",
              "9599          2019-01-03  ...                    4788418.0\n",
              "12827         2019-01-04  ...                    5292046.0\n",
              "16055         2019-01-05  ...                    6306407.0\n",
              "...                  ...  ...                          ...\n",
              "1877960       2020-08-04  ...                   23205415.0\n",
              "1881187       2020-08-05  ...                   10777636.0\n",
              "1884415       2020-08-06  ...                   11214204.0\n",
              "1887643       2020-08-07  ...                   10791592.0\n",
              "1890871       2020-08-08  ...                   11904579.0\n",
              "\n",
              "[586 rows x 4 columns]"
            ]
          },
          "metadata": {
            "tags": []
          },
          "execution_count": 18
        }
      ]
    },
    {
      "cell_type": "code",
      "metadata": {
        "id": "BGDFDHtoFNH5",
        "colab_type": "code",
        "colab": {}
      },
      "source": [
        "guamData = aggregatedData[aggregatedData['county_code'] == 66010]"
      ],
      "execution_count": 111,
      "outputs": []
    },
    {
      "cell_type": "code",
      "metadata": {
        "id": "ftUYEG45FXnM",
        "colab_type": "code",
        "colab": {
          "base_uri": "https://localhost:8080/",
          "height": 34
        },
        "outputId": "d1367f07-6bc7-4892-c6e8-05a9d5e7faab"
      },
      "source": [
        "guamData.iloc[0]['distance_traveled_from_home'] / guamData.iloc[0]['device_count'] "
      ],
      "execution_count": 114,
      "outputs": [
        {
          "output_type": "execute_result",
          "data": {
            "text/plain": [
              "1671.8110445775117"
            ]
          },
          "metadata": {
            "tags": []
          },
          "execution_count": 114
        }
      ]
    },
    {
      "cell_type": "markdown",
      "metadata": {
        "id": "bPCOMjmoFj2L",
        "colab_type": "text"
      },
      "source": [
        "This aggregatedData gives the same number 1671 for Guam on 2029-01-01 as the one given directly from original dataset. So we can trust our aggregation process."
      ]
    },
    {
      "cell_type": "markdown",
      "metadata": {
        "id": "JSN7yau1FtJ7",
        "colab_type": "text"
      },
      "source": [
        "Now we can plot the time series of mean distance traveled vs date."
      ]
    },
    {
      "cell_type": "code",
      "metadata": {
        "id": "GFzsaa6MvMhw",
        "colab_type": "code",
        "colab": {}
      },
      "source": [
        "import matplotlib.pyplot as plt"
      ],
      "execution_count": 28,
      "outputs": []
    },
    {
      "cell_type": "code",
      "metadata": {
        "id": "Jr5_8muTu0Y5",
        "colab_type": "code",
        "colab": {}
      },
      "source": [
        "# look at LA\n",
        "small_data = aggregatedData[aggregatedData['county_code'] == 6037]"
      ],
      "execution_count": 115,
      "outputs": []
    },
    {
      "cell_type": "code",
      "metadata": {
        "id": "kvG8NvolzCnZ",
        "colab_type": "code",
        "colab": {
          "base_uri": "https://localhost:8080/",
          "height": 419
        },
        "outputId": "e9ad3ac6-5dbc-4334-f464-8d0fada295e0"
      },
      "source": [
        "small_data"
      ],
      "execution_count": 116,
      "outputs": [
        {
          "output_type": "execute_result",
          "data": {
            "text/html": [
              "<div>\n",
              "<style scoped>\n",
              "    .dataframe tbody tr th:only-of-type {\n",
              "        vertical-align: middle;\n",
              "    }\n",
              "\n",
              "    .dataframe tbody tr th {\n",
              "        vertical-align: top;\n",
              "    }\n",
              "\n",
              "    .dataframe thead th {\n",
              "        text-align: right;\n",
              "    }\n",
              "</style>\n",
              "<table border=\"1\" class=\"dataframe\">\n",
              "  <thead>\n",
              "    <tr style=\"text-align: right;\">\n",
              "      <th></th>\n",
              "      <th>date_range_start</th>\n",
              "      <th>county_code</th>\n",
              "      <th>device_count</th>\n",
              "      <th>distance_traveled_from_home</th>\n",
              "    </tr>\n",
              "  </thead>\n",
              "  <tbody>\n",
              "    <tr>\n",
              "      <th>204</th>\n",
              "      <td>2019-01-01</td>\n",
              "      <td>6037.0</td>\n",
              "      <td>579809.0</td>\n",
              "      <td>1.682515e+09</td>\n",
              "    </tr>\n",
              "    <tr>\n",
              "      <th>3432</th>\n",
              "      <td>2019-01-02</td>\n",
              "      <td>6037.0</td>\n",
              "      <td>583477.0</td>\n",
              "      <td>1.881154e+09</td>\n",
              "    </tr>\n",
              "    <tr>\n",
              "      <th>6660</th>\n",
              "      <td>2019-01-03</td>\n",
              "      <td>6037.0</td>\n",
              "      <td>585075.0</td>\n",
              "      <td>1.453021e+09</td>\n",
              "    </tr>\n",
              "    <tr>\n",
              "      <th>9888</th>\n",
              "      <td>2019-01-04</td>\n",
              "      <td>6037.0</td>\n",
              "      <td>586509.0</td>\n",
              "      <td>1.494154e+09</td>\n",
              "    </tr>\n",
              "    <tr>\n",
              "      <th>13116</th>\n",
              "      <td>2019-01-05</td>\n",
              "      <td>6037.0</td>\n",
              "      <td>601512.0</td>\n",
              "      <td>1.515549e+09</td>\n",
              "    </tr>\n",
              "    <tr>\n",
              "      <th>...</th>\n",
              "      <td>...</td>\n",
              "      <td>...</td>\n",
              "      <td>...</td>\n",
              "      <td>...</td>\n",
              "    </tr>\n",
              "    <tr>\n",
              "      <th>1875021</th>\n",
              "      <td>2020-08-04</td>\n",
              "      <td>6037.0</td>\n",
              "      <td>399415.0</td>\n",
              "      <td>9.292363e+08</td>\n",
              "    </tr>\n",
              "    <tr>\n",
              "      <th>1878249</th>\n",
              "      <td>2020-08-05</td>\n",
              "      <td>6037.0</td>\n",
              "      <td>409204.0</td>\n",
              "      <td>1.060004e+09</td>\n",
              "    </tr>\n",
              "    <tr>\n",
              "      <th>1881476</th>\n",
              "      <td>2020-08-06</td>\n",
              "      <td>6037.0</td>\n",
              "      <td>415331.0</td>\n",
              "      <td>1.023325e+09</td>\n",
              "    </tr>\n",
              "    <tr>\n",
              "      <th>1884704</th>\n",
              "      <td>2020-08-07</td>\n",
              "      <td>6037.0</td>\n",
              "      <td>410583.0</td>\n",
              "      <td>1.103181e+09</td>\n",
              "    </tr>\n",
              "    <tr>\n",
              "      <th>1887932</th>\n",
              "      <td>2020-08-08</td>\n",
              "      <td>6037.0</td>\n",
              "      <td>401353.0</td>\n",
              "      <td>1.109489e+09</td>\n",
              "    </tr>\n",
              "  </tbody>\n",
              "</table>\n",
              "<p>586 rows × 4 columns</p>\n",
              "</div>"
            ],
            "text/plain": [
              "        date_range_start  ...  distance_traveled_from_home\n",
              "204           2019-01-01  ...                 1.682515e+09\n",
              "3432          2019-01-02  ...                 1.881154e+09\n",
              "6660          2019-01-03  ...                 1.453021e+09\n",
              "9888          2019-01-04  ...                 1.494154e+09\n",
              "13116         2019-01-05  ...                 1.515549e+09\n",
              "...                  ...  ...                          ...\n",
              "1875021       2020-08-04  ...                 9.292363e+08\n",
              "1878249       2020-08-05  ...                 1.060004e+09\n",
              "1881476       2020-08-06  ...                 1.023325e+09\n",
              "1884704       2020-08-07  ...                 1.103181e+09\n",
              "1887932       2020-08-08  ...                 1.109489e+09\n",
              "\n",
              "[586 rows x 4 columns]"
            ]
          },
          "metadata": {
            "tags": []
          },
          "execution_count": 116
        }
      ]
    },
    {
      "cell_type": "code",
      "metadata": {
        "id": "fIOWlUxhvEhK",
        "colab_type": "code",
        "colab": {
          "base_uri": "https://localhost:8080/",
          "height": 119
        },
        "outputId": "9d22eb6e-5368-41df-d036-2cd8d72c6459"
      },
      "source": [
        "small_data['mean_distance_traveled'] = small_data['distance_traveled_from_home'] / small_data['device_count']"
      ],
      "execution_count": 118,
      "outputs": [
        {
          "output_type": "stream",
          "text": [
            "/usr/local/lib/python3.6/dist-packages/ipykernel_launcher.py:1: SettingWithCopyWarning: \n",
            "A value is trying to be set on a copy of a slice from a DataFrame.\n",
            "Try using .loc[row_indexer,col_indexer] = value instead\n",
            "\n",
            "See the caveats in the documentation: https://pandas.pydata.org/pandas-docs/stable/user_guide/indexing.html#returning-a-view-versus-a-copy\n",
            "  \"\"\"Entry point for launching an IPython kernel.\n"
          ],
          "name": "stderr"
        }
      ]
    },
    {
      "cell_type": "code",
      "metadata": {
        "id": "AzdWz2ehvSBO",
        "colab_type": "code",
        "colab": {
          "base_uri": "https://localhost:8080/",
          "height": 609
        },
        "outputId": "848134eb-1c40-4f5b-ff93-e4b764496987"
      },
      "source": [
        "plt.figure(figsize = (10,10))\n",
        "plt.plot(small_data['date_range_start'], small_data['mean_distance_traveled'])"
      ],
      "execution_count": 119,
      "outputs": [
        {
          "output_type": "execute_result",
          "data": {
            "text/plain": [
              "[<matplotlib.lines.Line2D at 0x7f49ce42ef98>]"
            ]
          },
          "metadata": {
            "tags": []
          },
          "execution_count": 119
        },
        {
          "output_type": "display_data",
          "data": {
            "image/png": "[encoded data removed]",
            "text/plain": [
              "<Figure size 720x720 with 1 Axes>"
            ]
          },
          "metadata": {
            "tags": [],
            "needs_background": "light"
          }
        }
      ]
    },
    {
      "cell_type": "markdown",
      "metadata": {
        "id": "Lk--40FYG3lh",
        "colab_type": "text"
      },
      "source": [
        "We can see the distance traveled spiked from 2020-01-01 to 2020-04-01. Why do people travel more when pandamic is here?"
      ]
    },
    {
      "cell_type": "code",
      "metadata": {
        "id": "OFNJCCruHFXR",
        "colab_type": "code",
        "colab": {}
      },
      "source": [
        "# look at king county\n",
        "small_data = aggregatedData[aggregatedData['county_code'] == 53033]"
      ],
      "execution_count": 120,
      "outputs": []
    },
    {
      "cell_type": "code",
      "metadata": {
        "id": "dl5c3HPfHO3V",
        "colab_type": "code",
        "colab": {
          "base_uri": "https://localhost:8080/",
          "height": 119
        },
        "outputId": "f7c35fc3-7fc4-4906-d89f-4098516c7335"
      },
      "source": [
        "small_data['mean_distance_traveled'] = small_data['distance_traveled_from_home'] / small_data['device_count']"
      ],
      "execution_count": 121,
      "outputs": [
        {
          "output_type": "stream",
          "text": [
            "/usr/local/lib/python3.6/dist-packages/ipykernel_launcher.py:1: SettingWithCopyWarning: \n",
            "A value is trying to be set on a copy of a slice from a DataFrame.\n",
            "Try using .loc[row_indexer,col_indexer] = value instead\n",
            "\n",
            "See the caveats in the documentation: https://pandas.pydata.org/pandas-docs/stable/user_guide/indexing.html#returning-a-view-versus-a-copy\n",
            "  \"\"\"Entry point for launching an IPython kernel.\n"
          ],
          "name": "stderr"
        }
      ]
    },
    {
      "cell_type": "code",
      "metadata": {
        "id": "Bh3NbD8ZHQyY",
        "colab_type": "code",
        "colab": {
          "base_uri": "https://localhost:8080/",
          "height": 609
        },
        "outputId": "454adf04-f5d0-4fe2-8669-a39adf1447bc"
      },
      "source": [
        "plt.figure(figsize = (10,10))\n",
        "plt.plot(small_data['date_range_start'], small_data['mean_distance_traveled'])"
      ],
      "execution_count": 122,
      "outputs": [
        {
          "output_type": "execute_result",
          "data": {
            "text/plain": [
              "[<matplotlib.lines.Line2D at 0x7f49ce28bcf8>]"
            ]
          },
          "metadata": {
            "tags": []
          },
          "execution_count": 122
        },
        {
          "output_type": "display_data",
          "data": {
            "image/png": "[encoded data removed]",
            "text/plain": [
              "<Figure size 720x720 with 1 Axes>"
            ]
          },
          "metadata": {
            "tags": [],
            "needs_background": "light"
          }
        }
      ]
    },
    {
      "cell_type": "markdown",
      "metadata": {
        "id": "K9I7k_IAHUzT",
        "colab_type": "text"
      },
      "source": [
        "King county's data follows the same trajectory. the y-axis is meters traveled per day by the way."
      ]
    },
    {
      "cell_type": "markdown",
      "metadata": {
        "id": "FQKPk6RgHcWM",
        "colab_type": "text"
      },
      "source": [
        "Is this an anomaly? Maybe what we see is only King county and LA county? Let's compare mean distance for all the counties from 2020 January to March and the mean distance from March to May. "
      ]
    },
    {
      "cell_type": "code",
      "metadata": {
        "id": "f6DaQZpx-YAt",
        "colab_type": "code",
        "colab": {}
      },
      "source": [
        "data_from_1_to_3 = aggregatedData[(aggregatedData['date_range_start'] >= datetime(2020, 1, 1)) & \n",
        "                                  (aggregatedData['date_range_start'] <= datetime(2020, 3, 1))]"
      ],
      "execution_count": 80,
      "outputs": []
    },
    {
      "cell_type": "code",
      "metadata": {
        "id": "gS4wakwz_HXN",
        "colab_type": "code",
        "colab": {}
      },
      "source": [
        "data_from_3_to_5 = aggregatedData[(aggregatedData['date_range_start'] > datetime(2020, 3, 1)) & \n",
        "                                  (aggregatedData['date_range_start'] <= datetime(2020, 5, 1))]"
      ],
      "execution_count": 81,
      "outputs": []
    },
    {
      "cell_type": "code",
      "metadata": {
        "id": "XxN9Ty9h_MKw",
        "colab_type": "code",
        "colab": {
          "base_uri": "https://localhost:8080/",
          "height": 204
        },
        "outputId": "e541985e-0fb8-4eae-ff88-509f1b5fb7b3"
      },
      "source": [
        "data_from_1_to_3.head()"
      ],
      "execution_count": 82,
      "outputs": [
        {
          "output_type": "execute_result",
          "data": {
            "text/html": [
              "<div>\n",
              "<style scoped>\n",
              "    .dataframe tbody tr th:only-of-type {\n",
              "        vertical-align: middle;\n",
              "    }\n",
              "\n",
              "    .dataframe tbody tr th {\n",
              "        vertical-align: top;\n",
              "    }\n",
              "\n",
              "    .dataframe thead th {\n",
              "        text-align: right;\n",
              "    }\n",
              "</style>\n",
              "<table border=\"1\" class=\"dataframe\">\n",
              "  <thead>\n",
              "    <tr style=\"text-align: right;\">\n",
              "      <th></th>\n",
              "      <th>date_range_start</th>\n",
              "      <th>county_code</th>\n",
              "      <th>device_count</th>\n",
              "      <th>distance_traveled_from_home</th>\n",
              "    </tr>\n",
              "  </thead>\n",
              "  <tbody>\n",
              "    <tr>\n",
              "      <th>1177962</th>\n",
              "      <td>2020-01-01</td>\n",
              "      <td>1001.0</td>\n",
              "      <td>5501.0</td>\n",
              "      <td>54655284.0</td>\n",
              "    </tr>\n",
              "    <tr>\n",
              "      <th>1177963</th>\n",
              "      <td>2020-01-01</td>\n",
              "      <td>1003.0</td>\n",
              "      <td>20761.0</td>\n",
              "      <td>208217049.0</td>\n",
              "    </tr>\n",
              "    <tr>\n",
              "      <th>1177964</th>\n",
              "      <td>2020-01-01</td>\n",
              "      <td>1005.0</td>\n",
              "      <td>1660.0</td>\n",
              "      <td>12815121.0</td>\n",
              "    </tr>\n",
              "    <tr>\n",
              "      <th>1177965</th>\n",
              "      <td>2020-01-01</td>\n",
              "      <td>1007.0</td>\n",
              "      <td>2040.0</td>\n",
              "      <td>24223963.0</td>\n",
              "    </tr>\n",
              "    <tr>\n",
              "      <th>1177966</th>\n",
              "      <td>2020-01-01</td>\n",
              "      <td>1009.0</td>\n",
              "      <td>6206.0</td>\n",
              "      <td>69518936.0</td>\n",
              "    </tr>\n",
              "  </tbody>\n",
              "</table>\n",
              "</div>"
            ],
            "text/plain": [
              "        date_range_start  ...  distance_traveled_from_home\n",
              "1177962       2020-01-01  ...                   54655284.0\n",
              "1177963       2020-01-01  ...                  208217049.0\n",
              "1177964       2020-01-01  ...                   12815121.0\n",
              "1177965       2020-01-01  ...                   24223963.0\n",
              "1177966       2020-01-01  ...                   69518936.0\n",
              "\n",
              "[5 rows x 4 columns]"
            ]
          },
          "metadata": {
            "tags": []
          },
          "execution_count": 82
        }
      ]
    },
    {
      "cell_type": "code",
      "metadata": {
        "id": "Mdp2Hedz_NwY",
        "colab_type": "code",
        "colab": {
          "base_uri": "https://localhost:8080/",
          "height": 204
        },
        "outputId": "625305fa-1dbb-47cc-ae9c-82069fe007db"
      },
      "source": [
        "data_from_3_to_5.head()"
      ],
      "execution_count": 83,
      "outputs": [
        {
          "output_type": "execute_result",
          "data": {
            "text/html": [
              "<div>\n",
              "<style scoped>\n",
              "    .dataframe tbody tr th:only-of-type {\n",
              "        vertical-align: middle;\n",
              "    }\n",
              "\n",
              "    .dataframe tbody tr th {\n",
              "        vertical-align: top;\n",
              "    }\n",
              "\n",
              "    .dataframe thead th {\n",
              "        text-align: right;\n",
              "    }\n",
              "</style>\n",
              "<table border=\"1\" class=\"dataframe\">\n",
              "  <thead>\n",
              "    <tr style=\"text-align: right;\">\n",
              "      <th></th>\n",
              "      <th>date_range_start</th>\n",
              "      <th>county_code</th>\n",
              "      <th>device_count</th>\n",
              "      <th>distance_traveled_from_home</th>\n",
              "    </tr>\n",
              "  </thead>\n",
              "  <tbody>\n",
              "    <tr>\n",
              "      <th>1374786</th>\n",
              "      <td>2020-03-02</td>\n",
              "      <td>1001.0</td>\n",
              "      <td>6077.0</td>\n",
              "      <td>64030737.0</td>\n",
              "    </tr>\n",
              "    <tr>\n",
              "      <th>1374787</th>\n",
              "      <td>2020-03-02</td>\n",
              "      <td>1003.0</td>\n",
              "      <td>25887.0</td>\n",
              "      <td>708772239.0</td>\n",
              "    </tr>\n",
              "    <tr>\n",
              "      <th>1374788</th>\n",
              "      <td>2020-03-02</td>\n",
              "      <td>1005.0</td>\n",
              "      <td>1874.0</td>\n",
              "      <td>19281152.0</td>\n",
              "    </tr>\n",
              "    <tr>\n",
              "      <th>1374789</th>\n",
              "      <td>2020-03-02</td>\n",
              "      <td>1007.0</td>\n",
              "      <td>2327.0</td>\n",
              "      <td>29741260.0</td>\n",
              "    </tr>\n",
              "    <tr>\n",
              "      <th>1374790</th>\n",
              "      <td>2020-03-02</td>\n",
              "      <td>1009.0</td>\n",
              "      <td>6987.0</td>\n",
              "      <td>100145797.0</td>\n",
              "    </tr>\n",
              "  </tbody>\n",
              "</table>\n",
              "</div>"
            ],
            "text/plain": [
              "        date_range_start  ...  distance_traveled_from_home\n",
              "1374786       2020-03-02  ...                   64030737.0\n",
              "1374787       2020-03-02  ...                  708772239.0\n",
              "1374788       2020-03-02  ...                   19281152.0\n",
              "1374789       2020-03-02  ...                   29741260.0\n",
              "1374790       2020-03-02  ...                  100145797.0\n",
              "\n",
              "[5 rows x 4 columns]"
            ]
          },
          "metadata": {
            "tags": []
          },
          "execution_count": 83
        }
      ]
    },
    {
      "cell_type": "code",
      "metadata": {
        "id": "CN_vCmKO_PhO",
        "colab_type": "code",
        "colab": {
          "base_uri": "https://localhost:8080/",
          "height": 34
        },
        "outputId": "8da8b067-4411-464c-c8ef-56a5a5043169"
      },
      "source": [
        "data_from_1_to_3['distance_traveled_from_home'].sum() / data_from_1_to_3['device_count'].sum()"
      ],
      "execution_count": 87,
      "outputs": [
        {
          "output_type": "execute_result",
          "data": {
            "text/plain": [
              "9586.87184912101"
            ]
          },
          "metadata": {
            "tags": []
          },
          "execution_count": 87
        }
      ]
    },
    {
      "cell_type": "code",
      "metadata": {
        "id": "9pR1j2NR_a24",
        "colab_type": "code",
        "colab": {
          "base_uri": "https://localhost:8080/",
          "height": 34
        },
        "outputId": "3f813057-6f19-4fb1-a8dc-5c6f964305d6"
      },
      "source": [
        "data_from_3_to_5['distance_traveled_from_home'].sum() / data_from_3_to_5['device_count'].sum()"
      ],
      "execution_count": 88,
      "outputs": [
        {
          "output_type": "execute_result",
          "data": {
            "text/plain": [
              "10604.962580333793"
            ]
          },
          "metadata": {
            "tags": []
          },
          "execution_count": 88
        }
      ]
    },
    {
      "cell_type": "markdown",
      "metadata": {
        "id": "SdqdlezIH5Qb",
        "colab_type": "text"
      },
      "source": [
        "As we can see from Jaunary to March 2020, people travel 9586 meters per day averaged over all counties, and from March to May, it is 10604, so people's traveling behavior increased.. Why?!"
      ]
    }
  ]
}