{
  "nbformat": 4,
  "nbformat_minor": 0,
  "metadata": {
    "colab": {
      "name": "propensity_score_matching_after_SIP.ipynb",
      "provenance": [],
      "collapsed_sections": [],
      "mount_file_id": "1Afh38L_10e4-Gy6gySAi0kWR3-XGtJh7",
      "authorship_tag": "ABX9TyMXC42wxTdqjHmq1LwFXmfx",
      "include_colab_link": true
    },
    "kernelspec": {
      "name": "python3",
      "display_name": "Python 3"
    }
  },
  "cells": [
    {
      "cell_type": "markdown",
      "metadata": {
        "id": "view-in-github",
        "colab_type": "text"
      },
      "source": [
        "<a href=\"https://colab.research.google.com/github/wenjunsun/Covid-19-analysis-with-uw-ubicomp/blob/master/week10/propensity_score_matching_after_SIP.ipynb\" target=\"_parent\"><img src=\"https://colab.research.google.com/assets/colab-badge.svg\" alt=\"Open In Colab\"/></a>"
      ]
    },
    {
      "cell_type": "markdown",
      "metadata": {
        "id": "Go0PbYDQ6t-i",
        "colab_type": "text"
      },
      "source": [
        "This notebook does PSM using more covariates including % White, % Hispanic. And the data with <= 200 device_counts are filtered out, using last year's data as baseline, rather than using 2020-01-01 to first case as baseline. This way we factor in seasonal effects. \n",
        "\n",
        "**We are now using shelter in place date for comparison of behavior - it used to be we measure difference after first case this year vs last year same date, now we are measuring difference after shelter in place vs last year.** "
      ]
    },
    {
      "cell_type": "markdown",
      "metadata": {
        "id": "eBe0EYsa8ABU",
        "colab_type": "text"
      },
      "source": [
        "# 0. load some R packages"
      ]
    },
    {
      "cell_type": "code",
      "metadata": {
        "id": "gfSZriwD6rAO",
        "colab_type": "code",
        "colab": {
          "base_uri": "https://localhost:8080/",
          "height": 0
        },
        "outputId": "e1b3c76f-a4a6-450c-b71b-0a6123c0188f"
      },
      "source": [
        "cd drive/My\\ Drive/week8"
      ],
      "execution_count": 1,
      "outputs": [
        {
          "output_type": "stream",
          "text": [
            "/content/drive/My Drive/week8\n"
          ],
          "name": "stdout"
        }
      ]
    },
    {
      "cell_type": "code",
      "metadata": {
        "id": "q0LINEA-7nzt",
        "colab_type": "code",
        "colab": {}
      },
      "source": [
        "# if we don't do this there will be annoying warnings\n",
        "# for using some of the R in jupyter...\n",
        "import warnings\n",
        "from rpy2.rinterface import RRuntimeWarning\n",
        "warnings.filterwarnings('ignore', category = FutureWarning)\n",
        "warnings.filterwarnings('ignore', category = RRuntimeWarning)"
      ],
      "execution_count": 2,
      "outputs": []
    },
    {
      "cell_type": "code",
      "metadata": {
        "id": "Priua0Mj7sJR",
        "colab_type": "code",
        "colab": {
          "base_uri": "https://localhost:8080/",
          "height": 0
        },
        "outputId": "9b20ef31-b373-4540-be8a-9ee92db9a54c"
      },
      "source": [
        "# enable R to python in Colab\n",
        "%load_ext rpy2.ipython"
      ],
      "execution_count": 3,
      "outputs": [
        {
          "output_type": "stream",
          "text": [
            "/usr/local/lib/python3.6/dist-packages/rpy2/robjects/pandas2ri.py:34: UserWarning: pandas >= 1.0 is not supported.\n",
            "  warnings.warn('pandas >= 1.0 is not supported.')\n"
          ],
          "name": "stderr"
        }
      ]
    },
    {
      "cell_type": "code",
      "metadata": {
        "id": "1WLJ1X6j7tCW",
        "colab_type": "code",
        "colab": {}
      },
      "source": [
        "import numpy as np\n",
        "import pandas as pd\n",
        "\n",
        "# For (automatic) translation of Pandas objects to R\n",
        "from rpy2.robjects import pandas2ri\n",
        "pandas2ri.activate()"
      ],
      "execution_count": 4,
      "outputs": []
    },
    {
      "cell_type": "code",
      "metadata": {
        "id": "grppq9Oe70sd",
        "colab_type": "code",
        "colab": {
          "base_uri": "https://localhost:8080/",
          "height": 0
        },
        "outputId": "0a611351-eb02-4949-8a5c-824356db4e3e"
      },
      "source": [
        "%%R\n",
        "# install standard propensity matching library in R \n",
        "install.packages(\"MatchIt\")"
      ],
      "execution_count": 5,
      "outputs": [
        {
          "output_type": "stream",
          "text": [
            "R[write to console]: Installing package into ‘/usr/local/lib/R/site-library’\n",
            "(as ‘lib’ is unspecified)\n",
            "\n",
            "R[write to console]: also installing the dependency ‘Matching’\n",
            "\n",
            "\n",
            "R[write to console]: trying URL 'https://cran.rstudio.com/src/contrib/Matching_4.9-7.tar.gz'\n",
            "\n",
            "R[write to console]: Content type 'application/x-gzip'\n",
            "R[write to console]:  length 298404 bytes (291 KB)\n",
            "\n",
            "R[write to console]: =\n",
            "R[write to console]: =\n",
            "R[write to console]: =\n",
            "R[write to console]: =\n",
            "R[write to console]: =\n",
            "R[write to console]: =\n",
            "R[write to console]: =\n",
            "R[write to console]: =\n",
            "R[write to console]: =\n",
            "R[write to console]: =\n",
            "R[write to console]: =\n",
            "R[write to console]: =\n",
            "R[write to console]: =\n",
            "R[write to console]: =\n",
            "R[write to console]: =\n",
            "R[write to console]: =\n",
            "R[write to console]: =\n",
            "R[write to console]: =\n",
            "R[write to console]: =\n",
            "R[write to console]: =\n",
            "R[write to console]: =\n",
            "R[write to console]: =\n",
            "R[write to console]: =\n",
            "R[write to console]: =\n",
            "R[write to console]: =\n",
            "R[write to console]: =\n",
            "R[write to console]: =\n",
            "R[write to console]: =\n",
            "R[write to console]: =\n",
            "R[write to console]: =\n",
            "R[write to console]: =\n",
            "R[write to console]: =\n",
            "R[write to console]: =\n",
            "R[write to console]: =\n",
            "R[write to console]: =\n",
            "R[write to console]: =\n",
            "R[write to console]: =\n",
            "R[write to console]: =\n",
            "R[write to console]: =\n",
            "R[write to console]: =\n",
            "R[write to console]: =\n",
            "R[write to console]: =\n",
            "R[write to console]: =\n",
            "R[write to console]: =\n",
            "R[write to console]: =\n",
            "R[write to console]: =\n",
            "R[write to console]: =\n",
            "R[write to console]: =\n",
            "R[write to console]: =\n",
            "R[write to console]: =\n",
            "R[write to console]: \n",
            "\n",
            "R[write to console]: downloaded 291 KB\n",
            "\n",
            "\n",
            "R[write to console]: trying URL 'https://cran.rstudio.com/src/contrib/MatchIt_3.0.2.tar.gz'\n",
            "\n",
            "R[write to console]: Content type 'application/x-gzip'\n",
            "R[write to console]:  length 317607 bytes (310 KB)\n",
            "\n",
            "R[write to console]: =\n",
            "R[write to console]: =\n",
            "R[write to console]: =\n",
            "R[write to console]: =\n",
            "R[write to console]: =\n",
            "R[write to console]: =\n",
            "R[write to console]: =\n",
            "R[write to console]: =\n",
            "R[write to console]: =\n",
            "R[write to console]: =\n",
            "R[write to console]: =\n",
            "R[write to console]: =\n",
            "R[write to console]: =\n",
            "R[write to console]: =\n",
            "R[write to console]: =\n",
            "R[write to console]: =\n",
            "R[write to console]: =\n",
            "R[write to console]: =\n",
            "R[write to console]: =\n",
            "R[write to console]: =\n",
            "R[write to console]: =\n",
            "R[write to console]: =\n",
            "R[write to console]: =\n",
            "R[write to console]: =\n",
            "R[write to console]: =\n",
            "R[write to console]: =\n",
            "R[write to console]: =\n",
            "R[write to console]: =\n",
            "R[write to console]: =\n",
            "R[write to console]: =\n",
            "R[write to console]: =\n",
            "R[write to console]: =\n",
            "R[write to console]: =\n",
            "R[write to console]: =\n",
            "R[write to console]: =\n",
            "R[write to console]: =\n",
            "R[write to console]: =\n",
            "R[write to console]: =\n",
            "R[write to console]: =\n",
            "R[write to console]: =\n",
            "R[write to console]: =\n",
            "R[write to console]: =\n",
            "R[write to console]: =\n",
            "R[write to console]: =\n",
            "R[write to console]: =\n",
            "R[write to console]: =\n",
            "R[write to console]: =\n",
            "R[write to console]: =\n",
            "R[write to console]: =\n",
            "R[write to console]: =\n",
            "R[write to console]: \n",
            "\n",
            "R[write to console]: downloaded 310 KB\n",
            "\n",
            "\n",
            "R[write to console]: \n",
            "\n",
            "R[write to console]: \n",
            "R[write to console]: The downloaded source packages are in\n",
            "\t‘/tmp/Rtmp30wqSa/downloaded_packages’\n",
            "R[write to console]: \n",
            "R[write to console]: \n",
            "\n"
          ],
          "name": "stderr"
        }
      ]
    },
    {
      "cell_type": "code",
      "metadata": {
        "id": "Lw42War072bx",
        "colab_type": "code",
        "colab": {}
      },
      "source": [
        "%%R\n",
        "# load MatchIt package\n",
        "library(MatchIt)"
      ],
      "execution_count": 6,
      "outputs": []
    },
    {
      "cell_type": "code",
      "metadata": {
        "id": "g7tOvp0b79Jk",
        "colab_type": "code",
        "colab": {
          "base_uri": "https://localhost:8080/",
          "height": 0
        },
        "outputId": "8603e945-a93e-4972-baa2-78562233f04a"
      },
      "source": [
        "%%R\n",
        "# install Coarsened Exact Matching package\n",
        "install.packages('cem')\n",
        "library(cem)"
      ],
      "execution_count": 7,
      "outputs": [
        {
          "output_type": "stream",
          "text": [
            "R[write to console]: Installing package into ‘/usr/local/lib/R/site-library’\n",
            "(as ‘lib’ is unspecified)\n",
            "\n",
            "R[write to console]: also installing the dependencies ‘combinat’, ‘randomForest’\n",
            "\n",
            "\n",
            "R[write to console]: trying URL 'https://cran.rstudio.com/src/contrib/combinat_0.0-8.tar.gz'\n",
            "\n",
            "R[write to console]: Content type 'application/x-gzip'\n",
            "R[write to console]:  length 9197 bytes\n",
            "\n",
            "R[write to console]: =\n",
            "R[write to console]: =\n",
            "R[write to console]: =\n",
            "R[write to console]: =\n",
            "R[write to console]: =\n",
            "R[write to console]: =\n",
            "R[write to console]: =\n",
            "R[write to console]: =\n",
            "R[write to console]: =\n",
            "R[write to console]: =\n",
            "R[write to console]: =\n",
            "R[write to console]: =\n",
            "R[write to console]: =\n",
            "R[write to console]: =\n",
            "R[write to console]: =\n",
            "R[write to console]: =\n",
            "R[write to console]: =\n",
            "R[write to console]: =\n",
            "R[write to console]: =\n",
            "R[write to console]: =\n",
            "R[write to console]: =\n",
            "R[write to console]: =\n",
            "R[write to console]: =\n",
            "R[write to console]: =\n",
            "R[write to console]: =\n",
            "R[write to console]: =\n",
            "R[write to console]: =\n",
            "R[write to console]: =\n",
            "R[write to console]: =\n",
            "R[write to console]: =\n",
            "R[write to console]: =\n",
            "R[write to console]: =\n",
            "R[write to console]: =\n",
            "R[write to console]: =\n",
            "R[write to console]: =\n",
            "R[write to console]: =\n",
            "R[write to console]: =\n",
            "R[write to console]: =\n",
            "R[write to console]: =\n",
            "R[write to console]: =\n",
            "R[write to console]: =\n",
            "R[write to console]: =\n",
            "R[write to console]: =\n",
            "R[write to console]: =\n",
            "R[write to console]: =\n",
            "R[write to console]: =\n",
            "R[write to console]: =\n",
            "R[write to console]: =\n",
            "R[write to console]: =\n",
            "R[write to console]: =\n",
            "R[write to console]: \n",
            "\n",
            "R[write to console]: downloaded 9197 bytes\n",
            "\n",
            "\n",
            "R[write to console]: trying URL 'https://cran.rstudio.com/src/contrib/randomForest_4.6-14.tar.gz'\n",
            "\n",
            "R[write to console]: Content type 'application/x-gzip'\n",
            "R[write to console]:  length 80074 bytes (78 KB)\n",
            "\n",
            "R[write to console]: =\n",
            "R[write to console]: =\n",
            "R[write to console]: =\n",
            "R[write to console]: =\n",
            "R[write to console]: =\n",
            "R[write to console]: =\n",
            "R[write to console]: =\n",
            "R[write to console]: =\n",
            "R[write to console]: =\n",
            "R[write to console]: =\n",
            "R[write to console]: =\n",
            "R[write to console]: =\n",
            "R[write to console]: =\n",
            "R[write to console]: =\n",
            "R[write to console]: =\n",
            "R[write to console]: =\n",
            "R[write to console]: =\n",
            "R[write to console]: =\n",
            "R[write to console]: =\n",
            "R[write to console]: =\n",
            "R[write to console]: =\n",
            "R[write to console]: =\n",
            "R[write to console]: =\n",
            "R[write to console]: =\n",
            "R[write to console]: =\n",
            "R[write to console]: =\n",
            "R[write to console]: =\n",
            "R[write to console]: =\n",
            "R[write to console]: =\n",
            "R[write to console]: =\n",
            "R[write to console]: =\n",
            "R[write to console]: =\n",
            "R[write to console]: =\n",
            "R[write to console]: =\n",
            "R[write to console]: =\n",
            "R[write to console]: =\n",
            "R[write to console]: =\n",
            "R[write to console]: =\n",
            "R[write to console]: =\n",
            "R[write to console]: =\n",
            "R[write to console]: =\n",
            "R[write to console]: =\n",
            "R[write to console]: =\n",
            "R[write to console]: =\n",
            "R[write to console]: =\n",
            "R[write to console]: =\n",
            "R[write to console]: =\n",
            "R[write to console]: =\n",
            "R[write to console]: =\n",
            "R[write to console]: =\n",
            "R[write to console]: \n",
            "\n",
            "R[write to console]: downloaded 78 KB\n",
            "\n",
            "\n",
            "R[write to console]: trying URL 'https://cran.rstudio.com/src/contrib/cem_1.1.20.tar.gz'\n",
            "\n",
            "R[write to console]: Content type 'application/x-gzip'\n",
            "R[write to console]:  length 2153944 bytes (2.1 MB)\n",
            "\n",
            "R[write to console]: =\n",
            "R[write to console]: =\n",
            "R[write to console]: =\n",
            "R[write to console]: =\n",
            "R[write to console]: =\n",
            "R[write to console]: =\n",
            "R[write to console]: =\n",
            "R[write to console]: =\n",
            "R[write to console]: =\n",
            "R[write to console]: =\n",
            "R[write to console]: =\n",
            "R[write to console]: =\n",
            "R[write to console]: =\n",
            "R[write to console]: =\n",
            "R[write to console]: =\n",
            "R[write to console]: =\n",
            "R[write to console]: =\n",
            "R[write to console]: =\n",
            "R[write to console]: =\n",
            "R[write to console]: =\n",
            "R[write to console]: =\n",
            "R[write to console]: =\n",
            "R[write to console]: =\n",
            "R[write to console]: =\n",
            "R[write to console]: =\n",
            "R[write to console]: =\n",
            "R[write to console]: =\n",
            "R[write to console]: =\n",
            "R[write to console]: =\n",
            "R[write to console]: =\n",
            "R[write to console]: =\n",
            "R[write to console]: =\n",
            "R[write to console]: =\n",
            "R[write to console]: =\n",
            "R[write to console]: =\n",
            "R[write to console]: =\n",
            "R[write to console]: =\n",
            "R[write to console]: =\n",
            "R[write to console]: =\n",
            "R[write to console]: =\n",
            "R[write to console]: =\n",
            "R[write to console]: =\n",
            "R[write to console]: =\n",
            "R[write to console]: =\n",
            "R[write to console]: =\n",
            "R[write to console]: =\n",
            "R[write to console]: =\n",
            "R[write to console]: =\n",
            "R[write to console]: =\n",
            "R[write to console]: =\n",
            "R[write to console]: \n",
            "\n",
            "R[write to console]: downloaded 2.1 MB\n",
            "\n",
            "\n",
            "R[write to console]: \n",
            "\n",
            "R[write to console]: \n",
            "R[write to console]: The downloaded source packages are in\n",
            "\t‘/tmp/Rtmp30wqSa/downloaded_packages’\n",
            "R[write to console]: \n",
            "R[write to console]: \n",
            "\n",
            "R[write to console]: Loading required package: tcltk\n",
            "\n",
            "R[write to console]: Loading required package: lattice\n",
            "\n",
            "R[write to console]: \n",
            "How to use CEM? Type vignette(\"cem\")\n",
            "\n",
            "\n"
          ],
          "name": "stderr"
        }
      ]
    },
    {
      "cell_type": "markdown",
      "metadata": {
        "id": "wm0tc3US8QB5",
        "colab_type": "text"
      },
      "source": [
        "# 1. Propensity score matching with new data without low device count + new covariates"
      ]
    },
    {
      "cell_type": "code",
      "metadata": {
        "id": "jTMpER4x8mTt",
        "colab_type": "code",
        "colab": {
          "base_uri": "https://localhost:8080/",
          "height": 442
        },
        "outputId": "65e0154d-959d-4c3e-e2f9-5aebcf334019"
      },
      "source": [
        "ls"
      ],
      "execution_count": 8,
      "outputs": [
        {
          "output_type": "stream",
          "text": [
            " 2016_US_County_Level_Presidential_Results.csv\n",
            " 2019_data.csv\n",
            "'2020 County Health Rankings Data - Additional Measure Data.csv'\n",
            "'2020 County Health Rankings Data - Ranked Measure Data.csv'\n",
            " 2020_data.csv\n",
            " check_if_data_is_alright.ipynb\n",
            "'Copy of agg_social_dist_2.csv'\n",
            " county_data_with_covariates.csv\n",
            " county_data_with_reduced_covariates.csv\n",
            " county_data_with_reduced_covariates_up_to_2020-8-8.csv\n",
            " county_data_with_reduced_covariates_with_SIP.csv\n",
            " data_2019_agg.csv\n",
            " data_2020_agg.csv\n",
            " data_for_propensity.csv\n",
            " days_since.csv\n",
            " merged_data.csv\n",
            " prepare_data_with_SIP_date.ipynb\n",
            " prepare_new_data.ipynb\n",
            " propensity_score_matching_new_data.ipynb\n",
            " social_dist_aggregated_on_county.csv\n",
            " social_dist_all_trimmed.csv\n",
            " social_dist_all_trimmed_new.csv\n",
            " social_dist_low_device_count_filtered.csv\n",
            " social_dist_reduced.csv\n",
            " us_states_governors.csv\n"
          ],
          "name": "stdout"
        }
      ]
    },
    {
      "cell_type": "code",
      "metadata": {
        "id": "nbcn4ToM8M6N",
        "colab_type": "code",
        "colab": {}
      },
      "source": [
        "dataframe = pd.read_csv(\"county_data_with_reduced_covariates_with_SIP.csv\")"
      ],
      "execution_count": 9,
      "outputs": []
    },
    {
      "cell_type": "code",
      "metadata": {
        "id": "DTt2Viiz8n9h",
        "colab_type": "code",
        "colab": {
          "base_uri": "https://localhost:8080/",
          "height": 411
        },
        "outputId": "b4a5cd6f-bd6a-41bd-8f19-656ef738227d"
      },
      "source": [
        "# look at our data\n",
        "dataframe.head()"
      ],
      "execution_count": 10,
      "outputs": [
        {
          "output_type": "execute_result",
          "data": {
            "text/html": [
              "<div>\n",
              "<style scoped>\n",
              "    .dataframe tbody tr th:only-of-type {\n",
              "        vertical-align: middle;\n",
              "    }\n",
              "\n",
              "    .dataframe tbody tr th {\n",
              "        vertical-align: top;\n",
              "    }\n",
              "\n",
              "    .dataframe thead th {\n",
              "        text-align: right;\n",
              "    }\n",
              "</style>\n",
              "<table border=\"1\" class=\"dataframe\">\n",
              "  <thead>\n",
              "    <tr style=\"text-align: right;\">\n",
              "      <th></th>\n",
              "      <th>state</th>\n",
              "      <th>state_code</th>\n",
              "      <th>State Name</th>\n",
              "      <th>cnamelong</th>\n",
              "      <th>county_code</th>\n",
              "      <th>diff_in_perc_at_home</th>\n",
              "      <th>SIP?</th>\n",
              "      <th>Median Household Income</th>\n",
              "      <th>% Rural</th>\n",
              "      <th>Population_y</th>\n",
              "      <th>political_diff</th>\n",
              "      <th>% less than 18 years of age</th>\n",
              "      <th>% 65 and over</th>\n",
              "      <th>% Asian</th>\n",
              "      <th>% Black</th>\n",
              "      <th>% Hispanic</th>\n",
              "      <th>% Non-Hispanic White</th>\n",
              "    </tr>\n",
              "  </thead>\n",
              "  <tbody>\n",
              "    <tr>\n",
              "      <th>0</th>\n",
              "      <td>1.0</td>\n",
              "      <td>AL</td>\n",
              "      <td>Alabama</td>\n",
              "      <td>Autauga County</td>\n",
              "      <td>1001.0</td>\n",
              "      <td>0.050678</td>\n",
              "      <td>1</td>\n",
              "      <td>59338.0</td>\n",
              "      <td>42.0</td>\n",
              "      <td>55601</td>\n",
              "      <td>-0.494789</td>\n",
              "      <td>23.7</td>\n",
              "      <td>15.6</td>\n",
              "      <td>1.2</td>\n",
              "      <td>19.3</td>\n",
              "      <td>3.0</td>\n",
              "      <td>74.3</td>\n",
              "    </tr>\n",
              "    <tr>\n",
              "      <th>1</th>\n",
              "      <td>1.0</td>\n",
              "      <td>AL</td>\n",
              "      <td>Alabama</td>\n",
              "      <td>Baldwin County</td>\n",
              "      <td>1003.0</td>\n",
              "      <td>0.050312</td>\n",
              "      <td>1</td>\n",
              "      <td>57588.0</td>\n",
              "      <td>42.3</td>\n",
              "      <td>218022</td>\n",
              "      <td>-0.577862</td>\n",
              "      <td>21.6</td>\n",
              "      <td>20.4</td>\n",
              "      <td>1.2</td>\n",
              "      <td>8.8</td>\n",
              "      <td>4.6</td>\n",
              "      <td>83.1</td>\n",
              "    </tr>\n",
              "    <tr>\n",
              "      <th>2</th>\n",
              "      <td>1.0</td>\n",
              "      <td>AL</td>\n",
              "      <td>Alabama</td>\n",
              "      <td>Barbour County</td>\n",
              "      <td>1005.0</td>\n",
              "      <td>0.007037</td>\n",
              "      <td>1</td>\n",
              "      <td>34382.0</td>\n",
              "      <td>67.8</td>\n",
              "      <td>24881</td>\n",
              "      <td>-0.056112</td>\n",
              "      <td>20.9</td>\n",
              "      <td>19.4</td>\n",
              "      <td>0.5</td>\n",
              "      <td>48.0</td>\n",
              "      <td>4.3</td>\n",
              "      <td>45.6</td>\n",
              "    </tr>\n",
              "    <tr>\n",
              "      <th>3</th>\n",
              "      <td>1.0</td>\n",
              "      <td>AL</td>\n",
              "      <td>Alabama</td>\n",
              "      <td>Bibb County</td>\n",
              "      <td>1007.0</td>\n",
              "      <td>0.011809</td>\n",
              "      <td>1</td>\n",
              "      <td>46064.0</td>\n",
              "      <td>68.4</td>\n",
              "      <td>22400</td>\n",
              "      <td>-0.555441</td>\n",
              "      <td>20.5</td>\n",
              "      <td>16.5</td>\n",
              "      <td>0.2</td>\n",
              "      <td>21.1</td>\n",
              "      <td>2.6</td>\n",
              "      <td>74.6</td>\n",
              "    </tr>\n",
              "    <tr>\n",
              "      <th>4</th>\n",
              "      <td>1.0</td>\n",
              "      <td>AL</td>\n",
              "      <td>Alabama</td>\n",
              "      <td>Blount County</td>\n",
              "      <td>1009.0</td>\n",
              "      <td>0.038890</td>\n",
              "      <td>1</td>\n",
              "      <td>50412.0</td>\n",
              "      <td>90.0</td>\n",
              "      <td>57840</td>\n",
              "      <td>-0.813820</td>\n",
              "      <td>23.2</td>\n",
              "      <td>18.2</td>\n",
              "      <td>0.3</td>\n",
              "      <td>1.5</td>\n",
              "      <td>9.6</td>\n",
              "      <td>86.9</td>\n",
              "    </tr>\n",
              "  </tbody>\n",
              "</table>\n",
              "</div>"
            ],
            "text/plain": [
              "   state state_code State Name  ... % Black  % Hispanic  % Non-Hispanic White\n",
              "0    1.0         AL    Alabama  ...    19.3         3.0                  74.3\n",
              "1    1.0         AL    Alabama  ...     8.8         4.6                  83.1\n",
              "2    1.0         AL    Alabama  ...    48.0         4.3                  45.6\n",
              "3    1.0         AL    Alabama  ...    21.1         2.6                  74.6\n",
              "4    1.0         AL    Alabama  ...     1.5         9.6                  86.9\n",
              "\n",
              "[5 rows x 17 columns]"
            ]
          },
          "metadata": {
            "tags": []
          },
          "execution_count": 10
        }
      ]
    },
    {
      "cell_type": "code",
      "metadata": {
        "id": "7puwnIEx8qv_",
        "colab_type": "code",
        "colab": {
          "base_uri": "https://localhost:8080/",
          "height": 34
        },
        "outputId": "378cf96c-cf90-43f4-908c-74c18cb86f40"
      },
      "source": [
        "print(f\"this dataset has {dataframe.shape[0]} records.\")"
      ],
      "execution_count": 11,
      "outputs": [
        {
          "output_type": "stream",
          "text": [
            "this dataset has 2996 records.\n"
          ],
          "name": "stdout"
        }
      ]
    },
    {
      "cell_type": "code",
      "metadata": {
        "id": "I05_om6s9637",
        "colab_type": "code",
        "colab": {}
      },
      "source": [
        "dataframe.dropna(inplace=True)"
      ],
      "execution_count": 12,
      "outputs": []
    },
    {
      "cell_type": "code",
      "metadata": {
        "id": "UHcu5cp_9-M0",
        "colab_type": "code",
        "colab": {
          "base_uri": "https://localhost:8080/",
          "height": 34
        },
        "outputId": "caa56d54-d298-45f5-c262-937c9ca4b747"
      },
      "source": [
        "print(f\"after dropping this dataset has {dataframe.shape[0]} records.\")"
      ],
      "execution_count": 13,
      "outputs": [
        {
          "output_type": "stream",
          "text": [
            "after dropping this dataset has 2995 records.\n"
          ],
          "name": "stdout"
        }
      ]
    },
    {
      "cell_type": "markdown",
      "metadata": {
        "id": "xoFLhV1x-Bri",
        "colab_type": "text"
      },
      "source": [
        "So we only have one record with null values in it, which is good"
      ]
    },
    {
      "cell_type": "code",
      "metadata": {
        "id": "4c71CKd7-kmK",
        "colab_type": "code",
        "colab": {
          "base_uri": "https://localhost:8080/",
          "height": 493
        },
        "outputId": "174aeb31-a759-4b6d-b70e-331c8d2fc611"
      },
      "source": [
        "# look at variables we have in R. (% sign is messed up)\n",
        "%%R -i dataframe\n",
        "head(dataframe)"
      ],
      "execution_count": null,
      "outputs": [
        {
          "output_type": "stream",
          "text": [
            "  state state_code State.Name      cnamelong county_code diff_in_perc_at_home\n",
            "0     1         AL    Alabama Autauga County        1001          0.049691482\n",
            "1     1         AL    Alabama Baldwin County        1003          0.046830245\n",
            "2     1         AL    Alabama Barbour County        1005          0.007099368\n",
            "3     1         AL    Alabama    Bibb County        1007          0.014983144\n",
            "4     1         AL    Alabama  Blount County        1009          0.043030755\n",
            "5     1         AL    Alabama Bullock County        1011         -0.016498044\n",
            "  SIP. Median.Household.Income X..Rural Population_y political_diff\n",
            "0    1                   59338     42.0        55601    -0.49478934\n",
            "1    1                   57588     42.3       218022    -0.57786162\n",
            "2    1                   34382     67.8        24881    -0.05611165\n",
            "3    1                   46064     68.4        22400    -0.55544124\n",
            "4    1                   50412     90.0        57840    -0.81381973\n",
            "5    1                   29267     51.4        10138     0.50861519\n",
            "  X..less.than.18.years.of.age X..65.and.over X..Asian X..Black X..Hispanic\n",
            "0                         23.7           15.6      1.2     19.3         3.0\n",
            "1                         21.6           20.4      1.2      8.8         4.6\n",
            "2                         20.9           19.4      0.5     48.0         4.3\n",
            "3                         20.5           16.5      0.2     21.1         2.6\n",
            "4                         23.2           18.2      0.3      1.5         9.6\n",
            "5                         21.1           16.4      0.2     69.5         8.0\n",
            "  X..Non.Hispanic.White\n",
            "0                  74.3\n",
            "1                  83.1\n",
            "2                  45.6\n",
            "3                  74.6\n",
            "4                  86.9\n",
            "5                  21.2\n"
          ],
          "name": "stdout"
        }
      ]
    },
    {
      "cell_type": "code",
      "metadata": {
        "id": "6oXKFccl9_Nh",
        "colab_type": "code",
        "colab": {
          "base_uri": "https://localhost:8080/",
          "height": 51
        },
        "outputId": "ee1ead20-ea9d-4a0f-aaae-36f647d4abfb"
      },
      "source": [
        "# -i means pass in some argument/data from python world to R world\n",
        "%%R -i dataframe\n",
        "\n",
        "# using MatchIt package to do PSM - guess it used logistic regression?\n",
        "\n",
        "m.out <- matchit(SIP.~Median.Household.Income + X..Rural +\n",
        "                 political_diff+\n",
        "                 X..Asian + X..Black + \n",
        "                 X..Non.Hispanic.White +\n",
        "                 X..Hispanic,\n",
        "                 method = \"cem\", data = dataframe) # cem = coarse exact matching"
      ],
      "execution_count": 14,
      "outputs": [
        {
          "output_type": "stream",
          "text": [
            "\n",
            "Using 'treat'='1' as baseline group\n"
          ],
          "name": "stdout"
        }
      ]
    },
    {
      "cell_type": "code",
      "metadata": {
        "id": "7a8zE4qh_EMk",
        "colab_type": "code",
        "colab": {
          "base_uri": "https://localhost:8080/",
          "height": 497
        },
        "outputId": "5e7e67b5-5ec6-4989-c7d2-2768d9f45801"
      },
      "source": [
        "# to see how maching it soind by visualizing distributions\n",
        "%%R\n",
        "plot(m.out, type='hist')"
      ],
      "execution_count": 15,
      "outputs": [
        {
          "output_type": "display_data",
          "data": {
            "image/png": "[encoded data removed]"
          },
          "metadata": {
            "tags": []
          }
        }
      ]
    },
    {
      "cell_type": "code",
      "metadata": {
        "id": "amT09HkB_njf",
        "colab_type": "code",
        "colab": {
          "base_uri": "https://localhost:8080/",
          "height": 531
        },
        "outputId": "88971fbe-b5c7-49df-937d-facc1374e2a3"
      },
      "source": [
        "%%R\n",
        "plot(m.out, type='jitter')"
      ],
      "execution_count": 16,
      "outputs": [
        {
          "output_type": "stream",
          "text": [
            "[1] \"To identify the units, use first mouse button; to stop, use second.\"\n",
            "integer(0)\n"
          ],
          "name": "stdout"
        },
        {
          "output_type": "display_data",
          "data": {
            "image/png": "[encoded data removed]"
          },
          "metadata": {
            "tags": []
          }
        }
      ]
    },
    {
      "cell_type": "code",
      "metadata": {
        "id": "H0Bjclom_ptH",
        "colab_type": "code",
        "colab": {
          "base_uri": "https://localhost:8080/",
          "height": 1000
        },
        "outputId": "6c491ede-1a87-4e86-ea50-03d8133e5424"
      },
      "source": [
        "%%R\n",
        "summary(m.out, standardize=T)"
      ],
      "execution_count": 17,
      "outputs": [
        {
          "output_type": "stream",
          "text": [
            "\n",
            "Call:\n",
            "matchit(formula = SIP. ~ Median.Household.Income + X..Rural + \n",
            "    political_diff + X..Asian + X..Black + X..Non.Hispanic.White + \n",
            "    X..Hispanic, data = dataframe, method = \"cem\")\n",
            "\n",
            "Summary of balance for all data:\n",
            "                        Means Treated Means Control SD Control Std. Mean Diff.\n",
            "distance                       0.8640        0.7755     0.1258          0.9749\n",
            "Median.Household.Income    52991.1876    52921.7584 10432.1548          0.0048\n",
            "X..Rural                      55.2676       64.5125    28.9803         -0.2978\n",
            "political_diff                -0.2877       -0.4283     0.2200          0.4492\n",
            "X..Asian                       1.6851        0.9888     1.2717          0.2323\n",
            "X..Black                      10.2542        4.0293     9.1850          0.4151\n",
            "X..Non.Hispanic.White         74.8670       82.4000    14.4656         -0.3679\n",
            "X..Hispanic                   10.2487        6.5177     6.2739          0.2534\n",
            "                        eCDF Med eCDF Mean eCDF Max\n",
            "distance                  0.2653    0.2299   0.3364\n",
            "Median.Household.Income   0.0480    0.0544   0.1050\n",
            "X..Rural                  0.0949    0.0895   0.1453\n",
            "political_diff            0.1485    0.1290   0.2004\n",
            "X..Asian                  0.0254    0.0414   0.1467\n",
            "X..Black                  0.0954    0.1139   0.3009\n",
            "X..Non.Hispanic.White     0.1090    0.0996   0.1767\n",
            "X..Hispanic               0.0696    0.0639   0.1154\n",
            "\n",
            "\n",
            "Summary of balance for matched data:\n",
            "                        Means Treated Means Control SD Control Std. Mean Diff.\n",
            "distance                       0.8001        0.7947     0.0489          0.0598\n",
            "Median.Household.Income    49535.2609    49368.8657  8383.6513          0.0114\n",
            "X..Rural                      74.6520       74.7344    24.5046         -0.0027\n",
            "political_diff                -0.4739       -0.4713     0.1571         -0.0082\n",
            "X..Asian                       0.6214        0.6328     0.4928         -0.0038\n",
            "X..Black                       2.2600        1.6406     4.6456          0.0413\n",
            "X..Non.Hispanic.White         91.5606       91.1665     6.4413          0.0192\n",
            "X..Hispanic                    3.3633        3.7908     2.8669         -0.0290\n",
            "                        eCDF Med eCDF Mean eCDF Max\n",
            "distance                  0.0500    0.0609   0.1371\n",
            "Median.Household.Income   0.1191    0.1178   0.2395\n",
            "X..Rural                  0.0297    0.0308   0.0646\n",
            "political_diff            0.0314    0.0314   0.0727\n",
            "X..Asian                  0.0225    0.0224   0.0553\n",
            "X..Black                  0.0235    0.0434   0.1347\n",
            "X..Non.Hispanic.White     0.0809    0.0771   0.1481\n",
            "X..Hispanic               0.0633    0.0823   0.2379\n",
            "\n",
            "Percent Balance Improvement:\n",
            "                        Std. Mean Diff.  eCDF Med eCDF Mean  eCDF Max\n",
            "distance                        93.8611   81.1476   73.5261   59.2433\n",
            "Median.Household.Income       -139.6618 -148.2079 -116.7667 -128.0894\n",
            "X..Rural                        99.1085   68.6917   65.6283   55.5551\n",
            "political_diff                  98.1754   78.8319   75.6561   63.7089\n",
            "X..Asian                        98.3499   11.7062   45.9133   62.3124\n",
            "X..Black                        90.0485   75.4039   61.8868   55.2231\n",
            "X..Non.Hispanic.White           94.7684   25.7893   22.6542   16.1796\n",
            "X..Hispanic                     88.5436    9.0586  -28.7816 -106.0769\n",
            "\n",
            "Sample sizes:\n",
            "          Control Treated\n",
            "All           447    2548\n",
            "Matched       243     548\n",
            "Unmatched     204    2000\n",
            "Discarded       0       0\n",
            "\n"
          ],
          "name": "stdout"
        }
      ]
    },
    {
      "cell_type": "markdown",
      "metadata": {
        "id": "hgQyJMV6_u1W",
        "colab_type": "text"
      },
      "source": [
        "we can see from the histogram and jitter plot and summary statistics that this matching is pretty good! - Std. Mean Diff are all $\\le$ 0.05, which is good"
      ]
    },
    {
      "cell_type": "code",
      "metadata": {
        "id": "UWshTbro_rEg",
        "colab_type": "code",
        "colab": {}
      },
      "source": [
        "%%R\n",
        "# extract matched data.\n",
        "matched_data <- match.data(m.out)"
      ],
      "execution_count": 18,
      "outputs": []
    },
    {
      "cell_type": "code",
      "metadata": {
        "id": "70feAD8D_9Ky",
        "colab_type": "code",
        "colab": {}
      },
      "source": [
        "# import dataframe from R to python.... since I am not familar with manipulating\n",
        "# R objects \n",
        "matched_data = %R matched_data"
      ],
      "execution_count": 19,
      "outputs": []
    },
    {
      "cell_type": "code",
      "metadata": {
        "id": "jIslw_QY_-Pf",
        "colab_type": "code",
        "colab": {}
      },
      "source": [
        "no_SIP_diff = ((matched_data[matched_data['SIP.'] == 0]['weights'] / \\\n",
        " matched_data[matched_data['SIP.'] == 0]['weights'].sum()) \\\n",
        "* matched_data[matched_data['SIP.'] == 0]['diff_in_perc_at_home']).sum()"
      ],
      "execution_count": 20,
      "outputs": []
    },
    {
      "cell_type": "code",
      "metadata": {
        "id": "xJFMVKMF__OY",
        "colab_type": "code",
        "colab": {}
      },
      "source": [
        "SIP_diff = matched_data[matched_data['SIP.'] == 1]['diff_in_perc_at_home'].mean()"
      ],
      "execution_count": 23,
      "outputs": []
    },
    {
      "cell_type": "code",
      "metadata": {
        "id": "RKbD51zFAAgH",
        "colab_type": "code",
        "colab": {
          "base_uri": "https://localhost:8080/",
          "height": 34
        },
        "outputId": "bca23c79-1229-450c-e1fc-c6968209b833"
      },
      "source": [
        "# change in behavior that is brought by SIP policy\n",
        "SIP_diff - no_SIP_diff"
      ],
      "execution_count": 24,
      "outputs": [
        {
          "output_type": "execute_result",
          "data": {
            "text/plain": [
              "0.002129757076659947"
            ]
          },
          "metadata": {
            "tags": []
          },
          "execution_count": 24
        }
      ]
    },
    {
      "cell_type": "code",
      "metadata": {
        "id": "Ue5U_cUETRCJ",
        "colab_type": "code",
        "colab": {
          "base_uri": "https://localhost:8080/",
          "height": 34
        },
        "outputId": "a9c39b70-921a-415e-e52d-e1a803b4adde"
      },
      "source": [
        "SIP_diff"
      ],
      "execution_count": 25,
      "outputs": [
        {
          "output_type": "execute_result",
          "data": {
            "text/plain": [
              "0.01598513452082852"
            ]
          },
          "metadata": {
            "tags": []
          },
          "execution_count": 25
        }
      ]
    },
    {
      "cell_type": "code",
      "metadata": {
        "id": "NdUiEI4vTS45",
        "colab_type": "code",
        "colab": {
          "base_uri": "https://localhost:8080/",
          "height": 34
        },
        "outputId": "509ce0e4-ab4e-4ced-9e1f-5fb40e3a15fb"
      },
      "source": [
        "# change in behavior that is brought by people's own volition\n",
        "no_SIP_diff"
      ],
      "execution_count": 26,
      "outputs": [
        {
          "output_type": "execute_result",
          "data": {
            "text/plain": [
              "0.013855377444168574"
            ]
          },
          "metadata": {
            "tags": []
          },
          "execution_count": 26
        }
      ]
    },
    {
      "cell_type": "markdown",
      "metadata": {
        "id": "hUpOAizZABWl",
        "colab_type": "text"
      },
      "source": [
        "# Conclusion"
      ]
    },
    {
      "cell_type": "markdown",
      "metadata": {
        "id": "kFgHL1gvAboi",
        "colab_type": "text"
      },
      "source": [
        "there is not much difference as we can see... factoring seasonal effects. there is 0.2% difference, much less than our 1.5% difference before."
      ]
    },
    {
      "cell_type": "code",
      "metadata": {
        "id": "RnQQSYekTooA",
        "colab_type": "code",
        "colab": {}
      },
      "source": [
        "policy_importance = (SIP_diff - no_SIP_diff) / ((SIP_diff - no_SIP_diff) + (no_SIP_diff)) "
      ],
      "execution_count": 27,
      "outputs": []
    },
    {
      "cell_type": "code",
      "metadata": {
        "id": "ydBM87UOUh1e",
        "colab_type": "code",
        "colab": {
          "base_uri": "https://localhost:8080/",
          "height": 34
        },
        "outputId": "61931f89-b56d-4c54-d22a-6187e9f343c4"
      },
      "source": [
        "policy_importance"
      ],
      "execution_count": 28,
      "outputs": [
        {
          "output_type": "execute_result",
          "data": {
            "text/plain": [
              "0.1332336036262246"
            ]
          },
          "metadata": {
            "tags": []
          },
          "execution_count": 28
        }
      ]
    },
    {
      "cell_type": "markdown",
      "metadata": {
        "id": "oAPR9s5IUmvR",
        "colab_type": "text"
      },
      "source": [
        "but now we can see that shelter in place contributes 13% to people's change in stay at home behavior, if we use shelter in place as an anchor point."
      ]
    },
    {
      "cell_type": "code",
      "metadata": {
        "id": "O5QWUaDzJFaK",
        "colab_type": "code",
        "colab": {}
      },
      "source": [
        ""
      ],
      "execution_count": null,
      "outputs": []
    }
  ]
}