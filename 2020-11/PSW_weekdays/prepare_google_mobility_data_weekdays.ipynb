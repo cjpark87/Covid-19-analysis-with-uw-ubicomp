{
  "nbformat": 4,
  "nbformat_minor": 0,
  "metadata": {
    "colab": {
      "name": "prepare_google_mobility_data_weekdays.ipynb",
      "provenance": [],
      "collapsed_sections": [
        "rRQPQM20YsoX",
        "2UuZJYeeYwWP",
        "aGb-Ux4XY14J",
        "Mv1JjxS4ZL1J"
      ],
      "mount_file_id": "16OM4CNoR6_cBRnHGWmZ3L1_cKIPPjnxZ",
      "authorship_tag": "ABX9TyO8gxAiEUrYy5gmnZENVNtr",
      "include_colab_link": true
    },
    "kernelspec": {
      "name": "python3",
      "display_name": "Python 3"
    }
  },
  "cells": [
    {
      "cell_type": "markdown",
      "metadata": {
        "id": "view-in-github",
        "colab_type": "text"
      },
      "source": [
        "<a href=\"https://colab.research.google.com/github/wenjunsun/Covid-19-analysis-with-uw-ubicomp/blob/master/2020-11/PSW_weekdays/prepare_google_mobility_data_weekdays.ipynb\" target=\"_parent\"><img src=\"https://colab.research.google.com/assets/colab-badge.svg\" alt=\"Open In Colab\"/></a>"
      ]
    },
    {
      "cell_type": "markdown",
      "metadata": {
        "id": "DrEDiCjhR6pY"
      },
      "source": [
        "In this notebook we will prepare the dataset for propensity score matching with Google's Mobility dataset, **only extracting the weekday data.**, because we suspect the peaks of behavior on weekends will do something funky to our analysis."
      ]
    },
    {
      "cell_type": "markdown",
      "metadata": {
        "id": "rRQPQM20YsoX"
      },
      "source": [
        "# 0. go to directory containing data + load packages"
      ]
    },
    {
      "cell_type": "code",
      "metadata": {
        "colab": {
          "base_uri": "https://localhost:8080/"
        },
        "id": "kYWuttApQtwW",
        "outputId": "9f23b0be-fea9-42fe-aa95-4f7f3bbf7836"
      },
      "source": [
        "cd drive/My\\ Drive/covid/PSM/data"
      ],
      "execution_count": 1,
      "outputs": [
        {
          "output_type": "stream",
          "text": [
            "/content/drive/My Drive/covid/PSM/data\n"
          ],
          "name": "stdout"
        }
      ]
    },
    {
      "cell_type": "code",
      "metadata": {
        "colab": {
          "base_uri": "https://localhost:8080/"
        },
        "id": "hUXRoVgKQ2h3",
        "outputId": "b0e55e9f-1dec-4808-d6c3-b77d71ba31b5"
      },
      "source": [
        "ls"
      ],
      "execution_count": 2,
      "outputs": [
        {
          "output_type": "stream",
          "text": [
            "agg_social_dist_2.csv\n",
            "agg_social_dist.csv\n",
            "avg_google_mobility_up_to_6_1.csv\n",
            "county_data_with_reduced_covariates_with_SIP.csv\n",
            "final_data_google_and_safe_graph_up_to_6_1.csv\n",
            "google_mobility.csv\n",
            "OxCGRT_latest.csv\n",
            "social_dist_aggregated_on_county.csv\n"
          ],
          "name": "stdout"
        }
      ]
    },
    {
      "cell_type": "code",
      "metadata": {
        "id": "NvJ413aNQ2y3"
      },
      "source": [
        "import pandas as pd\n",
        "import numpy as np\n",
        "import matplotlib.pyplot as plt"
      ],
      "execution_count": 3,
      "outputs": []
    },
    {
      "cell_type": "markdown",
      "metadata": {
        "id": "2UuZJYeeYwWP"
      },
      "source": [
        "# 1. load + clean data"
      ]
    },
    {
      "cell_type": "code",
      "metadata": {
        "id": "tDnPhQUuRAtO"
      },
      "source": [
        "data = pd.read_csv('google_mobility.csv', parse_dates=['date'],\n",
        "                   infer_datetime_format = True)"
      ],
      "execution_count": 4,
      "outputs": []
    },
    {
      "cell_type": "code",
      "metadata": {
        "colab": {
          "base_uri": "https://localhost:8080/",
          "height": 309
        },
        "id": "DxDCTqp_REat",
        "outputId": "34518f2e-b60b-4c76-9b85-6bda5d4ba32c"
      },
      "source": [
        "data.head()"
      ],
      "execution_count": 5,
      "outputs": [
        {
          "output_type": "execute_result",
          "data": {
            "text/html": [
              "<div>\n",
              "<style scoped>\n",
              "    .dataframe tbody tr th:only-of-type {\n",
              "        vertical-align: middle;\n",
              "    }\n",
              "\n",
              "    .dataframe tbody tr th {\n",
              "        vertical-align: top;\n",
              "    }\n",
              "\n",
              "    .dataframe thead th {\n",
              "        text-align: right;\n",
              "    }\n",
              "</style>\n",
              "<table border=\"1\" class=\"dataframe\">\n",
              "  <thead>\n",
              "    <tr style=\"text-align: right;\">\n",
              "      <th></th>\n",
              "      <th>country_region_code</th>\n",
              "      <th>country_region</th>\n",
              "      <th>sub_region_1</th>\n",
              "      <th>sub_region_2</th>\n",
              "      <th>metro_area</th>\n",
              "      <th>iso_3166_2_code</th>\n",
              "      <th>census_fips_code</th>\n",
              "      <th>date</th>\n",
              "      <th>retail_and_recreation_percent_change_from_baseline</th>\n",
              "      <th>grocery_and_pharmacy_percent_change_from_baseline</th>\n",
              "      <th>parks_percent_change_from_baseline</th>\n",
              "      <th>transit_stations_percent_change_from_baseline</th>\n",
              "      <th>workplaces_percent_change_from_baseline</th>\n",
              "      <th>residential_percent_change_from_baseline</th>\n",
              "    </tr>\n",
              "  </thead>\n",
              "  <tbody>\n",
              "    <tr>\n",
              "      <th>0</th>\n",
              "      <td>US</td>\n",
              "      <td>United States</td>\n",
              "      <td>NaN</td>\n",
              "      <td>NaN</td>\n",
              "      <td>NaN</td>\n",
              "      <td>NaN</td>\n",
              "      <td>NaN</td>\n",
              "      <td>2020-02-15</td>\n",
              "      <td>6.0</td>\n",
              "      <td>2.0</td>\n",
              "      <td>15.0</td>\n",
              "      <td>3.0</td>\n",
              "      <td>2.0</td>\n",
              "      <td>-1.0</td>\n",
              "    </tr>\n",
              "    <tr>\n",
              "      <th>1</th>\n",
              "      <td>US</td>\n",
              "      <td>United States</td>\n",
              "      <td>NaN</td>\n",
              "      <td>NaN</td>\n",
              "      <td>NaN</td>\n",
              "      <td>NaN</td>\n",
              "      <td>NaN</td>\n",
              "      <td>2020-02-16</td>\n",
              "      <td>7.0</td>\n",
              "      <td>1.0</td>\n",
              "      <td>16.0</td>\n",
              "      <td>2.0</td>\n",
              "      <td>0.0</td>\n",
              "      <td>-1.0</td>\n",
              "    </tr>\n",
              "    <tr>\n",
              "      <th>2</th>\n",
              "      <td>US</td>\n",
              "      <td>United States</td>\n",
              "      <td>NaN</td>\n",
              "      <td>NaN</td>\n",
              "      <td>NaN</td>\n",
              "      <td>NaN</td>\n",
              "      <td>NaN</td>\n",
              "      <td>2020-02-17</td>\n",
              "      <td>6.0</td>\n",
              "      <td>0.0</td>\n",
              "      <td>28.0</td>\n",
              "      <td>-9.0</td>\n",
              "      <td>-24.0</td>\n",
              "      <td>5.0</td>\n",
              "    </tr>\n",
              "    <tr>\n",
              "      <th>3</th>\n",
              "      <td>US</td>\n",
              "      <td>United States</td>\n",
              "      <td>NaN</td>\n",
              "      <td>NaN</td>\n",
              "      <td>NaN</td>\n",
              "      <td>NaN</td>\n",
              "      <td>NaN</td>\n",
              "      <td>2020-02-18</td>\n",
              "      <td>0.0</td>\n",
              "      <td>-1.0</td>\n",
              "      <td>6.0</td>\n",
              "      <td>1.0</td>\n",
              "      <td>0.0</td>\n",
              "      <td>1.0</td>\n",
              "    </tr>\n",
              "    <tr>\n",
              "      <th>4</th>\n",
              "      <td>US</td>\n",
              "      <td>United States</td>\n",
              "      <td>NaN</td>\n",
              "      <td>NaN</td>\n",
              "      <td>NaN</td>\n",
              "      <td>NaN</td>\n",
              "      <td>NaN</td>\n",
              "      <td>2020-02-19</td>\n",
              "      <td>2.0</td>\n",
              "      <td>0.0</td>\n",
              "      <td>8.0</td>\n",
              "      <td>1.0</td>\n",
              "      <td>1.0</td>\n",
              "      <td>0.0</td>\n",
              "    </tr>\n",
              "  </tbody>\n",
              "</table>\n",
              "</div>"
            ],
            "text/plain": [
              "  country_region_code  ... residential_percent_change_from_baseline\n",
              "0                  US  ...                                     -1.0\n",
              "1                  US  ...                                     -1.0\n",
              "2                  US  ...                                      5.0\n",
              "3                  US  ...                                      1.0\n",
              "4                  US  ...                                      0.0\n",
              "\n",
              "[5 rows x 14 columns]"
            ]
          },
          "metadata": {
            "tags": []
          },
          "execution_count": 5
        }
      ]
    },
    {
      "cell_type": "code",
      "metadata": {
        "colab": {
          "base_uri": "https://localhost:8080/"
        },
        "id": "G5JYWHGMRGGj",
        "outputId": "7b0df7ca-a2aa-43fc-e888-4fd33932305f"
      },
      "source": [
        "data.dtypes"
      ],
      "execution_count": 6,
      "outputs": [
        {
          "output_type": "execute_result",
          "data": {
            "text/plain": [
              "country_region_code                                           object\n",
              "country_region                                                object\n",
              "sub_region_1                                                  object\n",
              "sub_region_2                                                  object\n",
              "metro_area                                                   float64\n",
              "iso_3166_2_code                                               object\n",
              "census_fips_code                                             float64\n",
              "date                                                  datetime64[ns]\n",
              "retail_and_recreation_percent_change_from_baseline           float64\n",
              "grocery_and_pharmacy_percent_change_from_baseline            float64\n",
              "parks_percent_change_from_baseline                           float64\n",
              "transit_stations_percent_change_from_baseline                float64\n",
              "workplaces_percent_change_from_baseline                      float64\n",
              "residential_percent_change_from_baseline                     float64\n",
              "dtype: object"
            ]
          },
          "metadata": {
            "tags": []
          },
          "execution_count": 6
        }
      ]
    },
    {
      "cell_type": "markdown",
      "metadata": {
        "id": "5xYtHGwFRh_q"
      },
      "source": [
        "So this dataset is already in a form that has every county's behavioral data in each date from mid February to current date. We want to get the average of behavioral data of each county from Febuary to `6-1-2020`, as we did with SafeGraph analysis."
      ]
    },
    {
      "cell_type": "markdown",
      "metadata": {
        "id": "wiC2C4ELTV8c"
      },
      "source": [
        "We can see some data have null `census_fips_code`?"
      ]
    },
    {
      "cell_type": "code",
      "metadata": {
        "colab": {
          "base_uri": "https://localhost:8080/"
        },
        "id": "fjlG-LgDS9Wq",
        "outputId": "4323c846-997b-4232-dfbe-73ecf718101e"
      },
      "source": [
        "num_counties = len(data['census_fips_code'].unique())\n",
        "print(f'there are {num_counties} unique counties within Google mobility dataset')"
      ],
      "execution_count": 7,
      "outputs": [
        {
          "output_type": "stream",
          "text": [
            "there are 2834 unique counties within Google mobility dataset\n"
          ],
          "name": "stdout"
        }
      ]
    },
    {
      "cell_type": "code",
      "metadata": {
        "id": "C_rCBPfaTg9R"
      },
      "source": [
        "data.dropna(subset=['census_fips_code'], inplace = True)"
      ],
      "execution_count": 8,
      "outputs": []
    },
    {
      "cell_type": "code",
      "metadata": {
        "colab": {
          "base_uri": "https://localhost:8080/"
        },
        "id": "3O4zlAc2T7dV",
        "outputId": "cc7beed2-0f41-433a-8321-a81086f6a69a"
      },
      "source": [
        "data['census_fips_code'].isnull().sum()"
      ],
      "execution_count": 9,
      "outputs": [
        {
          "output_type": "execute_result",
          "data": {
            "text/plain": [
              "0"
            ]
          },
          "metadata": {
            "tags": []
          },
          "execution_count": 9
        }
      ]
    },
    {
      "cell_type": "code",
      "metadata": {
        "id": "1Ioc-fCgT-Mu"
      },
      "source": [
        "# drop unnecessary columns\n",
        "data.drop(['country_region_code', 'country_region', 'sub_region_1',\n",
        "           'sub_region_2', 'metro_area', 'iso_3166_2_code'], axis = 1, inplace = True)"
      ],
      "execution_count": 10,
      "outputs": []
    },
    {
      "cell_type": "code",
      "metadata": {
        "colab": {
          "base_uri": "https://localhost:8080/",
          "height": 309
        },
        "id": "S8YURzTzUwwz",
        "outputId": "485dcb09-bc88-4958-cb98-1051b467b579"
      },
      "source": [
        "data.head()"
      ],
      "execution_count": 11,
      "outputs": [
        {
          "output_type": "execute_result",
          "data": {
            "text/html": [
              "<div>\n",
              "<style scoped>\n",
              "    .dataframe tbody tr th:only-of-type {\n",
              "        vertical-align: middle;\n",
              "    }\n",
              "\n",
              "    .dataframe tbody tr th {\n",
              "        vertical-align: top;\n",
              "    }\n",
              "\n",
              "    .dataframe thead th {\n",
              "        text-align: right;\n",
              "    }\n",
              "</style>\n",
              "<table border=\"1\" class=\"dataframe\">\n",
              "  <thead>\n",
              "    <tr style=\"text-align: right;\">\n",
              "      <th></th>\n",
              "      <th>census_fips_code</th>\n",
              "      <th>date</th>\n",
              "      <th>retail_and_recreation_percent_change_from_baseline</th>\n",
              "      <th>grocery_and_pharmacy_percent_change_from_baseline</th>\n",
              "      <th>parks_percent_change_from_baseline</th>\n",
              "      <th>transit_stations_percent_change_from_baseline</th>\n",
              "      <th>workplaces_percent_change_from_baseline</th>\n",
              "      <th>residential_percent_change_from_baseline</th>\n",
              "    </tr>\n",
              "  </thead>\n",
              "  <tbody>\n",
              "    <tr>\n",
              "      <th>532</th>\n",
              "      <td>1001.0</td>\n",
              "      <td>2020-02-15</td>\n",
              "      <td>5.0</td>\n",
              "      <td>7.0</td>\n",
              "      <td>NaN</td>\n",
              "      <td>NaN</td>\n",
              "      <td>-4.0</td>\n",
              "      <td>NaN</td>\n",
              "    </tr>\n",
              "    <tr>\n",
              "      <th>533</th>\n",
              "      <td>1001.0</td>\n",
              "      <td>2020-02-16</td>\n",
              "      <td>0.0</td>\n",
              "      <td>1.0</td>\n",
              "      <td>-23.0</td>\n",
              "      <td>NaN</td>\n",
              "      <td>-4.0</td>\n",
              "      <td>NaN</td>\n",
              "    </tr>\n",
              "    <tr>\n",
              "      <th>534</th>\n",
              "      <td>1001.0</td>\n",
              "      <td>2020-02-17</td>\n",
              "      <td>8.0</td>\n",
              "      <td>0.0</td>\n",
              "      <td>NaN</td>\n",
              "      <td>NaN</td>\n",
              "      <td>-27.0</td>\n",
              "      <td>5.0</td>\n",
              "    </tr>\n",
              "    <tr>\n",
              "      <th>535</th>\n",
              "      <td>1001.0</td>\n",
              "      <td>2020-02-18</td>\n",
              "      <td>-2.0</td>\n",
              "      <td>0.0</td>\n",
              "      <td>NaN</td>\n",
              "      <td>NaN</td>\n",
              "      <td>2.0</td>\n",
              "      <td>0.0</td>\n",
              "    </tr>\n",
              "    <tr>\n",
              "      <th>536</th>\n",
              "      <td>1001.0</td>\n",
              "      <td>2020-02-19</td>\n",
              "      <td>-2.0</td>\n",
              "      <td>0.0</td>\n",
              "      <td>NaN</td>\n",
              "      <td>NaN</td>\n",
              "      <td>2.0</td>\n",
              "      <td>0.0</td>\n",
              "    </tr>\n",
              "  </tbody>\n",
              "</table>\n",
              "</div>"
            ],
            "text/plain": [
              "     census_fips_code  ... residential_percent_change_from_baseline\n",
              "532            1001.0  ...                                      NaN\n",
              "533            1001.0  ...                                      NaN\n",
              "534            1001.0  ...                                      5.0\n",
              "535            1001.0  ...                                      0.0\n",
              "536            1001.0  ...                                      0.0\n",
              "\n",
              "[5 rows x 8 columns]"
            ]
          },
          "metadata": {
            "tags": []
          },
          "execution_count": 11
        }
      ]
    },
    {
      "cell_type": "markdown",
      "metadata": {
        "id": "aGb-Ux4XY14J"
      },
      "source": [
        "# 2. filter data with non-desirable dates"
      ]
    },
    {
      "cell_type": "markdown",
      "metadata": {
        "id": "Y5zZiYm1WA-T"
      },
      "source": [
        "Now we will delete all the rows which have dates after `6-1-2020`"
      ]
    },
    {
      "cell_type": "code",
      "metadata": {
        "id": "nGHjojSmUzNX"
      },
      "source": [
        "# default date to filter is 6-1-2020\n",
        "# given a dataframe and a column that denotes the date column,\n",
        "# and a date to filter by, return a new dataframe such that the new one\n",
        "# doesn't contain any rows after the date parameter.\n",
        "def filterDatesAfter(date = np.datetime64('2020-06-01'), dataset = data, dateColumn = 'date'):\n",
        "\n",
        "  # helper function that given a row, return true if this row's date is after date. \n",
        "  def isThisRowAfterDate(row, date = date):\n",
        "    return row[dateColumn] > date\n",
        "  \n",
        "  newData = dataset[dataset.apply(lambda row: not isThisRowAfterDate(row), axis = 1)]\n",
        "\n",
        "  return newData"
      ],
      "execution_count": 28,
      "outputs": []
    },
    {
      "cell_type": "code",
      "metadata": {
        "id": "8Iew4KDfYKSV"
      },
      "source": [
        "data = filterDatesAfter()"
      ],
      "execution_count": 29,
      "outputs": []
    },
    {
      "cell_type": "code",
      "metadata": {
        "colab": {
          "base_uri": "https://localhost:8080/"
        },
        "id": "D1_ex9wnYcmV",
        "outputId": "c7ea3584-2586-489b-9b7f-b7826732e861"
      },
      "source": [
        "data['date'].unique()"
      ],
      "execution_count": 30,
      "outputs": [
        {
          "output_type": "execute_result",
          "data": {
            "text/plain": [
              "array(['2020-02-15T00:00:00.000000000', '2020-02-16T00:00:00.000000000',\n",
              "       '2020-02-17T00:00:00.000000000', '2020-02-18T00:00:00.000000000',\n",
              "       '2020-02-19T00:00:00.000000000', '2020-02-20T00:00:00.000000000',\n",
              "       '2020-02-21T00:00:00.000000000', '2020-02-22T00:00:00.000000000',\n",
              "       '2020-02-23T00:00:00.000000000', '2020-02-24T00:00:00.000000000',\n",
              "       '2020-02-25T00:00:00.000000000', '2020-02-26T00:00:00.000000000',\n",
              "       '2020-02-27T00:00:00.000000000', '2020-02-28T00:00:00.000000000',\n",
              "       '2020-02-29T00:00:00.000000000', '2020-03-01T00:00:00.000000000',\n",
              "       '2020-03-02T00:00:00.000000000', '2020-03-03T00:00:00.000000000',\n",
              "       '2020-03-04T00:00:00.000000000', '2020-03-05T00:00:00.000000000',\n",
              "       '2020-03-06T00:00:00.000000000', '2020-03-07T00:00:00.000000000',\n",
              "       '2020-03-08T00:00:00.000000000', '2020-03-09T00:00:00.000000000',\n",
              "       '2020-03-10T00:00:00.000000000', '2020-03-11T00:00:00.000000000',\n",
              "       '2020-03-12T00:00:00.000000000', '2020-03-13T00:00:00.000000000',\n",
              "       '2020-03-14T00:00:00.000000000', '2020-03-15T00:00:00.000000000',\n",
              "       '2020-03-16T00:00:00.000000000', '2020-03-17T00:00:00.000000000',\n",
              "       '2020-03-18T00:00:00.000000000', '2020-03-19T00:00:00.000000000',\n",
              "       '2020-03-20T00:00:00.000000000', '2020-03-21T00:00:00.000000000',\n",
              "       '2020-03-22T00:00:00.000000000', '2020-03-23T00:00:00.000000000',\n",
              "       '2020-03-24T00:00:00.000000000', '2020-03-25T00:00:00.000000000',\n",
              "       '2020-03-26T00:00:00.000000000', '2020-03-27T00:00:00.000000000',\n",
              "       '2020-03-28T00:00:00.000000000', '2020-03-29T00:00:00.000000000',\n",
              "       '2020-03-30T00:00:00.000000000', '2020-03-31T00:00:00.000000000',\n",
              "       '2020-04-01T00:00:00.000000000', '2020-04-02T00:00:00.000000000',\n",
              "       '2020-04-03T00:00:00.000000000', '2020-04-04T00:00:00.000000000',\n",
              "       '2020-04-05T00:00:00.000000000', '2020-04-06T00:00:00.000000000',\n",
              "       '2020-04-07T00:00:00.000000000', '2020-04-08T00:00:00.000000000',\n",
              "       '2020-04-09T00:00:00.000000000', '2020-04-10T00:00:00.000000000',\n",
              "       '2020-04-11T00:00:00.000000000', '2020-04-12T00:00:00.000000000',\n",
              "       '2020-04-13T00:00:00.000000000', '2020-04-14T00:00:00.000000000',\n",
              "       '2020-04-15T00:00:00.000000000', '2020-04-16T00:00:00.000000000',\n",
              "       '2020-04-17T00:00:00.000000000', '2020-04-18T00:00:00.000000000',\n",
              "       '2020-04-19T00:00:00.000000000', '2020-04-20T00:00:00.000000000',\n",
              "       '2020-04-21T00:00:00.000000000', '2020-04-22T00:00:00.000000000',\n",
              "       '2020-04-23T00:00:00.000000000', '2020-04-24T00:00:00.000000000',\n",
              "       '2020-04-25T00:00:00.000000000', '2020-04-26T00:00:00.000000000',\n",
              "       '2020-04-27T00:00:00.000000000', '2020-04-28T00:00:00.000000000',\n",
              "       '2020-04-29T00:00:00.000000000', '2020-04-30T00:00:00.000000000',\n",
              "       '2020-05-01T00:00:00.000000000', '2020-05-02T00:00:00.000000000',\n",
              "       '2020-05-03T00:00:00.000000000', '2020-05-04T00:00:00.000000000',\n",
              "       '2020-05-05T00:00:00.000000000', '2020-05-06T00:00:00.000000000',\n",
              "       '2020-05-07T00:00:00.000000000', '2020-05-08T00:00:00.000000000',\n",
              "       '2020-05-09T00:00:00.000000000', '2020-05-10T00:00:00.000000000',\n",
              "       '2020-05-11T00:00:00.000000000', '2020-05-12T00:00:00.000000000',\n",
              "       '2020-05-13T00:00:00.000000000', '2020-05-14T00:00:00.000000000',\n",
              "       '2020-05-15T00:00:00.000000000', '2020-05-16T00:00:00.000000000',\n",
              "       '2020-05-17T00:00:00.000000000', '2020-05-18T00:00:00.000000000',\n",
              "       '2020-05-19T00:00:00.000000000', '2020-05-20T00:00:00.000000000',\n",
              "       '2020-05-21T00:00:00.000000000', '2020-05-22T00:00:00.000000000',\n",
              "       '2020-05-23T00:00:00.000000000', '2020-05-24T00:00:00.000000000',\n",
              "       '2020-05-25T00:00:00.000000000', '2020-05-26T00:00:00.000000000',\n",
              "       '2020-05-27T00:00:00.000000000', '2020-05-28T00:00:00.000000000',\n",
              "       '2020-05-29T00:00:00.000000000', '2020-05-30T00:00:00.000000000',\n",
              "       '2020-05-31T00:00:00.000000000', '2020-06-01T00:00:00.000000000'],\n",
              "      dtype='datetime64[ns]')"
            ]
          },
          "metadata": {
            "tags": []
          },
          "execution_count": 30
        }
      ]
    },
    {
      "cell_type": "markdown",
      "metadata": {
        "id": "gegSB0tdZuN3"
      },
      "source": [
        "# 3. extract only weekday data."
      ]
    },
    {
      "cell_type": "markdown",
      "metadata": {
        "id": "rYT2nyr_Xux9"
      },
      "source": [
        "Now we want to extract only the weekday data. To do this we use `date.weekday()` method."
      ]
    },
    {
      "cell_type": "code",
      "metadata": {
        "colab": {
          "base_uri": "https://localhost:8080/",
          "height": 609
        },
        "id": "sTaeHhneX66u",
        "outputId": "c31014d1-66d6-4c8d-ddb2-42752319d0fc"
      },
      "source": [
        "data"
      ],
      "execution_count": 34,
      "outputs": [
        {
          "output_type": "execute_result",
          "data": {
            "text/html": [
              "<div>\n",
              "<style scoped>\n",
              "    .dataframe tbody tr th:only-of-type {\n",
              "        vertical-align: middle;\n",
              "    }\n",
              "\n",
              "    .dataframe tbody tr th {\n",
              "        vertical-align: top;\n",
              "    }\n",
              "\n",
              "    .dataframe thead th {\n",
              "        text-align: right;\n",
              "    }\n",
              "</style>\n",
              "<table border=\"1\" class=\"dataframe\">\n",
              "  <thead>\n",
              "    <tr style=\"text-align: right;\">\n",
              "      <th></th>\n",
              "      <th>census_fips_code</th>\n",
              "      <th>date</th>\n",
              "      <th>retail_and_recreation_percent_change_from_baseline</th>\n",
              "      <th>grocery_and_pharmacy_percent_change_from_baseline</th>\n",
              "      <th>parks_percent_change_from_baseline</th>\n",
              "      <th>transit_stations_percent_change_from_baseline</th>\n",
              "      <th>workplaces_percent_change_from_baseline</th>\n",
              "      <th>residential_percent_change_from_baseline</th>\n",
              "    </tr>\n",
              "  </thead>\n",
              "  <tbody>\n",
              "    <tr>\n",
              "      <th>532</th>\n",
              "      <td>1001.0</td>\n",
              "      <td>2020-02-15</td>\n",
              "      <td>5.0</td>\n",
              "      <td>7.0</td>\n",
              "      <td>NaN</td>\n",
              "      <td>NaN</td>\n",
              "      <td>-4.0</td>\n",
              "      <td>NaN</td>\n",
              "    </tr>\n",
              "    <tr>\n",
              "      <th>533</th>\n",
              "      <td>1001.0</td>\n",
              "      <td>2020-02-16</td>\n",
              "      <td>0.0</td>\n",
              "      <td>1.0</td>\n",
              "      <td>-23.0</td>\n",
              "      <td>NaN</td>\n",
              "      <td>-4.0</td>\n",
              "      <td>NaN</td>\n",
              "    </tr>\n",
              "    <tr>\n",
              "      <th>534</th>\n",
              "      <td>1001.0</td>\n",
              "      <td>2020-02-17</td>\n",
              "      <td>8.0</td>\n",
              "      <td>0.0</td>\n",
              "      <td>NaN</td>\n",
              "      <td>NaN</td>\n",
              "      <td>-27.0</td>\n",
              "      <td>5.0</td>\n",
              "    </tr>\n",
              "    <tr>\n",
              "      <th>535</th>\n",
              "      <td>1001.0</td>\n",
              "      <td>2020-02-18</td>\n",
              "      <td>-2.0</td>\n",
              "      <td>0.0</td>\n",
              "      <td>NaN</td>\n",
              "      <td>NaN</td>\n",
              "      <td>2.0</td>\n",
              "      <td>0.0</td>\n",
              "    </tr>\n",
              "    <tr>\n",
              "      <th>536</th>\n",
              "      <td>1001.0</td>\n",
              "      <td>2020-02-19</td>\n",
              "      <td>-2.0</td>\n",
              "      <td>0.0</td>\n",
              "      <td>NaN</td>\n",
              "      <td>NaN</td>\n",
              "      <td>2.0</td>\n",
              "      <td>0.0</td>\n",
              "    </tr>\n",
              "    <tr>\n",
              "      <th>...</th>\n",
              "      <td>...</td>\n",
              "      <td>...</td>\n",
              "      <td>...</td>\n",
              "      <td>...</td>\n",
              "      <td>...</td>\n",
              "      <td>...</td>\n",
              "      <td>...</td>\n",
              "      <td>...</td>\n",
              "    </tr>\n",
              "    <tr>\n",
              "      <th>668361</th>\n",
              "      <td>56045.0</td>\n",
              "      <td>2020-05-26</td>\n",
              "      <td>NaN</td>\n",
              "      <td>NaN</td>\n",
              "      <td>NaN</td>\n",
              "      <td>NaN</td>\n",
              "      <td>-27.0</td>\n",
              "      <td>NaN</td>\n",
              "    </tr>\n",
              "    <tr>\n",
              "      <th>668362</th>\n",
              "      <td>56045.0</td>\n",
              "      <td>2020-05-27</td>\n",
              "      <td>NaN</td>\n",
              "      <td>NaN</td>\n",
              "      <td>NaN</td>\n",
              "      <td>NaN</td>\n",
              "      <td>-26.0</td>\n",
              "      <td>NaN</td>\n",
              "    </tr>\n",
              "    <tr>\n",
              "      <th>668363</th>\n",
              "      <td>56045.0</td>\n",
              "      <td>2020-05-28</td>\n",
              "      <td>NaN</td>\n",
              "      <td>NaN</td>\n",
              "      <td>NaN</td>\n",
              "      <td>NaN</td>\n",
              "      <td>-22.0</td>\n",
              "      <td>NaN</td>\n",
              "    </tr>\n",
              "    <tr>\n",
              "      <th>668364</th>\n",
              "      <td>56045.0</td>\n",
              "      <td>2020-05-29</td>\n",
              "      <td>NaN</td>\n",
              "      <td>NaN</td>\n",
              "      <td>NaN</td>\n",
              "      <td>NaN</td>\n",
              "      <td>-24.0</td>\n",
              "      <td>NaN</td>\n",
              "    </tr>\n",
              "    <tr>\n",
              "      <th>668365</th>\n",
              "      <td>56045.0</td>\n",
              "      <td>2020-06-01</td>\n",
              "      <td>NaN</td>\n",
              "      <td>NaN</td>\n",
              "      <td>NaN</td>\n",
              "      <td>NaN</td>\n",
              "      <td>-27.0</td>\n",
              "      <td>NaN</td>\n",
              "    </tr>\n",
              "  </tbody>\n",
              "</table>\n",
              "<p>283634 rows × 8 columns</p>\n",
              "</div>"
            ],
            "text/plain": [
              "        census_fips_code  ... residential_percent_change_from_baseline\n",
              "532               1001.0  ...                                      NaN\n",
              "533               1001.0  ...                                      NaN\n",
              "534               1001.0  ...                                      5.0\n",
              "535               1001.0  ...                                      0.0\n",
              "536               1001.0  ...                                      0.0\n",
              "...                  ...  ...                                      ...\n",
              "668361           56045.0  ...                                      NaN\n",
              "668362           56045.0  ...                                      NaN\n",
              "668363           56045.0  ...                                      NaN\n",
              "668364           56045.0  ...                                      NaN\n",
              "668365           56045.0  ...                                      NaN\n",
              "\n",
              "[283634 rows x 8 columns]"
            ]
          },
          "metadata": {
            "tags": []
          },
          "execution_count": 34
        }
      ]
    },
    {
      "cell_type": "code",
      "metadata": {
        "id": "i9XRUvBUWVZa"
      },
      "source": [
        "date = data.iloc[0]['date']"
      ],
      "execution_count": 31,
      "outputs": []
    },
    {
      "cell_type": "code",
      "metadata": {
        "colab": {
          "base_uri": "https://localhost:8080/"
        },
        "id": "s1YhxrZIWrBb",
        "outputId": "2b6650a4-811a-49c2-e382-3820ae29928a"
      },
      "source": [
        "date"
      ],
      "execution_count": 32,
      "outputs": [
        {
          "output_type": "execute_result",
          "data": {
            "text/plain": [
              "Timestamp('2020-02-15 00:00:00')"
            ]
          },
          "metadata": {
            "tags": []
          },
          "execution_count": 32
        }
      ]
    },
    {
      "cell_type": "code",
      "metadata": {
        "colab": {
          "base_uri": "https://localhost:8080/"
        },
        "id": "XdYN8mWTWX45",
        "outputId": "f456c8d5-1242-478d-aba8-d68f2c157cea"
      },
      "source": [
        "# date.weekday() returns int: 0 (Monday), 1 (Tuesday), ..., 6 (Sunday)\n",
        "date.weekday()"
      ],
      "execution_count": 33,
      "outputs": [
        {
          "output_type": "execute_result",
          "data": {
            "text/plain": [
              "5"
            ]
          },
          "metadata": {
            "tags": []
          },
          "execution_count": 33
        }
      ]
    },
    {
      "cell_type": "code",
      "metadata": {
        "id": "z8khX5nLYB-g"
      },
      "source": [
        "def extractWeekdays(dataset = data, dateColumn = 'date'):\n",
        "  # helper function that given a row, return true if this row's date is a weekday.\n",
        "  def isThisRowWeekday(row):\n",
        "    return row[dateColumn].weekday() <= 4\n",
        "  \n",
        "  newData = dataset[dataset.apply(lambda row: isThisRowWeekday(row), axis = 1)]\n",
        "\n",
        "  return newData"
      ],
      "execution_count": 35,
      "outputs": []
    },
    {
      "cell_type": "code",
      "metadata": {
        "id": "u9W4OG-zZC-Z"
      },
      "source": [
        "data = extractWeekdays(dataset = data, dateColumn= 'date')"
      ],
      "execution_count": 39,
      "outputs": []
    },
    {
      "cell_type": "code",
      "metadata": {
        "colab": {
          "base_uri": "https://localhost:8080/"
        },
        "id": "7fw67cOmZJ1d",
        "outputId": "e5693a55-0239-450a-c08b-97eea9d2900a"
      },
      "source": [
        "data['date'].unique()"
      ],
      "execution_count": 40,
      "outputs": [
        {
          "output_type": "execute_result",
          "data": {
            "text/plain": [
              "array(['2020-02-17T00:00:00.000000000', '2020-02-18T00:00:00.000000000',\n",
              "       '2020-02-19T00:00:00.000000000', '2020-02-20T00:00:00.000000000',\n",
              "       '2020-02-21T00:00:00.000000000', '2020-02-24T00:00:00.000000000',\n",
              "       '2020-02-25T00:00:00.000000000', '2020-02-26T00:00:00.000000000',\n",
              "       '2020-02-27T00:00:00.000000000', '2020-02-28T00:00:00.000000000',\n",
              "       '2020-03-02T00:00:00.000000000', '2020-03-03T00:00:00.000000000',\n",
              "       '2020-03-04T00:00:00.000000000', '2020-03-05T00:00:00.000000000',\n",
              "       '2020-03-06T00:00:00.000000000', '2020-03-09T00:00:00.000000000',\n",
              "       '2020-03-10T00:00:00.000000000', '2020-03-11T00:00:00.000000000',\n",
              "       '2020-03-12T00:00:00.000000000', '2020-03-13T00:00:00.000000000',\n",
              "       '2020-03-16T00:00:00.000000000', '2020-03-17T00:00:00.000000000',\n",
              "       '2020-03-18T00:00:00.000000000', '2020-03-19T00:00:00.000000000',\n",
              "       '2020-03-20T00:00:00.000000000', '2020-03-23T00:00:00.000000000',\n",
              "       '2020-03-24T00:00:00.000000000', '2020-03-25T00:00:00.000000000',\n",
              "       '2020-03-26T00:00:00.000000000', '2020-03-27T00:00:00.000000000',\n",
              "       '2020-03-30T00:00:00.000000000', '2020-03-31T00:00:00.000000000',\n",
              "       '2020-04-01T00:00:00.000000000', '2020-04-02T00:00:00.000000000',\n",
              "       '2020-04-03T00:00:00.000000000', '2020-04-06T00:00:00.000000000',\n",
              "       '2020-04-07T00:00:00.000000000', '2020-04-08T00:00:00.000000000',\n",
              "       '2020-04-09T00:00:00.000000000', '2020-04-10T00:00:00.000000000',\n",
              "       '2020-04-13T00:00:00.000000000', '2020-04-14T00:00:00.000000000',\n",
              "       '2020-04-15T00:00:00.000000000', '2020-04-16T00:00:00.000000000',\n",
              "       '2020-04-17T00:00:00.000000000', '2020-04-20T00:00:00.000000000',\n",
              "       '2020-04-21T00:00:00.000000000', '2020-04-22T00:00:00.000000000',\n",
              "       '2020-04-23T00:00:00.000000000', '2020-04-24T00:00:00.000000000',\n",
              "       '2020-04-27T00:00:00.000000000', '2020-04-28T00:00:00.000000000',\n",
              "       '2020-04-29T00:00:00.000000000', '2020-04-30T00:00:00.000000000',\n",
              "       '2020-05-01T00:00:00.000000000', '2020-05-04T00:00:00.000000000',\n",
              "       '2020-05-05T00:00:00.000000000', '2020-05-06T00:00:00.000000000',\n",
              "       '2020-05-07T00:00:00.000000000', '2020-05-08T00:00:00.000000000',\n",
              "       '2020-05-11T00:00:00.000000000', '2020-05-12T00:00:00.000000000',\n",
              "       '2020-05-13T00:00:00.000000000', '2020-05-14T00:00:00.000000000',\n",
              "       '2020-05-15T00:00:00.000000000', '2020-05-18T00:00:00.000000000',\n",
              "       '2020-05-19T00:00:00.000000000', '2020-05-20T00:00:00.000000000',\n",
              "       '2020-05-21T00:00:00.000000000', '2020-05-22T00:00:00.000000000',\n",
              "       '2020-05-25T00:00:00.000000000', '2020-05-26T00:00:00.000000000',\n",
              "       '2020-05-27T00:00:00.000000000', '2020-05-28T00:00:00.000000000',\n",
              "       '2020-05-29T00:00:00.000000000', '2020-06-01T00:00:00.000000000'],\n",
              "      dtype='datetime64[ns]')"
            ]
          },
          "metadata": {
            "tags": []
          },
          "execution_count": 40
        }
      ]
    },
    {
      "cell_type": "markdown",
      "metadata": {
        "id": "15_yNLsEZUTO"
      },
      "source": [
        "As we can see above, we see dates go from `02-17`, `02-18`, `02-19`, `02-20`, `02-21` to `02-24`, which makes sense, because the two dates lost are probably weekends. This validates that our function indeed extracts the weekday data."
      ]
    },
    {
      "cell_type": "markdown",
      "metadata": {
        "id": "Mv1JjxS4ZL1J"
      },
      "source": [
        "# 4. Average behavioral data for each county from Feb to June"
      ]
    },
    {
      "cell_type": "code",
      "metadata": {
        "colab": {
          "base_uri": "https://localhost:8080/",
          "height": 309
        },
        "id": "BMA-EE66Ygvi",
        "outputId": "5a761647-df6f-4671-c3b7-39042009b435"
      },
      "source": [
        "data.head()"
      ],
      "execution_count": 41,
      "outputs": [
        {
          "output_type": "execute_result",
          "data": {
            "text/html": [
              "<div>\n",
              "<style scoped>\n",
              "    .dataframe tbody tr th:only-of-type {\n",
              "        vertical-align: middle;\n",
              "    }\n",
              "\n",
              "    .dataframe tbody tr th {\n",
              "        vertical-align: top;\n",
              "    }\n",
              "\n",
              "    .dataframe thead th {\n",
              "        text-align: right;\n",
              "    }\n",
              "</style>\n",
              "<table border=\"1\" class=\"dataframe\">\n",
              "  <thead>\n",
              "    <tr style=\"text-align: right;\">\n",
              "      <th></th>\n",
              "      <th>census_fips_code</th>\n",
              "      <th>date</th>\n",
              "      <th>retail_and_recreation_percent_change_from_baseline</th>\n",
              "      <th>grocery_and_pharmacy_percent_change_from_baseline</th>\n",
              "      <th>parks_percent_change_from_baseline</th>\n",
              "      <th>transit_stations_percent_change_from_baseline</th>\n",
              "      <th>workplaces_percent_change_from_baseline</th>\n",
              "      <th>residential_percent_change_from_baseline</th>\n",
              "    </tr>\n",
              "  </thead>\n",
              "  <tbody>\n",
              "    <tr>\n",
              "      <th>534</th>\n",
              "      <td>1001.0</td>\n",
              "      <td>2020-02-17</td>\n",
              "      <td>8.0</td>\n",
              "      <td>0.0</td>\n",
              "      <td>NaN</td>\n",
              "      <td>NaN</td>\n",
              "      <td>-27.0</td>\n",
              "      <td>5.0</td>\n",
              "    </tr>\n",
              "    <tr>\n",
              "      <th>535</th>\n",
              "      <td>1001.0</td>\n",
              "      <td>2020-02-18</td>\n",
              "      <td>-2.0</td>\n",
              "      <td>0.0</td>\n",
              "      <td>NaN</td>\n",
              "      <td>NaN</td>\n",
              "      <td>2.0</td>\n",
              "      <td>0.0</td>\n",
              "    </tr>\n",
              "    <tr>\n",
              "      <th>536</th>\n",
              "      <td>1001.0</td>\n",
              "      <td>2020-02-19</td>\n",
              "      <td>-2.0</td>\n",
              "      <td>0.0</td>\n",
              "      <td>NaN</td>\n",
              "      <td>NaN</td>\n",
              "      <td>2.0</td>\n",
              "      <td>0.0</td>\n",
              "    </tr>\n",
              "    <tr>\n",
              "      <th>537</th>\n",
              "      <td>1001.0</td>\n",
              "      <td>2020-02-20</td>\n",
              "      <td>-8.0</td>\n",
              "      <td>-3.0</td>\n",
              "      <td>NaN</td>\n",
              "      <td>NaN</td>\n",
              "      <td>1.0</td>\n",
              "      <td>2.0</td>\n",
              "    </tr>\n",
              "    <tr>\n",
              "      <th>538</th>\n",
              "      <td>1001.0</td>\n",
              "      <td>2020-02-21</td>\n",
              "      <td>-3.0</td>\n",
              "      <td>-2.0</td>\n",
              "      <td>NaN</td>\n",
              "      <td>NaN</td>\n",
              "      <td>3.0</td>\n",
              "      <td>0.0</td>\n",
              "    </tr>\n",
              "  </tbody>\n",
              "</table>\n",
              "</div>"
            ],
            "text/plain": [
              "     census_fips_code  ... residential_percent_change_from_baseline\n",
              "534            1001.0  ...                                      5.0\n",
              "535            1001.0  ...                                      0.0\n",
              "536            1001.0  ...                                      0.0\n",
              "537            1001.0  ...                                      2.0\n",
              "538            1001.0  ...                                      0.0\n",
              "\n",
              "[5 rows x 8 columns]"
            ]
          },
          "metadata": {
            "tags": []
          },
          "execution_count": 41
        }
      ]
    },
    {
      "cell_type": "code",
      "metadata": {
        "colab": {
          "base_uri": "https://localhost:8080/"
        },
        "id": "3Td-Ep--Ze2B",
        "outputId": "efb1b0f0-d6ae-4526-c2db-ff9bf40cd494"
      },
      "source": [
        "data.drop(['date'], axis = 1, inplace = True)"
      ],
      "execution_count": 42,
      "outputs": [
        {
          "output_type": "stream",
          "text": [
            "/usr/local/lib/python3.6/dist-packages/pandas/core/frame.py:4174: SettingWithCopyWarning: \n",
            "A value is trying to be set on a copy of a slice from a DataFrame\n",
            "\n",
            "See the caveats in the documentation: https://pandas.pydata.org/pandas-docs/stable/user_guide/indexing.html#returning-a-view-versus-a-copy\n",
            "  errors=errors,\n"
          ],
          "name": "stderr"
        }
      ]
    },
    {
      "cell_type": "code",
      "metadata": {
        "colab": {
          "base_uri": "https://localhost:8080/",
          "height": 224
        },
        "id": "AjrkAYYNZlcC",
        "outputId": "a44ba02c-ec16-4939-97c7-c7ba012c5748"
      },
      "source": [
        "data.head()"
      ],
      "execution_count": 43,
      "outputs": [
        {
          "output_type": "execute_result",
          "data": {
            "text/html": [
              "<div>\n",
              "<style scoped>\n",
              "    .dataframe tbody tr th:only-of-type {\n",
              "        vertical-align: middle;\n",
              "    }\n",
              "\n",
              "    .dataframe tbody tr th {\n",
              "        vertical-align: top;\n",
              "    }\n",
              "\n",
              "    .dataframe thead th {\n",
              "        text-align: right;\n",
              "    }\n",
              "</style>\n",
              "<table border=\"1\" class=\"dataframe\">\n",
              "  <thead>\n",
              "    <tr style=\"text-align: right;\">\n",
              "      <th></th>\n",
              "      <th>census_fips_code</th>\n",
              "      <th>retail_and_recreation_percent_change_from_baseline</th>\n",
              "      <th>grocery_and_pharmacy_percent_change_from_baseline</th>\n",
              "      <th>parks_percent_change_from_baseline</th>\n",
              "      <th>transit_stations_percent_change_from_baseline</th>\n",
              "      <th>workplaces_percent_change_from_baseline</th>\n",
              "      <th>residential_percent_change_from_baseline</th>\n",
              "    </tr>\n",
              "  </thead>\n",
              "  <tbody>\n",
              "    <tr>\n",
              "      <th>534</th>\n",
              "      <td>1001.0</td>\n",
              "      <td>8.0</td>\n",
              "      <td>0.0</td>\n",
              "      <td>NaN</td>\n",
              "      <td>NaN</td>\n",
              "      <td>-27.0</td>\n",
              "      <td>5.0</td>\n",
              "    </tr>\n",
              "    <tr>\n",
              "      <th>535</th>\n",
              "      <td>1001.0</td>\n",
              "      <td>-2.0</td>\n",
              "      <td>0.0</td>\n",
              "      <td>NaN</td>\n",
              "      <td>NaN</td>\n",
              "      <td>2.0</td>\n",
              "      <td>0.0</td>\n",
              "    </tr>\n",
              "    <tr>\n",
              "      <th>536</th>\n",
              "      <td>1001.0</td>\n",
              "      <td>-2.0</td>\n",
              "      <td>0.0</td>\n",
              "      <td>NaN</td>\n",
              "      <td>NaN</td>\n",
              "      <td>2.0</td>\n",
              "      <td>0.0</td>\n",
              "    </tr>\n",
              "    <tr>\n",
              "      <th>537</th>\n",
              "      <td>1001.0</td>\n",
              "      <td>-8.0</td>\n",
              "      <td>-3.0</td>\n",
              "      <td>NaN</td>\n",
              "      <td>NaN</td>\n",
              "      <td>1.0</td>\n",
              "      <td>2.0</td>\n",
              "    </tr>\n",
              "    <tr>\n",
              "      <th>538</th>\n",
              "      <td>1001.0</td>\n",
              "      <td>-3.0</td>\n",
              "      <td>-2.0</td>\n",
              "      <td>NaN</td>\n",
              "      <td>NaN</td>\n",
              "      <td>3.0</td>\n",
              "      <td>0.0</td>\n",
              "    </tr>\n",
              "  </tbody>\n",
              "</table>\n",
              "</div>"
            ],
            "text/plain": [
              "     census_fips_code  ...  residential_percent_change_from_baseline\n",
              "534            1001.0  ...                                       5.0\n",
              "535            1001.0  ...                                       0.0\n",
              "536            1001.0  ...                                       0.0\n",
              "537            1001.0  ...                                       2.0\n",
              "538            1001.0  ...                                       0.0\n",
              "\n",
              "[5 rows x 7 columns]"
            ]
          },
          "metadata": {
            "tags": []
          },
          "execution_count": 43
        }
      ]
    },
    {
      "cell_type": "code",
      "metadata": {
        "id": "-RyawCifZXeF"
      },
      "source": [
        "data = data.groupby(['census_fips_code']).agg(\n",
        "    avg_retail_and_recreation_percent_change_6_1 = ('retail_and_recreation_percent_change_from_baseline', 'mean'),\n",
        "    avg_grocery_and_pharmacy_percent_change_6_1 = ('grocery_and_pharmacy_percent_change_from_baseline', 'mean'),\n",
        "    avg_parks_percent_change_6_1 = ('parks_percent_change_from_baseline', 'mean'),\n",
        "    avg_transit_stations_percent_change_6_1 = ('transit_stations_percent_change_from_baseline', 'mean'),\n",
        "    avg_workplaces_percent_change_6_1 = ('workplaces_percent_change_from_baseline', 'mean'),\n",
        "    avg_residential_percent_change_6_1 = ('residential_percent_change_from_baseline', 'mean')\n",
        ").reset_index()"
      ],
      "execution_count": 44,
      "outputs": []
    },
    {
      "cell_type": "code",
      "metadata": {
        "colab": {
          "base_uri": "https://localhost:8080/",
          "height": 439
        },
        "id": "yIvsd6Xhb2I4",
        "outputId": "99a6513c-2193-4968-b110-8a5e55018ade"
      },
      "source": [
        "data"
      ],
      "execution_count": 45,
      "outputs": [
        {
          "output_type": "execute_result",
          "data": {
            "text/html": [
              "<div>\n",
              "<style scoped>\n",
              "    .dataframe tbody tr th:only-of-type {\n",
              "        vertical-align: middle;\n",
              "    }\n",
              "\n",
              "    .dataframe tbody tr th {\n",
              "        vertical-align: top;\n",
              "    }\n",
              "\n",
              "    .dataframe thead th {\n",
              "        text-align: right;\n",
              "    }\n",
              "</style>\n",
              "<table border=\"1\" class=\"dataframe\">\n",
              "  <thead>\n",
              "    <tr style=\"text-align: right;\">\n",
              "      <th></th>\n",
              "      <th>census_fips_code</th>\n",
              "      <th>avg_retail_and_recreation_percent_change_6_1</th>\n",
              "      <th>avg_grocery_and_pharmacy_percent_change_6_1</th>\n",
              "      <th>avg_parks_percent_change_6_1</th>\n",
              "      <th>avg_transit_stations_percent_change_6_1</th>\n",
              "      <th>avg_workplaces_percent_change_6_1</th>\n",
              "      <th>avg_residential_percent_change_6_1</th>\n",
              "    </tr>\n",
              "  </thead>\n",
              "  <tbody>\n",
              "    <tr>\n",
              "      <th>0</th>\n",
              "      <td>1001.0</td>\n",
              "      <td>-6.973684</td>\n",
              "      <td>10.026316</td>\n",
              "      <td>NaN</td>\n",
              "      <td>NaN</td>\n",
              "      <td>-25.157895</td>\n",
              "      <td>9.480000</td>\n",
              "    </tr>\n",
              "    <tr>\n",
              "      <th>1</th>\n",
              "      <td>1003.0</td>\n",
              "      <td>-13.131579</td>\n",
              "      <td>4.697368</td>\n",
              "      <td>18.578947</td>\n",
              "      <td>-8.197368</td>\n",
              "      <td>-22.618421</td>\n",
              "      <td>7.605263</td>\n",
              "    </tr>\n",
              "    <tr>\n",
              "      <th>2</th>\n",
              "      <td>1005.0</td>\n",
              "      <td>3.755102</td>\n",
              "      <td>-7.763158</td>\n",
              "      <td>NaN</td>\n",
              "      <td>NaN</td>\n",
              "      <td>-15.631579</td>\n",
              "      <td>NaN</td>\n",
              "    </tr>\n",
              "    <tr>\n",
              "      <th>3</th>\n",
              "      <td>1007.0</td>\n",
              "      <td>1.971429</td>\n",
              "      <td>6.350000</td>\n",
              "      <td>NaN</td>\n",
              "      <td>NaN</td>\n",
              "      <td>-19.907895</td>\n",
              "      <td>NaN</td>\n",
              "    </tr>\n",
              "    <tr>\n",
              "      <th>4</th>\n",
              "      <td>1009.0</td>\n",
              "      <td>-5.929825</td>\n",
              "      <td>5.105263</td>\n",
              "      <td>NaN</td>\n",
              "      <td>NaN</td>\n",
              "      <td>-23.565789</td>\n",
              "      <td>8.720000</td>\n",
              "    </tr>\n",
              "    <tr>\n",
              "      <th>...</th>\n",
              "      <td>...</td>\n",
              "      <td>...</td>\n",
              "      <td>...</td>\n",
              "      <td>...</td>\n",
              "      <td>...</td>\n",
              "      <td>...</td>\n",
              "      <td>...</td>\n",
              "    </tr>\n",
              "    <tr>\n",
              "      <th>2823</th>\n",
              "      <td>56037.0</td>\n",
              "      <td>-10.394737</td>\n",
              "      <td>7.426230</td>\n",
              "      <td>NaN</td>\n",
              "      <td>14.578947</td>\n",
              "      <td>-23.197368</td>\n",
              "      <td>7.120000</td>\n",
              "    </tr>\n",
              "    <tr>\n",
              "      <th>2824</th>\n",
              "      <td>56039.0</td>\n",
              "      <td>-38.263158</td>\n",
              "      <td>-17.906977</td>\n",
              "      <td>-24.197368</td>\n",
              "      <td>-41.833333</td>\n",
              "      <td>-35.434211</td>\n",
              "      <td>NaN</td>\n",
              "    </tr>\n",
              "    <tr>\n",
              "      <th>2825</th>\n",
              "      <td>56041.0</td>\n",
              "      <td>1.511111</td>\n",
              "      <td>15.942857</td>\n",
              "      <td>NaN</td>\n",
              "      <td>14.842105</td>\n",
              "      <td>-19.421053</td>\n",
              "      <td>NaN</td>\n",
              "    </tr>\n",
              "    <tr>\n",
              "      <th>2826</th>\n",
              "      <td>56043.0</td>\n",
              "      <td>-4.400000</td>\n",
              "      <td>-7.000000</td>\n",
              "      <td>NaN</td>\n",
              "      <td>NaN</td>\n",
              "      <td>-20.960526</td>\n",
              "      <td>NaN</td>\n",
              "    </tr>\n",
              "    <tr>\n",
              "      <th>2827</th>\n",
              "      <td>56045.0</td>\n",
              "      <td>-55.500000</td>\n",
              "      <td>-5.800000</td>\n",
              "      <td>NaN</td>\n",
              "      <td>NaN</td>\n",
              "      <td>-26.270270</td>\n",
              "      <td>NaN</td>\n",
              "    </tr>\n",
              "  </tbody>\n",
              "</table>\n",
              "<p>2828 rows × 7 columns</p>\n",
              "</div>"
            ],
            "text/plain": [
              "      census_fips_code  ...  avg_residential_percent_change_6_1\n",
              "0               1001.0  ...                            9.480000\n",
              "1               1003.0  ...                            7.605263\n",
              "2               1005.0  ...                                 NaN\n",
              "3               1007.0  ...                                 NaN\n",
              "4               1009.0  ...                            8.720000\n",
              "...                ...  ...                                 ...\n",
              "2823           56037.0  ...                            7.120000\n",
              "2824           56039.0  ...                                 NaN\n",
              "2825           56041.0  ...                                 NaN\n",
              "2826           56043.0  ...                                 NaN\n",
              "2827           56045.0  ...                                 NaN\n",
              "\n",
              "[2828 rows x 7 columns]"
            ]
          },
          "metadata": {
            "tags": []
          },
          "execution_count": 45
        }
      ]
    },
    {
      "cell_type": "code",
      "metadata": {
        "id": "sVYib8BucRbx"
      },
      "source": [
        "# now we are done! save the data!\n",
        "data.to_csv('avg_google_mobility_up_to_6_1_weekdays.csv', index = False)"
      ],
      "execution_count": 46,
      "outputs": []
    },
    {
      "cell_type": "markdown",
      "metadata": {
        "id": "C4puN5ndq2D5"
      },
      "source": [
        "# 5. Combine Google Behavioral data with our covariates."
      ]
    },
    {
      "cell_type": "code",
      "metadata": {
        "id": "5Xz1llHPq36y"
      },
      "source": [
        "google_data = data"
      ],
      "execution_count": 47,
      "outputs": []
    },
    {
      "cell_type": "code",
      "metadata": {
        "id": "70nuVSC9ryNw"
      },
      "source": [
        "safe_graph_data = pd.read_csv('county_data_with_reduced_covariates_with_SIP.csv')"
      ],
      "execution_count": 48,
      "outputs": []
    },
    {
      "cell_type": "code",
      "metadata": {
        "colab": {
          "base_uri": "https://localhost:8080/",
          "height": 439
        },
        "id": "QtNkCkjAsIYE",
        "outputId": "dec7b053-6cd3-47c7-dcaa-b1dcc38fe00e"
      },
      "source": [
        "google_data"
      ],
      "execution_count": 49,
      "outputs": [
        {
          "output_type": "execute_result",
          "data": {
            "text/html": [
              "<div>\n",
              "<style scoped>\n",
              "    .dataframe tbody tr th:only-of-type {\n",
              "        vertical-align: middle;\n",
              "    }\n",
              "\n",
              "    .dataframe tbody tr th {\n",
              "        vertical-align: top;\n",
              "    }\n",
              "\n",
              "    .dataframe thead th {\n",
              "        text-align: right;\n",
              "    }\n",
              "</style>\n",
              "<table border=\"1\" class=\"dataframe\">\n",
              "  <thead>\n",
              "    <tr style=\"text-align: right;\">\n",
              "      <th></th>\n",
              "      <th>census_fips_code</th>\n",
              "      <th>avg_retail_and_recreation_percent_change_6_1</th>\n",
              "      <th>avg_grocery_and_pharmacy_percent_change_6_1</th>\n",
              "      <th>avg_parks_percent_change_6_1</th>\n",
              "      <th>avg_transit_stations_percent_change_6_1</th>\n",
              "      <th>avg_workplaces_percent_change_6_1</th>\n",
              "      <th>avg_residential_percent_change_6_1</th>\n",
              "    </tr>\n",
              "  </thead>\n",
              "  <tbody>\n",
              "    <tr>\n",
              "      <th>0</th>\n",
              "      <td>1001.0</td>\n",
              "      <td>-6.973684</td>\n",
              "      <td>10.026316</td>\n",
              "      <td>NaN</td>\n",
              "      <td>NaN</td>\n",
              "      <td>-25.157895</td>\n",
              "      <td>9.480000</td>\n",
              "    </tr>\n",
              "    <tr>\n",
              "      <th>1</th>\n",
              "      <td>1003.0</td>\n",
              "      <td>-13.131579</td>\n",
              "      <td>4.697368</td>\n",
              "      <td>18.578947</td>\n",
              "      <td>-8.197368</td>\n",
              "      <td>-22.618421</td>\n",
              "      <td>7.605263</td>\n",
              "    </tr>\n",
              "    <tr>\n",
              "      <th>2</th>\n",
              "      <td>1005.0</td>\n",
              "      <td>3.755102</td>\n",
              "      <td>-7.763158</td>\n",
              "      <td>NaN</td>\n",
              "      <td>NaN</td>\n",
              "      <td>-15.631579</td>\n",
              "      <td>NaN</td>\n",
              "    </tr>\n",
              "    <tr>\n",
              "      <th>3</th>\n",
              "      <td>1007.0</td>\n",
              "      <td>1.971429</td>\n",
              "      <td>6.350000</td>\n",
              "      <td>NaN</td>\n",
              "      <td>NaN</td>\n",
              "      <td>-19.907895</td>\n",
              "      <td>NaN</td>\n",
              "    </tr>\n",
              "    <tr>\n",
              "      <th>4</th>\n",
              "      <td>1009.0</td>\n",
              "      <td>-5.929825</td>\n",
              "      <td>5.105263</td>\n",
              "      <td>NaN</td>\n",
              "      <td>NaN</td>\n",
              "      <td>-23.565789</td>\n",
              "      <td>8.720000</td>\n",
              "    </tr>\n",
              "    <tr>\n",
              "      <th>...</th>\n",
              "      <td>...</td>\n",
              "      <td>...</td>\n",
              "      <td>...</td>\n",
              "      <td>...</td>\n",
              "      <td>...</td>\n",
              "      <td>...</td>\n",
              "      <td>...</td>\n",
              "    </tr>\n",
              "    <tr>\n",
              "      <th>2823</th>\n",
              "      <td>56037.0</td>\n",
              "      <td>-10.394737</td>\n",
              "      <td>7.426230</td>\n",
              "      <td>NaN</td>\n",
              "      <td>14.578947</td>\n",
              "      <td>-23.197368</td>\n",
              "      <td>7.120000</td>\n",
              "    </tr>\n",
              "    <tr>\n",
              "      <th>2824</th>\n",
              "      <td>56039.0</td>\n",
              "      <td>-38.263158</td>\n",
              "      <td>-17.906977</td>\n",
              "      <td>-24.197368</td>\n",
              "      <td>-41.833333</td>\n",
              "      <td>-35.434211</td>\n",
              "      <td>NaN</td>\n",
              "    </tr>\n",
              "    <tr>\n",
              "      <th>2825</th>\n",
              "      <td>56041.0</td>\n",
              "      <td>1.511111</td>\n",
              "      <td>15.942857</td>\n",
              "      <td>NaN</td>\n",
              "      <td>14.842105</td>\n",
              "      <td>-19.421053</td>\n",
              "      <td>NaN</td>\n",
              "    </tr>\n",
              "    <tr>\n",
              "      <th>2826</th>\n",
              "      <td>56043.0</td>\n",
              "      <td>-4.400000</td>\n",
              "      <td>-7.000000</td>\n",
              "      <td>NaN</td>\n",
              "      <td>NaN</td>\n",
              "      <td>-20.960526</td>\n",
              "      <td>NaN</td>\n",
              "    </tr>\n",
              "    <tr>\n",
              "      <th>2827</th>\n",
              "      <td>56045.0</td>\n",
              "      <td>-55.500000</td>\n",
              "      <td>-5.800000</td>\n",
              "      <td>NaN</td>\n",
              "      <td>NaN</td>\n",
              "      <td>-26.270270</td>\n",
              "      <td>NaN</td>\n",
              "    </tr>\n",
              "  </tbody>\n",
              "</table>\n",
              "<p>2828 rows × 7 columns</p>\n",
              "</div>"
            ],
            "text/plain": [
              "      census_fips_code  ...  avg_residential_percent_change_6_1\n",
              "0               1001.0  ...                            9.480000\n",
              "1               1003.0  ...                            7.605263\n",
              "2               1005.0  ...                                 NaN\n",
              "3               1007.0  ...                                 NaN\n",
              "4               1009.0  ...                            8.720000\n",
              "...                ...  ...                                 ...\n",
              "2823           56037.0  ...                            7.120000\n",
              "2824           56039.0  ...                                 NaN\n",
              "2825           56041.0  ...                                 NaN\n",
              "2826           56043.0  ...                                 NaN\n",
              "2827           56045.0  ...                                 NaN\n",
              "\n",
              "[2828 rows x 7 columns]"
            ]
          },
          "metadata": {
            "tags": []
          },
          "execution_count": 49
        }
      ]
    },
    {
      "cell_type": "code",
      "metadata": {
        "colab": {
          "base_uri": "https://localhost:8080/",
          "height": 572
        },
        "id": "juu0gSMNsJqK",
        "outputId": "e8b3442a-5d76-497a-f8a2-649789a1b9af"
      },
      "source": [
        "safe_graph_data"
      ],
      "execution_count": 50,
      "outputs": [
        {
          "output_type": "execute_result",
          "data": {
            "text/html": [
              "<div>\n",
              "<style scoped>\n",
              "    .dataframe tbody tr th:only-of-type {\n",
              "        vertical-align: middle;\n",
              "    }\n",
              "\n",
              "    .dataframe tbody tr th {\n",
              "        vertical-align: top;\n",
              "    }\n",
              "\n",
              "    .dataframe thead th {\n",
              "        text-align: right;\n",
              "    }\n",
              "</style>\n",
              "<table border=\"1\" class=\"dataframe\">\n",
              "  <thead>\n",
              "    <tr style=\"text-align: right;\">\n",
              "      <th></th>\n",
              "      <th>state</th>\n",
              "      <th>state_code</th>\n",
              "      <th>State Name</th>\n",
              "      <th>cnamelong</th>\n",
              "      <th>county_code</th>\n",
              "      <th>diff_in_perc_at_home</th>\n",
              "      <th>SIP?</th>\n",
              "      <th>Median Household Income</th>\n",
              "      <th>% Rural</th>\n",
              "      <th>Population_y</th>\n",
              "      <th>political_diff</th>\n",
              "      <th>% less than 18 years of age</th>\n",
              "      <th>% 65 and over</th>\n",
              "      <th>% Asian</th>\n",
              "      <th>% Black</th>\n",
              "      <th>% Hispanic</th>\n",
              "      <th>% Non-Hispanic White</th>\n",
              "    </tr>\n",
              "  </thead>\n",
              "  <tbody>\n",
              "    <tr>\n",
              "      <th>0</th>\n",
              "      <td>1.0</td>\n",
              "      <td>AL</td>\n",
              "      <td>Alabama</td>\n",
              "      <td>Autauga County</td>\n",
              "      <td>1001.0</td>\n",
              "      <td>0.050678</td>\n",
              "      <td>1</td>\n",
              "      <td>59338.0</td>\n",
              "      <td>42.0</td>\n",
              "      <td>55601</td>\n",
              "      <td>-0.494789</td>\n",
              "      <td>23.7</td>\n",
              "      <td>15.6</td>\n",
              "      <td>1.2</td>\n",
              "      <td>19.3</td>\n",
              "      <td>3.0</td>\n",
              "      <td>74.3</td>\n",
              "    </tr>\n",
              "    <tr>\n",
              "      <th>1</th>\n",
              "      <td>1.0</td>\n",
              "      <td>AL</td>\n",
              "      <td>Alabama</td>\n",
              "      <td>Baldwin County</td>\n",
              "      <td>1003.0</td>\n",
              "      <td>0.050312</td>\n",
              "      <td>1</td>\n",
              "      <td>57588.0</td>\n",
              "      <td>42.3</td>\n",
              "      <td>218022</td>\n",
              "      <td>-0.577862</td>\n",
              "      <td>21.6</td>\n",
              "      <td>20.4</td>\n",
              "      <td>1.2</td>\n",
              "      <td>8.8</td>\n",
              "      <td>4.6</td>\n",
              "      <td>83.1</td>\n",
              "    </tr>\n",
              "    <tr>\n",
              "      <th>2</th>\n",
              "      <td>1.0</td>\n",
              "      <td>AL</td>\n",
              "      <td>Alabama</td>\n",
              "      <td>Barbour County</td>\n",
              "      <td>1005.0</td>\n",
              "      <td>0.007037</td>\n",
              "      <td>1</td>\n",
              "      <td>34382.0</td>\n",
              "      <td>67.8</td>\n",
              "      <td>24881</td>\n",
              "      <td>-0.056112</td>\n",
              "      <td>20.9</td>\n",
              "      <td>19.4</td>\n",
              "      <td>0.5</td>\n",
              "      <td>48.0</td>\n",
              "      <td>4.3</td>\n",
              "      <td>45.6</td>\n",
              "    </tr>\n",
              "    <tr>\n",
              "      <th>3</th>\n",
              "      <td>1.0</td>\n",
              "      <td>AL</td>\n",
              "      <td>Alabama</td>\n",
              "      <td>Bibb County</td>\n",
              "      <td>1007.0</td>\n",
              "      <td>0.011809</td>\n",
              "      <td>1</td>\n",
              "      <td>46064.0</td>\n",
              "      <td>68.4</td>\n",
              "      <td>22400</td>\n",
              "      <td>-0.555441</td>\n",
              "      <td>20.5</td>\n",
              "      <td>16.5</td>\n",
              "      <td>0.2</td>\n",
              "      <td>21.1</td>\n",
              "      <td>2.6</td>\n",
              "      <td>74.6</td>\n",
              "    </tr>\n",
              "    <tr>\n",
              "      <th>4</th>\n",
              "      <td>1.0</td>\n",
              "      <td>AL</td>\n",
              "      <td>Alabama</td>\n",
              "      <td>Blount County</td>\n",
              "      <td>1009.0</td>\n",
              "      <td>0.038890</td>\n",
              "      <td>1</td>\n",
              "      <td>50412.0</td>\n",
              "      <td>90.0</td>\n",
              "      <td>57840</td>\n",
              "      <td>-0.813820</td>\n",
              "      <td>23.2</td>\n",
              "      <td>18.2</td>\n",
              "      <td>0.3</td>\n",
              "      <td>1.5</td>\n",
              "      <td>9.6</td>\n",
              "      <td>86.9</td>\n",
              "    </tr>\n",
              "    <tr>\n",
              "      <th>...</th>\n",
              "      <td>...</td>\n",
              "      <td>...</td>\n",
              "      <td>...</td>\n",
              "      <td>...</td>\n",
              "      <td>...</td>\n",
              "      <td>...</td>\n",
              "      <td>...</td>\n",
              "      <td>...</td>\n",
              "      <td>...</td>\n",
              "      <td>...</td>\n",
              "      <td>...</td>\n",
              "      <td>...</td>\n",
              "      <td>...</td>\n",
              "      <td>...</td>\n",
              "      <td>...</td>\n",
              "      <td>...</td>\n",
              "      <td>...</td>\n",
              "    </tr>\n",
              "    <tr>\n",
              "      <th>2991</th>\n",
              "      <td>56.0</td>\n",
              "      <td>WY</td>\n",
              "      <td>Wyoming</td>\n",
              "      <td>Sweetwater County</td>\n",
              "      <td>56037.0</td>\n",
              "      <td>-0.018485</td>\n",
              "      <td>0</td>\n",
              "      <td>73315.0</td>\n",
              "      <td>10.9</td>\n",
              "      <td>43051</td>\n",
              "      <td>-0.535382</td>\n",
              "      <td>26.2</td>\n",
              "      <td>12.1</td>\n",
              "      <td>1.0</td>\n",
              "      <td>1.1</td>\n",
              "      <td>16.1</td>\n",
              "      <td>79.3</td>\n",
              "    </tr>\n",
              "    <tr>\n",
              "      <th>2992</th>\n",
              "      <td>56.0</td>\n",
              "      <td>WY</td>\n",
              "      <td>Wyoming</td>\n",
              "      <td>Teton County</td>\n",
              "      <td>56039.0</td>\n",
              "      <td>0.075183</td>\n",
              "      <td>1</td>\n",
              "      <td>99087.0</td>\n",
              "      <td>46.4</td>\n",
              "      <td>23081</td>\n",
              "      <td>0.278663</td>\n",
              "      <td>18.4</td>\n",
              "      <td>15.4</td>\n",
              "      <td>1.4</td>\n",
              "      <td>0.6</td>\n",
              "      <td>14.9</td>\n",
              "      <td>81.5</td>\n",
              "    </tr>\n",
              "    <tr>\n",
              "      <th>2993</th>\n",
              "      <td>56.0</td>\n",
              "      <td>WY</td>\n",
              "      <td>Wyoming</td>\n",
              "      <td>Uinta County</td>\n",
              "      <td>56041.0</td>\n",
              "      <td>0.010157</td>\n",
              "      <td>0</td>\n",
              "      <td>63401.0</td>\n",
              "      <td>43.1</td>\n",
              "      <td>20299</td>\n",
              "      <td>-0.614926</td>\n",
              "      <td>28.8</td>\n",
              "      <td>14.1</td>\n",
              "      <td>0.5</td>\n",
              "      <td>0.7</td>\n",
              "      <td>9.2</td>\n",
              "      <td>87.4</td>\n",
              "    </tr>\n",
              "    <tr>\n",
              "      <th>2994</th>\n",
              "      <td>56.0</td>\n",
              "      <td>WY</td>\n",
              "      <td>Wyoming</td>\n",
              "      <td>Washakie County</td>\n",
              "      <td>56043.0</td>\n",
              "      <td>-0.007825</td>\n",
              "      <td>0</td>\n",
              "      <td>55190.0</td>\n",
              "      <td>36.0</td>\n",
              "      <td>7885</td>\n",
              "      <td>-0.640377</td>\n",
              "      <td>22.7</td>\n",
              "      <td>21.7</td>\n",
              "      <td>0.8</td>\n",
              "      <td>0.5</td>\n",
              "      <td>14.1</td>\n",
              "      <td>82.4</td>\n",
              "    </tr>\n",
              "    <tr>\n",
              "      <th>2995</th>\n",
              "      <td>56.0</td>\n",
              "      <td>WY</td>\n",
              "      <td>Wyoming</td>\n",
              "      <td>Weston County</td>\n",
              "      <td>56045.0</td>\n",
              "      <td>-0.003361</td>\n",
              "      <td>0</td>\n",
              "      <td>54319.0</td>\n",
              "      <td>54.5</td>\n",
              "      <td>6967</td>\n",
              "      <td>-0.781044</td>\n",
              "      <td>20.8</td>\n",
              "      <td>20.5</td>\n",
              "      <td>1.9</td>\n",
              "      <td>0.6</td>\n",
              "      <td>4.1</td>\n",
              "      <td>90.0</td>\n",
              "    </tr>\n",
              "  </tbody>\n",
              "</table>\n",
              "<p>2996 rows × 17 columns</p>\n",
              "</div>"
            ],
            "text/plain": [
              "      state state_code State Name  ... % Black  % Hispanic  % Non-Hispanic White\n",
              "0       1.0         AL    Alabama  ...    19.3         3.0                  74.3\n",
              "1       1.0         AL    Alabama  ...     8.8         4.6                  83.1\n",
              "2       1.0         AL    Alabama  ...    48.0         4.3                  45.6\n",
              "3       1.0         AL    Alabama  ...    21.1         2.6                  74.6\n",
              "4       1.0         AL    Alabama  ...     1.5         9.6                  86.9\n",
              "...     ...        ...        ...  ...     ...         ...                   ...\n",
              "2991   56.0         WY    Wyoming  ...     1.1        16.1                  79.3\n",
              "2992   56.0         WY    Wyoming  ...     0.6        14.9                  81.5\n",
              "2993   56.0         WY    Wyoming  ...     0.7         9.2                  87.4\n",
              "2994   56.0         WY    Wyoming  ...     0.5        14.1                  82.4\n",
              "2995   56.0         WY    Wyoming  ...     0.6         4.1                  90.0\n",
              "\n",
              "[2996 rows x 17 columns]"
            ]
          },
          "metadata": {
            "tags": []
          },
          "execution_count": 50
        }
      ]
    },
    {
      "cell_type": "code",
      "metadata": {
        "id": "gm355dAssLNk"
      },
      "source": [
        "merged_data = safe_graph_data.merge(google_data, left_on = 'county_code', right_on = 'census_fips_code')"
      ],
      "execution_count": 51,
      "outputs": []
    },
    {
      "cell_type": "code",
      "metadata": {
        "colab": {
          "base_uri": "https://localhost:8080/",
          "height": 711
        },
        "id": "tX0PjsmcsgLX",
        "outputId": "a9ea0199-7daa-4d51-800b-fea8cabde6a6"
      },
      "source": [
        "merged_data"
      ],
      "execution_count": 52,
      "outputs": [
        {
          "output_type": "execute_result",
          "data": {
            "text/html": [
              "<div>\n",
              "<style scoped>\n",
              "    .dataframe tbody tr th:only-of-type {\n",
              "        vertical-align: middle;\n",
              "    }\n",
              "\n",
              "    .dataframe tbody tr th {\n",
              "        vertical-align: top;\n",
              "    }\n",
              "\n",
              "    .dataframe thead th {\n",
              "        text-align: right;\n",
              "    }\n",
              "</style>\n",
              "<table border=\"1\" class=\"dataframe\">\n",
              "  <thead>\n",
              "    <tr style=\"text-align: right;\">\n",
              "      <th></th>\n",
              "      <th>state</th>\n",
              "      <th>state_code</th>\n",
              "      <th>State Name</th>\n",
              "      <th>cnamelong</th>\n",
              "      <th>county_code</th>\n",
              "      <th>diff_in_perc_at_home</th>\n",
              "      <th>SIP?</th>\n",
              "      <th>Median Household Income</th>\n",
              "      <th>% Rural</th>\n",
              "      <th>Population_y</th>\n",
              "      <th>political_diff</th>\n",
              "      <th>% less than 18 years of age</th>\n",
              "      <th>% 65 and over</th>\n",
              "      <th>% Asian</th>\n",
              "      <th>% Black</th>\n",
              "      <th>% Hispanic</th>\n",
              "      <th>% Non-Hispanic White</th>\n",
              "      <th>census_fips_code</th>\n",
              "      <th>avg_retail_and_recreation_percent_change_6_1</th>\n",
              "      <th>avg_grocery_and_pharmacy_percent_change_6_1</th>\n",
              "      <th>avg_parks_percent_change_6_1</th>\n",
              "      <th>avg_transit_stations_percent_change_6_1</th>\n",
              "      <th>avg_workplaces_percent_change_6_1</th>\n",
              "      <th>avg_residential_percent_change_6_1</th>\n",
              "    </tr>\n",
              "  </thead>\n",
              "  <tbody>\n",
              "    <tr>\n",
              "      <th>0</th>\n",
              "      <td>1.0</td>\n",
              "      <td>AL</td>\n",
              "      <td>Alabama</td>\n",
              "      <td>Autauga County</td>\n",
              "      <td>1001.0</td>\n",
              "      <td>0.050678</td>\n",
              "      <td>1</td>\n",
              "      <td>59338.0</td>\n",
              "      <td>42.0</td>\n",
              "      <td>55601</td>\n",
              "      <td>-0.494789</td>\n",
              "      <td>23.7</td>\n",
              "      <td>15.6</td>\n",
              "      <td>1.2</td>\n",
              "      <td>19.3</td>\n",
              "      <td>3.0</td>\n",
              "      <td>74.3</td>\n",
              "      <td>1001.0</td>\n",
              "      <td>-6.973684</td>\n",
              "      <td>10.026316</td>\n",
              "      <td>NaN</td>\n",
              "      <td>NaN</td>\n",
              "      <td>-25.157895</td>\n",
              "      <td>9.480000</td>\n",
              "    </tr>\n",
              "    <tr>\n",
              "      <th>1</th>\n",
              "      <td>1.0</td>\n",
              "      <td>AL</td>\n",
              "      <td>Alabama</td>\n",
              "      <td>Baldwin County</td>\n",
              "      <td>1003.0</td>\n",
              "      <td>0.050312</td>\n",
              "      <td>1</td>\n",
              "      <td>57588.0</td>\n",
              "      <td>42.3</td>\n",
              "      <td>218022</td>\n",
              "      <td>-0.577862</td>\n",
              "      <td>21.6</td>\n",
              "      <td>20.4</td>\n",
              "      <td>1.2</td>\n",
              "      <td>8.8</td>\n",
              "      <td>4.6</td>\n",
              "      <td>83.1</td>\n",
              "      <td>1003.0</td>\n",
              "      <td>-13.131579</td>\n",
              "      <td>4.697368</td>\n",
              "      <td>18.578947</td>\n",
              "      <td>-8.197368</td>\n",
              "      <td>-22.618421</td>\n",
              "      <td>7.605263</td>\n",
              "    </tr>\n",
              "    <tr>\n",
              "      <th>2</th>\n",
              "      <td>1.0</td>\n",
              "      <td>AL</td>\n",
              "      <td>Alabama</td>\n",
              "      <td>Barbour County</td>\n",
              "      <td>1005.0</td>\n",
              "      <td>0.007037</td>\n",
              "      <td>1</td>\n",
              "      <td>34382.0</td>\n",
              "      <td>67.8</td>\n",
              "      <td>24881</td>\n",
              "      <td>-0.056112</td>\n",
              "      <td>20.9</td>\n",
              "      <td>19.4</td>\n",
              "      <td>0.5</td>\n",
              "      <td>48.0</td>\n",
              "      <td>4.3</td>\n",
              "      <td>45.6</td>\n",
              "      <td>1005.0</td>\n",
              "      <td>3.755102</td>\n",
              "      <td>-7.763158</td>\n",
              "      <td>NaN</td>\n",
              "      <td>NaN</td>\n",
              "      <td>-15.631579</td>\n",
              "      <td>NaN</td>\n",
              "    </tr>\n",
              "    <tr>\n",
              "      <th>3</th>\n",
              "      <td>1.0</td>\n",
              "      <td>AL</td>\n",
              "      <td>Alabama</td>\n",
              "      <td>Bibb County</td>\n",
              "      <td>1007.0</td>\n",
              "      <td>0.011809</td>\n",
              "      <td>1</td>\n",
              "      <td>46064.0</td>\n",
              "      <td>68.4</td>\n",
              "      <td>22400</td>\n",
              "      <td>-0.555441</td>\n",
              "      <td>20.5</td>\n",
              "      <td>16.5</td>\n",
              "      <td>0.2</td>\n",
              "      <td>21.1</td>\n",
              "      <td>2.6</td>\n",
              "      <td>74.6</td>\n",
              "      <td>1007.0</td>\n",
              "      <td>1.971429</td>\n",
              "      <td>6.350000</td>\n",
              "      <td>NaN</td>\n",
              "      <td>NaN</td>\n",
              "      <td>-19.907895</td>\n",
              "      <td>NaN</td>\n",
              "    </tr>\n",
              "    <tr>\n",
              "      <th>4</th>\n",
              "      <td>1.0</td>\n",
              "      <td>AL</td>\n",
              "      <td>Alabama</td>\n",
              "      <td>Blount County</td>\n",
              "      <td>1009.0</td>\n",
              "      <td>0.038890</td>\n",
              "      <td>1</td>\n",
              "      <td>50412.0</td>\n",
              "      <td>90.0</td>\n",
              "      <td>57840</td>\n",
              "      <td>-0.813820</td>\n",
              "      <td>23.2</td>\n",
              "      <td>18.2</td>\n",
              "      <td>0.3</td>\n",
              "      <td>1.5</td>\n",
              "      <td>9.6</td>\n",
              "      <td>86.9</td>\n",
              "      <td>1009.0</td>\n",
              "      <td>-5.929825</td>\n",
              "      <td>5.105263</td>\n",
              "      <td>NaN</td>\n",
              "      <td>NaN</td>\n",
              "      <td>-23.565789</td>\n",
              "      <td>8.720000</td>\n",
              "    </tr>\n",
              "    <tr>\n",
              "      <th>...</th>\n",
              "      <td>...</td>\n",
              "      <td>...</td>\n",
              "      <td>...</td>\n",
              "      <td>...</td>\n",
              "      <td>...</td>\n",
              "      <td>...</td>\n",
              "      <td>...</td>\n",
              "      <td>...</td>\n",
              "      <td>...</td>\n",
              "      <td>...</td>\n",
              "      <td>...</td>\n",
              "      <td>...</td>\n",
              "      <td>...</td>\n",
              "      <td>...</td>\n",
              "      <td>...</td>\n",
              "      <td>...</td>\n",
              "      <td>...</td>\n",
              "      <td>...</td>\n",
              "      <td>...</td>\n",
              "      <td>...</td>\n",
              "      <td>...</td>\n",
              "      <td>...</td>\n",
              "      <td>...</td>\n",
              "      <td>...</td>\n",
              "    </tr>\n",
              "    <tr>\n",
              "      <th>2820</th>\n",
              "      <td>56.0</td>\n",
              "      <td>WY</td>\n",
              "      <td>Wyoming</td>\n",
              "      <td>Sweetwater County</td>\n",
              "      <td>56037.0</td>\n",
              "      <td>-0.018485</td>\n",
              "      <td>0</td>\n",
              "      <td>73315.0</td>\n",
              "      <td>10.9</td>\n",
              "      <td>43051</td>\n",
              "      <td>-0.535382</td>\n",
              "      <td>26.2</td>\n",
              "      <td>12.1</td>\n",
              "      <td>1.0</td>\n",
              "      <td>1.1</td>\n",
              "      <td>16.1</td>\n",
              "      <td>79.3</td>\n",
              "      <td>56037.0</td>\n",
              "      <td>-10.394737</td>\n",
              "      <td>7.426230</td>\n",
              "      <td>NaN</td>\n",
              "      <td>14.578947</td>\n",
              "      <td>-23.197368</td>\n",
              "      <td>7.120000</td>\n",
              "    </tr>\n",
              "    <tr>\n",
              "      <th>2821</th>\n",
              "      <td>56.0</td>\n",
              "      <td>WY</td>\n",
              "      <td>Wyoming</td>\n",
              "      <td>Teton County</td>\n",
              "      <td>56039.0</td>\n",
              "      <td>0.075183</td>\n",
              "      <td>1</td>\n",
              "      <td>99087.0</td>\n",
              "      <td>46.4</td>\n",
              "      <td>23081</td>\n",
              "      <td>0.278663</td>\n",
              "      <td>18.4</td>\n",
              "      <td>15.4</td>\n",
              "      <td>1.4</td>\n",
              "      <td>0.6</td>\n",
              "      <td>14.9</td>\n",
              "      <td>81.5</td>\n",
              "      <td>56039.0</td>\n",
              "      <td>-38.263158</td>\n",
              "      <td>-17.906977</td>\n",
              "      <td>-24.197368</td>\n",
              "      <td>-41.833333</td>\n",
              "      <td>-35.434211</td>\n",
              "      <td>NaN</td>\n",
              "    </tr>\n",
              "    <tr>\n",
              "      <th>2822</th>\n",
              "      <td>56.0</td>\n",
              "      <td>WY</td>\n",
              "      <td>Wyoming</td>\n",
              "      <td>Uinta County</td>\n",
              "      <td>56041.0</td>\n",
              "      <td>0.010157</td>\n",
              "      <td>0</td>\n",
              "      <td>63401.0</td>\n",
              "      <td>43.1</td>\n",
              "      <td>20299</td>\n",
              "      <td>-0.614926</td>\n",
              "      <td>28.8</td>\n",
              "      <td>14.1</td>\n",
              "      <td>0.5</td>\n",
              "      <td>0.7</td>\n",
              "      <td>9.2</td>\n",
              "      <td>87.4</td>\n",
              "      <td>56041.0</td>\n",
              "      <td>1.511111</td>\n",
              "      <td>15.942857</td>\n",
              "      <td>NaN</td>\n",
              "      <td>14.842105</td>\n",
              "      <td>-19.421053</td>\n",
              "      <td>NaN</td>\n",
              "    </tr>\n",
              "    <tr>\n",
              "      <th>2823</th>\n",
              "      <td>56.0</td>\n",
              "      <td>WY</td>\n",
              "      <td>Wyoming</td>\n",
              "      <td>Washakie County</td>\n",
              "      <td>56043.0</td>\n",
              "      <td>-0.007825</td>\n",
              "      <td>0</td>\n",
              "      <td>55190.0</td>\n",
              "      <td>36.0</td>\n",
              "      <td>7885</td>\n",
              "      <td>-0.640377</td>\n",
              "      <td>22.7</td>\n",
              "      <td>21.7</td>\n",
              "      <td>0.8</td>\n",
              "      <td>0.5</td>\n",
              "      <td>14.1</td>\n",
              "      <td>82.4</td>\n",
              "      <td>56043.0</td>\n",
              "      <td>-4.400000</td>\n",
              "      <td>-7.000000</td>\n",
              "      <td>NaN</td>\n",
              "      <td>NaN</td>\n",
              "      <td>-20.960526</td>\n",
              "      <td>NaN</td>\n",
              "    </tr>\n",
              "    <tr>\n",
              "      <th>2824</th>\n",
              "      <td>56.0</td>\n",
              "      <td>WY</td>\n",
              "      <td>Wyoming</td>\n",
              "      <td>Weston County</td>\n",
              "      <td>56045.0</td>\n",
              "      <td>-0.003361</td>\n",
              "      <td>0</td>\n",
              "      <td>54319.0</td>\n",
              "      <td>54.5</td>\n",
              "      <td>6967</td>\n",
              "      <td>-0.781044</td>\n",
              "      <td>20.8</td>\n",
              "      <td>20.5</td>\n",
              "      <td>1.9</td>\n",
              "      <td>0.6</td>\n",
              "      <td>4.1</td>\n",
              "      <td>90.0</td>\n",
              "      <td>56045.0</td>\n",
              "      <td>-55.500000</td>\n",
              "      <td>-5.800000</td>\n",
              "      <td>NaN</td>\n",
              "      <td>NaN</td>\n",
              "      <td>-26.270270</td>\n",
              "      <td>NaN</td>\n",
              "    </tr>\n",
              "  </tbody>\n",
              "</table>\n",
              "<p>2825 rows × 24 columns</p>\n",
              "</div>"
            ],
            "text/plain": [
              "      state  ... avg_residential_percent_change_6_1\n",
              "0       1.0  ...                           9.480000\n",
              "1       1.0  ...                           7.605263\n",
              "2       1.0  ...                                NaN\n",
              "3       1.0  ...                                NaN\n",
              "4       1.0  ...                           8.720000\n",
              "...     ...  ...                                ...\n",
              "2820   56.0  ...                           7.120000\n",
              "2821   56.0  ...                                NaN\n",
              "2822   56.0  ...                                NaN\n",
              "2823   56.0  ...                                NaN\n",
              "2824   56.0  ...                                NaN\n",
              "\n",
              "[2825 rows x 24 columns]"
            ]
          },
          "metadata": {
            "tags": []
          },
          "execution_count": 52
        }
      ]
    },
    {
      "cell_type": "markdown",
      "metadata": {
        "id": "hbWR-HSLsprM"
      },
      "source": [
        "We did lose about 150 counties because Google Mobility dataset only contains 2800+ counties, but I think that is okay"
      ]
    },
    {
      "cell_type": "code",
      "metadata": {
        "colab": {
          "base_uri": "https://localhost:8080/"
        },
        "id": "1pdVDY1pshR1",
        "outputId": "f6304721-eba6-4874-b047-8d6442a20559"
      },
      "source": [
        "num_of_SIP_counties = merged_data['SIP?'].sum()\n",
        "print(f'num of SIP counties = {num_of_SIP_counties}')"
      ],
      "execution_count": 53,
      "outputs": [
        {
          "output_type": "stream",
          "text": [
            "num of SIP counties = 2435\n"
          ],
          "name": "stdout"
        }
      ]
    },
    {
      "cell_type": "code",
      "metadata": {
        "colab": {
          "base_uri": "https://localhost:8080/"
        },
        "id": "svIufro8s_Wu",
        "outputId": "477f0e2c-7ca0-4b60-a646-fba38a60962c"
      },
      "source": [
        "num_of_no_SIP_counties = merged_data[merged_data['SIP?'] == 0].shape[0]\n",
        "print(f'num of no SIP counties = {num_of_no_SIP_counties}')"
      ],
      "execution_count": 54,
      "outputs": [
        {
          "output_type": "stream",
          "text": [
            "num of no SIP counties = 390\n"
          ],
          "name": "stdout"
        }
      ]
    },
    {
      "cell_type": "code",
      "metadata": {
        "id": "GzByGXXAtTjG"
      },
      "source": [
        "merged_data.to_csv('final_data_google_and_safe_graph_up_to_6_1_weekdays.csv', index = False)"
      ],
      "execution_count": 55,
      "outputs": []
    }
  ]
}