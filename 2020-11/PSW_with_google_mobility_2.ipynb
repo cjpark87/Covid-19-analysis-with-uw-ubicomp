{
  "nbformat": 4,
  "nbformat_minor": 0,
  "metadata": {
    "colab": {
      "name": "PSW_with_google_mobility_2.ipynb",
      "provenance": [],
      "mount_file_id": "1Ef8obIy-EZrG-wyymhE1ins_y0mzww9g",
      "authorship_tag": "ABX9TyM32KzQ5kSEGzjq0VvCBlWG",
      "include_colab_link": true
    },
    "kernelspec": {
      "name": "python3",
      "display_name": "Python 3"
    }
  },
  "cells": [
    {
      "cell_type": "markdown",
      "metadata": {
        "id": "view-in-github",
        "colab_type": "text"
      },
      "source": [
        "<a href=\"https://colab.research.google.com/github/wenjunsun/Covid-19-analysis-with-uw-ubicomp/blob/master/2020-11/PSW_with_google_mobility_2.ipynb\" target=\"_parent\"><img src=\"https://colab.research.google.com/assets/colab-badge.svg\" alt=\"Open In Colab\"/></a>"
      ]
    },
    {
      "cell_type": "markdown",
      "metadata": {
        "id": "-9Nq086TeUeJ"
      },
      "source": [
        "In this notebook we will do the same propensisty weighted methods of causal inference we have done before with google mobility dataset, but with a slight twist. We will\n",
        "1. Do causal inference with all 6 columns, even if some columns have a lot of nulls. (We are doing propensisty weighing and not propensisty matching so missing data shouldn't be that much of an issue.)\n",
        "2. Use the glass delta to characterize the causal effect in terms standard deviations. (for example changing one variable by 3% when the base value is 20% is different from changing 3% when the base value is 1%.)"
      ]
    },
    {
      "cell_type": "markdown",
      "metadata": {
        "id": "qsm1eBTfeayn"
      },
      "source": [
        "# 0. Go do data directory"
      ]
    },
    {
      "cell_type": "code",
      "metadata": {
        "colab": {
          "base_uri": "https://localhost:8080/"
        },
        "id": "u6oUsNLmdlgD",
        "outputId": "5e718f9d-212c-4f5b-ca9c-1f6a2577b241"
      },
      "source": [
        "cd drive/My\\ Drive/covid/PSM/data"
      ],
      "execution_count": 1,
      "outputs": [
        {
          "output_type": "stream",
          "text": [
            "/content/drive/My Drive/covid/PSM/data\n"
          ],
          "name": "stdout"
        }
      ]
    },
    {
      "cell_type": "code",
      "metadata": {
        "colab": {
          "base_uri": "https://localhost:8080/"
        },
        "id": "NpKq5KMdd1hb",
        "outputId": "35bd789e-4e97-42bf-f846-1bd8f37034cb"
      },
      "source": [
        "ls"
      ],
      "execution_count": 2,
      "outputs": [
        {
          "output_type": "stream",
          "text": [
            "agg_social_dist_2.csv\n",
            "agg_social_dist.csv\n",
            "avg_google_mobility_up_to_6_1.csv\n",
            "county_data_with_reduced_covariates_with_SIP.csv\n",
            "final_data_google_and_safe_graph_up_to_6_1.csv\n",
            "google_mobility.csv\n",
            "social_dist_aggregated_on_county.csv\n"
          ],
          "name": "stdout"
        }
      ]
    },
    {
      "cell_type": "code",
      "metadata": {
        "id": "7ZB7eReRd3e6"
      },
      "source": [
        "import pandas as pd\n",
        "import numpy as np\n",
        "import matplotlib.pyplot as plt"
      ],
      "execution_count": 3,
      "outputs": []
    },
    {
      "cell_type": "markdown",
      "metadata": {
        "id": "nDug_4BNg4I9"
      },
      "source": [
        "# 0.1. load R packages into Colab"
      ]
    },
    {
      "cell_type": "code",
      "metadata": {
        "colab": {
          "base_uri": "https://localhost:8080/"
        },
        "id": "HAvrflkhhAss",
        "outputId": "3b24b553-af4b-479f-d77a-bf0e23308f58"
      },
      "source": [
        "%load_ext rpy2.ipython\n",
        "# For (automatic) translation of Pandas objects to R\n",
        "from rpy2.robjects import pandas2ri\n",
        "pandas2ri.activate()"
      ],
      "execution_count": 4,
      "outputs": [
        {
          "output_type": "stream",
          "text": [
            "/usr/local/lib/python3.6/dist-packages/rpy2/robjects/pandas2ri.py:14: FutureWarning: pandas.core.index is deprecated and will be removed in a future version.  The public classes are available in the top-level namespace.\n",
            "  from pandas.core.index import Index as PandasIndex\n",
            "/usr/local/lib/python3.6/dist-packages/rpy2/robjects/pandas2ri.py:34: UserWarning: pandas >= 1.0 is not supported.\n",
            "  warnings.warn('pandas >= 1.0 is not supported.')\n"
          ],
          "name": "stderr"
        }
      ]
    },
    {
      "cell_type": "code",
      "metadata": {
        "colab": {
          "base_uri": "https://localhost:8080/"
        },
        "id": "3tyTjSgShFPp",
        "outputId": "ff8d05b4-ad87-4337-b758-8275eea82a2e"
      },
      "source": [
        "# for box and whisker plot\n",
        "%%R\n",
        "install.packages('lattice')\n",
        "library(lattice)"
      ],
      "execution_count": 5,
      "outputs": [
        {
          "output_type": "stream",
          "text": [
            "R[write to console]: Installing package into ‘/usr/local/lib/R/site-library’\n",
            "(as ‘lib’ is unspecified)\n",
            "\n",
            "R[write to console]: trying URL 'https://cran.rstudio.com/src/contrib/lattice_0.20-41.tar.gz'\n",
            "\n",
            "R[write to console]: Content type 'application/x-gzip'\n",
            "R[write to console]:  length 389631 bytes (380 KB)\n",
            "\n",
            "R[write to console]: =\n",
            "R[write to console]: =\n",
            "R[write to console]: =\n",
            "R[write to console]: =\n",
            "R[write to console]: =\n",
            "R[write to console]: =\n",
            "R[write to console]: =\n",
            "R[write to console]: =\n",
            "R[write to console]: =\n",
            "R[write to console]: =\n",
            "R[write to console]: =\n",
            "R[write to console]: =\n",
            "R[write to console]: =\n",
            "R[write to console]: =\n",
            "R[write to console]: =\n",
            "R[write to console]: =\n",
            "R[write to console]: =\n",
            "R[write to console]: =\n",
            "R[write to console]: =\n",
            "R[write to console]: =\n",
            "R[write to console]: =\n",
            "R[write to console]: =\n",
            "R[write to console]: =\n",
            "R[write to console]: =\n",
            "R[write to console]: =\n",
            "R[write to console]: =\n",
            "R[write to console]: =\n",
            "R[write to console]: =\n",
            "R[write to console]: =\n",
            "R[write to console]: =\n",
            "R[write to console]: =\n",
            "R[write to console]: =\n",
            "R[write to console]: =\n",
            "R[write to console]: =\n",
            "R[write to console]: =\n",
            "R[write to console]: =\n",
            "R[write to console]: =\n",
            "R[write to console]: =\n",
            "R[write to console]: =\n",
            "R[write to console]: =\n",
            "R[write to console]: =\n",
            "R[write to console]: =\n",
            "R[write to console]: =\n",
            "R[write to console]: =\n",
            "R[write to console]: =\n",
            "R[write to console]: =\n",
            "R[write to console]: =\n",
            "R[write to console]: =\n",
            "R[write to console]: =\n",
            "R[write to console]: =\n",
            "R[write to console]: \n",
            "\n",
            "R[write to console]: downloaded 380 KB\n",
            "\n",
            "\n",
            "R[write to console]: \n",
            "\n",
            "R[write to console]: \n",
            "R[write to console]: The downloaded source packages are in\n",
            "\t‘/tmp/RtmpmrVooz/downloaded_packages’\n",
            "R[write to console]: \n",
            "R[write to console]: \n",
            "\n"
          ],
          "name": "stderr"
        }
      ]
    },
    {
      "cell_type": "code",
      "metadata": {
        "colab": {
          "base_uri": "https://localhost:8080/"
        },
        "id": "cT_I6G_ghz10",
        "outputId": "6740f803-ba1a-4d6e-ecf2-fe5907e8e45d"
      },
      "source": [
        "# install package for gradient boosting machine to estimate propensity score\n",
        "%%R\n",
        "install.packages('twang')\n",
        "library(twang)"
      ],
      "execution_count": 6,
      "outputs": [
        {
          "output_type": "stream",
          "text": [
            "R[write to console]: Installing package into ‘/usr/local/lib/R/site-library’\n",
            "(as ‘lib’ is unspecified)\n",
            "\n",
            "R[write to console]: trying URL 'https://cran.rstudio.com/src/contrib/twang_1.6.tar.gz'\n",
            "\n",
            "R[write to console]: Content type 'application/x-gzip'\n",
            "R[write to console]:  length 1256084 bytes (1.2 MB)\n",
            "\n",
            "R[write to console]: =\n",
            "R[write to console]: =\n",
            "R[write to console]: =\n",
            "R[write to console]: =\n",
            "R[write to console]: =\n",
            "R[write to console]: =\n",
            "R[write to console]: =\n",
            "R[write to console]: =\n",
            "R[write to console]: =\n",
            "R[write to console]: =\n",
            "R[write to console]: =\n",
            "R[write to console]: =\n",
            "R[write to console]: =\n",
            "R[write to console]: =\n",
            "R[write to console]: =\n",
            "R[write to console]: =\n",
            "R[write to console]: =\n",
            "R[write to console]: =\n",
            "R[write to console]: =\n",
            "R[write to console]: =\n",
            "R[write to console]: =\n",
            "R[write to console]: =\n",
            "R[write to console]: =\n",
            "R[write to console]: =\n",
            "R[write to console]: =\n",
            "R[write to console]: =\n",
            "R[write to console]: =\n",
            "R[write to console]: =\n",
            "R[write to console]: =\n",
            "R[write to console]: =\n",
            "R[write to console]: =\n",
            "R[write to console]: =\n",
            "R[write to console]: =\n",
            "R[write to console]: =\n",
            "R[write to console]: =\n",
            "R[write to console]: =\n",
            "R[write to console]: =\n",
            "R[write to console]: =\n",
            "R[write to console]: =\n",
            "R[write to console]: =\n",
            "R[write to console]: =\n",
            "R[write to console]: =\n",
            "R[write to console]: =\n",
            "R[write to console]: =\n",
            "R[write to console]: =\n",
            "R[write to console]: =\n",
            "R[write to console]: =\n",
            "R[write to console]: =\n",
            "R[write to console]: =\n",
            "R[write to console]: =\n",
            "R[write to console]: \n",
            "\n",
            "R[write to console]: downloaded 1.2 MB\n",
            "\n",
            "\n",
            "R[write to console]: \n",
            "\n",
            "R[write to console]: \n",
            "R[write to console]: The downloaded source packages are in\n",
            "\t‘/tmp/RtmpmrVooz/downloaded_packages’\n",
            "R[write to console]: \n",
            "R[write to console]: \n",
            "\n",
            "R[write to console]: Loading required package: gbm\n",
            "\n",
            "R[write to console]: Loaded gbm 2.1.8\n",
            "\n",
            "R[write to console]: Loading required package: survey\n",
            "\n",
            "R[write to console]: Loading required package: grid\n",
            "\n",
            "R[write to console]: Loading required package: Matrix\n",
            "\n",
            "R[write to console]: Loading required package: survival\n",
            "\n",
            "R[write to console]: \n",
            "Attaching package: ‘survey’\n",
            "\n",
            "\n",
            "R[write to console]: The following object is masked from ‘package:graphics’:\n",
            "\n",
            "    dotchart\n",
            "\n",
            "\n",
            "R[write to console]: Loading required package: xtable\n",
            "\n",
            "R[write to console]: Loading required package: latticeExtra\n",
            "\n"
          ],
          "name": "stderr"
        }
      ]
    },
    {
      "cell_type": "code",
      "metadata": {
        "colab": {
          "base_uri": "https://localhost:8080/"
        },
        "id": "0kRB7uN5i07F",
        "outputId": "a04aed27-e019-4af3-b4d8-983e9cc78af0"
      },
      "source": [
        "%%R\n",
        "install.packages('survey')\n",
        "library('survey')"
      ],
      "execution_count": 7,
      "outputs": [
        {
          "output_type": "stream",
          "text": [
            "R[write to console]: Installing package into ‘/usr/local/lib/R/site-library’\n",
            "(as ‘lib’ is unspecified)\n",
            "\n",
            "R[write to console]: trying URL 'https://cran.rstudio.com/src/contrib/survey_4.0.tar.gz'\n",
            "\n",
            "R[write to console]: Content type 'application/x-gzip'\n",
            "R[write to console]:  length 1558121 bytes (1.5 MB)\n",
            "\n",
            "R[write to console]: =\n",
            "R[write to console]: =\n",
            "R[write to console]: =\n",
            "R[write to console]: =\n",
            "R[write to console]: =\n",
            "R[write to console]: =\n",
            "R[write to console]: =\n",
            "R[write to console]: =\n",
            "R[write to console]: =\n",
            "R[write to console]: =\n",
            "R[write to console]: =\n",
            "R[write to console]: =\n",
            "R[write to console]: =\n",
            "R[write to console]: =\n",
            "R[write to console]: =\n",
            "R[write to console]: =\n",
            "R[write to console]: =\n",
            "R[write to console]: =\n",
            "R[write to console]: =\n",
            "R[write to console]: =\n",
            "R[write to console]: =\n",
            "R[write to console]: =\n",
            "R[write to console]: =\n",
            "R[write to console]: =\n",
            "R[write to console]: =\n",
            "R[write to console]: =\n",
            "R[write to console]: =\n",
            "R[write to console]: =\n",
            "R[write to console]: =\n",
            "R[write to console]: =\n",
            "R[write to console]: =\n",
            "R[write to console]: =\n",
            "R[write to console]: =\n",
            "R[write to console]: =\n",
            "R[write to console]: =\n",
            "R[write to console]: =\n",
            "R[write to console]: =\n",
            "R[write to console]: =\n",
            "R[write to console]: =\n",
            "R[write to console]: =\n",
            "R[write to console]: =\n",
            "R[write to console]: =\n",
            "R[write to console]: =\n",
            "R[write to console]: =\n",
            "R[write to console]: =\n",
            "R[write to console]: =\n",
            "R[write to console]: =\n",
            "R[write to console]: =\n",
            "R[write to console]: =\n",
            "R[write to console]: =\n",
            "R[write to console]: \n",
            "\n",
            "R[write to console]: downloaded 1.5 MB\n",
            "\n",
            "\n",
            "R[write to console]: \n",
            "\n",
            "R[write to console]: \n",
            "R[write to console]: The downloaded source packages are in\n",
            "\t‘/tmp/RtmpmrVooz/downloaded_packages’\n",
            "R[write to console]: \n",
            "R[write to console]: \n",
            "\n"
          ],
          "name": "stderr"
        }
      ]
    },
    {
      "cell_type": "markdown",
      "metadata": {
        "id": "w6uxzbl1ecps"
      },
      "source": [
        "# 1. load/preprocess data"
      ]
    },
    {
      "cell_type": "code",
      "metadata": {
        "id": "MU85XnYBd7FH"
      },
      "source": [
        "data = pd.read_csv('final_data_google_and_safe_graph_up_to_6_1.csv')"
      ],
      "execution_count": 8,
      "outputs": []
    },
    {
      "cell_type": "code",
      "metadata": {
        "colab": {
          "base_uri": "https://localhost:8080/",
          "height": 711
        },
        "id": "GGj4FFuBeCiH",
        "outputId": "b1591f5b-7c44-4daf-cf20-8934de732ae1"
      },
      "source": [
        "data"
      ],
      "execution_count": 9,
      "outputs": [
        {
          "output_type": "execute_result",
          "data": {
            "text/html": [
              "<div>\n",
              "<style scoped>\n",
              "    .dataframe tbody tr th:only-of-type {\n",
              "        vertical-align: middle;\n",
              "    }\n",
              "\n",
              "    .dataframe tbody tr th {\n",
              "        vertical-align: top;\n",
              "    }\n",
              "\n",
              "    .dataframe thead th {\n",
              "        text-align: right;\n",
              "    }\n",
              "</style>\n",
              "<table border=\"1\" class=\"dataframe\">\n",
              "  <thead>\n",
              "    <tr style=\"text-align: right;\">\n",
              "      <th></th>\n",
              "      <th>state</th>\n",
              "      <th>state_code</th>\n",
              "      <th>State Name</th>\n",
              "      <th>cnamelong</th>\n",
              "      <th>county_code</th>\n",
              "      <th>diff_in_perc_at_home</th>\n",
              "      <th>SIP?</th>\n",
              "      <th>Median Household Income</th>\n",
              "      <th>% Rural</th>\n",
              "      <th>Population_y</th>\n",
              "      <th>political_diff</th>\n",
              "      <th>% less than 18 years of age</th>\n",
              "      <th>% 65 and over</th>\n",
              "      <th>% Asian</th>\n",
              "      <th>% Black</th>\n",
              "      <th>% Hispanic</th>\n",
              "      <th>% Non-Hispanic White</th>\n",
              "      <th>census_fips_code</th>\n",
              "      <th>avg_retail_and_recreation_percent_change_6_1</th>\n",
              "      <th>avg_grocery_and_pharmacy_percent_change_6_1</th>\n",
              "      <th>avg_parks_percent_change_6_1</th>\n",
              "      <th>avg_transit_stations_percent_change_6_1</th>\n",
              "      <th>avg_workplaces_percent_change_6_1</th>\n",
              "      <th>avg_residential_percent_change_6_1</th>\n",
              "    </tr>\n",
              "  </thead>\n",
              "  <tbody>\n",
              "    <tr>\n",
              "      <th>0</th>\n",
              "      <td>1.0</td>\n",
              "      <td>AL</td>\n",
              "      <td>Alabama</td>\n",
              "      <td>Autauga County</td>\n",
              "      <td>1001.0</td>\n",
              "      <td>0.050678</td>\n",
              "      <td>1</td>\n",
              "      <td>59338.0</td>\n",
              "      <td>42.0</td>\n",
              "      <td>55601</td>\n",
              "      <td>-0.494789</td>\n",
              "      <td>23.7</td>\n",
              "      <td>15.6</td>\n",
              "      <td>1.2</td>\n",
              "      <td>19.3</td>\n",
              "      <td>3.0</td>\n",
              "      <td>74.3</td>\n",
              "      <td>1001.0</td>\n",
              "      <td>-9.240741</td>\n",
              "      <td>9.111111</td>\n",
              "      <td>-34.000000</td>\n",
              "      <td>NaN</td>\n",
              "      <td>-22.481481</td>\n",
              "      <td>9.480000</td>\n",
              "    </tr>\n",
              "    <tr>\n",
              "      <th>1</th>\n",
              "      <td>1.0</td>\n",
              "      <td>AL</td>\n",
              "      <td>Alabama</td>\n",
              "      <td>Baldwin County</td>\n",
              "      <td>1003.0</td>\n",
              "      <td>0.050312</td>\n",
              "      <td>1</td>\n",
              "      <td>57588.0</td>\n",
              "      <td>42.3</td>\n",
              "      <td>218022</td>\n",
              "      <td>-0.577862</td>\n",
              "      <td>21.6</td>\n",
              "      <td>20.4</td>\n",
              "      <td>1.2</td>\n",
              "      <td>8.8</td>\n",
              "      <td>4.6</td>\n",
              "      <td>83.1</td>\n",
              "      <td>1003.0</td>\n",
              "      <td>-12.944444</td>\n",
              "      <td>6.120370</td>\n",
              "      <td>23.500000</td>\n",
              "      <td>-6.361111</td>\n",
              "      <td>-19.777778</td>\n",
              "      <td>6.564815</td>\n",
              "    </tr>\n",
              "    <tr>\n",
              "      <th>2</th>\n",
              "      <td>1.0</td>\n",
              "      <td>AL</td>\n",
              "      <td>Alabama</td>\n",
              "      <td>Barbour County</td>\n",
              "      <td>1005.0</td>\n",
              "      <td>0.007037</td>\n",
              "      <td>1</td>\n",
              "      <td>34382.0</td>\n",
              "      <td>67.8</td>\n",
              "      <td>24881</td>\n",
              "      <td>-0.056112</td>\n",
              "      <td>20.9</td>\n",
              "      <td>19.4</td>\n",
              "      <td>0.5</td>\n",
              "      <td>48.0</td>\n",
              "      <td>4.3</td>\n",
              "      <td>45.6</td>\n",
              "      <td>1005.0</td>\n",
              "      <td>2.608696</td>\n",
              "      <td>-6.203704</td>\n",
              "      <td>NaN</td>\n",
              "      <td>NaN</td>\n",
              "      <td>-15.333333</td>\n",
              "      <td>NaN</td>\n",
              "    </tr>\n",
              "    <tr>\n",
              "      <th>3</th>\n",
              "      <td>1.0</td>\n",
              "      <td>AL</td>\n",
              "      <td>Alabama</td>\n",
              "      <td>Bibb County</td>\n",
              "      <td>1007.0</td>\n",
              "      <td>0.011809</td>\n",
              "      <td>1</td>\n",
              "      <td>46064.0</td>\n",
              "      <td>68.4</td>\n",
              "      <td>22400</td>\n",
              "      <td>-0.555441</td>\n",
              "      <td>20.5</td>\n",
              "      <td>16.5</td>\n",
              "      <td>0.2</td>\n",
              "      <td>21.1</td>\n",
              "      <td>2.6</td>\n",
              "      <td>74.6</td>\n",
              "      <td>1007.0</td>\n",
              "      <td>0.823529</td>\n",
              "      <td>5.571429</td>\n",
              "      <td>NaN</td>\n",
              "      <td>NaN</td>\n",
              "      <td>-18.175926</td>\n",
              "      <td>NaN</td>\n",
              "    </tr>\n",
              "    <tr>\n",
              "      <th>4</th>\n",
              "      <td>1.0</td>\n",
              "      <td>AL</td>\n",
              "      <td>Alabama</td>\n",
              "      <td>Blount County</td>\n",
              "      <td>1009.0</td>\n",
              "      <td>0.038890</td>\n",
              "      <td>1</td>\n",
              "      <td>50412.0</td>\n",
              "      <td>90.0</td>\n",
              "      <td>57840</td>\n",
              "      <td>-0.813820</td>\n",
              "      <td>23.2</td>\n",
              "      <td>18.2</td>\n",
              "      <td>0.3</td>\n",
              "      <td>1.5</td>\n",
              "      <td>9.6</td>\n",
              "      <td>86.9</td>\n",
              "      <td>1009.0</td>\n",
              "      <td>-6.372093</td>\n",
              "      <td>6.118812</td>\n",
              "      <td>NaN</td>\n",
              "      <td>NaN</td>\n",
              "      <td>-21.111111</td>\n",
              "      <td>8.720000</td>\n",
              "    </tr>\n",
              "    <tr>\n",
              "      <th>...</th>\n",
              "      <td>...</td>\n",
              "      <td>...</td>\n",
              "      <td>...</td>\n",
              "      <td>...</td>\n",
              "      <td>...</td>\n",
              "      <td>...</td>\n",
              "      <td>...</td>\n",
              "      <td>...</td>\n",
              "      <td>...</td>\n",
              "      <td>...</td>\n",
              "      <td>...</td>\n",
              "      <td>...</td>\n",
              "      <td>...</td>\n",
              "      <td>...</td>\n",
              "      <td>...</td>\n",
              "      <td>...</td>\n",
              "      <td>...</td>\n",
              "      <td>...</td>\n",
              "      <td>...</td>\n",
              "      <td>...</td>\n",
              "      <td>...</td>\n",
              "      <td>...</td>\n",
              "      <td>...</td>\n",
              "      <td>...</td>\n",
              "    </tr>\n",
              "    <tr>\n",
              "      <th>2823</th>\n",
              "      <td>56.0</td>\n",
              "      <td>WY</td>\n",
              "      <td>Wyoming</td>\n",
              "      <td>Sweetwater County</td>\n",
              "      <td>56037.0</td>\n",
              "      <td>-0.018485</td>\n",
              "      <td>0</td>\n",
              "      <td>73315.0</td>\n",
              "      <td>10.9</td>\n",
              "      <td>43051</td>\n",
              "      <td>-0.535382</td>\n",
              "      <td>26.2</td>\n",
              "      <td>12.1</td>\n",
              "      <td>1.0</td>\n",
              "      <td>1.1</td>\n",
              "      <td>16.1</td>\n",
              "      <td>79.3</td>\n",
              "      <td>56037.0</td>\n",
              "      <td>-11.537037</td>\n",
              "      <td>7.305882</td>\n",
              "      <td>NaN</td>\n",
              "      <td>13.888889</td>\n",
              "      <td>-20.231481</td>\n",
              "      <td>7.120000</td>\n",
              "    </tr>\n",
              "    <tr>\n",
              "      <th>2824</th>\n",
              "      <td>56.0</td>\n",
              "      <td>WY</td>\n",
              "      <td>Wyoming</td>\n",
              "      <td>Teton County</td>\n",
              "      <td>56039.0</td>\n",
              "      <td>0.075183</td>\n",
              "      <td>1</td>\n",
              "      <td>99087.0</td>\n",
              "      <td>46.4</td>\n",
              "      <td>23081</td>\n",
              "      <td>0.278663</td>\n",
              "      <td>18.4</td>\n",
              "      <td>15.4</td>\n",
              "      <td>1.4</td>\n",
              "      <td>0.6</td>\n",
              "      <td>14.9</td>\n",
              "      <td>81.5</td>\n",
              "      <td>56039.0</td>\n",
              "      <td>-39.369048</td>\n",
              "      <td>-17.661017</td>\n",
              "      <td>-24.018868</td>\n",
              "      <td>-38.691358</td>\n",
              "      <td>-37.574074</td>\n",
              "      <td>NaN</td>\n",
              "    </tr>\n",
              "    <tr>\n",
              "      <th>2825</th>\n",
              "      <td>56.0</td>\n",
              "      <td>WY</td>\n",
              "      <td>Wyoming</td>\n",
              "      <td>Uinta County</td>\n",
              "      <td>56041.0</td>\n",
              "      <td>0.010157</td>\n",
              "      <td>0</td>\n",
              "      <td>63401.0</td>\n",
              "      <td>43.1</td>\n",
              "      <td>20299</td>\n",
              "      <td>-0.614926</td>\n",
              "      <td>28.8</td>\n",
              "      <td>14.1</td>\n",
              "      <td>0.5</td>\n",
              "      <td>0.7</td>\n",
              "      <td>9.2</td>\n",
              "      <td>87.4</td>\n",
              "      <td>56041.0</td>\n",
              "      <td>-1.125000</td>\n",
              "      <td>14.352941</td>\n",
              "      <td>NaN</td>\n",
              "      <td>12.537037</td>\n",
              "      <td>-16.435185</td>\n",
              "      <td>NaN</td>\n",
              "    </tr>\n",
              "    <tr>\n",
              "      <th>2826</th>\n",
              "      <td>56.0</td>\n",
              "      <td>WY</td>\n",
              "      <td>Wyoming</td>\n",
              "      <td>Washakie County</td>\n",
              "      <td>56043.0</td>\n",
              "      <td>-0.007825</td>\n",
              "      <td>0</td>\n",
              "      <td>55190.0</td>\n",
              "      <td>36.0</td>\n",
              "      <td>7885</td>\n",
              "      <td>-0.640377</td>\n",
              "      <td>22.7</td>\n",
              "      <td>21.7</td>\n",
              "      <td>0.8</td>\n",
              "      <td>0.5</td>\n",
              "      <td>14.1</td>\n",
              "      <td>82.4</td>\n",
              "      <td>56043.0</td>\n",
              "      <td>-2.767442</td>\n",
              "      <td>-12.000000</td>\n",
              "      <td>NaN</td>\n",
              "      <td>NaN</td>\n",
              "      <td>-20.960526</td>\n",
              "      <td>NaN</td>\n",
              "    </tr>\n",
              "    <tr>\n",
              "      <th>2827</th>\n",
              "      <td>56.0</td>\n",
              "      <td>WY</td>\n",
              "      <td>Wyoming</td>\n",
              "      <td>Weston County</td>\n",
              "      <td>56045.0</td>\n",
              "      <td>-0.003361</td>\n",
              "      <td>0</td>\n",
              "      <td>54319.0</td>\n",
              "      <td>54.5</td>\n",
              "      <td>6967</td>\n",
              "      <td>-0.781044</td>\n",
              "      <td>20.8</td>\n",
              "      <td>20.5</td>\n",
              "      <td>1.9</td>\n",
              "      <td>0.6</td>\n",
              "      <td>4.1</td>\n",
              "      <td>90.0</td>\n",
              "      <td>56045.0</td>\n",
              "      <td>-55.500000</td>\n",
              "      <td>-7.000000</td>\n",
              "      <td>NaN</td>\n",
              "      <td>NaN</td>\n",
              "      <td>-26.270270</td>\n",
              "      <td>NaN</td>\n",
              "    </tr>\n",
              "  </tbody>\n",
              "</table>\n",
              "<p>2828 rows × 24 columns</p>\n",
              "</div>"
            ],
            "text/plain": [
              "      state  ... avg_residential_percent_change_6_1\n",
              "0       1.0  ...                           9.480000\n",
              "1       1.0  ...                           6.564815\n",
              "2       1.0  ...                                NaN\n",
              "3       1.0  ...                                NaN\n",
              "4       1.0  ...                           8.720000\n",
              "...     ...  ...                                ...\n",
              "2823   56.0  ...                           7.120000\n",
              "2824   56.0  ...                                NaN\n",
              "2825   56.0  ...                                NaN\n",
              "2826   56.0  ...                                NaN\n",
              "2827   56.0  ...                                NaN\n",
              "\n",
              "[2828 rows x 24 columns]"
            ]
          },
          "metadata": {
            "tags": []
          },
          "execution_count": 9
        }
      ]
    },
    {
      "cell_type": "code",
      "metadata": {
        "colab": {
          "base_uri": "https://localhost:8080/"
        },
        "id": "s32ojYNSeC8-",
        "outputId": "92941da3-7627-489b-d2dc-6df072a4991f"
      },
      "source": [
        "data.isnull().sum()"
      ],
      "execution_count": 10,
      "outputs": [
        {
          "output_type": "execute_result",
          "data": {
            "text/plain": [
              "state                                              0\n",
              "state_code                                         0\n",
              "State Name                                         0\n",
              "cnamelong                                          0\n",
              "county_code                                        0\n",
              "diff_in_perc_at_home                               0\n",
              "SIP?                                               0\n",
              "Median Household Income                            0\n",
              "% Rural                                            0\n",
              "Population_y                                       0\n",
              "political_diff                                     0\n",
              "% less than 18 years of age                        0\n",
              "% 65 and over                                      0\n",
              "% Asian                                            0\n",
              "% Black                                            0\n",
              "% Hispanic                                         0\n",
              "% Non-Hispanic White                               0\n",
              "census_fips_code                                   0\n",
              "avg_retail_and_recreation_percent_change_6_1     249\n",
              "avg_grocery_and_pharmacy_percent_change_6_1      339\n",
              "avg_parks_percent_change_6_1                    1819\n",
              "avg_transit_stations_percent_change_6_1         1669\n",
              "avg_workplaces_percent_change_6_1                 32\n",
              "avg_residential_percent_change_6_1              1253\n",
              "dtype: int64"
            ]
          },
          "metadata": {
            "tags": []
          },
          "execution_count": 10
        }
      ]
    },
    {
      "cell_type": "markdown",
      "metadata": {
        "id": "ux8n1caLcdlC"
      },
      "source": [
        "because some of the R functions expect non-null data, I can't keep null data when in my dataframe, but obviously for each column there are a unique set of dataset that doesn't contain null data in that column. For example, to analyze `avg_retail_and_recreation_percent_change_6_1` we only need to drop `249` data points, for `avg_parks_percent_change_6_1` we only need to drop `1819` data points, and so on.\n",
        "\n",
        "I will just create 6 datasets, each one corresponding to having all non-null data for that column, and analyze those dataset separately. There might be better ways to do it in R land but I am not so familiar with R functions, so this is what I am going to do now."
      ]
    },
    {
      "cell_type": "code",
      "metadata": {
        "id": "lqdB0fFAdCoD"
      },
      "source": [
        "data_retail = data.dropna(subset = ['avg_retail_and_recreation_percent_change_6_1'])\n",
        "data_grocery = data.dropna(subset = ['avg_grocery_and_pharmacy_percent_change_6_1'])\n",
        "data_parks = data.dropna(subset = ['avg_parks_percent_change_6_1'])\n",
        "data_transit = data.dropna(subset = ['avg_transit_stations_percent_change_6_1'])\n",
        "data_workplaces = data.dropna(subset = ['avg_workplaces_percent_change_6_1'])\n",
        "data_residential = data.dropna(subset = ['avg_residential_percent_change_6_1'])"
      ],
      "execution_count": 11,
      "outputs": []
    },
    {
      "cell_type": "markdown",
      "metadata": {
        "id": "qzk3t2e0d4GY"
      },
      "source": [
        "First need to write a function in R that encapsulates our analysis with causal inference, given a specific dataset, then we can do analysis on our 6 specific datasets by calling this function 6 times."
      ]
    },
    {
      "cell_type": "code",
      "metadata": {
        "id": "7YW7MCJAeETt"
      },
      "source": [
        "%%R\n",
        "causal_analysis_on_dataset <- function(dataframe, variable) {\n",
        "    logitModel <- glm(SIP.~Median.Household.Income + X..Rural +\n",
        "                  political_diff+\n",
        "                  X..Asian + X..Black + \n",
        "                  X..Non.Hispanic.White +\n",
        "                  X..Hispanic + Population_y, data = dataframe, family = \"binomial\")\n",
        "\n",
        "    # put the propensity score predicted by logistic regression\n",
        "    # into a new column in the dataframe.\n",
        "    dataframe$weights<-predict(logitModel, type=\"response\")\n",
        "    # convert 0, 1 to categories, as is required by the box whisker function\n",
        "    dataframe$factor_SIP <- factor(dataframe$SIP.)\n",
        "    box_whisker_plot = bwplot(weights~factor_SIP, data = dataframe, ylab = \"propensity score\", \n",
        "                              xlab = \"Shelter in place?\", main = 'propensity score box-whisker plot of counties with/without SIP',\n",
        "                              auto.key = TRUE)\n",
        "    print(box_whisker_plot)\n",
        "    \n",
        "    dataframe$weight_ATE <- with(dataframe, ifelse(SIP.==1, 1/weights, 1/(1-weights)))\n",
        "    print(with(dataframe, by(weight_ATE, SIP., summary)))\n",
        "    # deal with extreme weights\n",
        "    dataframe$weight_ATE_truncated <- with(dataframe, \n",
        "                                           ifelse(weight_ATE > quantile(weight_ATE, 0.99),\n",
        "                                                  quantile(weight_ATE, 0.99),\n",
        "                                                  weight_ATE))\n",
        "    print(with(data = dataframe, by(weight_ATE_truncated, SIP., summary)))\n",
        "\n",
        "    covariateNames <- c('Median.Household.Income', 'X..Rural', 'political_diff',\n",
        "                        'X..Asian', 'X..Black', 'X..Non.Hispanic.White', 'X..Hispanic',\n",
        "                        'Population_y')\n",
        "    \n",
        "    # sampw has to be set here or else will not get std.eff.sz which is what we want\n",
        "    # since we don't have sampling weight, we set it to 1\n",
        "    balanceTable <- bal.stat(dataframe, vars = covariateNames, treat.var = 'SIP.',\n",
        "                             w.all = dataframe$weight_ATE_truncated, sampw = 1,\n",
        "                             get.ks = F, estimand = 'ATE', multinom = F)\n",
        "    balance_results <- balanceTable$results\n",
        "    round(balance_results,3)\n",
        "\n",
        "    surveyDesignCovid <- svydesign(ids=~0, weights = ~weight_ATE_truncated,\n",
        "                                   data = dataframe)\n",
        "    # to obtain standard errors for propensity weighted results,\n",
        "    # we need to bootstrap.\n",
        "    \n",
        "    # we have variable = 'avg_retail_and_recreation_percent_change_6_1',\n",
        "    # but we need to make a formula of ~avg_retail_and_recreation_percent_change_6_1\n",
        "    # to pass in the function below.\n",
        "    formula_strings = c('~', variable)\n",
        "    formula = as.formula(paste(formula_strings, collapse = ''))\n",
        "\n",
        "    surveyDesignBoot <- as.svrepdesign(surveyDesignCovid, type=c('bootstrap'), replicates=1000)\n",
        "    weightedMeans <- svyby(formula = formula, by = ~SIP., design = surveyDesignBoot,\n",
        "                           FUN = svymean, covmat = TRUE)\n",
        "    print(weightedMeans)\n",
        "    ATE_covid <- svycontrast(weightedMeans, contrasts = c(-1,1))\n",
        "    print('the effect size of having shelter in place on retail_and_recreation behavioral data')\n",
        "    print(ATE_covid)\n",
        "    \n",
        "    # to calculate glass delta - to put effect size in standard deviations.\n",
        "    weightedVars <- svyby(formula = formula, by=~SIP., design = surveyDesignBoot,\n",
        "                          FUN=svyvar,covmat=TRUE)\n",
        "    print('weighted Variance:')\n",
        "    print(weightedVars)\n",
        "    print('glass delta of effect is:')\n",
        "    print(ATE_covid[[1]][[1]] / sqrt(weightedVars[[2]][[1]]))\n",
        "}"
      ],
      "execution_count": 12,
      "outputs": []
    },
    {
      "cell_type": "markdown",
      "metadata": {
        "id": "Yvi5z44rlcbb"
      },
      "source": [
        "# 2. causal analysis on variable `avg_retail_and_recreation_percent_change_6_1`"
      ]
    },
    {
      "cell_type": "code",
      "metadata": {
        "colab": {
          "base_uri": "https://localhost:8080/",
          "height": 939
        },
        "id": "OjIAALhxfSYQ",
        "outputId": "426256a5-f211-41f9-babf-c61a06471f02"
      },
      "source": [
        "%%R -i data_retail\n",
        "causal_analysis_on_dataset(data_retail, 'avg_retail_and_recreation_percent_change_6_1')"
      ],
      "execution_count": 14,
      "outputs": [
        {
          "output_type": "stream",
          "text": [
            "SIP.: 0\n",
            "    Min.  1st Qu.   Median     Mean  3rd Qu.     Max. \n",
            "   1.060    3.115    4.855   16.656    8.166 1307.543 \n",
            "------------------------------------------------------------ \n",
            "SIP.: 1\n",
            "   Min. 1st Qu.  Median    Mean 3rd Qu.    Max. \n",
            "  1.000   1.045   1.106   1.165   1.179  25.361 \n",
            "SIP.: 0\n",
            "   Min. 1st Qu.  Median    Mean 3rd Qu.    Max. \n",
            "  1.060   3.115   4.855   6.215   8.166  15.017 \n",
            "------------------------------------------------------------ \n",
            "SIP.: 1\n",
            "   Min. 1st Qu.  Median    Mean 3rd Qu.    Max. \n",
            "  1.000   1.045   1.106   1.159   1.179  15.017 \n",
            "  SIP. avg_retail_and_recreation_percent_change_6_1        se\n",
            "0    0                                    -12.37588 0.9455239\n",
            "1    1                                    -14.05778 0.2865985\n",
            "[1] \"the effect size of having shelter in place on retail_and_recreation behavioral data\"\n",
            "         contrast     SE\n",
            "contrast  -1.6819 0.9686\n",
            "[1] \"weighted Variance:\"\n",
            "  SIP.      V1        se\n",
            "0    0 203.539 29.633303\n",
            "1    1 148.454  6.989172\n",
            "[1] \"glass delta of effect is:\"\n",
            "[1] -0.1178898\n"
          ],
          "name": "stdout"
        },
        {
          "output_type": "display_data",
          "data": {
            "image/png": "[encoded data removed]"
          },
          "metadata": {
            "tags": []
          }
        }
      ]
    },
    {
      "cell_type": "markdown",
      "metadata": {
        "id": "P-OUJzz2mEkm"
      },
      "source": [
        "# 3. causal analysis on variable `avg_grocery_and_pharmacy_percent_change_6_1`"
      ]
    },
    {
      "cell_type": "code",
      "metadata": {
        "colab": {
          "base_uri": "https://localhost:8080/",
          "height": 939
        },
        "id": "PkEOSDRsmM7-",
        "outputId": "7558761a-e35e-4b31-f522-2c48a3a38482"
      },
      "source": [
        "%%R -i data_grocery\n",
        "causal_analysis_on_dataset(data_grocery, 'avg_grocery_and_pharmacy_percent_change_6_1')"
      ],
      "execution_count": 15,
      "outputs": [
        {
          "output_type": "stream",
          "text": [
            "SIP.: 0\n",
            "   Min. 1st Qu.  Median    Mean 3rd Qu.    Max. \n",
            "  1.128   3.284   5.408  13.936   8.881 721.714 \n",
            "------------------------------------------------------------ \n",
            "SIP.: 1\n",
            "   Min. 1st Qu.  Median    Mean 3rd Qu.    Max. \n",
            "  1.000   1.042   1.098   1.165   1.164  52.085 \n",
            "SIP.: 0\n",
            "   Min. 1st Qu.  Median    Mean 3rd Qu.    Max. \n",
            "  1.128   3.284   5.408   6.771   8.881  16.154 \n",
            "------------------------------------------------------------ \n",
            "SIP.: 1\n",
            "   Min. 1st Qu.  Median    Mean 3rd Qu.    Max. \n",
            "  1.000   1.042   1.098   1.148   1.164  16.154 \n",
            "  SIP. avg_grocery_and_pharmacy_percent_change_6_1        se\n",
            "0    0                                   4.8509931 0.7079819\n",
            "1    1                                   0.9000273 0.2540032\n",
            "[1] \"the effect size of having shelter in place on retail_and_recreation behavioral data\"\n",
            "         contrast    SE\n",
            "contrast   -3.951 0.748\n",
            "[1] \"weighted Variance:\"\n",
            "  SIP.        V1        se\n",
            "0    0 121.29682 21.593209\n",
            "1    1  79.22438  5.290276\n",
            "[1] \"glass delta of effect is:\"\n",
            "[1] -0.358739\n"
          ],
          "name": "stdout"
        },
        {
          "output_type": "display_data",
          "data": {
            "image/png": "[encoded data removed]"
          },
          "metadata": {
            "tags": []
          }
        }
      ]
    },
    {
      "cell_type": "markdown",
      "metadata": {
        "id": "7XUikiicmNoH"
      },
      "source": [
        "# 4. causal analysis on variable `avg_parks_percent_change_6_1`"
      ]
    },
    {
      "cell_type": "code",
      "metadata": {
        "colab": {
          "base_uri": "https://localhost:8080/",
          "height": 939
        },
        "id": "n_a7l_4SmlYU",
        "outputId": "b33f0ac2-fb29-4db2-e853-351da6356d24"
      },
      "source": [
        "%%R -i data_parks\n",
        "causal_analysis_on_dataset(data_parks, 'avg_parks_percent_change_6_1')"
      ],
      "execution_count": 16,
      "outputs": [
        {
          "output_type": "stream",
          "text": [
            "SIP.: 0\n",
            "   Min. 1st Qu.  Median    Mean 3rd Qu.    Max. \n",
            "  1.567   3.920   7.600  15.507  13.536 250.633 \n",
            "------------------------------------------------------------ \n",
            "SIP.: 1\n",
            "   Min. 1st Qu.  Median    Mean 3rd Qu.    Max. \n",
            "  1.000   1.008   1.033   1.070   1.078   3.873 \n",
            "SIP.: 0\n",
            "   Min. 1st Qu.  Median    Mean 3rd Qu.    Max. \n",
            "  1.567   3.920   7.600   8.985  13.536  18.079 \n",
            "------------------------------------------------------------ \n",
            "SIP.: 1\n",
            "   Min. 1st Qu.  Median    Mean 3rd Qu.    Max. \n",
            "  1.000   1.008   1.033   1.070   1.078   3.873 \n",
            "  SIP. avg_parks_percent_change_6_1       se\n",
            "0    0                    11.405346 6.752461\n",
            "1    1                     4.336327 1.035452\n",
            "[1] \"the effect size of having shelter in place on retail_and_recreation behavioral data\"\n",
            "         contrast     SE\n",
            "contrast   -7.069 6.8651\n",
            "[1] \"weighted Variance:\"\n",
            "  SIP.       V1        se\n",
            "0    0 1798.784 290.08733\n",
            "1    1 1013.801  57.10568\n",
            "[1] \"glass delta of effect is:\"\n",
            "[1] -0.1666747\n"
          ],
          "name": "stdout"
        },
        {
          "output_type": "display_data",
          "data": {
            "image/png": "[encoded data removed]"
          },
          "metadata": {
            "tags": []
          }
        }
      ]
    },
    {
      "cell_type": "markdown",
      "metadata": {
        "id": "kHN9onDHmOX6"
      },
      "source": [
        "# 5. causal analysis on variable `avg_transit_stations_percent_change_6_1`"
      ]
    },
    {
      "cell_type": "code",
      "metadata": {
        "colab": {
          "base_uri": "https://localhost:8080/",
          "height": 939
        },
        "id": "I6xxepHYm0g7",
        "outputId": "81a2789d-0140-4323-8d14-5658fd1e02cd"
      },
      "source": [
        "%%R -i data_transit\n",
        "causal_analysis_on_dataset(data_transit, 'avg_transit_stations_percent_change_6_1')"
      ],
      "execution_count": 17,
      "outputs": [
        {
          "output_type": "stream",
          "text": [
            "SIP.: 0\n",
            "   Min. 1st Qu.  Median    Mean 3rd Qu.    Max. \n",
            "  1.364   2.680   4.813  12.315   9.662 180.483 \n",
            "------------------------------------------------------------ \n",
            "SIP.: 1\n",
            "   Min. 1st Qu.  Median    Mean 3rd Qu.    Max. \n",
            "  1.000   1.015   1.060   1.114   1.139   7.872 \n",
            "SIP.: 0\n",
            "   Min. 1st Qu.  Median    Mean 3rd Qu.    Max. \n",
            "  1.364   2.680   4.813   7.513   9.662  20.919 \n",
            "------------------------------------------------------------ \n",
            "SIP.: 1\n",
            "   Min. 1st Qu.  Median    Mean 3rd Qu.    Max. \n",
            "  1.000   1.015   1.060   1.114   1.139   7.872 \n",
            "  SIP. avg_transit_stations_percent_change_6_1        se\n",
            "0    0                               -8.821655 1.4438655\n",
            "1    1                              -17.308444 0.5401612\n",
            "[1] \"the effect size of having shelter in place on retail_and_recreation behavioral data\"\n",
            "         contrast     SE\n",
            "contrast  -8.4868 1.5323\n",
            "[1] \"weighted Variance:\"\n",
            "  SIP.       V1       se\n",
            "0    0 170.9460 28.95268\n",
            "1    1 269.4515 12.14101\n",
            "[1] \"glass delta of effect is:\"\n",
            "[1] -0.6491036\n"
          ],
          "name": "stdout"
        },
        {
          "output_type": "display_data",
          "data": {
            "image/png": "[encoded data removed]"
          },
          "metadata": {
            "tags": []
          }
        }
      ]
    },
    {
      "cell_type": "markdown",
      "metadata": {
        "id": "DGp6x33cmQAA"
      },
      "source": [
        "# 6. causal analysis on variable `avg_workplaces_percent_change_6_1`"
      ]
    },
    {
      "cell_type": "code",
      "metadata": {
        "colab": {
          "base_uri": "https://localhost:8080/",
          "height": 939
        },
        "id": "zU__Rzo8nQND",
        "outputId": "6d01fb41-9ab6-456b-de6b-b0a0c0dbd095"
      },
      "source": [
        "%%R -i data_workplaces\n",
        "causal_analysis_on_dataset(data_workplaces, 'avg_workplaces_percent_change_6_1')"
      ],
      "execution_count": 18,
      "outputs": [
        {
          "output_type": "stream",
          "text": [
            "SIP.: 0\n",
            "    Min.  1st Qu.   Median     Mean  3rd Qu.     Max. \n",
            "   1.097    3.295    4.727   17.809    7.001 1777.097 \n",
            "------------------------------------------------------------ \n",
            "SIP.: 1\n",
            "   Min. 1st Qu.  Median    Mean 3rd Qu.    Max. \n",
            "  1.000   1.053   1.137   1.174   1.211  24.445 \n",
            "SIP.: 0\n",
            "   Min. 1st Qu.  Median    Mean 3rd Qu.    Max. \n",
            "  1.097   3.295   4.727   5.815   7.001  15.366 \n",
            "------------------------------------------------------------ \n",
            "SIP.: 1\n",
            "   Min. 1st Qu.  Median    Mean 3rd Qu.    Max. \n",
            "  1.000   1.053   1.137   1.170   1.211  15.366 \n",
            "  SIP. avg_workplaces_percent_change_6_1        se\n",
            "0    0                         -21.51483 0.4569665\n",
            "1    1                         -23.77986 0.1466122\n",
            "[1] \"the effect size of having shelter in place on retail_and_recreation behavioral data\"\n",
            "         contrast     SE\n",
            "contrast   -2.265 0.4805\n",
            "[1] \"weighted Variance:\"\n",
            "  SIP.       V1        se\n",
            "0    0 47.27080 11.547258\n",
            "1    1 41.68823  2.187482\n",
            "[1] \"glass delta of effect is:\"\n",
            "[1] -0.3294411\n"
          ],
          "name": "stdout"
        },
        {
          "output_type": "display_data",
          "data": {
            "image/png": "[encoded data removed]"
          },
          "metadata": {
            "tags": []
          }
        }
      ]
    },
    {
      "cell_type": "markdown",
      "metadata": {
        "id": "kWG0FLP9mRwI"
      },
      "source": [
        "# 7. causal analysis on variable `avg_residential_percent_change_6_1`"
      ]
    },
    {
      "cell_type": "code",
      "metadata": {
        "colab": {
          "base_uri": "https://localhost:8080/",
          "height": 939
        },
        "id": "O9RSYNgBnS9G",
        "outputId": "0fd9ad7b-f074-438e-b133-11caf8b8082e"
      },
      "source": [
        "%%R -i data_residential\n",
        "causal_analysis_on_dataset(data_residential, 'avg_residential_percent_change_6_1')"
      ],
      "execution_count": 19,
      "outputs": [
        {
          "output_type": "stream",
          "text": [
            "SIP.: 0\n",
            "   Min. 1st Qu.  Median    Mean 3rd Qu.    Max. \n",
            "  1.348   3.262   6.334  14.082  12.358 209.930 \n",
            "------------------------------------------------------------ \n",
            "SIP.: 1\n",
            "   Min. 1st Qu.  Median    Mean 3rd Qu.    Max. \n",
            "  1.000   1.017   1.049   1.098   1.104  13.769 \n",
            "SIP.: 0\n",
            "   Min. 1st Qu.  Median    Mean 3rd Qu.    Max. \n",
            "  1.348   3.262   6.334   8.872  12.358  22.402 \n",
            "------------------------------------------------------------ \n",
            "SIP.: 1\n",
            "   Min. 1st Qu.  Median    Mean 3rd Qu.    Max. \n",
            "  1.000   1.017   1.049   1.098   1.104  13.769 \n",
            "  SIP. avg_residential_percent_change_6_1        se\n",
            "0    0                           6.678770 0.4693901\n",
            "1    1                           8.345577 0.1169473\n",
            "[1] \"the effect size of having shelter in place on retail_and_recreation behavioral data\"\n",
            "         contrast     SE\n",
            "contrast   1.6668 0.4916\n",
            "[1] \"weighted Variance:\"\n",
            "  SIP.       V1       se\n",
            "0    0 15.20767 2.305391\n",
            "1    1 18.25367 0.749873\n",
            "[1] \"glass delta of effect is:\"\n",
            "[1] 0.4274193\n"
          ],
          "name": "stdout"
        },
        {
          "output_type": "display_data",
          "data": {
            "image/png": "[encoded data removed]"
          },
          "metadata": {
            "tags": []
          }
        }
      ]
    },
    {
      "cell_type": "markdown",
      "metadata": {
        "id": "w9Yd-5hpr1NH"
      },
      "source": [
        "# Conclusion"
      ]
    },
    {
      "cell_type": "markdown",
      "metadata": {
        "id": "OIQG7Gcdr5sa"
      },
      "source": [
        "As we can see, the glass delta is between about `0.1` and `0.6` in absolute value for our 6 behavioral response variables. the largest behavioral change is the transit, which SIP changes that by `0.6` standard deviation (variance is obtained by boostrapping over 1000 subsamples of our data). \\\\\n",
        "the change on residential is about `0.4` standard deviation, which sort of matches our result before."
      ]
    }
  ]
}