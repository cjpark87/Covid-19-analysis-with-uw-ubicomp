{
  "nbformat": 4,
  "nbformat_minor": 0,
  "metadata": {
    "colab": {
      "name": "propensity_weighted_method.ipynb",
      "provenance": [],
      "collapsed_sections": [
        "4yhDsfny-vPv"
      ],
      "mount_file_id": "1xD-jdbMsLeHdwgmVxM90TFsJdE3X2u7u",
      "authorship_tag": "ABX9TyN0Ba3KwnnDz2FecGQDh5NA",
      "include_colab_link": true
    },
    "kernelspec": {
      "name": "python3",
      "display_name": "Python 3"
    }
  },
  "cells": [
    {
      "cell_type": "markdown",
      "metadata": {
        "id": "view-in-github",
        "colab_type": "text"
      },
      "source": [
        "<a href=\"https://colab.research.google.com/github/wenjunsun/Covid-19-analysis-with-uw-ubicomp/blob/master/2020-11/propensity_weighted_method.ipynb\" target=\"_parent\"><img src=\"https://colab.research.google.com/assets/colab-badge.svg\" alt=\"Open In Colab\"/></a>"
      ]
    },
    {
      "cell_type": "markdown",
      "metadata": {
        "id": "2ogFM2e84z_S"
      },
      "source": [
        "In this notebook we will use propensity score we got from the logistic regression to do weighted analysis of ATE."
      ]
    },
    {
      "cell_type": "markdown",
      "metadata": {
        "id": "4yhDsfny-vPv"
      },
      "source": [
        "# 0. load data/packages"
      ]
    },
    {
      "cell_type": "code",
      "metadata": {
        "id": "_jZr7FLc9sd1",
        "outputId": "69dd91f5-d511-4bc4-8bc8-aaa1ef6c6292",
        "colab": {
          "base_uri": "https://localhost:8080/",
          "height": 0
        }
      },
      "source": [
        "cd drive/My\\ Drive/fall"
      ],
      "execution_count": 1,
      "outputs": [
        {
          "output_type": "stream",
          "text": [
            "/content/drive/My Drive/fall\n"
          ],
          "name": "stdout"
        }
      ]
    },
    {
      "cell_type": "code",
      "metadata": {
        "id": "2fX4CIdX9-Px",
        "outputId": "56163c42-489c-4f60-af6d-7c262d9e7885",
        "colab": {
          "base_uri": "https://localhost:8080/",
          "height": 0
        }
      },
      "source": [
        "ls"
      ],
      "execution_count": 2,
      "outputs": [
        {
          "output_type": "stream",
          "text": [
            "counties_with_diff_and_all_covariates.csv\n",
            "counties_with_diff.csv\n",
            "county_data_with_covariates.csv\n",
            "county_data_with_reduced_covariates_more_variables.csv\n",
            "county_data_with_reduced_covariates_with_SIP.csv\n",
            "county_data_with_reduced_covariates_with_SIP_up_to_5.csv\n",
            "county_data_with_reduced_covariates_with_SIP_up_to_8.csv\n",
            "LR_with_propensity_compare_SIP_and_no_SIP.ipynb\n",
            "LR_with_propensity_score_buckets.ipynb\n",
            "more_mutual_info.ipynb\n",
            "propensity_weighted_method.ipynb\n",
            "PSM_new.ipynb\n",
            "standardized_linear_regression.ipynb\n",
            "what_make_people_change_behavior.ipynb\n"
          ],
          "name": "stdout"
        }
      ]
    },
    {
      "cell_type": "code",
      "metadata": {
        "id": "jZlTcYr-9-ik"
      },
      "source": [
        "import pandas as pd\n",
        "import numpy as np"
      ],
      "execution_count": 3,
      "outputs": []
    },
    {
      "cell_type": "code",
      "metadata": {
        "id": "HhG9Pzjv-XnL",
        "outputId": "0001a1d7-8c3d-48d2-9e0c-27cfd856dd9d",
        "colab": {
          "base_uri": "https://localhost:8080/",
          "height": 0
        }
      },
      "source": [
        "%load_ext rpy2.ipython\n",
        "# For (automatic) translation of Pandas objects to R\n",
        "from rpy2.robjects import pandas2ri\n",
        "pandas2ri.activate()"
      ],
      "execution_count": 4,
      "outputs": [
        {
          "output_type": "stream",
          "text": [
            "/usr/local/lib/python3.6/dist-packages/rpy2/robjects/pandas2ri.py:14: FutureWarning: pandas.core.index is deprecated and will be removed in a future version.  The public classes are available in the top-level namespace.\n",
            "  from pandas.core.index import Index as PandasIndex\n",
            "/usr/local/lib/python3.6/dist-packages/rpy2/robjects/pandas2ri.py:34: UserWarning: pandas >= 1.0 is not supported.\n",
            "  warnings.warn('pandas >= 1.0 is not supported.')\n"
          ],
          "name": "stderr"
        }
      ]
    },
    {
      "cell_type": "code",
      "metadata": {
        "id": "rag1DJ8N-X6W",
        "outputId": "39b83a7a-aa2e-4329-9040-d3f0bced8c23",
        "colab": {
          "base_uri": "https://localhost:8080/",
          "height": 0
        }
      },
      "source": [
        "%%R\n",
        "# install standard propensity matching library in R \n",
        "install.packages(\"MatchIt\")\n",
        "# load MatchIt package\n",
        "library(MatchIt)\n",
        "# install optimal match package\n",
        "install.packages('optmatch')\n",
        "library(optmatch)"
      ],
      "execution_count": 5,
      "outputs": [
        {
          "output_type": "stream",
          "text": [
            "R[write to console]: Installing package into ‘/usr/local/lib/R/site-library’\n",
            "(as ‘lib’ is unspecified)\n",
            "\n",
            "R[write to console]: trying URL 'https://cran.rstudio.com/src/contrib/MatchIt_3.0.2.tar.gz'\n",
            "\n",
            "R[write to console]: Content type 'application/x-gzip'\n",
            "R[write to console]:  length 317607 bytes (310 KB)\n",
            "\n",
            "R[write to console]: =\n",
            "R[write to console]: =\n",
            "R[write to console]: =\n",
            "R[write to console]: =\n",
            "R[write to console]: =\n",
            "R[write to console]: =\n",
            "R[write to console]: =\n",
            "R[write to console]: =\n",
            "R[write to console]: =\n",
            "R[write to console]: =\n",
            "R[write to console]: =\n",
            "R[write to console]: =\n",
            "R[write to console]: =\n",
            "R[write to console]: =\n",
            "R[write to console]: =\n",
            "R[write to console]: =\n",
            "R[write to console]: =\n",
            "R[write to console]: =\n",
            "R[write to console]: =\n",
            "R[write to console]: =\n",
            "R[write to console]: =\n",
            "R[write to console]: =\n",
            "R[write to console]: =\n",
            "R[write to console]: =\n",
            "R[write to console]: =\n",
            "R[write to console]: =\n",
            "R[write to console]: =\n",
            "R[write to console]: =\n",
            "R[write to console]: =\n",
            "R[write to console]: =\n",
            "R[write to console]: =\n",
            "R[write to console]: =\n",
            "R[write to console]: =\n",
            "R[write to console]: =\n",
            "R[write to console]: =\n",
            "R[write to console]: =\n",
            "R[write to console]: =\n",
            "R[write to console]: =\n",
            "R[write to console]: =\n",
            "R[write to console]: =\n",
            "R[write to console]: =\n",
            "R[write to console]: =\n",
            "R[write to console]: =\n",
            "R[write to console]: =\n",
            "R[write to console]: =\n",
            "R[write to console]: =\n",
            "R[write to console]: =\n",
            "R[write to console]: =\n",
            "R[write to console]: =\n",
            "R[write to console]: =\n",
            "R[write to console]: \n",
            "\n",
            "R[write to console]: downloaded 310 KB\n",
            "\n",
            "\n",
            "R[write to console]: \n",
            "\n",
            "R[write to console]: \n",
            "R[write to console]: The downloaded source packages are in\n",
            "\t‘/tmp/RtmpF6oIQ0/downloaded_packages’\n",
            "R[write to console]: \n",
            "R[write to console]: \n",
            "\n",
            "R[write to console]: Installing package into ‘/usr/local/lib/R/site-library’\n",
            "(as ‘lib’ is unspecified)\n",
            "\n",
            "R[write to console]: trying URL 'https://cran.rstudio.com/src/contrib/optmatch_0.9-13.tar.gz'\n",
            "\n",
            "R[write to console]: Content type 'application/x-gzip'\n",
            "R[write to console]:  length 933328 bytes (911 KB)\n",
            "\n",
            "R[write to console]: =\n",
            "R[write to console]: =\n",
            "R[write to console]: =\n",
            "R[write to console]: =\n",
            "R[write to console]: =\n",
            "R[write to console]: =\n",
            "R[write to console]: =\n",
            "R[write to console]: =\n",
            "R[write to console]: =\n",
            "R[write to console]: =\n",
            "R[write to console]: =\n",
            "R[write to console]: =\n",
            "R[write to console]: =\n",
            "R[write to console]: =\n",
            "R[write to console]: =\n",
            "R[write to console]: =\n",
            "R[write to console]: =\n",
            "R[write to console]: =\n",
            "R[write to console]: =\n",
            "R[write to console]: =\n",
            "R[write to console]: =\n",
            "R[write to console]: =\n",
            "R[write to console]: =\n",
            "R[write to console]: =\n",
            "R[write to console]: =\n",
            "R[write to console]: =\n",
            "R[write to console]: =\n",
            "R[write to console]: =\n",
            "R[write to console]: =\n",
            "R[write to console]: =\n",
            "R[write to console]: =\n",
            "R[write to console]: =\n",
            "R[write to console]: =\n",
            "R[write to console]: =\n",
            "R[write to console]: =\n",
            "R[write to console]: =\n",
            "R[write to console]: =\n",
            "R[write to console]: =\n",
            "R[write to console]: =\n",
            "R[write to console]: =\n",
            "R[write to console]: =\n",
            "R[write to console]: =\n",
            "R[write to console]: =\n",
            "R[write to console]: =\n",
            "R[write to console]: =\n",
            "R[write to console]: =\n",
            "R[write to console]: =\n",
            "R[write to console]: =\n",
            "R[write to console]: =\n",
            "R[write to console]: =\n",
            "R[write to console]: \n",
            "\n",
            "R[write to console]: downloaded 911 KB\n",
            "\n",
            "\n",
            "R[write to console]: \n",
            "\n",
            "R[write to console]: \n",
            "R[write to console]: The downloaded source packages are in\n",
            "\t‘/tmp/RtmpF6oIQ0/downloaded_packages’\n",
            "R[write to console]: \n",
            "R[write to console]: \n",
            "\n",
            "R[write to console]: Loading required package: survival\n",
            "\n",
            "R[write to console]: The optmatch package has an academic license. Enter relaxinfo() for more information.\n",
            "\n"
          ],
          "name": "stderr"
        }
      ]
    },
    {
      "cell_type": "code",
      "metadata": {
        "id": "6OZbxe5sZMNG",
        "outputId": "a5e22cbf-969e-429a-e638-f49084d4765e",
        "colab": {
          "base_uri": "https://localhost:8080/",
          "height": 0
        }
      },
      "source": [
        "# for box and whisker plot\n",
        "%%R\n",
        "install.packages('lattice')\n",
        "library(lattice)"
      ],
      "execution_count": 73,
      "outputs": [
        {
          "output_type": "stream",
          "text": [
            "R[write to console]: Installing package into ‘/usr/local/lib/R/site-library’\n",
            "(as ‘lib’ is unspecified)\n",
            "\n",
            "R[write to console]: trying URL 'https://cran.rstudio.com/src/contrib/lattice_0.20-41.tar.gz'\n",
            "\n",
            "R[write to console]: Content type 'application/x-gzip'\n",
            "R[write to console]:  length 389631 bytes (380 KB)\n",
            "\n",
            "R[write to console]: =\n",
            "R[write to console]: =\n",
            "R[write to console]: =\n",
            "R[write to console]: =\n",
            "R[write to console]: =\n",
            "R[write to console]: =\n",
            "R[write to console]: =\n",
            "R[write to console]: =\n",
            "R[write to console]: =\n",
            "R[write to console]: =\n",
            "R[write to console]: =\n",
            "R[write to console]: =\n",
            "R[write to console]: =\n",
            "R[write to console]: =\n",
            "R[write to console]: =\n",
            "R[write to console]: =\n",
            "R[write to console]: =\n",
            "R[write to console]: =\n",
            "R[write to console]: =\n",
            "R[write to console]: =\n",
            "R[write to console]: =\n",
            "R[write to console]: =\n",
            "R[write to console]: =\n",
            "R[write to console]: =\n",
            "R[write to console]: =\n",
            "R[write to console]: =\n",
            "R[write to console]: =\n",
            "R[write to console]: =\n",
            "R[write to console]: =\n",
            "R[write to console]: =\n",
            "R[write to console]: =\n",
            "R[write to console]: =\n",
            "R[write to console]: =\n",
            "R[write to console]: =\n",
            "R[write to console]: =\n",
            "R[write to console]: =\n",
            "R[write to console]: =\n",
            "R[write to console]: =\n",
            "R[write to console]: =\n",
            "R[write to console]: =\n",
            "R[write to console]: =\n",
            "R[write to console]: =\n",
            "R[write to console]: =\n",
            "R[write to console]: =\n",
            "R[write to console]: =\n",
            "R[write to console]: =\n",
            "R[write to console]: =\n",
            "R[write to console]: =\n",
            "R[write to console]: =\n",
            "R[write to console]: =\n",
            "R[write to console]: \n",
            "\n",
            "R[write to console]: downloaded 380 KB\n",
            "\n",
            "\n",
            "R[write to console]: \n",
            "\n",
            "R[write to console]: \n",
            "R[write to console]: The downloaded source packages are in\n",
            "\t‘/tmp/RtmpF6oIQ0/downloaded_packages’\n",
            "R[write to console]: \n",
            "R[write to console]: \n",
            "\n"
          ],
          "name": "stderr"
        }
      ]
    },
    {
      "cell_type": "code",
      "metadata": {
        "id": "HTS8KALYRZei",
        "outputId": "c672793b-2b91-450c-977c-a9ea60ed2984",
        "colab": {
          "base_uri": "https://localhost:8080/",
          "height": 0
        }
      },
      "source": [
        "# install package for gradient boosting machine to estimate propensity score\n",
        "%%R\n",
        "install.packages('twang')\n",
        "library(twang)"
      ],
      "execution_count": 22,
      "outputs": [
        {
          "output_type": "stream",
          "text": [
            "R[write to console]: Installing package into ‘/usr/local/lib/R/site-library’\n",
            "(as ‘lib’ is unspecified)\n",
            "\n",
            "R[write to console]: also installing the dependencies ‘minqa’, ‘numDeriv’, ‘mitools’, ‘png’, ‘jpeg’, ‘gbm’, ‘survey’, ‘latticeExtra’\n",
            "\n",
            "\n",
            "R[write to console]: trying URL 'https://cran.rstudio.com/src/contrib/minqa_1.2.4.tar.gz'\n",
            "\n",
            "R[write to console]: Content type 'application/x-gzip'\n",
            "R[write to console]:  length 53548 bytes (52 KB)\n",
            "\n",
            "R[write to console]: =\n",
            "R[write to console]: =\n",
            "R[write to console]: =\n",
            "R[write to console]: =\n",
            "R[write to console]: =\n",
            "R[write to console]: =\n",
            "R[write to console]: =\n",
            "R[write to console]: =\n",
            "R[write to console]: =\n",
            "R[write to console]: =\n",
            "R[write to console]: =\n",
            "R[write to console]: =\n",
            "R[write to console]: =\n",
            "R[write to console]: =\n",
            "R[write to console]: =\n",
            "R[write to console]: =\n",
            "R[write to console]: =\n",
            "R[write to console]: =\n",
            "R[write to console]: =\n",
            "R[write to console]: =\n",
            "R[write to console]: =\n",
            "R[write to console]: =\n",
            "R[write to console]: =\n",
            "R[write to console]: =\n",
            "R[write to console]: =\n",
            "R[write to console]: =\n",
            "R[write to console]: =\n",
            "R[write to console]: =\n",
            "R[write to console]: =\n",
            "R[write to console]: =\n",
            "R[write to console]: =\n",
            "R[write to console]: =\n",
            "R[write to console]: =\n",
            "R[write to console]: =\n",
            "R[write to console]: =\n",
            "R[write to console]: =\n",
            "R[write to console]: =\n",
            "R[write to console]: =\n",
            "R[write to console]: =\n",
            "R[write to console]: =\n",
            "R[write to console]: =\n",
            "R[write to console]: =\n",
            "R[write to console]: =\n",
            "R[write to console]: =\n",
            "R[write to console]: =\n",
            "R[write to console]: =\n",
            "R[write to console]: =\n",
            "R[write to console]: =\n",
            "R[write to console]: =\n",
            "R[write to console]: =\n",
            "R[write to console]: \n",
            "\n",
            "R[write to console]: downloaded 52 KB\n",
            "\n",
            "\n",
            "R[write to console]: trying URL 'https://cran.rstudio.com/src/contrib/numDeriv_2016.8-1.1.tar.gz'\n",
            "\n",
            "R[write to console]: Content type 'application/x-gzip'\n",
            "R[write to console]:  length 76053 bytes (74 KB)\n",
            "\n",
            "R[write to console]: =\n",
            "R[write to console]: =\n",
            "R[write to console]: =\n",
            "R[write to console]: =\n",
            "R[write to console]: =\n",
            "R[write to console]: =\n",
            "R[write to console]: =\n",
            "R[write to console]: =\n",
            "R[write to console]: =\n",
            "R[write to console]: =\n",
            "R[write to console]: =\n",
            "R[write to console]: =\n",
            "R[write to console]: =\n",
            "R[write to console]: =\n",
            "R[write to console]: =\n",
            "R[write to console]: =\n",
            "R[write to console]: =\n",
            "R[write to console]: =\n",
            "R[write to console]: =\n",
            "R[write to console]: =\n",
            "R[write to console]: =\n",
            "R[write to console]: =\n",
            "R[write to console]: =\n",
            "R[write to console]: =\n",
            "R[write to console]: =\n",
            "R[write to console]: =\n",
            "R[write to console]: =\n",
            "R[write to console]: =\n",
            "R[write to console]: =\n",
            "R[write to console]: =\n",
            "R[write to console]: =\n",
            "R[write to console]: =\n",
            "R[write to console]: =\n",
            "R[write to console]: =\n",
            "R[write to console]: =\n",
            "R[write to console]: =\n",
            "R[write to console]: =\n",
            "R[write to console]: =\n",
            "R[write to console]: =\n",
            "R[write to console]: =\n",
            "R[write to console]: =\n",
            "R[write to console]: =\n",
            "R[write to console]: =\n",
            "R[write to console]: =\n",
            "R[write to console]: =\n",
            "R[write to console]: =\n",
            "R[write to console]: =\n",
            "R[write to console]: =\n",
            "R[write to console]: =\n",
            "R[write to console]: =\n",
            "R[write to console]: \n",
            "\n",
            "R[write to console]: downloaded 74 KB\n",
            "\n",
            "\n",
            "R[write to console]: trying URL 'https://cran.rstudio.com/src/contrib/mitools_2.4.tar.gz'\n",
            "\n",
            "R[write to console]: Content type 'application/x-gzip'\n",
            "R[write to console]:  length 229514 bytes (224 KB)\n",
            "\n",
            "R[write to console]: =\n",
            "R[write to console]: =\n",
            "R[write to console]: =\n",
            "R[write to console]: =\n",
            "R[write to console]: =\n",
            "R[write to console]: =\n",
            "R[write to console]: =\n",
            "R[write to console]: =\n",
            "R[write to console]: =\n",
            "R[write to console]: =\n",
            "R[write to console]: =\n",
            "R[write to console]: =\n",
            "R[write to console]: =\n",
            "R[write to console]: =\n",
            "R[write to console]: =\n",
            "R[write to console]: =\n",
            "R[write to console]: =\n",
            "R[write to console]: =\n",
            "R[write to console]: =\n",
            "R[write to console]: =\n",
            "R[write to console]: =\n",
            "R[write to console]: =\n",
            "R[write to console]: =\n",
            "R[write to console]: =\n",
            "R[write to console]: =\n",
            "R[write to console]: =\n",
            "R[write to console]: =\n",
            "R[write to console]: =\n",
            "R[write to console]: =\n",
            "R[write to console]: =\n",
            "R[write to console]: =\n",
            "R[write to console]: =\n",
            "R[write to console]: =\n",
            "R[write to console]: =\n",
            "R[write to console]: =\n",
            "R[write to console]: =\n",
            "R[write to console]: =\n",
            "R[write to console]: =\n",
            "R[write to console]: =\n",
            "R[write to console]: =\n",
            "R[write to console]: =\n",
            "R[write to console]: =\n",
            "R[write to console]: =\n",
            "R[write to console]: =\n",
            "R[write to console]: =\n",
            "R[write to console]: =\n",
            "R[write to console]: =\n",
            "R[write to console]: =\n",
            "R[write to console]: =\n",
            "R[write to console]: =\n",
            "R[write to console]: \n",
            "\n",
            "R[write to console]: downloaded 224 KB\n",
            "\n",
            "\n",
            "R[write to console]: trying URL 'https://cran.rstudio.com/src/contrib/png_0.1-7.tar.gz'\n",
            "\n",
            "R[write to console]: Content type 'application/x-gzip'\n",
            "R[write to console]:  length 24990 bytes (24 KB)\n",
            "\n",
            "R[write to console]: =\n",
            "R[write to console]: =\n",
            "R[write to console]: =\n",
            "R[write to console]: =\n",
            "R[write to console]: =\n",
            "R[write to console]: =\n",
            "R[write to console]: =\n",
            "R[write to console]: =\n",
            "R[write to console]: =\n",
            "R[write to console]: =\n",
            "R[write to console]: =\n",
            "R[write to console]: =\n",
            "R[write to console]: =\n",
            "R[write to console]: =\n",
            "R[write to console]: =\n",
            "R[write to console]: =\n",
            "R[write to console]: =\n",
            "R[write to console]: =\n",
            "R[write to console]: =\n",
            "R[write to console]: =\n",
            "R[write to console]: =\n",
            "R[write to console]: =\n",
            "R[write to console]: =\n",
            "R[write to console]: =\n",
            "R[write to console]: =\n",
            "R[write to console]: =\n",
            "R[write to console]: =\n",
            "R[write to console]: =\n",
            "R[write to console]: =\n",
            "R[write to console]: =\n",
            "R[write to console]: =\n",
            "R[write to console]: =\n",
            "R[write to console]: =\n",
            "R[write to console]: =\n",
            "R[write to console]: =\n",
            "R[write to console]: =\n",
            "R[write to console]: =\n",
            "R[write to console]: =\n",
            "R[write to console]: =\n",
            "R[write to console]: =\n",
            "R[write to console]: =\n",
            "R[write to console]: =\n",
            "R[write to console]: =\n",
            "R[write to console]: =\n",
            "R[write to console]: =\n",
            "R[write to console]: =\n",
            "R[write to console]: =\n",
            "R[write to console]: =\n",
            "R[write to console]: =\n",
            "R[write to console]: =\n",
            "R[write to console]: \n",
            "\n",
            "R[write to console]: downloaded 24 KB\n",
            "\n",
            "\n",
            "R[write to console]: trying URL 'https://cran.rstudio.com/src/contrib/jpeg_0.1-8.1.tar.gz'\n",
            "\n",
            "R[write to console]: Content type 'application/x-gzip'\n",
            "R[write to console]:  length 18116 bytes (17 KB)\n",
            "\n",
            "R[write to console]: =\n",
            "R[write to console]: =\n",
            "R[write to console]: =\n",
            "R[write to console]: =\n",
            "R[write to console]: =\n",
            "R[write to console]: =\n",
            "R[write to console]: =\n",
            "R[write to console]: =\n",
            "R[write to console]: =\n",
            "R[write to console]: =\n",
            "R[write to console]: =\n",
            "R[write to console]: =\n",
            "R[write to console]: =\n",
            "R[write to console]: =\n",
            "R[write to console]: =\n",
            "R[write to console]: =\n",
            "R[write to console]: =\n",
            "R[write to console]: =\n",
            "R[write to console]: =\n",
            "R[write to console]: =\n",
            "R[write to console]: =\n",
            "R[write to console]: =\n",
            "R[write to console]: =\n",
            "R[write to console]: =\n",
            "R[write to console]: =\n",
            "R[write to console]: =\n",
            "R[write to console]: =\n",
            "R[write to console]: =\n",
            "R[write to console]: =\n",
            "R[write to console]: =\n",
            "R[write to console]: =\n",
            "R[write to console]: =\n",
            "R[write to console]: =\n",
            "R[write to console]: =\n",
            "R[write to console]: =\n",
            "R[write to console]: =\n",
            "R[write to console]: =\n",
            "R[write to console]: =\n",
            "R[write to console]: =\n",
            "R[write to console]: =\n",
            "R[write to console]: =\n",
            "R[write to console]: =\n",
            "R[write to console]: =\n",
            "R[write to console]: =\n",
            "R[write to console]: =\n",
            "R[write to console]: =\n",
            "R[write to console]: =\n",
            "R[write to console]: =\n",
            "R[write to console]: =\n",
            "R[write to console]: =\n",
            "R[write to console]: \n",
            "\n",
            "R[write to console]: downloaded 17 KB\n",
            "\n",
            "\n",
            "R[write to console]: trying URL 'https://cran.rstudio.com/src/contrib/gbm_2.1.8.tar.gz'\n",
            "\n",
            "R[write to console]: Content type 'application/x-gzip'\n",
            "R[write to console]:  length 444329 bytes (433 KB)\n",
            "\n",
            "R[write to console]: =\n",
            "R[write to console]: =\n",
            "R[write to console]: =\n",
            "R[write to console]: =\n",
            "R[write to console]: =\n",
            "R[write to console]: =\n",
            "R[write to console]: =\n",
            "R[write to console]: =\n",
            "R[write to console]: =\n",
            "R[write to console]: =\n",
            "R[write to console]: =\n",
            "R[write to console]: =\n",
            "R[write to console]: =\n",
            "R[write to console]: =\n",
            "R[write to console]: =\n",
            "R[write to console]: =\n",
            "R[write to console]: =\n",
            "R[write to console]: =\n",
            "R[write to console]: =\n",
            "R[write to console]: =\n",
            "R[write to console]: =\n",
            "R[write to console]: =\n",
            "R[write to console]: =\n",
            "R[write to console]: =\n",
            "R[write to console]: =\n",
            "R[write to console]: =\n",
            "R[write to console]: =\n",
            "R[write to console]: =\n",
            "R[write to console]: =\n",
            "R[write to console]: =\n",
            "R[write to console]: =\n",
            "R[write to console]: =\n",
            "R[write to console]: =\n",
            "R[write to console]: =\n",
            "R[write to console]: =\n",
            "R[write to console]: =\n",
            "R[write to console]: =\n",
            "R[write to console]: =\n",
            "R[write to console]: =\n",
            "R[write to console]: =\n",
            "R[write to console]: =\n",
            "R[write to console]: =\n",
            "R[write to console]: =\n",
            "R[write to console]: =\n",
            "R[write to console]: =\n",
            "R[write to console]: =\n",
            "R[write to console]: =\n",
            "R[write to console]: =\n",
            "R[write to console]: =\n",
            "R[write to console]: =\n",
            "R[write to console]: \n",
            "\n",
            "R[write to console]: downloaded 433 KB\n",
            "\n",
            "\n",
            "R[write to console]: trying URL 'https://cran.rstudio.com/src/contrib/survey_4.0.tar.gz'\n",
            "\n",
            "R[write to console]: Content type 'application/x-gzip'\n",
            "R[write to console]:  length 1558121 bytes (1.5 MB)\n",
            "\n",
            "R[write to console]: =\n",
            "R[write to console]: =\n",
            "R[write to console]: =\n",
            "R[write to console]: =\n",
            "R[write to console]: =\n",
            "R[write to console]: =\n",
            "R[write to console]: =\n",
            "R[write to console]: =\n",
            "R[write to console]: =\n",
            "R[write to console]: =\n",
            "R[write to console]: =\n",
            "R[write to console]: =\n",
            "R[write to console]: =\n",
            "R[write to console]: =\n",
            "R[write to console]: =\n",
            "R[write to console]: =\n",
            "R[write to console]: =\n",
            "R[write to console]: =\n",
            "R[write to console]: =\n",
            "R[write to console]: =\n",
            "R[write to console]: =\n",
            "R[write to console]: =\n",
            "R[write to console]: =\n",
            "R[write to console]: =\n",
            "R[write to console]: =\n",
            "R[write to console]: =\n",
            "R[write to console]: =\n",
            "R[write to console]: =\n",
            "R[write to console]: =\n",
            "R[write to console]: =\n",
            "R[write to console]: =\n",
            "R[write to console]: =\n",
            "R[write to console]: =\n",
            "R[write to console]: =\n",
            "R[write to console]: =\n",
            "R[write to console]: =\n",
            "R[write to console]: =\n",
            "R[write to console]: =\n",
            "R[write to console]: =\n",
            "R[write to console]: =\n",
            "R[write to console]: =\n",
            "R[write to console]: =\n",
            "R[write to console]: =\n",
            "R[write to console]: =\n",
            "R[write to console]: =\n",
            "R[write to console]: =\n",
            "R[write to console]: =\n",
            "R[write to console]: =\n",
            "R[write to console]: =\n",
            "R[write to console]: =\n",
            "R[write to console]: \n",
            "\n",
            "R[write to console]: downloaded 1.5 MB\n",
            "\n",
            "\n",
            "R[write to console]: trying URL 'https://cran.rstudio.com/src/contrib/latticeExtra_0.6-29.tar.gz'\n",
            "\n",
            "R[write to console]: Content type 'application/x-gzip'\n",
            "R[write to console]:  length 1292315 bytes (1.2 MB)\n",
            "\n",
            "R[write to console]: =\n",
            "R[write to console]: =\n",
            "R[write to console]: =\n",
            "R[write to console]: =\n",
            "R[write to console]: =\n",
            "R[write to console]: =\n",
            "R[write to console]: =\n",
            "R[write to console]: =\n",
            "R[write to console]: =\n",
            "R[write to console]: =\n",
            "R[write to console]: =\n",
            "R[write to console]: =\n",
            "R[write to console]: =\n",
            "R[write to console]: =\n",
            "R[write to console]: =\n",
            "R[write to console]: =\n",
            "R[write to console]: =\n",
            "R[write to console]: =\n",
            "R[write to console]: =\n",
            "R[write to console]: =\n",
            "R[write to console]: =\n",
            "R[write to console]: =\n",
            "R[write to console]: =\n",
            "R[write to console]: =\n",
            "R[write to console]: =\n",
            "R[write to console]: =\n",
            "R[write to console]: =\n",
            "R[write to console]: =\n",
            "R[write to console]: =\n",
            "R[write to console]: =\n",
            "R[write to console]: =\n",
            "R[write to console]: =\n",
            "R[write to console]: =\n",
            "R[write to console]: =\n",
            "R[write to console]: =\n",
            "R[write to console]: =\n",
            "R[write to console]: =\n",
            "R[write to console]: =\n",
            "R[write to console]: =\n",
            "R[write to console]: =\n",
            "R[write to console]: =\n",
            "R[write to console]: =\n",
            "R[write to console]: =\n",
            "R[write to console]: =\n",
            "R[write to console]: =\n",
            "R[write to console]: =\n",
            "R[write to console]: =\n",
            "R[write to console]: =\n",
            "R[write to console]: =\n",
            "R[write to console]: =\n",
            "R[write to console]: \n",
            "\n",
            "R[write to console]: downloaded 1.2 MB\n",
            "\n",
            "\n",
            "R[write to console]: trying URL 'https://cran.rstudio.com/src/contrib/twang_1.6.tar.gz'\n",
            "\n",
            "R[write to console]: Content type 'application/x-gzip'\n",
            "R[write to console]:  length 1256084 bytes (1.2 MB)\n",
            "\n",
            "R[write to console]: =\n",
            "R[write to console]: =\n",
            "R[write to console]: =\n",
            "R[write to console]: =\n",
            "R[write to console]: =\n",
            "R[write to console]: =\n",
            "R[write to console]: =\n",
            "R[write to console]: =\n",
            "R[write to console]: =\n",
            "R[write to console]: =\n",
            "R[write to console]: =\n",
            "R[write to console]: =\n",
            "R[write to console]: =\n",
            "R[write to console]: =\n",
            "R[write to console]: =\n",
            "R[write to console]: =\n",
            "R[write to console]: =\n",
            "R[write to console]: =\n",
            "R[write to console]: =\n",
            "R[write to console]: =\n",
            "R[write to console]: =\n",
            "R[write to console]: =\n",
            "R[write to console]: =\n",
            "R[write to console]: =\n",
            "R[write to console]: =\n",
            "R[write to console]: =\n",
            "R[write to console]: =\n",
            "R[write to console]: =\n",
            "R[write to console]: =\n",
            "R[write to console]: =\n",
            "R[write to console]: =\n",
            "R[write to console]: =\n",
            "R[write to console]: =\n",
            "R[write to console]: =\n",
            "R[write to console]: =\n",
            "R[write to console]: =\n",
            "R[write to console]: =\n",
            "R[write to console]: =\n",
            "R[write to console]: =\n",
            "R[write to console]: =\n",
            "R[write to console]: =\n",
            "R[write to console]: =\n",
            "R[write to console]: =\n",
            "R[write to console]: =\n",
            "R[write to console]: =\n",
            "R[write to console]: =\n",
            "R[write to console]: =\n",
            "R[write to console]: =\n",
            "R[write to console]: =\n",
            "R[write to console]: =\n",
            "R[write to console]: \n",
            "\n",
            "R[write to console]: downloaded 1.2 MB\n",
            "\n",
            "\n",
            "R[write to console]: \n",
            "\n",
            "R[write to console]: \n",
            "R[write to console]: The downloaded source packages are in\n",
            "\t‘/tmp/RtmpF6oIQ0/downloaded_packages’\n",
            "R[write to console]: \n",
            "R[write to console]: \n",
            "\n"
          ],
          "name": "stderr"
        }
      ]
    },
    {
      "cell_type": "code",
      "metadata": {
        "id": "LFq1xnSc-aAf"
      },
      "source": [
        "data = pd.read_csv('county_data_with_reduced_covariates_with_SIP.csv')"
      ],
      "execution_count": 114,
      "outputs": []
    },
    {
      "cell_type": "code",
      "metadata": {
        "id": "g27_bncd-lWk"
      },
      "source": [
        "data.dropna(inplace = True)"
      ],
      "execution_count": 115,
      "outputs": []
    },
    {
      "cell_type": "code",
      "metadata": {
        "id": "iK5ktOr4-mSu",
        "outputId": "7f11203f-4665-4141-8d97-448c6f71c98d",
        "colab": {
          "base_uri": "https://localhost:8080/",
          "height": 0
        }
      },
      "source": [
        "print(f\"after dropping this dataset has {data.shape[0]} records.\")"
      ],
      "execution_count": 116,
      "outputs": [
        {
          "output_type": "stream",
          "text": [
            "after dropping this dataset has 2995 records.\n"
          ],
          "name": "stdout"
        }
      ]
    },
    {
      "cell_type": "code",
      "metadata": {
        "id": "uvXLMAgg-pnh"
      },
      "source": [
        "dataframe = data"
      ],
      "execution_count": 117,
      "outputs": []
    },
    {
      "cell_type": "markdown",
      "metadata": {
        "id": "A0DNSEu9g1Nm"
      },
      "source": [
        "# 1. get propensity score from logistic regression"
      ]
    },
    {
      "cell_type": "code",
      "metadata": {
        "id": "a8sYR8em-qkt",
        "outputId": "a703d7f2-9f02-4abf-b04d-284beb053217",
        "colab": {
          "base_uri": "https://localhost:8080/",
          "height": 411
        }
      },
      "source": [
        "dataframe.head()"
      ],
      "execution_count": 10,
      "outputs": [
        {
          "output_type": "execute_result",
          "data": {
            "text/html": [
              "<div>\n",
              "<style scoped>\n",
              "    .dataframe tbody tr th:only-of-type {\n",
              "        vertical-align: middle;\n",
              "    }\n",
              "\n",
              "    .dataframe tbody tr th {\n",
              "        vertical-align: top;\n",
              "    }\n",
              "\n",
              "    .dataframe thead th {\n",
              "        text-align: right;\n",
              "    }\n",
              "</style>\n",
              "<table border=\"1\" class=\"dataframe\">\n",
              "  <thead>\n",
              "    <tr style=\"text-align: right;\">\n",
              "      <th></th>\n",
              "      <th>state</th>\n",
              "      <th>state_code</th>\n",
              "      <th>State Name</th>\n",
              "      <th>cnamelong</th>\n",
              "      <th>county_code</th>\n",
              "      <th>diff_in_perc_at_home</th>\n",
              "      <th>SIP?</th>\n",
              "      <th>Median Household Income</th>\n",
              "      <th>% Rural</th>\n",
              "      <th>Population_y</th>\n",
              "      <th>political_diff</th>\n",
              "      <th>% less than 18 years of age</th>\n",
              "      <th>% 65 and over</th>\n",
              "      <th>% Asian</th>\n",
              "      <th>% Black</th>\n",
              "      <th>% Hispanic</th>\n",
              "      <th>% Non-Hispanic White</th>\n",
              "    </tr>\n",
              "  </thead>\n",
              "  <tbody>\n",
              "    <tr>\n",
              "      <th>0</th>\n",
              "      <td>1.0</td>\n",
              "      <td>AL</td>\n",
              "      <td>Alabama</td>\n",
              "      <td>Autauga County</td>\n",
              "      <td>1001.0</td>\n",
              "      <td>0.050678</td>\n",
              "      <td>1</td>\n",
              "      <td>59338.0</td>\n",
              "      <td>42.0</td>\n",
              "      <td>55601</td>\n",
              "      <td>-0.494789</td>\n",
              "      <td>23.7</td>\n",
              "      <td>15.6</td>\n",
              "      <td>1.2</td>\n",
              "      <td>19.3</td>\n",
              "      <td>3.0</td>\n",
              "      <td>74.3</td>\n",
              "    </tr>\n",
              "    <tr>\n",
              "      <th>1</th>\n",
              "      <td>1.0</td>\n",
              "      <td>AL</td>\n",
              "      <td>Alabama</td>\n",
              "      <td>Baldwin County</td>\n",
              "      <td>1003.0</td>\n",
              "      <td>0.050312</td>\n",
              "      <td>1</td>\n",
              "      <td>57588.0</td>\n",
              "      <td>42.3</td>\n",
              "      <td>218022</td>\n",
              "      <td>-0.577862</td>\n",
              "      <td>21.6</td>\n",
              "      <td>20.4</td>\n",
              "      <td>1.2</td>\n",
              "      <td>8.8</td>\n",
              "      <td>4.6</td>\n",
              "      <td>83.1</td>\n",
              "    </tr>\n",
              "    <tr>\n",
              "      <th>2</th>\n",
              "      <td>1.0</td>\n",
              "      <td>AL</td>\n",
              "      <td>Alabama</td>\n",
              "      <td>Barbour County</td>\n",
              "      <td>1005.0</td>\n",
              "      <td>0.007037</td>\n",
              "      <td>1</td>\n",
              "      <td>34382.0</td>\n",
              "      <td>67.8</td>\n",
              "      <td>24881</td>\n",
              "      <td>-0.056112</td>\n",
              "      <td>20.9</td>\n",
              "      <td>19.4</td>\n",
              "      <td>0.5</td>\n",
              "      <td>48.0</td>\n",
              "      <td>4.3</td>\n",
              "      <td>45.6</td>\n",
              "    </tr>\n",
              "    <tr>\n",
              "      <th>3</th>\n",
              "      <td>1.0</td>\n",
              "      <td>AL</td>\n",
              "      <td>Alabama</td>\n",
              "      <td>Bibb County</td>\n",
              "      <td>1007.0</td>\n",
              "      <td>0.011809</td>\n",
              "      <td>1</td>\n",
              "      <td>46064.0</td>\n",
              "      <td>68.4</td>\n",
              "      <td>22400</td>\n",
              "      <td>-0.555441</td>\n",
              "      <td>20.5</td>\n",
              "      <td>16.5</td>\n",
              "      <td>0.2</td>\n",
              "      <td>21.1</td>\n",
              "      <td>2.6</td>\n",
              "      <td>74.6</td>\n",
              "    </tr>\n",
              "    <tr>\n",
              "      <th>4</th>\n",
              "      <td>1.0</td>\n",
              "      <td>AL</td>\n",
              "      <td>Alabama</td>\n",
              "      <td>Blount County</td>\n",
              "      <td>1009.0</td>\n",
              "      <td>0.038890</td>\n",
              "      <td>1</td>\n",
              "      <td>50412.0</td>\n",
              "      <td>90.0</td>\n",
              "      <td>57840</td>\n",
              "      <td>-0.813820</td>\n",
              "      <td>23.2</td>\n",
              "      <td>18.2</td>\n",
              "      <td>0.3</td>\n",
              "      <td>1.5</td>\n",
              "      <td>9.6</td>\n",
              "      <td>86.9</td>\n",
              "    </tr>\n",
              "  </tbody>\n",
              "</table>\n",
              "</div>"
            ],
            "text/plain": [
              "   state state_code State Name  ... % Black  % Hispanic  % Non-Hispanic White\n",
              "0    1.0         AL    Alabama  ...    19.3         3.0                  74.3\n",
              "1    1.0         AL    Alabama  ...     8.8         4.6                  83.1\n",
              "2    1.0         AL    Alabama  ...    48.0         4.3                  45.6\n",
              "3    1.0         AL    Alabama  ...    21.1         2.6                  74.6\n",
              "4    1.0         AL    Alabama  ...     1.5         9.6                  86.9\n",
              "\n",
              "[5 rows x 17 columns]"
            ]
          },
          "metadata": {
            "tags": []
          },
          "execution_count": 10
        }
      ]
    },
    {
      "cell_type": "markdown",
      "metadata": {
        "id": "TmZNuXW1MKh3"
      },
      "source": [
        "Since we are doing propensity weighted methods, we do not need to use the matchit package (we could), we can just use GLM package to do logistic regression to get a propensity score for each row."
      ]
    },
    {
      "cell_type": "code",
      "metadata": {
        "id": "QzSTvpfx-1I7"
      },
      "source": [
        "%%R -i dataframe\n",
        "\n",
        "logitModel <- glm(SIP.~Median.Household.Income + X..Rural +\n",
        "                  political_diff+\n",
        "                  X..Asian + X..Black + \n",
        "                  X..Non.Hispanic.White +\n",
        "                  X..Hispanic + Population_y, data = dataframe, family = \"binomial\")\n",
        "\n",
        "# put the propensity score predicted by logistic regression\n",
        "# into a new column in the dataframe.\n",
        "dataframe$weights<-predict(mylogit, type=\"response\")"
      ],
      "execution_count": 118,
      "outputs": []
    },
    {
      "cell_type": "code",
      "metadata": {
        "id": "RYbixDMMKOv8",
        "outputId": "1b484a81-adba-4e08-cc56-bd7ce2c8045a",
        "colab": {
          "base_uri": "https://localhost:8080/",
          "height": 0
        }
      },
      "source": [
        "%%R\n",
        "head(dataframe)"
      ],
      "execution_count": 15,
      "outputs": [
        {
          "output_type": "stream",
          "text": [
            "  state state_code State.Name      cnamelong county_code diff_in_perc_at_home\n",
            "0     1         AL    Alabama Autauga County        1001          0.050678282\n",
            "1     1         AL    Alabama Baldwin County        1003          0.050311979\n",
            "2     1         AL    Alabama Barbour County        1005          0.007036924\n",
            "3     1         AL    Alabama    Bibb County        1007          0.011808926\n",
            "4     1         AL    Alabama  Blount County        1009          0.038890321\n",
            "5     1         AL    Alabama Bullock County        1011         -0.009576347\n",
            "  SIP. Median.Household.Income X..Rural Population_y political_diff\n",
            "0    1                   59338     42.0        55601    -0.49478934\n",
            "1    1                   57588     42.3       218022    -0.57786162\n",
            "2    1                   34382     67.8        24881    -0.05611165\n",
            "3    1                   46064     68.4        22400    -0.55544124\n",
            "4    1                   50412     90.0        57840    -0.81381973\n",
            "5    1                   29267     51.4        10138     0.50861519\n",
            "  X..less.than.18.years.of.age X..65.and.over X..Asian X..Black X..Hispanic\n",
            "0                         23.7           15.6      1.2     19.3         3.0\n",
            "1                         21.6           20.4      1.2      8.8         4.6\n",
            "2                         20.9           19.4      0.5     48.0         4.3\n",
            "3                         20.5           16.5      0.2     21.1         2.6\n",
            "4                         23.2           18.2      0.3      1.5         9.6\n",
            "5                         21.1           16.4      0.2     69.5         8.0\n",
            "  X..Non.Hispanic.White   weights\n",
            "0                  74.3 0.8401659\n",
            "1                  83.1 0.9600924\n",
            "2                  45.6 0.9719255\n",
            "3                  74.6 0.8598237\n",
            "4                  86.9 0.8402704\n",
            "5                  21.2 0.9917412\n"
          ],
          "name": "stdout"
        }
      ]
    },
    {
      "cell_type": "markdown",
      "metadata": {
        "id": "ONfj6qIag5vB"
      },
      "source": [
        "# 2. box-whisker plot of propensity score distribution"
      ]
    },
    {
      "cell_type": "code",
      "metadata": {
        "id": "eeEZShjXf6hj"
      },
      "source": [
        "%%R\n",
        "# convert 0, 1 to categories, as is required by the box whisker function\n",
        "dataframe$factor_SIP <- factor(dataframe$SIP.)"
      ],
      "execution_count": 119,
      "outputs": []
    },
    {
      "cell_type": "code",
      "metadata": {
        "id": "f4MlkUhxfA_c",
        "outputId": "79bb4ccd-588f-4e04-ec5b-96e776858cf4",
        "colab": {
          "base_uri": "https://localhost:8080/",
          "height": 497
        }
      },
      "source": [
        "%%R\n",
        "bwplot(weights~factor_SIP, data = dataframe, ylab = \"propensity score\", \n",
        "       xlab = \"Shelter in place?\", main = 'propensity score box-whisker plot of counties with/without SIP',\n",
        "       auto.key = TRUE) "
      ],
      "execution_count": 124,
      "outputs": [
        {
          "output_type": "display_data",
          "data": {
            "image/png": "[encoded data removed]"
          },
          "metadata": {
            "tags": []
          }
        }
      ]
    },
    {
      "cell_type": "markdown",
      "metadata": {
        "id": "KTArh2iNhBLz"
      },
      "source": [
        "As we can see, although the box whisker plot don't overlap exactly, I still think we still got a good propensity score based on the graph"
      ]
    },
    {
      "cell_type": "markdown",
      "metadata": {
        "id": "oLUfc4xChPjy"
      },
      "source": [
        "# 3. calculate weight of each individual based on propensity score"
      ]
    },
    {
      "cell_type": "markdown",
      "metadata": {
        "id": "i2wtBqQkMfJ8"
      },
      "source": [
        "There are two different ways to do propensity score weighting, one is used to estimate ATT, another is used to esimate ATE. In this case we are estimating ATE, so the formula we will be using will be:\n",
        "$w_i=\\frac{Z_{i}}{e_i(X)}+\\frac{1-Z_i}{1-e_i(X)}$ (Stuart, 2010) where $Z_i$ is the treatment random variable for individual $i$. ($Z_i = 1$ for treated). $e_i$ is the propensity score the individual $i$. \n",
        "\n",
        "The intuition for this formula is this: If an individual has propensity score of 0.1, but actually got the treatment, we weight that individual by a lot ($\\frac{1}{0.1}$)because that is unusual. The same goes for the other side: if an individual has propensity score of 0.9, but didn't get the treatment, then we weight that individual by ($\\frac{1}{1-0.9}$) "
      ]
    },
    {
      "cell_type": "code",
      "metadata": {
        "id": "wFtiLbleOUcz"
      },
      "source": [
        "%%R\n",
        "dataframe$weight_ATE <- with(dataframe, ifelse(SIP.==1, 1/weights, 1/(1-weights)))"
      ],
      "execution_count": 125,
      "outputs": []
    },
    {
      "cell_type": "code",
      "metadata": {
        "id": "3Wf95lXwPK8d",
        "outputId": "101e5966-e56c-4f44-8af6-dd89de88725e",
        "colab": {
          "base_uri": "https://localhost:8080/"
        }
      },
      "source": [
        "%%R\n",
        "head(dataframe)"
      ],
      "execution_count": 126,
      "outputs": [
        {
          "output_type": "stream",
          "text": [
            "  state state_code State.Name      cnamelong county_code diff_in_perc_at_home\n",
            "0     1         AL    Alabama Autauga County        1001          0.050678282\n",
            "1     1         AL    Alabama Baldwin County        1003          0.050311979\n",
            "2     1         AL    Alabama Barbour County        1005          0.007036924\n",
            "3     1         AL    Alabama    Bibb County        1007          0.011808926\n",
            "4     1         AL    Alabama  Blount County        1009          0.038890321\n",
            "5     1         AL    Alabama Bullock County        1011         -0.009576347\n",
            "  SIP. Median.Household.Income X..Rural Population_y political_diff\n",
            "0    1                   59338     42.0        55601    -0.49478934\n",
            "1    1                   57588     42.3       218022    -0.57786162\n",
            "2    1                   34382     67.8        24881    -0.05611165\n",
            "3    1                   46064     68.4        22400    -0.55544124\n",
            "4    1                   50412     90.0        57840    -0.81381973\n",
            "5    1                   29267     51.4        10138     0.50861519\n",
            "  X..less.than.18.years.of.age X..65.and.over X..Asian X..Black X..Hispanic\n",
            "0                         23.7           15.6      1.2     19.3         3.0\n",
            "1                         21.6           20.4      1.2      8.8         4.6\n",
            "2                         20.9           19.4      0.5     48.0         4.3\n",
            "3                         20.5           16.5      0.2     21.1         2.6\n",
            "4                         23.2           18.2      0.3      1.5         9.6\n",
            "5                         21.1           16.4      0.2     69.5         8.0\n",
            "  X..Non.Hispanic.White   weights factor_SIP weight_ATE\n",
            "0                  74.3 0.8401659          1   1.190241\n",
            "1                  83.1 0.9600924          1   1.041566\n",
            "2                  45.6 0.9719255          1   1.028885\n",
            "3                  74.6 0.8598237          1   1.163029\n",
            "4                  86.9 0.8402704          1   1.190093\n",
            "5                  21.2 0.9917412          1   1.008328\n"
          ],
          "name": "stdout"
        }
      ]
    },
    {
      "cell_type": "code",
      "metadata": {
        "id": "PZuO97WIPXmw",
        "outputId": "86d14f35-6549-44dc-d33f-4fe615f7624b",
        "colab": {
          "base_uri": "https://localhost:8080/"
        }
      },
      "source": [
        "%%R\n",
        "with(dataframe, by(weight_ATE, SIP., summary))"
      ],
      "execution_count": 127,
      "outputs": [
        {
          "output_type": "stream",
          "text": [
            "SIP.: 0\n",
            "    Min.  1st Qu.   Median     Mean  3rd Qu.     Max. \n",
            "   1.156    3.293    4.314   18.141    5.821 2181.759 \n",
            "------------------------------------------------------------ \n",
            "SIP.: 1\n",
            "   Min. 1st Qu.  Median    Mean 3rd Qu.    Max. \n",
            "  1.000   1.052   1.153   1.193   1.241  22.744 \n"
          ],
          "name": "stdout"
        }
      ]
    },
    {
      "cell_type": "markdown",
      "metadata": {
        "id": "oNxepvMiP0Sd"
      },
      "source": [
        "We can see we have extremem high weights on the distribution of data points with `SIP. == 0` \n",
        "\n",
        "Propensity score weighting may result in extreme weights, which inflate the standard errors of the treatment\n",
        "estimates (Robins et al., 2000) and may also increase bias (Harder et al., 2010).  Extreme weights may be due\n",
        "to model misspecification and/or lack of common support of propensity score distributions. \n",
        "\n",
        "Extreme weights don't happen for ATT estimations usually\n",
        "**Although there is no consensus in the research community on how large the weights count as \"extreme\", I consider a maximum of 2181 pretty abnormal weight.** (generally a weight that is greater than a 100 is considered large)"
      ]
    },
    {
      "cell_type": "markdown",
      "metadata": {
        "id": "A4cwqMH4hs1H"
      },
      "source": [
        "# 4. deal with extreme weights"
      ]
    },
    {
      "cell_type": "markdown",
      "metadata": {
        "id": "D9XVSWFehw39"
      },
      "source": [
        "There are a couple of ways to deal with extreme weights. One is to truncate the weights that are greater than 99th percentile.  Gurel\n",
        "and Leite (2012) found that truncating weights at the 99th percentile decreased bias removal compared with\n",
        "using untruncated weights and that the decrease in bias removal increased as the ratio of treated to untreated\n",
        "became smaller"
      ]
    },
    {
      "cell_type": "code",
      "metadata": {
        "id": "UHa1pOLbjtaD"
      },
      "source": [
        "%%R\n",
        "dataframe$weight_ATE_truncated <- with(dataframe, \n",
        "                                       ifelse(weight_ATE > quantile(weight_ATE, 0.99),\n",
        "                                              quantile(weight_ATE, 0.99),\n",
        "                                              weight_ATE))"
      ],
      "execution_count": 133,
      "outputs": []
    },
    {
      "cell_type": "code",
      "metadata": {
        "id": "t9e3d_u5kWhi",
        "outputId": "be0cc387-af7d-47f9-a4f8-1e5743e0c187",
        "colab": {
          "base_uri": "https://localhost:8080/"
        }
      },
      "source": [
        "%%R\n",
        "with(data = dataframe, by(weight_ATE_truncated, SIP., summary))"
      ],
      "execution_count": 137,
      "outputs": [
        {
          "output_type": "stream",
          "text": [
            "SIP.: 0\n",
            "   Min. 1st Qu.  Median    Mean 3rd Qu.    Max. \n",
            "  1.156   3.293   4.314   5.434   5.821  15.622 \n",
            "------------------------------------------------------------ \n",
            "SIP.: 1\n",
            "   Min. 1st Qu.  Median    Mean 3rd Qu.    Max. \n",
            "  1.000   1.052   1.153   1.190   1.241  15.622 \n"
          ],
          "name": "stdout"
        }
      ]
    },
    {
      "cell_type": "markdown",
      "metadata": {
        "id": "moPy3SVymF0Z"
      },
      "source": [
        "Another method to deal with extreme weights is to use stabilized weights (Robins et al., 2000). I think our method above worked pretty well as it reduced the maximum weights to 15, so I wouldn't try that method here."
      ]
    },
    {
      "cell_type": "markdown",
      "metadata": {
        "id": "3c6zxn7XmPI1"
      },
      "source": [
        "# 5. check covariate balance"
      ]
    },
    {
      "cell_type": "code",
      "metadata": {
        "id": "JgwgKR1VoDeF"
      },
      "source": [
        "%%R\n",
        "covariateNames <- c('Median.Household.Income', 'X..Rural', 'political_diff',\n",
        "                    'X..Asian', 'X..Black', 'X..Non.Hispanic.White', 'X..Hispanic',\n",
        "                    'Population_y')"
      ],
      "execution_count": 142,
      "outputs": []
    },
    {
      "cell_type": "code",
      "metadata": {
        "id": "8AJUrm0KsxUr"
      },
      "source": [
        "%%R\n",
        "# sampw has to be set here or else will not get std.eff.sz which is what we want\n",
        "# since we don't have sampling weight, we set it to 1\n",
        "balanceTable <- bal.stat(dataframe, vars = covariateNames, treat.var = 'SIP.',\n",
        "                         w.all = dataframe$weight_ATE_truncated, sampw = 1,\n",
        "                         get.ks = F, estimand = 'ATE', multinom = F)"
      ],
      "execution_count": 166,
      "outputs": []
    },
    {
      "cell_type": "code",
      "metadata": {
        "id": "id73d5TRo9y_"
      },
      "source": [
        "%%R\n",
        "balance_results <- balanceTable$results "
      ],
      "execution_count": 167,
      "outputs": []
    },
    {
      "cell_type": "code",
      "metadata": {
        "id": "8OTwerU4pNDb",
        "outputId": "2471cd97-8ce2-4996-f9d1-e77d8d3be459",
        "colab": {
          "base_uri": "https://localhost:8080/"
        }
      },
      "source": [
        "%%R\n",
        "round(balance_results,3) "
      ],
      "execution_count": 168,
      "outputs": [
        {
          "output_type": "stream",
          "text": [
            "                             tx.mn      tx.sd     ct.mn     ct.sd std.eff.sz\n",
            "Median.Household.Income  53051.241  14417.540 51569.742 10744.760      0.106\n",
            "X..Rural                    56.589     30.318    59.114    31.010     -0.082\n",
            "political_diff              -0.303      0.305    -0.347     0.245      0.145\n",
            "X..Asian                     1.597      2.845     1.267     1.583      0.117\n",
            "X..Black                     9.242     14.246     8.197    13.994      0.072\n",
            "X..Non.Hispanic.White       74.905     21.529    79.179    15.612     -0.215\n",
            "X..Hispanic                  9.598     13.995     7.383     7.467      0.160\n",
            "Population_y            108364.333 338528.175 51673.108 95951.612      0.166\n",
            "                          stat     p\n",
            "Median.Household.Income  2.033 0.042\n",
            "X..Rural                -1.303 0.193\n",
            "political_diff           2.658 0.008\n",
            "X..Asian                 2.834 0.005\n",
            "X..Black                 0.970 0.332\n",
            "X..Non.Hispanic.White   -3.484 0.001\n",
            "X..Hispanic              4.192 0.000\n",
            "Population_y             5.873 0.000\n"
          ],
          "name": "stdout"
        }
      ]
    },
    {
      "cell_type": "markdown",
      "metadata": {
        "id": "3R2UcmF1sjTA"
      },
      "source": [
        "As we can see, the `std.eff.sz` are close to 0.1 - 0.15 for all variables, and below 0.25 for all variables, which is good\n",
        "\n",
        "Absolute standardized effect sizes below 0.1 standard deviations can be considered to\n",
        "indicate adequate covariate balance (Austin, 2011b), but differences below 0.25 standard deviations could be\n",
        "acceptable if additional regression adjustment is performed"
      ]
    },
    {
      "cell_type": "markdown",
      "metadata": {
        "id": "nPSMWCWCtPcG"
      },
      "source": [
        "# 6. Estimation of Treatment Effects With Propensity Score Weighting"
      ]
    },
    {
      "cell_type": "code",
      "metadata": {
        "id": "C0o-pw91tYK-",
        "outputId": "51f68fb8-c536-473e-d784-ad26bbd5de67",
        "colab": {
          "base_uri": "https://localhost:8080/"
        }
      },
      "source": [
        "%%R\n",
        "head(dataframe)"
      ],
      "execution_count": 169,
      "outputs": [
        {
          "output_type": "stream",
          "text": [
            "  state state_code State.Name      cnamelong county_code diff_in_perc_at_home\n",
            "0     1         AL    Alabama Autauga County        1001          0.050678282\n",
            "1     1         AL    Alabama Baldwin County        1003          0.050311979\n",
            "2     1         AL    Alabama Barbour County        1005          0.007036924\n",
            "3     1         AL    Alabama    Bibb County        1007          0.011808926\n",
            "4     1         AL    Alabama  Blount County        1009          0.038890321\n",
            "5     1         AL    Alabama Bullock County        1011         -0.009576347\n",
            "  SIP. Median.Household.Income X..Rural Population_y political_diff\n",
            "0    1                   59338     42.0        55601    -0.49478934\n",
            "1    1                   57588     42.3       218022    -0.57786162\n",
            "2    1                   34382     67.8        24881    -0.05611165\n",
            "3    1                   46064     68.4        22400    -0.55544124\n",
            "4    1                   50412     90.0        57840    -0.81381973\n",
            "5    1                   29267     51.4        10138     0.50861519\n",
            "  X..less.than.18.years.of.age X..65.and.over X..Asian X..Black X..Hispanic\n",
            "0                         23.7           15.6      1.2     19.3         3.0\n",
            "1                         21.6           20.4      1.2      8.8         4.6\n",
            "2                         20.9           19.4      0.5     48.0         4.3\n",
            "3                         20.5           16.5      0.2     21.1         2.6\n",
            "4                         23.2           18.2      0.3      1.5         9.6\n",
            "5                         21.1           16.4      0.2     69.5         8.0\n",
            "  X..Non.Hispanic.White   weights factor_SIP weight_ATE weight_ATE_truncated\n",
            "0                  74.3 0.8401659          1   1.190241             1.190241\n",
            "1                  83.1 0.9600924          1   1.041566             1.041566\n",
            "2                  45.6 0.9719255          1   1.028885             1.028885\n",
            "3                  74.6 0.8598237          1   1.163029             1.163029\n",
            "4                  86.9 0.8402704          1   1.190093             1.190093\n",
            "5                  21.2 0.9917412          1   1.008328             1.008328\n"
          ],
          "name": "stdout"
        }
      ]
    },
    {
      "cell_type": "code",
      "metadata": {
        "id": "ImdQ59gkvgej"
      },
      "source": [
        "propensity_weighted_data = %R dataframe"
      ],
      "execution_count": 170,
      "outputs": []
    },
    {
      "cell_type": "code",
      "metadata": {
        "id": "Es1jb329wF7U",
        "outputId": "5ead3837-e968-4f10-890c-d3ae37c1507c",
        "colab": {
          "base_uri": "https://localhost:8080/",
          "height": 309
        }
      },
      "source": [
        "propensity_weighted_data.head()"
      ],
      "execution_count": 172,
      "outputs": [
        {
          "output_type": "execute_result",
          "data": {
            "text/html": [
              "<div>\n",
              "<style scoped>\n",
              "    .dataframe tbody tr th:only-of-type {\n",
              "        vertical-align: middle;\n",
              "    }\n",
              "\n",
              "    .dataframe tbody tr th {\n",
              "        vertical-align: top;\n",
              "    }\n",
              "\n",
              "    .dataframe thead th {\n",
              "        text-align: right;\n",
              "    }\n",
              "</style>\n",
              "<table border=\"1\" class=\"dataframe\">\n",
              "  <thead>\n",
              "    <tr style=\"text-align: right;\">\n",
              "      <th></th>\n",
              "      <th>state</th>\n",
              "      <th>state_code</th>\n",
              "      <th>State.Name</th>\n",
              "      <th>cnamelong</th>\n",
              "      <th>county_code</th>\n",
              "      <th>diff_in_perc_at_home</th>\n",
              "      <th>SIP.</th>\n",
              "      <th>Median.Household.Income</th>\n",
              "      <th>X..Rural</th>\n",
              "      <th>Population_y</th>\n",
              "      <th>political_diff</th>\n",
              "      <th>X..less.than.18.years.of.age</th>\n",
              "      <th>X..65.and.over</th>\n",
              "      <th>X..Asian</th>\n",
              "      <th>X..Black</th>\n",
              "      <th>X..Hispanic</th>\n",
              "      <th>X..Non.Hispanic.White</th>\n",
              "      <th>weights</th>\n",
              "      <th>factor_SIP</th>\n",
              "      <th>weight_ATE</th>\n",
              "      <th>weight_ATE_truncated</th>\n",
              "    </tr>\n",
              "  </thead>\n",
              "  <tbody>\n",
              "    <tr>\n",
              "      <th>0</th>\n",
              "      <td>1.0</td>\n",
              "      <td>AL</td>\n",
              "      <td>Alabama</td>\n",
              "      <td>Autauga County</td>\n",
              "      <td>1001.0</td>\n",
              "      <td>0.050678</td>\n",
              "      <td>1</td>\n",
              "      <td>59338.0</td>\n",
              "      <td>42.0</td>\n",
              "      <td>55601</td>\n",
              "      <td>-0.494789</td>\n",
              "      <td>23.7</td>\n",
              "      <td>15.6</td>\n",
              "      <td>1.2</td>\n",
              "      <td>19.3</td>\n",
              "      <td>3.0</td>\n",
              "      <td>74.3</td>\n",
              "      <td>0.840166</td>\n",
              "      <td>1</td>\n",
              "      <td>1.190241</td>\n",
              "      <td>1.190241</td>\n",
              "    </tr>\n",
              "    <tr>\n",
              "      <th>1</th>\n",
              "      <td>1.0</td>\n",
              "      <td>AL</td>\n",
              "      <td>Alabama</td>\n",
              "      <td>Baldwin County</td>\n",
              "      <td>1003.0</td>\n",
              "      <td>0.050312</td>\n",
              "      <td>1</td>\n",
              "      <td>57588.0</td>\n",
              "      <td>42.3</td>\n",
              "      <td>218022</td>\n",
              "      <td>-0.577862</td>\n",
              "      <td>21.6</td>\n",
              "      <td>20.4</td>\n",
              "      <td>1.2</td>\n",
              "      <td>8.8</td>\n",
              "      <td>4.6</td>\n",
              "      <td>83.1</td>\n",
              "      <td>0.960092</td>\n",
              "      <td>1</td>\n",
              "      <td>1.041566</td>\n",
              "      <td>1.041566</td>\n",
              "    </tr>\n",
              "    <tr>\n",
              "      <th>2</th>\n",
              "      <td>1.0</td>\n",
              "      <td>AL</td>\n",
              "      <td>Alabama</td>\n",
              "      <td>Barbour County</td>\n",
              "      <td>1005.0</td>\n",
              "      <td>0.007037</td>\n",
              "      <td>1</td>\n",
              "      <td>34382.0</td>\n",
              "      <td>67.8</td>\n",
              "      <td>24881</td>\n",
              "      <td>-0.056112</td>\n",
              "      <td>20.9</td>\n",
              "      <td>19.4</td>\n",
              "      <td>0.5</td>\n",
              "      <td>48.0</td>\n",
              "      <td>4.3</td>\n",
              "      <td>45.6</td>\n",
              "      <td>0.971925</td>\n",
              "      <td>1</td>\n",
              "      <td>1.028885</td>\n",
              "      <td>1.028885</td>\n",
              "    </tr>\n",
              "    <tr>\n",
              "      <th>3</th>\n",
              "      <td>1.0</td>\n",
              "      <td>AL</td>\n",
              "      <td>Alabama</td>\n",
              "      <td>Bibb County</td>\n",
              "      <td>1007.0</td>\n",
              "      <td>0.011809</td>\n",
              "      <td>1</td>\n",
              "      <td>46064.0</td>\n",
              "      <td>68.4</td>\n",
              "      <td>22400</td>\n",
              "      <td>-0.555441</td>\n",
              "      <td>20.5</td>\n",
              "      <td>16.5</td>\n",
              "      <td>0.2</td>\n",
              "      <td>21.1</td>\n",
              "      <td>2.6</td>\n",
              "      <td>74.6</td>\n",
              "      <td>0.859824</td>\n",
              "      <td>1</td>\n",
              "      <td>1.163029</td>\n",
              "      <td>1.163029</td>\n",
              "    </tr>\n",
              "    <tr>\n",
              "      <th>4</th>\n",
              "      <td>1.0</td>\n",
              "      <td>AL</td>\n",
              "      <td>Alabama</td>\n",
              "      <td>Blount County</td>\n",
              "      <td>1009.0</td>\n",
              "      <td>0.038890</td>\n",
              "      <td>1</td>\n",
              "      <td>50412.0</td>\n",
              "      <td>90.0</td>\n",
              "      <td>57840</td>\n",
              "      <td>-0.813820</td>\n",
              "      <td>23.2</td>\n",
              "      <td>18.2</td>\n",
              "      <td>0.3</td>\n",
              "      <td>1.5</td>\n",
              "      <td>9.6</td>\n",
              "      <td>86.9</td>\n",
              "      <td>0.840270</td>\n",
              "      <td>1</td>\n",
              "      <td>1.190093</td>\n",
              "      <td>1.190093</td>\n",
              "    </tr>\n",
              "  </tbody>\n",
              "</table>\n",
              "</div>"
            ],
            "text/plain": [
              "   state state_code State.Name  ... factor_SIP  weight_ATE  weight_ATE_truncated\n",
              "0    1.0         AL    Alabama  ...          1    1.190241              1.190241\n",
              "1    1.0         AL    Alabama  ...          1    1.041566              1.041566\n",
              "2    1.0         AL    Alabama  ...          1    1.028885              1.028885\n",
              "3    1.0         AL    Alabama  ...          1    1.163029              1.163029\n",
              "4    1.0         AL    Alabama  ...          1    1.190093              1.190093\n",
              "\n",
              "[5 rows x 21 columns]"
            ]
          },
          "metadata": {
            "tags": []
          },
          "execution_count": 172
        }
      ]
    },
    {
      "cell_type": "code",
      "metadata": {
        "id": "XSC3AP9-wGll"
      },
      "source": [
        "no_SIP_diff = np.average(propensity_weighted_data[propensity_weighted_data['SIP.'] == 0]['diff_in_perc_at_home'], \n",
        "                         weights = propensity_weighted_data[propensity_weighted_data['SIP.'] == 0]['weight_ATE_truncated'])"
      ],
      "execution_count": 173,
      "outputs": []
    },
    {
      "cell_type": "code",
      "metadata": {
        "id": "DH6eA6kvwTTK"
      },
      "source": [
        "SIP_diff = np.average(propensity_weighted_data[propensity_weighted_data['SIP.'] == 1]['diff_in_perc_at_home'], \n",
        "                      weights = propensity_weighted_data[propensity_weighted_data['SIP.'] == 1]['weight_ATE_truncated'])"
      ],
      "execution_count": 175,
      "outputs": []
    },
    {
      "cell_type": "code",
      "metadata": {
        "id": "jlLPgFsBwdMa",
        "outputId": "420cbb92-2c44-4ccd-e733-c6f80d02c679",
        "colab": {
          "base_uri": "https://localhost:8080/"
        }
      },
      "source": [
        "SIP_diff"
      ],
      "execution_count": 176,
      "outputs": [
        {
          "output_type": "execute_result",
          "data": {
            "text/plain": [
              "0.030901498723652315"
            ]
          },
          "metadata": {
            "tags": []
          },
          "execution_count": 176
        }
      ]
    },
    {
      "cell_type": "code",
      "metadata": {
        "id": "TCaOP15Uwqp0",
        "outputId": "4b596763-6237-4dfd-ffe3-8d926f57093d",
        "colab": {
          "base_uri": "https://localhost:8080/"
        }
      },
      "source": [
        "no_SIP_diff"
      ],
      "execution_count": 177,
      "outputs": [
        {
          "output_type": "execute_result",
          "data": {
            "text/plain": [
              "0.01903280120766545"
            ]
          },
          "metadata": {
            "tags": []
          },
          "execution_count": 177
        }
      ]
    },
    {
      "cell_type": "code",
      "metadata": {
        "id": "c7t7ma-LwrrT",
        "outputId": "68b55e81-2432-43b8-8c9c-cf5d160d6f89",
        "colab": {
          "base_uri": "https://localhost:8080/"
        }
      },
      "source": [
        "SIP_diff - no_SIP_diff"
      ],
      "execution_count": 178,
      "outputs": [
        {
          "output_type": "execute_result",
          "data": {
            "text/plain": [
              "0.011868697515986865"
            ]
          },
          "metadata": {
            "tags": []
          },
          "execution_count": 178
        }
      ]
    },
    {
      "cell_type": "markdown",
      "metadata": {
        "id": "_zoI5T9Xwxr0"
      },
      "source": [
        "We get a difference of staying at home percentages of `1.2%`. which is what we got before using normal propensity score matching too."
      ]
    },
    {
      "cell_type": "markdown",
      "metadata": {
        "id": "ZUYAvZsJxPxf"
      },
      "source": [
        "We can also use survey package to do estimation of treatment effect, which seems to be what the research community uses"
      ]
    },
    {
      "cell_type": "code",
      "metadata": {
        "id": "h8ZD-r9_wty3",
        "outputId": "55a48066-d47e-4cb3-c992-2850413063ac",
        "colab": {
          "base_uri": "https://localhost:8080/"
        }
      },
      "source": [
        "%%R\n",
        "install.packages('survey')\n",
        "library('survey')"
      ],
      "execution_count": 179,
      "outputs": [
        {
          "output_type": "stream",
          "text": [
            "R[write to console]: Installing package into ‘/usr/local/lib/R/site-library’\n",
            "(as ‘lib’ is unspecified)\n",
            "\n",
            "R[write to console]: trying URL 'https://cran.rstudio.com/src/contrib/survey_4.0.tar.gz'\n",
            "\n",
            "R[write to console]: Content type 'application/x-gzip'\n",
            "R[write to console]:  length 1558121 bytes (1.5 MB)\n",
            "\n",
            "R[write to console]: =\n",
            "R[write to console]: =\n",
            "R[write to console]: =\n",
            "R[write to console]: =\n",
            "R[write to console]: =\n",
            "R[write to console]: =\n",
            "R[write to console]: =\n",
            "R[write to console]: =\n",
            "R[write to console]: =\n",
            "R[write to console]: =\n",
            "R[write to console]: =\n",
            "R[write to console]: =\n",
            "R[write to console]: =\n",
            "R[write to console]: =\n",
            "R[write to console]: =\n",
            "R[write to console]: =\n",
            "R[write to console]: =\n",
            "R[write to console]: =\n",
            "R[write to console]: =\n",
            "R[write to console]: =\n",
            "R[write to console]: =\n",
            "R[write to console]: =\n",
            "R[write to console]: =\n",
            "R[write to console]: =\n",
            "R[write to console]: =\n",
            "R[write to console]: =\n",
            "R[write to console]: =\n",
            "R[write to console]: =\n",
            "R[write to console]: =\n",
            "R[write to console]: =\n",
            "R[write to console]: =\n",
            "R[write to console]: =\n",
            "R[write to console]: =\n",
            "R[write to console]: =\n",
            "R[write to console]: =\n",
            "R[write to console]: =\n",
            "R[write to console]: =\n",
            "R[write to console]: =\n",
            "R[write to console]: =\n",
            "R[write to console]: =\n",
            "R[write to console]: =\n",
            "R[write to console]: =\n",
            "R[write to console]: =\n",
            "R[write to console]: =\n",
            "R[write to console]: =\n",
            "R[write to console]: =\n",
            "R[write to console]: =\n",
            "R[write to console]: =\n",
            "R[write to console]: =\n",
            "R[write to console]: =\n",
            "R[write to console]: \n",
            "\n",
            "R[write to console]: downloaded 1.5 MB\n",
            "\n",
            "\n",
            "R[write to console]: \n",
            "\n",
            "R[write to console]: \n",
            "R[write to console]: The downloaded source packages are in\n",
            "\t‘/tmp/RtmpF6oIQ0/downloaded_packages’\n",
            "R[write to console]: \n",
            "R[write to console]: \n",
            "\n"
          ],
          "name": "stderr"
        }
      ]
    },
    {
      "cell_type": "code",
      "metadata": {
        "id": "DNm48L0JxzMP"
      },
      "source": [
        "%%R\n",
        "surveyDesignCovid <- svydesign(ids=~0, weights = ~weight_ATE_truncated,\n",
        "                               data = dataframe) "
      ],
      "execution_count": 182,
      "outputs": []
    },
    {
      "cell_type": "code",
      "metadata": {
        "id": "dR8TyY5oyr0N"
      },
      "source": [
        "%%R\n",
        "# to obtain standard errors for propensity weighted results,\n",
        "# we need to bootstrap.\n",
        "surveyDesignBoot <- as.svrepdesign(surveyDesignCovid, type=c('bootstrap'), replicates=1000)"
      ],
      "execution_count": 189,
      "outputs": []
    },
    {
      "cell_type": "code",
      "metadata": {
        "id": "706JaTU1zHO0"
      },
      "source": [
        "%%R\n",
        "weightedMeans <- svyby(formula = ~diff_in_perc_at_home, by = ~SIP., design = surveyDesignBoot,\n",
        "                       FUN = svymean, covmat = TRUE)"
      ],
      "execution_count": 191,
      "outputs": []
    },
    {
      "cell_type": "code",
      "metadata": {
        "id": "ILMRJBJp0jlO",
        "outputId": "a0d2403f-63a3-4f39-a978-a6ea75428f49",
        "colab": {
          "base_uri": "https://localhost:8080/"
        }
      },
      "source": [
        "%%R\n",
        "weightedMeans"
      ],
      "execution_count": 192,
      "outputs": [
        {
          "output_type": "stream",
          "text": [
            "  SIP. diff_in_perc_at_home           se\n",
            "0    0            0.0190328 0.0016932478\n",
            "1    1            0.0309015 0.0009284685\n"
          ],
          "name": "stdout"
        }
      ]
    },
    {
      "cell_type": "code",
      "metadata": {
        "id": "WsUERgDV0oPi"
      },
      "source": [
        "%%R\n",
        "weightedVars <- svyby(formula = ~diff_in_perc_at_home, by=~SIP., design = surveyDesignBoot,\n",
        "                      FUN=svyvar,covmat=TRUE)"
      ],
      "execution_count": 193,
      "outputs": []
    },
    {
      "cell_type": "code",
      "metadata": {
        "id": "1DTBw6ru1EUx",
        "outputId": "f047f93e-9808-45cd-b7a3-da02a834d284",
        "colab": {
          "base_uri": "https://localhost:8080/"
        }
      },
      "source": [
        "%%R\n",
        "weightedVars"
      ],
      "execution_count": 194,
      "outputs": [
        {
          "output_type": "stream",
          "text": [
            "  SIP.           V1           se\n",
            "0    0 0.0008781157 9.726315e-05\n",
            "1    1 0.0018468359 7.276012e-05\n"
          ],
          "name": "stdout"
        }
      ]
    },
    {
      "cell_type": "markdown",
      "metadata": {
        "id": "DAPpTGni2g_C"
      },
      "source": [
        "don't know why variance of the weighted variance is so small??"
      ]
    },
    {
      "cell_type": "code",
      "metadata": {
        "id": "OkcZvQ0t1HGg"
      },
      "source": [
        "%%R\n",
        "ATE_covid <- svycontrast(weightedMeans, contrasts = c(-1,1))"
      ],
      "execution_count": 196,
      "outputs": []
    },
    {
      "cell_type": "code",
      "metadata": {
        "id": "CmgDPJ_21pyH",
        "outputId": "9f958370-6cc3-439b-94de-2227bae2f110",
        "colab": {
          "base_uri": "https://localhost:8080/"
        }
      },
      "source": [
        "%%R\n",
        "print(ATE_covid)"
      ],
      "execution_count": 197,
      "outputs": [
        {
          "output_type": "stream",
          "text": [
            "         contrast     SE\n",
            "contrast 0.011869 0.0019\n"
          ],
          "name": "stdout"
        }
      ]
    },
    {
      "cell_type": "markdown",
      "metadata": {
        "id": "ZqKiOFSR2n8C"
      },
      "source": [
        "this number 0.0118 is basically what we had before as the effect size, not so surprised"
      ]
    },
    {
      "cell_type": "markdown",
      "metadata": {
        "id": "g-ABGevV3JDG"
      },
      "source": [
        "Calculating a standardized effect size is helpful for understanding the\n",
        "magnitude of the effect independently of the scale of measurement of earnings. Among several measures\n",
        "of effect size available, the Glass delta will be used here. The Glass delta is (ȳ1 – ȳ0)/sd0 where\n",
        "ȳ1 is the weighted mean of effect of treated, ȳ0 is the weighted mean effect of non treated, and sd0 is the standard deviation of non treated effect."
      ]
    },
    {
      "cell_type": "markdown",
      "metadata": {
        "id": "a8sGHWae4kMG"
      },
      "source": [
        "In our example, (ȳ1 – ȳ0) = 0.011869, sd0 = 0.0008781157 "
      ]
    },
    {
      "cell_type": "code",
      "metadata": {
        "id": "B0QbGaL93HxU",
        "outputId": "a5aec81f-0c42-49a6-961f-bdd016398b73",
        "colab": {
          "base_uri": "https://localhost:8080/"
        }
      },
      "source": [
        "%%R\n",
        "print(0.011869 / sqrt(0.000878))"
      ],
      "execution_count": 204,
      "outputs": [
        {
          "output_type": "stream",
          "text": [
            "[1] 0.4005593\n"
          ],
          "name": "stdout"
        }
      ]
    },
    {
      "cell_type": "markdown",
      "metadata": {
        "id": "L5DF7lhT4Auc"
      },
      "source": [
        "Therefore we can say that by having shelter in place, counties increased the completely stay at home percentage of people by `0.4` standard deviations."
      ]
    },
    {
      "cell_type": "markdown",
      "metadata": {
        "id": "-cujPONP4yKE"
      },
      "source": [
        "# conclusion"
      ]
    },
    {
      "cell_type": "markdown",
      "metadata": {
        "id": "6hDL2j7F5BXd"
      },
      "source": [
        "We've covered a lot in this notebook! particularly we\n",
        "\n",
        "\n",
        "1.   not only obtained the effect size of shelter in place but obtained a \"confidence interval\" of that effect by bootstrapping.\n",
        "2.   used glass delta to measure the effect size by standard deviation, not by absolute percentage amount\n",
        "3.   dealt with extreme weights by truncating the extreme ones\n",
        "4.   learned how to use box-whisker plot in R.\n",
        "\n"
      ]
    },
    {
      "cell_type": "markdown",
      "metadata": {
        "id": "ADjYVfuC5pXU"
      },
      "source": [
        "Future analysis:\n",
        "\n",
        "\n",
        "*   use  weighted least squares (WLS) estimation of the regression\n",
        "model to estimate treatment effect (another method?)\n",
        "*   use gradient boosting machine / random forest to do propensity score estimation - maybe they will perform better\n",
        "\n"
      ]
    }
  ]
}