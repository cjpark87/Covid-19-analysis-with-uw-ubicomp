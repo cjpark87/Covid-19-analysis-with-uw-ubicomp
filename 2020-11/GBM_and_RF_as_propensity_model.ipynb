{
  "nbformat": 4,
  "nbformat_minor": 0,
  "metadata": {
    "colab": {
      "name": "GBM_and_RF_as_propensity_model.ipynb",
      "provenance": [],
      "collapsed_sections": [
        "4yhDsfny-vPv"
      ],
      "mount_file_id": "1xD-jdbMsLeHdwgmVxM90TFsJdE3X2u7u",
      "authorship_tag": "ABX9TyNxs/3TtOJm1LgDH0rXYrPy",
      "include_colab_link": true
    },
    "kernelspec": {
      "name": "python3",
      "display_name": "Python 3"
    }
  },
  "cells": [
    {
      "cell_type": "markdown",
      "metadata": {
        "id": "view-in-github",
        "colab_type": "text"
      },
      "source": [
        "<a href=\"https://colab.research.google.com/github/wenjunsun/Covid-19-analysis-with-uw-ubicomp/blob/master/2020-11/GBM_and_RF_as_propensity_model.ipynb\" target=\"_parent\"><img src=\"https://colab.research.google.com/assets/colab-badge.svg\" alt=\"Open In Colab\"/></a>"
      ]
    },
    {
      "cell_type": "markdown",
      "metadata": {
        "id": "2ogFM2e84z_S"
      },
      "source": [
        "In this notebook, instead of using vanilla logistic regression to predict propensity score, we will use some data mining methods such as gradient boosting machine and random forest. And we will evaluate whether these methods generate better results than logistic regression."
      ]
    },
    {
      "cell_type": "markdown",
      "metadata": {
        "id": "4yhDsfny-vPv"
      },
      "source": [
        "# 0. load data/packages"
      ]
    },
    {
      "cell_type": "code",
      "metadata": {
        "id": "_jZr7FLc9sd1",
        "outputId": "dbc65229-81df-45df-9bb8-4abde95a7c1c",
        "colab": {
          "base_uri": "https://localhost:8080/"
        }
      },
      "source": [
        "cd drive/My\\ Drive/fall"
      ],
      "execution_count": 1,
      "outputs": [
        {
          "output_type": "stream",
          "text": [
            "/content/drive/My Drive/fall\n"
          ],
          "name": "stdout"
        }
      ]
    },
    {
      "cell_type": "code",
      "metadata": {
        "id": "2fX4CIdX9-Px",
        "outputId": "de156ca7-a660-46d4-c69c-c468217a766e",
        "colab": {
          "base_uri": "https://localhost:8080/"
        }
      },
      "source": [
        "ls"
      ],
      "execution_count": 2,
      "outputs": [
        {
          "output_type": "stream",
          "text": [
            "counties_with_diff_and_all_covariates.csv\n",
            "counties_with_diff.csv\n",
            "county_data_with_covariates.csv\n",
            "county_data_with_reduced_covariates_more_variables.csv\n",
            "county_data_with_reduced_covariates_with_SIP.csv\n",
            "county_data_with_reduced_covariates_with_SIP_up_to_5.csv\n",
            "county_data_with_reduced_covariates_with_SIP_up_to_8.csv\n",
            "LR_with_propensity_compare_SIP_and_no_SIP.ipynb\n",
            "LR_with_propensity_score_buckets.ipynb\n",
            "propensity_weighted_method.ipynb\n",
            "PSM_new.ipynb\n",
            "standardized_linear_regression.ipynb\n"
          ],
          "name": "stdout"
        }
      ]
    },
    {
      "cell_type": "code",
      "metadata": {
        "id": "jZlTcYr-9-ik"
      },
      "source": [
        "import pandas as pd\n",
        "import numpy as np"
      ],
      "execution_count": 3,
      "outputs": []
    },
    {
      "cell_type": "code",
      "metadata": {
        "id": "HhG9Pzjv-XnL",
        "outputId": "dcf324bd-d475-4aa2-ab06-03e5053bf9b5",
        "colab": {
          "base_uri": "https://localhost:8080/"
        }
      },
      "source": [
        "%load_ext rpy2.ipython\n",
        "# For (automatic) translation of Pandas objects to R\n",
        "from rpy2.robjects import pandas2ri\n",
        "pandas2ri.activate()"
      ],
      "execution_count": 4,
      "outputs": [
        {
          "output_type": "stream",
          "text": [
            "/usr/local/lib/python3.6/dist-packages/rpy2/robjects/pandas2ri.py:14: FutureWarning: pandas.core.index is deprecated and will be removed in a future version.  The public classes are available in the top-level namespace.\n",
            "  from pandas.core.index import Index as PandasIndex\n",
            "/usr/local/lib/python3.6/dist-packages/rpy2/robjects/pandas2ri.py:34: UserWarning: pandas >= 1.0 is not supported.\n",
            "  warnings.warn('pandas >= 1.0 is not supported.')\n"
          ],
          "name": "stderr"
        }
      ]
    },
    {
      "cell_type": "code",
      "metadata": {
        "id": "6OZbxe5sZMNG",
        "outputId": "27290556-ac94-46e9-be61-7e0f97ce9591",
        "colab": {
          "base_uri": "https://localhost:8080/"
        }
      },
      "source": [
        "# for box and whisker plot\n",
        "%%R\n",
        "install.packages('lattice')\n",
        "library(lattice)"
      ],
      "execution_count": 6,
      "outputs": [
        {
          "output_type": "stream",
          "text": [
            "R[write to console]: Installing package into ‘/usr/local/lib/R/site-library’\n",
            "(as ‘lib’ is unspecified)\n",
            "\n",
            "R[write to console]: trying URL 'https://cran.rstudio.com/src/contrib/lattice_0.20-41.tar.gz'\n",
            "\n",
            "R[write to console]: Content type 'application/x-gzip'\n",
            "R[write to console]:  length 389631 bytes (380 KB)\n",
            "\n",
            "R[write to console]: =\n",
            "R[write to console]: =\n",
            "R[write to console]: =\n",
            "R[write to console]: =\n",
            "R[write to console]: =\n",
            "R[write to console]: =\n",
            "R[write to console]: =\n",
            "R[write to console]: =\n",
            "R[write to console]: =\n",
            "R[write to console]: =\n",
            "R[write to console]: =\n",
            "R[write to console]: =\n",
            "R[write to console]: =\n",
            "R[write to console]: =\n",
            "R[write to console]: =\n",
            "R[write to console]: =\n",
            "R[write to console]: =\n",
            "R[write to console]: =\n",
            "R[write to console]: =\n",
            "R[write to console]: =\n",
            "R[write to console]: =\n",
            "R[write to console]: =\n",
            "R[write to console]: =\n",
            "R[write to console]: =\n",
            "R[write to console]: =\n",
            "R[write to console]: =\n",
            "R[write to console]: =\n",
            "R[write to console]: =\n",
            "R[write to console]: =\n",
            "R[write to console]: =\n",
            "R[write to console]: =\n",
            "R[write to console]: =\n",
            "R[write to console]: =\n",
            "R[write to console]: =\n",
            "R[write to console]: =\n",
            "R[write to console]: =\n",
            "R[write to console]: =\n",
            "R[write to console]: =\n",
            "R[write to console]: =\n",
            "R[write to console]: =\n",
            "R[write to console]: =\n",
            "R[write to console]: =\n",
            "R[write to console]: =\n",
            "R[write to console]: =\n",
            "R[write to console]: =\n",
            "R[write to console]: =\n",
            "R[write to console]: =\n",
            "R[write to console]: =\n",
            "R[write to console]: =\n",
            "R[write to console]: =\n",
            "R[write to console]: \n",
            "\n",
            "R[write to console]: downloaded 380 KB\n",
            "\n",
            "\n",
            "R[write to console]: \n",
            "\n",
            "R[write to console]: \n",
            "R[write to console]: The downloaded source packages are in\n",
            "\t‘/tmp/RtmpsxbWzt/downloaded_packages’\n",
            "R[write to console]: \n",
            "R[write to console]: \n",
            "\n"
          ],
          "name": "stderr"
        }
      ]
    },
    {
      "cell_type": "code",
      "metadata": {
        "id": "HTS8KALYRZei",
        "outputId": "abba9937-685c-4f38-aa3e-50d9b9f84cfb",
        "colab": {
          "base_uri": "https://localhost:8080/"
        }
      },
      "source": [
        "# install package for gradient boosting machine to estimate propensity score\n",
        "%%R\n",
        "install.packages('twang')\n",
        "library(twang)"
      ],
      "execution_count": 7,
      "outputs": [
        {
          "output_type": "stream",
          "text": [
            "R[write to console]: Installing package into ‘/usr/local/lib/R/site-library’\n",
            "(as ‘lib’ is unspecified)\n",
            "\n",
            "R[write to console]: trying URL 'https://cran.rstudio.com/src/contrib/twang_1.6.tar.gz'\n",
            "\n",
            "R[write to console]: Content type 'application/x-gzip'\n",
            "R[write to console]:  length 1256084 bytes (1.2 MB)\n",
            "\n",
            "R[write to console]: =\n",
            "R[write to console]: =\n",
            "R[write to console]: =\n",
            "R[write to console]: =\n",
            "R[write to console]: =\n",
            "R[write to console]: =\n",
            "R[write to console]: =\n",
            "R[write to console]: =\n",
            "R[write to console]: =\n",
            "R[write to console]: =\n",
            "R[write to console]: =\n",
            "R[write to console]: =\n",
            "R[write to console]: =\n",
            "R[write to console]: =\n",
            "R[write to console]: =\n",
            "R[write to console]: =\n",
            "R[write to console]: =\n",
            "R[write to console]: =\n",
            "R[write to console]: =\n",
            "R[write to console]: =\n",
            "R[write to console]: =\n",
            "R[write to console]: =\n",
            "R[write to console]: =\n",
            "R[write to console]: =\n",
            "R[write to console]: =\n",
            "R[write to console]: =\n",
            "R[write to console]: =\n",
            "R[write to console]: =\n",
            "R[write to console]: =\n",
            "R[write to console]: =\n",
            "R[write to console]: =\n",
            "R[write to console]: =\n",
            "R[write to console]: =\n",
            "R[write to console]: =\n",
            "R[write to console]: =\n",
            "R[write to console]: =\n",
            "R[write to console]: =\n",
            "R[write to console]: =\n",
            "R[write to console]: =\n",
            "R[write to console]: =\n",
            "R[write to console]: =\n",
            "R[write to console]: =\n",
            "R[write to console]: =\n",
            "R[write to console]: =\n",
            "R[write to console]: =\n",
            "R[write to console]: =\n",
            "R[write to console]: =\n",
            "R[write to console]: =\n",
            "R[write to console]: =\n",
            "R[write to console]: =\n",
            "R[write to console]: \n",
            "\n",
            "R[write to console]: downloaded 1.2 MB\n",
            "\n",
            "\n",
            "R[write to console]: \n",
            "\n",
            "R[write to console]: \n",
            "R[write to console]: The downloaded source packages are in\n",
            "\t‘/tmp/RtmpsxbWzt/downloaded_packages’\n",
            "R[write to console]: \n",
            "R[write to console]: \n",
            "\n",
            "R[write to console]: Loading required package: gbm\n",
            "\n",
            "R[write to console]: Loaded gbm 2.1.8\n",
            "\n",
            "R[write to console]: Loading required package: survey\n",
            "\n",
            "R[write to console]: Loading required package: grid\n",
            "\n",
            "R[write to console]: Loading required package: Matrix\n",
            "\n",
            "R[write to console]: \n",
            "Attaching package: ‘survey’\n",
            "\n",
            "\n",
            "R[write to console]: The following object is masked from ‘package:graphics’:\n",
            "\n",
            "    dotchart\n",
            "\n",
            "\n",
            "R[write to console]: Loading required package: xtable\n",
            "\n",
            "R[write to console]: Loading required package: latticeExtra\n",
            "\n"
          ],
          "name": "stderr"
        }
      ]
    },
    {
      "cell_type": "code",
      "metadata": {
        "id": "b5HGW7UL3K-J",
        "outputId": "4930d0a8-b7d4-4c82-b4c1-f56cc2c9fd66",
        "colab": {
          "base_uri": "https://localhost:8080/"
        }
      },
      "source": [
        "# package in R for random forest\n",
        "%%R\n",
        "install.packages('party')"
      ],
      "execution_count": 13,
      "outputs": [
        {
          "output_type": "stream",
          "text": [
            "R[write to console]: Installing package into ‘/usr/local/lib/R/site-library’\n",
            "(as ‘lib’ is unspecified)\n",
            "\n",
            "R[write to console]: trying URL 'https://cran.rstudio.com/src/contrib/party_1.3-5.tar.gz'\n",
            "\n",
            "R[write to console]: Content type 'application/x-gzip'\n",
            "R[write to console]:  length 802880 bytes (784 KB)\n",
            "\n",
            "R[write to console]: =\n",
            "R[write to console]: =\n",
            "R[write to console]: =\n",
            "R[write to console]: =\n",
            "R[write to console]: =\n",
            "R[write to console]: =\n",
            "R[write to console]: =\n",
            "R[write to console]: =\n",
            "R[write to console]: =\n",
            "R[write to console]: =\n",
            "R[write to console]: =\n",
            "R[write to console]: =\n",
            "R[write to console]: =\n",
            "R[write to console]: =\n",
            "R[write to console]: =\n",
            "R[write to console]: =\n",
            "R[write to console]: =\n",
            "R[write to console]: =\n",
            "R[write to console]: =\n",
            "R[write to console]: =\n",
            "R[write to console]: =\n",
            "R[write to console]: =\n",
            "R[write to console]: =\n",
            "R[write to console]: =\n",
            "R[write to console]: =\n",
            "R[write to console]: =\n",
            "R[write to console]: =\n",
            "R[write to console]: =\n",
            "R[write to console]: =\n",
            "R[write to console]: =\n",
            "R[write to console]: =\n",
            "R[write to console]: =\n",
            "R[write to console]: =\n",
            "R[write to console]: =\n",
            "R[write to console]: =\n",
            "R[write to console]: =\n",
            "R[write to console]: =\n",
            "R[write to console]: =\n",
            "R[write to console]: =\n",
            "R[write to console]: =\n",
            "R[write to console]: =\n",
            "R[write to console]: =\n",
            "R[write to console]: =\n",
            "R[write to console]: =\n",
            "R[write to console]: =\n",
            "R[write to console]: =\n",
            "R[write to console]: =\n",
            "R[write to console]: =\n",
            "R[write to console]: =\n",
            "R[write to console]: =\n",
            "R[write to console]: \n",
            "\n",
            "R[write to console]: downloaded 784 KB\n",
            "\n",
            "\n",
            "R[write to console]: \n",
            "\n",
            "R[write to console]: \n",
            "R[write to console]: The downloaded source packages are in\n",
            "\t‘/tmp/RtmpsxbWzt/downloaded_packages’\n",
            "R[write to console]: \n",
            "R[write to console]: \n",
            "\n"
          ],
          "name": "stderr"
        }
      ]
    },
    {
      "cell_type": "code",
      "metadata": {
        "id": "P-AuPzJy3O-b",
        "outputId": "5eeb3a94-8d8a-4cca-a348-18630d00600b",
        "colab": {
          "base_uri": "https://localhost:8080/"
        }
      },
      "source": [
        "%%R\n",
        "library(party)"
      ],
      "execution_count": 14,
      "outputs": [
        {
          "output_type": "stream",
          "text": [
            "R[write to console]: Loading required package: mvtnorm\n",
            "\n",
            "R[write to console]: Loading required package: modeltools\n",
            "\n",
            "R[write to console]: Loading required package: stats4\n",
            "\n",
            "R[write to console]: Loading required package: strucchange\n",
            "\n",
            "R[write to console]: Loading required package: zoo\n",
            "\n",
            "R[write to console]: \n",
            "Attaching package: ‘zoo’\n",
            "\n",
            "\n",
            "R[write to console]: The following objects are masked from ‘package:base’:\n",
            "\n",
            "    as.Date, as.Date.numeric\n",
            "\n",
            "\n",
            "R[write to console]: Loading required package: sandwich\n",
            "\n"
          ],
          "name": "stderr"
        }
      ]
    },
    {
      "cell_type": "code",
      "metadata": {
        "id": "LFq1xnSc-aAf"
      },
      "source": [
        "data = pd.read_csv('county_data_with_reduced_covariates_with_SIP.csv')"
      ],
      "execution_count": 8,
      "outputs": []
    },
    {
      "cell_type": "code",
      "metadata": {
        "id": "g27_bncd-lWk"
      },
      "source": [
        "data.dropna(inplace = True)"
      ],
      "execution_count": 9,
      "outputs": []
    },
    {
      "cell_type": "code",
      "metadata": {
        "id": "iK5ktOr4-mSu",
        "outputId": "58fe427b-7d89-425d-9d80-239b4e6c9715",
        "colab": {
          "base_uri": "https://localhost:8080/"
        }
      },
      "source": [
        "print(f\"after dropping this dataset has {data.shape[0]} records.\")"
      ],
      "execution_count": 10,
      "outputs": [
        {
          "output_type": "stream",
          "text": [
            "after dropping this dataset has 2995 records.\n"
          ],
          "name": "stdout"
        }
      ]
    },
    {
      "cell_type": "code",
      "metadata": {
        "id": "uvXLMAgg-pnh"
      },
      "source": [
        "dataframe = data"
      ],
      "execution_count": 11,
      "outputs": []
    },
    {
      "cell_type": "markdown",
      "metadata": {
        "id": "A0DNSEu9g1Nm"
      },
      "source": [
        "# 1. How good is random forest at predicting propensity score"
      ]
    },
    {
      "cell_type": "code",
      "metadata": {
        "id": "YgL8-pXb3s3C",
        "outputId": "8bdffb80-9d27-4bc1-9da6-f0deacb980d3",
        "colab": {
          "base_uri": "https://localhost:8080/"
        }
      },
      "source": [
        "%%R\n",
        "# create our formula for propensity score model.\n",
        "covariateNames <- c(\n",
        "    'Median.Household.Income',\n",
        "    'X..Rural',\n",
        "    'political_diff',\n",
        "    'X..Asian',\n",
        "    'X..Black',\n",
        "    'X..Non.Hispanic.White',\n",
        "    'X..Hispanic',\n",
        "    'Population_y'\n",
        ")\n",
        "psFormula <- paste(covariateNames, collapse='+')\n",
        "psFormula <- formula(paste('SIP.~', psFormula, sep=''))  \n",
        "print(psFormula)"
      ],
      "execution_count": 102,
      "outputs": [
        {
          "output_type": "stream",
          "text": [
            "SIP. ~ Median.Household.Income + X..Rural + political_diff + \n",
            "    X..Asian + X..Black + X..Non.Hispanic.White + X..Hispanic + \n",
            "    Population_y\n"
          ],
          "name": "stdout"
        }
      ]
    },
    {
      "cell_type": "code",
      "metadata": {
        "id": "CmAHE0bc3UPM"
      },
      "source": [
        "%%R -i dataframe\n",
        "# a seed that ensures we get the same result if we run\n",
        "# this code again in the future.\n",
        "set.seed(2020)\n",
        "# mytry = number of input variables we select for each tree\n",
        "parameters <- cforest_unbiased(ntree = 500, mtry = 4)\n",
        "randomForest <- cforest(psFormula, data=dataframe, controls = parameters)"
      ],
      "execution_count": 85,
      "outputs": []
    },
    {
      "cell_type": "code",
      "metadata": {
        "id": "jiSxrRY35DJF"
      },
      "source": [
        "%%R\n",
        "# put probability predicted on each instance by RF into a\n",
        "# column of dataframe as weights.\n",
        "pScoresRf <- predict(randomForest, type='prob')\n",
        "dataframe$weights <- matrix(unlist(pScoresRf),1,byrow=T)[1,]"
      ],
      "execution_count": 86,
      "outputs": []
    },
    {
      "cell_type": "code",
      "metadata": {
        "id": "RYbixDMMKOv8",
        "outputId": "796de435-14a7-4e39-b8c5-9bb5665944ff",
        "colab": {
          "base_uri": "https://localhost:8080/"
        }
      },
      "source": [
        "%%R\n",
        "head(dataframe)"
      ],
      "execution_count": 87,
      "outputs": [
        {
          "output_type": "stream",
          "text": [
            "  state state_code State.Name      cnamelong county_code diff_in_perc_at_home\n",
            "0     1         AL    Alabama Autauga County        1001          0.050678282\n",
            "1     1         AL    Alabama Baldwin County        1003          0.050311979\n",
            "2     1         AL    Alabama Barbour County        1005          0.007036924\n",
            "3     1         AL    Alabama    Bibb County        1007          0.011808926\n",
            "4     1         AL    Alabama  Blount County        1009          0.038890321\n",
            "5     1         AL    Alabama Bullock County        1011         -0.009576347\n",
            "  SIP. Median.Household.Income X..Rural Population_y political_diff\n",
            "0    1                   59338     42.0        55601    -0.49478934\n",
            "1    1                   57588     42.3       218022    -0.57786162\n",
            "2    1                   34382     67.8        24881    -0.05611165\n",
            "3    1                   46064     68.4        22400    -0.55544124\n",
            "4    1                   50412     90.0        57840    -0.81381973\n",
            "5    1                   29267     51.4        10138     0.50861519\n",
            "  X..less.than.18.years.of.age X..65.and.over X..Asian X..Black X..Hispanic\n",
            "0                         23.7           15.6      1.2     19.3         3.0\n",
            "1                         21.6           20.4      1.2      8.8         4.6\n",
            "2                         20.9           19.4      0.5     48.0         4.3\n",
            "3                         20.5           16.5      0.2     21.1         2.6\n",
            "4                         23.2           18.2      0.3      1.5         9.6\n",
            "5                         21.1           16.4      0.2     69.5         8.0\n",
            "  X..Non.Hispanic.White   weights\n",
            "0                  74.3 0.9811613\n",
            "1                  83.1 0.9434985\n",
            "2                  45.6 0.9119632\n",
            "3                  74.6 0.9633358\n",
            "4                  86.9 0.8854660\n",
            "5                  21.2 0.9029264\n"
          ],
          "name": "stdout"
        }
      ]
    },
    {
      "cell_type": "code",
      "metadata": {
        "id": "eeEZShjXf6hj"
      },
      "source": [
        "%%R\n",
        "# convert 0, 1 to categories, as is required by the box whisker function\n",
        "dataframe$factor_SIP <- factor(dataframe$SIP.)"
      ],
      "execution_count": 89,
      "outputs": []
    },
    {
      "cell_type": "code",
      "metadata": {
        "id": "f4MlkUhxfA_c",
        "outputId": "a3ae7526-fbe0-41f9-e5c8-0bff9569087d",
        "colab": {
          "base_uri": "https://localhost:8080/",
          "height": 497
        }
      },
      "source": [
        "%%R\n",
        "bwplot(weights~factor_SIP, data = dataframe, ylab = \"propensity score\", \n",
        "       xlab = \"Shelter in place?\", main = 'propensity score box-whisker plot of counties with/without SIP',\n",
        "       auto.key = TRUE)"
      ],
      "execution_count": 90,
      "outputs": [
        {
          "output_type": "display_data",
          "data": {
            "image/png": "[encoded data removed]"
          },
          "metadata": {
            "tags": []
          }
        }
      ]
    },
    {
      "cell_type": "markdown",
      "metadata": {
        "id": "WT46nx-_F6w_"
      },
      "source": [
        "As we can see, the random forest isn't producing a balanced distribution of propensity scores."
      ]
    },
    {
      "cell_type": "code",
      "metadata": {
        "id": "wFtiLbleOUcz"
      },
      "source": [
        "%%R\n",
        "# get weight for ATE based on propensity score\n",
        "dataframe$weight_ATE <- with(dataframe, ifelse(SIP.==1, 1/weights, 1/(1-weights)))"
      ],
      "execution_count": 91,
      "outputs": []
    },
    {
      "cell_type": "code",
      "metadata": {
        "id": "PZuO97WIPXmw",
        "outputId": "69aba714-ed2c-41c3-ddb5-918b59fa9aab",
        "colab": {
          "base_uri": "https://localhost:8080/"
        }
      },
      "source": [
        "%%R\n",
        "with(dataframe, by(weight_ATE, SIP., summary))"
      ],
      "execution_count": null,
      "outputs": [
        {
          "output_type": "stream",
          "text": [
            "SIP.: 0\n",
            "   Min. 1st Qu.  Median    Mean 3rd Qu.    Max. \n",
            "  1.224   1.688   2.151   2.513   3.029   8.987 \n",
            "------------------------------------------------------------ \n",
            "SIP.: 1\n",
            "   Min. 1st Qu.  Median    Mean 3rd Qu.    Max. \n",
            "  1.000   1.028   1.061   1.122   1.132   3.202 \n"
          ],
          "name": "stdout"
        }
      ]
    },
    {
      "cell_type": "markdown",
      "metadata": {
        "id": "iGcYRikGGUTp"
      },
      "source": [
        "As we can see, there are no extreme weights problem for RF, as we have seen for logistic regression"
      ]
    },
    {
      "cell_type": "code",
      "metadata": {
        "id": "wHaJL1g5GyB8",
        "outputId": "9e83ac9c-8d03-4eca-cfd0-a7f72415c012",
        "colab": {
          "base_uri": "https://localhost:8080/"
        }
      },
      "source": [
        "%%R\n",
        "print(covariateNames)"
      ],
      "execution_count": 97,
      "outputs": [
        {
          "output_type": "stream",
          "text": [
            "[1] \"Median.Household.Income\" \" X..Rural\"              \n",
            "[3] \"political_diff\"          \"X..Asian\"               \n",
            "[5] \"X..Black\"                \"X..Non.Hispanic.White\"  \n",
            "[7] \"X..Hispanic\"             \"Population_y\"           \n"
          ],
          "name": "stdout"
        }
      ]
    },
    {
      "cell_type": "code",
      "metadata": {
        "id": "SGfRpvqNHEC_",
        "outputId": "4a1707e6-6505-45da-8bc8-8fc1211cc938",
        "colab": {
          "base_uri": "https://localhost:8080/"
        }
      },
      "source": [
        "%%R\n",
        "head(dataframe)"
      ],
      "execution_count": 98,
      "outputs": [
        {
          "output_type": "stream",
          "text": [
            "  state state_code State.Name      cnamelong county_code diff_in_perc_at_home\n",
            "0     1         AL    Alabama Autauga County        1001          0.050678282\n",
            "1     1         AL    Alabama Baldwin County        1003          0.050311979\n",
            "2     1         AL    Alabama Barbour County        1005          0.007036924\n",
            "3     1         AL    Alabama    Bibb County        1007          0.011808926\n",
            "4     1         AL    Alabama  Blount County        1009          0.038890321\n",
            "5     1         AL    Alabama Bullock County        1011         -0.009576347\n",
            "  SIP. Median.Household.Income X..Rural Population_y political_diff\n",
            "0    1                   59338     42.0        55601    -0.49478934\n",
            "1    1                   57588     42.3       218022    -0.57786162\n",
            "2    1                   34382     67.8        24881    -0.05611165\n",
            "3    1                   46064     68.4        22400    -0.55544124\n",
            "4    1                   50412     90.0        57840    -0.81381973\n",
            "5    1                   29267     51.4        10138     0.50861519\n",
            "  X..less.than.18.years.of.age X..65.and.over X..Asian X..Black X..Hispanic\n",
            "0                         23.7           15.6      1.2     19.3         3.0\n",
            "1                         21.6           20.4      1.2      8.8         4.6\n",
            "2                         20.9           19.4      0.5     48.0         4.3\n",
            "3                         20.5           16.5      0.2     21.1         2.6\n",
            "4                         23.2           18.2      0.3      1.5         9.6\n",
            "5                         21.1           16.4      0.2     69.5         8.0\n",
            "  X..Non.Hispanic.White   weights factor_SIP weight_ATE\n",
            "0                  74.3 0.9811613          1   1.019200\n",
            "1                  83.1 0.9434985          1   1.059885\n",
            "2                  45.6 0.9119632          1   1.096535\n",
            "3                  74.6 0.9633358          1   1.038060\n",
            "4                  86.9 0.8854660          1   1.129349\n",
            "5                  21.2 0.9029264          1   1.107510\n"
          ],
          "name": "stdout"
        }
      ]
    },
    {
      "cell_type": "code",
      "metadata": {
        "id": "8AJUrm0KsxUr"
      },
      "source": [
        "%%R\n",
        "# sampw has to be set here or else will not get std.eff.sz which is what we want\n",
        "# since we don't have sampling weight, we set it to 1\n",
        "balanceTable <- bal.stat(dataframe, vars = covariateNames, treat.var = 'SIP.',\n",
        "                         w.all = dataframe$weight_ATE, sampw = 1,\n",
        "                         get.ks = F, estimand = 'ATE', multinom = F)"
      ],
      "execution_count": 103,
      "outputs": []
    },
    {
      "cell_type": "code",
      "metadata": {
        "id": "id73d5TRo9y_"
      },
      "source": [
        "%%R\n",
        "balance_results <- balanceTable$results "
      ],
      "execution_count": 104,
      "outputs": []
    },
    {
      "cell_type": "code",
      "metadata": {
        "id": "8OTwerU4pNDb",
        "outputId": "03fdb6e9-2c17-4d80-945c-3df32f6634ce",
        "colab": {
          "base_uri": "https://localhost:8080/"
        }
      },
      "source": [
        "%%R\n",
        "round(balance_results,3) "
      ],
      "execution_count": 105,
      "outputs": [
        {
          "output_type": "stream",
          "text": [
            "                             tx.mn      tx.sd     ct.mn     ct.sd std.eff.sz\n",
            "Median.Household.Income  52976.427  14261.692 52025.900 10911.349      0.068\n",
            "X..Rural                    56.317     31.048    60.846    29.674     -0.146\n",
            "political_diff              -0.301      0.309    -0.382     0.240      0.264\n",
            "X..Asian                     1.618      2.875     1.128     1.381      0.174\n",
            "X..Black                     9.687     14.722     6.084    11.647      0.249\n",
            "X..Non.Hispanic.White       75.644     20.170    80.222    15.859     -0.230\n",
            "X..Hispanic                 10.001     14.334     6.955     7.265      0.220\n",
            "Population_y            114252.289 349416.576 43256.776 82579.711      0.208\n",
            "                          stat     p\n",
            "Median.Household.Income  1.460 0.144\n",
            "X..Rural                -2.652 0.008\n",
            "political_diff           5.404 0.000\n",
            "X..Asian                 5.192 0.000\n",
            "X..Black                 4.581 0.000\n",
            "X..Non.Hispanic.White   -4.696 0.000\n",
            "X..Hispanic              6.044 0.000\n",
            "Population_y             8.022 0.000\n"
          ],
          "name": "stdout"
        }
      ]
    },
    {
      "cell_type": "markdown",
      "metadata": {
        "id": "q_z6oluhHoC5"
      },
      "source": [
        "As we can see, a lot of `std.eff.sz` are over `0.2`, which is bad news. Comparing to logistic regression, random forest isn't doing as good in terms of covariate balance."
      ]
    },
    {
      "cell_type": "markdown",
      "metadata": {
        "id": "0EjvmmHLH7HS"
      },
      "source": [
        "# 2. How good is gradient boosting machine at propensity score modeling?"
      ]
    },
    {
      "cell_type": "code",
      "metadata": {
        "id": "OS0cb2Q6-9Xf",
        "outputId": "543dc09f-c31b-490f-b110-0d8dad67fbe2",
        "colab": {
          "base_uri": "https://localhost:8080/"
        }
      },
      "source": [
        "%%R -i dataframe\n",
        "\n",
        "GBM <- ps(psFormula, data = dataframe, n.trees=5000, interaction.depth=4, estimand = 'ATE')"
      ],
      "execution_count": 106,
      "outputs": [
        {
          "output_type": "stream",
          "text": [
            "Fitting gbm model\n",
            "Iter   TrainDeviance   ValidDeviance   StepSize   Improve\n",
            "     1        0.8404            -nan     0.0100      -nan\n",
            "     2        0.8381            -nan     0.0100      -nan\n",
            "     3        0.8358            -nan     0.0100      -nan\n",
            "     4        0.8331            -nan     0.0100      -nan\n",
            "     5        0.8310            -nan     0.0100      -nan\n",
            "     6        0.8285            -nan     0.0100      -nan\n",
            "     7        0.8264            -nan     0.0100      -nan\n",
            "     8        0.8244            -nan     0.0100      -nan\n",
            "     9        0.8224            -nan     0.0100      -nan\n",
            "    10        0.8205            -nan     0.0100      -nan\n",
            "    20        0.8020            -nan     0.0100      -nan\n",
            "    40        0.7729            -nan     0.0100      -nan\n",
            "    60        0.7505            -nan     0.0100      -nan\n",
            "    80        0.7324            -nan     0.0100      -nan\n",
            "   100        0.7173            -nan     0.0100      -nan\n",
            "   120        0.7032            -nan     0.0100      -nan\n",
            "   140        0.6914            -nan     0.0100      -nan\n",
            "   160        0.6792            -nan     0.0100      -nan\n",
            "   180        0.6688            -nan     0.0100      -nan\n",
            "   200        0.6600            -nan     0.0100      -nan\n",
            "   220        0.6515            -nan     0.0100      -nan\n",
            "   240        0.6445            -nan     0.0100      -nan\n",
            "   260        0.6381            -nan     0.0100      -nan\n",
            "   280        0.6314            -nan     0.0100      -nan\n",
            "   300        0.6257            -nan     0.0100      -nan\n",
            "   320        0.6196            -nan     0.0100      -nan\n",
            "   340        0.6145            -nan     0.0100      -nan\n",
            "   360        0.6091            -nan     0.0100      -nan\n",
            "   380        0.6042            -nan     0.0100      -nan\n",
            "   400        0.5996            -nan     0.0100      -nan\n",
            "   420        0.5950            -nan     0.0100      -nan\n",
            "   440        0.5904            -nan     0.0100      -nan\n",
            "   460        0.5865            -nan     0.0100      -nan\n",
            "   480        0.5826            -nan     0.0100      -nan\n",
            "   500        0.5790            -nan     0.0100      -nan\n",
            "   520        0.5756            -nan     0.0100      -nan\n",
            "   540        0.5722            -nan     0.0100      -nan\n",
            "   560        0.5689            -nan     0.0100      -nan\n",
            "   580        0.5656            -nan     0.0100      -nan\n",
            "   600        0.5623            -nan     0.0100      -nan\n",
            "   620        0.5592            -nan     0.0100      -nan\n",
            "   640        0.5562            -nan     0.0100      -nan\n",
            "   660        0.5534            -nan     0.0100      -nan\n",
            "   680        0.5507            -nan     0.0100      -nan\n",
            "   700        0.5478            -nan     0.0100      -nan\n",
            "   720        0.5452            -nan     0.0100      -nan\n",
            "   740        0.5423            -nan     0.0100      -nan\n",
            "   760        0.5397            -nan     0.0100      -nan\n",
            "   780        0.5369            -nan     0.0100      -nan\n",
            "   800        0.5345            -nan     0.0100      -nan\n",
            "   820        0.5320            -nan     0.0100      -nan\n",
            "   840        0.5295            -nan     0.0100      -nan\n",
            "   860        0.5268            -nan     0.0100      -nan\n",
            "   880        0.5244            -nan     0.0100      -nan\n",
            "   900        0.5221            -nan     0.0100      -nan\n",
            "   920        0.5198            -nan     0.0100      -nan\n",
            "   940        0.5175            -nan     0.0100      -nan\n",
            "   960        0.5153            -nan     0.0100      -nan\n",
            "   980        0.5132            -nan     0.0100      -nan\n",
            "  1000        0.5110            -nan     0.0100      -nan\n",
            "  1020        0.5088            -nan     0.0100      -nan\n",
            "  1040        0.5067            -nan     0.0100      -nan\n",
            "  1060        0.5048            -nan     0.0100      -nan\n",
            "  1080        0.5028            -nan     0.0100      -nan\n",
            "  1100        0.5008            -nan     0.0100      -nan\n",
            "  1120        0.4987            -nan     0.0100      -nan\n",
            "  1140        0.4966            -nan     0.0100      -nan\n",
            "  1160        0.4946            -nan     0.0100      -nan\n",
            "  1180        0.4927            -nan     0.0100      -nan\n",
            "  1200        0.4910            -nan     0.0100      -nan\n",
            "  1220        0.4891            -nan     0.0100      -nan\n",
            "  1240        0.4870            -nan     0.0100      -nan\n",
            "  1260        0.4851            -nan     0.0100      -nan\n",
            "  1280        0.4831            -nan     0.0100      -nan\n",
            "  1300        0.4812            -nan     0.0100      -nan\n",
            "  1320        0.4794            -nan     0.0100      -nan\n",
            "  1340        0.4773            -nan     0.0100      -nan\n",
            "  1360        0.4756            -nan     0.0100      -nan\n",
            "  1380        0.4738            -nan     0.0100      -nan\n",
            "  1400        0.4721            -nan     0.0100      -nan\n",
            "  1420        0.4702            -nan     0.0100      -nan\n",
            "  1440        0.4686            -nan     0.0100      -nan\n",
            "  1460        0.4668            -nan     0.0100      -nan\n",
            "  1480        0.4650            -nan     0.0100      -nan\n",
            "  1500        0.4634            -nan     0.0100      -nan\n",
            "  1520        0.4620            -nan     0.0100      -nan\n",
            "  1540        0.4604            -nan     0.0100      -nan\n",
            "  1560        0.4587            -nan     0.0100      -nan\n",
            "  1580        0.4573            -nan     0.0100      -nan\n",
            "  1600        0.4555            -nan     0.0100      -nan\n",
            "  1620        0.4539            -nan     0.0100      -nan\n",
            "  1640        0.4522            -nan     0.0100      -nan\n",
            "  1660        0.4506            -nan     0.0100      -nan\n",
            "  1680        0.4491            -nan     0.0100      -nan\n",
            "  1700        0.4475            -nan     0.0100      -nan\n",
            "  1720        0.4460            -nan     0.0100      -nan\n",
            "  1740        0.4445            -nan     0.0100      -nan\n",
            "  1760        0.4432            -nan     0.0100      -nan\n",
            "  1780        0.4417            -nan     0.0100      -nan\n",
            "  1800        0.4403            -nan     0.0100      -nan\n",
            "  1820        0.4387            -nan     0.0100      -nan\n",
            "  1840        0.4374            -nan     0.0100      -nan\n",
            "  1860        0.4358            -nan     0.0100      -nan\n",
            "  1880        0.4344            -nan     0.0100      -nan\n",
            "  1900        0.4331            -nan     0.0100      -nan\n",
            "  1920        0.4318            -nan     0.0100      -nan\n",
            "  1940        0.4304            -nan     0.0100      -nan\n",
            "  1960        0.4290            -nan     0.0100      -nan\n",
            "  1980        0.4277            -nan     0.0100      -nan\n",
            "  2000        0.4263            -nan     0.0100      -nan\n",
            "  2020        0.4249            -nan     0.0100      -nan\n",
            "  2040        0.4236            -nan     0.0100      -nan\n",
            "  2060        0.4222            -nan     0.0100      -nan\n",
            "  2080        0.4206            -nan     0.0100      -nan\n",
            "  2100        0.4193            -nan     0.0100      -nan\n",
            "  2120        0.4179            -nan     0.0100      -nan\n",
            "  2140        0.4165            -nan     0.0100      -nan\n",
            "  2160        0.4152            -nan     0.0100      -nan\n",
            "  2180        0.4138            -nan     0.0100      -nan\n",
            "  2200        0.4123            -nan     0.0100      -nan\n",
            "  2220        0.4108            -nan     0.0100      -nan\n",
            "  2240        0.4095            -nan     0.0100      -nan\n",
            "  2260        0.4082            -nan     0.0100      -nan\n",
            "  2280        0.4067            -nan     0.0100      -nan\n",
            "  2300        0.4054            -nan     0.0100      -nan\n",
            "  2320        0.4041            -nan     0.0100      -nan\n",
            "  2340        0.4030            -nan     0.0100      -nan\n",
            "  2360        0.4016            -nan     0.0100      -nan\n",
            "  2380        0.4004            -nan     0.0100      -nan\n",
            "  2400        0.3990            -nan     0.0100      -nan\n",
            "  2420        0.3975            -nan     0.0100      -nan\n",
            "  2440        0.3962            -nan     0.0100      -nan\n",
            "  2460        0.3950            -nan     0.0100      -nan\n",
            "  2480        0.3938            -nan     0.0100      -nan\n",
            "  2500        0.3926            -nan     0.0100      -nan\n",
            "  2520        0.3915            -nan     0.0100      -nan\n",
            "  2540        0.3902            -nan     0.0100      -nan\n",
            "  2560        0.3889            -nan     0.0100      -nan\n",
            "  2580        0.3876            -nan     0.0100      -nan\n",
            "  2600        0.3862            -nan     0.0100      -nan\n",
            "  2620        0.3850            -nan     0.0100      -nan\n",
            "  2640        0.3839            -nan     0.0100      -nan\n",
            "  2660        0.3827            -nan     0.0100      -nan\n",
            "  2680        0.3816            -nan     0.0100      -nan\n",
            "  2700        0.3806            -nan     0.0100      -nan\n",
            "  2720        0.3793            -nan     0.0100      -nan\n",
            "  2740        0.3782            -nan     0.0100      -nan\n",
            "  2760        0.3770            -nan     0.0100      -nan\n",
            "  2780        0.3759            -nan     0.0100      -nan\n",
            "  2800        0.3747            -nan     0.0100      -nan\n",
            "  2820        0.3735            -nan     0.0100      -nan\n",
            "  2840        0.3723            -nan     0.0100      -nan\n",
            "  2860        0.3713            -nan     0.0100      -nan\n",
            "  2880        0.3702            -nan     0.0100      -nan\n",
            "  2900        0.3691            -nan     0.0100      -nan\n",
            "  2920        0.3681            -nan     0.0100      -nan\n",
            "  2940        0.3672            -nan     0.0100      -nan\n",
            "  2960        0.3661            -nan     0.0100      -nan\n",
            "  2980        0.3649            -nan     0.0100      -nan\n",
            "  3000        0.3639            -nan     0.0100      -nan\n",
            "  3020        0.3627            -nan     0.0100      -nan\n",
            "  3040        0.3616            -nan     0.0100      -nan\n",
            "  3060        0.3605            -nan     0.0100      -nan\n",
            "  3080        0.3595            -nan     0.0100      -nan\n",
            "  3100        0.3585            -nan     0.0100      -nan\n",
            "  3120        0.3575            -nan     0.0100      -nan\n",
            "  3140        0.3566            -nan     0.0100      -nan\n",
            "  3160        0.3555            -nan     0.0100      -nan\n",
            "  3180        0.3545            -nan     0.0100      -nan\n",
            "  3200        0.3534            -nan     0.0100      -nan\n",
            "  3220        0.3524            -nan     0.0100      -nan\n",
            "  3240        0.3514            -nan     0.0100      -nan\n",
            "  3260        0.3503            -nan     0.0100      -nan\n",
            "  3280        0.3492            -nan     0.0100      -nan\n",
            "  3300        0.3483            -nan     0.0100      -nan\n",
            "  3320        0.3474            -nan     0.0100      -nan\n",
            "  3340        0.3464            -nan     0.0100      -nan\n",
            "  3360        0.3455            -nan     0.0100      -nan\n",
            "  3380        0.3445            -nan     0.0100      -nan\n",
            "  3400        0.3435            -nan     0.0100      -nan\n",
            "  3420        0.3427            -nan     0.0100      -nan\n",
            "  3440        0.3417            -nan     0.0100      -nan\n",
            "  3460        0.3408            -nan     0.0100      -nan\n",
            "  3480        0.3398            -nan     0.0100      -nan\n",
            "  3500        0.3389            -nan     0.0100      -nan\n",
            "  3520        0.3378            -nan     0.0100      -nan\n",
            "  3540        0.3369            -nan     0.0100      -nan\n",
            "  3560        0.3360            -nan     0.0100      -nan\n",
            "  3580        0.3352            -nan     0.0100      -nan\n",
            "  3600        0.3342            -nan     0.0100      -nan\n",
            "  3620        0.3332            -nan     0.0100      -nan\n",
            "  3640        0.3322            -nan     0.0100      -nan\n",
            "  3660        0.3312            -nan     0.0100      -nan\n",
            "  3680        0.3302            -nan     0.0100      -nan\n",
            "  3700        0.3293            -nan     0.0100      -nan\n",
            "  3720        0.3284            -nan     0.0100      -nan\n",
            "  3740        0.3275            -nan     0.0100      -nan\n",
            "  3760        0.3265            -nan     0.0100      -nan\n",
            "  3780        0.3256            -nan     0.0100      -nan\n",
            "  3800        0.3247            -nan     0.0100      -nan\n",
            "  3820        0.3238            -nan     0.0100      -nan\n",
            "  3840        0.3228            -nan     0.0100      -nan\n",
            "  3860        0.3219            -nan     0.0100      -nan\n",
            "  3880        0.3210            -nan     0.0100      -nan\n",
            "  3900        0.3202            -nan     0.0100      -nan\n",
            "  3920        0.3193            -nan     0.0100      -nan\n",
            "  3940        0.3184            -nan     0.0100      -nan\n",
            "  3960        0.3175            -nan     0.0100      -nan\n",
            "  3980        0.3166            -nan     0.0100      -nan\n",
            "  4000        0.3157            -nan     0.0100      -nan\n",
            "  4020        0.3149            -nan     0.0100      -nan\n",
            "  4040        0.3141            -nan     0.0100      -nan\n",
            "  4060        0.3132            -nan     0.0100      -nan\n",
            "  4080        0.3124            -nan     0.0100      -nan\n",
            "  4100        0.3114            -nan     0.0100      -nan\n",
            "  4120        0.3106            -nan     0.0100      -nan\n",
            "  4140        0.3098            -nan     0.0100      -nan\n",
            "  4160        0.3090            -nan     0.0100      -nan\n",
            "  4180        0.3081            -nan     0.0100      -nan\n",
            "  4200        0.3072            -nan     0.0100      -nan\n",
            "  4220        0.3062            -nan     0.0100      -nan\n",
            "  4240        0.3053            -nan     0.0100      -nan\n",
            "  4260        0.3045            -nan     0.0100      -nan\n",
            "  4280        0.3037            -nan     0.0100      -nan\n",
            "  4300        0.3028            -nan     0.0100      -nan\n",
            "  4320        0.3020            -nan     0.0100      -nan\n",
            "  4340        0.3012            -nan     0.0100      -nan\n",
            "  4360        0.3002            -nan     0.0100      -nan\n",
            "  4380        0.2995            -nan     0.0100      -nan\n",
            "  4400        0.2988            -nan     0.0100      -nan\n",
            "  4420        0.2980            -nan     0.0100      -nan\n",
            "  4440        0.2972            -nan     0.0100      -nan\n",
            "  4460        0.2964            -nan     0.0100      -nan\n",
            "  4480        0.2955            -nan     0.0100      -nan\n",
            "  4500        0.2948            -nan     0.0100      -nan\n",
            "  4520        0.2939            -nan     0.0100      -nan\n",
            "  4540        0.2931            -nan     0.0100      -nan\n",
            "  4560        0.2923            -nan     0.0100      -nan\n",
            "  4580        0.2915            -nan     0.0100      -nan\n",
            "  4600        0.2907            -nan     0.0100      -nan\n",
            "  4620        0.2899            -nan     0.0100      -nan\n",
            "  4640        0.2890            -nan     0.0100      -nan\n",
            "  4660        0.2883            -nan     0.0100      -nan\n",
            "  4680        0.2876            -nan     0.0100      -nan\n",
            "  4700        0.2869            -nan     0.0100      -nan\n",
            "  4720        0.2862            -nan     0.0100      -nan\n",
            "  4740        0.2855            -nan     0.0100      -nan\n",
            "  4760        0.2847            -nan     0.0100      -nan\n",
            "  4780        0.2839            -nan     0.0100      -nan\n",
            "  4800        0.2833            -nan     0.0100      -nan\n",
            "  4820        0.2825            -nan     0.0100      -nan\n",
            "  4840        0.2817            -nan     0.0100      -nan\n",
            "  4860        0.2810            -nan     0.0100      -nan\n",
            "  4880        0.2803            -nan     0.0100      -nan\n",
            "  4900        0.2796            -nan     0.0100      -nan\n",
            "  4920        0.2787            -nan     0.0100      -nan\n",
            "  4940        0.2781            -nan     0.0100      -nan\n",
            "  4960        0.2774            -nan     0.0100      -nan\n",
            "  4980        0.2766            -nan     0.0100      -nan\n",
            "  5000        0.2761            -nan     0.0100      -nan\n",
            "\n",
            "Diagnosis of unweighted analysis\n",
            "Optimizing with ks.mean.ATE stopping rule\n",
            "   Optimized at 691 \n",
            "Diagnosis of ks.mean.ATE weights\n",
            "Optimizing with es.mean.ATE stopping rule\n",
            "   Optimized at 742 \n",
            "Diagnosis of es.mean.ATE weights\n",
            "\n"
          ],
          "name": "stdout"
        }
      ]
    },
    {
      "cell_type": "code",
      "metadata": {
        "id": "zd7KKGSv_ax1",
        "outputId": "f53839f7-edfe-4902-8792-a10b122c7e8a",
        "colab": {
          "base_uri": "https://localhost:8080/",
          "height": 497
        }
      },
      "source": [
        "%%R\n",
        "plot(GBM, type='b',color=F)"
      ],
      "execution_count": 107,
      "outputs": [
        {
          "output_type": "display_data",
          "data": {
            "image/png": "[encoded data removed]"
          },
          "metadata": {
            "tags": []
          }
        }
      ]
    },
    {
      "cell_type": "code",
      "metadata": {
        "id": "xB_RSlgZ_53t"
      },
      "source": [
        "%%R\n",
        "pScoresGBM <- GBM$ps"
      ],
      "execution_count": 108,
      "outputs": []
    },
    {
      "cell_type": "code",
      "metadata": {
        "id": "FyhlEiH6_7WY",
        "outputId": "2c78c2eb-5986-427d-8c13-4191405aca28",
        "colab": {
          "base_uri": "https://localhost:8080/"
        }
      },
      "source": [
        "%%R\n",
        "head(pScoresGBM)"
      ],
      "execution_count": 109,
      "outputs": [
        {
          "output_type": "stream",
          "text": [
            "  ks.mean.ATE es.mean.ATE\n",
            "1   0.9521405   0.9536497\n",
            "2   0.9368860   0.9374658\n",
            "3   0.9169184   0.9162660\n",
            "4   0.9318463   0.9342192\n",
            "5   0.9189895   0.9217976\n",
            "6   0.8963862   0.8989179\n"
          ],
          "name": "stdout"
        }
      ]
    },
    {
      "cell_type": "code",
      "metadata": {
        "id": "bxBKQboZAAlU"
      },
      "source": [
        "%%R\n",
        "dataframe$weights <- pScoresGBM[,1]"
      ],
      "execution_count": 110,
      "outputs": []
    },
    {
      "cell_type": "code",
      "metadata": {
        "id": "5PzjWO3cI5YX"
      },
      "source": [
        "%%R\n",
        "# convert 0, 1 to categories, as is required by the box whisker function\n",
        "dataframe$factor_SIP <- factor(dataframe$SIP.)"
      ],
      "execution_count": 113,
      "outputs": []
    },
    {
      "cell_type": "code",
      "metadata": {
        "id": "myORzlIbI5Yc",
        "outputId": "4137ac23-709d-415f-e81d-9e25b426d08e",
        "colab": {
          "base_uri": "https://localhost:8080/",
          "height": 497
        }
      },
      "source": [
        "%%R\n",
        "bwplot(weights~factor_SIP, data = dataframe, ylab = \"propensity score\", \n",
        "       xlab = \"Shelter in place?\", main = 'propensity score box-whisker plot of counties with/without SIP',\n",
        "       auto.key = TRUE)"
      ],
      "execution_count": 114,
      "outputs": [
        {
          "output_type": "display_data",
          "data": {
            "image/png": "[encoded data removed]"
          },
          "metadata": {
            "tags": []
          }
        }
      ]
    },
    {
      "cell_type": "markdown",
      "metadata": {
        "id": "suu2Psc4I5Ye"
      },
      "source": [
        "As we can see, the distributions are not matching up between the two. not good"
      ]
    },
    {
      "cell_type": "code",
      "metadata": {
        "id": "q9-RFCL3I5Yf"
      },
      "source": [
        "%%R\n",
        "# get weight for ATE based on propensity score\n",
        "dataframe$weight_ATE <- with(dataframe, ifelse(SIP.==1, 1/weights, 1/(1-weights)))"
      ],
      "execution_count": 115,
      "outputs": []
    },
    {
      "cell_type": "code",
      "metadata": {
        "id": "x8Dbre_hI5Yh",
        "outputId": "ed3a675e-8860-47b5-a92e-f2556c7a9329",
        "colab": {
          "base_uri": "https://localhost:8080/"
        }
      },
      "source": [
        "%%R\n",
        "with(dataframe, by(weight_ATE, SIP., summary))"
      ],
      "execution_count": 116,
      "outputs": [
        {
          "output_type": "stream",
          "text": [
            "SIP.: 0\n",
            "   Min. 1st Qu.  Median    Mean 3rd Qu.    Max. \n",
            "  1.148   1.821   2.527   4.146   4.672  26.408 \n",
            "------------------------------------------------------------ \n",
            "SIP.: 1\n",
            "   Min. 1st Qu.  Median    Mean 3rd Qu.    Max. \n",
            "  1.015   1.046   1.076   1.143   1.136   3.386 \n"
          ],
          "name": "stdout"
        }
      ]
    },
    {
      "cell_type": "markdown",
      "metadata": {
        "id": "XJXKnV17I5Yj"
      },
      "source": [
        "As we can see, there are no extreme weights problem for gradient boosting either."
      ]
    },
    {
      "cell_type": "code",
      "metadata": {
        "id": "w97vOPDEI5Yp"
      },
      "source": [
        "%%R\n",
        "# sampw has to be set here or else will not get std.eff.sz which is what we want\n",
        "# since we don't have sampling weight, we set it to 1\n",
        "balanceTable <- bal.stat(dataframe, vars = covariateNames, treat.var = 'SIP.',\n",
        "                         w.all = dataframe$weight_ATE, sampw = 1,\n",
        "                         get.ks = F, estimand = 'ATE', multinom = F)"
      ],
      "execution_count": 117,
      "outputs": []
    },
    {
      "cell_type": "code",
      "metadata": {
        "id": "u3p8hdRFI5Yr"
      },
      "source": [
        "%%R\n",
        "balance_results <- balanceTable$results "
      ],
      "execution_count": 118,
      "outputs": []
    },
    {
      "cell_type": "code",
      "metadata": {
        "id": "qtTd9LgqI5Yt",
        "outputId": "cf2ae12a-3fbc-4cec-a9a9-270ab3dc6d92",
        "colab": {
          "base_uri": "https://localhost:8080/"
        }
      },
      "source": [
        "%%R\n",
        "round(balance_results,3)"
      ],
      "execution_count": 131,
      "outputs": [
        {
          "output_type": "stream",
          "text": [
            "                             tx.mn      tx.sd     ct.mn      ct.sd std.eff.sz\n",
            "Median.Household.Income  52998.635  14214.200 52031.073  11206.516      0.069\n",
            "X..Rural                    56.430     30.956    54.585     30.342      0.060\n",
            "political_diff              -0.302      0.308    -0.332      0.254      0.100\n",
            "X..Asian                     1.620      2.892     1.324      1.480      0.105\n",
            "X..Black                     9.611     14.638     8.127     13.105      0.103\n",
            "X..Non.Hispanic.White       75.742     20.102    78.245     16.208     -0.126\n",
            "X..Hispanic                  9.905     14.191     7.506      8.211      0.173\n",
            "Population_y            113763.968 349106.007 62079.754 101813.026      0.152\n",
            "                          stat     p\n",
            "Median.Household.Income  1.238 0.216\n",
            "X..Rural                 0.865 0.387\n",
            "political_diff           1.555 0.120\n",
            "X..Asian                 2.440 0.015\n",
            "X..Black                 1.429 0.153\n",
            "X..Non.Hispanic.White   -2.138 0.033\n",
            "X..Hispanic              3.671 0.000\n",
            "Population_y             4.567 0.000\n"
          ],
          "name": "stdout"
        }
      ]
    },
    {
      "cell_type": "markdown",
      "metadata": {
        "id": "y0g1jKP0JYqR"
      },
      "source": [
        "It seems like gradient boosting provided better covariate balance than logistic regression! All the `std.eff.sz` are below `0.2`, the highest is about `0.17`"
      ]
    },
    {
      "cell_type": "markdown",
      "metadata": {
        "id": "tmbjslqaJzxv"
      },
      "source": [
        "# 3. calculate effect size with GBM"
      ]
    },
    {
      "cell_type": "code",
      "metadata": {
        "id": "2haX9gPWJ0iP"
      },
      "source": [
        "propensity_weighted_data = %R dataframe"
      ],
      "execution_count": 120,
      "outputs": []
    },
    {
      "cell_type": "code",
      "metadata": {
        "id": "D9JoyXXBKBVk",
        "outputId": "15f5c52c-b255-482f-d433-5bc6dbbc85e1",
        "colab": {
          "base_uri": "https://localhost:8080/",
          "height": 309
        }
      },
      "source": [
        "propensity_weighted_data.head()"
      ],
      "execution_count": 121,
      "outputs": [
        {
          "output_type": "execute_result",
          "data": {
            "text/html": [
              "<div>\n",
              "<style scoped>\n",
              "    .dataframe tbody tr th:only-of-type {\n",
              "        vertical-align: middle;\n",
              "    }\n",
              "\n",
              "    .dataframe tbody tr th {\n",
              "        vertical-align: top;\n",
              "    }\n",
              "\n",
              "    .dataframe thead th {\n",
              "        text-align: right;\n",
              "    }\n",
              "</style>\n",
              "<table border=\"1\" class=\"dataframe\">\n",
              "  <thead>\n",
              "    <tr style=\"text-align: right;\">\n",
              "      <th></th>\n",
              "      <th>state</th>\n",
              "      <th>state_code</th>\n",
              "      <th>State.Name</th>\n",
              "      <th>cnamelong</th>\n",
              "      <th>county_code</th>\n",
              "      <th>diff_in_perc_at_home</th>\n",
              "      <th>SIP.</th>\n",
              "      <th>Median.Household.Income</th>\n",
              "      <th>X..Rural</th>\n",
              "      <th>Population_y</th>\n",
              "      <th>political_diff</th>\n",
              "      <th>X..less.than.18.years.of.age</th>\n",
              "      <th>X..65.and.over</th>\n",
              "      <th>X..Asian</th>\n",
              "      <th>X..Black</th>\n",
              "      <th>X..Hispanic</th>\n",
              "      <th>X..Non.Hispanic.White</th>\n",
              "      <th>weights</th>\n",
              "      <th>factor_SIP</th>\n",
              "      <th>weight_ATE</th>\n",
              "    </tr>\n",
              "  </thead>\n",
              "  <tbody>\n",
              "    <tr>\n",
              "      <th>0</th>\n",
              "      <td>1.0</td>\n",
              "      <td>AL</td>\n",
              "      <td>Alabama</td>\n",
              "      <td>Autauga County</td>\n",
              "      <td>1001.0</td>\n",
              "      <td>0.050678</td>\n",
              "      <td>1</td>\n",
              "      <td>59338.0</td>\n",
              "      <td>42.0</td>\n",
              "      <td>55601</td>\n",
              "      <td>-0.494789</td>\n",
              "      <td>23.7</td>\n",
              "      <td>15.6</td>\n",
              "      <td>1.2</td>\n",
              "      <td>19.3</td>\n",
              "      <td>3.0</td>\n",
              "      <td>74.3</td>\n",
              "      <td>0.952140</td>\n",
              "      <td>1</td>\n",
              "      <td>1.050265</td>\n",
              "    </tr>\n",
              "    <tr>\n",
              "      <th>1</th>\n",
              "      <td>1.0</td>\n",
              "      <td>AL</td>\n",
              "      <td>Alabama</td>\n",
              "      <td>Baldwin County</td>\n",
              "      <td>1003.0</td>\n",
              "      <td>0.050312</td>\n",
              "      <td>1</td>\n",
              "      <td>57588.0</td>\n",
              "      <td>42.3</td>\n",
              "      <td>218022</td>\n",
              "      <td>-0.577862</td>\n",
              "      <td>21.6</td>\n",
              "      <td>20.4</td>\n",
              "      <td>1.2</td>\n",
              "      <td>8.8</td>\n",
              "      <td>4.6</td>\n",
              "      <td>83.1</td>\n",
              "      <td>0.936886</td>\n",
              "      <td>1</td>\n",
              "      <td>1.067366</td>\n",
              "    </tr>\n",
              "    <tr>\n",
              "      <th>2</th>\n",
              "      <td>1.0</td>\n",
              "      <td>AL</td>\n",
              "      <td>Alabama</td>\n",
              "      <td>Barbour County</td>\n",
              "      <td>1005.0</td>\n",
              "      <td>0.007037</td>\n",
              "      <td>1</td>\n",
              "      <td>34382.0</td>\n",
              "      <td>67.8</td>\n",
              "      <td>24881</td>\n",
              "      <td>-0.056112</td>\n",
              "      <td>20.9</td>\n",
              "      <td>19.4</td>\n",
              "      <td>0.5</td>\n",
              "      <td>48.0</td>\n",
              "      <td>4.3</td>\n",
              "      <td>45.6</td>\n",
              "      <td>0.916918</td>\n",
              "      <td>1</td>\n",
              "      <td>1.090610</td>\n",
              "    </tr>\n",
              "    <tr>\n",
              "      <th>3</th>\n",
              "      <td>1.0</td>\n",
              "      <td>AL</td>\n",
              "      <td>Alabama</td>\n",
              "      <td>Bibb County</td>\n",
              "      <td>1007.0</td>\n",
              "      <td>0.011809</td>\n",
              "      <td>1</td>\n",
              "      <td>46064.0</td>\n",
              "      <td>68.4</td>\n",
              "      <td>22400</td>\n",
              "      <td>-0.555441</td>\n",
              "      <td>20.5</td>\n",
              "      <td>16.5</td>\n",
              "      <td>0.2</td>\n",
              "      <td>21.1</td>\n",
              "      <td>2.6</td>\n",
              "      <td>74.6</td>\n",
              "      <td>0.931846</td>\n",
              "      <td>1</td>\n",
              "      <td>1.073138</td>\n",
              "    </tr>\n",
              "    <tr>\n",
              "      <th>4</th>\n",
              "      <td>1.0</td>\n",
              "      <td>AL</td>\n",
              "      <td>Alabama</td>\n",
              "      <td>Blount County</td>\n",
              "      <td>1009.0</td>\n",
              "      <td>0.038890</td>\n",
              "      <td>1</td>\n",
              "      <td>50412.0</td>\n",
              "      <td>90.0</td>\n",
              "      <td>57840</td>\n",
              "      <td>-0.813820</td>\n",
              "      <td>23.2</td>\n",
              "      <td>18.2</td>\n",
              "      <td>0.3</td>\n",
              "      <td>1.5</td>\n",
              "      <td>9.6</td>\n",
              "      <td>86.9</td>\n",
              "      <td>0.918990</td>\n",
              "      <td>1</td>\n",
              "      <td>1.088152</td>\n",
              "    </tr>\n",
              "  </tbody>\n",
              "</table>\n",
              "</div>"
            ],
            "text/plain": [
              "   state state_code State.Name  ...   weights  factor_SIP  weight_ATE\n",
              "0    1.0         AL    Alabama  ...  0.952140           1    1.050265\n",
              "1    1.0         AL    Alabama  ...  0.936886           1    1.067366\n",
              "2    1.0         AL    Alabama  ...  0.916918           1    1.090610\n",
              "3    1.0         AL    Alabama  ...  0.931846           1    1.073138\n",
              "4    1.0         AL    Alabama  ...  0.918990           1    1.088152\n",
              "\n",
              "[5 rows x 20 columns]"
            ]
          },
          "metadata": {
            "tags": []
          },
          "execution_count": 121
        }
      ]
    },
    {
      "cell_type": "code",
      "metadata": {
        "id": "IlHuoXwRKCXs"
      },
      "source": [
        "no_SIP_diff = np.average(propensity_weighted_data[propensity_weighted_data['SIP.'] == 0]['diff_in_perc_at_home'],\n",
        "                         weights = propensity_weighted_data[propensity_weighted_data['SIP.'] == 0]['weight_ATE'])"
      ],
      "execution_count": 126,
      "outputs": []
    },
    {
      "cell_type": "code",
      "metadata": {
        "id": "yhCJLwn5KEI8"
      },
      "source": [
        "SIP_diff = np.average(propensity_weighted_data[propensity_weighted_data['SIP.'] == 1]['diff_in_perc_at_home'], \n",
        "                      weights = propensity_weighted_data[propensity_weighted_data['SIP.'] == 1]['weight_ATE'])"
      ],
      "execution_count": 127,
      "outputs": []
    },
    {
      "cell_type": "code",
      "metadata": {
        "id": "Hy_PZoZhKNQc",
        "outputId": "dd89fb8d-8d11-48f7-9451-9eae72463730",
        "colab": {
          "base_uri": "https://localhost:8080/"
        }
      },
      "source": [
        "no_SIP_diff"
      ],
      "execution_count": 128,
      "outputs": [
        {
          "output_type": "execute_result",
          "data": {
            "text/plain": [
              "0.022721676462148486"
            ]
          },
          "metadata": {
            "tags": []
          },
          "execution_count": 128
        }
      ]
    },
    {
      "cell_type": "code",
      "metadata": {
        "id": "mzzTHyahKOYF",
        "outputId": "73b08a1b-d9fa-40a3-dedc-a23451bb5f51",
        "colab": {
          "base_uri": "https://localhost:8080/"
        }
      },
      "source": [
        "SIP_diff"
      ],
      "execution_count": 129,
      "outputs": [
        {
          "output_type": "execute_result",
          "data": {
            "text/plain": [
              "0.03208944997297552"
            ]
          },
          "metadata": {
            "tags": []
          },
          "execution_count": 129
        }
      ]
    },
    {
      "cell_type": "code",
      "metadata": {
        "id": "Jh4TWcdUKO3y",
        "outputId": "6cc1e8b3-6024-43ec-e3e7-b708d05de1f1",
        "colab": {
          "base_uri": "https://localhost:8080/"
        }
      },
      "source": [
        "SIP_diff - no_SIP_diff"
      ],
      "execution_count": 130,
      "outputs": [
        {
          "output_type": "execute_result",
          "data": {
            "text/plain": [
              "0.009367773510827033"
            ]
          },
          "metadata": {
            "tags": []
          },
          "execution_count": 130
        }
      ]
    },
    {
      "cell_type": "markdown",
      "metadata": {
        "id": "XjrMnboiKZKD"
      },
      "source": [
        "As we can see, the difference is still about 1%, which validated our research before. This GBM method doesn't have good overlapping support of propensisty score distribution though."
      ]
    }
  ]
}