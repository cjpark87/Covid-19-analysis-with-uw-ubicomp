{
  "nbformat": 4,
  "nbformat_minor": 0,
  "metadata": {
    "colab": {
      "name": "filter_low_device_count_data.ipynb",
      "provenance": [],
      "mount_file_id": "1Ch981zvlFjopp2CywceSlVWkDwlYiiHA",
      "authorship_tag": "ABX9TyOVD7vbuR/2gY/mHBcUvyQy",
      "include_colab_link": true
    },
    "kernelspec": {
      "name": "python3",
      "display_name": "Python 3"
    }
  },
  "cells": [
    {
      "cell_type": "markdown",
      "metadata": {
        "id": "view-in-github",
        "colab_type": "text"
      },
      "source": [
        "<a href=\"https://colab.research.google.com/github/wenjunsun/Covid-19-analysis-with-uw-ubicomp/blob/master/data_and_pre-processing/filter_low_device_count_data.ipynb\" target=\"_parent\"><img src=\"https://colab.research.google.com/assets/colab-badge.svg\" alt=\"Open In Colab\"/></a>"
      ]
    },
    {
      "cell_type": "markdown",
      "metadata": {
        "id": "fCgtPJMBOd8_",
        "colab_type": "text"
      },
      "source": [
        "# In this notebook we want to clean our data a little bit, since some counties data have really low device_count, they might be noise in the data, and we want to get rid of these data."
      ]
    },
    {
      "cell_type": "markdown",
      "metadata": {
        "id": "1iyx3vB3tznc",
        "colab_type": "text"
      },
      "source": [
        "## 1. load old dataset"
      ]
    },
    {
      "cell_type": "code",
      "metadata": {
        "id": "bwcegCooMW3F",
        "colab_type": "code",
        "colab": {
          "base_uri": "https://localhost:8080/",
          "height": 34
        },
        "outputId": "490ad5d4-f028-45c3-9a1a-9d00467ca4ed"
      },
      "source": [
        "# before doing this connect colab to google drive.\n",
        "ls"
      ],
      "execution_count": 1,
      "outputs": [
        {
          "output_type": "stream",
          "text": [
            "\u001b[0m\u001b[01;34mdrive\u001b[0m/  \u001b[01;34msample_data\u001b[0m/\n"
          ],
          "name": "stdout"
        }
      ]
    },
    {
      "cell_type": "code",
      "metadata": {
        "id": "ndVFHoR0McSM",
        "colab_type": "code",
        "colab": {
          "base_uri": "https://localhost:8080/",
          "height": 34
        },
        "outputId": "b3a7dba5-43b3-4a81-bb09-a71110be9f6e"
      },
      "source": [
        "# go to the place on my google drive that stores the data\n",
        "cd drive/My\\ Drive/data"
      ],
      "execution_count": 2,
      "outputs": [
        {
          "output_type": "stream",
          "text": [
            "/content/drive/My Drive/data\n"
          ],
          "name": "stdout"
        }
      ]
    },
    {
      "cell_type": "code",
      "metadata": {
        "id": "ZPZ1OjGlMesb",
        "colab_type": "code",
        "colab": {}
      },
      "source": [
        "import pandas as pd\n",
        "import numpy as np\n",
        "import matplotlib.pyplot as plt"
      ],
      "execution_count": 4,
      "outputs": []
    },
    {
      "cell_type": "code",
      "metadata": {
        "id": "yXMhe-yFMllO",
        "colab_type": "code",
        "colab": {}
      },
      "source": [
        "# agg_social_dist_2 data includes data about each county on each date,\n",
        "# including the counties without shelter in place order.\n",
        "data = pd.read_csv(\"agg_social_dist_2.csv\")"
      ],
      "execution_count": 5,
      "outputs": []
    },
    {
      "cell_type": "code",
      "metadata": {
        "id": "0Fe2YqnyMtwZ",
        "colab_type": "code",
        "colab": {
          "base_uri": "https://localhost:8080/",
          "height": 34
        },
        "outputId": "1fcc981b-381c-4578-d479-6120af7871e4"
      },
      "source": [
        "data.shape"
      ],
      "execution_count": 7,
      "outputs": [
        {
          "output_type": "execute_result",
          "data": {
            "text/plain": [
              "(414853, 19)"
            ]
          },
          "metadata": {
            "tags": []
          },
          "execution_count": 7
        }
      ]
    },
    {
      "cell_type": "code",
      "metadata": {
        "id": "-T8kZ06pmAZ3",
        "colab_type": "code",
        "colab": {
          "base_uri": "https://localhost:8080/",
          "height": 377
        },
        "outputId": "8e9234bc-72d0-4bd7-fbf3-38c59f394553"
      },
      "source": [
        "data.head()"
      ],
      "execution_count": 25,
      "outputs": [
        {
          "output_type": "execute_result",
          "data": {
            "text/html": [
              "<div>\n",
              "<style scoped>\n",
              "    .dataframe tbody tr th:only-of-type {\n",
              "        vertical-align: middle;\n",
              "    }\n",
              "\n",
              "    .dataframe tbody tr th {\n",
              "        vertical-align: top;\n",
              "    }\n",
              "\n",
              "    .dataframe thead th {\n",
              "        text-align: right;\n",
              "    }\n",
              "</style>\n",
              "<table border=\"1\" class=\"dataframe\">\n",
              "  <thead>\n",
              "    <tr style=\"text-align: right;\">\n",
              "      <th></th>\n",
              "      <th>date_range_start</th>\n",
              "      <th>state</th>\n",
              "      <th>state_code</th>\n",
              "      <th>cnamelong</th>\n",
              "      <th>county_code</th>\n",
              "      <th>days_since_first_case</th>\n",
              "      <th>days_since_shelter</th>\n",
              "      <th>candidate_device_count</th>\n",
              "      <th>device_count</th>\n",
              "      <th>completely_home_device_count</th>\n",
              "      <th>part_time_work_behavior_devices</th>\n",
              "      <th>full_time_work_behavior_devices</th>\n",
              "      <th>delivery_behavior_devices</th>\n",
              "      <th>median_home_dwell_time</th>\n",
              "      <th>median_non_home_dwell_time</th>\n",
              "      <th>median_percentage_time_home</th>\n",
              "      <th>distance_traveled_from_home</th>\n",
              "      <th>Date - first case</th>\n",
              "      <th>Date - shelter in place</th>\n",
              "    </tr>\n",
              "  </thead>\n",
              "  <tbody>\n",
              "    <tr>\n",
              "      <th>0</th>\n",
              "      <td>2020-01-01T00:00:00+10:00</td>\n",
              "      <td>66.0</td>\n",
              "      <td>GU</td>\n",
              "      <td>Guam</td>\n",
              "      <td>66010</td>\n",
              "      <td>-75.0</td>\n",
              "      <td>NaN</td>\n",
              "      <td>0.0</td>\n",
              "      <td>310</td>\n",
              "      <td>98</td>\n",
              "      <td>41</td>\n",
              "      <td>72</td>\n",
              "      <td>0.0</td>\n",
              "      <td>395.312903</td>\n",
              "      <td>NaN</td>\n",
              "      <td>NaN</td>\n",
              "      <td>3.722158e+06</td>\n",
              "      <td>2020-03-16</td>\n",
              "      <td>NaN</td>\n",
              "    </tr>\n",
              "    <tr>\n",
              "      <th>1</th>\n",
              "      <td>2020-01-01T00:00:00+10:00</td>\n",
              "      <td>69.0</td>\n",
              "      <td>MP</td>\n",
              "      <td>Rota Municipality</td>\n",
              "      <td>69100</td>\n",
              "      <td>-90.0</td>\n",
              "      <td>NaN</td>\n",
              "      <td>0.0</td>\n",
              "      <td>8</td>\n",
              "      <td>1</td>\n",
              "      <td>1</td>\n",
              "      <td>1</td>\n",
              "      <td>0.0</td>\n",
              "      <td>1069.000000</td>\n",
              "      <td>NaN</td>\n",
              "      <td>NaN</td>\n",
              "      <td>7.430000e+02</td>\n",
              "      <td>2020-03-31</td>\n",
              "      <td>NaN</td>\n",
              "    </tr>\n",
              "    <tr>\n",
              "      <th>2</th>\n",
              "      <td>2020-01-01T00:00:00+10:00</td>\n",
              "      <td>69.0</td>\n",
              "      <td>MP</td>\n",
              "      <td>Saipan Municipality</td>\n",
              "      <td>69110</td>\n",
              "      <td>-90.0</td>\n",
              "      <td>NaN</td>\n",
              "      <td>0.0</td>\n",
              "      <td>303</td>\n",
              "      <td>121</td>\n",
              "      <td>33</td>\n",
              "      <td>35</td>\n",
              "      <td>0.0</td>\n",
              "      <td>779.036304</td>\n",
              "      <td>NaN</td>\n",
              "      <td>NaN</td>\n",
              "      <td>NaN</td>\n",
              "      <td>2020-03-31</td>\n",
              "      <td>NaN</td>\n",
              "    </tr>\n",
              "    <tr>\n",
              "      <th>3</th>\n",
              "      <td>2020-01-01T00:00:00+10:00</td>\n",
              "      <td>69.0</td>\n",
              "      <td>MP</td>\n",
              "      <td>Tinian Municipality</td>\n",
              "      <td>69120</td>\n",
              "      <td>-90.0</td>\n",
              "      <td>NaN</td>\n",
              "      <td>0.0</td>\n",
              "      <td>12</td>\n",
              "      <td>1</td>\n",
              "      <td>1</td>\n",
              "      <td>3</td>\n",
              "      <td>0.0</td>\n",
              "      <td>0.000000</td>\n",
              "      <td>NaN</td>\n",
              "      <td>NaN</td>\n",
              "      <td>2.156500e+04</td>\n",
              "      <td>2020-03-31</td>\n",
              "      <td>NaN</td>\n",
              "    </tr>\n",
              "    <tr>\n",
              "      <th>4</th>\n",
              "      <td>2020-01-01T00:00:00-04:00</td>\n",
              "      <td>23.0</td>\n",
              "      <td>ME</td>\n",
              "      <td>Aroostook County</td>\n",
              "      <td>23003</td>\n",
              "      <td>-93.0</td>\n",
              "      <td>-91.0</td>\n",
              "      <td>0.0</td>\n",
              "      <td>56</td>\n",
              "      <td>20</td>\n",
              "      <td>5</td>\n",
              "      <td>7</td>\n",
              "      <td>0.0</td>\n",
              "      <td>477.000000</td>\n",
              "      <td>NaN</td>\n",
              "      <td>NaN</td>\n",
              "      <td>2.278000e+04</td>\n",
              "      <td>2020-04-03</td>\n",
              "      <td>2020-04-01 00:00:00</td>\n",
              "    </tr>\n",
              "  </tbody>\n",
              "</table>\n",
              "</div>"
            ],
            "text/plain": [
              "            date_range_start  state  ... Date - first case Date - shelter in place\n",
              "0  2020-01-01T00:00:00+10:00   66.0  ...        2020-03-16                     NaN\n",
              "1  2020-01-01T00:00:00+10:00   69.0  ...        2020-03-31                     NaN\n",
              "2  2020-01-01T00:00:00+10:00   69.0  ...        2020-03-31                     NaN\n",
              "3  2020-01-01T00:00:00+10:00   69.0  ...        2020-03-31                     NaN\n",
              "4  2020-01-01T00:00:00-04:00   23.0  ...        2020-04-03     2020-04-01 00:00:00\n",
              "\n",
              "[5 rows x 19 columns]"
            ]
          },
          "metadata": {
            "tags": []
          },
          "execution_count": 25
        }
      ]
    },
    {
      "cell_type": "markdown",
      "metadata": {
        "id": "zKup74iBt1m8",
        "colab_type": "text"
      },
      "source": [
        "## 2. look at distribution of device_counts of some counties"
      ]
    },
    {
      "cell_type": "code",
      "metadata": {
        "id": "_T9h-dAXtCZr",
        "colab_type": "code",
        "colab": {
          "base_uri": "https://localhost:8080/",
          "height": 221
        },
        "outputId": "3a05962f-179f-47f9-8827-3770c241dfad"
      },
      "source": [
        "# Guam county's county_code = 66010.\n",
        "data[data['county_code'] == 66010]['device_count'].values"
      ],
      "execution_count": 71,
      "outputs": [
        {
          "output_type": "execute_result",
          "data": {
            "text/plain": [
              "array([ 310, 4382, 4376, 4311, 4284, 4368, 4232, 4269, 4252, 4240, 4252,\n",
              "       4158, 4241, 4150, 4138, 4145, 4107, 4094, 4039, 4060, 4084, 4003,\n",
              "       3982, 4074, 3965, 3917, 4017, 3967, 3899, 3904, 3845, 4494, 4564,\n",
              "       4476, 2871,  310,  261,  279,  253,  286,  257,  238,  256,  224,\n",
              "        225,  217,  189,  199,  258,  270,  255,  278,  230,  242,  258,\n",
              "        257,  234,  310, 4131, 4747, 4703, 4740, 4642, 4622, 4637, 4608,\n",
              "       4550, 4503, 4511, 4474, 4477, 4435, 4493, 4464, 4311, 4467, 4299,\n",
              "       4286, 4304, 4181, 3896, 3933, 4095, 4103,  539,  244,  228,  227,\n",
              "        261,  254,  249,  410,  384,  330,  365,  349,  403,  279,  308,\n",
              "        295,  302,  215,  227,  216,  279,  248,  277,  254,  217,  222,\n",
              "        213,  224,  234,  236,  205,  263,  259,  272,  264,  301, 3591,\n",
              "       3939, 4077, 4107, 4085, 4023, 3955])"
            ]
          },
          "metadata": {
            "tags": []
          },
          "execution_count": 71
        }
      ]
    },
    {
      "cell_type": "code",
      "metadata": {
        "id": "F7RQs65cmYC2",
        "colab_type": "code",
        "colab": {
          "base_uri": "https://localhost:8080/",
          "height": 282
        },
        "outputId": "79b45418-0e79-49d0-e12e-5b775216ed66"
      },
      "source": [
        "# Guam's distribution of device_counts across 120 ish days\n",
        "data[data['county_code'] == 66010]['device_count'].hist(bins = 30)"
      ],
      "execution_count": 72,
      "outputs": [
        {
          "output_type": "execute_result",
          "data": {
            "text/plain": [
              "<matplotlib.axes._subplots.AxesSubplot at 0x7fe58341a630>"
            ]
          },
          "metadata": {
            "tags": []
          },
          "execution_count": 72
        },
        {
          "output_type": "display_data",
          "data": {
            "image/png": "[encoded data removed]",
            "text/plain": [
              "<Figure size 432x288 with 1 Axes>"
            ]
          },
          "metadata": {
            "tags": [],
            "needs_background": "light"
          }
        }
      ]
    },
    {
      "cell_type": "markdown",
      "metadata": {
        "id": "9gkPnQCutJ3F",
        "colab_type": "text"
      },
      "source": [
        "we can see that Guam's distribution of device_counts is bimodel, clustering around 4000 and 300. This might be noise in data - sometimes less devices are counted? (don't really know how this piece of data is really collected in real life)"
      ]
    },
    {
      "cell_type": "code",
      "metadata": {
        "id": "F3wyDq40o8uk",
        "colab_type": "code",
        "colab": {
          "base_uri": "https://localhost:8080/",
          "height": 282
        },
        "outputId": "5f0e4978-f4e1-4ce2-88ab-66ece723d1c2"
      },
      "source": [
        "# King County Seattle has county_code of 53033\n",
        "data[data['county_code'] == 53033]['device_count'].hist(bins = 30)"
      ],
      "execution_count": 60,
      "outputs": [
        {
          "output_type": "execute_result",
          "data": {
            "text/plain": [
              "<matplotlib.axes._subplots.AxesSubplot at 0x7fe5823f9c88>"
            ]
          },
          "metadata": {
            "tags": []
          },
          "execution_count": 60
        },
        {
          "output_type": "display_data",
          "data": {
            "image/png": "[encoded data removed]",
            "text/plain": [
              "<Figure size 432x288 with 1 Axes>"
            ]
          },
          "metadata": {
            "tags": [],
            "needs_background": "light"
          }
        }
      ]
    },
    {
      "cell_type": "markdown",
      "metadata": {
        "id": "gYr2ayIkuUFH",
        "colab_type": "text"
      },
      "source": [
        "We see that king county, seattle's distribution is way better, approximately normal, the measuring of device_count in this county is less noisy than in Guam."
      ]
    },
    {
      "cell_type": "markdown",
      "metadata": {
        "id": "K8Y6b33Xud1f",
        "colab_type": "text"
      },
      "source": [
        "Look at distribution of all device_count across all dates."
      ]
    },
    {
      "cell_type": "code",
      "metadata": {
        "id": "EMUqOemQniNd",
        "colab_type": "code",
        "colab": {
          "base_uri": "https://localhost:8080/",
          "height": 285
        },
        "outputId": "4cb4f72f-f996-4303-b4cb-57e654577412"
      },
      "source": [
        "data['device_count'].hist(bins = 25)"
      ],
      "execution_count": 73,
      "outputs": [
        {
          "output_type": "execute_result",
          "data": {
            "text/plain": [
              "<matplotlib.axes._subplots.AxesSubplot at 0x7fe582217390>"
            ]
          },
          "metadata": {
            "tags": []
          },
          "execution_count": 73
        },
        {
          "output_type": "display_data",
          "data": {
            "image/png": "[encoded data removed]",
            "text/plain": [
              "<Figure size 432x288 with 1 Axes>"
            ]
          },
          "metadata": {
            "tags": [],
            "needs_background": "light"
          }
        }
      ]
    },
    {
      "cell_type": "code",
      "metadata": {
        "id": "md616-__okvK",
        "colab_type": "code",
        "colab": {
          "base_uri": "https://localhost:8080/",
          "height": 282
        },
        "outputId": "37a33d5b-94c3-4eda-a41e-4ecf3ef680aa"
      },
      "source": [
        "# look at distribution of device_count < 4100\n",
        "data[data['device_count'] < 4100]['device_count'].hist(bins=50)"
      ],
      "execution_count": 74,
      "outputs": [
        {
          "output_type": "execute_result",
          "data": {
            "text/plain": [
              "<matplotlib.axes._subplots.AxesSubplot at 0x7fe5821c4390>"
            ]
          },
          "metadata": {
            "tags": []
          },
          "execution_count": 74
        },
        {
          "output_type": "display_data",
          "data": {
            "image/png": "[encoded data removed]",
            "text/plain": [
              "<Figure size 432x288 with 1 Axes>"
            ]
          },
          "metadata": {
            "tags": [],
            "needs_background": "light"
          }
        }
      ]
    },
    {
      "cell_type": "markdown",
      "metadata": {
        "id": "Dhu0hsM4u1kQ",
        "colab_type": "text"
      },
      "source": [
        "We see a lot of county data have really low device_count by the above histogram. Let's make a choice of **filtering out all the county data that have $\\le$ 200 device_counts**, because they might be unreliable."
      ]
    },
    {
      "cell_type": "code",
      "metadata": {
        "id": "AhL5SH_9oqnz",
        "colab_type": "code",
        "colab": {
          "base_uri": "https://localhost:8080/",
          "height": 34
        },
        "outputId": "d443c161-b29f-4b6d-f3ee-32f86edf89c7"
      },
      "source": [
        "# there are 30000 data points with less than 200 device_count.\n",
        "data[data['device_count'] <= 200].shape[0]"
      ],
      "execution_count": 69,
      "outputs": [
        {
          "output_type": "execute_result",
          "data": {
            "text/plain": [
              "32949"
            ]
          },
          "metadata": {
            "tags": []
          },
          "execution_count": 69
        }
      ]
    },
    {
      "cell_type": "markdown",
      "metadata": {
        "id": "xjMtJoW2vVJ7",
        "colab_type": "text"
      },
      "source": [
        "## 3. filter data."
      ]
    },
    {
      "cell_type": "code",
      "metadata": {
        "id": "275CoZuPq4eZ",
        "colab_type": "code",
        "colab": {}
      },
      "source": [
        "data = data[data['device_count'] > 200]"
      ],
      "execution_count": 75,
      "outputs": []
    },
    {
      "cell_type": "code",
      "metadata": {
        "id": "aBv9_xt_vjnm",
        "colab_type": "code",
        "colab": {
          "base_uri": "https://localhost:8080/",
          "height": 34
        },
        "outputId": "62d0105b-ebed-44c7-dca2-d8b1ef50a615"
      },
      "source": [
        "data.shape"
      ],
      "execution_count": 76,
      "outputs": [
        {
          "output_type": "execute_result",
          "data": {
            "text/plain": [
              "(381904, 19)"
            ]
          },
          "metadata": {
            "tags": []
          },
          "execution_count": 76
        }
      ]
    },
    {
      "cell_type": "code",
      "metadata": {
        "id": "TeAVEBMOvm2C",
        "colab_type": "code",
        "colab": {}
      },
      "source": [
        "# save to another csv file.\n",
        "data.to_csv(\"agg_social_dist_withuot_low_device_count\", index=False)"
      ],
      "execution_count": 78,
      "outputs": []
    }
  ]
}