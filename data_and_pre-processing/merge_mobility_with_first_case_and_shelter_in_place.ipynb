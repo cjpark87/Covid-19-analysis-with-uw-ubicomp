{
  "nbformat": 4,
  "nbformat_minor": 0,
  "metadata": {
    "colab": {
      "name": "merge_mobility_with_first_case_and_shelter_in_place.ipynb",
      "provenance": [],
      "collapsed_sections": [
        "5uR4CF73OLHO",
        "Od49w1P6QSUN",
        "SEwymZEoZkKm"
      ],
      "toc_visible": true,
      "mount_file_id": "1-193qd0lnnqDC2zDhbqRXWz-NkHTK2Ja",
      "authorship_tag": "ABX9TyO5ZuZ4f7l89a+IgptOrvq7",
      "include_colab_link": true
    },
    "kernelspec": {
      "name": "python3",
      "display_name": "Python 3"
    }
  },
  "cells": [
    {
      "cell_type": "markdown",
      "metadata": {
        "id": "view-in-github",
        "colab_type": "text"
      },
      "source": [
        "<a href=\"https://colab.research.google.com/github/wenjunsun/Covid-19-analysis-with-uw-ubicomp/blob/master/data_and_pre-processing/merge_mobility_with_first_case_and_shelter_in_place.ipynb\" target=\"_parent\"><img src=\"https://colab.research.google.com/assets/colab-badge.svg\" alt=\"Open In Colab\"/></a>"
      ]
    },
    {
      "cell_type": "markdown",
      "metadata": {
        "id": "5uR4CF73OLHO",
        "colab_type": "text"
      },
      "source": [
        "# Mount drive / go to working directory\n",
        "---\n",
        "Mount my drive so I can read/write data from my drive. (which is good, since UW google drive has 1TB storage?)"
      ]
    },
    {
      "cell_type": "code",
      "metadata": {
        "id": "esYKBZTF5A5X",
        "colab_type": "code",
        "colab": {
          "base_uri": "https://localhost:8080/",
          "height": 122
        },
        "outputId": "c95694ef-0932-4552-a84b-6ab8ba93b485"
      },
      "source": [
        "from google.colab import drive\n",
        "drive.mount('/gdrive')"
      ],
      "execution_count": null,
      "outputs": [
        {
          "output_type": "stream",
          "text": [
            "Go to this URL in a browser: https://accounts.google.com/o/oauth2/auth?client_id=947318989803-6bn6qk8qdgf4n4g3pfee6491hc0brc4i.apps.googleusercontent.com&redirect_uri=urn%3aietf%3awg%3aoauth%3a2.0%3aoob&response_type=code&scope=email%20https%3a%2f%2fwww.googleapis.com%2fauth%2fdocs.test%20https%3a%2f%2fwww.googleapis.com%2fauth%2fdrive%20https%3a%2f%2fwww.googleapis.com%2fauth%2fdrive.photos.readonly%20https%3a%2f%2fwww.googleapis.com%2fauth%2fpeopleapi.readonly\n",
            "\n",
            "Enter your authorization code:\n",
            "··········\n",
            "Mounted at /gdrive\n"
          ],
          "name": "stdout"
        }
      ]
    },
    {
      "cell_type": "markdown",
      "metadata": {
        "id": "avclC_vFQIwE",
        "colab_type": "text"
      },
      "source": [
        "Go to my working directory."
      ]
    },
    {
      "cell_type": "code",
      "metadata": {
        "id": "9Sq4NJkc5OVb",
        "colab_type": "code",
        "colab": {
          "base_uri": "https://localhost:8080/",
          "height": 34
        },
        "outputId": "69514504-4c46-48fc-b538-e07f96372284"
      },
      "source": [
        "ls"
      ],
      "execution_count": null,
      "outputs": [
        {
          "output_type": "stream",
          "text": [
            "\u001b[0m\u001b[01;34mdrive\u001b[0m/  \u001b[01;34msample_data\u001b[0m/\n"
          ],
          "name": "stdout"
        }
      ]
    },
    {
      "cell_type": "code",
      "metadata": {
        "id": "AQhUYSmr5CAS",
        "colab_type": "code",
        "colab": {
          "base_uri": "https://localhost:8080/",
          "height": 34
        },
        "outputId": "80522100-5c41-4a39-f664-ee2e06a42707"
      },
      "source": [
        "cd drive/My\\ Drive/COVID\\ 19\\ data\\ analysis"
      ],
      "execution_count": null,
      "outputs": [
        {
          "output_type": "stream",
          "text": [
            "/content/drive/My Drive/COVID 19 data analysis\n"
          ],
          "name": "stdout"
        }
      ]
    },
    {
      "cell_type": "code",
      "metadata": {
        "id": "p5x2KqAVWUp-",
        "colab_type": "code",
        "colab": {
          "base_uri": "https://localhost:8080/",
          "height": 102
        },
        "outputId": "fcceb82c-82e1-4d76-c162-8bac56768e2c"
      },
      "source": [
        "ls"
      ],
      "execution_count": null,
      "outputs": [
        {
          "output_type": "stream",
          "text": [
            "'Copy of COVID-19 US state policy database.csv'\n",
            " days_since.csv\n",
            " merge_mobility_with_first_case_and_shelter_in_place.ipynb\n",
            " socia_dist_with_shelter_date_and_first_case\n",
            " social_dist_all_trimmed.csv\n"
          ],
          "name": "stdout"
        }
      ]
    },
    {
      "cell_type": "markdown",
      "metadata": {
        "id": "Od49w1P6QSUN",
        "colab_type": "text"
      },
      "source": [
        "# read and explore mobility data"
      ]
    },
    {
      "cell_type": "code",
      "metadata": {
        "id": "XNw2gAvk5b8w",
        "colab_type": "code",
        "colab": {}
      },
      "source": [
        "import pandas as pd"
      ],
      "execution_count": null,
      "outputs": []
    },
    {
      "cell_type": "code",
      "metadata": {
        "id": "lDhSfNH9rYiY",
        "colab_type": "code",
        "colab": {}
      },
      "source": [
        "import numpy as np"
      ],
      "execution_count": null,
      "outputs": []
    },
    {
      "cell_type": "code",
      "metadata": {
        "id": "Od-mMs9Z5eti",
        "colab_type": "code",
        "colab": {}
      },
      "source": [
        "data = pd.read_csv(\"social_dist_all_trimmed.csv\")"
      ],
      "execution_count": null,
      "outputs": []
    },
    {
      "cell_type": "markdown",
      "metadata": {
        "id": "em34xZIeRGMt",
        "colab_type": "text"
      },
      "source": [
        "Took about $1$ minute to read mobility data from disk, which is not bad considering its size."
      ]
    },
    {
      "cell_type": "code",
      "metadata": {
        "id": "uX7hOdbZ5m2u",
        "colab_type": "code",
        "colab": {
          "base_uri": "https://localhost:8080/",
          "height": 34
        },
        "outputId": "623145be-9d62-4cb4-91ed-4d965928360f"
      },
      "source": [
        "data.shape"
      ],
      "execution_count": null,
      "outputs": [
        {
          "output_type": "execute_result",
          "data": {
            "text/plain": [
              "(27850773, 18)"
            ]
          },
          "metadata": {
            "tags": []
          },
          "execution_count": 6
        }
      ]
    },
    {
      "cell_type": "markdown",
      "metadata": {
        "id": "igoQeQKdQiBP",
        "colab_type": "text"
      },
      "source": [
        "so we have $27,850,773$ data points, which is pretty large! we have $18$ features/columns, which is pretty standard"
      ]
    },
    {
      "cell_type": "code",
      "metadata": {
        "id": "G9pHSXMp6jmE",
        "colab_type": "code",
        "colab": {
          "base_uri": "https://localhost:8080/",
          "height": 411
        },
        "outputId": "8b130ffe-0d4d-4255-8ee8-f29ee0ebcc73"
      },
      "source": [
        "data.head()"
      ],
      "execution_count": null,
      "outputs": [
        {
          "output_type": "execute_result",
          "data": {
            "text/html": [
              "<div>\n",
              "<style scoped>\n",
              "    .dataframe tbody tr th:only-of-type {\n",
              "        vertical-align: middle;\n",
              "    }\n",
              "\n",
              "    .dataframe tbody tr th {\n",
              "        vertical-align: top;\n",
              "    }\n",
              "\n",
              "    .dataframe thead th {\n",
              "        text-align: right;\n",
              "    }\n",
              "</style>\n",
              "<table border=\"1\" class=\"dataframe\">\n",
              "  <thead>\n",
              "    <tr style=\"text-align: right;\">\n",
              "      <th></th>\n",
              "      <th>Unnamed: 0</th>\n",
              "      <th>date_range_start</th>\n",
              "      <th>date_range_end</th>\n",
              "      <th>state</th>\n",
              "      <th>state_code</th>\n",
              "      <th>cnamelong</th>\n",
              "      <th>county_code</th>\n",
              "      <th>origin_census_block_group</th>\n",
              "      <th>candidate_device_count</th>\n",
              "      <th>device_count</th>\n",
              "      <th>completely_home_device_count</th>\n",
              "      <th>part_time_work_behavior_devices</th>\n",
              "      <th>full_time_work_behavior_devices</th>\n",
              "      <th>delivery_behavior_devices</th>\n",
              "      <th>median_home_dwell_time</th>\n",
              "      <th>median_non_home_dwell_time</th>\n",
              "      <th>median_percentage_time_home</th>\n",
              "      <th>distance_traveled_from_home</th>\n",
              "    </tr>\n",
              "  </thead>\n",
              "  <tbody>\n",
              "    <tr>\n",
              "      <th>0</th>\n",
              "      <td>0</td>\n",
              "      <td>2020-01-01T00:00:00-06:00</td>\n",
              "      <td>2020-01-02T00:00:00-06:00</td>\n",
              "      <td>1.0</td>\n",
              "      <td>AL</td>\n",
              "      <td>Calhoun County</td>\n",
              "      <td>1015</td>\n",
              "      <td>10150007002</td>\n",
              "      <td>NaN</td>\n",
              "      <td>80</td>\n",
              "      <td>25</td>\n",
              "      <td>5</td>\n",
              "      <td>6</td>\n",
              "      <td>NaN</td>\n",
              "      <td>752</td>\n",
              "      <td>NaN</td>\n",
              "      <td>NaN</td>\n",
              "      <td>5431.0</td>\n",
              "    </tr>\n",
              "    <tr>\n",
              "      <th>1</th>\n",
              "      <td>1</td>\n",
              "      <td>2020-01-01T00:00:00-05:00</td>\n",
              "      <td>2020-01-02T00:00:00-05:00</td>\n",
              "      <td>1.0</td>\n",
              "      <td>AL</td>\n",
              "      <td>Cleburne County</td>\n",
              "      <td>1029</td>\n",
              "      <td>10299598001</td>\n",
              "      <td>NaN</td>\n",
              "      <td>156</td>\n",
              "      <td>39</td>\n",
              "      <td>10</td>\n",
              "      <td>17</td>\n",
              "      <td>NaN</td>\n",
              "      <td>797</td>\n",
              "      <td>NaN</td>\n",
              "      <td>NaN</td>\n",
              "      <td>15016.0</td>\n",
              "    </tr>\n",
              "    <tr>\n",
              "      <th>2</th>\n",
              "      <td>2</td>\n",
              "      <td>2020-01-01T00:00:00-06:00</td>\n",
              "      <td>2020-01-02T00:00:00-06:00</td>\n",
              "      <td>1.0</td>\n",
              "      <td>AL</td>\n",
              "      <td>Cleburne County</td>\n",
              "      <td>1029</td>\n",
              "      <td>10299598001</td>\n",
              "      <td>NaN</td>\n",
              "      <td>156</td>\n",
              "      <td>39</td>\n",
              "      <td>10</td>\n",
              "      <td>17</td>\n",
              "      <td>NaN</td>\n",
              "      <td>797</td>\n",
              "      <td>NaN</td>\n",
              "      <td>NaN</td>\n",
              "      <td>15016.0</td>\n",
              "    </tr>\n",
              "    <tr>\n",
              "      <th>3</th>\n",
              "      <td>3</td>\n",
              "      <td>2020-01-01T00:00:00-06:00</td>\n",
              "      <td>2020-01-02T00:00:00-06:00</td>\n",
              "      <td>1.0</td>\n",
              "      <td>AL</td>\n",
              "      <td>Jefferson County</td>\n",
              "      <td>1073</td>\n",
              "      <td>10730109006</td>\n",
              "      <td>NaN</td>\n",
              "      <td>38</td>\n",
              "      <td>14</td>\n",
              "      <td>2</td>\n",
              "      <td>6</td>\n",
              "      <td>NaN</td>\n",
              "      <td>713</td>\n",
              "      <td>NaN</td>\n",
              "      <td>NaN</td>\n",
              "      <td>7419.0</td>\n",
              "    </tr>\n",
              "    <tr>\n",
              "      <th>4</th>\n",
              "      <td>4</td>\n",
              "      <td>2020-01-01T00:00:00-06:00</td>\n",
              "      <td>2020-01-02T00:00:00-06:00</td>\n",
              "      <td>1.0</td>\n",
              "      <td>AL</td>\n",
              "      <td>Tuscaloosa County</td>\n",
              "      <td>1125</td>\n",
              "      <td>11250103023</td>\n",
              "      <td>NaN</td>\n",
              "      <td>131</td>\n",
              "      <td>30</td>\n",
              "      <td>13</td>\n",
              "      <td>31</td>\n",
              "      <td>NaN</td>\n",
              "      <td>750</td>\n",
              "      <td>NaN</td>\n",
              "      <td>NaN</td>\n",
              "      <td>11979.0</td>\n",
              "    </tr>\n",
              "  </tbody>\n",
              "</table>\n",
              "</div>"
            ],
            "text/plain": [
              "   Unnamed: 0  ... distance_traveled_from_home\n",
              "0           0  ...                      5431.0\n",
              "1           1  ...                     15016.0\n",
              "2           2  ...                     15016.0\n",
              "3           3  ...                      7419.0\n",
              "4           4  ...                     11979.0\n",
              "\n",
              "[5 rows x 18 columns]"
            ]
          },
          "metadata": {
            "tags": []
          },
          "execution_count": 7
        }
      ]
    },
    {
      "cell_type": "code",
      "metadata": {
        "id": "aKh1EUr1p8Ou",
        "colab_type": "code",
        "colab": {
          "base_uri": "https://localhost:8080/",
          "height": 340
        },
        "outputId": "beddac8f-3044-4524-9775-fb8cc77e32b9"
      },
      "source": [
        "data.dtypes"
      ],
      "execution_count": null,
      "outputs": [
        {
          "output_type": "execute_result",
          "data": {
            "text/plain": [
              "Unnamed: 0                           int64\n",
              "date_range_start                    object\n",
              "date_range_end                      object\n",
              "state                              float64\n",
              "state_code                          object\n",
              "cnamelong                           object\n",
              "county_code                          int64\n",
              "origin_census_block_group            int64\n",
              "candidate_device_count             float64\n",
              "device_count                         int64\n",
              "completely_home_device_count         int64\n",
              "part_time_work_behavior_devices      int64\n",
              "full_time_work_behavior_devices      int64\n",
              "delivery_behavior_devices          float64\n",
              "median_home_dwell_time               int64\n",
              "median_non_home_dwell_time         float64\n",
              "median_percentage_time_home        float64\n",
              "distance_traveled_from_home        float64\n",
              "dtype: object"
            ]
          },
          "metadata": {
            "tags": []
          },
          "execution_count": 19
        }
      ]
    },
    {
      "cell_type": "markdown",
      "metadata": {
        "id": "5By8Y2mGRh1f",
        "colab_type": "text"
      },
      "source": [
        "My interpretation of meaning of each column:\n",
        "\n",
        "---\n",
        "\n",
        "1.   date_range_start: the start date of a record\n",
        "2.   date_range_end: the end date of a record\n",
        "3.   state: the code for the state (interestingly it is a float, not an int)\n",
        "4.   state_code: the text/string version of state code\n",
        "5. cnamelong: county name as strings\n",
        "6. county_code: unique itentifier of a county. (different states can have a county which might be named the same but they are geographically different. - Texas and Washington both have a King County)\n",
        "7. origin_census_block_group: the identifier of a subgroup within each a county whose data we record at a daily basis (**about how many people are in one subgroup?**)\n",
        "8. Candidate_device_count: not sure what this is? \n",
        "9. device_count: the total amount of devices that this subgroup has\n",
        "10. completely_home_device_count: how many devices completely stayed at home between date_range_start and date_range_end\n",
        "11. .... the rest are pretty straightforward. all are concerning certain behavior of the user.\n",
        "12. distance_traveled_from_home: **is this the mean distance? what unit is it in? miles? kilometer?** \n",
        "\n",
        "\n"
      ]
    },
    {
      "cell_type": "code",
      "metadata": {
        "id": "BUkx0CColpXG",
        "colab_type": "code",
        "colab": {
          "base_uri": "https://localhost:8080/",
          "height": 796
        },
        "outputId": "545a0abc-3fe0-47e9-e902-5a0c8f71db5c"
      },
      "source": [
        "# selecting all data with county_code = 1015, and origin_census_block_group == 10150007002\n",
        "# want to know whether we have data on multiple dates with a single county\n",
        "data.loc[(data['county_code'] == 1015) & (data[\"origin_census_block_group\"] == 10150007002)]"
      ],
      "execution_count": null,
      "outputs": [
        {
          "output_type": "execute_result",
          "data": {
            "text/html": [
              "<div>\n",
              "<style scoped>\n",
              "    .dataframe tbody tr th:only-of-type {\n",
              "        vertical-align: middle;\n",
              "    }\n",
              "\n",
              "    .dataframe tbody tr th {\n",
              "        vertical-align: top;\n",
              "    }\n",
              "\n",
              "    .dataframe thead th {\n",
              "        text-align: right;\n",
              "    }\n",
              "</style>\n",
              "<table border=\"1\" class=\"dataframe\">\n",
              "  <thead>\n",
              "    <tr style=\"text-align: right;\">\n",
              "      <th></th>\n",
              "      <th>Unnamed: 0</th>\n",
              "      <th>date_range_start</th>\n",
              "      <th>date_range_end</th>\n",
              "      <th>state</th>\n",
              "      <th>state_code</th>\n",
              "      <th>cnamelong</th>\n",
              "      <th>county_code</th>\n",
              "      <th>origin_census_block_group</th>\n",
              "      <th>candidate_device_count</th>\n",
              "      <th>device_count</th>\n",
              "      <th>completely_home_device_count</th>\n",
              "      <th>part_time_work_behavior_devices</th>\n",
              "      <th>full_time_work_behavior_devices</th>\n",
              "      <th>delivery_behavior_devices</th>\n",
              "      <th>median_home_dwell_time</th>\n",
              "      <th>median_non_home_dwell_time</th>\n",
              "      <th>median_percentage_time_home</th>\n",
              "      <th>distance_traveled_from_home</th>\n",
              "    </tr>\n",
              "  </thead>\n",
              "  <tbody>\n",
              "    <tr>\n",
              "      <th>0</th>\n",
              "      <td>0</td>\n",
              "      <td>2020-01-01T00:00:00-06:00</td>\n",
              "      <td>2020-01-02T00:00:00-06:00</td>\n",
              "      <td>1.0</td>\n",
              "      <td>AL</td>\n",
              "      <td>Calhoun County</td>\n",
              "      <td>1015</td>\n",
              "      <td>10150007002</td>\n",
              "      <td>NaN</td>\n",
              "      <td>80</td>\n",
              "      <td>25</td>\n",
              "      <td>5</td>\n",
              "      <td>6</td>\n",
              "      <td>NaN</td>\n",
              "      <td>752</td>\n",
              "      <td>NaN</td>\n",
              "      <td>NaN</td>\n",
              "      <td>5431.0</td>\n",
              "    </tr>\n",
              "    <tr>\n",
              "      <th>219247</th>\n",
              "      <td>219247</td>\n",
              "      <td>2020-01-02T00:00:00-06:00</td>\n",
              "      <td>2020-01-03T00:00:00-06:00</td>\n",
              "      <td>1.0</td>\n",
              "      <td>AL</td>\n",
              "      <td>Calhoun County</td>\n",
              "      <td>1015</td>\n",
              "      <td>10150007002</td>\n",
              "      <td>NaN</td>\n",
              "      <td>79</td>\n",
              "      <td>19</td>\n",
              "      <td>10</td>\n",
              "      <td>6</td>\n",
              "      <td>NaN</td>\n",
              "      <td>732</td>\n",
              "      <td>NaN</td>\n",
              "      <td>NaN</td>\n",
              "      <td>7059.0</td>\n",
              "    </tr>\n",
              "    <tr>\n",
              "      <th>438903</th>\n",
              "      <td>438903</td>\n",
              "      <td>2020-01-03T00:00:00-06:00</td>\n",
              "      <td>2020-01-04T00:00:00-06:00</td>\n",
              "      <td>1.0</td>\n",
              "      <td>AL</td>\n",
              "      <td>Calhoun County</td>\n",
              "      <td>1015</td>\n",
              "      <td>10150007002</td>\n",
              "      <td>NaN</td>\n",
              "      <td>74</td>\n",
              "      <td>17</td>\n",
              "      <td>9</td>\n",
              "      <td>10</td>\n",
              "      <td>NaN</td>\n",
              "      <td>835</td>\n",
              "      <td>NaN</td>\n",
              "      <td>NaN</td>\n",
              "      <td>6583.0</td>\n",
              "    </tr>\n",
              "    <tr>\n",
              "      <th>658056</th>\n",
              "      <td>658056</td>\n",
              "      <td>2020-01-04T00:00:00-06:00</td>\n",
              "      <td>2020-01-05T00:00:00-06:00</td>\n",
              "      <td>1.0</td>\n",
              "      <td>AL</td>\n",
              "      <td>Calhoun County</td>\n",
              "      <td>1015</td>\n",
              "      <td>10150007002</td>\n",
              "      <td>NaN</td>\n",
              "      <td>78</td>\n",
              "      <td>18</td>\n",
              "      <td>6</td>\n",
              "      <td>14</td>\n",
              "      <td>NaN</td>\n",
              "      <td>846</td>\n",
              "      <td>NaN</td>\n",
              "      <td>NaN</td>\n",
              "      <td>5732.0</td>\n",
              "    </tr>\n",
              "    <tr>\n",
              "      <th>877408</th>\n",
              "      <td>877408</td>\n",
              "      <td>2020-01-05T00:00:00-06:00</td>\n",
              "      <td>2020-01-06T00:00:00-06:00</td>\n",
              "      <td>1.0</td>\n",
              "      <td>AL</td>\n",
              "      <td>Calhoun County</td>\n",
              "      <td>1015</td>\n",
              "      <td>10150007002</td>\n",
              "      <td>NaN</td>\n",
              "      <td>81</td>\n",
              "      <td>24</td>\n",
              "      <td>8</td>\n",
              "      <td>9</td>\n",
              "      <td>NaN</td>\n",
              "      <td>585</td>\n",
              "      <td>NaN</td>\n",
              "      <td>NaN</td>\n",
              "      <td>5058.0</td>\n",
              "    </tr>\n",
              "    <tr>\n",
              "      <th>...</th>\n",
              "      <td>...</td>\n",
              "      <td>...</td>\n",
              "      <td>...</td>\n",
              "      <td>...</td>\n",
              "      <td>...</td>\n",
              "      <td>...</td>\n",
              "      <td>...</td>\n",
              "      <td>...</td>\n",
              "      <td>...</td>\n",
              "      <td>...</td>\n",
              "      <td>...</td>\n",
              "      <td>...</td>\n",
              "      <td>...</td>\n",
              "      <td>...</td>\n",
              "      <td>...</td>\n",
              "      <td>...</td>\n",
              "      <td>...</td>\n",
              "      <td>...</td>\n",
              "    </tr>\n",
              "    <tr>\n",
              "      <th>26756187</th>\n",
              "      <td>26756187</td>\n",
              "      <td>2020-05-02T00:00:00-05:00</td>\n",
              "      <td>2020-05-03T00:00:00-05:00</td>\n",
              "      <td>1.0</td>\n",
              "      <td>AL</td>\n",
              "      <td>Calhoun County</td>\n",
              "      <td>1015</td>\n",
              "      <td>10150007002</td>\n",
              "      <td>160.0</td>\n",
              "      <td>80</td>\n",
              "      <td>24</td>\n",
              "      <td>2</td>\n",
              "      <td>1</td>\n",
              "      <td>5.0</td>\n",
              "      <td>794</td>\n",
              "      <td>63.0</td>\n",
              "      <td>90.0</td>\n",
              "      <td>7155.0</td>\n",
              "    </tr>\n",
              "    <tr>\n",
              "      <th>26974977</th>\n",
              "      <td>26974977</td>\n",
              "      <td>2020-05-03T00:00:00-05:00</td>\n",
              "      <td>2020-05-04T00:00:00-05:00</td>\n",
              "      <td>1.0</td>\n",
              "      <td>AL</td>\n",
              "      <td>Calhoun County</td>\n",
              "      <td>1015</td>\n",
              "      <td>10150007002</td>\n",
              "      <td>160.0</td>\n",
              "      <td>76</td>\n",
              "      <td>30</td>\n",
              "      <td>3</td>\n",
              "      <td>1</td>\n",
              "      <td>4.0</td>\n",
              "      <td>474</td>\n",
              "      <td>51.0</td>\n",
              "      <td>94.0</td>\n",
              "      <td>5869.0</td>\n",
              "    </tr>\n",
              "    <tr>\n",
              "      <th>27194618</th>\n",
              "      <td>27194618</td>\n",
              "      <td>2020-05-04T00:00:00-05:00</td>\n",
              "      <td>2020-05-05T00:00:00-05:00</td>\n",
              "      <td>1.0</td>\n",
              "      <td>AL</td>\n",
              "      <td>Calhoun County</td>\n",
              "      <td>1015</td>\n",
              "      <td>10150007002</td>\n",
              "      <td>160.0</td>\n",
              "      <td>85</td>\n",
              "      <td>26</td>\n",
              "      <td>8</td>\n",
              "      <td>1</td>\n",
              "      <td>6.0</td>\n",
              "      <td>736</td>\n",
              "      <td>111.0</td>\n",
              "      <td>79.0</td>\n",
              "      <td>8833.0</td>\n",
              "    </tr>\n",
              "    <tr>\n",
              "      <th>27414390</th>\n",
              "      <td>27414390</td>\n",
              "      <td>2020-05-05T00:00:00-05:00</td>\n",
              "      <td>2020-05-06T00:00:00-05:00</td>\n",
              "      <td>1.0</td>\n",
              "      <td>AL</td>\n",
              "      <td>Calhoun County</td>\n",
              "      <td>1015</td>\n",
              "      <td>10150007002</td>\n",
              "      <td>160.0</td>\n",
              "      <td>86</td>\n",
              "      <td>27</td>\n",
              "      <td>7</td>\n",
              "      <td>2</td>\n",
              "      <td>1.0</td>\n",
              "      <td>484</td>\n",
              "      <td>63.0</td>\n",
              "      <td>68.0</td>\n",
              "      <td>7288.0</td>\n",
              "    </tr>\n",
              "    <tr>\n",
              "      <th>27632228</th>\n",
              "      <td>27632228</td>\n",
              "      <td>2020-05-06T00:00:00-05:00</td>\n",
              "      <td>2020-05-07T00:00:00-05:00</td>\n",
              "      <td>1.0</td>\n",
              "      <td>AL</td>\n",
              "      <td>Calhoun County</td>\n",
              "      <td>1015</td>\n",
              "      <td>10150007002</td>\n",
              "      <td>160.0</td>\n",
              "      <td>92</td>\n",
              "      <td>26</td>\n",
              "      <td>9</td>\n",
              "      <td>7</td>\n",
              "      <td>3.0</td>\n",
              "      <td>594</td>\n",
              "      <td>40.0</td>\n",
              "      <td>82.0</td>\n",
              "      <td>5334.0</td>\n",
              "    </tr>\n",
              "  </tbody>\n",
              "</table>\n",
              "<p>127 rows × 18 columns</p>\n",
              "</div>"
            ],
            "text/plain": [
              "          Unnamed: 0  ... distance_traveled_from_home\n",
              "0                  0  ...                      5431.0\n",
              "219247        219247  ...                      7059.0\n",
              "438903        438903  ...                      6583.0\n",
              "658056        658056  ...                      5732.0\n",
              "877408        877408  ...                      5058.0\n",
              "...              ...  ...                         ...\n",
              "26756187    26756187  ...                      7155.0\n",
              "26974977    26974977  ...                      5869.0\n",
              "27194618    27194618  ...                      8833.0\n",
              "27414390    27414390  ...                      7288.0\n",
              "27632228    27632228  ...                      5334.0\n",
              "\n",
              "[127 rows x 18 columns]"
            ]
          },
          "metadata": {
            "tags": []
          },
          "execution_count": 15
        }
      ]
    },
    {
      "cell_type": "markdown",
      "metadata": {
        "id": "FaKMZ0W0XM1B",
        "colab_type": "text"
      },
      "source": [
        "So it turns out we have 127 records for subgroup 10150007002 in Calhoun County in AL from 1/1 - 5/6,\n",
        "so we pretty much have data on every single date, which is good."
      ]
    },
    {
      "cell_type": "code",
      "metadata": {
        "id": "4Np-qfiHmZEi",
        "colab_type": "code",
        "colab": {
          "base_uri": "https://localhost:8080/",
          "height": 317
        },
        "outputId": "0f5f723f-8fe5-4436-d879-64b08a50b444"
      },
      "source": [
        "data.describe()"
      ],
      "execution_count": null,
      "outputs": [
        {
          "output_type": "execute_result",
          "data": {
            "text/html": [
              "<div>\n",
              "<style scoped>\n",
              "    .dataframe tbody tr th:only-of-type {\n",
              "        vertical-align: middle;\n",
              "    }\n",
              "\n",
              "    .dataframe tbody tr th {\n",
              "        vertical-align: top;\n",
              "    }\n",
              "\n",
              "    .dataframe thead th {\n",
              "        text-align: right;\n",
              "    }\n",
              "</style>\n",
              "<table border=\"1\" class=\"dataframe\">\n",
              "  <thead>\n",
              "    <tr style=\"text-align: right;\">\n",
              "      <th></th>\n",
              "      <th>Unnamed: 0</th>\n",
              "      <th>state</th>\n",
              "      <th>county_code</th>\n",
              "      <th>origin_census_block_group</th>\n",
              "      <th>candidate_device_count</th>\n",
              "      <th>device_count</th>\n",
              "      <th>completely_home_device_count</th>\n",
              "      <th>part_time_work_behavior_devices</th>\n",
              "      <th>full_time_work_behavior_devices</th>\n",
              "      <th>delivery_behavior_devices</th>\n",
              "      <th>median_home_dwell_time</th>\n",
              "      <th>median_non_home_dwell_time</th>\n",
              "      <th>median_percentage_time_home</th>\n",
              "      <th>distance_traveled_from_home</th>\n",
              "    </tr>\n",
              "  </thead>\n",
              "  <tbody>\n",
              "    <tr>\n",
              "      <th>count</th>\n",
              "      <td>2.785077e+07</td>\n",
              "      <td>2.784923e+07</td>\n",
              "      <td>2.785077e+07</td>\n",
              "      <td>2.785077e+07</td>\n",
              "      <td>2.630768e+06</td>\n",
              "      <td>2.785077e+07</td>\n",
              "      <td>2.785077e+07</td>\n",
              "      <td>2.785077e+07</td>\n",
              "      <td>2.785077e+07</td>\n",
              "      <td>2.630768e+06</td>\n",
              "      <td>2.785077e+07</td>\n",
              "      <td>2.630768e+06</td>\n",
              "      <td>2.630768e+06</td>\n",
              "      <td>2.784974e+07</td>\n",
              "    </tr>\n",
              "    <tr>\n",
              "      <th>mean</th>\n",
              "      <td>1.392539e+07</td>\n",
              "      <td>2.857096e+01</td>\n",
              "      <td>2.865712e+04</td>\n",
              "      <td>2.865738e+11</td>\n",
              "      <td>1.913218e+02</td>\n",
              "      <td>8.204511e+01</td>\n",
              "      <td>2.378491e+01</td>\n",
              "      <td>7.387478e+00</td>\n",
              "      <td>1.206451e+01</td>\n",
              "      <td>2.128911e+00</td>\n",
              "      <td>7.046509e+02</td>\n",
              "      <td>4.298741e+01</td>\n",
              "      <td>9.067655e+01</td>\n",
              "      <td>9.924732e+03</td>\n",
              "    </tr>\n",
              "    <tr>\n",
              "      <th>std</th>\n",
              "      <td>8.039826e+06</td>\n",
              "      <td>1.634822e+01</td>\n",
              "      <td>1.637034e+04</td>\n",
              "      <td>1.637035e+11</td>\n",
              "      <td>2.419811e+02</td>\n",
              "      <td>9.490513e+01</td>\n",
              "      <td>2.883520e+01</td>\n",
              "      <td>1.164719e+01</td>\n",
              "      <td>2.349079e+01</td>\n",
              "      <td>2.226417e+00</td>\n",
              "      <td>2.995802e+02</td>\n",
              "      <td>7.619468e+01</td>\n",
              "      <td>1.647726e+01</td>\n",
              "      <td>6.152035e+04</td>\n",
              "    </tr>\n",
              "    <tr>\n",
              "      <th>min</th>\n",
              "      <td>0.000000e+00</td>\n",
              "      <td>1.000000e+00</td>\n",
              "      <td>1.001000e+03</td>\n",
              "      <td>1.001020e+10</td>\n",
              "      <td>6.000000e+00</td>\n",
              "      <td>5.000000e+00</td>\n",
              "      <td>1.000000e+00</td>\n",
              "      <td>1.000000e+00</td>\n",
              "      <td>1.000000e+00</td>\n",
              "      <td>1.000000e+00</td>\n",
              "      <td>0.000000e+00</td>\n",
              "      <td>0.000000e+00</td>\n",
              "      <td>0.000000e+00</td>\n",
              "      <td>3.200000e+01</td>\n",
              "    </tr>\n",
              "    <tr>\n",
              "      <th>25%</th>\n",
              "      <td>6.962693e+06</td>\n",
              "      <td>1.300000e+01</td>\n",
              "      <td>1.312100e+04</td>\n",
              "      <td>1.312101e+11</td>\n",
              "      <td>8.900000e+01</td>\n",
              "      <td>4.000000e+01</td>\n",
              "      <td>1.000000e+01</td>\n",
              "      <td>2.000000e+00</td>\n",
              "      <td>4.000000e+00</td>\n",
              "      <td>1.000000e+00</td>\n",
              "      <td>5.830000e+02</td>\n",
              "      <td>5.000000e+00</td>\n",
              "      <td>8.900000e+01</td>\n",
              "      <td>3.922000e+03</td>\n",
              "    </tr>\n",
              "    <tr>\n",
              "      <th>50%</th>\n",
              "      <td>1.392539e+07</td>\n",
              "      <td>2.800000e+01</td>\n",
              "      <td>2.816300e+04</td>\n",
              "      <td>2.816395e+11</td>\n",
              "      <td>1.350000e+02</td>\n",
              "      <td>6.200000e+01</td>\n",
              "      <td>1.800000e+01</td>\n",
              "      <td>5.000000e+00</td>\n",
              "      <td>8.000000e+00</td>\n",
              "      <td>1.000000e+00</td>\n",
              "      <td>7.470000e+02</td>\n",
              "      <td>2.200000e+01</td>\n",
              "      <td>9.700000e+01</td>\n",
              "      <td>6.023000e+03</td>\n",
              "    </tr>\n",
              "    <tr>\n",
              "      <th>75%</th>\n",
              "      <td>2.088808e+07</td>\n",
              "      <td>4.200000e+01</td>\n",
              "      <td>4.200300e+04</td>\n",
              "      <td>4.200348e+11</td>\n",
              "      <td>2.110000e+02</td>\n",
              "      <td>9.800000e+01</td>\n",
              "      <td>2.900000e+01</td>\n",
              "      <td>9.000000e+00</td>\n",
              "      <td>1.500000e+01</td>\n",
              "      <td>2.000000e+00</td>\n",
              "      <td>8.750000e+02</td>\n",
              "      <td>5.500000e+01</td>\n",
              "      <td>9.900000e+01</td>\n",
              "      <td>9.337000e+03</td>\n",
              "    </tr>\n",
              "    <tr>\n",
              "      <th>max</th>\n",
              "      <td>2.785077e+07</td>\n",
              "      <td>7.800000e+01</td>\n",
              "      <td>7.803000e+04</td>\n",
              "      <td>7.803099e+11</td>\n",
              "      <td>1.744600e+04</td>\n",
              "      <td>6.235500e+04</td>\n",
              "      <td>1.251000e+04</td>\n",
              "      <td>8.978000e+03</td>\n",
              "      <td>2.753400e+04</td>\n",
              "      <td>8.000000e+01</td>\n",
              "      <td>2.113000e+03</td>\n",
              "      <td>1.419000e+03</td>\n",
              "      <td>1.000000e+02</td>\n",
              "      <td>1.344236e+07</td>\n",
              "    </tr>\n",
              "  </tbody>\n",
              "</table>\n",
              "</div>"
            ],
            "text/plain": [
              "         Unnamed: 0  ...  distance_traveled_from_home\n",
              "count  2.785077e+07  ...                 2.784974e+07\n",
              "mean   1.392539e+07  ...                 9.924732e+03\n",
              "std    8.039826e+06  ...                 6.152035e+04\n",
              "min    0.000000e+00  ...                 3.200000e+01\n",
              "25%    6.962693e+06  ...                 3.922000e+03\n",
              "50%    1.392539e+07  ...                 6.023000e+03\n",
              "75%    2.088808e+07  ...                 9.337000e+03\n",
              "max    2.785077e+07  ...                 1.344236e+07\n",
              "\n",
              "[8 rows x 14 columns]"
            ]
          },
          "metadata": {
            "tags": []
          },
          "execution_count": 16
        }
      ]
    },
    {
      "cell_type": "code",
      "metadata": {
        "id": "0t8_4GetXiRi",
        "colab_type": "code",
        "colab": {
          "base_uri": "https://localhost:8080/",
          "height": 340
        },
        "outputId": "223ec1a6-4c96-4078-ca08-72d5eca9fcc4"
      },
      "source": [
        "data.isnull().sum()"
      ],
      "execution_count": null,
      "outputs": [
        {
          "output_type": "execute_result",
          "data": {
            "text/plain": [
              "Unnamed: 0                                0\n",
              "date_range_start                          0\n",
              "date_range_end                            0\n",
              "state                                  1539\n",
              "state_code                             1539\n",
              "cnamelong                              1539\n",
              "county_code                               0\n",
              "origin_census_block_group                 0\n",
              "candidate_device_count             25220005\n",
              "device_count                              0\n",
              "completely_home_device_count              0\n",
              "part_time_work_behavior_devices           0\n",
              "full_time_work_behavior_devices           0\n",
              "delivery_behavior_devices          25220005\n",
              "median_home_dwell_time                    0\n",
              "median_non_home_dwell_time         25220005\n",
              "median_percentage_time_home        25220005\n",
              "distance_traveled_from_home            1033\n",
              "dtype: int64"
            ]
          },
          "metadata": {
            "tags": []
          },
          "execution_count": 17
        }
      ]
    },
    {
      "cell_type": "markdown",
      "metadata": {
        "id": "QIVAucuaUCUq",
        "colab_type": "text"
      },
      "source": [
        "some notes:\n",
        "\n",
        "---\n",
        "1. seems like each record spans about a day, from the first 5 records I see. Don't know if this is true for other records. Maybe some of them span 2-3 days?\n",
        "could check myself but not familar with date objects as of now. Maybe can return\n",
        "to this later\n",
        "2. we have about 80 devices on each subgroup on average, which might be trouble if we have say 10000 people in each subgroup. Then our sample size iw way too small to be able to generalize. Also our analysis will be biased toward people who can afford a phone. (some poor people don't have phones). Do hobos have phones? Are they excluded from our study?\n",
        "3. median stay at home percentage time = 90%, which is pretty high!\n",
        "4. there are 1539 records without state name? why did that happen? althought it is a pretty small portion - 1539/ 20 million\n",
        "5. Good news is we have 0 nulls on county_code, which might help us merge data on county_code column.\n",
        "6. we have a lot of nulls on median_non_home_dwell_time, which is weird, isn't it just 24 hours - median_home_dewll_time? And we have full data on median_home_dwell_time. But anyways, these two columns are highly correlated, so we just need to use one in our analysis "
      ]
    },
    {
      "cell_type": "markdown",
      "metadata": {
        "id": "SEwymZEoZkKm",
        "colab_type": "text"
      },
      "source": [
        "# explore date_since data"
      ]
    },
    {
      "cell_type": "code",
      "metadata": {
        "id": "xZaz9bSQsUTb",
        "colab_type": "code",
        "colab": {}
      },
      "source": [
        "days_since_data = pd.read_csv(\"days_since.csv\")"
      ],
      "execution_count": null,
      "outputs": []
    },
    {
      "cell_type": "code",
      "metadata": {
        "id": "dTIJtgzSx54y",
        "colab_type": "code",
        "colab": {
          "base_uri": "https://localhost:8080/",
          "height": 306
        },
        "outputId": "9bc706d8-1fca-4117-a59a-36323dd62dd3"
      },
      "source": [
        "days_since_data.head()"
      ],
      "execution_count": null,
      "outputs": [
        {
          "output_type": "execute_result",
          "data": {
            "text/html": [
              "<div>\n",
              "<style scoped>\n",
              "    .dataframe tbody tr th:only-of-type {\n",
              "        vertical-align: middle;\n",
              "    }\n",
              "\n",
              "    .dataframe tbody tr th {\n",
              "        vertical-align: top;\n",
              "    }\n",
              "\n",
              "    .dataframe thead th {\n",
              "        text-align: right;\n",
              "    }\n",
              "</style>\n",
              "<table border=\"1\" class=\"dataframe\">\n",
              "  <thead>\n",
              "    <tr style=\"text-align: right;\">\n",
              "      <th></th>\n",
              "      <th>Unnamed: 0</th>\n",
              "      <th>Date - first case</th>\n",
              "      <th>Date - first death</th>\n",
              "      <th>Date - reopening</th>\n",
              "      <th>Date - shelter in place</th>\n",
              "      <th>Date - shelter in place ends</th>\n",
              "      <th>cnamelong</th>\n",
              "      <th>county</th>\n",
              "      <th>county_code</th>\n",
              "      <th>state</th>\n",
              "      <th>state_code</th>\n",
              "      <th>state_name</th>\n",
              "    </tr>\n",
              "  </thead>\n",
              "  <tbody>\n",
              "    <tr>\n",
              "      <th>0</th>\n",
              "      <td>0</td>\n",
              "      <td>2020-03-24</td>\n",
              "      <td>2020-04-07</td>\n",
              "      <td>2020-04-30</td>\n",
              "      <td>2020-04-04 00:00:00</td>\n",
              "      <td>2020-04-30</td>\n",
              "      <td>Autauga County</td>\n",
              "      <td>1.0</td>\n",
              "      <td>1001.0</td>\n",
              "      <td>1.0</td>\n",
              "      <td>AL</td>\n",
              "      <td>Alabama</td>\n",
              "    </tr>\n",
              "    <tr>\n",
              "      <th>1</th>\n",
              "      <td>1</td>\n",
              "      <td>2020-03-15</td>\n",
              "      <td>2020-03-29</td>\n",
              "      <td>2020-04-30</td>\n",
              "      <td>2020-04-04 00:00:00</td>\n",
              "      <td>2020-04-30</td>\n",
              "      <td>Baldwin County</td>\n",
              "      <td>3.0</td>\n",
              "      <td>1003.0</td>\n",
              "      <td>1.0</td>\n",
              "      <td>AL</td>\n",
              "      <td>Alabama</td>\n",
              "    </tr>\n",
              "    <tr>\n",
              "      <th>2</th>\n",
              "      <td>2</td>\n",
              "      <td>2020-04-03</td>\n",
              "      <td>2020-04-29</td>\n",
              "      <td>2020-04-30</td>\n",
              "      <td>2020-04-04 00:00:00</td>\n",
              "      <td>2020-04-30</td>\n",
              "      <td>Barbour County</td>\n",
              "      <td>5.0</td>\n",
              "      <td>1005.0</td>\n",
              "      <td>1.0</td>\n",
              "      <td>AL</td>\n",
              "      <td>Alabama</td>\n",
              "    </tr>\n",
              "    <tr>\n",
              "      <th>3</th>\n",
              "      <td>3</td>\n",
              "      <td>2020-03-30</td>\n",
              "      <td>2020-05-08</td>\n",
              "      <td>2020-04-30</td>\n",
              "      <td>2020-04-04 00:00:00</td>\n",
              "      <td>2020-04-30</td>\n",
              "      <td>Bibb County</td>\n",
              "      <td>7.0</td>\n",
              "      <td>1007.0</td>\n",
              "      <td>1.0</td>\n",
              "      <td>AL</td>\n",
              "      <td>Alabama</td>\n",
              "    </tr>\n",
              "    <tr>\n",
              "      <th>4</th>\n",
              "      <td>4</td>\n",
              "      <td>2020-03-25</td>\n",
              "      <td>2020-05-17</td>\n",
              "      <td>2020-04-30</td>\n",
              "      <td>2020-04-04 00:00:00</td>\n",
              "      <td>2020-04-30</td>\n",
              "      <td>Blount County</td>\n",
              "      <td>9.0</td>\n",
              "      <td>1009.0</td>\n",
              "      <td>1.0</td>\n",
              "      <td>AL</td>\n",
              "      <td>Alabama</td>\n",
              "    </tr>\n",
              "  </tbody>\n",
              "</table>\n",
              "</div>"
            ],
            "text/plain": [
              "   Unnamed: 0 Date - first case Date - first death  ... state state_code state_name\n",
              "0           0        2020-03-24         2020-04-07  ...   1.0         AL    Alabama\n",
              "1           1        2020-03-15         2020-03-29  ...   1.0         AL    Alabama\n",
              "2           2        2020-04-03         2020-04-29  ...   1.0         AL    Alabama\n",
              "3           3        2020-03-30         2020-05-08  ...   1.0         AL    Alabama\n",
              "4           4        2020-03-25         2020-05-17  ...   1.0         AL    Alabama\n",
              "\n",
              "[5 rows x 12 columns]"
            ]
          },
          "metadata": {
            "tags": []
          },
          "execution_count": 20
        }
      ]
    },
    {
      "cell_type": "code",
      "metadata": {
        "id": "JFZL_yQn0HxZ",
        "colab_type": "code",
        "colab": {
          "base_uri": "https://localhost:8080/",
          "height": 34
        },
        "outputId": "ee7318f2-bf9a-4cf1-f43d-0b5b894d8b29"
      },
      "source": [
        "days_since_data.shape"
      ],
      "execution_count": null,
      "outputs": [
        {
          "output_type": "execute_result",
          "data": {
            "text/plain": [
              "(3234, 12)"
            ]
          },
          "metadata": {
            "tags": []
          },
          "execution_count": 28
        }
      ]
    },
    {
      "cell_type": "code",
      "metadata": {
        "id": "1ZiPKeuz1eoc",
        "colab_type": "code",
        "colab": {
          "base_uri": "https://localhost:8080/",
          "height": 238
        },
        "outputId": "d3edf7d2-7c10-4590-b6df-bdd4c9d19486"
      },
      "source": [
        "days_since_data.dtypes"
      ],
      "execution_count": null,
      "outputs": [
        {
          "output_type": "execute_result",
          "data": {
            "text/plain": [
              "Unnamed: 0                        int64\n",
              "Date - first case                object\n",
              "Date - first death               object\n",
              "Date - reopening                 object\n",
              "Date - shelter in place          object\n",
              "Date - shelter in place ends     object\n",
              "cnamelong                        object\n",
              "county                          float64\n",
              "county_code                     float64\n",
              "state                           float64\n",
              "state_code                       object\n",
              "state_name                       object\n",
              "dtype: object"
            ]
          },
          "metadata": {
            "tags": []
          },
          "execution_count": 52
        }
      ]
    },
    {
      "cell_type": "markdown",
      "metadata": {
        "id": "B_JT2hf2a1QX",
        "colab_type": "text"
      },
      "source": [
        "interestingly county_code here is a float, which is different from the int type from mobility data set"
      ]
    },
    {
      "cell_type": "code",
      "metadata": {
        "id": "ZOPjGbyRx8cA",
        "colab_type": "code",
        "colab": {
          "base_uri": "https://localhost:8080/",
          "height": 162
        },
        "outputId": "1b957327-1176-4eac-b47d-0f1d72dbfe7c"
      },
      "source": [
        "# want to see data on King County, (I live here!)\n",
        "days_since_data[days_since_data['cnamelong'] == \"King County\"]"
      ],
      "execution_count": null,
      "outputs": [
        {
          "output_type": "execute_result",
          "data": {
            "text/html": [
              "<div>\n",
              "<style scoped>\n",
              "    .dataframe tbody tr th:only-of-type {\n",
              "        vertical-align: middle;\n",
              "    }\n",
              "\n",
              "    .dataframe tbody tr th {\n",
              "        vertical-align: top;\n",
              "    }\n",
              "\n",
              "    .dataframe thead th {\n",
              "        text-align: right;\n",
              "    }\n",
              "</style>\n",
              "<table border=\"1\" class=\"dataframe\">\n",
              "  <thead>\n",
              "    <tr style=\"text-align: right;\">\n",
              "      <th></th>\n",
              "      <th>Unnamed: 0</th>\n",
              "      <th>Date - first case</th>\n",
              "      <th>Date - first death</th>\n",
              "      <th>Date - reopening</th>\n",
              "      <th>Date - shelter in place</th>\n",
              "      <th>Date - shelter in place ends</th>\n",
              "      <th>cnamelong</th>\n",
              "      <th>county</th>\n",
              "      <th>county_code</th>\n",
              "      <th>state</th>\n",
              "      <th>state_code</th>\n",
              "      <th>state_name</th>\n",
              "    </tr>\n",
              "  </thead>\n",
              "  <tbody>\n",
              "    <tr>\n",
              "      <th>2657</th>\n",
              "      <td>2657</td>\n",
              "      <td>NaN</td>\n",
              "      <td>NaN</td>\n",
              "      <td>2020-05-01</td>\n",
              "      <td>2020-04-02 00:00:00</td>\n",
              "      <td>NaN</td>\n",
              "      <td>King County</td>\n",
              "      <td>269.0</td>\n",
              "      <td>48269.0</td>\n",
              "      <td>48.0</td>\n",
              "      <td>TX</td>\n",
              "      <td>Texas</td>\n",
              "    </tr>\n",
              "    <tr>\n",
              "      <th>2970</th>\n",
              "      <td>2970</td>\n",
              "      <td>2020-01-22</td>\n",
              "      <td>2020-02-29</td>\n",
              "      <td>NaN</td>\n",
              "      <td>2020-03-23 00:00:00</td>\n",
              "      <td>NaN</td>\n",
              "      <td>King County</td>\n",
              "      <td>33.0</td>\n",
              "      <td>53033.0</td>\n",
              "      <td>53.0</td>\n",
              "      <td>WA</td>\n",
              "      <td>Washington</td>\n",
              "    </tr>\n",
              "  </tbody>\n",
              "</table>\n",
              "</div>"
            ],
            "text/plain": [
              "      Unnamed: 0 Date - first case  ... state_code  state_name\n",
              "2657        2657               NaN  ...         TX       Texas\n",
              "2970        2970        2020-01-22  ...         WA  Washington\n",
              "\n",
              "[2 rows x 12 columns]"
            ]
          },
          "metadata": {
            "tags": []
          },
          "execution_count": 22
        }
      ]
    },
    {
      "cell_type": "markdown",
      "metadata": {
        "id": "ihj5ys_OaGFx",
        "colab_type": "text"
      },
      "source": [
        "shelter in place date pretty accurage on my county at least - I remember vivdly in March when whole Washignton state is order to stay at home, which coincides with 3-23-2020 in our dataset."
      ]
    },
    {
      "cell_type": "code",
      "metadata": {
        "id": "IDnx-Nb2yDXX",
        "colab_type": "code",
        "colab": {
          "base_uri": "https://localhost:8080/",
          "height": 34
        },
        "outputId": "81cb3057-1f05-4e0f-bd9b-2d39e566fb96"
      },
      "source": [
        "# want to find out how many distinct county code are there\n",
        "len(set(list(days_since_data['county_code'])))"
      ],
      "execution_count": null,
      "outputs": [
        {
          "output_type": "execute_result",
          "data": {
            "text/plain": [
              "3234"
            ]
          },
          "metadata": {
            "tags": []
          },
          "execution_count": 27
        }
      ]
    },
    {
      "cell_type": "markdown",
      "metadata": {
        "id": "wsA4wY2AaiBX",
        "colab_type": "text"
      },
      "source": [
        "- So there are 3234 distinct counties, and we have 3234 data points, so each data point corresponds to exactly 1 county, which is good.\n",
        "- there are 3141 counties in America in 2014, so I think our data pretty much covers every county."
      ]
    },
    {
      "cell_type": "code",
      "metadata": {
        "id": "_K6RfH-rcThc",
        "colab_type": "code",
        "colab": {
          "base_uri": "https://localhost:8080/",
          "height": 238
        },
        "outputId": "94b1e211-7a8e-4776-9cfe-ed6367e82b14"
      },
      "source": [
        "days_since_data.isnull().sum()"
      ],
      "execution_count": null,
      "outputs": [
        {
          "output_type": "execute_result",
          "data": {
            "text/plain": [
              "Unnamed: 0                         0\n",
              "Date - first case                194\n",
              "Date - first death              1419\n",
              "Date - reopening                 464\n",
              "Date - shelter in place          518\n",
              "Date - shelter in place ends    1746\n",
              "cnamelong                          0\n",
              "county                             0\n",
              "county_code                        0\n",
              "state                              0\n",
              "state_code                         0\n",
              "state_name                         0\n",
              "dtype: int64"
            ]
          },
          "metadata": {
            "tags": []
          },
          "execution_count": 29
        }
      ]
    },
    {
      "cell_type": "markdown",
      "metadata": {
        "id": "ttwOgxqGcYub",
        "colab_type": "text"
      },
      "source": [
        "looks like we have about 5% of missing data on date of first case, and 15% missing date on date of shelter in place (some states never implemented stay at home orders.). We have about 50% missing data on first death and when shelter in place ends. (which makes sense since some counties are not reopenning yet)"
      ]
    },
    {
      "cell_type": "markdown",
      "metadata": {
        "id": "6MhlpxC2dBHL",
        "colab_type": "text"
      },
      "source": [
        "# Merge first case date and shelter in place date into mobility data set"
      ]
    },
    {
      "cell_type": "code",
      "metadata": {
        "id": "OP1vWLpe1ppV",
        "colab_type": "code",
        "colab": {}
      },
      "source": [
        "# these are the columns we want to insert to mobility data set\n",
        "days_since_data = days_since_data[['Date - first case', 'Date - shelter in place', 'county_code']]"
      ],
      "execution_count": null,
      "outputs": []
    },
    {
      "cell_type": "code",
      "metadata": {
        "id": "biU51SmB2mOH",
        "colab_type": "code",
        "colab": {}
      },
      "source": [
        "# need to convert type of county_code to int to match the type of county_code\n",
        "# in mobility data set\n",
        "days_since_data.county_code = days_since_data.county_code.astype(int)"
      ],
      "execution_count": null,
      "outputs": []
    },
    {
      "cell_type": "code",
      "metadata": {
        "id": "3uHTnduW35hZ",
        "colab_type": "code",
        "colab": {
          "base_uri": "https://localhost:8080/",
          "height": 419
        },
        "outputId": "e6f2f82a-9e72-4237-c06c-a166ed962622"
      },
      "source": [
        "days_since_data"
      ],
      "execution_count": null,
      "outputs": [
        {
          "output_type": "execute_result",
          "data": {
            "text/html": [
              "<div>\n",
              "<style scoped>\n",
              "    .dataframe tbody tr th:only-of-type {\n",
              "        vertical-align: middle;\n",
              "    }\n",
              "\n",
              "    .dataframe tbody tr th {\n",
              "        vertical-align: top;\n",
              "    }\n",
              "\n",
              "    .dataframe thead th {\n",
              "        text-align: right;\n",
              "    }\n",
              "</style>\n",
              "<table border=\"1\" class=\"dataframe\">\n",
              "  <thead>\n",
              "    <tr style=\"text-align: right;\">\n",
              "      <th></th>\n",
              "      <th>Date - first case</th>\n",
              "      <th>Date - shelter in place</th>\n",
              "      <th>county_code</th>\n",
              "    </tr>\n",
              "  </thead>\n",
              "  <tbody>\n",
              "    <tr>\n",
              "      <th>0</th>\n",
              "      <td>2020-03-24</td>\n",
              "      <td>2020-04-04 00:00:00</td>\n",
              "      <td>1001</td>\n",
              "    </tr>\n",
              "    <tr>\n",
              "      <th>1</th>\n",
              "      <td>2020-03-15</td>\n",
              "      <td>2020-04-04 00:00:00</td>\n",
              "      <td>1003</td>\n",
              "    </tr>\n",
              "    <tr>\n",
              "      <th>2</th>\n",
              "      <td>2020-04-03</td>\n",
              "      <td>2020-04-04 00:00:00</td>\n",
              "      <td>1005</td>\n",
              "    </tr>\n",
              "    <tr>\n",
              "      <th>3</th>\n",
              "      <td>2020-03-30</td>\n",
              "      <td>2020-04-04 00:00:00</td>\n",
              "      <td>1007</td>\n",
              "    </tr>\n",
              "    <tr>\n",
              "      <th>4</th>\n",
              "      <td>2020-03-25</td>\n",
              "      <td>2020-04-04 00:00:00</td>\n",
              "      <td>1009</td>\n",
              "    </tr>\n",
              "    <tr>\n",
              "      <th>...</th>\n",
              "      <td>...</td>\n",
              "      <td>...</td>\n",
              "      <td>...</td>\n",
              "    </tr>\n",
              "    <tr>\n",
              "      <th>3229</th>\n",
              "      <td>2020-03-16</td>\n",
              "      <td>2020-03-15 00:00:00</td>\n",
              "      <td>72151</td>\n",
              "    </tr>\n",
              "    <tr>\n",
              "      <th>3230</th>\n",
              "      <td>2020-03-16</td>\n",
              "      <td>2020-03-15 00:00:00</td>\n",
              "      <td>72153</td>\n",
              "    </tr>\n",
              "    <tr>\n",
              "      <th>3231</th>\n",
              "      <td>2020-03-16</td>\n",
              "      <td>NaN</td>\n",
              "      <td>78010</td>\n",
              "    </tr>\n",
              "    <tr>\n",
              "      <th>3232</th>\n",
              "      <td>2020-03-16</td>\n",
              "      <td>NaN</td>\n",
              "      <td>78020</td>\n",
              "    </tr>\n",
              "    <tr>\n",
              "      <th>3233</th>\n",
              "      <td>2020-03-16</td>\n",
              "      <td>NaN</td>\n",
              "      <td>78030</td>\n",
              "    </tr>\n",
              "  </tbody>\n",
              "</table>\n",
              "<p>3234 rows × 3 columns</p>\n",
              "</div>"
            ],
            "text/plain": [
              "     Date - first case Date - shelter in place  county_code\n",
              "0           2020-03-24     2020-04-04 00:00:00         1001\n",
              "1           2020-03-15     2020-04-04 00:00:00         1003\n",
              "2           2020-04-03     2020-04-04 00:00:00         1005\n",
              "3           2020-03-30     2020-04-04 00:00:00         1007\n",
              "4           2020-03-25     2020-04-04 00:00:00         1009\n",
              "...                ...                     ...          ...\n",
              "3229        2020-03-16     2020-03-15 00:00:00        72151\n",
              "3230        2020-03-16     2020-03-15 00:00:00        72153\n",
              "3231        2020-03-16                     NaN        78010\n",
              "3232        2020-03-16                     NaN        78020\n",
              "3233        2020-03-16                     NaN        78030\n",
              "\n",
              "[3234 rows x 3 columns]"
            ]
          },
          "metadata": {
            "tags": []
          },
          "execution_count": 10
        }
      ]
    },
    {
      "cell_type": "code",
      "metadata": {
        "id": "h3rFnOHZ0yNr",
        "colab_type": "code",
        "colab": {}
      },
      "source": [
        "data = pd.merge(data, days_since_data, how =\"left\", on=\"county_code\")"
      ],
      "execution_count": null,
      "outputs": []
    },
    {
      "cell_type": "code",
      "metadata": {
        "id": "KslO8ks112Az",
        "colab_type": "code",
        "colab": {
          "base_uri": "https://localhost:8080/",
          "height": 445
        },
        "outputId": "20619e42-d89b-4d08-8f91-e52f0d3c2209"
      },
      "source": [
        "data.head()"
      ],
      "execution_count": null,
      "outputs": [
        {
          "output_type": "execute_result",
          "data": {
            "text/html": [
              "<div>\n",
              "<style scoped>\n",
              "    .dataframe tbody tr th:only-of-type {\n",
              "        vertical-align: middle;\n",
              "    }\n",
              "\n",
              "    .dataframe tbody tr th {\n",
              "        vertical-align: top;\n",
              "    }\n",
              "\n",
              "    .dataframe thead th {\n",
              "        text-align: right;\n",
              "    }\n",
              "</style>\n",
              "<table border=\"1\" class=\"dataframe\">\n",
              "  <thead>\n",
              "    <tr style=\"text-align: right;\">\n",
              "      <th></th>\n",
              "      <th>Unnamed: 0</th>\n",
              "      <th>date_range_start</th>\n",
              "      <th>date_range_end</th>\n",
              "      <th>state</th>\n",
              "      <th>state_code</th>\n",
              "      <th>cnamelong</th>\n",
              "      <th>county_code</th>\n",
              "      <th>origin_census_block_group</th>\n",
              "      <th>candidate_device_count</th>\n",
              "      <th>device_count</th>\n",
              "      <th>completely_home_device_count</th>\n",
              "      <th>part_time_work_behavior_devices</th>\n",
              "      <th>full_time_work_behavior_devices</th>\n",
              "      <th>delivery_behavior_devices</th>\n",
              "      <th>median_home_dwell_time</th>\n",
              "      <th>median_non_home_dwell_time</th>\n",
              "      <th>median_percentage_time_home</th>\n",
              "      <th>distance_traveled_from_home</th>\n",
              "      <th>Date - first case</th>\n",
              "      <th>Date - shelter in place</th>\n",
              "    </tr>\n",
              "  </thead>\n",
              "  <tbody>\n",
              "    <tr>\n",
              "      <th>0</th>\n",
              "      <td>0</td>\n",
              "      <td>2020-01-01T00:00:00-06:00</td>\n",
              "      <td>2020-01-02T00:00:00-06:00</td>\n",
              "      <td>1.0</td>\n",
              "      <td>AL</td>\n",
              "      <td>Calhoun County</td>\n",
              "      <td>1015</td>\n",
              "      <td>10150007002</td>\n",
              "      <td>NaN</td>\n",
              "      <td>80</td>\n",
              "      <td>25</td>\n",
              "      <td>5</td>\n",
              "      <td>6</td>\n",
              "      <td>NaN</td>\n",
              "      <td>752</td>\n",
              "      <td>NaN</td>\n",
              "      <td>NaN</td>\n",
              "      <td>5431.0</td>\n",
              "      <td>2020-03-18</td>\n",
              "      <td>2020-04-04 00:00:00</td>\n",
              "    </tr>\n",
              "    <tr>\n",
              "      <th>1</th>\n",
              "      <td>1</td>\n",
              "      <td>2020-01-01T00:00:00-05:00</td>\n",
              "      <td>2020-01-02T00:00:00-05:00</td>\n",
              "      <td>1.0</td>\n",
              "      <td>AL</td>\n",
              "      <td>Cleburne County</td>\n",
              "      <td>1029</td>\n",
              "      <td>10299598001</td>\n",
              "      <td>NaN</td>\n",
              "      <td>156</td>\n",
              "      <td>39</td>\n",
              "      <td>10</td>\n",
              "      <td>17</td>\n",
              "      <td>NaN</td>\n",
              "      <td>797</td>\n",
              "      <td>NaN</td>\n",
              "      <td>NaN</td>\n",
              "      <td>15016.0</td>\n",
              "      <td>2020-03-25</td>\n",
              "      <td>2020-04-04 00:00:00</td>\n",
              "    </tr>\n",
              "    <tr>\n",
              "      <th>2</th>\n",
              "      <td>2</td>\n",
              "      <td>2020-01-01T00:00:00-06:00</td>\n",
              "      <td>2020-01-02T00:00:00-06:00</td>\n",
              "      <td>1.0</td>\n",
              "      <td>AL</td>\n",
              "      <td>Cleburne County</td>\n",
              "      <td>1029</td>\n",
              "      <td>10299598001</td>\n",
              "      <td>NaN</td>\n",
              "      <td>156</td>\n",
              "      <td>39</td>\n",
              "      <td>10</td>\n",
              "      <td>17</td>\n",
              "      <td>NaN</td>\n",
              "      <td>797</td>\n",
              "      <td>NaN</td>\n",
              "      <td>NaN</td>\n",
              "      <td>15016.0</td>\n",
              "      <td>2020-03-25</td>\n",
              "      <td>2020-04-04 00:00:00</td>\n",
              "    </tr>\n",
              "    <tr>\n",
              "      <th>3</th>\n",
              "      <td>3</td>\n",
              "      <td>2020-01-01T00:00:00-06:00</td>\n",
              "      <td>2020-01-02T00:00:00-06:00</td>\n",
              "      <td>1.0</td>\n",
              "      <td>AL</td>\n",
              "      <td>Jefferson County</td>\n",
              "      <td>1073</td>\n",
              "      <td>10730109006</td>\n",
              "      <td>NaN</td>\n",
              "      <td>38</td>\n",
              "      <td>14</td>\n",
              "      <td>2</td>\n",
              "      <td>6</td>\n",
              "      <td>NaN</td>\n",
              "      <td>713</td>\n",
              "      <td>NaN</td>\n",
              "      <td>NaN</td>\n",
              "      <td>7419.0</td>\n",
              "      <td>2020-03-13</td>\n",
              "      <td>2020-04-04 00:00:00</td>\n",
              "    </tr>\n",
              "    <tr>\n",
              "      <th>4</th>\n",
              "      <td>4</td>\n",
              "      <td>2020-01-01T00:00:00-06:00</td>\n",
              "      <td>2020-01-02T00:00:00-06:00</td>\n",
              "      <td>1.0</td>\n",
              "      <td>AL</td>\n",
              "      <td>Tuscaloosa County</td>\n",
              "      <td>1125</td>\n",
              "      <td>11250103023</td>\n",
              "      <td>NaN</td>\n",
              "      <td>131</td>\n",
              "      <td>30</td>\n",
              "      <td>13</td>\n",
              "      <td>31</td>\n",
              "      <td>NaN</td>\n",
              "      <td>750</td>\n",
              "      <td>NaN</td>\n",
              "      <td>NaN</td>\n",
              "      <td>11979.0</td>\n",
              "      <td>2020-03-14</td>\n",
              "      <td>2020-04-04 00:00:00</td>\n",
              "    </tr>\n",
              "  </tbody>\n",
              "</table>\n",
              "</div>"
            ],
            "text/plain": [
              "   Unnamed: 0  ... Date - shelter in place\n",
              "0           0  ...     2020-04-04 00:00:00\n",
              "1           1  ...     2020-04-04 00:00:00\n",
              "2           2  ...     2020-04-04 00:00:00\n",
              "3           3  ...     2020-04-04 00:00:00\n",
              "4           4  ...     2020-04-04 00:00:00\n",
              "\n",
              "[5 rows x 20 columns]"
            ]
          },
          "metadata": {
            "tags": []
          },
          "execution_count": 12
        }
      ]
    },
    {
      "cell_type": "code",
      "metadata": {
        "id": "0SdXSFZjeSpb",
        "colab_type": "code",
        "colab": {
          "base_uri": "https://localhost:8080/",
          "height": 34
        },
        "outputId": "6efa54cc-47ee-455c-8b3d-f9ac361aaecd"
      },
      "source": [
        "# now we have same amount of rows but 20 columns instead of 18\n",
        "data.shape"
      ],
      "execution_count": null,
      "outputs": [
        {
          "output_type": "execute_result",
          "data": {
            "text/plain": [
              "(27850773, 20)"
            ]
          },
          "metadata": {
            "tags": []
          },
          "execution_count": 14
        }
      ]
    },
    {
      "cell_type": "code",
      "metadata": {
        "id": "-JJJvQ6Egbxb",
        "colab_type": "code",
        "colab": {
          "base_uri": "https://localhost:8080/",
          "height": 173
        },
        "outputId": "c1a3818d-b6f5-4bd9-8197-ff1bc0500c62"
      },
      "source": [
        "# sanity check if merge really happened\n",
        "days_since_data[days_since_data['county_code'].isin([1015, 1029, 1073, 1125])]"
      ],
      "execution_count": null,
      "outputs": [
        {
          "output_type": "execute_result",
          "data": {
            "text/html": [
              "<div>\n",
              "<style scoped>\n",
              "    .dataframe tbody tr th:only-of-type {\n",
              "        vertical-align: middle;\n",
              "    }\n",
              "\n",
              "    .dataframe tbody tr th {\n",
              "        vertical-align: top;\n",
              "    }\n",
              "\n",
              "    .dataframe thead th {\n",
              "        text-align: right;\n",
              "    }\n",
              "</style>\n",
              "<table border=\"1\" class=\"dataframe\">\n",
              "  <thead>\n",
              "    <tr style=\"text-align: right;\">\n",
              "      <th></th>\n",
              "      <th>Date - first case</th>\n",
              "      <th>Date - shelter in place</th>\n",
              "      <th>county_code</th>\n",
              "    </tr>\n",
              "  </thead>\n",
              "  <tbody>\n",
              "    <tr>\n",
              "      <th>7</th>\n",
              "      <td>2020-03-18</td>\n",
              "      <td>2020-04-04 00:00:00</td>\n",
              "      <td>1015</td>\n",
              "    </tr>\n",
              "    <tr>\n",
              "      <th>14</th>\n",
              "      <td>2020-03-25</td>\n",
              "      <td>2020-04-04 00:00:00</td>\n",
              "      <td>1029</td>\n",
              "    </tr>\n",
              "    <tr>\n",
              "      <th>36</th>\n",
              "      <td>2020-03-13</td>\n",
              "      <td>2020-04-04 00:00:00</td>\n",
              "      <td>1073</td>\n",
              "    </tr>\n",
              "    <tr>\n",
              "      <th>62</th>\n",
              "      <td>2020-03-14</td>\n",
              "      <td>2020-04-04 00:00:00</td>\n",
              "      <td>1125</td>\n",
              "    </tr>\n",
              "  </tbody>\n",
              "</table>\n",
              "</div>"
            ],
            "text/plain": [
              "   Date - first case Date - shelter in place  county_code\n",
              "7         2020-03-18     2020-04-04 00:00:00         1015\n",
              "14        2020-03-25     2020-04-04 00:00:00         1029\n",
              "36        2020-03-13     2020-04-04 00:00:00         1073\n",
              "62        2020-03-14     2020-04-04 00:00:00         1125"
            ]
          },
          "metadata": {
            "tags": []
          },
          "execution_count": 17
        }
      ]
    },
    {
      "cell_type": "markdown",
      "metadata": {
        "id": "DlCxi5hahN2K",
        "colab_type": "text"
      },
      "source": [
        "these dates do match the ones appearing on the first 5 rows on our new data dataframe, so I think our merge is successful."
      ]
    },
    {
      "cell_type": "code",
      "metadata": {
        "id": "9i4lAbJQLiic",
        "colab_type": "code",
        "colab": {
          "base_uri": "https://localhost:8080/",
          "height": 374
        },
        "outputId": "ad377aaa-9618-4787-a3ed-4393e3543fa1"
      },
      "source": [
        "data.isna().sum()"
      ],
      "execution_count": null,
      "outputs": [
        {
          "output_type": "execute_result",
          "data": {
            "text/plain": [
              "Unnamed: 0                                0\n",
              "date_range_start                          0\n",
              "date_range_end                            0\n",
              "state                                  1539\n",
              "state_code                             1539\n",
              "cnamelong                              1539\n",
              "county_code                               0\n",
              "origin_census_block_group                 0\n",
              "candidate_device_count             25220005\n",
              "device_count                              0\n",
              "completely_home_device_count              0\n",
              "part_time_work_behavior_devices           0\n",
              "full_time_work_behavior_devices           0\n",
              "delivery_behavior_devices          25220005\n",
              "median_home_dwell_time                    0\n",
              "median_non_home_dwell_time         25220005\n",
              "median_percentage_time_home        25220005\n",
              "distance_traveled_from_home            1033\n",
              "Date - first case                    786199\n",
              "Date - shelter in place             1361452\n",
              "dtype: int64"
            ]
          },
          "metadata": {
            "tags": []
          },
          "execution_count": 18
        }
      ]
    },
    {
      "cell_type": "markdown",
      "metadata": {
        "id": "r0hsOhPjh_sm",
        "colab_type": "text"
      },
      "source": [
        "turns out we have a lot of missing values of first case date and shelter in place date when we merge. This seems like a good point to save our new merged data"
      ]
    },
    {
      "cell_type": "code",
      "metadata": {
        "id": "nPoDrCSe45E0",
        "colab_type": "code",
        "colab": {}
      },
      "source": [
        "data.to_csv(\"social_dist_with_dates\")"
      ],
      "execution_count": null,
      "outputs": []
    },
    {
      "cell_type": "markdown",
      "metadata": {
        "id": "s485aqzvlBsR",
        "colab_type": "text"
      },
      "source": [
        "check null values on first case date"
      ]
    },
    {
      "cell_type": "code",
      "metadata": {
        "id": "2LY1yboEK_1V",
        "colab_type": "code",
        "colab": {
          "base_uri": "https://localhost:8080/",
          "height": 445
        },
        "outputId": "eafaad5c-d75f-402d-c0ea-7d66f3c75b32"
      },
      "source": [
        "data[data.isnull()['Date - first case']].head()"
      ],
      "execution_count": null,
      "outputs": [
        {
          "output_type": "execute_result",
          "data": {
            "text/html": [
              "<div>\n",
              "<style scoped>\n",
              "    .dataframe tbody tr th:only-of-type {\n",
              "        vertical-align: middle;\n",
              "    }\n",
              "\n",
              "    .dataframe tbody tr th {\n",
              "        vertical-align: top;\n",
              "    }\n",
              "\n",
              "    .dataframe thead th {\n",
              "        text-align: right;\n",
              "    }\n",
              "</style>\n",
              "<table border=\"1\" class=\"dataframe\">\n",
              "  <thead>\n",
              "    <tr style=\"text-align: right;\">\n",
              "      <th></th>\n",
              "      <th>Unnamed: 0</th>\n",
              "      <th>date_range_start</th>\n",
              "      <th>date_range_end</th>\n",
              "      <th>state</th>\n",
              "      <th>state_code</th>\n",
              "      <th>cnamelong</th>\n",
              "      <th>county_code</th>\n",
              "      <th>origin_census_block_group</th>\n",
              "      <th>candidate_device_count</th>\n",
              "      <th>device_count</th>\n",
              "      <th>completely_home_device_count</th>\n",
              "      <th>part_time_work_behavior_devices</th>\n",
              "      <th>full_time_work_behavior_devices</th>\n",
              "      <th>delivery_behavior_devices</th>\n",
              "      <th>median_home_dwell_time</th>\n",
              "      <th>median_non_home_dwell_time</th>\n",
              "      <th>median_percentage_time_home</th>\n",
              "      <th>distance_traveled_from_home</th>\n",
              "      <th>Date - first case</th>\n",
              "      <th>Date - shelter in place</th>\n",
              "    </tr>\n",
              "  </thead>\n",
              "  <tbody>\n",
              "    <tr>\n",
              "      <th>131</th>\n",
              "      <td>131</td>\n",
              "      <td>2020-01-01T00:00:00-06:00</td>\n",
              "      <td>2020-01-02T00:00:00-06:00</td>\n",
              "      <td>29.0</td>\n",
              "      <td>MO</td>\n",
              "      <td>Dade County</td>\n",
              "      <td>29057</td>\n",
              "      <td>290574802002</td>\n",
              "      <td>NaN</td>\n",
              "      <td>28</td>\n",
              "      <td>10</td>\n",
              "      <td>2</td>\n",
              "      <td>3</td>\n",
              "      <td>NaN</td>\n",
              "      <td>687</td>\n",
              "      <td>NaN</td>\n",
              "      <td>NaN</td>\n",
              "      <td>12837.0</td>\n",
              "      <td>NaN</td>\n",
              "      <td>2020-04-06 00:00:00</td>\n",
              "    </tr>\n",
              "    <tr>\n",
              "      <th>147</th>\n",
              "      <td>147</td>\n",
              "      <td>2020-01-01T00:00:00-05:00</td>\n",
              "      <td>2020-01-02T00:00:00-05:00</td>\n",
              "      <td>36.0</td>\n",
              "      <td>NY</td>\n",
              "      <td>Bronx County</td>\n",
              "      <td>36005</td>\n",
              "      <td>360050237043</td>\n",
              "      <td>NaN</td>\n",
              "      <td>46</td>\n",
              "      <td>21</td>\n",
              "      <td>3</td>\n",
              "      <td>1</td>\n",
              "      <td>NaN</td>\n",
              "      <td>688</td>\n",
              "      <td>NaN</td>\n",
              "      <td>NaN</td>\n",
              "      <td>2846.0</td>\n",
              "      <td>NaN</td>\n",
              "      <td>2020-03-22 00:00:00</td>\n",
              "    </tr>\n",
              "    <tr>\n",
              "      <th>148</th>\n",
              "      <td>148</td>\n",
              "      <td>2020-01-01T00:00:00-05:00</td>\n",
              "      <td>2020-01-02T00:00:00-05:00</td>\n",
              "      <td>36.0</td>\n",
              "      <td>NY</td>\n",
              "      <td>Bronx County</td>\n",
              "      <td>36005</td>\n",
              "      <td>360050449012</td>\n",
              "      <td>NaN</td>\n",
              "      <td>31</td>\n",
              "      <td>11</td>\n",
              "      <td>1</td>\n",
              "      <td>1</td>\n",
              "      <td>NaN</td>\n",
              "      <td>731</td>\n",
              "      <td>NaN</td>\n",
              "      <td>NaN</td>\n",
              "      <td>3787.0</td>\n",
              "      <td>NaN</td>\n",
              "      <td>2020-03-22 00:00:00</td>\n",
              "    </tr>\n",
              "    <tr>\n",
              "      <th>151</th>\n",
              "      <td>151</td>\n",
              "      <td>2020-01-01T00:00:00-05:00</td>\n",
              "      <td>2020-01-02T00:00:00-05:00</td>\n",
              "      <td>36.0</td>\n",
              "      <td>NY</td>\n",
              "      <td>Kings County</td>\n",
              "      <td>36047</td>\n",
              "      <td>360470135001</td>\n",
              "      <td>NaN</td>\n",
              "      <td>17</td>\n",
              "      <td>7</td>\n",
              "      <td>2</td>\n",
              "      <td>2</td>\n",
              "      <td>NaN</td>\n",
              "      <td>1238</td>\n",
              "      <td>NaN</td>\n",
              "      <td>NaN</td>\n",
              "      <td>13308.0</td>\n",
              "      <td>NaN</td>\n",
              "      <td>2020-03-22 00:00:00</td>\n",
              "    </tr>\n",
              "    <tr>\n",
              "      <th>152</th>\n",
              "      <td>152</td>\n",
              "      <td>2020-01-01T00:00:00-05:00</td>\n",
              "      <td>2020-01-02T00:00:00-05:00</td>\n",
              "      <td>36.0</td>\n",
              "      <td>NY</td>\n",
              "      <td>Kings County</td>\n",
              "      <td>36047</td>\n",
              "      <td>360470404001</td>\n",
              "      <td>NaN</td>\n",
              "      <td>60</td>\n",
              "      <td>18</td>\n",
              "      <td>3</td>\n",
              "      <td>10</td>\n",
              "      <td>NaN</td>\n",
              "      <td>862</td>\n",
              "      <td>NaN</td>\n",
              "      <td>NaN</td>\n",
              "      <td>1683.0</td>\n",
              "      <td>NaN</td>\n",
              "      <td>2020-03-22 00:00:00</td>\n",
              "    </tr>\n",
              "  </tbody>\n",
              "</table>\n",
              "</div>"
            ],
            "text/plain": [
              "     Unnamed: 0  ... Date - shelter in place\n",
              "131         131  ...     2020-04-06 00:00:00\n",
              "147         147  ...     2020-03-22 00:00:00\n",
              "148         148  ...     2020-03-22 00:00:00\n",
              "151         151  ...     2020-03-22 00:00:00\n",
              "152         152  ...     2020-03-22 00:00:00\n",
              "\n",
              "[5 rows x 20 columns]"
            ]
          },
          "metadata": {
            "tags": []
          },
          "execution_count": 22
        }
      ]
    },
    {
      "cell_type": "code",
      "metadata": {
        "id": "m8a8-kAslGMV",
        "colab_type": "code",
        "colab": {
          "base_uri": "https://localhost:8080/",
          "height": 142
        },
        "outputId": "17970a5a-8f7a-45b4-e851-d0885ef3f735"
      },
      "source": [
        "days_since_data[days_since_data['county_code'].isin([29057,36005,36047])]"
      ],
      "execution_count": null,
      "outputs": [
        {
          "output_type": "execute_result",
          "data": {
            "text/html": [
              "<div>\n",
              "<style scoped>\n",
              "    .dataframe tbody tr th:only-of-type {\n",
              "        vertical-align: middle;\n",
              "    }\n",
              "\n",
              "    .dataframe tbody tr th {\n",
              "        vertical-align: top;\n",
              "    }\n",
              "\n",
              "    .dataframe thead th {\n",
              "        text-align: right;\n",
              "    }\n",
              "</style>\n",
              "<table border=\"1\" class=\"dataframe\">\n",
              "  <thead>\n",
              "    <tr style=\"text-align: right;\">\n",
              "      <th></th>\n",
              "      <th>Date - first case</th>\n",
              "      <th>Date - shelter in place</th>\n",
              "      <th>county_code</th>\n",
              "    </tr>\n",
              "  </thead>\n",
              "  <tbody>\n",
              "    <tr>\n",
              "      <th>1511</th>\n",
              "      <td>NaN</td>\n",
              "      <td>2020-04-06 00:00:00</td>\n",
              "      <td>29057</td>\n",
              "    </tr>\n",
              "    <tr>\n",
              "      <th>1830</th>\n",
              "      <td>NaN</td>\n",
              "      <td>2020-03-22 00:00:00</td>\n",
              "      <td>36005</td>\n",
              "    </tr>\n",
              "    <tr>\n",
              "      <th>1851</th>\n",
              "      <td>NaN</td>\n",
              "      <td>2020-03-22 00:00:00</td>\n",
              "      <td>36047</td>\n",
              "    </tr>\n",
              "  </tbody>\n",
              "</table>\n",
              "</div>"
            ],
            "text/plain": [
              "     Date - first case Date - shelter in place  county_code\n",
              "1511               NaN     2020-04-06 00:00:00        29057\n",
              "1830               NaN     2020-03-22 00:00:00        36005\n",
              "1851               NaN     2020-03-22 00:00:00        36047"
            ]
          },
          "metadata": {
            "tags": []
          },
          "execution_count": 24
        }
      ]
    },
    {
      "cell_type": "markdown",
      "metadata": {
        "id": "hag8Ze0TlRzv",
        "colab_type": "text"
      },
      "source": [
        "So in original days_since_data the value is Null, so afeter merging they are null as well, which is what we expect."
      ]
    },
    {
      "cell_type": "markdown",
      "metadata": {
        "id": "M43stB2DmGbt",
        "colab_type": "text"
      },
      "source": [
        "# create days_since_first_case column in place of daye of first case by doing some arithematic\n",
        "- we are going to do calculation with date_range_start, not date_range_end.\n",
        "- for example if a record starts from 4-1-2020, and its first case date is 3-1, our new column will be 30 (days since first case)\n",
        "- if the record starts from 1-1-2020, and first case is 3-1, we will have None/NaN on this new column "
      ]
    },
    {
      "cell_type": "code",
      "metadata": {
        "id": "IVd6V_rF_oWA",
        "colab_type": "code",
        "colab": {}
      },
      "source": [
        "import numpy as np\n",
        "import pandas as pd"
      ],
      "execution_count": null,
      "outputs": []
    },
    {
      "cell_type": "code",
      "metadata": {
        "id": "ffbDK9OY_4kW",
        "colab_type": "code",
        "colab": {
          "base_uri": "https://localhost:8080/",
          "height": 34
        },
        "outputId": "3e410040-14c1-4e50-90b7-d43e58e48655"
      },
      "source": [
        "cd drive/My\\ Drive/COVID\\ 19\\ data\\ analysis/"
      ],
      "execution_count": null,
      "outputs": [
        {
          "output_type": "stream",
          "text": [
            "/content/drive/My Drive/COVID 19 data analysis\n"
          ],
          "name": "stdout"
        }
      ]
    },
    {
      "cell_type": "code",
      "metadata": {
        "id": "Zjw-H5KbABAj",
        "colab_type": "code",
        "colab": {}
      },
      "source": [
        "# reread data from disk.\n",
        "data = pd.read_csv(\"social_dist_with_dates\")"
      ],
      "execution_count": null,
      "outputs": []
    },
    {
      "cell_type": "code",
      "metadata": {
        "id": "HWMAd7oDPhcV",
        "colab_type": "code",
        "colab": {
          "base_uri": "https://localhost:8080/",
          "height": 445
        },
        "outputId": "45906f0f-5f0c-4b30-b3a8-eadbb6395950"
      },
      "source": [
        "data.head()"
      ],
      "execution_count": null,
      "outputs": [
        {
          "output_type": "execute_result",
          "data": {
            "text/html": [
              "<div>\n",
              "<style scoped>\n",
              "    .dataframe tbody tr th:only-of-type {\n",
              "        vertical-align: middle;\n",
              "    }\n",
              "\n",
              "    .dataframe tbody tr th {\n",
              "        vertical-align: top;\n",
              "    }\n",
              "\n",
              "    .dataframe thead th {\n",
              "        text-align: right;\n",
              "    }\n",
              "</style>\n",
              "<table border=\"1\" class=\"dataframe\">\n",
              "  <thead>\n",
              "    <tr style=\"text-align: right;\">\n",
              "      <th></th>\n",
              "      <th>Unnamed: 0</th>\n",
              "      <th>Unnamed: 0.1</th>\n",
              "      <th>date_range_start</th>\n",
              "      <th>date_range_end</th>\n",
              "      <th>state</th>\n",
              "      <th>state_code</th>\n",
              "      <th>cnamelong</th>\n",
              "      <th>county_code</th>\n",
              "      <th>origin_census_block_group</th>\n",
              "      <th>candidate_device_count</th>\n",
              "      <th>device_count</th>\n",
              "      <th>completely_home_device_count</th>\n",
              "      <th>part_time_work_behavior_devices</th>\n",
              "      <th>full_time_work_behavior_devices</th>\n",
              "      <th>delivery_behavior_devices</th>\n",
              "      <th>median_home_dwell_time</th>\n",
              "      <th>median_non_home_dwell_time</th>\n",
              "      <th>median_percentage_time_home</th>\n",
              "      <th>distance_traveled_from_home</th>\n",
              "      <th>Date - first case</th>\n",
              "      <th>Date - shelter in place</th>\n",
              "    </tr>\n",
              "  </thead>\n",
              "  <tbody>\n",
              "    <tr>\n",
              "      <th>0</th>\n",
              "      <td>0</td>\n",
              "      <td>0</td>\n",
              "      <td>2020-01-01T00:00:00-06:00</td>\n",
              "      <td>2020-01-02T00:00:00-06:00</td>\n",
              "      <td>1.0</td>\n",
              "      <td>AL</td>\n",
              "      <td>Calhoun County</td>\n",
              "      <td>1015</td>\n",
              "      <td>10150007002</td>\n",
              "      <td>NaN</td>\n",
              "      <td>80</td>\n",
              "      <td>25</td>\n",
              "      <td>5</td>\n",
              "      <td>6</td>\n",
              "      <td>NaN</td>\n",
              "      <td>752</td>\n",
              "      <td>NaN</td>\n",
              "      <td>NaN</td>\n",
              "      <td>5431.0</td>\n",
              "      <td>2020-03-18</td>\n",
              "      <td>2020-04-04 00:00:00</td>\n",
              "    </tr>\n",
              "    <tr>\n",
              "      <th>1</th>\n",
              "      <td>1</td>\n",
              "      <td>1</td>\n",
              "      <td>2020-01-01T00:00:00-05:00</td>\n",
              "      <td>2020-01-02T00:00:00-05:00</td>\n",
              "      <td>1.0</td>\n",
              "      <td>AL</td>\n",
              "      <td>Cleburne County</td>\n",
              "      <td>1029</td>\n",
              "      <td>10299598001</td>\n",
              "      <td>NaN</td>\n",
              "      <td>156</td>\n",
              "      <td>39</td>\n",
              "      <td>10</td>\n",
              "      <td>17</td>\n",
              "      <td>NaN</td>\n",
              "      <td>797</td>\n",
              "      <td>NaN</td>\n",
              "      <td>NaN</td>\n",
              "      <td>15016.0</td>\n",
              "      <td>2020-03-25</td>\n",
              "      <td>2020-04-04 00:00:00</td>\n",
              "    </tr>\n",
              "    <tr>\n",
              "      <th>2</th>\n",
              "      <td>2</td>\n",
              "      <td>2</td>\n",
              "      <td>2020-01-01T00:00:00-06:00</td>\n",
              "      <td>2020-01-02T00:00:00-06:00</td>\n",
              "      <td>1.0</td>\n",
              "      <td>AL</td>\n",
              "      <td>Cleburne County</td>\n",
              "      <td>1029</td>\n",
              "      <td>10299598001</td>\n",
              "      <td>NaN</td>\n",
              "      <td>156</td>\n",
              "      <td>39</td>\n",
              "      <td>10</td>\n",
              "      <td>17</td>\n",
              "      <td>NaN</td>\n",
              "      <td>797</td>\n",
              "      <td>NaN</td>\n",
              "      <td>NaN</td>\n",
              "      <td>15016.0</td>\n",
              "      <td>2020-03-25</td>\n",
              "      <td>2020-04-04 00:00:00</td>\n",
              "    </tr>\n",
              "    <tr>\n",
              "      <th>3</th>\n",
              "      <td>3</td>\n",
              "      <td>3</td>\n",
              "      <td>2020-01-01T00:00:00-06:00</td>\n",
              "      <td>2020-01-02T00:00:00-06:00</td>\n",
              "      <td>1.0</td>\n",
              "      <td>AL</td>\n",
              "      <td>Jefferson County</td>\n",
              "      <td>1073</td>\n",
              "      <td>10730109006</td>\n",
              "      <td>NaN</td>\n",
              "      <td>38</td>\n",
              "      <td>14</td>\n",
              "      <td>2</td>\n",
              "      <td>6</td>\n",
              "      <td>NaN</td>\n",
              "      <td>713</td>\n",
              "      <td>NaN</td>\n",
              "      <td>NaN</td>\n",
              "      <td>7419.0</td>\n",
              "      <td>2020-03-13</td>\n",
              "      <td>2020-04-04 00:00:00</td>\n",
              "    </tr>\n",
              "    <tr>\n",
              "      <th>4</th>\n",
              "      <td>4</td>\n",
              "      <td>4</td>\n",
              "      <td>2020-01-01T00:00:00-06:00</td>\n",
              "      <td>2020-01-02T00:00:00-06:00</td>\n",
              "      <td>1.0</td>\n",
              "      <td>AL</td>\n",
              "      <td>Tuscaloosa County</td>\n",
              "      <td>1125</td>\n",
              "      <td>11250103023</td>\n",
              "      <td>NaN</td>\n",
              "      <td>131</td>\n",
              "      <td>30</td>\n",
              "      <td>13</td>\n",
              "      <td>31</td>\n",
              "      <td>NaN</td>\n",
              "      <td>750</td>\n",
              "      <td>NaN</td>\n",
              "      <td>NaN</td>\n",
              "      <td>11979.0</td>\n",
              "      <td>2020-03-14</td>\n",
              "      <td>2020-04-04 00:00:00</td>\n",
              "    </tr>\n",
              "  </tbody>\n",
              "</table>\n",
              "</div>"
            ],
            "text/plain": [
              "   Unnamed: 0  Unnamed: 0.1  ... Date - first case Date - shelter in place\n",
              "0           0             0  ...        2020-03-18     2020-04-04 00:00:00\n",
              "1           1             1  ...        2020-03-25     2020-04-04 00:00:00\n",
              "2           2             2  ...        2020-03-25     2020-04-04 00:00:00\n",
              "3           3             3  ...        2020-03-13     2020-04-04 00:00:00\n",
              "4           4             4  ...        2020-03-14     2020-04-04 00:00:00\n",
              "\n",
              "[5 rows x 21 columns]"
            ]
          },
          "metadata": {
            "tags": []
          },
          "execution_count": 4
        }
      ]
    },
    {
      "cell_type": "code",
      "metadata": {
        "id": "Y2JqT-8OooJD",
        "colab_type": "code",
        "colab": {
          "base_uri": "https://localhost:8080/",
          "height": 35
        },
        "outputId": "acf0927a-ff87-4db2-abf5-96710c0ec8d0"
      },
      "source": [
        "data.loc[0, 'date_range_start']"
      ],
      "execution_count": null,
      "outputs": [
        {
          "output_type": "execute_result",
          "data": {
            "application/vnd.google.colaboratory.intrinsic": {
              "type": "string"
            },
            "text/plain": [
              "'2020-01-01T00:00:00-06:00'"
            ]
          },
          "metadata": {
            "tags": []
          },
          "execution_count": 51
        }
      ]
    },
    {
      "cell_type": "code",
      "metadata": {
        "id": "CfJBjxtevMmN",
        "colab_type": "code",
        "colab": {
          "base_uri": "https://localhost:8080/",
          "height": 34
        },
        "outputId": "ac5c6f69-5374-4dce-e287-7d0ea616db23"
      },
      "source": [
        "type(data.loc[0, 'date_range_start'])"
      ],
      "execution_count": null,
      "outputs": [
        {
          "output_type": "execute_result",
          "data": {
            "text/plain": [
              "str"
            ]
          },
          "metadata": {
            "tags": []
          },
          "execution_count": 52
        }
      ]
    },
    {
      "cell_type": "code",
      "metadata": {
        "id": "3sn_CYCuvQ2Z",
        "colab_type": "code",
        "colab": {
          "base_uri": "https://localhost:8080/",
          "height": 34
        },
        "outputId": "c68b8e05-e269-4078-8bef-f6316c12675a"
      },
      "source": [
        "type(data.loc[0, 'date_range_end'])"
      ],
      "execution_count": null,
      "outputs": [
        {
          "output_type": "execute_result",
          "data": {
            "text/plain": [
              "str"
            ]
          },
          "metadata": {
            "tags": []
          },
          "execution_count": 53
        }
      ]
    },
    {
      "cell_type": "code",
      "metadata": {
        "id": "En8PO2uIvS2b",
        "colab_type": "code",
        "colab": {
          "base_uri": "https://localhost:8080/",
          "height": 34
        },
        "outputId": "a3b3ab39-5647-495c-96af-2c73b10e1c50"
      },
      "source": [
        "type(data.loc[0, 'Date - first case'])"
      ],
      "execution_count": null,
      "outputs": [
        {
          "output_type": "execute_result",
          "data": {
            "text/plain": [
              "str"
            ]
          },
          "metadata": {
            "tags": []
          },
          "execution_count": 54
        }
      ]
    },
    {
      "cell_type": "markdown",
      "metadata": {
        "id": "COZ8WYLIvXJu",
        "colab_type": "text"
      },
      "source": [
        "Oh God the dates are all strings, seems like I need to do some conversion from string to dates and ultimately have a TimeDelta object on a new column. Sigh!"
      ]
    },
    {
      "cell_type": "code",
      "metadata": {
        "id": "7xuVF21bwkj6",
        "colab_type": "code",
        "colab": {}
      },
      "source": [
        "from datetime import datetime"
      ],
      "execution_count": null,
      "outputs": []
    },
    {
      "cell_type": "code",
      "metadata": {
        "id": "AlxikMDiwlzM",
        "colab_type": "code",
        "colab": {}
      },
      "source": [
        "date = datetime.strptime(data.loc[1,'date_range_end'][:19], \"%Y-%m-%dT%H:%M:%S\")"
      ],
      "execution_count": null,
      "outputs": []
    },
    {
      "cell_type": "code",
      "metadata": {
        "id": "mK5m5jlL2Ck5",
        "colab_type": "code",
        "colab": {
          "base_uri": "https://localhost:8080/",
          "height": 34
        },
        "outputId": "e6b39933-ced7-42fe-b817-8350f4e84330"
      },
      "source": [
        "date"
      ],
      "execution_count": null,
      "outputs": [
        {
          "output_type": "execute_result",
          "data": {
            "text/plain": [
              "datetime.datetime(2020, 1, 2, 0, 0)"
            ]
          },
          "metadata": {
            "tags": []
          },
          "execution_count": 84
        }
      ]
    },
    {
      "cell_type": "code",
      "metadata": {
        "id": "PTcvj04D35v6",
        "colab_type": "code",
        "colab": {}
      },
      "source": [
        "# a function that given a row return the days_since_first_case.\n",
        "def get_days_since_first_case(row):\n",
        "  record_date_string = row['date_range_start']\n",
        "  first_case_date_string = row['Date - first case']\n",
        "\n",
        "  # if any one date is null, just return None, (or we can return special NaN value as well)\n",
        "  if pd.isnull(record_date_string) or pd.isnull(first_case_date_string):\n",
        "    return None\n",
        "\n",
        "  record_date = datetime.strptime(record_date_string[:19], \"%Y-%m-%dT%H:%M:%S\")\n",
        "  first_case_date = datetime.strptime(first_case_date_string, \"%Y-%m-%d\")\n",
        "  time_delta = record_date - first_case_date\n",
        "\n",
        "  # will return an int in this case\n",
        "  return time_delta.days"
      ],
      "execution_count": null,
      "outputs": []
    },
    {
      "cell_type": "code",
      "metadata": {
        "id": "TubfP_al8R5s",
        "colab_type": "code",
        "colab": {
          "base_uri": "https://localhost:8080/",
          "height": 391
        },
        "outputId": "fb14dc11-6c2d-4771-c0df-d906df94e5e2"
      },
      "source": [
        "data.iloc[0]"
      ],
      "execution_count": null,
      "outputs": [
        {
          "output_type": "execute_result",
          "data": {
            "text/plain": [
              "Unnamed: 0                                                 0\n",
              "Unnamed: 0.1                                               0\n",
              "date_range_start                   2020-01-01T00:00:00-06:00\n",
              "date_range_end                     2020-01-02T00:00:00-06:00\n",
              "state                                                      1\n",
              "state_code                                                AL\n",
              "cnamelong                                     Calhoun County\n",
              "county_code                                             1015\n",
              "origin_census_block_group                        10150007002\n",
              "candidate_device_count                                   NaN\n",
              "device_count                                              80\n",
              "completely_home_device_count                              25\n",
              "part_time_work_behavior_devices                            5\n",
              "full_time_work_behavior_devices                            6\n",
              "delivery_behavior_devices                                NaN\n",
              "median_home_dwell_time                                   752\n",
              "median_non_home_dwell_time                               NaN\n",
              "median_percentage_time_home                              NaN\n",
              "distance_traveled_from_home                             5431\n",
              "Date - first case                                 2020-03-18\n",
              "Date - shelter in place                  2020-04-04 00:00:00\n",
              "Name: 0, dtype: object"
            ]
          },
          "metadata": {
            "tags": []
          },
          "execution_count": 7
        }
      ]
    },
    {
      "cell_type": "code",
      "metadata": {
        "id": "Zr_MamHb6FA8",
        "colab_type": "code",
        "colab": {
          "base_uri": "https://localhost:8080/",
          "height": 34
        },
        "outputId": "7c74ea73-279f-4e59-acbd-fe9a9a7e948a"
      },
      "source": [
        "get_days_since_first_case(data.iloc[0])"
      ],
      "execution_count": null,
      "outputs": [
        {
          "output_type": "execute_result",
          "data": {
            "text/plain": [
              "-77"
            ]
          },
          "metadata": {
            "tags": []
          },
          "execution_count": 8
        }
      ]
    },
    {
      "cell_type": "markdown",
      "metadata": {
        "id": "juiSDrUY8U4c",
        "colab_type": "text"
      },
      "source": [
        "Hope this format is okay, since first record has date_range_start of 1/1,\n",
        "and its first case is 3/18, we have -77 as the date differnece between\n",
        "this date and first case date. We could also just return None in this case.."
      ]
    },
    {
      "cell_type": "code",
      "metadata": {
        "id": "CmjR4Pli65gn",
        "colab_type": "code",
        "colab": {
          "base_uri": "https://localhost:8080/",
          "height": 391
        },
        "outputId": "8ff6728b-4def-4fda-ae01-20362d0e026b"
      },
      "source": [
        "data.iloc[15990000]"
      ],
      "execution_count": null,
      "outputs": [
        {
          "output_type": "execute_result",
          "data": {
            "text/plain": [
              "Unnamed: 0                                          15990000\n",
              "Unnamed: 0.1                                        15990000\n",
              "date_range_start                   2020-03-13T00:00:00-04:00\n",
              "date_range_end                     2020-03-14T00:00:00-04:00\n",
              "state                                                     10\n",
              "state_code                                                DE\n",
              "cnamelong                                  New Castle County\n",
              "county_code                                            10003\n",
              "origin_census_block_group                       100030163021\n",
              "candidate_device_count                                   NaN\n",
              "device_count                                             160\n",
              "completely_home_device_count                              43\n",
              "part_time_work_behavior_devices                           18\n",
              "full_time_work_behavior_devices                           16\n",
              "delivery_behavior_devices                                NaN\n",
              "median_home_dwell_time                                   799\n",
              "median_non_home_dwell_time                               NaN\n",
              "median_percentage_time_home                              NaN\n",
              "distance_traveled_from_home                             6646\n",
              "Date - first case                                 2020-03-11\n",
              "Date - shelter in place                  2020-03-24 00:00:00\n",
              "Name: 15990000, dtype: object"
            ]
          },
          "metadata": {
            "tags": []
          },
          "execution_count": 9
        }
      ]
    },
    {
      "cell_type": "code",
      "metadata": {
        "id": "0UreCWFY7-VJ",
        "colab_type": "code",
        "colab": {
          "base_uri": "https://localhost:8080/",
          "height": 34
        },
        "outputId": "535e46b0-231a-4e88-ccab-4b63e2d17395"
      },
      "source": [
        "get_days_since_first_case(data.iloc[15990000])"
      ],
      "execution_count": null,
      "outputs": [
        {
          "output_type": "execute_result",
          "data": {
            "text/plain": [
              "2"
            ]
          },
          "metadata": {
            "tags": []
          },
          "execution_count": 10
        }
      ]
    },
    {
      "cell_type": "markdown",
      "metadata": {
        "id": "lB2vJo-O8rPf",
        "colab_type": "text"
      },
      "source": [
        "our custom function is correct in this case since the start date is 3/13,\n",
        "and first case is 3/11. There is a 2 day differnece."
      ]
    },
    {
      "cell_type": "code",
      "metadata": {
        "id": "OBbVe6Nz8Jar",
        "colab_type": "code",
        "colab": {
          "base_uri": "https://localhost:8080/",
          "height": 445
        },
        "outputId": "6ad1af9d-6daf-4f2d-8e56-1944eab300a7"
      },
      "source": [
        "# look at data where first case date is null.\n",
        "data[data['Date - first case'].isnull()][:5]"
      ],
      "execution_count": null,
      "outputs": [
        {
          "output_type": "execute_result",
          "data": {
            "text/html": [
              "<div>\n",
              "<style scoped>\n",
              "    .dataframe tbody tr th:only-of-type {\n",
              "        vertical-align: middle;\n",
              "    }\n",
              "\n",
              "    .dataframe tbody tr th {\n",
              "        vertical-align: top;\n",
              "    }\n",
              "\n",
              "    .dataframe thead th {\n",
              "        text-align: right;\n",
              "    }\n",
              "</style>\n",
              "<table border=\"1\" class=\"dataframe\">\n",
              "  <thead>\n",
              "    <tr style=\"text-align: right;\">\n",
              "      <th></th>\n",
              "      <th>Unnamed: 0</th>\n",
              "      <th>Unnamed: 0.1</th>\n",
              "      <th>date_range_start</th>\n",
              "      <th>date_range_end</th>\n",
              "      <th>state</th>\n",
              "      <th>state_code</th>\n",
              "      <th>cnamelong</th>\n",
              "      <th>county_code</th>\n",
              "      <th>origin_census_block_group</th>\n",
              "      <th>candidate_device_count</th>\n",
              "      <th>device_count</th>\n",
              "      <th>completely_home_device_count</th>\n",
              "      <th>part_time_work_behavior_devices</th>\n",
              "      <th>full_time_work_behavior_devices</th>\n",
              "      <th>delivery_behavior_devices</th>\n",
              "      <th>median_home_dwell_time</th>\n",
              "      <th>median_non_home_dwell_time</th>\n",
              "      <th>median_percentage_time_home</th>\n",
              "      <th>distance_traveled_from_home</th>\n",
              "      <th>Date - first case</th>\n",
              "      <th>Date - shelter in place</th>\n",
              "    </tr>\n",
              "  </thead>\n",
              "  <tbody>\n",
              "    <tr>\n",
              "      <th>131</th>\n",
              "      <td>131</td>\n",
              "      <td>131</td>\n",
              "      <td>2020-01-01T00:00:00-06:00</td>\n",
              "      <td>2020-01-02T00:00:00-06:00</td>\n",
              "      <td>29.0</td>\n",
              "      <td>MO</td>\n",
              "      <td>Dade County</td>\n",
              "      <td>29057</td>\n",
              "      <td>290574802002</td>\n",
              "      <td>NaN</td>\n",
              "      <td>28</td>\n",
              "      <td>10</td>\n",
              "      <td>2</td>\n",
              "      <td>3</td>\n",
              "      <td>NaN</td>\n",
              "      <td>687</td>\n",
              "      <td>NaN</td>\n",
              "      <td>NaN</td>\n",
              "      <td>12837.0</td>\n",
              "      <td>NaN</td>\n",
              "      <td>2020-04-06 00:00:00</td>\n",
              "    </tr>\n",
              "    <tr>\n",
              "      <th>147</th>\n",
              "      <td>147</td>\n",
              "      <td>147</td>\n",
              "      <td>2020-01-01T00:00:00-05:00</td>\n",
              "      <td>2020-01-02T00:00:00-05:00</td>\n",
              "      <td>36.0</td>\n",
              "      <td>NY</td>\n",
              "      <td>Bronx County</td>\n",
              "      <td>36005</td>\n",
              "      <td>360050237043</td>\n",
              "      <td>NaN</td>\n",
              "      <td>46</td>\n",
              "      <td>21</td>\n",
              "      <td>3</td>\n",
              "      <td>1</td>\n",
              "      <td>NaN</td>\n",
              "      <td>688</td>\n",
              "      <td>NaN</td>\n",
              "      <td>NaN</td>\n",
              "      <td>2846.0</td>\n",
              "      <td>NaN</td>\n",
              "      <td>2020-03-22 00:00:00</td>\n",
              "    </tr>\n",
              "    <tr>\n",
              "      <th>148</th>\n",
              "      <td>148</td>\n",
              "      <td>148</td>\n",
              "      <td>2020-01-01T00:00:00-05:00</td>\n",
              "      <td>2020-01-02T00:00:00-05:00</td>\n",
              "      <td>36.0</td>\n",
              "      <td>NY</td>\n",
              "      <td>Bronx County</td>\n",
              "      <td>36005</td>\n",
              "      <td>360050449012</td>\n",
              "      <td>NaN</td>\n",
              "      <td>31</td>\n",
              "      <td>11</td>\n",
              "      <td>1</td>\n",
              "      <td>1</td>\n",
              "      <td>NaN</td>\n",
              "      <td>731</td>\n",
              "      <td>NaN</td>\n",
              "      <td>NaN</td>\n",
              "      <td>3787.0</td>\n",
              "      <td>NaN</td>\n",
              "      <td>2020-03-22 00:00:00</td>\n",
              "    </tr>\n",
              "    <tr>\n",
              "      <th>151</th>\n",
              "      <td>151</td>\n",
              "      <td>151</td>\n",
              "      <td>2020-01-01T00:00:00-05:00</td>\n",
              "      <td>2020-01-02T00:00:00-05:00</td>\n",
              "      <td>36.0</td>\n",
              "      <td>NY</td>\n",
              "      <td>Kings County</td>\n",
              "      <td>36047</td>\n",
              "      <td>360470135001</td>\n",
              "      <td>NaN</td>\n",
              "      <td>17</td>\n",
              "      <td>7</td>\n",
              "      <td>2</td>\n",
              "      <td>2</td>\n",
              "      <td>NaN</td>\n",
              "      <td>1238</td>\n",
              "      <td>NaN</td>\n",
              "      <td>NaN</td>\n",
              "      <td>13308.0</td>\n",
              "      <td>NaN</td>\n",
              "      <td>2020-03-22 00:00:00</td>\n",
              "    </tr>\n",
              "    <tr>\n",
              "      <th>152</th>\n",
              "      <td>152</td>\n",
              "      <td>152</td>\n",
              "      <td>2020-01-01T00:00:00-05:00</td>\n",
              "      <td>2020-01-02T00:00:00-05:00</td>\n",
              "      <td>36.0</td>\n",
              "      <td>NY</td>\n",
              "      <td>Kings County</td>\n",
              "      <td>36047</td>\n",
              "      <td>360470404001</td>\n",
              "      <td>NaN</td>\n",
              "      <td>60</td>\n",
              "      <td>18</td>\n",
              "      <td>3</td>\n",
              "      <td>10</td>\n",
              "      <td>NaN</td>\n",
              "      <td>862</td>\n",
              "      <td>NaN</td>\n",
              "      <td>NaN</td>\n",
              "      <td>1683.0</td>\n",
              "      <td>NaN</td>\n",
              "      <td>2020-03-22 00:00:00</td>\n",
              "    </tr>\n",
              "  </tbody>\n",
              "</table>\n",
              "</div>"
            ],
            "text/plain": [
              "     Unnamed: 0  Unnamed: 0.1  ... Date - first case Date - shelter in place\n",
              "131         131           131  ...               NaN     2020-04-06 00:00:00\n",
              "147         147           147  ...               NaN     2020-03-22 00:00:00\n",
              "148         148           148  ...               NaN     2020-03-22 00:00:00\n",
              "151         151           151  ...               NaN     2020-03-22 00:00:00\n",
              "152         152           152  ...               NaN     2020-03-22 00:00:00\n",
              "\n",
              "[5 rows x 21 columns]"
            ]
          },
          "metadata": {
            "tags": []
          },
          "execution_count": 11
        }
      ]
    },
    {
      "cell_type": "code",
      "metadata": {
        "id": "yVB-6Qkn96P6",
        "colab_type": "code",
        "colab": {
          "base_uri": "https://localhost:8080/",
          "height": 34
        },
        "outputId": "5f09a891-c99d-4400-8388-2583f580539b"
      },
      "source": [
        "type(get_days_since_first_case(data.iloc[131]))"
      ],
      "execution_count": null,
      "outputs": [
        {
          "output_type": "execute_result",
          "data": {
            "text/plain": [
              "NoneType"
            ]
          },
          "metadata": {
            "tags": []
          },
          "execution_count": 12
        }
      ]
    },
    {
      "cell_type": "markdown",
      "metadata": {
        "id": "ysWWATSW_PbF",
        "colab_type": "text"
      },
      "source": [
        "Seems like our custom function handles None type perfectly too. So we can proceed to use this function on every row."
      ]
    },
    {
      "cell_type": "code",
      "metadata": {
        "id": "pzfrFBYO_X0F",
        "colab_type": "code",
        "colab": {}
      },
      "source": [
        "# the following apply function consumes a huge amount of memory.. > 13 GB, \n",
        "# need to think of another way.\n",
        "# data['days_since_first_case'] = data.apply(get_days_since_first_case, axis=1)"
      ],
      "execution_count": null,
      "outputs": []
    },
    {
      "cell_type": "markdown",
      "metadata": {
        "id": "_r6xJ8t_FtYF",
        "colab_type": "text"
      },
      "source": [
        "Maybe delete columns that are redundant now to save memory For now,\n",
        "and when we have the resulting column, append that back to main data?"
      ]
    },
    {
      "cell_type": "code",
      "metadata": {
        "id": "uEfEKRIfE-25",
        "colab_type": "code",
        "colab": {}
      },
      "source": [
        "small_data = data.drop(columns=['Unnamed: 0', 'Unnamed: 0.1', 'date_range_end','state','state_code','cnamelong','county_code',\n",
        "                                'origin_census_block_group', 'candidate_device_count', 'device_count', 'completely_home_device_count',\n",
        "                                'part_time_work_behavior_devices', 'full_time_work_behavior_devices', 'delivery_behavior_devices',\n",
        "                                'median_home_dwell_time', 'median_non_home_dwell_time', 'median_percentage_time_home', \n",
        "                                'distance_traveled_from_home'])"
      ],
      "execution_count": null,
      "outputs": []
    },
    {
      "cell_type": "code",
      "metadata": {
        "id": "czcejMVARW5u",
        "colab_type": "code",
        "colab": {}
      },
      "source": [
        "small_data.to_csv(\"small_data.csv\")"
      ],
      "execution_count": null,
      "outputs": []
    },
    {
      "cell_type": "code",
      "metadata": {
        "id": "3c3UfvNwGyqx",
        "colab_type": "code",
        "colab": {}
      },
      "source": [
        "data['days_since_first_case'] = small_data.apply(get_days_since_first_case, axis = 1)"
      ],
      "execution_count": null,
      "outputs": []
    },
    {
      "cell_type": "code",
      "metadata": {
        "id": "uaykaSiEX1Rz",
        "colab_type": "code",
        "colab": {
          "base_uri": "https://localhost:8080/",
          "height": 408
        },
        "outputId": "f245819f-d803-456e-a0f7-9eb64a2c534b"
      },
      "source": [
        "data.iloc[0]"
      ],
      "execution_count": null,
      "outputs": [
        {
          "output_type": "execute_result",
          "data": {
            "text/plain": [
              "Unnamed: 0                                                 0\n",
              "Unnamed: 0.1                                               0\n",
              "date_range_start                   2020-01-01T00:00:00-06:00\n",
              "date_range_end                     2020-01-02T00:00:00-06:00\n",
              "state                                                      1\n",
              "state_code                                                AL\n",
              "cnamelong                                     Calhoun County\n",
              "county_code                                             1015\n",
              "origin_census_block_group                        10150007002\n",
              "candidate_device_count                                   NaN\n",
              "device_count                                              80\n",
              "completely_home_device_count                              25\n",
              "part_time_work_behavior_devices                            5\n",
              "full_time_work_behavior_devices                            6\n",
              "delivery_behavior_devices                                NaN\n",
              "median_home_dwell_time                                   752\n",
              "median_non_home_dwell_time                               NaN\n",
              "median_percentage_time_home                              NaN\n",
              "distance_traveled_from_home                             5431\n",
              "Date - first case                                 2020-03-18\n",
              "Date - shelter in place                  2020-04-04 00:00:00\n",
              "days_since_first_case                                    -77\n",
              "Name: 0, dtype: object"
            ]
          },
          "metadata": {
            "tags": []
          },
          "execution_count": 19
        }
      ]
    },
    {
      "cell_type": "code",
      "metadata": {
        "id": "Qj_4O4tBSg5o",
        "colab_type": "code",
        "colab": {}
      },
      "source": [
        "# the function that will return the days since shelter is in place.\n",
        "def get_days_since_shelter(row):\n",
        "  record_date_string = row['date_range_start']\n",
        "  shelter_date_string = row['Date - shelter in place']\n",
        "\n",
        "  # if any one date is null, just return None, (or we can return special NaN value as well)\n",
        "  if pd.isnull(record_date_string) or pd.isnull(shelter_date_string):\n",
        "    return None\n",
        "\n",
        "  record_date = datetime.strptime(record_date_string[:19], \"%Y-%m-%dT%H:%M:%S\")\n",
        "  shelter_date = datetime.strptime(shelter_date_string[:10], \"%Y-%m-%d\")\n",
        "  time_delta = record_date - shelter_date\n",
        "\n",
        "  # will return an int in this case\n",
        "  return time_delta.days"
      ],
      "execution_count": null,
      "outputs": []
    },
    {
      "cell_type": "code",
      "metadata": {
        "id": "mmNJ0zSkYAhl",
        "colab_type": "code",
        "colab": {}
      },
      "source": [
        "data['days_since_shelter'] = small_data.apply(get_days_since_shelter, axis = 1)"
      ],
      "execution_count": null,
      "outputs": []
    },
    {
      "cell_type": "code",
      "metadata": {
        "id": "bU2ulwSYfKLa",
        "colab_type": "code",
        "colab": {
          "base_uri": "https://localhost:8080/",
          "height": 425
        },
        "outputId": "5d3d524c-9fbc-4860-d19b-8af136601f07"
      },
      "source": [
        "data.iloc[0]"
      ],
      "execution_count": null,
      "outputs": [
        {
          "output_type": "execute_result",
          "data": {
            "text/plain": [
              "Unnamed: 0                                                 0\n",
              "Unnamed: 0.1                                               0\n",
              "date_range_start                   2020-01-01T00:00:00-06:00\n",
              "date_range_end                     2020-01-02T00:00:00-06:00\n",
              "state                                                      1\n",
              "state_code                                                AL\n",
              "cnamelong                                     Calhoun County\n",
              "county_code                                             1015\n",
              "origin_census_block_group                        10150007002\n",
              "candidate_device_count                                   NaN\n",
              "device_count                                              80\n",
              "completely_home_device_count                              25\n",
              "part_time_work_behavior_devices                            5\n",
              "full_time_work_behavior_devices                            6\n",
              "delivery_behavior_devices                                NaN\n",
              "median_home_dwell_time                                   752\n",
              "median_non_home_dwell_time                               NaN\n",
              "median_percentage_time_home                              NaN\n",
              "distance_traveled_from_home                             5431\n",
              "Date - first case                                 2020-03-18\n",
              "Date - shelter in place                  2020-04-04 00:00:00\n",
              "days_since_first_case                                    -77\n",
              "days_since_shelter                                       -94\n",
              "Name: 0, dtype: object"
            ]
          },
          "metadata": {
            "tags": []
          },
          "execution_count": 39
        }
      ]
    },
    {
      "cell_type": "code",
      "metadata": {
        "id": "nI5xGCM1e1lk",
        "colab_type": "code",
        "colab": {
          "base_uri": "https://localhost:8080/",
          "height": 425
        },
        "outputId": "4597d227-bb96-4a71-e6bd-b521126770d3"
      },
      "source": [
        "data.iloc[15990000]"
      ],
      "execution_count": null,
      "outputs": [
        {
          "output_type": "execute_result",
          "data": {
            "text/plain": [
              "Unnamed: 0                                          15990000\n",
              "Unnamed: 0.1                                        15990000\n",
              "date_range_start                   2020-03-13T00:00:00-04:00\n",
              "date_range_end                     2020-03-14T00:00:00-04:00\n",
              "state                                                     10\n",
              "state_code                                                DE\n",
              "cnamelong                                  New Castle County\n",
              "county_code                                            10003\n",
              "origin_census_block_group                       100030163021\n",
              "candidate_device_count                                   NaN\n",
              "device_count                                             160\n",
              "completely_home_device_count                              43\n",
              "part_time_work_behavior_devices                           18\n",
              "full_time_work_behavior_devices                           16\n",
              "delivery_behavior_devices                                NaN\n",
              "median_home_dwell_time                                   799\n",
              "median_non_home_dwell_time                               NaN\n",
              "median_percentage_time_home                              NaN\n",
              "distance_traveled_from_home                             6646\n",
              "Date - first case                                 2020-03-11\n",
              "Date - shelter in place                  2020-03-24 00:00:00\n",
              "days_since_first_case                                      2\n",
              "days_since_shelter                                       -11\n",
              "Name: 15990000, dtype: object"
            ]
          },
          "metadata": {
            "tags": []
          },
          "execution_count": 38
        }
      ]
    },
    {
      "cell_type": "code",
      "metadata": {
        "id": "Ttc_OL2VfXo3",
        "colab_type": "code",
        "colab": {
          "base_uri": "https://localhost:8080/",
          "height": 425
        },
        "outputId": "84ff27b1-96ad-40f6-ce0b-3ade1234808b"
      },
      "source": [
        "data.iloc[131]"
      ],
      "execution_count": null,
      "outputs": [
        {
          "output_type": "execute_result",
          "data": {
            "text/plain": [
              "Unnamed: 0                                               131\n",
              "Unnamed: 0.1                                             131\n",
              "date_range_start                   2020-01-01T00:00:00-06:00\n",
              "date_range_end                     2020-01-02T00:00:00-06:00\n",
              "state                                                     29\n",
              "state_code                                                MO\n",
              "cnamelong                                        Dade County\n",
              "county_code                                            29057\n",
              "origin_census_block_group                       290574802002\n",
              "candidate_device_count                                   NaN\n",
              "device_count                                              28\n",
              "completely_home_device_count                              10\n",
              "part_time_work_behavior_devices                            2\n",
              "full_time_work_behavior_devices                            3\n",
              "delivery_behavior_devices                                NaN\n",
              "median_home_dwell_time                                   687\n",
              "median_non_home_dwell_time                               NaN\n",
              "median_percentage_time_home                              NaN\n",
              "distance_traveled_from_home                            12837\n",
              "Date - first case                                        NaN\n",
              "Date - shelter in place                  2020-04-06 00:00:00\n",
              "days_since_first_case                                    NaN\n",
              "days_since_shelter                                       -96\n",
              "Name: 131, dtype: object"
            ]
          },
          "metadata": {
            "tags": []
          },
          "execution_count": 40
        }
      ]
    },
    {
      "cell_type": "markdown",
      "metadata": {
        "id": "C3Pgky9PfOcI",
        "colab_type": "text"
      },
      "source": [
        "seems like the 2 columns we add look right on some data points I selected! Great."
      ]
    },
    {
      "cell_type": "code",
      "metadata": {
        "id": "1xzrK6GRhcpt",
        "colab_type": "code",
        "colab": {}
      },
      "source": [
        "data.drop(columns = ['Unnamed: 0', 'Unnamed: 0.1'], inplace = True)"
      ],
      "execution_count": null,
      "outputs": []
    },
    {
      "cell_type": "code",
      "metadata": {
        "id": "s3nolQXGiVjE",
        "colab_type": "code",
        "colab": {}
      },
      "source": [
        "data.to_csv(\"social_dist_with_days_since\")"
      ],
      "execution_count": null,
      "outputs": []
    },
    {
      "cell_type": "code",
      "metadata": {
        "id": "Dndjcb7clENR",
        "colab_type": "code",
        "colab": {
          "base_uri": "https://localhost:8080/",
          "height": 391
        },
        "outputId": "a6623f7e-201c-47c7-90e4-6a2f5199fb61"
      },
      "source": [
        "data.dtypes"
      ],
      "execution_count": null,
      "outputs": [
        {
          "output_type": "execute_result",
          "data": {
            "text/plain": [
              "date_range_start                    object\n",
              "date_range_end                      object\n",
              "state                              float64\n",
              "state_code                          object\n",
              "cnamelong                           object\n",
              "county_code                          int64\n",
              "origin_census_block_group            int64\n",
              "candidate_device_count             float64\n",
              "device_count                         int64\n",
              "completely_home_device_count         int64\n",
              "part_time_work_behavior_devices      int64\n",
              "full_time_work_behavior_devices      int64\n",
              "delivery_behavior_devices          float64\n",
              "median_home_dwell_time               int64\n",
              "median_non_home_dwell_time         float64\n",
              "median_percentage_time_home        float64\n",
              "distance_traveled_from_home        float64\n",
              "Date - first case                   object\n",
              "Date - shelter in place             object\n",
              "days_since_first_case              float64\n",
              "days_since_shelter                 float64\n",
              "dtype: object"
            ]
          },
          "metadata": {
            "tags": []
          },
          "execution_count": 50
        }
      ]
    },
    {
      "cell_type": "markdown",
      "metadata": {
        "id": "neuoCKuklF4-",
        "colab_type": "text"
      },
      "source": [
        "turns out for whatever reason the days_since_first_case and days_since_shelter are floats. If want them to be ints can convert them later."
      ]
    },
    {
      "cell_type": "markdown",
      "metadata": {
        "id": "ny7kyT6TonlG",
        "colab_type": "text"
      },
      "source": [
        "From CJ: need to **groupby** county_code to **sum** up all mobility data for a single county, since our analysis is on each county.\n",
        "- Next step: we want to group all the county data on the same date together. - we want to group data of the same date_range_start, date_range_end, and county_code "
      ]
    }
  ]
}