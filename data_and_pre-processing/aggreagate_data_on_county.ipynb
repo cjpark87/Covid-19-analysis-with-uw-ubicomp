{
  "nbformat": 4,
  "nbformat_minor": 0,
  "metadata": {
    "colab": {
      "name": "aggreagate_data_on_county.ipynb",
      "provenance": [],
      "collapsed_sections": [
        "tJmPpEOoJwdA"
      ],
      "mount_file_id": "1laE4RPtcOIKe6x2ysoCqhp5gnPCLgJXi",
      "authorship_tag": "ABX9TyN5Ieg1kE20wzRkj7R52S5S",
      "include_colab_link": true
    },
    "kernelspec": {
      "name": "python3",
      "display_name": "Python 3"
    }
  },
  "cells": [
    {
      "cell_type": "markdown",
      "metadata": {
        "id": "view-in-github",
        "colab_type": "text"
      },
      "source": [
        "<a href=\"https://colab.research.google.com/github/wenjunsun/Covid-19-analysis-with-uw-ubicomp/blob/master/data_and_pre-processing/aggreagate_data_on_county.ipynb\" target=\"_parent\"><img src=\"https://colab.research.google.com/assets/colab-badge.svg\" alt=\"Open In Colab\"/></a>"
      ]
    },
    {
      "cell_type": "markdown",
      "metadata": {
        "id": "wysKE9QLr6up",
        "colab_type": "text"
      },
      "source": [
        "Since we have in our original data each row about a subgroup in a county, we want to aggregate so we have data about each county in each row. But we have column like median home dwell time, for which we cannot just do a mean when we aggregate. So we made custom weighted average function to aggregate all data about a county on the same day together. For more specific details of how we aggregate the data please read this notebook."
      ]
    },
    {
      "cell_type": "markdown",
      "metadata": {
        "id": "tJmPpEOoJwdA",
        "colab_type": "text"
      },
      "source": [
        "# try our custom weighted mean function on small data set to ensure correctness"
      ]
    },
    {
      "cell_type": "code",
      "metadata": {
        "id": "XACDIM0jxtQM",
        "colab_type": "code",
        "colab": {}
      },
      "source": [
        "import pandas as pd\n",
        "import numpy as np"
      ],
      "execution_count": null,
      "outputs": []
    },
    {
      "cell_type": "code",
      "metadata": {
        "id": "_NEA1tvbx8HS",
        "colab_type": "code",
        "colab": {
          "base_uri": "https://localhost:8080/",
          "height": 34
        },
        "outputId": "8ed1a6f5-fefb-4aa5-ce11-b101a60326af"
      },
      "source": [
        "ls"
      ],
      "execution_count": null,
      "outputs": [
        {
          "output_type": "stream",
          "text": [
            "\u001b[0m\u001b[01;34mdrive\u001b[0m/  \u001b[01;34msample_data\u001b[0m/\n"
          ],
          "name": "stdout"
        }
      ]
    },
    {
      "cell_type": "code",
      "metadata": {
        "id": "ixknQ-9gtiK5",
        "colab_type": "code",
        "colab": {
          "base_uri": "https://localhost:8080/",
          "height": 34
        },
        "outputId": "3530d7d9-4382-4664-9e25-394e2fd6636b"
      },
      "source": [
        "cd drive/My\\ Drive/COVID\\ 19\\ data\\ analysis"
      ],
      "execution_count": null,
      "outputs": [
        {
          "output_type": "stream",
          "text": [
            "/content/drive/My Drive/COVID 19 data analysis\n"
          ],
          "name": "stdout"
        }
      ]
    },
    {
      "cell_type": "code",
      "metadata": {
        "id": "m8WrE9Evtnsq",
        "colab_type": "code",
        "colab": {
          "base_uri": "https://localhost:8080/",
          "height": 221
        },
        "outputId": "c6a64637-9bc3-491d-c14b-a196672cde00"
      },
      "source": [
        "ls"
      ],
      "execution_count": null,
      "outputs": [
        {
          "output_type": "stream",
          "text": [
            " aggreagate_data_on_county.ipynb\n",
            " agg_social_dist\n",
            " analysis_and_graphs.ipynb\n",
            " compare_30_days_before_and_after.ipynb\n",
            "'Copy of COVID-19 US state policy database.csv'\n",
            " days_since.csv\n",
            " merge_mobility_with_first_case_and_shelter_in_place.ipynb\n",
            " small_data.csv\n",
            " social_dist_all_trimmed.csv\n",
            "'Social Distancing Index Exploration.ipynb'\n",
            " social_dist_with_dates\n",
            " social_dist_with_days_since\n"
          ],
          "name": "stdout"
        }
      ]
    },
    {
      "cell_type": "code",
      "metadata": {
        "id": "l4mX0xWUtoLT",
        "colab_type": "code",
        "colab": {}
      },
      "source": [
        "# only read partial data, to see if my groupby and agg function \n",
        "# are doing things right\n",
        "data = pd.read_csv(\"social_dist_all_trimmed.csv\", nrows=100000)"
      ],
      "execution_count": null,
      "outputs": []
    },
    {
      "cell_type": "code",
      "metadata": {
        "id": "w6uKn9tluYX5",
        "colab_type": "code",
        "colab": {
          "base_uri": "https://localhost:8080/",
          "height": 411
        },
        "outputId": "c7f82c97-dc79-43d2-8d66-1b1de0797c9e"
      },
      "source": [
        "data.head()"
      ],
      "execution_count": null,
      "outputs": [
        {
          "output_type": "execute_result",
          "data": {
            "text/html": [
              "<div>\n",
              "<style scoped>\n",
              "    .dataframe tbody tr th:only-of-type {\n",
              "        vertical-align: middle;\n",
              "    }\n",
              "\n",
              "    .dataframe tbody tr th {\n",
              "        vertical-align: top;\n",
              "    }\n",
              "\n",
              "    .dataframe thead th {\n",
              "        text-align: right;\n",
              "    }\n",
              "</style>\n",
              "<table border=\"1\" class=\"dataframe\">\n",
              "  <thead>\n",
              "    <tr style=\"text-align: right;\">\n",
              "      <th></th>\n",
              "      <th>Unnamed: 0</th>\n",
              "      <th>date_range_start</th>\n",
              "      <th>date_range_end</th>\n",
              "      <th>state</th>\n",
              "      <th>state_code</th>\n",
              "      <th>cnamelong</th>\n",
              "      <th>county_code</th>\n",
              "      <th>origin_census_block_group</th>\n",
              "      <th>candidate_device_count</th>\n",
              "      <th>device_count</th>\n",
              "      <th>completely_home_device_count</th>\n",
              "      <th>part_time_work_behavior_devices</th>\n",
              "      <th>full_time_work_behavior_devices</th>\n",
              "      <th>delivery_behavior_devices</th>\n",
              "      <th>median_home_dwell_time</th>\n",
              "      <th>median_non_home_dwell_time</th>\n",
              "      <th>median_percentage_time_home</th>\n",
              "      <th>distance_traveled_from_home</th>\n",
              "    </tr>\n",
              "  </thead>\n",
              "  <tbody>\n",
              "    <tr>\n",
              "      <th>0</th>\n",
              "      <td>0</td>\n",
              "      <td>2020-01-01T00:00:00-06:00</td>\n",
              "      <td>2020-01-02T00:00:00-06:00</td>\n",
              "      <td>1.0</td>\n",
              "      <td>AL</td>\n",
              "      <td>Calhoun County</td>\n",
              "      <td>1015</td>\n",
              "      <td>10150007002</td>\n",
              "      <td>NaN</td>\n",
              "      <td>80</td>\n",
              "      <td>25</td>\n",
              "      <td>5</td>\n",
              "      <td>6</td>\n",
              "      <td>NaN</td>\n",
              "      <td>752</td>\n",
              "      <td>NaN</td>\n",
              "      <td>NaN</td>\n",
              "      <td>5431.0</td>\n",
              "    </tr>\n",
              "    <tr>\n",
              "      <th>1</th>\n",
              "      <td>1</td>\n",
              "      <td>2020-01-01T00:00:00-05:00</td>\n",
              "      <td>2020-01-02T00:00:00-05:00</td>\n",
              "      <td>1.0</td>\n",
              "      <td>AL</td>\n",
              "      <td>Cleburne County</td>\n",
              "      <td>1029</td>\n",
              "      <td>10299598001</td>\n",
              "      <td>NaN</td>\n",
              "      <td>156</td>\n",
              "      <td>39</td>\n",
              "      <td>10</td>\n",
              "      <td>17</td>\n",
              "      <td>NaN</td>\n",
              "      <td>797</td>\n",
              "      <td>NaN</td>\n",
              "      <td>NaN</td>\n",
              "      <td>15016.0</td>\n",
              "    </tr>\n",
              "    <tr>\n",
              "      <th>2</th>\n",
              "      <td>2</td>\n",
              "      <td>2020-01-01T00:00:00-06:00</td>\n",
              "      <td>2020-01-02T00:00:00-06:00</td>\n",
              "      <td>1.0</td>\n",
              "      <td>AL</td>\n",
              "      <td>Cleburne County</td>\n",
              "      <td>1029</td>\n",
              "      <td>10299598001</td>\n",
              "      <td>NaN</td>\n",
              "      <td>156</td>\n",
              "      <td>39</td>\n",
              "      <td>10</td>\n",
              "      <td>17</td>\n",
              "      <td>NaN</td>\n",
              "      <td>797</td>\n",
              "      <td>NaN</td>\n",
              "      <td>NaN</td>\n",
              "      <td>15016.0</td>\n",
              "    </tr>\n",
              "    <tr>\n",
              "      <th>3</th>\n",
              "      <td>3</td>\n",
              "      <td>2020-01-01T00:00:00-06:00</td>\n",
              "      <td>2020-01-02T00:00:00-06:00</td>\n",
              "      <td>1.0</td>\n",
              "      <td>AL</td>\n",
              "      <td>Jefferson County</td>\n",
              "      <td>1073</td>\n",
              "      <td>10730109006</td>\n",
              "      <td>NaN</td>\n",
              "      <td>38</td>\n",
              "      <td>14</td>\n",
              "      <td>2</td>\n",
              "      <td>6</td>\n",
              "      <td>NaN</td>\n",
              "      <td>713</td>\n",
              "      <td>NaN</td>\n",
              "      <td>NaN</td>\n",
              "      <td>7419.0</td>\n",
              "    </tr>\n",
              "    <tr>\n",
              "      <th>4</th>\n",
              "      <td>4</td>\n",
              "      <td>2020-01-01T00:00:00-06:00</td>\n",
              "      <td>2020-01-02T00:00:00-06:00</td>\n",
              "      <td>1.0</td>\n",
              "      <td>AL</td>\n",
              "      <td>Tuscaloosa County</td>\n",
              "      <td>1125</td>\n",
              "      <td>11250103023</td>\n",
              "      <td>NaN</td>\n",
              "      <td>131</td>\n",
              "      <td>30</td>\n",
              "      <td>13</td>\n",
              "      <td>31</td>\n",
              "      <td>NaN</td>\n",
              "      <td>750</td>\n",
              "      <td>NaN</td>\n",
              "      <td>NaN</td>\n",
              "      <td>11979.0</td>\n",
              "    </tr>\n",
              "  </tbody>\n",
              "</table>\n",
              "</div>"
            ],
            "text/plain": [
              "   Unnamed: 0  ... distance_traveled_from_home\n",
              "0           0  ...                      5431.0\n",
              "1           1  ...                     15016.0\n",
              "2           2  ...                     15016.0\n",
              "3           3  ...                      7419.0\n",
              "4           4  ...                     11979.0\n",
              "\n",
              "[5 rows x 18 columns]"
            ]
          },
          "metadata": {
            "tags": []
          },
          "execution_count": 55
        }
      ]
    },
    {
      "cell_type": "code",
      "metadata": {
        "id": "bYXWMoS1udvN",
        "colab_type": "code",
        "colab": {}
      },
      "source": [
        "# group by start date, end date, state, state_code, cnamelong, county_code, \n",
        "small_data = data[(data['state'] ==  1.0) & (data['cnamelong'] == 'Calhoun County') & (data['date_range_start'] == '2020-01-01T00:00:00-06:00')]"
      ],
      "execution_count": null,
      "outputs": []
    },
    {
      "cell_type": "code",
      "metadata": {
        "id": "HSqwH-vpuhRX",
        "colab_type": "code",
        "colab": {}
      },
      "source": [
        "# just pick the first 5 for our purpose\n",
        "small_data = small_data.iloc[:5]"
      ],
      "execution_count": null,
      "outputs": []
    },
    {
      "cell_type": "code",
      "metadata": {
        "id": "kja7y-fMviS4",
        "colab_type": "code",
        "colab": {
          "base_uri": "https://localhost:8080/",
          "height": 411
        },
        "outputId": "aad2644b-850e-4340-f53b-238b126976af"
      },
      "source": [
        "small_data"
      ],
      "execution_count": null,
      "outputs": [
        {
          "output_type": "execute_result",
          "data": {
            "text/html": [
              "<div>\n",
              "<style scoped>\n",
              "    .dataframe tbody tr th:only-of-type {\n",
              "        vertical-align: middle;\n",
              "    }\n",
              "\n",
              "    .dataframe tbody tr th {\n",
              "        vertical-align: top;\n",
              "    }\n",
              "\n",
              "    .dataframe thead th {\n",
              "        text-align: right;\n",
              "    }\n",
              "</style>\n",
              "<table border=\"1\" class=\"dataframe\">\n",
              "  <thead>\n",
              "    <tr style=\"text-align: right;\">\n",
              "      <th></th>\n",
              "      <th>Unnamed: 0</th>\n",
              "      <th>date_range_start</th>\n",
              "      <th>date_range_end</th>\n",
              "      <th>state</th>\n",
              "      <th>state_code</th>\n",
              "      <th>cnamelong</th>\n",
              "      <th>county_code</th>\n",
              "      <th>origin_census_block_group</th>\n",
              "      <th>candidate_device_count</th>\n",
              "      <th>device_count</th>\n",
              "      <th>completely_home_device_count</th>\n",
              "      <th>part_time_work_behavior_devices</th>\n",
              "      <th>full_time_work_behavior_devices</th>\n",
              "      <th>delivery_behavior_devices</th>\n",
              "      <th>median_home_dwell_time</th>\n",
              "      <th>median_non_home_dwell_time</th>\n",
              "      <th>median_percentage_time_home</th>\n",
              "      <th>distance_traveled_from_home</th>\n",
              "    </tr>\n",
              "  </thead>\n",
              "  <tbody>\n",
              "    <tr>\n",
              "      <th>0</th>\n",
              "      <td>0</td>\n",
              "      <td>2020-01-01T00:00:00-06:00</td>\n",
              "      <td>2020-01-02T00:00:00-06:00</td>\n",
              "      <td>1.0</td>\n",
              "      <td>AL</td>\n",
              "      <td>Calhoun County</td>\n",
              "      <td>1015</td>\n",
              "      <td>10150007002</td>\n",
              "      <td>NaN</td>\n",
              "      <td>80</td>\n",
              "      <td>25</td>\n",
              "      <td>5</td>\n",
              "      <td>6</td>\n",
              "      <td>NaN</td>\n",
              "      <td>752</td>\n",
              "      <td>NaN</td>\n",
              "      <td>NaN</td>\n",
              "      <td>5431.0</td>\n",
              "    </tr>\n",
              "    <tr>\n",
              "      <th>4937</th>\n",
              "      <td>4937</td>\n",
              "      <td>2020-01-01T00:00:00-06:00</td>\n",
              "      <td>2020-01-02T00:00:00-06:00</td>\n",
              "      <td>1.0</td>\n",
              "      <td>AL</td>\n",
              "      <td>Calhoun County</td>\n",
              "      <td>1015</td>\n",
              "      <td>10150008001</td>\n",
              "      <td>NaN</td>\n",
              "      <td>138</td>\n",
              "      <td>56</td>\n",
              "      <td>8</td>\n",
              "      <td>12</td>\n",
              "      <td>NaN</td>\n",
              "      <td>159</td>\n",
              "      <td>NaN</td>\n",
              "      <td>NaN</td>\n",
              "      <td>100893.0</td>\n",
              "    </tr>\n",
              "    <tr>\n",
              "      <th>8572</th>\n",
              "      <td>8572</td>\n",
              "      <td>2020-01-01T00:00:00-06:00</td>\n",
              "      <td>2020-01-02T00:00:00-06:00</td>\n",
              "      <td>1.0</td>\n",
              "      <td>AL</td>\n",
              "      <td>Calhoun County</td>\n",
              "      <td>1015</td>\n",
              "      <td>10150025023</td>\n",
              "      <td>NaN</td>\n",
              "      <td>187</td>\n",
              "      <td>41</td>\n",
              "      <td>15</td>\n",
              "      <td>29</td>\n",
              "      <td>NaN</td>\n",
              "      <td>815</td>\n",
              "      <td>NaN</td>\n",
              "      <td>NaN</td>\n",
              "      <td>10692.0</td>\n",
              "    </tr>\n",
              "    <tr>\n",
              "      <th>12399</th>\n",
              "      <td>12399</td>\n",
              "      <td>2020-01-01T00:00:00-06:00</td>\n",
              "      <td>2020-01-02T00:00:00-06:00</td>\n",
              "      <td>1.0</td>\n",
              "      <td>AL</td>\n",
              "      <td>Calhoun County</td>\n",
              "      <td>1015</td>\n",
              "      <td>10150026002</td>\n",
              "      <td>NaN</td>\n",
              "      <td>158</td>\n",
              "      <td>41</td>\n",
              "      <td>21</td>\n",
              "      <td>36</td>\n",
              "      <td>NaN</td>\n",
              "      <td>771</td>\n",
              "      <td>NaN</td>\n",
              "      <td>NaN</td>\n",
              "      <td>13812.0</td>\n",
              "    </tr>\n",
              "    <tr>\n",
              "      <th>13117</th>\n",
              "      <td>13117</td>\n",
              "      <td>2020-01-01T00:00:00-06:00</td>\n",
              "      <td>2020-01-02T00:00:00-06:00</td>\n",
              "      <td>1.0</td>\n",
              "      <td>AL</td>\n",
              "      <td>Calhoun County</td>\n",
              "      <td>1015</td>\n",
              "      <td>10150010002</td>\n",
              "      <td>NaN</td>\n",
              "      <td>69</td>\n",
              "      <td>20</td>\n",
              "      <td>2</td>\n",
              "      <td>14</td>\n",
              "      <td>NaN</td>\n",
              "      <td>1008</td>\n",
              "      <td>NaN</td>\n",
              "      <td>NaN</td>\n",
              "      <td>4944.0</td>\n",
              "    </tr>\n",
              "  </tbody>\n",
              "</table>\n",
              "</div>"
            ],
            "text/plain": [
              "       Unnamed: 0  ... distance_traveled_from_home\n",
              "0               0  ...                      5431.0\n",
              "4937         4937  ...                    100893.0\n",
              "8572         8572  ...                     10692.0\n",
              "12399       12399  ...                     13812.0\n",
              "13117       13117  ...                      4944.0\n",
              "\n",
              "[5 rows x 18 columns]"
            ]
          },
          "metadata": {
            "tags": []
          },
          "execution_count": 59
        }
      ]
    },
    {
      "cell_type": "code",
      "metadata": {
        "id": "4KGvTWpjwPiz",
        "colab_type": "code",
        "colab": {}
      },
      "source": [
        "# wm stands for weighted mean. This is the function that calculates\n",
        "# the weighted average of an array based on device count.\n",
        "wm1 = lambda x: np.average(x, weights= small_data.loc[x.index, \"device_count\"])"
      ],
      "execution_count": null,
      "outputs": []
    },
    {
      "cell_type": "code",
      "metadata": {
        "id": "4uou86oOBiiv",
        "colab_type": "code",
        "colab": {}
      },
      "source": [
        "# group by all the other features like state, county, and start_date.\n",
        "# main purpose is to aggregate the statistics of a county based on\n",
        "# multiple \"origin_census_block_group\"s\n",
        "agg_data1 = small_data.groupby([\"date_range_start\",'date_range_end','state','state_code','cnamelong','county_code']).agg(\n",
        "    candidate_device_count = ('candidate_device_count', 'sum'),\n",
        "    device_count = ('device_count', 'sum'),\n",
        "    completely_home_device_count = ('completely_home_device_count', 'sum'),\n",
        "    part_time_work_behavior_devices = ('part_time_work_behavior_devices', 'sum'),\n",
        "    full_time_work_behavior_devices = ('full_time_work_behavior_devices', 'sum'),\n",
        "    delivery_behavior_devices = ('delivery_behavior_devices', 'sum'),\n",
        "    median_home_dwell_time = ('median_home_dwell_time',wm),\n",
        "    median_non_home_dwell_time = ('median_non_home_dwell_time', wm),\n",
        "    median_percentage_time_home = ('median_percentage_time_home', wm), \n",
        "    distance_traveled_from_home = ('distance_traveled_from_home',\"sum\")).reset_index()"
      ],
      "execution_count": null,
      "outputs": []
    },
    {
      "cell_type": "code",
      "metadata": {
        "id": "rxino6bZIWpC",
        "colab_type": "code",
        "colab": {
          "base_uri": "https://localhost:8080/",
          "height": 306
        },
        "outputId": "bfb063f7-e5af-4d8f-c14d-7872058c4639"
      },
      "source": [
        "agg_data1.iloc[0]"
      ],
      "execution_count": null,
      "outputs": [
        {
          "output_type": "execute_result",
          "data": {
            "text/plain": [
              "date_range_start                   2020-01-01T00:00:00-06:00\n",
              "date_range_end                     2020-01-02T00:00:00-06:00\n",
              "state                                                      1\n",
              "state_code                                                AL\n",
              "cnamelong                                     Calhoun County\n",
              "county_code                                             1015\n",
              "candidate_device_count                                     0\n",
              "device_count                                             632\n",
              "completely_home_device_count                             183\n",
              "part_time_work_behavior_devices                           51\n",
              "full_time_work_behavior_devices                           97\n",
              "delivery_behavior_devices                                  0\n",
              "median_home_dwell_time                               673.856\n",
              "median_non_home_dwell_time                               NaN\n",
              "median_percentage_time_home                              NaN\n",
              "distance_traveled_from_home                           135772\n",
              "Name: 0, dtype: object"
            ]
          },
          "metadata": {
            "tags": []
          },
          "execution_count": 164
        }
      ]
    },
    {
      "cell_type": "code",
      "metadata": {
        "id": "jTxT5X2SDwGU",
        "colab_type": "code",
        "colab": {
          "base_uri": "https://localhost:8080/"
        },
        "outputId": "78e15ed5-1585-4bb3-810e-7850cee453eb"
      },
      "source": [
        "(752 *80 + 159*138 + 815*187 + 771*158 + 1008*69) / (80 + 138 + 187 + 158 + 69)"
      ],
      "execution_count": null,
      "outputs": [
        {
          "output_type": "execute_result",
          "data": {
            "text/plain": [
              "673.8560126582279"
            ]
          },
          "metadata": {
            "tags": []
          },
          "execution_count": 70
        }
      ]
    },
    {
      "cell_type": "markdown",
      "metadata": {
        "id": "J_J6KA7CJlTj",
        "colab_type": "text"
      },
      "source": [
        "Seems like our median_home_dwell_time is calculuated correctly by the weighted mean function"
      ]
    },
    {
      "cell_type": "markdown",
      "metadata": {
        "id": "oFkEHP6jJs_1",
        "colab_type": "text"
      },
      "source": [
        "# let's now try it on the whole data set then!"
      ]
    },
    {
      "cell_type": "code",
      "metadata": {
        "id": "FGFTMgIZI6-2",
        "colab_type": "code",
        "colab": {}
      },
      "source": [
        "data = pd.read_csv(\"social_dist_with_days_since\")"
      ],
      "execution_count": null,
      "outputs": []
    },
    {
      "cell_type": "code",
      "metadata": {
        "id": "QBjwXTpgKDQp",
        "colab_type": "code",
        "colab": {
          "base_uri": "https://localhost:8080/",
          "height": 445
        },
        "outputId": "b5b04af8-80e1-4d9e-bf1e-8c0d3f6943d2"
      },
      "source": [
        "data.head()"
      ],
      "execution_count": null,
      "outputs": [
        {
          "output_type": "execute_result",
          "data": {
            "text/html": [
              "<div>\n",
              "<style scoped>\n",
              "    .dataframe tbody tr th:only-of-type {\n",
              "        vertical-align: middle;\n",
              "    }\n",
              "\n",
              "    .dataframe tbody tr th {\n",
              "        vertical-align: top;\n",
              "    }\n",
              "\n",
              "    .dataframe thead th {\n",
              "        text-align: right;\n",
              "    }\n",
              "</style>\n",
              "<table border=\"1\" class=\"dataframe\">\n",
              "  <thead>\n",
              "    <tr style=\"text-align: right;\">\n",
              "      <th></th>\n",
              "      <th>Unnamed: 0</th>\n",
              "      <th>date_range_start</th>\n",
              "      <th>date_range_end</th>\n",
              "      <th>state</th>\n",
              "      <th>state_code</th>\n",
              "      <th>cnamelong</th>\n",
              "      <th>county_code</th>\n",
              "      <th>origin_census_block_group</th>\n",
              "      <th>candidate_device_count</th>\n",
              "      <th>device_count</th>\n",
              "      <th>completely_home_device_count</th>\n",
              "      <th>part_time_work_behavior_devices</th>\n",
              "      <th>full_time_work_behavior_devices</th>\n",
              "      <th>delivery_behavior_devices</th>\n",
              "      <th>median_home_dwell_time</th>\n",
              "      <th>median_non_home_dwell_time</th>\n",
              "      <th>median_percentage_time_home</th>\n",
              "      <th>distance_traveled_from_home</th>\n",
              "      <th>Date - first case</th>\n",
              "      <th>Date - shelter in place</th>\n",
              "      <th>days_since_first_case</th>\n",
              "      <th>days_since_shelter</th>\n",
              "    </tr>\n",
              "  </thead>\n",
              "  <tbody>\n",
              "    <tr>\n",
              "      <th>0</th>\n",
              "      <td>0</td>\n",
              "      <td>2020-01-01T00:00:00-06:00</td>\n",
              "      <td>2020-01-02T00:00:00-06:00</td>\n",
              "      <td>1.0</td>\n",
              "      <td>AL</td>\n",
              "      <td>Calhoun County</td>\n",
              "      <td>1015</td>\n",
              "      <td>10150007002</td>\n",
              "      <td>NaN</td>\n",
              "      <td>80</td>\n",
              "      <td>25</td>\n",
              "      <td>5</td>\n",
              "      <td>6</td>\n",
              "      <td>NaN</td>\n",
              "      <td>752</td>\n",
              "      <td>NaN</td>\n",
              "      <td>NaN</td>\n",
              "      <td>5431.0</td>\n",
              "      <td>2020-03-18</td>\n",
              "      <td>2020-04-04 00:00:00</td>\n",
              "      <td>-77.0</td>\n",
              "      <td>-94.0</td>\n",
              "    </tr>\n",
              "    <tr>\n",
              "      <th>1</th>\n",
              "      <td>1</td>\n",
              "      <td>2020-01-01T00:00:00-05:00</td>\n",
              "      <td>2020-01-02T00:00:00-05:00</td>\n",
              "      <td>1.0</td>\n",
              "      <td>AL</td>\n",
              "      <td>Cleburne County</td>\n",
              "      <td>1029</td>\n",
              "      <td>10299598001</td>\n",
              "      <td>NaN</td>\n",
              "      <td>156</td>\n",
              "      <td>39</td>\n",
              "      <td>10</td>\n",
              "      <td>17</td>\n",
              "      <td>NaN</td>\n",
              "      <td>797</td>\n",
              "      <td>NaN</td>\n",
              "      <td>NaN</td>\n",
              "      <td>15016.0</td>\n",
              "      <td>2020-03-25</td>\n",
              "      <td>2020-04-04 00:00:00</td>\n",
              "      <td>-84.0</td>\n",
              "      <td>-94.0</td>\n",
              "    </tr>\n",
              "    <tr>\n",
              "      <th>2</th>\n",
              "      <td>2</td>\n",
              "      <td>2020-01-01T00:00:00-06:00</td>\n",
              "      <td>2020-01-02T00:00:00-06:00</td>\n",
              "      <td>1.0</td>\n",
              "      <td>AL</td>\n",
              "      <td>Cleburne County</td>\n",
              "      <td>1029</td>\n",
              "      <td>10299598001</td>\n",
              "      <td>NaN</td>\n",
              "      <td>156</td>\n",
              "      <td>39</td>\n",
              "      <td>10</td>\n",
              "      <td>17</td>\n",
              "      <td>NaN</td>\n",
              "      <td>797</td>\n",
              "      <td>NaN</td>\n",
              "      <td>NaN</td>\n",
              "      <td>15016.0</td>\n",
              "      <td>2020-03-25</td>\n",
              "      <td>2020-04-04 00:00:00</td>\n",
              "      <td>-84.0</td>\n",
              "      <td>-94.0</td>\n",
              "    </tr>\n",
              "    <tr>\n",
              "      <th>3</th>\n",
              "      <td>3</td>\n",
              "      <td>2020-01-01T00:00:00-06:00</td>\n",
              "      <td>2020-01-02T00:00:00-06:00</td>\n",
              "      <td>1.0</td>\n",
              "      <td>AL</td>\n",
              "      <td>Jefferson County</td>\n",
              "      <td>1073</td>\n",
              "      <td>10730109006</td>\n",
              "      <td>NaN</td>\n",
              "      <td>38</td>\n",
              "      <td>14</td>\n",
              "      <td>2</td>\n",
              "      <td>6</td>\n",
              "      <td>NaN</td>\n",
              "      <td>713</td>\n",
              "      <td>NaN</td>\n",
              "      <td>NaN</td>\n",
              "      <td>7419.0</td>\n",
              "      <td>2020-03-13</td>\n",
              "      <td>2020-04-04 00:00:00</td>\n",
              "      <td>-72.0</td>\n",
              "      <td>-94.0</td>\n",
              "    </tr>\n",
              "    <tr>\n",
              "      <th>4</th>\n",
              "      <td>4</td>\n",
              "      <td>2020-01-01T00:00:00-06:00</td>\n",
              "      <td>2020-01-02T00:00:00-06:00</td>\n",
              "      <td>1.0</td>\n",
              "      <td>AL</td>\n",
              "      <td>Tuscaloosa County</td>\n",
              "      <td>1125</td>\n",
              "      <td>11250103023</td>\n",
              "      <td>NaN</td>\n",
              "      <td>131</td>\n",
              "      <td>30</td>\n",
              "      <td>13</td>\n",
              "      <td>31</td>\n",
              "      <td>NaN</td>\n",
              "      <td>750</td>\n",
              "      <td>NaN</td>\n",
              "      <td>NaN</td>\n",
              "      <td>11979.0</td>\n",
              "      <td>2020-03-14</td>\n",
              "      <td>2020-04-04 00:00:00</td>\n",
              "      <td>-73.0</td>\n",
              "      <td>-94.0</td>\n",
              "    </tr>\n",
              "  </tbody>\n",
              "</table>\n",
              "</div>"
            ],
            "text/plain": [
              "   Unnamed: 0  ... days_since_shelter\n",
              "0           0  ...              -94.0\n",
              "1           1  ...              -94.0\n",
              "2           2  ...              -94.0\n",
              "3           3  ...              -94.0\n",
              "4           4  ...              -94.0\n",
              "\n",
              "[5 rows x 22 columns]"
            ]
          },
          "metadata": {
            "tags": []
          },
          "execution_count": 90
        }
      ]
    },
    {
      "cell_type": "code",
      "metadata": {
        "id": "4m92QOtJLlXR",
        "colab_type": "code",
        "colab": {}
      },
      "source": [
        "wm = lambda x: np.average(x, weights= data.loc[x.index, \"device_count\"])"
      ],
      "execution_count": null,
      "outputs": []
    },
    {
      "cell_type": "code",
      "metadata": {
        "id": "Dh6zDTyvK5WD",
        "colab_type": "code",
        "colab": {}
      },
      "source": [
        "agg_data = data.groupby([\"date_range_start\",'date_range_end','state','state_code','cnamelong','county_code','days_since_first_case','days_since_shelter']).agg(\n",
        "    candidate_device_count = ('candidate_device_count', 'sum'),\n",
        "    device_count = ('device_count', 'sum'),\n",
        "    completely_home_device_count = ('completely_home_device_count', 'sum'),\n",
        "    part_time_work_behavior_devices = ('part_time_work_behavior_devices', 'sum'),\n",
        "    full_time_work_behavior_devices = ('full_time_work_behavior_devices', 'sum'),\n",
        "    delivery_behavior_devices = ('delivery_behavior_devices', 'sum'),\n",
        "    median_home_dwell_time = ('median_home_dwell_time',wm),\n",
        "    median_non_home_dwell_time = ('median_non_home_dwell_time', wm),\n",
        "    median_percentage_time_home = ('median_percentage_time_home', wm), \n",
        "    distance_traveled_from_home = ('distance_traveled_from_home', wm)).reset_index()"
      ],
      "execution_count": null,
      "outputs": []
    },
    {
      "cell_type": "code",
      "metadata": {
        "id": "J7YWvAcVLKxM",
        "colab_type": "code",
        "colab": {
          "base_uri": "https://localhost:8080/",
          "height": 719
        },
        "outputId": "ae0b81c3-0eff-49d1-8235-7f69fe0c5a43"
      },
      "source": [
        "agg_data.head(10)"
      ],
      "execution_count": null,
      "outputs": [
        {
          "output_type": "execute_result",
          "data": {
            "text/html": [
              "<div>\n",
              "<style scoped>\n",
              "    .dataframe tbody tr th:only-of-type {\n",
              "        vertical-align: middle;\n",
              "    }\n",
              "\n",
              "    .dataframe tbody tr th {\n",
              "        vertical-align: top;\n",
              "    }\n",
              "\n",
              "    .dataframe thead th {\n",
              "        text-align: right;\n",
              "    }\n",
              "</style>\n",
              "<table border=\"1\" class=\"dataframe\">\n",
              "  <thead>\n",
              "    <tr style=\"text-align: right;\">\n",
              "      <th></th>\n",
              "      <th>date_range_start</th>\n",
              "      <th>date_range_end</th>\n",
              "      <th>state</th>\n",
              "      <th>state_code</th>\n",
              "      <th>cnamelong</th>\n",
              "      <th>county_code</th>\n",
              "      <th>days_since_first_case</th>\n",
              "      <th>days_since_shelter</th>\n",
              "      <th>candidate_device_count</th>\n",
              "      <th>device_count</th>\n",
              "      <th>completely_home_device_count</th>\n",
              "      <th>part_time_work_behavior_devices</th>\n",
              "      <th>full_time_work_behavior_devices</th>\n",
              "      <th>delivery_behavior_devices</th>\n",
              "      <th>median_home_dwell_time</th>\n",
              "      <th>median_non_home_dwell_time</th>\n",
              "      <th>median_percentage_time_home</th>\n",
              "      <th>distance_traveled_from_home</th>\n",
              "    </tr>\n",
              "  </thead>\n",
              "  <tbody>\n",
              "    <tr>\n",
              "      <th>0</th>\n",
              "      <td>2020-01-01T00:00:00-04:00</td>\n",
              "      <td>2020-01-02T00:00:00-04:00</td>\n",
              "      <td>23.0</td>\n",
              "      <td>ME</td>\n",
              "      <td>Aroostook County</td>\n",
              "      <td>23003</td>\n",
              "      <td>-93.0</td>\n",
              "      <td>-91.0</td>\n",
              "      <td>0.0</td>\n",
              "      <td>56</td>\n",
              "      <td>20</td>\n",
              "      <td>5</td>\n",
              "      <td>7</td>\n",
              "      <td>0.0</td>\n",
              "      <td>477.000000</td>\n",
              "      <td>NaN</td>\n",
              "      <td>NaN</td>\n",
              "      <td>22780.000000</td>\n",
              "    </tr>\n",
              "    <tr>\n",
              "      <th>1</th>\n",
              "      <td>2020-01-01T00:00:00-04:00</td>\n",
              "      <td>2020-01-02T00:00:00-04:00</td>\n",
              "      <td>23.0</td>\n",
              "      <td>ME</td>\n",
              "      <td>Washington County</td>\n",
              "      <td>23029</td>\n",
              "      <td>-93.0</td>\n",
              "      <td>-91.0</td>\n",
              "      <td>0.0</td>\n",
              "      <td>156</td>\n",
              "      <td>68</td>\n",
              "      <td>5</td>\n",
              "      <td>24</td>\n",
              "      <td>0.0</td>\n",
              "      <td>280.461538</td>\n",
              "      <td>NaN</td>\n",
              "      <td>NaN</td>\n",
              "      <td>89197.250000</td>\n",
              "    </tr>\n",
              "    <tr>\n",
              "      <th>2</th>\n",
              "      <td>2020-01-01T00:00:00-04:00</td>\n",
              "      <td>2020-01-02T00:00:00-04:00</td>\n",
              "      <td>72.0</td>\n",
              "      <td>PR</td>\n",
              "      <td>Adjuntas Municipio</td>\n",
              "      <td>72001</td>\n",
              "      <td>-75.0</td>\n",
              "      <td>-74.0</td>\n",
              "      <td>0.0</td>\n",
              "      <td>241</td>\n",
              "      <td>115</td>\n",
              "      <td>14</td>\n",
              "      <td>19</td>\n",
              "      <td>0.0</td>\n",
              "      <td>890.377593</td>\n",
              "      <td>NaN</td>\n",
              "      <td>NaN</td>\n",
              "      <td>140597.925311</td>\n",
              "    </tr>\n",
              "    <tr>\n",
              "      <th>3</th>\n",
              "      <td>2020-01-01T00:00:00-04:00</td>\n",
              "      <td>2020-01-02T00:00:00-04:00</td>\n",
              "      <td>72.0</td>\n",
              "      <td>PR</td>\n",
              "      <td>Aguada Municipio</td>\n",
              "      <td>72003</td>\n",
              "      <td>-75.0</td>\n",
              "      <td>-74.0</td>\n",
              "      <td>0.0</td>\n",
              "      <td>697</td>\n",
              "      <td>327</td>\n",
              "      <td>40</td>\n",
              "      <td>59</td>\n",
              "      <td>0.0</td>\n",
              "      <td>775.674319</td>\n",
              "      <td>NaN</td>\n",
              "      <td>NaN</td>\n",
              "      <td>60138.741750</td>\n",
              "    </tr>\n",
              "    <tr>\n",
              "      <th>4</th>\n",
              "      <td>2020-01-01T00:00:00-04:00</td>\n",
              "      <td>2020-01-02T00:00:00-04:00</td>\n",
              "      <td>72.0</td>\n",
              "      <td>PR</td>\n",
              "      <td>Aguadilla Municipio</td>\n",
              "      <td>72005</td>\n",
              "      <td>-75.0</td>\n",
              "      <td>-74.0</td>\n",
              "      <td>0.0</td>\n",
              "      <td>1103</td>\n",
              "      <td>518</td>\n",
              "      <td>55</td>\n",
              "      <td>98</td>\n",
              "      <td>0.0</td>\n",
              "      <td>740.937443</td>\n",
              "      <td>NaN</td>\n",
              "      <td>NaN</td>\n",
              "      <td>8579.466002</td>\n",
              "    </tr>\n",
              "    <tr>\n",
              "      <th>5</th>\n",
              "      <td>2020-01-01T00:00:00-04:00</td>\n",
              "      <td>2020-01-02T00:00:00-04:00</td>\n",
              "      <td>72.0</td>\n",
              "      <td>PR</td>\n",
              "      <td>Aguas Buenas Municipio</td>\n",
              "      <td>72007</td>\n",
              "      <td>-75.0</td>\n",
              "      <td>-74.0</td>\n",
              "      <td>0.0</td>\n",
              "      <td>333</td>\n",
              "      <td>160</td>\n",
              "      <td>24</td>\n",
              "      <td>39</td>\n",
              "      <td>0.0</td>\n",
              "      <td>526.009009</td>\n",
              "      <td>NaN</td>\n",
              "      <td>NaN</td>\n",
              "      <td>6873.354354</td>\n",
              "    </tr>\n",
              "    <tr>\n",
              "      <th>6</th>\n",
              "      <td>2020-01-01T00:00:00-04:00</td>\n",
              "      <td>2020-01-02T00:00:00-04:00</td>\n",
              "      <td>72.0</td>\n",
              "      <td>PR</td>\n",
              "      <td>Aibonito Municipio</td>\n",
              "      <td>72009</td>\n",
              "      <td>-75.0</td>\n",
              "      <td>-74.0</td>\n",
              "      <td>0.0</td>\n",
              "      <td>222</td>\n",
              "      <td>88</td>\n",
              "      <td>14</td>\n",
              "      <td>16</td>\n",
              "      <td>0.0</td>\n",
              "      <td>708.725225</td>\n",
              "      <td>NaN</td>\n",
              "      <td>NaN</td>\n",
              "      <td>5225.873874</td>\n",
              "    </tr>\n",
              "    <tr>\n",
              "      <th>7</th>\n",
              "      <td>2020-01-01T00:00:00-04:00</td>\n",
              "      <td>2020-01-02T00:00:00-04:00</td>\n",
              "      <td>72.0</td>\n",
              "      <td>PR</td>\n",
              "      <td>Arecibo Municipio</td>\n",
              "      <td>72013</td>\n",
              "      <td>-75.0</td>\n",
              "      <td>-74.0</td>\n",
              "      <td>0.0</td>\n",
              "      <td>1637</td>\n",
              "      <td>876</td>\n",
              "      <td>88</td>\n",
              "      <td>135</td>\n",
              "      <td>0.0</td>\n",
              "      <td>815.136225</td>\n",
              "      <td>NaN</td>\n",
              "      <td>NaN</td>\n",
              "      <td>20897.327428</td>\n",
              "    </tr>\n",
              "    <tr>\n",
              "      <th>8</th>\n",
              "      <td>2020-01-01T00:00:00-04:00</td>\n",
              "      <td>2020-01-02T00:00:00-04:00</td>\n",
              "      <td>72.0</td>\n",
              "      <td>PR</td>\n",
              "      <td>Arroyo Municipio</td>\n",
              "      <td>72015</td>\n",
              "      <td>-75.0</td>\n",
              "      <td>-74.0</td>\n",
              "      <td>0.0</td>\n",
              "      <td>250</td>\n",
              "      <td>103</td>\n",
              "      <td>14</td>\n",
              "      <td>18</td>\n",
              "      <td>0.0</td>\n",
              "      <td>791.272000</td>\n",
              "      <td>NaN</td>\n",
              "      <td>NaN</td>\n",
              "      <td>4622.016000</td>\n",
              "    </tr>\n",
              "    <tr>\n",
              "      <th>9</th>\n",
              "      <td>2020-01-01T00:00:00-04:00</td>\n",
              "      <td>2020-01-02T00:00:00-04:00</td>\n",
              "      <td>72.0</td>\n",
              "      <td>PR</td>\n",
              "      <td>AÒasco Municipio</td>\n",
              "      <td>72011</td>\n",
              "      <td>-75.0</td>\n",
              "      <td>-74.0</td>\n",
              "      <td>0.0</td>\n",
              "      <td>466</td>\n",
              "      <td>234</td>\n",
              "      <td>22</td>\n",
              "      <td>31</td>\n",
              "      <td>0.0</td>\n",
              "      <td>718.133047</td>\n",
              "      <td>NaN</td>\n",
              "      <td>NaN</td>\n",
              "      <td>5627.523605</td>\n",
              "    </tr>\n",
              "  </tbody>\n",
              "</table>\n",
              "</div>"
            ],
            "text/plain": [
              "            date_range_start  ... distance_traveled_from_home\n",
              "0  2020-01-01T00:00:00-04:00  ...                22780.000000\n",
              "1  2020-01-01T00:00:00-04:00  ...                89197.250000\n",
              "2  2020-01-01T00:00:00-04:00  ...               140597.925311\n",
              "3  2020-01-01T00:00:00-04:00  ...                60138.741750\n",
              "4  2020-01-01T00:00:00-04:00  ...                 8579.466002\n",
              "5  2020-01-01T00:00:00-04:00  ...                 6873.354354\n",
              "6  2020-01-01T00:00:00-04:00  ...                 5225.873874\n",
              "7  2020-01-01T00:00:00-04:00  ...                20897.327428\n",
              "8  2020-01-01T00:00:00-04:00  ...                 4622.016000\n",
              "9  2020-01-01T00:00:00-04:00  ...                 5627.523605\n",
              "\n",
              "[10 rows x 18 columns]"
            ]
          },
          "metadata": {
            "tags": []
          },
          "execution_count": 8
        }
      ]
    },
    {
      "cell_type": "code",
      "metadata": {
        "id": "3JZQ-upxYZXd",
        "colab_type": "code",
        "colab": {
          "base_uri": "https://localhost:8080/",
          "height": 340
        },
        "outputId": "7e3154af-33b3-40ca-be4f-72b76e925280"
      },
      "source": [
        "agg_data.iloc[0]"
      ],
      "execution_count": null,
      "outputs": [
        {
          "output_type": "execute_result",
          "data": {
            "text/plain": [
              "date_range_start                   2020-01-01T00:00:00-04:00\n",
              "date_range_end                     2020-01-02T00:00:00-04:00\n",
              "state                                                     23\n",
              "state_code                                                ME\n",
              "cnamelong                                   Aroostook County\n",
              "county_code                                            23003\n",
              "days_since_first_case                                    -93\n",
              "days_since_shelter                                       -91\n",
              "candidate_device_count                                     0\n",
              "device_count                                              56\n",
              "completely_home_device_count                              20\n",
              "part_time_work_behavior_devices                            5\n",
              "full_time_work_behavior_devices                            7\n",
              "delivery_behavior_devices                                  0\n",
              "median_home_dwell_time                                   477\n",
              "median_non_home_dwell_time                               NaN\n",
              "median_percentage_time_home                              NaN\n",
              "distance_traveled_from_home                            22780\n",
              "Name: 0, dtype: object"
            ]
          },
          "metadata": {
            "tags": []
          },
          "execution_count": 9
        }
      ]
    },
    {
      "cell_type": "code",
      "metadata": {
        "id": "v0he8_i1QOu1",
        "colab_type": "code",
        "colab": {
          "base_uri": "https://localhost:8080/",
          "height": 34
        },
        "outputId": "36a47c1a-3e4b-4a4b-f000-b2d554769424"
      },
      "source": [
        "agg_data.shape"
      ],
      "execution_count": null,
      "outputs": [
        {
          "output_type": "execute_result",
          "data": {
            "text/plain": [
              "(332517, 18)"
            ]
          },
          "metadata": {
            "tags": []
          },
          "execution_count": 10
        }
      ]
    },
    {
      "cell_type": "code",
      "metadata": {
        "id": "oxRpU6vvVTLq",
        "colab_type": "code",
        "colab": {
          "base_uri": "https://localhost:8080/",
          "height": 134
        },
        "outputId": "84345a7b-593a-4805-87a5-1e1e8f819c12"
      },
      "source": [
        "agg_data[(agg_data['date_range_start'] == '2020-01-01T00:00:00-05:00') & (agg_data['date_range_end'] == '2020-01-02T00:00:00-05:00') & (agg_data['county_code'] == 23003)]"
      ],
      "execution_count": null,
      "outputs": [
        {
          "output_type": "execute_result",
          "data": {
            "text/html": [
              "<div>\n",
              "<style scoped>\n",
              "    .dataframe tbody tr th:only-of-type {\n",
              "        vertical-align: middle;\n",
              "    }\n",
              "\n",
              "    .dataframe tbody tr th {\n",
              "        vertical-align: top;\n",
              "    }\n",
              "\n",
              "    .dataframe thead th {\n",
              "        text-align: right;\n",
              "    }\n",
              "</style>\n",
              "<table border=\"1\" class=\"dataframe\">\n",
              "  <thead>\n",
              "    <tr style=\"text-align: right;\">\n",
              "      <th></th>\n",
              "      <th>date_range_start</th>\n",
              "      <th>date_range_end</th>\n",
              "      <th>state</th>\n",
              "      <th>state_code</th>\n",
              "      <th>cnamelong</th>\n",
              "      <th>county_code</th>\n",
              "      <th>days_since_first_case</th>\n",
              "      <th>days_since_shelter</th>\n",
              "      <th>candidate_device_count</th>\n",
              "      <th>device_count</th>\n",
              "      <th>completely_home_device_count</th>\n",
              "      <th>part_time_work_behavior_devices</th>\n",
              "      <th>full_time_work_behavior_devices</th>\n",
              "      <th>delivery_behavior_devices</th>\n",
              "      <th>median_home_dwell_time</th>\n",
              "      <th>median_non_home_dwell_time</th>\n",
              "      <th>median_percentage_time_home</th>\n",
              "      <th>distance_traveled_from_home</th>\n",
              "    </tr>\n",
              "  </thead>\n",
              "  <tbody>\n",
              "    <tr>\n",
              "      <th>477</th>\n",
              "      <td>2020-01-01T00:00:00-05:00</td>\n",
              "      <td>2020-01-02T00:00:00-05:00</td>\n",
              "      <td>23.0</td>\n",
              "      <td>ME</td>\n",
              "      <td>Aroostook County</td>\n",
              "      <td>23003</td>\n",
              "      <td>-93.0</td>\n",
              "      <td>-91.0</td>\n",
              "      <td>0.0</td>\n",
              "      <td>2737</td>\n",
              "      <td>1044</td>\n",
              "      <td>146</td>\n",
              "      <td>245</td>\n",
              "      <td>0.0</td>\n",
              "      <td>582.172086</td>\n",
              "      <td>NaN</td>\n",
              "      <td>NaN</td>\n",
              "      <td>21696.611984</td>\n",
              "    </tr>\n",
              "  </tbody>\n",
              "</table>\n",
              "</div>"
            ],
            "text/plain": [
              "              date_range_start  ... distance_traveled_from_home\n",
              "477  2020-01-01T00:00:00-05:00  ...                21696.611984\n",
              "\n",
              "[1 rows x 18 columns]"
            ]
          },
          "metadata": {
            "tags": []
          },
          "execution_count": 11
        }
      ]
    },
    {
      "cell_type": "code",
      "metadata": {
        "id": "eU2_SVDAUhwv",
        "colab_type": "code",
        "colab": {
          "base_uri": "https://localhost:8080/",
          "height": 408
        },
        "outputId": "4275a0b9-b471-4cf6-ee19-1779da8ce748"
      },
      "source": [
        "data[(data['date_range_start'] == '2020-01-01T00:00:00-05:00') & (data['date_range_end'] == '2020-01-02T00:00:00-05:00') & (data['county_code'] == 23003)].sum()"
      ],
      "execution_count": null,
      "outputs": [
        {
          "output_type": "execute_result",
          "data": {
            "text/plain": [
              "Unnamed: 0                                                                   8627543\n",
              "date_range_start                   2020-01-01T00:00:00-05:002020-01-01T00:00:00-0...\n",
              "date_range_end                     2020-01-02T00:00:00-05:002020-01-02T00:00:00-0...\n",
              "state                                                                           1794\n",
              "state_code                         MEMEMEMEMEMEMEMEMEMEMEMEMEMEMEMEMEMEMEMEMEMEME...\n",
              "cnamelong                          Aroostook CountyAroostook CountyAroostook Coun...\n",
              "county_code                                                                  1794234\n",
              "origin_census_block_group                                             17943082149176\n",
              "candidate_device_count                                                             0\n",
              "device_count                                                                    2737\n",
              "completely_home_device_count                                                    1044\n",
              "part_time_work_behavior_devices                                                  146\n",
              "full_time_work_behavior_devices                                                  245\n",
              "delivery_behavior_devices                                                          0\n",
              "median_home_dwell_time                                                         48087\n",
              "median_non_home_dwell_time                                                         0\n",
              "median_percentage_time_home                                                        0\n",
              "distance_traveled_from_home                                              1.89835e+06\n",
              "Date - first case                  2020-04-032020-04-032020-04-032020-04-032020-0...\n",
              "Date - shelter in place            2020-04-01 00:00:002020-04-01 00:00:002020-04-...\n",
              "days_since_first_case                                                          -7254\n",
              "days_since_shelter                                                             -7098\n",
              "dtype: object"
            ]
          },
          "metadata": {
            "tags": []
          },
          "execution_count": 12
        }
      ]
    },
    {
      "cell_type": "markdown",
      "metadata": {
        "id": "VU3DBXLJV_Px",
        "colab_type": "text"
      },
      "source": [
        "we can't check the median_home_dwell_time that directly, but at least the sums are calculated correctly in agg_data compared to our original data. So I guess we have done things right"
      ]
    },
    {
      "cell_type": "markdown",
      "metadata": {
        "id": "7tr9J55QUSiY",
        "colab_type": "text"
      },
      "source": [
        "By this aggregation we can study the data in the county level rather than from the smallest subgroup level. This also decrease our data size dramatically from 20 million to 332,517 data points."
      ]
    },
    {
      "cell_type": "markdown",
      "metadata": {
        "id": "FAFwNRFcWZJC",
        "colab_type": "text"
      },
      "source": [
        "Now we just need to export this data into a new data set."
      ]
    },
    {
      "cell_type": "code",
      "metadata": {
        "id": "w4ozYQHyWXwN",
        "colab_type": "code",
        "colab": {}
      },
      "source": [
        "agg_data.to_csv(\"agg_social_dist\")"
      ],
      "execution_count": null,
      "outputs": []
    }
  ]
}