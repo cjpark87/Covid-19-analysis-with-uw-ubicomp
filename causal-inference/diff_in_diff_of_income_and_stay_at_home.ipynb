{
  "nbformat": 4,
  "nbformat_minor": 0,
  "metadata": {
    "colab": {
      "name": "diff_in_diff_of_income_and_stay_at_home.ipynb",
      "provenance": [],
      "collapsed_sections": [],
      "mount_file_id": "1a1Um3no7rvs3PfkAn9MdSjd4UbwjMtPM",
      "authorship_tag": "ABX9TyMimLb9N8zZCHEFMFjSjrYw",
      "include_colab_link": true
    },
    "kernelspec": {
      "name": "python3",
      "display_name": "Python 3"
    }
  },
  "cells": [
    {
      "cell_type": "markdown",
      "metadata": {
        "id": "view-in-github",
        "colab_type": "text"
      },
      "source": [
        "<a href=\"https://colab.research.google.com/github/wenjunsun/Covid-19-analysis-with-uw-ubicomp/blob/master/causal-inference/diff_in_diff_of_income_and_stay_at_home.ipynb\" target=\"_parent\"><img src=\"https://colab.research.google.com/assets/colab-badge.svg\" alt=\"Open In Colab\"/></a>"
      ]
    },
    {
      "cell_type": "markdown",
      "metadata": {
        "id": "7aIQHjK7EEMV",
        "colab_type": "text"
      },
      "source": [
        "**in this notebook we want to investigate if household income level \"causes\" people to stay at home more or less after shelter in place occured Do richer people stay at home more after covid started?**"
      ]
    },
    {
      "cell_type": "markdown",
      "metadata": {
        "id": "mrquMr0s2XEw",
        "colab_type": "text"
      },
      "source": [
        "The idea is to see the % stay at home before and after shelter in place of low income and high income family. If high income family has a higher increase of % stay at home than low income, then we can make conclusion that income has influence over how much people will stay at home. \n",
        "\n",
        "Caveat: This is the simplest diff-in-diff analysis, there are more sophisticated versions that statistics community use but I am just using the simplest version here"
      ]
    },
    {
      "cell_type": "code",
      "metadata": {
        "id": "jG0OwAbZDKXL",
        "colab_type": "code",
        "colab": {
          "base_uri": "https://localhost:8080/",
          "height": 34
        },
        "outputId": "f4334f8a-2c74-44f0-a071-d920e053aeaf"
      },
      "source": [
        "cd drive/My\\ Drive/analysis_with_demographics"
      ],
      "execution_count": 1,
      "outputs": [
        {
          "output_type": "stream",
          "text": [
            "/content/drive/My Drive/analysis_with_demographics\n"
          ],
          "name": "stdout"
        }
      ]
    },
    {
      "cell_type": "code",
      "metadata": {
        "id": "qYU5ueitDacn",
        "colab_type": "code",
        "colab": {
          "base_uri": "https://localhost:8080/",
          "height": 221
        },
        "outputId": "a32fbe1c-bfcc-4a79-976a-28a20a37a487"
      },
      "source": [
        "ls"
      ],
      "execution_count": 2,
      "outputs": [
        {
          "output_type": "stream",
          "text": [
            " 2016_US_County_Level_Presidential_Results.csv\n",
            "'2020 County Health Rankings Data - Additional Measure Data.csv'\n",
            "'2020 County Health Rankings Data - Ranked Measure Data.csv'\n",
            " agg_social_dist\n",
            " correlational_analysis.ipynb\n",
            " county_data.csv\n",
            " diff_in_diff.ipynb\n",
            " merged_data.csv\n",
            " shelter_in_place_by_counties.csv\n",
            " shelter_in_place_by_states.csv\n",
            " state_data.csv\n",
            " us_states_governors.csv\n"
          ],
          "name": "stdout"
        }
      ]
    },
    {
      "cell_type": "code",
      "metadata": {
        "id": "4IKwk0KwDb_l",
        "colab_type": "code",
        "colab": {}
      },
      "source": [
        "import pandas as pd\n",
        "import numpy as np\n",
        "import matplotlib.pyplot as plt"
      ],
      "execution_count": 3,
      "outputs": []
    },
    {
      "cell_type": "code",
      "metadata": {
        "id": "87IURm8MDkHb",
        "colab_type": "code",
        "colab": {}
      },
      "source": [
        "df_merged = pd.read_csv(\"merged_data.csv\")"
      ],
      "execution_count": 4,
      "outputs": []
    },
    {
      "cell_type": "code",
      "metadata": {
        "id": "CDfB3PLbDr-A",
        "colab_type": "code",
        "colab": {
          "base_uri": "https://localhost:8080/",
          "height": 34
        },
        "outputId": "f63b87a1-5211-4cce-ddd2-36bf0eaec16d"
      },
      "source": [
        "df_merged['Median Household Income'].mean()"
      ],
      "execution_count": null,
      "outputs": [
        {
          "output_type": "execute_result",
          "data": {
            "text/plain": [
              "53145.07983706721"
            ]
          },
          "metadata": {
            "tags": []
          },
          "execution_count": 4
        }
      ]
    },
    {
      "cell_type": "markdown",
      "metadata": {
        "id": "u4ktOVa3D8xb",
        "colab_type": "text"
      },
      "source": [
        "- looks like the mean median household income of all counties in America is around 50000 dollars per year\n",
        "- so we need to decide what constitutes a low income family and what is middle income family and what is a high income family, and compare their before and after shelter in place behavior to do some causal inference here.\n",
        "- Let's use < 40000 as threshold for low income family, and 40000 - 80000 as middle income, and > 80000 as high income "
      ]
    },
    {
      "cell_type": "code",
      "metadata": {
        "id": "j9U5f2XGDs4C",
        "colab_type": "code",
        "colab": {
          "base_uri": "https://localhost:8080/",
          "height": 68
        },
        "outputId": "b8963af4-6955-4d22-b9a7-9c8412c559f7"
      },
      "source": [
        "numOfLowIncome = 0\n",
        "numOfMiddleIncome = 0\n",
        "numOfHighIncome = 0\n",
        "for income in df_merged['Median Household Income']:\n",
        "  if income < 40000:\n",
        "    numOfLowIncome += 1\n",
        "  elif income < 80000:\n",
        "    numOfMiddleIncome +=1\n",
        "  else:\n",
        "    numOfHighIncome += 1\n",
        "print(f\"number of low income counties: {numOfLowIncome}\")\n",
        "print(f\"number of middle income counties: {numOfMiddleIncome}\")\n",
        "print(f\"number of high income counties: {numOfHighIncome}\")"
      ],
      "execution_count": null,
      "outputs": [
        {
          "output_type": "stream",
          "text": [
            "number of low income counties: 362\n",
            "number of low middle income counties: 1946\n",
            "number of high income counties: 147\n"
          ],
          "name": "stdout"
        }
      ]
    },
    {
      "cell_type": "code",
      "metadata": {
        "id": "tZ17bMvbF7c7",
        "colab_type": "code",
        "colab": {}
      },
      "source": [
        "df_merged = df_merged[['percent_completely_home_device_before', 'percent_completely_home_device_after_sip',\\\n",
        "                       'Median Household Income']]"
      ],
      "execution_count": 5,
      "outputs": []
    },
    {
      "cell_type": "code",
      "metadata": {
        "id": "u3Jc72T9GtT-",
        "colab_type": "code",
        "colab": {
          "base_uri": "https://localhost:8080/",
          "height": 204
        },
        "outputId": "8eaf6ddb-fa9e-4a50-dcec-3620794a1721"
      },
      "source": [
        "df_merged.head()"
      ],
      "execution_count": 6,
      "outputs": [
        {
          "output_type": "execute_result",
          "data": {
            "text/html": [
              "<div>\n",
              "<style scoped>\n",
              "    .dataframe tbody tr th:only-of-type {\n",
              "        vertical-align: middle;\n",
              "    }\n",
              "\n",
              "    .dataframe tbody tr th {\n",
              "        vertical-align: top;\n",
              "    }\n",
              "\n",
              "    .dataframe thead th {\n",
              "        text-align: right;\n",
              "    }\n",
              "</style>\n",
              "<table border=\"1\" class=\"dataframe\">\n",
              "  <thead>\n",
              "    <tr style=\"text-align: right;\">\n",
              "      <th></th>\n",
              "      <th>percent_completely_home_device_before</th>\n",
              "      <th>percent_completely_home_device_after_sip</th>\n",
              "      <th>Median Household Income</th>\n",
              "    </tr>\n",
              "  </thead>\n",
              "  <tbody>\n",
              "    <tr>\n",
              "      <th>0</th>\n",
              "      <td>0.251283</td>\n",
              "      <td>0.289275</td>\n",
              "      <td>42412.0</td>\n",
              "    </tr>\n",
              "    <tr>\n",
              "      <th>1</th>\n",
              "      <td>0.196973</td>\n",
              "      <td>0.277490</td>\n",
              "      <td>40484.0</td>\n",
              "    </tr>\n",
              "    <tr>\n",
              "      <th>2</th>\n",
              "      <td>0.251292</td>\n",
              "      <td>0.337730</td>\n",
              "      <td>42879.0</td>\n",
              "    </tr>\n",
              "    <tr>\n",
              "      <th>3</th>\n",
              "      <td>0.254269</td>\n",
              "      <td>0.406879</td>\n",
              "      <td>66827.0</td>\n",
              "    </tr>\n",
              "    <tr>\n",
              "      <th>4</th>\n",
              "      <td>0.234935</td>\n",
              "      <td>0.299196</td>\n",
              "      <td>37392.0</td>\n",
              "    </tr>\n",
              "  </tbody>\n",
              "</table>\n",
              "</div>"
            ],
            "text/plain": [
              "   percent_completely_home_device_before  ...  Median Household Income\n",
              "0                               0.251283  ...                  42412.0\n",
              "1                               0.196973  ...                  40484.0\n",
              "2                               0.251292  ...                  42879.0\n",
              "3                               0.254269  ...                  66827.0\n",
              "4                               0.234935  ...                  37392.0\n",
              "\n",
              "[5 rows x 3 columns]"
            ]
          },
          "metadata": {
            "tags": []
          },
          "execution_count": 6
        }
      ]
    },
    {
      "cell_type": "code",
      "metadata": {
        "id": "4D-TrAw4G_wr",
        "colab_type": "code",
        "colab": {}
      },
      "source": [
        "low_income_df = df_merged[df_merged['Median Household Income'] < 40000]"
      ],
      "execution_count": 7,
      "outputs": []
    },
    {
      "cell_type": "code",
      "metadata": {
        "id": "SddFIbh9HITk",
        "colab_type": "code",
        "colab": {}
      },
      "source": [
        "middle_income_df = df_merged[(df_merged['Median Household Income'] >= 40000) &\\\n",
        "                             (df_merged['Median Household Income'] < 80000) ]"
      ],
      "execution_count": 8,
      "outputs": []
    },
    {
      "cell_type": "code",
      "metadata": {
        "id": "Mc-UhVSPHSee",
        "colab_type": "code",
        "colab": {}
      },
      "source": [
        "high_income_df = df_merged[df_merged['Median Household Income'] >= 80000]"
      ],
      "execution_count": 9,
      "outputs": []
    },
    {
      "cell_type": "code",
      "metadata": {
        "id": "r4IxjHJOHaOt",
        "colab_type": "code",
        "colab": {
          "base_uri": "https://localhost:8080/",
          "height": 34
        },
        "outputId": "b2570c1f-c8ae-4d7c-a361-cc8fc66db5cb"
      },
      "source": [
        "low_before = low_income_df['percent_completely_home_device_before'].mean()\n",
        "low_before"
      ],
      "execution_count": 10,
      "outputs": [
        {
          "output_type": "execute_result",
          "data": {
            "text/plain": [
              "0.23695879076797485"
            ]
          },
          "metadata": {
            "tags": []
          },
          "execution_count": 10
        }
      ]
    },
    {
      "cell_type": "code",
      "metadata": {
        "id": "pGKw1l3yHpU3",
        "colab_type": "code",
        "colab": {
          "base_uri": "https://localhost:8080/",
          "height": 34
        },
        "outputId": "32705d92-71f6-485c-ab07-4f64ed65ab3a"
      },
      "source": [
        "low_after = low_income_df['percent_completely_home_device_after_sip'].mean()\n",
        "low_after"
      ],
      "execution_count": 11,
      "outputs": [
        {
          "output_type": "execute_result",
          "data": {
            "text/plain": [
              "0.3048157914023925"
            ]
          },
          "metadata": {
            "tags": []
          },
          "execution_count": 11
        }
      ]
    },
    {
      "cell_type": "code",
      "metadata": {
        "id": "-cxSdRpvHtUU",
        "colab_type": "code",
        "colab": {
          "base_uri": "https://localhost:8080/",
          "height": 34
        },
        "outputId": "f8612ee2-a4d6-4478-ee50-7006611a8793"
      },
      "source": [
        "middle_before = middle_income_df['percent_completely_home_device_before'].mean()\n",
        "middle_before"
      ],
      "execution_count": 12,
      "outputs": [
        {
          "output_type": "execute_result",
          "data": {
            "text/plain": [
              "0.25165462675431804"
            ]
          },
          "metadata": {
            "tags": []
          },
          "execution_count": 12
        }
      ]
    },
    {
      "cell_type": "code",
      "metadata": {
        "id": "CpRmW7uOHxTy",
        "colab_type": "code",
        "colab": {
          "base_uri": "https://localhost:8080/",
          "height": 34
        },
        "outputId": "b1be0afb-099c-48ad-aafc-0d9d08e565cd"
      },
      "source": [
        "middle_after = middle_income_df['percent_completely_home_device_after_sip'].mean()\n",
        "middle_after"
      ],
      "execution_count": 13,
      "outputs": [
        {
          "output_type": "execute_result",
          "data": {
            "text/plain": [
              "0.3538584892799498"
            ]
          },
          "metadata": {
            "tags": []
          },
          "execution_count": 13
        }
      ]
    },
    {
      "cell_type": "code",
      "metadata": {
        "id": "vH0r6pDLH0FD",
        "colab_type": "code",
        "colab": {
          "base_uri": "https://localhost:8080/",
          "height": 34
        },
        "outputId": "6c1dee25-c25b-4173-a262-514fc6511efd"
      },
      "source": [
        "high_before = high_income_df['percent_completely_home_device_before'].mean()\n",
        "high_before"
      ],
      "execution_count": 14,
      "outputs": [
        {
          "output_type": "execute_result",
          "data": {
            "text/plain": [
              "0.27235039047872084"
            ]
          },
          "metadata": {
            "tags": []
          },
          "execution_count": 14
        }
      ]
    },
    {
      "cell_type": "code",
      "metadata": {
        "id": "WFdn5UBpH2SK",
        "colab_type": "code",
        "colab": {
          "base_uri": "https://localhost:8080/",
          "height": 34
        },
        "outputId": "ed46731e-553e-446b-b5bc-c7fc76d59080"
      },
      "source": [
        "high_after = high_income_df['percent_completely_home_device_after_sip'].mean()\n",
        "high_after"
      ],
      "execution_count": 15,
      "outputs": [
        {
          "output_type": "execute_result",
          "data": {
            "text/plain": [
              "0.44778400482020814"
            ]
          },
          "metadata": {
            "tags": []
          },
          "execution_count": 15
        }
      ]
    },
    {
      "cell_type": "code",
      "metadata": {
        "id": "ytLyIXM6H4rQ",
        "colab_type": "code",
        "colab": {
          "base_uri": "https://localhost:8080/",
          "height": 266
        },
        "outputId": "63b87591-46ea-41e0-f135-7dbda70c63fe"
      },
      "source": [
        "plt.scatter([1,3], [low_before, low_after],\n",
        "            label = 'low income family')\n",
        "plt.scatter([1,3], [middle_before, middle_after],\n",
        "            label = 'middle income family')\n",
        "plt.scatter([1,3], [high_before, high_after],\n",
        "            label = 'high income family')\n",
        "plt.legend()\n",
        "plt.vlines(x=2, ymin=0.2, ymax=0.45, linestyles=\"dashed\", colors='b')\n",
        "plt.ylabel(\"completely stay at home device percentage\")\n",
        "plt.annotate('before shelter in place order', xy=(1, 0.23), xytext = (1.25, 0.20), arrowprops=dict(facecolor='black', shrink=0.05))\n",
        "plt.annotate('after shelter in place order', xy=(3, 0.3), xytext = (2.5, 0.20), arrowprops=dict(facecolor='black', shrink=0.05))\n",
        "plt.show()"
      ],
      "execution_count": 61,
      "outputs": [
        {
          "output_type": "display_data",
          "data": {
            "image/png": "[encoded data removed]",
            "text/plain": [
              "<Figure size 432x288 with 1 Axes>"
            ]
          },
          "metadata": {
            "tags": [],
            "needs_background": "light"
          }
        }
      ]
    },
    {
      "cell_type": "markdown",
      "metadata": {
        "id": "IPxzs5TAsVel",
        "colab_type": "text"
      },
      "source": [
        "As we can see, the lower income families's stay at home percentages increases after shelter at home order is placed, but not as much as middle income family. Middle income family' stay at home behaviors didn't increase as much as high income family. \\\\\n",
        "This makes some sense since the more money a family has the more easily they can afford to stay at home because they have money. Lower income family might still need to go out to work and everything"
      ]
    },
    {
      "cell_type": "markdown",
      "metadata": {
        "id": "shQ0hOZvs9De",
        "colab_type": "text"
      },
      "source": [
        "Now, since our handpicked values definition of low/ middle /high income might not be accurate, let's just use percentile wise definition. the lowest 25% income data in our data will be classified as low, and lowest 25% - 50% will be low middle, 50% - 75% will be middle, 75% - 100% will be high income. And let's see the diff in diff analysis in that setting. "
      ]
    },
    {
      "cell_type": "code",
      "metadata": {
        "id": "Al5QUv9FsNOD",
        "colab_type": "code",
        "colab": {
          "base_uri": "https://localhost:8080/",
          "height": 419
        },
        "outputId": "53c12157-5164-4b0e-c7da-51dfa54e88f8"
      },
      "source": [
        "df_merged"
      ],
      "execution_count": 62,
      "outputs": [
        {
          "output_type": "execute_result",
          "data": {
            "text/html": [
              "<div>\n",
              "<style scoped>\n",
              "    .dataframe tbody tr th:only-of-type {\n",
              "        vertical-align: middle;\n",
              "    }\n",
              "\n",
              "    .dataframe tbody tr th {\n",
              "        vertical-align: top;\n",
              "    }\n",
              "\n",
              "    .dataframe thead th {\n",
              "        text-align: right;\n",
              "    }\n",
              "</style>\n",
              "<table border=\"1\" class=\"dataframe\">\n",
              "  <thead>\n",
              "    <tr style=\"text-align: right;\">\n",
              "      <th></th>\n",
              "      <th>percent_completely_home_device_before</th>\n",
              "      <th>percent_completely_home_device_after_sip</th>\n",
              "      <th>Median Household Income</th>\n",
              "    </tr>\n",
              "  </thead>\n",
              "  <tbody>\n",
              "    <tr>\n",
              "      <th>0</th>\n",
              "      <td>0.251283</td>\n",
              "      <td>0.289275</td>\n",
              "      <td>42412.0</td>\n",
              "    </tr>\n",
              "    <tr>\n",
              "      <th>1</th>\n",
              "      <td>0.196973</td>\n",
              "      <td>0.277490</td>\n",
              "      <td>40484.0</td>\n",
              "    </tr>\n",
              "    <tr>\n",
              "      <th>2</th>\n",
              "      <td>0.251292</td>\n",
              "      <td>0.337730</td>\n",
              "      <td>42879.0</td>\n",
              "    </tr>\n",
              "    <tr>\n",
              "      <th>3</th>\n",
              "      <td>0.254269</td>\n",
              "      <td>0.406879</td>\n",
              "      <td>66827.0</td>\n",
              "    </tr>\n",
              "    <tr>\n",
              "      <th>4</th>\n",
              "      <td>0.234935</td>\n",
              "      <td>0.299196</td>\n",
              "      <td>37392.0</td>\n",
              "    </tr>\n",
              "    <tr>\n",
              "      <th>...</th>\n",
              "      <td>...</td>\n",
              "      <td>...</td>\n",
              "      <td>...</td>\n",
              "    </tr>\n",
              "    <tr>\n",
              "      <th>2450</th>\n",
              "      <td>0.248405</td>\n",
              "      <td>0.307165</td>\n",
              "      <td>38912.0</td>\n",
              "    </tr>\n",
              "    <tr>\n",
              "      <th>2451</th>\n",
              "      <td>0.308820</td>\n",
              "      <td>0.380388</td>\n",
              "      <td>44116.0</td>\n",
              "    </tr>\n",
              "    <tr>\n",
              "      <th>2452</th>\n",
              "      <td>0.243436</td>\n",
              "      <td>0.313770</td>\n",
              "      <td>53253.0</td>\n",
              "    </tr>\n",
              "    <tr>\n",
              "      <th>2453</th>\n",
              "      <td>0.230928</td>\n",
              "      <td>0.340662</td>\n",
              "      <td>33160.0</td>\n",
              "    </tr>\n",
              "    <tr>\n",
              "      <th>2454</th>\n",
              "      <td>0.246366</td>\n",
              "      <td>0.325489</td>\n",
              "      <td>30076.0</td>\n",
              "    </tr>\n",
              "  </tbody>\n",
              "</table>\n",
              "<p>2455 rows × 3 columns</p>\n",
              "</div>"
            ],
            "text/plain": [
              "      percent_completely_home_device_before  ...  Median Household Income\n",
              "0                                  0.251283  ...                  42412.0\n",
              "1                                  0.196973  ...                  40484.0\n",
              "2                                  0.251292  ...                  42879.0\n",
              "3                                  0.254269  ...                  66827.0\n",
              "4                                  0.234935  ...                  37392.0\n",
              "...                                     ...  ...                      ...\n",
              "2450                               0.248405  ...                  38912.0\n",
              "2451                               0.308820  ...                  44116.0\n",
              "2452                               0.243436  ...                  53253.0\n",
              "2453                               0.230928  ...                  33160.0\n",
              "2454                               0.246366  ...                  30076.0\n",
              "\n",
              "[2455 rows x 3 columns]"
            ]
          },
          "metadata": {
            "tags": []
          },
          "execution_count": 62
        }
      ]
    },
    {
      "cell_type": "code",
      "metadata": {
        "id": "YEMa0BjWsRWZ",
        "colab_type": "code",
        "colab": {}
      },
      "source": [
        "df_merged = df_merged[['percent_completely_home_device_before', 'percent_completely_home_device_after_sip',\\\n",
        "                       'Median Household Income']]"
      ],
      "execution_count": 63,
      "outputs": []
    },
    {
      "cell_type": "code",
      "metadata": {
        "id": "DxdB3xdesVfF",
        "colab_type": "code",
        "colab": {
          "base_uri": "https://localhost:8080/",
          "height": 419
        },
        "outputId": "3bff5068-c39a-419e-f4a0-6cc70dccd631"
      },
      "source": [
        "df_merged"
      ],
      "execution_count": 64,
      "outputs": [
        {
          "output_type": "execute_result",
          "data": {
            "text/html": [
              "<div>\n",
              "<style scoped>\n",
              "    .dataframe tbody tr th:only-of-type {\n",
              "        vertical-align: middle;\n",
              "    }\n",
              "\n",
              "    .dataframe tbody tr th {\n",
              "        vertical-align: top;\n",
              "    }\n",
              "\n",
              "    .dataframe thead th {\n",
              "        text-align: right;\n",
              "    }\n",
              "</style>\n",
              "<table border=\"1\" class=\"dataframe\">\n",
              "  <thead>\n",
              "    <tr style=\"text-align: right;\">\n",
              "      <th></th>\n",
              "      <th>percent_completely_home_device_before</th>\n",
              "      <th>percent_completely_home_device_after_sip</th>\n",
              "      <th>Median Household Income</th>\n",
              "    </tr>\n",
              "  </thead>\n",
              "  <tbody>\n",
              "    <tr>\n",
              "      <th>0</th>\n",
              "      <td>0.251283</td>\n",
              "      <td>0.289275</td>\n",
              "      <td>42412.0</td>\n",
              "    </tr>\n",
              "    <tr>\n",
              "      <th>1</th>\n",
              "      <td>0.196973</td>\n",
              "      <td>0.277490</td>\n",
              "      <td>40484.0</td>\n",
              "    </tr>\n",
              "    <tr>\n",
              "      <th>2</th>\n",
              "      <td>0.251292</td>\n",
              "      <td>0.337730</td>\n",
              "      <td>42879.0</td>\n",
              "    </tr>\n",
              "    <tr>\n",
              "      <th>3</th>\n",
              "      <td>0.254269</td>\n",
              "      <td>0.406879</td>\n",
              "      <td>66827.0</td>\n",
              "    </tr>\n",
              "    <tr>\n",
              "      <th>4</th>\n",
              "      <td>0.234935</td>\n",
              "      <td>0.299196</td>\n",
              "      <td>37392.0</td>\n",
              "    </tr>\n",
              "    <tr>\n",
              "      <th>...</th>\n",
              "      <td>...</td>\n",
              "      <td>...</td>\n",
              "      <td>...</td>\n",
              "    </tr>\n",
              "    <tr>\n",
              "      <th>2450</th>\n",
              "      <td>0.248405</td>\n",
              "      <td>0.307165</td>\n",
              "      <td>38912.0</td>\n",
              "    </tr>\n",
              "    <tr>\n",
              "      <th>2451</th>\n",
              "      <td>0.308820</td>\n",
              "      <td>0.380388</td>\n",
              "      <td>44116.0</td>\n",
              "    </tr>\n",
              "    <tr>\n",
              "      <th>2452</th>\n",
              "      <td>0.243436</td>\n",
              "      <td>0.313770</td>\n",
              "      <td>53253.0</td>\n",
              "    </tr>\n",
              "    <tr>\n",
              "      <th>2453</th>\n",
              "      <td>0.230928</td>\n",
              "      <td>0.340662</td>\n",
              "      <td>33160.0</td>\n",
              "    </tr>\n",
              "    <tr>\n",
              "      <th>2454</th>\n",
              "      <td>0.246366</td>\n",
              "      <td>0.325489</td>\n",
              "      <td>30076.0</td>\n",
              "    </tr>\n",
              "  </tbody>\n",
              "</table>\n",
              "<p>2455 rows × 3 columns</p>\n",
              "</div>"
            ],
            "text/plain": [
              "      percent_completely_home_device_before  ...  Median Household Income\n",
              "0                                  0.251283  ...                  42412.0\n",
              "1                                  0.196973  ...                  40484.0\n",
              "2                                  0.251292  ...                  42879.0\n",
              "3                                  0.254269  ...                  66827.0\n",
              "4                                  0.234935  ...                  37392.0\n",
              "...                                     ...  ...                      ...\n",
              "2450                               0.248405  ...                  38912.0\n",
              "2451                               0.308820  ...                  44116.0\n",
              "2452                               0.243436  ...                  53253.0\n",
              "2453                               0.230928  ...                  33160.0\n",
              "2454                               0.246366  ...                  30076.0\n",
              "\n",
              "[2455 rows x 3 columns]"
            ]
          },
          "metadata": {
            "tags": []
          },
          "execution_count": 64
        }
      ]
    },
    {
      "cell_type": "code",
      "metadata": {
        "id": "gIQ8XLKRsWIQ",
        "colab_type": "code",
        "colab": {}
      },
      "source": [
        "# using pandas cut function to cut dataframe in terms of median household income\n",
        "# in 4 intervals, as we devised.\n",
        "intervals = pd.cut(df_merged['Median Household Income'], 4)"
      ],
      "execution_count": 65,
      "outputs": []
    },
    {
      "cell_type": "code",
      "metadata": {
        "id": "FdKMK3aLshVx",
        "colab_type": "code",
        "colab": {}
      },
      "source": [
        "# merge which interval row is in with dataframe\n",
        "df_merged['income_interval'] = intervals"
      ],
      "execution_count": 66,
      "outputs": []
    },
    {
      "cell_type": "code",
      "metadata": {
        "id": "wMLI26das9pe",
        "colab_type": "code",
        "colab": {
          "base_uri": "https://localhost:8080/",
          "height": 204
        },
        "outputId": "d7d891c5-9783-4d60-cb25-f55f2859be14"
      },
      "source": [
        "df_merged.head()"
      ],
      "execution_count": 67,
      "outputs": [
        {
          "output_type": "execute_result",
          "data": {
            "text/html": [
              "<div>\n",
              "<style scoped>\n",
              "    .dataframe tbody tr th:only-of-type {\n",
              "        vertical-align: middle;\n",
              "    }\n",
              "\n",
              "    .dataframe tbody tr th {\n",
              "        vertical-align: top;\n",
              "    }\n",
              "\n",
              "    .dataframe thead th {\n",
              "        text-align: right;\n",
              "    }\n",
              "</style>\n",
              "<table border=\"1\" class=\"dataframe\">\n",
              "  <thead>\n",
              "    <tr style=\"text-align: right;\">\n",
              "      <th></th>\n",
              "      <th>percent_completely_home_device_before</th>\n",
              "      <th>percent_completely_home_device_after_sip</th>\n",
              "      <th>Median Household Income</th>\n",
              "      <th>income_interval</th>\n",
              "    </tr>\n",
              "  </thead>\n",
              "  <tbody>\n",
              "    <tr>\n",
              "      <th>0</th>\n",
              "      <td>0.251283</td>\n",
              "      <td>0.289275</td>\n",
              "      <td>42412.0</td>\n",
              "      <td>(25270.003, 54134.25]</td>\n",
              "    </tr>\n",
              "    <tr>\n",
              "      <th>1</th>\n",
              "      <td>0.196973</td>\n",
              "      <td>0.277490</td>\n",
              "      <td>40484.0</td>\n",
              "      <td>(25270.003, 54134.25]</td>\n",
              "    </tr>\n",
              "    <tr>\n",
              "      <th>2</th>\n",
              "      <td>0.251292</td>\n",
              "      <td>0.337730</td>\n",
              "      <td>42879.0</td>\n",
              "      <td>(25270.003, 54134.25]</td>\n",
              "    </tr>\n",
              "    <tr>\n",
              "      <th>3</th>\n",
              "      <td>0.254269</td>\n",
              "      <td>0.406879</td>\n",
              "      <td>66827.0</td>\n",
              "      <td>(54134.25, 82883.5]</td>\n",
              "    </tr>\n",
              "    <tr>\n",
              "      <th>4</th>\n",
              "      <td>0.234935</td>\n",
              "      <td>0.299196</td>\n",
              "      <td>37392.0</td>\n",
              "      <td>(25270.003, 54134.25]</td>\n",
              "    </tr>\n",
              "  </tbody>\n",
              "</table>\n",
              "</div>"
            ],
            "text/plain": [
              "   percent_completely_home_device_before  ...        income_interval\n",
              "0                               0.251283  ...  (25270.003, 54134.25]\n",
              "1                               0.196973  ...  (25270.003, 54134.25]\n",
              "2                               0.251292  ...  (25270.003, 54134.25]\n",
              "3                               0.254269  ...    (54134.25, 82883.5]\n",
              "4                               0.234935  ...  (25270.003, 54134.25]\n",
              "\n",
              "[5 rows x 4 columns]"
            ]
          },
          "metadata": {
            "tags": []
          },
          "execution_count": 67
        }
      ]
    },
    {
      "cell_type": "code",
      "metadata": {
        "id": "ToQJeVBbtItI",
        "colab_type": "code",
        "colab": {}
      },
      "source": [
        "df_perc_stay_at_home_and_income_level = df_merged.groupby('income_interval').mean().reset_index()"
      ],
      "execution_count": 70,
      "outputs": []
    },
    {
      "cell_type": "code",
      "metadata": {
        "id": "ko0vtgtXzUlP",
        "colab_type": "code",
        "colab": {
          "base_uri": "https://localhost:8080/",
          "height": 173
        },
        "outputId": "18a85b4b-baac-4d65-8745-2c919e198856"
      },
      "source": [
        "df_perc_stay_at_home_and_income_level"
      ],
      "execution_count": 71,
      "outputs": [
        {
          "output_type": "execute_result",
          "data": {
            "text/html": [
              "<div>\n",
              "<style scoped>\n",
              "    .dataframe tbody tr th:only-of-type {\n",
              "        vertical-align: middle;\n",
              "    }\n",
              "\n",
              "    .dataframe tbody tr th {\n",
              "        vertical-align: top;\n",
              "    }\n",
              "\n",
              "    .dataframe thead th {\n",
              "        text-align: right;\n",
              "    }\n",
              "</style>\n",
              "<table border=\"1\" class=\"dataframe\">\n",
              "  <thead>\n",
              "    <tr style=\"text-align: right;\">\n",
              "      <th></th>\n",
              "      <th>income_interval</th>\n",
              "      <th>percent_completely_home_device_before</th>\n",
              "      <th>percent_completely_home_device_after_sip</th>\n",
              "      <th>Median Household Income</th>\n",
              "    </tr>\n",
              "  </thead>\n",
              "  <tbody>\n",
              "    <tr>\n",
              "      <th>0</th>\n",
              "      <td>(25270.003, 54134.25]</td>\n",
              "      <td>0.244972</td>\n",
              "      <td>0.329537</td>\n",
              "      <td>44755.173213</td>\n",
              "    </tr>\n",
              "    <tr>\n",
              "      <th>1</th>\n",
              "      <td>(54134.25, 82883.5]</td>\n",
              "      <td>0.258963</td>\n",
              "      <td>0.382257</td>\n",
              "      <td>63346.244275</td>\n",
              "    </tr>\n",
              "    <tr>\n",
              "      <th>2</th>\n",
              "      <td>(82883.5, 111632.75]</td>\n",
              "      <td>0.270902</td>\n",
              "      <td>0.445643</td>\n",
              "      <td>92529.663366</td>\n",
              "    </tr>\n",
              "    <tr>\n",
              "      <th>3</th>\n",
              "      <td>(111632.75, 140382.0]</td>\n",
              "      <td>0.279151</td>\n",
              "      <td>0.502732</td>\n",
              "      <td>122049.533333</td>\n",
              "    </tr>\n",
              "  </tbody>\n",
              "</table>\n",
              "</div>"
            ],
            "text/plain": [
              "         income_interval  ...  Median Household Income\n",
              "0  (25270.003, 54134.25]  ...             44755.173213\n",
              "1    (54134.25, 82883.5]  ...             63346.244275\n",
              "2   (82883.5, 111632.75]  ...             92529.663366\n",
              "3  (111632.75, 140382.0]  ...            122049.533333\n",
              "\n",
              "[4 rows x 4 columns]"
            ]
          },
          "metadata": {
            "tags": []
          },
          "execution_count": 71
        }
      ]
    },
    {
      "cell_type": "code",
      "metadata": {
        "id": "laDmeAAgzsq8",
        "colab_type": "code",
        "colab": {
          "base_uri": "https://localhost:8080/",
          "height": 34
        },
        "outputId": "5de3ce42-ac0c-4765-d501-437668993d50"
      },
      "source": [
        "df_perc_stay_at_home_and_income_level.iloc[0]['percent_completely_home_device_before']"
      ],
      "execution_count": 73,
      "outputs": [
        {
          "output_type": "execute_result",
          "data": {
            "text/plain": [
              "0.2449719144099112"
            ]
          },
          "metadata": {
            "tags": []
          },
          "execution_count": 73
        }
      ]
    },
    {
      "cell_type": "code",
      "metadata": {
        "id": "QYhqq8jDzKth",
        "colab_type": "code",
        "colab": {
          "base_uri": "https://localhost:8080/",
          "height": 266
        },
        "outputId": "d2b72b62-f0ce-427f-8542-d6049c8f03c4"
      },
      "source": [
        "plt.scatter([1,3], [df_perc_stay_at_home_and_income_level.iloc[0]['percent_completely_home_device_before'],\\\n",
        "                    df_perc_stay_at_home_and_income_level.iloc[0]['percent_completely_home_device_after_sip']],\n",
        "            label = '0 - 0.25 percentile of income')\n",
        "plt.scatter([1,3], [df_perc_stay_at_home_and_income_level.iloc[1]['percent_completely_home_device_before'],\\\n",
        "                    df_perc_stay_at_home_and_income_level.iloc[1]['percent_completely_home_device_after_sip']],\n",
        "            label = '0.25 - 0.5 percentile income')\n",
        "plt.scatter([1,3], [df_perc_stay_at_home_and_income_level.iloc[2]['percent_completely_home_device_before'],\\\n",
        "                    df_perc_stay_at_home_and_income_level.iloc[2]['percent_completely_home_device_after_sip']],\n",
        "            label = '0.5 - 0.75 percentile income')\n",
        "plt.scatter([1,3], [df_perc_stay_at_home_and_income_level.iloc[3]['percent_completely_home_device_before'],\\\n",
        "                    df_perc_stay_at_home_and_income_level.iloc[3]['percent_completely_home_device_after_sip']],\n",
        "            label = '0.75 - 1 percentile income')\n",
        "plt.legend()\n",
        "plt.vlines(x=2, ymin=0.2, ymax=0.45, linestyles=\"dashed\", colors='b')\n",
        "plt.ylabel(\"completely stay at home device percentage\")\n",
        "plt.annotate('before shelter in place order', xy=(1, 0.24), xytext = (1.25, 0.25), arrowprops=dict(facecolor='black', shrink=0.05))\n",
        "plt.annotate('after shelter in place order', xy=(3, 0.325), xytext = (2.5, 0.25), arrowprops=dict(facecolor='black', shrink=0.05))\n",
        "plt.show()"
      ],
      "execution_count": 79,
      "outputs": [
        {
          "output_type": "display_data",
          "data": {
            "image/png": "[encoded data removed]",
            "text/plain": [
              "<Figure size 432x288 with 1 Axes>"
            ]
          },
          "metadata": {
            "tags": [],
            "needs_background": "light"
          }
        }
      ]
    },
    {
      "cell_type": "markdown",
      "metadata": {
        "id": "gAV6ApOy1sgv",
        "colab_type": "text"
      },
      "source": [
        "As we can see, lowest 25% income family increases their behavior of stay at home after shelter in place, but not as much as lowest 25-50%, and not as much as top 50-25%, and top 25%. \\\\\n",
        "**We can pretty much see a gradient - the more income a family has, the more drastic the positive change of stay at home behavior after shelter in place order is issued. This is pretty interesting**"
      ]
    },
    {
      "cell_type": "markdown",
      "metadata": {
        "id": "m3k_KV3k66IS",
        "colab_type": "text"
      },
      "source": [
        "Now let's do diff in diff analysis on variables other than median income"
      ]
    },
    {
      "cell_type": "code",
      "metadata": {
        "id": "g3_gUOse6_C6",
        "colab_type": "code",
        "colab": {}
      },
      "source": [
        "df_merged = pd.read_csv(\"merged_data.csv\")"
      ],
      "execution_count": 81,
      "outputs": []
    },
    {
      "cell_type": "code",
      "metadata": {
        "id": "NhQ396JytQP3",
        "colab_type": "code",
        "colab": {}
      },
      "source": [
        "# the function of doing diff in diff analysis given a variable\n",
        "def diff_in_diff_of_variable(variable):\n",
        "  df = df_merged[['percent_completely_home_device_before', 'percent_completely_home_device_after_sip',\\\n",
        "                  variable]]\n",
        "  intervals = pd.cut(df[variable], 4)\n",
        "  df['interval'] = intervals\n",
        "  result = df.groupby('interval').mean().reset_index()\n",
        "  result['difference'] = result['percent_completely_home_device_after_sip'] -\\\n",
        "    result['percent_completely_home_device_before']\n",
        "  # plot\n",
        "  plt.scatter([1,3], [result.iloc[0]['percent_completely_home_device_before'],\\\n",
        "                      result.iloc[0]['percent_completely_home_device_after_sip']],\n",
        "              label = f'0 - 0.25 percentile of {variable}')\n",
        "  plt.scatter([1,3], [result.iloc[1]['percent_completely_home_device_before'],\\\n",
        "                      result.iloc[1]['percent_completely_home_device_after_sip']],\n",
        "              label = f'0.25 - 0.5 percentile of {variable}')\n",
        "  plt.scatter([1,3], [result.iloc[2]['percent_completely_home_device_before'],\\\n",
        "                      result.iloc[2]['percent_completely_home_device_after_sip']],\n",
        "              label = f'0.5 - 0.75 percentile of {variable}')\n",
        "  plt.scatter([1,3], [result.iloc[3]['percent_completely_home_device_before'],\\\n",
        "                      result.iloc[3]['percent_completely_home_device_after_sip']],\n",
        "              label = f'0.75 - 1 percentile of {variable}')\n",
        "  plt.legend()\n",
        "  plt.vlines(x=2, ymin=0.2, ymax=0.45, linestyles=\"dashed\", colors='b')\n",
        "  plt.ylabel(\"completely stay at home device percentage\")\n",
        "  plt.annotate('before shelter in place order', xy=(1, 0.2))\n",
        "  plt.annotate('after shelter in place order', xy=(2.2, 0.2))\n",
        "  plt.show()"
      ],
      "execution_count": 127,
      "outputs": []
    },
    {
      "cell_type": "code",
      "metadata": {
        "id": "YnkDC-Hy7pHB",
        "colab_type": "code",
        "colab": {
          "base_uri": "https://localhost:8080/",
          "height": 368
        },
        "outputId": "3b7fdba2-5647-4bbb-c4e3-b04883f590a2"
      },
      "source": [
        "diff_in_diff_of_variable('% Asian')"
      ],
      "execution_count": 128,
      "outputs": [
        {
          "output_type": "stream",
          "text": [
            "/usr/local/lib/python3.6/dist-packages/ipykernel_launcher.py:5: SettingWithCopyWarning: \n",
            "A value is trying to be set on a copy of a slice from a DataFrame.\n",
            "Try using .loc[row_indexer,col_indexer] = value instead\n",
            "\n",
            "See the caveats in the documentation: https://pandas.pydata.org/pandas-docs/stable/user_guide/indexing.html#returning-a-view-versus-a-copy\n",
            "  \"\"\"\n"
          ],
          "name": "stderr"
        },
        {
          "output_type": "display_data",
          "data": {
            "image/png": "[encoded data removed]",
            "text/plain": [
              "<Figure size 432x288 with 1 Axes>"
            ]
          },
          "metadata": {
            "tags": [],
            "needs_background": "light"
          }
        }
      ]
    },
    {
      "cell_type": "code",
      "metadata": {
        "id": "tZo35bOA7t1H",
        "colab_type": "code",
        "colab": {
          "base_uri": "https://localhost:8080/",
          "height": 368
        },
        "outputId": "5901d81a-27d0-4595-ffec-65d77c1ca7b7"
      },
      "source": [
        "diff_in_diff_of_variable('Median Household Income')"
      ],
      "execution_count": 115,
      "outputs": [
        {
          "output_type": "stream",
          "text": [
            "/usr/local/lib/python3.6/dist-packages/ipykernel_launcher.py:5: SettingWithCopyWarning: \n",
            "A value is trying to be set on a copy of a slice from a DataFrame.\n",
            "Try using .loc[row_indexer,col_indexer] = value instead\n",
            "\n",
            "See the caveats in the documentation: https://pandas.pydata.org/pandas-docs/stable/user_guide/indexing.html#returning-a-view-versus-a-copy\n",
            "  \"\"\"\n"
          ],
          "name": "stderr"
        },
        {
          "output_type": "display_data",
          "data": {
            "image/png": "[encoded data removed]",
            "text/plain": [
              "<Figure size 432x288 with 1 Axes>"
            ]
          },
          "metadata": {
            "tags": [],
            "needs_background": "light"
          }
        }
      ]
    },
    {
      "cell_type": "code",
      "metadata": {
        "id": "xvJnL2Kl72U8",
        "colab_type": "code",
        "colab": {
          "base_uri": "https://localhost:8080/",
          "height": 368
        },
        "outputId": "a1cae339-fd13-41fe-f543-84cbcef60ab2"
      },
      "source": [
        "diff_in_diff_of_variable('per_dem')"
      ],
      "execution_count": 116,
      "outputs": [
        {
          "output_type": "stream",
          "text": [
            "/usr/local/lib/python3.6/dist-packages/ipykernel_launcher.py:5: SettingWithCopyWarning: \n",
            "A value is trying to be set on a copy of a slice from a DataFrame.\n",
            "Try using .loc[row_indexer,col_indexer] = value instead\n",
            "\n",
            "See the caveats in the documentation: https://pandas.pydata.org/pandas-docs/stable/user_guide/indexing.html#returning-a-view-versus-a-copy\n",
            "  \"\"\"\n"
          ],
          "name": "stderr"
        },
        {
          "output_type": "display_data",
          "data": {
            "image/png": "[encoded data removed]",
            "text/plain": [
              "<Figure size 432x288 with 1 Axes>"
            ]
          },
          "metadata": {
            "tags": [],
            "needs_background": "light"
          }
        }
      ]
    },
    {
      "cell_type": "code",
      "metadata": {
        "id": "BID-4zPq8hTB",
        "colab_type": "code",
        "colab": {
          "base_uri": "https://localhost:8080/",
          "height": 368
        },
        "outputId": "c94ec878-a4e2-4eb8-f159-801d5e8e399f"
      },
      "source": [
        "diff_in_diff_of_variable('% 65 and over')"
      ],
      "execution_count": 117,
      "outputs": [
        {
          "output_type": "stream",
          "text": [
            "/usr/local/lib/python3.6/dist-packages/ipykernel_launcher.py:5: SettingWithCopyWarning: \n",
            "A value is trying to be set on a copy of a slice from a DataFrame.\n",
            "Try using .loc[row_indexer,col_indexer] = value instead\n",
            "\n",
            "See the caveats in the documentation: https://pandas.pydata.org/pandas-docs/stable/user_guide/indexing.html#returning-a-view-versus-a-copy\n",
            "  \"\"\"\n"
          ],
          "name": "stderr"
        },
        {
          "output_type": "display_data",
          "data": {
            "image/png": "[encoded data removed]",
            "text/plain": [
              "<Figure size 432x288 with 1 Axes>"
            ]
          },
          "metadata": {
            "tags": [],
            "needs_background": "light"
          }
        }
      ]
    },
    {
      "cell_type": "code",
      "metadata": {
        "id": "q6cjXOAm8W-I",
        "colab_type": "code",
        "colab": {
          "base_uri": "https://localhost:8080/",
          "height": 368
        },
        "outputId": "6afa5682-8d7d-4fa7-c0f5-8e5e46c7a331"
      },
      "source": [
        "diff_in_diff_of_variable('% less than 18 years of age')"
      ],
      "execution_count": 118,
      "outputs": [
        {
          "output_type": "stream",
          "text": [
            "/usr/local/lib/python3.6/dist-packages/ipykernel_launcher.py:5: SettingWithCopyWarning: \n",
            "A value is trying to be set on a copy of a slice from a DataFrame.\n",
            "Try using .loc[row_indexer,col_indexer] = value instead\n",
            "\n",
            "See the caveats in the documentation: https://pandas.pydata.org/pandas-docs/stable/user_guide/indexing.html#returning-a-view-versus-a-copy\n",
            "  \"\"\"\n"
          ],
          "name": "stderr"
        },
        {
          "output_type": "display_data",
          "data": {
            "image/png": "[encoded data removed]",
            "text/plain": [
              "<Figure size 432x288 with 1 Axes>"
            ]
          },
          "metadata": {
            "tags": [],
            "needs_background": "light"
          }
        }
      ]
    },
    {
      "cell_type": "code",
      "metadata": {
        "id": "PpklMYju8ibC",
        "colab_type": "code",
        "colab": {
          "base_uri": "https://localhost:8080/",
          "height": 368
        },
        "outputId": "0e654191-4401-419f-b8de-d2a5f0dec94a"
      },
      "source": [
        "diff_in_diff_of_variable('% Rural')"
      ],
      "execution_count": 119,
      "outputs": [
        {
          "output_type": "stream",
          "text": [
            "/usr/local/lib/python3.6/dist-packages/ipykernel_launcher.py:5: SettingWithCopyWarning: \n",
            "A value is trying to be set on a copy of a slice from a DataFrame.\n",
            "Try using .loc[row_indexer,col_indexer] = value instead\n",
            "\n",
            "See the caveats in the documentation: https://pandas.pydata.org/pandas-docs/stable/user_guide/indexing.html#returning-a-view-versus-a-copy\n",
            "  \"\"\"\n"
          ],
          "name": "stderr"
        },
        {
          "output_type": "display_data",
          "data": {
            "image/png": "[encoded data removed]",
            "text/plain": [
              "<Figure size 432x288 with 1 Axes>"
            ]
          },
          "metadata": {
            "tags": [],
            "needs_background": "light"
          }
        }
      ]
    },
    {
      "cell_type": "code",
      "metadata": {
        "id": "CZC1jAZz8iOZ",
        "colab_type": "code",
        "colab": {
          "base_uri": "https://localhost:8080/",
          "height": 368
        },
        "outputId": "4c9ee8d4-f543-4f35-e97c-39d70ab5f46b"
      },
      "source": [
        "diff_in_diff_of_variable('% Some College')"
      ],
      "execution_count": 120,
      "outputs": [
        {
          "output_type": "stream",
          "text": [
            "/usr/local/lib/python3.6/dist-packages/ipykernel_launcher.py:5: SettingWithCopyWarning: \n",
            "A value is trying to be set on a copy of a slice from a DataFrame.\n",
            "Try using .loc[row_indexer,col_indexer] = value instead\n",
            "\n",
            "See the caveats in the documentation: https://pandas.pydata.org/pandas-docs/stable/user_guide/indexing.html#returning-a-view-versus-a-copy\n",
            "  \"\"\"\n"
          ],
          "name": "stderr"
        },
        {
          "output_type": "display_data",
          "data": {
            "image/png": "[encoded data removed]",
            "text/plain": [
              "<Figure size 432x288 with 1 Axes>"
            ]
          },
          "metadata": {
            "tags": [],
            "needs_background": "light"
          }
        }
      ]
    },
    {
      "cell_type": "markdown",
      "metadata": {
        "id": "oC5d_khJ9DAL",
        "colab_type": "text"
      },
      "source": [
        "From all the graphs we see that specifically change in **income level**, **% Some College** and **% Asian** influence change in % completely at home devices before/after shelter in place. other variables show some level of influnece but not a whole lot. \\\\"
      ]
    }
  ]
}