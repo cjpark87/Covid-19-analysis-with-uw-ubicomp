{
  "nbformat": 4,
  "nbformat_minor": 0,
  "metadata": {
    "colab": {
      "name": "propensity_score_matching_2.ipynb",
      "provenance": [],
      "mount_file_id": "1dR6Url1TZv6CbakxQgt0urEtkdgp2G0D",
      "authorship_tag": "ABX9TyPeWmoiBsiJE8HM+eiEMHum",
      "include_colab_link": true
    },
    "kernelspec": {
      "name": "python3",
      "display_name": "Python 3"
    }
  },
  "cells": [
    {
      "cell_type": "markdown",
      "metadata": {
        "id": "view-in-github",
        "colab_type": "text"
      },
      "source": [
        "<a href=\"https://colab.research.google.com/github/wenjunsun/Covid-19-analysis-with-uw-ubicomp/blob/master/causal-inference/propensity_score_matching_2.ipynb\" target=\"_parent\"><img src=\"https://colab.research.google.com/assets/colab-badge.svg\" alt=\"Open In Colab\"/></a>"
      ]
    },
    {
      "cell_type": "markdown",
      "metadata": {
        "id": "Go0PbYDQ6t-i",
        "colab_type": "text"
      },
      "source": [
        "This notebook does PSM using more covariates including % White, % Hispanic. And the data with <= 200 device_counts are filtered out."
      ]
    },
    {
      "cell_type": "markdown",
      "metadata": {
        "id": "eBe0EYsa8ABU",
        "colab_type": "text"
      },
      "source": [
        "# 0. load some R packages"
      ]
    },
    {
      "cell_type": "code",
      "metadata": {
        "id": "gfSZriwD6rAO",
        "colab_type": "code",
        "colab": {
          "base_uri": "https://localhost:8080/",
          "height": 34
        },
        "outputId": "4f8ccf5d-944a-4978-cab8-a44f9e413da1"
      },
      "source": [
        "cd drive/My\\ Drive/week5"
      ],
      "execution_count": 2,
      "outputs": [
        {
          "output_type": "stream",
          "text": [
            "/content/drive/My Drive/week5\n"
          ],
          "name": "stdout"
        }
      ]
    },
    {
      "cell_type": "code",
      "metadata": {
        "id": "q0LINEA-7nzt",
        "colab_type": "code",
        "colab": {}
      },
      "source": [
        "# if we don't do this there will be annoying warnings\n",
        "# for using some of the R in jupyter...\n",
        "import warnings\n",
        "from rpy2.rinterface import RRuntimeWarning\n",
        "warnings.filterwarnings('ignore', category = FutureWarning)\n",
        "warnings.filterwarnings('ignore', category = RRuntimeWarning)"
      ],
      "execution_count": 3,
      "outputs": []
    },
    {
      "cell_type": "code",
      "metadata": {
        "id": "Priua0Mj7sJR",
        "colab_type": "code",
        "colab": {
          "base_uri": "https://localhost:8080/",
          "height": 51
        },
        "outputId": "6a0ef57c-1bb5-4bfe-8e86-9030005749ec"
      },
      "source": [
        "# enable R to python in Colab\n",
        "%load_ext rpy2.ipython"
      ],
      "execution_count": 4,
      "outputs": [
        {
          "output_type": "stream",
          "text": [
            "/usr/local/lib/python3.6/dist-packages/rpy2/robjects/pandas2ri.py:34: UserWarning: pandas >= 1.0 is not supported.\n",
            "  warnings.warn('pandas >= 1.0 is not supported.')\n"
          ],
          "name": "stderr"
        }
      ]
    },
    {
      "cell_type": "code",
      "metadata": {
        "id": "1WLJ1X6j7tCW",
        "colab_type": "code",
        "colab": {}
      },
      "source": [
        "import numpy as np\n",
        "import pandas as pd\n",
        "\n",
        "# For (automatic) translation of Pandas objects to R\n",
        "from rpy2.robjects import pandas2ri\n",
        "pandas2ri.activate()"
      ],
      "execution_count": 5,
      "outputs": []
    },
    {
      "cell_type": "code",
      "metadata": {
        "id": "grppq9Oe70sd",
        "colab_type": "code",
        "colab": {
          "base_uri": "https://localhost:8080/",
          "height": 1000
        },
        "outputId": "146985d8-ffa2-4c79-b332-2af2ea86af94"
      },
      "source": [
        "%%R\n",
        "# install standard propensity matching library in R \n",
        "install.packages(\"MatchIt\")"
      ],
      "execution_count": 6,
      "outputs": [
        {
          "output_type": "stream",
          "text": [
            "R[write to console]: Installing package into ‘/usr/local/lib/R/site-library’\n",
            "(as ‘lib’ is unspecified)\n",
            "\n",
            "R[write to console]: also installing the dependency ‘Matching’\n",
            "\n",
            "\n",
            "R[write to console]: trying URL 'https://cran.rstudio.com/src/contrib/Matching_4.9-7.tar.gz'\n",
            "\n",
            "R[write to console]: Content type 'application/x-gzip'\n",
            "R[write to console]:  length 298404 bytes (291 KB)\n",
            "\n",
            "R[write to console]: =\n",
            "R[write to console]: =\n",
            "R[write to console]: =\n",
            "R[write to console]: =\n",
            "R[write to console]: =\n",
            "R[write to console]: =\n",
            "R[write to console]: =\n",
            "R[write to console]: =\n",
            "R[write to console]: =\n",
            "R[write to console]: =\n",
            "R[write to console]: =\n",
            "R[write to console]: =\n",
            "R[write to console]: =\n",
            "R[write to console]: =\n",
            "R[write to console]: =\n",
            "R[write to console]: =\n",
            "R[write to console]: =\n",
            "R[write to console]: =\n",
            "R[write to console]: =\n",
            "R[write to console]: =\n",
            "R[write to console]: =\n",
            "R[write to console]: =\n",
            "R[write to console]: =\n",
            "R[write to console]: =\n",
            "R[write to console]: =\n",
            "R[write to console]: =\n",
            "R[write to console]: =\n",
            "R[write to console]: =\n",
            "R[write to console]: =\n",
            "R[write to console]: =\n",
            "R[write to console]: =\n",
            "R[write to console]: =\n",
            "R[write to console]: =\n",
            "R[write to console]: =\n",
            "R[write to console]: =\n",
            "R[write to console]: =\n",
            "R[write to console]: =\n",
            "R[write to console]: =\n",
            "R[write to console]: =\n",
            "R[write to console]: =\n",
            "R[write to console]: =\n",
            "R[write to console]: =\n",
            "R[write to console]: =\n",
            "R[write to console]: =\n",
            "R[write to console]: =\n",
            "R[write to console]: =\n",
            "R[write to console]: =\n",
            "R[write to console]: =\n",
            "R[write to console]: =\n",
            "R[write to console]: =\n",
            "R[write to console]: \n",
            "\n",
            "R[write to console]: downloaded 291 KB\n",
            "\n",
            "\n",
            "R[write to console]: trying URL 'https://cran.rstudio.com/src/contrib/MatchIt_3.0.2.tar.gz'\n",
            "\n",
            "R[write to console]: Content type 'application/x-gzip'\n",
            "R[write to console]:  length 317607 bytes (310 KB)\n",
            "\n",
            "R[write to console]: =\n",
            "R[write to console]: =\n",
            "R[write to console]: =\n",
            "R[write to console]: =\n",
            "R[write to console]: =\n",
            "R[write to console]: =\n",
            "R[write to console]: =\n",
            "R[write to console]: =\n",
            "R[write to console]: =\n",
            "R[write to console]: =\n",
            "R[write to console]: =\n",
            "R[write to console]: =\n",
            "R[write to console]: =\n",
            "R[write to console]: =\n",
            "R[write to console]: =\n",
            "R[write to console]: =\n",
            "R[write to console]: =\n",
            "R[write to console]: =\n",
            "R[write to console]: =\n",
            "R[write to console]: =\n",
            "R[write to console]: =\n",
            "R[write to console]: =\n",
            "R[write to console]: =\n",
            "R[write to console]: =\n",
            "R[write to console]: =\n",
            "R[write to console]: =\n",
            "R[write to console]: =\n",
            "R[write to console]: =\n",
            "R[write to console]: =\n",
            "R[write to console]: =\n",
            "R[write to console]: =\n",
            "R[write to console]: =\n",
            "R[write to console]: =\n",
            "R[write to console]: =\n",
            "R[write to console]: =\n",
            "R[write to console]: =\n",
            "R[write to console]: =\n",
            "R[write to console]: =\n",
            "R[write to console]: =\n",
            "R[write to console]: =\n",
            "R[write to console]: =\n",
            "R[write to console]: =\n",
            "R[write to console]: =\n",
            "R[write to console]: =\n",
            "R[write to console]: =\n",
            "R[write to console]: =\n",
            "R[write to console]: =\n",
            "R[write to console]: =\n",
            "R[write to console]: =\n",
            "R[write to console]: =\n",
            "R[write to console]: \n",
            "\n",
            "R[write to console]: downloaded 310 KB\n",
            "\n",
            "\n",
            "R[write to console]: \n",
            "\n",
            "R[write to console]: \n",
            "R[write to console]: The downloaded source packages are in\n",
            "\t‘/tmp/RtmpWTNGCJ/downloaded_packages’\n",
            "R[write to console]: \n",
            "R[write to console]: \n",
            "\n"
          ],
          "name": "stderr"
        }
      ]
    },
    {
      "cell_type": "code",
      "metadata": {
        "id": "Lw42War072bx",
        "colab_type": "code",
        "colab": {}
      },
      "source": [
        "%%R\n",
        "# load MatchIt package\n",
        "library(MatchIt)"
      ],
      "execution_count": 7,
      "outputs": []
    },
    {
      "cell_type": "code",
      "metadata": {
        "id": "g7tOvp0b79Jk",
        "colab_type": "code",
        "colab": {
          "base_uri": "https://localhost:8080/",
          "height": 1000
        },
        "outputId": "89f62a91-53ca-4337-967a-9f6108d9489f"
      },
      "source": [
        "%%R\n",
        "# install Coarsened Exact Matching package\n",
        "install.packages('cem')\n",
        "library(cem)"
      ],
      "execution_count": 8,
      "outputs": [
        {
          "output_type": "stream",
          "text": [
            "R[write to console]: Installing package into ‘/usr/local/lib/R/site-library’\n",
            "(as ‘lib’ is unspecified)\n",
            "\n",
            "R[write to console]: also installing the dependencies ‘combinat’, ‘randomForest’\n",
            "\n",
            "\n",
            "R[write to console]: trying URL 'https://cran.rstudio.com/src/contrib/combinat_0.0-8.tar.gz'\n",
            "\n",
            "R[write to console]: Content type 'application/x-gzip'\n",
            "R[write to console]:  length 9197 bytes\n",
            "\n",
            "R[write to console]: =\n",
            "R[write to console]: =\n",
            "R[write to console]: =\n",
            "R[write to console]: =\n",
            "R[write to console]: =\n",
            "R[write to console]: =\n",
            "R[write to console]: =\n",
            "R[write to console]: =\n",
            "R[write to console]: =\n",
            "R[write to console]: =\n",
            "R[write to console]: =\n",
            "R[write to console]: =\n",
            "R[write to console]: =\n",
            "R[write to console]: =\n",
            "R[write to console]: =\n",
            "R[write to console]: =\n",
            "R[write to console]: =\n",
            "R[write to console]: =\n",
            "R[write to console]: =\n",
            "R[write to console]: =\n",
            "R[write to console]: =\n",
            "R[write to console]: =\n",
            "R[write to console]: =\n",
            "R[write to console]: =\n",
            "R[write to console]: =\n",
            "R[write to console]: =\n",
            "R[write to console]: =\n",
            "R[write to console]: =\n",
            "R[write to console]: =\n",
            "R[write to console]: =\n",
            "R[write to console]: =\n",
            "R[write to console]: =\n",
            "R[write to console]: =\n",
            "R[write to console]: =\n",
            "R[write to console]: =\n",
            "R[write to console]: =\n",
            "R[write to console]: =\n",
            "R[write to console]: =\n",
            "R[write to console]: =\n",
            "R[write to console]: =\n",
            "R[write to console]: =\n",
            "R[write to console]: =\n",
            "R[write to console]: =\n",
            "R[write to console]: =\n",
            "R[write to console]: =\n",
            "R[write to console]: =\n",
            "R[write to console]: =\n",
            "R[write to console]: =\n",
            "R[write to console]: =\n",
            "R[write to console]: =\n",
            "R[write to console]: \n",
            "\n",
            "R[write to console]: downloaded 9197 bytes\n",
            "\n",
            "\n",
            "R[write to console]: trying URL 'https://cran.rstudio.com/src/contrib/randomForest_4.6-14.tar.gz'\n",
            "\n",
            "R[write to console]: Content type 'application/x-gzip'\n",
            "R[write to console]:  length 80074 bytes (78 KB)\n",
            "\n",
            "R[write to console]: =\n",
            "R[write to console]: =\n",
            "R[write to console]: =\n",
            "R[write to console]: =\n",
            "R[write to console]: =\n",
            "R[write to console]: =\n",
            "R[write to console]: =\n",
            "R[write to console]: =\n",
            "R[write to console]: =\n",
            "R[write to console]: =\n",
            "R[write to console]: =\n",
            "R[write to console]: =\n",
            "R[write to console]: =\n",
            "R[write to console]: =\n",
            "R[write to console]: =\n",
            "R[write to console]: =\n",
            "R[write to console]: =\n",
            "R[write to console]: =\n",
            "R[write to console]: =\n",
            "R[write to console]: =\n",
            "R[write to console]: =\n",
            "R[write to console]: =\n",
            "R[write to console]: =\n",
            "R[write to console]: =\n",
            "R[write to console]: =\n",
            "R[write to console]: =\n",
            "R[write to console]: =\n",
            "R[write to console]: =\n",
            "R[write to console]: =\n",
            "R[write to console]: =\n",
            "R[write to console]: =\n",
            "R[write to console]: =\n",
            "R[write to console]: =\n",
            "R[write to console]: =\n",
            "R[write to console]: =\n",
            "R[write to console]: =\n",
            "R[write to console]: =\n",
            "R[write to console]: =\n",
            "R[write to console]: =\n",
            "R[write to console]: =\n",
            "R[write to console]: =\n",
            "R[write to console]: =\n",
            "R[write to console]: =\n",
            "R[write to console]: =\n",
            "R[write to console]: =\n",
            "R[write to console]: =\n",
            "R[write to console]: =\n",
            "R[write to console]: =\n",
            "R[write to console]: =\n",
            "R[write to console]: =\n",
            "R[write to console]: \n",
            "\n",
            "R[write to console]: downloaded 78 KB\n",
            "\n",
            "\n",
            "R[write to console]: trying URL 'https://cran.rstudio.com/src/contrib/cem_1.1.20.tar.gz'\n",
            "\n",
            "R[write to console]: Content type 'application/x-gzip'\n",
            "R[write to console]:  length 2153944 bytes (2.1 MB)\n",
            "\n",
            "R[write to console]: =\n",
            "R[write to console]: =\n",
            "R[write to console]: =\n",
            "R[write to console]: =\n",
            "R[write to console]: =\n",
            "R[write to console]: =\n",
            "R[write to console]: =\n",
            "R[write to console]: =\n",
            "R[write to console]: =\n",
            "R[write to console]: =\n",
            "R[write to console]: =\n",
            "R[write to console]: =\n",
            "R[write to console]: =\n",
            "R[write to console]: =\n",
            "R[write to console]: =\n",
            "R[write to console]: =\n",
            "R[write to console]: =\n",
            "R[write to console]: =\n",
            "R[write to console]: =\n",
            "R[write to console]: =\n",
            "R[write to console]: =\n",
            "R[write to console]: =\n",
            "R[write to console]: =\n",
            "R[write to console]: =\n",
            "R[write to console]: =\n",
            "R[write to console]: =\n",
            "R[write to console]: =\n",
            "R[write to console]: =\n",
            "R[write to console]: =\n",
            "R[write to console]: =\n",
            "R[write to console]: =\n",
            "R[write to console]: =\n",
            "R[write to console]: =\n",
            "R[write to console]: =\n",
            "R[write to console]: =\n",
            "R[write to console]: =\n",
            "R[write to console]: =\n",
            "R[write to console]: =\n",
            "R[write to console]: =\n",
            "R[write to console]: =\n",
            "R[write to console]: =\n",
            "R[write to console]: =\n",
            "R[write to console]: =\n",
            "R[write to console]: =\n",
            "R[write to console]: =\n",
            "R[write to console]: =\n",
            "R[write to console]: =\n",
            "R[write to console]: =\n",
            "R[write to console]: =\n",
            "R[write to console]: =\n",
            "R[write to console]: \n",
            "\n",
            "R[write to console]: downloaded 2.1 MB\n",
            "\n",
            "\n",
            "R[write to console]: \n",
            "\n",
            "R[write to console]: \n",
            "R[write to console]: The downloaded source packages are in\n",
            "\t‘/tmp/RtmpWTNGCJ/downloaded_packages’\n",
            "R[write to console]: \n",
            "R[write to console]: \n",
            "\n",
            "R[write to console]: Loading required package: tcltk\n",
            "\n",
            "R[write to console]: Loading required package: lattice\n",
            "\n",
            "R[write to console]: \n",
            "How to use CEM? Type vignette(\"cem\")\n",
            "\n",
            "\n"
          ],
          "name": "stderr"
        }
      ]
    },
    {
      "cell_type": "markdown",
      "metadata": {
        "id": "wm0tc3US8QB5",
        "colab_type": "text"
      },
      "source": [
        "# 1. Propensity score matching with new data without low device count + new covariates"
      ]
    },
    {
      "cell_type": "code",
      "metadata": {
        "id": "jTMpER4x8mTt",
        "colab_type": "code",
        "colab": {
          "base_uri": "https://localhost:8080/",
          "height": 68
        },
        "outputId": "fdc3be30-b8b6-46f0-af5c-ac3467fa39e2"
      },
      "source": [
        "ls"
      ],
      "execution_count": 9,
      "outputs": [
        {
          "output_type": "stream",
          "text": [
            "agg_social_dist_2.csv                 county_data_with_reduced_covariates.csv\n",
            "county_data_with_and_without_SIP.csv  propensity_score_matching_2.ipynb\n",
            "county_data_with_covariates.csv       propensity_score_matching.ipynb\n"
          ],
          "name": "stdout"
        }
      ]
    },
    {
      "cell_type": "code",
      "metadata": {
        "id": "nbcn4ToM8M6N",
        "colab_type": "code",
        "colab": {}
      },
      "source": [
        "dataframe = pd.read_csv(\"county_data_with_reduced_covariates.csv\")"
      ],
      "execution_count": 12,
      "outputs": []
    },
    {
      "cell_type": "code",
      "metadata": {
        "id": "DTt2Viiz8n9h",
        "colab_type": "code",
        "colab": {
          "base_uri": "https://localhost:8080/",
          "height": 323
        },
        "outputId": "ce7672bd-fb00-4b89-958d-6b28c56a4246"
      },
      "source": [
        "# look at our data\n",
        "dataframe.head()"
      ],
      "execution_count": 13,
      "outputs": [
        {
          "output_type": "execute_result",
          "data": {
            "text/html": [
              "<div>\n",
              "<style scoped>\n",
              "    .dataframe tbody tr th:only-of-type {\n",
              "        vertical-align: middle;\n",
              "    }\n",
              "\n",
              "    .dataframe tbody tr th {\n",
              "        vertical-align: top;\n",
              "    }\n",
              "\n",
              "    .dataframe thead th {\n",
              "        text-align: right;\n",
              "    }\n",
              "</style>\n",
              "<table border=\"1\" class=\"dataframe\">\n",
              "  <thead>\n",
              "    <tr style=\"text-align: right;\">\n",
              "      <th></th>\n",
              "      <th>state</th>\n",
              "      <th>state_code</th>\n",
              "      <th>State Name</th>\n",
              "      <th>cnamelong</th>\n",
              "      <th>county_code</th>\n",
              "      <th>%diff_stay_at_home</th>\n",
              "      <th>SIP?</th>\n",
              "      <th>Median Household Income</th>\n",
              "      <th>% Rural</th>\n",
              "      <th>Population_y</th>\n",
              "      <th>political_diff</th>\n",
              "      <th>% less than 18 years of age</th>\n",
              "      <th>% 65 and over</th>\n",
              "      <th>% Asian</th>\n",
              "      <th>% Black</th>\n",
              "      <th>% Hispanic</th>\n",
              "      <th>% Non-Hispanic White</th>\n",
              "    </tr>\n",
              "  </thead>\n",
              "  <tbody>\n",
              "    <tr>\n",
              "      <th>0</th>\n",
              "      <td>1.0</td>\n",
              "      <td>AL</td>\n",
              "      <td>Alabama</td>\n",
              "      <td>Autauga County</td>\n",
              "      <td>1001</td>\n",
              "      <td>0.119839</td>\n",
              "      <td>1</td>\n",
              "      <td>59338.0</td>\n",
              "      <td>42.0</td>\n",
              "      <td>55601</td>\n",
              "      <td>-0.494789</td>\n",
              "      <td>23.7</td>\n",
              "      <td>15.6</td>\n",
              "      <td>1.2</td>\n",
              "      <td>19.3</td>\n",
              "      <td>3.0</td>\n",
              "      <td>74.3</td>\n",
              "    </tr>\n",
              "    <tr>\n",
              "      <th>1</th>\n",
              "      <td>1.0</td>\n",
              "      <td>AL</td>\n",
              "      <td>Alabama</td>\n",
              "      <td>Baldwin County</td>\n",
              "      <td>1003</td>\n",
              "      <td>0.112319</td>\n",
              "      <td>1</td>\n",
              "      <td>57588.0</td>\n",
              "      <td>42.3</td>\n",
              "      <td>218022</td>\n",
              "      <td>-0.577862</td>\n",
              "      <td>21.6</td>\n",
              "      <td>20.4</td>\n",
              "      <td>1.2</td>\n",
              "      <td>8.8</td>\n",
              "      <td>4.6</td>\n",
              "      <td>83.1</td>\n",
              "    </tr>\n",
              "    <tr>\n",
              "      <th>2</th>\n",
              "      <td>1.0</td>\n",
              "      <td>AL</td>\n",
              "      <td>Alabama</td>\n",
              "      <td>Barbour County</td>\n",
              "      <td>1005</td>\n",
              "      <td>0.071000</td>\n",
              "      <td>1</td>\n",
              "      <td>34382.0</td>\n",
              "      <td>67.8</td>\n",
              "      <td>24881</td>\n",
              "      <td>-0.056112</td>\n",
              "      <td>20.9</td>\n",
              "      <td>19.4</td>\n",
              "      <td>0.5</td>\n",
              "      <td>48.0</td>\n",
              "      <td>4.3</td>\n",
              "      <td>45.6</td>\n",
              "    </tr>\n",
              "    <tr>\n",
              "      <th>3</th>\n",
              "      <td>1.0</td>\n",
              "      <td>AL</td>\n",
              "      <td>Alabama</td>\n",
              "      <td>Bibb County</td>\n",
              "      <td>1007</td>\n",
              "      <td>0.089074</td>\n",
              "      <td>1</td>\n",
              "      <td>46064.0</td>\n",
              "      <td>68.4</td>\n",
              "      <td>22400</td>\n",
              "      <td>-0.555441</td>\n",
              "      <td>20.5</td>\n",
              "      <td>16.5</td>\n",
              "      <td>0.2</td>\n",
              "      <td>21.1</td>\n",
              "      <td>2.6</td>\n",
              "      <td>74.6</td>\n",
              "    </tr>\n",
              "    <tr>\n",
              "      <th>4</th>\n",
              "      <td>1.0</td>\n",
              "      <td>AL</td>\n",
              "      <td>Alabama</td>\n",
              "      <td>Blount County</td>\n",
              "      <td>1009</td>\n",
              "      <td>0.098240</td>\n",
              "      <td>1</td>\n",
              "      <td>50412.0</td>\n",
              "      <td>90.0</td>\n",
              "      <td>57840</td>\n",
              "      <td>-0.813820</td>\n",
              "      <td>23.2</td>\n",
              "      <td>18.2</td>\n",
              "      <td>0.3</td>\n",
              "      <td>1.5</td>\n",
              "      <td>9.6</td>\n",
              "      <td>86.9</td>\n",
              "    </tr>\n",
              "  </tbody>\n",
              "</table>\n",
              "</div>"
            ],
            "text/plain": [
              "   state state_code State Name  ... % Black  % Hispanic  % Non-Hispanic White\n",
              "0    1.0         AL    Alabama  ...    19.3         3.0                  74.3\n",
              "1    1.0         AL    Alabama  ...     8.8         4.6                  83.1\n",
              "2    1.0         AL    Alabama  ...    48.0         4.3                  45.6\n",
              "3    1.0         AL    Alabama  ...    21.1         2.6                  74.6\n",
              "4    1.0         AL    Alabama  ...     1.5         9.6                  86.9\n",
              "\n",
              "[5 rows x 17 columns]"
            ]
          },
          "metadata": {
            "tags": []
          },
          "execution_count": 13
        }
      ]
    },
    {
      "cell_type": "code",
      "metadata": {
        "id": "7puwnIEx8qv_",
        "colab_type": "code",
        "colab": {
          "base_uri": "https://localhost:8080/",
          "height": 34
        },
        "outputId": "5164cbbc-2ccc-4543-d9b2-40976a9044bb"
      },
      "source": [
        "print(f\"this dataset has {dataframe.shape[0]} records.\")"
      ],
      "execution_count": 14,
      "outputs": [
        {
          "output_type": "stream",
          "text": [
            "this dataset has 2799 records.\n"
          ],
          "name": "stdout"
        }
      ]
    },
    {
      "cell_type": "code",
      "metadata": {
        "id": "I05_om6s9637",
        "colab_type": "code",
        "colab": {}
      },
      "source": [
        "dataframe.dropna(inplace=True)"
      ],
      "execution_count": 15,
      "outputs": []
    },
    {
      "cell_type": "code",
      "metadata": {
        "id": "UHcu5cp_9-M0",
        "colab_type": "code",
        "colab": {
          "base_uri": "https://localhost:8080/",
          "height": 34
        },
        "outputId": "0183cc35-aa32-44cb-a14a-5aceaf92f8db"
      },
      "source": [
        "print(f\"after dropping this dataset has {dataframe.shape[0]} records.\")"
      ],
      "execution_count": 16,
      "outputs": [
        {
          "output_type": "stream",
          "text": [
            "after dropping this dataset has 2799 records.\n"
          ],
          "name": "stdout"
        }
      ]
    },
    {
      "cell_type": "markdown",
      "metadata": {
        "id": "xoFLhV1x-Bri",
        "colab_type": "text"
      },
      "source": [
        "So we don't have any null records, which is good"
      ]
    },
    {
      "cell_type": "code",
      "metadata": {
        "id": "4c71CKd7-kmK",
        "colab_type": "code",
        "colab": {
          "base_uri": "https://localhost:8080/",
          "height": 493
        },
        "outputId": "7a02de0e-3449-41cd-dfc2-c0019e8cc230"
      },
      "source": [
        "# look at variables we have in R. (% sign is messed up)\n",
        "%%R -i dataframe\n",
        "head(dataframe)"
      ],
      "execution_count": 23,
      "outputs": [
        {
          "output_type": "stream",
          "text": [
            "  state state_code State.Name      cnamelong county_code X.diff_stay_at_home\n",
            "0     1         AL    Alabama Autauga County        1001          0.11983891\n",
            "1     1         AL    Alabama Baldwin County        1003          0.11231890\n",
            "2     1         AL    Alabama Barbour County        1005          0.07100017\n",
            "3     1         AL    Alabama    Bibb County        1007          0.08907352\n",
            "4     1         AL    Alabama  Blount County        1009          0.09824028\n",
            "5     1         AL    Alabama Bullock County        1011          0.06304790\n",
            "  SIP. Median.Household.Income X..Rural Population_y political_diff\n",
            "0    1                   59338     42.0        55601    -0.49478934\n",
            "1    1                   57588     42.3       218022    -0.57786162\n",
            "2    1                   34382     67.8        24881    -0.05611165\n",
            "3    1                   46064     68.4        22400    -0.55544124\n",
            "4    1                   50412     90.0        57840    -0.81381973\n",
            "5    1                   29267     51.4        10138     0.50861519\n",
            "  X..less.than.18.years.of.age X..65.and.over X..Asian X..Black X..Hispanic\n",
            "0                         23.7           15.6      1.2     19.3         3.0\n",
            "1                         21.6           20.4      1.2      8.8         4.6\n",
            "2                         20.9           19.4      0.5     48.0         4.3\n",
            "3                         20.5           16.5      0.2     21.1         2.6\n",
            "4                         23.2           18.2      0.3      1.5         9.6\n",
            "5                         21.1           16.4      0.2     69.5         8.0\n",
            "  X..Non.Hispanic.White\n",
            "0                  74.3\n",
            "1                  83.1\n",
            "2                  45.6\n",
            "3                  74.6\n",
            "4                  86.9\n",
            "5                  21.2\n"
          ],
          "name": "stdout"
        }
      ]
    },
    {
      "cell_type": "code",
      "metadata": {
        "id": "6oXKFccl9_Nh",
        "colab_type": "code",
        "colab": {
          "base_uri": "https://localhost:8080/",
          "height": 51
        },
        "outputId": "93cce61d-5514-45f8-d196-5a29ff44c33f"
      },
      "source": [
        "# -i means pass in some argument/data from python world to R world\n",
        "%%R -i dataframe\n",
        "\n",
        "# using MatchIt package to do PSM - guess it used logistic regression?\n",
        "\n",
        "m.out <- matchit(SIP.~Median.Household.Income + X..Rural +\n",
        "                 political_diff+\n",
        "                 X..Asian + X..Black + \n",
        "                 X..Non.Hispanic.White +\n",
        "                 X..Hispanic,\n",
        "                 method = \"cem\", data = dataframe) # cem = coarse exact matching"
      ],
      "execution_count": 24,
      "outputs": [
        {
          "output_type": "stream",
          "text": [
            "\n",
            "Using 'treat'='1' as baseline group\n"
          ],
          "name": "stdout"
        }
      ]
    },
    {
      "cell_type": "code",
      "metadata": {
        "id": "7a8zE4qh_EMk",
        "colab_type": "code",
        "colab": {
          "base_uri": "https://localhost:8080/",
          "height": 497
        },
        "outputId": "bef55e7f-df0b-452a-a3c9-576e9b7ac44d"
      },
      "source": [
        "# to see how maching it soind by visualizing distributions\n",
        "%%R\n",
        "plot(m.out, type='hist')"
      ],
      "execution_count": 25,
      "outputs": [
        {
          "output_type": "display_data",
          "data": {
            "image/png": "[encoded data removed]"
          },
          "metadata": {
            "tags": []
          }
        }
      ]
    },
    {
      "cell_type": "code",
      "metadata": {
        "id": "amT09HkB_njf",
        "colab_type": "code",
        "colab": {
          "base_uri": "https://localhost:8080/",
          "height": 531
        },
        "outputId": "73db8761-a5b4-44b3-e228-b33eba4238f9"
      },
      "source": [
        "%%R\n",
        "plot(m.out, type='jitter')"
      ],
      "execution_count": 26,
      "outputs": [
        {
          "output_type": "stream",
          "text": [
            "[1] \"To identify the units, use first mouse button; to stop, use second.\"\n",
            "integer(0)\n"
          ],
          "name": "stdout"
        },
        {
          "output_type": "display_data",
          "data": {
            "image/png": "[encoded data removed]"
          },
          "metadata": {
            "tags": []
          }
        }
      ]
    },
    {
      "cell_type": "code",
      "metadata": {
        "id": "H0Bjclom_ptH",
        "colab_type": "code",
        "colab": {
          "base_uri": "https://localhost:8080/",
          "height": 1000
        },
        "outputId": "60fefcc6-f690-4de8-c3fc-c3c177c43a4b"
      },
      "source": [
        "%%R\n",
        "summary(m.out, standardize=T)"
      ],
      "execution_count": 27,
      "outputs": [
        {
          "output_type": "stream",
          "text": [
            "\n",
            "Call:\n",
            "matchit(formula = SIP. ~ Median.Household.Income + X..Rural + \n",
            "    political_diff + X..Asian + X..Black + X..Non.Hispanic.White + \n",
            "    X..Hispanic, data = dataframe, method = \"cem\")\n",
            "\n",
            "Summary of balance for all data:\n",
            "                        Means Treated Means Control SD Control Std. Mean Diff.\n",
            "distance                       0.8720        0.7881     0.1284          0.9930\n",
            "Median.Household.Income    53305.7666    52935.0716 10528.3377          0.0253\n",
            "X..Rural                      53.8051       61.4046    28.3571         -0.2488\n",
            "political_diff                -0.2779       -0.4133     0.2214          0.4364\n",
            "X..Asian                       1.7189        1.0529     1.3405          0.2210\n",
            "X..Black                      10.6841        4.3946     9.6598          0.4133\n",
            "X..Non.Hispanic.White         74.7230       81.8980    14.3729         -0.3535\n",
            "X..Hispanic                   10.0189        6.7136     6.3801          0.2306\n",
            "                        eCDF Med eCDF Mean eCDF Max\n",
            "distance                  0.2643    0.2207   0.3161\n",
            "Median.Household.Income   0.0464    0.0477   0.0973\n",
            "X..Rural                  0.0804    0.0737   0.1201\n",
            "political_diff            0.1421    0.1251   0.1956\n",
            "X..Asian                  0.0263    0.0402   0.1347\n",
            "X..Black                  0.0954    0.1153   0.2990\n",
            "X..Non.Hispanic.White     0.0982    0.0958   0.1714\n",
            "X..Hispanic               0.0636    0.0589   0.1193\n",
            "\n",
            "\n",
            "Summary of balance for matched data:\n",
            "                        Means Treated Means Control SD Control Std. Mean Diff.\n",
            "distance                       0.8160        0.8104     0.0464          0.0671\n",
            "Median.Household.Income    50049.9583    49884.3636  8301.9946          0.0113\n",
            "X..Rural                      72.3525       72.4655    24.5872         -0.0037\n",
            "political_diff                -0.4576       -0.4516     0.1536         -0.0192\n",
            "X..Asian                       0.6381        0.6585     0.4992         -0.0068\n",
            "X..Black                       2.3829        1.7425     4.8756          0.0421\n",
            "X..Non.Hispanic.White         91.5081       91.2030     6.5470          0.0150\n",
            "X..Hispanic                    3.3613        3.6955     2.7121         -0.0233\n",
            "                        eCDF Med eCDF Mean eCDF Max\n",
            "distance                  0.0447    0.0481   0.1072\n",
            "Median.Household.Income   0.0947    0.0988   0.2136\n",
            "X..Rural                  0.0534    0.0497   0.0841\n",
            "political_diff            0.0444    0.0387   0.0824\n",
            "X..Asian                  0.0306    0.0318   0.0854\n",
            "X..Black                  0.0276    0.0446   0.1207\n",
            "X..Non.Hispanic.White     0.0962    0.0866   0.1623\n",
            "X..Hispanic               0.0684    0.0885   0.2577\n",
            "\n",
            "Percent Balance Improvement:\n",
            "                        Std. Mean Diff.  eCDF Med eCDF Mean  eCDF Max\n",
            "distance                        93.2414   83.0838   78.2215   66.0851\n",
            "Median.Household.Income         55.3286 -104.1660 -107.2406 -119.4914\n",
            "X..Rural                        98.5131   33.6577   32.5341   29.9446\n",
            "political_diff                  95.5970   68.7506   69.0867   57.8925\n",
            "X..Asian                        96.9388  -16.3190   20.7120   36.5766\n",
            "X..Black                        89.8172   71.1101   61.3056   59.6441\n",
            "X..Non.Hispanic.White           95.7478    1.9734    9.6125    5.2661\n",
            "X..Hispanic                     89.8862   -7.5525  -50.0948 -115.9446\n",
            "\n",
            "Sample sizes:\n",
            "          Control Treated\n",
            "All           391    2408\n",
            "Matched       195     480\n",
            "Unmatched     196    1928\n",
            "Discarded       0       0\n",
            "\n"
          ],
          "name": "stdout"
        }
      ]
    },
    {
      "cell_type": "markdown",
      "metadata": {
        "id": "hgQyJMV6_u1W",
        "colab_type": "text"
      },
      "source": [
        "we can see from the histogram and jitter plot and summary statistics that this matching is pretty good! - Std. Mean Diff are all $\\le$ 0.05, which is good"
      ]
    },
    {
      "cell_type": "code",
      "metadata": {
        "id": "UWshTbro_rEg",
        "colab_type": "code",
        "colab": {}
      },
      "source": [
        "%%R\n",
        "# extract matched data.\n",
        "matched_data <- match.data(m.out)"
      ],
      "execution_count": 28,
      "outputs": []
    },
    {
      "cell_type": "code",
      "metadata": {
        "id": "70feAD8D_9Ky",
        "colab_type": "code",
        "colab": {}
      },
      "source": [
        "# import dataframe from R to python.... since I am not familar with manipulating\n",
        "# R objects \n",
        "matched_data = %R matched_data"
      ],
      "execution_count": 29,
      "outputs": []
    },
    {
      "cell_type": "code",
      "metadata": {
        "id": "jIslw_QY_-Pf",
        "colab_type": "code",
        "colab": {}
      },
      "source": [
        "no_SIP_diff = ((matched_data[matched_data['SIP.'] == 0]['weights'] / \\\n",
        " matched_data[matched_data['SIP.'] == 0]['weights'].sum()) \\\n",
        "* matched_data[matched_data['SIP.'] == 0]['X.diff_stay_at_home']).sum()"
      ],
      "execution_count": 30,
      "outputs": []
    },
    {
      "cell_type": "code",
      "metadata": {
        "id": "xJFMVKMF__OY",
        "colab_type": "code",
        "colab": {}
      },
      "source": [
        "SIP_diff = matched_data[matched_data['SIP.'] == 1]['X.diff_stay_at_home'].mean()"
      ],
      "execution_count": 31,
      "outputs": []
    },
    {
      "cell_type": "code",
      "metadata": {
        "id": "RKbD51zFAAgH",
        "colab_type": "code",
        "colab": {
          "base_uri": "https://localhost:8080/",
          "height": 34
        },
        "outputId": "aaa682d6-e45d-4807-d9df-daa8a06a4dc5"
      },
      "source": [
        "SIP_diff - no_SIP_diff"
      ],
      "execution_count": 32,
      "outputs": [
        {
          "output_type": "execute_result",
          "data": {
            "text/plain": [
              "0.016483459567586484"
            ]
          },
          "metadata": {
            "tags": []
          },
          "execution_count": 32
        }
      ]
    },
    {
      "cell_type": "markdown",
      "metadata": {
        "id": "hUpOAizZABWl",
        "colab_type": "text"
      },
      "source": [
        "# Conclusion"
      ]
    },
    {
      "cell_type": "markdown",
      "metadata": {
        "id": "kFgHL1gvAboi",
        "colab_type": "text"
      },
      "source": [
        "our percentage this time comes out to be 1.64%, which is higher than the past analysis we tried, which tends to be around 1.5%. This difference seems to be consistent after we cleaned the data a bit and added a few more covariates. Which is good."
      ]
    }
  ]
}