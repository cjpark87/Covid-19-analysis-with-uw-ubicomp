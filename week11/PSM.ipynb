{
  "nbformat": 4,
  "nbformat_minor": 0,
  "metadata": {
    "colab": {
      "name": "PSM.ipynb",
      "provenance": [],
      "collapsed_sections": [],
      "mount_file_id": "1V9f4H7QerOwj0K7-CIsXBoaIDKz6WGCg",
      "authorship_tag": "ABX9TyM0Agpm++FpG5AjqfnZLXOH",
      "include_colab_link": true
    },
    "kernelspec": {
      "name": "python3",
      "display_name": "Python 3"
    }
  },
  "cells": [
    {
      "cell_type": "markdown",
      "metadata": {
        "id": "view-in-github",
        "colab_type": "text"
      },
      "source": [
        "<a href=\"https://colab.research.google.com/github/wenjunsun/Covid-19-analysis-with-uw-ubicomp/blob/master/week11/PSM.ipynb\" target=\"_parent\"><img src=\"https://colab.research.google.com/assets/colab-badge.svg\" alt=\"Open In Colab\"/></a>"
      ]
    },
    {
      "cell_type": "markdown",
      "metadata": {
        "id": "Go0PbYDQ6t-i",
        "colab_type": "text"
      },
      "source": [
        "This notebook does PSM to see if the policy of shelter in place has effects on people's percentage of time spent staying at home, and percentage of full time and part time jobs.  "
      ]
    },
    {
      "cell_type": "markdown",
      "metadata": {
        "id": "eBe0EYsa8ABU",
        "colab_type": "text"
      },
      "source": [
        "# 0. load some R packages"
      ]
    },
    {
      "cell_type": "code",
      "metadata": {
        "id": "gfSZriwD6rAO",
        "colab_type": "code",
        "colab": {
          "base_uri": "https://localhost:8080/",
          "height": 34
        },
        "outputId": "ccef1991-648b-43ec-ab88-719d427b5f63"
      },
      "source": [
        "cd drive/My\\ Drive/week11"
      ],
      "execution_count": 1,
      "outputs": [
        {
          "output_type": "stream",
          "text": [
            "/content/drive/My Drive/week11\n"
          ],
          "name": "stdout"
        }
      ]
    },
    {
      "cell_type": "code",
      "metadata": {
        "id": "q0LINEA-7nzt",
        "colab_type": "code",
        "colab": {}
      },
      "source": [
        "# if we don't do this there will be annoying warnings\n",
        "# for using some of the R in jupyter...\n",
        "import warnings\n",
        "from rpy2.rinterface import RRuntimeWarning\n",
        "warnings.filterwarnings('ignore', category = FutureWarning)\n",
        "warnings.filterwarnings('ignore', category = RRuntimeWarning)"
      ],
      "execution_count": 2,
      "outputs": []
    },
    {
      "cell_type": "code",
      "metadata": {
        "id": "Priua0Mj7sJR",
        "colab_type": "code",
        "colab": {
          "base_uri": "https://localhost:8080/",
          "height": 51
        },
        "outputId": "4ed5c221-3802-4ae5-f099-e4648ee31d91"
      },
      "source": [
        "# enable R to python in Colab\n",
        "%load_ext rpy2.ipython"
      ],
      "execution_count": 3,
      "outputs": [
        {
          "output_type": "stream",
          "text": [
            "/usr/local/lib/python3.6/dist-packages/rpy2/robjects/pandas2ri.py:34: UserWarning: pandas >= 1.0 is not supported.\n",
            "  warnings.warn('pandas >= 1.0 is not supported.')\n"
          ],
          "name": "stderr"
        }
      ]
    },
    {
      "cell_type": "code",
      "metadata": {
        "id": "1WLJ1X6j7tCW",
        "colab_type": "code",
        "colab": {}
      },
      "source": [
        "import numpy as np\n",
        "import pandas as pd\n",
        "\n",
        "# For (automatic) translation of Pandas objects to R\n",
        "from rpy2.robjects import pandas2ri\n",
        "pandas2ri.activate()"
      ],
      "execution_count": 4,
      "outputs": []
    },
    {
      "cell_type": "code",
      "metadata": {
        "id": "grppq9Oe70sd",
        "colab_type": "code",
        "colab": {
          "base_uri": "https://localhost:8080/",
          "height": 1000
        },
        "outputId": "87242a63-738b-4d6d-c2c1-2bc4061cbf6e"
      },
      "source": [
        "%%R\n",
        "# install standard propensity matching library in R \n",
        "install.packages(\"MatchIt\")"
      ],
      "execution_count": 5,
      "outputs": [
        {
          "output_type": "stream",
          "text": [
            "R[write to console]: Installing package into ‘/usr/local/lib/R/site-library’\n",
            "(as ‘lib’ is unspecified)\n",
            "\n",
            "R[write to console]: also installing the dependency ‘Matching’\n",
            "\n",
            "\n",
            "R[write to console]: trying URL 'https://cran.rstudio.com/src/contrib/Matching_4.9-7.tar.gz'\n",
            "\n",
            "R[write to console]: Content type 'application/x-gzip'\n",
            "R[write to console]:  length 298404 bytes (291 KB)\n",
            "\n",
            "R[write to console]: =\n",
            "R[write to console]: =\n",
            "R[write to console]: =\n",
            "R[write to console]: =\n",
            "R[write to console]: =\n",
            "R[write to console]: =\n",
            "R[write to console]: =\n",
            "R[write to console]: =\n",
            "R[write to console]: =\n",
            "R[write to console]: =\n",
            "R[write to console]: =\n",
            "R[write to console]: =\n",
            "R[write to console]: =\n",
            "R[write to console]: =\n",
            "R[write to console]: =\n",
            "R[write to console]: =\n",
            "R[write to console]: =\n",
            "R[write to console]: =\n",
            "R[write to console]: =\n",
            "R[write to console]: =\n",
            "R[write to console]: =\n",
            "R[write to console]: =\n",
            "R[write to console]: =\n",
            "R[write to console]: =\n",
            "R[write to console]: =\n",
            "R[write to console]: =\n",
            "R[write to console]: =\n",
            "R[write to console]: =\n",
            "R[write to console]: =\n",
            "R[write to console]: =\n",
            "R[write to console]: =\n",
            "R[write to console]: =\n",
            "R[write to console]: =\n",
            "R[write to console]: =\n",
            "R[write to console]: =\n",
            "R[write to console]: =\n",
            "R[write to console]: =\n",
            "R[write to console]: =\n",
            "R[write to console]: =\n",
            "R[write to console]: =\n",
            "R[write to console]: =\n",
            "R[write to console]: =\n",
            "R[write to console]: =\n",
            "R[write to console]: =\n",
            "R[write to console]: =\n",
            "R[write to console]: =\n",
            "R[write to console]: =\n",
            "R[write to console]: =\n",
            "R[write to console]: =\n",
            "R[write to console]: =\n",
            "R[write to console]: \n",
            "\n",
            "R[write to console]: downloaded 291 KB\n",
            "\n",
            "\n",
            "R[write to console]: trying URL 'https://cran.rstudio.com/src/contrib/MatchIt_3.0.2.tar.gz'\n",
            "\n",
            "R[write to console]: Content type 'application/x-gzip'\n",
            "R[write to console]:  length 317607 bytes (310 KB)\n",
            "\n",
            "R[write to console]: =\n",
            "R[write to console]: =\n",
            "R[write to console]: =\n",
            "R[write to console]: =\n",
            "R[write to console]: =\n",
            "R[write to console]: =\n",
            "R[write to console]: =\n",
            "R[write to console]: =\n",
            "R[write to console]: =\n",
            "R[write to console]: =\n",
            "R[write to console]: =\n",
            "R[write to console]: =\n",
            "R[write to console]: =\n",
            "R[write to console]: =\n",
            "R[write to console]: =\n",
            "R[write to console]: =\n",
            "R[write to console]: =\n",
            "R[write to console]: =\n",
            "R[write to console]: =\n",
            "R[write to console]: =\n",
            "R[write to console]: =\n",
            "R[write to console]: =\n",
            "R[write to console]: =\n",
            "R[write to console]: =\n",
            "R[write to console]: =\n",
            "R[write to console]: =\n",
            "R[write to console]: =\n",
            "R[write to console]: =\n",
            "R[write to console]: =\n",
            "R[write to console]: =\n",
            "R[write to console]: =\n",
            "R[write to console]: =\n",
            "R[write to console]: =\n",
            "R[write to console]: =\n",
            "R[write to console]: =\n",
            "R[write to console]: =\n",
            "R[write to console]: =\n",
            "R[write to console]: =\n",
            "R[write to console]: =\n",
            "R[write to console]: =\n",
            "R[write to console]: =\n",
            "R[write to console]: =\n",
            "R[write to console]: =\n",
            "R[write to console]: =\n",
            "R[write to console]: =\n",
            "R[write to console]: =\n",
            "R[write to console]: =\n",
            "R[write to console]: =\n",
            "R[write to console]: =\n",
            "R[write to console]: =\n",
            "R[write to console]: \n",
            "\n",
            "R[write to console]: downloaded 310 KB\n",
            "\n",
            "\n",
            "R[write to console]: \n",
            "\n",
            "R[write to console]: \n",
            "R[write to console]: The downloaded source packages are in\n",
            "\t‘/tmp/Rtmpm8RWKJ/downloaded_packages’\n",
            "R[write to console]: \n",
            "R[write to console]: \n",
            "\n"
          ],
          "name": "stderr"
        }
      ]
    },
    {
      "cell_type": "code",
      "metadata": {
        "id": "Lw42War072bx",
        "colab_type": "code",
        "colab": {}
      },
      "source": [
        "%%R\n",
        "# load MatchIt package\n",
        "library(MatchIt)"
      ],
      "execution_count": 6,
      "outputs": []
    },
    {
      "cell_type": "code",
      "metadata": {
        "id": "g7tOvp0b79Jk",
        "colab_type": "code",
        "colab": {
          "base_uri": "https://localhost:8080/",
          "height": 1000
        },
        "outputId": "35c9bd10-c676-4f7f-a6b7-33092d83530e"
      },
      "source": [
        "%%R\n",
        "# install Coarsened Exact Matching package\n",
        "install.packages('cem')\n",
        "library(cem)"
      ],
      "execution_count": 7,
      "outputs": [
        {
          "output_type": "stream",
          "text": [
            "R[write to console]: Installing package into ‘/usr/local/lib/R/site-library’\n",
            "(as ‘lib’ is unspecified)\n",
            "\n",
            "R[write to console]: also installing the dependencies ‘combinat’, ‘randomForest’\n",
            "\n",
            "\n",
            "R[write to console]: trying URL 'https://cran.rstudio.com/src/contrib/combinat_0.0-8.tar.gz'\n",
            "\n",
            "R[write to console]: Content type 'application/x-gzip'\n",
            "R[write to console]:  length 9197 bytes\n",
            "\n",
            "R[write to console]: =\n",
            "R[write to console]: =\n",
            "R[write to console]: =\n",
            "R[write to console]: =\n",
            "R[write to console]: =\n",
            "R[write to console]: =\n",
            "R[write to console]: =\n",
            "R[write to console]: =\n",
            "R[write to console]: =\n",
            "R[write to console]: =\n",
            "R[write to console]: =\n",
            "R[write to console]: =\n",
            "R[write to console]: =\n",
            "R[write to console]: =\n",
            "R[write to console]: =\n",
            "R[write to console]: =\n",
            "R[write to console]: =\n",
            "R[write to console]: =\n",
            "R[write to console]: =\n",
            "R[write to console]: =\n",
            "R[write to console]: =\n",
            "R[write to console]: =\n",
            "R[write to console]: =\n",
            "R[write to console]: =\n",
            "R[write to console]: =\n",
            "R[write to console]: =\n",
            "R[write to console]: =\n",
            "R[write to console]: =\n",
            "R[write to console]: =\n",
            "R[write to console]: =\n",
            "R[write to console]: =\n",
            "R[write to console]: =\n",
            "R[write to console]: =\n",
            "R[write to console]: =\n",
            "R[write to console]: =\n",
            "R[write to console]: =\n",
            "R[write to console]: =\n",
            "R[write to console]: =\n",
            "R[write to console]: =\n",
            "R[write to console]: =\n",
            "R[write to console]: =\n",
            "R[write to console]: =\n",
            "R[write to console]: =\n",
            "R[write to console]: =\n",
            "R[write to console]: =\n",
            "R[write to console]: =\n",
            "R[write to console]: =\n",
            "R[write to console]: =\n",
            "R[write to console]: =\n",
            "R[write to console]: =\n",
            "R[write to console]: \n",
            "\n",
            "R[write to console]: downloaded 9197 bytes\n",
            "\n",
            "\n",
            "R[write to console]: trying URL 'https://cran.rstudio.com/src/contrib/randomForest_4.6-14.tar.gz'\n",
            "\n",
            "R[write to console]: Content type 'application/x-gzip'\n",
            "R[write to console]:  length 80074 bytes (78 KB)\n",
            "\n",
            "R[write to console]: =\n",
            "R[write to console]: =\n",
            "R[write to console]: =\n",
            "R[write to console]: =\n",
            "R[write to console]: =\n",
            "R[write to console]: =\n",
            "R[write to console]: =\n",
            "R[write to console]: =\n",
            "R[write to console]: =\n",
            "R[write to console]: =\n",
            "R[write to console]: =\n",
            "R[write to console]: =\n",
            "R[write to console]: =\n",
            "R[write to console]: =\n",
            "R[write to console]: =\n",
            "R[write to console]: =\n",
            "R[write to console]: =\n",
            "R[write to console]: =\n",
            "R[write to console]: =\n",
            "R[write to console]: =\n",
            "R[write to console]: =\n",
            "R[write to console]: =\n",
            "R[write to console]: =\n",
            "R[write to console]: =\n",
            "R[write to console]: =\n",
            "R[write to console]: =\n",
            "R[write to console]: =\n",
            "R[write to console]: =\n",
            "R[write to console]: =\n",
            "R[write to console]: =\n",
            "R[write to console]: =\n",
            "R[write to console]: =\n",
            "R[write to console]: =\n",
            "R[write to console]: =\n",
            "R[write to console]: =\n",
            "R[write to console]: =\n",
            "R[write to console]: =\n",
            "R[write to console]: =\n",
            "R[write to console]: =\n",
            "R[write to console]: =\n",
            "R[write to console]: =\n",
            "R[write to console]: =\n",
            "R[write to console]: =\n",
            "R[write to console]: =\n",
            "R[write to console]: =\n",
            "R[write to console]: =\n",
            "R[write to console]: =\n",
            "R[write to console]: =\n",
            "R[write to console]: =\n",
            "R[write to console]: =\n",
            "R[write to console]: \n",
            "\n",
            "R[write to console]: downloaded 78 KB\n",
            "\n",
            "\n",
            "R[write to console]: trying URL 'https://cran.rstudio.com/src/contrib/cem_1.1.20.tar.gz'\n",
            "\n",
            "R[write to console]: Content type 'application/x-gzip'\n",
            "R[write to console]:  length 2153944 bytes (2.1 MB)\n",
            "\n",
            "R[write to console]: =\n",
            "R[write to console]: =\n",
            "R[write to console]: =\n",
            "R[write to console]: =\n",
            "R[write to console]: =\n",
            "R[write to console]: =\n",
            "R[write to console]: =\n",
            "R[write to console]: =\n",
            "R[write to console]: =\n",
            "R[write to console]: =\n",
            "R[write to console]: =\n",
            "R[write to console]: =\n",
            "R[write to console]: =\n",
            "R[write to console]: =\n",
            "R[write to console]: =\n",
            "R[write to console]: =\n",
            "R[write to console]: =\n",
            "R[write to console]: =\n",
            "R[write to console]: =\n",
            "R[write to console]: =\n",
            "R[write to console]: =\n",
            "R[write to console]: =\n",
            "R[write to console]: =\n",
            "R[write to console]: =\n",
            "R[write to console]: =\n",
            "R[write to console]: =\n",
            "R[write to console]: =\n",
            "R[write to console]: =\n",
            "R[write to console]: =\n",
            "R[write to console]: =\n",
            "R[write to console]: =\n",
            "R[write to console]: =\n",
            "R[write to console]: =\n",
            "R[write to console]: =\n",
            "R[write to console]: =\n",
            "R[write to console]: =\n",
            "R[write to console]: =\n",
            "R[write to console]: =\n",
            "R[write to console]: =\n",
            "R[write to console]: =\n",
            "R[write to console]: =\n",
            "R[write to console]: =\n",
            "R[write to console]: =\n",
            "R[write to console]: =\n",
            "R[write to console]: =\n",
            "R[write to console]: =\n",
            "R[write to console]: =\n",
            "R[write to console]: =\n",
            "R[write to console]: =\n",
            "R[write to console]: =\n",
            "R[write to console]: \n",
            "\n",
            "R[write to console]: downloaded 2.1 MB\n",
            "\n",
            "\n",
            "R[write to console]: \n",
            "\n",
            "R[write to console]: \n",
            "R[write to console]: The downloaded source packages are in\n",
            "\t‘/tmp/Rtmpm8RWKJ/downloaded_packages’\n",
            "R[write to console]: \n",
            "R[write to console]: \n",
            "\n",
            "R[write to console]: Loading required package: tcltk\n",
            "\n",
            "R[write to console]: Loading required package: lattice\n",
            "\n",
            "R[write to console]: \n",
            "How to use CEM? Type vignette(\"cem\")\n",
            "\n",
            "\n"
          ],
          "name": "stderr"
        }
      ]
    },
    {
      "cell_type": "markdown",
      "metadata": {
        "id": "wm0tc3US8QB5",
        "colab_type": "text"
      },
      "source": [
        "# 1. Propensity score matching with new data without low device count + new covariates"
      ]
    },
    {
      "cell_type": "code",
      "metadata": {
        "id": "jTMpER4x8mTt",
        "colab_type": "code",
        "colab": {
          "base_uri": "https://localhost:8080/",
          "height": 187
        },
        "outputId": "1d251da2-138e-482f-f036-287b96e7d2ca"
      },
      "source": [
        "ls"
      ],
      "execution_count": 8,
      "outputs": [
        {
          "output_type": "stream",
          "text": [
            " 2016_US_County_Level_Presidential_Results.csv\n",
            "'2020 County Health Rankings Data - Additional Measure Data.csv'\n",
            "'2020 County Health Rankings Data - Ranked Measure Data.csv'\n",
            " aggregated_data.csv\n",
            " county_data_with_reduced_covariates.csv\n",
            " days_since.csv\n",
            " plot_time_series.ipynb\n",
            " prepare_data_for_PSM.ipynb\n",
            " PSM.ipynb\n",
            " us_states_governors.csv\n"
          ],
          "name": "stdout"
        }
      ]
    },
    {
      "cell_type": "code",
      "metadata": {
        "id": "nbcn4ToM8M6N",
        "colab_type": "code",
        "colab": {}
      },
      "source": [
        "dataframe = pd.read_csv(\"county_data_with_reduced_covariates.csv\")"
      ],
      "execution_count": 9,
      "outputs": []
    },
    {
      "cell_type": "code",
      "metadata": {
        "id": "DTt2Viiz8n9h",
        "colab_type": "code",
        "colab": {
          "base_uri": "https://localhost:8080/",
          "height": 411
        },
        "outputId": "46b6eca6-41c7-40e6-f5e9-e3cc35508f88"
      },
      "source": [
        "# look at our data\n",
        "dataframe.head()"
      ],
      "execution_count": 10,
      "outputs": [
        {
          "output_type": "execute_result",
          "data": {
            "text/html": [
              "<div>\n",
              "<style scoped>\n",
              "    .dataframe tbody tr th:only-of-type {\n",
              "        vertical-align: middle;\n",
              "    }\n",
              "\n",
              "    .dataframe tbody tr th {\n",
              "        vertical-align: top;\n",
              "    }\n",
              "\n",
              "    .dataframe thead th {\n",
              "        text-align: right;\n",
              "    }\n",
              "</style>\n",
              "<table border=\"1\" class=\"dataframe\">\n",
              "  <thead>\n",
              "    <tr style=\"text-align: right;\">\n",
              "      <th></th>\n",
              "      <th>state</th>\n",
              "      <th>state_code</th>\n",
              "      <th>State Name</th>\n",
              "      <th>cnamelong</th>\n",
              "      <th>county_code</th>\n",
              "      <th>diff_in_perc_time_home</th>\n",
              "      <th>diff_in_perc_full_time</th>\n",
              "      <th>diff_in_perc_part_time</th>\n",
              "      <th>SIP?</th>\n",
              "      <th>Median Household Income</th>\n",
              "      <th>% Rural</th>\n",
              "      <th>Population_y</th>\n",
              "      <th>political_diff</th>\n",
              "      <th>% less than 18 years of age</th>\n",
              "      <th>% 65 and over</th>\n",
              "      <th>% Asian</th>\n",
              "      <th>% Black</th>\n",
              "      <th>% Hispanic</th>\n",
              "      <th>% Non-Hispanic White</th>\n",
              "    </tr>\n",
              "  </thead>\n",
              "  <tbody>\n",
              "    <tr>\n",
              "      <th>0</th>\n",
              "      <td>1.0</td>\n",
              "      <td>AL</td>\n",
              "      <td>Alabama</td>\n",
              "      <td>Autauga County</td>\n",
              "      <td>1001.0</td>\n",
              "      <td>0.113066</td>\n",
              "      <td>-0.017918</td>\n",
              "      <td>-0.044274</td>\n",
              "      <td>1</td>\n",
              "      <td>59338.0</td>\n",
              "      <td>42.0</td>\n",
              "      <td>55601</td>\n",
              "      <td>-0.494789</td>\n",
              "      <td>23.7</td>\n",
              "      <td>15.6</td>\n",
              "      <td>1.2</td>\n",
              "      <td>19.3</td>\n",
              "      <td>3.0</td>\n",
              "      <td>74.3</td>\n",
              "    </tr>\n",
              "    <tr>\n",
              "      <th>1</th>\n",
              "      <td>1.0</td>\n",
              "      <td>AL</td>\n",
              "      <td>Alabama</td>\n",
              "      <td>Baldwin County</td>\n",
              "      <td>1003.0</td>\n",
              "      <td>0.101178</td>\n",
              "      <td>-0.012819</td>\n",
              "      <td>-0.031885</td>\n",
              "      <td>1</td>\n",
              "      <td>57588.0</td>\n",
              "      <td>42.3</td>\n",
              "      <td>218022</td>\n",
              "      <td>-0.577862</td>\n",
              "      <td>21.6</td>\n",
              "      <td>20.4</td>\n",
              "      <td>1.2</td>\n",
              "      <td>8.8</td>\n",
              "      <td>4.6</td>\n",
              "      <td>83.1</td>\n",
              "    </tr>\n",
              "    <tr>\n",
              "      <th>2</th>\n",
              "      <td>1.0</td>\n",
              "      <td>AL</td>\n",
              "      <td>Alabama</td>\n",
              "      <td>Barbour County</td>\n",
              "      <td>1005.0</td>\n",
              "      <td>0.068609</td>\n",
              "      <td>-0.011850</td>\n",
              "      <td>-0.021389</td>\n",
              "      <td>1</td>\n",
              "      <td>34382.0</td>\n",
              "      <td>67.8</td>\n",
              "      <td>24881</td>\n",
              "      <td>-0.056112</td>\n",
              "      <td>20.9</td>\n",
              "      <td>19.4</td>\n",
              "      <td>0.5</td>\n",
              "      <td>48.0</td>\n",
              "      <td>4.3</td>\n",
              "      <td>45.6</td>\n",
              "    </tr>\n",
              "    <tr>\n",
              "      <th>3</th>\n",
              "      <td>1.0</td>\n",
              "      <td>AL</td>\n",
              "      <td>Alabama</td>\n",
              "      <td>Bibb County</td>\n",
              "      <td>1007.0</td>\n",
              "      <td>0.086205</td>\n",
              "      <td>-0.022101</td>\n",
              "      <td>-0.027307</td>\n",
              "      <td>1</td>\n",
              "      <td>46064.0</td>\n",
              "      <td>68.4</td>\n",
              "      <td>22400</td>\n",
              "      <td>-0.555441</td>\n",
              "      <td>20.5</td>\n",
              "      <td>16.5</td>\n",
              "      <td>0.2</td>\n",
              "      <td>21.1</td>\n",
              "      <td>2.6</td>\n",
              "      <td>74.6</td>\n",
              "    </tr>\n",
              "    <tr>\n",
              "      <th>4</th>\n",
              "      <td>1.0</td>\n",
              "      <td>AL</td>\n",
              "      <td>Alabama</td>\n",
              "      <td>Blount County</td>\n",
              "      <td>1009.0</td>\n",
              "      <td>0.088145</td>\n",
              "      <td>-0.025352</td>\n",
              "      <td>-0.036392</td>\n",
              "      <td>1</td>\n",
              "      <td>50412.0</td>\n",
              "      <td>90.0</td>\n",
              "      <td>57840</td>\n",
              "      <td>-0.813820</td>\n",
              "      <td>23.2</td>\n",
              "      <td>18.2</td>\n",
              "      <td>0.3</td>\n",
              "      <td>1.5</td>\n",
              "      <td>9.6</td>\n",
              "      <td>86.9</td>\n",
              "    </tr>\n",
              "  </tbody>\n",
              "</table>\n",
              "</div>"
            ],
            "text/plain": [
              "   state state_code State Name  ... % Black  % Hispanic  % Non-Hispanic White\n",
              "0    1.0         AL    Alabama  ...    19.3         3.0                  74.3\n",
              "1    1.0         AL    Alabama  ...     8.8         4.6                  83.1\n",
              "2    1.0         AL    Alabama  ...    48.0         4.3                  45.6\n",
              "3    1.0         AL    Alabama  ...    21.1         2.6                  74.6\n",
              "4    1.0         AL    Alabama  ...     1.5         9.6                  86.9\n",
              "\n",
              "[5 rows x 19 columns]"
            ]
          },
          "metadata": {
            "tags": []
          },
          "execution_count": 10
        }
      ]
    },
    {
      "cell_type": "code",
      "metadata": {
        "id": "7puwnIEx8qv_",
        "colab_type": "code",
        "colab": {
          "base_uri": "https://localhost:8080/",
          "height": 34
        },
        "outputId": "3aede3d0-17af-4c81-ffd2-5034776adc50"
      },
      "source": [
        "print(f\"this dataset has {dataframe.shape[0]} records.\")"
      ],
      "execution_count": 11,
      "outputs": [
        {
          "output_type": "stream",
          "text": [
            "this dataset has 3140 records.\n"
          ],
          "name": "stdout"
        }
      ]
    },
    {
      "cell_type": "code",
      "metadata": {
        "id": "I05_om6s9637",
        "colab_type": "code",
        "colab": {}
      },
      "source": [
        "dataframe.dropna(inplace=True)"
      ],
      "execution_count": 12,
      "outputs": []
    },
    {
      "cell_type": "code",
      "metadata": {
        "id": "UHcu5cp_9-M0",
        "colab_type": "code",
        "colab": {
          "base_uri": "https://localhost:8080/",
          "height": 34
        },
        "outputId": "0358f085-89e7-48b2-91e2-e429864dd353"
      },
      "source": [
        "print(f\"after dropping this dataset has {dataframe.shape[0]} records.\")"
      ],
      "execution_count": 13,
      "outputs": [
        {
          "output_type": "stream",
          "text": [
            "after dropping this dataset has 3135 records.\n"
          ],
          "name": "stdout"
        }
      ]
    },
    {
      "cell_type": "markdown",
      "metadata": {
        "id": "xoFLhV1x-Bri",
        "colab_type": "text"
      },
      "source": [
        "So we only have one record with null values in it, which is good"
      ]
    },
    {
      "cell_type": "code",
      "metadata": {
        "id": "4c71CKd7-kmK",
        "colab_type": "code",
        "colab": {
          "base_uri": "https://localhost:8080/",
          "height": 493
        },
        "outputId": "98abb585-dec9-48c1-d35c-b3eb758c90f1"
      },
      "source": [
        "# look at variables we have in R. (% sign is messed up)\n",
        "%%R -i dataframe\n",
        "head(dataframe)"
      ],
      "execution_count": 14,
      "outputs": [
        {
          "output_type": "stream",
          "text": [
            "  state state_code State.Name      cnamelong county_code diff_in_perc_time_home\n",
            "0     1         AL    Alabama Autauga County        1001             0.11306633\n",
            "1     1         AL    Alabama Baldwin County        1003             0.10117823\n",
            "2     1         AL    Alabama Barbour County        1005             0.06860850\n",
            "3     1         AL    Alabama    Bibb County        1007             0.08620452\n",
            "4     1         AL    Alabama  Blount County        1009             0.08814533\n",
            "5     1         AL    Alabama Bullock County        1011             0.04338218\n",
            "  diff_in_perc_full_time diff_in_perc_part_time SIP. Median.Household.Income\n",
            "0            -0.01791829            -0.04427444    1                   59338\n",
            "1            -0.01281902            -0.03188528    1                   57588\n",
            "2            -0.01185009            -0.02138910    1                   34382\n",
            "3            -0.02210120            -0.02730729    1                   46064\n",
            "4            -0.02535157            -0.03639227    1                   50412\n",
            "5            -0.01192874            -0.01544113    1                   29267\n",
            "  X..Rural Population_y political_diff X..less.than.18.years.of.age\n",
            "0     42.0        55601    -0.49478934                         23.7\n",
            "1     42.3       218022    -0.57786162                         21.6\n",
            "2     67.8        24881    -0.05611165                         20.9\n",
            "3     68.4        22400    -0.55544124                         20.5\n",
            "4     90.0        57840    -0.81381973                         23.2\n",
            "5     51.4        10138     0.50861519                         21.1\n",
            "  X..65.and.over X..Asian X..Black X..Hispanic X..Non.Hispanic.White\n",
            "0           15.6      1.2     19.3         3.0                  74.3\n",
            "1           20.4      1.2      8.8         4.6                  83.1\n",
            "2           19.4      0.5     48.0         4.3                  45.6\n",
            "3           16.5      0.2     21.1         2.6                  74.6\n",
            "4           18.2      0.3      1.5         9.6                  86.9\n",
            "5           16.4      0.2     69.5         8.0                  21.2\n"
          ],
          "name": "stdout"
        }
      ]
    },
    {
      "cell_type": "code",
      "metadata": {
        "id": "6oXKFccl9_Nh",
        "colab_type": "code",
        "colab": {
          "base_uri": "https://localhost:8080/",
          "height": 51
        },
        "outputId": "5d64642b-af56-44a8-c470-a628a5579aed"
      },
      "source": [
        "# -i means pass in some argument/data from python world to R world\n",
        "%%R -i dataframe\n",
        "\n",
        "# using MatchIt package to do PSM - guess it used logistic regression?\n",
        "\n",
        "m.out <- matchit(SIP.~Median.Household.Income + X..Rural +\n",
        "                 political_diff+\n",
        "                 X..Asian + X..Black + \n",
        "                 X..Non.Hispanic.White +\n",
        "                 X..Hispanic,\n",
        "                 method = \"cem\", data = dataframe) # cem = coarse exact matching"
      ],
      "execution_count": 15,
      "outputs": [
        {
          "output_type": "stream",
          "text": [
            "\n",
            "Using 'treat'='1' as baseline group\n"
          ],
          "name": "stdout"
        }
      ]
    },
    {
      "cell_type": "code",
      "metadata": {
        "id": "7a8zE4qh_EMk",
        "colab_type": "code",
        "colab": {
          "base_uri": "https://localhost:8080/",
          "height": 497
        },
        "outputId": "89f27f09-3672-446a-8b26-6c639ea91359"
      },
      "source": [
        "# to see how maching it soind by visualizing distributions\n",
        "%%R\n",
        "plot(m.out, type='hist')"
      ],
      "execution_count": 16,
      "outputs": [
        {
          "output_type": "display_data",
          "data": {
            "image/png": "[encoded data removed]"
          },
          "metadata": {
            "tags": []
          }
        }
      ]
    },
    {
      "cell_type": "code",
      "metadata": {
        "id": "amT09HkB_njf",
        "colab_type": "code",
        "colab": {
          "base_uri": "https://localhost:8080/",
          "height": 531
        },
        "outputId": "de8365c0-2a44-4121-d8a3-951486f66c1d"
      },
      "source": [
        "%%R\n",
        "plot(m.out, type='jitter')"
      ],
      "execution_count": 17,
      "outputs": [
        {
          "output_type": "stream",
          "text": [
            "[1] \"To identify the units, use first mouse button; to stop, use second.\"\n",
            "integer(0)\n"
          ],
          "name": "stdout"
        },
        {
          "output_type": "display_data",
          "data": {
            "image/png": "[encoded data removed]"
          },
          "metadata": {
            "tags": []
          }
        }
      ]
    },
    {
      "cell_type": "code",
      "metadata": {
        "id": "H0Bjclom_ptH",
        "colab_type": "code",
        "colab": {
          "base_uri": "https://localhost:8080/",
          "height": 1000
        },
        "outputId": "0add52d2-ff72-4b06-b450-7d4bc072b835"
      },
      "source": [
        "%%R\n",
        "summary(m.out, standardize=T)"
      ],
      "execution_count": 18,
      "outputs": [
        {
          "output_type": "stream",
          "text": [
            "\n",
            "Call:\n",
            "matchit(formula = SIP. ~ Median.Household.Income + X..Rural + \n",
            "    political_diff + X..Asian + X..Black + X..Non.Hispanic.White + \n",
            "    X..Hispanic, data = dataframe, method = \"cem\")\n",
            "\n",
            "Summary of balance for all data:\n",
            "                        Means Treated Means Control SD Control Std. Mean Diff.\n",
            "distance                       0.8558        0.7528     0.1306          1.0197\n",
            "Median.Household.Income    52858.2550    52532.2222 10354.0323          0.0225\n",
            "X..Rural                      56.6499       68.4734    29.4844         -0.3752\n",
            "political_diff                -0.2929       -0.4475     0.2328          0.4913\n",
            "X..Asian                       1.6896        0.9341     1.2334          0.2387\n",
            "X..Black                      10.0607        3.6260     8.7236          0.4307\n",
            "X..Non.Hispanic.White         74.7858       82.7423    15.5670         -0.3857\n",
            "X..Hispanic                   10.3455        6.1333     6.0350          0.2848\n",
            "                        eCDF Med eCDF Mean eCDF Max\n",
            "distance                  0.2780    0.2449   0.3567\n",
            "Median.Household.Income   0.0495    0.0501   0.1032\n",
            "X..Rural                  0.1125    0.1141   0.1961\n",
            "political_diff            0.1550    0.1436   0.2052\n",
            "X..Asian                  0.0259    0.0437   0.1754\n",
            "X..Black                  0.0977    0.1175   0.3127\n",
            "X..Non.Hispanic.White     0.1164    0.1051   0.1929\n",
            "X..Hispanic               0.0769    0.0703   0.1247\n",
            "\n",
            "\n",
            "Summary of balance for matched data:\n",
            "                        Means Treated Means Control SD Control Std. Mean Diff.\n",
            "distance                       0.7803        0.7712     0.0617          0.0896\n",
            "Median.Household.Income    49543.3501    49676.4552  7984.5687         -0.0092\n",
            "X..Rural                      75.2769       75.5217    23.8983         -0.0078\n",
            "political_diff                -0.4782       -0.4879     0.1649          0.0307\n",
            "X..Asian                       0.6341        0.6565     0.5052         -0.0071\n",
            "X..Black                       2.2843        1.6893     5.1484          0.0398\n",
            "X..Non.Hispanic.White         91.4564       91.1363     6.7743          0.0155\n",
            "X..Hispanic                    3.3929        3.8067     3.0325         -0.0280\n",
            "                        eCDF Med eCDF Mean eCDF Max\n",
            "distance                  0.0331    0.0692   0.1918\n",
            "Median.Household.Income   0.1156    0.1041   0.1913\n",
            "X..Rural                  0.0168    0.0292   0.1303\n",
            "political_diff            0.0267    0.0359   0.1030\n",
            "X..Asian                  0.0103    0.0138   0.0506\n",
            "X..Black                  0.0214    0.0517   0.1816\n",
            "X..Non.Hispanic.White     0.0482    0.0475   0.0899\n",
            "X..Hispanic               0.0362    0.0589   0.2025\n",
            "\n",
            "Percent Balance Improvement:\n",
            "                        Std. Mean Diff.  eCDF Med eCDF Mean eCDF Max\n",
            "distance                        91.2140   88.0973   71.7364  46.2312\n",
            "Median.Household.Income         59.1743 -133.6102 -107.9274 -85.4363\n",
            "X..Rural                        97.9297   85.0646   74.3925  33.5700\n",
            "political_diff                  93.7548   82.7605   75.0117  49.7726\n",
            "X..Asian                        97.0367   60.3356   68.5402  71.1184\n",
            "X..Black                        90.7533   78.0581   55.9501  41.9332\n",
            "X..Non.Hispanic.White           95.9770   58.5682   54.7827  53.4059\n",
            "X..Hispanic                     90.1763   52.8688   16.2368 -62.3670\n",
            "\n",
            "Sample sizes:\n",
            "          Control Treated\n",
            "All           504    2631\n",
            "Matched       288     637\n",
            "Unmatched     216    1994\n",
            "Discarded       0       0\n",
            "\n"
          ],
          "name": "stdout"
        }
      ]
    },
    {
      "cell_type": "markdown",
      "metadata": {
        "id": "hgQyJMV6_u1W",
        "colab_type": "text"
      },
      "source": [
        "we can see from the histogram and jitter plot and summary statistics that this matching is pretty good! - Std. Mean Diff are all $\\le$ 0.05, which is good"
      ]
    },
    {
      "cell_type": "code",
      "metadata": {
        "id": "UWshTbro_rEg",
        "colab_type": "code",
        "colab": {}
      },
      "source": [
        "%%R\n",
        "# extract matched data.\n",
        "matched_data <- match.data(m.out)"
      ],
      "execution_count": 19,
      "outputs": []
    },
    {
      "cell_type": "code",
      "metadata": {
        "id": "70feAD8D_9Ky",
        "colab_type": "code",
        "colab": {}
      },
      "source": [
        "# import dataframe from R to python.... since I am not familar with manipulating\n",
        "# R objects \n",
        "matched_data = %R matched_data"
      ],
      "execution_count": 20,
      "outputs": []
    },
    {
      "cell_type": "code",
      "metadata": {
        "id": "LKETsXXY7GUa",
        "colab_type": "code",
        "colab": {
          "base_uri": "https://localhost:8080/",
          "height": 309
        },
        "outputId": "b6a10e78-7ea2-4eb7-cd9d-57099d0fa58e"
      },
      "source": [
        "matched_data.head()"
      ],
      "execution_count": 21,
      "outputs": [
        {
          "output_type": "execute_result",
          "data": {
            "text/html": [
              "<div>\n",
              "<style scoped>\n",
              "    .dataframe tbody tr th:only-of-type {\n",
              "        vertical-align: middle;\n",
              "    }\n",
              "\n",
              "    .dataframe tbody tr th {\n",
              "        vertical-align: top;\n",
              "    }\n",
              "\n",
              "    .dataframe thead th {\n",
              "        text-align: right;\n",
              "    }\n",
              "</style>\n",
              "<table border=\"1\" class=\"dataframe\">\n",
              "  <thead>\n",
              "    <tr style=\"text-align: right;\">\n",
              "      <th></th>\n",
              "      <th>state</th>\n",
              "      <th>state_code</th>\n",
              "      <th>State.Name</th>\n",
              "      <th>cnamelong</th>\n",
              "      <th>county_code</th>\n",
              "      <th>diff_in_perc_time_home</th>\n",
              "      <th>diff_in_perc_full_time</th>\n",
              "      <th>diff_in_perc_part_time</th>\n",
              "      <th>SIP.</th>\n",
              "      <th>Median.Household.Income</th>\n",
              "      <th>X..Rural</th>\n",
              "      <th>Population_y</th>\n",
              "      <th>political_diff</th>\n",
              "      <th>X..less.than.18.years.of.age</th>\n",
              "      <th>X..65.and.over</th>\n",
              "      <th>X..Asian</th>\n",
              "      <th>X..Black</th>\n",
              "      <th>X..Hispanic</th>\n",
              "      <th>X..Non.Hispanic.White</th>\n",
              "      <th>distance</th>\n",
              "      <th>weights</th>\n",
              "      <th>subclass</th>\n",
              "    </tr>\n",
              "  </thead>\n",
              "  <tbody>\n",
              "    <tr>\n",
              "      <th>14</th>\n",
              "      <td>1.0</td>\n",
              "      <td>AL</td>\n",
              "      <td>Alabama</td>\n",
              "      <td>Cleburne County</td>\n",
              "      <td>1029.0</td>\n",
              "      <td>0.081698</td>\n",
              "      <td>-0.015703</td>\n",
              "      <td>-0.025147</td>\n",
              "      <td>1</td>\n",
              "      <td>46495.0</td>\n",
              "      <td>100.0</td>\n",
              "      <td>14987</td>\n",
              "      <td>-0.773729</td>\n",
              "      <td>22.8</td>\n",
              "      <td>19.5</td>\n",
              "      <td>0.2</td>\n",
              "      <td>2.9</td>\n",
              "      <td>2.5</td>\n",
              "      <td>92.8</td>\n",
              "      <td>0.688206</td>\n",
              "      <td>1.000000</td>\n",
              "      <td>633</td>\n",
              "    </tr>\n",
              "    <tr>\n",
              "      <th>41</th>\n",
              "      <td>1.0</td>\n",
              "      <td>AL</td>\n",
              "      <td>Alabama</td>\n",
              "      <td>Limestone County</td>\n",
              "      <td>1083.0</td>\n",
              "      <td>0.118461</td>\n",
              "      <td>-0.017724</td>\n",
              "      <td>-0.047195</td>\n",
              "      <td>1</td>\n",
              "      <td>64863.0</td>\n",
              "      <td>57.6</td>\n",
              "      <td>96174</td>\n",
              "      <td>-0.494518</td>\n",
              "      <td>22.6</td>\n",
              "      <td>15.2</td>\n",
              "      <td>1.6</td>\n",
              "      <td>13.5</td>\n",
              "      <td>6.1</td>\n",
              "      <td>76.1</td>\n",
              "      <td>0.833394</td>\n",
              "      <td>1.000000</td>\n",
              "      <td>1624</td>\n",
              "    </tr>\n",
              "    <tr>\n",
              "      <th>60</th>\n",
              "      <td>1.0</td>\n",
              "      <td>AL</td>\n",
              "      <td>Alabama</td>\n",
              "      <td>Talladega County</td>\n",
              "      <td>1121.0</td>\n",
              "      <td>0.081974</td>\n",
              "      <td>-0.015768</td>\n",
              "      <td>-0.032364</td>\n",
              "      <td>1</td>\n",
              "      <td>41630.0</td>\n",
              "      <td>55.8</td>\n",
              "      <td>79828</td>\n",
              "      <td>-0.255524</td>\n",
              "      <td>21.2</td>\n",
              "      <td>18.0</td>\n",
              "      <td>0.7</td>\n",
              "      <td>32.6</td>\n",
              "      <td>2.4</td>\n",
              "      <td>62.5</td>\n",
              "      <td>0.950433</td>\n",
              "      <td>1.000000</td>\n",
              "      <td>432</td>\n",
              "    </tr>\n",
              "    <tr>\n",
              "      <th>108</th>\n",
              "      <td>4.0</td>\n",
              "      <td>AZ</td>\n",
              "      <td>Arizona</td>\n",
              "      <td>Yavapai County</td>\n",
              "      <td>4025.0</td>\n",
              "      <td>0.052146</td>\n",
              "      <td>-0.010039</td>\n",
              "      <td>-0.018367</td>\n",
              "      <td>1</td>\n",
              "      <td>48758.0</td>\n",
              "      <td>33.2</td>\n",
              "      <td>231993</td>\n",
              "      <td>-0.314260</td>\n",
              "      <td>16.2</td>\n",
              "      <td>31.6</td>\n",
              "      <td>1.2</td>\n",
              "      <td>0.7</td>\n",
              "      <td>14.7</td>\n",
              "      <td>80.4</td>\n",
              "      <td>0.875396</td>\n",
              "      <td>1.000000</td>\n",
              "      <td>817</td>\n",
              "    </tr>\n",
              "    <tr>\n",
              "      <th>112</th>\n",
              "      <td>5.0</td>\n",
              "      <td>AR</td>\n",
              "      <td>Arkansas</td>\n",
              "      <td>Baxter County</td>\n",
              "      <td>5005.0</td>\n",
              "      <td>0.049920</td>\n",
              "      <td>-0.004508</td>\n",
              "      <td>-0.015891</td>\n",
              "      <td>0</td>\n",
              "      <td>39686.0</td>\n",
              "      <td>65.8</td>\n",
              "      <td>41619</td>\n",
              "      <td>-0.536072</td>\n",
              "      <td>17.7</td>\n",
              "      <td>30.9</td>\n",
              "      <td>0.5</td>\n",
              "      <td>0.4</td>\n",
              "      <td>2.5</td>\n",
              "      <td>94.5</td>\n",
              "      <td>0.778454</td>\n",
              "      <td>1.205651</td>\n",
              "      <td>449</td>\n",
              "    </tr>\n",
              "  </tbody>\n",
              "</table>\n",
              "</div>"
            ],
            "text/plain": [
              "     state state_code State.Name  ...  distance   weights  subclass\n",
              "14     1.0         AL    Alabama  ...  0.688206  1.000000       633\n",
              "41     1.0         AL    Alabama  ...  0.833394  1.000000      1624\n",
              "60     1.0         AL    Alabama  ...  0.950433  1.000000       432\n",
              "108    4.0         AZ    Arizona  ...  0.875396  1.000000       817\n",
              "112    5.0         AR   Arkansas  ...  0.778454  1.205651       449\n",
              "\n",
              "[5 rows x 22 columns]"
            ]
          },
          "metadata": {
            "tags": []
          },
          "execution_count": 21
        }
      ]
    },
    {
      "cell_type": "code",
      "metadata": {
        "id": "jIslw_QY_-Pf",
        "colab_type": "code",
        "colab": {}
      },
      "source": [
        "no_SIP_diff = ((matched_data[matched_data['SIP.'] == 0]['weights'] / \\\n",
        " matched_data[matched_data['SIP.'] == 0]['weights'].sum()) \\\n",
        "* matched_data[matched_data['SIP.'] == 0]['diff_in_perc_time_home']).sum()"
      ],
      "execution_count": 22,
      "outputs": []
    },
    {
      "cell_type": "code",
      "metadata": {
        "id": "xJFMVKMF__OY",
        "colab_type": "code",
        "colab": {}
      },
      "source": [
        "SIP_diff = matched_data[matched_data['SIP.'] == 1]['diff_in_perc_time_home'].mean()"
      ],
      "execution_count": 23,
      "outputs": []
    },
    {
      "cell_type": "code",
      "metadata": {
        "id": "RKbD51zFAAgH",
        "colab_type": "code",
        "colab": {
          "base_uri": "https://localhost:8080/",
          "height": 34
        },
        "outputId": "e38e0adc-c8a2-4a6c-c5aa-3c43fd3e9752"
      },
      "source": [
        "# change in behavior that is brought by SIP policy\n",
        "# this is for diff in percentage of time people spend at home\n",
        "SIP_diff - no_SIP_diff"
      ],
      "execution_count": 24,
      "outputs": [
        {
          "output_type": "execute_result",
          "data": {
            "text/plain": [
              "0.0031591851675872307"
            ]
          },
          "metadata": {
            "tags": []
          },
          "execution_count": 24
        }
      ]
    },
    {
      "cell_type": "code",
      "metadata": {
        "id": "gaJCbsxm8CkC",
        "colab_type": "code",
        "colab": {}
      },
      "source": [
        "no_SIP_diff = ((matched_data[matched_data['SIP.'] == 0]['weights'] / \\\n",
        " matched_data[matched_data['SIP.'] == 0]['weights'].sum()) \\\n",
        "* matched_data[matched_data['SIP.'] == 0]['diff_in_perc_full_time']).sum()"
      ],
      "execution_count": 47,
      "outputs": []
    },
    {
      "cell_type": "code",
      "metadata": {
        "id": "FbFk2O5v8ZM_",
        "colab_type": "code",
        "colab": {}
      },
      "source": [
        "SIP_diff = matched_data[matched_data['SIP.'] == 1]['diff_in_perc_full_time'].mean()"
      ],
      "execution_count": 48,
      "outputs": []
    },
    {
      "cell_type": "code",
      "metadata": {
        "id": "Ue5U_cUETRCJ",
        "colab_type": "code",
        "colab": {
          "base_uri": "https://localhost:8080/",
          "height": 34
        },
        "outputId": "7cc5e5b4-40ce-4ab1-953e-ac10f8f78869"
      },
      "source": [
        "# this is diff of percentage of full time work devices\n",
        "SIP_diff - no_SIP_diff"
      ],
      "execution_count": 50,
      "outputs": [
        {
          "output_type": "execute_result",
          "data": {
            "text/plain": [
              "0.0012584026222512527"
            ]
          },
          "metadata": {
            "tags": []
          },
          "execution_count": 50
        }
      ]
    },
    {
      "cell_type": "code",
      "metadata": {
        "id": "0mMMz4848iXQ",
        "colab_type": "code",
        "colab": {}
      },
      "source": [
        "no_SIP_diff = ((matched_data[matched_data['SIP.'] == 0]['weights'] / \\\n",
        " matched_data[matched_data['SIP.'] == 0]['weights'].sum()) \\\n",
        "* matched_data[matched_data['SIP.'] == 0]['diff_in_perc_part_time']).sum()"
      ],
      "execution_count": 51,
      "outputs": []
    },
    {
      "cell_type": "code",
      "metadata": {
        "id": "KxEdUTqj8kXS",
        "colab_type": "code",
        "colab": {}
      },
      "source": [
        "SIP_diff = matched_data[matched_data['SIP.'] == 1]['diff_in_perc_part_time'].mean()"
      ],
      "execution_count": 52,
      "outputs": []
    },
    {
      "cell_type": "code",
      "metadata": {
        "id": "C-fXlVet8rQS",
        "colab_type": "code",
        "colab": {
          "base_uri": "https://localhost:8080/",
          "height": 34
        },
        "outputId": "15b203a7-761b-465a-fc17-4f9c13f32610"
      },
      "source": [
        "# this is diff of percentage of part time work devices.\n",
        "SIP_diff - no_SIP_diff"
      ],
      "execution_count": 53,
      "outputs": [
        {
          "output_type": "execute_result",
          "data": {
            "text/plain": [
              "-0.0019964861832602876"
            ]
          },
          "metadata": {
            "tags": []
          },
          "execution_count": 53
        }
      ]
    },
    {
      "cell_type": "markdown",
      "metadata": {
        "id": "hUpOAizZABWl",
        "colab_type": "text"
      },
      "source": [
        "# Conclusion"
      ]
    },
    {
      "cell_type": "code",
      "metadata": {
        "id": "w1Uk5reI9ZKk",
        "colab_type": "code",
        "colab": {}
      },
      "source": [
        "def analyzeVariable(variable_name):\n",
        "\n",
        "  no_SIP_diff = ((matched_data[matched_data['SIP.'] == 0]['weights'] / \\\n",
        "  matched_data[matched_data['SIP.'] == 0]['weights'].sum()) \\\n",
        "  * matched_data[matched_data['SIP.'] == 0][variable_name]).sum()\n",
        "\n",
        "  SIP_diff = matched_data[matched_data['SIP.'] == 1][variable_name].mean()\n",
        "\n",
        "  print(f'for variable {variable_name}, counties without SIP have increased {no_SIP_diff * 100}% during COVID' + \n",
        "        f' while counties with SIP increased {SIP_diff * 100}%, with a difference of {(SIP_diff - no_SIP_diff)*100}%')\n",
        "  policy_importance = (SIP_diff - no_SIP_diff) / SIP_diff\n",
        "  print(f'the shelter in place policy contributes {policy_importance * 100}% to change in {variable_name}')\n",
        "  print()"
      ],
      "execution_count": 45,
      "outputs": []
    },
    {
      "cell_type": "code",
      "metadata": {
        "id": "WCVPdfzR952q",
        "colab_type": "code",
        "colab": {
          "base_uri": "https://localhost:8080/",
          "height": 190
        },
        "outputId": "fb2c885d-5730-4f9a-8964-c9c2c1ec85dc"
      },
      "source": [
        "for variable in ['diff_in_perc_time_home', 'diff_in_perc_full_time', 'diff_in_perc_part_time']:\n",
        "  analyzeVariable(variable)"
      ],
      "execution_count": 46,
      "outputs": [
        {
          "output_type": "stream",
          "text": [
            "for variable diff_in_perc_time_home, counties without SIP have increased 6.255606613644726% during COVID while counties with SIP increased 6.571525130403449%, with a difference of 0.31591851675872307%\n",
            "the shelter in place policy contributes 4.807385051258682% to change in diff_in_perc_time_home\n",
            "\n",
            "for variable diff_in_perc_full_time, counties without SIP have increased -1.714099684195061% during COVID while counties with SIP increased -1.588259421969936%, with a difference of 0.1258402622251253%\n",
            "the shelter in place policy contributes -7.92315540423769% to change in diff_in_perc_full_time\n",
            "\n",
            "for variable diff_in_perc_part_time, counties without SIP have increased -2.573648511411028% during COVID while counties with SIP increased -2.773297129737057%, with a difference of -0.19964861832602876%\n",
            "the shelter in place policy contributes 7.198962425816881% to change in diff_in_perc_part_time\n",
            "\n"
          ],
          "name": "stdout"
        }
      ]
    },
    {
      "cell_type": "markdown",
      "metadata": {
        "id": "FseMaZne_383",
        "colab_type": "text"
      },
      "source": [
        "As we can see, there are not much difference that is brought by shelter in place policy. It increase people's percentage of staying at home by 0.3%, increases percentage of full time devices by 0.12%, and it decreases percentage of part time by 0.2%. "
      ]
    }
  ]
}