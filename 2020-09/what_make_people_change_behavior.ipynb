{
  "nbformat": 4,
  "nbformat_minor": 0,
  "metadata": {
    "colab": {
      "name": "what_make_people_change_behavior.ipynb",
      "provenance": [],
      "mount_file_id": "1v5EUkrPDfDrKKavAQLZE5JWn02-3MYGi",
      "authorship_tag": "ABX9TyOC1/DylvrShqe67Qi+h8x9",
      "include_colab_link": true
    },
    "kernelspec": {
      "name": "python3",
      "display_name": "Python 3"
    }
  },
  "cells": [
    {
      "cell_type": "markdown",
      "metadata": {
        "id": "view-in-github",
        "colab_type": "text"
      },
      "source": [
        "<a href=\"https://colab.research.google.com/github/wenjunsun/Covid-19-analysis-with-uw-ubicomp/blob/master/2020-09/what_make_people_change_behavior.ipynb\" target=\"_parent\"><img src=\"https://colab.research.google.com/assets/colab-badge.svg\" alt=\"Open In Colab\"/></a>"
      ]
    },
    {
      "cell_type": "markdown",
      "metadata": {
        "id": "g78VcccfBgfQ",
        "colab_type": "text"
      },
      "source": [
        "<ins>In our research journey we found that people in some counties with shelter in place did not change their behavior that much during COVID. While other counties change behavior a lot. We want to see what makes that difference.</ins> Why do people in some counties change their behavior so drastically and some other counties not so much? (all with shelter in place policy).\n",
        "\n",
        "For example, % of completely stay at home devices in King County increases by 15% during COVID, and LA county increases by 11%. However, some other counties only increases by 1% or didn't increase at all.\n",
        "\n",
        "To see which variables affects % stay at home devices the most, we decide to use 4 approaches: linear regression, pearson correlation, mutual information, and feature importance factors from random forest models.\n",
        "- Linear regression + pearson correlatoin only measures linear relationship\n",
        "- mutual information and random forest measure non-linear relationship between variables."
      ]
    },
    {
      "cell_type": "markdown",
      "metadata": {
        "id": "EBu61h7fe-f6",
        "colab_type": "text"
      },
      "source": [
        "*Data used here use a time window from shelter in place date to 6/1, and use shetler in place date as the baseline date, not first case date. The counties without shelter in place uses mean shelter in place date.*"
      ]
    },
    {
      "cell_type": "markdown",
      "metadata": {
        "id": "5T7WaK6cIkWY",
        "colab_type": "text"
      },
      "source": [
        "# 1. load data and explore distribution of behavior change"
      ]
    },
    {
      "cell_type": "code",
      "metadata": {
        "id": "5q0SUQ9BBdT8",
        "colab_type": "code",
        "colab": {
          "base_uri": "https://localhost:8080/",
          "height": 34
        },
        "outputId": "0e6e8bbc-fda2-4c6e-a675-b8802740114e"
      },
      "source": [
        "cd drive/My\\ Drive/fall"
      ],
      "execution_count": 1,
      "outputs": [
        {
          "output_type": "stream",
          "text": [
            "/content/drive/My Drive/fall\n"
          ],
          "name": "stdout"
        }
      ]
    },
    {
      "cell_type": "code",
      "metadata": {
        "id": "Vtozdhi8EPoT",
        "colab_type": "code",
        "colab": {
          "base_uri": "https://localhost:8080/",
          "height": 136
        },
        "outputId": "f47e6e7e-03d8-4383-9f34-c37b4912df1c"
      },
      "source": [
        "ls"
      ],
      "execution_count": 2,
      "outputs": [
        {
          "output_type": "stream",
          "text": [
            "county_data_with_covariates.csv\n",
            "county_data_with_reduced_covariates_more_variables.csv\n",
            "county_data_with_reduced_covariates_with_SIP.csv\n",
            "county_data_with_reduced_covariates_with_SIP_up_to_5.csv\n",
            "county_data_with_reduced_covariates_with_SIP_up_to_8.csv\n",
            "mutual_information.ipynb\n",
            "PSM_new.ipynb\n"
          ],
          "name": "stdout"
        }
      ]
    },
    {
      "cell_type": "code",
      "metadata": {
        "id": "B1bsHXbJEQAa",
        "colab_type": "code",
        "colab": {}
      },
      "source": [
        "import pandas as pd\n",
        "import numpy as np\n",
        "import matplotlib.pyplot as plt"
      ],
      "execution_count": 19,
      "outputs": []
    },
    {
      "cell_type": "code",
      "metadata": {
        "id": "A8LQs9AFETRc",
        "colab_type": "code",
        "colab": {}
      },
      "source": [
        "data = pd.read_csv('county_data_with_reduced_covariates_with_SIP.csv')"
      ],
      "execution_count": 7,
      "outputs": []
    },
    {
      "cell_type": "code",
      "metadata": {
        "id": "1SdwyNsYEWH3",
        "colab_type": "code",
        "colab": {
          "base_uri": "https://localhost:8080/",
          "height": 411
        },
        "outputId": "68e761da-0985-4bc8-e06a-29863ec7bdd3"
      },
      "source": [
        "data.head()"
      ],
      "execution_count": 8,
      "outputs": [
        {
          "output_type": "execute_result",
          "data": {
            "text/html": [
              "<div>\n",
              "<style scoped>\n",
              "    .dataframe tbody tr th:only-of-type {\n",
              "        vertical-align: middle;\n",
              "    }\n",
              "\n",
              "    .dataframe tbody tr th {\n",
              "        vertical-align: top;\n",
              "    }\n",
              "\n",
              "    .dataframe thead th {\n",
              "        text-align: right;\n",
              "    }\n",
              "</style>\n",
              "<table border=\"1\" class=\"dataframe\">\n",
              "  <thead>\n",
              "    <tr style=\"text-align: right;\">\n",
              "      <th></th>\n",
              "      <th>state</th>\n",
              "      <th>state_code</th>\n",
              "      <th>State Name</th>\n",
              "      <th>cnamelong</th>\n",
              "      <th>county_code</th>\n",
              "      <th>diff_in_perc_at_home</th>\n",
              "      <th>SIP?</th>\n",
              "      <th>Median Household Income</th>\n",
              "      <th>% Rural</th>\n",
              "      <th>Population_y</th>\n",
              "      <th>political_diff</th>\n",
              "      <th>% less than 18 years of age</th>\n",
              "      <th>% 65 and over</th>\n",
              "      <th>% Asian</th>\n",
              "      <th>% Black</th>\n",
              "      <th>% Hispanic</th>\n",
              "      <th>% Non-Hispanic White</th>\n",
              "    </tr>\n",
              "  </thead>\n",
              "  <tbody>\n",
              "    <tr>\n",
              "      <th>0</th>\n",
              "      <td>1.0</td>\n",
              "      <td>AL</td>\n",
              "      <td>Alabama</td>\n",
              "      <td>Autauga County</td>\n",
              "      <td>1001.0</td>\n",
              "      <td>0.050678</td>\n",
              "      <td>1</td>\n",
              "      <td>59338.0</td>\n",
              "      <td>42.0</td>\n",
              "      <td>55601</td>\n",
              "      <td>-0.494789</td>\n",
              "      <td>23.7</td>\n",
              "      <td>15.6</td>\n",
              "      <td>1.2</td>\n",
              "      <td>19.3</td>\n",
              "      <td>3.0</td>\n",
              "      <td>74.3</td>\n",
              "    </tr>\n",
              "    <tr>\n",
              "      <th>1</th>\n",
              "      <td>1.0</td>\n",
              "      <td>AL</td>\n",
              "      <td>Alabama</td>\n",
              "      <td>Baldwin County</td>\n",
              "      <td>1003.0</td>\n",
              "      <td>0.050312</td>\n",
              "      <td>1</td>\n",
              "      <td>57588.0</td>\n",
              "      <td>42.3</td>\n",
              "      <td>218022</td>\n",
              "      <td>-0.577862</td>\n",
              "      <td>21.6</td>\n",
              "      <td>20.4</td>\n",
              "      <td>1.2</td>\n",
              "      <td>8.8</td>\n",
              "      <td>4.6</td>\n",
              "      <td>83.1</td>\n",
              "    </tr>\n",
              "    <tr>\n",
              "      <th>2</th>\n",
              "      <td>1.0</td>\n",
              "      <td>AL</td>\n",
              "      <td>Alabama</td>\n",
              "      <td>Barbour County</td>\n",
              "      <td>1005.0</td>\n",
              "      <td>0.007037</td>\n",
              "      <td>1</td>\n",
              "      <td>34382.0</td>\n",
              "      <td>67.8</td>\n",
              "      <td>24881</td>\n",
              "      <td>-0.056112</td>\n",
              "      <td>20.9</td>\n",
              "      <td>19.4</td>\n",
              "      <td>0.5</td>\n",
              "      <td>48.0</td>\n",
              "      <td>4.3</td>\n",
              "      <td>45.6</td>\n",
              "    </tr>\n",
              "    <tr>\n",
              "      <th>3</th>\n",
              "      <td>1.0</td>\n",
              "      <td>AL</td>\n",
              "      <td>Alabama</td>\n",
              "      <td>Bibb County</td>\n",
              "      <td>1007.0</td>\n",
              "      <td>0.011809</td>\n",
              "      <td>1</td>\n",
              "      <td>46064.0</td>\n",
              "      <td>68.4</td>\n",
              "      <td>22400</td>\n",
              "      <td>-0.555441</td>\n",
              "      <td>20.5</td>\n",
              "      <td>16.5</td>\n",
              "      <td>0.2</td>\n",
              "      <td>21.1</td>\n",
              "      <td>2.6</td>\n",
              "      <td>74.6</td>\n",
              "    </tr>\n",
              "    <tr>\n",
              "      <th>4</th>\n",
              "      <td>1.0</td>\n",
              "      <td>AL</td>\n",
              "      <td>Alabama</td>\n",
              "      <td>Blount County</td>\n",
              "      <td>1009.0</td>\n",
              "      <td>0.038890</td>\n",
              "      <td>1</td>\n",
              "      <td>50412.0</td>\n",
              "      <td>90.0</td>\n",
              "      <td>57840</td>\n",
              "      <td>-0.813820</td>\n",
              "      <td>23.2</td>\n",
              "      <td>18.2</td>\n",
              "      <td>0.3</td>\n",
              "      <td>1.5</td>\n",
              "      <td>9.6</td>\n",
              "      <td>86.9</td>\n",
              "    </tr>\n",
              "  </tbody>\n",
              "</table>\n",
              "</div>"
            ],
            "text/plain": [
              "   state state_code State Name  ... % Black  % Hispanic  % Non-Hispanic White\n",
              "0    1.0         AL    Alabama  ...    19.3         3.0                  74.3\n",
              "1    1.0         AL    Alabama  ...     8.8         4.6                  83.1\n",
              "2    1.0         AL    Alabama  ...    48.0         4.3                  45.6\n",
              "3    1.0         AL    Alabama  ...    21.1         2.6                  74.6\n",
              "4    1.0         AL    Alabama  ...     1.5         9.6                  86.9\n",
              "\n",
              "[5 rows x 17 columns]"
            ]
          },
          "metadata": {
            "tags": []
          },
          "execution_count": 8
        }
      ]
    },
    {
      "cell_type": "code",
      "metadata": {
        "id": "WlqnuHueEXCq",
        "colab_type": "code",
        "colab": {
          "base_uri": "https://localhost:8080/",
          "height": 219
        },
        "outputId": "0f56488f-c309-40d1-e365-30d21a2a8840"
      },
      "source": [
        "data[data['cnamelong'] == 'King County']"
      ],
      "execution_count": 9,
      "outputs": [
        {
          "output_type": "execute_result",
          "data": {
            "text/html": [
              "<div>\n",
              "<style scoped>\n",
              "    .dataframe tbody tr th:only-of-type {\n",
              "        vertical-align: middle;\n",
              "    }\n",
              "\n",
              "    .dataframe tbody tr th {\n",
              "        vertical-align: top;\n",
              "    }\n",
              "\n",
              "    .dataframe thead th {\n",
              "        text-align: right;\n",
              "    }\n",
              "</style>\n",
              "<table border=\"1\" class=\"dataframe\">\n",
              "  <thead>\n",
              "    <tr style=\"text-align: right;\">\n",
              "      <th></th>\n",
              "      <th>state</th>\n",
              "      <th>state_code</th>\n",
              "      <th>State Name</th>\n",
              "      <th>cnamelong</th>\n",
              "      <th>county_code</th>\n",
              "      <th>diff_in_perc_at_home</th>\n",
              "      <th>SIP?</th>\n",
              "      <th>Median Household Income</th>\n",
              "      <th>% Rural</th>\n",
              "      <th>Population_y</th>\n",
              "      <th>political_diff</th>\n",
              "      <th>% less than 18 years of age</th>\n",
              "      <th>% 65 and over</th>\n",
              "      <th>% Asian</th>\n",
              "      <th>% Black</th>\n",
              "      <th>% Hispanic</th>\n",
              "      <th>% Non-Hispanic White</th>\n",
              "    </tr>\n",
              "  </thead>\n",
              "  <tbody>\n",
              "    <tr>\n",
              "      <th>2825</th>\n",
              "      <td>53.0</td>\n",
              "      <td>WA</td>\n",
              "      <td>Washington</td>\n",
              "      <td>King County</td>\n",
              "      <td>53033.0</td>\n",
              "      <td>0.154735</td>\n",
              "      <td>1</td>\n",
              "      <td>94822.0</td>\n",
              "      <td>3.2</td>\n",
              "      <td>2233163</td>\n",
              "      <td>0.504344</td>\n",
              "      <td>20.3</td>\n",
              "      <td>13.2</td>\n",
              "      <td>19.2</td>\n",
              "      <td>6.6</td>\n",
              "      <td>9.8</td>\n",
              "      <td>58.9</td>\n",
              "    </tr>\n",
              "  </tbody>\n",
              "</table>\n",
              "</div>"
            ],
            "text/plain": [
              "      state state_code  State Name  ... % Black  % Hispanic  % Non-Hispanic White\n",
              "2825   53.0         WA  Washington  ...     6.6         9.8                  58.9\n",
              "\n",
              "[1 rows x 17 columns]"
            ]
          },
          "metadata": {
            "tags": []
          },
          "execution_count": 9
        }
      ]
    },
    {
      "cell_type": "code",
      "metadata": {
        "id": "ASNWrw_BEgVh",
        "colab_type": "code",
        "colab": {
          "base_uri": "https://localhost:8080/",
          "height": 236
        },
        "outputId": "6ae84077-7b85-4460-97b9-c5ba439af9b6"
      },
      "source": [
        "data[data['cnamelong'] == 'Los Angeles County']"
      ],
      "execution_count": 10,
      "outputs": [
        {
          "output_type": "execute_result",
          "data": {
            "text/html": [
              "<div>\n",
              "<style scoped>\n",
              "    .dataframe tbody tr th:only-of-type {\n",
              "        vertical-align: middle;\n",
              "    }\n",
              "\n",
              "    .dataframe tbody tr th {\n",
              "        vertical-align: top;\n",
              "    }\n",
              "\n",
              "    .dataframe thead th {\n",
              "        text-align: right;\n",
              "    }\n",
              "</style>\n",
              "<table border=\"1\" class=\"dataframe\">\n",
              "  <thead>\n",
              "    <tr style=\"text-align: right;\">\n",
              "      <th></th>\n",
              "      <th>state</th>\n",
              "      <th>state_code</th>\n",
              "      <th>State Name</th>\n",
              "      <th>cnamelong</th>\n",
              "      <th>county_code</th>\n",
              "      <th>diff_in_perc_at_home</th>\n",
              "      <th>SIP?</th>\n",
              "      <th>Median Household Income</th>\n",
              "      <th>% Rural</th>\n",
              "      <th>Population_y</th>\n",
              "      <th>political_diff</th>\n",
              "      <th>% less than 18 years of age</th>\n",
              "      <th>% 65 and over</th>\n",
              "      <th>% Asian</th>\n",
              "      <th>% Black</th>\n",
              "      <th>% Hispanic</th>\n",
              "      <th>% Non-Hispanic White</th>\n",
              "    </tr>\n",
              "  </thead>\n",
              "  <tbody>\n",
              "    <tr>\n",
              "      <th>189</th>\n",
              "      <td>6.0</td>\n",
              "      <td>CA</td>\n",
              "      <td>California</td>\n",
              "      <td>Los Angeles County</td>\n",
              "      <td>6037.0</td>\n",
              "      <td>0.118096</td>\n",
              "      <td>1</td>\n",
              "      <td>67986.0</td>\n",
              "      <td>0.6</td>\n",
              "      <td>10105518</td>\n",
              "      <td>0.480185</td>\n",
              "      <td>21.7</td>\n",
              "      <td>13.6</td>\n",
              "      <td>15.4</td>\n",
              "      <td>8.0</td>\n",
              "      <td>48.6</td>\n",
              "      <td>26.1</td>\n",
              "    </tr>\n",
              "  </tbody>\n",
              "</table>\n",
              "</div>"
            ],
            "text/plain": [
              "     state state_code  State Name  ... % Black  % Hispanic  % Non-Hispanic White\n",
              "189    6.0         CA  California  ...     8.0        48.6                  26.1\n",
              "\n",
              "[1 rows x 17 columns]"
            ]
          },
          "metadata": {
            "tags": []
          },
          "execution_count": 10
        }
      ]
    },
    {
      "cell_type": "code",
      "metadata": {
        "id": "DXEJsADNE96h",
        "colab_type": "code",
        "colab": {
          "base_uri": "https://localhost:8080/",
          "height": 711
        },
        "outputId": "26fc71f7-4c18-4d36-933f-013548a75f18"
      },
      "source": [
        "data[(data['SIP?'] == 1) & (data['diff_in_perc_at_home'] <= 0.05)]"
      ],
      "execution_count": 11,
      "outputs": [
        {
          "output_type": "execute_result",
          "data": {
            "text/html": [
              "<div>\n",
              "<style scoped>\n",
              "    .dataframe tbody tr th:only-of-type {\n",
              "        vertical-align: middle;\n",
              "    }\n",
              "\n",
              "    .dataframe tbody tr th {\n",
              "        vertical-align: top;\n",
              "    }\n",
              "\n",
              "    .dataframe thead th {\n",
              "        text-align: right;\n",
              "    }\n",
              "</style>\n",
              "<table border=\"1\" class=\"dataframe\">\n",
              "  <thead>\n",
              "    <tr style=\"text-align: right;\">\n",
              "      <th></th>\n",
              "      <th>state</th>\n",
              "      <th>state_code</th>\n",
              "      <th>State Name</th>\n",
              "      <th>cnamelong</th>\n",
              "      <th>county_code</th>\n",
              "      <th>diff_in_perc_at_home</th>\n",
              "      <th>SIP?</th>\n",
              "      <th>Median Household Income</th>\n",
              "      <th>% Rural</th>\n",
              "      <th>Population_y</th>\n",
              "      <th>political_diff</th>\n",
              "      <th>% less than 18 years of age</th>\n",
              "      <th>% 65 and over</th>\n",
              "      <th>% Asian</th>\n",
              "      <th>% Black</th>\n",
              "      <th>% Hispanic</th>\n",
              "      <th>% Non-Hispanic White</th>\n",
              "    </tr>\n",
              "  </thead>\n",
              "  <tbody>\n",
              "    <tr>\n",
              "      <th>2</th>\n",
              "      <td>1.0</td>\n",
              "      <td>AL</td>\n",
              "      <td>Alabama</td>\n",
              "      <td>Barbour County</td>\n",
              "      <td>1005.0</td>\n",
              "      <td>0.007037</td>\n",
              "      <td>1</td>\n",
              "      <td>34382.0</td>\n",
              "      <td>67.8</td>\n",
              "      <td>24881</td>\n",
              "      <td>-0.056112</td>\n",
              "      <td>20.9</td>\n",
              "      <td>19.4</td>\n",
              "      <td>0.5</td>\n",
              "      <td>48.0</td>\n",
              "      <td>4.3</td>\n",
              "      <td>45.6</td>\n",
              "    </tr>\n",
              "    <tr>\n",
              "      <th>3</th>\n",
              "      <td>1.0</td>\n",
              "      <td>AL</td>\n",
              "      <td>Alabama</td>\n",
              "      <td>Bibb County</td>\n",
              "      <td>1007.0</td>\n",
              "      <td>0.011809</td>\n",
              "      <td>1</td>\n",
              "      <td>46064.0</td>\n",
              "      <td>68.4</td>\n",
              "      <td>22400</td>\n",
              "      <td>-0.555441</td>\n",
              "      <td>20.5</td>\n",
              "      <td>16.5</td>\n",
              "      <td>0.2</td>\n",
              "      <td>21.1</td>\n",
              "      <td>2.6</td>\n",
              "      <td>74.6</td>\n",
              "    </tr>\n",
              "    <tr>\n",
              "      <th>4</th>\n",
              "      <td>1.0</td>\n",
              "      <td>AL</td>\n",
              "      <td>Alabama</td>\n",
              "      <td>Blount County</td>\n",
              "      <td>1009.0</td>\n",
              "      <td>0.038890</td>\n",
              "      <td>1</td>\n",
              "      <td>50412.0</td>\n",
              "      <td>90.0</td>\n",
              "      <td>57840</td>\n",
              "      <td>-0.813820</td>\n",
              "      <td>23.2</td>\n",
              "      <td>18.2</td>\n",
              "      <td>0.3</td>\n",
              "      <td>1.5</td>\n",
              "      <td>9.6</td>\n",
              "      <td>86.9</td>\n",
              "    </tr>\n",
              "    <tr>\n",
              "      <th>5</th>\n",
              "      <td>1.0</td>\n",
              "      <td>AL</td>\n",
              "      <td>Alabama</td>\n",
              "      <td>Bullock County</td>\n",
              "      <td>1011.0</td>\n",
              "      <td>-0.009576</td>\n",
              "      <td>1</td>\n",
              "      <td>29267.0</td>\n",
              "      <td>51.4</td>\n",
              "      <td>10138</td>\n",
              "      <td>0.508615</td>\n",
              "      <td>21.1</td>\n",
              "      <td>16.4</td>\n",
              "      <td>0.2</td>\n",
              "      <td>69.5</td>\n",
              "      <td>8.0</td>\n",
              "      <td>21.2</td>\n",
              "    </tr>\n",
              "    <tr>\n",
              "      <th>6</th>\n",
              "      <td>1.0</td>\n",
              "      <td>AL</td>\n",
              "      <td>Alabama</td>\n",
              "      <td>Butler County</td>\n",
              "      <td>1013.0</td>\n",
              "      <td>0.015350</td>\n",
              "      <td>1</td>\n",
              "      <td>37365.0</td>\n",
              "      <td>71.2</td>\n",
              "      <td>19680</td>\n",
              "      <td>-0.135291</td>\n",
              "      <td>22.2</td>\n",
              "      <td>20.3</td>\n",
              "      <td>1.3</td>\n",
              "      <td>44.6</td>\n",
              "      <td>1.5</td>\n",
              "      <td>51.3</td>\n",
              "    </tr>\n",
              "    <tr>\n",
              "      <th>...</th>\n",
              "      <td>...</td>\n",
              "      <td>...</td>\n",
              "      <td>...</td>\n",
              "      <td>...</td>\n",
              "      <td>...</td>\n",
              "      <td>...</td>\n",
              "      <td>...</td>\n",
              "      <td>...</td>\n",
              "      <td>...</td>\n",
              "      <td>...</td>\n",
              "      <td>...</td>\n",
              "      <td>...</td>\n",
              "      <td>...</td>\n",
              "      <td>...</td>\n",
              "      <td>...</td>\n",
              "      <td>...</td>\n",
              "      <td>...</td>\n",
              "    </tr>\n",
              "    <tr>\n",
              "      <th>2966</th>\n",
              "      <td>55.0</td>\n",
              "      <td>WI</td>\n",
              "      <td>Wisconsin</td>\n",
              "      <td>Walworth County</td>\n",
              "      <td>55127.0</td>\n",
              "      <td>0.044673</td>\n",
              "      <td>1</td>\n",
              "      <td>64234.0</td>\n",
              "      <td>34.2</td>\n",
              "      <td>103718</td>\n",
              "      <td>-0.200554</td>\n",
              "      <td>20.6</td>\n",
              "      <td>17.7</td>\n",
              "      <td>1.1</td>\n",
              "      <td>1.0</td>\n",
              "      <td>11.2</td>\n",
              "      <td>85.3</td>\n",
              "    </tr>\n",
              "    <tr>\n",
              "      <th>2967</th>\n",
              "      <td>55.0</td>\n",
              "      <td>WI</td>\n",
              "      <td>Wisconsin</td>\n",
              "      <td>Washburn County</td>\n",
              "      <td>55129.0</td>\n",
              "      <td>0.026355</td>\n",
              "      <td>1</td>\n",
              "      <td>50482.0</td>\n",
              "      <td>83.2</td>\n",
              "      <td>15878</td>\n",
              "      <td>-0.234132</td>\n",
              "      <td>19.2</td>\n",
              "      <td>26.3</td>\n",
              "      <td>0.6</td>\n",
              "      <td>0.3</td>\n",
              "      <td>1.9</td>\n",
              "      <td>94.1</td>\n",
              "    </tr>\n",
              "    <tr>\n",
              "      <th>2970</th>\n",
              "      <td>55.0</td>\n",
              "      <td>WI</td>\n",
              "      <td>Wisconsin</td>\n",
              "      <td>Waupaca County</td>\n",
              "      <td>55135.0</td>\n",
              "      <td>0.018980</td>\n",
              "      <td>1</td>\n",
              "      <td>58648.0</td>\n",
              "      <td>64.9</td>\n",
              "      <td>51128</td>\n",
              "      <td>-0.302460</td>\n",
              "      <td>20.3</td>\n",
              "      <td>20.9</td>\n",
              "      <td>0.6</td>\n",
              "      <td>0.5</td>\n",
              "      <td>3.3</td>\n",
              "      <td>94.1</td>\n",
              "    </tr>\n",
              "    <tr>\n",
              "      <th>2971</th>\n",
              "      <td>55.0</td>\n",
              "      <td>WI</td>\n",
              "      <td>Wisconsin</td>\n",
              "      <td>Waushara County</td>\n",
              "      <td>55137.0</td>\n",
              "      <td>-0.019303</td>\n",
              "      <td>1</td>\n",
              "      <td>52340.0</td>\n",
              "      <td>89.5</td>\n",
              "      <td>24263</td>\n",
              "      <td>-0.323301</td>\n",
              "      <td>18.3</td>\n",
              "      <td>24.4</td>\n",
              "      <td>0.6</td>\n",
              "      <td>2.0</td>\n",
              "      <td>6.3</td>\n",
              "      <td>89.6</td>\n",
              "    </tr>\n",
              "    <tr>\n",
              "      <th>2973</th>\n",
              "      <td>55.0</td>\n",
              "      <td>WI</td>\n",
              "      <td>Wisconsin</td>\n",
              "      <td>Wood County</td>\n",
              "      <td>55141.0</td>\n",
              "      <td>0.007077</td>\n",
              "      <td>1</td>\n",
              "      <td>55879.0</td>\n",
              "      <td>36.7</td>\n",
              "      <td>73055</td>\n",
              "      <td>-0.192777</td>\n",
              "      <td>21.6</td>\n",
              "      <td>20.6</td>\n",
              "      <td>2.0</td>\n",
              "      <td>0.9</td>\n",
              "      <td>3.1</td>\n",
              "      <td>92.2</td>\n",
              "    </tr>\n",
              "  </tbody>\n",
              "</table>\n",
              "<p>1846 rows × 17 columns</p>\n",
              "</div>"
            ],
            "text/plain": [
              "      state state_code State Name  ... % Black  % Hispanic  % Non-Hispanic White\n",
              "2       1.0         AL    Alabama  ...    48.0         4.3                  45.6\n",
              "3       1.0         AL    Alabama  ...    21.1         2.6                  74.6\n",
              "4       1.0         AL    Alabama  ...     1.5         9.6                  86.9\n",
              "5       1.0         AL    Alabama  ...    69.5         8.0                  21.2\n",
              "6       1.0         AL    Alabama  ...    44.6         1.5                  51.3\n",
              "...     ...        ...        ...  ...     ...         ...                   ...\n",
              "2966   55.0         WI  Wisconsin  ...     1.0        11.2                  85.3\n",
              "2967   55.0         WI  Wisconsin  ...     0.3         1.9                  94.1\n",
              "2970   55.0         WI  Wisconsin  ...     0.5         3.3                  94.1\n",
              "2971   55.0         WI  Wisconsin  ...     2.0         6.3                  89.6\n",
              "2973   55.0         WI  Wisconsin  ...     0.9         3.1                  92.2\n",
              "\n",
              "[1846 rows x 17 columns]"
            ]
          },
          "metadata": {
            "tags": []
          },
          "execution_count": 11
        }
      ]
    },
    {
      "cell_type": "markdown",
      "metadata": {
        "id": "LwzpiT0uFRio",
        "colab_type": "text"
      },
      "source": [
        "Let's see the distribution of increase of % of completely stay at home for both shelter in place counties and those without shelter in place."
      ]
    },
    {
      "cell_type": "code",
      "metadata": {
        "id": "k-mT5owhFMnp",
        "colab_type": "code",
        "colab": {
          "base_uri": "https://localhost:8080/",
          "height": 312
        },
        "outputId": "e6a49b14-d673-4d13-a319-2ff318a82f10"
      },
      "source": [
        "(100 * data['diff_in_perc_at_home']).hist(bins = 100)\n",
        "plt.xlabel('increases in % stay at home devices after shelter in place')\n",
        "plt.ylabel('# counties')\n",
        "plt.title('Histogram of behavior change of % stay at home')"
      ],
      "execution_count": 26,
      "outputs": [
        {
          "output_type": "execute_result",
          "data": {
            "text/plain": [
              "Text(0.5, 1.0, 'Histogram of behavior change of % stay at home')"
            ]
          },
          "metadata": {
            "tags": []
          },
          "execution_count": 26
        },
        {
          "output_type": "display_data",
          "data": {
            "image/png": "[encoded data removed]",
            "text/plain": [
              "<Figure size 432x288 with 1 Axes>"
            ]
          },
          "metadata": {
            "tags": [],
            "needs_background": "light"
          }
        }
      ]
    },
    {
      "cell_type": "code",
      "metadata": {
        "id": "ET1UwPQPIsBB",
        "colab_type": "code",
        "colab": {
          "base_uri": "https://localhost:8080/",
          "height": 170
        },
        "outputId": "6578a6ab-cb70-4656-bf67-4f6543b373b7"
      },
      "source": [
        "data['diff_in_perc_at_home'].describe()"
      ],
      "execution_count": 32,
      "outputs": [
        {
          "output_type": "execute_result",
          "data": {
            "text/plain": [
              "count    2996.000000\n",
              "mean        0.030979\n",
              "std         0.041936\n",
              "min        -0.161271\n",
              "25%         0.005062\n",
              "50%         0.025215\n",
              "75%         0.050288\n",
              "max         0.237698\n",
              "Name: diff_in_perc_at_home, dtype: float64"
            ]
          },
          "metadata": {
            "tags": []
          },
          "execution_count": 32
        }
      ]
    },
    {
      "cell_type": "code",
      "metadata": {
        "id": "ldmNlPs1Fipk",
        "colab_type": "code",
        "colab": {
          "base_uri": "https://localhost:8080/",
          "height": 312
        },
        "outputId": "49f3f9b5-0533-46b4-9b2c-00baaff2b808"
      },
      "source": [
        "(100 * data[data['SIP?'] == 1]['diff_in_perc_at_home']).hist(bins = 100)\n",
        "plt.xlabel('increases in % stay at home devices after shelter in place')\n",
        "plt.ylabel('# counties')\n",
        "plt.title('Histogram of behavior change of % stay at home for counties with shelter in place')"
      ],
      "execution_count": 30,
      "outputs": [
        {
          "output_type": "execute_result",
          "data": {
            "text/plain": [
              "Text(0.5, 1.0, 'Histogram of behavior change of % stay at home for counties with shelter in place')"
            ]
          },
          "metadata": {
            "tags": []
          },
          "execution_count": 30
        },
        {
          "output_type": "display_data",
          "data": {
            "image/png": "[encoded data removed]",
            "text/plain": [
              "<Figure size 432x288 with 1 Axes>"
            ]
          },
          "metadata": {
            "tags": [],
            "needs_background": "light"
          }
        }
      ]
    },
    {
      "cell_type": "code",
      "metadata": {
        "id": "gcPCbBhnI6aH",
        "colab_type": "code",
        "colab": {
          "base_uri": "https://localhost:8080/",
          "height": 170
        },
        "outputId": "b44ae1a7-30a6-4502-96ac-482fdcef2eaa"
      },
      "source": [
        "data[data['SIP?'] == 1]['diff_in_perc_at_home'].describe()"
      ],
      "execution_count": 34,
      "outputs": [
        {
          "output_type": "execute_result",
          "data": {
            "text/plain": [
              "count    2549.000000\n",
              "mean        0.033213\n",
              "std         0.043462\n",
              "min        -0.137045\n",
              "25%         0.006223\n",
              "50%         0.026382\n",
              "75%         0.053763\n",
              "max         0.237698\n",
              "Name: diff_in_perc_at_home, dtype: float64"
            ]
          },
          "metadata": {
            "tags": []
          },
          "execution_count": 34
        }
      ]
    },
    {
      "cell_type": "code",
      "metadata": {
        "id": "LrfNUFfEGFxf",
        "colab_type": "code",
        "colab": {
          "base_uri": "https://localhost:8080/",
          "height": 312
        },
        "outputId": "29cae439-d43a-43f0-a84f-3d068877728f"
      },
      "source": [
        "(100 * data[data['SIP?'] == 0]['diff_in_perc_at_home']).hist(bins = 100)\n",
        "plt.xlabel('increases in % stay at home devices after shelter in place')\n",
        "plt.ylabel('# counties')\n",
        "plt.title('Histogram of behavior change of % stay at home for counties without shelter in place')"
      ],
      "execution_count": 29,
      "outputs": [
        {
          "output_type": "execute_result",
          "data": {
            "text/plain": [
              "Text(0.5, 1.0, 'Histogram of behavior change of % stay at home for counties without shelter in place')"
            ]
          },
          "metadata": {
            "tags": []
          },
          "execution_count": 29
        },
        {
          "output_type": "display_data",
          "data": {
            "image/png": "[encoded data removed]",
            "text/plain": [
              "<Figure size 432x288 with 1 Axes>"
            ]
          },
          "metadata": {
            "tags": [],
            "needs_background": "light"
          }
        }
      ]
    },
    {
      "cell_type": "code",
      "metadata": {
        "id": "GwzUIr6MJF1Z",
        "colab_type": "code",
        "colab": {
          "base_uri": "https://localhost:8080/",
          "height": 170
        },
        "outputId": "0f3cd4b8-b443-4498-8c10-430844f45f22"
      },
      "source": [
        "data[data['SIP?'] == 0]['diff_in_perc_at_home'].describe()"
      ],
      "execution_count": 35,
      "outputs": [
        {
          "output_type": "execute_result",
          "data": {
            "text/plain": [
              "count    447.000000\n",
              "mean       0.018239\n",
              "std        0.028763\n",
              "min       -0.161271\n",
              "25%       -0.000778\n",
              "50%        0.017603\n",
              "75%        0.034900\n",
              "max        0.135424\n",
              "Name: diff_in_perc_at_home, dtype: float64"
            ]
          },
          "metadata": {
            "tags": []
          },
          "execution_count": 35
        }
      ]
    },
    {
      "cell_type": "code",
      "metadata": {
        "id": "XILZVLAiJjgX",
        "colab_type": "code",
        "colab": {
          "base_uri": "https://localhost:8080/",
          "height": 34
        },
        "outputId": "56050783-29c0-4e04-c614-ddfb6289287b"
      },
      "source": [
        "0.287 / 0.4346"
      ],
      "execution_count": 36,
      "outputs": [
        {
          "output_type": "execute_result",
          "data": {
            "text/plain": [
              "0.660377358490566"
            ]
          },
          "metadata": {
            "tags": []
          },
          "execution_count": 36
        }
      ]
    },
    {
      "cell_type": "markdown",
      "metadata": {
        "id": "D-bQg485Ht6L",
        "colab_type": "text"
      },
      "source": [
        "As we can see, the distribution of behavior change as a whole looks pretty normal.\n",
        "\n",
        "the distribution of behavior change for counties **with** shelter in place almost looks identitcal to the aggregate distribution. \n",
        "\n",
        "the distribution of behavior change for counties **without** shelter in place looks bit normal, but with less standard deviation. (has $66\\%$ of the standard deviation as the with shelter in place distribution)"
      ]
    },
    {
      "cell_type": "code",
      "metadata": {
        "id": "jbXd06ajILLm",
        "colab_type": "code",
        "colab": {
          "base_uri": "https://localhost:8080/",
          "height": 51
        },
        "outputId": "522dd4fe-019b-44ee-c12f-37896796a9b5"
      },
      "source": [
        "length = len(data[data['SIP?'] == 1])\n",
        "print(f'There are {length} counties with shelter in place order')\n",
        "length = len(data[data['SIP?'] == 0])\n",
        "print(f'There are {length} counties without shelter in place order')"
      ],
      "execution_count": 31,
      "outputs": [
        {
          "output_type": "stream",
          "text": [
            "There are 2549 counties with shelter in place order\n",
            "There are 447 counties without shelter in place order\n"
          ],
          "name": "stdout"
        }
      ]
    },
    {
      "cell_type": "markdown",
      "metadata": {
        "id": "bmo5y2t6IqsR",
        "colab_type": "text"
      },
      "source": [
        "# 2. Use mutual information to see which variable affects difference in % of completely stay at home. "
      ]
    },
    {
      "cell_type": "code",
      "metadata": {
        "id": "eTePHbUJIW8q",
        "colab_type": "code",
        "colab": {}
      },
      "source": [
        "# for now we are only investigating within the counties with shelter in place,\n",
        "# what makes a county having more change in people's behavior.\n",
        "data_SIP = data[data['SIP?'] == 1] "
      ],
      "execution_count": 37,
      "outputs": []
    },
    {
      "cell_type": "markdown",
      "metadata": {
        "id": "s5wOOxprWSmp",
        "colab_type": "text"
      },
      "source": [
        "There are a couple of different packages in R and python that calculate the mutual information between two variables. [here is the documentation for the sklearn pacakge I used](https://scikit-learn.org/stable/modules/generated/sklearn.feature_selection.mutual_info_regression.html#sklearn.feature_selection.mutual_info_regression)."
      ]
    },
    {
      "cell_type": "code",
      "metadata": {
        "id": "1mLLNQrBTKTs",
        "colab_type": "code",
        "colab": {}
      },
      "source": [
        "# need to use regression because our target and features are\n",
        "# continuous. Typically mutual information is calculated\n",
        "# between discrete variables, so we need to discretize\n",
        "# variables and then do the calculation, which is what I think\n",
        "# is being done by this package.\n",
        "from sklearn.feature_selection import mutual_info_regression"
      ],
      "execution_count": 79,
      "outputs": []
    },
    {
      "cell_type": "code",
      "metadata": {
        "id": "PJG2_xOAVt6X",
        "colab_type": "code",
        "colab": {
          "base_uri": "https://localhost:8080/",
          "height": 323
        },
        "outputId": "82aea2b3-8876-4e75-d28a-3424bbdc87f9"
      },
      "source": [
        "data_SIP.isnull().sum()"
      ],
      "execution_count": 92,
      "outputs": [
        {
          "output_type": "execute_result",
          "data": {
            "text/plain": [
              "state                          0\n",
              "state_code                     0\n",
              "State Name                     0\n",
              "cnamelong                      0\n",
              "county_code                    0\n",
              "diff_in_perc_at_home           0\n",
              "SIP?                           0\n",
              "Median Household Income        0\n",
              "% Rural                        1\n",
              "Population_y                   0\n",
              "political_diff                 0\n",
              "% less than 18 years of age    0\n",
              "% 65 and over                  0\n",
              "% Asian                        0\n",
              "% Black                        0\n",
              "% Hispanic                     0\n",
              "% Non-Hispanic White           0\n",
              "dtype: int64"
            ]
          },
          "metadata": {
            "tags": []
          },
          "execution_count": 92
        }
      ]
    },
    {
      "cell_type": "code",
      "metadata": {
        "id": "mxQ-sGX6Vr9h",
        "colab_type": "code",
        "colab": {
          "base_uri": "https://localhost:8080/",
          "height": 102
        },
        "outputId": "84f6b4ca-aab6-4740-f71e-a9fca999fc54"
      },
      "source": [
        "# drop one row that has na values in it.\n",
        "data_SIP.dropna(inplace = True)"
      ],
      "execution_count": 93,
      "outputs": [
        {
          "output_type": "stream",
          "text": [
            "/usr/local/lib/python3.6/dist-packages/ipykernel_launcher.py:2: SettingWithCopyWarning: \n",
            "A value is trying to be set on a copy of a slice from a DataFrame\n",
            "\n",
            "See the caveats in the documentation: https://pandas.pydata.org/pandas-docs/stable/user_guide/indexing.html#returning-a-view-versus-a-copy\n",
            "  \n"
          ],
          "name": "stderr"
        }
      ]
    },
    {
      "cell_type": "code",
      "metadata": {
        "id": "sk6s8tyNVz7v",
        "colab_type": "code",
        "colab": {
          "base_uri": "https://localhost:8080/",
          "height": 323
        },
        "outputId": "8d77af45-96ef-4133-ddbb-746b3822fac8"
      },
      "source": [
        "data_SIP.isnull().sum()"
      ],
      "execution_count": 94,
      "outputs": [
        {
          "output_type": "execute_result",
          "data": {
            "text/plain": [
              "state                          0\n",
              "state_code                     0\n",
              "State Name                     0\n",
              "cnamelong                      0\n",
              "county_code                    0\n",
              "diff_in_perc_at_home           0\n",
              "SIP?                           0\n",
              "Median Household Income        0\n",
              "% Rural                        0\n",
              "Population_y                   0\n",
              "political_diff                 0\n",
              "% less than 18 years of age    0\n",
              "% 65 and over                  0\n",
              "% Asian                        0\n",
              "% Black                        0\n",
              "% Hispanic                     0\n",
              "% Non-Hispanic White           0\n",
              "dtype: int64"
            ]
          },
          "metadata": {
            "tags": []
          },
          "execution_count": 94
        }
      ]
    },
    {
      "cell_type": "code",
      "metadata": {
        "id": "cJe04FGnVBYU",
        "colab_type": "code",
        "colab": {}
      },
      "source": [
        "X = data_SIP[['Median Household Income', '% Rural', 'Population_y', 'political_diff', \\\n",
        "              '% less than 18 years of age', '% 65 and over', '% Asian', '% Black',\\\n",
        "              '% Hispanic', '% Non-Hispanic White']]"
      ],
      "execution_count": 100,
      "outputs": []
    },
    {
      "cell_type": "code",
      "metadata": {
        "id": "QlThz6ZvVUHs",
        "colab_type": "code",
        "colab": {
          "base_uri": "https://localhost:8080/",
          "height": 436
        },
        "outputId": "009bda11-2ef1-4dc9-d6ea-8fbfd0ff7840"
      },
      "source": [
        "X"
      ],
      "execution_count": 101,
      "outputs": [
        {
          "output_type": "execute_result",
          "data": {
            "text/html": [
              "<div>\n",
              "<style scoped>\n",
              "    .dataframe tbody tr th:only-of-type {\n",
              "        vertical-align: middle;\n",
              "    }\n",
              "\n",
              "    .dataframe tbody tr th {\n",
              "        vertical-align: top;\n",
              "    }\n",
              "\n",
              "    .dataframe thead th {\n",
              "        text-align: right;\n",
              "    }\n",
              "</style>\n",
              "<table border=\"1\" class=\"dataframe\">\n",
              "  <thead>\n",
              "    <tr style=\"text-align: right;\">\n",
              "      <th></th>\n",
              "      <th>Median Household Income</th>\n",
              "      <th>% Rural</th>\n",
              "      <th>Population_y</th>\n",
              "      <th>political_diff</th>\n",
              "      <th>% less than 18 years of age</th>\n",
              "      <th>% 65 and over</th>\n",
              "      <th>% Asian</th>\n",
              "      <th>% Black</th>\n",
              "      <th>% Hispanic</th>\n",
              "      <th>% Non-Hispanic White</th>\n",
              "    </tr>\n",
              "  </thead>\n",
              "  <tbody>\n",
              "    <tr>\n",
              "      <th>0</th>\n",
              "      <td>59338.0</td>\n",
              "      <td>42.0</td>\n",
              "      <td>55601</td>\n",
              "      <td>-0.494789</td>\n",
              "      <td>23.7</td>\n",
              "      <td>15.6</td>\n",
              "      <td>1.2</td>\n",
              "      <td>19.3</td>\n",
              "      <td>3.0</td>\n",
              "      <td>74.3</td>\n",
              "    </tr>\n",
              "    <tr>\n",
              "      <th>1</th>\n",
              "      <td>57588.0</td>\n",
              "      <td>42.3</td>\n",
              "      <td>218022</td>\n",
              "      <td>-0.577862</td>\n",
              "      <td>21.6</td>\n",
              "      <td>20.4</td>\n",
              "      <td>1.2</td>\n",
              "      <td>8.8</td>\n",
              "      <td>4.6</td>\n",
              "      <td>83.1</td>\n",
              "    </tr>\n",
              "    <tr>\n",
              "      <th>2</th>\n",
              "      <td>34382.0</td>\n",
              "      <td>67.8</td>\n",
              "      <td>24881</td>\n",
              "      <td>-0.056112</td>\n",
              "      <td>20.9</td>\n",
              "      <td>19.4</td>\n",
              "      <td>0.5</td>\n",
              "      <td>48.0</td>\n",
              "      <td>4.3</td>\n",
              "      <td>45.6</td>\n",
              "    </tr>\n",
              "    <tr>\n",
              "      <th>3</th>\n",
              "      <td>46064.0</td>\n",
              "      <td>68.4</td>\n",
              "      <td>22400</td>\n",
              "      <td>-0.555441</td>\n",
              "      <td>20.5</td>\n",
              "      <td>16.5</td>\n",
              "      <td>0.2</td>\n",
              "      <td>21.1</td>\n",
              "      <td>2.6</td>\n",
              "      <td>74.6</td>\n",
              "    </tr>\n",
              "    <tr>\n",
              "      <th>4</th>\n",
              "      <td>50412.0</td>\n",
              "      <td>90.0</td>\n",
              "      <td>57840</td>\n",
              "      <td>-0.813820</td>\n",
              "      <td>23.2</td>\n",
              "      <td>18.2</td>\n",
              "      <td>0.3</td>\n",
              "      <td>1.5</td>\n",
              "      <td>9.6</td>\n",
              "      <td>86.9</td>\n",
              "    </tr>\n",
              "    <tr>\n",
              "      <th>...</th>\n",
              "      <td>...</td>\n",
              "      <td>...</td>\n",
              "      <td>...</td>\n",
              "      <td>...</td>\n",
              "      <td>...</td>\n",
              "      <td>...</td>\n",
              "      <td>...</td>\n",
              "      <td>...</td>\n",
              "      <td>...</td>\n",
              "      <td>...</td>\n",
              "    </tr>\n",
              "    <tr>\n",
              "      <th>2970</th>\n",
              "      <td>58648.0</td>\n",
              "      <td>64.9</td>\n",
              "      <td>51128</td>\n",
              "      <td>-0.302460</td>\n",
              "      <td>20.3</td>\n",
              "      <td>20.9</td>\n",
              "      <td>0.6</td>\n",
              "      <td>0.5</td>\n",
              "      <td>3.3</td>\n",
              "      <td>94.1</td>\n",
              "    </tr>\n",
              "    <tr>\n",
              "      <th>2971</th>\n",
              "      <td>52340.0</td>\n",
              "      <td>89.5</td>\n",
              "      <td>24263</td>\n",
              "      <td>-0.323301</td>\n",
              "      <td>18.3</td>\n",
              "      <td>24.4</td>\n",
              "      <td>0.6</td>\n",
              "      <td>2.0</td>\n",
              "      <td>6.3</td>\n",
              "      <td>89.6</td>\n",
              "    </tr>\n",
              "    <tr>\n",
              "      <th>2972</th>\n",
              "      <td>57785.0</td>\n",
              "      <td>13.4</td>\n",
              "      <td>171020</td>\n",
              "      <td>-0.074431</td>\n",
              "      <td>20.5</td>\n",
              "      <td>16.4</td>\n",
              "      <td>3.0</td>\n",
              "      <td>2.2</td>\n",
              "      <td>4.2</td>\n",
              "      <td>88.4</td>\n",
              "    </tr>\n",
              "    <tr>\n",
              "      <th>2973</th>\n",
              "      <td>55879.0</td>\n",
              "      <td>36.7</td>\n",
              "      <td>73055</td>\n",
              "      <td>-0.192777</td>\n",
              "      <td>21.6</td>\n",
              "      <td>20.6</td>\n",
              "      <td>2.0</td>\n",
              "      <td>0.9</td>\n",
              "      <td>3.1</td>\n",
              "      <td>92.2</td>\n",
              "    </tr>\n",
              "    <tr>\n",
              "      <th>2992</th>\n",
              "      <td>99087.0</td>\n",
              "      <td>46.4</td>\n",
              "      <td>23081</td>\n",
              "      <td>0.278663</td>\n",
              "      <td>18.4</td>\n",
              "      <td>15.4</td>\n",
              "      <td>1.4</td>\n",
              "      <td>0.6</td>\n",
              "      <td>14.9</td>\n",
              "      <td>81.5</td>\n",
              "    </tr>\n",
              "  </tbody>\n",
              "</table>\n",
              "<p>2548 rows × 10 columns</p>\n",
              "</div>"
            ],
            "text/plain": [
              "      Median Household Income  % Rural  ...  % Hispanic  % Non-Hispanic White\n",
              "0                     59338.0     42.0  ...         3.0                  74.3\n",
              "1                     57588.0     42.3  ...         4.6                  83.1\n",
              "2                     34382.0     67.8  ...         4.3                  45.6\n",
              "3                     46064.0     68.4  ...         2.6                  74.6\n",
              "4                     50412.0     90.0  ...         9.6                  86.9\n",
              "...                       ...      ...  ...         ...                   ...\n",
              "2970                  58648.0     64.9  ...         3.3                  94.1\n",
              "2971                  52340.0     89.5  ...         6.3                  89.6\n",
              "2972                  57785.0     13.4  ...         4.2                  88.4\n",
              "2973                  55879.0     36.7  ...         3.1                  92.2\n",
              "2992                  99087.0     46.4  ...        14.9                  81.5\n",
              "\n",
              "[2548 rows x 10 columns]"
            ]
          },
          "metadata": {
            "tags": []
          },
          "execution_count": 101
        }
      ]
    },
    {
      "cell_type": "code",
      "metadata": {
        "id": "hRVMBCyCVW9x",
        "colab_type": "code",
        "colab": {}
      },
      "source": [
        "y = data_SIP['diff_in_perc_at_home']"
      ],
      "execution_count": 102,
      "outputs": []
    },
    {
      "cell_type": "code",
      "metadata": {
        "id": "NxGsKuW4U3iB",
        "colab_type": "code",
        "colab": {
          "base_uri": "https://localhost:8080/",
          "height": 51
        },
        "outputId": "860c4fbf-ffae-4c55-872c-abc001b7f99d"
      },
      "source": [
        "mutual_info_regression(X, y)"
      ],
      "execution_count": 103,
      "outputs": [
        {
          "output_type": "execute_result",
          "data": {
            "text/plain": [
              "array([0.38169424, 0.17263927, 0.26922711, 0.07705942, 0.0244354 ,\n",
              "       0.09459998, 0.23960914, 0.05452667, 0.08697605, 0.07615044])"
            ]
          },
          "metadata": {
            "tags": []
          },
          "execution_count": 103
        }
      ]
    },
    {
      "cell_type": "code",
      "metadata": {
        "id": "Rk0LFCRgXdgV",
        "colab_type": "code",
        "colab": {}
      },
      "source": [
        "mutual_info_array = mutual_info_regression(X, y)"
      ],
      "execution_count": 108,
      "outputs": []
    },
    {
      "cell_type": "code",
      "metadata": {
        "id": "UcEdenHHVeS2",
        "colab_type": "code",
        "colab": {
          "base_uri": "https://localhost:8080/",
          "height": 187
        },
        "outputId": "eb223476-e749-4459-f808-d3a625fe5739"
      },
      "source": [
        "for i, column in enumerate(X.columns):\n",
        "  print(f'mutual information between {column} and difference of people\\'s behavior change after shelter in place is {mutual_info_array[i]}')"
      ],
      "execution_count": 109,
      "outputs": [
        {
          "output_type": "stream",
          "text": [
            "mutual information between Median Household Income and difference of people's behavior change after shelter in place is 0.38159719141557247\n",
            "mutual information between % Rural and difference of people's behavior change after shelter in place is 0.17229168548445406\n",
            "mutual information between Population_y and difference of people's behavior change after shelter in place is 0.2692081738409797\n",
            "mutual information between political_diff and difference of people's behavior change after shelter in place is 0.0772121946169646\n",
            "mutual information between % less than 18 years of age and difference of people's behavior change after shelter in place is 0.018441475664205953\n",
            "mutual information between % 65 and over and difference of people's behavior change after shelter in place is 0.0985459325979301\n",
            "mutual information between % Asian and difference of people's behavior change after shelter in place is 0.24248309457610784\n",
            "mutual information between % Black and difference of people's behavior change after shelter in place is 0.056667923668634934\n",
            "mutual information between % Hispanic and difference of people's behavior change after shelter in place is 0.08940951729387336\n",
            "mutual information between % Non-Hispanic White and difference of people's behavior change after shelter in place is 0.07602181300417676\n"
          ],
          "name": "stdout"
        }
      ]
    },
    {
      "cell_type": "markdown",
      "metadata": {
        "id": "-KTp8FjtXxj-",
        "colab_type": "text"
      },
      "source": [
        "Note that mutual information of close to 0 means two variables are independent. The higher the mutual information means one variable is more informative on the other. \n",
        "\n",
        "We see that in our calculation above **Median Household Income** has the highest mutual information with difference in people's behavior change of 0.38, **Population** has 0.27, and **% Asian** has 0.24.\n",
        "\n",
        "Thus These 3 variables - **Median Household Income**, **Population**, **% Asian** - affects people's change in behavior the most from our mutual information calculation.\n",
        "\n",
        "**Note that this mutual information only measures how much information one variable provides about another, it doesn't tell us the direction of influence as linear models might tell us**"
      ]
    },
    {
      "cell_type": "markdown",
      "metadata": {
        "id": "ibBZiZ7TY1L8",
        "colab_type": "text"
      },
      "source": [
        "# 3. Pearson correlation"
      ]
    },
    {
      "cell_type": "code",
      "metadata": {
        "id": "zxCpQVNOY2mE",
        "colab_type": "code",
        "colab": {
          "base_uri": "https://localhost:8080/",
          "height": 492
        },
        "outputId": "82f78226-26d5-4651-d003-f75857e647d4"
      },
      "source": [
        "data_SIP[['Median Household Income', '% Rural', 'Population_y', 'political_diff', \\\n",
        "          '% less than 18 years of age', '% 65 and over', '% Asian', '% Black',\\\n",
        "          '% Hispanic', '% Non-Hispanic White', 'diff_in_perc_at_home']].corr()"
      ],
      "execution_count": 120,
      "outputs": [
        {
          "output_type": "execute_result",
          "data": {
            "text/html": [
              "<div>\n",
              "<style scoped>\n",
              "    .dataframe tbody tr th:only-of-type {\n",
              "        vertical-align: middle;\n",
              "    }\n",
              "\n",
              "    .dataframe tbody tr th {\n",
              "        vertical-align: top;\n",
              "    }\n",
              "\n",
              "    .dataframe thead th {\n",
              "        text-align: right;\n",
              "    }\n",
              "</style>\n",
              "<table border=\"1\" class=\"dataframe\">\n",
              "  <thead>\n",
              "    <tr style=\"text-align: right;\">\n",
              "      <th></th>\n",
              "      <th>Median Household Income</th>\n",
              "      <th>% Rural</th>\n",
              "      <th>Population_y</th>\n",
              "      <th>political_diff</th>\n",
              "      <th>% less than 18 years of age</th>\n",
              "      <th>% 65 and over</th>\n",
              "      <th>% Asian</th>\n",
              "      <th>% Black</th>\n",
              "      <th>% Hispanic</th>\n",
              "      <th>% Non-Hispanic White</th>\n",
              "      <th>diff_in_perc_at_home</th>\n",
              "    </tr>\n",
              "  </thead>\n",
              "  <tbody>\n",
              "    <tr>\n",
              "      <th>Median Household Income</th>\n",
              "      <td>1.000000</td>\n",
              "      <td>-0.425917</td>\n",
              "      <td>0.288347</td>\n",
              "      <td>0.249947</td>\n",
              "      <td>0.100850</td>\n",
              "      <td>-0.287024</td>\n",
              "      <td>0.529025</td>\n",
              "      <td>-0.247251</td>\n",
              "      <td>0.047426</td>\n",
              "      <td>0.069563</td>\n",
              "      <td>0.739842</td>\n",
              "    </tr>\n",
              "    <tr>\n",
              "      <th>% Rural</th>\n",
              "      <td>-0.425917</td>\n",
              "      <td>1.000000</td>\n",
              "      <td>-0.404989</td>\n",
              "      <td>-0.478623</td>\n",
              "      <td>-0.199131</td>\n",
              "      <td>0.460656</td>\n",
              "      <td>-0.477737</td>\n",
              "      <td>-0.076653</td>\n",
              "      <td>-0.298235</td>\n",
              "      <td>0.342255</td>\n",
              "      <td>-0.521787</td>\n",
              "    </tr>\n",
              "    <tr>\n",
              "      <th>Population_y</th>\n",
              "      <td>0.288347</td>\n",
              "      <td>-0.404989</td>\n",
              "      <td>1.000000</td>\n",
              "      <td>0.353418</td>\n",
              "      <td>0.050012</td>\n",
              "      <td>-0.218723</td>\n",
              "      <td>0.492790</td>\n",
              "      <td>0.058659</td>\n",
              "      <td>0.193604</td>\n",
              "      <td>-0.251486</td>\n",
              "      <td>0.429405</td>\n",
              "    </tr>\n",
              "    <tr>\n",
              "      <th>political_diff</th>\n",
              "      <td>0.249947</td>\n",
              "      <td>-0.478623</td>\n",
              "      <td>0.353418</td>\n",
              "      <td>1.000000</td>\n",
              "      <td>-0.098745</td>\n",
              "      <td>-0.233848</td>\n",
              "      <td>0.445088</td>\n",
              "      <td>0.450412</td>\n",
              "      <td>0.180732</td>\n",
              "      <td>-0.555610</td>\n",
              "      <td>0.403782</td>\n",
              "    </tr>\n",
              "    <tr>\n",
              "      <th>% less than 18 years of age</th>\n",
              "      <td>0.100850</td>\n",
              "      <td>-0.199131</td>\n",
              "      <td>0.050012</td>\n",
              "      <td>-0.098745</td>\n",
              "      <td>1.000000</td>\n",
              "      <td>-0.607276</td>\n",
              "      <td>0.038868</td>\n",
              "      <td>0.014485</td>\n",
              "      <td>0.370460</td>\n",
              "      <td>-0.326471</td>\n",
              "      <td>0.055808</td>\n",
              "    </tr>\n",
              "    <tr>\n",
              "      <th>% 65 and over</th>\n",
              "      <td>-0.287024</td>\n",
              "      <td>0.460656</td>\n",
              "      <td>-0.218723</td>\n",
              "      <td>-0.233848</td>\n",
              "      <td>-0.607276</td>\n",
              "      <td>1.000000</td>\n",
              "      <td>-0.294668</td>\n",
              "      <td>-0.179148</td>\n",
              "      <td>-0.259777</td>\n",
              "      <td>0.384177</td>\n",
              "      <td>-0.287497</td>\n",
              "    </tr>\n",
              "    <tr>\n",
              "      <th>% Asian</th>\n",
              "      <td>0.529025</td>\n",
              "      <td>-0.477737</td>\n",
              "      <td>0.492790</td>\n",
              "      <td>0.445088</td>\n",
              "      <td>0.038868</td>\n",
              "      <td>-0.294668</td>\n",
              "      <td>1.000000</td>\n",
              "      <td>0.005531</td>\n",
              "      <td>0.162611</td>\n",
              "      <td>-0.295436</td>\n",
              "      <td>0.544277</td>\n",
              "    </tr>\n",
              "    <tr>\n",
              "      <th>% Black</th>\n",
              "      <td>-0.247251</td>\n",
              "      <td>-0.076653</td>\n",
              "      <td>0.058659</td>\n",
              "      <td>0.450412</td>\n",
              "      <td>0.014485</td>\n",
              "      <td>-0.179148</td>\n",
              "      <td>0.005531</td>\n",
              "      <td>1.000000</td>\n",
              "      <td>-0.133624</td>\n",
              "      <td>-0.611786</td>\n",
              "      <td>0.027644</td>\n",
              "    </tr>\n",
              "    <tr>\n",
              "      <th>% Hispanic</th>\n",
              "      <td>0.047426</td>\n",
              "      <td>-0.298235</td>\n",
              "      <td>0.193604</td>\n",
              "      <td>0.180732</td>\n",
              "      <td>0.370460</td>\n",
              "      <td>-0.259777</td>\n",
              "      <td>0.162611</td>\n",
              "      <td>-0.133624</td>\n",
              "      <td>1.000000</td>\n",
              "      <td>-0.636528</td>\n",
              "      <td>0.119971</td>\n",
              "    </tr>\n",
              "    <tr>\n",
              "      <th>% Non-Hispanic White</th>\n",
              "      <td>0.069563</td>\n",
              "      <td>0.342255</td>\n",
              "      <td>-0.251486</td>\n",
              "      <td>-0.555610</td>\n",
              "      <td>-0.326471</td>\n",
              "      <td>0.384177</td>\n",
              "      <td>-0.295436</td>\n",
              "      <td>-0.611786</td>\n",
              "      <td>-0.636528</td>\n",
              "      <td>1.000000</td>\n",
              "      <td>-0.167507</td>\n",
              "    </tr>\n",
              "    <tr>\n",
              "      <th>diff_in_perc_at_home</th>\n",
              "      <td>0.739842</td>\n",
              "      <td>-0.521787</td>\n",
              "      <td>0.429405</td>\n",
              "      <td>0.403782</td>\n",
              "      <td>0.055808</td>\n",
              "      <td>-0.287497</td>\n",
              "      <td>0.544277</td>\n",
              "      <td>0.027644</td>\n",
              "      <td>0.119971</td>\n",
              "      <td>-0.167507</td>\n",
              "      <td>1.000000</td>\n",
              "    </tr>\n",
              "  </tbody>\n",
              "</table>\n",
              "</div>"
            ],
            "text/plain": [
              "                             Median Household Income  ...  diff_in_perc_at_home\n",
              "Median Household Income                     1.000000  ...              0.739842\n",
              "% Rural                                    -0.425917  ...             -0.521787\n",
              "Population_y                                0.288347  ...              0.429405\n",
              "political_diff                              0.249947  ...              0.403782\n",
              "% less than 18 years of age                 0.100850  ...              0.055808\n",
              "% 65 and over                              -0.287024  ...             -0.287497\n",
              "% Asian                                     0.529025  ...              0.544277\n",
              "% Black                                    -0.247251  ...              0.027644\n",
              "% Hispanic                                  0.047426  ...              0.119971\n",
              "% Non-Hispanic White                        0.069563  ...             -0.167507\n",
              "diff_in_perc_at_home                        0.739842  ...              1.000000\n",
              "\n",
              "[11 rows x 11 columns]"
            ]
          },
          "metadata": {
            "tags": []
          },
          "execution_count": 120
        }
      ]
    },
    {
      "cell_type": "markdown",
      "metadata": {
        "id": "GX08A4kLZ_9V",
        "colab_type": "text"
      },
      "source": [
        "We can see that in the last row how other vairables linearly affects **diff_in_perc_at_home**. **Median Household Income** has correlatoin of 0.74, **% Asian** has 0.54, **Popluation** has 0.43.\n",
        "\n",
        "These are the 3 variables we found using mutual information as well. So now we have a sense the *direction* of influence.\n",
        "\n",
        "In other words, **Median Household Income**, **% Asian**, and **Popluation** have positive influence over people's change of behavior."
      ]
    },
    {
      "cell_type": "markdown",
      "metadata": {
        "id": "yOTv2DOsavU-",
        "colab_type": "text"
      },
      "source": [
        "# 4. Linear Regression"
      ]
    },
    {
      "cell_type": "code",
      "metadata": {
        "id": "NZ_DgtwXau-y",
        "colab_type": "code",
        "colab": {
          "base_uri": "https://localhost:8080/",
          "height": 436
        },
        "outputId": "7a2740b5-8eaf-44f1-c209-11419443a3ac"
      },
      "source": [
        "X"
      ],
      "execution_count": 121,
      "outputs": [
        {
          "output_type": "execute_result",
          "data": {
            "text/html": [
              "<div>\n",
              "<style scoped>\n",
              "    .dataframe tbody tr th:only-of-type {\n",
              "        vertical-align: middle;\n",
              "    }\n",
              "\n",
              "    .dataframe tbody tr th {\n",
              "        vertical-align: top;\n",
              "    }\n",
              "\n",
              "    .dataframe thead th {\n",
              "        text-align: right;\n",
              "    }\n",
              "</style>\n",
              "<table border=\"1\" class=\"dataframe\">\n",
              "  <thead>\n",
              "    <tr style=\"text-align: right;\">\n",
              "      <th></th>\n",
              "      <th>Median Household Income</th>\n",
              "      <th>% Rural</th>\n",
              "      <th>Population_y</th>\n",
              "      <th>political_diff</th>\n",
              "      <th>% less than 18 years of age</th>\n",
              "      <th>% 65 and over</th>\n",
              "      <th>% Asian</th>\n",
              "      <th>% Black</th>\n",
              "      <th>% Hispanic</th>\n",
              "      <th>% Non-Hispanic White</th>\n",
              "    </tr>\n",
              "  </thead>\n",
              "  <tbody>\n",
              "    <tr>\n",
              "      <th>0</th>\n",
              "      <td>59338.0</td>\n",
              "      <td>42.0</td>\n",
              "      <td>55601</td>\n",
              "      <td>-0.494789</td>\n",
              "      <td>23.7</td>\n",
              "      <td>15.6</td>\n",
              "      <td>1.2</td>\n",
              "      <td>19.3</td>\n",
              "      <td>3.0</td>\n",
              "      <td>74.3</td>\n",
              "    </tr>\n",
              "    <tr>\n",
              "      <th>1</th>\n",
              "      <td>57588.0</td>\n",
              "      <td>42.3</td>\n",
              "      <td>218022</td>\n",
              "      <td>-0.577862</td>\n",
              "      <td>21.6</td>\n",
              "      <td>20.4</td>\n",
              "      <td>1.2</td>\n",
              "      <td>8.8</td>\n",
              "      <td>4.6</td>\n",
              "      <td>83.1</td>\n",
              "    </tr>\n",
              "    <tr>\n",
              "      <th>2</th>\n",
              "      <td>34382.0</td>\n",
              "      <td>67.8</td>\n",
              "      <td>24881</td>\n",
              "      <td>-0.056112</td>\n",
              "      <td>20.9</td>\n",
              "      <td>19.4</td>\n",
              "      <td>0.5</td>\n",
              "      <td>48.0</td>\n",
              "      <td>4.3</td>\n",
              "      <td>45.6</td>\n",
              "    </tr>\n",
              "    <tr>\n",
              "      <th>3</th>\n",
              "      <td>46064.0</td>\n",
              "      <td>68.4</td>\n",
              "      <td>22400</td>\n",
              "      <td>-0.555441</td>\n",
              "      <td>20.5</td>\n",
              "      <td>16.5</td>\n",
              "      <td>0.2</td>\n",
              "      <td>21.1</td>\n",
              "      <td>2.6</td>\n",
              "      <td>74.6</td>\n",
              "    </tr>\n",
              "    <tr>\n",
              "      <th>4</th>\n",
              "      <td>50412.0</td>\n",
              "      <td>90.0</td>\n",
              "      <td>57840</td>\n",
              "      <td>-0.813820</td>\n",
              "      <td>23.2</td>\n",
              "      <td>18.2</td>\n",
              "      <td>0.3</td>\n",
              "      <td>1.5</td>\n",
              "      <td>9.6</td>\n",
              "      <td>86.9</td>\n",
              "    </tr>\n",
              "    <tr>\n",
              "      <th>...</th>\n",
              "      <td>...</td>\n",
              "      <td>...</td>\n",
              "      <td>...</td>\n",
              "      <td>...</td>\n",
              "      <td>...</td>\n",
              "      <td>...</td>\n",
              "      <td>...</td>\n",
              "      <td>...</td>\n",
              "      <td>...</td>\n",
              "      <td>...</td>\n",
              "    </tr>\n",
              "    <tr>\n",
              "      <th>2970</th>\n",
              "      <td>58648.0</td>\n",
              "      <td>64.9</td>\n",
              "      <td>51128</td>\n",
              "      <td>-0.302460</td>\n",
              "      <td>20.3</td>\n",
              "      <td>20.9</td>\n",
              "      <td>0.6</td>\n",
              "      <td>0.5</td>\n",
              "      <td>3.3</td>\n",
              "      <td>94.1</td>\n",
              "    </tr>\n",
              "    <tr>\n",
              "      <th>2971</th>\n",
              "      <td>52340.0</td>\n",
              "      <td>89.5</td>\n",
              "      <td>24263</td>\n",
              "      <td>-0.323301</td>\n",
              "      <td>18.3</td>\n",
              "      <td>24.4</td>\n",
              "      <td>0.6</td>\n",
              "      <td>2.0</td>\n",
              "      <td>6.3</td>\n",
              "      <td>89.6</td>\n",
              "    </tr>\n",
              "    <tr>\n",
              "      <th>2972</th>\n",
              "      <td>57785.0</td>\n",
              "      <td>13.4</td>\n",
              "      <td>171020</td>\n",
              "      <td>-0.074431</td>\n",
              "      <td>20.5</td>\n",
              "      <td>16.4</td>\n",
              "      <td>3.0</td>\n",
              "      <td>2.2</td>\n",
              "      <td>4.2</td>\n",
              "      <td>88.4</td>\n",
              "    </tr>\n",
              "    <tr>\n",
              "      <th>2973</th>\n",
              "      <td>55879.0</td>\n",
              "      <td>36.7</td>\n",
              "      <td>73055</td>\n",
              "      <td>-0.192777</td>\n",
              "      <td>21.6</td>\n",
              "      <td>20.6</td>\n",
              "      <td>2.0</td>\n",
              "      <td>0.9</td>\n",
              "      <td>3.1</td>\n",
              "      <td>92.2</td>\n",
              "    </tr>\n",
              "    <tr>\n",
              "      <th>2992</th>\n",
              "      <td>99087.0</td>\n",
              "      <td>46.4</td>\n",
              "      <td>23081</td>\n",
              "      <td>0.278663</td>\n",
              "      <td>18.4</td>\n",
              "      <td>15.4</td>\n",
              "      <td>1.4</td>\n",
              "      <td>0.6</td>\n",
              "      <td>14.9</td>\n",
              "      <td>81.5</td>\n",
              "    </tr>\n",
              "  </tbody>\n",
              "</table>\n",
              "<p>2548 rows × 10 columns</p>\n",
              "</div>"
            ],
            "text/plain": [
              "      Median Household Income  % Rural  ...  % Hispanic  % Non-Hispanic White\n",
              "0                     59338.0     42.0  ...         3.0                  74.3\n",
              "1                     57588.0     42.3  ...         4.6                  83.1\n",
              "2                     34382.0     67.8  ...         4.3                  45.6\n",
              "3                     46064.0     68.4  ...         2.6                  74.6\n",
              "4                     50412.0     90.0  ...         9.6                  86.9\n",
              "...                       ...      ...  ...         ...                   ...\n",
              "2970                  58648.0     64.9  ...         3.3                  94.1\n",
              "2971                  52340.0     89.5  ...         6.3                  89.6\n",
              "2972                  57785.0     13.4  ...         4.2                  88.4\n",
              "2973                  55879.0     36.7  ...         3.1                  92.2\n",
              "2992                  99087.0     46.4  ...        14.9                  81.5\n",
              "\n",
              "[2548 rows x 10 columns]"
            ]
          },
          "metadata": {
            "tags": []
          },
          "execution_count": 121
        }
      ]
    },
    {
      "cell_type": "code",
      "metadata": {
        "id": "vqCyDeFwa2qG",
        "colab_type": "code",
        "colab": {
          "base_uri": "https://localhost:8080/",
          "height": 221
        },
        "outputId": "21366518-4c95-49b6-d477-6ba3f04bb6a5"
      },
      "source": [
        "y"
      ],
      "execution_count": 122,
      "outputs": [
        {
          "output_type": "execute_result",
          "data": {
            "text/plain": [
              "0       0.050678\n",
              "1       0.050312\n",
              "2       0.007037\n",
              "3       0.011809\n",
              "4       0.038890\n",
              "          ...   \n",
              "2970    0.018980\n",
              "2971   -0.019303\n",
              "2972    0.071851\n",
              "2973    0.007077\n",
              "2992    0.075183\n",
              "Name: diff_in_perc_at_home, Length: 2548, dtype: float64"
            ]
          },
          "metadata": {
            "tags": []
          },
          "execution_count": 122
        }
      ]
    },
    {
      "cell_type": "code",
      "metadata": {
        "id": "Blvdi9Mia3Qq",
        "colab_type": "code",
        "colab": {}
      },
      "source": [
        "from sklearn.linear_model import LinearRegression"
      ],
      "execution_count": 123,
      "outputs": []
    },
    {
      "cell_type": "code",
      "metadata": {
        "id": "QOq_ILsXbR98",
        "colab_type": "code",
        "colab": {}
      },
      "source": [
        "regressor = LinearRegression(normalize = True).fit(X, y)"
      ],
      "execution_count": 127,
      "outputs": []
    },
    {
      "cell_type": "code",
      "metadata": {
        "id": "kg1LulZebsLi",
        "colab_type": "code",
        "colab": {
          "base_uri": "https://localhost:8080/",
          "height": 68
        },
        "outputId": "55b899a5-c8be-44ba-fb78-b1add82cdf15"
      },
      "source": [
        "regressor.coef_"
      ],
      "execution_count": 128,
      "outputs": [
        {
          "output_type": "execute_result",
          "data": {
            "text/plain": [
              "array([ 1.95657169e-06, -2.04144492e-04,  1.57830464e-08,  2.93183781e-03,\n",
              "       -4.82528686e-04,  3.52074635e-04,  1.29694395e-03,  8.99268199e-04,\n",
              "        5.54785939e-04,  4.07670918e-04])"
            ]
          },
          "metadata": {
            "tags": []
          },
          "execution_count": 128
        }
      ]
    },
    {
      "cell_type": "code",
      "metadata": {
        "id": "zwbCx0Q3cEAf",
        "colab_type": "code",
        "colab": {
          "base_uri": "https://localhost:8080/",
          "height": 187
        },
        "outputId": "7e250397-b5b5-4db5-f80c-245926695a4f"
      },
      "source": [
        "for i, column in enumerate(X.columns):\n",
        "  print(f'linear coefficient of {column} on difference of people\\'s behavior is {regressor.coef_[i]}')"
      ],
      "execution_count": 129,
      "outputs": [
        {
          "output_type": "stream",
          "text": [
            "linear coefficient of Median Household Income on difference of people's behavior is 1.9565716879624305e-06\n",
            "linear coefficient of % Rural on difference of people's behavior is -0.00020414449249738837\n",
            "linear coefficient of Population_y on difference of people's behavior is 1.578304644677379e-08\n",
            "linear coefficient of political_diff on difference of people's behavior is 0.002931837806050786\n",
            "linear coefficient of % less than 18 years of age on difference of people's behavior is -0.0004825286861790829\n",
            "linear coefficient of % 65 and over on difference of people's behavior is 0.0003520746351162693\n",
            "linear coefficient of % Asian on difference of people's behavior is 0.0012969439503812362\n",
            "linear coefficient of % Black on difference of people's behavior is 0.0008992681993846743\n",
            "linear coefficient of % Hispanic on difference of people's behavior is 0.0005547859394483534\n",
            "linear coefficient of % Non-Hispanic White on difference of people's behavior is 0.00040767091801035784\n"
          ],
          "name": "stdout"
        }
      ]
    },
    {
      "cell_type": "markdown",
      "metadata": {
        "id": "9jXqLc17cDZ5",
        "colab_type": "text"
      },
      "source": [
        "In this case we see **political difference** and **% Asian** have the most effect on people's behavior change... And **Median Household Income** and **Population** seems to be the least affecting variables... which contradicts our previous finding. But to be sure this is only measuring linear effects."
      ]
    },
    {
      "cell_type": "markdown",
      "metadata": {
        "id": "gwuIr5aDbBdA",
        "colab_type": "text"
      },
      "source": [
        "# 5. Random Forest"
      ]
    },
    {
      "cell_type": "code",
      "metadata": {
        "id": "NWijp7T9bC9F",
        "colab_type": "code",
        "colab": {}
      },
      "source": [
        "from sklearn.ensemble import RandomForestRegressor"
      ],
      "execution_count": 130,
      "outputs": []
    },
    {
      "cell_type": "code",
      "metadata": {
        "id": "qUalPHHBdUhG",
        "colab_type": "code",
        "colab": {}
      },
      "source": [
        "randomForest = RandomForestRegressor().fit(X, y)"
      ],
      "execution_count": 131,
      "outputs": []
    },
    {
      "cell_type": "code",
      "metadata": {
        "id": "xerShCXCdX1l",
        "colab_type": "code",
        "colab": {
          "base_uri": "https://localhost:8080/",
          "height": 51
        },
        "outputId": "79006bb7-01c9-4175-eb4b-2e74374715bd"
      },
      "source": [
        "randomForest.feature_importances_"
      ],
      "execution_count": 132,
      "outputs": [
        {
          "output_type": "execute_result",
          "data": {
            "text/plain": [
              "array([0.49549538, 0.0422583 , 0.22856731, 0.03002171, 0.03502686,\n",
              "       0.03215201, 0.031833  , 0.03960132, 0.0260252 , 0.03901891])"
            ]
          },
          "metadata": {
            "tags": []
          },
          "execution_count": 132
        }
      ]
    },
    {
      "cell_type": "code",
      "metadata": {
        "id": "xzXlr_nFdd2U",
        "colab_type": "code",
        "colab": {
          "base_uri": "https://localhost:8080/",
          "height": 187
        },
        "outputId": "5cab6304-a927-4312-f9ef-1bc5a0d90fd5"
      },
      "source": [
        "for i, column in enumerate(X.columns):\n",
        "  print(f'feature importance score of {column} based on random forest on difference of people\\'s behavior is {randomForest.feature_importances_[i]}')"
      ],
      "execution_count": 133,
      "outputs": [
        {
          "output_type": "stream",
          "text": [
            "feature importance score of Median Household Income based on random forest on difference of people's behavior is 0.4954953794892411\n",
            "feature importance score of % Rural based on random forest on difference of people's behavior is 0.04225829876293136\n",
            "feature importance score of Population_y based on random forest on difference of people's behavior is 0.22856731035156763\n",
            "feature importance score of political_diff based on random forest on difference of people's behavior is 0.030021708800720373\n",
            "feature importance score of % less than 18 years of age based on random forest on difference of people's behavior is 0.03502685502806784\n",
            "feature importance score of % 65 and over based on random forest on difference of people's behavior is 0.0321520116039696\n",
            "feature importance score of % Asian based on random forest on difference of people's behavior is 0.03183299945742559\n",
            "feature importance score of % Black based on random forest on difference of people's behavior is 0.0396013227143754\n",
            "feature importance score of % Hispanic based on random forest on difference of people's behavior is 0.026025203878011695\n",
            "feature importance score of % Non-Hispanic White based on random forest on difference of people's behavior is 0.039018909913689476\n"
          ],
          "name": "stdout"
        }
      ]
    },
    {
      "cell_type": "markdown",
      "metadata": {
        "id": "1PLVIv1ndvmt",
        "colab_type": "text"
      },
      "source": [
        "Again we see that **Median Household Income** is the most important factor based on random forest model. **population** is the second most important factor."
      ]
    },
    {
      "cell_type": "markdown",
      "metadata": {
        "id": "SHNHAIIad9I7",
        "colab_type": "text"
      },
      "source": [
        "# 6. Conclusion and future direction"
      ]
    },
    {
      "cell_type": "markdown",
      "metadata": {
        "id": "GP6wBThqeA8k",
        "colab_type": "text"
      },
      "source": [
        "From our mutual information and random forest approaches we can see that **Median Household Income** and **Population** affects people's change in behavior the most.\n",
        "\n",
        "Based on our pearson correlation and linear model we can postulate such influence is in the positive direction.\n",
        "\n",
        "In other words, the more **Median Household Income** a county has, the more the increase in people's stay at home behavior after shelter in place.\n",
        "\n",
        "Further research\n",
        "- do the same analysis on the counties without shelter in place\n",
        "- do the same analysis with more covariates (in here we only considered about 7 or 8 covariates while we actually have 100+ covariates)\n",
        "- use fancier regression techniques?\n"
      ]
    }
  ]
}