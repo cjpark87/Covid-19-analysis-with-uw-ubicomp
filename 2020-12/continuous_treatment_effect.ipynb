{
  "nbformat": 4,
  "nbformat_minor": 0,
  "metadata": {
    "colab": {
      "name": "continuous_treatment_effect.ipynb",
      "provenance": [],
      "mount_file_id": "1fpLYd3VYZP3gu0K4FNP-TBkbsr3dnGk5",
      "authorship_tag": "ABX9TyMQwk0l5Ok/YjAG5gLjiZdO",
      "include_colab_link": true
    },
    "kernelspec": {
      "name": "python3",
      "display_name": "Python 3"
    }
  },
  "cells": [
    {
      "cell_type": "markdown",
      "metadata": {
        "id": "view-in-github",
        "colab_type": "text"
      },
      "source": [
        "<a href=\"https://colab.research.google.com/github/wenjunsun/Covid-19-analysis-with-uw-ubicomp/blob/master/2020-12/continuous_treatment_effect.ipynb\" target=\"_parent\"><img src=\"https://colab.research.google.com/assets/colab-badge.svg\" alt=\"Open In Colab\"/></a>"
      ]
    },
    {
      "cell_type": "code",
      "metadata": {
        "colab": {
          "base_uri": "https://localhost:8080/"
        },
        "id": "BGMwWH8x2iJ4",
        "outputId": "4420b5aa-84f1-403c-ffd6-6cdd159e8bc0"
      },
      "source": [
        "cd drive/MyDrive/covid/PSM/data"
      ],
      "execution_count": null,
      "outputs": [
        {
          "output_type": "stream",
          "text": [
            "/content/drive/MyDrive/covid/PSM/data\n"
          ],
          "name": "stdout"
        }
      ]
    },
    {
      "cell_type": "code",
      "metadata": {
        "colab": {
          "base_uri": "https://localhost:8080/"
        },
        "id": "catL8gnF_yAY",
        "outputId": "295f17eb-05c4-49c3-d00a-1b782ee01e22"
      },
      "source": [
        "ls"
      ],
      "execution_count": null,
      "outputs": [
        {
          "output_type": "stream",
          "text": [
            "agg_social_dist_2.csv\n",
            "agg_social_dist.csv\n",
            "avg_google_mobility_up_to_6_1.csv\n",
            "avg_google_mobility_up_to_6_1_weekdays.csv\n",
            "county_data_with_reduced_covariates_with_SIP.csv\n",
            "data_with_policy_scores.csv\n",
            "final_data_google_and_safe_graph_up_to_6_1.csv\n",
            "final_data_google_and_safe_graph_up_to_6_1_weekdays.csv\n",
            "final_policy_scores.csv\n",
            "google_mobility.csv\n",
            "policy_scores.csv\n",
            "social_dist_aggregated_on_county.csv\n"
          ],
          "name": "stdout"
        }
      ]
    },
    {
      "cell_type": "code",
      "metadata": {
        "id": "jsolmGRW_ycU"
      },
      "source": [
        "import pandas as pd\r\n",
        "import numpy as np\r\n",
        "import matplotlib.pyplot as plt"
      ],
      "execution_count": null,
      "outputs": []
    },
    {
      "cell_type": "markdown",
      "metadata": {
        "id": "eQro_J2dKnFg"
      },
      "source": [
        "# load R + R packages"
      ]
    },
    {
      "cell_type": "code",
      "metadata": {
        "colab": {
          "base_uri": "https://localhost:8080/"
        },
        "id": "YqnNrzRKJH2X",
        "outputId": "e0b9cb9f-b037-4363-937a-f681d057bddf"
      },
      "source": [
        "%load_ext rpy2.ipython\r\n",
        "# For (automatic) translation of Pandas objects to R\r\n",
        "from rpy2.robjects import pandas2ri\r\n",
        "pandas2ri.activate()"
      ],
      "execution_count": null,
      "outputs": [
        {
          "output_type": "stream",
          "text": [
            "/usr/local/lib/python3.6/dist-packages/rpy2/robjects/pandas2ri.py:14: FutureWarning: pandas.core.index is deprecated and will be removed in a future version.  The public classes are available in the top-level namespace.\n",
            "  from pandas.core.index import Index as PandasIndex\n",
            "/usr/local/lib/python3.6/dist-packages/rpy2/robjects/pandas2ri.py:34: UserWarning: pandas >= 1.0 is not supported.\n",
            "  warnings.warn('pandas >= 1.0 is not supported.')\n"
          ],
          "name": "stderr"
        }
      ]
    },
    {
      "cell_type": "code",
      "metadata": {
        "id": "tXVb-PbKKr8I"
      },
      "source": [
        "%%R\r\n",
        "install.packages('stats')\r\n",
        "install.packages('survey')"
      ],
      "execution_count": null,
      "outputs": []
    },
    {
      "cell_type": "code",
      "metadata": {
        "id": "2qLqhYjJK6r-"
      },
      "source": [
        "%%R\r\n",
        "library('stats')\r\n",
        "library('survey')"
      ],
      "execution_count": null,
      "outputs": []
    },
    {
      "cell_type": "markdown",
      "metadata": {
        "id": "tKIr5-RAKqgl"
      },
      "source": [
        "# load data"
      ]
    },
    {
      "cell_type": "code",
      "metadata": {
        "id": "RWcPnPr9_17k"
      },
      "source": [
        "data = pd.read_csv('data_with_policy_scores.csv')"
      ],
      "execution_count": null,
      "outputs": []
    },
    {
      "cell_type": "code",
      "metadata": {
        "colab": {
          "base_uri": "https://localhost:8080/",
          "height": 711
        },
        "id": "gzleSc9O_5RY",
        "outputId": "c6910612-8dbe-47cc-e7c4-90eb3b7dc6e4"
      },
      "source": [
        "data"
      ],
      "execution_count": null,
      "outputs": [
        {
          "output_type": "execute_result",
          "data": {
            "text/html": [
              "<div>\n",
              "<style scoped>\n",
              "    .dataframe tbody tr th:only-of-type {\n",
              "        vertical-align: middle;\n",
              "    }\n",
              "\n",
              "    .dataframe tbody tr th {\n",
              "        vertical-align: top;\n",
              "    }\n",
              "\n",
              "    .dataframe thead th {\n",
              "        text-align: right;\n",
              "    }\n",
              "</style>\n",
              "<table border=\"1\" class=\"dataframe\">\n",
              "  <thead>\n",
              "    <tr style=\"text-align: right;\">\n",
              "      <th></th>\n",
              "      <th>state</th>\n",
              "      <th>state_code</th>\n",
              "      <th>State Name</th>\n",
              "      <th>cnamelong</th>\n",
              "      <th>county_code</th>\n",
              "      <th>diff_in_perc_at_home</th>\n",
              "      <th>SIP?</th>\n",
              "      <th>Median Household Income</th>\n",
              "      <th>% Rural</th>\n",
              "      <th>Population_y</th>\n",
              "      <th>political_diff</th>\n",
              "      <th>% less than 18 years of age</th>\n",
              "      <th>% 65 and over</th>\n",
              "      <th>% Asian</th>\n",
              "      <th>% Black</th>\n",
              "      <th>% Hispanic</th>\n",
              "      <th>% Non-Hispanic White</th>\n",
              "      <th>GovernmentResponseIndex</th>\n",
              "    </tr>\n",
              "  </thead>\n",
              "  <tbody>\n",
              "    <tr>\n",
              "      <th>0</th>\n",
              "      <td>1.0</td>\n",
              "      <td>AL</td>\n",
              "      <td>Alabama</td>\n",
              "      <td>Autauga County</td>\n",
              "      <td>1001.0</td>\n",
              "      <td>0.050678</td>\n",
              "      <td>1</td>\n",
              "      <td>59338.0</td>\n",
              "      <td>42.0</td>\n",
              "      <td>55601</td>\n",
              "      <td>-0.494789</td>\n",
              "      <td>23.7</td>\n",
              "      <td>15.6</td>\n",
              "      <td>1.2</td>\n",
              "      <td>19.3</td>\n",
              "      <td>3.0</td>\n",
              "      <td>74.3</td>\n",
              "      <td>69.134839</td>\n",
              "    </tr>\n",
              "    <tr>\n",
              "      <th>1</th>\n",
              "      <td>1.0</td>\n",
              "      <td>AL</td>\n",
              "      <td>Alabama</td>\n",
              "      <td>Baldwin County</td>\n",
              "      <td>1003.0</td>\n",
              "      <td>0.050312</td>\n",
              "      <td>1</td>\n",
              "      <td>57588.0</td>\n",
              "      <td>42.3</td>\n",
              "      <td>218022</td>\n",
              "      <td>-0.577862</td>\n",
              "      <td>21.6</td>\n",
              "      <td>20.4</td>\n",
              "      <td>1.2</td>\n",
              "      <td>8.8</td>\n",
              "      <td>4.6</td>\n",
              "      <td>83.1</td>\n",
              "      <td>69.134839</td>\n",
              "    </tr>\n",
              "    <tr>\n",
              "      <th>2</th>\n",
              "      <td>1.0</td>\n",
              "      <td>AL</td>\n",
              "      <td>Alabama</td>\n",
              "      <td>Barbour County</td>\n",
              "      <td>1005.0</td>\n",
              "      <td>0.007037</td>\n",
              "      <td>1</td>\n",
              "      <td>34382.0</td>\n",
              "      <td>67.8</td>\n",
              "      <td>24881</td>\n",
              "      <td>-0.056112</td>\n",
              "      <td>20.9</td>\n",
              "      <td>19.4</td>\n",
              "      <td>0.5</td>\n",
              "      <td>48.0</td>\n",
              "      <td>4.3</td>\n",
              "      <td>45.6</td>\n",
              "      <td>69.134839</td>\n",
              "    </tr>\n",
              "    <tr>\n",
              "      <th>3</th>\n",
              "      <td>1.0</td>\n",
              "      <td>AL</td>\n",
              "      <td>Alabama</td>\n",
              "      <td>Bibb County</td>\n",
              "      <td>1007.0</td>\n",
              "      <td>0.011809</td>\n",
              "      <td>1</td>\n",
              "      <td>46064.0</td>\n",
              "      <td>68.4</td>\n",
              "      <td>22400</td>\n",
              "      <td>-0.555441</td>\n",
              "      <td>20.5</td>\n",
              "      <td>16.5</td>\n",
              "      <td>0.2</td>\n",
              "      <td>21.1</td>\n",
              "      <td>2.6</td>\n",
              "      <td>74.6</td>\n",
              "      <td>69.134839</td>\n",
              "    </tr>\n",
              "    <tr>\n",
              "      <th>4</th>\n",
              "      <td>1.0</td>\n",
              "      <td>AL</td>\n",
              "      <td>Alabama</td>\n",
              "      <td>Blount County</td>\n",
              "      <td>1009.0</td>\n",
              "      <td>0.038890</td>\n",
              "      <td>1</td>\n",
              "      <td>50412.0</td>\n",
              "      <td>90.0</td>\n",
              "      <td>57840</td>\n",
              "      <td>-0.813820</td>\n",
              "      <td>23.2</td>\n",
              "      <td>18.2</td>\n",
              "      <td>0.3</td>\n",
              "      <td>1.5</td>\n",
              "      <td>9.6</td>\n",
              "      <td>86.9</td>\n",
              "      <td>69.134839</td>\n",
              "    </tr>\n",
              "    <tr>\n",
              "      <th>...</th>\n",
              "      <td>...</td>\n",
              "      <td>...</td>\n",
              "      <td>...</td>\n",
              "      <td>...</td>\n",
              "      <td>...</td>\n",
              "      <td>...</td>\n",
              "      <td>...</td>\n",
              "      <td>...</td>\n",
              "      <td>...</td>\n",
              "      <td>...</td>\n",
              "      <td>...</td>\n",
              "      <td>...</td>\n",
              "      <td>...</td>\n",
              "      <td>...</td>\n",
              "      <td>...</td>\n",
              "      <td>...</td>\n",
              "      <td>...</td>\n",
              "      <td>...</td>\n",
              "    </tr>\n",
              "    <tr>\n",
              "      <th>2990</th>\n",
              "      <td>56.0</td>\n",
              "      <td>WY</td>\n",
              "      <td>Wyoming</td>\n",
              "      <td>Sweetwater County</td>\n",
              "      <td>56037.0</td>\n",
              "      <td>-0.018485</td>\n",
              "      <td>0</td>\n",
              "      <td>73315.0</td>\n",
              "      <td>10.9</td>\n",
              "      <td>43051</td>\n",
              "      <td>-0.535382</td>\n",
              "      <td>26.2</td>\n",
              "      <td>12.1</td>\n",
              "      <td>1.0</td>\n",
              "      <td>1.1</td>\n",
              "      <td>16.1</td>\n",
              "      <td>79.3</td>\n",
              "      <td>66.658226</td>\n",
              "    </tr>\n",
              "    <tr>\n",
              "      <th>2991</th>\n",
              "      <td>56.0</td>\n",
              "      <td>WY</td>\n",
              "      <td>Wyoming</td>\n",
              "      <td>Teton County</td>\n",
              "      <td>56039.0</td>\n",
              "      <td>0.075183</td>\n",
              "      <td>1</td>\n",
              "      <td>99087.0</td>\n",
              "      <td>46.4</td>\n",
              "      <td>23081</td>\n",
              "      <td>0.278663</td>\n",
              "      <td>18.4</td>\n",
              "      <td>15.4</td>\n",
              "      <td>1.4</td>\n",
              "      <td>0.6</td>\n",
              "      <td>14.9</td>\n",
              "      <td>81.5</td>\n",
              "      <td>66.658226</td>\n",
              "    </tr>\n",
              "    <tr>\n",
              "      <th>2992</th>\n",
              "      <td>56.0</td>\n",
              "      <td>WY</td>\n",
              "      <td>Wyoming</td>\n",
              "      <td>Uinta County</td>\n",
              "      <td>56041.0</td>\n",
              "      <td>0.010157</td>\n",
              "      <td>0</td>\n",
              "      <td>63401.0</td>\n",
              "      <td>43.1</td>\n",
              "      <td>20299</td>\n",
              "      <td>-0.614926</td>\n",
              "      <td>28.8</td>\n",
              "      <td>14.1</td>\n",
              "      <td>0.5</td>\n",
              "      <td>0.7</td>\n",
              "      <td>9.2</td>\n",
              "      <td>87.4</td>\n",
              "      <td>66.658226</td>\n",
              "    </tr>\n",
              "    <tr>\n",
              "      <th>2993</th>\n",
              "      <td>56.0</td>\n",
              "      <td>WY</td>\n",
              "      <td>Wyoming</td>\n",
              "      <td>Washakie County</td>\n",
              "      <td>56043.0</td>\n",
              "      <td>-0.007825</td>\n",
              "      <td>0</td>\n",
              "      <td>55190.0</td>\n",
              "      <td>36.0</td>\n",
              "      <td>7885</td>\n",
              "      <td>-0.640377</td>\n",
              "      <td>22.7</td>\n",
              "      <td>21.7</td>\n",
              "      <td>0.8</td>\n",
              "      <td>0.5</td>\n",
              "      <td>14.1</td>\n",
              "      <td>82.4</td>\n",
              "      <td>66.658226</td>\n",
              "    </tr>\n",
              "    <tr>\n",
              "      <th>2994</th>\n",
              "      <td>56.0</td>\n",
              "      <td>WY</td>\n",
              "      <td>Wyoming</td>\n",
              "      <td>Weston County</td>\n",
              "      <td>56045.0</td>\n",
              "      <td>-0.003361</td>\n",
              "      <td>0</td>\n",
              "      <td>54319.0</td>\n",
              "      <td>54.5</td>\n",
              "      <td>6967</td>\n",
              "      <td>-0.781044</td>\n",
              "      <td>20.8</td>\n",
              "      <td>20.5</td>\n",
              "      <td>1.9</td>\n",
              "      <td>0.6</td>\n",
              "      <td>4.1</td>\n",
              "      <td>90.0</td>\n",
              "      <td>66.658226</td>\n",
              "    </tr>\n",
              "  </tbody>\n",
              "</table>\n",
              "<p>2995 rows × 18 columns</p>\n",
              "</div>"
            ],
            "text/plain": [
              "      state state_code  ... % Non-Hispanic White GovernmentResponseIndex\n",
              "0       1.0         AL  ...                 74.3               69.134839\n",
              "1       1.0         AL  ...                 83.1               69.134839\n",
              "2       1.0         AL  ...                 45.6               69.134839\n",
              "3       1.0         AL  ...                 74.6               69.134839\n",
              "4       1.0         AL  ...                 86.9               69.134839\n",
              "...     ...        ...  ...                  ...                     ...\n",
              "2990   56.0         WY  ...                 79.3               66.658226\n",
              "2991   56.0         WY  ...                 81.5               66.658226\n",
              "2992   56.0         WY  ...                 87.4               66.658226\n",
              "2993   56.0         WY  ...                 82.4               66.658226\n",
              "2994   56.0         WY  ...                 90.0               66.658226\n",
              "\n",
              "[2995 rows x 18 columns]"
            ]
          },
          "metadata": {
            "tags": []
          },
          "execution_count": 5
        }
      ]
    },
    {
      "cell_type": "code",
      "metadata": {
        "colab": {
          "base_uri": "https://localhost:8080/",
          "height": 296
        },
        "id": "A-n2IGxbAWgq",
        "outputId": "88b4cb42-fdff-47f5-a5fc-8447824f5b8c"
      },
      "source": [
        "# let's see the distribution of government response scores\r\n",
        "data['GovernmentResponseIndex'].hist(bins = 20)\r\n",
        "plt.xlabel('Avg Government Response Index from 4-1 to 6-1')\r\n",
        "plt.ylabel('# of counties')"
      ],
      "execution_count": null,
      "outputs": [
        {
          "output_type": "execute_result",
          "data": {
            "text/plain": [
              "Text(0, 0.5, '# of counties')"
            ]
          },
          "metadata": {
            "tags": []
          },
          "execution_count": 20
        },
        {
          "output_type": "display_data",
          "data": {
            "image/png": "[encoded data removed]",
            "text/plain": [
              "<Figure size 432x288 with 1 Axes>"
            ]
          },
          "metadata": {
            "tags": [],
            "needs_background": "light"
          }
        }
      ]
    },
    {
      "cell_type": "code",
      "metadata": {
        "id": "HrLq7axSKCkt"
      },
      "source": [
        "data = data.dropna()"
      ],
      "execution_count": null,
      "outputs": []
    },
    {
      "cell_type": "markdown",
      "metadata": {
        "id": "eyXLcNOvHJwY"
      },
      "source": [
        "# 1. calculate genearlized propensity score of each row"
      ]
    },
    {
      "cell_type": "markdown",
      "metadata": {
        "id": "rv1ptdMGIxv3"
      },
      "source": [
        "does covariate of a county really predicts its dosage? covariate is property of a county but dosage is at the state level."
      ]
    },
    {
      "cell_type": "code",
      "metadata": {
        "colab": {
          "base_uri": "https://localhost:8080/"
        },
        "id": "MNtcDAWWJB7x",
        "outputId": "8be4d260-514f-460e-dd3c-ee2bba95bfc6"
      },
      "source": [
        "%%R -i data\r\n",
        "head(data)"
      ],
      "execution_count": null,
      "outputs": [
        {
          "output_type": "stream",
          "text": [
            "  state state_code State.Name      cnamelong county_code diff_in_perc_at_home\n",
            "0     1         AL    Alabama Autauga County        1001          0.050678282\n",
            "1     1         AL    Alabama Baldwin County        1003          0.050311979\n",
            "2     1         AL    Alabama Barbour County        1005          0.007036924\n",
            "3     1         AL    Alabama    Bibb County        1007          0.011808926\n",
            "4     1         AL    Alabama  Blount County        1009          0.038890321\n",
            "5     1         AL    Alabama Bullock County        1011         -0.009576347\n",
            "  SIP. Median.Household.Income X..Rural Population_y political_diff\n",
            "0    1                   59338     42.0        55601    -0.49478934\n",
            "1    1                   57588     42.3       218022    -0.57786162\n",
            "2    1                   34382     67.8        24881    -0.05611165\n",
            "3    1                   46064     68.4        22400    -0.55544124\n",
            "4    1                   50412     90.0        57840    -0.81381973\n",
            "5    1                   29267     51.4        10138     0.50861519\n",
            "  X..less.than.18.years.of.age X..65.and.over X..Asian X..Black X..Hispanic\n",
            "0                         23.7           15.6      1.2     19.3         3.0\n",
            "1                         21.6           20.4      1.2      8.8         4.6\n",
            "2                         20.9           19.4      0.5     48.0         4.3\n",
            "3                         20.5           16.5      0.2     21.1         2.6\n",
            "4                         23.2           18.2      0.3      1.5         9.6\n",
            "5                         21.1           16.4      0.2     69.5         8.0\n",
            "  X..Non.Hispanic.White GovernmentResponseIndex\n",
            "0                  74.3                69.13484\n",
            "1                  83.1                69.13484\n",
            "2                  45.6                69.13484\n",
            "3                  74.6                69.13484\n",
            "4                  86.9                69.13484\n",
            "5                  21.2                69.13484\n"
          ],
          "name": "stdout"
        }
      ]
    },
    {
      "cell_type": "code",
      "metadata": {
        "id": "xvl53v0BIEVp"
      },
      "source": [
        "%%R\r\n",
        "dosage_formula <- formula('GovernmentResponseIndex~Median.Household.Income+X..Rural+Population_y+political_diff+X..less.than.18.years.of.age+X..65.and.over+X..Asian+X..Black+X..Hispanic+X..Non.Hispanic.White')"
      ],
      "execution_count": null,
      "outputs": []
    },
    {
      "cell_type": "code",
      "metadata": {
        "id": "XhPdA7DFKbtf"
      },
      "source": [
        "%%R\r\n",
        "# linear regression of dosage based on covariates\r\n",
        "dosage_model <- lm(formula = dosage_formula, data = data)"
      ],
      "execution_count": null,
      "outputs": []
    },
    {
      "cell_type": "code",
      "metadata": {
        "id": "folm0fpzLjbw"
      },
      "source": [
        "%%R\r\n",
        "# calculate generalized propensity score of each row based\r\n",
        "# off our linear model\r\n",
        "data$GPS = dnorm(data$GovernmentResponseIndex, mean = dosage_model$fitted,\r\n",
        "                 sd = sd(data$GovernmentResponseIndex)) "
      ],
      "execution_count": null,
      "outputs": []
    },
    {
      "cell_type": "code",
      "metadata": {
        "colab": {
          "base_uri": "https://localhost:8080/"
        },
        "id": "8-_heNlPL2i0",
        "outputId": "42d28913-594c-47e6-d09a-13dd582d91d5"
      },
      "source": [
        "%%R\r\n",
        "head(data)"
      ],
      "execution_count": null,
      "outputs": [
        {
          "output_type": "stream",
          "text": [
            "  state state_code State.Name      cnamelong county_code diff_in_perc_at_home\n",
            "0     1         AL    Alabama Autauga County        1001          0.050678282\n",
            "1     1         AL    Alabama Baldwin County        1003          0.050311979\n",
            "2     1         AL    Alabama Barbour County        1005          0.007036924\n",
            "3     1         AL    Alabama    Bibb County        1007          0.011808926\n",
            "4     1         AL    Alabama  Blount County        1009          0.038890321\n",
            "5     1         AL    Alabama Bullock County        1011         -0.009576347\n",
            "  SIP. Median.Household.Income X..Rural Population_y political_diff\n",
            "0    1                   59338     42.0        55601    -0.49478934\n",
            "1    1                   57588     42.3       218022    -0.57786162\n",
            "2    1                   34382     67.8        24881    -0.05611165\n",
            "3    1                   46064     68.4        22400    -0.55544124\n",
            "4    1                   50412     90.0        57840    -0.81381973\n",
            "5    1                   29267     51.4        10138     0.50861519\n",
            "  X..less.than.18.years.of.age X..65.and.over X..Asian X..Black X..Hispanic\n",
            "0                         23.7           15.6      1.2     19.3         3.0\n",
            "1                         21.6           20.4      1.2      8.8         4.6\n",
            "2                         20.9           19.4      0.5     48.0         4.3\n",
            "3                         20.5           16.5      0.2     21.1         2.6\n",
            "4                         23.2           18.2      0.3      1.5         9.6\n",
            "5                         21.1           16.4      0.2     69.5         8.0\n",
            "  X..Non.Hispanic.White GovernmentResponseIndex        GPS\n",
            "0                  74.3                69.13484 0.07162899\n",
            "1                  83.1                69.13484 0.07205904\n",
            "2                  45.6                69.13484 0.07446314\n",
            "3                  74.6                69.13484 0.07439824\n",
            "4                  86.9                69.13484 0.06848431\n",
            "5                  21.2                69.13484 0.07353232\n"
          ],
          "name": "stdout"
        }
      ]
    },
    {
      "cell_type": "markdown",
      "metadata": {
        "id": "oO4vUtufHQ2X"
      },
      "source": [
        "# 2. check covaraite balance"
      ]
    },
    {
      "cell_type": "markdown",
      "metadata": {
        "id": "5xCigoYfZNfZ"
      },
      "source": [
        " - TODO later"
      ]
    },
    {
      "cell_type": "code",
      "metadata": {
        "id": "BqGEpFjjMEJS"
      },
      "source": [
        "%%R\r\n",
        "balanceTable <- data.frame()\r\n",
        "balanceFormula <- paste('GovernmentResponseIndex~GPS+', 'Population_y', sep = '')\r\n",
        "maxEff <- max(abs(coef(lm(balanceFormula,data))[-(1:5)])) "
      ],
      "execution_count": null,
      "outputs": []
    },
    {
      "cell_type": "code",
      "metadata": {
        "colab": {
          "base_uri": "https://localhost:8080/"
        },
        "id": "LZGk5EFUNbvh",
        "outputId": "ebad4e92-1d5d-49ca-d28b-29970126b512"
      },
      "source": [
        "%%R\r\n",
        "maxEff"
      ],
      "execution_count": null,
      "outputs": [
        {
          "output_type": "stream",
          "text": [
            "[1] -Inf\n"
          ],
          "name": "stdout"
        }
      ]
    },
    {
      "cell_type": "markdown",
      "metadata": {
        "id": "ase6_X8kHXKW"
      },
      "source": [
        "# 3. model outcome in terms of treatment dosage + GPS"
      ]
    },
    {
      "cell_type": "code",
      "metadata": {
        "id": "vfyVIlxIOBFz"
      },
      "source": [
        "%%R\r\n",
        "designAN <- svydesign(id=~1,weights=~1,data =data)\r\n",
        "modelOutcome <- svyglm(formula = 'diff_in_perc_at_home~GovernmentResponseIndex+I(GovernmentResponseIndex^2) + GPS + I(GPS^2) + GovernmentResponseIndex:GPS', design = designAN) "
      ],
      "execution_count": null,
      "outputs": []
    },
    {
      "cell_type": "markdown",
      "metadata": {
        "id": "xdTso91YHX7g"
      },
      "source": [
        "# 4. plot dosage response function"
      ]
    },
    {
      "cell_type": "code",
      "metadata": {
        "id": "JZP67DVSHWe1"
      },
      "source": [
        "%%R\r\n",
        "all.effects <- data.frame()\r\n",
        "for (dose in quantile(data$GovernmentResponseIndex, probs = seq(0.00, 1, 0.1)) ) {\r\n",
        "    effects <- predict(modelOutcome, type = 'response', vcov = T,\r\n",
        "                       newdata = data.frame(GovernmentResponseIndex=dose, GPS = data$GPS))\r\n",
        "    effect <- svycontrast(effects, rep(1/nrow(data), nrow(data)) )\r\n",
        "    all.effects <- rbind(all.effects, effect)\r\n",
        "} "
      ],
      "execution_count": null,
      "outputs": []
    },
    {
      "cell_type": "code",
      "metadata": {
        "colab": {
          "base_uri": "https://localhost:8080/"
        },
        "id": "GxnvQd22S86-",
        "outputId": "6bbecc7a-f3b0-4a07-8511-cabe65f2b075"
      },
      "source": [
        "%%R\r\n",
        "all.effects"
      ],
      "execution_count": null,
      "outputs": [
        {
          "output_type": "stream",
          "text": [
            "   X0.00996308829104974\n",
            "1           0.009963088\n",
            "2           0.013795090\n",
            "3           0.018672620\n",
            "4           0.020012583\n",
            "5           0.022561233\n",
            "6           0.025826412\n",
            "7           0.030846820\n",
            "8           0.035098176\n",
            "9           0.046782189\n",
            "10          0.056579258\n",
            "11          0.096360795\n"
          ],
          "name": "stdout"
        }
      ]
    },
    {
      "cell_type": "code",
      "metadata": {
        "id": "oN0RGC5JPVgy"
      },
      "source": [
        "%%R\r\n",
        "doseResponses <- data.frame(percentile = seq(0, 100, 10),\r\n",
        "                            GovernmentResponseIndex = quantile(data$GovernmentResponseIndex,\r\n",
        "                                                               probs = seq(0.00, 1, 0.1)),\r\n",
        "                            all.effects )\r\n",
        "# names(doseResponses)[4] <- \"mean_diff_perc_stay_at_home\"\r\n",
        "# doseResponses$lowerCL <- with(doseResponses, mean_diff_perc_stay_at_home - 1.96*SE)\r\n",
        "# doseResponses$upperCL <- with(doseResponses, mean_diff_perc_stay_at_home + 1.96*SE)"
      ],
      "execution_count": null,
      "outputs": []
    },
    {
      "cell_type": "code",
      "metadata": {
        "colab": {
          "base_uri": "https://localhost:8080/"
        },
        "id": "imbtzVVEQK2s",
        "outputId": "6e04b177-87cc-4cb4-fb1d-3995adb0ea95"
      },
      "source": [
        "%%R\r\n",
        "doseResponses"
      ],
      "execution_count": null,
      "outputs": [
        {
          "output_type": "stream",
          "text": [
            "     percentile GovernmentResponseIndex X0.00996308829104974\n",
            "0%            0                55.30871          0.009963088\n",
            "10%          10                62.55806          0.013795090\n",
            "20%          20                65.02290          0.018672620\n",
            "30%          30                65.57452          0.020012583\n",
            "40%          40                66.53452          0.022561233\n",
            "50%          50                67.63661          0.025826412\n",
            "60%          60                69.13484          0.030846820\n",
            "70%          70                70.27032          0.035098176\n",
            "80%          80                72.97645          0.046782189\n",
            "90%          90                74.93065          0.056579258\n",
            "100%        100                81.29097          0.096360795\n"
          ],
          "name": "stdout"
        }
      ]
    },
    {
      "cell_type": "code",
      "metadata": {
        "id": "12d73GMASHUc"
      },
      "source": [
        ""
      ],
      "execution_count": null,
      "outputs": []
    }
  ]
}