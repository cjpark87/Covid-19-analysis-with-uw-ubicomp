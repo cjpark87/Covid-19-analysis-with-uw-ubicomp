{
  "nbformat": 4,
  "nbformat_minor": 0,
  "metadata": {
    "colab": {
      "name": "continuous_treatment_effect.ipynb",
      "provenance": [],
      "mount_file_id": "1fpLYd3VYZP3gu0K4FNP-TBkbsr3dnGk5",
      "authorship_tag": "ABX9TyONDKdg5u/gvR2LNDhlr9Rl",
      "include_colab_link": true
    },
    "kernelspec": {
      "name": "python3",
      "display_name": "Python 3"
    }
  },
  "cells": [
    {
      "cell_type": "markdown",
      "metadata": {
        "id": "view-in-github",
        "colab_type": "text"
      },
      "source": [
        "<a href=\"https://colab.research.google.com/github/wenjunsun/Covid-19-analysis-with-uw-ubicomp/blob/master/2020-12/continuous_treatment_effect.ipynb\" target=\"_parent\"><img src=\"https://colab.research.google.com/assets/colab-badge.svg\" alt=\"Open In Colab\"/></a>"
      ]
    },
    {
      "cell_type": "markdown",
      "metadata": {
        "id": "PvIFY9gxfzvJ"
      },
      "source": [
        "In this notebook we will investigate one question: **Does higher policy score lead to higher behavioral change in a county?**"
      ]
    },
    {
      "cell_type": "markdown",
      "metadata": {
        "id": "eQro_J2dKnFg"
      },
      "source": [
        "# load R + python packages"
      ]
    },
    {
      "cell_type": "code",
      "metadata": {
        "colab": {
          "base_uri": "https://localhost:8080/"
        },
        "id": "BGMwWH8x2iJ4",
        "outputId": "0584c73d-6698-4d25-f331-1c93e86c5e0b"
      },
      "source": [
        "cd drive/MyDrive/covid/PSM/data"
      ],
      "execution_count": 1,
      "outputs": [
        {
          "output_type": "stream",
          "text": [
            "/content/drive/MyDrive/covid/PSM/data\n"
          ],
          "name": "stdout"
        }
      ]
    },
    {
      "cell_type": "code",
      "metadata": {
        "colab": {
          "base_uri": "https://localhost:8080/"
        },
        "id": "catL8gnF_yAY",
        "outputId": "9e9dfb5b-31b9-4699-ffeb-15353baaa7c9"
      },
      "source": [
        "ls"
      ],
      "execution_count": 2,
      "outputs": [
        {
          "output_type": "stream",
          "text": [
            "agg_social_dist_2.csv\n",
            "agg_social_dist.csv\n",
            "avg_google_mobility_up_to_6_1.csv\n",
            "avg_google_mobility_up_to_6_1_weekdays.csv\n",
            "county_data_with_reduced_covariates_with_SIP.csv\n",
            "data_with_policy_scores.csv\n",
            "final_data_google_and_safe_graph_up_to_6_1.csv\n",
            "final_data_google_and_safe_graph_up_to_6_1_weekdays.csv\n",
            "final_policy_scores.csv\n",
            "google_mobility.csv\n",
            "policy_scores.csv\n",
            "social_dist_aggregated_on_county.csv\n"
          ],
          "name": "stdout"
        }
      ]
    },
    {
      "cell_type": "code",
      "metadata": {
        "id": "jsolmGRW_ycU"
      },
      "source": [
        "import pandas as pd\r\n",
        "import numpy as np\r\n",
        "import matplotlib.pyplot as plt"
      ],
      "execution_count": 3,
      "outputs": []
    },
    {
      "cell_type": "code",
      "metadata": {
        "id": "YqnNrzRKJH2X",
        "colab": {
          "base_uri": "https://localhost:8080/"
        },
        "outputId": "6f912c22-a917-4c03-d8dc-bbdacf04b991"
      },
      "source": [
        "%load_ext rpy2.ipython\r\n",
        "# For (automatic) translation of Pandas objects to R\r\n",
        "from rpy2.robjects import pandas2ri\r\n",
        "pandas2ri.activate()"
      ],
      "execution_count": 4,
      "outputs": [
        {
          "output_type": "stream",
          "text": [
            "/usr/local/lib/python3.6/dist-packages/rpy2/robjects/pandas2ri.py:14: FutureWarning: pandas.core.index is deprecated and will be removed in a future version.  The public classes are available in the top-level namespace.\n",
            "  from pandas.core.index import Index as PandasIndex\n",
            "/usr/local/lib/python3.6/dist-packages/rpy2/robjects/pandas2ri.py:34: UserWarning: pandas >= 1.0 is not supported.\n",
            "  warnings.warn('pandas >= 1.0 is not supported.')\n"
          ],
          "name": "stderr"
        }
      ]
    },
    {
      "cell_type": "code",
      "metadata": {
        "id": "tXVb-PbKKr8I"
      },
      "source": [
        "%%R\r\n",
        "install.packages('stats')\r\n",
        "install.packages('survey')"
      ],
      "execution_count": null,
      "outputs": []
    },
    {
      "cell_type": "code",
      "metadata": {
        "id": "2qLqhYjJK6r-"
      },
      "source": [
        "%%R\r\n",
        "library('stats')\r\n",
        "library('survey')"
      ],
      "execution_count": null,
      "outputs": []
    },
    {
      "cell_type": "markdown",
      "metadata": {
        "id": "tKIr5-RAKqgl"
      },
      "source": [
        "# load data"
      ]
    },
    {
      "cell_type": "code",
      "metadata": {
        "id": "RWcPnPr9_17k"
      },
      "source": [
        "data = pd.read_csv('data_with_policy_scores.csv')"
      ],
      "execution_count": 7,
      "outputs": []
    },
    {
      "cell_type": "code",
      "metadata": {
        "colab": {
          "base_uri": "https://localhost:8080/",
          "height": 711
        },
        "id": "gzleSc9O_5RY",
        "outputId": "21aea371-8730-4388-de84-662f64cd9282"
      },
      "source": [
        "data"
      ],
      "execution_count": 8,
      "outputs": [
        {
          "output_type": "execute_result",
          "data": {
            "text/html": [
              "<div>\n",
              "<style scoped>\n",
              "    .dataframe tbody tr th:only-of-type {\n",
              "        vertical-align: middle;\n",
              "    }\n",
              "\n",
              "    .dataframe tbody tr th {\n",
              "        vertical-align: top;\n",
              "    }\n",
              "\n",
              "    .dataframe thead th {\n",
              "        text-align: right;\n",
              "    }\n",
              "</style>\n",
              "<table border=\"1\" class=\"dataframe\">\n",
              "  <thead>\n",
              "    <tr style=\"text-align: right;\">\n",
              "      <th></th>\n",
              "      <th>state</th>\n",
              "      <th>state_code</th>\n",
              "      <th>State Name</th>\n",
              "      <th>cnamelong</th>\n",
              "      <th>county_code</th>\n",
              "      <th>diff_in_perc_at_home</th>\n",
              "      <th>SIP?</th>\n",
              "      <th>Median Household Income</th>\n",
              "      <th>% Rural</th>\n",
              "      <th>Population_y</th>\n",
              "      <th>political_diff</th>\n",
              "      <th>% less than 18 years of age</th>\n",
              "      <th>% 65 and over</th>\n",
              "      <th>% Asian</th>\n",
              "      <th>% Black</th>\n",
              "      <th>% Hispanic</th>\n",
              "      <th>% Non-Hispanic White</th>\n",
              "      <th>GovernmentResponseIndex</th>\n",
              "    </tr>\n",
              "  </thead>\n",
              "  <tbody>\n",
              "    <tr>\n",
              "      <th>0</th>\n",
              "      <td>1.0</td>\n",
              "      <td>AL</td>\n",
              "      <td>Alabama</td>\n",
              "      <td>Autauga County</td>\n",
              "      <td>1001.0</td>\n",
              "      <td>0.050678</td>\n",
              "      <td>1</td>\n",
              "      <td>59338.0</td>\n",
              "      <td>42.0</td>\n",
              "      <td>55601</td>\n",
              "      <td>-0.494789</td>\n",
              "      <td>23.7</td>\n",
              "      <td>15.6</td>\n",
              "      <td>1.2</td>\n",
              "      <td>19.3</td>\n",
              "      <td>3.0</td>\n",
              "      <td>74.3</td>\n",
              "      <td>69.134839</td>\n",
              "    </tr>\n",
              "    <tr>\n",
              "      <th>1</th>\n",
              "      <td>1.0</td>\n",
              "      <td>AL</td>\n",
              "      <td>Alabama</td>\n",
              "      <td>Baldwin County</td>\n",
              "      <td>1003.0</td>\n",
              "      <td>0.050312</td>\n",
              "      <td>1</td>\n",
              "      <td>57588.0</td>\n",
              "      <td>42.3</td>\n",
              "      <td>218022</td>\n",
              "      <td>-0.577862</td>\n",
              "      <td>21.6</td>\n",
              "      <td>20.4</td>\n",
              "      <td>1.2</td>\n",
              "      <td>8.8</td>\n",
              "      <td>4.6</td>\n",
              "      <td>83.1</td>\n",
              "      <td>69.134839</td>\n",
              "    </tr>\n",
              "    <tr>\n",
              "      <th>2</th>\n",
              "      <td>1.0</td>\n",
              "      <td>AL</td>\n",
              "      <td>Alabama</td>\n",
              "      <td>Barbour County</td>\n",
              "      <td>1005.0</td>\n",
              "      <td>0.007037</td>\n",
              "      <td>1</td>\n",
              "      <td>34382.0</td>\n",
              "      <td>67.8</td>\n",
              "      <td>24881</td>\n",
              "      <td>-0.056112</td>\n",
              "      <td>20.9</td>\n",
              "      <td>19.4</td>\n",
              "      <td>0.5</td>\n",
              "      <td>48.0</td>\n",
              "      <td>4.3</td>\n",
              "      <td>45.6</td>\n",
              "      <td>69.134839</td>\n",
              "    </tr>\n",
              "    <tr>\n",
              "      <th>3</th>\n",
              "      <td>1.0</td>\n",
              "      <td>AL</td>\n",
              "      <td>Alabama</td>\n",
              "      <td>Bibb County</td>\n",
              "      <td>1007.0</td>\n",
              "      <td>0.011809</td>\n",
              "      <td>1</td>\n",
              "      <td>46064.0</td>\n",
              "      <td>68.4</td>\n",
              "      <td>22400</td>\n",
              "      <td>-0.555441</td>\n",
              "      <td>20.5</td>\n",
              "      <td>16.5</td>\n",
              "      <td>0.2</td>\n",
              "      <td>21.1</td>\n",
              "      <td>2.6</td>\n",
              "      <td>74.6</td>\n",
              "      <td>69.134839</td>\n",
              "    </tr>\n",
              "    <tr>\n",
              "      <th>4</th>\n",
              "      <td>1.0</td>\n",
              "      <td>AL</td>\n",
              "      <td>Alabama</td>\n",
              "      <td>Blount County</td>\n",
              "      <td>1009.0</td>\n",
              "      <td>0.038890</td>\n",
              "      <td>1</td>\n",
              "      <td>50412.0</td>\n",
              "      <td>90.0</td>\n",
              "      <td>57840</td>\n",
              "      <td>-0.813820</td>\n",
              "      <td>23.2</td>\n",
              "      <td>18.2</td>\n",
              "      <td>0.3</td>\n",
              "      <td>1.5</td>\n",
              "      <td>9.6</td>\n",
              "      <td>86.9</td>\n",
              "      <td>69.134839</td>\n",
              "    </tr>\n",
              "    <tr>\n",
              "      <th>...</th>\n",
              "      <td>...</td>\n",
              "      <td>...</td>\n",
              "      <td>...</td>\n",
              "      <td>...</td>\n",
              "      <td>...</td>\n",
              "      <td>...</td>\n",
              "      <td>...</td>\n",
              "      <td>...</td>\n",
              "      <td>...</td>\n",
              "      <td>...</td>\n",
              "      <td>...</td>\n",
              "      <td>...</td>\n",
              "      <td>...</td>\n",
              "      <td>...</td>\n",
              "      <td>...</td>\n",
              "      <td>...</td>\n",
              "      <td>...</td>\n",
              "      <td>...</td>\n",
              "    </tr>\n",
              "    <tr>\n",
              "      <th>2990</th>\n",
              "      <td>56.0</td>\n",
              "      <td>WY</td>\n",
              "      <td>Wyoming</td>\n",
              "      <td>Sweetwater County</td>\n",
              "      <td>56037.0</td>\n",
              "      <td>-0.018485</td>\n",
              "      <td>0</td>\n",
              "      <td>73315.0</td>\n",
              "      <td>10.9</td>\n",
              "      <td>43051</td>\n",
              "      <td>-0.535382</td>\n",
              "      <td>26.2</td>\n",
              "      <td>12.1</td>\n",
              "      <td>1.0</td>\n",
              "      <td>1.1</td>\n",
              "      <td>16.1</td>\n",
              "      <td>79.3</td>\n",
              "      <td>66.658226</td>\n",
              "    </tr>\n",
              "    <tr>\n",
              "      <th>2991</th>\n",
              "      <td>56.0</td>\n",
              "      <td>WY</td>\n",
              "      <td>Wyoming</td>\n",
              "      <td>Teton County</td>\n",
              "      <td>56039.0</td>\n",
              "      <td>0.075183</td>\n",
              "      <td>1</td>\n",
              "      <td>99087.0</td>\n",
              "      <td>46.4</td>\n",
              "      <td>23081</td>\n",
              "      <td>0.278663</td>\n",
              "      <td>18.4</td>\n",
              "      <td>15.4</td>\n",
              "      <td>1.4</td>\n",
              "      <td>0.6</td>\n",
              "      <td>14.9</td>\n",
              "      <td>81.5</td>\n",
              "      <td>66.658226</td>\n",
              "    </tr>\n",
              "    <tr>\n",
              "      <th>2992</th>\n",
              "      <td>56.0</td>\n",
              "      <td>WY</td>\n",
              "      <td>Wyoming</td>\n",
              "      <td>Uinta County</td>\n",
              "      <td>56041.0</td>\n",
              "      <td>0.010157</td>\n",
              "      <td>0</td>\n",
              "      <td>63401.0</td>\n",
              "      <td>43.1</td>\n",
              "      <td>20299</td>\n",
              "      <td>-0.614926</td>\n",
              "      <td>28.8</td>\n",
              "      <td>14.1</td>\n",
              "      <td>0.5</td>\n",
              "      <td>0.7</td>\n",
              "      <td>9.2</td>\n",
              "      <td>87.4</td>\n",
              "      <td>66.658226</td>\n",
              "    </tr>\n",
              "    <tr>\n",
              "      <th>2993</th>\n",
              "      <td>56.0</td>\n",
              "      <td>WY</td>\n",
              "      <td>Wyoming</td>\n",
              "      <td>Washakie County</td>\n",
              "      <td>56043.0</td>\n",
              "      <td>-0.007825</td>\n",
              "      <td>0</td>\n",
              "      <td>55190.0</td>\n",
              "      <td>36.0</td>\n",
              "      <td>7885</td>\n",
              "      <td>-0.640377</td>\n",
              "      <td>22.7</td>\n",
              "      <td>21.7</td>\n",
              "      <td>0.8</td>\n",
              "      <td>0.5</td>\n",
              "      <td>14.1</td>\n",
              "      <td>82.4</td>\n",
              "      <td>66.658226</td>\n",
              "    </tr>\n",
              "    <tr>\n",
              "      <th>2994</th>\n",
              "      <td>56.0</td>\n",
              "      <td>WY</td>\n",
              "      <td>Wyoming</td>\n",
              "      <td>Weston County</td>\n",
              "      <td>56045.0</td>\n",
              "      <td>-0.003361</td>\n",
              "      <td>0</td>\n",
              "      <td>54319.0</td>\n",
              "      <td>54.5</td>\n",
              "      <td>6967</td>\n",
              "      <td>-0.781044</td>\n",
              "      <td>20.8</td>\n",
              "      <td>20.5</td>\n",
              "      <td>1.9</td>\n",
              "      <td>0.6</td>\n",
              "      <td>4.1</td>\n",
              "      <td>90.0</td>\n",
              "      <td>66.658226</td>\n",
              "    </tr>\n",
              "  </tbody>\n",
              "</table>\n",
              "<p>2995 rows × 18 columns</p>\n",
              "</div>"
            ],
            "text/plain": [
              "      state state_code  ... % Non-Hispanic White GovernmentResponseIndex\n",
              "0       1.0         AL  ...                 74.3               69.134839\n",
              "1       1.0         AL  ...                 83.1               69.134839\n",
              "2       1.0         AL  ...                 45.6               69.134839\n",
              "3       1.0         AL  ...                 74.6               69.134839\n",
              "4       1.0         AL  ...                 86.9               69.134839\n",
              "...     ...        ...  ...                  ...                     ...\n",
              "2990   56.0         WY  ...                 79.3               66.658226\n",
              "2991   56.0         WY  ...                 81.5               66.658226\n",
              "2992   56.0         WY  ...                 87.4               66.658226\n",
              "2993   56.0         WY  ...                 82.4               66.658226\n",
              "2994   56.0         WY  ...                 90.0               66.658226\n",
              "\n",
              "[2995 rows x 18 columns]"
            ]
          },
          "metadata": {
            "tags": []
          },
          "execution_count": 8
        }
      ]
    },
    {
      "cell_type": "code",
      "metadata": {
        "colab": {
          "base_uri": "https://localhost:8080/",
          "height": 296
        },
        "id": "A-n2IGxbAWgq",
        "outputId": "d6ff7bc5-8e33-40e9-fc20-eaad204be820"
      },
      "source": [
        "# let's see the distribution of government response scores\r\n",
        "data['GovernmentResponseIndex'].hist(bins = 20)\r\n",
        "plt.xlabel('Avg Government Response Index from 4-1 to 6-1')\r\n",
        "plt.ylabel('# of counties')"
      ],
      "execution_count": 9,
      "outputs": [
        {
          "output_type": "execute_result",
          "data": {
            "text/plain": [
              "Text(0, 0.5, '# of counties')"
            ]
          },
          "metadata": {
            "tags": []
          },
          "execution_count": 9
        },
        {
          "output_type": "display_data",
          "data": {
            "image/png": "[encoded data removed]",
            "text/plain": [
              "<Figure size 432x288 with 1 Axes>"
            ]
          },
          "metadata": {
            "tags": [],
            "needs_background": "light"
          }
        }
      ]
    },
    {
      "cell_type": "markdown",
      "metadata": {
        "id": "-0O-Yk16fTBs"
      },
      "source": [
        "As we can see from the histrogram above. The distribution of treatment (government response index) is pretty much normally distributed, so we don't need to do a log transformation or some other transformation."
      ]
    },
    {
      "cell_type": "code",
      "metadata": {
        "id": "HrLq7axSKCkt"
      },
      "source": [
        "data = data.dropna()"
      ],
      "execution_count": 10,
      "outputs": []
    },
    {
      "cell_type": "code",
      "metadata": {
        "colab": {
          "base_uri": "https://localhost:8080/"
        },
        "id": "3fZHTPnPfE9L",
        "outputId": "7e3a8aa7-2c0f-454b-d7ca-d47325dc9dbc"
      },
      "source": [
        "data.shape"
      ],
      "execution_count": 11,
      "outputs": [
        {
          "output_type": "execute_result",
          "data": {
            "text/plain": [
              "(2994, 18)"
            ]
          },
          "metadata": {
            "tags": []
          },
          "execution_count": 11
        }
      ]
    },
    {
      "cell_type": "markdown",
      "metadata": {
        "id": "eyXLcNOvHJwY"
      },
      "source": [
        "# 1. calculate genearlized propensity score of each row"
      ]
    },
    {
      "cell_type": "markdown",
      "metadata": {
        "id": "rv1ptdMGIxv3"
      },
      "source": [
        "Caveat: does covariate of a county really predicts its dosage? covariate is property of a county but dosage is at the state level."
      ]
    },
    {
      "cell_type": "markdown",
      "metadata": {
        "id": "LKo2cVLrhgoq"
      },
      "source": [
        "generalized propensity score is of course the generalization of our original definition of propensisty score.\r\n",
        "\r\n",
        "remember the original definition of propensisty score is the Probability of a unit receiving the treatment given its covariates.\r\n",
        "\r\n",
        "However, now we have not just one treatment but an infinite amount of treatments. So instead of having a Bernoulli distribution of treatment given covariates, we have a continuous distribution of treatments. Therefore our GPS is defined to be the **probability densisty** of taking the treatment value it received given the covariates.\r\n",
        "\r\n",
        "For simplicity, let's assume the conditional distribution of treatment value given the covariate is gaussian, and the mean of gaussian linearly varies with the covariates (basically a generalized linear model)."
      ]
    },
    {
      "cell_type": "code",
      "metadata": {
        "colab": {
          "base_uri": "https://localhost:8080/"
        },
        "id": "MNtcDAWWJB7x",
        "outputId": "21d5831a-cad9-4a45-c976-f52f0501e9c7"
      },
      "source": [
        "%%R -i data\r\n",
        "head(data)"
      ],
      "execution_count": 12,
      "outputs": [
        {
          "output_type": "stream",
          "text": [
            "  state state_code State.Name      cnamelong county_code diff_in_perc_at_home\n",
            "0     1         AL    Alabama Autauga County        1001          0.050678282\n",
            "1     1         AL    Alabama Baldwin County        1003          0.050311979\n",
            "2     1         AL    Alabama Barbour County        1005          0.007036924\n",
            "3     1         AL    Alabama    Bibb County        1007          0.011808926\n",
            "4     1         AL    Alabama  Blount County        1009          0.038890321\n",
            "5     1         AL    Alabama Bullock County        1011         -0.009576347\n",
            "  SIP. Median.Household.Income X..Rural Population_y political_diff\n",
            "0    1                   59338     42.0        55601    -0.49478934\n",
            "1    1                   57588     42.3       218022    -0.57786162\n",
            "2    1                   34382     67.8        24881    -0.05611165\n",
            "3    1                   46064     68.4        22400    -0.55544124\n",
            "4    1                   50412     90.0        57840    -0.81381973\n",
            "5    1                   29267     51.4        10138     0.50861519\n",
            "  X..less.than.18.years.of.age X..65.and.over X..Asian X..Black X..Hispanic\n",
            "0                         23.7           15.6      1.2     19.3         3.0\n",
            "1                         21.6           20.4      1.2      8.8         4.6\n",
            "2                         20.9           19.4      0.5     48.0         4.3\n",
            "3                         20.5           16.5      0.2     21.1         2.6\n",
            "4                         23.2           18.2      0.3      1.5         9.6\n",
            "5                         21.1           16.4      0.2     69.5         8.0\n",
            "  X..Non.Hispanic.White GovernmentResponseIndex\n",
            "0                  74.3                69.13484\n",
            "1                  83.1                69.13484\n",
            "2                  45.6                69.13484\n",
            "3                  74.6                69.13484\n",
            "4                  86.9                69.13484\n",
            "5                  21.2                69.13484\n"
          ],
          "name": "stdout"
        }
      ]
    },
    {
      "cell_type": "code",
      "metadata": {
        "id": "xvl53v0BIEVp"
      },
      "source": [
        "%%R\r\n",
        "dosage_formula <- formula('GovernmentResponseIndex~Median.Household.Income+X..Rural+Population_y+political_diff+X..less.than.18.years.of.age+X..65.and.over+X..Asian+X..Black+X..Hispanic+X..Non.Hispanic.White')"
      ],
      "execution_count": 13,
      "outputs": []
    },
    {
      "cell_type": "code",
      "metadata": {
        "id": "XhPdA7DFKbtf"
      },
      "source": [
        "%%R\r\n",
        "# linear model of dosage/treatment/policy score based on covariates (median household income, etc)\r\n",
        "dosage_model <- lm(formula = dosage_formula, data = data)"
      ],
      "execution_count": 14,
      "outputs": []
    },
    {
      "cell_type": "code",
      "metadata": {
        "colab": {
          "base_uri": "https://localhost:8080/"
        },
        "id": "FcPf5doplJN8",
        "outputId": "62992e06-1a6d-45d0-b443-c5719e538b62"
      },
      "source": [
        "%%R\r\n",
        "min(dosage_model$fitted)"
      ],
      "execution_count": 15,
      "outputs": [
        {
          "output_type": "stream",
          "text": [
            "[1] 60.42916\n"
          ],
          "name": "stdout"
        }
      ]
    },
    {
      "cell_type": "code",
      "metadata": {
        "colab": {
          "base_uri": "https://localhost:8080/"
        },
        "id": "D1-FQFqvl5b0",
        "outputId": "5e9ff8e5-2aef-4550-ba04-4846c63940e7"
      },
      "source": [
        "%%R\r\n",
        "max(dosage_model$fitted)"
      ],
      "execution_count": 16,
      "outputs": [
        {
          "output_type": "stream",
          "text": [
            "[1] 78.41486\n"
          ],
          "name": "stdout"
        }
      ]
    },
    {
      "cell_type": "markdown",
      "metadata": {
        "id": "wbq6k7ptmL6a"
      },
      "source": [
        "An important assumption in the calculation below is that we assume the **the standard deviation of the conditional distribution of treatments given covariates is the same as the unconditional distribution of treatments + all conditional distribution has the same standard deviation**"
      ]
    },
    {
      "cell_type": "code",
      "metadata": {
        "id": "folm0fpzLjbw"
      },
      "source": [
        "%%R\r\n",
        "# calculate generalized propensity score of each row based\r\n",
        "# off the conditional gaussian densisty\r\n",
        "# dnorm calculates for density of normal distribution given\r\n",
        "# x, mean of gaussian, standard devication of gaussian.\r\n",
        "data$GPS = dnorm(data$GovernmentResponseIndex, mean = dosage_model$fitted,\r\n",
        "                 sd = sd(data$GovernmentResponseIndex)) "
      ],
      "execution_count": 17,
      "outputs": []
    },
    {
      "cell_type": "code",
      "metadata": {
        "colab": {
          "base_uri": "https://localhost:8080/"
        },
        "id": "8-_heNlPL2i0",
        "outputId": "d46390a7-a1e2-4920-a02d-0df5ef8721f2"
      },
      "source": [
        "%%R\r\n",
        "head(data)"
      ],
      "execution_count": 18,
      "outputs": [
        {
          "output_type": "stream",
          "text": [
            "  state state_code State.Name      cnamelong county_code diff_in_perc_at_home\n",
            "0     1         AL    Alabama Autauga County        1001          0.050678282\n",
            "1     1         AL    Alabama Baldwin County        1003          0.050311979\n",
            "2     1         AL    Alabama Barbour County        1005          0.007036924\n",
            "3     1         AL    Alabama    Bibb County        1007          0.011808926\n",
            "4     1         AL    Alabama  Blount County        1009          0.038890321\n",
            "5     1         AL    Alabama Bullock County        1011         -0.009576347\n",
            "  SIP. Median.Household.Income X..Rural Population_y political_diff\n",
            "0    1                   59338     42.0        55601    -0.49478934\n",
            "1    1                   57588     42.3       218022    -0.57786162\n",
            "2    1                   34382     67.8        24881    -0.05611165\n",
            "3    1                   46064     68.4        22400    -0.55544124\n",
            "4    1                   50412     90.0        57840    -0.81381973\n",
            "5    1                   29267     51.4        10138     0.50861519\n",
            "  X..less.than.18.years.of.age X..65.and.over X..Asian X..Black X..Hispanic\n",
            "0                         23.7           15.6      1.2     19.3         3.0\n",
            "1                         21.6           20.4      1.2      8.8         4.6\n",
            "2                         20.9           19.4      0.5     48.0         4.3\n",
            "3                         20.5           16.5      0.2     21.1         2.6\n",
            "4                         23.2           18.2      0.3      1.5         9.6\n",
            "5                         21.1           16.4      0.2     69.5         8.0\n",
            "  X..Non.Hispanic.White GovernmentResponseIndex        GPS\n",
            "0                  74.3                69.13484 0.07162899\n",
            "1                  83.1                69.13484 0.07205904\n",
            "2                  45.6                69.13484 0.07446314\n",
            "3                  74.6                69.13484 0.07439824\n",
            "4                  86.9                69.13484 0.06848431\n",
            "5                  21.2                69.13484 0.07353232\n"
          ],
          "name": "stdout"
        }
      ]
    },
    {
      "cell_type": "code",
      "metadata": {
        "colab": {
          "base_uri": "https://localhost:8080/"
        },
        "id": "59mAeCL5mpDN",
        "outputId": "3df1bc4e-3883-444e-96a3-789599858da4"
      },
      "source": [
        "%%R\r\n",
        "max(data$GPS)"
      ],
      "execution_count": 19,
      "outputs": [
        {
          "output_type": "stream",
          "text": [
            "[1] 0.07492357\n"
          ],
          "name": "stdout"
        }
      ]
    },
    {
      "cell_type": "code",
      "metadata": {
        "colab": {
          "base_uri": "https://localhost:8080/"
        },
        "id": "nqBcSlaJm08g",
        "outputId": "fda21407-cfdc-4c46-fb3a-b0dcf96ddfb1"
      },
      "source": [
        "%%R\r\n",
        "min(data$GPS)"
      ],
      "execution_count": 20,
      "outputs": [
        {
          "output_type": "stream",
          "text": [
            "[1] 0.0003348365\n"
          ],
          "name": "stdout"
        }
      ]
    },
    {
      "cell_type": "markdown",
      "metadata": {
        "id": "hbp3lAszm3Yh"
      },
      "source": [
        "First time I looked at the min and max GPS of all the rows I was surprised: the maximum GPS is only `0.07`, does that mean our GPS model is terrible? - max probability of a row receiving treatment is only `0.07`. Then I thought about that GPS means probability density and not probability, so I think we are good?"
      ]
    },
    {
      "cell_type": "code",
      "metadata": {
        "colab": {
          "base_uri": "https://localhost:8080/"
        },
        "id": "oStOMkhlobPG",
        "outputId": "e5d005e6-8737-4804-aa87-585a06fd315d"
      },
      "source": [
        "%%R\r\n",
        "dnorm(0, mean = 0, sd = sd(data$GovernmentResponseIndex))"
      ],
      "execution_count": 21,
      "outputs": [
        {
          "output_type": "stream",
          "text": [
            "[1] 0.07492357\n"
          ],
          "name": "stdout"
        }
      ]
    },
    {
      "cell_type": "markdown",
      "metadata": {
        "id": "oO4vUtufHQ2X"
      },
      "source": [
        "# 2. check covaraite balance"
      ]
    },
    {
      "cell_type": "markdown",
      "metadata": {
        "id": "8paS1Gxx4Dlt"
      },
      "source": [
        "This is a part that I am quite confused about. First off, what does `standard effect size` really mean? When we were doing treatment effect size for a `0` and `1` treatment, we have some R libraries to do the calculation for us, so I didn't know what is going on. Now in this case for continuous treatment effect, we don't have a library that can calculate the covariate balance for us because it is a relatively new area of research.\r\n",
        "\r\n",
        "The book **Practical Propensisty Score Methods Using R (Chapter 7)** proposes that we use standardized linear regression to assess whether we have good covariate balance after we calculated the GPS socres for each row.\r\n",
        "\r\n",
        "The idea is as follows (or at least the way I understand it). We first stratify the GPS into a couple of stratas (4 or 5?) and then we fit linear regression for each covariate within each strata, and get the standardized coefficient of the covariate within each regression model. The covariate balance is achieved if the coeffciient doesn't change as much from one strata to another, and that each strata has relatively low coefficient in terms of absolute value (`< 0.1`)\r\n",
        "\r\n",
        "Based on this interpretation, I will first create stratas for GPS variable, and select dataframes of each strata, pass those into R to do standardize linear regression (as python linear regression only supports normalization)"
      ]
    },
    {
      "cell_type": "code",
      "metadata": {
        "id": "UFsxzdb3t5Fz"
      },
      "source": [
        "data_GPS = %R data"
      ],
      "execution_count": 22,
      "outputs": []
    },
    {
      "cell_type": "code",
      "metadata": {
        "colab": {
          "base_uri": "https://localhost:8080/",
          "height": 309
        },
        "id": "imuJpTaMt9Rs",
        "outputId": "5cd776e1-9425-491b-efdd-054c7442a59e"
      },
      "source": [
        "data_GPS.head()"
      ],
      "execution_count": 23,
      "outputs": [
        {
          "output_type": "execute_result",
          "data": {
            "text/html": [
              "<div>\n",
              "<style scoped>\n",
              "    .dataframe tbody tr th:only-of-type {\n",
              "        vertical-align: middle;\n",
              "    }\n",
              "\n",
              "    .dataframe tbody tr th {\n",
              "        vertical-align: top;\n",
              "    }\n",
              "\n",
              "    .dataframe thead th {\n",
              "        text-align: right;\n",
              "    }\n",
              "</style>\n",
              "<table border=\"1\" class=\"dataframe\">\n",
              "  <thead>\n",
              "    <tr style=\"text-align: right;\">\n",
              "      <th></th>\n",
              "      <th>state</th>\n",
              "      <th>state_code</th>\n",
              "      <th>State.Name</th>\n",
              "      <th>cnamelong</th>\n",
              "      <th>county_code</th>\n",
              "      <th>diff_in_perc_at_home</th>\n",
              "      <th>SIP.</th>\n",
              "      <th>Median.Household.Income</th>\n",
              "      <th>X..Rural</th>\n",
              "      <th>Population_y</th>\n",
              "      <th>political_diff</th>\n",
              "      <th>X..less.than.18.years.of.age</th>\n",
              "      <th>X..65.and.over</th>\n",
              "      <th>X..Asian</th>\n",
              "      <th>X..Black</th>\n",
              "      <th>X..Hispanic</th>\n",
              "      <th>X..Non.Hispanic.White</th>\n",
              "      <th>GovernmentResponseIndex</th>\n",
              "      <th>GPS</th>\n",
              "    </tr>\n",
              "  </thead>\n",
              "  <tbody>\n",
              "    <tr>\n",
              "      <th>0</th>\n",
              "      <td>1.0</td>\n",
              "      <td>AL</td>\n",
              "      <td>Alabama</td>\n",
              "      <td>Autauga County</td>\n",
              "      <td>1001.0</td>\n",
              "      <td>0.050678</td>\n",
              "      <td>1</td>\n",
              "      <td>59338.0</td>\n",
              "      <td>42.0</td>\n",
              "      <td>55601</td>\n",
              "      <td>-0.494789</td>\n",
              "      <td>23.7</td>\n",
              "      <td>15.6</td>\n",
              "      <td>1.2</td>\n",
              "      <td>19.3</td>\n",
              "      <td>3.0</td>\n",
              "      <td>74.3</td>\n",
              "      <td>69.134839</td>\n",
              "      <td>0.071629</td>\n",
              "    </tr>\n",
              "    <tr>\n",
              "      <th>1</th>\n",
              "      <td>1.0</td>\n",
              "      <td>AL</td>\n",
              "      <td>Alabama</td>\n",
              "      <td>Baldwin County</td>\n",
              "      <td>1003.0</td>\n",
              "      <td>0.050312</td>\n",
              "      <td>1</td>\n",
              "      <td>57588.0</td>\n",
              "      <td>42.3</td>\n",
              "      <td>218022</td>\n",
              "      <td>-0.577862</td>\n",
              "      <td>21.6</td>\n",
              "      <td>20.4</td>\n",
              "      <td>1.2</td>\n",
              "      <td>8.8</td>\n",
              "      <td>4.6</td>\n",
              "      <td>83.1</td>\n",
              "      <td>69.134839</td>\n",
              "      <td>0.072059</td>\n",
              "    </tr>\n",
              "    <tr>\n",
              "      <th>2</th>\n",
              "      <td>1.0</td>\n",
              "      <td>AL</td>\n",
              "      <td>Alabama</td>\n",
              "      <td>Barbour County</td>\n",
              "      <td>1005.0</td>\n",
              "      <td>0.007037</td>\n",
              "      <td>1</td>\n",
              "      <td>34382.0</td>\n",
              "      <td>67.8</td>\n",
              "      <td>24881</td>\n",
              "      <td>-0.056112</td>\n",
              "      <td>20.9</td>\n",
              "      <td>19.4</td>\n",
              "      <td>0.5</td>\n",
              "      <td>48.0</td>\n",
              "      <td>4.3</td>\n",
              "      <td>45.6</td>\n",
              "      <td>69.134839</td>\n",
              "      <td>0.074463</td>\n",
              "    </tr>\n",
              "    <tr>\n",
              "      <th>3</th>\n",
              "      <td>1.0</td>\n",
              "      <td>AL</td>\n",
              "      <td>Alabama</td>\n",
              "      <td>Bibb County</td>\n",
              "      <td>1007.0</td>\n",
              "      <td>0.011809</td>\n",
              "      <td>1</td>\n",
              "      <td>46064.0</td>\n",
              "      <td>68.4</td>\n",
              "      <td>22400</td>\n",
              "      <td>-0.555441</td>\n",
              "      <td>20.5</td>\n",
              "      <td>16.5</td>\n",
              "      <td>0.2</td>\n",
              "      <td>21.1</td>\n",
              "      <td>2.6</td>\n",
              "      <td>74.6</td>\n",
              "      <td>69.134839</td>\n",
              "      <td>0.074398</td>\n",
              "    </tr>\n",
              "    <tr>\n",
              "      <th>4</th>\n",
              "      <td>1.0</td>\n",
              "      <td>AL</td>\n",
              "      <td>Alabama</td>\n",
              "      <td>Blount County</td>\n",
              "      <td>1009.0</td>\n",
              "      <td>0.038890</td>\n",
              "      <td>1</td>\n",
              "      <td>50412.0</td>\n",
              "      <td>90.0</td>\n",
              "      <td>57840</td>\n",
              "      <td>-0.813820</td>\n",
              "      <td>23.2</td>\n",
              "      <td>18.2</td>\n",
              "      <td>0.3</td>\n",
              "      <td>1.5</td>\n",
              "      <td>9.6</td>\n",
              "      <td>86.9</td>\n",
              "      <td>69.134839</td>\n",
              "      <td>0.068484</td>\n",
              "    </tr>\n",
              "  </tbody>\n",
              "</table>\n",
              "</div>"
            ],
            "text/plain": [
              "   state state_code  ... GovernmentResponseIndex       GPS\n",
              "0    1.0         AL  ...               69.134839  0.071629\n",
              "1    1.0         AL  ...               69.134839  0.072059\n",
              "2    1.0         AL  ...               69.134839  0.074463\n",
              "3    1.0         AL  ...               69.134839  0.074398\n",
              "4    1.0         AL  ...               69.134839  0.068484\n",
              "\n",
              "[5 rows x 19 columns]"
            ]
          },
          "metadata": {
            "tags": []
          },
          "execution_count": 23
        }
      ]
    },
    {
      "cell_type": "code",
      "metadata": {
        "id": "lnE608Et2FnT"
      },
      "source": [
        "# The following code creates unbalanced bins: GPS(0.06, 0.08) has 1777 data points\r\n",
        "# data_GPS['strata_GPS'] = pd.cut(data_GPS['GPS'], bins = [0, 0.02, 0.04, 0.06, 0.08],\r\n",
        "#                                 labels = ['strata_1', 'strata_2', 'strata_3', 'strata_4'])\r\n",
        "\r\n",
        "# use qcut to create even bins.\r\n",
        "data_GPS['strata_GPS'] = pd.qcut(data_GPS['GPS'], [0, .25, .5, .75, 1.],\r\n",
        "                                 labels=['strata_1', 'strata_2', 'strata_3', 'strata_4'])"
      ],
      "execution_count": 24,
      "outputs": []
    },
    {
      "cell_type": "code",
      "metadata": {
        "colab": {
          "base_uri": "https://localhost:8080/",
          "height": 309
        },
        "id": "mx8ocL40umSg",
        "outputId": "35f024d3-c4c6-4f6b-a5d3-05410d229695"
      },
      "source": [
        "data_GPS.head()"
      ],
      "execution_count": 25,
      "outputs": [
        {
          "output_type": "execute_result",
          "data": {
            "text/html": [
              "<div>\n",
              "<style scoped>\n",
              "    .dataframe tbody tr th:only-of-type {\n",
              "        vertical-align: middle;\n",
              "    }\n",
              "\n",
              "    .dataframe tbody tr th {\n",
              "        vertical-align: top;\n",
              "    }\n",
              "\n",
              "    .dataframe thead th {\n",
              "        text-align: right;\n",
              "    }\n",
              "</style>\n",
              "<table border=\"1\" class=\"dataframe\">\n",
              "  <thead>\n",
              "    <tr style=\"text-align: right;\">\n",
              "      <th></th>\n",
              "      <th>state</th>\n",
              "      <th>state_code</th>\n",
              "      <th>State.Name</th>\n",
              "      <th>cnamelong</th>\n",
              "      <th>county_code</th>\n",
              "      <th>diff_in_perc_at_home</th>\n",
              "      <th>SIP.</th>\n",
              "      <th>Median.Household.Income</th>\n",
              "      <th>X..Rural</th>\n",
              "      <th>Population_y</th>\n",
              "      <th>political_diff</th>\n",
              "      <th>X..less.than.18.years.of.age</th>\n",
              "      <th>X..65.and.over</th>\n",
              "      <th>X..Asian</th>\n",
              "      <th>X..Black</th>\n",
              "      <th>X..Hispanic</th>\n",
              "      <th>X..Non.Hispanic.White</th>\n",
              "      <th>GovernmentResponseIndex</th>\n",
              "      <th>GPS</th>\n",
              "      <th>strata_GPS</th>\n",
              "    </tr>\n",
              "  </thead>\n",
              "  <tbody>\n",
              "    <tr>\n",
              "      <th>0</th>\n",
              "      <td>1.0</td>\n",
              "      <td>AL</td>\n",
              "      <td>Alabama</td>\n",
              "      <td>Autauga County</td>\n",
              "      <td>1001.0</td>\n",
              "      <td>0.050678</td>\n",
              "      <td>1</td>\n",
              "      <td>59338.0</td>\n",
              "      <td>42.0</td>\n",
              "      <td>55601</td>\n",
              "      <td>-0.494789</td>\n",
              "      <td>23.7</td>\n",
              "      <td>15.6</td>\n",
              "      <td>1.2</td>\n",
              "      <td>19.3</td>\n",
              "      <td>3.0</td>\n",
              "      <td>74.3</td>\n",
              "      <td>69.134839</td>\n",
              "      <td>0.071629</td>\n",
              "      <td>strata_3</td>\n",
              "    </tr>\n",
              "    <tr>\n",
              "      <th>1</th>\n",
              "      <td>1.0</td>\n",
              "      <td>AL</td>\n",
              "      <td>Alabama</td>\n",
              "      <td>Baldwin County</td>\n",
              "      <td>1003.0</td>\n",
              "      <td>0.050312</td>\n",
              "      <td>1</td>\n",
              "      <td>57588.0</td>\n",
              "      <td>42.3</td>\n",
              "      <td>218022</td>\n",
              "      <td>-0.577862</td>\n",
              "      <td>21.6</td>\n",
              "      <td>20.4</td>\n",
              "      <td>1.2</td>\n",
              "      <td>8.8</td>\n",
              "      <td>4.6</td>\n",
              "      <td>83.1</td>\n",
              "      <td>69.134839</td>\n",
              "      <td>0.072059</td>\n",
              "      <td>strata_3</td>\n",
              "    </tr>\n",
              "    <tr>\n",
              "      <th>2</th>\n",
              "      <td>1.0</td>\n",
              "      <td>AL</td>\n",
              "      <td>Alabama</td>\n",
              "      <td>Barbour County</td>\n",
              "      <td>1005.0</td>\n",
              "      <td>0.007037</td>\n",
              "      <td>1</td>\n",
              "      <td>34382.0</td>\n",
              "      <td>67.8</td>\n",
              "      <td>24881</td>\n",
              "      <td>-0.056112</td>\n",
              "      <td>20.9</td>\n",
              "      <td>19.4</td>\n",
              "      <td>0.5</td>\n",
              "      <td>48.0</td>\n",
              "      <td>4.3</td>\n",
              "      <td>45.6</td>\n",
              "      <td>69.134839</td>\n",
              "      <td>0.074463</td>\n",
              "      <td>strata_4</td>\n",
              "    </tr>\n",
              "    <tr>\n",
              "      <th>3</th>\n",
              "      <td>1.0</td>\n",
              "      <td>AL</td>\n",
              "      <td>Alabama</td>\n",
              "      <td>Bibb County</td>\n",
              "      <td>1007.0</td>\n",
              "      <td>0.011809</td>\n",
              "      <td>1</td>\n",
              "      <td>46064.0</td>\n",
              "      <td>68.4</td>\n",
              "      <td>22400</td>\n",
              "      <td>-0.555441</td>\n",
              "      <td>20.5</td>\n",
              "      <td>16.5</td>\n",
              "      <td>0.2</td>\n",
              "      <td>21.1</td>\n",
              "      <td>2.6</td>\n",
              "      <td>74.6</td>\n",
              "      <td>69.134839</td>\n",
              "      <td>0.074398</td>\n",
              "      <td>strata_4</td>\n",
              "    </tr>\n",
              "    <tr>\n",
              "      <th>4</th>\n",
              "      <td>1.0</td>\n",
              "      <td>AL</td>\n",
              "      <td>Alabama</td>\n",
              "      <td>Blount County</td>\n",
              "      <td>1009.0</td>\n",
              "      <td>0.038890</td>\n",
              "      <td>1</td>\n",
              "      <td>50412.0</td>\n",
              "      <td>90.0</td>\n",
              "      <td>57840</td>\n",
              "      <td>-0.813820</td>\n",
              "      <td>23.2</td>\n",
              "      <td>18.2</td>\n",
              "      <td>0.3</td>\n",
              "      <td>1.5</td>\n",
              "      <td>9.6</td>\n",
              "      <td>86.9</td>\n",
              "      <td>69.134839</td>\n",
              "      <td>0.068484</td>\n",
              "      <td>strata_3</td>\n",
              "    </tr>\n",
              "  </tbody>\n",
              "</table>\n",
              "</div>"
            ],
            "text/plain": [
              "   state state_code State.Name  ... GovernmentResponseIndex       GPS  strata_GPS\n",
              "0    1.0         AL    Alabama  ...               69.134839  0.071629    strata_3\n",
              "1    1.0         AL    Alabama  ...               69.134839  0.072059    strata_3\n",
              "2    1.0         AL    Alabama  ...               69.134839  0.074463    strata_4\n",
              "3    1.0         AL    Alabama  ...               69.134839  0.074398    strata_4\n",
              "4    1.0         AL    Alabama  ...               69.134839  0.068484    strata_3\n",
              "\n",
              "[5 rows x 20 columns]"
            ]
          },
          "metadata": {
            "tags": []
          },
          "execution_count": 25
        }
      ]
    },
    {
      "cell_type": "code",
      "metadata": {
        "id": "mDAfevry0LJE"
      },
      "source": [
        "data1 = data_GPS[data_GPS['strata_GPS'] == 'strata_1']\r\n",
        "data2 = data_GPS[data_GPS['strata_GPS'] == 'strata_2']\r\n",
        "data3 = data_GPS[data_GPS['strata_GPS'] == 'strata_3']\r\n",
        "data4 = data_GPS[data_GPS['strata_GPS'] == 'strata_4']"
      ],
      "execution_count": 26,
      "outputs": []
    },
    {
      "cell_type": "code",
      "metadata": {
        "id": "NmYrzBqd58Sa",
        "colab": {
          "base_uri": "https://localhost:8080/"
        },
        "outputId": "07a0fe56-adb4-4620-ed7b-4abae2cb5850"
      },
      "source": [
        "# transport python dataframes into R\r\n",
        "%%R -i data1\r\n",
        "head(data1)"
      ],
      "execution_count": 27,
      "outputs": [
        {
          "output_type": "stream",
          "text": [
            "   state state_code State.Name                    cnamelong county_code\n",
            "67     2         AK     Alaska       Anchorage Municipality        2020\n",
            "68     2         AK     Alaska           Bethel Census Area        2050\n",
            "69     2         AK     Alaska Fairbanks North Star Borough        2090\n",
            "70     2         AK     Alaska      Juneau City and Borough        2110\n",
            "71     2         AK     Alaska      Kenai Peninsula Borough        2122\n",
            "72     2         AK     Alaska    Ketchikan Gateway Borough        2130\n",
            "   diff_in_perc_at_home SIP. Median.Household.Income X..Rural Population_y\n",
            "67         2.468819e-02    1                   82113      4.1       291538\n",
            "68        -1.495898e-02    1                   44304     73.9        18216\n",
            "69         1.564403e-02    1                   74268     30.9        98971\n",
            "70         5.450379e-02    1                   79173     21.5        32113\n",
            "71         3.006455e-03    1                   65439     79.3        58533\n",
            "72         1.421355e-05    1                   68309     23.2        13918\n",
            "   political_diff X..less.than.18.years.of.age X..65.and.over X..Asian X..Black\n",
            "67     -0.1517105                         24.5           11.1     10.1      5.4\n",
            "68     -0.1517105                         35.9            7.7      1.0      0.9\n",
            "69     -0.1517105                         24.1           10.3      3.5      4.9\n",
            "70     -0.1517105                         21.3           13.4      7.0      1.2\n",
            "71     -0.1517105                         22.6           17.4      1.8      0.7\n",
            "72     -0.1517105                         22.3           15.5      8.4      0.9\n",
            "   X..Hispanic X..Non.Hispanic.White GovernmentResponseIndex        GPS\n",
            "67         9.3                  57.3                75.65113 0.03579041\n",
            "68         2.4                   9.6                75.65113 0.00149851\n",
            "69         8.4                  69.3                75.65113 0.03880000\n",
            "70         6.8                  64.3                75.65113 0.04311420\n",
            "71         4.3                  80.1                75.65113 0.03561382\n",
            "72         5.8                  63.2                75.65113 0.03516002\n",
            "   strata_GPS\n",
            "67   strata_1\n",
            "68   strata_1\n",
            "69   strata_1\n",
            "70   strata_1\n",
            "71   strata_1\n",
            "72   strata_1\n"
          ],
          "name": "stdout"
        }
      ]
    },
    {
      "cell_type": "code",
      "metadata": {
        "colab": {
          "base_uri": "https://localhost:8080/"
        },
        "id": "TRhn6ord6S94",
        "outputId": "31037f68-6024-433d-95b0-776aa3034245"
      },
      "source": [
        "# transport python dataframes into R\r\n",
        "%%R -i data2\r\n",
        "head(data2)"
      ],
      "execution_count": 28,
      "outputs": [
        {
          "output_type": "stream",
          "text": [
            "   state state_code State.Name       cnamelong county_code diff_in_perc_at_home\n",
            "82     4         AZ    Arizona   Apache County        4001         -0.018001618\n",
            "88     4         AZ    Arizona   La Paz County        4012         -0.052749318\n",
            "91     4         AZ    Arizona   Navajo County        4017          0.011353153\n",
            "97     5         AR   Arkansas Arkansas County        5001          0.002032068\n",
            "98     5         AR   Arkansas   Ashley County        5003          0.004201943\n",
            "99     5         AR   Arkansas   Baxter County        5005         -0.000819999\n",
            "   SIP. Median.Household.Income X..Rural Population_y political_diff\n",
            "82    1                   33652     74.1        71818     0.36877646\n",
            "88    1                   37350     56.3        21098    -0.41837356\n",
            "91    1                   40650     54.1       110445    -0.07916067\n",
            "97    0                   43887     34.7        17769    -0.30582131\n",
            "98    0                   41127     51.7        20046    -0.36501806\n",
            "99    0                   39686     65.8        41619    -0.53607194\n",
            "   X..less.than.18.years.of.age X..65.and.over X..Asian X..Black X..Hispanic\n",
            "82                         27.2           15.3      0.4      0.5         6.4\n",
            "88                         16.8           39.3      1.0      0.9        28.1\n",
            "91                         26.7           18.1      0.7      0.8        11.5\n",
            "97                         22.9           19.6      0.8     24.5         3.3\n",
            "98                         22.9           20.4      0.3     24.5         5.5\n",
            "99                         17.7           30.9      0.5      0.4         2.5\n",
            "   X..Non.Hispanic.White GovernmentResponseIndex        GPS strata_GPS\n",
            "82                  18.1                61.26177 0.05420008   strata_2\n",
            "88                  56.7                61.26177 0.04786825   strata_2\n",
            "91                  41.7                61.26177 0.05632314   strata_2\n",
            "97                  69.5                62.55806 0.04924861   strata_2\n",
            "98                  68.3                62.55806 0.05166479   strata_2\n",
            "99                  94.5                62.55806 0.04682857   strata_2\n"
          ],
          "name": "stdout"
        }
      ]
    },
    {
      "cell_type": "code",
      "metadata": {
        "colab": {
          "base_uri": "https://localhost:8080/"
        },
        "id": "2jJoW9VI6Uuz",
        "outputId": "09531d65-52c8-4312-f263-8d6ce4c7f85f"
      },
      "source": [
        "# transport python dataframes into R\r\n",
        "%%R -i data3\r\n",
        "head(data3)"
      ],
      "execution_count": 29,
      "outputs": [
        {
          "output_type": "stream",
          "text": [
            "   state state_code State.Name       cnamelong county_code diff_in_perc_at_home\n",
            "0      1         AL    Alabama  Autauga County        1001           0.05067828\n",
            "1      1         AL    Alabama  Baldwin County        1003           0.05031198\n",
            "4      1         AL    Alabama   Blount County        1009           0.03889032\n",
            "6      1         AL    Alabama   Butler County        1013           0.01534992\n",
            "10     1         AL    Alabama  Chilton County        1021           0.01758692\n",
            "14     1         AL    Alabama Cleburne County        1029           0.01925057\n",
            "   SIP. Median.Household.Income X..Rural Population_y political_diff\n",
            "0     1                   59338     42.0        55601     -0.4947893\n",
            "1     1                   57588     42.3       218022     -0.5778616\n",
            "4     1                   50412     90.0        57840     -0.8138197\n",
            "6     1                   37365     71.2        19680     -0.1352907\n",
            "10    1                   47547     86.7        44153     -0.6660641\n",
            "14    1                   46495    100.0        14987     -0.7737293\n",
            "   X..less.than.18.years.of.age X..65.and.over X..Asian X..Black X..Hispanic\n",
            "0                          23.7           15.6      1.2     19.3         3.0\n",
            "1                          21.6           20.4      1.2      8.8         4.6\n",
            "4                          23.2           18.2      0.3      1.5         9.6\n",
            "6                          22.2           20.3      1.3     44.6         1.5\n",
            "10                         23.8           16.8      0.5     10.0         7.9\n",
            "14                         22.8           19.5      0.2      2.9         2.5\n",
            "   X..Non.Hispanic.White GovernmentResponseIndex        GPS strata_GPS\n",
            "0                   74.3                69.13484 0.07162899   strata_3\n",
            "1                   83.1                69.13484 0.07205904   strata_3\n",
            "4                   86.9                69.13484 0.06848431   strata_3\n",
            "6                   51.3                69.13484 0.07233322   strata_3\n",
            "10                  80.1                69.13484 0.06953152   strata_3\n",
            "14                  92.8                69.13484 0.06863601   strata_3\n"
          ],
          "name": "stdout"
        }
      ]
    },
    {
      "cell_type": "code",
      "metadata": {
        "colab": {
          "base_uri": "https://localhost:8080/"
        },
        "id": "EUnykG4B6WyF",
        "outputId": "bb93ac18-f0a4-467c-9cb7-0a1e89eec4c0"
      },
      "source": [
        "# transport python dataframes into R\r\n",
        "%%R -i data4\r\n",
        "head(data4)"
      ],
      "execution_count": 30,
      "outputs": [
        {
          "output_type": "stream",
          "text": [
            "  state state_code State.Name       cnamelong county_code diff_in_perc_at_home\n",
            "2     1         AL    Alabama  Barbour County        1005          0.007036924\n",
            "3     1         AL    Alabama     Bibb County        1007          0.011808926\n",
            "5     1         AL    Alabama  Bullock County        1011         -0.009576347\n",
            "7     1         AL    Alabama  Calhoun County        1015          0.017585134\n",
            "8     1         AL    Alabama Chambers County        1017          0.002032661\n",
            "9     1         AL    Alabama Cherokee County        1019          0.004307030\n",
            "  SIP. Median.Household.Income X..Rural Population_y political_diff\n",
            "2    1                   34382     67.8        24881    -0.05611165\n",
            "3    1                   46064     68.4        22400    -0.55544124\n",
            "5    1                   29267     51.4        10138     0.50861519\n",
            "7    1                   45400     33.7       114277    -0.41383823\n",
            "8    1                   39917     49.1        33615    -0.14806213\n",
            "9    1                   42132     85.7        26032    -0.69361135\n",
            "  X..less.than.18.years.of.age X..65.and.over X..Asian X..Black X..Hispanic\n",
            "2                         20.9           19.4      0.5     48.0         4.3\n",
            "3                         20.5           16.5      0.2     21.1         2.6\n",
            "5                         21.1           16.4      0.2     69.5         8.0\n",
            "7                         21.6           17.7      1.0     20.9         3.9\n",
            "8                         20.8           19.5      1.3     39.6         2.6\n",
            "9                         19.2           23.0      0.3      4.2         1.6\n",
            "  X..Non.Hispanic.White GovernmentResponseIndex        GPS strata_GPS\n",
            "2                  45.6                69.13484 0.07446314   strata_4\n",
            "3                  74.6                69.13484 0.07439824   strata_4\n",
            "5                  21.2                69.13484 0.07353232   strata_4\n",
            "7                  72.0                69.13484 0.07358821   strata_4\n",
            "8                  55.2                69.13484 0.07444013   strata_4\n",
            "9                  91.7                69.13484 0.07308535   strata_4\n"
          ],
          "name": "stdout"
        }
      ]
    },
    {
      "cell_type": "code",
      "metadata": {
        "id": "GFY13Fnls2Kj"
      },
      "source": [
        "%%R\r\n",
        "covariateNames <- c('Median.Household.Income', 'X..Rural', 'Population_y',\r\n",
        "                    'political_diff', 'X..less.than.18.years.of.age',\r\n",
        "                    'X..65.and.over', 'X..Asian', 'X..Black', 'X..Hispanic',\r\n",
        "                    'X..Non.Hispanic.White')"
      ],
      "execution_count": 31,
      "outputs": []
    },
    {
      "cell_type": "code",
      "metadata": {
        "id": "h40Nb_Xp75NT"
      },
      "source": [
        "%%R\r\n",
        "# associate the string \"data1\" with dataframe data1.\r\n",
        "assign(\"data1\",data1)\r\n",
        "assign(\"data2\",data2)\r\n",
        "assign(\"data3\",data3)\r\n",
        "assign(\"data4\",data4)"
      ],
      "execution_count": 32,
      "outputs": []
    },
    {
      "cell_type": "code",
      "metadata": {
        "id": "-GD_AhFq8jf_"
      },
      "source": [
        "%%R\r\n",
        "stratas <- c('data1', 'data2', 'data3', 'data4')"
      ],
      "execution_count": 33,
      "outputs": []
    },
    {
      "cell_type": "code",
      "metadata": {
        "id": "m6qHDGUXAVOV"
      },
      "source": [
        "%%R\r\n",
        "linear_model = lm(scale(GovernmentResponseIndex)~scale(Median.Household.Income),\r\n",
        "                  data = data1)"
      ],
      "execution_count": 34,
      "outputs": []
    },
    {
      "cell_type": "code",
      "metadata": {
        "colab": {
          "base_uri": "https://localhost:8080/"
        },
        "id": "jMBZZPoBnKmU",
        "outputId": "cfed440d-4399-4ea3-b9f4-395dc14b05a3"
      },
      "source": [
        "%%R\r\n",
        "linear_model"
      ],
      "execution_count": 35,
      "outputs": [
        {
          "output_type": "stream",
          "text": [
            "\n",
            "Call:\n",
            "lm(formula = scale(GovernmentResponseIndex) ~ scale(Median.Household.Income), \n",
            "    data = data1)\n",
            "\n",
            "Coefficients:\n",
            "                   (Intercept)  scale(Median.Household.Income)  \n",
            "                    -3.091e-16                      -2.538e-02  \n",
            "\n"
          ],
          "name": "stdout"
        }
      ]
    },
    {
      "cell_type": "code",
      "metadata": {
        "id": "yDOesHyc8r7B",
        "colab": {
          "base_uri": "https://localhost:8080/"
        },
        "outputId": "4e0a7409-c743-4261-99a5-dd49c1513bc9"
      },
      "source": [
        "%%R\r\n",
        "for (var in 1:length(covariateNames)) {\r\n",
        "    print(paste(\"standard effect size for column \", covariateNames[var], sep = ''))\r\n",
        "    for (data_in_strata in stratas) {\r\n",
        "        linear_model_formula <- paste('scale(GovernmentResponseIndex)~scale(', covariateNames[var], ')', sep = '')\r\n",
        "        linear_model = lm(linear_model_formula, data = get(data_in_strata))\r\n",
        "        print(linear_model$coef[2])\r\n",
        "    }\r\n",
        "    # print()\r\n",
        "}"
      ],
      "execution_count": 36,
      "outputs": [
        {
          "output_type": "stream",
          "text": [
            "[1] \"standard effect size for column Median.Household.Income\"\n",
            "scale(Median.Household.Income) \n",
            "                   -0.02537864 \n",
            "scale(Median.Household.Income) \n",
            "                     0.2658923 \n",
            "scale(Median.Household.Income) \n",
            "                     0.2659327 \n",
            "scale(Median.Household.Income) \n",
            "                     0.2965855 \n",
            "[1] \"standard effect size for column X..Rural\"\n",
            "scale(X..Rural) \n",
            "    -0.01716091 \n",
            "scale(X..Rural) \n",
            "     -0.2375581 \n",
            "scale(X..Rural) \n",
            "     -0.2667027 \n",
            "scale(X..Rural) \n",
            "     -0.2076842 \n",
            "[1] \"standard effect size for column Population_y\"\n",
            "scale(Population_y) \n",
            "        0.001087041 \n",
            "scale(Population_y) \n",
            "           0.233637 \n",
            "scale(Population_y) \n",
            "          0.3366562 \n",
            "scale(Population_y) \n",
            "          0.2694435 \n",
            "[1] \"standard effect size for column political_diff\"\n",
            "scale(political_diff) \n",
            "           0.06840666 \n",
            "scale(political_diff) \n",
            "             0.270053 \n",
            "scale(political_diff) \n",
            "            0.5623739 \n",
            "scale(political_diff) \n",
            "            0.7057137 \n",
            "[1] \"standard effect size for column X..less.than.18.years.of.age\"\n",
            "scale(X..less.than.18.years.of.age) \n",
            "                         -0.1233778 \n",
            "scale(X..less.than.18.years.of.age) \n",
            "                         -0.2963376 \n",
            "scale(X..less.than.18.years.of.age) \n",
            "                         -0.3631463 \n",
            "scale(X..less.than.18.years.of.age) \n",
            "                         -0.6369667 \n",
            "[1] \"standard effect size for column X..65.and.over\"\n",
            "scale(X..65.and.over) \n",
            "         -0.003292276 \n",
            "scale(X..65.and.over) \n",
            "           0.02462678 \n",
            "scale(X..65.and.over) \n",
            "          -0.09042711 \n",
            "scale(X..65.and.over) \n",
            "           0.01739767 \n",
            "[1] \"standard effect size for column X..Asian\"\n",
            "scale(X..Asian) \n",
            "     0.04505016 \n",
            "scale(X..Asian) \n",
            "      0.2395534 \n",
            "scale(X..Asian) \n",
            "       0.341258 \n",
            "scale(X..Asian) \n",
            "      0.3528956 \n",
            "[1] \"standard effect size for column X..Black\"\n",
            "scale(X..Black) \n",
            "     0.02763173 \n",
            "scale(X..Black) \n",
            "      0.1744964 \n",
            "scale(X..Black) \n",
            "       0.151014 \n",
            "scale(X..Black) \n",
            "      0.1399587 \n",
            "[1] \"standard effect size for column X..Hispanic\"\n",
            "scale(X..Hispanic) \n",
            "        0.04437497 \n",
            "scale(X..Hispanic) \n",
            "        0.08565407 \n",
            "scale(X..Hispanic) \n",
            "        -0.1213385 \n",
            "scale(X..Hispanic) \n",
            "        -0.2516224 \n",
            "[1] \"standard effect size for column X..Non.Hispanic.White\"\n",
            "scale(X..Non.Hispanic.White) \n",
            "                 -0.01235976 \n",
            "scale(X..Non.Hispanic.White) \n",
            "                  -0.1601635 \n",
            "scale(X..Non.Hispanic.White) \n",
            "                 -0.05497664 \n",
            "scale(X..Non.Hispanic.White) \n",
            "                 0.006987524 \n"
          ],
          "name": "stdout"
        }
      ]
    },
    {
      "cell_type": "markdown",
      "metadata": {
        "id": "tSMi7m-GBkX2"
      },
      "source": [
        "If I did this right, then we can see our GPS model is really bad because a lot of columns have `>0.1` standard effect size."
      ]
    },
    {
      "cell_type": "markdown",
      "metadata": {
        "id": "ase6_X8kHXKW"
      },
      "source": [
        "# 3. model outcome in terms of treatment dosage + GPS"
      ]
    },
    {
      "cell_type": "code",
      "metadata": {
        "id": "vfyVIlxIOBFz"
      },
      "source": [
        "%%R\r\n",
        "design <- svydesign(id=~1,weights=~1,data =data)\r\n",
        "# model quadratic terms and interaction terms.\r\n",
        "modelOutcome <- svyglm(formula = 'diff_in_perc_at_home~GovernmentResponseIndex+I(GovernmentResponseIndex^2) + GPS + I(GPS^2) + GovernmentResponseIndex:GPS', design = design) "
      ],
      "execution_count": 37,
      "outputs": []
    },
    {
      "cell_type": "markdown",
      "metadata": {
        "id": "xdTso91YHX7g"
      },
      "source": [
        "# 4. plot dosage response function"
      ]
    },
    {
      "cell_type": "code",
      "metadata": {
        "colab": {
          "base_uri": "https://localhost:8080/"
        },
        "id": "AEBu6u0iuiFt",
        "outputId": "b474a667-8583-4cda-999f-10f543c32f3f"
      },
      "source": [
        "%%R\r\n",
        "quantile(data$GovernmentResponseIndex, probs = seq(0.00, 1, 0.1))"
      ],
      "execution_count": 38,
      "outputs": [
        {
          "output_type": "stream",
          "text": [
            " [1] 55.30871 62.55806 65.02290 65.57452 66.53452 67.63661 69.13484 70.27032\n",
            " [9] 72.97645 74.93065 81.29097\n"
          ],
          "name": "stdout"
        }
      ]
    },
    {
      "cell_type": "code",
      "metadata": {
        "colab": {
          "base_uri": "https://localhost:8080/"
        },
        "id": "TLSkJvlauvBX",
        "outputId": "51623587-47d3-4397-abe4-46a7a4e9ca52"
      },
      "source": [
        "%%R\r\n",
        "head(data.frame(GovernmentResponseIndex=70, GPS = data$GPS), 10)"
      ],
      "execution_count": 39,
      "outputs": [
        {
          "output_type": "stream",
          "text": [
            "   GovernmentResponseIndex        GPS\n",
            "1                       70 0.07162899\n",
            "2                       70 0.07205904\n",
            "3                       70 0.07446314\n",
            "4                       70 0.07439824\n",
            "5                       70 0.06848431\n",
            "6                       70 0.07353232\n",
            "7                       70 0.07233322\n",
            "8                       70 0.07358821\n",
            "9                       70 0.07444013\n",
            "10                      70 0.07308535\n"
          ],
          "name": "stdout"
        }
      ]
    },
    {
      "cell_type": "code",
      "metadata": {
        "id": "JZP67DVSHWe1"
      },
      "source": [
        "%%R\r\n",
        "# new empty dataframe that contains the effect sizes for each dosage\r\n",
        "all.effects <- data.frame()\r\n",
        "# new empty dataframe for standard errors for each estimate\r\n",
        "se <- data.frame()\r\n",
        "for (dose in quantile(data$GovernmentResponseIndex, probs = seq(0.00, 1, 0.1))) {\r\n",
        "    # we are predicting all row's effect based on its GPS and the current dosage size\r\n",
        "    # in the loop. Averaging over those effect to be the effect size at the current\r\n",
        "    # dosage level.\r\n",
        "    effects <- predict(modelOutcome, type = 'response', vcov = T,\r\n",
        "                       newdata = data.frame(GovernmentResponseIndex=dose, GPS = data$GPS))\r\n",
        "    # svycontrast calculate the effect size for us.\r\n",
        "    effect <- svycontrast(effects, rep(1/nrow(data), nrow(data)) )\r\n",
        "    # rbind add rows to a dataframe in R.\r\n",
        "    all.effects <- rbind(all.effects, effect)\r\n",
        "    # SE() of svycontrast object returns the estimated standard error\r\n",
        "    se <- rbind(se, SE(effect)[1])\r\n",
        "} "
      ],
      "execution_count": 40,
      "outputs": []
    },
    {
      "cell_type": "code",
      "metadata": {
        "colab": {
          "base_uri": "https://localhost:8080/"
        },
        "id": "jU1ndUb7pE9N",
        "outputId": "0fda0583-0e93-497f-951c-86f2125f7326"
      },
      "source": [
        "%%R\r\n",
        "all.effects"
      ],
      "execution_count": 41,
      "outputs": [
        {
          "output_type": "stream",
          "text": [
            "   X0.00996308829104974\n",
            "1           0.009963088\n",
            "2           0.013795090\n",
            "3           0.018672620\n",
            "4           0.020012583\n",
            "5           0.022561233\n",
            "6           0.025826412\n",
            "7           0.030846820\n",
            "8           0.035098176\n",
            "9           0.046782189\n",
            "10          0.056579258\n",
            "11          0.096360795\n"
          ],
          "name": "stdout"
        }
      ]
    },
    {
      "cell_type": "code",
      "metadata": {
        "colab": {
          "base_uri": "https://localhost:8080/"
        },
        "id": "-JCZ84zvpvaR",
        "outputId": "842cd2a5-8846-44da-81b2-3cee32a7c168"
      },
      "source": [
        "%%R\r\n",
        "se"
      ],
      "execution_count": 42,
      "outputs": [
        {
          "output_type": "stream",
          "text": [
            "   X0.00762490557788741\n",
            "1           0.007624906\n",
            "2           0.001289081\n",
            "3           0.001315283\n",
            "4           0.001399095\n",
            "5           0.001529613\n",
            "6           0.001623962\n",
            "7           0.001637007\n",
            "8           0.001576425\n",
            "9           0.001577893\n",
            "10          0.002276086\n",
            "11          0.008636191\n"
          ],
          "name": "stdout"
        }
      ]
    },
    {
      "cell_type": "code",
      "metadata": {
        "id": "oN0RGC5JPVgy"
      },
      "source": [
        "%%R\r\n",
        "doseResponses <- data.frame(percentile = seq(0, 100, 10),\r\n",
        "                            GovernmentResponseIndex = quantile(data$GovernmentResponseIndex,\r\n",
        "                                                               probs = seq(0.00, 1, 0.1)),\r\n",
        "                            all.effects, se)\r\n",
        "names(doseResponses)[3] <- \"mean_diff_perc_stay_at_home\"\r\n",
        "names(doseResponses)[4] <- \"standard_error\"\r\n",
        "doseResponses$lowerCL <- with(doseResponses, mean_diff_perc_stay_at_home - 1.96*standard_error)\r\n",
        "doseResponses$upperCL <- with(doseResponses, mean_diff_perc_stay_at_home + 1.96*standard_error)"
      ],
      "execution_count": 43,
      "outputs": []
    },
    {
      "cell_type": "code",
      "metadata": {
        "colab": {
          "base_uri": "https://localhost:8080/"
        },
        "id": "imbtzVVEQK2s",
        "outputId": "aa6b8316-3177-428d-e2f2-d75f9a5f9a7f"
      },
      "source": [
        "%%R\r\n",
        "doseResponses"
      ],
      "execution_count": 44,
      "outputs": [
        {
          "output_type": "stream",
          "text": [
            "     percentile GovernmentResponseIndex mean_diff_perc_stay_at_home\n",
            "0%            0                55.30871                 0.009963088\n",
            "10%          10                62.55806                 0.013795090\n",
            "20%          20                65.02290                 0.018672620\n",
            "30%          30                65.57452                 0.020012583\n",
            "40%          40                66.53452                 0.022561233\n",
            "50%          50                67.63661                 0.025826412\n",
            "60%          60                69.13484                 0.030846820\n",
            "70%          70                70.27032                 0.035098176\n",
            "80%          80                72.97645                 0.046782189\n",
            "90%          90                74.93065                 0.056579258\n",
            "100%        100                81.29097                 0.096360795\n",
            "     standard_error      lowerCL    upperCL\n",
            "0%      0.007624906 -0.004981727 0.02490790\n",
            "10%     0.001289081  0.011268491 0.01632169\n",
            "20%     0.001315283  0.016094665 0.02125057\n",
            "30%     0.001399095  0.017270357 0.02275481\n",
            "40%     0.001529613  0.019563191 0.02555928\n",
            "50%     0.001623962  0.022643446 0.02900938\n",
            "60%     0.001637007  0.027638286 0.03405535\n",
            "70%     0.001576425  0.032008383 0.03818797\n",
            "80%     0.001577893  0.043689519 0.04987486\n",
            "90%     0.002276086  0.052118130 0.06104039\n",
            "100%    0.008636191  0.079433861 0.11328773\n"
          ],
          "name": "stdout"
        }
      ]
    },
    {
      "cell_type": "code",
      "metadata": {
        "id": "12d73GMASHUc"
      },
      "source": [
        "doseResponses = %R doseResponses"
      ],
      "execution_count": 45,
      "outputs": []
    },
    {
      "cell_type": "code",
      "metadata": {
        "colab": {
          "base_uri": "https://localhost:8080/",
          "height": 390
        },
        "id": "heqDruiqq1UN",
        "outputId": "ae8f3b57-15f2-4a65-9e40-85e0a312eb98"
      },
      "source": [
        "doseResponses"
      ],
      "execution_count": 46,
      "outputs": [
        {
          "output_type": "execute_result",
          "data": {
            "text/html": [
              "<div>\n",
              "<style scoped>\n",
              "    .dataframe tbody tr th:only-of-type {\n",
              "        vertical-align: middle;\n",
              "    }\n",
              "\n",
              "    .dataframe tbody tr th {\n",
              "        vertical-align: top;\n",
              "    }\n",
              "\n",
              "    .dataframe thead th {\n",
              "        text-align: right;\n",
              "    }\n",
              "</style>\n",
              "<table border=\"1\" class=\"dataframe\">\n",
              "  <thead>\n",
              "    <tr style=\"text-align: right;\">\n",
              "      <th></th>\n",
              "      <th>percentile</th>\n",
              "      <th>GovernmentResponseIndex</th>\n",
              "      <th>mean_diff_perc_stay_at_home</th>\n",
              "      <th>standard_error</th>\n",
              "      <th>lowerCL</th>\n",
              "      <th>upperCL</th>\n",
              "    </tr>\n",
              "  </thead>\n",
              "  <tbody>\n",
              "    <tr>\n",
              "      <th>0%</th>\n",
              "      <td>0.0</td>\n",
              "      <td>55.308710</td>\n",
              "      <td>0.009963</td>\n",
              "      <td>0.007625</td>\n",
              "      <td>-0.004982</td>\n",
              "      <td>0.024908</td>\n",
              "    </tr>\n",
              "    <tr>\n",
              "      <th>10%</th>\n",
              "      <td>10.0</td>\n",
              "      <td>62.558065</td>\n",
              "      <td>0.013795</td>\n",
              "      <td>0.001289</td>\n",
              "      <td>0.011268</td>\n",
              "      <td>0.016322</td>\n",
              "    </tr>\n",
              "    <tr>\n",
              "      <th>20%</th>\n",
              "      <td>20.0</td>\n",
              "      <td>65.022903</td>\n",
              "      <td>0.018673</td>\n",
              "      <td>0.001315</td>\n",
              "      <td>0.016095</td>\n",
              "      <td>0.021251</td>\n",
              "    </tr>\n",
              "    <tr>\n",
              "      <th>30%</th>\n",
              "      <td>30.0</td>\n",
              "      <td>65.574516</td>\n",
              "      <td>0.020013</td>\n",
              "      <td>0.001399</td>\n",
              "      <td>0.017270</td>\n",
              "      <td>0.022755</td>\n",
              "    </tr>\n",
              "    <tr>\n",
              "      <th>40%</th>\n",
              "      <td>40.0</td>\n",
              "      <td>66.534516</td>\n",
              "      <td>0.022561</td>\n",
              "      <td>0.001530</td>\n",
              "      <td>0.019563</td>\n",
              "      <td>0.025559</td>\n",
              "    </tr>\n",
              "    <tr>\n",
              "      <th>50%</th>\n",
              "      <td>50.0</td>\n",
              "      <td>67.636613</td>\n",
              "      <td>0.025826</td>\n",
              "      <td>0.001624</td>\n",
              "      <td>0.022643</td>\n",
              "      <td>0.029009</td>\n",
              "    </tr>\n",
              "    <tr>\n",
              "      <th>60%</th>\n",
              "      <td>60.0</td>\n",
              "      <td>69.134839</td>\n",
              "      <td>0.030847</td>\n",
              "      <td>0.001637</td>\n",
              "      <td>0.027638</td>\n",
              "      <td>0.034055</td>\n",
              "    </tr>\n",
              "    <tr>\n",
              "      <th>70%</th>\n",
              "      <td>70.0</td>\n",
              "      <td>70.270323</td>\n",
              "      <td>0.035098</td>\n",
              "      <td>0.001576</td>\n",
              "      <td>0.032008</td>\n",
              "      <td>0.038188</td>\n",
              "    </tr>\n",
              "    <tr>\n",
              "      <th>80%</th>\n",
              "      <td>80.0</td>\n",
              "      <td>72.976452</td>\n",
              "      <td>0.046782</td>\n",
              "      <td>0.001578</td>\n",
              "      <td>0.043690</td>\n",
              "      <td>0.049875</td>\n",
              "    </tr>\n",
              "    <tr>\n",
              "      <th>90%</th>\n",
              "      <td>90.0</td>\n",
              "      <td>74.930645</td>\n",
              "      <td>0.056579</td>\n",
              "      <td>0.002276</td>\n",
              "      <td>0.052118</td>\n",
              "      <td>0.061040</td>\n",
              "    </tr>\n",
              "    <tr>\n",
              "      <th>100%</th>\n",
              "      <td>100.0</td>\n",
              "      <td>81.290968</td>\n",
              "      <td>0.096361</td>\n",
              "      <td>0.008636</td>\n",
              "      <td>0.079434</td>\n",
              "      <td>0.113288</td>\n",
              "    </tr>\n",
              "  </tbody>\n",
              "</table>\n",
              "</div>"
            ],
            "text/plain": [
              "      percentile  GovernmentResponseIndex  ...   lowerCL   upperCL\n",
              "0%           0.0                55.308710  ... -0.004982  0.024908\n",
              "10%         10.0                62.558065  ...  0.011268  0.016322\n",
              "20%         20.0                65.022903  ...  0.016095  0.021251\n",
              "30%         30.0                65.574516  ...  0.017270  0.022755\n",
              "40%         40.0                66.534516  ...  0.019563  0.025559\n",
              "50%         50.0                67.636613  ...  0.022643  0.029009\n",
              "60%         60.0                69.134839  ...  0.027638  0.034055\n",
              "70%         70.0                70.270323  ...  0.032008  0.038188\n",
              "80%         80.0                72.976452  ...  0.043690  0.049875\n",
              "90%         90.0                74.930645  ...  0.052118  0.061040\n",
              "100%       100.0                81.290968  ...  0.079434  0.113288\n",
              "\n",
              "[11 rows x 6 columns]"
            ]
          },
          "metadata": {
            "tags": []
          },
          "execution_count": 46
        }
      ]
    },
    {
      "cell_type": "markdown",
      "metadata": {
        "id": "u8sap2cRsRqn"
      },
      "source": [
        "plot dose response function with confidence intervals."
      ]
    },
    {
      "cell_type": "code",
      "metadata": {
        "colab": {
          "base_uri": "https://localhost:8080/",
          "height": 296
        },
        "id": "CEh_bkaoq2DK",
        "outputId": "c92d8eed-8065-4362-b5b9-0226e9bb81b2"
      },
      "source": [
        "plt.plot(doseResponses['GovernmentResponseIndex'], doseResponses['mean_diff_perc_stay_at_home'])\r\n",
        "plt.fill_between(doseResponses['GovernmentResponseIndex'],\r\n",
        "                 doseResponses['lowerCL'], doseResponses['upperCL'], color='r', alpha=.25, linestyle = 'dashed', linewidth = 2)\r\n",
        "plt.xlabel('GovernmentResponseIndex')\r\n",
        "plt.ylabel('% change in percentage stay at home')"
      ],
      "execution_count": 47,
      "outputs": [
        {
          "output_type": "execute_result",
          "data": {
            "text/plain": [
              "Text(0, 0.5, '% change in percentage stay at home')"
            ]
          },
          "metadata": {
            "tags": []
          },
          "execution_count": 47
        },
        {
          "output_type": "display_data",
          "data": {
            "image/png": "[encoded data removed]",
            "text/plain": [
              "<Figure size 432x288 with 1 Axes>"
            ]
          },
          "metadata": {
            "tags": [],
            "needs_background": "light"
          }
        }
      ]
    },
    {
      "cell_type": "markdown",
      "metadata": {
        "id": "KNxrvZTewFFB"
      },
      "source": [
        "# Conclusion 1"
      ]
    },
    {
      "cell_type": "markdown",
      "metadata": {
        "id": "WaFoRZ_SwIeO"
      },
      "source": [
        "This is a rough notebook of estimating continuous treatment effect by making a model of outcome in terms of GPS and the dosage with a quadratic regression model. Can't say for sure I am super confident this method is right, because I am unsure of a lot of R functions such as `svycontrast` and exactly what it does. Also the covariate balance seems very bad in my examination approach.\r\n",
        "\r\n",
        "Will polish this method and use **inverse probability weighing** in the future to do better in covariate balance."
      ]
    },
    {
      "cell_type": "markdown",
      "metadata": {
        "id": "O8ljF-czxk4S"
      },
      "source": [
        "# Inverse probability weighting"
      ]
    },
    {
      "cell_type": "markdown",
      "metadata": {
        "id": "fGhkM9shzXBh"
      },
      "source": [
        "Robins et al. (2000) proposed inverse probability weighting to get rid of selection bias. The weight in this continuous treatment case is \r\n",
        "$w_i = \\frac{f_Z(z_i)}{f_{Z|X}(z_i|x_i)}$, where $z_i$ means the treatment dosage $i$-th individual receives, $x_i$ denotes his covariates. The formula's denominator is just the generalized propensisty score we calculated before, and the nominator is marginal densisty of treatment dosage at a particular value."
      ]
    },
    {
      "cell_type": "markdown",
      "metadata": {
        "id": "f5bgw-YP0VOJ"
      },
      "source": [
        "## calculate inverse probability weight."
      ]
    },
    {
      "cell_type": "code",
      "metadata": {
        "id": "jydWn6eLzaPS"
      },
      "source": [
        "%%R\r\n",
        "# for each row, add another entry of that row's densisty according to that row's\r\n",
        "# GovernmentResponseIndex (treatment dosage), based on the distribution of GovernmentResponseIndex\r\n",
        "# we assume here the distribution of GovernmentResponseIndex is gaussian, which is\r\n",
        "# not far away from the truth.\r\n",
        "data$numerator <- with(data,  dnorm(GovernmentResponseIndex, mean = mean(GovernmentResponseIndex),\r\n",
        "                                    sd = sd(GovernmentResponseIndex)))"
      ],
      "execution_count": 48,
      "outputs": []
    },
    {
      "cell_type": "code",
      "metadata": {
        "id": "p0ZF7Z4j1GPW"
      },
      "source": [
        "%%R\r\n",
        "data$IPW <- with(data, numerator/GPS)"
      ],
      "execution_count": 49,
      "outputs": []
    },
    {
      "cell_type": "code",
      "metadata": {
        "colab": {
          "base_uri": "https://localhost:8080/"
        },
        "id": "e5Ln4ah61KO1",
        "outputId": "9f25bdd8-018b-4e6b-9fa6-c28ea9a1fa28"
      },
      "source": [
        "%%R\r\n",
        "head(data)"
      ],
      "execution_count": 50,
      "outputs": [
        {
          "output_type": "stream",
          "text": [
            "  state state_code State.Name      cnamelong county_code diff_in_perc_at_home\n",
            "0     1         AL    Alabama Autauga County        1001          0.050678282\n",
            "1     1         AL    Alabama Baldwin County        1003          0.050311979\n",
            "2     1         AL    Alabama Barbour County        1005          0.007036924\n",
            "3     1         AL    Alabama    Bibb County        1007          0.011808926\n",
            "4     1         AL    Alabama  Blount County        1009          0.038890321\n",
            "5     1         AL    Alabama Bullock County        1011         -0.009576347\n",
            "  SIP. Median.Household.Income X..Rural Population_y political_diff\n",
            "0    1                   59338     42.0        55601    -0.49478934\n",
            "1    1                   57588     42.3       218022    -0.57786162\n",
            "2    1                   34382     67.8        24881    -0.05611165\n",
            "3    1                   46064     68.4        22400    -0.55544124\n",
            "4    1                   50412     90.0        57840    -0.81381973\n",
            "5    1                   29267     51.4        10138     0.50861519\n",
            "  X..less.than.18.years.of.age X..65.and.over X..Asian X..Black X..Hispanic\n",
            "0                         23.7           15.6      1.2     19.3         3.0\n",
            "1                         21.6           20.4      1.2      8.8         4.6\n",
            "2                         20.9           19.4      0.5     48.0         4.3\n",
            "3                         20.5           16.5      0.2     21.1         2.6\n",
            "4                         23.2           18.2      0.3      1.5         9.6\n",
            "5                         21.1           16.4      0.2     69.5         8.0\n",
            "  X..Non.Hispanic.White GovernmentResponseIndex        GPS  numerator      IPW\n",
            "0                  74.3                69.13484 0.07162899 0.07445071 1.039394\n",
            "1                  83.1                69.13484 0.07205904 0.07445071 1.033190\n",
            "2                  45.6                69.13484 0.07446314 0.07445071 0.999833\n",
            "3                  74.6                69.13484 0.07439824 0.07445071 1.000705\n",
            "4                  86.9                69.13484 0.06848431 0.07445071 1.087121\n",
            "5                  21.2                69.13484 0.07353232 0.07445071 1.012490\n"
          ],
          "name": "stdout"
        }
      ]
    },
    {
      "cell_type": "code",
      "metadata": {
        "colab": {
          "base_uri": "https://localhost:8080/"
        },
        "id": "3y7U36X11LYo",
        "outputId": "c0fe9b31-956e-4211-b9dc-1ca6bca4881a"
      },
      "source": [
        "%%R\r\n",
        "print(summary(data$IPW))"
      ],
      "execution_count": 51,
      "outputs": [
        {
          "output_type": "stream",
          "text": [
            "    Min.  1st Qu.   Median     Mean  3rd Qu.     Max. \n",
            " 0.07861  0.86221  0.98158  1.00568  1.04462 20.47321 \n"
          ],
          "name": "stdout"
        }
      ]
    },
    {
      "cell_type": "markdown",
      "metadata": {
        "id": "ZCUjKVzX1fSg"
      },
      "source": [
        "We can see that the maxium weight we created is `20`, which is not of great concern here. Again, there is not a literature right now about what kind of weights are extremely high, but my general feelings is if it is above `50` or `100` then it is insanely high. "
      ]
    },
    {
      "cell_type": "markdown",
      "metadata": {
        "id": "c6owJGh61xzZ"
      },
      "source": [
        "## Covariate balance check again."
      ]
    },
    {
      "cell_type": "code",
      "metadata": {
        "id": "ghVEEk1K1Tlw"
      },
      "source": [
        "%%R\r\n",
        "designIPW <- svydesign(ids=~1, weights=~IPW, data=data)"
      ],
      "execution_count": 52,
      "outputs": []
    },
    {
      "cell_type": "code",
      "metadata": {
        "id": "4Vd7NQGo3KIn"
      },
      "source": [
        "%%R\r\n",
        "formula <- paste('GovernmentResponseIndex~', covariateNames[1], sep = '')"
      ],
      "execution_count": 53,
      "outputs": []
    },
    {
      "cell_type": "code",
      "metadata": {
        "id": "Xw400X4c4D9g"
      },
      "source": [
        "%%R\r\n",
        "# design in the arguments is our design object without IPW\r\n",
        "glm <- svyglm(formula,design)"
      ],
      "execution_count": 54,
      "outputs": []
    },
    {
      "cell_type": "code",
      "metadata": {
        "colab": {
          "base_uri": "https://localhost:8080/"
        },
        "id": "xtqQl5jm5JeH",
        "outputId": "c1021a3a-a3db-465a-c760-ceb2dee92b99"
      },
      "source": [
        "%%R\r\n",
        "print(coef(glm))"
      ],
      "execution_count": 55,
      "outputs": [
        {
          "output_type": "stream",
          "text": [
            "            (Intercept) Median.Household.Income \n",
            "           6.628442e+01            4.249972e-05 \n"
          ],
          "name": "stdout"
        }
      ]
    },
    {
      "cell_type": "code",
      "metadata": {
        "colab": {
          "base_uri": "https://localhost:8080/"
        },
        "id": "mBILQ61r4X37",
        "outputId": "e4958d36-f563-4472-8cda-37a55f27e4ea"
      },
      "source": [
        "%%R\r\n",
        "# -1 means drop the first element in array in R.\r\n",
        "print(coef(glm)[-1])"
      ],
      "execution_count": 56,
      "outputs": [
        {
          "output_type": "stream",
          "text": [
            "Median.Household.Income \n",
            "           4.249972e-05 \n"
          ],
          "name": "stdout"
        }
      ]
    },
    {
      "cell_type": "code",
      "metadata": {
        "id": "t2r3aWYP2cFZ"
      },
      "source": [
        "%%R\r\n",
        "balanceTableIPW <- data.frame()\r\n",
        "for (index in 1:length(covariateNames)) {\r\n",
        "    balanceFormula <- paste('GovernmentResponseIndex~', covariateNames[index], sep = '')\r\n",
        "    maxEffBaseline <- max(abs(coef(svyglm(balanceFormula, design))[-1]))\r\n",
        "    maxEffIPW <- max(abs(coef(svyglm(balanceFormula, designIPW))[-1]))\r\n",
        "    # add these two entries to our table.\r\n",
        "    balanceTableIPW <- rbind(balanceTableIPW,c(index, maxEffBaseline, maxEffIPW))\r\n",
        "}"
      ],
      "execution_count": 57,
      "outputs": []
    },
    {
      "cell_type": "code",
      "metadata": {
        "colab": {
          "base_uri": "https://localhost:8080/"
        },
        "id": "QTh-UNP-6Cpg",
        "outputId": "42d17d27-32b9-49d4-f6cc-7471dcb9ac61"
      },
      "source": [
        "%%R\r\n",
        "balanceTableIPW"
      ],
      "execution_count": 58,
      "outputs": [
        {
          "output_type": "stream",
          "text": [
            "   X1 X4.24997162238739e.05 X3.5977298051223e.06\n",
            "1   1          4.249972e-05         3.597730e-06\n",
            "2   2          1.953963e-02         1.715260e-03\n",
            "3   3          1.732383e-06         2.393856e-07\n",
            "4   4          4.001141e+00         1.110030e+00\n",
            "5   5          3.559090e-01         7.056735e-02\n",
            "6   6          2.394763e-02         5.185418e-02\n",
            "7   7          2.803195e-01         7.182487e-02\n",
            "8   8          1.386919e-02         1.288771e-03\n",
            "9   9          1.293072e-03         1.135625e-02\n",
            "10 10          4.363113e-03         1.833805e-02\n"
          ],
          "name": "stdout"
        }
      ]
    },
    {
      "cell_type": "code",
      "metadata": {
        "id": "KIhnBrn65no9"
      },
      "source": [
        "%%R\r\n",
        "names(balanceTableIPW) <- c('variable', 'coefWithoutIPW', 'coefIPW')"
      ],
      "execution_count": 59,
      "outputs": []
    },
    {
      "cell_type": "code",
      "metadata": {
        "colab": {
          "base_uri": "https://localhost:8080/"
        },
        "id": "R-pJ51895pvF",
        "outputId": "1b7e1763-8ca0-423e-eaf9-f7ecc93be445"
      },
      "source": [
        "%%R\r\n",
        "balanceTableIPW"
      ],
      "execution_count": 60,
      "outputs": [
        {
          "output_type": "stream",
          "text": [
            "   variable coefWithoutIPW      coefIPW\n",
            "1         1   4.249972e-05 3.597730e-06\n",
            "2         2   1.953963e-02 1.715260e-03\n",
            "3         3   1.732383e-06 2.393856e-07\n",
            "4         4   4.001141e+00 1.110030e+00\n",
            "5         5   3.559090e-01 7.056735e-02\n",
            "6         6   2.394763e-02 5.185418e-02\n",
            "7         7   2.803195e-01 7.182487e-02\n",
            "8         8   1.386919e-02 1.288771e-03\n",
            "9         9   1.293072e-03 1.135625e-02\n",
            "10       10   4.363113e-03 1.833805e-02\n"
          ],
          "name": "stdout"
        }
      ]
    },
    {
      "cell_type": "code",
      "metadata": {
        "id": "berMquDT6KHs"
      },
      "source": [
        "%%R\r\n",
        "balanceTableIPW$coefWithoutIPW <- balanceTableIPW$coefWithoutIPW / sqrt(coef(svyvar(~GovernmentResponseIndex, design)))"
      ],
      "execution_count": 61,
      "outputs": []
    },
    {
      "cell_type": "code",
      "metadata": {
        "id": "7tJeobUE65li"
      },
      "source": [
        "%%R\r\n",
        "balanceTableIPW$coefIPW <- balanceTableIPW$coefIPW / sqrt(coef(svyvar(~GovernmentResponseIndex,designIPW)))"
      ],
      "execution_count": 62,
      "outputs": []
    },
    {
      "cell_type": "code",
      "metadata": {
        "id": "xR10Ljwx6iFp"
      },
      "source": [
        "%%R\r\n",
        "balanceTableIPW$variable <- covariateNames "
      ],
      "execution_count": 63,
      "outputs": []
    },
    {
      "cell_type": "code",
      "metadata": {
        "colab": {
          "base_uri": "https://localhost:8080/"
        },
        "id": "8epf2g2j7kKL",
        "outputId": "010b195f-0bf0-41ce-f437-568ece432132"
      },
      "source": [
        "%%R\r\n",
        "balanceTableIPW"
      ],
      "execution_count": 64,
      "outputs": [
        {
          "output_type": "stream",
          "text": [
            "                       variable coefWithoutIPW      coefIPW\n",
            "1       Median.Household.Income   7.981682e-06 7.020283e-07\n",
            "2                      X..Rural   3.669651e-03 3.347002e-04\n",
            "3                  Population_y   3.253512e-07 4.671153e-08\n",
            "4                political_diff   7.514365e-01 2.166011e-01\n",
            "5  X..less.than.18.years.of.age   6.684167e-02 1.376987e-02\n",
            "6                X..65.and.over   4.497497e-03 1.011835e-02\n",
            "7                      X..Asian   5.264555e-02 1.401525e-02\n",
            "8                      X..Black   2.604712e-03 2.514791e-04\n",
            "9                   X..Hispanic   2.428460e-04 2.215956e-03\n",
            "10        X..Non.Hispanic.White   8.194167e-04 3.578320e-03\n"
          ],
          "name": "stdout"
        }
      ]
    },
    {
      "cell_type": "markdown",
      "metadata": {
        "id": "hVTl6rck7550"
      },
      "source": [
        "Seeing from this table our original method is not that bad, as `coefWithoutIPW` are in the order of `e-02`, which are less than `0.1`, except for `political_diff`, which is `0.7`. our `coefIPW` improves that into `0.2`\r\n",
        "\r\n",
        "Am I doing something wrong? The standard effect size shouldn't be this small!"
      ]
    },
    {
      "cell_type": "markdown",
      "metadata": {
        "id": "Q9_dMNTb8aoS"
      },
      "source": [
        "## estimation of ATE"
      ]
    },
    {
      "cell_type": "markdown",
      "metadata": {
        "id": "lK2YFKye9q17"
      },
      "source": [
        "We can estimate the average treatment effect in the continuous case by fitting a regression model to $y_i = \\beta_0 + \\gamma Z_i + \\epsilon_i$, where $Z_i$ is the dosage (treatment), and $y_i$ is the the response variable we want (in this case difference in people's behavioral change). So then $\\gamma$ is the ATE we will report.\r\n",
        "\r\n",
        "It is noted in the book that if we have some covariates that didn't achieve the covariate balance (standard effect size $> 0.1$), then we need to include those covaraites and their interaction with the treatment dosage into our regression model.\r\n",
        "\r\n",
        "In our case the `political_diff` didn't achieve great balance, so we will include that in our regression model as follows:\r\n",
        "$$y_i = \\beta_0 + \\gamma Z_i + \\beta_1 X + \\beta_2 X_i Z_i + \\epsilon_i$$,\r\n",
        "Where $X_i$ is the `political_diff` covaraite.\r\n",
        "\r\n",
        "**We also need to center the covariate to make ATE result interpretable** "
      ]
    },
    {
      "cell_type": "code",
      "metadata": {
        "id": "VuSKMsmv8XLH"
      },
      "source": [
        "%%R\r\n",
        "# center political_diff, scale = F means we don't make the whole\r\n",
        "# thing unit standard deviation, we only center the distribution.\r\n",
        "data$political_diff <- scale(data$political_diff, scale = F)"
      ],
      "execution_count": 65,
      "outputs": []
    },
    {
      "cell_type": "code",
      "metadata": {
        "id": "9ROlf8QV--V5"
      },
      "source": [
        "%%R\r\n",
        "# recreate designIPW object because political_diff has changed.\r\n",
        "designIPW <- svydesign(ids=~1,weights=~IPW,data=data)"
      ],
      "execution_count": 66,
      "outputs": []
    },
    {
      "cell_type": "code",
      "metadata": {
        "id": "ujv3zxET_WUz"
      },
      "source": [
        "%%R\r\n",
        "outcomeModelDR <- svyglm(formula = diff_in_perc_at_home~GovernmentResponseIndex + \r\n",
        "                         political_diff + political_diff:GovernmentResponseIndex,\r\n",
        "                         design = designIPW, family=gaussian) "
      ],
      "execution_count": 67,
      "outputs": []
    },
    {
      "cell_type": "code",
      "metadata": {
        "colab": {
          "base_uri": "https://localhost:8080/"
        },
        "id": "pUsvSfFq_36D",
        "outputId": "79f002e8-ceb7-4201-8c3c-46779d694fba"
      },
      "source": [
        "%%R\r\n",
        "summary(outcomeModelDR)"
      ],
      "execution_count": 68,
      "outputs": [
        {
          "output_type": "stream",
          "text": [
            "\n",
            "Call:\n",
            "svyglm(formula = diff_in_perc_at_home ~ GovernmentResponseIndex + \n",
            "    political_diff + political_diff:GovernmentResponseIndex, \n",
            "    design = designIPW, family = gaussian)\n",
            "\n",
            "Survey design:\n",
            "svydesign(ids = ~1, weights = ~IPW, data = data)\n",
            "\n",
            "Coefficients:\n",
            "                                         Estimate Std. Error t value Pr(>|t|)\n",
            "(Intercept)                             3.455e-02  1.363e-02   2.536  0.01127\n",
            "GovernmentResponseIndex                -7.837e-05  2.034e-04  -0.385  0.70010\n",
            "political_diff                         -1.103e-01  4.966e-02  -2.220  0.02650\n",
            "GovernmentResponseIndex:political_diff  2.336e-03  7.298e-04   3.201  0.00139\n",
            "                                         \n",
            "(Intercept)                            * \n",
            "GovernmentResponseIndex                  \n",
            "political_diff                         * \n",
            "GovernmentResponseIndex:political_diff **\n",
            "---\n",
            "Signif. codes:  0 ‘***’ 0.001 ‘**’ 0.01 ‘*’ 0.05 ‘.’ 0.1 ‘ ’ 1\n",
            "\n",
            "(Dispersion parameter for gaussian family taken to be 0.001431601)\n",
            "\n",
            "Number of Fisher Scoring iterations: 2\n",
            "\n"
          ],
          "name": "stdout"
        }
      ]
    },
    {
      "cell_type": "markdown",
      "metadata": {
        "id": "CMfrS7SyASfl"
      },
      "source": [
        "This looks bad because the p score of `GovernmentResponseIndex` is `0.7`, which means it is not statistically significant. And the coefficient of `GovernmentResponseIndex` in the regression model is so low... Am I doing something wrong???? "
      ]
    },
    {
      "cell_type": "markdown",
      "metadata": {
        "id": "UrPAbIUuAiNb"
      },
      "source": [
        "# Conclusion 2"
      ]
    },
    {
      "cell_type": "markdown",
      "metadata": {
        "id": "ScYa_G97Aj-n"
      },
      "source": [
        "- Really think I am doing something wrong with both the covariate balance check and the ATE estimate\r\n",
        "- current ATE with IPW is really small and statistically unsignificant.\r\n",
        "- current covariate balance is really good (in the order of `e-2, e-3`) except for `political_diff` variable (`0.2`)"
      ]
    },
    {
      "cell_type": "code",
      "metadata": {
        "id": "-QmNvnFGAhGk"
      },
      "source": [
        ""
      ],
      "execution_count": 68,
      "outputs": []
    }
  ]
}