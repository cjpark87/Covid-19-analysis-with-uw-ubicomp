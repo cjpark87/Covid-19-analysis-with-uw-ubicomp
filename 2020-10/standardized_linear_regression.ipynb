{
  "nbformat": 4,
  "nbformat_minor": 0,
  "metadata": {
    "colab": {
      "name": "standardized_linear_regression.ipynb",
      "provenance": [],
      "mount_file_id": "1kMhamSWsOHQnO4u5AY-2b9HMMvjTdkXP",
      "authorship_tag": "ABX9TyMYrkR64lXJmE+vlEu8pqDE",
      "include_colab_link": true
    },
    "kernelspec": {
      "name": "python3",
      "display_name": "Python 3"
    }
  },
  "cells": [
    {
      "cell_type": "markdown",
      "metadata": {
        "id": "view-in-github",
        "colab_type": "text"
      },
      "source": [
        "<a href=\"https://colab.research.google.com/github/wenjunsun/Covid-19-analysis-with-uw-ubicomp/blob/master/2020-10/standardized_linear_regression.ipynb\" target=\"_parent\"><img src=\"https://colab.research.google.com/assets/colab-badge.svg\" alt=\"Open In Colab\"/></a>"
      ]
    },
    {
      "cell_type": "markdown",
      "metadata": {
        "id": "MTSXGpGpQ_M1"
      },
      "source": [
        "In this notebook we will use not just a normalized linear regression but standardized linear regression, which is one of the possible methods to detect the importance of features in impacting the respnose variable. (response in this case is the change in people's stay at home behavior during COVID)"
      ]
    },
    {
      "cell_type": "markdown",
      "metadata": {
        "id": "xDeibtIqRYPZ"
      },
      "source": [
        "*Data used here use a time window from shelter in place date to 6/1, and use shetler in place date as the baseline date, not first case date. The counties without shelter in place uses mean shelter in place date.*"
      ]
    },
    {
      "cell_type": "code",
      "metadata": {
        "id": "AI3k_-5aQ2LG",
        "outputId": "21842c44-3b20-48a6-a449-3b7a7cba138b",
        "colab": {
          "base_uri": "https://localhost:8080/",
          "height": 34
        }
      },
      "source": [
        "cd drive/My\\ Drive/fall"
      ],
      "execution_count": 1,
      "outputs": [
        {
          "output_type": "stream",
          "text": [
            "/content/drive/My Drive/fall\n"
          ],
          "name": "stdout"
        }
      ]
    },
    {
      "cell_type": "code",
      "metadata": {
        "id": "Kqpv-IQ_RQdF"
      },
      "source": [
        "import pandas as pd\n",
        "import numpy as np\n",
        "import matplotlib.pyplot as plt"
      ],
      "execution_count": 2,
      "outputs": []
    },
    {
      "cell_type": "code",
      "metadata": {
        "id": "iI6_DbkqReEE"
      },
      "source": [
        "data = pd.read_csv('county_data_with_reduced_covariates_with_SIP.csv')"
      ],
      "execution_count": 3,
      "outputs": []
    },
    {
      "cell_type": "code",
      "metadata": {
        "id": "-HrJ1fEBRfBl",
        "outputId": "4fa377fd-9f9d-4b5a-9c9d-a67109dd5af6",
        "colab": {
          "base_uri": "https://localhost:8080/",
          "height": 411
        }
      },
      "source": [
        "data.head()"
      ],
      "execution_count": 4,
      "outputs": [
        {
          "output_type": "execute_result",
          "data": {
            "text/html": [
              "<div>\n",
              "<style scoped>\n",
              "    .dataframe tbody tr th:only-of-type {\n",
              "        vertical-align: middle;\n",
              "    }\n",
              "\n",
              "    .dataframe tbody tr th {\n",
              "        vertical-align: top;\n",
              "    }\n",
              "\n",
              "    .dataframe thead th {\n",
              "        text-align: right;\n",
              "    }\n",
              "</style>\n",
              "<table border=\"1\" class=\"dataframe\">\n",
              "  <thead>\n",
              "    <tr style=\"text-align: right;\">\n",
              "      <th></th>\n",
              "      <th>state</th>\n",
              "      <th>state_code</th>\n",
              "      <th>State Name</th>\n",
              "      <th>cnamelong</th>\n",
              "      <th>county_code</th>\n",
              "      <th>diff_in_perc_at_home</th>\n",
              "      <th>SIP?</th>\n",
              "      <th>Median Household Income</th>\n",
              "      <th>% Rural</th>\n",
              "      <th>Population_y</th>\n",
              "      <th>political_diff</th>\n",
              "      <th>% less than 18 years of age</th>\n",
              "      <th>% 65 and over</th>\n",
              "      <th>% Asian</th>\n",
              "      <th>% Black</th>\n",
              "      <th>% Hispanic</th>\n",
              "      <th>% Non-Hispanic White</th>\n",
              "    </tr>\n",
              "  </thead>\n",
              "  <tbody>\n",
              "    <tr>\n",
              "      <th>0</th>\n",
              "      <td>1.0</td>\n",
              "      <td>AL</td>\n",
              "      <td>Alabama</td>\n",
              "      <td>Autauga County</td>\n",
              "      <td>1001.0</td>\n",
              "      <td>0.050678</td>\n",
              "      <td>1</td>\n",
              "      <td>59338.0</td>\n",
              "      <td>42.0</td>\n",
              "      <td>55601</td>\n",
              "      <td>-0.494789</td>\n",
              "      <td>23.7</td>\n",
              "      <td>15.6</td>\n",
              "      <td>1.2</td>\n",
              "      <td>19.3</td>\n",
              "      <td>3.0</td>\n",
              "      <td>74.3</td>\n",
              "    </tr>\n",
              "    <tr>\n",
              "      <th>1</th>\n",
              "      <td>1.0</td>\n",
              "      <td>AL</td>\n",
              "      <td>Alabama</td>\n",
              "      <td>Baldwin County</td>\n",
              "      <td>1003.0</td>\n",
              "      <td>0.050312</td>\n",
              "      <td>1</td>\n",
              "      <td>57588.0</td>\n",
              "      <td>42.3</td>\n",
              "      <td>218022</td>\n",
              "      <td>-0.577862</td>\n",
              "      <td>21.6</td>\n",
              "      <td>20.4</td>\n",
              "      <td>1.2</td>\n",
              "      <td>8.8</td>\n",
              "      <td>4.6</td>\n",
              "      <td>83.1</td>\n",
              "    </tr>\n",
              "    <tr>\n",
              "      <th>2</th>\n",
              "      <td>1.0</td>\n",
              "      <td>AL</td>\n",
              "      <td>Alabama</td>\n",
              "      <td>Barbour County</td>\n",
              "      <td>1005.0</td>\n",
              "      <td>0.007037</td>\n",
              "      <td>1</td>\n",
              "      <td>34382.0</td>\n",
              "      <td>67.8</td>\n",
              "      <td>24881</td>\n",
              "      <td>-0.056112</td>\n",
              "      <td>20.9</td>\n",
              "      <td>19.4</td>\n",
              "      <td>0.5</td>\n",
              "      <td>48.0</td>\n",
              "      <td>4.3</td>\n",
              "      <td>45.6</td>\n",
              "    </tr>\n",
              "    <tr>\n",
              "      <th>3</th>\n",
              "      <td>1.0</td>\n",
              "      <td>AL</td>\n",
              "      <td>Alabama</td>\n",
              "      <td>Bibb County</td>\n",
              "      <td>1007.0</td>\n",
              "      <td>0.011809</td>\n",
              "      <td>1</td>\n",
              "      <td>46064.0</td>\n",
              "      <td>68.4</td>\n",
              "      <td>22400</td>\n",
              "      <td>-0.555441</td>\n",
              "      <td>20.5</td>\n",
              "      <td>16.5</td>\n",
              "      <td>0.2</td>\n",
              "      <td>21.1</td>\n",
              "      <td>2.6</td>\n",
              "      <td>74.6</td>\n",
              "    </tr>\n",
              "    <tr>\n",
              "      <th>4</th>\n",
              "      <td>1.0</td>\n",
              "      <td>AL</td>\n",
              "      <td>Alabama</td>\n",
              "      <td>Blount County</td>\n",
              "      <td>1009.0</td>\n",
              "      <td>0.038890</td>\n",
              "      <td>1</td>\n",
              "      <td>50412.0</td>\n",
              "      <td>90.0</td>\n",
              "      <td>57840</td>\n",
              "      <td>-0.813820</td>\n",
              "      <td>23.2</td>\n",
              "      <td>18.2</td>\n",
              "      <td>0.3</td>\n",
              "      <td>1.5</td>\n",
              "      <td>9.6</td>\n",
              "      <td>86.9</td>\n",
              "    </tr>\n",
              "  </tbody>\n",
              "</table>\n",
              "</div>"
            ],
            "text/plain": [
              "   state state_code State Name  ... % Black  % Hispanic  % Non-Hispanic White\n",
              "0    1.0         AL    Alabama  ...    19.3         3.0                  74.3\n",
              "1    1.0         AL    Alabama  ...     8.8         4.6                  83.1\n",
              "2    1.0         AL    Alabama  ...    48.0         4.3                  45.6\n",
              "3    1.0         AL    Alabama  ...    21.1         2.6                  74.6\n",
              "4    1.0         AL    Alabama  ...     1.5         9.6                  86.9\n",
              "\n",
              "[5 rows x 17 columns]"
            ]
          },
          "metadata": {
            "tags": []
          },
          "execution_count": 4
        }
      ]
    },
    {
      "cell_type": "code",
      "metadata": {
        "id": "RKfUMvy8Rm97"
      },
      "source": [
        "# drop non-numeric columns\n",
        "data.drop(['state_code', 'State Name', 'cnamelong'], axis = 1, inplace=True)"
      ],
      "execution_count": 6,
      "outputs": []
    },
    {
      "cell_type": "code",
      "metadata": {
        "id": "9xR3kELnUjKU",
        "outputId": "d2523459-f1fe-4629-c0e6-10effdddcad1",
        "colab": {
          "base_uri": "https://localhost:8080/",
          "height": 34
        }
      },
      "source": [
        "data.shape"
      ],
      "execution_count": 15,
      "outputs": [
        {
          "output_type": "execute_result",
          "data": {
            "text/plain": [
              "(2996, 14)"
            ]
          },
          "metadata": {
            "tags": []
          },
          "execution_count": 15
        }
      ]
    },
    {
      "cell_type": "code",
      "metadata": {
        "id": "qJ1tUq9gUf38"
      },
      "source": [
        "data.dropna(inplace=True)"
      ],
      "execution_count": 16,
      "outputs": []
    },
    {
      "cell_type": "code",
      "metadata": {
        "id": "_h7uhqFHUkbC",
        "outputId": "acff625f-4498-44bb-835c-c3f81d9d624f",
        "colab": {
          "base_uri": "https://localhost:8080/",
          "height": 34
        }
      },
      "source": [
        "data.shape"
      ],
      "execution_count": 17,
      "outputs": [
        {
          "output_type": "execute_result",
          "data": {
            "text/plain": [
              "(2995, 14)"
            ]
          },
          "metadata": {
            "tags": []
          },
          "execution_count": 17
        }
      ]
    },
    {
      "cell_type": "markdown",
      "metadata": {
        "id": "VoZh4oaeSqc_"
      },
      "source": [
        "We first do a linear regression of all the counties, then do a separate regression analysis on the counties with/without shelter in place."
      ]
    },
    {
      "cell_type": "markdown",
      "metadata": {
        "id": "R6K47GGXS6C8"
      },
      "source": [
        "# 1. Standardized Linear Regression on all counties"
      ]
    },
    {
      "cell_type": "code",
      "metadata": {
        "id": "9TGqDcXHTE1W"
      },
      "source": [
        "# get covariates\n",
        "X = data.drop(['diff_in_perc_at_home', 'SIP?'], axis=1)\n",
        "# get response variable\n",
        "y = data['diff_in_perc_at_home'] "
      ],
      "execution_count": 18,
      "outputs": []
    },
    {
      "cell_type": "code",
      "metadata": {
        "id": "FcRKu4HYTarH",
        "outputId": "f7bfdf00-ccd1-4620-bac7-55f62a4d7e02",
        "colab": {
          "base_uri": "https://localhost:8080/",
          "height": 453
        }
      },
      "source": [
        "X"
      ],
      "execution_count": 19,
      "outputs": [
        {
          "output_type": "execute_result",
          "data": {
            "text/html": [
              "<div>\n",
              "<style scoped>\n",
              "    .dataframe tbody tr th:only-of-type {\n",
              "        vertical-align: middle;\n",
              "    }\n",
              "\n",
              "    .dataframe tbody tr th {\n",
              "        vertical-align: top;\n",
              "    }\n",
              "\n",
              "    .dataframe thead th {\n",
              "        text-align: right;\n",
              "    }\n",
              "</style>\n",
              "<table border=\"1\" class=\"dataframe\">\n",
              "  <thead>\n",
              "    <tr style=\"text-align: right;\">\n",
              "      <th></th>\n",
              "      <th>state</th>\n",
              "      <th>county_code</th>\n",
              "      <th>Median Household Income</th>\n",
              "      <th>% Rural</th>\n",
              "      <th>Population_y</th>\n",
              "      <th>political_diff</th>\n",
              "      <th>% less than 18 years of age</th>\n",
              "      <th>% 65 and over</th>\n",
              "      <th>% Asian</th>\n",
              "      <th>% Black</th>\n",
              "      <th>% Hispanic</th>\n",
              "      <th>% Non-Hispanic White</th>\n",
              "    </tr>\n",
              "  </thead>\n",
              "  <tbody>\n",
              "    <tr>\n",
              "      <th>0</th>\n",
              "      <td>1.0</td>\n",
              "      <td>1001.0</td>\n",
              "      <td>59338.0</td>\n",
              "      <td>42.0</td>\n",
              "      <td>55601</td>\n",
              "      <td>-0.494789</td>\n",
              "      <td>23.7</td>\n",
              "      <td>15.6</td>\n",
              "      <td>1.2</td>\n",
              "      <td>19.3</td>\n",
              "      <td>3.0</td>\n",
              "      <td>74.3</td>\n",
              "    </tr>\n",
              "    <tr>\n",
              "      <th>1</th>\n",
              "      <td>1.0</td>\n",
              "      <td>1003.0</td>\n",
              "      <td>57588.0</td>\n",
              "      <td>42.3</td>\n",
              "      <td>218022</td>\n",
              "      <td>-0.577862</td>\n",
              "      <td>21.6</td>\n",
              "      <td>20.4</td>\n",
              "      <td>1.2</td>\n",
              "      <td>8.8</td>\n",
              "      <td>4.6</td>\n",
              "      <td>83.1</td>\n",
              "    </tr>\n",
              "    <tr>\n",
              "      <th>2</th>\n",
              "      <td>1.0</td>\n",
              "      <td>1005.0</td>\n",
              "      <td>34382.0</td>\n",
              "      <td>67.8</td>\n",
              "      <td>24881</td>\n",
              "      <td>-0.056112</td>\n",
              "      <td>20.9</td>\n",
              "      <td>19.4</td>\n",
              "      <td>0.5</td>\n",
              "      <td>48.0</td>\n",
              "      <td>4.3</td>\n",
              "      <td>45.6</td>\n",
              "    </tr>\n",
              "    <tr>\n",
              "      <th>3</th>\n",
              "      <td>1.0</td>\n",
              "      <td>1007.0</td>\n",
              "      <td>46064.0</td>\n",
              "      <td>68.4</td>\n",
              "      <td>22400</td>\n",
              "      <td>-0.555441</td>\n",
              "      <td>20.5</td>\n",
              "      <td>16.5</td>\n",
              "      <td>0.2</td>\n",
              "      <td>21.1</td>\n",
              "      <td>2.6</td>\n",
              "      <td>74.6</td>\n",
              "    </tr>\n",
              "    <tr>\n",
              "      <th>4</th>\n",
              "      <td>1.0</td>\n",
              "      <td>1009.0</td>\n",
              "      <td>50412.0</td>\n",
              "      <td>90.0</td>\n",
              "      <td>57840</td>\n",
              "      <td>-0.813820</td>\n",
              "      <td>23.2</td>\n",
              "      <td>18.2</td>\n",
              "      <td>0.3</td>\n",
              "      <td>1.5</td>\n",
              "      <td>9.6</td>\n",
              "      <td>86.9</td>\n",
              "    </tr>\n",
              "    <tr>\n",
              "      <th>...</th>\n",
              "      <td>...</td>\n",
              "      <td>...</td>\n",
              "      <td>...</td>\n",
              "      <td>...</td>\n",
              "      <td>...</td>\n",
              "      <td>...</td>\n",
              "      <td>...</td>\n",
              "      <td>...</td>\n",
              "      <td>...</td>\n",
              "      <td>...</td>\n",
              "      <td>...</td>\n",
              "      <td>...</td>\n",
              "    </tr>\n",
              "    <tr>\n",
              "      <th>2991</th>\n",
              "      <td>56.0</td>\n",
              "      <td>56037.0</td>\n",
              "      <td>73315.0</td>\n",
              "      <td>10.9</td>\n",
              "      <td>43051</td>\n",
              "      <td>-0.535382</td>\n",
              "      <td>26.2</td>\n",
              "      <td>12.1</td>\n",
              "      <td>1.0</td>\n",
              "      <td>1.1</td>\n",
              "      <td>16.1</td>\n",
              "      <td>79.3</td>\n",
              "    </tr>\n",
              "    <tr>\n",
              "      <th>2992</th>\n",
              "      <td>56.0</td>\n",
              "      <td>56039.0</td>\n",
              "      <td>99087.0</td>\n",
              "      <td>46.4</td>\n",
              "      <td>23081</td>\n",
              "      <td>0.278663</td>\n",
              "      <td>18.4</td>\n",
              "      <td>15.4</td>\n",
              "      <td>1.4</td>\n",
              "      <td>0.6</td>\n",
              "      <td>14.9</td>\n",
              "      <td>81.5</td>\n",
              "    </tr>\n",
              "    <tr>\n",
              "      <th>2993</th>\n",
              "      <td>56.0</td>\n",
              "      <td>56041.0</td>\n",
              "      <td>63401.0</td>\n",
              "      <td>43.1</td>\n",
              "      <td>20299</td>\n",
              "      <td>-0.614926</td>\n",
              "      <td>28.8</td>\n",
              "      <td>14.1</td>\n",
              "      <td>0.5</td>\n",
              "      <td>0.7</td>\n",
              "      <td>9.2</td>\n",
              "      <td>87.4</td>\n",
              "    </tr>\n",
              "    <tr>\n",
              "      <th>2994</th>\n",
              "      <td>56.0</td>\n",
              "      <td>56043.0</td>\n",
              "      <td>55190.0</td>\n",
              "      <td>36.0</td>\n",
              "      <td>7885</td>\n",
              "      <td>-0.640377</td>\n",
              "      <td>22.7</td>\n",
              "      <td>21.7</td>\n",
              "      <td>0.8</td>\n",
              "      <td>0.5</td>\n",
              "      <td>14.1</td>\n",
              "      <td>82.4</td>\n",
              "    </tr>\n",
              "    <tr>\n",
              "      <th>2995</th>\n",
              "      <td>56.0</td>\n",
              "      <td>56045.0</td>\n",
              "      <td>54319.0</td>\n",
              "      <td>54.5</td>\n",
              "      <td>6967</td>\n",
              "      <td>-0.781044</td>\n",
              "      <td>20.8</td>\n",
              "      <td>20.5</td>\n",
              "      <td>1.9</td>\n",
              "      <td>0.6</td>\n",
              "      <td>4.1</td>\n",
              "      <td>90.0</td>\n",
              "    </tr>\n",
              "  </tbody>\n",
              "</table>\n",
              "<p>2995 rows × 12 columns</p>\n",
              "</div>"
            ],
            "text/plain": [
              "      state  county_code  ...  % Hispanic  % Non-Hispanic White\n",
              "0       1.0       1001.0  ...         3.0                  74.3\n",
              "1       1.0       1003.0  ...         4.6                  83.1\n",
              "2       1.0       1005.0  ...         4.3                  45.6\n",
              "3       1.0       1007.0  ...         2.6                  74.6\n",
              "4       1.0       1009.0  ...         9.6                  86.9\n",
              "...     ...          ...  ...         ...                   ...\n",
              "2991   56.0      56037.0  ...        16.1                  79.3\n",
              "2992   56.0      56039.0  ...        14.9                  81.5\n",
              "2993   56.0      56041.0  ...         9.2                  87.4\n",
              "2994   56.0      56043.0  ...        14.1                  82.4\n",
              "2995   56.0      56045.0  ...         4.1                  90.0\n",
              "\n",
              "[2995 rows x 12 columns]"
            ]
          },
          "metadata": {
            "tags": []
          },
          "execution_count": 19
        }
      ]
    },
    {
      "cell_type": "code",
      "metadata": {
        "id": "-Z9IA3seTbbe",
        "outputId": "06a16bdd-6ef0-4310-ca46-ef74ebcc2f4f",
        "colab": {
          "base_uri": "https://localhost:8080/",
          "height": 221
        }
      },
      "source": [
        "y"
      ],
      "execution_count": 20,
      "outputs": [
        {
          "output_type": "execute_result",
          "data": {
            "text/plain": [
              "0       0.050678\n",
              "1       0.050312\n",
              "2       0.007037\n",
              "3       0.011809\n",
              "4       0.038890\n",
              "          ...   \n",
              "2991   -0.018485\n",
              "2992    0.075183\n",
              "2993    0.010157\n",
              "2994   -0.007825\n",
              "2995   -0.003361\n",
              "Name: diff_in_perc_at_home, Length: 2995, dtype: float64"
            ]
          },
          "metadata": {
            "tags": []
          },
          "execution_count": 20
        }
      ]
    },
    {
      "cell_type": "code",
      "metadata": {
        "id": "4ZcHqN4CTghv"
      },
      "source": [
        "from sklearn.linear_model import LinearRegression\n",
        "from sklearn.preprocessing import StandardScaler"
      ],
      "execution_count": 12,
      "outputs": []
    },
    {
      "cell_type": "code",
      "metadata": {
        "id": "lcWJpCEETxEs"
      },
      "source": [
        "scaler = StandardScaler()\n",
        "X_scaled = scaler.fit_transform(X)"
      ],
      "execution_count": 21,
      "outputs": []
    },
    {
      "cell_type": "code",
      "metadata": {
        "id": "bYwGFp5zUTCw",
        "outputId": "1350d73c-3813-4b12-c840-13e6bafb6b08",
        "colab": {
          "base_uri": "https://localhost:8080/",
          "height": 34
        }
      },
      "source": [
        "regressor = LinearRegression().fit(X_scaled, y)\n",
        "r_2 = regressor.score(X_scaled, y) # R^2\n",
        "print(f'R^2 score is {r_2}')"
      ],
      "execution_count": 23,
      "outputs": [
        {
          "output_type": "stream",
          "text": [
            "R^2 score is 0.6204935097006014\n"
          ],
          "name": "stdout"
        }
      ]
    },
    {
      "cell_type": "code",
      "metadata": {
        "id": "4aegw4S4UwEi",
        "outputId": "65dfb19d-a3b8-4d0b-f625-b6011aa49b6d",
        "colab": {
          "base_uri": "https://localhost:8080/",
          "height": 68
        }
      },
      "source": [
        "regressor.coef_"
      ],
      "execution_count": 24,
      "outputs": [
        {
          "output_type": "execute_result",
          "data": {
            "text/plain": [
              "array([-0.11324832,  0.11216252,  0.0268063 , -0.00489883,  0.00593943,\n",
              "        0.00166582, -0.00249897,  0.00134661,  0.00254383,  0.0070198 ,\n",
              "        0.00277878,  0.00040917])"
            ]
          },
          "metadata": {
            "tags": []
          },
          "execution_count": 24
        }
      ]
    },
    {
      "cell_type": "code",
      "metadata": {
        "id": "NKrE6ifgVGwO",
        "outputId": "a38f34be-2fdf-41e8-dd05-e3476a1ee8f2",
        "colab": {
          "base_uri": "https://localhost:8080/",
          "height": 35
        }
      },
      "source": [
        "X.columns[0]"
      ],
      "execution_count": 26,
      "outputs": [
        {
          "output_type": "execute_result",
          "data": {
            "application/vnd.google.colaboratory.intrinsic+json": {
              "type": "string"
            },
            "text/plain": [
              "'state'"
            ]
          },
          "metadata": {
            "tags": []
          },
          "execution_count": 26
        }
      ]
    },
    {
      "cell_type": "code",
      "metadata": {
        "id": "0HPKA1j5U-Cs",
        "outputId": "649ece52-f626-42ce-8367-9217ebca6807",
        "colab": {
          "base_uri": "https://localhost:8080/",
          "height": 221
        }
      },
      "source": [
        "for i, coef in enumerate(regressor.coef_):\n",
        "  print(f'after standardization, feature {X.columns[i]}\\' coefficient is {coef}')"
      ],
      "execution_count": 28,
      "outputs": [
        {
          "output_type": "stream",
          "text": [
            "after standardization, feature state' coefficient is -0.11324831882999457\n",
            "after standardization, feature county_code' coefficient is 0.1121625203982438\n",
            "after standardization, feature Median Household Income' coefficient is 0.026806300144680044\n",
            "after standardization, feature % Rural' coefficient is -0.004898829211590388\n",
            "after standardization, feature Population_y' coefficient is 0.005939431320570068\n",
            "after standardization, feature political_diff' coefficient is 0.0016658248904302276\n",
            "after standardization, feature % less than 18 years of age' coefficient is -0.0024989651619581883\n",
            "after standardization, feature % 65 and over' coefficient is 0.0013466138402318173\n",
            "after standardization, feature % Asian' coefficient is 0.0025438326840402457\n",
            "after standardization, feature % Black' coefficient is 0.007019799750249989\n",
            "after standardization, feature % Hispanic' coefficient is 0.002778779318194798\n",
            "after standardization, feature % Non-Hispanic White' coefficient is 0.00040917003479432317\n"
          ],
          "name": "stdout"
        }
      ]
    },
    {
      "cell_type": "markdown",
      "metadata": {
        "id": "3GxX-aKoVftU"
      },
      "source": [
        "As we can see, the result is not so trustworthy because state + county_code has a big coefficient (I included them to see what random feature's coefficients will be). But we can still see within the valid covariates that median household income has a lot of weight."
      ]
    },
    {
      "cell_type": "markdown",
      "metadata": {
        "id": "01RIdEVnVyVy"
      },
      "source": [
        "Now let's do increase of R^2 analysis, when we include more and more covariates."
      ]
    },
    {
      "cell_type": "code",
      "metadata": {
        "id": "LMOz-1tWWSZG",
        "outputId": "40ac1d28-43dc-43a6-e0b3-1c01f227c727",
        "colab": {
          "base_uri": "https://localhost:8080/",
          "height": 136
        }
      },
      "source": [
        "X_scaled[:,:1]"
      ],
      "execution_count": 44,
      "outputs": [
        {
          "output_type": "execute_result",
          "data": {
            "text/plain": [
              "array([[-1.93227292],\n",
              "       [-1.93227292],\n",
              "       [-1.93227292],\n",
              "       ...,\n",
              "       [ 1.70092599],\n",
              "       [ 1.70092599],\n",
              "       [ 1.70092599]])"
            ]
          },
          "metadata": {
            "tags": []
          },
          "execution_count": 44
        }
      ]
    },
    {
      "cell_type": "code",
      "metadata": {
        "id": "eHhHL1XmVvnp",
        "outputId": "27401220-af6d-4cbd-8d1f-848349dd083c",
        "colab": {
          "base_uri": "https://localhost:8080/",
          "height": 221
        }
      },
      "source": [
        "r_2 = 0\n",
        "for i, column in enumerate(X.columns):\n",
        "  regressor = LinearRegression().fit(X_scaled[:,:i+1], y) # get the first i columns of X\n",
        "  r_2_new = regressor.score(X_scaled[:,:i+1], y) # the new R^2 we get by including one more covariate\n",
        "  print(f'including column {column} increase R^2 by {r_2_new - r_2}')\n",
        "  r_2 = r_2_new"
      ],
      "execution_count": 46,
      "outputs": [
        {
          "output_type": "stream",
          "text": [
            "including column state increase R^2 by 0.0004957572833375057\n",
            "including column county_code increase R^2 by 4.516964535627999e-06\n",
            "including column Median Household Income increase R^2 by 0.5070768643664485\n",
            "including column % Rural increase R^2 by 0.046398691366300926\n",
            "including column Population_y increase R^2 by 0.030175535546876242\n",
            "including column political_diff increase R^2 by 0.018466379457459325\n",
            "including column % less than 18 years of age increase R^2 by 0.002147545561360209\n",
            "including column % 65 and over increase R^2 by 1.6201555181893923e-06\n",
            "including column % Asian increase R^2 by 0.0013406707188996503\n",
            "including column % Black increase R^2 by 0.011879686488134977\n",
            "including column % Hispanic increase R^2 by 0.0024981447140786095\n",
            "including column % Non-Hispanic White increase R^2 by 8.097077651592066e-06\n"
          ],
          "name": "stdout"
        }
      ]
    },
    {
      "cell_type": "markdown",
      "metadata": {
        "id": "QasHpU2tXnsQ"
      },
      "source": [
        "We can see the increase of R^2 that is the biggest is median household income? **It increases the explanatory power of the model by 50% when we include it**????!!!! "
      ]
    },
    {
      "cell_type": "markdown",
      "metadata": {
        "id": "xj64g6zaS9Pi"
      },
      "source": [
        "# 2. Standardized Linear Regression on counties with shelter in place"
      ]
    },
    {
      "cell_type": "code",
      "metadata": {
        "id": "P2dsA-q1YASO"
      },
      "source": [
        "data_SIP = data[data['SIP?'] == 1]"
      ],
      "execution_count": 48,
      "outputs": []
    },
    {
      "cell_type": "code",
      "metadata": {
        "id": "GI4aA_JWYGnK",
        "outputId": "5fcf6e76-cf2e-48a8-c82c-d1afb08d25f8",
        "colab": {
          "base_uri": "https://localhost:8080/",
          "height": 470
        }
      },
      "source": [
        "data_SIP"
      ],
      "execution_count": 49,
      "outputs": [
        {
          "output_type": "execute_result",
          "data": {
            "text/html": [
              "<div>\n",
              "<style scoped>\n",
              "    .dataframe tbody tr th:only-of-type {\n",
              "        vertical-align: middle;\n",
              "    }\n",
              "\n",
              "    .dataframe tbody tr th {\n",
              "        vertical-align: top;\n",
              "    }\n",
              "\n",
              "    .dataframe thead th {\n",
              "        text-align: right;\n",
              "    }\n",
              "</style>\n",
              "<table border=\"1\" class=\"dataframe\">\n",
              "  <thead>\n",
              "    <tr style=\"text-align: right;\">\n",
              "      <th></th>\n",
              "      <th>state</th>\n",
              "      <th>county_code</th>\n",
              "      <th>diff_in_perc_at_home</th>\n",
              "      <th>SIP?</th>\n",
              "      <th>Median Household Income</th>\n",
              "      <th>% Rural</th>\n",
              "      <th>Population_y</th>\n",
              "      <th>political_diff</th>\n",
              "      <th>% less than 18 years of age</th>\n",
              "      <th>% 65 and over</th>\n",
              "      <th>% Asian</th>\n",
              "      <th>% Black</th>\n",
              "      <th>% Hispanic</th>\n",
              "      <th>% Non-Hispanic White</th>\n",
              "    </tr>\n",
              "  </thead>\n",
              "  <tbody>\n",
              "    <tr>\n",
              "      <th>0</th>\n",
              "      <td>1.0</td>\n",
              "      <td>1001.0</td>\n",
              "      <td>0.050678</td>\n",
              "      <td>1</td>\n",
              "      <td>59338.0</td>\n",
              "      <td>42.0</td>\n",
              "      <td>55601</td>\n",
              "      <td>-0.494789</td>\n",
              "      <td>23.7</td>\n",
              "      <td>15.6</td>\n",
              "      <td>1.2</td>\n",
              "      <td>19.3</td>\n",
              "      <td>3.0</td>\n",
              "      <td>74.3</td>\n",
              "    </tr>\n",
              "    <tr>\n",
              "      <th>1</th>\n",
              "      <td>1.0</td>\n",
              "      <td>1003.0</td>\n",
              "      <td>0.050312</td>\n",
              "      <td>1</td>\n",
              "      <td>57588.0</td>\n",
              "      <td>42.3</td>\n",
              "      <td>218022</td>\n",
              "      <td>-0.577862</td>\n",
              "      <td>21.6</td>\n",
              "      <td>20.4</td>\n",
              "      <td>1.2</td>\n",
              "      <td>8.8</td>\n",
              "      <td>4.6</td>\n",
              "      <td>83.1</td>\n",
              "    </tr>\n",
              "    <tr>\n",
              "      <th>2</th>\n",
              "      <td>1.0</td>\n",
              "      <td>1005.0</td>\n",
              "      <td>0.007037</td>\n",
              "      <td>1</td>\n",
              "      <td>34382.0</td>\n",
              "      <td>67.8</td>\n",
              "      <td>24881</td>\n",
              "      <td>-0.056112</td>\n",
              "      <td>20.9</td>\n",
              "      <td>19.4</td>\n",
              "      <td>0.5</td>\n",
              "      <td>48.0</td>\n",
              "      <td>4.3</td>\n",
              "      <td>45.6</td>\n",
              "    </tr>\n",
              "    <tr>\n",
              "      <th>3</th>\n",
              "      <td>1.0</td>\n",
              "      <td>1007.0</td>\n",
              "      <td>0.011809</td>\n",
              "      <td>1</td>\n",
              "      <td>46064.0</td>\n",
              "      <td>68.4</td>\n",
              "      <td>22400</td>\n",
              "      <td>-0.555441</td>\n",
              "      <td>20.5</td>\n",
              "      <td>16.5</td>\n",
              "      <td>0.2</td>\n",
              "      <td>21.1</td>\n",
              "      <td>2.6</td>\n",
              "      <td>74.6</td>\n",
              "    </tr>\n",
              "    <tr>\n",
              "      <th>4</th>\n",
              "      <td>1.0</td>\n",
              "      <td>1009.0</td>\n",
              "      <td>0.038890</td>\n",
              "      <td>1</td>\n",
              "      <td>50412.0</td>\n",
              "      <td>90.0</td>\n",
              "      <td>57840</td>\n",
              "      <td>-0.813820</td>\n",
              "      <td>23.2</td>\n",
              "      <td>18.2</td>\n",
              "      <td>0.3</td>\n",
              "      <td>1.5</td>\n",
              "      <td>9.6</td>\n",
              "      <td>86.9</td>\n",
              "    </tr>\n",
              "    <tr>\n",
              "      <th>...</th>\n",
              "      <td>...</td>\n",
              "      <td>...</td>\n",
              "      <td>...</td>\n",
              "      <td>...</td>\n",
              "      <td>...</td>\n",
              "      <td>...</td>\n",
              "      <td>...</td>\n",
              "      <td>...</td>\n",
              "      <td>...</td>\n",
              "      <td>...</td>\n",
              "      <td>...</td>\n",
              "      <td>...</td>\n",
              "      <td>...</td>\n",
              "      <td>...</td>\n",
              "    </tr>\n",
              "    <tr>\n",
              "      <th>2970</th>\n",
              "      <td>55.0</td>\n",
              "      <td>55135.0</td>\n",
              "      <td>0.018980</td>\n",
              "      <td>1</td>\n",
              "      <td>58648.0</td>\n",
              "      <td>64.9</td>\n",
              "      <td>51128</td>\n",
              "      <td>-0.302460</td>\n",
              "      <td>20.3</td>\n",
              "      <td>20.9</td>\n",
              "      <td>0.6</td>\n",
              "      <td>0.5</td>\n",
              "      <td>3.3</td>\n",
              "      <td>94.1</td>\n",
              "    </tr>\n",
              "    <tr>\n",
              "      <th>2971</th>\n",
              "      <td>55.0</td>\n",
              "      <td>55137.0</td>\n",
              "      <td>-0.019303</td>\n",
              "      <td>1</td>\n",
              "      <td>52340.0</td>\n",
              "      <td>89.5</td>\n",
              "      <td>24263</td>\n",
              "      <td>-0.323301</td>\n",
              "      <td>18.3</td>\n",
              "      <td>24.4</td>\n",
              "      <td>0.6</td>\n",
              "      <td>2.0</td>\n",
              "      <td>6.3</td>\n",
              "      <td>89.6</td>\n",
              "    </tr>\n",
              "    <tr>\n",
              "      <th>2972</th>\n",
              "      <td>55.0</td>\n",
              "      <td>55139.0</td>\n",
              "      <td>0.071851</td>\n",
              "      <td>1</td>\n",
              "      <td>57785.0</td>\n",
              "      <td>13.4</td>\n",
              "      <td>171020</td>\n",
              "      <td>-0.074431</td>\n",
              "      <td>20.5</td>\n",
              "      <td>16.4</td>\n",
              "      <td>3.0</td>\n",
              "      <td>2.2</td>\n",
              "      <td>4.2</td>\n",
              "      <td>88.4</td>\n",
              "    </tr>\n",
              "    <tr>\n",
              "      <th>2973</th>\n",
              "      <td>55.0</td>\n",
              "      <td>55141.0</td>\n",
              "      <td>0.007077</td>\n",
              "      <td>1</td>\n",
              "      <td>55879.0</td>\n",
              "      <td>36.7</td>\n",
              "      <td>73055</td>\n",
              "      <td>-0.192777</td>\n",
              "      <td>21.6</td>\n",
              "      <td>20.6</td>\n",
              "      <td>2.0</td>\n",
              "      <td>0.9</td>\n",
              "      <td>3.1</td>\n",
              "      <td>92.2</td>\n",
              "    </tr>\n",
              "    <tr>\n",
              "      <th>2992</th>\n",
              "      <td>56.0</td>\n",
              "      <td>56039.0</td>\n",
              "      <td>0.075183</td>\n",
              "      <td>1</td>\n",
              "      <td>99087.0</td>\n",
              "      <td>46.4</td>\n",
              "      <td>23081</td>\n",
              "      <td>0.278663</td>\n",
              "      <td>18.4</td>\n",
              "      <td>15.4</td>\n",
              "      <td>1.4</td>\n",
              "      <td>0.6</td>\n",
              "      <td>14.9</td>\n",
              "      <td>81.5</td>\n",
              "    </tr>\n",
              "  </tbody>\n",
              "</table>\n",
              "<p>2548 rows × 14 columns</p>\n",
              "</div>"
            ],
            "text/plain": [
              "      state  county_code  ...  % Hispanic  % Non-Hispanic White\n",
              "0       1.0       1001.0  ...         3.0                  74.3\n",
              "1       1.0       1003.0  ...         4.6                  83.1\n",
              "2       1.0       1005.0  ...         4.3                  45.6\n",
              "3       1.0       1007.0  ...         2.6                  74.6\n",
              "4       1.0       1009.0  ...         9.6                  86.9\n",
              "...     ...          ...  ...         ...                   ...\n",
              "2970   55.0      55135.0  ...         3.3                  94.1\n",
              "2971   55.0      55137.0  ...         6.3                  89.6\n",
              "2972   55.0      55139.0  ...         4.2                  88.4\n",
              "2973   55.0      55141.0  ...         3.1                  92.2\n",
              "2992   56.0      56039.0  ...        14.9                  81.5\n",
              "\n",
              "[2548 rows x 14 columns]"
            ]
          },
          "metadata": {
            "tags": []
          },
          "execution_count": 49
        }
      ]
    },
    {
      "cell_type": "code",
      "metadata": {
        "id": "ifK7AbYvYAng"
      },
      "source": [
        "# get covariates\n",
        "X = data_SIP.drop(['diff_in_perc_at_home', 'SIP?'], axis=1)\n",
        "# get response variable\n",
        "y = data_SIP['diff_in_perc_at_home'] "
      ],
      "execution_count": 50,
      "outputs": []
    },
    {
      "cell_type": "code",
      "metadata": {
        "id": "gcvcoOMRYAnw",
        "outputId": "beb33cc0-8581-415c-d115-b36131d575f0",
        "colab": {
          "base_uri": "https://localhost:8080/",
          "height": 453
        }
      },
      "source": [
        "X"
      ],
      "execution_count": 51,
      "outputs": [
        {
          "output_type": "execute_result",
          "data": {
            "text/html": [
              "<div>\n",
              "<style scoped>\n",
              "    .dataframe tbody tr th:only-of-type {\n",
              "        vertical-align: middle;\n",
              "    }\n",
              "\n",
              "    .dataframe tbody tr th {\n",
              "        vertical-align: top;\n",
              "    }\n",
              "\n",
              "    .dataframe thead th {\n",
              "        text-align: right;\n",
              "    }\n",
              "</style>\n",
              "<table border=\"1\" class=\"dataframe\">\n",
              "  <thead>\n",
              "    <tr style=\"text-align: right;\">\n",
              "      <th></th>\n",
              "      <th>state</th>\n",
              "      <th>county_code</th>\n",
              "      <th>Median Household Income</th>\n",
              "      <th>% Rural</th>\n",
              "      <th>Population_y</th>\n",
              "      <th>political_diff</th>\n",
              "      <th>% less than 18 years of age</th>\n",
              "      <th>% 65 and over</th>\n",
              "      <th>% Asian</th>\n",
              "      <th>% Black</th>\n",
              "      <th>% Hispanic</th>\n",
              "      <th>% Non-Hispanic White</th>\n",
              "    </tr>\n",
              "  </thead>\n",
              "  <tbody>\n",
              "    <tr>\n",
              "      <th>0</th>\n",
              "      <td>1.0</td>\n",
              "      <td>1001.0</td>\n",
              "      <td>59338.0</td>\n",
              "      <td>42.0</td>\n",
              "      <td>55601</td>\n",
              "      <td>-0.494789</td>\n",
              "      <td>23.7</td>\n",
              "      <td>15.6</td>\n",
              "      <td>1.2</td>\n",
              "      <td>19.3</td>\n",
              "      <td>3.0</td>\n",
              "      <td>74.3</td>\n",
              "    </tr>\n",
              "    <tr>\n",
              "      <th>1</th>\n",
              "      <td>1.0</td>\n",
              "      <td>1003.0</td>\n",
              "      <td>57588.0</td>\n",
              "      <td>42.3</td>\n",
              "      <td>218022</td>\n",
              "      <td>-0.577862</td>\n",
              "      <td>21.6</td>\n",
              "      <td>20.4</td>\n",
              "      <td>1.2</td>\n",
              "      <td>8.8</td>\n",
              "      <td>4.6</td>\n",
              "      <td>83.1</td>\n",
              "    </tr>\n",
              "    <tr>\n",
              "      <th>2</th>\n",
              "      <td>1.0</td>\n",
              "      <td>1005.0</td>\n",
              "      <td>34382.0</td>\n",
              "      <td>67.8</td>\n",
              "      <td>24881</td>\n",
              "      <td>-0.056112</td>\n",
              "      <td>20.9</td>\n",
              "      <td>19.4</td>\n",
              "      <td>0.5</td>\n",
              "      <td>48.0</td>\n",
              "      <td>4.3</td>\n",
              "      <td>45.6</td>\n",
              "    </tr>\n",
              "    <tr>\n",
              "      <th>3</th>\n",
              "      <td>1.0</td>\n",
              "      <td>1007.0</td>\n",
              "      <td>46064.0</td>\n",
              "      <td>68.4</td>\n",
              "      <td>22400</td>\n",
              "      <td>-0.555441</td>\n",
              "      <td>20.5</td>\n",
              "      <td>16.5</td>\n",
              "      <td>0.2</td>\n",
              "      <td>21.1</td>\n",
              "      <td>2.6</td>\n",
              "      <td>74.6</td>\n",
              "    </tr>\n",
              "    <tr>\n",
              "      <th>4</th>\n",
              "      <td>1.0</td>\n",
              "      <td>1009.0</td>\n",
              "      <td>50412.0</td>\n",
              "      <td>90.0</td>\n",
              "      <td>57840</td>\n",
              "      <td>-0.813820</td>\n",
              "      <td>23.2</td>\n",
              "      <td>18.2</td>\n",
              "      <td>0.3</td>\n",
              "      <td>1.5</td>\n",
              "      <td>9.6</td>\n",
              "      <td>86.9</td>\n",
              "    </tr>\n",
              "    <tr>\n",
              "      <th>...</th>\n",
              "      <td>...</td>\n",
              "      <td>...</td>\n",
              "      <td>...</td>\n",
              "      <td>...</td>\n",
              "      <td>...</td>\n",
              "      <td>...</td>\n",
              "      <td>...</td>\n",
              "      <td>...</td>\n",
              "      <td>...</td>\n",
              "      <td>...</td>\n",
              "      <td>...</td>\n",
              "      <td>...</td>\n",
              "    </tr>\n",
              "    <tr>\n",
              "      <th>2970</th>\n",
              "      <td>55.0</td>\n",
              "      <td>55135.0</td>\n",
              "      <td>58648.0</td>\n",
              "      <td>64.9</td>\n",
              "      <td>51128</td>\n",
              "      <td>-0.302460</td>\n",
              "      <td>20.3</td>\n",
              "      <td>20.9</td>\n",
              "      <td>0.6</td>\n",
              "      <td>0.5</td>\n",
              "      <td>3.3</td>\n",
              "      <td>94.1</td>\n",
              "    </tr>\n",
              "    <tr>\n",
              "      <th>2971</th>\n",
              "      <td>55.0</td>\n",
              "      <td>55137.0</td>\n",
              "      <td>52340.0</td>\n",
              "      <td>89.5</td>\n",
              "      <td>24263</td>\n",
              "      <td>-0.323301</td>\n",
              "      <td>18.3</td>\n",
              "      <td>24.4</td>\n",
              "      <td>0.6</td>\n",
              "      <td>2.0</td>\n",
              "      <td>6.3</td>\n",
              "      <td>89.6</td>\n",
              "    </tr>\n",
              "    <tr>\n",
              "      <th>2972</th>\n",
              "      <td>55.0</td>\n",
              "      <td>55139.0</td>\n",
              "      <td>57785.0</td>\n",
              "      <td>13.4</td>\n",
              "      <td>171020</td>\n",
              "      <td>-0.074431</td>\n",
              "      <td>20.5</td>\n",
              "      <td>16.4</td>\n",
              "      <td>3.0</td>\n",
              "      <td>2.2</td>\n",
              "      <td>4.2</td>\n",
              "      <td>88.4</td>\n",
              "    </tr>\n",
              "    <tr>\n",
              "      <th>2973</th>\n",
              "      <td>55.0</td>\n",
              "      <td>55141.0</td>\n",
              "      <td>55879.0</td>\n",
              "      <td>36.7</td>\n",
              "      <td>73055</td>\n",
              "      <td>-0.192777</td>\n",
              "      <td>21.6</td>\n",
              "      <td>20.6</td>\n",
              "      <td>2.0</td>\n",
              "      <td>0.9</td>\n",
              "      <td>3.1</td>\n",
              "      <td>92.2</td>\n",
              "    </tr>\n",
              "    <tr>\n",
              "      <th>2992</th>\n",
              "      <td>56.0</td>\n",
              "      <td>56039.0</td>\n",
              "      <td>99087.0</td>\n",
              "      <td>46.4</td>\n",
              "      <td>23081</td>\n",
              "      <td>0.278663</td>\n",
              "      <td>18.4</td>\n",
              "      <td>15.4</td>\n",
              "      <td>1.4</td>\n",
              "      <td>0.6</td>\n",
              "      <td>14.9</td>\n",
              "      <td>81.5</td>\n",
              "    </tr>\n",
              "  </tbody>\n",
              "</table>\n",
              "<p>2548 rows × 12 columns</p>\n",
              "</div>"
            ],
            "text/plain": [
              "      state  county_code  ...  % Hispanic  % Non-Hispanic White\n",
              "0       1.0       1001.0  ...         3.0                  74.3\n",
              "1       1.0       1003.0  ...         4.6                  83.1\n",
              "2       1.0       1005.0  ...         4.3                  45.6\n",
              "3       1.0       1007.0  ...         2.6                  74.6\n",
              "4       1.0       1009.0  ...         9.6                  86.9\n",
              "...     ...          ...  ...         ...                   ...\n",
              "2970   55.0      55135.0  ...         3.3                  94.1\n",
              "2971   55.0      55137.0  ...         6.3                  89.6\n",
              "2972   55.0      55139.0  ...         4.2                  88.4\n",
              "2973   55.0      55141.0  ...         3.1                  92.2\n",
              "2992   56.0      56039.0  ...        14.9                  81.5\n",
              "\n",
              "[2548 rows x 12 columns]"
            ]
          },
          "metadata": {
            "tags": []
          },
          "execution_count": 51
        }
      ]
    },
    {
      "cell_type": "code",
      "metadata": {
        "id": "eq_CYEAlYAn7",
        "outputId": "e9ba6bcb-6dbd-44a5-c6ac-ebb07eb3390d",
        "colab": {
          "base_uri": "https://localhost:8080/",
          "height": 221
        }
      },
      "source": [
        "y"
      ],
      "execution_count": 52,
      "outputs": [
        {
          "output_type": "execute_result",
          "data": {
            "text/plain": [
              "0       0.050678\n",
              "1       0.050312\n",
              "2       0.007037\n",
              "3       0.011809\n",
              "4       0.038890\n",
              "          ...   \n",
              "2970    0.018980\n",
              "2971   -0.019303\n",
              "2972    0.071851\n",
              "2973    0.007077\n",
              "2992    0.075183\n",
              "Name: diff_in_perc_at_home, Length: 2548, dtype: float64"
            ]
          },
          "metadata": {
            "tags": []
          },
          "execution_count": 52
        }
      ]
    },
    {
      "cell_type": "code",
      "metadata": {
        "id": "hCJSZnDHYAoF"
      },
      "source": [
        "scaler = StandardScaler()\n",
        "X_scaled = scaler.fit_transform(X)"
      ],
      "execution_count": 53,
      "outputs": []
    },
    {
      "cell_type": "code",
      "metadata": {
        "id": "Von5kWsCYAoI",
        "outputId": "cee4d207-320e-4c74-9123-acaa531602fd",
        "colab": {
          "base_uri": "https://localhost:8080/",
          "height": 34
        }
      },
      "source": [
        "regressor = LinearRegression().fit(X_scaled, y)\n",
        "r_2 = regressor.score(X_scaled, y) # R^2\n",
        "print(f'R^2 score is {r_2}')"
      ],
      "execution_count": 54,
      "outputs": [
        {
          "output_type": "stream",
          "text": [
            "R^2 score is 0.6619202951958637\n"
          ],
          "name": "stdout"
        }
      ]
    },
    {
      "cell_type": "code",
      "metadata": {
        "id": "ohLIpKf9YAoM",
        "outputId": "fd8e87bf-742f-4ac4-d0f8-80066568ff0b",
        "colab": {
          "base_uri": "https://localhost:8080/",
          "height": 68
        }
      },
      "source": [
        "regressor.coef_"
      ],
      "execution_count": 55,
      "outputs": [
        {
          "output_type": "execute_result",
          "data": {
            "text/plain": [
              "array([ 0.00724313, -0.00768043,  0.02848316, -0.00634548,  0.00575911,\n",
              "        0.00092733, -0.00162944,  0.00159545,  0.00386116,  0.01353705,\n",
              "        0.00832087,  0.00846061])"
            ]
          },
          "metadata": {
            "tags": []
          },
          "execution_count": 55
        }
      ]
    },
    {
      "cell_type": "code",
      "metadata": {
        "id": "GhMWXqDTYAoS",
        "outputId": "398b9d9c-b098-4258-be57-3dc68d09261b",
        "colab": {
          "base_uri": "https://localhost:8080/",
          "height": 221
        }
      },
      "source": [
        "for i, coef in enumerate(regressor.coef_):\n",
        "  print(f'after standardization, feature {X.columns[i]}\\' coefficient is {coef}')"
      ],
      "execution_count": 56,
      "outputs": [
        {
          "output_type": "stream",
          "text": [
            "after standardization, feature state' coefficient is 0.0072431341775669855\n",
            "after standardization, feature county_code' coefficient is -0.007680431684311321\n",
            "after standardization, feature Median Household Income' coefficient is 0.02848315934299903\n",
            "after standardization, feature % Rural' coefficient is -0.006345477158138098\n",
            "after standardization, feature Population_y' coefficient is 0.005759110687001514\n",
            "after standardization, feature political_diff' coefficient is 0.0009273280179308594\n",
            "after standardization, feature % less than 18 years of age' coefficient is -0.0016294371560461145\n",
            "after standardization, feature % 65 and over' coefficient is 0.001595454532696914\n",
            "after standardization, feature % Asian' coefficient is 0.003861157036376723\n",
            "after standardization, feature % Black' coefficient is 0.013537048275175094\n",
            "after standardization, feature % Hispanic' coefficient is 0.008320869441120466\n",
            "after standardization, feature % Non-Hispanic White' coefficient is 0.00846061185443809\n"
          ],
          "name": "stdout"
        }
      ]
    },
    {
      "cell_type": "code",
      "metadata": {
        "id": "GkkYln-2YAoW",
        "outputId": "d5bd7970-5bf9-469c-e0b1-51d19437ad80",
        "colab": {
          "base_uri": "https://localhost:8080/",
          "height": 221
        }
      },
      "source": [
        "r_2 = 0\n",
        "for i, column in enumerate(X.columns):\n",
        "  regressor = LinearRegression().fit(X_scaled[:,:i+1], y) # get the first i columns of X\n",
        "  r_2_new = regressor.score(X_scaled[:,:i+1], y) # the new R^2 we get by including one more covariate\n",
        "  print(f'including column {column} increase R^2 by {r_2_new - r_2}')\n",
        "  r_2 = r_2_new"
      ],
      "execution_count": 57,
      "outputs": [
        {
          "output_type": "stream",
          "text": [
            "including column state increase R^2 by 0.0003765472648872281\n",
            "including column county_code increase R^2 by 0.0003394267906349224\n",
            "including column Median Household Income increase R^2 by 0.5485604194610194\n",
            "including column % Rural increase R^2 by 0.05091457402689403\n",
            "including column Population_y increase R^2 by 0.02538062893652948\n",
            "including column political_diff increase R^2 by 0.013220931563045824\n",
            "including column % less than 18 years of age increase R^2 by 0.0010722136940091165\n",
            "including column % 65 and over increase R^2 by 8.753840210484753e-07\n",
            "including column % Asian increase R^2 by 0.0009433375705845126\n",
            "including column % Black increase R^2 by 0.016161165040135428\n",
            "including column % Hispanic increase R^2 by 0.0027014854705824654\n",
            "including column % Non-Hispanic White increase R^2 by 0.0022486899935202365\n"
          ],
          "name": "stdout"
        }
      ]
    },
    {
      "cell_type": "markdown",
      "metadata": {
        "id": "pK0g4kGsTBwr"
      },
      "source": [
        "# 3. Standardized Linear Regression on counties without shelter in place"
      ]
    },
    {
      "cell_type": "code",
      "metadata": {
        "id": "JdZkSFRCYkEd"
      },
      "source": [
        "data_no_SIP = data[data['SIP?'] == 0]"
      ],
      "execution_count": 58,
      "outputs": []
    },
    {
      "cell_type": "code",
      "metadata": {
        "id": "NByedfj3YkEr",
        "outputId": "226310ca-4acb-4efe-9223-4007399d518c",
        "colab": {
          "base_uri": "https://localhost:8080/",
          "height": 470
        }
      },
      "source": [
        "data_no_SIP"
      ],
      "execution_count": 60,
      "outputs": [
        {
          "output_type": "execute_result",
          "data": {
            "text/html": [
              "<div>\n",
              "<style scoped>\n",
              "    .dataframe tbody tr th:only-of-type {\n",
              "        vertical-align: middle;\n",
              "    }\n",
              "\n",
              "    .dataframe tbody tr th {\n",
              "        vertical-align: top;\n",
              "    }\n",
              "\n",
              "    .dataframe thead th {\n",
              "        text-align: right;\n",
              "    }\n",
              "</style>\n",
              "<table border=\"1\" class=\"dataframe\">\n",
              "  <thead>\n",
              "    <tr style=\"text-align: right;\">\n",
              "      <th></th>\n",
              "      <th>state</th>\n",
              "      <th>county_code</th>\n",
              "      <th>diff_in_perc_at_home</th>\n",
              "      <th>SIP?</th>\n",
              "      <th>Median Household Income</th>\n",
              "      <th>% Rural</th>\n",
              "      <th>Population_y</th>\n",
              "      <th>political_diff</th>\n",
              "      <th>% less than 18 years of age</th>\n",
              "      <th>% 65 and over</th>\n",
              "      <th>% Asian</th>\n",
              "      <th>% Black</th>\n",
              "      <th>% Hispanic</th>\n",
              "      <th>% Non-Hispanic White</th>\n",
              "    </tr>\n",
              "  </thead>\n",
              "  <tbody>\n",
              "    <tr>\n",
              "      <th>97</th>\n",
              "      <td>5.0</td>\n",
              "      <td>5001.0</td>\n",
              "      <td>0.002032</td>\n",
              "      <td>0</td>\n",
              "      <td>43887.0</td>\n",
              "      <td>34.7</td>\n",
              "      <td>17769</td>\n",
              "      <td>-0.305821</td>\n",
              "      <td>22.9</td>\n",
              "      <td>19.6</td>\n",
              "      <td>0.8</td>\n",
              "      <td>24.5</td>\n",
              "      <td>3.3</td>\n",
              "      <td>69.5</td>\n",
              "    </tr>\n",
              "    <tr>\n",
              "      <th>98</th>\n",
              "      <td>5.0</td>\n",
              "      <td>5003.0</td>\n",
              "      <td>0.004202</td>\n",
              "      <td>0</td>\n",
              "      <td>41127.0</td>\n",
              "      <td>51.7</td>\n",
              "      <td>20046</td>\n",
              "      <td>-0.365018</td>\n",
              "      <td>22.9</td>\n",
              "      <td>20.4</td>\n",
              "      <td>0.3</td>\n",
              "      <td>24.5</td>\n",
              "      <td>5.5</td>\n",
              "      <td>68.3</td>\n",
              "    </tr>\n",
              "    <tr>\n",
              "      <th>99</th>\n",
              "      <td>5.0</td>\n",
              "      <td>5005.0</td>\n",
              "      <td>-0.000820</td>\n",
              "      <td>0</td>\n",
              "      <td>39686.0</td>\n",
              "      <td>65.8</td>\n",
              "      <td>41619</td>\n",
              "      <td>-0.536072</td>\n",
              "      <td>17.7</td>\n",
              "      <td>30.9</td>\n",
              "      <td>0.5</td>\n",
              "      <td>0.4</td>\n",
              "      <td>2.5</td>\n",
              "      <td>94.5</td>\n",
              "    </tr>\n",
              "    <tr>\n",
              "      <th>100</th>\n",
              "      <td>5.0</td>\n",
              "      <td>5007.0</td>\n",
              "      <td>0.075433</td>\n",
              "      <td>0</td>\n",
              "      <td>68978.0</td>\n",
              "      <td>25.2</td>\n",
              "      <td>272608</td>\n",
              "      <td>-0.348571</td>\n",
              "      <td>26.3</td>\n",
              "      <td>13.4</td>\n",
              "      <td>4.1</td>\n",
              "      <td>1.8</td>\n",
              "      <td>16.9</td>\n",
              "      <td>73.0</td>\n",
              "    </tr>\n",
              "    <tr>\n",
              "      <th>101</th>\n",
              "      <td>5.0</td>\n",
              "      <td>5009.0</td>\n",
              "      <td>-0.000736</td>\n",
              "      <td>0</td>\n",
              "      <td>44482.0</td>\n",
              "      <td>62.2</td>\n",
              "      <td>37480</td>\n",
              "      <td>-0.584465</td>\n",
              "      <td>22.9</td>\n",
              "      <td>20.7</td>\n",
              "      <td>0.7</td>\n",
              "      <td>0.4</td>\n",
              "      <td>2.6</td>\n",
              "      <td>93.6</td>\n",
              "    </tr>\n",
              "    <tr>\n",
              "      <th>...</th>\n",
              "      <td>...</td>\n",
              "      <td>...</td>\n",
              "      <td>...</td>\n",
              "      <td>...</td>\n",
              "      <td>...</td>\n",
              "      <td>...</td>\n",
              "      <td>...</td>\n",
              "      <td>...</td>\n",
              "      <td>...</td>\n",
              "      <td>...</td>\n",
              "      <td>...</td>\n",
              "      <td>...</td>\n",
              "      <td>...</td>\n",
              "      <td>...</td>\n",
              "    </tr>\n",
              "    <tr>\n",
              "      <th>2990</th>\n",
              "      <td>56.0</td>\n",
              "      <td>56035.0</td>\n",
              "      <td>0.042121</td>\n",
              "      <td>0</td>\n",
              "      <td>74570.0</td>\n",
              "      <td>100.0</td>\n",
              "      <td>9813</td>\n",
              "      <td>-0.643472</td>\n",
              "      <td>22.5</td>\n",
              "      <td>19.5</td>\n",
              "      <td>0.7</td>\n",
              "      <td>0.8</td>\n",
              "      <td>7.5</td>\n",
              "      <td>89.0</td>\n",
              "    </tr>\n",
              "    <tr>\n",
              "      <th>2991</th>\n",
              "      <td>56.0</td>\n",
              "      <td>56037.0</td>\n",
              "      <td>-0.018485</td>\n",
              "      <td>0</td>\n",
              "      <td>73315.0</td>\n",
              "      <td>10.9</td>\n",
              "      <td>43051</td>\n",
              "      <td>-0.535382</td>\n",
              "      <td>26.2</td>\n",
              "      <td>12.1</td>\n",
              "      <td>1.0</td>\n",
              "      <td>1.1</td>\n",
              "      <td>16.1</td>\n",
              "      <td>79.3</td>\n",
              "    </tr>\n",
              "    <tr>\n",
              "      <th>2993</th>\n",
              "      <td>56.0</td>\n",
              "      <td>56041.0</td>\n",
              "      <td>0.010157</td>\n",
              "      <td>0</td>\n",
              "      <td>63401.0</td>\n",
              "      <td>43.1</td>\n",
              "      <td>20299</td>\n",
              "      <td>-0.614926</td>\n",
              "      <td>28.8</td>\n",
              "      <td>14.1</td>\n",
              "      <td>0.5</td>\n",
              "      <td>0.7</td>\n",
              "      <td>9.2</td>\n",
              "      <td>87.4</td>\n",
              "    </tr>\n",
              "    <tr>\n",
              "      <th>2994</th>\n",
              "      <td>56.0</td>\n",
              "      <td>56043.0</td>\n",
              "      <td>-0.007825</td>\n",
              "      <td>0</td>\n",
              "      <td>55190.0</td>\n",
              "      <td>36.0</td>\n",
              "      <td>7885</td>\n",
              "      <td>-0.640377</td>\n",
              "      <td>22.7</td>\n",
              "      <td>21.7</td>\n",
              "      <td>0.8</td>\n",
              "      <td>0.5</td>\n",
              "      <td>14.1</td>\n",
              "      <td>82.4</td>\n",
              "    </tr>\n",
              "    <tr>\n",
              "      <th>2995</th>\n",
              "      <td>56.0</td>\n",
              "      <td>56045.0</td>\n",
              "      <td>-0.003361</td>\n",
              "      <td>0</td>\n",
              "      <td>54319.0</td>\n",
              "      <td>54.5</td>\n",
              "      <td>6967</td>\n",
              "      <td>-0.781044</td>\n",
              "      <td>20.8</td>\n",
              "      <td>20.5</td>\n",
              "      <td>1.9</td>\n",
              "      <td>0.6</td>\n",
              "      <td>4.1</td>\n",
              "      <td>90.0</td>\n",
              "    </tr>\n",
              "  </tbody>\n",
              "</table>\n",
              "<p>447 rows × 14 columns</p>\n",
              "</div>"
            ],
            "text/plain": [
              "      state  county_code  ...  % Hispanic  % Non-Hispanic White\n",
              "97      5.0       5001.0  ...         3.3                  69.5\n",
              "98      5.0       5003.0  ...         5.5                  68.3\n",
              "99      5.0       5005.0  ...         2.5                  94.5\n",
              "100     5.0       5007.0  ...        16.9                  73.0\n",
              "101     5.0       5009.0  ...         2.6                  93.6\n",
              "...     ...          ...  ...         ...                   ...\n",
              "2990   56.0      56035.0  ...         7.5                  89.0\n",
              "2991   56.0      56037.0  ...        16.1                  79.3\n",
              "2993   56.0      56041.0  ...         9.2                  87.4\n",
              "2994   56.0      56043.0  ...        14.1                  82.4\n",
              "2995   56.0      56045.0  ...         4.1                  90.0\n",
              "\n",
              "[447 rows x 14 columns]"
            ]
          },
          "metadata": {
            "tags": []
          },
          "execution_count": 60
        }
      ]
    },
    {
      "cell_type": "code",
      "metadata": {
        "id": "S-zzdBHEYkE0"
      },
      "source": [
        "# get covariates\n",
        "X = data_no_SIP.drop(['diff_in_perc_at_home', 'SIP?'], axis=1)\n",
        "# get response variable\n",
        "y = data_no_SIP['diff_in_perc_at_home'] "
      ],
      "execution_count": 61,
      "outputs": []
    },
    {
      "cell_type": "code",
      "metadata": {
        "id": "tPNLQ7QNYkE4",
        "outputId": "3e6ca9b3-5ff1-40e0-acdc-5bb9b8b914eb",
        "colab": {
          "base_uri": "https://localhost:8080/",
          "height": 453
        }
      },
      "source": [
        "X"
      ],
      "execution_count": 62,
      "outputs": [
        {
          "output_type": "execute_result",
          "data": {
            "text/html": [
              "<div>\n",
              "<style scoped>\n",
              "    .dataframe tbody tr th:only-of-type {\n",
              "        vertical-align: middle;\n",
              "    }\n",
              "\n",
              "    .dataframe tbody tr th {\n",
              "        vertical-align: top;\n",
              "    }\n",
              "\n",
              "    .dataframe thead th {\n",
              "        text-align: right;\n",
              "    }\n",
              "</style>\n",
              "<table border=\"1\" class=\"dataframe\">\n",
              "  <thead>\n",
              "    <tr style=\"text-align: right;\">\n",
              "      <th></th>\n",
              "      <th>state</th>\n",
              "      <th>county_code</th>\n",
              "      <th>Median Household Income</th>\n",
              "      <th>% Rural</th>\n",
              "      <th>Population_y</th>\n",
              "      <th>political_diff</th>\n",
              "      <th>% less than 18 years of age</th>\n",
              "      <th>% 65 and over</th>\n",
              "      <th>% Asian</th>\n",
              "      <th>% Black</th>\n",
              "      <th>% Hispanic</th>\n",
              "      <th>% Non-Hispanic White</th>\n",
              "    </tr>\n",
              "  </thead>\n",
              "  <tbody>\n",
              "    <tr>\n",
              "      <th>97</th>\n",
              "      <td>5.0</td>\n",
              "      <td>5001.0</td>\n",
              "      <td>43887.0</td>\n",
              "      <td>34.7</td>\n",
              "      <td>17769</td>\n",
              "      <td>-0.305821</td>\n",
              "      <td>22.9</td>\n",
              "      <td>19.6</td>\n",
              "      <td>0.8</td>\n",
              "      <td>24.5</td>\n",
              "      <td>3.3</td>\n",
              "      <td>69.5</td>\n",
              "    </tr>\n",
              "    <tr>\n",
              "      <th>98</th>\n",
              "      <td>5.0</td>\n",
              "      <td>5003.0</td>\n",
              "      <td>41127.0</td>\n",
              "      <td>51.7</td>\n",
              "      <td>20046</td>\n",
              "      <td>-0.365018</td>\n",
              "      <td>22.9</td>\n",
              "      <td>20.4</td>\n",
              "      <td>0.3</td>\n",
              "      <td>24.5</td>\n",
              "      <td>5.5</td>\n",
              "      <td>68.3</td>\n",
              "    </tr>\n",
              "    <tr>\n",
              "      <th>99</th>\n",
              "      <td>5.0</td>\n",
              "      <td>5005.0</td>\n",
              "      <td>39686.0</td>\n",
              "      <td>65.8</td>\n",
              "      <td>41619</td>\n",
              "      <td>-0.536072</td>\n",
              "      <td>17.7</td>\n",
              "      <td>30.9</td>\n",
              "      <td>0.5</td>\n",
              "      <td>0.4</td>\n",
              "      <td>2.5</td>\n",
              "      <td>94.5</td>\n",
              "    </tr>\n",
              "    <tr>\n",
              "      <th>100</th>\n",
              "      <td>5.0</td>\n",
              "      <td>5007.0</td>\n",
              "      <td>68978.0</td>\n",
              "      <td>25.2</td>\n",
              "      <td>272608</td>\n",
              "      <td>-0.348571</td>\n",
              "      <td>26.3</td>\n",
              "      <td>13.4</td>\n",
              "      <td>4.1</td>\n",
              "      <td>1.8</td>\n",
              "      <td>16.9</td>\n",
              "      <td>73.0</td>\n",
              "    </tr>\n",
              "    <tr>\n",
              "      <th>101</th>\n",
              "      <td>5.0</td>\n",
              "      <td>5009.0</td>\n",
              "      <td>44482.0</td>\n",
              "      <td>62.2</td>\n",
              "      <td>37480</td>\n",
              "      <td>-0.584465</td>\n",
              "      <td>22.9</td>\n",
              "      <td>20.7</td>\n",
              "      <td>0.7</td>\n",
              "      <td>0.4</td>\n",
              "      <td>2.6</td>\n",
              "      <td>93.6</td>\n",
              "    </tr>\n",
              "    <tr>\n",
              "      <th>...</th>\n",
              "      <td>...</td>\n",
              "      <td>...</td>\n",
              "      <td>...</td>\n",
              "      <td>...</td>\n",
              "      <td>...</td>\n",
              "      <td>...</td>\n",
              "      <td>...</td>\n",
              "      <td>...</td>\n",
              "      <td>...</td>\n",
              "      <td>...</td>\n",
              "      <td>...</td>\n",
              "      <td>...</td>\n",
              "    </tr>\n",
              "    <tr>\n",
              "      <th>2990</th>\n",
              "      <td>56.0</td>\n",
              "      <td>56035.0</td>\n",
              "      <td>74570.0</td>\n",
              "      <td>100.0</td>\n",
              "      <td>9813</td>\n",
              "      <td>-0.643472</td>\n",
              "      <td>22.5</td>\n",
              "      <td>19.5</td>\n",
              "      <td>0.7</td>\n",
              "      <td>0.8</td>\n",
              "      <td>7.5</td>\n",
              "      <td>89.0</td>\n",
              "    </tr>\n",
              "    <tr>\n",
              "      <th>2991</th>\n",
              "      <td>56.0</td>\n",
              "      <td>56037.0</td>\n",
              "      <td>73315.0</td>\n",
              "      <td>10.9</td>\n",
              "      <td>43051</td>\n",
              "      <td>-0.535382</td>\n",
              "      <td>26.2</td>\n",
              "      <td>12.1</td>\n",
              "      <td>1.0</td>\n",
              "      <td>1.1</td>\n",
              "      <td>16.1</td>\n",
              "      <td>79.3</td>\n",
              "    </tr>\n",
              "    <tr>\n",
              "      <th>2993</th>\n",
              "      <td>56.0</td>\n",
              "      <td>56041.0</td>\n",
              "      <td>63401.0</td>\n",
              "      <td>43.1</td>\n",
              "      <td>20299</td>\n",
              "      <td>-0.614926</td>\n",
              "      <td>28.8</td>\n",
              "      <td>14.1</td>\n",
              "      <td>0.5</td>\n",
              "      <td>0.7</td>\n",
              "      <td>9.2</td>\n",
              "      <td>87.4</td>\n",
              "    </tr>\n",
              "    <tr>\n",
              "      <th>2994</th>\n",
              "      <td>56.0</td>\n",
              "      <td>56043.0</td>\n",
              "      <td>55190.0</td>\n",
              "      <td>36.0</td>\n",
              "      <td>7885</td>\n",
              "      <td>-0.640377</td>\n",
              "      <td>22.7</td>\n",
              "      <td>21.7</td>\n",
              "      <td>0.8</td>\n",
              "      <td>0.5</td>\n",
              "      <td>14.1</td>\n",
              "      <td>82.4</td>\n",
              "    </tr>\n",
              "    <tr>\n",
              "      <th>2995</th>\n",
              "      <td>56.0</td>\n",
              "      <td>56045.0</td>\n",
              "      <td>54319.0</td>\n",
              "      <td>54.5</td>\n",
              "      <td>6967</td>\n",
              "      <td>-0.781044</td>\n",
              "      <td>20.8</td>\n",
              "      <td>20.5</td>\n",
              "      <td>1.9</td>\n",
              "      <td>0.6</td>\n",
              "      <td>4.1</td>\n",
              "      <td>90.0</td>\n",
              "    </tr>\n",
              "  </tbody>\n",
              "</table>\n",
              "<p>447 rows × 12 columns</p>\n",
              "</div>"
            ],
            "text/plain": [
              "      state  county_code  ...  % Hispanic  % Non-Hispanic White\n",
              "97      5.0       5001.0  ...         3.3                  69.5\n",
              "98      5.0       5003.0  ...         5.5                  68.3\n",
              "99      5.0       5005.0  ...         2.5                  94.5\n",
              "100     5.0       5007.0  ...        16.9                  73.0\n",
              "101     5.0       5009.0  ...         2.6                  93.6\n",
              "...     ...          ...  ...         ...                   ...\n",
              "2990   56.0      56035.0  ...         7.5                  89.0\n",
              "2991   56.0      56037.0  ...        16.1                  79.3\n",
              "2993   56.0      56041.0  ...         9.2                  87.4\n",
              "2994   56.0      56043.0  ...        14.1                  82.4\n",
              "2995   56.0      56045.0  ...         4.1                  90.0\n",
              "\n",
              "[447 rows x 12 columns]"
            ]
          },
          "metadata": {
            "tags": []
          },
          "execution_count": 62
        }
      ]
    },
    {
      "cell_type": "code",
      "metadata": {
        "id": "0cbc6MezYkE8",
        "outputId": "e24cb243-2903-4fd4-addd-1c4748216611",
        "colab": {
          "base_uri": "https://localhost:8080/",
          "height": 221
        }
      },
      "source": [
        "y"
      ],
      "execution_count": 63,
      "outputs": [
        {
          "output_type": "execute_result",
          "data": {
            "text/plain": [
              "97      0.002032\n",
              "98      0.004202\n",
              "99     -0.000820\n",
              "100     0.075433\n",
              "101    -0.000736\n",
              "          ...   \n",
              "2990    0.042121\n",
              "2991   -0.018485\n",
              "2993    0.010157\n",
              "2994   -0.007825\n",
              "2995   -0.003361\n",
              "Name: diff_in_perc_at_home, Length: 447, dtype: float64"
            ]
          },
          "metadata": {
            "tags": []
          },
          "execution_count": 63
        }
      ]
    },
    {
      "cell_type": "code",
      "metadata": {
        "id": "gsrEUEy2YkFA"
      },
      "source": [
        "scaler = StandardScaler()\n",
        "X_scaled = scaler.fit_transform(X)"
      ],
      "execution_count": 64,
      "outputs": []
    },
    {
      "cell_type": "code",
      "metadata": {
        "id": "rxHdU95VYkFD",
        "outputId": "d8b09070-955a-4589-a068-1272e19effaf",
        "colab": {
          "base_uri": "https://localhost:8080/",
          "height": 34
        }
      },
      "source": [
        "regressor = LinearRegression().fit(X_scaled, y)\n",
        "r_2 = regressor.score(X_scaled, y) # R^2\n",
        "print(f'R^2 score is {r_2}')"
      ],
      "execution_count": 65,
      "outputs": [
        {
          "output_type": "stream",
          "text": [
            "R^2 score is 0.3067980861918215\n"
          ],
          "name": "stdout"
        }
      ]
    },
    {
      "cell_type": "code",
      "metadata": {
        "id": "QDrNYsm5YkFH",
        "outputId": "ae5a867a-b7e3-4a63-b9e4-4312c685e67a",
        "colab": {
          "base_uri": "https://localhost:8080/",
          "height": 68
        }
      },
      "source": [
        "regressor.coef_"
      ],
      "execution_count": 66,
      "outputs": [
        {
          "output_type": "execute_result",
          "data": {
            "text/plain": [
              "array([-0.22790754,  0.21904827,  0.01626843,  0.00179075,  0.00554558,\n",
              "        0.00269994, -0.00334213,  0.00129528, -0.00127749, -0.00961496,\n",
              "       -0.0024937 , -0.01092017])"
            ]
          },
          "metadata": {
            "tags": []
          },
          "execution_count": 66
        }
      ]
    },
    {
      "cell_type": "code",
      "metadata": {
        "id": "kngWasBWYkFJ",
        "outputId": "0ca57875-9fe5-46d0-e116-e97fe4d55c3f",
        "colab": {
          "base_uri": "https://localhost:8080/",
          "height": 221
        }
      },
      "source": [
        "for i, coef in enumerate(regressor.coef_):\n",
        "  print(f'after standardization, feature {X.columns[i]}\\' coefficient is {coef}')"
      ],
      "execution_count": 67,
      "outputs": [
        {
          "output_type": "stream",
          "text": [
            "after standardization, feature state' coefficient is -0.22790753855864523\n",
            "after standardization, feature county_code' coefficient is 0.21904826801031266\n",
            "after standardization, feature Median Household Income' coefficient is 0.016268434062671464\n",
            "after standardization, feature % Rural' coefficient is 0.001790748676264978\n",
            "after standardization, feature Population_y' coefficient is 0.005545579721670222\n",
            "after standardization, feature political_diff' coefficient is 0.0026999411011930305\n",
            "after standardization, feature % less than 18 years of age' coefficient is -0.0033421343710521856\n",
            "after standardization, feature % 65 and over' coefficient is 0.001295277714855242\n",
            "after standardization, feature % Asian' coefficient is -0.00127748939824294\n",
            "after standardization, feature % Black' coefficient is -0.009614956981858644\n",
            "after standardization, feature % Hispanic' coefficient is -0.002493696695728749\n",
            "after standardization, feature % Non-Hispanic White' coefficient is -0.010920170729077222\n"
          ],
          "name": "stdout"
        }
      ]
    },
    {
      "cell_type": "code",
      "metadata": {
        "id": "N-77fsftYkFM",
        "outputId": "7e5cc0fd-d878-49d5-913f-52d0fd6782d3",
        "colab": {
          "base_uri": "https://localhost:8080/",
          "height": 221
        }
      },
      "source": [
        "r_2 = 0\n",
        "for i, column in enumerate(X.columns):\n",
        "  regressor = LinearRegression().fit(X_scaled[:,:i+1], y) # get the first i columns of X\n",
        "  r_2_new = regressor.score(X_scaled[:,:i+1], y) # the new R^2 we get by including one more covariate\n",
        "  print(f'including column {column} increase R^2 by {r_2_new - r_2}')\n",
        "  r_2 = r_2_new"
      ],
      "execution_count": 68,
      "outputs": [
        {
          "output_type": "stream",
          "text": [
            "including column state increase R^2 by 0.005057603351503959\n",
            "including column county_code increase R^2 by 0.010152441600171593\n",
            "including column Median Household Income increase R^2 by 0.19868826631888625\n",
            "including column % Rural increase R^2 by 0.0006266413502102886\n",
            "including column Population_y increase R^2 by 0.033922934193415855\n",
            "including column political_diff increase R^2 by 0.011008881908698642\n",
            "including column % less than 18 years of age increase R^2 by 8.131818770462651e-05\n",
            "including column % 65 and over increase R^2 by 6.640328990070721e-05\n",
            "including column % Asian increase R^2 by 7.736061213647893e-05\n",
            "including column % Black increase R^2 by 0.01626381486570405\n",
            "including column % Hispanic increase R^2 by 0.0003680330288340361\n",
            "including column % Non-Hispanic White increase R^2 by 0.030484387484654984\n"
          ],
          "name": "stdout"
        }
      ]
    },
    {
      "cell_type": "markdown",
      "metadata": {
        "id": "4SigqgqKZB7X"
      },
      "source": [
        "# Conclusion"
      ]
    },
    {
      "cell_type": "markdown",
      "metadata": {
        "id": "ylyk9A40ZNWS"
      },
      "source": [
        "It seems like Median household income is the most important variable, at least from standardized linear regression models. This finding is consitent in both counties with shelter in place and place without shelter in place. \n",
        "\n",
        "Although it seems like in counties with shelter in place median household income has a bigger impact on people's change of behavior."
      ]
    }
  ]
}