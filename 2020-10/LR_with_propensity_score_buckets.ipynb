{
  "nbformat": 4,
  "nbformat_minor": 0,
  "metadata": {
    "colab": {
      "name": "LR_with_propensity_score_buckets.ipynb",
      "provenance": [],
      "collapsed_sections": [
        "VcHM35hkK7NF"
      ],
      "mount_file_id": "10A9BA82KbB9zpszaPIEk-v_k_ghCAvVL",
      "authorship_tag": "ABX9TyPs/jNfC0g6QcMALkpVkfwj",
      "include_colab_link": true
    },
    "kernelspec": {
      "name": "python3",
      "display_name": "Python 3"
    }
  },
  "cells": [
    {
      "cell_type": "markdown",
      "metadata": {
        "id": "view-in-github",
        "colab_type": "text"
      },
      "source": [
        "<a href=\"https://colab.research.google.com/github/wenjunsun/Covid-19-analysis-with-uw-ubicomp/blob/master/2020-10/LR_with_propensity_score_buckets.ipynb\" target=\"_parent\"><img src=\"https://colab.research.google.com/assets/colab-badge.svg\" alt=\"Open In Colab\"/></a>"
      ]
    },
    {
      "cell_type": "markdown",
      "metadata": {
        "id": "HGJmECt4Nb6c"
      },
      "source": [
        "In this notebook we will try to do multiple linear regressions with each different buckets of propensity score. This is to find out how different groups of counties respond to the COVID 19."
      ]
    },
    {
      "cell_type": "markdown",
      "metadata": {
        "id": "H-E17CSHOkVE"
      },
      "source": [
        "# 1. load data."
      ]
    },
    {
      "cell_type": "code",
      "metadata": {
        "id": "nJVWhkorNH6W",
        "outputId": "d7463c69-8830-42e7-f16d-734f2ad43092",
        "colab": {
          "base_uri": "https://localhost:8080/",
          "height": 34
        }
      },
      "source": [
        "cd drive/My\\ Drive/fall"
      ],
      "execution_count": null,
      "outputs": [
        {
          "output_type": "stream",
          "text": [
            "/content/drive/My Drive/fall\n"
          ],
          "name": "stdout"
        }
      ]
    },
    {
      "cell_type": "code",
      "metadata": {
        "id": "nALrzNAROWTp",
        "outputId": "1ccc8d0a-3bca-4d38-eb2d-a65655a92614",
        "colab": {
          "base_uri": "https://localhost:8080/",
          "height": 221
        }
      },
      "source": [
        "ls"
      ],
      "execution_count": null,
      "outputs": [
        {
          "output_type": "stream",
          "text": [
            "counties_with_diff_and_all_covariates.csv\n",
            "counties_with_diff.csv\n",
            "county_data_with_covariates.csv\n",
            "county_data_with_reduced_covariates_more_variables.csv\n",
            "county_data_with_reduced_covariates_with_SIP.csv\n",
            "county_data_with_reduced_covariates_with_SIP_up_to_5.csv\n",
            "county_data_with_reduced_covariates_with_SIP_up_to_8.csv\n",
            "LR_with_propensity_score_buckets.ipynb\n",
            "more_mutual_info.ipynb\n",
            "PSM_new.ipynb\n",
            "standardized_linear_regression.ipynb\n",
            "what_make_people_change_behavior.ipynb\n"
          ],
          "name": "stdout"
        }
      ]
    },
    {
      "cell_type": "code",
      "metadata": {
        "id": "sxrgBKvbOan4"
      },
      "source": [
        "import pandas as pd\n",
        "import numpy as np"
      ],
      "execution_count": null,
      "outputs": []
    },
    {
      "cell_type": "code",
      "metadata": {
        "id": "L_Ydhd1sObvH"
      },
      "source": [
        "data = pd.read_csv('county_data_with_reduced_covariates_with_SIP.csv')"
      ],
      "execution_count": 51,
      "outputs": []
    },
    {
      "cell_type": "code",
      "metadata": {
        "id": "zgbL2ueHOcxy",
        "outputId": "067b26b0-ef92-4dd9-c0d8-6da6a1223bb7",
        "colab": {
          "base_uri": "https://localhost:8080/",
          "height": 323
        }
      },
      "source": [
        "data.head()"
      ],
      "execution_count": null,
      "outputs": [
        {
          "output_type": "execute_result",
          "data": {
            "text/html": [
              "<div>\n",
              "<style scoped>\n",
              "    .dataframe tbody tr th:only-of-type {\n",
              "        vertical-align: middle;\n",
              "    }\n",
              "\n",
              "    .dataframe tbody tr th {\n",
              "        vertical-align: top;\n",
              "    }\n",
              "\n",
              "    .dataframe thead th {\n",
              "        text-align: right;\n",
              "    }\n",
              "</style>\n",
              "<table border=\"1\" class=\"dataframe\">\n",
              "  <thead>\n",
              "    <tr style=\"text-align: right;\">\n",
              "      <th></th>\n",
              "      <th>state</th>\n",
              "      <th>state_code</th>\n",
              "      <th>State Name</th>\n",
              "      <th>cnamelong</th>\n",
              "      <th>county_code</th>\n",
              "      <th>diff_in_perc_at_home</th>\n",
              "      <th>SIP?</th>\n",
              "      <th>Median Household Income</th>\n",
              "      <th>% Rural</th>\n",
              "      <th>Population_y</th>\n",
              "      <th>political_diff</th>\n",
              "      <th>% less than 18 years of age</th>\n",
              "      <th>% 65 and over</th>\n",
              "      <th>% Asian</th>\n",
              "      <th>% Black</th>\n",
              "      <th>% Hispanic</th>\n",
              "      <th>% Non-Hispanic White</th>\n",
              "    </tr>\n",
              "  </thead>\n",
              "  <tbody>\n",
              "    <tr>\n",
              "      <th>0</th>\n",
              "      <td>1.0</td>\n",
              "      <td>AL</td>\n",
              "      <td>Alabama</td>\n",
              "      <td>Autauga County</td>\n",
              "      <td>1001.0</td>\n",
              "      <td>0.050678</td>\n",
              "      <td>1</td>\n",
              "      <td>59338.0</td>\n",
              "      <td>42.0</td>\n",
              "      <td>55601</td>\n",
              "      <td>-0.494789</td>\n",
              "      <td>23.7</td>\n",
              "      <td>15.6</td>\n",
              "      <td>1.2</td>\n",
              "      <td>19.3</td>\n",
              "      <td>3.0</td>\n",
              "      <td>74.3</td>\n",
              "    </tr>\n",
              "    <tr>\n",
              "      <th>1</th>\n",
              "      <td>1.0</td>\n",
              "      <td>AL</td>\n",
              "      <td>Alabama</td>\n",
              "      <td>Baldwin County</td>\n",
              "      <td>1003.0</td>\n",
              "      <td>0.050312</td>\n",
              "      <td>1</td>\n",
              "      <td>57588.0</td>\n",
              "      <td>42.3</td>\n",
              "      <td>218022</td>\n",
              "      <td>-0.577862</td>\n",
              "      <td>21.6</td>\n",
              "      <td>20.4</td>\n",
              "      <td>1.2</td>\n",
              "      <td>8.8</td>\n",
              "      <td>4.6</td>\n",
              "      <td>83.1</td>\n",
              "    </tr>\n",
              "    <tr>\n",
              "      <th>2</th>\n",
              "      <td>1.0</td>\n",
              "      <td>AL</td>\n",
              "      <td>Alabama</td>\n",
              "      <td>Barbour County</td>\n",
              "      <td>1005.0</td>\n",
              "      <td>0.007037</td>\n",
              "      <td>1</td>\n",
              "      <td>34382.0</td>\n",
              "      <td>67.8</td>\n",
              "      <td>24881</td>\n",
              "      <td>-0.056112</td>\n",
              "      <td>20.9</td>\n",
              "      <td>19.4</td>\n",
              "      <td>0.5</td>\n",
              "      <td>48.0</td>\n",
              "      <td>4.3</td>\n",
              "      <td>45.6</td>\n",
              "    </tr>\n",
              "    <tr>\n",
              "      <th>3</th>\n",
              "      <td>1.0</td>\n",
              "      <td>AL</td>\n",
              "      <td>Alabama</td>\n",
              "      <td>Bibb County</td>\n",
              "      <td>1007.0</td>\n",
              "      <td>0.011809</td>\n",
              "      <td>1</td>\n",
              "      <td>46064.0</td>\n",
              "      <td>68.4</td>\n",
              "      <td>22400</td>\n",
              "      <td>-0.555441</td>\n",
              "      <td>20.5</td>\n",
              "      <td>16.5</td>\n",
              "      <td>0.2</td>\n",
              "      <td>21.1</td>\n",
              "      <td>2.6</td>\n",
              "      <td>74.6</td>\n",
              "    </tr>\n",
              "    <tr>\n",
              "      <th>4</th>\n",
              "      <td>1.0</td>\n",
              "      <td>AL</td>\n",
              "      <td>Alabama</td>\n",
              "      <td>Blount County</td>\n",
              "      <td>1009.0</td>\n",
              "      <td>0.038890</td>\n",
              "      <td>1</td>\n",
              "      <td>50412.0</td>\n",
              "      <td>90.0</td>\n",
              "      <td>57840</td>\n",
              "      <td>-0.813820</td>\n",
              "      <td>23.2</td>\n",
              "      <td>18.2</td>\n",
              "      <td>0.3</td>\n",
              "      <td>1.5</td>\n",
              "      <td>9.6</td>\n",
              "      <td>86.9</td>\n",
              "    </tr>\n",
              "  </tbody>\n",
              "</table>\n",
              "</div>"
            ],
            "text/plain": [
              "   state state_code State Name  ... % Black  % Hispanic  % Non-Hispanic White\n",
              "0    1.0         AL    Alabama  ...    19.3         3.0                  74.3\n",
              "1    1.0         AL    Alabama  ...     8.8         4.6                  83.1\n",
              "2    1.0         AL    Alabama  ...    48.0         4.3                  45.6\n",
              "3    1.0         AL    Alabama  ...    21.1         2.6                  74.6\n",
              "4    1.0         AL    Alabama  ...     1.5         9.6                  86.9\n",
              "\n",
              "[5 rows x 17 columns]"
            ]
          },
          "metadata": {
            "tags": []
          },
          "execution_count": 5
        }
      ]
    },
    {
      "cell_type": "code",
      "metadata": {
        "id": "uCRRKzt6OeMF"
      },
      "source": [
        "data.dropna(inplace = True)"
      ],
      "execution_count": 52,
      "outputs": []
    },
    {
      "cell_type": "code",
      "metadata": {
        "id": "baRruBLzOglL",
        "outputId": "3c8a3300-f177-4a0c-e645-e36da7e28ded",
        "colab": {
          "base_uri": "https://localhost:8080/",
          "height": 34
        }
      },
      "source": [
        "print(f\"after dropping this dataset has {data.shape[0]} records.\")"
      ],
      "execution_count": null,
      "outputs": [
        {
          "output_type": "stream",
          "text": [
            "after dropping this dataset has 2995 records.\n"
          ],
          "name": "stdout"
        }
      ]
    },
    {
      "cell_type": "markdown",
      "metadata": {
        "id": "EXpN5VOAOlnb"
      },
      "source": [
        "# 2. PSM"
      ]
    },
    {
      "cell_type": "code",
      "metadata": {
        "id": "KkVe6A9KOhxv",
        "outputId": "9c7179d8-cd29-4492-e533-8491d90c3892",
        "colab": {
          "base_uri": "https://localhost:8080/",
          "height": 105
        }
      },
      "source": [
        "%load_ext rpy2.ipython\n",
        "# For (automatic) translation of Pandas objects to R\n",
        "from rpy2.robjects import pandas2ri\n",
        "pandas2ri.activate()"
      ],
      "execution_count": null,
      "outputs": [
        {
          "output_type": "stream",
          "text": [
            "/usr/local/lib/python3.6/dist-packages/rpy2/robjects/pandas2ri.py:14: FutureWarning: pandas.core.index is deprecated and will be removed in a future version.  The public classes are available in the top-level namespace.\n",
            "  from pandas.core.index import Index as PandasIndex\n",
            "/usr/local/lib/python3.6/dist-packages/rpy2/robjects/pandas2ri.py:34: UserWarning: pandas >= 1.0 is not supported.\n",
            "  warnings.warn('pandas >= 1.0 is not supported.')\n"
          ],
          "name": "stderr"
        }
      ]
    },
    {
      "cell_type": "code",
      "metadata": {
        "id": "WrJzVEUIOvS3",
        "outputId": "dee4c9e4-962c-4efb-e3e5-01f5ab1fc781",
        "colab": {
          "base_uri": "https://localhost:8080/",
          "height": 1000
        }
      },
      "source": [
        "%%R\n",
        "# install standard propensity matching library in R \n",
        "install.packages(\"MatchIt\")\n",
        "# load MatchIt package\n",
        "library(MatchIt)\n",
        "# install Coarsened Exact Matching package\n",
        "install.packages('cem')\n",
        "library(cem)\n",
        "# install optimal match package\n",
        "install.packages('optmatch')\n",
        "library(optmatch)\n"
      ],
      "execution_count": null,
      "outputs": [
        {
          "output_type": "stream",
          "text": [
            "R[write to console]: Installing package into ‘/usr/local/lib/R/site-library’\n",
            "(as ‘lib’ is unspecified)\n",
            "\n",
            "R[write to console]: trying URL 'https://cran.rstudio.com/src/contrib/MatchIt_3.0.2.tar.gz'\n",
            "\n",
            "R[write to console]: Content type 'application/x-gzip'\n",
            "R[write to console]:  length 317607 bytes (310 KB)\n",
            "\n",
            "R[write to console]: =\n",
            "R[write to console]: =\n",
            "R[write to console]: =\n",
            "R[write to console]: =\n",
            "R[write to console]: =\n",
            "R[write to console]: =\n",
            "R[write to console]: =\n",
            "R[write to console]: =\n",
            "R[write to console]: =\n",
            "R[write to console]: =\n",
            "R[write to console]: =\n",
            "R[write to console]: =\n",
            "R[write to console]: =\n",
            "R[write to console]: =\n",
            "R[write to console]: =\n",
            "R[write to console]: =\n",
            "R[write to console]: =\n",
            "R[write to console]: =\n",
            "R[write to console]: =\n",
            "R[write to console]: =\n",
            "R[write to console]: =\n",
            "R[write to console]: =\n",
            "R[write to console]: =\n",
            "R[write to console]: =\n",
            "R[write to console]: =\n",
            "R[write to console]: =\n",
            "R[write to console]: =\n",
            "R[write to console]: =\n",
            "R[write to console]: =\n",
            "R[write to console]: =\n",
            "R[write to console]: =\n",
            "R[write to console]: =\n",
            "R[write to console]: =\n",
            "R[write to console]: =\n",
            "R[write to console]: =\n",
            "R[write to console]: =\n",
            "R[write to console]: =\n",
            "R[write to console]: =\n",
            "R[write to console]: =\n",
            "R[write to console]: =\n",
            "R[write to console]: =\n",
            "R[write to console]: =\n",
            "R[write to console]: =\n",
            "R[write to console]: =\n",
            "R[write to console]: =\n",
            "R[write to console]: =\n",
            "R[write to console]: =\n",
            "R[write to console]: =\n",
            "R[write to console]: =\n",
            "R[write to console]: =\n",
            "R[write to console]: \n",
            "\n",
            "R[write to console]: downloaded 310 KB\n",
            "\n",
            "\n",
            "R[write to console]: \n",
            "\n",
            "R[write to console]: \n",
            "R[write to console]: The downloaded source packages are in\n",
            "\t‘/tmp/RtmphX1dqo/downloaded_packages’\n",
            "R[write to console]: \n",
            "R[write to console]: \n",
            "\n",
            "R[write to console]: Installing package into ‘/usr/local/lib/R/site-library’\n",
            "(as ‘lib’ is unspecified)\n",
            "\n",
            "R[write to console]: trying URL 'https://cran.rstudio.com/src/contrib/cem_1.1.20.tar.gz'\n",
            "\n",
            "R[write to console]: Content type 'application/x-gzip'\n",
            "R[write to console]:  length 2153944 bytes (2.1 MB)\n",
            "\n",
            "R[write to console]: =\n",
            "R[write to console]: =\n",
            "R[write to console]: =\n",
            "R[write to console]: =\n",
            "R[write to console]: =\n",
            "R[write to console]: =\n",
            "R[write to console]: =\n",
            "R[write to console]: =\n",
            "R[write to console]: =\n",
            "R[write to console]: =\n",
            "R[write to console]: =\n",
            "R[write to console]: =\n",
            "R[write to console]: =\n",
            "R[write to console]: =\n",
            "R[write to console]: =\n",
            "R[write to console]: =\n",
            "R[write to console]: =\n",
            "R[write to console]: =\n",
            "R[write to console]: =\n",
            "R[write to console]: =\n",
            "R[write to console]: =\n",
            "R[write to console]: =\n",
            "R[write to console]: =\n",
            "R[write to console]: =\n",
            "R[write to console]: =\n",
            "R[write to console]: =\n",
            "R[write to console]: =\n",
            "R[write to console]: =\n",
            "R[write to console]: =\n",
            "R[write to console]: =\n",
            "R[write to console]: =\n",
            "R[write to console]: =\n",
            "R[write to console]: =\n",
            "R[write to console]: =\n",
            "R[write to console]: =\n",
            "R[write to console]: =\n",
            "R[write to console]: =\n",
            "R[write to console]: =\n",
            "R[write to console]: =\n",
            "R[write to console]: =\n",
            "R[write to console]: =\n",
            "R[write to console]: =\n",
            "R[write to console]: =\n",
            "R[write to console]: =\n",
            "R[write to console]: =\n",
            "R[write to console]: =\n",
            "R[write to console]: =\n",
            "R[write to console]: =\n",
            "R[write to console]: =\n",
            "R[write to console]: =\n",
            "R[write to console]: \n",
            "\n",
            "R[write to console]: downloaded 2.1 MB\n",
            "\n",
            "\n",
            "R[write to console]: \n",
            "\n",
            "R[write to console]: \n",
            "R[write to console]: The downloaded source packages are in\n",
            "\t‘/tmp/RtmphX1dqo/downloaded_packages’\n",
            "R[write to console]: \n",
            "R[write to console]: \n",
            "\n",
            "R[write to console]: Loading required package: tcltk\n",
            "\n",
            "R[write to console]: Loading required package: lattice\n",
            "\n",
            "R[write to console]: \n",
            "How to use CEM? Type vignette(\"cem\")\n",
            "\n",
            "\n",
            "R[write to console]: Installing package into ‘/usr/local/lib/R/site-library’\n",
            "(as ‘lib’ is unspecified)\n",
            "\n",
            "R[write to console]: trying URL 'https://cran.rstudio.com/src/contrib/optmatch_0.9-13.tar.gz'\n",
            "\n",
            "R[write to console]: Content type 'application/x-gzip'\n",
            "R[write to console]:  length 933328 bytes (911 KB)\n",
            "\n",
            "R[write to console]: =\n",
            "R[write to console]: =\n",
            "R[write to console]: =\n",
            "R[write to console]: =\n",
            "R[write to console]: =\n",
            "R[write to console]: =\n",
            "R[write to console]: =\n",
            "R[write to console]: =\n",
            "R[write to console]: =\n",
            "R[write to console]: =\n",
            "R[write to console]: =\n",
            "R[write to console]: =\n",
            "R[write to console]: =\n",
            "R[write to console]: =\n",
            "R[write to console]: =\n",
            "R[write to console]: =\n",
            "R[write to console]: =\n",
            "R[write to console]: =\n",
            "R[write to console]: =\n",
            "R[write to console]: =\n",
            "R[write to console]: =\n",
            "R[write to console]: =\n",
            "R[write to console]: =\n",
            "R[write to console]: =\n",
            "R[write to console]: =\n",
            "R[write to console]: =\n",
            "R[write to console]: =\n",
            "R[write to console]: =\n",
            "R[write to console]: =\n",
            "R[write to console]: =\n",
            "R[write to console]: =\n",
            "R[write to console]: =\n",
            "R[write to console]: =\n",
            "R[write to console]: =\n",
            "R[write to console]: =\n",
            "R[write to console]: =\n",
            "R[write to console]: =\n",
            "R[write to console]: =\n",
            "R[write to console]: =\n",
            "R[write to console]: =\n",
            "R[write to console]: =\n",
            "R[write to console]: =\n",
            "R[write to console]: =\n",
            "R[write to console]: =\n",
            "R[write to console]: =\n",
            "R[write to console]: =\n",
            "R[write to console]: =\n",
            "R[write to console]: =\n",
            "R[write to console]: =\n",
            "R[write to console]: =\n",
            "R[write to console]: \n",
            "\n",
            "R[write to console]: downloaded 911 KB\n",
            "\n",
            "\n",
            "R[write to console]: \n",
            "\n",
            "R[write to console]: \n",
            "R[write to console]: The downloaded source packages are in\n",
            "\t‘/tmp/RtmphX1dqo/downloaded_packages’\n",
            "R[write to console]: \n",
            "R[write to console]: \n",
            "\n",
            "R[write to console]: Loading required package: survival\n",
            "\n",
            "R[write to console]: The optmatch package has an academic license. Enter relaxinfo() for more information.\n",
            "\n",
            "R[write to console]: \n",
            "Attaching package: ‘optmatch’\n",
            "\n",
            "\n",
            "R[write to console]: The following object is masked from ‘package:cem’:\n",
            "\n",
            "    pair\n",
            "\n",
            "\n"
          ],
          "name": "stderr"
        }
      ]
    },
    {
      "cell_type": "code",
      "metadata": {
        "id": "vsEBX8RxO6Hd"
      },
      "source": [
        "# rename data to dataframe\n",
        "dataframe = data"
      ],
      "execution_count": 53,
      "outputs": []
    },
    {
      "cell_type": "code",
      "metadata": {
        "id": "E3DongBbPC3Q"
      },
      "source": [
        "# -i means pass in some argument/data from python world to R world\n",
        "%%R -i dataframe\n",
        "\n",
        "# using MatchIt package to do PSM - guess it used logistic regression?\n",
        "\n",
        "m.out <- matchit(SIP.~Median.Household.Income + X..Rural +\n",
        "                 political_diff+\n",
        "                 X..Asian + X..Black + \n",
        "                 X..Non.Hispanic.White +\n",
        "                 X..Hispanic + Population_y,\n",
        "                 method = \"full\", data = dataframe) "
      ],
      "execution_count": 54,
      "outputs": []
    },
    {
      "cell_type": "code",
      "metadata": {
        "id": "qzhZr0YkPD-a",
        "outputId": "52a07511-6b44-4772-9956-a6a3e6e8556e",
        "colab": {
          "base_uri": "https://localhost:8080/",
          "height": 1000
        }
      },
      "source": [
        "# to see how maching it doing by visualizing distributions\n",
        "%%R\n",
        "plot(m.out)"
      ],
      "execution_count": null,
      "outputs": [
        {
          "output_type": "display_data",
          "data": {
            "image/png": "[encoded data removed]"
          },
          "metadata": {
            "tags": []
          }
        },
        {
          "output_type": "display_data",
          "data": {
            "image/png": "[encoded data removed]"
          },
          "metadata": {
            "tags": []
          }
        },
        {
          "output_type": "display_data",
          "data": {
            "image/png": "[encoded data removed]"
          },
          "metadata": {
            "tags": []
          }
        }
      ]
    },
    {
      "cell_type": "code",
      "metadata": {
        "id": "O7z8A0mR_p5b",
        "outputId": "adec8883-a436-437a-87ba-f8187434a08b",
        "colab": {
          "base_uri": "https://localhost:8080/",
          "height": 497
        }
      },
      "source": [
        "%%R\n",
        "plot(m.out, type = 'hist')"
      ],
      "execution_count": null,
      "outputs": [
        {
          "output_type": "display_data",
          "data": {
            "image/png": "[encoded data removed]"
          },
          "metadata": {
            "tags": []
          }
        }
      ]
    },
    {
      "cell_type": "code",
      "metadata": {
        "id": "rIEe3QN0PFs3",
        "outputId": "3fc9cf49-7537-4507-bcf7-1d5baf8484bc",
        "colab": {
          "base_uri": "https://localhost:8080/",
          "height": 531
        }
      },
      "source": [
        "%%R\n",
        "plot(m.out, type='jitter')"
      ],
      "execution_count": null,
      "outputs": [
        {
          "output_type": "stream",
          "text": [
            "[1] \"To identify the units, use first mouse button; to stop, use second.\"\n",
            "integer(0)\n"
          ],
          "name": "stdout"
        },
        {
          "output_type": "display_data",
          "data": {
            "image/png": "[encoded data removed]"
          },
          "metadata": {
            "tags": []
          }
        }
      ]
    },
    {
      "cell_type": "code",
      "metadata": {
        "id": "OLuponHkPG_P",
        "outputId": "9fe2a94d-d439-4add-caec-6db275b04abd",
        "colab": {
          "base_uri": "https://localhost:8080/",
          "height": 1000
        }
      },
      "source": [
        "%%R\n",
        "summary(m.out, standardize=T)"
      ],
      "execution_count": null,
      "outputs": [
        {
          "output_type": "stream",
          "text": [
            "\n",
            "Call:\n",
            "matchit(formula = SIP. ~ Median.Household.Income + X..Rural + \n",
            "    political_diff + X..Asian + X..Black + X..Non.Hispanic.White + \n",
            "    X..Hispanic + Population_y, data = dataframe, method = \"full\")\n",
            "\n",
            "Summary of balance for all data:\n",
            "                        Means Treated Means Control Std. Mean Diff. eCDF Med\n",
            "distance                       0.8676        0.7547          1.1147   0.2988\n",
            "Median.Household.Income    52991.1876    52921.7584          0.0048   0.0480\n",
            "X..Rural                      55.2676       64.5125         -0.2978   0.0949\n",
            "political_diff                -0.2877       -0.4283          0.4492   0.1485\n",
            "X..Asian                       1.6851        0.9888          0.2323   0.0254\n",
            "X..Black                      10.2542        4.0293          0.4151   0.0954\n",
            "X..Non.Hispanic.White         74.8670       82.4000         -0.3679   0.1090\n",
            "X..Hispanic                   10.2487        6.5177          0.2534   0.0696\n",
            "Population_y              123128.3980    30946.6018          0.2511   0.2273\n",
            "                        eCDF Mean eCDF Max\n",
            "distance                   0.2757   0.4251\n",
            "Median.Household.Income    0.0544   0.1050\n",
            "X..Rural                   0.0895   0.1453\n",
            "political_diff             0.1290   0.2004\n",
            "X..Asian                   0.0414   0.1467\n",
            "X..Black                   0.1139   0.3009\n",
            "X..Non.Hispanic.White      0.0996   0.1767\n",
            "X..Hispanic                0.0639   0.1154\n",
            "Population_y               0.2018   0.3233\n",
            "\n",
            "\n",
            "Summary of balance for matched data:\n",
            "                        Means Treated Means Control Std. Mean Diff. eCDF Med\n",
            "distance                       0.8676        0.8676         -0.0004   0.0112\n",
            "Median.Household.Income    52991.1876    53562.5325         -0.0393   0.0624\n",
            "X..Rural                      55.2676       50.5720          0.1513   0.0718\n",
            "political_diff                -0.2877       -0.3001          0.0394   0.0388\n",
            "X..Asian                       1.6851        1.6994         -0.0048   0.0152\n",
            "X..Black                      10.2542        7.8039          0.1634   0.0304\n",
            "X..Non.Hispanic.White         74.8670       78.0387         -0.1549   0.0844\n",
            "X..Hispanic                   10.2487        9.1473          0.0748   0.0464\n",
            "Population_y              123128.3980   104667.0168          0.0503   0.0576\n",
            "                        eCDF Mean eCDF Max\n",
            "distance                   0.0125   0.0552\n",
            "Median.Household.Income    0.0673   0.1460\n",
            "X..Rural                   0.0709   0.1492\n",
            "political_diff             0.0399   0.0944\n",
            "X..Asian                   0.0218   0.0988\n",
            "X..Black                   0.0588   0.1632\n",
            "X..Non.Hispanic.White      0.0797   0.1364\n",
            "X..Hispanic                0.0569   0.1720\n",
            "Population_y               0.0818   0.1760\n",
            "\n",
            "Percent Balance Improvement:\n",
            "                        Std. Mean Diff. eCDF Med eCDF Mean eCDF Max\n",
            "distance                        99.9681  96.2519   95.4611  87.0162\n",
            "Median.Household.Income       -722.9172 -30.0092  -23.8037 -39.0388\n",
            "X..Rural                        49.2089  24.3029   20.8412  -2.6545\n",
            "political_diff                  91.2222  73.8785   69.0583  52.8910\n",
            "X..Asian                        97.9474  40.2391   47.4268  32.6304\n",
            "X..Black                        60.6376  68.1428   48.3972  45.7547\n",
            "X..Non.Hispanic.White           57.8968  22.6005   20.0115  22.7991\n",
            "X..Hispanic                     70.4801  33.3124   11.0270 -49.0190\n",
            "Population_y                    79.9729  74.6603   59.4623  45.5681\n",
            "\n",
            "Sample sizes:\n",
            "          Control Treated\n",
            "All           447    2548\n",
            "Matched       447    2548\n",
            "Unmatched       0       0\n",
            "Discarded       0       0\n",
            "\n"
          ],
          "name": "stdout"
        }
      ]
    },
    {
      "cell_type": "code",
      "metadata": {
        "id": "YQz9MO2uPIYX"
      },
      "source": [
        "%%R\n",
        "# extract matched data.\n",
        "matched_data <- match.data(m.out)"
      ],
      "execution_count": 153,
      "outputs": []
    },
    {
      "cell_type": "code",
      "metadata": {
        "id": "XjfP9sciPLN2"
      },
      "source": [
        "# import dataframe from R to python.... since I am not familar with manipulating\n",
        "# R objects \n",
        "matched_data = %R matched_data"
      ],
      "execution_count": 154,
      "outputs": []
    },
    {
      "cell_type": "code",
      "metadata": {
        "id": "TeF0hxqLPPUi"
      },
      "source": [
        "no_SIP_diff = np.average(matched_data[matched_data['SIP.'] == 0]['diff_in_perc_at_home'], weights = matched_data[matched_data['SIP.'] == 0]['weights'])"
      ],
      "execution_count": 57,
      "outputs": []
    },
    {
      "cell_type": "code",
      "metadata": {
        "id": "NuETkrNOPUNW"
      },
      "source": [
        "SIP_diff = np.average(matched_data[matched_data['SIP.'] == 1]['diff_in_perc_at_home'], weights = matched_data[matched_data['SIP.'] == 1]['weights'])"
      ],
      "execution_count": 58,
      "outputs": []
    },
    {
      "cell_type": "code",
      "metadata": {
        "id": "16-NRO8VPtSW",
        "outputId": "6da32096-709c-438e-f9e3-18b937287f18",
        "colab": {
          "base_uri": "https://localhost:8080/",
          "height": 34
        }
      },
      "source": [
        "SIP_diff"
      ],
      "execution_count": 59,
      "outputs": [
        {
          "output_type": "execute_result",
          "data": {
            "text/plain": [
              "0.03318145620033819"
            ]
          },
          "metadata": {
            "tags": []
          },
          "execution_count": 59
        }
      ]
    },
    {
      "cell_type": "code",
      "metadata": {
        "id": "ZcA9Hk1CPxGE",
        "outputId": "ac154a89-0d74-4bf4-85ce-5e5e8745ba5f",
        "colab": {
          "base_uri": "https://localhost:8080/",
          "height": 34
        }
      },
      "source": [
        "no_SIP_diff"
      ],
      "execution_count": null,
      "outputs": [
        {
          "output_type": "execute_result",
          "data": {
            "text/plain": [
              "0.02198215399177096"
            ]
          },
          "metadata": {
            "tags": []
          },
          "execution_count": 22
        }
      ]
    },
    {
      "cell_type": "code",
      "metadata": {
        "id": "YzG8gYWYPrDh",
        "outputId": "21c561cc-81e3-4c34-ebfb-e3da8c7ed886",
        "colab": {
          "base_uri": "https://localhost:8080/",
          "height": 34
        }
      },
      "source": [
        "SIP_diff - no_SIP_diff"
      ],
      "execution_count": null,
      "outputs": [
        {
          "output_type": "execute_result",
          "data": {
            "text/plain": [
              "0.011199302208567227"
            ]
          },
          "metadata": {
            "tags": []
          },
          "execution_count": 20
        }
      ]
    },
    {
      "cell_type": "code",
      "metadata": {
        "id": "A4nOqqmaFY4G",
        "outputId": "cccc462e-05f2-443d-9bca-0a69ef0f9f69",
        "colab": {
          "base_uri": "https://localhost:8080/",
          "height": 609
        }
      },
      "source": [
        "matched_data"
      ],
      "execution_count": null,
      "outputs": [
        {
          "output_type": "execute_result",
          "data": {
            "text/html": [
              "<div>\n",
              "<style scoped>\n",
              "    .dataframe tbody tr th:only-of-type {\n",
              "        vertical-align: middle;\n",
              "    }\n",
              "\n",
              "    .dataframe tbody tr th {\n",
              "        vertical-align: top;\n",
              "    }\n",
              "\n",
              "    .dataframe thead th {\n",
              "        text-align: right;\n",
              "    }\n",
              "</style>\n",
              "<table border=\"1\" class=\"dataframe\">\n",
              "  <thead>\n",
              "    <tr style=\"text-align: right;\">\n",
              "      <th></th>\n",
              "      <th>state</th>\n",
              "      <th>state_code</th>\n",
              "      <th>State.Name</th>\n",
              "      <th>cnamelong</th>\n",
              "      <th>county_code</th>\n",
              "      <th>diff_in_perc_at_home</th>\n",
              "      <th>SIP.</th>\n",
              "      <th>Median.Household.Income</th>\n",
              "      <th>X..Rural</th>\n",
              "      <th>Population_y</th>\n",
              "      <th>political_diff</th>\n",
              "      <th>X..less.than.18.years.of.age</th>\n",
              "      <th>X..65.and.over</th>\n",
              "      <th>X..Asian</th>\n",
              "      <th>X..Black</th>\n",
              "      <th>X..Hispanic</th>\n",
              "      <th>X..Non.Hispanic.White</th>\n",
              "      <th>distance</th>\n",
              "      <th>weights</th>\n",
              "      <th>subclass</th>\n",
              "    </tr>\n",
              "  </thead>\n",
              "  <tbody>\n",
              "    <tr>\n",
              "      <th>0</th>\n",
              "      <td>1.0</td>\n",
              "      <td>AL</td>\n",
              "      <td>Alabama</td>\n",
              "      <td>Autauga County</td>\n",
              "      <td>1001.0</td>\n",
              "      <td>0.050678</td>\n",
              "      <td>1</td>\n",
              "      <td>59338.0</td>\n",
              "      <td>42.0</td>\n",
              "      <td>55601</td>\n",
              "      <td>-0.494789</td>\n",
              "      <td>23.7</td>\n",
              "      <td>15.6</td>\n",
              "      <td>1.2</td>\n",
              "      <td>19.3</td>\n",
              "      <td>3.0</td>\n",
              "      <td>74.3</td>\n",
              "      <td>0.840166</td>\n",
              "      <td>1.000000</td>\n",
              "      <td>1.0</td>\n",
              "    </tr>\n",
              "    <tr>\n",
              "      <th>1</th>\n",
              "      <td>1.0</td>\n",
              "      <td>AL</td>\n",
              "      <td>Alabama</td>\n",
              "      <td>Baldwin County</td>\n",
              "      <td>1003.0</td>\n",
              "      <td>0.050312</td>\n",
              "      <td>1</td>\n",
              "      <td>57588.0</td>\n",
              "      <td>42.3</td>\n",
              "      <td>218022</td>\n",
              "      <td>-0.577862</td>\n",
              "      <td>21.6</td>\n",
              "      <td>20.4</td>\n",
              "      <td>1.2</td>\n",
              "      <td>8.8</td>\n",
              "      <td>4.6</td>\n",
              "      <td>83.1</td>\n",
              "      <td>0.960092</td>\n",
              "      <td>1.000000</td>\n",
              "      <td>107.0</td>\n",
              "    </tr>\n",
              "    <tr>\n",
              "      <th>2</th>\n",
              "      <td>1.0</td>\n",
              "      <td>AL</td>\n",
              "      <td>Alabama</td>\n",
              "      <td>Barbour County</td>\n",
              "      <td>1005.0</td>\n",
              "      <td>0.007037</td>\n",
              "      <td>1</td>\n",
              "      <td>34382.0</td>\n",
              "      <td>67.8</td>\n",
              "      <td>24881</td>\n",
              "      <td>-0.056112</td>\n",
              "      <td>20.9</td>\n",
              "      <td>19.4</td>\n",
              "      <td>0.5</td>\n",
              "      <td>48.0</td>\n",
              "      <td>4.3</td>\n",
              "      <td>45.6</td>\n",
              "      <td>0.971925</td>\n",
              "      <td>1.000000</td>\n",
              "      <td>389.0</td>\n",
              "    </tr>\n",
              "    <tr>\n",
              "      <th>3</th>\n",
              "      <td>1.0</td>\n",
              "      <td>AL</td>\n",
              "      <td>Alabama</td>\n",
              "      <td>Bibb County</td>\n",
              "      <td>1007.0</td>\n",
              "      <td>0.011809</td>\n",
              "      <td>1</td>\n",
              "      <td>46064.0</td>\n",
              "      <td>68.4</td>\n",
              "      <td>22400</td>\n",
              "      <td>-0.555441</td>\n",
              "      <td>20.5</td>\n",
              "      <td>16.5</td>\n",
              "      <td>0.2</td>\n",
              "      <td>21.1</td>\n",
              "      <td>2.6</td>\n",
              "      <td>74.6</td>\n",
              "      <td>0.859824</td>\n",
              "      <td>1.000000</td>\n",
              "      <td>86.0</td>\n",
              "    </tr>\n",
              "    <tr>\n",
              "      <th>4</th>\n",
              "      <td>1.0</td>\n",
              "      <td>AL</td>\n",
              "      <td>Alabama</td>\n",
              "      <td>Blount County</td>\n",
              "      <td>1009.0</td>\n",
              "      <td>0.038890</td>\n",
              "      <td>1</td>\n",
              "      <td>50412.0</td>\n",
              "      <td>90.0</td>\n",
              "      <td>57840</td>\n",
              "      <td>-0.813820</td>\n",
              "      <td>23.2</td>\n",
              "      <td>18.2</td>\n",
              "      <td>0.3</td>\n",
              "      <td>1.5</td>\n",
              "      <td>9.6</td>\n",
              "      <td>86.9</td>\n",
              "      <td>0.840270</td>\n",
              "      <td>1.000000</td>\n",
              "      <td>1.0</td>\n",
              "    </tr>\n",
              "    <tr>\n",
              "      <th>...</th>\n",
              "      <td>...</td>\n",
              "      <td>...</td>\n",
              "      <td>...</td>\n",
              "      <td>...</td>\n",
              "      <td>...</td>\n",
              "      <td>...</td>\n",
              "      <td>...</td>\n",
              "      <td>...</td>\n",
              "      <td>...</td>\n",
              "      <td>...</td>\n",
              "      <td>...</td>\n",
              "      <td>...</td>\n",
              "      <td>...</td>\n",
              "      <td>...</td>\n",
              "      <td>...</td>\n",
              "      <td>...</td>\n",
              "      <td>...</td>\n",
              "      <td>...</td>\n",
              "      <td>...</td>\n",
              "      <td>...</td>\n",
              "    </tr>\n",
              "    <tr>\n",
              "      <th>2991</th>\n",
              "      <td>56.0</td>\n",
              "      <td>WY</td>\n",
              "      <td>Wyoming</td>\n",
              "      <td>Sweetwater County</td>\n",
              "      <td>56037.0</td>\n",
              "      <td>-0.018485</td>\n",
              "      <td>0</td>\n",
              "      <td>73315.0</td>\n",
              "      <td>10.9</td>\n",
              "      <td>43051</td>\n",
              "      <td>-0.535382</td>\n",
              "      <td>26.2</td>\n",
              "      <td>12.1</td>\n",
              "      <td>1.0</td>\n",
              "      <td>1.1</td>\n",
              "      <td>16.1</td>\n",
              "      <td>79.3</td>\n",
              "      <td>0.669064</td>\n",
              "      <td>0.058477</td>\n",
              "      <td>359.0</td>\n",
              "    </tr>\n",
              "    <tr>\n",
              "      <th>2992</th>\n",
              "      <td>56.0</td>\n",
              "      <td>WY</td>\n",
              "      <td>Wyoming</td>\n",
              "      <td>Teton County</td>\n",
              "      <td>56039.0</td>\n",
              "      <td>0.075183</td>\n",
              "      <td>1</td>\n",
              "      <td>99087.0</td>\n",
              "      <td>46.4</td>\n",
              "      <td>23081</td>\n",
              "      <td>0.278663</td>\n",
              "      <td>18.4</td>\n",
              "      <td>15.4</td>\n",
              "      <td>1.4</td>\n",
              "      <td>0.6</td>\n",
              "      <td>14.9</td>\n",
              "      <td>81.5</td>\n",
              "      <td>0.797502</td>\n",
              "      <td>1.000000</td>\n",
              "      <td>382.0</td>\n",
              "    </tr>\n",
              "    <tr>\n",
              "      <th>2993</th>\n",
              "      <td>56.0</td>\n",
              "      <td>WY</td>\n",
              "      <td>Wyoming</td>\n",
              "      <td>Uinta County</td>\n",
              "      <td>56041.0</td>\n",
              "      <td>0.010157</td>\n",
              "      <td>0</td>\n",
              "      <td>63401.0</td>\n",
              "      <td>43.1</td>\n",
              "      <td>20299</td>\n",
              "      <td>-0.614926</td>\n",
              "      <td>28.8</td>\n",
              "      <td>14.1</td>\n",
              "      <td>0.5</td>\n",
              "      <td>0.7</td>\n",
              "      <td>9.2</td>\n",
              "      <td>87.4</td>\n",
              "      <td>0.662699</td>\n",
              "      <td>0.175432</td>\n",
              "      <td>224.0</td>\n",
              "    </tr>\n",
              "    <tr>\n",
              "      <th>2994</th>\n",
              "      <td>56.0</td>\n",
              "      <td>WY</td>\n",
              "      <td>Wyoming</td>\n",
              "      <td>Washakie County</td>\n",
              "      <td>56043.0</td>\n",
              "      <td>-0.007825</td>\n",
              "      <td>0</td>\n",
              "      <td>55190.0</td>\n",
              "      <td>36.0</td>\n",
              "      <td>7885</td>\n",
              "      <td>-0.640377</td>\n",
              "      <td>22.7</td>\n",
              "      <td>21.7</td>\n",
              "      <td>0.8</td>\n",
              "      <td>0.5</td>\n",
              "      <td>14.1</td>\n",
              "      <td>82.4</td>\n",
              "      <td>0.679251</td>\n",
              "      <td>0.701727</td>\n",
              "      <td>145.0</td>\n",
              "    </tr>\n",
              "    <tr>\n",
              "      <th>2995</th>\n",
              "      <td>56.0</td>\n",
              "      <td>WY</td>\n",
              "      <td>Wyoming</td>\n",
              "      <td>Weston County</td>\n",
              "      <td>56045.0</td>\n",
              "      <td>-0.003361</td>\n",
              "      <td>0</td>\n",
              "      <td>54319.0</td>\n",
              "      <td>54.5</td>\n",
              "      <td>6967</td>\n",
              "      <td>-0.781044</td>\n",
              "      <td>20.8</td>\n",
              "      <td>20.5</td>\n",
              "      <td>1.9</td>\n",
              "      <td>0.6</td>\n",
              "      <td>4.1</td>\n",
              "      <td>90.0</td>\n",
              "      <td>0.606393</td>\n",
              "      <td>0.175432</td>\n",
              "      <td>341.0</td>\n",
              "    </tr>\n",
              "  </tbody>\n",
              "</table>\n",
              "<p>2995 rows × 20 columns</p>\n",
              "</div>"
            ],
            "text/plain": [
              "      state state_code State.Name  ...  distance   weights  subclass\n",
              "0       1.0         AL    Alabama  ...  0.840166  1.000000       1.0\n",
              "1       1.0         AL    Alabama  ...  0.960092  1.000000     107.0\n",
              "2       1.0         AL    Alabama  ...  0.971925  1.000000     389.0\n",
              "3       1.0         AL    Alabama  ...  0.859824  1.000000      86.0\n",
              "4       1.0         AL    Alabama  ...  0.840270  1.000000       1.0\n",
              "...     ...        ...        ...  ...       ...       ...       ...\n",
              "2991   56.0         WY    Wyoming  ...  0.669064  0.058477     359.0\n",
              "2992   56.0         WY    Wyoming  ...  0.797502  1.000000     382.0\n",
              "2993   56.0         WY    Wyoming  ...  0.662699  0.175432     224.0\n",
              "2994   56.0         WY    Wyoming  ...  0.679251  0.701727     145.0\n",
              "2995   56.0         WY    Wyoming  ...  0.606393  0.175432     341.0\n",
              "\n",
              "[2995 rows x 20 columns]"
            ]
          },
          "metadata": {
            "tags": []
          },
          "execution_count": 17
        }
      ]
    },
    {
      "cell_type": "markdown",
      "metadata": {
        "id": "_aFidYYPFfD3"
      },
      "source": [
        "Seems like distance column is the propensity score we want because you can find out [here](https://cran.r-project.org/web/packages/MatchIt/MatchIt.pdf) that without specifying any distance metric the default distance is \"logit\", which I think is the propensity score we are using."
      ]
    },
    {
      "cell_type": "code",
      "metadata": {
        "id": "6djaFvE4QAOA",
        "outputId": "be7f52fb-fa06-4fa0-c273-13b48145aae9",
        "colab": {
          "base_uri": "https://localhost:8080/",
          "height": 34
        }
      },
      "source": [
        "# max propensity score\n",
        "matched_data['distance'].max()"
      ],
      "execution_count": null,
      "outputs": [
        {
          "output_type": "execute_result",
          "data": {
            "text/plain": [
              "0.9999999999999998"
            ]
          },
          "metadata": {
            "tags": []
          },
          "execution_count": 15
        }
      ]
    },
    {
      "cell_type": "code",
      "metadata": {
        "id": "uLmePQGjGCjC",
        "outputId": "b11b1272-4ba9-4709-9a4b-ad3b215f504d",
        "colab": {
          "base_uri": "https://localhost:8080/",
          "height": 583
        }
      },
      "source": [
        "matched_data[matched_data['distance'] == matched_data['distance'].max()]"
      ],
      "execution_count": null,
      "outputs": [
        {
          "output_type": "execute_result",
          "data": {
            "text/html": [
              "<div>\n",
              "<style scoped>\n",
              "    .dataframe tbody tr th:only-of-type {\n",
              "        vertical-align: middle;\n",
              "    }\n",
              "\n",
              "    .dataframe tbody tr th {\n",
              "        vertical-align: top;\n",
              "    }\n",
              "\n",
              "    .dataframe thead th {\n",
              "        text-align: right;\n",
              "    }\n",
              "</style>\n",
              "<table border=\"1\" class=\"dataframe\">\n",
              "  <thead>\n",
              "    <tr style=\"text-align: right;\">\n",
              "      <th></th>\n",
              "      <th>state</th>\n",
              "      <th>state_code</th>\n",
              "      <th>State.Name</th>\n",
              "      <th>cnamelong</th>\n",
              "      <th>county_code</th>\n",
              "      <th>diff_in_perc_at_home</th>\n",
              "      <th>SIP.</th>\n",
              "      <th>Median.Household.Income</th>\n",
              "      <th>X..Rural</th>\n",
              "      <th>Population_y</th>\n",
              "      <th>political_diff</th>\n",
              "      <th>X..less.than.18.years.of.age</th>\n",
              "      <th>X..65.and.over</th>\n",
              "      <th>X..Asian</th>\n",
              "      <th>X..Black</th>\n",
              "      <th>X..Hispanic</th>\n",
              "      <th>X..Non.Hispanic.White</th>\n",
              "      <th>distance</th>\n",
              "      <th>weights</th>\n",
              "      <th>subclass</th>\n",
              "    </tr>\n",
              "  </thead>\n",
              "  <tbody>\n",
              "    <tr>\n",
              "      <th>89</th>\n",
              "      <td>4.0</td>\n",
              "      <td>AZ</td>\n",
              "      <td>Arizona</td>\n",
              "      <td>Maricopa County</td>\n",
              "      <td>4013.0</td>\n",
              "      <td>0.070350</td>\n",
              "      <td>1</td>\n",
              "      <td>65234.0</td>\n",
              "      <td>2.4</td>\n",
              "      <td>4410824</td>\n",
              "      <td>-0.034465</td>\n",
              "      <td>23.9</td>\n",
              "      <td>15.2</td>\n",
              "      <td>4.6</td>\n",
              "      <td>5.5</td>\n",
              "      <td>31.3</td>\n",
              "      <td>54.9</td>\n",
              "      <td>1.0</td>\n",
              "      <td>1.0</td>\n",
              "      <td>88.0</td>\n",
              "    </tr>\n",
              "    <tr>\n",
              "      <th>189</th>\n",
              "      <td>6.0</td>\n",
              "      <td>CA</td>\n",
              "      <td>California</td>\n",
              "      <td>Los Angeles County</td>\n",
              "      <td>6037.0</td>\n",
              "      <td>0.118096</td>\n",
              "      <td>1</td>\n",
              "      <td>67986.0</td>\n",
              "      <td>0.6</td>\n",
              "      <td>10105518</td>\n",
              "      <td>0.480185</td>\n",
              "      <td>21.7</td>\n",
              "      <td>13.6</td>\n",
              "      <td>15.4</td>\n",
              "      <td>8.0</td>\n",
              "      <td>48.6</td>\n",
              "      <td>26.1</td>\n",
              "      <td>1.0</td>\n",
              "      <td>1.0</td>\n",
              "      <td>88.0</td>\n",
              "    </tr>\n",
              "    <tr>\n",
              "      <th>200</th>\n",
              "      <td>6.0</td>\n",
              "      <td>CA</td>\n",
              "      <td>California</td>\n",
              "      <td>Orange County</td>\n",
              "      <td>6059.0</td>\n",
              "      <td>0.159275</td>\n",
              "      <td>1</td>\n",
              "      <td>89373.0</td>\n",
              "      <td>0.1</td>\n",
              "      <td>3185968</td>\n",
              "      <td>0.076800</td>\n",
              "      <td>21.9</td>\n",
              "      <td>14.8</td>\n",
              "      <td>21.4</td>\n",
              "      <td>1.6</td>\n",
              "      <td>34.2</td>\n",
              "      <td>40.1</td>\n",
              "      <td>1.0</td>\n",
              "      <td>1.0</td>\n",
              "      <td>88.0</td>\n",
              "    </tr>\n",
              "    <tr>\n",
              "      <th>203</th>\n",
              "      <td>6.0</td>\n",
              "      <td>CA</td>\n",
              "      <td>California</td>\n",
              "      <td>Riverside County</td>\n",
              "      <td>6065.0</td>\n",
              "      <td>0.091735</td>\n",
              "      <td>1</td>\n",
              "      <td>66793.0</td>\n",
              "      <td>4.6</td>\n",
              "      <td>2450758</td>\n",
              "      <td>0.043345</td>\n",
              "      <td>25.1</td>\n",
              "      <td>14.4</td>\n",
              "      <td>7.1</td>\n",
              "      <td>6.2</td>\n",
              "      <td>49.6</td>\n",
              "      <td>34.7</td>\n",
              "      <td>1.0</td>\n",
              "      <td>1.0</td>\n",
              "      <td>88.0</td>\n",
              "    </tr>\n",
              "    <tr>\n",
              "      <th>207</th>\n",
              "      <td>6.0</td>\n",
              "      <td>CA</td>\n",
              "      <td>California</td>\n",
              "      <td>San Diego County</td>\n",
              "      <td>6073.0</td>\n",
              "      <td>0.128628</td>\n",
              "      <td>1</td>\n",
              "      <td>78777.0</td>\n",
              "      <td>3.3</td>\n",
              "      <td>3343364</td>\n",
              "      <td>0.178358</td>\n",
              "      <td>21.6</td>\n",
              "      <td>14.0</td>\n",
              "      <td>12.6</td>\n",
              "      <td>4.7</td>\n",
              "      <td>34.0</td>\n",
              "      <td>45.2</td>\n",
              "      <td>1.0</td>\n",
              "      <td>1.0</td>\n",
              "      <td>88.0</td>\n",
              "    </tr>\n",
              "    <tr>\n",
              "      <th>339</th>\n",
              "      <td>12.0</td>\n",
              "      <td>FL</td>\n",
              "      <td>Florida</td>\n",
              "      <td>Miami-Dade County</td>\n",
              "      <td>12086.0</td>\n",
              "      <td>0.156587</td>\n",
              "      <td>1</td>\n",
              "      <td>52043.0</td>\n",
              "      <td>0.4</td>\n",
              "      <td>2761581</td>\n",
              "      <td>0.295646</td>\n",
              "      <td>20.2</td>\n",
              "      <td>16.2</td>\n",
              "      <td>1.7</td>\n",
              "      <td>15.6</td>\n",
              "      <td>69.1</td>\n",
              "      <td>13.0</td>\n",
              "      <td>1.0</td>\n",
              "      <td>1.0</td>\n",
              "      <td>88.0</td>\n",
              "    </tr>\n",
              "    <tr>\n",
              "      <th>579</th>\n",
              "      <td>17.0</td>\n",
              "      <td>IL</td>\n",
              "      <td>Illinois</td>\n",
              "      <td>Cook County</td>\n",
              "      <td>17031.0</td>\n",
              "      <td>0.123588</td>\n",
              "      <td>1</td>\n",
              "      <td>63347.0</td>\n",
              "      <td>0.0</td>\n",
              "      <td>5180493</td>\n",
              "      <td>0.529565</td>\n",
              "      <td>21.8</td>\n",
              "      <td>14.6</td>\n",
              "      <td>7.9</td>\n",
              "      <td>23.0</td>\n",
              "      <td>25.5</td>\n",
              "      <td>42.1</td>\n",
              "      <td>1.0</td>\n",
              "      <td>1.0</td>\n",
              "      <td>153.0</td>\n",
              "    </tr>\n",
              "    <tr>\n",
              "      <th>1769</th>\n",
              "      <td>36.0</td>\n",
              "      <td>NY</td>\n",
              "      <td>New York</td>\n",
              "      <td>Kings County</td>\n",
              "      <td>36047.0</td>\n",
              "      <td>0.173891</td>\n",
              "      <td>1</td>\n",
              "      <td>60862.0</td>\n",
              "      <td>0.0</td>\n",
              "      <td>2582830</td>\n",
              "      <td>0.618298</td>\n",
              "      <td>22.8</td>\n",
              "      <td>13.9</td>\n",
              "      <td>12.7</td>\n",
              "      <td>29.9</td>\n",
              "      <td>19.1</td>\n",
              "      <td>36.4</td>\n",
              "      <td>1.0</td>\n",
              "      <td>1.0</td>\n",
              "      <td>88.0</td>\n",
              "    </tr>\n",
              "    <tr>\n",
              "      <th>2454</th>\n",
              "      <td>48.0</td>\n",
              "      <td>TX</td>\n",
              "      <td>Texas</td>\n",
              "      <td>Dallas County</td>\n",
              "      <td>48113.0</td>\n",
              "      <td>0.078694</td>\n",
              "      <td>1</td>\n",
              "      <td>59838.0</td>\n",
              "      <td>0.7</td>\n",
              "      <td>2637772</td>\n",
              "      <td>0.262413</td>\n",
              "      <td>26.1</td>\n",
              "      <td>10.7</td>\n",
              "      <td>6.7</td>\n",
              "      <td>22.6</td>\n",
              "      <td>40.5</td>\n",
              "      <td>28.6</td>\n",
              "      <td>1.0</td>\n",
              "      <td>1.0</td>\n",
              "      <td>88.0</td>\n",
              "    </tr>\n",
              "    <tr>\n",
              "      <th>2497</th>\n",
              "      <td>48.0</td>\n",
              "      <td>TX</td>\n",
              "      <td>Texas</td>\n",
              "      <td>Harris County</td>\n",
              "      <td>48201.0</td>\n",
              "      <td>0.090368</td>\n",
              "      <td>1</td>\n",
              "      <td>60241.0</td>\n",
              "      <td>1.2</td>\n",
              "      <td>4698619</td>\n",
              "      <td>0.123964</td>\n",
              "      <td>26.6</td>\n",
              "      <td>10.5</td>\n",
              "      <td>7.4</td>\n",
              "      <td>18.8</td>\n",
              "      <td>43.3</td>\n",
              "      <td>29.1</td>\n",
              "      <td>1.0</td>\n",
              "      <td>1.0</td>\n",
              "      <td>88.0</td>\n",
              "    </tr>\n",
              "  </tbody>\n",
              "</table>\n",
              "</div>"
            ],
            "text/plain": [
              "      state state_code  State.Name  ... distance  weights  subclass\n",
              "89      4.0         AZ     Arizona  ...      1.0      1.0      88.0\n",
              "189     6.0         CA  California  ...      1.0      1.0      88.0\n",
              "200     6.0         CA  California  ...      1.0      1.0      88.0\n",
              "203     6.0         CA  California  ...      1.0      1.0      88.0\n",
              "207     6.0         CA  California  ...      1.0      1.0      88.0\n",
              "339    12.0         FL     Florida  ...      1.0      1.0      88.0\n",
              "579    17.0         IL    Illinois  ...      1.0      1.0     153.0\n",
              "1769   36.0         NY    New York  ...      1.0      1.0      88.0\n",
              "2454   48.0         TX       Texas  ...      1.0      1.0      88.0\n",
              "2497   48.0         TX       Texas  ...      1.0      1.0      88.0\n",
              "\n",
              "[10 rows x 20 columns]"
            ]
          },
          "metadata": {
            "tags": []
          },
          "execution_count": 18
        }
      ]
    },
    {
      "cell_type": "code",
      "metadata": {
        "id": "leAkSE8gRmJQ",
        "outputId": "54eb5620-3ba7-415d-9fe9-92d54dcfe530",
        "colab": {
          "base_uri": "https://localhost:8080/",
          "height": 34
        }
      },
      "source": [
        "# minimum propensity score\n",
        "matched_data['distance'].min()"
      ],
      "execution_count": null,
      "outputs": [
        {
          "output_type": "execute_result",
          "data": {
            "text/plain": [
              "0.0439668014865062"
            ]
          },
          "metadata": {
            "tags": []
          },
          "execution_count": 16
        }
      ]
    },
    {
      "cell_type": "code",
      "metadata": {
        "id": "oLPwj_s3GMha",
        "outputId": "1fbf8654-ec4a-4cfb-b24f-bfb721fa3eb4",
        "colab": {
          "base_uri": "https://localhost:8080/",
          "height": 134
        }
      },
      "source": [
        "matched_data[matched_data['distance'] == matched_data['distance'].min()]"
      ],
      "execution_count": null,
      "outputs": [
        {
          "output_type": "execute_result",
          "data": {
            "text/html": [
              "<div>\n",
              "<style scoped>\n",
              "    .dataframe tbody tr th:only-of-type {\n",
              "        vertical-align: middle;\n",
              "    }\n",
              "\n",
              "    .dataframe tbody tr th {\n",
              "        vertical-align: top;\n",
              "    }\n",
              "\n",
              "    .dataframe thead th {\n",
              "        text-align: right;\n",
              "    }\n",
              "</style>\n",
              "<table border=\"1\" class=\"dataframe\">\n",
              "  <thead>\n",
              "    <tr style=\"text-align: right;\">\n",
              "      <th></th>\n",
              "      <th>state</th>\n",
              "      <th>state_code</th>\n",
              "      <th>State.Name</th>\n",
              "      <th>cnamelong</th>\n",
              "      <th>county_code</th>\n",
              "      <th>diff_in_perc_at_home</th>\n",
              "      <th>SIP.</th>\n",
              "      <th>Median.Household.Income</th>\n",
              "      <th>X..Rural</th>\n",
              "      <th>Population_y</th>\n",
              "      <th>political_diff</th>\n",
              "      <th>X..less.than.18.years.of.age</th>\n",
              "      <th>X..65.and.over</th>\n",
              "      <th>X..Asian</th>\n",
              "      <th>X..Black</th>\n",
              "      <th>X..Hispanic</th>\n",
              "      <th>X..Non.Hispanic.White</th>\n",
              "      <th>distance</th>\n",
              "      <th>weights</th>\n",
              "      <th>subclass</th>\n",
              "    </tr>\n",
              "  </thead>\n",
              "  <tbody>\n",
              "    <tr>\n",
              "      <th>77</th>\n",
              "      <td>2.0</td>\n",
              "      <td>AK</td>\n",
              "      <td>Alaska</td>\n",
              "      <td>Northwest Arctic Borough</td>\n",
              "      <td>2188.0</td>\n",
              "      <td>0.063479</td>\n",
              "      <td>1</td>\n",
              "      <td>59337.0</td>\n",
              "      <td>57.5</td>\n",
              "      <td>7671</td>\n",
              "      <td>-0.151711</td>\n",
              "      <td>35.3</td>\n",
              "      <td>7.3</td>\n",
              "      <td>0.8</td>\n",
              "      <td>1.1</td>\n",
              "      <td>3.8</td>\n",
              "      <td>10.9</td>\n",
              "      <td>0.043967</td>\n",
              "      <td>1.0</td>\n",
              "      <td>189.0</td>\n",
              "    </tr>\n",
              "  </tbody>\n",
              "</table>\n",
              "</div>"
            ],
            "text/plain": [
              "    state state_code State.Name  ...  distance  weights  subclass\n",
              "77    2.0         AK     Alaska  ...  0.043967      1.0     189.0\n",
              "\n",
              "[1 rows x 20 columns]"
            ]
          },
          "metadata": {
            "tags": []
          },
          "execution_count": 19
        }
      ]
    },
    {
      "cell_type": "markdown",
      "metadata": {
        "id": "VcHM35hkK7NF"
      },
      "source": [
        "# 3. standardize data"
      ]
    },
    {
      "cell_type": "code",
      "metadata": {
        "id": "RqeRMEv1JQLQ"
      },
      "source": [
        "# import packages from LR and standardize tool\n",
        "from sklearn.linear_model import LinearRegression\n",
        "from sklearn.preprocessing import StandardScaler"
      ],
      "execution_count": null,
      "outputs": []
    },
    {
      "cell_type": "code",
      "metadata": {
        "id": "jr8F-_EJJXOO"
      },
      "source": [
        "matched_data.drop(['SIP.'], axis=1, inplace = True) # drops SIP? column because we are grouping by propsensity score"
      ],
      "execution_count": 155,
      "outputs": []
    },
    {
      "cell_type": "code",
      "metadata": {
        "id": "asT0W49pJiLW"
      },
      "source": [
        "# get only numeric columns because we can't scale the strings, etc.\n",
        "matched_data = matched_data._get_numeric_data()"
      ],
      "execution_count": 156,
      "outputs": []
    },
    {
      "cell_type": "code",
      "metadata": {
        "id": "ZR_hR1zbJ1SV",
        "outputId": "1f6cccb1-c1a4-4e5d-e0a6-14088d756551",
        "colab": {
          "base_uri": "https://localhost:8080/",
          "height": 439
        }
      },
      "source": [
        "matched_data"
      ],
      "execution_count": 157,
      "outputs": [
        {
          "output_type": "execute_result",
          "data": {
            "text/html": [
              "<div>\n",
              "<style scoped>\n",
              "    .dataframe tbody tr th:only-of-type {\n",
              "        vertical-align: middle;\n",
              "    }\n",
              "\n",
              "    .dataframe tbody tr th {\n",
              "        vertical-align: top;\n",
              "    }\n",
              "\n",
              "    .dataframe thead th {\n",
              "        text-align: right;\n",
              "    }\n",
              "</style>\n",
              "<table border=\"1\" class=\"dataframe\">\n",
              "  <thead>\n",
              "    <tr style=\"text-align: right;\">\n",
              "      <th></th>\n",
              "      <th>state</th>\n",
              "      <th>county_code</th>\n",
              "      <th>diff_in_perc_at_home</th>\n",
              "      <th>Median.Household.Income</th>\n",
              "      <th>X..Rural</th>\n",
              "      <th>Population_y</th>\n",
              "      <th>political_diff</th>\n",
              "      <th>X..less.than.18.years.of.age</th>\n",
              "      <th>X..65.and.over</th>\n",
              "      <th>X..Asian</th>\n",
              "      <th>X..Black</th>\n",
              "      <th>X..Hispanic</th>\n",
              "      <th>X..Non.Hispanic.White</th>\n",
              "      <th>distance</th>\n",
              "      <th>weights</th>\n",
              "      <th>subclass</th>\n",
              "    </tr>\n",
              "  </thead>\n",
              "  <tbody>\n",
              "    <tr>\n",
              "      <th>0</th>\n",
              "      <td>1.0</td>\n",
              "      <td>1001.0</td>\n",
              "      <td>0.050678</td>\n",
              "      <td>59338.0</td>\n",
              "      <td>42.0</td>\n",
              "      <td>55601</td>\n",
              "      <td>-0.494789</td>\n",
              "      <td>23.7</td>\n",
              "      <td>15.6</td>\n",
              "      <td>1.2</td>\n",
              "      <td>19.3</td>\n",
              "      <td>3.0</td>\n",
              "      <td>74.3</td>\n",
              "      <td>0.840166</td>\n",
              "      <td>1.000000</td>\n",
              "      <td>1.0</td>\n",
              "    </tr>\n",
              "    <tr>\n",
              "      <th>1</th>\n",
              "      <td>1.0</td>\n",
              "      <td>1003.0</td>\n",
              "      <td>0.050312</td>\n",
              "      <td>57588.0</td>\n",
              "      <td>42.3</td>\n",
              "      <td>218022</td>\n",
              "      <td>-0.577862</td>\n",
              "      <td>21.6</td>\n",
              "      <td>20.4</td>\n",
              "      <td>1.2</td>\n",
              "      <td>8.8</td>\n",
              "      <td>4.6</td>\n",
              "      <td>83.1</td>\n",
              "      <td>0.960092</td>\n",
              "      <td>1.000000</td>\n",
              "      <td>107.0</td>\n",
              "    </tr>\n",
              "    <tr>\n",
              "      <th>2</th>\n",
              "      <td>1.0</td>\n",
              "      <td>1005.0</td>\n",
              "      <td>0.007037</td>\n",
              "      <td>34382.0</td>\n",
              "      <td>67.8</td>\n",
              "      <td>24881</td>\n",
              "      <td>-0.056112</td>\n",
              "      <td>20.9</td>\n",
              "      <td>19.4</td>\n",
              "      <td>0.5</td>\n",
              "      <td>48.0</td>\n",
              "      <td>4.3</td>\n",
              "      <td>45.6</td>\n",
              "      <td>0.971925</td>\n",
              "      <td>1.000000</td>\n",
              "      <td>389.0</td>\n",
              "    </tr>\n",
              "    <tr>\n",
              "      <th>3</th>\n",
              "      <td>1.0</td>\n",
              "      <td>1007.0</td>\n",
              "      <td>0.011809</td>\n",
              "      <td>46064.0</td>\n",
              "      <td>68.4</td>\n",
              "      <td>22400</td>\n",
              "      <td>-0.555441</td>\n",
              "      <td>20.5</td>\n",
              "      <td>16.5</td>\n",
              "      <td>0.2</td>\n",
              "      <td>21.1</td>\n",
              "      <td>2.6</td>\n",
              "      <td>74.6</td>\n",
              "      <td>0.859824</td>\n",
              "      <td>1.000000</td>\n",
              "      <td>86.0</td>\n",
              "    </tr>\n",
              "    <tr>\n",
              "      <th>4</th>\n",
              "      <td>1.0</td>\n",
              "      <td>1009.0</td>\n",
              "      <td>0.038890</td>\n",
              "      <td>50412.0</td>\n",
              "      <td>90.0</td>\n",
              "      <td>57840</td>\n",
              "      <td>-0.813820</td>\n",
              "      <td>23.2</td>\n",
              "      <td>18.2</td>\n",
              "      <td>0.3</td>\n",
              "      <td>1.5</td>\n",
              "      <td>9.6</td>\n",
              "      <td>86.9</td>\n",
              "      <td>0.840270</td>\n",
              "      <td>1.000000</td>\n",
              "      <td>1.0</td>\n",
              "    </tr>\n",
              "    <tr>\n",
              "      <th>...</th>\n",
              "      <td>...</td>\n",
              "      <td>...</td>\n",
              "      <td>...</td>\n",
              "      <td>...</td>\n",
              "      <td>...</td>\n",
              "      <td>...</td>\n",
              "      <td>...</td>\n",
              "      <td>...</td>\n",
              "      <td>...</td>\n",
              "      <td>...</td>\n",
              "      <td>...</td>\n",
              "      <td>...</td>\n",
              "      <td>...</td>\n",
              "      <td>...</td>\n",
              "      <td>...</td>\n",
              "      <td>...</td>\n",
              "    </tr>\n",
              "    <tr>\n",
              "      <th>2991</th>\n",
              "      <td>56.0</td>\n",
              "      <td>56037.0</td>\n",
              "      <td>-0.018485</td>\n",
              "      <td>73315.0</td>\n",
              "      <td>10.9</td>\n",
              "      <td>43051</td>\n",
              "      <td>-0.535382</td>\n",
              "      <td>26.2</td>\n",
              "      <td>12.1</td>\n",
              "      <td>1.0</td>\n",
              "      <td>1.1</td>\n",
              "      <td>16.1</td>\n",
              "      <td>79.3</td>\n",
              "      <td>0.669064</td>\n",
              "      <td>0.058477</td>\n",
              "      <td>359.0</td>\n",
              "    </tr>\n",
              "    <tr>\n",
              "      <th>2992</th>\n",
              "      <td>56.0</td>\n",
              "      <td>56039.0</td>\n",
              "      <td>0.075183</td>\n",
              "      <td>99087.0</td>\n",
              "      <td>46.4</td>\n",
              "      <td>23081</td>\n",
              "      <td>0.278663</td>\n",
              "      <td>18.4</td>\n",
              "      <td>15.4</td>\n",
              "      <td>1.4</td>\n",
              "      <td>0.6</td>\n",
              "      <td>14.9</td>\n",
              "      <td>81.5</td>\n",
              "      <td>0.797502</td>\n",
              "      <td>1.000000</td>\n",
              "      <td>382.0</td>\n",
              "    </tr>\n",
              "    <tr>\n",
              "      <th>2993</th>\n",
              "      <td>56.0</td>\n",
              "      <td>56041.0</td>\n",
              "      <td>0.010157</td>\n",
              "      <td>63401.0</td>\n",
              "      <td>43.1</td>\n",
              "      <td>20299</td>\n",
              "      <td>-0.614926</td>\n",
              "      <td>28.8</td>\n",
              "      <td>14.1</td>\n",
              "      <td>0.5</td>\n",
              "      <td>0.7</td>\n",
              "      <td>9.2</td>\n",
              "      <td>87.4</td>\n",
              "      <td>0.662699</td>\n",
              "      <td>0.175432</td>\n",
              "      <td>224.0</td>\n",
              "    </tr>\n",
              "    <tr>\n",
              "      <th>2994</th>\n",
              "      <td>56.0</td>\n",
              "      <td>56043.0</td>\n",
              "      <td>-0.007825</td>\n",
              "      <td>55190.0</td>\n",
              "      <td>36.0</td>\n",
              "      <td>7885</td>\n",
              "      <td>-0.640377</td>\n",
              "      <td>22.7</td>\n",
              "      <td>21.7</td>\n",
              "      <td>0.8</td>\n",
              "      <td>0.5</td>\n",
              "      <td>14.1</td>\n",
              "      <td>82.4</td>\n",
              "      <td>0.679251</td>\n",
              "      <td>0.701727</td>\n",
              "      <td>145.0</td>\n",
              "    </tr>\n",
              "    <tr>\n",
              "      <th>2995</th>\n",
              "      <td>56.0</td>\n",
              "      <td>56045.0</td>\n",
              "      <td>-0.003361</td>\n",
              "      <td>54319.0</td>\n",
              "      <td>54.5</td>\n",
              "      <td>6967</td>\n",
              "      <td>-0.781044</td>\n",
              "      <td>20.8</td>\n",
              "      <td>20.5</td>\n",
              "      <td>1.9</td>\n",
              "      <td>0.6</td>\n",
              "      <td>4.1</td>\n",
              "      <td>90.0</td>\n",
              "      <td>0.606393</td>\n",
              "      <td>0.175432</td>\n",
              "      <td>341.0</td>\n",
              "    </tr>\n",
              "  </tbody>\n",
              "</table>\n",
              "<p>2995 rows × 16 columns</p>\n",
              "</div>"
            ],
            "text/plain": [
              "      state  county_code  diff_in_perc_at_home  ...  distance   weights  subclass\n",
              "0       1.0       1001.0              0.050678  ...  0.840166  1.000000       1.0\n",
              "1       1.0       1003.0              0.050312  ...  0.960092  1.000000     107.0\n",
              "2       1.0       1005.0              0.007037  ...  0.971925  1.000000     389.0\n",
              "3       1.0       1007.0              0.011809  ...  0.859824  1.000000      86.0\n",
              "4       1.0       1009.0              0.038890  ...  0.840270  1.000000       1.0\n",
              "...     ...          ...                   ...  ...       ...       ...       ...\n",
              "2991   56.0      56037.0             -0.018485  ...  0.669064  0.058477     359.0\n",
              "2992   56.0      56039.0              0.075183  ...  0.797502  1.000000     382.0\n",
              "2993   56.0      56041.0              0.010157  ...  0.662699  0.175432     224.0\n",
              "2994   56.0      56043.0             -0.007825  ...  0.679251  0.701727     145.0\n",
              "2995   56.0      56045.0             -0.003361  ...  0.606393  0.175432     341.0\n",
              "\n",
              "[2995 rows x 16 columns]"
            ]
          },
          "metadata": {
            "tags": []
          },
          "execution_count": 157
        }
      ]
    },
    {
      "cell_type": "markdown",
      "metadata": {
        "id": "OB6VfDyQJ2G5"
      },
      "source": [
        "Notice that we have state and county_code, which are not our covariates. I include them here to see the random covariate's coefficients in linear model"
      ]
    },
    {
      "cell_type": "code",
      "metadata": {
        "id": "fAHkP7MZH4x3"
      },
      "source": [
        "scaler = StandardScaler()"
      ],
      "execution_count": 90,
      "outputs": []
    },
    {
      "cell_type": "code",
      "metadata": {
        "id": "Es5oTjrnYjUO"
      },
      "source": [
        "# I here choose not to standardize all variables except\n",
        "# the response variable and propensity score\n",
        "X = matched_data.drop(['distance', 'diff_in_perc_at_home'], axis = 1)\n",
        "data_scaled = scaler.fit_transform(X)"
      ],
      "execution_count": 195,
      "outputs": []
    },
    {
      "cell_type": "code",
      "metadata": {
        "id": "XqbrtCDHKTSK"
      },
      "source": [
        "df_scaled = pd.DataFrame(data = data_scaled, columns = X.columns)"
      ],
      "execution_count": 196,
      "outputs": []
    },
    {
      "cell_type": "code",
      "metadata": {
        "id": "ogm-5JF8Kqu1",
        "outputId": "05512e81-d2f1-43aa-ff77-cd7919072bea",
        "colab": {
          "base_uri": "https://localhost:8080/",
          "height": 439
        }
      },
      "source": [
        "df_scaled"
      ],
      "execution_count": 197,
      "outputs": [
        {
          "output_type": "execute_result",
          "data": {
            "text/html": [
              "<div>\n",
              "<style scoped>\n",
              "    .dataframe tbody tr th:only-of-type {\n",
              "        vertical-align: middle;\n",
              "    }\n",
              "\n",
              "    .dataframe tbody tr th {\n",
              "        vertical-align: top;\n",
              "    }\n",
              "\n",
              "    .dataframe thead th {\n",
              "        text-align: right;\n",
              "    }\n",
              "</style>\n",
              "<table border=\"1\" class=\"dataframe\">\n",
              "  <thead>\n",
              "    <tr style=\"text-align: right;\">\n",
              "      <th></th>\n",
              "      <th>state</th>\n",
              "      <th>county_code</th>\n",
              "      <th>Median.Household.Income</th>\n",
              "      <th>X..Rural</th>\n",
              "      <th>Population_y</th>\n",
              "      <th>political_diff</th>\n",
              "      <th>X..less.than.18.years.of.age</th>\n",
              "      <th>X..65.and.over</th>\n",
              "      <th>X..Asian</th>\n",
              "      <th>X..Black</th>\n",
              "      <th>X..Hispanic</th>\n",
              "      <th>X..Non.Hispanic.White</th>\n",
              "      <th>weights</th>\n",
              "      <th>subclass</th>\n",
              "    </tr>\n",
              "  </thead>\n",
              "  <tbody>\n",
              "    <tr>\n",
              "      <th>0</th>\n",
              "      <td>-1.932273</td>\n",
              "      <td>-1.936635</td>\n",
              "      <td>0.453803</td>\n",
              "      <td>-0.473902</td>\n",
              "      <td>-0.157728</td>\n",
              "      <td>-0.610061</td>\n",
              "      <td>0.477626</td>\n",
              "      <td>-0.769688</td>\n",
              "      <td>-0.135252</td>\n",
              "      <td>0.690378</td>\n",
              "      <td>-0.482907</td>\n",
              "      <td>-0.085113</td>\n",
              "      <td>0.000000</td>\n",
              "      <td>-1.455608</td>\n",
              "    </tr>\n",
              "    <tr>\n",
              "      <th>1</th>\n",
              "      <td>-1.932273</td>\n",
              "      <td>-1.936503</td>\n",
              "      <td>0.328881</td>\n",
              "      <td>-0.464196</td>\n",
              "      <td>0.318721</td>\n",
              "      <td>-0.882412</td>\n",
              "      <td>-0.151938</td>\n",
              "      <td>0.303254</td>\n",
              "      <td>-0.135252</td>\n",
              "      <td>-0.036346</td>\n",
              "      <td>-0.367446</td>\n",
              "      <td>0.357734</td>\n",
              "      <td>0.000000</td>\n",
              "      <td>-0.539526</td>\n",
              "    </tr>\n",
              "    <tr>\n",
              "      <th>2</th>\n",
              "      <td>-1.932273</td>\n",
              "      <td>-1.936371</td>\n",
              "      <td>-1.327667</td>\n",
              "      <td>0.360832</td>\n",
              "      <td>-0.247843</td>\n",
              "      <td>0.828138</td>\n",
              "      <td>-0.361793</td>\n",
              "      <td>0.079724</td>\n",
              "      <td>-0.383615</td>\n",
              "      <td>2.676756</td>\n",
              "      <td>-0.389095</td>\n",
              "      <td>-1.529399</td>\n",
              "      <td>0.000000</td>\n",
              "      <td>1.897596</td>\n",
              "    </tr>\n",
              "    <tr>\n",
              "      <th>3</th>\n",
              "      <td>-1.932273</td>\n",
              "      <td>-1.936239</td>\n",
              "      <td>-0.493754</td>\n",
              "      <td>0.380245</td>\n",
              "      <td>-0.255121</td>\n",
              "      <td>-0.808907</td>\n",
              "      <td>-0.481710</td>\n",
              "      <td>-0.568511</td>\n",
              "      <td>-0.490056</td>\n",
              "      <td>0.814959</td>\n",
              "      <td>-0.511773</td>\n",
              "      <td>-0.070016</td>\n",
              "      <td>0.000000</td>\n",
              "      <td>-0.721014</td>\n",
              "    </tr>\n",
              "    <tr>\n",
              "      <th>4</th>\n",
              "      <td>-1.932273</td>\n",
              "      <td>-1.936107</td>\n",
              "      <td>-0.183374</td>\n",
              "      <td>1.079092</td>\n",
              "      <td>-0.151161</td>\n",
              "      <td>-1.655997</td>\n",
              "      <td>0.327730</td>\n",
              "      <td>-0.188511</td>\n",
              "      <td>-0.454575</td>\n",
              "      <td>-0.541592</td>\n",
              "      <td>-0.006631</td>\n",
              "      <td>0.548964</td>\n",
              "      <td>0.000000</td>\n",
              "      <td>-1.455608</td>\n",
              "    </tr>\n",
              "    <tr>\n",
              "      <th>...</th>\n",
              "      <td>...</td>\n",
              "      <td>...</td>\n",
              "      <td>...</td>\n",
              "      <td>...</td>\n",
              "      <td>...</td>\n",
              "      <td>...</td>\n",
              "      <td>...</td>\n",
              "      <td>...</td>\n",
              "      <td>...</td>\n",
              "      <td>...</td>\n",
              "      <td>...</td>\n",
              "      <td>...</td>\n",
              "      <td>...</td>\n",
              "      <td>...</td>\n",
              "    </tr>\n",
              "    <tr>\n",
              "      <th>2990</th>\n",
              "      <td>1.700926</td>\n",
              "      <td>1.694401</td>\n",
              "      <td>1.451544</td>\n",
              "      <td>-1.480112</td>\n",
              "      <td>-0.194543</td>\n",
              "      <td>-0.743143</td>\n",
              "      <td>1.227108</td>\n",
              "      <td>-1.552041</td>\n",
              "      <td>-0.206213</td>\n",
              "      <td>-0.569277</td>\n",
              "      <td>0.462430</td>\n",
              "      <td>0.166505</td>\n",
              "      <td>-1.131341</td>\n",
              "      <td>1.638328</td>\n",
              "    </tr>\n",
              "    <tr>\n",
              "      <th>2991</th>\n",
              "      <td>1.700926</td>\n",
              "      <td>1.694533</td>\n",
              "      <td>3.291264</td>\n",
              "      <td>-0.331544</td>\n",
              "      <td>-0.253123</td>\n",
              "      <td>1.925692</td>\n",
              "      <td>-1.111275</td>\n",
              "      <td>-0.814394</td>\n",
              "      <td>-0.064291</td>\n",
              "      <td>-0.603883</td>\n",
              "      <td>0.375834</td>\n",
              "      <td>0.277216</td>\n",
              "      <td>0.000000</td>\n",
              "      <td>1.837100</td>\n",
              "    </tr>\n",
              "    <tr>\n",
              "      <th>2992</th>\n",
              "      <td>1.700926</td>\n",
              "      <td>1.694665</td>\n",
              "      <td>0.743839</td>\n",
              "      <td>-0.438312</td>\n",
              "      <td>-0.261284</td>\n",
              "      <td>-1.003927</td>\n",
              "      <td>2.006568</td>\n",
              "      <td>-1.104982</td>\n",
              "      <td>-0.383615</td>\n",
              "      <td>-0.596962</td>\n",
              "      <td>-0.035496</td>\n",
              "      <td>0.574125</td>\n",
              "      <td>-0.990808</td>\n",
              "      <td>0.471620</td>\n",
              "    </tr>\n",
              "    <tr>\n",
              "      <th>2993</th>\n",
              "      <td>1.700926</td>\n",
              "      <td>1.694797</td>\n",
              "      <td>0.157701</td>\n",
              "      <td>-0.668026</td>\n",
              "      <td>-0.297700</td>\n",
              "      <td>-1.087367</td>\n",
              "      <td>0.177834</td>\n",
              "      <td>0.593842</td>\n",
              "      <td>-0.277173</td>\n",
              "      <td>-0.610804</td>\n",
              "      <td>0.318103</td>\n",
              "      <td>0.322508</td>\n",
              "      <td>-0.358407</td>\n",
              "      <td>-0.211120</td>\n",
              "    </tr>\n",
              "    <tr>\n",
              "      <th>2994</th>\n",
              "      <td>1.700926</td>\n",
              "      <td>1.694928</td>\n",
              "      <td>0.095525</td>\n",
              "      <td>-0.069476</td>\n",
              "      <td>-0.300393</td>\n",
              "      <td>-1.548542</td>\n",
              "      <td>-0.391772</td>\n",
              "      <td>0.325607</td>\n",
              "      <td>0.113111</td>\n",
              "      <td>-0.603883</td>\n",
              "      <td>-0.403528</td>\n",
              "      <td>0.704967</td>\n",
              "      <td>-0.990808</td>\n",
              "      <td>1.482767</td>\n",
              "    </tr>\n",
              "  </tbody>\n",
              "</table>\n",
              "<p>2995 rows × 14 columns</p>\n",
              "</div>"
            ],
            "text/plain": [
              "         state  county_code  ...   weights  subclass\n",
              "0    -1.932273    -1.936635  ...  0.000000 -1.455608\n",
              "1    -1.932273    -1.936503  ...  0.000000 -0.539526\n",
              "2    -1.932273    -1.936371  ...  0.000000  1.897596\n",
              "3    -1.932273    -1.936239  ...  0.000000 -0.721014\n",
              "4    -1.932273    -1.936107  ...  0.000000 -1.455608\n",
              "...        ...          ...  ...       ...       ...\n",
              "2990  1.700926     1.694401  ... -1.131341  1.638328\n",
              "2991  1.700926     1.694533  ...  0.000000  1.837100\n",
              "2992  1.700926     1.694665  ... -0.990808  0.471620\n",
              "2993  1.700926     1.694797  ... -0.358407 -0.211120\n",
              "2994  1.700926     1.694928  ... -0.990808  1.482767\n",
              "\n",
              "[2995 rows x 14 columns]"
            ]
          },
          "metadata": {
            "tags": []
          },
          "execution_count": 197
        }
      ]
    },
    {
      "cell_type": "code",
      "metadata": {
        "id": "j07bUb-walVv"
      },
      "source": [
        "df_distance_and_response = matched_data[['distance', 'diff_in_perc_at_home']]"
      ],
      "execution_count": 198,
      "outputs": []
    },
    {
      "cell_type": "code",
      "metadata": {
        "id": "EcHFgK_XgmL1",
        "outputId": "db4137fd-f950-4195-bf48-21d78325dac2",
        "colab": {
          "base_uri": "https://localhost:8080/",
          "height": 419
        }
      },
      "source": [
        "df_distance_and_response"
      ],
      "execution_count": 199,
      "outputs": [
        {
          "output_type": "execute_result",
          "data": {
            "text/html": [
              "<div>\n",
              "<style scoped>\n",
              "    .dataframe tbody tr th:only-of-type {\n",
              "        vertical-align: middle;\n",
              "    }\n",
              "\n",
              "    .dataframe tbody tr th {\n",
              "        vertical-align: top;\n",
              "    }\n",
              "\n",
              "    .dataframe thead th {\n",
              "        text-align: right;\n",
              "    }\n",
              "</style>\n",
              "<table border=\"1\" class=\"dataframe\">\n",
              "  <thead>\n",
              "    <tr style=\"text-align: right;\">\n",
              "      <th></th>\n",
              "      <th>distance</th>\n",
              "      <th>diff_in_perc_at_home</th>\n",
              "    </tr>\n",
              "  </thead>\n",
              "  <tbody>\n",
              "    <tr>\n",
              "      <th>0</th>\n",
              "      <td>0.840166</td>\n",
              "      <td>0.050678</td>\n",
              "    </tr>\n",
              "    <tr>\n",
              "      <th>1</th>\n",
              "      <td>0.960092</td>\n",
              "      <td>0.050312</td>\n",
              "    </tr>\n",
              "    <tr>\n",
              "      <th>2</th>\n",
              "      <td>0.971925</td>\n",
              "      <td>0.007037</td>\n",
              "    </tr>\n",
              "    <tr>\n",
              "      <th>3</th>\n",
              "      <td>0.859824</td>\n",
              "      <td>0.011809</td>\n",
              "    </tr>\n",
              "    <tr>\n",
              "      <th>4</th>\n",
              "      <td>0.840270</td>\n",
              "      <td>0.038890</td>\n",
              "    </tr>\n",
              "    <tr>\n",
              "      <th>...</th>\n",
              "      <td>...</td>\n",
              "      <td>...</td>\n",
              "    </tr>\n",
              "    <tr>\n",
              "      <th>2991</th>\n",
              "      <td>0.669064</td>\n",
              "      <td>-0.018485</td>\n",
              "    </tr>\n",
              "    <tr>\n",
              "      <th>2992</th>\n",
              "      <td>0.797502</td>\n",
              "      <td>0.075183</td>\n",
              "    </tr>\n",
              "    <tr>\n",
              "      <th>2993</th>\n",
              "      <td>0.662699</td>\n",
              "      <td>0.010157</td>\n",
              "    </tr>\n",
              "    <tr>\n",
              "      <th>2994</th>\n",
              "      <td>0.679251</td>\n",
              "      <td>-0.007825</td>\n",
              "    </tr>\n",
              "    <tr>\n",
              "      <th>2995</th>\n",
              "      <td>0.606393</td>\n",
              "      <td>-0.003361</td>\n",
              "    </tr>\n",
              "  </tbody>\n",
              "</table>\n",
              "<p>2995 rows × 2 columns</p>\n",
              "</div>"
            ],
            "text/plain": [
              "      distance  diff_in_perc_at_home\n",
              "0     0.840166              0.050678\n",
              "1     0.960092              0.050312\n",
              "2     0.971925              0.007037\n",
              "3     0.859824              0.011809\n",
              "4     0.840270              0.038890\n",
              "...        ...                   ...\n",
              "2991  0.669064             -0.018485\n",
              "2992  0.797502              0.075183\n",
              "2993  0.662699              0.010157\n",
              "2994  0.679251             -0.007825\n",
              "2995  0.606393             -0.003361\n",
              "\n",
              "[2995 rows x 2 columns]"
            ]
          },
          "metadata": {
            "tags": []
          },
          "execution_count": 199
        }
      ]
    },
    {
      "cell_type": "code",
      "metadata": {
        "id": "Ku6EFfYahKqf",
        "outputId": "f6561291-6527-42f0-c310-e70b13b25e2c",
        "colab": {
          "base_uri": "https://localhost:8080/",
          "height": 34
        }
      },
      "source": [
        "df_scaled.index.values[0]"
      ],
      "execution_count": 201,
      "outputs": [
        {
          "output_type": "execute_result",
          "data": {
            "text/plain": [
              "0"
            ]
          },
          "metadata": {
            "tags": []
          },
          "execution_count": 201
        }
      ]
    },
    {
      "cell_type": "code",
      "metadata": {
        "id": "E7KNMkRdhLgG",
        "outputId": "128826ba-27c2-49e2-f265-077a527b22b5",
        "colab": {
          "base_uri": "https://localhost:8080/",
          "height": 35
        }
      },
      "source": [
        "df_distance_and_response.index.values[0]"
      ],
      "execution_count": 200,
      "outputs": [
        {
          "output_type": "execute_result",
          "data": {
            "application/vnd.google.colaboratory.intrinsic+json": {
              "type": "string"
            },
            "text/plain": [
              "'0'"
            ]
          },
          "metadata": {
            "tags": []
          },
          "execution_count": 200
        }
      ]
    },
    {
      "cell_type": "code",
      "metadata": {
        "id": "J5s5VR0ug0ls"
      },
      "source": [
        "df_distance_and_response = df_distance_and_response.reset_index()"
      ],
      "execution_count": 202,
      "outputs": []
    },
    {
      "cell_type": "code",
      "metadata": {
        "id": "h1F3DGZTgUnH",
        "outputId": "e3bc0edd-a490-40e9-bd87-8dd108594d5b",
        "colab": {
          "base_uri": "https://localhost:8080/",
          "height": 34
        }
      },
      "source": [
        "df_scaled.index.values[0]"
      ],
      "execution_count": 203,
      "outputs": [
        {
          "output_type": "execute_result",
          "data": {
            "text/plain": [
              "0"
            ]
          },
          "metadata": {
            "tags": []
          },
          "execution_count": 203
        }
      ]
    },
    {
      "cell_type": "code",
      "metadata": {
        "id": "87nT5Klkft7d",
        "outputId": "573ad396-7a08-4643-90c0-ca921bc98aa1",
        "colab": {
          "base_uri": "https://localhost:8080/",
          "height": 34
        }
      },
      "source": [
        "df_distance_and_response.index.values[0]"
      ],
      "execution_count": 204,
      "outputs": [
        {
          "output_type": "execute_result",
          "data": {
            "text/plain": [
              "0"
            ]
          },
          "metadata": {
            "tags": []
          },
          "execution_count": 204
        }
      ]
    },
    {
      "cell_type": "code",
      "metadata": {
        "id": "DLGbvywchDBr"
      },
      "source": [
        "df_scaled['distance'] = df_distance_and_response['distance']\n",
        "df_scaled['diff_in_perc_at_home'] = df_distance_and_response['diff_in_perc_at_home']"
      ],
      "execution_count": 205,
      "outputs": []
    },
    {
      "cell_type": "code",
      "metadata": {
        "id": "v1ujazL7hVTS",
        "outputId": "e0fcffe2-5141-49f0-a10a-44c9c991c3b9",
        "colab": {
          "base_uri": "https://localhost:8080/",
          "height": 439
        }
      },
      "source": [
        "df_scaled"
      ],
      "execution_count": 206,
      "outputs": [
        {
          "output_type": "execute_result",
          "data": {
            "text/html": [
              "<div>\n",
              "<style scoped>\n",
              "    .dataframe tbody tr th:only-of-type {\n",
              "        vertical-align: middle;\n",
              "    }\n",
              "\n",
              "    .dataframe tbody tr th {\n",
              "        vertical-align: top;\n",
              "    }\n",
              "\n",
              "    .dataframe thead th {\n",
              "        text-align: right;\n",
              "    }\n",
              "</style>\n",
              "<table border=\"1\" class=\"dataframe\">\n",
              "  <thead>\n",
              "    <tr style=\"text-align: right;\">\n",
              "      <th></th>\n",
              "      <th>state</th>\n",
              "      <th>county_code</th>\n",
              "      <th>Median.Household.Income</th>\n",
              "      <th>X..Rural</th>\n",
              "      <th>Population_y</th>\n",
              "      <th>political_diff</th>\n",
              "      <th>X..less.than.18.years.of.age</th>\n",
              "      <th>X..65.and.over</th>\n",
              "      <th>X..Asian</th>\n",
              "      <th>X..Black</th>\n",
              "      <th>X..Hispanic</th>\n",
              "      <th>X..Non.Hispanic.White</th>\n",
              "      <th>weights</th>\n",
              "      <th>subclass</th>\n",
              "      <th>distance</th>\n",
              "      <th>diff_in_perc_at_home</th>\n",
              "    </tr>\n",
              "  </thead>\n",
              "  <tbody>\n",
              "    <tr>\n",
              "      <th>0</th>\n",
              "      <td>-1.932273</td>\n",
              "      <td>-1.936635</td>\n",
              "      <td>0.453803</td>\n",
              "      <td>-0.473902</td>\n",
              "      <td>-0.157728</td>\n",
              "      <td>-0.610061</td>\n",
              "      <td>0.477626</td>\n",
              "      <td>-0.769688</td>\n",
              "      <td>-0.135252</td>\n",
              "      <td>0.690378</td>\n",
              "      <td>-0.482907</td>\n",
              "      <td>-0.085113</td>\n",
              "      <td>0.000000</td>\n",
              "      <td>-1.455608</td>\n",
              "      <td>0.840166</td>\n",
              "      <td>0.050678</td>\n",
              "    </tr>\n",
              "    <tr>\n",
              "      <th>1</th>\n",
              "      <td>-1.932273</td>\n",
              "      <td>-1.936503</td>\n",
              "      <td>0.328881</td>\n",
              "      <td>-0.464196</td>\n",
              "      <td>0.318721</td>\n",
              "      <td>-0.882412</td>\n",
              "      <td>-0.151938</td>\n",
              "      <td>0.303254</td>\n",
              "      <td>-0.135252</td>\n",
              "      <td>-0.036346</td>\n",
              "      <td>-0.367446</td>\n",
              "      <td>0.357734</td>\n",
              "      <td>0.000000</td>\n",
              "      <td>-0.539526</td>\n",
              "      <td>0.960092</td>\n",
              "      <td>0.050312</td>\n",
              "    </tr>\n",
              "    <tr>\n",
              "      <th>2</th>\n",
              "      <td>-1.932273</td>\n",
              "      <td>-1.936371</td>\n",
              "      <td>-1.327667</td>\n",
              "      <td>0.360832</td>\n",
              "      <td>-0.247843</td>\n",
              "      <td>0.828138</td>\n",
              "      <td>-0.361793</td>\n",
              "      <td>0.079724</td>\n",
              "      <td>-0.383615</td>\n",
              "      <td>2.676756</td>\n",
              "      <td>-0.389095</td>\n",
              "      <td>-1.529399</td>\n",
              "      <td>0.000000</td>\n",
              "      <td>1.897596</td>\n",
              "      <td>0.971925</td>\n",
              "      <td>0.007037</td>\n",
              "    </tr>\n",
              "    <tr>\n",
              "      <th>3</th>\n",
              "      <td>-1.932273</td>\n",
              "      <td>-1.936239</td>\n",
              "      <td>-0.493754</td>\n",
              "      <td>0.380245</td>\n",
              "      <td>-0.255121</td>\n",
              "      <td>-0.808907</td>\n",
              "      <td>-0.481710</td>\n",
              "      <td>-0.568511</td>\n",
              "      <td>-0.490056</td>\n",
              "      <td>0.814959</td>\n",
              "      <td>-0.511773</td>\n",
              "      <td>-0.070016</td>\n",
              "      <td>0.000000</td>\n",
              "      <td>-0.721014</td>\n",
              "      <td>0.859824</td>\n",
              "      <td>0.011809</td>\n",
              "    </tr>\n",
              "    <tr>\n",
              "      <th>4</th>\n",
              "      <td>-1.932273</td>\n",
              "      <td>-1.936107</td>\n",
              "      <td>-0.183374</td>\n",
              "      <td>1.079092</td>\n",
              "      <td>-0.151161</td>\n",
              "      <td>-1.655997</td>\n",
              "      <td>0.327730</td>\n",
              "      <td>-0.188511</td>\n",
              "      <td>-0.454575</td>\n",
              "      <td>-0.541592</td>\n",
              "      <td>-0.006631</td>\n",
              "      <td>0.548964</td>\n",
              "      <td>0.000000</td>\n",
              "      <td>-1.455608</td>\n",
              "      <td>0.840270</td>\n",
              "      <td>0.038890</td>\n",
              "    </tr>\n",
              "    <tr>\n",
              "      <th>...</th>\n",
              "      <td>...</td>\n",
              "      <td>...</td>\n",
              "      <td>...</td>\n",
              "      <td>...</td>\n",
              "      <td>...</td>\n",
              "      <td>...</td>\n",
              "      <td>...</td>\n",
              "      <td>...</td>\n",
              "      <td>...</td>\n",
              "      <td>...</td>\n",
              "      <td>...</td>\n",
              "      <td>...</td>\n",
              "      <td>...</td>\n",
              "      <td>...</td>\n",
              "      <td>...</td>\n",
              "      <td>...</td>\n",
              "    </tr>\n",
              "    <tr>\n",
              "      <th>2990</th>\n",
              "      <td>1.700926</td>\n",
              "      <td>1.694401</td>\n",
              "      <td>1.451544</td>\n",
              "      <td>-1.480112</td>\n",
              "      <td>-0.194543</td>\n",
              "      <td>-0.743143</td>\n",
              "      <td>1.227108</td>\n",
              "      <td>-1.552041</td>\n",
              "      <td>-0.206213</td>\n",
              "      <td>-0.569277</td>\n",
              "      <td>0.462430</td>\n",
              "      <td>0.166505</td>\n",
              "      <td>-1.131341</td>\n",
              "      <td>1.638328</td>\n",
              "      <td>0.669064</td>\n",
              "      <td>-0.018485</td>\n",
              "    </tr>\n",
              "    <tr>\n",
              "      <th>2991</th>\n",
              "      <td>1.700926</td>\n",
              "      <td>1.694533</td>\n",
              "      <td>3.291264</td>\n",
              "      <td>-0.331544</td>\n",
              "      <td>-0.253123</td>\n",
              "      <td>1.925692</td>\n",
              "      <td>-1.111275</td>\n",
              "      <td>-0.814394</td>\n",
              "      <td>-0.064291</td>\n",
              "      <td>-0.603883</td>\n",
              "      <td>0.375834</td>\n",
              "      <td>0.277216</td>\n",
              "      <td>0.000000</td>\n",
              "      <td>1.837100</td>\n",
              "      <td>0.797502</td>\n",
              "      <td>0.075183</td>\n",
              "    </tr>\n",
              "    <tr>\n",
              "      <th>2992</th>\n",
              "      <td>1.700926</td>\n",
              "      <td>1.694665</td>\n",
              "      <td>0.743839</td>\n",
              "      <td>-0.438312</td>\n",
              "      <td>-0.261284</td>\n",
              "      <td>-1.003927</td>\n",
              "      <td>2.006568</td>\n",
              "      <td>-1.104982</td>\n",
              "      <td>-0.383615</td>\n",
              "      <td>-0.596962</td>\n",
              "      <td>-0.035496</td>\n",
              "      <td>0.574125</td>\n",
              "      <td>-0.990808</td>\n",
              "      <td>0.471620</td>\n",
              "      <td>0.662699</td>\n",
              "      <td>0.010157</td>\n",
              "    </tr>\n",
              "    <tr>\n",
              "      <th>2993</th>\n",
              "      <td>1.700926</td>\n",
              "      <td>1.694797</td>\n",
              "      <td>0.157701</td>\n",
              "      <td>-0.668026</td>\n",
              "      <td>-0.297700</td>\n",
              "      <td>-1.087367</td>\n",
              "      <td>0.177834</td>\n",
              "      <td>0.593842</td>\n",
              "      <td>-0.277173</td>\n",
              "      <td>-0.610804</td>\n",
              "      <td>0.318103</td>\n",
              "      <td>0.322508</td>\n",
              "      <td>-0.358407</td>\n",
              "      <td>-0.211120</td>\n",
              "      <td>0.679251</td>\n",
              "      <td>-0.007825</td>\n",
              "    </tr>\n",
              "    <tr>\n",
              "      <th>2994</th>\n",
              "      <td>1.700926</td>\n",
              "      <td>1.694928</td>\n",
              "      <td>0.095525</td>\n",
              "      <td>-0.069476</td>\n",
              "      <td>-0.300393</td>\n",
              "      <td>-1.548542</td>\n",
              "      <td>-0.391772</td>\n",
              "      <td>0.325607</td>\n",
              "      <td>0.113111</td>\n",
              "      <td>-0.603883</td>\n",
              "      <td>-0.403528</td>\n",
              "      <td>0.704967</td>\n",
              "      <td>-0.990808</td>\n",
              "      <td>1.482767</td>\n",
              "      <td>0.606393</td>\n",
              "      <td>-0.003361</td>\n",
              "    </tr>\n",
              "  </tbody>\n",
              "</table>\n",
              "<p>2995 rows × 16 columns</p>\n",
              "</div>"
            ],
            "text/plain": [
              "         state  county_code  ...  distance  diff_in_perc_at_home\n",
              "0    -1.932273    -1.936635  ...  0.840166              0.050678\n",
              "1    -1.932273    -1.936503  ...  0.960092              0.050312\n",
              "2    -1.932273    -1.936371  ...  0.971925              0.007037\n",
              "3    -1.932273    -1.936239  ...  0.859824              0.011809\n",
              "4    -1.932273    -1.936107  ...  0.840270              0.038890\n",
              "...        ...          ...  ...       ...                   ...\n",
              "2990  1.700926     1.694401  ...  0.669064             -0.018485\n",
              "2991  1.700926     1.694533  ...  0.797502              0.075183\n",
              "2992  1.700926     1.694665  ...  0.662699              0.010157\n",
              "2993  1.700926     1.694797  ...  0.679251             -0.007825\n",
              "2994  1.700926     1.694928  ...  0.606393             -0.003361\n",
              "\n",
              "[2995 rows x 16 columns]"
            ]
          },
          "metadata": {
            "tags": []
          },
          "execution_count": 206
        }
      ]
    },
    {
      "cell_type": "markdown",
      "metadata": {
        "id": "qcSO-hhQLDeK"
      },
      "source": [
        "# 4. create bins of propensity scores"
      ]
    },
    {
      "cell_type": "markdown",
      "metadata": {
        "id": "5hX-E_WFF8Sv"
      },
      "source": [
        "So let's divide dataset into 4 bins of propensity scores, and do linear regression on each of those 4 bins `(0 - 0.25, 0.25 - 0.5, 0.5 - 0.75, 0.75 - 1)` based on the percentile of propensity score (distance)."
      ]
    },
    {
      "cell_type": "code",
      "metadata": {
        "id": "6rrvSU-pFWUF"
      },
      "source": [
        "# using qcut here to split data points evenly between 4 buckets\n",
        "propensity_buckets = pd.qcut(df_scaled['distance'], 4)"
      ],
      "execution_count": 217,
      "outputs": []
    },
    {
      "cell_type": "code",
      "metadata": {
        "id": "cLcxoYdhGwA8"
      },
      "source": [
        "df_scaled['propensity_bucket'] = propensity_buckets"
      ],
      "execution_count": 218,
      "outputs": []
    },
    {
      "cell_type": "code",
      "metadata": {
        "id": "_hIs4rdyXBtL",
        "outputId": "dd7d7ccf-663a-48e8-951d-e54a577d1b15",
        "colab": {
          "base_uri": "https://localhost:8080/",
          "height": 224
        }
      },
      "source": [
        "df_scaled.head()"
      ],
      "execution_count": 219,
      "outputs": [
        {
          "output_type": "execute_result",
          "data": {
            "text/html": [
              "<div>\n",
              "<style scoped>\n",
              "    .dataframe tbody tr th:only-of-type {\n",
              "        vertical-align: middle;\n",
              "    }\n",
              "\n",
              "    .dataframe tbody tr th {\n",
              "        vertical-align: top;\n",
              "    }\n",
              "\n",
              "    .dataframe thead th {\n",
              "        text-align: right;\n",
              "    }\n",
              "</style>\n",
              "<table border=\"1\" class=\"dataframe\">\n",
              "  <thead>\n",
              "    <tr style=\"text-align: right;\">\n",
              "      <th></th>\n",
              "      <th>state</th>\n",
              "      <th>county_code</th>\n",
              "      <th>Median.Household.Income</th>\n",
              "      <th>X..Rural</th>\n",
              "      <th>Population_y</th>\n",
              "      <th>political_diff</th>\n",
              "      <th>X..less.than.18.years.of.age</th>\n",
              "      <th>X..65.and.over</th>\n",
              "      <th>X..Asian</th>\n",
              "      <th>X..Black</th>\n",
              "      <th>X..Hispanic</th>\n",
              "      <th>X..Non.Hispanic.White</th>\n",
              "      <th>weights</th>\n",
              "      <th>subclass</th>\n",
              "      <th>distance</th>\n",
              "      <th>diff_in_perc_at_home</th>\n",
              "      <th>propensity_bucket</th>\n",
              "    </tr>\n",
              "  </thead>\n",
              "  <tbody>\n",
              "    <tr>\n",
              "      <th>0</th>\n",
              "      <td>-1.932273</td>\n",
              "      <td>-1.936635</td>\n",
              "      <td>0.453803</td>\n",
              "      <td>-0.473902</td>\n",
              "      <td>-0.157728</td>\n",
              "      <td>-0.610061</td>\n",
              "      <td>0.477626</td>\n",
              "      <td>-0.769688</td>\n",
              "      <td>-0.135252</td>\n",
              "      <td>0.690378</td>\n",
              "      <td>-0.482907</td>\n",
              "      <td>-0.085113</td>\n",
              "      <td>0.0</td>\n",
              "      <td>-1.455608</td>\n",
              "      <td>0.840166</td>\n",
              "      <td>0.050678</td>\n",
              "      <td>(0.787, 0.852]</td>\n",
              "    </tr>\n",
              "    <tr>\n",
              "      <th>1</th>\n",
              "      <td>-1.932273</td>\n",
              "      <td>-1.936503</td>\n",
              "      <td>0.328881</td>\n",
              "      <td>-0.464196</td>\n",
              "      <td>0.318721</td>\n",
              "      <td>-0.882412</td>\n",
              "      <td>-0.151938</td>\n",
              "      <td>0.303254</td>\n",
              "      <td>-0.135252</td>\n",
              "      <td>-0.036346</td>\n",
              "      <td>-0.367446</td>\n",
              "      <td>0.357734</td>\n",
              "      <td>0.0</td>\n",
              "      <td>-0.539526</td>\n",
              "      <td>0.960092</td>\n",
              "      <td>0.050312</td>\n",
              "      <td>(0.941, 1.0]</td>\n",
              "    </tr>\n",
              "    <tr>\n",
              "      <th>2</th>\n",
              "      <td>-1.932273</td>\n",
              "      <td>-1.936371</td>\n",
              "      <td>-1.327667</td>\n",
              "      <td>0.360832</td>\n",
              "      <td>-0.247843</td>\n",
              "      <td>0.828138</td>\n",
              "      <td>-0.361793</td>\n",
              "      <td>0.079724</td>\n",
              "      <td>-0.383615</td>\n",
              "      <td>2.676756</td>\n",
              "      <td>-0.389095</td>\n",
              "      <td>-1.529399</td>\n",
              "      <td>0.0</td>\n",
              "      <td>1.897596</td>\n",
              "      <td>0.971925</td>\n",
              "      <td>0.007037</td>\n",
              "      <td>(0.941, 1.0]</td>\n",
              "    </tr>\n",
              "    <tr>\n",
              "      <th>3</th>\n",
              "      <td>-1.932273</td>\n",
              "      <td>-1.936239</td>\n",
              "      <td>-0.493754</td>\n",
              "      <td>0.380245</td>\n",
              "      <td>-0.255121</td>\n",
              "      <td>-0.808907</td>\n",
              "      <td>-0.481710</td>\n",
              "      <td>-0.568511</td>\n",
              "      <td>-0.490056</td>\n",
              "      <td>0.814959</td>\n",
              "      <td>-0.511773</td>\n",
              "      <td>-0.070016</td>\n",
              "      <td>0.0</td>\n",
              "      <td>-0.721014</td>\n",
              "      <td>0.859824</td>\n",
              "      <td>0.011809</td>\n",
              "      <td>(0.852, 0.941]</td>\n",
              "    </tr>\n",
              "    <tr>\n",
              "      <th>4</th>\n",
              "      <td>-1.932273</td>\n",
              "      <td>-1.936107</td>\n",
              "      <td>-0.183374</td>\n",
              "      <td>1.079092</td>\n",
              "      <td>-0.151161</td>\n",
              "      <td>-1.655997</td>\n",
              "      <td>0.327730</td>\n",
              "      <td>-0.188511</td>\n",
              "      <td>-0.454575</td>\n",
              "      <td>-0.541592</td>\n",
              "      <td>-0.006631</td>\n",
              "      <td>0.548964</td>\n",
              "      <td>0.0</td>\n",
              "      <td>-1.455608</td>\n",
              "      <td>0.840270</td>\n",
              "      <td>0.038890</td>\n",
              "      <td>(0.787, 0.852]</td>\n",
              "    </tr>\n",
              "  </tbody>\n",
              "</table>\n",
              "</div>"
            ],
            "text/plain": [
              "      state  county_code  ...  diff_in_perc_at_home  propensity_bucket\n",
              "0 -1.932273    -1.936635  ...              0.050678     (0.787, 0.852]\n",
              "1 -1.932273    -1.936503  ...              0.050312       (0.941, 1.0]\n",
              "2 -1.932273    -1.936371  ...              0.007037       (0.941, 1.0]\n",
              "3 -1.932273    -1.936239  ...              0.011809     (0.852, 0.941]\n",
              "4 -1.932273    -1.936107  ...              0.038890     (0.787, 0.852]\n",
              "\n",
              "[5 rows x 17 columns]"
            ]
          },
          "metadata": {
            "tags": []
          },
          "execution_count": 219
        }
      ]
    },
    {
      "cell_type": "markdown",
      "metadata": {
        "id": "NrysRLOsS5xH"
      },
      "source": [
        "# 5. linear regression in each bucket"
      ]
    },
    {
      "cell_type": "code",
      "metadata": {
        "id": "6X-NRIQvXe8l",
        "outputId": "172eea5f-bada-4e5e-90a1-62f6be2f89fa",
        "colab": {
          "base_uri": "https://localhost:8080/",
          "height": 51
        }
      },
      "source": [
        "df_scaled['propensity_bucket'].unique()"
      ],
      "execution_count": 220,
      "outputs": [
        {
          "output_type": "execute_result",
          "data": {
            "text/plain": [
              "[(0.787, 0.852], (0.941, 1.0], (0.852, 0.941], (0.043, 0.787]]\n",
              "Categories (4, interval[float64]): [(0.043, 0.787] < (0.787, 0.852] < (0.852, 0.941] < (0.941, 1.0]]"
            ]
          },
          "metadata": {
            "tags": []
          },
          "execution_count": 220
        }
      ]
    },
    {
      "cell_type": "code",
      "metadata": {
        "id": "wwxpvyr7TTi1"
      },
      "source": [
        "regressor = LinearRegression()"
      ],
      "execution_count": 211,
      "outputs": []
    },
    {
      "cell_type": "code",
      "metadata": {
        "id": "g3hhs3fnkRkf",
        "outputId": "b1b564ac-d4a6-4202-fdde-7b8af039c75f",
        "colab": {
          "base_uri": "https://localhost:8080/",
          "height": 289
        }
      },
      "source": [
        "# linear regression on each bin\n",
        "for bin in df_scaled['propensity_bucket'].unique():\n",
        "  data_in_this_bin = df_scaled[df_scaled['propensity_bucket'] == bin]\n",
        "  X = data_in_this_bin[['state', 'county_code']]\n",
        "  y = data_in_this_bin['diff_in_perc_at_home']\n",
        "  num_of_data_points = data_in_this_bin.shape[0]\n",
        "  print(f'propensity score from {bin.left} to {bin.right} has {num_of_data_points} data points')\n",
        "  regressor.fit(X, y)\n",
        "  for i, coef in enumerate(regressor.coef_):\n",
        "    print(f'after standardization, feature {X.columns[i]}\\' coefficient is {coef} in this bucket')\n",
        "  print()"
      ],
      "execution_count": 231,
      "outputs": [
        {
          "output_type": "stream",
          "text": [
            "propensity score from 0.787 to 0.852 has 749 data points\n",
            "after standardization, feature state' coefficient is -0.04535849601836687 in this bucket\n",
            "after standardization, feature county_code' coefficient is 0.04421541414170534 in this bucket\n",
            "\n",
            "propensity score from 0.941 to 1.0 has 749 data points\n",
            "after standardization, feature state' coefficient is 0.777000908965698 in this bucket\n",
            "after standardization, feature county_code' coefficient is -0.7756038844127016 in this bucket\n",
            "\n",
            "propensity score from 0.852 to 0.941 has 748 data points\n",
            "after standardization, feature state' coefficient is -0.006166743278021632 in this bucket\n",
            "after standardization, feature county_code' coefficient is 0.008490259759059789 in this bucket\n",
            "\n",
            "propensity score from 0.043 to 0.787 has 749 data points\n",
            "after standardization, feature state' coefficient is -0.7761830810713736 in this bucket\n",
            "after standardization, feature county_code' coefficient is 0.7737836817867325 in this bucket\n",
            "\n"
          ],
          "name": "stdout"
        }
      ]
    },
    {
      "cell_type": "code",
      "metadata": {
        "id": "P3YprD2OGwS-",
        "outputId": "d7b5d256-0b7e-4f81-9b61-5b4b28387a15",
        "colab": {
          "base_uri": "https://localhost:8080/",
          "height": 833
        }
      },
      "source": [
        "# linear regression on each bin\n",
        "for bin in sorted(df_scaled['propensity_bucket'].unique()):\n",
        "  data_in_this_bin = df_scaled[df_scaled['propensity_bucket'] == bin]\n",
        "  X = data_in_this_bin.drop(['diff_in_perc_at_home', 'weights', 'subclass', \\\n",
        "                             'distance', 'propensity_bucket', 'county_code', 'state'], axis = 1)\n",
        "  y = data_in_this_bin['diff_in_perc_at_home']\n",
        "  num_of_data_points = data_in_this_bin.shape[0]\n",
        "  print(f'propensity score from {bin.left} to {bin.right} has {num_of_data_points} data points')\n",
        "  regressor.fit(X, y)\n",
        "  for i, coef in enumerate(regressor.coef_):\n",
        "    print(f'after standardization, feature {X.columns[i]}\\' coefficient is {coef} in this bucket')\n",
        "  print()"
      ],
      "execution_count": 233,
      "outputs": [
        {
          "output_type": "stream",
          "text": [
            "propensity score from 0.043 to 0.787 has 749 data points\n",
            "after standardization, feature Median.Household.Income' coefficient is 0.019036559133832894 in this bucket\n",
            "after standardization, feature X..Rural' coefficient is 0.0029020779778359466 in this bucket\n",
            "after standardization, feature Population_y' coefficient is 0.15674954763345625 in this bucket\n",
            "after standardization, feature political_diff' coefficient is 0.007470591145639958 in this bucket\n",
            "after standardization, feature X..less.than.18.years.of.age' coefficient is 0.0011952049451218905 in this bucket\n",
            "after standardization, feature X..65.and.over' coefficient is 0.004251281169884684 in this bucket\n",
            "after standardization, feature X..Asian' coefficient is -0.002946011830434324 in this bucket\n",
            "after standardization, feature X..Black' coefficient is 0.026294746964371483 in this bucket\n",
            "after standardization, feature X..Hispanic' coefficient is 0.001380476047640414 in this bucket\n",
            "after standardization, feature X..Non.Hispanic.White' coefficient is 0.0038640258889898705 in this bucket\n",
            "\n",
            "propensity score from 0.787 to 0.852 has 749 data points\n",
            "after standardization, feature Median.Household.Income' coefficient is 0.03148316747651176 in this bucket\n",
            "after standardization, feature X..Rural' coefficient is 0.0014843408042440622 in this bucket\n",
            "after standardization, feature Population_y' coefficient is 0.04208464161584584 in this bucket\n",
            "after standardization, feature political_diff' coefficient is -0.0042106388857213375 in this bucket\n",
            "after standardization, feature X..less.than.18.years.of.age' coefficient is -0.002520361181826149 in this bucket\n",
            "after standardization, feature X..65.and.over' coefficient is 0.0018043254261635253 in this bucket\n",
            "after standardization, feature X..Asian' coefficient is 0.002220964051482391 in this bucket\n",
            "after standardization, feature X..Black' coefficient is 0.021684776201526645 in this bucket\n",
            "after standardization, feature X..Hispanic' coefficient is 0.008035722250357416 in this bucket\n",
            "after standardization, feature X..Non.Hispanic.White' coefficient is 0.009908486922872214 in this bucket\n",
            "\n",
            "propensity score from 0.852 to 0.941 has 748 data points\n",
            "after standardization, feature Median.Household.Income' coefficient is 0.0260110742121984 in this bucket\n",
            "after standardization, feature X..Rural' coefficient is -0.0021026985363546678 in this bucket\n",
            "after standardization, feature Population_y' coefficient is 0.05406941586465112 in this bucket\n",
            "after standardization, feature political_diff' coefficient is -0.005257545691557352 in this bucket\n",
            "after standardization, feature X..less.than.18.years.of.age' coefficient is -0.0032551334019497195 in this bucket\n",
            "after standardization, feature X..65.and.over' coefficient is 0.0021895411520156368 in this bucket\n",
            "after standardization, feature X..Asian' coefficient is 0.007445919648810664 in this bucket\n",
            "after standardization, feature X..Black' coefficient is 0.018898428883384808 in this bucket\n",
            "after standardization, feature X..Hispanic' coefficient is 0.009755115710008262 in this bucket\n",
            "after standardization, feature X..Non.Hispanic.White' coefficient is 0.013327969575274816 in this bucket\n",
            "\n",
            "propensity score from 0.941 to 1.0 has 749 data points\n",
            "after standardization, feature Median.Household.Income' coefficient is 0.026933908417580567 in this bucket\n",
            "after standardization, feature X..Rural' coefficient is -0.007907087887533491 in this bucket\n",
            "after standardization, feature Population_y' coefficient is 0.0031535779735739 in this bucket\n",
            "after standardization, feature political_diff' coefficient is 0.002909421634624391 in this bucket\n",
            "after standardization, feature X..less.than.18.years.of.age' coefficient is -0.0006332076369006308 in this bucket\n",
            "after standardization, feature X..65.and.over' coefficient is 0.0027782593125993504 in this bucket\n",
            "after standardization, feature X..Asian' coefficient is 0.010190123355486963 in this bucket\n",
            "after standardization, feature X..Black' coefficient is 0.0381909175983663 in this bucket\n",
            "after standardization, feature X..Hispanic' coefficient is 0.03551418568593486 in this bucket\n",
            "after standardization, feature X..Non.Hispanic.White' coefficient is 0.050742162884678074 in this bucket\n",
            "\n"
          ],
          "name": "stdout"
        }
      ]
    },
    {
      "cell_type": "markdown",
      "metadata": {
        "id": "p91Sjg6Rk-jz"
      },
      "source": [
        "Don't know if this is so interpretable? One thing that stands out is population's importance in the first quantile is 0.15, that is quite big comparing to other effects"
      ]
    },
    {
      "cell_type": "code",
      "metadata": {
        "id": "pDT9QvLplgrB",
        "outputId": "76e0579c-0291-47d8-e04a-a794097cb008",
        "colab": {
          "base_uri": "https://localhost:8080/",
          "height": 833
        }
      },
      "source": [
        "# linear regression on each bin\n",
        "for bin in sorted(df_scaled['propensity_bucket'].unique()):\n",
        "  data_in_this_bin = df_scaled[df_scaled['propensity_bucket'] == bin]\n",
        "  X = data_in_this_bin.drop(['diff_in_perc_at_home', 'weights', 'subclass', \\\n",
        "                             'distance', 'propensity_bucket', 'county_code', 'state'], axis = 1)\n",
        "  y = data_in_this_bin['diff_in_perc_at_home']\n",
        "  r_2 = 0\n",
        "\n",
        "  print(f'propensity score from {bin.left} to {bin.right}\\'s increasing of R^2 summary')\n",
        "  for i, column in enumerate(X.columns):\n",
        "    regressor = LinearRegression().fit(X.iloc[:,:i+1], y) # get the first i columns of X\n",
        "    r_2_new = regressor.score(X.iloc[:,:i+1], y) # the new R^2 we get by including one more covariate\n",
        "    print(f'including column {column} increase R^2 by {r_2_new - r_2}')\n",
        "    r_2 = r_2_new\n",
        "  print()"
      ],
      "execution_count": 238,
      "outputs": [
        {
          "output_type": "stream",
          "text": [
            "propensity score from 0.043 to 0.787's increasing of R^2 summary\n",
            "including column Median.Household.Income increase R^2 by 0.3295103886341669\n",
            "including column X..Rural increase R^2 by 0.0032321684249939087\n",
            "including column Population_y increase R^2 by 0.04186754942991944\n",
            "including column political_diff increase R^2 by 0.005351732455498304\n",
            "including column X..less.than.18.years.of.age increase R^2 by 0.0062489724857447415\n",
            "including column X..65.and.over increase R^2 by 0.0016370980555237558\n",
            "including column X..Asian increase R^2 by 0.0019289951308053555\n",
            "including column X..Black increase R^2 by 0.010850167139631162\n",
            "including column X..Hispanic increase R^2 by 0.0005363374135169963\n",
            "including column X..Non.Hispanic.White increase R^2 by 0.001851170381331091\n",
            "\n",
            "propensity score from 0.787 to 0.852's increasing of R^2 summary\n",
            "including column Median.Household.Income increase R^2 by 0.48140610738702905\n",
            "including column X..Rural increase R^2 by 3.560304725036545e-06\n",
            "including column Population_y increase R^2 by 0.003753113538134456\n",
            "including column political_diff increase R^2 by 0.0038166429693035075\n",
            "including column X..less.than.18.years.of.age increase R^2 by 0.008816166646735901\n",
            "including column X..65.and.over increase R^2 by 6.027972475253218e-05\n",
            "including column X..Asian increase R^2 by 1.6978577254134208e-06\n",
            "including column X..Black increase R^2 by 0.007832975480050797\n",
            "including column X..Hispanic increase R^2 by 1.0646714052819917e-05\n",
            "including column X..Non.Hispanic.White increase R^2 by 0.0004507020089996594\n",
            "\n",
            "propensity score from 0.852 to 0.941's increasing of R^2 summary\n",
            "including column Median.Household.Income increase R^2 by 0.4762527561034561\n",
            "including column X..Rural increase R^2 by 0.008993630292393973\n",
            "including column Population_y increase R^2 by 0.02276385112393342\n",
            "including column political_diff increase R^2 by 0.0025942152269671226\n",
            "including column X..less.than.18.years.of.age increase R^2 by 0.009521755856577996\n",
            "including column X..65.and.over increase R^2 by 0.00014649442817937786\n",
            "including column X..Asian increase R^2 by 0.004532462148852501\n",
            "including column X..Black increase R^2 by 0.02979137795119957\n",
            "including column X..Hispanic increase R^2 by 9.75130939995239e-07\n",
            "including column X..Non.Hispanic.White increase R^2 by 0.0017338993566343719\n",
            "\n",
            "propensity score from 0.941 to 1.0's increasing of R^2 summary\n",
            "including column Median.Household.Income increase R^2 by 0.7321637335760891\n",
            "including column X..Rural increase R^2 by 0.020698968560537545\n",
            "including column Population_y increase R^2 by 0.01883955194919973\n",
            "including column political_diff increase R^2 by 0.006832355373872168\n",
            "including column X..less.than.18.years.of.age increase R^2 by 0.0009520886328653333\n",
            "including column X..65.and.over increase R^2 by 0.0007675900388572909\n",
            "including column X..Asian increase R^2 by 0.0007200883085723975\n",
            "including column X..Black increase R^2 by 0.0015376640438786726\n",
            "including column X..Hispanic increase R^2 by 0.0010585117251845633\n",
            "including column X..Non.Hispanic.White increase R^2 by 0.009433759686727217\n",
            "\n"
          ],
          "name": "stdout"
        }
      ]
    }
  ]
}